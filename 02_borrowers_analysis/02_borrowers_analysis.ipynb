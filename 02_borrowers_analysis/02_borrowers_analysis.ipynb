{
 "cells": [
  {
   "cell_type": "markdown",
   "id": "74e78aea",
   "metadata": {},
   "source": [
    "# Исследование характеристик заемщиков (Borrower Characteristics Research)"
   ]
  },
  {
   "cell_type": "markdown",
   "id": "99926e85",
   "metadata": {},
   "source": [
    "## Описание проекта"
   ]
  },
  {
   "cell_type": "markdown",
   "id": "978b783e",
   "metadata": {},
   "source": [
    "На основе данных кредитного отдела банка оценить способность потенциального заёмщика вернуть кредит банку.\n",
    "\n",
    "**Цель исследования:**\n",
    "\n",
    "Определить, вляют ли количество детей, семейное положение, уровень дохода, цель кредита на факт погашения кредита в срок.\n",
    "\n",
    "Исследование включает в себя:\n",
    " 1. Обзор данных\n",
    " 2. Предобработка данных\n",
    " 3. Исследовательский анализ\n",
    " 4. Вывод"
   ]
  },
  {
   "cell_type": "markdown",
   "id": "23656bed",
   "metadata": {},
   "source": [
    "## Обзор данных <a id=\"1\"></a> "
   ]
  },
  {
   "cell_type": "markdown",
   "id": "3e864dc7",
   "metadata": {},
   "source": [
    "Импортируем библиотеку `pandas`"
   ]
  },
  {
   "cell_type": "code",
   "execution_count": 1,
   "id": "e775984a",
   "metadata": {},
   "outputs": [],
   "source": [
    "import pandas as pd # импорт библиотеки pandas"
   ]
  },
  {
   "cell_type": "markdown",
   "id": "1a6f3835",
   "metadata": {},
   "source": [
    "Загрузим данные и получим информацию о данных. Создадим функцию `df_read_csv`, которая выведит сообщение об ошибке, если информация о файле будет указана неверно"
   ]
  },
  {
   "cell_type": "code",
   "execution_count": 2,
   "id": "6794fb23",
   "metadata": {},
   "outputs": [],
   "source": [
    "def df_read_csv(path):\n",
    "    try:\n",
    "        return pd.read_csv(path)\n",
    "    except Exception:\n",
    "        print('Ошибка при загрузке файла')\n",
    "df = df_read_csv('data.csv')"
   ]
  },
  {
   "cell_type": "markdown",
   "id": "56fd9751",
   "metadata": {},
   "source": [
    "Выведим первые десять строк таблицы:"
   ]
  },
  {
   "cell_type": "code",
   "execution_count": 3,
   "id": "adc2e929",
   "metadata": {},
   "outputs": [
    {
     "data": {
      "text/html": [
       "<div>\n",
       "<style scoped>\n",
       "    .dataframe tbody tr th:only-of-type {\n",
       "        vertical-align: middle;\n",
       "    }\n",
       "\n",
       "    .dataframe tbody tr th {\n",
       "        vertical-align: top;\n",
       "    }\n",
       "\n",
       "    .dataframe thead th {\n",
       "        text-align: right;\n",
       "    }\n",
       "</style>\n",
       "<table border=\"1\" class=\"dataframe\">\n",
       "  <thead>\n",
       "    <tr style=\"text-align: right;\">\n",
       "      <th></th>\n",
       "      <th>children</th>\n",
       "      <th>days_employed</th>\n",
       "      <th>dob_years</th>\n",
       "      <th>education</th>\n",
       "      <th>education_id</th>\n",
       "      <th>family_status</th>\n",
       "      <th>family_status_id</th>\n",
       "      <th>gender</th>\n",
       "      <th>income_type</th>\n",
       "      <th>debt</th>\n",
       "      <th>total_income</th>\n",
       "      <th>purpose</th>\n",
       "    </tr>\n",
       "  </thead>\n",
       "  <tbody>\n",
       "    <tr>\n",
       "      <th>0</th>\n",
       "      <td>1</td>\n",
       "      <td>-8437.673028</td>\n",
       "      <td>42</td>\n",
       "      <td>высшее</td>\n",
       "      <td>0</td>\n",
       "      <td>женат / замужем</td>\n",
       "      <td>0</td>\n",
       "      <td>F</td>\n",
       "      <td>сотрудник</td>\n",
       "      <td>0</td>\n",
       "      <td>253875.639453</td>\n",
       "      <td>покупка жилья</td>\n",
       "    </tr>\n",
       "    <tr>\n",
       "      <th>1</th>\n",
       "      <td>1</td>\n",
       "      <td>-4024.803754</td>\n",
       "      <td>36</td>\n",
       "      <td>среднее</td>\n",
       "      <td>1</td>\n",
       "      <td>женат / замужем</td>\n",
       "      <td>0</td>\n",
       "      <td>F</td>\n",
       "      <td>сотрудник</td>\n",
       "      <td>0</td>\n",
       "      <td>112080.014102</td>\n",
       "      <td>приобретение автомобиля</td>\n",
       "    </tr>\n",
       "    <tr>\n",
       "      <th>2</th>\n",
       "      <td>0</td>\n",
       "      <td>-5623.422610</td>\n",
       "      <td>33</td>\n",
       "      <td>Среднее</td>\n",
       "      <td>1</td>\n",
       "      <td>женат / замужем</td>\n",
       "      <td>0</td>\n",
       "      <td>M</td>\n",
       "      <td>сотрудник</td>\n",
       "      <td>0</td>\n",
       "      <td>145885.952297</td>\n",
       "      <td>покупка жилья</td>\n",
       "    </tr>\n",
       "    <tr>\n",
       "      <th>3</th>\n",
       "      <td>3</td>\n",
       "      <td>-4124.747207</td>\n",
       "      <td>32</td>\n",
       "      <td>среднее</td>\n",
       "      <td>1</td>\n",
       "      <td>женат / замужем</td>\n",
       "      <td>0</td>\n",
       "      <td>M</td>\n",
       "      <td>сотрудник</td>\n",
       "      <td>0</td>\n",
       "      <td>267628.550329</td>\n",
       "      <td>дополнительное образование</td>\n",
       "    </tr>\n",
       "    <tr>\n",
       "      <th>4</th>\n",
       "      <td>0</td>\n",
       "      <td>340266.072047</td>\n",
       "      <td>53</td>\n",
       "      <td>среднее</td>\n",
       "      <td>1</td>\n",
       "      <td>гражданский брак</td>\n",
       "      <td>1</td>\n",
       "      <td>F</td>\n",
       "      <td>пенсионер</td>\n",
       "      <td>0</td>\n",
       "      <td>158616.077870</td>\n",
       "      <td>сыграть свадьбу</td>\n",
       "    </tr>\n",
       "    <tr>\n",
       "      <th>5</th>\n",
       "      <td>0</td>\n",
       "      <td>-926.185831</td>\n",
       "      <td>27</td>\n",
       "      <td>высшее</td>\n",
       "      <td>0</td>\n",
       "      <td>гражданский брак</td>\n",
       "      <td>1</td>\n",
       "      <td>M</td>\n",
       "      <td>компаньон</td>\n",
       "      <td>0</td>\n",
       "      <td>255763.565419</td>\n",
       "      <td>покупка жилья</td>\n",
       "    </tr>\n",
       "    <tr>\n",
       "      <th>6</th>\n",
       "      <td>0</td>\n",
       "      <td>-2879.202052</td>\n",
       "      <td>43</td>\n",
       "      <td>высшее</td>\n",
       "      <td>0</td>\n",
       "      <td>женат / замужем</td>\n",
       "      <td>0</td>\n",
       "      <td>F</td>\n",
       "      <td>компаньон</td>\n",
       "      <td>0</td>\n",
       "      <td>240525.971920</td>\n",
       "      <td>операции с жильем</td>\n",
       "    </tr>\n",
       "    <tr>\n",
       "      <th>7</th>\n",
       "      <td>0</td>\n",
       "      <td>-152.779569</td>\n",
       "      <td>50</td>\n",
       "      <td>СРЕДНЕЕ</td>\n",
       "      <td>1</td>\n",
       "      <td>женат / замужем</td>\n",
       "      <td>0</td>\n",
       "      <td>M</td>\n",
       "      <td>сотрудник</td>\n",
       "      <td>0</td>\n",
       "      <td>135823.934197</td>\n",
       "      <td>образование</td>\n",
       "    </tr>\n",
       "    <tr>\n",
       "      <th>8</th>\n",
       "      <td>2</td>\n",
       "      <td>-6929.865299</td>\n",
       "      <td>35</td>\n",
       "      <td>ВЫСШЕЕ</td>\n",
       "      <td>0</td>\n",
       "      <td>гражданский брак</td>\n",
       "      <td>1</td>\n",
       "      <td>F</td>\n",
       "      <td>сотрудник</td>\n",
       "      <td>0</td>\n",
       "      <td>95856.832424</td>\n",
       "      <td>на проведение свадьбы</td>\n",
       "    </tr>\n",
       "    <tr>\n",
       "      <th>9</th>\n",
       "      <td>0</td>\n",
       "      <td>-2188.756445</td>\n",
       "      <td>41</td>\n",
       "      <td>среднее</td>\n",
       "      <td>1</td>\n",
       "      <td>женат / замужем</td>\n",
       "      <td>0</td>\n",
       "      <td>M</td>\n",
       "      <td>сотрудник</td>\n",
       "      <td>0</td>\n",
       "      <td>144425.938277</td>\n",
       "      <td>покупка жилья для семьи</td>\n",
       "    </tr>\n",
       "  </tbody>\n",
       "</table>\n",
       "</div>"
      ],
      "text/plain": [
       "   children  days_employed  dob_years education  education_id  \\\n",
       "0         1   -8437.673028         42    высшее             0   \n",
       "1         1   -4024.803754         36   среднее             1   \n",
       "2         0   -5623.422610         33   Среднее             1   \n",
       "3         3   -4124.747207         32   среднее             1   \n",
       "4         0  340266.072047         53   среднее             1   \n",
       "5         0    -926.185831         27    высшее             0   \n",
       "6         0   -2879.202052         43    высшее             0   \n",
       "7         0    -152.779569         50   СРЕДНЕЕ             1   \n",
       "8         2   -6929.865299         35    ВЫСШЕЕ             0   \n",
       "9         0   -2188.756445         41   среднее             1   \n",
       "\n",
       "      family_status  family_status_id gender income_type  debt   total_income  \\\n",
       "0   женат / замужем                 0      F   сотрудник     0  253875.639453   \n",
       "1   женат / замужем                 0      F   сотрудник     0  112080.014102   \n",
       "2   женат / замужем                 0      M   сотрудник     0  145885.952297   \n",
       "3   женат / замужем                 0      M   сотрудник     0  267628.550329   \n",
       "4  гражданский брак                 1      F   пенсионер     0  158616.077870   \n",
       "5  гражданский брак                 1      M   компаньон     0  255763.565419   \n",
       "6   женат / замужем                 0      F   компаньон     0  240525.971920   \n",
       "7   женат / замужем                 0      M   сотрудник     0  135823.934197   \n",
       "8  гражданский брак                 1      F   сотрудник     0   95856.832424   \n",
       "9   женат / замужем                 0      M   сотрудник     0  144425.938277   \n",
       "\n",
       "                      purpose  \n",
       "0               покупка жилья  \n",
       "1     приобретение автомобиля  \n",
       "2               покупка жилья  \n",
       "3  дополнительное образование  \n",
       "4             сыграть свадьбу  \n",
       "5               покупка жилья  \n",
       "6           операции с жильем  \n",
       "7                 образование  \n",
       "8       на проведение свадьбы  \n",
       "9     покупка жилья для семьи  "
      ]
     },
     "execution_count": 3,
     "metadata": {},
     "output_type": "execute_result"
    }
   ],
   "source": [
    "df.head(10) # получение первых 10 строк таблицы df"
   ]
  },
  {
   "cell_type": "markdown",
   "id": "e0334ac6",
   "metadata": {},
   "source": [
    "Получим общую информацию о таблице:"
   ]
  },
  {
   "cell_type": "code",
   "execution_count": 4,
   "id": "600f3cc1",
   "metadata": {},
   "outputs": [
    {
     "name": "stdout",
     "output_type": "stream",
     "text": [
      "<class 'pandas.core.frame.DataFrame'>\n",
      "RangeIndex: 21525 entries, 0 to 21524\n",
      "Data columns (total 12 columns):\n",
      " #   Column            Non-Null Count  Dtype  \n",
      "---  ------            --------------  -----  \n",
      " 0   children          21525 non-null  int64  \n",
      " 1   days_employed     19351 non-null  float64\n",
      " 2   dob_years         21525 non-null  int64  \n",
      " 3   education         21525 non-null  object \n",
      " 4   education_id      21525 non-null  int64  \n",
      " 5   family_status     21525 non-null  object \n",
      " 6   family_status_id  21525 non-null  int64  \n",
      " 7   gender            21525 non-null  object \n",
      " 8   income_type       21525 non-null  object \n",
      " 9   debt              21525 non-null  int64  \n",
      " 10  total_income      19351 non-null  float64\n",
      " 11  purpose           21525 non-null  object \n",
      "dtypes: float64(2), int64(5), object(5)\n",
      "memory usage: 2.0+ MB\n"
     ]
    }
   ],
   "source": [
    "df.info()"
   ]
  },
  {
   "cell_type": "code",
   "execution_count": 5,
   "id": "913aee57",
   "metadata": {},
   "outputs": [
    {
     "data": {
      "text/html": [
       "<div>\n",
       "<style scoped>\n",
       "    .dataframe tbody tr th:only-of-type {\n",
       "        vertical-align: middle;\n",
       "    }\n",
       "\n",
       "    .dataframe tbody tr th {\n",
       "        vertical-align: top;\n",
       "    }\n",
       "\n",
       "    .dataframe thead th {\n",
       "        text-align: right;\n",
       "    }\n",
       "</style>\n",
       "<table border=\"1\" class=\"dataframe\">\n",
       "  <thead>\n",
       "    <tr style=\"text-align: right;\">\n",
       "      <th></th>\n",
       "      <th>children</th>\n",
       "      <th>days_employed</th>\n",
       "      <th>dob_years</th>\n",
       "      <th>education_id</th>\n",
       "      <th>family_status_id</th>\n",
       "      <th>debt</th>\n",
       "      <th>total_income</th>\n",
       "    </tr>\n",
       "  </thead>\n",
       "  <tbody>\n",
       "    <tr>\n",
       "      <th>count</th>\n",
       "      <td>21525.000000</td>\n",
       "      <td>19351.000000</td>\n",
       "      <td>21525.000000</td>\n",
       "      <td>21525.000000</td>\n",
       "      <td>21525.000000</td>\n",
       "      <td>21525.000000</td>\n",
       "      <td>1.935100e+04</td>\n",
       "    </tr>\n",
       "    <tr>\n",
       "      <th>mean</th>\n",
       "      <td>0.538908</td>\n",
       "      <td>63046.497661</td>\n",
       "      <td>43.293380</td>\n",
       "      <td>0.817236</td>\n",
       "      <td>0.972544</td>\n",
       "      <td>0.080883</td>\n",
       "      <td>1.674223e+05</td>\n",
       "    </tr>\n",
       "    <tr>\n",
       "      <th>std</th>\n",
       "      <td>1.381587</td>\n",
       "      <td>140827.311974</td>\n",
       "      <td>12.574584</td>\n",
       "      <td>0.548138</td>\n",
       "      <td>1.420324</td>\n",
       "      <td>0.272661</td>\n",
       "      <td>1.029716e+05</td>\n",
       "    </tr>\n",
       "    <tr>\n",
       "      <th>min</th>\n",
       "      <td>-1.000000</td>\n",
       "      <td>-18388.949901</td>\n",
       "      <td>0.000000</td>\n",
       "      <td>0.000000</td>\n",
       "      <td>0.000000</td>\n",
       "      <td>0.000000</td>\n",
       "      <td>2.066726e+04</td>\n",
       "    </tr>\n",
       "    <tr>\n",
       "      <th>25%</th>\n",
       "      <td>0.000000</td>\n",
       "      <td>-2747.423625</td>\n",
       "      <td>33.000000</td>\n",
       "      <td>1.000000</td>\n",
       "      <td>0.000000</td>\n",
       "      <td>0.000000</td>\n",
       "      <td>1.030532e+05</td>\n",
       "    </tr>\n",
       "    <tr>\n",
       "      <th>50%</th>\n",
       "      <td>0.000000</td>\n",
       "      <td>-1203.369529</td>\n",
       "      <td>42.000000</td>\n",
       "      <td>1.000000</td>\n",
       "      <td>0.000000</td>\n",
       "      <td>0.000000</td>\n",
       "      <td>1.450179e+05</td>\n",
       "    </tr>\n",
       "    <tr>\n",
       "      <th>75%</th>\n",
       "      <td>1.000000</td>\n",
       "      <td>-291.095954</td>\n",
       "      <td>53.000000</td>\n",
       "      <td>1.000000</td>\n",
       "      <td>1.000000</td>\n",
       "      <td>0.000000</td>\n",
       "      <td>2.034351e+05</td>\n",
       "    </tr>\n",
       "    <tr>\n",
       "      <th>max</th>\n",
       "      <td>20.000000</td>\n",
       "      <td>401755.400475</td>\n",
       "      <td>75.000000</td>\n",
       "      <td>4.000000</td>\n",
       "      <td>4.000000</td>\n",
       "      <td>1.000000</td>\n",
       "      <td>2.265604e+06</td>\n",
       "    </tr>\n",
       "  </tbody>\n",
       "</table>\n",
       "</div>"
      ],
      "text/plain": [
       "           children  days_employed     dob_years  education_id  \\\n",
       "count  21525.000000   19351.000000  21525.000000  21525.000000   \n",
       "mean       0.538908   63046.497661     43.293380      0.817236   \n",
       "std        1.381587  140827.311974     12.574584      0.548138   \n",
       "min       -1.000000  -18388.949901      0.000000      0.000000   \n",
       "25%        0.000000   -2747.423625     33.000000      1.000000   \n",
       "50%        0.000000   -1203.369529     42.000000      1.000000   \n",
       "75%        1.000000    -291.095954     53.000000      1.000000   \n",
       "max       20.000000  401755.400475     75.000000      4.000000   \n",
       "\n",
       "       family_status_id          debt  total_income  \n",
       "count      21525.000000  21525.000000  1.935100e+04  \n",
       "mean           0.972544      0.080883  1.674223e+05  \n",
       "std            1.420324      0.272661  1.029716e+05  \n",
       "min            0.000000      0.000000  2.066726e+04  \n",
       "25%            0.000000      0.000000  1.030532e+05  \n",
       "50%            0.000000      0.000000  1.450179e+05  \n",
       "75%            1.000000      0.000000  2.034351e+05  \n",
       "max            4.000000      1.000000  2.265604e+06  "
      ]
     },
     "execution_count": 5,
     "metadata": {},
     "output_type": "execute_result"
    }
   ],
   "source": [
    "df.describe()"
   ]
  },
  {
   "cell_type": "markdown",
   "id": "5faea92d",
   "metadata": {},
   "source": [
    "В таблице 11 столбцов. Типы данных в столбцах разные — `object`, `int`, `float`.\n",
    "\n",
    "Согласно документации к данным:\n",
    "* `children` — количество детей в семье\n",
    "* `days_employed` — общий трудовой стаж в днях\n",
    "* `dob_years` — возраст клиента в годах\n",
    "* `education` — уровень образования клиента\n",
    "* `education_id` — идентификатор уровня образования\n",
    "* `family_status` — семейное положение\n",
    "* `family_status_id` — идентификатор семейного положения\n",
    "* `gender` — пол клиента\n",
    "* `income_type` — тип занятости\n",
    "* `debt` — имел ли задолженность по возврату кредитов\n",
    "* `total_income` — ежемесячный доход\n",
    "* `purpose` — цель получения кредита\n",
    "\n",
    "Количество значений в столбцах различается. Значит, в данных есть пропущенные значения."
   ]
  },
  {
   "cell_type": "markdown",
   "id": "e8e5d6e0",
   "metadata": {},
   "source": [
    "**Выводы**\n",
    "\n",
    "В каждой строке таблицы — данные о клиенте банка.\n",
    "\n",
    "В данных встречаются пропуски (в столбцах `days_employed` и `total_income`), а также расхождение с хорошим стилем.\n",
    "\n",
    "Чтобы двигаться дальше, нужно устранить проблемы в данных."
   ]
  },
  {
   "cell_type": "markdown",
   "id": "53648257",
   "metadata": {},
   "source": [
    "## Предобработка данных <a id=\"2\"></a> "
   ]
  },
  {
   "cell_type": "markdown",
   "id": "6802c911",
   "metadata": {},
   "source": [
    "### Заполнение пропусков <a id=\"2.1\"></a> "
   ]
  },
  {
   "cell_type": "markdown",
   "id": "87ab70e0",
   "metadata": {},
   "source": [
    "В столбце `total_income` есть пропущенные значения. Выведим первые пять строк с пропусками:"
   ]
  },
  {
   "cell_type": "code",
   "execution_count": 6,
   "id": "d0f99fa4",
   "metadata": {},
   "outputs": [
    {
     "data": {
      "text/html": [
       "<div>\n",
       "<style scoped>\n",
       "    .dataframe tbody tr th:only-of-type {\n",
       "        vertical-align: middle;\n",
       "    }\n",
       "\n",
       "    .dataframe tbody tr th {\n",
       "        vertical-align: top;\n",
       "    }\n",
       "\n",
       "    .dataframe thead th {\n",
       "        text-align: right;\n",
       "    }\n",
       "</style>\n",
       "<table border=\"1\" class=\"dataframe\">\n",
       "  <thead>\n",
       "    <tr style=\"text-align: right;\">\n",
       "      <th></th>\n",
       "      <th>children</th>\n",
       "      <th>days_employed</th>\n",
       "      <th>dob_years</th>\n",
       "      <th>education</th>\n",
       "      <th>education_id</th>\n",
       "      <th>family_status</th>\n",
       "      <th>family_status_id</th>\n",
       "      <th>gender</th>\n",
       "      <th>income_type</th>\n",
       "      <th>debt</th>\n",
       "      <th>total_income</th>\n",
       "      <th>purpose</th>\n",
       "    </tr>\n",
       "  </thead>\n",
       "  <tbody>\n",
       "    <tr>\n",
       "      <th>12</th>\n",
       "      <td>0</td>\n",
       "      <td>NaN</td>\n",
       "      <td>65</td>\n",
       "      <td>среднее</td>\n",
       "      <td>1</td>\n",
       "      <td>гражданский брак</td>\n",
       "      <td>1</td>\n",
       "      <td>M</td>\n",
       "      <td>пенсионер</td>\n",
       "      <td>0</td>\n",
       "      <td>NaN</td>\n",
       "      <td>сыграть свадьбу</td>\n",
       "    </tr>\n",
       "    <tr>\n",
       "      <th>26</th>\n",
       "      <td>0</td>\n",
       "      <td>NaN</td>\n",
       "      <td>41</td>\n",
       "      <td>среднее</td>\n",
       "      <td>1</td>\n",
       "      <td>женат / замужем</td>\n",
       "      <td>0</td>\n",
       "      <td>M</td>\n",
       "      <td>госслужащий</td>\n",
       "      <td>0</td>\n",
       "      <td>NaN</td>\n",
       "      <td>образование</td>\n",
       "    </tr>\n",
       "    <tr>\n",
       "      <th>29</th>\n",
       "      <td>0</td>\n",
       "      <td>NaN</td>\n",
       "      <td>63</td>\n",
       "      <td>среднее</td>\n",
       "      <td>1</td>\n",
       "      <td>Не женат / не замужем</td>\n",
       "      <td>4</td>\n",
       "      <td>F</td>\n",
       "      <td>пенсионер</td>\n",
       "      <td>0</td>\n",
       "      <td>NaN</td>\n",
       "      <td>строительство жилой недвижимости</td>\n",
       "    </tr>\n",
       "    <tr>\n",
       "      <th>41</th>\n",
       "      <td>0</td>\n",
       "      <td>NaN</td>\n",
       "      <td>50</td>\n",
       "      <td>среднее</td>\n",
       "      <td>1</td>\n",
       "      <td>женат / замужем</td>\n",
       "      <td>0</td>\n",
       "      <td>F</td>\n",
       "      <td>госслужащий</td>\n",
       "      <td>0</td>\n",
       "      <td>NaN</td>\n",
       "      <td>сделка с подержанным автомобилем</td>\n",
       "    </tr>\n",
       "    <tr>\n",
       "      <th>55</th>\n",
       "      <td>0</td>\n",
       "      <td>NaN</td>\n",
       "      <td>54</td>\n",
       "      <td>среднее</td>\n",
       "      <td>1</td>\n",
       "      <td>гражданский брак</td>\n",
       "      <td>1</td>\n",
       "      <td>F</td>\n",
       "      <td>пенсионер</td>\n",
       "      <td>1</td>\n",
       "      <td>NaN</td>\n",
       "      <td>сыграть свадьбу</td>\n",
       "    </tr>\n",
       "  </tbody>\n",
       "</table>\n",
       "</div>"
      ],
      "text/plain": [
       "    children  days_employed  dob_years education  education_id  \\\n",
       "12         0            NaN         65   среднее             1   \n",
       "26         0            NaN         41   среднее             1   \n",
       "29         0            NaN         63   среднее             1   \n",
       "41         0            NaN         50   среднее             1   \n",
       "55         0            NaN         54   среднее             1   \n",
       "\n",
       "            family_status  family_status_id gender  income_type  debt  \\\n",
       "12       гражданский брак                 1      M    пенсионер     0   \n",
       "26        женат / замужем                 0      M  госслужащий     0   \n",
       "29  Не женат / не замужем                 4      F    пенсионер     0   \n",
       "41        женат / замужем                 0      F  госслужащий     0   \n",
       "55       гражданский брак                 1      F    пенсионер     1   \n",
       "\n",
       "    total_income                           purpose  \n",
       "12           NaN                   сыграть свадьбу  \n",
       "26           NaN                       образование  \n",
       "29           NaN  строительство жилой недвижимости  \n",
       "41           NaN  сделка с подержанным автомобилем  \n",
       "55           NaN                   сыграть свадьбу  "
      ]
     },
     "execution_count": 6,
     "metadata": {},
     "output_type": "execute_result"
    }
   ],
   "source": [
    "df[df['total_income'].isna()].head(5) # вывод 5 строк таблицы с пропущенными значениями в столбце total_income"
   ]
  },
  {
   "cell_type": "markdown",
   "id": "679557b8",
   "metadata": {},
   "source": [
    "Вычислим долю пропущенных значений от общего числа значений в столбце `total_income`: "
   ]
  },
  {
   "cell_type": "code",
   "execution_count": 7,
   "id": "47060f31",
   "metadata": {},
   "outputs": [
    {
     "name": "stdout",
     "output_type": "stream",
     "text": [
      "Доля пропущенных значений 10%\n"
     ]
    }
   ],
   "source": [
    "pass_total_income = len(df[df['total_income'].isna()]) # количество пропущенных значений\n",
    "total_income_len = len(df['total_income']) # общее количество значений\n",
    "print(f'Доля пропущенных значений {pass_total_income / total_income_len:.0%}') # доля пропущенных значений в %"
   ]
  },
  {
   "cell_type": "code",
   "execution_count": 8,
   "id": "04f36cb8",
   "metadata": {},
   "outputs": [
    {
     "data": {
      "text/plain": [
       "0.10099883855981417"
      ]
     },
     "execution_count": 8,
     "metadata": {},
     "output_type": "execute_result"
    }
   ],
   "source": [
    "df['total_income'].isna().mean() # второй способ подсчета пропущенных значений"
   ]
  },
  {
   "cell_type": "markdown",
   "id": "b2236a7b",
   "metadata": {},
   "source": [
    "Пропуски данных в столбце `total_income` записаны как NaN. Это ожидаемы пропуски данных. Причины появления пропусков могут быть разными. Например, клиент не указал о себе сведения, или ошибки на стадии переноса данных. 10% - это достаточно высокое значение, поэтому пропуски стоит заполнить. "
   ]
  },
  {
   "cell_type": "markdown",
   "id": "881b5b3b",
   "metadata": {},
   "source": [
    "Найдем минимальное и максимальное значения в столбце `total_income`:"
   ]
  },
  {
   "cell_type": "code",
   "execution_count": 9,
   "id": "cef32b67",
   "metadata": {},
   "outputs": [
    {
     "data": {
      "text/plain": [
       "(20667.26379327158, 2265604.028722744)"
      ]
     },
     "execution_count": 9,
     "metadata": {},
     "output_type": "execute_result"
    }
   ],
   "source": [
    "df['total_income'].min(), df['total_income'].max() # нахождение минимального и максимального значениий"
   ]
  },
  {
   "cell_type": "markdown",
   "id": "74c072e1",
   "metadata": {},
   "source": [
    "Видим, что минимальное и максимальное значения различаются в два порядка. Медиана менее чувствительна к выбросам, чем среднее арифметическое, поэтому пропущенные значения заполним медианными, причем тип занятости `income_type` можно учесть при вычислении медианы."
   ]
  },
  {
   "cell_type": "code",
   "execution_count": 10,
   "id": "22753117",
   "metadata": {},
   "outputs": [
    {
     "name": "stdout",
     "output_type": "stream",
     "text": [
      "<class 'pandas.core.frame.DataFrame'>\n",
      "RangeIndex: 21525 entries, 0 to 21524\n",
      "Data columns (total 12 columns):\n",
      " #   Column            Non-Null Count  Dtype  \n",
      "---  ------            --------------  -----  \n",
      " 0   children          21525 non-null  int64  \n",
      " 1   days_employed     19351 non-null  float64\n",
      " 2   dob_years         21525 non-null  int64  \n",
      " 3   education         21525 non-null  object \n",
      " 4   education_id      21525 non-null  int64  \n",
      " 5   family_status     21525 non-null  object \n",
      " 6   family_status_id  21525 non-null  int64  \n",
      " 7   gender            21525 non-null  object \n",
      " 8   income_type       21525 non-null  object \n",
      " 9   debt              21525 non-null  int64  \n",
      " 10  total_income      21525 non-null  float64\n",
      " 11  purpose           21525 non-null  object \n",
      "dtypes: float64(2), int64(5), object(5)\n",
      "memory usage: 2.0+ MB\n"
     ]
    }
   ],
   "source": [
    "df['total_income'] = df['total_income'].fillna(df.groupby('income_type')['total_income'].transform('median')) #заполнение пропусков в total_income по группам в income_type\n",
    "df.info()"
   ]
  },
  {
   "cell_type": "markdown",
   "id": "9d319a0e",
   "metadata": {},
   "source": [
    "Пропущенных значений не осталось, а заполнились они медианными значениями."
   ]
  },
  {
   "cell_type": "markdown",
   "id": "0a3ad9e6",
   "metadata": {},
   "source": [
    "**Выводы**\n",
    "\n",
    "В столбце `total_income` были найдены пропущенные значения, их доля от общего числа значений в столбце составляет 10%. Заполнить эти значения было решено медианными значениями с учетом типа занятости. В итоге в столбце `total_income` не осталось пропусков, но остались пропуски в столбце `days_employed`, с которыми разберемся далее."
   ]
  },
  {
   "cell_type": "markdown",
   "id": "29880b97",
   "metadata": {},
   "source": [
    "### Проверка данных на аномалии и исправления <a id=\"2.2\"></a> "
   ]
  },
  {
   "cell_type": "markdown",
   "id": "acaa2453",
   "metadata": {},
   "source": [
    "В данных могут встречаться артефакты (аномалии) — значения, которые не отражают действительность и появились по какой-то ошибке. Мы видим, что в столбце `days_employed` отрицательное количество дней трудового стажа. Предположим, что это ошибка данных, полученная во время записи данных. Исправим ее, поставив отрицательные значения по модулю, т.е. сделаем их положительными."
   ]
  },
  {
   "cell_type": "code",
   "execution_count": 11,
   "id": "1611db20",
   "metadata": {},
   "outputs": [
    {
     "data": {
      "text/html": [
       "<div>\n",
       "<style scoped>\n",
       "    .dataframe tbody tr th:only-of-type {\n",
       "        vertical-align: middle;\n",
       "    }\n",
       "\n",
       "    .dataframe tbody tr th {\n",
       "        vertical-align: top;\n",
       "    }\n",
       "\n",
       "    .dataframe thead th {\n",
       "        text-align: right;\n",
       "    }\n",
       "</style>\n",
       "<table border=\"1\" class=\"dataframe\">\n",
       "  <thead>\n",
       "    <tr style=\"text-align: right;\">\n",
       "      <th></th>\n",
       "      <th>children</th>\n",
       "      <th>days_employed</th>\n",
       "      <th>dob_years</th>\n",
       "      <th>education</th>\n",
       "      <th>education_id</th>\n",
       "      <th>family_status</th>\n",
       "      <th>family_status_id</th>\n",
       "      <th>gender</th>\n",
       "      <th>income_type</th>\n",
       "      <th>debt</th>\n",
       "      <th>total_income</th>\n",
       "      <th>purpose</th>\n",
       "    </tr>\n",
       "  </thead>\n",
       "  <tbody>\n",
       "    <tr>\n",
       "      <th>0</th>\n",
       "      <td>1</td>\n",
       "      <td>8437.673028</td>\n",
       "      <td>42</td>\n",
       "      <td>высшее</td>\n",
       "      <td>0</td>\n",
       "      <td>женат / замужем</td>\n",
       "      <td>0</td>\n",
       "      <td>F</td>\n",
       "      <td>сотрудник</td>\n",
       "      <td>0</td>\n",
       "      <td>253875.639453</td>\n",
       "      <td>покупка жилья</td>\n",
       "    </tr>\n",
       "    <tr>\n",
       "      <th>1</th>\n",
       "      <td>1</td>\n",
       "      <td>4024.803754</td>\n",
       "      <td>36</td>\n",
       "      <td>среднее</td>\n",
       "      <td>1</td>\n",
       "      <td>женат / замужем</td>\n",
       "      <td>0</td>\n",
       "      <td>F</td>\n",
       "      <td>сотрудник</td>\n",
       "      <td>0</td>\n",
       "      <td>112080.014102</td>\n",
       "      <td>приобретение автомобиля</td>\n",
       "    </tr>\n",
       "    <tr>\n",
       "      <th>2</th>\n",
       "      <td>0</td>\n",
       "      <td>5623.422610</td>\n",
       "      <td>33</td>\n",
       "      <td>Среднее</td>\n",
       "      <td>1</td>\n",
       "      <td>женат / замужем</td>\n",
       "      <td>0</td>\n",
       "      <td>M</td>\n",
       "      <td>сотрудник</td>\n",
       "      <td>0</td>\n",
       "      <td>145885.952297</td>\n",
       "      <td>покупка жилья</td>\n",
       "    </tr>\n",
       "    <tr>\n",
       "      <th>3</th>\n",
       "      <td>3</td>\n",
       "      <td>4124.747207</td>\n",
       "      <td>32</td>\n",
       "      <td>среднее</td>\n",
       "      <td>1</td>\n",
       "      <td>женат / замужем</td>\n",
       "      <td>0</td>\n",
       "      <td>M</td>\n",
       "      <td>сотрудник</td>\n",
       "      <td>0</td>\n",
       "      <td>267628.550329</td>\n",
       "      <td>дополнительное образование</td>\n",
       "    </tr>\n",
       "    <tr>\n",
       "      <th>4</th>\n",
       "      <td>0</td>\n",
       "      <td>340266.072047</td>\n",
       "      <td>53</td>\n",
       "      <td>среднее</td>\n",
       "      <td>1</td>\n",
       "      <td>гражданский брак</td>\n",
       "      <td>1</td>\n",
       "      <td>F</td>\n",
       "      <td>пенсионер</td>\n",
       "      <td>0</td>\n",
       "      <td>158616.077870</td>\n",
       "      <td>сыграть свадьбу</td>\n",
       "    </tr>\n",
       "    <tr>\n",
       "      <th>5</th>\n",
       "      <td>0</td>\n",
       "      <td>926.185831</td>\n",
       "      <td>27</td>\n",
       "      <td>высшее</td>\n",
       "      <td>0</td>\n",
       "      <td>гражданский брак</td>\n",
       "      <td>1</td>\n",
       "      <td>M</td>\n",
       "      <td>компаньон</td>\n",
       "      <td>0</td>\n",
       "      <td>255763.565419</td>\n",
       "      <td>покупка жилья</td>\n",
       "    </tr>\n",
       "    <tr>\n",
       "      <th>6</th>\n",
       "      <td>0</td>\n",
       "      <td>2879.202052</td>\n",
       "      <td>43</td>\n",
       "      <td>высшее</td>\n",
       "      <td>0</td>\n",
       "      <td>женат / замужем</td>\n",
       "      <td>0</td>\n",
       "      <td>F</td>\n",
       "      <td>компаньон</td>\n",
       "      <td>0</td>\n",
       "      <td>240525.971920</td>\n",
       "      <td>операции с жильем</td>\n",
       "    </tr>\n",
       "    <tr>\n",
       "      <th>7</th>\n",
       "      <td>0</td>\n",
       "      <td>152.779569</td>\n",
       "      <td>50</td>\n",
       "      <td>СРЕДНЕЕ</td>\n",
       "      <td>1</td>\n",
       "      <td>женат / замужем</td>\n",
       "      <td>0</td>\n",
       "      <td>M</td>\n",
       "      <td>сотрудник</td>\n",
       "      <td>0</td>\n",
       "      <td>135823.934197</td>\n",
       "      <td>образование</td>\n",
       "    </tr>\n",
       "    <tr>\n",
       "      <th>8</th>\n",
       "      <td>2</td>\n",
       "      <td>6929.865299</td>\n",
       "      <td>35</td>\n",
       "      <td>ВЫСШЕЕ</td>\n",
       "      <td>0</td>\n",
       "      <td>гражданский брак</td>\n",
       "      <td>1</td>\n",
       "      <td>F</td>\n",
       "      <td>сотрудник</td>\n",
       "      <td>0</td>\n",
       "      <td>95856.832424</td>\n",
       "      <td>на проведение свадьбы</td>\n",
       "    </tr>\n",
       "    <tr>\n",
       "      <th>9</th>\n",
       "      <td>0</td>\n",
       "      <td>2188.756445</td>\n",
       "      <td>41</td>\n",
       "      <td>среднее</td>\n",
       "      <td>1</td>\n",
       "      <td>женат / замужем</td>\n",
       "      <td>0</td>\n",
       "      <td>M</td>\n",
       "      <td>сотрудник</td>\n",
       "      <td>0</td>\n",
       "      <td>144425.938277</td>\n",
       "      <td>покупка жилья для семьи</td>\n",
       "    </tr>\n",
       "  </tbody>\n",
       "</table>\n",
       "</div>"
      ],
      "text/plain": [
       "   children  days_employed  dob_years education  education_id  \\\n",
       "0         1    8437.673028         42    высшее             0   \n",
       "1         1    4024.803754         36   среднее             1   \n",
       "2         0    5623.422610         33   Среднее             1   \n",
       "3         3    4124.747207         32   среднее             1   \n",
       "4         0  340266.072047         53   среднее             1   \n",
       "5         0     926.185831         27    высшее             0   \n",
       "6         0    2879.202052         43    высшее             0   \n",
       "7         0     152.779569         50   СРЕДНЕЕ             1   \n",
       "8         2    6929.865299         35    ВЫСШЕЕ             0   \n",
       "9         0    2188.756445         41   среднее             1   \n",
       "\n",
       "      family_status  family_status_id gender income_type  debt   total_income  \\\n",
       "0   женат / замужем                 0      F   сотрудник     0  253875.639453   \n",
       "1   женат / замужем                 0      F   сотрудник     0  112080.014102   \n",
       "2   женат / замужем                 0      M   сотрудник     0  145885.952297   \n",
       "3   женат / замужем                 0      M   сотрудник     0  267628.550329   \n",
       "4  гражданский брак                 1      F   пенсионер     0  158616.077870   \n",
       "5  гражданский брак                 1      M   компаньон     0  255763.565419   \n",
       "6   женат / замужем                 0      F   компаньон     0  240525.971920   \n",
       "7   женат / замужем                 0      M   сотрудник     0  135823.934197   \n",
       "8  гражданский брак                 1      F   сотрудник     0   95856.832424   \n",
       "9   женат / замужем                 0      M   сотрудник     0  144425.938277   \n",
       "\n",
       "                      purpose  \n",
       "0               покупка жилья  \n",
       "1     приобретение автомобиля  \n",
       "2               покупка жилья  \n",
       "3  дополнительное образование  \n",
       "4             сыграть свадьбу  \n",
       "5               покупка жилья  \n",
       "6           операции с жильем  \n",
       "7                 образование  \n",
       "8       на проведение свадьбы  \n",
       "9     покупка жилья для семьи  "
      ]
     },
     "execution_count": 11,
     "metadata": {},
     "output_type": "execute_result"
    }
   ],
   "source": [
    "df['days_employed'] = df['days_employed'].abs() # выбор модуля числа\n",
    "df.head(10)"
   ]
  },
  {
   "cell_type": "markdown",
   "id": "73d98ef4",
   "metadata": {},
   "source": [
    "Теперь необходимо заполнить пропуски в столбце `days_employed`. Доля пропусков такая же, как в столбце `total_income` - 10%. Проверим, есть ли разброс в значениях в столбце `days_employed`:"
   ]
  },
  {
   "cell_type": "code",
   "execution_count": 12,
   "id": "2d252ef3",
   "metadata": {},
   "outputs": [
    {
     "data": {
      "text/plain": [
       "(24.14163324048118, 401755.40047533)"
      ]
     },
     "execution_count": 12,
     "metadata": {},
     "output_type": "execute_result"
    }
   ],
   "source": [
    "df['days_employed'].min(), df['days_employed'].max() # нахождение минимального и максимального значениий"
   ]
  },
  {
   "cell_type": "markdown",
   "id": "87946a2f",
   "metadata": {},
   "source": [
    "Исходя из полученных данных, видим что разброс состовляет 4 порядка, поэтому следует заполнить пропуски медианными значениями аналогично столбцу `total_income`."
   ]
  },
  {
   "cell_type": "code",
   "execution_count": 13,
   "id": "574bbe86",
   "metadata": {},
   "outputs": [
    {
     "name": "stdout",
     "output_type": "stream",
     "text": [
      "<class 'pandas.core.frame.DataFrame'>\n",
      "RangeIndex: 21525 entries, 0 to 21524\n",
      "Data columns (total 12 columns):\n",
      " #   Column            Non-Null Count  Dtype  \n",
      "---  ------            --------------  -----  \n",
      " 0   children          21525 non-null  int64  \n",
      " 1   days_employed     21525 non-null  float64\n",
      " 2   dob_years         21525 non-null  int64  \n",
      " 3   education         21525 non-null  object \n",
      " 4   education_id      21525 non-null  int64  \n",
      " 5   family_status     21525 non-null  object \n",
      " 6   family_status_id  21525 non-null  int64  \n",
      " 7   gender            21525 non-null  object \n",
      " 8   income_type       21525 non-null  object \n",
      " 9   debt              21525 non-null  int64  \n",
      " 10  total_income      21525 non-null  float64\n",
      " 11  purpose           21525 non-null  object \n",
      "dtypes: float64(2), int64(5), object(5)\n",
      "memory usage: 2.0+ MB\n"
     ]
    }
   ],
   "source": [
    "df['days_employed'] = df['days_employed'].fillna(df.groupby('income_type')['days_employed'].transform('median')) #заполнение пропусков в days_employed по группам в income_type\n",
    "df.info()"
   ]
  },
  {
   "cell_type": "markdown",
   "id": "c756d8fe",
   "metadata": {},
   "source": [
    "Проверим столбец `children` на аномалии."
   ]
  },
  {
   "cell_type": "code",
   "execution_count": 14,
   "id": "19a75dd8",
   "metadata": {},
   "outputs": [
    {
     "data": {
      "text/plain": [
       " 0     14149\n",
       " 1      4818\n",
       " 2      2055\n",
       " 3       330\n",
       " 20       76\n",
       "-1        47\n",
       " 4        41\n",
       " 5         9\n",
       "Name: children, dtype: int64"
      ]
     },
     "execution_count": 14,
     "metadata": {},
     "output_type": "execute_result"
    }
   ],
   "source": [
    "df['children'].value_counts() # количество уникальных значений в столбце"
   ]
  },
  {
   "cell_type": "markdown",
   "id": "ed90bbd0",
   "metadata": {},
   "source": [
    "В столбце `children` обнаружено 2 аномалии: отрицательное количество детей и **20** детей у 76 клиентов. Отрицательное количество детей заменим на положительное, предположив, что это ошибка ввода данных, а значение **20** поменяем на среднее значение детей в столбце, т.к. среднее арифметическое лучше использовать для данных без выбросов."
   ]
  },
  {
   "cell_type": "code",
   "execution_count": 15,
   "id": "d83849f2",
   "metadata": {},
   "outputs": [
    {
     "data": {
      "text/plain": [
       "0    14225\n",
       "1     4865\n",
       "2     2055\n",
       "3      330\n",
       "4       41\n",
       "5        9\n",
       "Name: children, dtype: int64"
      ]
     },
     "execution_count": 15,
     "metadata": {},
     "output_type": "execute_result"
    }
   ],
   "source": [
    "df['children'] = df['children'].abs() # модуль значений\n",
    "children_mean = df['children'].mean() # среднее значение \n",
    "df.loc[df['children'] == 20, 'children'] = children_mean # замена значения 20 на среднее значение в столбце\n",
    "df['children'] = df['children'].astype(int) # перевод значений в начальный формат\n",
    "df['children'].value_counts() # количество уникальных значений в столбце"
   ]
  },
  {
   "cell_type": "markdown",
   "id": "8aec0f05",
   "metadata": {},
   "source": [
    "Как видим, в столбце `children` аномалий больше нет ."
   ]
  },
  {
   "cell_type": "markdown",
   "id": "a9cac002",
   "metadata": {},
   "source": [
    "Проверим столбец `gender` на аномалии."
   ]
  },
  {
   "cell_type": "code",
   "execution_count": 16,
   "id": "a1874d0c",
   "metadata": {
    "scrolled": true
   },
   "outputs": [
    {
     "name": "stdout",
     "output_type": "stream",
     "text": [
      "F      14236\n",
      "M       7288\n",
      "XNA        1\n",
      "Name: gender, dtype: int64\n"
     ]
    },
    {
     "data": {
      "text/html": [
       "<div>\n",
       "<style scoped>\n",
       "    .dataframe tbody tr th:only-of-type {\n",
       "        vertical-align: middle;\n",
       "    }\n",
       "\n",
       "    .dataframe tbody tr th {\n",
       "        vertical-align: top;\n",
       "    }\n",
       "\n",
       "    .dataframe thead th {\n",
       "        text-align: right;\n",
       "    }\n",
       "</style>\n",
       "<table border=\"1\" class=\"dataframe\">\n",
       "  <thead>\n",
       "    <tr style=\"text-align: right;\">\n",
       "      <th></th>\n",
       "      <th>children</th>\n",
       "      <th>days_employed</th>\n",
       "      <th>dob_years</th>\n",
       "      <th>education</th>\n",
       "      <th>education_id</th>\n",
       "      <th>family_status</th>\n",
       "      <th>family_status_id</th>\n",
       "      <th>gender</th>\n",
       "      <th>income_type</th>\n",
       "      <th>debt</th>\n",
       "      <th>total_income</th>\n",
       "      <th>purpose</th>\n",
       "    </tr>\n",
       "  </thead>\n",
       "  <tbody>\n",
       "    <tr>\n",
       "      <th>10701</th>\n",
       "      <td>0</td>\n",
       "      <td>2358.600502</td>\n",
       "      <td>24</td>\n",
       "      <td>неоконченное высшее</td>\n",
       "      <td>2</td>\n",
       "      <td>гражданский брак</td>\n",
       "      <td>1</td>\n",
       "      <td>XNA</td>\n",
       "      <td>компаньон</td>\n",
       "      <td>0</td>\n",
       "      <td>203905.157261</td>\n",
       "      <td>покупка недвижимости</td>\n",
       "    </tr>\n",
       "  </tbody>\n",
       "</table>\n",
       "</div>"
      ],
      "text/plain": [
       "       children  days_employed  dob_years            education  education_id  \\\n",
       "10701         0    2358.600502         24  неоконченное высшее             2   \n",
       "\n",
       "          family_status  family_status_id gender income_type  debt  \\\n",
       "10701  гражданский брак                 1    XNA   компаньон     0   \n",
       "\n",
       "        total_income               purpose  \n",
       "10701  203905.157261  покупка недвижимости  "
      ]
     },
     "execution_count": 16,
     "metadata": {},
     "output_type": "execute_result"
    }
   ],
   "source": [
    "print(df['gender'].value_counts()) # количество уникальных значений в столбце\n",
    "df[df['gender'] == 'XNA'] # вывод строки по условию"
   ]
  },
  {
   "cell_type": "markdown",
   "id": "92107ee3",
   "metadata": {},
   "source": [
    "Данные в этом столбце являются категориальными, а уникальных значений всего 3, при этом одно из них является явно ошибкой, поэтому заменим это значение на моду (наиболее встречающееся значение)"
   ]
  },
  {
   "cell_type": "code",
   "execution_count": 17,
   "id": "0845e29b",
   "metadata": {},
   "outputs": [
    {
     "name": "stdout",
     "output_type": "stream",
     "text": [
      "0    F\n",
      "dtype: object\n"
     ]
    },
    {
     "data": {
      "text/plain": [
       "F    14237\n",
       "M     7288\n",
       "Name: gender, dtype: int64"
      ]
     },
     "execution_count": 17,
     "metadata": {},
     "output_type": "execute_result"
    }
   ],
   "source": [
    "gender_mode = df['gender'].mode() # мода \n",
    "print(gender_mode)\n",
    "df.loc[df['gender'] == 'XNA', 'gender'] = gender_mode[0] # замена значения XNA на моду в столбце\n",
    "df['gender'].value_counts()"
   ]
  },
  {
   "cell_type": "markdown",
   "id": "aaa54415",
   "metadata": {},
   "source": [
    "**Выводы**\n",
    "\n",
    "В данных были найдени аномалии в столбцах `days_employed`, `children`, `gender`. В столбце `days_employed` отрицательные значения заменили на положительные, а пропуски заполнили медианными значениями. В столбце `children` также отрицательные значения заменили на положительные, а также значение **20** (количество детей в семье) заменили на среднее арифметическое по столбцу. В столбце `gender` было выявлено страннное значение `XNA` в 1 строке, которое заменили на моду (`F`)"
   ]
  },
  {
   "cell_type": "markdown",
   "id": "35227f19",
   "metadata": {},
   "source": [
    "### Изменение типов данных  <a id=\"2.3\"></a> "
   ]
  },
  {
   "cell_type": "markdown",
   "id": "41791db5",
   "metadata": {},
   "source": [
    "Заменим вещественный тип данных в столбце `total_income` на целочисленный."
   ]
  },
  {
   "cell_type": "code",
   "execution_count": 18,
   "id": "3ab1b6ad",
   "metadata": {},
   "outputs": [
    {
     "data": {
      "text/plain": [
       "children              int32\n",
       "days_employed       float64\n",
       "dob_years             int64\n",
       "education            object\n",
       "education_id          int64\n",
       "family_status        object\n",
       "family_status_id      int64\n",
       "gender               object\n",
       "income_type          object\n",
       "debt                  int64\n",
       "total_income          int32\n",
       "purpose              object\n",
       "dtype: object"
      ]
     },
     "execution_count": 18,
     "metadata": {},
     "output_type": "execute_result"
    }
   ],
   "source": [
    "df['total_income'] = df['total_income'].astype('int') # изменение типа данных на int\n",
    "df.dtypes # вывод типов данных столбцов "
   ]
  },
  {
   "cell_type": "markdown",
   "id": "30c04def",
   "metadata": {},
   "source": [
    "### Удаление дубликатов <a id=\"2.4\"></a> "
   ]
  },
  {
   "cell_type": "markdown",
   "id": "116d7b39",
   "metadata": {},
   "source": [
    "Посчитаем количество дубликатов в таблице."
   ]
  },
  {
   "cell_type": "code",
   "execution_count": 19,
   "id": "f28f7f7a",
   "metadata": {},
   "outputs": [
    {
     "name": "stdout",
     "output_type": "stream",
     "text": [
      " Число явных дубликатов 54 \n",
      " Доля дубликатов 0.25%\n"
     ]
    }
   ],
   "source": [
    "duplicate_str = df.duplicated().sum() # всего дубликатов\n",
    "duplicate_str_ratio = duplicate_str / total_income_len # доля дубликатов от общего числа значений\n",
    "print(f' Число явных дубликатов {duplicate_str} \\n Доля дубликатов {duplicate_str_ratio:.2%}')"
   ]
  },
  {
   "cell_type": "markdown",
   "id": "9c674cb9",
   "metadata": {},
   "source": [
    "Т.к. доля дубликатов низкая, то можно сказать, что на итоговый результат они оказывают незначительное. Удалим эти дубликаты."
   ]
  },
  {
   "cell_type": "code",
   "execution_count": 20,
   "id": "f69eedd7",
   "metadata": {},
   "outputs": [
    {
     "name": "stdout",
     "output_type": "stream",
     "text": [
      "<class 'pandas.core.frame.DataFrame'>\n",
      "Int64Index: 21471 entries, 0 to 21524\n",
      "Data columns (total 12 columns):\n",
      " #   Column            Non-Null Count  Dtype  \n",
      "---  ------            --------------  -----  \n",
      " 0   children          21471 non-null  int32  \n",
      " 1   days_employed     21471 non-null  float64\n",
      " 2   dob_years         21471 non-null  int64  \n",
      " 3   education         21471 non-null  object \n",
      " 4   education_id      21471 non-null  int64  \n",
      " 5   family_status     21471 non-null  object \n",
      " 6   family_status_id  21471 non-null  int64  \n",
      " 7   gender            21471 non-null  object \n",
      " 8   income_type       21471 non-null  object \n",
      " 9   debt              21471 non-null  int64  \n",
      " 10  total_income      21471 non-null  int32  \n",
      " 11  purpose           21471 non-null  object \n",
      "dtypes: float64(1), int32(2), int64(4), object(5)\n",
      "memory usage: 2.0+ MB\n"
     ]
    }
   ],
   "source": [
    "df = df.drop_duplicates() #удаление явных дубликатов\n",
    "df.info()"
   ]
  },
  {
   "cell_type": "markdown",
   "id": "e91f31f7",
   "metadata": {},
   "source": [
    "После удаления дубликатов осталось **21471** строка."
   ]
  },
  {
   "cell_type": "markdown",
   "id": "089210fb",
   "metadata": {},
   "source": [
    "Теперь найдем неявные дубликаты. В столбце `education` данный записаны разным регистром: с использованием заглавных и строчных букв. Приведем все значения к одному виду."
   ]
  },
  {
   "cell_type": "code",
   "execution_count": 21,
   "id": "bb4bfa89",
   "metadata": {},
   "outputs": [
    {
     "data": {
      "text/plain": [
       "среднее                15188\n",
       "высшее                  5251\n",
       "неоконченное высшее      744\n",
       "начальное                282\n",
       "ученая степень             6\n",
       "Name: education, dtype: int64"
      ]
     },
     "execution_count": 21,
     "metadata": {},
     "output_type": "execute_result"
    }
   ],
   "source": [
    "df['education'] = df['education'].str.lower() # приведение данных к нижнему регистру\n",
    "df['education'].value_counts() # количество уникальных значений в столбце"
   ]
  },
  {
   "cell_type": "markdown",
   "id": "6506c792",
   "metadata": {},
   "source": [
    "Теперь все данные в столбце приведены к одному виду. Проделаем такую же операцию со столбцом `family_status`. Регистр в этом столбце не влияет на нахождение дубликатов, но стоит привести все к единому виду. "
   ]
  },
  {
   "cell_type": "code",
   "execution_count": 22,
   "id": "d45ecfd9",
   "metadata": {},
   "outputs": [
    {
     "data": {
      "text/plain": [
       "женат / замужем          12344\n",
       "гражданский брак          4163\n",
       "не женат / не замужем     2810\n",
       "в разводе                 1195\n",
       "вдовец / вдова             959\n",
       "Name: family_status, dtype: int64"
      ]
     },
     "execution_count": 22,
     "metadata": {},
     "output_type": "execute_result"
    }
   ],
   "source": [
    "df['family_status'] = df['family_status'].str.lower() # приведение данных к нижнему регистру\n",
    "df['family_status'].value_counts() # количество уникальных значений в столбце"
   ]
  },
  {
   "cell_type": "markdown",
   "id": "6b6e7dde",
   "metadata": {},
   "source": [
    "После изменения регистра посчитаем количество появившихся дубликатов и удалим их."
   ]
  },
  {
   "cell_type": "code",
   "execution_count": 23,
   "id": "3dcbfbc4",
   "metadata": {},
   "outputs": [
    {
     "name": "stdout",
     "output_type": "stream",
     "text": [
      "Новые дубликаты 17\n",
      "<class 'pandas.core.frame.DataFrame'>\n",
      "Int64Index: 21454 entries, 0 to 21524\n",
      "Data columns (total 12 columns):\n",
      " #   Column            Non-Null Count  Dtype  \n",
      "---  ------            --------------  -----  \n",
      " 0   children          21454 non-null  int32  \n",
      " 1   days_employed     21454 non-null  float64\n",
      " 2   dob_years         21454 non-null  int64  \n",
      " 3   education         21454 non-null  object \n",
      " 4   education_id      21454 non-null  int64  \n",
      " 5   family_status     21454 non-null  object \n",
      " 6   family_status_id  21454 non-null  int64  \n",
      " 7   gender            21454 non-null  object \n",
      " 8   income_type       21454 non-null  object \n",
      " 9   debt              21454 non-null  int64  \n",
      " 10  total_income      21454 non-null  int32  \n",
      " 11  purpose           21454 non-null  object \n",
      "dtypes: float64(1), int32(2), int64(4), object(5)\n",
      "memory usage: 2.0+ MB\n"
     ]
    }
   ],
   "source": [
    "duplicate_str = df.duplicated().sum() # неявных дубликатов всего\n",
    "print('Новые дубликаты', duplicate_str)\n",
    "df = df.drop_duplicates() #удаление неявных дубликатов\n",
    "df.info()"
   ]
  },
  {
   "cell_type": "markdown",
   "id": "4c87f218",
   "metadata": {},
   "source": [
    "**Выводы**\n",
    "\n",
    "В таблице было найдено **54** явных дубликата, которые могли появиться из-за неправильного ввода данных, но также это могут быть и просто одинаковые данные, т.к. в базе нет уникального индификатора клиента (id). Но доля этих дубликатов очень мала, что незначительно повлияет на итоговый результат. Эти дубликаты были удалены. Также столбец `education` был приведен к одному нижнему реестру, после чего появились еще **17** дубликатов и были удалены. Для поиска неявных дубликатов применялся метод с использованием `value_counts()`, а для удаления `drop_duplicates()`."
   ]
  },
  {
   "cell_type": "markdown",
   "id": "4318f466",
   "metadata": {},
   "source": [
    "### Формирование дополнительных датафреймов словарей, декомпозиция исходного датафрейма <a id=\"2.5\"></a> "
   ]
  },
  {
   "cell_type": "markdown",
   "id": "6bde17c1",
   "metadata": {},
   "source": [
    "В исходных данных есть столбцы `education_id` и `education`, а также `family_status_id` и `family_status`, которые по сути дублируют информаци. Создадим два новых датафрейма, которые будут являться словарями, в которых каждому уникальному значению из `education` соответствует уникальное значение `education_id` — в первом, каждому уникальному значению из `family_status` соответствует уникальное значение `family_status_id` — во втором."
   ]
  },
  {
   "cell_type": "code",
   "execution_count": 24,
   "id": "9e95579a",
   "metadata": {},
   "outputs": [
    {
     "data": {
      "text/html": [
       "<div>\n",
       "<style scoped>\n",
       "    .dataframe tbody tr th:only-of-type {\n",
       "        vertical-align: middle;\n",
       "    }\n",
       "\n",
       "    .dataframe tbody tr th {\n",
       "        vertical-align: top;\n",
       "    }\n",
       "\n",
       "    .dataframe thead th {\n",
       "        text-align: right;\n",
       "    }\n",
       "</style>\n",
       "<table border=\"1\" class=\"dataframe\">\n",
       "  <thead>\n",
       "    <tr style=\"text-align: right;\">\n",
       "      <th></th>\n",
       "      <th>education_id</th>\n",
       "      <th>education</th>\n",
       "    </tr>\n",
       "  </thead>\n",
       "  <tbody>\n",
       "    <tr>\n",
       "      <th>0</th>\n",
       "      <td>0</td>\n",
       "      <td>высшее</td>\n",
       "    </tr>\n",
       "    <tr>\n",
       "      <th>1</th>\n",
       "      <td>1</td>\n",
       "      <td>среднее</td>\n",
       "    </tr>\n",
       "    <tr>\n",
       "      <th>2</th>\n",
       "      <td>2</td>\n",
       "      <td>неоконченное высшее</td>\n",
       "    </tr>\n",
       "    <tr>\n",
       "      <th>3</th>\n",
       "      <td>3</td>\n",
       "      <td>начальное</td>\n",
       "    </tr>\n",
       "    <tr>\n",
       "      <th>4</th>\n",
       "      <td>4</td>\n",
       "      <td>ученая степень</td>\n",
       "    </tr>\n",
       "  </tbody>\n",
       "</table>\n",
       "</div>"
      ],
      "text/plain": [
       "   education_id            education\n",
       "0             0               высшее\n",
       "1             1              среднее\n",
       "2             2  неоконченное высшее\n",
       "3             3            начальное\n",
       "4             4       ученая степень"
      ]
     },
     "execution_count": 24,
     "metadata": {},
     "output_type": "execute_result"
    }
   ],
   "source": [
    "education_df = df[['education_id', 'education']] # создание нового датафрейма\n",
    "education_df = education_df.drop_duplicates().reset_index(drop=True) # удаление дубликатов и создание новых индексов\n",
    "education_df.head(10)"
   ]
  },
  {
   "cell_type": "code",
   "execution_count": 25,
   "id": "6d6d3630",
   "metadata": {},
   "outputs": [
    {
     "data": {
      "text/html": [
       "<div>\n",
       "<style scoped>\n",
       "    .dataframe tbody tr th:only-of-type {\n",
       "        vertical-align: middle;\n",
       "    }\n",
       "\n",
       "    .dataframe tbody tr th {\n",
       "        vertical-align: top;\n",
       "    }\n",
       "\n",
       "    .dataframe thead th {\n",
       "        text-align: right;\n",
       "    }\n",
       "</style>\n",
       "<table border=\"1\" class=\"dataframe\">\n",
       "  <thead>\n",
       "    <tr style=\"text-align: right;\">\n",
       "      <th></th>\n",
       "      <th>family_status_id</th>\n",
       "      <th>family_status</th>\n",
       "    </tr>\n",
       "  </thead>\n",
       "  <tbody>\n",
       "    <tr>\n",
       "      <th>0</th>\n",
       "      <td>0</td>\n",
       "      <td>женат / замужем</td>\n",
       "    </tr>\n",
       "    <tr>\n",
       "      <th>1</th>\n",
       "      <td>1</td>\n",
       "      <td>гражданский брак</td>\n",
       "    </tr>\n",
       "    <tr>\n",
       "      <th>2</th>\n",
       "      <td>2</td>\n",
       "      <td>вдовец / вдова</td>\n",
       "    </tr>\n",
       "    <tr>\n",
       "      <th>3</th>\n",
       "      <td>3</td>\n",
       "      <td>в разводе</td>\n",
       "    </tr>\n",
       "    <tr>\n",
       "      <th>4</th>\n",
       "      <td>4</td>\n",
       "      <td>не женат / не замужем</td>\n",
       "    </tr>\n",
       "  </tbody>\n",
       "</table>\n",
       "</div>"
      ],
      "text/plain": [
       "   family_status_id          family_status\n",
       "0                 0        женат / замужем\n",
       "1                 1       гражданский брак\n",
       "2                 2         вдовец / вдова\n",
       "3                 3              в разводе\n",
       "4                 4  не женат / не замужем"
      ]
     },
     "execution_count": 25,
     "metadata": {},
     "output_type": "execute_result"
    }
   ],
   "source": [
    "family_status_df = df[['family_status_id', 'family_status']] # создание нового датафрейма\n",
    "family_status_df = family_status_df.drop_duplicates().reset_index(drop=True) # удаление дубликатов и создание новых индексов\n",
    "family_status_df"
   ]
  },
  {
   "cell_type": "markdown",
   "id": "ca41925b",
   "metadata": {},
   "source": [
    "Два новых датафрейма созданы. Теперь удалим столбцы `education`, `family_status` из исходного датафрейма, т.к. они дублируют информацию."
   ]
  },
  {
   "cell_type": "code",
   "execution_count": 26,
   "id": "363e642b",
   "metadata": {},
   "outputs": [
    {
     "name": "stderr",
     "output_type": "stream",
     "text": [
      "C:\\Users\\1\\AppData\\Local\\Temp/ipykernel_17628/98035585.py:1: FutureWarning: In a future version of pandas all arguments of DataFrame.drop except for the argument 'labels' will be keyword-only\n",
      "  df = df.drop('education', 1) # удаление столбца education\n",
      "C:\\Users\\1\\AppData\\Local\\Temp/ipykernel_17628/98035585.py:2: FutureWarning: In a future version of pandas all arguments of DataFrame.drop except for the argument 'labels' will be keyword-only\n",
      "  df = df.drop('family_status', 1) # удаление столбца family_status\n"
     ]
    },
    {
     "data": {
      "text/html": [
       "<div>\n",
       "<style scoped>\n",
       "    .dataframe tbody tr th:only-of-type {\n",
       "        vertical-align: middle;\n",
       "    }\n",
       "\n",
       "    .dataframe tbody tr th {\n",
       "        vertical-align: top;\n",
       "    }\n",
       "\n",
       "    .dataframe thead th {\n",
       "        text-align: right;\n",
       "    }\n",
       "</style>\n",
       "<table border=\"1\" class=\"dataframe\">\n",
       "  <thead>\n",
       "    <tr style=\"text-align: right;\">\n",
       "      <th></th>\n",
       "      <th>children</th>\n",
       "      <th>days_employed</th>\n",
       "      <th>dob_years</th>\n",
       "      <th>education_id</th>\n",
       "      <th>family_status_id</th>\n",
       "      <th>gender</th>\n",
       "      <th>income_type</th>\n",
       "      <th>debt</th>\n",
       "      <th>total_income</th>\n",
       "      <th>purpose</th>\n",
       "    </tr>\n",
       "  </thead>\n",
       "  <tbody>\n",
       "    <tr>\n",
       "      <th>0</th>\n",
       "      <td>1</td>\n",
       "      <td>8437.673028</td>\n",
       "      <td>42</td>\n",
       "      <td>0</td>\n",
       "      <td>0</td>\n",
       "      <td>F</td>\n",
       "      <td>сотрудник</td>\n",
       "      <td>0</td>\n",
       "      <td>253875</td>\n",
       "      <td>покупка жилья</td>\n",
       "    </tr>\n",
       "    <tr>\n",
       "      <th>1</th>\n",
       "      <td>1</td>\n",
       "      <td>4024.803754</td>\n",
       "      <td>36</td>\n",
       "      <td>1</td>\n",
       "      <td>0</td>\n",
       "      <td>F</td>\n",
       "      <td>сотрудник</td>\n",
       "      <td>0</td>\n",
       "      <td>112080</td>\n",
       "      <td>приобретение автомобиля</td>\n",
       "    </tr>\n",
       "    <tr>\n",
       "      <th>2</th>\n",
       "      <td>0</td>\n",
       "      <td>5623.422610</td>\n",
       "      <td>33</td>\n",
       "      <td>1</td>\n",
       "      <td>0</td>\n",
       "      <td>M</td>\n",
       "      <td>сотрудник</td>\n",
       "      <td>0</td>\n",
       "      <td>145885</td>\n",
       "      <td>покупка жилья</td>\n",
       "    </tr>\n",
       "    <tr>\n",
       "      <th>3</th>\n",
       "      <td>3</td>\n",
       "      <td>4124.747207</td>\n",
       "      <td>32</td>\n",
       "      <td>1</td>\n",
       "      <td>0</td>\n",
       "      <td>M</td>\n",
       "      <td>сотрудник</td>\n",
       "      <td>0</td>\n",
       "      <td>267628</td>\n",
       "      <td>дополнительное образование</td>\n",
       "    </tr>\n",
       "    <tr>\n",
       "      <th>4</th>\n",
       "      <td>0</td>\n",
       "      <td>340266.072047</td>\n",
       "      <td>53</td>\n",
       "      <td>1</td>\n",
       "      <td>1</td>\n",
       "      <td>F</td>\n",
       "      <td>пенсионер</td>\n",
       "      <td>0</td>\n",
       "      <td>158616</td>\n",
       "      <td>сыграть свадьбу</td>\n",
       "    </tr>\n",
       "  </tbody>\n",
       "</table>\n",
       "</div>"
      ],
      "text/plain": [
       "   children  days_employed  dob_years  education_id  family_status_id gender  \\\n",
       "0         1    8437.673028         42             0                 0      F   \n",
       "1         1    4024.803754         36             1                 0      F   \n",
       "2         0    5623.422610         33             1                 0      M   \n",
       "3         3    4124.747207         32             1                 0      M   \n",
       "4         0  340266.072047         53             1                 1      F   \n",
       "\n",
       "  income_type  debt  total_income                     purpose  \n",
       "0   сотрудник     0        253875               покупка жилья  \n",
       "1   сотрудник     0        112080     приобретение автомобиля  \n",
       "2   сотрудник     0        145885               покупка жилья  \n",
       "3   сотрудник     0        267628  дополнительное образование  \n",
       "4   пенсионер     0        158616             сыграть свадьбу  "
      ]
     },
     "execution_count": 26,
     "metadata": {},
     "output_type": "execute_result"
    }
   ],
   "source": [
    "df = df.drop('education', 1) # удаление столбца education\n",
    "df = df.drop('family_status', 1) # удаление столбца family_status\n",
    "df.head(5)\n",
    "\n",
    "# Если появляется предупреждение, выделенное красным цветом, то не стоит на него обращать внимание, \n",
    "# в нашем случае всё верно"
   ]
  },
  {
   "cell_type": "markdown",
   "id": "eefa797a",
   "metadata": {},
   "source": [
    "**Выводы**\n",
    "\n",
    "Для упрощения исходного датафрейма мы удалили два столбца `education`, `family_status`, а информацию, которая в них содержалась сохранили в новые датафреймы `education_df` и `family_status_df`  — это словари, к которым можно обращаться по идентификатору, а общими столбцами остались столбцы `education_id` и `family_status_id`, соответственно."
   ]
  },
  {
   "cell_type": "markdown",
   "id": "ce920de2",
   "metadata": {},
   "source": [
    "### Категоризация дохода <a id=\"2.6\"></a> "
   ]
  },
  {
   "cell_type": "markdown",
   "id": "312d85d8",
   "metadata": {},
   "source": [
    "Чтобы было проще оценивать клиентов разобьем их по категориям в зависимости от дохода. Для этого создадим новый столбец `total_income_category`с категориями:\n",
    "\n",
    "* `0–30000 — 'E';`\n",
    "* `30001–50000 — 'D';`\n",
    "* `50001–200000 — 'C';`\n",
    "* `200001–1000000 — 'B';`\n",
    "* `1000001 и выше — 'A'`"
   ]
  },
  {
   "cell_type": "code",
   "execution_count": 27,
   "id": "0bde8b5b",
   "metadata": {},
   "outputs": [
    {
     "data": {
      "text/html": [
       "<div>\n",
       "<style scoped>\n",
       "    .dataframe tbody tr th:only-of-type {\n",
       "        vertical-align: middle;\n",
       "    }\n",
       "\n",
       "    .dataframe tbody tr th {\n",
       "        vertical-align: top;\n",
       "    }\n",
       "\n",
       "    .dataframe thead th {\n",
       "        text-align: right;\n",
       "    }\n",
       "</style>\n",
       "<table border=\"1\" class=\"dataframe\">\n",
       "  <thead>\n",
       "    <tr style=\"text-align: right;\">\n",
       "      <th></th>\n",
       "      <th>children</th>\n",
       "      <th>days_employed</th>\n",
       "      <th>dob_years</th>\n",
       "      <th>education_id</th>\n",
       "      <th>family_status_id</th>\n",
       "      <th>gender</th>\n",
       "      <th>income_type</th>\n",
       "      <th>debt</th>\n",
       "      <th>total_income</th>\n",
       "      <th>purpose</th>\n",
       "      <th>total_income_category</th>\n",
       "    </tr>\n",
       "  </thead>\n",
       "  <tbody>\n",
       "    <tr>\n",
       "      <th>0</th>\n",
       "      <td>1</td>\n",
       "      <td>8437.673028</td>\n",
       "      <td>42</td>\n",
       "      <td>0</td>\n",
       "      <td>0</td>\n",
       "      <td>F</td>\n",
       "      <td>сотрудник</td>\n",
       "      <td>0</td>\n",
       "      <td>253875</td>\n",
       "      <td>покупка жилья</td>\n",
       "      <td>B</td>\n",
       "    </tr>\n",
       "    <tr>\n",
       "      <th>1</th>\n",
       "      <td>1</td>\n",
       "      <td>4024.803754</td>\n",
       "      <td>36</td>\n",
       "      <td>1</td>\n",
       "      <td>0</td>\n",
       "      <td>F</td>\n",
       "      <td>сотрудник</td>\n",
       "      <td>0</td>\n",
       "      <td>112080</td>\n",
       "      <td>приобретение автомобиля</td>\n",
       "      <td>C</td>\n",
       "    </tr>\n",
       "    <tr>\n",
       "      <th>2</th>\n",
       "      <td>0</td>\n",
       "      <td>5623.422610</td>\n",
       "      <td>33</td>\n",
       "      <td>1</td>\n",
       "      <td>0</td>\n",
       "      <td>M</td>\n",
       "      <td>сотрудник</td>\n",
       "      <td>0</td>\n",
       "      <td>145885</td>\n",
       "      <td>покупка жилья</td>\n",
       "      <td>C</td>\n",
       "    </tr>\n",
       "    <tr>\n",
       "      <th>3</th>\n",
       "      <td>3</td>\n",
       "      <td>4124.747207</td>\n",
       "      <td>32</td>\n",
       "      <td>1</td>\n",
       "      <td>0</td>\n",
       "      <td>M</td>\n",
       "      <td>сотрудник</td>\n",
       "      <td>0</td>\n",
       "      <td>267628</td>\n",
       "      <td>дополнительное образование</td>\n",
       "      <td>B</td>\n",
       "    </tr>\n",
       "    <tr>\n",
       "      <th>4</th>\n",
       "      <td>0</td>\n",
       "      <td>340266.072047</td>\n",
       "      <td>53</td>\n",
       "      <td>1</td>\n",
       "      <td>1</td>\n",
       "      <td>F</td>\n",
       "      <td>пенсионер</td>\n",
       "      <td>0</td>\n",
       "      <td>158616</td>\n",
       "      <td>сыграть свадьбу</td>\n",
       "      <td>C</td>\n",
       "    </tr>\n",
       "    <tr>\n",
       "      <th>5</th>\n",
       "      <td>0</td>\n",
       "      <td>926.185831</td>\n",
       "      <td>27</td>\n",
       "      <td>0</td>\n",
       "      <td>1</td>\n",
       "      <td>M</td>\n",
       "      <td>компаньон</td>\n",
       "      <td>0</td>\n",
       "      <td>255763</td>\n",
       "      <td>покупка жилья</td>\n",
       "      <td>B</td>\n",
       "    </tr>\n",
       "    <tr>\n",
       "      <th>6</th>\n",
       "      <td>0</td>\n",
       "      <td>2879.202052</td>\n",
       "      <td>43</td>\n",
       "      <td>0</td>\n",
       "      <td>0</td>\n",
       "      <td>F</td>\n",
       "      <td>компаньон</td>\n",
       "      <td>0</td>\n",
       "      <td>240525</td>\n",
       "      <td>операции с жильем</td>\n",
       "      <td>B</td>\n",
       "    </tr>\n",
       "    <tr>\n",
       "      <th>7</th>\n",
       "      <td>0</td>\n",
       "      <td>152.779569</td>\n",
       "      <td>50</td>\n",
       "      <td>1</td>\n",
       "      <td>0</td>\n",
       "      <td>M</td>\n",
       "      <td>сотрудник</td>\n",
       "      <td>0</td>\n",
       "      <td>135823</td>\n",
       "      <td>образование</td>\n",
       "      <td>C</td>\n",
       "    </tr>\n",
       "    <tr>\n",
       "      <th>8</th>\n",
       "      <td>2</td>\n",
       "      <td>6929.865299</td>\n",
       "      <td>35</td>\n",
       "      <td>0</td>\n",
       "      <td>1</td>\n",
       "      <td>F</td>\n",
       "      <td>сотрудник</td>\n",
       "      <td>0</td>\n",
       "      <td>95856</td>\n",
       "      <td>на проведение свадьбы</td>\n",
       "      <td>C</td>\n",
       "    </tr>\n",
       "    <tr>\n",
       "      <th>9</th>\n",
       "      <td>0</td>\n",
       "      <td>2188.756445</td>\n",
       "      <td>41</td>\n",
       "      <td>1</td>\n",
       "      <td>0</td>\n",
       "      <td>M</td>\n",
       "      <td>сотрудник</td>\n",
       "      <td>0</td>\n",
       "      <td>144425</td>\n",
       "      <td>покупка жилья для семьи</td>\n",
       "      <td>C</td>\n",
       "    </tr>\n",
       "  </tbody>\n",
       "</table>\n",
       "</div>"
      ],
      "text/plain": [
       "   children  days_employed  dob_years  education_id  family_status_id gender  \\\n",
       "0         1    8437.673028         42             0                 0      F   \n",
       "1         1    4024.803754         36             1                 0      F   \n",
       "2         0    5623.422610         33             1                 0      M   \n",
       "3         3    4124.747207         32             1                 0      M   \n",
       "4         0  340266.072047         53             1                 1      F   \n",
       "5         0     926.185831         27             0                 1      M   \n",
       "6         0    2879.202052         43             0                 0      F   \n",
       "7         0     152.779569         50             1                 0      M   \n",
       "8         2    6929.865299         35             0                 1      F   \n",
       "9         0    2188.756445         41             1                 0      M   \n",
       "\n",
       "  income_type  debt  total_income                     purpose  \\\n",
       "0   сотрудник     0        253875               покупка жилья   \n",
       "1   сотрудник     0        112080     приобретение автомобиля   \n",
       "2   сотрудник     0        145885               покупка жилья   \n",
       "3   сотрудник     0        267628  дополнительное образование   \n",
       "4   пенсионер     0        158616             сыграть свадьбу   \n",
       "5   компаньон     0        255763               покупка жилья   \n",
       "6   компаньон     0        240525           операции с жильем   \n",
       "7   сотрудник     0        135823                 образование   \n",
       "8   сотрудник     0         95856       на проведение свадьбы   \n",
       "9   сотрудник     0        144425     покупка жилья для семьи   \n",
       "\n",
       "  total_income_category  \n",
       "0                     B  \n",
       "1                     C  \n",
       "2                     C  \n",
       "3                     B  \n",
       "4                     C  \n",
       "5                     B  \n",
       "6                     B  \n",
       "7                     C  \n",
       "8                     C  \n",
       "9                     C  "
      ]
     },
     "metadata": {},
     "output_type": "display_data"
    },
    {
     "data": {
      "text/plain": [
       "C    16015\n",
       "B     5042\n",
       "D      350\n",
       "A       25\n",
       "E       22\n",
       "Name: total_income_category, dtype: int64"
      ]
     },
     "execution_count": 27,
     "metadata": {},
     "output_type": "execute_result"
    }
   ],
   "source": [
    "def total_income_category(total_income): # создание функции по условиям\n",
    "    if total_income <= 30000:\n",
    "        return 'E'\n",
    "    if total_income >=30001 and total_income <= 50000:\n",
    "        return 'D'\n",
    "    if total_income >=50001 and total_income <= 200000:\n",
    "        return 'C'\n",
    "    if total_income >=200001 and total_income <= 1000000:\n",
    "        return 'B'\n",
    "    return 'A'\n",
    "df['total_income_category'] = df['total_income'].apply(total_income_category) # добавление нового столбца с прменением функции\n",
    "display(df.head(10))\n",
    "df['total_income_category'].value_counts() # количество уникальных значений в столбце для проверки"
   ]
  },
  {
   "cell_type": "markdown",
   "id": "9f9d311e",
   "metadata": {},
   "source": [
    "**Выводы**\n",
    "\n",
    "Добавив новый столбец и проведя категоризацию данных по доходу, стало проще оценивать клиентов. Этот столбец понадобится для дальнейшего исследования."
   ]
  },
  {
   "cell_type": "markdown",
   "id": "c28f5bf0",
   "metadata": {},
   "source": [
    "### Категоризация целей кредита <a id=\"2.7\"></a> "
   ]
  },
  {
   "cell_type": "markdown",
   "id": "efd61555",
   "metadata": {},
   "source": [
    "Проверим на уникальные значения столбец `purpose`:"
   ]
  },
  {
   "cell_type": "code",
   "execution_count": 28,
   "id": "62b1a7d5",
   "metadata": {},
   "outputs": [
    {
     "data": {
      "text/plain": [
       "свадьба                                   791\n",
       "на проведение свадьбы                     768\n",
       "сыграть свадьбу                           765\n",
       "операции с недвижимостью                  675\n",
       "покупка коммерческой недвижимости         661\n",
       "операции с жильем                         652\n",
       "покупка жилья для сдачи                   651\n",
       "операции с коммерческой недвижимостью     650\n",
       "покупка жилья                             646\n",
       "жилье                                     646\n",
       "покупка жилья для семьи                   638\n",
       "строительство собственной недвижимости    635\n",
       "недвижимость                              633\n",
       "операции со своей недвижимостью           627\n",
       "строительство жилой недвижимости          624\n",
       "покупка недвижимости                      621\n",
       "покупка своего жилья                      620\n",
       "строительство недвижимости                619\n",
       "ремонт жилью                              607\n",
       "покупка жилой недвижимости                606\n",
       "на покупку своего автомобиля              505\n",
       "заняться высшим образованием              496\n",
       "автомобиль                                494\n",
       "сделка с подержанным автомобилем          486\n",
       "свой автомобиль                           478\n",
       "на покупку подержанного автомобиля        478\n",
       "автомобили                                478\n",
       "на покупку автомобиля                     471\n",
       "приобретение автомобиля                   461\n",
       "дополнительное образование                460\n",
       "сделка с автомобилем                      455\n",
       "высшее образование                        452\n",
       "образование                               447\n",
       "получение дополнительного образования     446\n",
       "получение образования                     442\n",
       "профильное образование                    436\n",
       "получение высшего образования             426\n",
       "заняться образованием                     408\n",
       "Name: purpose, dtype: int64"
      ]
     },
     "execution_count": 28,
     "metadata": {},
     "output_type": "execute_result"
    }
   ],
   "source": [
    "df['purpose'].value_counts()"
   ]
  },
  {
   "cell_type": "markdown",
   "id": "9943ba0f",
   "metadata": {},
   "source": [
    "Как видно, названий целей кредита много, но многие из них идентичны по сути. Создадим функцию, которая на основании данных из столбца `purpose` сформирует новый столбец `purpose_category`, в который войдут следующие категории:\n",
    "* `операции с автомобилем`,\n",
    "* `операции с недвижимостью`,\n",
    "* `проведение свадьбы`,\n",
    "* `получение образования`."
   ]
  },
  {
   "cell_type": "code",
   "execution_count": 29,
   "id": "df5949f8",
   "metadata": {},
   "outputs": [
    {
     "data": {
      "text/html": [
       "<div>\n",
       "<style scoped>\n",
       "    .dataframe tbody tr th:only-of-type {\n",
       "        vertical-align: middle;\n",
       "    }\n",
       "\n",
       "    .dataframe tbody tr th {\n",
       "        vertical-align: top;\n",
       "    }\n",
       "\n",
       "    .dataframe thead th {\n",
       "        text-align: right;\n",
       "    }\n",
       "</style>\n",
       "<table border=\"1\" class=\"dataframe\">\n",
       "  <thead>\n",
       "    <tr style=\"text-align: right;\">\n",
       "      <th></th>\n",
       "      <th>children</th>\n",
       "      <th>days_employed</th>\n",
       "      <th>dob_years</th>\n",
       "      <th>education_id</th>\n",
       "      <th>family_status_id</th>\n",
       "      <th>gender</th>\n",
       "      <th>income_type</th>\n",
       "      <th>debt</th>\n",
       "      <th>total_income</th>\n",
       "      <th>purpose</th>\n",
       "      <th>total_income_category</th>\n",
       "      <th>purpose_category</th>\n",
       "    </tr>\n",
       "  </thead>\n",
       "  <tbody>\n",
       "    <tr>\n",
       "      <th>0</th>\n",
       "      <td>1</td>\n",
       "      <td>8437.673028</td>\n",
       "      <td>42</td>\n",
       "      <td>0</td>\n",
       "      <td>0</td>\n",
       "      <td>F</td>\n",
       "      <td>сотрудник</td>\n",
       "      <td>0</td>\n",
       "      <td>253875</td>\n",
       "      <td>покупка жилья</td>\n",
       "      <td>B</td>\n",
       "      <td>операции с недвижимостью</td>\n",
       "    </tr>\n",
       "    <tr>\n",
       "      <th>1</th>\n",
       "      <td>1</td>\n",
       "      <td>4024.803754</td>\n",
       "      <td>36</td>\n",
       "      <td>1</td>\n",
       "      <td>0</td>\n",
       "      <td>F</td>\n",
       "      <td>сотрудник</td>\n",
       "      <td>0</td>\n",
       "      <td>112080</td>\n",
       "      <td>приобретение автомобиля</td>\n",
       "      <td>C</td>\n",
       "      <td>операции с автомобилем</td>\n",
       "    </tr>\n",
       "    <tr>\n",
       "      <th>2</th>\n",
       "      <td>0</td>\n",
       "      <td>5623.422610</td>\n",
       "      <td>33</td>\n",
       "      <td>1</td>\n",
       "      <td>0</td>\n",
       "      <td>M</td>\n",
       "      <td>сотрудник</td>\n",
       "      <td>0</td>\n",
       "      <td>145885</td>\n",
       "      <td>покупка жилья</td>\n",
       "      <td>C</td>\n",
       "      <td>операции с недвижимостью</td>\n",
       "    </tr>\n",
       "    <tr>\n",
       "      <th>3</th>\n",
       "      <td>3</td>\n",
       "      <td>4124.747207</td>\n",
       "      <td>32</td>\n",
       "      <td>1</td>\n",
       "      <td>0</td>\n",
       "      <td>M</td>\n",
       "      <td>сотрудник</td>\n",
       "      <td>0</td>\n",
       "      <td>267628</td>\n",
       "      <td>дополнительное образование</td>\n",
       "      <td>B</td>\n",
       "      <td>получение образования</td>\n",
       "    </tr>\n",
       "    <tr>\n",
       "      <th>4</th>\n",
       "      <td>0</td>\n",
       "      <td>340266.072047</td>\n",
       "      <td>53</td>\n",
       "      <td>1</td>\n",
       "      <td>1</td>\n",
       "      <td>F</td>\n",
       "      <td>пенсионер</td>\n",
       "      <td>0</td>\n",
       "      <td>158616</td>\n",
       "      <td>сыграть свадьбу</td>\n",
       "      <td>C</td>\n",
       "      <td>проведение свадьбы</td>\n",
       "    </tr>\n",
       "    <tr>\n",
       "      <th>5</th>\n",
       "      <td>0</td>\n",
       "      <td>926.185831</td>\n",
       "      <td>27</td>\n",
       "      <td>0</td>\n",
       "      <td>1</td>\n",
       "      <td>M</td>\n",
       "      <td>компаньон</td>\n",
       "      <td>0</td>\n",
       "      <td>255763</td>\n",
       "      <td>покупка жилья</td>\n",
       "      <td>B</td>\n",
       "      <td>операции с недвижимостью</td>\n",
       "    </tr>\n",
       "    <tr>\n",
       "      <th>6</th>\n",
       "      <td>0</td>\n",
       "      <td>2879.202052</td>\n",
       "      <td>43</td>\n",
       "      <td>0</td>\n",
       "      <td>0</td>\n",
       "      <td>F</td>\n",
       "      <td>компаньон</td>\n",
       "      <td>0</td>\n",
       "      <td>240525</td>\n",
       "      <td>операции с жильем</td>\n",
       "      <td>B</td>\n",
       "      <td>операции с недвижимостью</td>\n",
       "    </tr>\n",
       "    <tr>\n",
       "      <th>7</th>\n",
       "      <td>0</td>\n",
       "      <td>152.779569</td>\n",
       "      <td>50</td>\n",
       "      <td>1</td>\n",
       "      <td>0</td>\n",
       "      <td>M</td>\n",
       "      <td>сотрудник</td>\n",
       "      <td>0</td>\n",
       "      <td>135823</td>\n",
       "      <td>образование</td>\n",
       "      <td>C</td>\n",
       "      <td>получение образования</td>\n",
       "    </tr>\n",
       "    <tr>\n",
       "      <th>8</th>\n",
       "      <td>2</td>\n",
       "      <td>6929.865299</td>\n",
       "      <td>35</td>\n",
       "      <td>0</td>\n",
       "      <td>1</td>\n",
       "      <td>F</td>\n",
       "      <td>сотрудник</td>\n",
       "      <td>0</td>\n",
       "      <td>95856</td>\n",
       "      <td>на проведение свадьбы</td>\n",
       "      <td>C</td>\n",
       "      <td>проведение свадьбы</td>\n",
       "    </tr>\n",
       "    <tr>\n",
       "      <th>9</th>\n",
       "      <td>0</td>\n",
       "      <td>2188.756445</td>\n",
       "      <td>41</td>\n",
       "      <td>1</td>\n",
       "      <td>0</td>\n",
       "      <td>M</td>\n",
       "      <td>сотрудник</td>\n",
       "      <td>0</td>\n",
       "      <td>144425</td>\n",
       "      <td>покупка жилья для семьи</td>\n",
       "      <td>C</td>\n",
       "      <td>операции с недвижимостью</td>\n",
       "    </tr>\n",
       "  </tbody>\n",
       "</table>\n",
       "</div>"
      ],
      "text/plain": [
       "   children  days_employed  dob_years  education_id  family_status_id gender  \\\n",
       "0         1    8437.673028         42             0                 0      F   \n",
       "1         1    4024.803754         36             1                 0      F   \n",
       "2         0    5623.422610         33             1                 0      M   \n",
       "3         3    4124.747207         32             1                 0      M   \n",
       "4         0  340266.072047         53             1                 1      F   \n",
       "5         0     926.185831         27             0                 1      M   \n",
       "6         0    2879.202052         43             0                 0      F   \n",
       "7         0     152.779569         50             1                 0      M   \n",
       "8         2    6929.865299         35             0                 1      F   \n",
       "9         0    2188.756445         41             1                 0      M   \n",
       "\n",
       "  income_type  debt  total_income                     purpose  \\\n",
       "0   сотрудник     0        253875               покупка жилья   \n",
       "1   сотрудник     0        112080     приобретение автомобиля   \n",
       "2   сотрудник     0        145885               покупка жилья   \n",
       "3   сотрудник     0        267628  дополнительное образование   \n",
       "4   пенсионер     0        158616             сыграть свадьбу   \n",
       "5   компаньон     0        255763               покупка жилья   \n",
       "6   компаньон     0        240525           операции с жильем   \n",
       "7   сотрудник     0        135823                 образование   \n",
       "8   сотрудник     0         95856       на проведение свадьбы   \n",
       "9   сотрудник     0        144425     покупка жилья для семьи   \n",
       "\n",
       "  total_income_category          purpose_category  \n",
       "0                     B  операции с недвижимостью  \n",
       "1                     C    операции с автомобилем  \n",
       "2                     C  операции с недвижимостью  \n",
       "3                     B     получение образования  \n",
       "4                     C        проведение свадьбы  \n",
       "5                     B  операции с недвижимостью  \n",
       "6                     B  операции с недвижимостью  \n",
       "7                     C     получение образования  \n",
       "8                     C        проведение свадьбы  \n",
       "9                     C  операции с недвижимостью  "
      ]
     },
     "metadata": {},
     "output_type": "display_data"
    },
    {
     "data": {
      "text/plain": [
       "операции с недвижимостью    10811\n",
       "операции с автомобилем       4306\n",
       "получение образования        4013\n",
       "проведение свадьбы           2324\n",
       "Name: purpose_category, dtype: int64"
      ]
     },
     "execution_count": 29,
     "metadata": {},
     "output_type": "execute_result"
    }
   ],
   "source": [
    "def purpose_category(purpose): # создание функции по условиям\n",
    "    if 'автомобил' in purpose:\n",
    "        return 'операции с автомобилем' \n",
    "    elif 'недвижимост' in purpose or 'жиль' in purpose:\n",
    "        return 'операции с недвижимостью'\n",
    "    elif 'свадьб' in purpose:\n",
    "        return 'проведение свадьбы'\n",
    "    elif 'образован' in purpose:\n",
    "        return 'получение образования'\n",
    "df['purpose_category'] = df['purpose'].apply(purpose_category) # добавление нового столбца с прменением функции\n",
    "display(df.head(10))\n",
    "df['purpose_category'].value_counts(dropna=False) # количество уникальных значений в столбце для проверки"
   ]
  },
  {
   "cell_type": "markdown",
   "id": "512b0891",
   "metadata": {},
   "source": [
    "**Выводы**\n",
    "\n",
    "Мы выделили основные категории на основании целей кредитов, что дает более наглядное представление данных."
   ]
  },
  {
   "cell_type": "markdown",
   "id": "38ff0678",
   "metadata": {},
   "source": [
    "## Исследовательский анализ <a id=\"3\"></a> "
   ]
  },
  {
   "cell_type": "markdown",
   "id": "8e148262",
   "metadata": {},
   "source": [
    "### Есть ли зависимость между количеством детей и возвратом кредита в срок? <a id=\"3.1\"></a> "
   ]
  },
  {
   "cell_type": "markdown",
   "id": "6047d421",
   "metadata": {},
   "source": [
    "Создадим сводную таблицу, где увидим какое количество клиентов имеют задолженность по кредиту в зависимости от количества детей."
   ]
  },
  {
   "cell_type": "code",
   "execution_count": 30,
   "id": "bc59a86d",
   "metadata": {},
   "outputs": [
    {
     "data": {
      "text/html": [
       "<div>\n",
       "<style scoped>\n",
       "    .dataframe tbody tr th:only-of-type {\n",
       "        vertical-align: middle;\n",
       "    }\n",
       "\n",
       "    .dataframe tbody tr th {\n",
       "        vertical-align: top;\n",
       "    }\n",
       "\n",
       "    .dataframe thead th {\n",
       "        text-align: right;\n",
       "    }\n",
       "</style>\n",
       "<table border=\"1\" class=\"dataframe\">\n",
       "  <thead>\n",
       "    <tr style=\"text-align: right;\">\n",
       "      <th>debt</th>\n",
       "      <th>число_клиентов_без_долгов</th>\n",
       "      <th>число_должников</th>\n",
       "      <th>общее_число_клиентов</th>\n",
       "      <th>доля_должников</th>\n",
       "    </tr>\n",
       "    <tr>\n",
       "      <th>children</th>\n",
       "      <th></th>\n",
       "      <th></th>\n",
       "      <th></th>\n",
       "      <th></th>\n",
       "    </tr>\n",
       "  </thead>\n",
       "  <tbody>\n",
       "    <tr>\n",
       "      <th>0</th>\n",
       "      <td>13096.0</td>\n",
       "      <td>1071.0</td>\n",
       "      <td>14167.0</td>\n",
       "      <td>7.559822</td>\n",
       "    </tr>\n",
       "    <tr>\n",
       "      <th>1</th>\n",
       "      <td>4410.0</td>\n",
       "      <td>445.0</td>\n",
       "      <td>4855.0</td>\n",
       "      <td>9.165808</td>\n",
       "    </tr>\n",
       "    <tr>\n",
       "      <th>2</th>\n",
       "      <td>1858.0</td>\n",
       "      <td>194.0</td>\n",
       "      <td>2052.0</td>\n",
       "      <td>9.454191</td>\n",
       "    </tr>\n",
       "    <tr>\n",
       "      <th>3</th>\n",
       "      <td>303.0</td>\n",
       "      <td>27.0</td>\n",
       "      <td>330.0</td>\n",
       "      <td>8.181818</td>\n",
       "    </tr>\n",
       "    <tr>\n",
       "      <th>4</th>\n",
       "      <td>37.0</td>\n",
       "      <td>4.0</td>\n",
       "      <td>41.0</td>\n",
       "      <td>9.756098</td>\n",
       "    </tr>\n",
       "    <tr>\n",
       "      <th>5</th>\n",
       "      <td>9.0</td>\n",
       "      <td>NaN</td>\n",
       "      <td>NaN</td>\n",
       "      <td>NaN</td>\n",
       "    </tr>\n",
       "  </tbody>\n",
       "</table>\n",
       "</div>"
      ],
      "text/plain": [
       "debt      число_клиентов_без_долгов  число_должников  общее_число_клиентов  \\\n",
       "children                                                                     \n",
       "0                           13096.0           1071.0               14167.0   \n",
       "1                            4410.0            445.0                4855.0   \n",
       "2                            1858.0            194.0                2052.0   \n",
       "3                             303.0             27.0                 330.0   \n",
       "4                              37.0              4.0                  41.0   \n",
       "5                               9.0              NaN                   NaN   \n",
       "\n",
       "debt      доля_должников  \n",
       "children                  \n",
       "0               7.559822  \n",
       "1               9.165808  \n",
       "2               9.454191  \n",
       "3               8.181818  \n",
       "4               9.756098  \n",
       "5                    NaN  "
      ]
     },
     "execution_count": 30,
     "metadata": {},
     "output_type": "execute_result"
    }
   ],
   "source": [
    "children_result = df.pivot_table(index='children', columns= 'debt', values='days_employed', aggfunc='count') # создание сводной таблицы\n",
    "children_result['общее_число_клиентов'] = (children_result[0] + children_result[1]) # создание нового столбца\n",
    "children_result['доля_должников'] = children_result[1] / (children_result[0] + children_result[1]) * 100 # создание нового столбца\n",
    "children_result.rename(columns = {1 : 'число_должников', 0 : 'число_клиентов_без_долгов'}, inplace = True) # переименование столбцов\n",
    "children_result"
   ]
  },
  {
   "cell_type": "code",
   "execution_count": 31,
   "id": "43229473",
   "metadata": {},
   "outputs": [
    {
     "data": {
      "text/html": [
       "<style type=\"text/css\">\n",
       "</style>\n",
       "<table id=\"T_4e3ad_\">\n",
       "  <thead>\n",
       "    <tr>\n",
       "      <th class=\"blank level0\" >&nbsp;</th>\n",
       "      <th class=\"col_heading level0 col0\" >число_клиентов</th>\n",
       "      <th class=\"col_heading level0 col1\" >число_должников</th>\n",
       "      <th class=\"col_heading level0 col2\" >доля_должников</th>\n",
       "    </tr>\n",
       "    <tr>\n",
       "      <th class=\"index_name level0\" >children</th>\n",
       "      <th class=\"blank col0\" >&nbsp;</th>\n",
       "      <th class=\"blank col1\" >&nbsp;</th>\n",
       "      <th class=\"blank col2\" >&nbsp;</th>\n",
       "    </tr>\n",
       "  </thead>\n",
       "  <tbody>\n",
       "    <tr>\n",
       "      <th id=\"T_4e3ad_level0_row0\" class=\"row_heading level0 row0\" >0</th>\n",
       "      <td id=\"T_4e3ad_row0_col0\" class=\"data row0 col0\" >14167</td>\n",
       "      <td id=\"T_4e3ad_row0_col1\" class=\"data row0 col1\" >1071</td>\n",
       "      <td id=\"T_4e3ad_row0_col2\" class=\"data row0 col2\" >7.56%</td>\n",
       "    </tr>\n",
       "    <tr>\n",
       "      <th id=\"T_4e3ad_level0_row1\" class=\"row_heading level0 row1\" >1</th>\n",
       "      <td id=\"T_4e3ad_row1_col0\" class=\"data row1 col0\" >4855</td>\n",
       "      <td id=\"T_4e3ad_row1_col1\" class=\"data row1 col1\" >445</td>\n",
       "      <td id=\"T_4e3ad_row1_col2\" class=\"data row1 col2\" >9.17%</td>\n",
       "    </tr>\n",
       "    <tr>\n",
       "      <th id=\"T_4e3ad_level0_row2\" class=\"row_heading level0 row2\" >2</th>\n",
       "      <td id=\"T_4e3ad_row2_col0\" class=\"data row2 col0\" >2052</td>\n",
       "      <td id=\"T_4e3ad_row2_col1\" class=\"data row2 col1\" >194</td>\n",
       "      <td id=\"T_4e3ad_row2_col2\" class=\"data row2 col2\" >9.45%</td>\n",
       "    </tr>\n",
       "    <tr>\n",
       "      <th id=\"T_4e3ad_level0_row3\" class=\"row_heading level0 row3\" >3</th>\n",
       "      <td id=\"T_4e3ad_row3_col0\" class=\"data row3 col0\" >330</td>\n",
       "      <td id=\"T_4e3ad_row3_col1\" class=\"data row3 col1\" >27</td>\n",
       "      <td id=\"T_4e3ad_row3_col2\" class=\"data row3 col2\" >8.18%</td>\n",
       "    </tr>\n",
       "    <tr>\n",
       "      <th id=\"T_4e3ad_level0_row4\" class=\"row_heading level0 row4\" >4</th>\n",
       "      <td id=\"T_4e3ad_row4_col0\" class=\"data row4 col0\" >41</td>\n",
       "      <td id=\"T_4e3ad_row4_col1\" class=\"data row4 col1\" >4</td>\n",
       "      <td id=\"T_4e3ad_row4_col2\" class=\"data row4 col2\" >9.76%</td>\n",
       "    </tr>\n",
       "    <tr>\n",
       "      <th id=\"T_4e3ad_level0_row5\" class=\"row_heading level0 row5\" >5</th>\n",
       "      <td id=\"T_4e3ad_row5_col0\" class=\"data row5 col0\" >9</td>\n",
       "      <td id=\"T_4e3ad_row5_col1\" class=\"data row5 col1\" >0</td>\n",
       "      <td id=\"T_4e3ad_row5_col2\" class=\"data row5 col2\" >0.00%</td>\n",
       "    </tr>\n",
       "  </tbody>\n",
       "</table>\n"
      ],
      "text/plain": [
       "<pandas.io.formats.style.Styler at 0x1b5dbbc9400>"
      ]
     },
     "execution_count": 31,
     "metadata": {},
     "output_type": "execute_result"
    }
   ],
   "source": [
    "# 2 метод построения таблицы с помощью groupby\n",
    "df.groupby('children').\\\n",
    "            agg(число_клиентов=('debt','count'), число_должников=('debt','sum'), доля_должников=('debt','mean')).\\\n",
    "            style.format({'доля_должников' : '{:.2%}'.format})"
   ]
  },
  {
   "cell_type": "markdown",
   "id": "bf3513e6",
   "metadata": {},
   "source": [
    "#### Вывод 1:"
   ]
  },
  {
   "cell_type": "markdown",
   "id": "bbf01965",
   "metadata": {},
   "source": [
    "Из таблицы видно, что наличие детей увеличивает количество невозвратов кредита в срок, но разница в количестве детей очень незначительно увеличивает процент должников. В столбце `result` вычисляется процент должников в зависимости от числа детей. Но выборка клиентов хотя бы с 1 ребенком значительно меньше, чем без детей, поэтому с уверенностью нельзя утверждать, что процент останется тем же. Также существует аномалия в значении с тремя детьми. Это может объясняться удалением дубликатов, выбором метода для устранения аномалий в столбце `children`, заполнение пропусков в столбце `days_employed`. Строка с 5 детьми малоинформативна, т.к. слишком малая выборка для вывода."
   ]
  },
  {
   "cell_type": "markdown",
   "id": "39147029",
   "metadata": {},
   "source": [
    "#### Вопрос 2:"
   ]
  },
  {
   "cell_type": "markdown",
   "id": "13d4d12f",
   "metadata": {},
   "source": [
    "### Есть ли зависимость между семейным положением и возвратом кредита в срок? <a id=\"3.2\"></a> "
   ]
  },
  {
   "cell_type": "markdown",
   "id": "d6a45902",
   "metadata": {},
   "source": [
    "Построим таблицу на основе данных из датафрейма `df`, в которой определим зависимость должников от семейного положения"
   ]
  },
  {
   "cell_type": "code",
   "execution_count": 32,
   "id": "9e41f3be",
   "metadata": {},
   "outputs": [
    {
     "data": {
      "text/html": [
       "<style type=\"text/css\">\n",
       "</style>\n",
       "<table id=\"T_43a3d_\">\n",
       "  <thead>\n",
       "    <tr>\n",
       "      <th class=\"blank level0\" >&nbsp;</th>\n",
       "      <th class=\"col_heading level0 col0\" >число_клиентов</th>\n",
       "      <th class=\"col_heading level0 col1\" >число_должников</th>\n",
       "      <th class=\"col_heading level0 col2\" >доля_должников</th>\n",
       "    </tr>\n",
       "    <tr>\n",
       "      <th class=\"index_name level0\" >family_status_id</th>\n",
       "      <th class=\"blank col0\" >&nbsp;</th>\n",
       "      <th class=\"blank col1\" >&nbsp;</th>\n",
       "      <th class=\"blank col2\" >&nbsp;</th>\n",
       "    </tr>\n",
       "  </thead>\n",
       "  <tbody>\n",
       "    <tr>\n",
       "      <th id=\"T_43a3d_level0_row0\" class=\"row_heading level0 row0\" >0</th>\n",
       "      <td id=\"T_43a3d_row0_col0\" class=\"data row0 col0\" >12339</td>\n",
       "      <td id=\"T_43a3d_row0_col1\" class=\"data row0 col1\" >931</td>\n",
       "      <td id=\"T_43a3d_row0_col2\" class=\"data row0 col2\" >7.55%</td>\n",
       "    </tr>\n",
       "    <tr>\n",
       "      <th id=\"T_43a3d_level0_row1\" class=\"row_heading level0 row1\" >1</th>\n",
       "      <td id=\"T_43a3d_row1_col0\" class=\"data row1 col0\" >4151</td>\n",
       "      <td id=\"T_43a3d_row1_col1\" class=\"data row1 col1\" >388</td>\n",
       "      <td id=\"T_43a3d_row1_col2\" class=\"data row1 col2\" >9.35%</td>\n",
       "    </tr>\n",
       "    <tr>\n",
       "      <th id=\"T_43a3d_level0_row2\" class=\"row_heading level0 row2\" >2</th>\n",
       "      <td id=\"T_43a3d_row2_col0\" class=\"data row2 col0\" >959</td>\n",
       "      <td id=\"T_43a3d_row2_col1\" class=\"data row2 col1\" >63</td>\n",
       "      <td id=\"T_43a3d_row2_col2\" class=\"data row2 col2\" >6.57%</td>\n",
       "    </tr>\n",
       "    <tr>\n",
       "      <th id=\"T_43a3d_level0_row3\" class=\"row_heading level0 row3\" >3</th>\n",
       "      <td id=\"T_43a3d_row3_col0\" class=\"data row3 col0\" >1195</td>\n",
       "      <td id=\"T_43a3d_row3_col1\" class=\"data row3 col1\" >85</td>\n",
       "      <td id=\"T_43a3d_row3_col2\" class=\"data row3 col2\" >7.11%</td>\n",
       "    </tr>\n",
       "    <tr>\n",
       "      <th id=\"T_43a3d_level0_row4\" class=\"row_heading level0 row4\" >4</th>\n",
       "      <td id=\"T_43a3d_row4_col0\" class=\"data row4 col0\" >2810</td>\n",
       "      <td id=\"T_43a3d_row4_col1\" class=\"data row4 col1\" >274</td>\n",
       "      <td id=\"T_43a3d_row4_col2\" class=\"data row4 col2\" >9.75%</td>\n",
       "    </tr>\n",
       "  </tbody>\n",
       "</table>\n"
      ],
      "text/plain": [
       "<pandas.io.formats.style.Styler at 0x1b5dbb9eeb0>"
      ]
     },
     "execution_count": 32,
     "metadata": {},
     "output_type": "execute_result"
    }
   ],
   "source": [
    "df.groupby('family_status_id').\\\n",
    "            agg(число_клиентов=('debt','count'), число_должников=('debt','sum'), доля_должников=('debt','mean')).\\\n",
    "            style.format({'доля_должников' : '{:.2%}'.format})"
   ]
  },
  {
   "cell_type": "code",
   "execution_count": 33,
   "id": "7d8b8ddf",
   "metadata": {},
   "outputs": [
    {
     "data": {
      "text/html": [
       "<div>\n",
       "<style scoped>\n",
       "    .dataframe tbody tr th:only-of-type {\n",
       "        vertical-align: middle;\n",
       "    }\n",
       "\n",
       "    .dataframe tbody tr th {\n",
       "        vertical-align: top;\n",
       "    }\n",
       "\n",
       "    .dataframe thead th {\n",
       "        text-align: right;\n",
       "    }\n",
       "</style>\n",
       "<table border=\"1\" class=\"dataframe\">\n",
       "  <thead>\n",
       "    <tr style=\"text-align: right;\">\n",
       "      <th></th>\n",
       "      <th>family_status_id</th>\n",
       "      <th>family_status</th>\n",
       "    </tr>\n",
       "  </thead>\n",
       "  <tbody>\n",
       "    <tr>\n",
       "      <th>0</th>\n",
       "      <td>0</td>\n",
       "      <td>женат / замужем</td>\n",
       "    </tr>\n",
       "    <tr>\n",
       "      <th>1</th>\n",
       "      <td>1</td>\n",
       "      <td>гражданский брак</td>\n",
       "    </tr>\n",
       "    <tr>\n",
       "      <th>2</th>\n",
       "      <td>2</td>\n",
       "      <td>вдовец / вдова</td>\n",
       "    </tr>\n",
       "    <tr>\n",
       "      <th>3</th>\n",
       "      <td>3</td>\n",
       "      <td>в разводе</td>\n",
       "    </tr>\n",
       "    <tr>\n",
       "      <th>4</th>\n",
       "      <td>4</td>\n",
       "      <td>не женат / не замужем</td>\n",
       "    </tr>\n",
       "  </tbody>\n",
       "</table>\n",
       "</div>"
      ],
      "text/plain": [
       "   family_status_id          family_status\n",
       "0                 0        женат / замужем\n",
       "1                 1       гражданский брак\n",
       "2                 2         вдовец / вдова\n",
       "3                 3              в разводе\n",
       "4                 4  не женат / не замужем"
      ]
     },
     "execution_count": 33,
     "metadata": {},
     "output_type": "execute_result"
    }
   ],
   "source": [
    "family_status_df"
   ]
  },
  {
   "cell_type": "markdown",
   "id": "9ad879ce",
   "metadata": {},
   "source": [
    "#### Вывод 2:"
   ]
  },
  {
   "cell_type": "markdown",
   "id": "ffc78ab6",
   "metadata": {},
   "source": [
    "Из полученных данных видно, что задолженностей у клиентов с семейным положением **\"в разводе\"** и **\"вдовец / вдова\"** меньше всего. При этом невозвратов у клиентов со статусом **\"не женат / не замужем\"** наибольшее количество. Клиентов с задолженностями со статусом **\"женат / замужем\"**  меньше на 2%, чем со статусом **\"гражданский брак\"**. Недостаточная выборка, удаление дубликатов, заполнение пропусков в столбце `days_employed` могут повлиять на результат. "
   ]
  },
  {
   "cell_type": "markdown",
   "id": "5a49cd89",
   "metadata": {},
   "source": [
    "### Есть ли зависимость между уровнем дохода и возвратом кредита в срок? <a id=\"3.3\"></a> "
   ]
  },
  {
   "cell_type": "markdown",
   "id": "077eb124",
   "metadata": {},
   "source": [
    "Построим таблицу для выявления зависимости между уровнем дохода клиента и возвратом кредита в срок."
   ]
  },
  {
   "cell_type": "code",
   "execution_count": 34,
   "id": "14b38900",
   "metadata": {},
   "outputs": [
    {
     "data": {
      "text/html": [
       "<style type=\"text/css\">\n",
       "</style>\n",
       "<table id=\"T_018d8_\">\n",
       "  <thead>\n",
       "    <tr>\n",
       "      <th class=\"blank level0\" >&nbsp;</th>\n",
       "      <th class=\"col_heading level0 col0\" >число_клиентов</th>\n",
       "      <th class=\"col_heading level0 col1\" >число_должников</th>\n",
       "      <th class=\"col_heading level0 col2\" >доля_должников</th>\n",
       "    </tr>\n",
       "    <tr>\n",
       "      <th class=\"index_name level0\" >total_income_category</th>\n",
       "      <th class=\"blank col0\" >&nbsp;</th>\n",
       "      <th class=\"blank col1\" >&nbsp;</th>\n",
       "      <th class=\"blank col2\" >&nbsp;</th>\n",
       "    </tr>\n",
       "  </thead>\n",
       "  <tbody>\n",
       "    <tr>\n",
       "      <th id=\"T_018d8_level0_row0\" class=\"row_heading level0 row0\" >A</th>\n",
       "      <td id=\"T_018d8_row0_col0\" class=\"data row0 col0\" >25</td>\n",
       "      <td id=\"T_018d8_row0_col1\" class=\"data row0 col1\" >2</td>\n",
       "      <td id=\"T_018d8_row0_col2\" class=\"data row0 col2\" >8.00%</td>\n",
       "    </tr>\n",
       "    <tr>\n",
       "      <th id=\"T_018d8_level0_row1\" class=\"row_heading level0 row1\" >B</th>\n",
       "      <td id=\"T_018d8_row1_col0\" class=\"data row1 col0\" >5042</td>\n",
       "      <td id=\"T_018d8_row1_col1\" class=\"data row1 col1\" >356</td>\n",
       "      <td id=\"T_018d8_row1_col2\" class=\"data row1 col2\" >7.06%</td>\n",
       "    </tr>\n",
       "    <tr>\n",
       "      <th id=\"T_018d8_level0_row2\" class=\"row_heading level0 row2\" >C</th>\n",
       "      <td id=\"T_018d8_row2_col0\" class=\"data row2 col0\" >16015</td>\n",
       "      <td id=\"T_018d8_row2_col1\" class=\"data row2 col1\" >1360</td>\n",
       "      <td id=\"T_018d8_row2_col2\" class=\"data row2 col2\" >8.49%</td>\n",
       "    </tr>\n",
       "    <tr>\n",
       "      <th id=\"T_018d8_level0_row3\" class=\"row_heading level0 row3\" >D</th>\n",
       "      <td id=\"T_018d8_row3_col0\" class=\"data row3 col0\" >350</td>\n",
       "      <td id=\"T_018d8_row3_col1\" class=\"data row3 col1\" >21</td>\n",
       "      <td id=\"T_018d8_row3_col2\" class=\"data row3 col2\" >6.00%</td>\n",
       "    </tr>\n",
       "    <tr>\n",
       "      <th id=\"T_018d8_level0_row4\" class=\"row_heading level0 row4\" >E</th>\n",
       "      <td id=\"T_018d8_row4_col0\" class=\"data row4 col0\" >22</td>\n",
       "      <td id=\"T_018d8_row4_col1\" class=\"data row4 col1\" >2</td>\n",
       "      <td id=\"T_018d8_row4_col2\" class=\"data row4 col2\" >9.09%</td>\n",
       "    </tr>\n",
       "  </tbody>\n",
       "</table>\n"
      ],
      "text/plain": [
       "<pandas.io.formats.style.Styler at 0x1b5dda78af0>"
      ]
     },
     "execution_count": 34,
     "metadata": {},
     "output_type": "execute_result"
    }
   ],
   "source": [
    "df.groupby('total_income_category').\\\n",
    "            agg(число_клиентов=('debt','count'), число_должников=('debt','sum'), доля_должников=('debt','mean')).\\\n",
    "            style.format({'доля_должников' : '{:.2%}'.format})"
   ]
  },
  {
   "cell_type": "markdown",
   "id": "ec83b6ac",
   "metadata": {},
   "source": [
    "#### Вывод 3:"
   ]
  },
  {
   "cell_type": "markdown",
   "id": "9ab45d8d",
   "metadata": {},
   "source": [
    "Исходя из полученных данных видно, что большинстов клиентов имеют доход 50001–200000 — 'C', при этом доля невозвратов у них наибольшая. Клиентов категорий 'E' и 'A' очень мало, выборка по ним мала, по ним сложно делать выводы. При этом людей категории 'B' (200001–1000000) с задолженностями и 'D' (30001–50000) меньше, чем 'C'. Это можно объяснить, что выборка 'B' и 'D' меньше, для утверждения, что зависимость существует, надо иметь большую выборку во всех категориях. Также влияние на результат могли оказать методы удаления дубликатов, заполнения пропусков в столбцах `days_employed` и `total_income`."
   ]
  },
  {
   "cell_type": "markdown",
   "id": "37e72704",
   "metadata": {},
   "source": [
    "### Как разные цели кредита влияют на его возврат в срок? <a id=\"3.4\"></a> "
   ]
  },
  {
   "cell_type": "markdown",
   "id": "98468d7b",
   "metadata": {},
   "source": [
    "Построим таблицу для нахождения зависимсти цели кредита на его возврат в срок."
   ]
  },
  {
   "cell_type": "code",
   "execution_count": 35,
   "id": "0d0e92ea",
   "metadata": {},
   "outputs": [
    {
     "data": {
      "text/html": [
       "<style type=\"text/css\">\n",
       "</style>\n",
       "<table id=\"T_49738_\">\n",
       "  <thead>\n",
       "    <tr>\n",
       "      <th class=\"blank level0\" >&nbsp;</th>\n",
       "      <th class=\"col_heading level0 col0\" >число_клиентов</th>\n",
       "      <th class=\"col_heading level0 col1\" >число_должников</th>\n",
       "      <th class=\"col_heading level0 col2\" >доля_должников</th>\n",
       "    </tr>\n",
       "    <tr>\n",
       "      <th class=\"index_name level0\" >purpose_category</th>\n",
       "      <th class=\"blank col0\" >&nbsp;</th>\n",
       "      <th class=\"blank col1\" >&nbsp;</th>\n",
       "      <th class=\"blank col2\" >&nbsp;</th>\n",
       "    </tr>\n",
       "  </thead>\n",
       "  <tbody>\n",
       "    <tr>\n",
       "      <th id=\"T_49738_level0_row0\" class=\"row_heading level0 row0\" >операции с автомобилем</th>\n",
       "      <td id=\"T_49738_row0_col0\" class=\"data row0 col0\" >4306</td>\n",
       "      <td id=\"T_49738_row0_col1\" class=\"data row0 col1\" >403</td>\n",
       "      <td id=\"T_49738_row0_col2\" class=\"data row0 col2\" >9.36%</td>\n",
       "    </tr>\n",
       "    <tr>\n",
       "      <th id=\"T_49738_level0_row1\" class=\"row_heading level0 row1\" >операции с недвижимостью</th>\n",
       "      <td id=\"T_49738_row1_col0\" class=\"data row1 col0\" >10811</td>\n",
       "      <td id=\"T_49738_row1_col1\" class=\"data row1 col1\" >782</td>\n",
       "      <td id=\"T_49738_row1_col2\" class=\"data row1 col2\" >7.23%</td>\n",
       "    </tr>\n",
       "    <tr>\n",
       "      <th id=\"T_49738_level0_row2\" class=\"row_heading level0 row2\" >получение образования</th>\n",
       "      <td id=\"T_49738_row2_col0\" class=\"data row2 col0\" >4013</td>\n",
       "      <td id=\"T_49738_row2_col1\" class=\"data row2 col1\" >370</td>\n",
       "      <td id=\"T_49738_row2_col2\" class=\"data row2 col2\" >9.22%</td>\n",
       "    </tr>\n",
       "    <tr>\n",
       "      <th id=\"T_49738_level0_row3\" class=\"row_heading level0 row3\" >проведение свадьбы</th>\n",
       "      <td id=\"T_49738_row3_col0\" class=\"data row3 col0\" >2324</td>\n",
       "      <td id=\"T_49738_row3_col1\" class=\"data row3 col1\" >186</td>\n",
       "      <td id=\"T_49738_row3_col2\" class=\"data row3 col2\" >8.00%</td>\n",
       "    </tr>\n",
       "  </tbody>\n",
       "</table>\n"
      ],
      "text/plain": [
       "<pandas.io.formats.style.Styler at 0x1b5dda922e0>"
      ]
     },
     "execution_count": 35,
     "metadata": {},
     "output_type": "execute_result"
    }
   ],
   "source": [
    "df.groupby('purpose_category').\\\n",
    "            agg(число_клиентов=('debt','count'), число_должников=('debt','sum'), доля_должников=('debt','mean')).\\\n",
    "            style.format({'доля_должников' : '{:.2%}'.format})"
   ]
  },
  {
   "cell_type": "markdown",
   "id": "98437657",
   "metadata": {},
   "source": [
    "#### Вывод 4:"
   ]
  },
  {
   "cell_type": "markdown",
   "id": "61902ca2",
   "metadata": {},
   "source": [
    "Должников, которые брали кредит на **операции с недвижимостью** в процентном соотношение меньше всего. Это можно объяснить тем, что такие люди чаще всего берут кредит на долгий срок и на большую сумму, а недвижимость очень важна для людей и их жизни. Кредит на **проведение свадьбы** берут наименьшее количество людей, сумма этого кредита, можно предположить, наименьшая по отношению к остальным категориям и ее выплачивают чаще без задержек. Должников, взявших кредит на **операции с автомобилем** и **получение образования**, наибольшее доля, при этом количество и соотношение людей приблизительно одинаково. Не стоит забывать, что результаты могли быть частично искажены из-за методов удаления дубликатов, заполнения пропусков в столбце `days_employed`."
   ]
  },
  {
   "cell_type": "markdown",
   "id": "3731f641",
   "metadata": {},
   "source": [
    "## Общий вывод <a id=\"4\"></a> "
   ]
  },
  {
   "cell_type": "markdown",
   "id": "5f2b9ef1",
   "metadata": {},
   "source": [
    "В ходе исследования было необходимо определить, вляют ли количество детей, семейное положение, уровень дохода, цель кредита на факт погашения кредита в срок.\n",
    "\n",
    "1. Наличие детей увеличивает количество невозвратов кредита в срок, но разница в количестве детей незначительно увеличивает процент должников. При этом существует аномалия в значении с тремя детьми. Если не учитывать эту аномалию, то зависимость между количеством детей и задолженностями прямая.\n",
    "\n",
    "2. На основании данных нельзя проследить связь между семейными парами и одинокими людьми, только между каждой из категорий по отдельности.\n",
    "\n",
    "3. Доля невозвратов у категории 'C' (50001–200000) наибольшая, клиентов категорий 'E' и 'A' очень мало, выборка по ним мала, по ним сложно делать выводы. При этом людей категории 'B' (200001–1000000) с задолженностями и 'D' (30001–50000) меньше, чем 'C'. Т.е. сказать про влияние уровеня дохода на факт погашения кредита в срок нельзя.\n",
    "\n",
    "4. Должников, которые брали кредит на операции с недвижимостью в процентном соотношение меньше всего. Кредит на проведение свадьбы берут наименьшее количество людей, сумма этого кредита Должников, взявших кредит на операции с автомобилем и получение образования, наибольшее доля, при этом количество и соотношение людей приблизительно одинаково.\n",
    "\n",
    "На все результаты могут оказывать влияние недостаточная выборка, методы удаления дубликатов, заполнение пропусков, методы для устранения аномалий.\n",
    " \n",
    "\n"
   ]
  }
 ],
 "metadata": {
  "ExecuteTimeLog": [
   {
    "duration": 473,
    "start_time": "2022-04-09T07:25:53.196Z"
   },
   {
    "duration": 93,
    "start_time": "2022-04-09T07:27:07.850Z"
   },
   {
    "duration": 88,
    "start_time": "2022-04-09T07:27:40.566Z"
   },
   {
    "duration": 108,
    "start_time": "2022-04-09T07:32:03.928Z"
   },
   {
    "duration": 97,
    "start_time": "2022-04-09T07:34:43.977Z"
   },
   {
    "duration": 97,
    "start_time": "2022-04-09T07:35:09.213Z"
   },
   {
    "duration": 95,
    "start_time": "2022-04-09T07:35:39.197Z"
   },
   {
    "duration": 69,
    "start_time": "2022-04-11T12:06:02.654Z"
   },
   {
    "duration": 567,
    "start_time": "2022-04-11T12:06:23.584Z"
   },
   {
    "duration": 10,
    "start_time": "2022-04-11T12:06:26.726Z"
   },
   {
    "duration": 14,
    "start_time": "2022-04-11T12:08:02.738Z"
   },
   {
    "duration": 11,
    "start_time": "2022-04-11T12:09:05.129Z"
   },
   {
    "duration": 8,
    "start_time": "2022-04-11T12:09:49.911Z"
   },
   {
    "duration": 7,
    "start_time": "2022-04-11T12:15:47.599Z"
   },
   {
    "duration": 7,
    "start_time": "2022-04-11T12:16:07.893Z"
   },
   {
    "duration": 256,
    "start_time": "2022-04-11T12:20:21.993Z"
   },
   {
    "duration": 295,
    "start_time": "2022-04-11T12:20:36.641Z"
   },
   {
    "duration": 194,
    "start_time": "2022-04-11T12:21:16.194Z"
   },
   {
    "duration": 214,
    "start_time": "2022-04-11T12:21:59.164Z"
   },
   {
    "duration": 5,
    "start_time": "2022-04-11T12:22:05.014Z"
   },
   {
    "duration": 7,
    "start_time": "2022-04-11T12:22:07.398Z"
   },
   {
    "duration": 7,
    "start_time": "2022-04-11T12:22:46.933Z"
   },
   {
    "duration": 6,
    "start_time": "2022-04-11T12:22:56.250Z"
   },
   {
    "duration": 6,
    "start_time": "2022-04-11T12:23:14.925Z"
   },
   {
    "duration": 44,
    "start_time": "2022-04-11T12:24:13.403Z"
   },
   {
    "duration": 13,
    "start_time": "2022-04-11T12:24:38.918Z"
   },
   {
    "duration": 8,
    "start_time": "2022-04-11T12:24:49.091Z"
   },
   {
    "duration": 7,
    "start_time": "2022-04-11T12:25:16.742Z"
   },
   {
    "duration": 104,
    "start_time": "2022-04-11T12:27:20.699Z"
   },
   {
    "duration": 11,
    "start_time": "2022-04-11T12:27:23.827Z"
   },
   {
    "duration": 7,
    "start_time": "2022-04-11T12:27:26.666Z"
   },
   {
    "duration": 8,
    "start_time": "2022-04-11T12:27:54.475Z"
   },
   {
    "duration": 18,
    "start_time": "2022-04-11T12:28:32.684Z"
   },
   {
    "duration": 6,
    "start_time": "2022-04-11T12:33:26.826Z"
   },
   {
    "duration": 17,
    "start_time": "2022-04-11T12:34:28.164Z"
   },
   {
    "duration": 19,
    "start_time": "2022-04-11T12:35:59.520Z"
   },
   {
    "duration": 18,
    "start_time": "2022-04-11T12:36:58.469Z"
   },
   {
    "duration": 17,
    "start_time": "2022-04-11T12:37:46.020Z"
   },
   {
    "duration": 14,
    "start_time": "2022-04-11T12:38:08.461Z"
   },
   {
    "duration": 8,
    "start_time": "2022-04-11T12:42:35.791Z"
   },
   {
    "duration": 111,
    "start_time": "2022-04-11T12:47:20.678Z"
   },
   {
    "duration": 4,
    "start_time": "2022-04-11T12:50:21.471Z"
   },
   {
    "duration": 600,
    "start_time": "2022-04-11T12:50:30.967Z"
   },
   {
    "duration": 6,
    "start_time": "2022-04-11T12:50:31.570Z"
   },
   {
    "duration": 0,
    "start_time": "2022-04-11T12:50:31.579Z"
   },
   {
    "duration": 0,
    "start_time": "2022-04-11T12:50:31.581Z"
   },
   {
    "duration": 0,
    "start_time": "2022-04-11T12:50:31.583Z"
   },
   {
    "duration": 21,
    "start_time": "2022-04-11T12:50:40.060Z"
   },
   {
    "duration": 33,
    "start_time": "2022-04-11T12:51:19.314Z"
   },
   {
    "duration": 647,
    "start_time": "2022-04-11T12:51:36.699Z"
   },
   {
    "duration": 22,
    "start_time": "2022-04-11T12:51:37.349Z"
   },
   {
    "duration": 128,
    "start_time": "2022-04-11T12:51:37.374Z"
   },
   {
    "duration": 0,
    "start_time": "2022-04-11T12:51:37.505Z"
   },
   {
    "duration": 0,
    "start_time": "2022-04-11T12:51:37.508Z"
   },
   {
    "duration": 14,
    "start_time": "2022-04-11T12:51:55.361Z"
   },
   {
    "duration": 583,
    "start_time": "2022-04-11T12:52:16.374Z"
   },
   {
    "duration": 19,
    "start_time": "2022-04-11T12:52:16.960Z"
   },
   {
    "duration": 115,
    "start_time": "2022-04-11T12:52:16.985Z"
   },
   {
    "duration": 0,
    "start_time": "2022-04-11T12:52:17.102Z"
   },
   {
    "duration": 0,
    "start_time": "2022-04-11T12:52:17.104Z"
   },
   {
    "duration": 661,
    "start_time": "2022-04-11T12:52:35.599Z"
   },
   {
    "duration": 21,
    "start_time": "2022-04-11T12:52:36.262Z"
   },
   {
    "duration": 7,
    "start_time": "2022-04-11T12:52:36.285Z"
   },
   {
    "duration": 7,
    "start_time": "2022-04-11T12:52:36.295Z"
   },
   {
    "duration": 31,
    "start_time": "2022-04-11T12:52:36.343Z"
   },
   {
    "duration": 201,
    "start_time": "2022-04-11T12:55:20.620Z"
   },
   {
    "duration": 37,
    "start_time": "2022-04-11T12:55:26.183Z"
   },
   {
    "duration": 12,
    "start_time": "2022-04-11T12:56:00.798Z"
   },
   {
    "duration": 5,
    "start_time": "2022-04-11T13:00:06.509Z"
   },
   {
    "duration": 94,
    "start_time": "2022-04-11T13:00:54.019Z"
   },
   {
    "duration": 9,
    "start_time": "2022-04-11T13:00:57.836Z"
   },
   {
    "duration": 20,
    "start_time": "2022-04-11T13:04:32.669Z"
   },
   {
    "duration": 193,
    "start_time": "2022-04-11T13:04:40.039Z"
   },
   {
    "duration": 43,
    "start_time": "2022-04-11T13:04:43.668Z"
   },
   {
    "duration": 9,
    "start_time": "2022-04-11T13:04:55.440Z"
   },
   {
    "duration": 628,
    "start_time": "2022-04-11T13:05:25.031Z"
   },
   {
    "duration": 21,
    "start_time": "2022-04-11T13:05:25.661Z"
   },
   {
    "duration": 8,
    "start_time": "2022-04-11T13:05:25.684Z"
   },
   {
    "duration": 48,
    "start_time": "2022-04-11T13:05:25.695Z"
   },
   {
    "duration": 33,
    "start_time": "2022-04-11T13:05:25.745Z"
   },
   {
    "duration": 11,
    "start_time": "2022-04-11T13:05:25.780Z"
   },
   {
    "duration": 34,
    "start_time": "2022-04-11T13:06:37.878Z"
   },
   {
    "duration": 26,
    "start_time": "2022-04-11T13:11:17.522Z"
   },
   {
    "duration": 42,
    "start_time": "2022-04-11T13:12:56.872Z"
   },
   {
    "duration": 119,
    "start_time": "2022-04-11T13:13:05.001Z"
   },
   {
    "duration": 44,
    "start_time": "2022-04-11T13:13:13.154Z"
   },
   {
    "duration": 44,
    "start_time": "2022-04-11T13:13:38.827Z"
   },
   {
    "duration": 33,
    "start_time": "2022-04-11T13:14:13.699Z"
   },
   {
    "duration": 24,
    "start_time": "2022-04-11T13:17:16.093Z"
   },
   {
    "duration": 10,
    "start_time": "2022-04-11T13:17:28.986Z"
   },
   {
    "duration": 10,
    "start_time": "2022-04-11T13:18:16.733Z"
   },
   {
    "duration": 10,
    "start_time": "2022-04-11T13:18:31.449Z"
   },
   {
    "duration": 10,
    "start_time": "2022-04-11T13:18:36.134Z"
   },
   {
    "duration": 12,
    "start_time": "2022-04-11T13:18:54.486Z"
   },
   {
    "duration": 9,
    "start_time": "2022-04-11T13:18:58.701Z"
   },
   {
    "duration": 10,
    "start_time": "2022-04-11T13:19:24.405Z"
   },
   {
    "duration": 10,
    "start_time": "2022-04-11T13:19:43.214Z"
   },
   {
    "duration": 663,
    "start_time": "2022-04-11T13:20:02.225Z"
   },
   {
    "duration": 20,
    "start_time": "2022-04-11T13:20:02.891Z"
   },
   {
    "duration": 44,
    "start_time": "2022-04-11T13:20:02.917Z"
   },
   {
    "duration": 10,
    "start_time": "2022-04-11T13:20:02.964Z"
   },
   {
    "duration": 83,
    "start_time": "2022-04-11T13:20:02.978Z"
   },
   {
    "duration": 9,
    "start_time": "2022-04-11T13:20:03.063Z"
   },
   {
    "duration": 31,
    "start_time": "2022-04-11T13:20:03.074Z"
   },
   {
    "duration": 46,
    "start_time": "2022-04-11T13:20:30.305Z"
   },
   {
    "duration": 60,
    "start_time": "2022-04-11T13:20:45.088Z"
   },
   {
    "duration": 90,
    "start_time": "2022-04-11T13:30:56.106Z"
   },
   {
    "duration": 9,
    "start_time": "2022-04-11T13:31:02.586Z"
   },
   {
    "duration": 10,
    "start_time": "2022-04-11T13:31:26.240Z"
   },
   {
    "duration": 12,
    "start_time": "2022-04-11T13:31:43.793Z"
   },
   {
    "duration": 13,
    "start_time": "2022-04-11T13:33:33.309Z"
   },
   {
    "duration": 67,
    "start_time": "2022-04-11T13:33:50.325Z"
   },
   {
    "duration": 29,
    "start_time": "2022-04-11T13:34:30.403Z"
   },
   {
    "duration": 41,
    "start_time": "2022-04-11T13:35:52.743Z"
   },
   {
    "duration": 45,
    "start_time": "2022-04-11T13:39:29.023Z"
   },
   {
    "duration": 47,
    "start_time": "2022-04-11T13:39:38.503Z"
   },
   {
    "duration": 50,
    "start_time": "2022-04-11T13:39:47.405Z"
   },
   {
    "duration": 45,
    "start_time": "2022-04-11T13:40:39.640Z"
   },
   {
    "duration": 45,
    "start_time": "2022-04-11T13:41:23.880Z"
   },
   {
    "duration": 49,
    "start_time": "2022-04-11T13:41:57.476Z"
   },
   {
    "duration": 48,
    "start_time": "2022-04-11T13:42:08.144Z"
   },
   {
    "duration": 48,
    "start_time": "2022-04-11T13:42:18.043Z"
   },
   {
    "duration": 45,
    "start_time": "2022-04-11T13:45:49.685Z"
   },
   {
    "duration": 49,
    "start_time": "2022-04-11T13:46:04.367Z"
   },
   {
    "duration": 5,
    "start_time": "2022-04-11T14:05:23.095Z"
   },
   {
    "duration": 12,
    "start_time": "2022-04-11T14:05:34.739Z"
   },
   {
    "duration": 20,
    "start_time": "2022-04-11T14:07:24.492Z"
   },
   {
    "duration": 16,
    "start_time": "2022-04-11T14:07:30.202Z"
   },
   {
    "duration": 9,
    "start_time": "2022-04-11T14:08:59.576Z"
   },
   {
    "duration": 15,
    "start_time": "2022-04-11T14:13:34.776Z"
   },
   {
    "duration": 15,
    "start_time": "2022-04-11T14:13:55.813Z"
   },
   {
    "duration": 34,
    "start_time": "2022-04-11T14:14:11.883Z"
   },
   {
    "duration": 16,
    "start_time": "2022-04-11T14:14:58.254Z"
   },
   {
    "duration": 24,
    "start_time": "2022-04-11T14:15:48.098Z"
   },
   {
    "duration": 14,
    "start_time": "2022-04-11T14:16:02.168Z"
   },
   {
    "duration": 15,
    "start_time": "2022-04-11T14:17:10.821Z"
   },
   {
    "duration": 12,
    "start_time": "2022-04-11T14:17:27.868Z"
   },
   {
    "duration": 22,
    "start_time": "2022-04-11T14:17:38.152Z"
   },
   {
    "duration": 21,
    "start_time": "2022-04-11T14:17:40.415Z"
   },
   {
    "duration": 23,
    "start_time": "2022-04-11T14:18:08.470Z"
   },
   {
    "duration": 662,
    "start_time": "2022-04-11T14:18:15.586Z"
   },
   {
    "duration": 24,
    "start_time": "2022-04-11T14:18:16.252Z"
   },
   {
    "duration": 17,
    "start_time": "2022-04-11T14:18:16.279Z"
   },
   {
    "duration": 44,
    "start_time": "2022-04-11T14:18:16.299Z"
   },
   {
    "duration": 16,
    "start_time": "2022-04-11T14:18:16.345Z"
   },
   {
    "duration": 13,
    "start_time": "2022-04-11T14:18:16.363Z"
   },
   {
    "duration": 9,
    "start_time": "2022-04-11T14:18:16.378Z"
   },
   {
    "duration": 117,
    "start_time": "2022-04-11T14:18:16.390Z"
   },
   {
    "duration": 107,
    "start_time": "2022-04-11T14:18:16.509Z"
   },
   {
    "duration": 28,
    "start_time": "2022-04-11T14:18:16.620Z"
   },
   {
    "duration": 219,
    "start_time": "2022-04-11T14:19:09.032Z"
   },
   {
    "duration": 97,
    "start_time": "2022-04-11T14:23:05.187Z"
   },
   {
    "duration": 13,
    "start_time": "2022-04-11T14:23:22.454Z"
   },
   {
    "duration": 13,
    "start_time": "2022-04-11T14:23:41.179Z"
   },
   {
    "duration": 13,
    "start_time": "2022-04-11T14:23:47.234Z"
   },
   {
    "duration": 14,
    "start_time": "2022-04-11T14:25:00.354Z"
   },
   {
    "duration": 14,
    "start_time": "2022-04-11T14:25:14.742Z"
   },
   {
    "duration": 16,
    "start_time": "2022-04-11T14:27:14.670Z"
   },
   {
    "duration": 25,
    "start_time": "2022-04-11T14:27:35.984Z"
   },
   {
    "duration": 17,
    "start_time": "2022-04-11T14:27:57.698Z"
   },
   {
    "duration": 16,
    "start_time": "2022-04-11T14:31:18.464Z"
   },
   {
    "duration": 12,
    "start_time": "2022-04-11T14:31:37.521Z"
   },
   {
    "duration": 775,
    "start_time": "2022-04-11T14:34:26.327Z"
   },
   {
    "duration": 20,
    "start_time": "2022-04-11T14:34:27.105Z"
   },
   {
    "duration": 21,
    "start_time": "2022-04-11T14:34:27.127Z"
   },
   {
    "duration": 12,
    "start_time": "2022-04-11T14:34:27.151Z"
   },
   {
    "duration": 19,
    "start_time": "2022-04-11T14:34:27.165Z"
   },
   {
    "duration": 59,
    "start_time": "2022-04-11T14:34:27.186Z"
   },
   {
    "duration": 25,
    "start_time": "2022-04-11T14:34:27.248Z"
   },
   {
    "duration": 9,
    "start_time": "2022-04-11T14:34:27.275Z"
   },
   {
    "duration": 58,
    "start_time": "2022-04-11T14:34:27.286Z"
   },
   {
    "duration": 64,
    "start_time": "2022-04-11T14:34:27.347Z"
   },
   {
    "duration": 32,
    "start_time": "2022-04-11T14:34:27.414Z"
   },
   {
    "duration": 14,
    "start_time": "2022-04-11T14:35:32.851Z"
   },
   {
    "duration": 13,
    "start_time": "2022-04-11T14:36:19.109Z"
   },
   {
    "duration": 7,
    "start_time": "2022-04-11T14:36:38.379Z"
   },
   {
    "duration": 99,
    "start_time": "2022-04-11T14:36:48.948Z"
   },
   {
    "duration": 6,
    "start_time": "2022-04-11T14:37:15.647Z"
   },
   {
    "duration": 14,
    "start_time": "2022-04-11T14:37:19.674Z"
   },
   {
    "duration": 12,
    "start_time": "2022-04-11T14:37:34.467Z"
   },
   {
    "duration": 12,
    "start_time": "2022-04-11T14:37:41.052Z"
   },
   {
    "duration": 609,
    "start_time": "2022-04-11T14:37:47.151Z"
   },
   {
    "duration": 22,
    "start_time": "2022-04-11T14:37:47.763Z"
   },
   {
    "duration": 9,
    "start_time": "2022-04-11T14:37:47.787Z"
   },
   {
    "duration": 48,
    "start_time": "2022-04-11T14:37:47.800Z"
   },
   {
    "duration": 20,
    "start_time": "2022-04-11T14:37:47.851Z"
   },
   {
    "duration": 18,
    "start_time": "2022-04-11T14:37:47.874Z"
   },
   {
    "duration": 69,
    "start_time": "2022-04-11T14:37:47.895Z"
   },
   {
    "duration": 11,
    "start_time": "2022-04-11T14:37:47.967Z"
   },
   {
    "duration": 67,
    "start_time": "2022-04-11T14:37:47.981Z"
   },
   {
    "duration": 61,
    "start_time": "2022-04-11T14:37:48.053Z"
   },
   {
    "duration": 14,
    "start_time": "2022-04-11T14:37:48.142Z"
   },
   {
    "duration": 596,
    "start_time": "2022-04-11T14:38:03.773Z"
   },
   {
    "duration": 20,
    "start_time": "2022-04-11T14:38:04.372Z"
   },
   {
    "duration": 9,
    "start_time": "2022-04-11T14:38:04.394Z"
   },
   {
    "duration": 41,
    "start_time": "2022-04-11T14:38:04.405Z"
   },
   {
    "duration": 17,
    "start_time": "2022-04-11T14:38:04.448Z"
   },
   {
    "duration": 17,
    "start_time": "2022-04-11T14:38:04.467Z"
   },
   {
    "duration": 76,
    "start_time": "2022-04-11T14:38:04.486Z"
   },
   {
    "duration": 8,
    "start_time": "2022-04-11T14:38:04.564Z"
   },
   {
    "duration": 13,
    "start_time": "2022-04-11T14:38:04.575Z"
   },
   {
    "duration": 103,
    "start_time": "2022-04-11T14:38:04.591Z"
   },
   {
    "duration": 12,
    "start_time": "2022-04-11T14:38:04.696Z"
   },
   {
    "duration": 509,
    "start_time": "2022-04-13T15:33:05.473Z"
   },
   {
    "duration": 15,
    "start_time": "2022-04-13T15:33:05.984Z"
   },
   {
    "duration": 19,
    "start_time": "2022-04-13T15:33:06.001Z"
   },
   {
    "duration": 15,
    "start_time": "2022-04-13T15:33:06.023Z"
   },
   {
    "duration": 19,
    "start_time": "2022-04-13T15:33:06.040Z"
   },
   {
    "duration": 13,
    "start_time": "2022-04-13T15:33:06.061Z"
   },
   {
    "duration": 43,
    "start_time": "2022-04-13T15:33:06.076Z"
   },
   {
    "duration": 7,
    "start_time": "2022-04-13T15:33:06.121Z"
   },
   {
    "duration": 18,
    "start_time": "2022-04-13T15:33:06.130Z"
   },
   {
    "duration": 68,
    "start_time": "2022-04-13T15:33:06.150Z"
   },
   {
    "duration": 10,
    "start_time": "2022-04-13T15:33:06.220Z"
   },
   {
    "duration": 11,
    "start_time": "2022-04-13T15:33:59.223Z"
   },
   {
    "duration": 511,
    "start_time": "2022-04-13T15:34:13.128Z"
   },
   {
    "duration": 15,
    "start_time": "2022-04-13T15:34:13.641Z"
   },
   {
    "duration": 6,
    "start_time": "2022-04-13T15:34:13.658Z"
   },
   {
    "duration": 14,
    "start_time": "2022-04-13T15:34:13.667Z"
   },
   {
    "duration": 45,
    "start_time": "2022-04-13T15:34:13.683Z"
   },
   {
    "duration": 14,
    "start_time": "2022-04-13T15:34:13.730Z"
   },
   {
    "duration": 19,
    "start_time": "2022-04-13T15:34:13.746Z"
   },
   {
    "duration": 7,
    "start_time": "2022-04-13T15:34:13.767Z"
   },
   {
    "duration": 50,
    "start_time": "2022-04-13T15:34:13.776Z"
   },
   {
    "duration": 49,
    "start_time": "2022-04-13T15:34:13.828Z"
   },
   {
    "duration": 9,
    "start_time": "2022-04-13T15:34:13.879Z"
   },
   {
    "duration": 14,
    "start_time": "2022-04-13T15:34:45.096Z"
   },
   {
    "duration": 505,
    "start_time": "2022-04-13T15:34:51.834Z"
   },
   {
    "duration": 16,
    "start_time": "2022-04-13T15:34:52.341Z"
   },
   {
    "duration": 22,
    "start_time": "2022-04-13T15:34:52.358Z"
   },
   {
    "duration": 15,
    "start_time": "2022-04-13T15:34:52.382Z"
   },
   {
    "duration": 34,
    "start_time": "2022-04-13T15:34:52.399Z"
   },
   {
    "duration": 13,
    "start_time": "2022-04-13T15:34:52.435Z"
   },
   {
    "duration": 17,
    "start_time": "2022-04-13T15:34:52.450Z"
   },
   {
    "duration": 13,
    "start_time": "2022-04-13T15:34:52.469Z"
   },
   {
    "duration": 36,
    "start_time": "2022-04-13T15:34:52.484Z"
   },
   {
    "duration": 47,
    "start_time": "2022-04-13T15:34:52.523Z"
   },
   {
    "duration": 9,
    "start_time": "2022-04-13T15:34:52.572Z"
   },
   {
    "duration": 541,
    "start_time": "2022-04-13T15:35:03.382Z"
   },
   {
    "duration": 15,
    "start_time": "2022-04-13T15:35:03.925Z"
   },
   {
    "duration": 11,
    "start_time": "2022-04-13T15:35:03.942Z"
   },
   {
    "duration": 12,
    "start_time": "2022-04-13T15:35:03.956Z"
   },
   {
    "duration": 16,
    "start_time": "2022-04-13T15:35:03.971Z"
   },
   {
    "duration": 14,
    "start_time": "2022-04-13T15:35:04.019Z"
   },
   {
    "duration": 19,
    "start_time": "2022-04-13T15:35:04.035Z"
   },
   {
    "duration": 7,
    "start_time": "2022-04-13T15:35:04.056Z"
   },
   {
    "duration": 53,
    "start_time": "2022-04-13T15:35:04.065Z"
   },
   {
    "duration": 46,
    "start_time": "2022-04-13T15:35:04.120Z"
   },
   {
    "duration": 9,
    "start_time": "2022-04-13T15:35:04.168Z"
   },
   {
    "duration": 18,
    "start_time": "2022-04-13T15:45:28.881Z"
   },
   {
    "duration": 19,
    "start_time": "2022-04-13T15:46:50.793Z"
   },
   {
    "duration": 20,
    "start_time": "2022-04-13T15:47:07.788Z"
   },
   {
    "duration": 22,
    "start_time": "2022-04-13T15:47:35.712Z"
   },
   {
    "duration": 45,
    "start_time": "2022-04-13T15:48:19.564Z"
   },
   {
    "duration": 20,
    "start_time": "2022-04-13T15:49:21.890Z"
   },
   {
    "duration": 10,
    "start_time": "2022-04-13T16:12:01.985Z"
   },
   {
    "duration": 10,
    "start_time": "2022-04-13T16:13:15.844Z"
   },
   {
    "duration": 73,
    "start_time": "2022-04-13T16:15:02.053Z"
   },
   {
    "duration": 16,
    "start_time": "2022-04-13T16:15:15.275Z"
   },
   {
    "duration": 24,
    "start_time": "2022-04-13T16:19:24.435Z"
   },
   {
    "duration": 13,
    "start_time": "2022-04-13T16:21:11.475Z"
   },
   {
    "duration": 13,
    "start_time": "2022-04-13T16:21:19.316Z"
   },
   {
    "duration": 12,
    "start_time": "2022-04-13T16:21:24.860Z"
   },
   {
    "duration": 12,
    "start_time": "2022-04-13T16:21:35.267Z"
   },
   {
    "duration": 12,
    "start_time": "2022-04-13T16:22:34.085Z"
   },
   {
    "duration": 13,
    "start_time": "2022-04-13T16:22:57.368Z"
   },
   {
    "duration": 13,
    "start_time": "2022-04-13T16:22:58.839Z"
   },
   {
    "duration": 575,
    "start_time": "2022-04-13T16:23:04.771Z"
   },
   {
    "duration": 15,
    "start_time": "2022-04-13T16:23:05.349Z"
   },
   {
    "duration": 6,
    "start_time": "2022-04-13T16:23:05.368Z"
   },
   {
    "duration": 21,
    "start_time": "2022-04-13T16:23:05.375Z"
   },
   {
    "duration": 31,
    "start_time": "2022-04-13T16:23:05.398Z"
   },
   {
    "duration": 21,
    "start_time": "2022-04-13T16:23:05.431Z"
   },
   {
    "duration": 24,
    "start_time": "2022-04-13T16:23:05.455Z"
   },
   {
    "duration": 7,
    "start_time": "2022-04-13T16:23:05.481Z"
   },
   {
    "duration": 72,
    "start_time": "2022-04-13T16:23:05.491Z"
   },
   {
    "duration": 18,
    "start_time": "2022-04-13T16:23:05.565Z"
   },
   {
    "duration": 47,
    "start_time": "2022-04-13T16:23:05.585Z"
   },
   {
    "duration": 49,
    "start_time": "2022-04-13T16:23:05.634Z"
   },
   {
    "duration": 33,
    "start_time": "2022-04-13T16:23:05.685Z"
   },
   {
    "duration": 11,
    "start_time": "2022-04-13T16:23:05.720Z"
   },
   {
    "duration": 26,
    "start_time": "2022-04-13T16:23:05.732Z"
   },
   {
    "duration": 21,
    "start_time": "2022-04-13T16:31:33.041Z"
   },
   {
    "duration": 26,
    "start_time": "2022-04-13T16:33:22.262Z"
   },
   {
    "duration": 75,
    "start_time": "2022-04-13T18:12:02.832Z"
   },
   {
    "duration": 20,
    "start_time": "2022-04-13T18:12:18.201Z"
   },
   {
    "duration": 9,
    "start_time": "2022-04-13T18:12:37.637Z"
   },
   {
    "duration": 139,
    "start_time": "2022-04-13T18:44:10.461Z"
   },
   {
    "duration": 167,
    "start_time": "2022-04-13T18:44:23.959Z"
   },
   {
    "duration": 130,
    "start_time": "2022-04-13T18:44:30.483Z"
   },
   {
    "duration": 843,
    "start_time": "2022-04-13T18:44:39.473Z"
   },
   {
    "duration": 572,
    "start_time": "2022-04-13T18:45:14.578Z"
   },
   {
    "duration": 526,
    "start_time": "2022-04-13T18:45:21.051Z"
   },
   {
    "duration": 16,
    "start_time": "2022-04-13T18:45:21.579Z"
   },
   {
    "duration": 25,
    "start_time": "2022-04-13T18:45:21.597Z"
   },
   {
    "duration": 14,
    "start_time": "2022-04-13T18:45:21.625Z"
   },
   {
    "duration": 18,
    "start_time": "2022-04-13T18:45:21.641Z"
   },
   {
    "duration": 19,
    "start_time": "2022-04-13T18:45:21.661Z"
   },
   {
    "duration": 53,
    "start_time": "2022-04-13T18:45:21.682Z"
   },
   {
    "duration": 9,
    "start_time": "2022-04-13T18:45:21.737Z"
   },
   {
    "duration": 92,
    "start_time": "2022-04-13T18:45:21.748Z"
   },
   {
    "duration": 28,
    "start_time": "2022-04-13T18:45:21.844Z"
   },
   {
    "duration": 52,
    "start_time": "2022-04-13T18:45:21.875Z"
   },
   {
    "duration": 89,
    "start_time": "2022-04-13T18:45:21.929Z"
   },
   {
    "duration": 12,
    "start_time": "2022-04-13T18:45:22.021Z"
   },
   {
    "duration": 16,
    "start_time": "2022-04-13T18:45:22.035Z"
   },
   {
    "duration": 22,
    "start_time": "2022-04-13T18:45:22.053Z"
   },
   {
    "duration": 58,
    "start_time": "2022-04-13T18:45:22.077Z"
   },
   {
    "duration": 12,
    "start_time": "2022-04-13T18:45:22.138Z"
   },
   {
    "duration": 615,
    "start_time": "2022-04-13T18:45:22.152Z"
   },
   {
    "duration": 568,
    "start_time": "2022-04-13T18:49:43.115Z"
   },
   {
    "duration": 40,
    "start_time": "2022-04-13T18:51:35.954Z"
   },
   {
    "duration": 19,
    "start_time": "2022-04-13T19:04:22.724Z"
   },
   {
    "duration": 24,
    "start_time": "2022-04-13T19:05:21.792Z"
   },
   {
    "duration": 12,
    "start_time": "2022-04-13T19:13:37.009Z"
   },
   {
    "duration": 18,
    "start_time": "2022-04-13T19:14:32.219Z"
   },
   {
    "duration": 656,
    "start_time": "2022-04-13T19:14:38.345Z"
   },
   {
    "duration": 26,
    "start_time": "2022-04-13T19:14:39.004Z"
   },
   {
    "duration": 6,
    "start_time": "2022-04-13T19:14:39.032Z"
   },
   {
    "duration": 23,
    "start_time": "2022-04-13T19:14:39.040Z"
   },
   {
    "duration": 22,
    "start_time": "2022-04-13T19:14:39.065Z"
   },
   {
    "duration": 39,
    "start_time": "2022-04-13T19:14:39.089Z"
   },
   {
    "duration": 19,
    "start_time": "2022-04-13T19:14:39.131Z"
   },
   {
    "duration": 8,
    "start_time": "2022-04-13T19:14:39.152Z"
   },
   {
    "duration": 86,
    "start_time": "2022-04-13T19:14:39.162Z"
   },
   {
    "duration": 20,
    "start_time": "2022-04-13T19:14:39.252Z"
   },
   {
    "duration": 46,
    "start_time": "2022-04-13T19:14:39.274Z"
   },
   {
    "duration": 94,
    "start_time": "2022-04-13T19:14:39.323Z"
   },
   {
    "duration": 13,
    "start_time": "2022-04-13T19:14:39.419Z"
   },
   {
    "duration": 24,
    "start_time": "2022-04-13T19:14:39.434Z"
   },
   {
    "duration": 34,
    "start_time": "2022-04-13T19:14:39.460Z"
   },
   {
    "duration": 46,
    "start_time": "2022-04-13T19:14:39.497Z"
   },
   {
    "duration": 10,
    "start_time": "2022-04-13T19:14:39.545Z"
   },
   {
    "duration": 44,
    "start_time": "2022-04-13T19:14:39.557Z"
   },
   {
    "duration": 35,
    "start_time": "2022-04-13T19:14:39.603Z"
   },
   {
    "duration": 25,
    "start_time": "2022-04-13T19:14:57.327Z"
   },
   {
    "duration": 1682,
    "start_time": "2022-04-13T19:16:40.929Z"
   },
   {
    "duration": 2228,
    "start_time": "2022-04-13T19:16:59.056Z"
   },
   {
    "duration": 23,
    "start_time": "2022-04-13T19:17:11.514Z"
   },
   {
    "duration": 35,
    "start_time": "2022-04-13T19:24:06.674Z"
   },
   {
    "duration": 39,
    "start_time": "2022-04-13T19:26:04.787Z"
   },
   {
    "duration": 37,
    "start_time": "2022-04-13T19:26:21.758Z"
   },
   {
    "duration": 43,
    "start_time": "2022-04-13T19:31:15.904Z"
   },
   {
    "duration": 40,
    "start_time": "2022-04-13T19:32:11.197Z"
   },
   {
    "duration": 38,
    "start_time": "2022-04-13T19:32:23.462Z"
   },
   {
    "duration": 35,
    "start_time": "2022-04-13T19:32:45.266Z"
   },
   {
    "duration": 140,
    "start_time": "2022-04-13T19:38:06.652Z"
   },
   {
    "duration": 1862,
    "start_time": "2022-04-13T19:38:13.743Z"
   },
   {
    "duration": 19,
    "start_time": "2022-04-13T19:38:30.436Z"
   },
   {
    "duration": 26,
    "start_time": "2022-04-13T19:38:42.599Z"
   },
   {
    "duration": 2169,
    "start_time": "2022-04-13T19:39:39.179Z"
   },
   {
    "duration": 2388,
    "start_time": "2022-04-13T19:39:49.795Z"
   },
   {
    "duration": 20,
    "start_time": "2022-04-13T19:40:03.039Z"
   },
   {
    "duration": 27,
    "start_time": "2022-04-13T19:42:57.138Z"
   },
   {
    "duration": 28,
    "start_time": "2022-04-13T19:43:01.312Z"
   },
   {
    "duration": 44,
    "start_time": "2022-04-13T19:43:06.896Z"
   },
   {
    "duration": 42,
    "start_time": "2022-04-13T19:43:29.862Z"
   },
   {
    "duration": 24,
    "start_time": "2022-04-13T19:44:33.140Z"
   },
   {
    "duration": 30,
    "start_time": "2022-04-13T19:45:43.063Z"
   },
   {
    "duration": 26,
    "start_time": "2022-04-13T19:47:07.938Z"
   },
   {
    "duration": 19,
    "start_time": "2022-04-13T19:50:36.236Z"
   },
   {
    "duration": 19,
    "start_time": "2022-04-13T19:51:40.908Z"
   },
   {
    "duration": 22,
    "start_time": "2022-04-13T19:52:52.258Z"
   },
   {
    "duration": 24,
    "start_time": "2022-04-13T19:54:55.932Z"
   },
   {
    "duration": 23,
    "start_time": "2022-04-13T19:55:29.156Z"
   },
   {
    "duration": 21,
    "start_time": "2022-04-13T19:55:57.276Z"
   },
   {
    "duration": 21,
    "start_time": "2022-04-13T19:56:09.056Z"
   },
   {
    "duration": 19,
    "start_time": "2022-04-13T19:57:56.076Z"
   },
   {
    "duration": 21,
    "start_time": "2022-04-13T19:58:15.267Z"
   },
   {
    "duration": 22,
    "start_time": "2022-04-13T19:58:27.926Z"
   },
   {
    "duration": 23,
    "start_time": "2022-04-13T19:59:36.334Z"
   },
   {
    "duration": 691,
    "start_time": "2022-04-13T20:02:15.084Z"
   },
   {
    "duration": 17,
    "start_time": "2022-04-13T20:02:15.778Z"
   },
   {
    "duration": 31,
    "start_time": "2022-04-13T20:02:15.798Z"
   },
   {
    "duration": 14,
    "start_time": "2022-04-13T20:02:15.832Z"
   },
   {
    "duration": 19,
    "start_time": "2022-04-13T20:02:15.848Z"
   },
   {
    "duration": 50,
    "start_time": "2022-04-13T20:02:15.869Z"
   },
   {
    "duration": 31,
    "start_time": "2022-04-13T20:02:15.921Z"
   },
   {
    "duration": 10,
    "start_time": "2022-04-13T20:02:15.955Z"
   },
   {
    "duration": 111,
    "start_time": "2022-04-13T20:02:15.967Z"
   },
   {
    "duration": 43,
    "start_time": "2022-04-13T20:02:16.082Z"
   },
   {
    "duration": 27,
    "start_time": "2022-04-13T20:02:16.128Z"
   },
   {
    "duration": 114,
    "start_time": "2022-04-13T20:02:16.158Z"
   },
   {
    "duration": 15,
    "start_time": "2022-04-13T20:02:16.275Z"
   },
   {
    "duration": 35,
    "start_time": "2022-04-13T20:02:16.292Z"
   },
   {
    "duration": 20,
    "start_time": "2022-04-13T20:02:16.329Z"
   },
   {
    "duration": 33,
    "start_time": "2022-04-13T20:02:16.351Z"
   },
   {
    "duration": 10,
    "start_time": "2022-04-13T20:02:16.418Z"
   },
   {
    "duration": 45,
    "start_time": "2022-04-13T20:02:16.430Z"
   },
   {
    "duration": 167,
    "start_time": "2022-04-13T20:02:16.477Z"
   },
   {
    "duration": 0,
    "start_time": "2022-04-13T20:02:16.647Z"
   },
   {
    "duration": 0,
    "start_time": "2022-04-13T20:02:16.649Z"
   },
   {
    "duration": 0,
    "start_time": "2022-04-13T20:02:16.650Z"
   },
   {
    "duration": 524,
    "start_time": "2022-04-13T20:02:47.222Z"
   },
   {
    "duration": 22,
    "start_time": "2022-04-13T20:02:47.748Z"
   },
   {
    "duration": 7,
    "start_time": "2022-04-13T20:02:47.772Z"
   },
   {
    "duration": 38,
    "start_time": "2022-04-13T20:02:47.782Z"
   },
   {
    "duration": 25,
    "start_time": "2022-04-13T20:02:47.823Z"
   },
   {
    "duration": 20,
    "start_time": "2022-04-13T20:02:47.850Z"
   },
   {
    "duration": 60,
    "start_time": "2022-04-13T20:02:47.873Z"
   },
   {
    "duration": 8,
    "start_time": "2022-04-13T20:02:47.935Z"
   },
   {
    "duration": 78,
    "start_time": "2022-04-13T20:02:47.944Z"
   },
   {
    "duration": 30,
    "start_time": "2022-04-13T20:02:48.025Z"
   },
   {
    "duration": 35,
    "start_time": "2022-04-13T20:02:48.057Z"
   },
   {
    "duration": 79,
    "start_time": "2022-04-13T20:02:48.119Z"
   },
   {
    "duration": 26,
    "start_time": "2022-04-13T20:02:48.201Z"
   },
   {
    "duration": 14,
    "start_time": "2022-04-13T20:02:48.229Z"
   },
   {
    "duration": 30,
    "start_time": "2022-04-13T20:02:48.245Z"
   },
   {
    "duration": 75,
    "start_time": "2022-04-13T20:02:48.278Z"
   },
   {
    "duration": 12,
    "start_time": "2022-04-13T20:02:48.355Z"
   },
   {
    "duration": 69,
    "start_time": "2022-04-13T20:02:48.369Z"
   },
   {
    "duration": 32,
    "start_time": "2022-04-13T20:02:48.441Z"
   },
   {
    "duration": 48,
    "start_time": "2022-04-13T20:02:48.475Z"
   },
   {
    "duration": 29,
    "start_time": "2022-04-13T20:02:48.526Z"
   },
   {
    "duration": 23,
    "start_time": "2022-04-13T20:02:48.558Z"
   },
   {
    "duration": 131,
    "start_time": "2022-04-14T07:00:19.188Z"
   },
   {
    "duration": 620,
    "start_time": "2022-04-14T07:00:36.766Z"
   },
   {
    "duration": 20,
    "start_time": "2022-04-14T07:00:37.389Z"
   },
   {
    "duration": 9,
    "start_time": "2022-04-14T07:00:37.411Z"
   },
   {
    "duration": 8,
    "start_time": "2022-04-14T07:00:37.423Z"
   },
   {
    "duration": 63,
    "start_time": "2022-04-14T07:00:37.433Z"
   },
   {
    "duration": 15,
    "start_time": "2022-04-14T07:00:37.498Z"
   },
   {
    "duration": 25,
    "start_time": "2022-04-14T07:00:37.515Z"
   },
   {
    "duration": 53,
    "start_time": "2022-04-14T07:00:37.542Z"
   },
   {
    "duration": 61,
    "start_time": "2022-04-14T07:00:37.598Z"
   },
   {
    "duration": 49,
    "start_time": "2022-04-14T07:00:37.663Z"
   },
   {
    "duration": 27,
    "start_time": "2022-04-14T07:00:37.714Z"
   },
   {
    "duration": 92,
    "start_time": "2022-04-14T07:00:37.743Z"
   },
   {
    "duration": 13,
    "start_time": "2022-04-14T07:00:37.837Z"
   },
   {
    "duration": 18,
    "start_time": "2022-04-14T07:00:37.852Z"
   },
   {
    "duration": 32,
    "start_time": "2022-04-14T07:00:37.892Z"
   },
   {
    "duration": 35,
    "start_time": "2022-04-14T07:00:37.926Z"
   },
   {
    "duration": 35,
    "start_time": "2022-04-14T07:00:37.963Z"
   },
   {
    "duration": 35,
    "start_time": "2022-04-14T07:00:38.000Z"
   },
   {
    "duration": 65,
    "start_time": "2022-04-14T07:00:38.038Z"
   },
   {
    "duration": 32,
    "start_time": "2022-04-14T07:00:38.106Z"
   },
   {
    "duration": 54,
    "start_time": "2022-04-14T07:00:38.140Z"
   },
   {
    "duration": 27,
    "start_time": "2022-04-14T07:00:38.196Z"
   },
   {
    "duration": 38,
    "start_time": "2022-04-14T07:00:59.529Z"
   },
   {
    "duration": 98,
    "start_time": "2022-04-14T07:03:13.720Z"
   },
   {
    "duration": 0,
    "start_time": "2022-04-14T07:03:22.211Z"
   },
   {
    "duration": 3427,
    "start_time": "2022-04-14T07:03:29.114Z"
   },
   {
    "duration": 15,
    "start_time": "2022-04-14T07:03:49.874Z"
   },
   {
    "duration": 15,
    "start_time": "2022-04-14T07:04:08.370Z"
   },
   {
    "duration": 675,
    "start_time": "2022-04-14T07:04:23.383Z"
   },
   {
    "duration": 37,
    "start_time": "2022-04-14T07:04:24.061Z"
   },
   {
    "duration": 12,
    "start_time": "2022-04-14T07:04:24.101Z"
   },
   {
    "duration": 7,
    "start_time": "2022-04-14T07:04:24.116Z"
   },
   {
    "duration": 20,
    "start_time": "2022-04-14T07:04:24.125Z"
   },
   {
    "duration": 67,
    "start_time": "2022-04-14T07:04:24.147Z"
   },
   {
    "duration": 24,
    "start_time": "2022-04-14T07:04:24.216Z"
   },
   {
    "duration": 8,
    "start_time": "2022-04-14T07:04:24.242Z"
   },
   {
    "duration": 105,
    "start_time": "2022-04-14T07:04:24.253Z"
   },
   {
    "duration": 51,
    "start_time": "2022-04-14T07:04:24.361Z"
   },
   {
    "duration": 33,
    "start_time": "2022-04-14T07:04:24.414Z"
   },
   {
    "duration": 91,
    "start_time": "2022-04-14T07:04:24.449Z"
   },
   {
    "duration": 11,
    "start_time": "2022-04-14T07:04:24.542Z"
   },
   {
    "duration": 14,
    "start_time": "2022-04-14T07:04:24.555Z"
   },
   {
    "duration": 26,
    "start_time": "2022-04-14T07:04:24.595Z"
   },
   {
    "duration": 36,
    "start_time": "2022-04-14T07:04:24.623Z"
   },
   {
    "duration": 16,
    "start_time": "2022-04-14T07:04:24.695Z"
   },
   {
    "duration": 38,
    "start_time": "2022-04-14T07:04:24.713Z"
   },
   {
    "duration": 34,
    "start_time": "2022-04-14T07:04:24.793Z"
   },
   {
    "duration": 69,
    "start_time": "2022-04-14T07:04:24.829Z"
   },
   {
    "duration": 30,
    "start_time": "2022-04-14T07:04:24.901Z"
   },
   {
    "duration": 27,
    "start_time": "2022-04-14T07:04:24.932Z"
   },
   {
    "duration": 601,
    "start_time": "2022-04-14T07:20:44.666Z"
   },
   {
    "duration": 35,
    "start_time": "2022-04-14T07:20:45.270Z"
   },
   {
    "duration": 22,
    "start_time": "2022-04-14T07:20:45.307Z"
   },
   {
    "duration": 19,
    "start_time": "2022-04-14T07:20:45.332Z"
   },
   {
    "duration": 43,
    "start_time": "2022-04-14T07:20:45.353Z"
   },
   {
    "duration": 15,
    "start_time": "2022-04-14T07:20:45.398Z"
   },
   {
    "duration": 19,
    "start_time": "2022-04-14T07:20:45.415Z"
   },
   {
    "duration": 58,
    "start_time": "2022-04-14T07:20:45.436Z"
   },
   {
    "duration": 25,
    "start_time": "2022-04-14T07:20:45.497Z"
   },
   {
    "duration": 9,
    "start_time": "2022-04-14T07:20:45.525Z"
   },
   {
    "duration": 102,
    "start_time": "2022-04-14T07:20:45.536Z"
   },
   {
    "duration": 23,
    "start_time": "2022-04-14T07:20:45.640Z"
   },
   {
    "duration": 50,
    "start_time": "2022-04-14T07:20:45.666Z"
   },
   {
    "duration": 96,
    "start_time": "2022-04-14T07:20:45.718Z"
   },
   {
    "duration": 12,
    "start_time": "2022-04-14T07:20:45.816Z"
   },
   {
    "duration": 13,
    "start_time": "2022-04-14T07:20:45.830Z"
   },
   {
    "duration": 63,
    "start_time": "2022-04-14T07:20:45.845Z"
   },
   {
    "duration": 38,
    "start_time": "2022-04-14T07:20:45.910Z"
   },
   {
    "duration": 43,
    "start_time": "2022-04-14T07:20:45.951Z"
   },
   {
    "duration": 37,
    "start_time": "2022-04-14T07:20:45.996Z"
   },
   {
    "duration": 73,
    "start_time": "2022-04-14T07:20:46.036Z"
   },
   {
    "duration": 43,
    "start_time": "2022-04-14T07:20:46.112Z"
   },
   {
    "duration": 61,
    "start_time": "2022-04-14T07:20:46.158Z"
   },
   {
    "duration": 31,
    "start_time": "2022-04-14T07:20:46.221Z"
   },
   {
    "duration": 206,
    "start_time": "2022-04-14T07:22:38.659Z"
   },
   {
    "duration": 14,
    "start_time": "2022-04-14T07:35:27.418Z"
   },
   {
    "duration": 166,
    "start_time": "2022-04-14T07:47:31.345Z"
   },
   {
    "duration": 19,
    "start_time": "2022-04-14T07:47:55.114Z"
   },
   {
    "duration": 743,
    "start_time": "2022-04-14T07:48:10.422Z"
   },
   {
    "duration": 33,
    "start_time": "2022-04-14T07:48:11.167Z"
   },
   {
    "duration": 22,
    "start_time": "2022-04-14T07:48:11.202Z"
   },
   {
    "duration": 20,
    "start_time": "2022-04-14T07:48:11.228Z"
   },
   {
    "duration": 203,
    "start_time": "2022-04-14T07:48:11.250Z"
   },
   {
    "duration": 0,
    "start_time": "2022-04-14T07:48:11.456Z"
   },
   {
    "duration": 0,
    "start_time": "2022-04-14T07:48:11.457Z"
   },
   {
    "duration": 0,
    "start_time": "2022-04-14T07:48:11.459Z"
   },
   {
    "duration": 0,
    "start_time": "2022-04-14T07:48:11.460Z"
   },
   {
    "duration": 0,
    "start_time": "2022-04-14T07:48:11.462Z"
   },
   {
    "duration": 0,
    "start_time": "2022-04-14T07:48:11.463Z"
   },
   {
    "duration": 0,
    "start_time": "2022-04-14T07:48:11.466Z"
   },
   {
    "duration": 0,
    "start_time": "2022-04-14T07:48:11.468Z"
   },
   {
    "duration": 0,
    "start_time": "2022-04-14T07:48:11.469Z"
   },
   {
    "duration": 0,
    "start_time": "2022-04-14T07:48:11.471Z"
   },
   {
    "duration": 0,
    "start_time": "2022-04-14T07:48:11.472Z"
   },
   {
    "duration": 0,
    "start_time": "2022-04-14T07:48:11.474Z"
   },
   {
    "duration": 0,
    "start_time": "2022-04-14T07:48:11.475Z"
   },
   {
    "duration": 0,
    "start_time": "2022-04-14T07:48:11.477Z"
   },
   {
    "duration": 1,
    "start_time": "2022-04-14T07:48:11.478Z"
   },
   {
    "duration": 0,
    "start_time": "2022-04-14T07:48:11.481Z"
   },
   {
    "duration": 0,
    "start_time": "2022-04-14T07:48:11.482Z"
   },
   {
    "duration": 0,
    "start_time": "2022-04-14T07:48:11.483Z"
   },
   {
    "duration": 0,
    "start_time": "2022-04-14T07:48:11.485Z"
   },
   {
    "duration": 0,
    "start_time": "2022-04-14T07:48:11.486Z"
   },
   {
    "duration": 587,
    "start_time": "2022-04-14T07:48:30.901Z"
   },
   {
    "duration": 31,
    "start_time": "2022-04-14T07:48:31.491Z"
   },
   {
    "duration": 22,
    "start_time": "2022-04-14T07:48:31.525Z"
   },
   {
    "duration": 50,
    "start_time": "2022-04-14T07:48:31.550Z"
   },
   {
    "duration": 8,
    "start_time": "2022-04-14T07:48:31.602Z"
   },
   {
    "duration": 11,
    "start_time": "2022-04-14T07:48:31.612Z"
   },
   {
    "duration": 32,
    "start_time": "2022-04-14T07:48:31.626Z"
   },
   {
    "duration": 47,
    "start_time": "2022-04-14T07:48:31.660Z"
   },
   {
    "duration": 24,
    "start_time": "2022-04-14T07:48:31.710Z"
   },
   {
    "duration": 15,
    "start_time": "2022-04-14T07:48:31.738Z"
   },
   {
    "duration": 98,
    "start_time": "2022-04-14T07:48:31.756Z"
   },
   {
    "duration": 47,
    "start_time": "2022-04-14T07:48:31.857Z"
   },
   {
    "duration": 29,
    "start_time": "2022-04-14T07:48:31.907Z"
   },
   {
    "duration": 108,
    "start_time": "2022-04-14T07:48:31.938Z"
   },
   {
    "duration": 13,
    "start_time": "2022-04-14T07:48:32.049Z"
   },
   {
    "duration": 52,
    "start_time": "2022-04-14T07:48:32.064Z"
   },
   {
    "duration": 25,
    "start_time": "2022-04-14T07:48:32.118Z"
   },
   {
    "duration": 60,
    "start_time": "2022-04-14T07:48:32.145Z"
   },
   {
    "duration": 10,
    "start_time": "2022-04-14T07:48:32.207Z"
   },
   {
    "duration": 39,
    "start_time": "2022-04-14T07:48:32.219Z"
   },
   {
    "duration": 60,
    "start_time": "2022-04-14T07:48:32.260Z"
   },
   {
    "duration": 33,
    "start_time": "2022-04-14T07:48:32.322Z"
   },
   {
    "duration": 59,
    "start_time": "2022-04-14T07:48:32.358Z"
   },
   {
    "duration": 27,
    "start_time": "2022-04-14T07:48:32.419Z"
   },
   {
    "duration": 107,
    "start_time": "2022-04-14T07:52:29.705Z"
   },
   {
    "duration": 774,
    "start_time": "2022-04-14T07:52:46.119Z"
   },
   {
    "duration": 43,
    "start_time": "2022-04-14T07:52:46.897Z"
   },
   {
    "duration": 50,
    "start_time": "2022-04-14T07:52:46.943Z"
   },
   {
    "duration": 21,
    "start_time": "2022-04-14T07:52:46.997Z"
   },
   {
    "duration": 12,
    "start_time": "2022-04-14T07:52:47.021Z"
   },
   {
    "duration": 18,
    "start_time": "2022-04-14T07:52:47.035Z"
   },
   {
    "duration": 54,
    "start_time": "2022-04-14T07:52:47.055Z"
   },
   {
    "duration": 19,
    "start_time": "2022-04-14T07:52:47.111Z"
   },
   {
    "duration": 70,
    "start_time": "2022-04-14T07:52:47.133Z"
   },
   {
    "duration": 9,
    "start_time": "2022-04-14T07:52:47.207Z"
   },
   {
    "duration": 121,
    "start_time": "2022-04-14T07:52:47.219Z"
   },
   {
    "duration": 53,
    "start_time": "2022-04-14T07:52:47.342Z"
   },
   {
    "duration": 27,
    "start_time": "2022-04-14T07:52:47.397Z"
   },
   {
    "duration": 97,
    "start_time": "2022-04-14T07:52:47.426Z"
   },
   {
    "duration": 12,
    "start_time": "2022-04-14T07:52:47.525Z"
   },
   {
    "duration": 23,
    "start_time": "2022-04-14T07:52:47.540Z"
   },
   {
    "duration": 48,
    "start_time": "2022-04-14T07:52:47.565Z"
   },
   {
    "duration": 36,
    "start_time": "2022-04-14T07:52:47.615Z"
   },
   {
    "duration": 41,
    "start_time": "2022-04-14T07:52:47.653Z"
   },
   {
    "duration": 35,
    "start_time": "2022-04-14T07:52:47.697Z"
   },
   {
    "duration": 73,
    "start_time": "2022-04-14T07:52:47.734Z"
   },
   {
    "duration": 36,
    "start_time": "2022-04-14T07:52:47.809Z"
   },
   {
    "duration": 59,
    "start_time": "2022-04-14T07:52:47.848Z"
   },
   {
    "duration": 38,
    "start_time": "2022-04-14T07:52:47.910Z"
   },
   {
    "duration": 562,
    "start_time": "2022-04-14T07:53:57.240Z"
   },
   {
    "duration": 34,
    "start_time": "2022-04-14T07:53:57.805Z"
   },
   {
    "duration": 55,
    "start_time": "2022-04-14T07:53:57.841Z"
   },
   {
    "duration": 21,
    "start_time": "2022-04-14T07:53:57.899Z"
   },
   {
    "duration": 9,
    "start_time": "2022-04-14T07:53:57.925Z"
   },
   {
    "duration": 59,
    "start_time": "2022-04-14T07:53:57.937Z"
   },
   {
    "duration": 21,
    "start_time": "2022-04-14T07:53:57.999Z"
   },
   {
    "duration": 20,
    "start_time": "2022-04-14T07:53:58.023Z"
   },
   {
    "duration": 69,
    "start_time": "2022-04-14T07:53:58.047Z"
   },
   {
    "duration": 10,
    "start_time": "2022-04-14T07:53:58.119Z"
   },
   {
    "duration": 108,
    "start_time": "2022-04-14T07:53:58.132Z"
   },
   {
    "duration": 23,
    "start_time": "2022-04-14T07:53:58.242Z"
   },
   {
    "duration": 44,
    "start_time": "2022-04-14T07:53:58.267Z"
   },
   {
    "duration": 92,
    "start_time": "2022-04-14T07:53:58.315Z"
   },
   {
    "duration": 17,
    "start_time": "2022-04-14T07:53:58.410Z"
   },
   {
    "duration": 17,
    "start_time": "2022-04-14T07:53:58.429Z"
   },
   {
    "duration": 58,
    "start_time": "2022-04-14T07:53:58.448Z"
   },
   {
    "duration": 38,
    "start_time": "2022-04-14T07:53:58.509Z"
   },
   {
    "duration": 10,
    "start_time": "2022-04-14T07:53:58.549Z"
   },
   {
    "duration": 39,
    "start_time": "2022-04-14T07:53:58.594Z"
   },
   {
    "duration": 71,
    "start_time": "2022-04-14T07:53:58.636Z"
   },
   {
    "duration": 33,
    "start_time": "2022-04-14T07:53:58.710Z"
   },
   {
    "duration": 63,
    "start_time": "2022-04-14T07:53:58.746Z"
   },
   {
    "duration": 28,
    "start_time": "2022-04-14T07:53:58.812Z"
   },
   {
    "duration": 10,
    "start_time": "2022-04-14T07:57:21.580Z"
   },
   {
    "duration": 9,
    "start_time": "2022-04-14T07:57:55.024Z"
   },
   {
    "duration": 634,
    "start_time": "2022-04-14T07:58:30.470Z"
   },
   {
    "duration": 32,
    "start_time": "2022-04-14T07:58:31.107Z"
   },
   {
    "duration": 29,
    "start_time": "2022-04-14T07:58:31.141Z"
   },
   {
    "duration": 38,
    "start_time": "2022-04-14T07:58:31.173Z"
   },
   {
    "duration": 8,
    "start_time": "2022-04-14T07:58:31.213Z"
   },
   {
    "duration": 16,
    "start_time": "2022-04-14T07:58:31.224Z"
   },
   {
    "duration": 50,
    "start_time": "2022-04-14T07:58:31.243Z"
   },
   {
    "duration": 22,
    "start_time": "2022-04-14T07:58:31.296Z"
   },
   {
    "duration": 33,
    "start_time": "2022-04-14T07:58:31.321Z"
   },
   {
    "duration": 24,
    "start_time": "2022-04-14T07:58:31.392Z"
   },
   {
    "duration": 17,
    "start_time": "2022-04-14T07:58:31.418Z"
   },
   {
    "duration": 95,
    "start_time": "2022-04-14T07:58:31.437Z"
   },
   {
    "duration": 22,
    "start_time": "2022-04-14T07:58:31.534Z"
   },
   {
    "duration": 48,
    "start_time": "2022-04-14T07:58:31.559Z"
   },
   {
    "duration": 90,
    "start_time": "2022-04-14T07:58:31.609Z"
   },
   {
    "duration": 16,
    "start_time": "2022-04-14T07:58:31.701Z"
   },
   {
    "duration": 20,
    "start_time": "2022-04-14T07:58:31.720Z"
   },
   {
    "duration": 62,
    "start_time": "2022-04-14T07:58:31.742Z"
   },
   {
    "duration": 46,
    "start_time": "2022-04-14T07:58:31.806Z"
   },
   {
    "duration": 10,
    "start_time": "2022-04-14T07:58:31.854Z"
   },
   {
    "duration": 37,
    "start_time": "2022-04-14T07:58:31.893Z"
   },
   {
    "duration": 74,
    "start_time": "2022-04-14T07:58:31.933Z"
   },
   {
    "duration": 34,
    "start_time": "2022-04-14T07:58:32.009Z"
   },
   {
    "duration": 66,
    "start_time": "2022-04-14T07:58:32.046Z"
   },
   {
    "duration": 30,
    "start_time": "2022-04-14T07:58:32.115Z"
   },
   {
    "duration": 7,
    "start_time": "2022-04-14T08:03:57.245Z"
   },
   {
    "duration": 6,
    "start_time": "2022-04-14T08:04:27.342Z"
   },
   {
    "duration": 6,
    "start_time": "2022-04-14T08:04:58.649Z"
   },
   {
    "duration": 18,
    "start_time": "2022-04-14T08:24:54.049Z"
   },
   {
    "duration": 10,
    "start_time": "2022-04-14T08:25:03.472Z"
   },
   {
    "duration": 11,
    "start_time": "2022-04-14T08:25:06.707Z"
   },
   {
    "duration": 33,
    "start_time": "2022-04-14T08:25:22.173Z"
   },
   {
    "duration": 31,
    "start_time": "2022-04-14T08:26:22.521Z"
   },
   {
    "duration": 610,
    "start_time": "2022-04-14T08:26:33.449Z"
   },
   {
    "duration": 32,
    "start_time": "2022-04-14T08:26:34.062Z"
   },
   {
    "duration": 22,
    "start_time": "2022-04-14T08:26:34.096Z"
   },
   {
    "duration": 20,
    "start_time": "2022-04-14T08:26:34.121Z"
   },
   {
    "duration": 7,
    "start_time": "2022-04-14T08:26:34.143Z"
   },
   {
    "duration": 7,
    "start_time": "2022-04-14T08:26:34.192Z"
   },
   {
    "duration": 37,
    "start_time": "2022-04-14T08:26:34.201Z"
   },
   {
    "duration": 61,
    "start_time": "2022-04-14T08:26:34.241Z"
   },
   {
    "duration": 17,
    "start_time": "2022-04-14T08:26:34.304Z"
   },
   {
    "duration": 23,
    "start_time": "2022-04-14T08:26:34.324Z"
   },
   {
    "duration": 45,
    "start_time": "2022-04-14T08:26:34.349Z"
   },
   {
    "duration": 72,
    "start_time": "2022-04-14T08:26:34.397Z"
   },
   {
    "duration": 42,
    "start_time": "2022-04-14T08:26:34.472Z"
   },
   {
    "duration": 25,
    "start_time": "2022-04-14T08:26:34.516Z"
   },
   {
    "duration": 103,
    "start_time": "2022-04-14T08:26:34.544Z"
   },
   {
    "duration": 16,
    "start_time": "2022-04-14T08:26:34.649Z"
   },
   {
    "duration": 38,
    "start_time": "2022-04-14T08:26:34.668Z"
   },
   {
    "duration": 22,
    "start_time": "2022-04-14T08:26:34.709Z"
   },
   {
    "duration": 71,
    "start_time": "2022-04-14T08:26:34.733Z"
   },
   {
    "duration": 9,
    "start_time": "2022-04-14T08:26:34.806Z"
   },
   {
    "duration": 36,
    "start_time": "2022-04-14T08:26:34.817Z"
   },
   {
    "duration": 57,
    "start_time": "2022-04-14T08:26:34.855Z"
   },
   {
    "duration": 32,
    "start_time": "2022-04-14T08:26:34.914Z"
   },
   {
    "duration": 65,
    "start_time": "2022-04-14T08:26:34.948Z"
   },
   {
    "duration": 34,
    "start_time": "2022-04-14T08:26:35.015Z"
   },
   {
    "duration": 33,
    "start_time": "2022-04-14T08:27:13.804Z"
   },
   {
    "duration": 11,
    "start_time": "2022-04-14T08:28:06.520Z"
   },
   {
    "duration": 31,
    "start_time": "2022-04-14T08:28:44.667Z"
   },
   {
    "duration": 25,
    "start_time": "2022-04-14T08:47:26.369Z"
   },
   {
    "duration": 616,
    "start_time": "2022-04-14T08:47:34.553Z"
   },
   {
    "duration": 31,
    "start_time": "2022-04-14T08:47:35.171Z"
   },
   {
    "duration": 22,
    "start_time": "2022-04-14T08:47:35.204Z"
   },
   {
    "duration": 21,
    "start_time": "2022-04-14T08:47:35.230Z"
   },
   {
    "duration": 45,
    "start_time": "2022-04-14T08:47:35.254Z"
   },
   {
    "duration": 19,
    "start_time": "2022-04-14T08:47:35.302Z"
   },
   {
    "duration": 27,
    "start_time": "2022-04-14T08:47:35.324Z"
   },
   {
    "duration": 20,
    "start_time": "2022-04-14T08:47:35.394Z"
   },
   {
    "duration": 19,
    "start_time": "2022-04-14T08:47:35.417Z"
   },
   {
    "duration": 64,
    "start_time": "2022-04-14T08:47:35.440Z"
   },
   {
    "duration": 9,
    "start_time": "2022-04-14T08:47:35.506Z"
   },
   {
    "duration": 88,
    "start_time": "2022-04-14T08:47:35.517Z"
   },
   {
    "duration": 21,
    "start_time": "2022-04-14T08:47:35.607Z"
   },
   {
    "duration": 30,
    "start_time": "2022-04-14T08:47:35.630Z"
   },
   {
    "duration": 86,
    "start_time": "2022-04-14T08:47:35.662Z"
   },
   {
    "duration": 43,
    "start_time": "2022-04-14T08:47:35.750Z"
   },
   {
    "duration": 18,
    "start_time": "2022-04-14T08:47:35.795Z"
   },
   {
    "duration": 25,
    "start_time": "2022-04-14T08:47:35.815Z"
   },
   {
    "duration": 80,
    "start_time": "2022-04-14T08:47:35.843Z"
   },
   {
    "duration": 10,
    "start_time": "2022-04-14T08:47:35.925Z"
   },
   {
    "duration": 65,
    "start_time": "2022-04-14T08:47:35.937Z"
   },
   {
    "duration": 29,
    "start_time": "2022-04-14T08:47:36.004Z"
   },
   {
    "duration": 65,
    "start_time": "2022-04-14T08:47:36.035Z"
   },
   {
    "duration": 29,
    "start_time": "2022-04-14T08:47:36.102Z"
   },
   {
    "duration": 62,
    "start_time": "2022-04-14T08:47:36.133Z"
   },
   {
    "duration": 6,
    "start_time": "2022-04-14T08:52:45.698Z"
   },
   {
    "duration": 27,
    "start_time": "2022-04-14T08:58:32.243Z"
   },
   {
    "duration": 30,
    "start_time": "2022-04-14T08:58:45.841Z"
   },
   {
    "duration": 540,
    "start_time": "2022-04-14T08:59:07.830Z"
   },
   {
    "duration": 29,
    "start_time": "2022-04-14T08:59:08.373Z"
   },
   {
    "duration": 20,
    "start_time": "2022-04-14T08:59:08.404Z"
   },
   {
    "duration": 19,
    "start_time": "2022-04-14T08:59:08.427Z"
   },
   {
    "duration": 45,
    "start_time": "2022-04-14T08:59:08.448Z"
   },
   {
    "duration": 6,
    "start_time": "2022-04-14T08:59:08.495Z"
   },
   {
    "duration": 29,
    "start_time": "2022-04-14T08:59:08.503Z"
   },
   {
    "duration": 6,
    "start_time": "2022-04-14T08:59:08.534Z"
   },
   {
    "duration": 56,
    "start_time": "2022-04-14T08:59:08.542Z"
   },
   {
    "duration": 16,
    "start_time": "2022-04-14T08:59:08.601Z"
   },
   {
    "duration": 40,
    "start_time": "2022-04-14T08:59:08.619Z"
   },
   {
    "duration": 33,
    "start_time": "2022-04-14T08:59:08.661Z"
   },
   {
    "duration": 60,
    "start_time": "2022-04-14T08:59:08.696Z"
   },
   {
    "duration": 47,
    "start_time": "2022-04-14T08:59:08.758Z"
   },
   {
    "duration": 23,
    "start_time": "2022-04-14T08:59:08.807Z"
   },
   {
    "duration": 96,
    "start_time": "2022-04-14T08:59:08.832Z"
   },
   {
    "duration": 16,
    "start_time": "2022-04-14T08:59:08.930Z"
   },
   {
    "duration": 16,
    "start_time": "2022-04-14T08:59:08.948Z"
   },
   {
    "duration": 22,
    "start_time": "2022-04-14T08:59:08.993Z"
   },
   {
    "duration": 34,
    "start_time": "2022-04-14T08:59:09.017Z"
   },
   {
    "duration": 41,
    "start_time": "2022-04-14T08:59:09.053Z"
   },
   {
    "duration": 35,
    "start_time": "2022-04-14T08:59:09.096Z"
   },
   {
    "duration": 65,
    "start_time": "2022-04-14T08:59:09.133Z"
   },
   {
    "duration": 31,
    "start_time": "2022-04-14T08:59:09.201Z"
   },
   {
    "duration": 25,
    "start_time": "2022-04-14T08:59:09.234Z"
   },
   {
    "duration": 28,
    "start_time": "2022-04-14T08:59:09.292Z"
   },
   {
    "duration": 31,
    "start_time": "2022-04-14T09:00:01.738Z"
   },
   {
    "duration": 546,
    "start_time": "2022-04-14T09:00:35.512Z"
   },
   {
    "duration": 29,
    "start_time": "2022-04-14T09:00:36.060Z"
   },
   {
    "duration": 20,
    "start_time": "2022-04-14T09:00:36.097Z"
   },
   {
    "duration": 23,
    "start_time": "2022-04-14T09:00:36.119Z"
   },
   {
    "duration": 7,
    "start_time": "2022-04-14T09:00:36.144Z"
   },
   {
    "duration": 7,
    "start_time": "2022-04-14T09:00:36.194Z"
   },
   {
    "duration": 33,
    "start_time": "2022-04-14T09:00:36.203Z"
   },
   {
    "duration": 8,
    "start_time": "2022-04-14T09:00:36.238Z"
   },
   {
    "duration": 21,
    "start_time": "2022-04-14T09:00:36.292Z"
   },
   {
    "duration": 16,
    "start_time": "2022-04-14T09:00:36.315Z"
   },
   {
    "duration": 61,
    "start_time": "2022-04-14T09:00:36.333Z"
   },
   {
    "duration": 8,
    "start_time": "2022-04-14T09:00:36.397Z"
   },
   {
    "duration": 86,
    "start_time": "2022-04-14T09:00:36.407Z"
   },
   {
    "duration": 22,
    "start_time": "2022-04-14T09:00:36.495Z"
   },
   {
    "duration": 28,
    "start_time": "2022-04-14T09:00:36.520Z"
   },
   {
    "duration": 98,
    "start_time": "2022-04-14T09:00:36.551Z"
   },
   {
    "duration": 15,
    "start_time": "2022-04-14T09:00:36.652Z"
   },
   {
    "duration": 37,
    "start_time": "2022-04-14T09:00:36.669Z"
   },
   {
    "duration": 23,
    "start_time": "2022-04-14T09:00:36.709Z"
   },
   {
    "duration": 70,
    "start_time": "2022-04-14T09:00:36.734Z"
   },
   {
    "duration": 10,
    "start_time": "2022-04-14T09:00:36.806Z"
   },
   {
    "duration": 37,
    "start_time": "2022-04-14T09:00:36.818Z"
   },
   {
    "duration": 61,
    "start_time": "2022-04-14T09:00:36.858Z"
   },
   {
    "duration": 31,
    "start_time": "2022-04-14T09:00:36.921Z"
   },
   {
    "duration": 63,
    "start_time": "2022-04-14T09:00:36.954Z"
   },
   {
    "duration": 28,
    "start_time": "2022-04-14T09:00:37.019Z"
   },
   {
    "duration": 213,
    "start_time": "2022-04-14T09:02:59.695Z"
   },
   {
    "duration": 7,
    "start_time": "2022-04-14T09:03:39.233Z"
   },
   {
    "duration": 569,
    "start_time": "2022-04-14T09:03:46.893Z"
   },
   {
    "duration": 32,
    "start_time": "2022-04-14T09:03:47.465Z"
   },
   {
    "duration": 24,
    "start_time": "2022-04-14T09:03:47.500Z"
   },
   {
    "duration": 22,
    "start_time": "2022-04-14T09:03:47.528Z"
   },
   {
    "duration": 9,
    "start_time": "2022-04-14T09:03:47.593Z"
   },
   {
    "duration": 20,
    "start_time": "2022-04-14T09:03:47.605Z"
   },
   {
    "duration": 46,
    "start_time": "2022-04-14T09:03:47.628Z"
   },
   {
    "duration": 7,
    "start_time": "2022-04-14T09:03:47.692Z"
   },
   {
    "duration": 31,
    "start_time": "2022-04-14T09:03:47.701Z"
   },
   {
    "duration": 19,
    "start_time": "2022-04-14T09:03:47.736Z"
   },
   {
    "duration": 48,
    "start_time": "2022-04-14T09:03:47.757Z"
   },
   {
    "duration": 8,
    "start_time": "2022-04-14T09:03:47.807Z"
   },
   {
    "duration": 89,
    "start_time": "2022-04-14T09:03:47.817Z"
   },
   {
    "duration": 22,
    "start_time": "2022-04-14T09:03:47.908Z"
   },
   {
    "duration": 25,
    "start_time": "2022-04-14T09:03:47.932Z"
   },
   {
    "duration": 96,
    "start_time": "2022-04-14T09:03:47.959Z"
   },
   {
    "duration": 36,
    "start_time": "2022-04-14T09:03:48.057Z"
   },
   {
    "duration": 16,
    "start_time": "2022-04-14T09:03:48.095Z"
   },
   {
    "duration": 23,
    "start_time": "2022-04-14T09:03:48.114Z"
   },
   {
    "duration": 78,
    "start_time": "2022-04-14T09:03:48.139Z"
   },
   {
    "duration": 10,
    "start_time": "2022-04-14T09:03:48.219Z"
   },
   {
    "duration": 68,
    "start_time": "2022-04-14T09:03:48.231Z"
   },
   {
    "duration": 28,
    "start_time": "2022-04-14T09:03:48.301Z"
   },
   {
    "duration": 63,
    "start_time": "2022-04-14T09:03:48.331Z"
   },
   {
    "duration": 27,
    "start_time": "2022-04-14T09:03:48.396Z"
   },
   {
    "duration": 26,
    "start_time": "2022-04-14T09:03:48.425Z"
   },
   {
    "duration": 537,
    "start_time": "2022-04-14T09:05:21.317Z"
   },
   {
    "duration": 36,
    "start_time": "2022-04-14T09:05:21.857Z"
   },
   {
    "duration": 21,
    "start_time": "2022-04-14T09:05:21.895Z"
   },
   {
    "duration": 19,
    "start_time": "2022-04-14T09:05:21.918Z"
   },
   {
    "duration": 10,
    "start_time": "2022-04-14T09:05:21.939Z"
   },
   {
    "duration": 43,
    "start_time": "2022-04-14T09:05:21.951Z"
   },
   {
    "duration": 29,
    "start_time": "2022-04-14T09:05:21.996Z"
   },
   {
    "duration": 6,
    "start_time": "2022-04-14T09:05:22.027Z"
   },
   {
    "duration": 59,
    "start_time": "2022-04-14T09:05:22.035Z"
   },
   {
    "duration": 16,
    "start_time": "2022-04-14T09:05:22.098Z"
   },
   {
    "duration": 23,
    "start_time": "2022-04-14T09:05:22.116Z"
   },
   {
    "duration": 52,
    "start_time": "2022-04-14T09:05:22.141Z"
   },
   {
    "duration": 58,
    "start_time": "2022-04-14T09:05:22.195Z"
   },
   {
    "duration": 41,
    "start_time": "2022-04-14T09:05:22.255Z"
   },
   {
    "duration": 26,
    "start_time": "2022-04-14T09:05:22.298Z"
   },
   {
    "duration": 90,
    "start_time": "2022-04-14T09:05:22.326Z"
   },
   {
    "duration": 16,
    "start_time": "2022-04-14T09:05:22.418Z"
   },
   {
    "duration": 17,
    "start_time": "2022-04-14T09:05:22.436Z"
   },
   {
    "duration": 57,
    "start_time": "2022-04-14T09:05:22.456Z"
   },
   {
    "duration": 34,
    "start_time": "2022-04-14T09:05:22.516Z"
   },
   {
    "duration": 43,
    "start_time": "2022-04-14T09:05:22.552Z"
   },
   {
    "duration": 34,
    "start_time": "2022-04-14T09:05:22.597Z"
   },
   {
    "duration": 65,
    "start_time": "2022-04-14T09:05:22.633Z"
   },
   {
    "duration": 31,
    "start_time": "2022-04-14T09:05:22.700Z"
   },
   {
    "duration": 25,
    "start_time": "2022-04-14T09:05:22.733Z"
   },
   {
    "duration": 26,
    "start_time": "2022-04-14T09:05:22.793Z"
   },
   {
    "duration": 6,
    "start_time": "2022-04-14T09:08:32.927Z"
   },
   {
    "duration": 12,
    "start_time": "2022-04-14T09:08:47.914Z"
   },
   {
    "duration": 686,
    "start_time": "2022-04-14T09:08:54.040Z"
   },
   {
    "duration": 29,
    "start_time": "2022-04-14T09:08:54.729Z"
   },
   {
    "duration": 35,
    "start_time": "2022-04-14T09:08:54.760Z"
   },
   {
    "duration": 19,
    "start_time": "2022-04-14T09:08:54.798Z"
   },
   {
    "duration": 7,
    "start_time": "2022-04-14T09:08:54.819Z"
   },
   {
    "duration": 10,
    "start_time": "2022-04-14T09:08:54.828Z"
   },
   {
    "duration": 73,
    "start_time": "2022-04-14T09:08:54.840Z"
   },
   {
    "duration": 10,
    "start_time": "2022-04-14T09:08:54.915Z"
   },
   {
    "duration": 6,
    "start_time": "2022-04-14T09:08:54.927Z"
   },
   {
    "duration": 59,
    "start_time": "2022-04-14T09:08:54.937Z"
   },
   {
    "duration": 19,
    "start_time": "2022-04-14T09:08:54.998Z"
   },
   {
    "duration": 23,
    "start_time": "2022-04-14T09:08:55.020Z"
   },
   {
    "duration": 8,
    "start_time": "2022-04-14T09:08:55.045Z"
   },
   {
    "duration": 57,
    "start_time": "2022-04-14T09:08:55.094Z"
   },
   {
    "duration": 50,
    "start_time": "2022-04-14T09:08:55.153Z"
   },
   {
    "duration": 23,
    "start_time": "2022-04-14T09:08:55.205Z"
   },
   {
    "duration": 94,
    "start_time": "2022-04-14T09:08:55.230Z"
   },
   {
    "duration": 16,
    "start_time": "2022-04-14T09:08:55.326Z"
   },
   {
    "duration": 16,
    "start_time": "2022-04-14T09:08:55.344Z"
   },
   {
    "duration": 21,
    "start_time": "2022-04-14T09:08:55.393Z"
   },
   {
    "duration": 34,
    "start_time": "2022-04-14T09:08:55.416Z"
   },
   {
    "duration": 47,
    "start_time": "2022-04-14T09:08:55.452Z"
   },
   {
    "duration": 35,
    "start_time": "2022-04-14T09:08:55.501Z"
   },
   {
    "duration": 62,
    "start_time": "2022-04-14T09:08:55.538Z"
   },
   {
    "duration": 31,
    "start_time": "2022-04-14T09:08:55.602Z"
   },
   {
    "duration": 59,
    "start_time": "2022-04-14T09:08:55.635Z"
   },
   {
    "duration": 27,
    "start_time": "2022-04-14T09:08:55.696Z"
   },
   {
    "duration": 27,
    "start_time": "2022-04-14T09:09:35.073Z"
   },
   {
    "duration": 552,
    "start_time": "2022-04-14T09:14:21.906Z"
   },
   {
    "duration": 39,
    "start_time": "2022-04-14T09:14:22.461Z"
   },
   {
    "duration": 21,
    "start_time": "2022-04-14T09:14:22.503Z"
   },
   {
    "duration": 20,
    "start_time": "2022-04-14T09:14:22.527Z"
   },
   {
    "duration": 46,
    "start_time": "2022-04-14T09:14:22.550Z"
   },
   {
    "duration": 8,
    "start_time": "2022-04-14T09:14:22.599Z"
   },
   {
    "duration": 29,
    "start_time": "2022-04-14T09:14:22.610Z"
   },
   {
    "duration": 70,
    "start_time": "2022-04-14T09:14:22.642Z"
   },
   {
    "duration": 10,
    "start_time": "2022-04-14T09:14:22.715Z"
   },
   {
    "duration": 17,
    "start_time": "2022-04-14T09:14:22.731Z"
   },
   {
    "duration": 17,
    "start_time": "2022-04-14T09:14:22.794Z"
   },
   {
    "duration": 23,
    "start_time": "2022-04-14T09:14:22.813Z"
   },
   {
    "duration": 8,
    "start_time": "2022-04-14T09:14:22.838Z"
   },
   {
    "duration": 105,
    "start_time": "2022-04-14T09:14:22.848Z"
   },
   {
    "duration": 43,
    "start_time": "2022-04-14T09:14:22.956Z"
   },
   {
    "duration": 25,
    "start_time": "2022-04-14T09:14:23.001Z"
   },
   {
    "duration": 97,
    "start_time": "2022-04-14T09:14:23.028Z"
   },
   {
    "duration": 16,
    "start_time": "2022-04-14T09:14:23.127Z"
   },
   {
    "duration": 15,
    "start_time": "2022-04-14T09:14:23.146Z"
   },
   {
    "duration": 23,
    "start_time": "2022-04-14T09:14:23.192Z"
   },
   {
    "duration": 38,
    "start_time": "2022-04-14T09:14:23.217Z"
   },
   {
    "duration": 11,
    "start_time": "2022-04-14T09:14:23.292Z"
   },
   {
    "duration": 37,
    "start_time": "2022-04-14T09:14:23.305Z"
   },
   {
    "duration": 63,
    "start_time": "2022-04-14T09:14:23.344Z"
   },
   {
    "duration": 32,
    "start_time": "2022-04-14T09:14:23.411Z"
   },
   {
    "duration": 60,
    "start_time": "2022-04-14T09:14:23.445Z"
   },
   {
    "duration": 27,
    "start_time": "2022-04-14T09:14:23.507Z"
   },
   {
    "duration": 7,
    "start_time": "2022-04-14T09:21:41.732Z"
   },
   {
    "duration": 545,
    "start_time": "2022-04-14T09:21:49.040Z"
   },
   {
    "duration": 30,
    "start_time": "2022-04-14T09:21:49.587Z"
   },
   {
    "duration": 21,
    "start_time": "2022-04-14T09:21:49.619Z"
   },
   {
    "duration": 50,
    "start_time": "2022-04-14T09:21:49.643Z"
   },
   {
    "duration": 7,
    "start_time": "2022-04-14T09:21:49.695Z"
   },
   {
    "duration": 8,
    "start_time": "2022-04-14T09:21:49.705Z"
   },
   {
    "duration": 29,
    "start_time": "2022-04-14T09:21:49.716Z"
   },
   {
    "duration": 21,
    "start_time": "2022-04-14T09:21:49.793Z"
   },
   {
    "duration": 10,
    "start_time": "2022-04-14T09:21:49.816Z"
   },
   {
    "duration": 12,
    "start_time": "2022-04-14T09:21:49.829Z"
   },
   {
    "duration": 7,
    "start_time": "2022-04-14T09:21:49.843Z"
   },
   {
    "duration": 56,
    "start_time": "2022-04-14T09:21:49.852Z"
   },
   {
    "duration": 29,
    "start_time": "2022-04-14T09:21:49.910Z"
   },
   {
    "duration": 52,
    "start_time": "2022-04-14T09:21:49.941Z"
   },
   {
    "duration": 63,
    "start_time": "2022-04-14T09:21:49.995Z"
   },
   {
    "duration": 41,
    "start_time": "2022-04-14T09:21:50.060Z"
   },
   {
    "duration": 27,
    "start_time": "2022-04-14T09:21:50.103Z"
   },
   {
    "duration": 91,
    "start_time": "2022-04-14T09:21:50.132Z"
   },
   {
    "duration": 15,
    "start_time": "2022-04-14T09:21:50.225Z"
   },
   {
    "duration": 16,
    "start_time": "2022-04-14T09:21:50.243Z"
   },
   {
    "duration": 50,
    "start_time": "2022-04-14T09:21:50.261Z"
   },
   {
    "duration": 39,
    "start_time": "2022-04-14T09:21:50.313Z"
   },
   {
    "duration": 42,
    "start_time": "2022-04-14T09:21:50.354Z"
   },
   {
    "duration": 36,
    "start_time": "2022-04-14T09:21:50.398Z"
   },
   {
    "duration": 70,
    "start_time": "2022-04-14T09:21:50.436Z"
   },
   {
    "duration": 32,
    "start_time": "2022-04-14T09:21:50.508Z"
   },
   {
    "duration": 55,
    "start_time": "2022-04-14T09:21:50.542Z"
   },
   {
    "duration": 27,
    "start_time": "2022-04-14T09:21:50.602Z"
   },
   {
    "duration": 556,
    "start_time": "2022-04-14T09:23:26.607Z"
   },
   {
    "duration": 31,
    "start_time": "2022-04-14T09:23:27.165Z"
   },
   {
    "duration": 21,
    "start_time": "2022-04-14T09:23:27.198Z"
   },
   {
    "duration": 21,
    "start_time": "2022-04-14T09:23:27.222Z"
   },
   {
    "duration": 48,
    "start_time": "2022-04-14T09:23:27.245Z"
   },
   {
    "duration": 7,
    "start_time": "2022-04-14T09:23:27.296Z"
   },
   {
    "duration": 25,
    "start_time": "2022-04-14T09:23:27.306Z"
   },
   {
    "duration": 59,
    "start_time": "2022-04-14T09:23:27.334Z"
   },
   {
    "duration": 7,
    "start_time": "2022-04-14T09:23:27.396Z"
   },
   {
    "duration": 9,
    "start_time": "2022-04-14T09:23:27.408Z"
   },
   {
    "duration": 18,
    "start_time": "2022-04-14T09:23:27.419Z"
   },
   {
    "duration": 55,
    "start_time": "2022-04-14T09:23:27.439Z"
   },
   {
    "duration": 26,
    "start_time": "2022-04-14T09:23:27.496Z"
   },
   {
    "duration": 9,
    "start_time": "2022-04-14T09:23:27.524Z"
   },
   {
    "duration": 102,
    "start_time": "2022-04-14T09:23:27.535Z"
   },
   {
    "duration": 21,
    "start_time": "2022-04-14T09:23:27.639Z"
   },
   {
    "duration": 52,
    "start_time": "2022-04-14T09:23:27.662Z"
   },
   {
    "duration": 77,
    "start_time": "2022-04-14T09:23:27.716Z"
   },
   {
    "duration": 16,
    "start_time": "2022-04-14T09:23:27.795Z"
   },
   {
    "duration": 15,
    "start_time": "2022-04-14T09:23:27.813Z"
   },
   {
    "duration": 22,
    "start_time": "2022-04-14T09:23:27.831Z"
   },
   {
    "duration": 38,
    "start_time": "2022-04-14T09:23:27.894Z"
   },
   {
    "duration": 9,
    "start_time": "2022-04-14T09:23:27.934Z"
   },
   {
    "duration": 73,
    "start_time": "2022-04-14T09:23:27.945Z"
   },
   {
    "duration": 27,
    "start_time": "2022-04-14T09:23:28.020Z"
   },
   {
    "duration": 64,
    "start_time": "2022-04-14T09:23:28.049Z"
   },
   {
    "duration": 27,
    "start_time": "2022-04-14T09:23:28.115Z"
   },
   {
    "duration": 55,
    "start_time": "2022-04-14T09:23:28.146Z"
   },
   {
    "duration": 24,
    "start_time": "2022-04-14T09:24:01.838Z"
   },
   {
    "duration": 587,
    "start_time": "2022-04-14T09:24:08.042Z"
   },
   {
    "duration": 29,
    "start_time": "2022-04-14T09:24:08.632Z"
   },
   {
    "duration": 40,
    "start_time": "2022-04-14T09:24:08.663Z"
   },
   {
    "duration": 18,
    "start_time": "2022-04-14T09:24:08.706Z"
   },
   {
    "duration": 6,
    "start_time": "2022-04-14T09:24:08.727Z"
   },
   {
    "duration": 10,
    "start_time": "2022-04-14T09:24:08.735Z"
   },
   {
    "duration": 68,
    "start_time": "2022-04-14T09:24:08.747Z"
   },
   {
    "duration": 21,
    "start_time": "2022-04-14T09:24:08.817Z"
   },
   {
    "duration": 7,
    "start_time": "2022-04-14T09:24:08.840Z"
   },
   {
    "duration": 9,
    "start_time": "2022-04-14T09:24:08.893Z"
   },
   {
    "duration": 9,
    "start_time": "2022-04-14T09:24:08.904Z"
   },
   {
    "duration": 15,
    "start_time": "2022-04-14T09:24:08.915Z"
   },
   {
    "duration": 63,
    "start_time": "2022-04-14T09:24:08.932Z"
   },
   {
    "duration": 9,
    "start_time": "2022-04-14T09:24:08.997Z"
   },
   {
    "duration": 96,
    "start_time": "2022-04-14T09:24:09.008Z"
   },
   {
    "duration": 23,
    "start_time": "2022-04-14T09:24:09.106Z"
   },
   {
    "duration": 61,
    "start_time": "2022-04-14T09:24:09.132Z"
   },
   {
    "duration": 63,
    "start_time": "2022-04-14T09:24:09.195Z"
   },
   {
    "duration": 36,
    "start_time": "2022-04-14T09:24:09.261Z"
   },
   {
    "duration": 16,
    "start_time": "2022-04-14T09:24:09.300Z"
   },
   {
    "duration": 22,
    "start_time": "2022-04-14T09:24:09.319Z"
   },
   {
    "duration": 80,
    "start_time": "2022-04-14T09:24:09.343Z"
   },
   {
    "duration": 9,
    "start_time": "2022-04-14T09:24:09.426Z"
   },
   {
    "duration": 64,
    "start_time": "2022-04-14T09:24:09.438Z"
   },
   {
    "duration": 28,
    "start_time": "2022-04-14T09:24:09.504Z"
   },
   {
    "duration": 68,
    "start_time": "2022-04-14T09:24:09.534Z"
   },
   {
    "duration": 26,
    "start_time": "2022-04-14T09:24:09.605Z"
   },
   {
    "duration": 59,
    "start_time": "2022-04-14T09:24:09.636Z"
   },
   {
    "duration": 14,
    "start_time": "2022-04-14T09:24:59.567Z"
   },
   {
    "duration": 13,
    "start_time": "2022-04-14T09:25:40.128Z"
   },
   {
    "duration": 194,
    "start_time": "2022-04-14T09:26:29.768Z"
   },
   {
    "duration": 14,
    "start_time": "2022-04-14T09:26:36.689Z"
   },
   {
    "duration": 8,
    "start_time": "2022-04-14T09:27:15.119Z"
   },
   {
    "duration": 656,
    "start_time": "2022-04-14T09:27:22.498Z"
   },
   {
    "duration": 38,
    "start_time": "2022-04-14T09:27:23.157Z"
   },
   {
    "duration": 21,
    "start_time": "2022-04-14T09:27:23.197Z"
   },
   {
    "duration": 19,
    "start_time": "2022-04-14T09:27:23.222Z"
   },
   {
    "duration": 6,
    "start_time": "2022-04-14T09:27:23.244Z"
   },
   {
    "duration": 44,
    "start_time": "2022-04-14T09:27:23.253Z"
   },
   {
    "duration": 27,
    "start_time": "2022-04-14T09:27:23.299Z"
   },
   {
    "duration": 20,
    "start_time": "2022-04-14T09:27:23.328Z"
   },
   {
    "duration": 48,
    "start_time": "2022-04-14T09:27:23.351Z"
   },
   {
    "duration": 11,
    "start_time": "2022-04-14T09:27:23.403Z"
   },
   {
    "duration": 10,
    "start_time": "2022-04-14T09:27:23.416Z"
   },
   {
    "duration": 67,
    "start_time": "2022-04-14T09:27:23.429Z"
   },
   {
    "duration": 28,
    "start_time": "2022-04-14T09:27:23.499Z"
   },
   {
    "duration": 10,
    "start_time": "2022-04-14T09:27:23.530Z"
   },
   {
    "duration": 102,
    "start_time": "2022-04-14T09:27:23.543Z"
   },
   {
    "duration": 50,
    "start_time": "2022-04-14T09:27:23.648Z"
   },
   {
    "duration": 32,
    "start_time": "2022-04-14T09:27:23.701Z"
   },
   {
    "duration": 98,
    "start_time": "2022-04-14T09:27:23.736Z"
   },
   {
    "duration": 19,
    "start_time": "2022-04-14T09:27:23.837Z"
   },
   {
    "duration": 46,
    "start_time": "2022-04-14T09:27:23.859Z"
   },
   {
    "duration": 23,
    "start_time": "2022-04-14T09:27:23.908Z"
   },
   {
    "duration": 85,
    "start_time": "2022-04-14T09:27:23.934Z"
   },
   {
    "duration": 10,
    "start_time": "2022-04-14T09:27:24.021Z"
   },
   {
    "duration": 77,
    "start_time": "2022-04-14T09:27:24.034Z"
   },
   {
    "duration": 32,
    "start_time": "2022-04-14T09:27:24.114Z"
   },
   {
    "duration": 67,
    "start_time": "2022-04-14T09:27:24.148Z"
   },
   {
    "duration": 28,
    "start_time": "2022-04-14T09:27:24.217Z"
   },
   {
    "duration": 54,
    "start_time": "2022-04-14T09:27:24.249Z"
   },
   {
    "duration": 586,
    "start_time": "2022-04-14T09:27:50.566Z"
   },
   {
    "duration": 38,
    "start_time": "2022-04-14T09:27:51.156Z"
   },
   {
    "duration": 24,
    "start_time": "2022-04-14T09:27:51.197Z"
   },
   {
    "duration": 21,
    "start_time": "2022-04-14T09:27:51.226Z"
   },
   {
    "duration": 50,
    "start_time": "2022-04-14T09:27:51.249Z"
   },
   {
    "duration": 11,
    "start_time": "2022-04-14T09:27:51.302Z"
   },
   {
    "duration": 26,
    "start_time": "2022-04-14T09:27:51.316Z"
   },
   {
    "duration": 20,
    "start_time": "2022-04-14T09:27:51.392Z"
   },
   {
    "duration": 14,
    "start_time": "2022-04-14T09:27:51.415Z"
   },
   {
    "duration": 9,
    "start_time": "2022-04-14T09:27:51.433Z"
   },
   {
    "duration": 14,
    "start_time": "2022-04-14T09:27:51.445Z"
   },
   {
    "duration": 19,
    "start_time": "2022-04-14T09:27:51.493Z"
   },
   {
    "duration": 23,
    "start_time": "2022-04-14T09:27:51.514Z"
   },
   {
    "duration": 8,
    "start_time": "2022-04-14T09:27:51.539Z"
   },
   {
    "duration": 101,
    "start_time": "2022-04-14T09:27:51.549Z"
   },
   {
    "duration": 41,
    "start_time": "2022-04-14T09:27:51.652Z"
   },
   {
    "duration": 26,
    "start_time": "2022-04-14T09:27:51.695Z"
   },
   {
    "duration": 89,
    "start_time": "2022-04-14T09:27:51.723Z"
   },
   {
    "duration": 16,
    "start_time": "2022-04-14T09:27:51.814Z"
   },
   {
    "duration": 21,
    "start_time": "2022-04-14T09:27:51.832Z"
   },
   {
    "duration": 55,
    "start_time": "2022-04-14T09:27:51.855Z"
   },
   {
    "duration": 46,
    "start_time": "2022-04-14T09:27:51.912Z"
   },
   {
    "duration": 34,
    "start_time": "2022-04-14T09:27:51.960Z"
   },
   {
    "duration": 34,
    "start_time": "2022-04-14T09:27:51.996Z"
   },
   {
    "duration": 62,
    "start_time": "2022-04-14T09:27:52.032Z"
   },
   {
    "duration": 33,
    "start_time": "2022-04-14T09:27:52.096Z"
   },
   {
    "duration": 27,
    "start_time": "2022-04-14T09:27:52.131Z"
   },
   {
    "duration": 27,
    "start_time": "2022-04-14T09:27:52.195Z"
   },
   {
    "duration": 549,
    "start_time": "2022-04-14T09:28:28.812Z"
   },
   {
    "duration": 30,
    "start_time": "2022-04-14T09:28:29.364Z"
   },
   {
    "duration": 21,
    "start_time": "2022-04-14T09:28:29.397Z"
   },
   {
    "duration": 20,
    "start_time": "2022-04-14T09:28:29.421Z"
   },
   {
    "duration": 7,
    "start_time": "2022-04-14T09:28:29.443Z"
   },
   {
    "duration": 48,
    "start_time": "2022-04-14T09:28:29.451Z"
   },
   {
    "duration": 24,
    "start_time": "2022-04-14T09:28:29.501Z"
   },
   {
    "duration": 19,
    "start_time": "2022-04-14T09:28:29.527Z"
   },
   {
    "duration": 46,
    "start_time": "2022-04-14T09:28:29.548Z"
   },
   {
    "duration": 9,
    "start_time": "2022-04-14T09:28:29.598Z"
   },
   {
    "duration": 8,
    "start_time": "2022-04-14T09:28:29.608Z"
   },
   {
    "duration": 18,
    "start_time": "2022-04-14T09:28:29.617Z"
   },
   {
    "duration": 76,
    "start_time": "2022-04-14T09:28:29.637Z"
   },
   {
    "duration": 9,
    "start_time": "2022-04-14T09:28:29.715Z"
   },
   {
    "duration": 89,
    "start_time": "2022-04-14T09:28:29.726Z"
   },
   {
    "duration": 22,
    "start_time": "2022-04-14T09:28:29.817Z"
   },
   {
    "duration": 26,
    "start_time": "2022-04-14T09:28:29.841Z"
   },
   {
    "duration": 62,
    "start_time": "2022-04-14T09:28:29.894Z"
   },
   {
    "duration": 37,
    "start_time": "2022-04-14T09:28:29.958Z"
   },
   {
    "duration": 16,
    "start_time": "2022-04-14T09:28:29.997Z"
   },
   {
    "duration": 23,
    "start_time": "2022-04-14T09:28:30.015Z"
   },
   {
    "duration": 84,
    "start_time": "2022-04-14T09:28:30.040Z"
   },
   {
    "duration": 10,
    "start_time": "2022-04-14T09:28:30.126Z"
   },
   {
    "duration": 63,
    "start_time": "2022-04-14T09:28:30.138Z"
   },
   {
    "duration": 28,
    "start_time": "2022-04-14T09:28:30.203Z"
   },
   {
    "duration": 65,
    "start_time": "2022-04-14T09:28:30.233Z"
   },
   {
    "duration": 26,
    "start_time": "2022-04-14T09:28:30.300Z"
   },
   {
    "duration": 28,
    "start_time": "2022-04-14T09:28:30.331Z"
   },
   {
    "duration": 550,
    "start_time": "2022-04-14T09:31:29.109Z"
   },
   {
    "duration": 34,
    "start_time": "2022-04-14T09:31:29.661Z"
   },
   {
    "duration": 26,
    "start_time": "2022-04-14T09:31:29.697Z"
   },
   {
    "duration": 19,
    "start_time": "2022-04-14T09:31:29.726Z"
   },
   {
    "duration": 9,
    "start_time": "2022-04-14T09:31:29.747Z"
   },
   {
    "duration": 6,
    "start_time": "2022-04-14T09:31:29.793Z"
   },
   {
    "duration": 24,
    "start_time": "2022-04-14T09:31:29.801Z"
   },
   {
    "duration": 20,
    "start_time": "2022-04-14T09:31:29.827Z"
   },
   {
    "duration": 45,
    "start_time": "2022-04-14T09:31:29.848Z"
   },
   {
    "duration": 8,
    "start_time": "2022-04-14T09:31:29.897Z"
   },
   {
    "duration": 7,
    "start_time": "2022-04-14T09:31:29.907Z"
   },
   {
    "duration": 15,
    "start_time": "2022-04-14T09:31:29.916Z"
   },
   {
    "duration": 72,
    "start_time": "2022-04-14T09:31:29.933Z"
   },
   {
    "duration": 9,
    "start_time": "2022-04-14T09:31:30.007Z"
   },
   {
    "duration": 92,
    "start_time": "2022-04-14T09:31:30.018Z"
   },
   {
    "duration": 22,
    "start_time": "2022-04-14T09:31:30.112Z"
   },
   {
    "duration": 27,
    "start_time": "2022-04-14T09:31:30.136Z"
   },
   {
    "duration": 91,
    "start_time": "2022-04-14T09:31:30.165Z"
   },
   {
    "duration": 43,
    "start_time": "2022-04-14T09:31:30.258Z"
   },
   {
    "duration": 17,
    "start_time": "2022-04-14T09:31:30.303Z"
   },
   {
    "duration": 34,
    "start_time": "2022-04-14T09:31:30.322Z"
   },
   {
    "duration": 64,
    "start_time": "2022-04-14T09:31:30.358Z"
   },
   {
    "duration": 16,
    "start_time": "2022-04-14T09:31:30.424Z"
   },
   {
    "duration": 70,
    "start_time": "2022-04-14T09:31:30.443Z"
   },
   {
    "duration": 28,
    "start_time": "2022-04-14T09:31:30.515Z"
   },
   {
    "duration": 60,
    "start_time": "2022-04-14T09:31:30.545Z"
   },
   {
    "duration": 26,
    "start_time": "2022-04-14T09:31:30.608Z"
   },
   {
    "duration": 55,
    "start_time": "2022-04-14T09:31:30.639Z"
   },
   {
    "duration": 10,
    "start_time": "2022-04-14T09:41:26.415Z"
   },
   {
    "duration": 606,
    "start_time": "2022-04-14T09:46:48.249Z"
   },
   {
    "duration": 37,
    "start_time": "2022-04-14T09:46:48.858Z"
   },
   {
    "duration": 20,
    "start_time": "2022-04-14T09:46:48.898Z"
   },
   {
    "duration": 20,
    "start_time": "2022-04-14T09:46:48.921Z"
   },
   {
    "duration": 7,
    "start_time": "2022-04-14T09:46:48.943Z"
   },
   {
    "duration": 7,
    "start_time": "2022-04-14T09:46:48.994Z"
   },
   {
    "duration": 29,
    "start_time": "2022-04-14T09:46:49.003Z"
   },
   {
    "duration": 20,
    "start_time": "2022-04-14T09:46:49.034Z"
   },
   {
    "duration": 40,
    "start_time": "2022-04-14T09:46:49.057Z"
   },
   {
    "duration": 28,
    "start_time": "2022-04-14T09:46:49.101Z"
   },
   {
    "duration": 7,
    "start_time": "2022-04-14T09:46:49.131Z"
   },
   {
    "duration": 61,
    "start_time": "2022-04-14T09:46:49.140Z"
   },
   {
    "duration": 24,
    "start_time": "2022-04-14T09:46:49.203Z"
   },
   {
    "duration": 8,
    "start_time": "2022-04-14T09:46:49.229Z"
   },
   {
    "duration": 114,
    "start_time": "2022-04-14T09:46:49.239Z"
   },
   {
    "duration": 36,
    "start_time": "2022-04-14T09:46:49.356Z"
   },
   {
    "duration": 25,
    "start_time": "2022-04-14T09:46:49.395Z"
   },
   {
    "duration": 97,
    "start_time": "2022-04-14T09:46:49.422Z"
   },
   {
    "duration": 17,
    "start_time": "2022-04-14T09:46:49.521Z"
   },
   {
    "duration": 16,
    "start_time": "2022-04-14T09:46:49.540Z"
   },
   {
    "duration": 56,
    "start_time": "2022-04-14T09:46:49.558Z"
   },
   {
    "duration": 45,
    "start_time": "2022-04-14T09:46:49.617Z"
   },
   {
    "duration": 15,
    "start_time": "2022-04-14T09:46:49.693Z"
   },
   {
    "duration": 37,
    "start_time": "2022-04-14T09:46:49.711Z"
   },
   {
    "duration": 71,
    "start_time": "2022-04-14T09:46:49.750Z"
   },
   {
    "duration": 32,
    "start_time": "2022-04-14T09:46:49.823Z"
   },
   {
    "duration": 56,
    "start_time": "2022-04-14T09:46:49.857Z"
   },
   {
    "duration": 28,
    "start_time": "2022-04-14T09:46:49.919Z"
   },
   {
    "duration": 30,
    "start_time": "2022-04-14T10:09:22.955Z"
   },
   {
    "duration": 602,
    "start_time": "2022-04-14T10:09:29.469Z"
   },
   {
    "duration": 31,
    "start_time": "2022-04-14T10:09:30.074Z"
   },
   {
    "duration": 25,
    "start_time": "2022-04-14T10:09:30.107Z"
   },
   {
    "duration": 20,
    "start_time": "2022-04-14T10:09:30.135Z"
   },
   {
    "duration": 40,
    "start_time": "2022-04-14T10:09:30.157Z"
   },
   {
    "duration": 24,
    "start_time": "2022-04-14T10:09:30.199Z"
   },
   {
    "duration": 32,
    "start_time": "2022-04-14T10:09:30.225Z"
   },
   {
    "duration": 42,
    "start_time": "2022-04-14T10:09:30.260Z"
   },
   {
    "duration": 19,
    "start_time": "2022-04-14T10:09:30.304Z"
   },
   {
    "duration": 56,
    "start_time": "2022-04-14T10:09:30.327Z"
   },
   {
    "duration": 7,
    "start_time": "2022-04-14T10:09:30.386Z"
   },
   {
    "duration": 30,
    "start_time": "2022-04-14T10:09:30.396Z"
   },
   {
    "duration": 47,
    "start_time": "2022-04-14T10:09:30.429Z"
   },
   {
    "duration": 15,
    "start_time": "2022-04-14T10:09:30.479Z"
   },
   {
    "duration": 30,
    "start_time": "2022-04-14T10:09:30.497Z"
   },
   {
    "duration": 83,
    "start_time": "2022-04-14T10:09:30.530Z"
   },
   {
    "duration": 22,
    "start_time": "2022-04-14T10:09:30.615Z"
   },
   {
    "duration": 87,
    "start_time": "2022-04-14T10:09:30.640Z"
   },
   {
    "duration": 85,
    "start_time": "2022-04-14T10:09:30.729Z"
   },
   {
    "duration": 17,
    "start_time": "2022-04-14T10:09:30.817Z"
   },
   {
    "duration": 26,
    "start_time": "2022-04-14T10:09:30.837Z"
   },
   {
    "duration": 47,
    "start_time": "2022-04-14T10:09:30.865Z"
   },
   {
    "duration": 53,
    "start_time": "2022-04-14T10:09:30.915Z"
   },
   {
    "duration": 31,
    "start_time": "2022-04-14T10:09:30.971Z"
   },
   {
    "duration": 42,
    "start_time": "2022-04-14T10:09:31.005Z"
   },
   {
    "duration": 70,
    "start_time": "2022-04-14T10:09:31.050Z"
   },
   {
    "duration": 71,
    "start_time": "2022-04-14T10:09:31.123Z"
   },
   {
    "duration": 29,
    "start_time": "2022-04-14T10:09:31.201Z"
   },
   {
    "duration": 67,
    "start_time": "2022-04-14T10:09:31.233Z"
   },
   {
    "duration": 25,
    "start_time": "2022-04-14T10:11:12.656Z"
   },
   {
    "duration": 27,
    "start_time": "2022-04-14T10:11:16.445Z"
   },
   {
    "duration": 37,
    "start_time": "2022-04-14T10:11:26.893Z"
   },
   {
    "duration": 27,
    "start_time": "2022-04-14T10:11:40.922Z"
   },
   {
    "duration": 693,
    "start_time": "2022-04-14T10:11:46.703Z"
   },
   {
    "duration": 30,
    "start_time": "2022-04-14T10:11:47.401Z"
   },
   {
    "duration": 21,
    "start_time": "2022-04-14T10:11:47.433Z"
   },
   {
    "duration": 53,
    "start_time": "2022-04-14T10:11:47.458Z"
   },
   {
    "duration": 7,
    "start_time": "2022-04-14T10:11:47.513Z"
   },
   {
    "duration": 7,
    "start_time": "2022-04-14T10:11:47.522Z"
   },
   {
    "duration": 67,
    "start_time": "2022-04-14T10:11:47.531Z"
   },
   {
    "duration": 20,
    "start_time": "2022-04-14T10:11:47.601Z"
   },
   {
    "duration": 7,
    "start_time": "2022-04-14T10:11:47.623Z"
   },
   {
    "duration": 67,
    "start_time": "2022-04-14T10:11:47.635Z"
   },
   {
    "duration": 8,
    "start_time": "2022-04-14T10:11:47.705Z"
   },
   {
    "duration": 28,
    "start_time": "2022-04-14T10:11:47.715Z"
   },
   {
    "duration": 49,
    "start_time": "2022-04-14T10:11:47.745Z"
   },
   {
    "duration": 9,
    "start_time": "2022-04-14T10:11:47.796Z"
   },
   {
    "duration": 27,
    "start_time": "2022-04-14T10:11:47.808Z"
   },
   {
    "duration": 101,
    "start_time": "2022-04-14T10:11:47.837Z"
   },
   {
    "duration": 21,
    "start_time": "2022-04-14T10:11:47.941Z"
   },
   {
    "duration": 53,
    "start_time": "2022-04-14T10:11:47.965Z"
   },
   {
    "duration": 83,
    "start_time": "2022-04-14T10:11:48.020Z"
   },
   {
    "duration": 18,
    "start_time": "2022-04-14T10:11:48.105Z"
   },
   {
    "duration": 18,
    "start_time": "2022-04-14T10:11:48.125Z"
   },
   {
    "duration": 60,
    "start_time": "2022-04-14T10:11:48.145Z"
   },
   {
    "duration": 45,
    "start_time": "2022-04-14T10:11:48.208Z"
   },
   {
    "duration": 46,
    "start_time": "2022-04-14T10:11:48.256Z"
   },
   {
    "duration": 43,
    "start_time": "2022-04-14T10:11:48.304Z"
   },
   {
    "duration": 67,
    "start_time": "2022-04-14T10:11:48.350Z"
   },
   {
    "duration": 74,
    "start_time": "2022-04-14T10:11:48.419Z"
   },
   {
    "duration": 31,
    "start_time": "2022-04-14T10:11:48.498Z"
   },
   {
    "duration": 28,
    "start_time": "2022-04-14T10:11:48.531Z"
   },
   {
    "duration": 276,
    "start_time": "2022-04-14T10:14:02.800Z"
   },
   {
    "duration": 28,
    "start_time": "2022-04-14T10:14:11.159Z"
   },
   {
    "duration": 768,
    "start_time": "2022-04-14T10:14:33.953Z"
   },
   {
    "duration": 42,
    "start_time": "2022-04-14T10:14:34.725Z"
   },
   {
    "duration": 49,
    "start_time": "2022-04-14T10:14:34.770Z"
   },
   {
    "duration": 26,
    "start_time": "2022-04-14T10:14:34.823Z"
   },
   {
    "duration": 43,
    "start_time": "2022-04-14T10:14:34.852Z"
   },
   {
    "duration": 16,
    "start_time": "2022-04-14T10:14:34.898Z"
   },
   {
    "duration": 25,
    "start_time": "2022-04-14T10:14:34.917Z"
   },
   {
    "duration": 56,
    "start_time": "2022-04-14T10:14:34.945Z"
   },
   {
    "duration": 18,
    "start_time": "2022-04-14T10:14:35.004Z"
   },
   {
    "duration": 29,
    "start_time": "2022-04-14T10:14:35.028Z"
   },
   {
    "duration": 44,
    "start_time": "2022-04-14T10:14:35.059Z"
   },
   {
    "duration": 20,
    "start_time": "2022-04-14T10:14:35.105Z"
   },
   {
    "duration": 66,
    "start_time": "2022-04-14T10:14:35.128Z"
   },
   {
    "duration": 9,
    "start_time": "2022-04-14T10:14:35.198Z"
   },
   {
    "duration": 33,
    "start_time": "2022-04-14T10:14:35.209Z"
   },
   {
    "duration": 92,
    "start_time": "2022-04-14T10:14:35.245Z"
   },
   {
    "duration": 23,
    "start_time": "2022-04-14T10:14:35.340Z"
   },
   {
    "duration": 50,
    "start_time": "2022-04-14T10:14:35.365Z"
   },
   {
    "duration": 83,
    "start_time": "2022-04-14T10:14:35.418Z"
   },
   {
    "duration": 17,
    "start_time": "2022-04-14T10:14:35.504Z"
   },
   {
    "duration": 16,
    "start_time": "2022-04-14T10:14:35.523Z"
   },
   {
    "duration": 60,
    "start_time": "2022-04-14T10:14:35.542Z"
   },
   {
    "duration": 44,
    "start_time": "2022-04-14T10:14:35.605Z"
   },
   {
    "duration": 46,
    "start_time": "2022-04-14T10:14:35.651Z"
   },
   {
    "duration": 41,
    "start_time": "2022-04-14T10:14:35.700Z"
   },
   {
    "duration": 56,
    "start_time": "2022-04-14T10:14:35.743Z"
   },
   {
    "duration": 33,
    "start_time": "2022-04-14T10:14:35.801Z"
   },
   {
    "duration": 55,
    "start_time": "2022-04-14T10:14:35.839Z"
   },
   {
    "duration": 30,
    "start_time": "2022-04-14T10:14:35.897Z"
   },
   {
    "duration": 27,
    "start_time": "2022-04-14T10:15:55.979Z"
   },
   {
    "duration": 770,
    "start_time": "2022-04-14T10:16:04.463Z"
   },
   {
    "duration": 56,
    "start_time": "2022-04-14T10:16:05.237Z"
   },
   {
    "duration": 32,
    "start_time": "2022-04-14T10:16:05.296Z"
   },
   {
    "duration": 28,
    "start_time": "2022-04-14T10:16:05.332Z"
   },
   {
    "duration": 9,
    "start_time": "2022-04-14T10:16:05.394Z"
   },
   {
    "duration": 10,
    "start_time": "2022-04-14T10:16:05.406Z"
   },
   {
    "duration": 27,
    "start_time": "2022-04-14T10:16:05.419Z"
   },
   {
    "duration": 24,
    "start_time": "2022-04-14T10:16:05.493Z"
   },
   {
    "duration": 9,
    "start_time": "2022-04-14T10:16:05.520Z"
   },
   {
    "duration": 66,
    "start_time": "2022-04-14T10:16:05.533Z"
   },
   {
    "duration": 9,
    "start_time": "2022-04-14T10:16:05.601Z"
   },
   {
    "duration": 23,
    "start_time": "2022-04-14T10:16:05.613Z"
   },
   {
    "duration": 67,
    "start_time": "2022-04-14T10:16:05.639Z"
   },
   {
    "duration": 8,
    "start_time": "2022-04-14T10:16:05.709Z"
   },
   {
    "duration": 44,
    "start_time": "2022-04-14T10:16:05.720Z"
   },
   {
    "duration": 61,
    "start_time": "2022-04-14T10:16:05.793Z"
   },
   {
    "duration": 49,
    "start_time": "2022-04-14T10:16:05.856Z"
   },
   {
    "duration": 30,
    "start_time": "2022-04-14T10:16:05.908Z"
   },
   {
    "duration": 104,
    "start_time": "2022-04-14T10:16:05.941Z"
   },
   {
    "duration": 20,
    "start_time": "2022-04-14T10:16:06.048Z"
   },
   {
    "duration": 42,
    "start_time": "2022-04-14T10:16:06.070Z"
   },
   {
    "duration": 25,
    "start_time": "2022-04-14T10:16:06.115Z"
   },
   {
    "duration": 86,
    "start_time": "2022-04-14T10:16:06.143Z"
   },
   {
    "duration": 16,
    "start_time": "2022-04-14T10:16:06.232Z"
   },
   {
    "duration": 77,
    "start_time": "2022-04-14T10:16:06.251Z"
   },
   {
    "duration": 29,
    "start_time": "2022-04-14T10:16:06.331Z"
   },
   {
    "duration": 32,
    "start_time": "2022-04-14T10:16:06.394Z"
   },
   {
    "duration": 27,
    "start_time": "2022-04-14T10:16:06.431Z"
   },
   {
    "duration": 69,
    "start_time": "2022-04-14T10:16:06.461Z"
   },
   {
    "duration": 615,
    "start_time": "2022-04-14T10:16:20.517Z"
   },
   {
    "duration": 31,
    "start_time": "2022-04-14T10:16:21.135Z"
   },
   {
    "duration": 38,
    "start_time": "2022-04-14T10:16:21.168Z"
   },
   {
    "duration": 20,
    "start_time": "2022-04-14T10:16:21.209Z"
   },
   {
    "duration": 8,
    "start_time": "2022-04-14T10:16:21.231Z"
   },
   {
    "duration": 54,
    "start_time": "2022-04-14T10:16:21.241Z"
   },
   {
    "duration": 28,
    "start_time": "2022-04-14T10:16:21.297Z"
   },
   {
    "duration": 21,
    "start_time": "2022-04-14T10:16:21.327Z"
   },
   {
    "duration": 50,
    "start_time": "2022-04-14T10:16:21.350Z"
   },
   {
    "duration": 30,
    "start_time": "2022-04-14T10:16:21.404Z"
   },
   {
    "duration": 8,
    "start_time": "2022-04-14T10:16:21.436Z"
   },
   {
    "duration": 60,
    "start_time": "2022-04-14T10:16:21.447Z"
   },
   {
    "duration": 25,
    "start_time": "2022-04-14T10:16:21.510Z"
   },
   {
    "duration": 10,
    "start_time": "2022-04-14T10:16:21.538Z"
   },
   {
    "duration": 73,
    "start_time": "2022-04-14T10:16:21.550Z"
   },
   {
    "duration": 79,
    "start_time": "2022-04-14T10:16:21.627Z"
   },
   {
    "duration": 35,
    "start_time": "2022-04-14T10:16:21.708Z"
   },
   {
    "duration": 67,
    "start_time": "2022-04-14T10:16:21.746Z"
   },
   {
    "duration": 97,
    "start_time": "2022-04-14T10:16:21.816Z"
   },
   {
    "duration": 20,
    "start_time": "2022-04-14T10:16:21.915Z"
   },
   {
    "duration": 20,
    "start_time": "2022-04-14T10:16:21.938Z"
   },
   {
    "duration": 23,
    "start_time": "2022-04-14T10:16:21.994Z"
   },
   {
    "duration": 40,
    "start_time": "2022-04-14T10:16:22.019Z"
   },
   {
    "duration": 10,
    "start_time": "2022-04-14T10:16:22.094Z"
   },
   {
    "duration": 38,
    "start_time": "2022-04-14T10:16:22.106Z"
   },
   {
    "duration": 70,
    "start_time": "2022-04-14T10:16:22.146Z"
   },
   {
    "duration": 36,
    "start_time": "2022-04-14T10:16:22.218Z"
   },
   {
    "duration": 57,
    "start_time": "2022-04-14T10:16:22.260Z"
   },
   {
    "duration": 28,
    "start_time": "2022-04-14T10:16:22.319Z"
   },
   {
    "duration": 614,
    "start_time": "2022-04-14T10:16:35.251Z"
   },
   {
    "duration": 30,
    "start_time": "2022-04-14T10:16:35.868Z"
   },
   {
    "duration": 22,
    "start_time": "2022-04-14T10:16:35.905Z"
   },
   {
    "duration": 20,
    "start_time": "2022-04-14T10:16:35.929Z"
   },
   {
    "duration": 46,
    "start_time": "2022-04-14T10:16:35.951Z"
   },
   {
    "duration": 9,
    "start_time": "2022-04-14T10:16:36.000Z"
   },
   {
    "duration": 26,
    "start_time": "2022-04-14T10:16:36.011Z"
   },
   {
    "duration": 66,
    "start_time": "2022-04-14T10:16:36.039Z"
   },
   {
    "duration": 7,
    "start_time": "2022-04-14T10:16:36.109Z"
   },
   {
    "duration": 29,
    "start_time": "2022-04-14T10:16:36.119Z"
   },
   {
    "duration": 44,
    "start_time": "2022-04-14T10:16:36.151Z"
   },
   {
    "duration": 22,
    "start_time": "2022-04-14T10:16:36.197Z"
   },
   {
    "duration": 23,
    "start_time": "2022-04-14T10:16:36.221Z"
   },
   {
    "duration": 52,
    "start_time": "2022-04-14T10:16:36.246Z"
   },
   {
    "duration": 26,
    "start_time": "2022-04-14T10:16:36.301Z"
   },
   {
    "duration": 104,
    "start_time": "2022-04-14T10:16:36.329Z"
   },
   {
    "duration": 22,
    "start_time": "2022-04-14T10:16:36.435Z"
   },
   {
    "duration": 47,
    "start_time": "2022-04-14T10:16:36.459Z"
   },
   {
    "duration": 97,
    "start_time": "2022-04-14T10:16:36.508Z"
   },
   {
    "duration": 16,
    "start_time": "2022-04-14T10:16:36.608Z"
   },
   {
    "duration": 18,
    "start_time": "2022-04-14T10:16:36.626Z"
   },
   {
    "duration": 62,
    "start_time": "2022-04-14T10:16:36.646Z"
   },
   {
    "duration": 46,
    "start_time": "2022-04-14T10:16:36.710Z"
   },
   {
    "duration": 41,
    "start_time": "2022-04-14T10:16:36.758Z"
   },
   {
    "duration": 35,
    "start_time": "2022-04-14T10:16:36.801Z"
   },
   {
    "duration": 79,
    "start_time": "2022-04-14T10:16:36.838Z"
   },
   {
    "duration": 35,
    "start_time": "2022-04-14T10:16:36.921Z"
   },
   {
    "duration": 61,
    "start_time": "2022-04-14T10:16:36.958Z"
   },
   {
    "duration": 28,
    "start_time": "2022-04-14T10:16:37.021Z"
   },
   {
    "duration": 604,
    "start_time": "2022-04-14T10:17:05.696Z"
   },
   {
    "duration": 31,
    "start_time": "2022-04-14T10:17:06.303Z"
   },
   {
    "duration": 22,
    "start_time": "2022-04-14T10:17:06.336Z"
   },
   {
    "duration": 21,
    "start_time": "2022-04-14T10:17:06.393Z"
   },
   {
    "duration": 8,
    "start_time": "2022-04-14T10:17:06.417Z"
   },
   {
    "duration": 11,
    "start_time": "2022-04-14T10:17:06.428Z"
   },
   {
    "duration": 72,
    "start_time": "2022-04-14T10:17:06.441Z"
   },
   {
    "duration": 20,
    "start_time": "2022-04-14T10:17:06.515Z"
   },
   {
    "duration": 10,
    "start_time": "2022-04-14T10:17:06.537Z"
   },
   {
    "duration": 59,
    "start_time": "2022-04-14T10:17:06.551Z"
   },
   {
    "duration": 7,
    "start_time": "2022-04-14T10:17:06.612Z"
   },
   {
    "duration": 24,
    "start_time": "2022-04-14T10:17:06.621Z"
   },
   {
    "duration": 56,
    "start_time": "2022-04-14T10:17:06.647Z"
   },
   {
    "duration": 9,
    "start_time": "2022-04-14T10:17:06.705Z"
   },
   {
    "duration": 29,
    "start_time": "2022-04-14T10:17:06.717Z"
   },
   {
    "duration": 99,
    "start_time": "2022-04-14T10:17:06.749Z"
   },
   {
    "duration": 43,
    "start_time": "2022-04-14T10:17:06.851Z"
   },
   {
    "duration": 26,
    "start_time": "2022-04-14T10:17:06.897Z"
   },
   {
    "duration": 108,
    "start_time": "2022-04-14T10:17:06.926Z"
   },
   {
    "duration": 21,
    "start_time": "2022-04-14T10:17:07.037Z"
   },
   {
    "duration": 45,
    "start_time": "2022-04-14T10:17:07.061Z"
   },
   {
    "duration": 31,
    "start_time": "2022-04-14T10:17:07.109Z"
   },
   {
    "duration": 86,
    "start_time": "2022-04-14T10:17:07.143Z"
   },
   {
    "duration": 12,
    "start_time": "2022-04-14T10:17:07.232Z"
   },
   {
    "duration": 71,
    "start_time": "2022-04-14T10:17:07.246Z"
   },
   {
    "duration": 29,
    "start_time": "2022-04-14T10:17:07.319Z"
   },
   {
    "duration": 70,
    "start_time": "2022-04-14T10:17:07.350Z"
   },
   {
    "duration": 28,
    "start_time": "2022-04-14T10:17:07.427Z"
   },
   {
    "duration": 63,
    "start_time": "2022-04-14T10:17:07.458Z"
   },
   {
    "duration": 595,
    "start_time": "2022-04-14T10:17:48.423Z"
   },
   {
    "duration": 44,
    "start_time": "2022-04-14T10:17:49.022Z"
   },
   {
    "duration": 49,
    "start_time": "2022-04-14T10:17:49.068Z"
   },
   {
    "duration": 27,
    "start_time": "2022-04-14T10:17:49.120Z"
   },
   {
    "duration": 7,
    "start_time": "2022-04-14T10:17:49.149Z"
   },
   {
    "duration": 7,
    "start_time": "2022-04-14T10:17:49.194Z"
   },
   {
    "duration": 28,
    "start_time": "2022-04-14T10:17:49.204Z"
   },
   {
    "duration": 61,
    "start_time": "2022-04-14T10:17:49.234Z"
   },
   {
    "duration": 9,
    "start_time": "2022-04-14T10:17:49.297Z"
   },
   {
    "duration": 27,
    "start_time": "2022-04-14T10:17:49.310Z"
   },
   {
    "duration": 7,
    "start_time": "2022-04-14T10:17:49.340Z"
   },
   {
    "duration": 58,
    "start_time": "2022-04-14T10:17:49.349Z"
   },
   {
    "duration": 24,
    "start_time": "2022-04-14T10:17:49.410Z"
   },
   {
    "duration": 59,
    "start_time": "2022-04-14T10:17:49.436Z"
   },
   {
    "duration": 38,
    "start_time": "2022-04-14T10:17:49.497Z"
   },
   {
    "duration": 88,
    "start_time": "2022-04-14T10:17:49.537Z"
   },
   {
    "duration": 22,
    "start_time": "2022-04-14T10:17:49.628Z"
   },
   {
    "duration": 55,
    "start_time": "2022-04-14T10:17:49.652Z"
   },
   {
    "duration": 86,
    "start_time": "2022-04-14T10:17:49.709Z"
   },
   {
    "duration": 18,
    "start_time": "2022-04-14T10:17:49.797Z"
   },
   {
    "duration": 17,
    "start_time": "2022-04-14T10:17:49.817Z"
   },
   {
    "duration": 69,
    "start_time": "2022-04-14T10:17:49.837Z"
   },
   {
    "duration": 40,
    "start_time": "2022-04-14T10:17:49.908Z"
   },
   {
    "duration": 47,
    "start_time": "2022-04-14T10:17:49.951Z"
   },
   {
    "duration": 38,
    "start_time": "2022-04-14T10:17:50.000Z"
   },
   {
    "duration": 73,
    "start_time": "2022-04-14T10:17:50.040Z"
   },
   {
    "duration": 32,
    "start_time": "2022-04-14T10:17:50.116Z"
   },
   {
    "duration": 59,
    "start_time": "2022-04-14T10:17:50.152Z"
   },
   {
    "duration": 28,
    "start_time": "2022-04-14T10:17:50.214Z"
   },
   {
    "duration": 735,
    "start_time": "2022-04-14T10:18:08.215Z"
   },
   {
    "duration": 51,
    "start_time": "2022-04-14T10:18:08.953Z"
   },
   {
    "duration": 33,
    "start_time": "2022-04-14T10:18:09.007Z"
   },
   {
    "duration": 57,
    "start_time": "2022-04-14T10:18:09.043Z"
   },
   {
    "duration": 8,
    "start_time": "2022-04-14T10:18:09.103Z"
   },
   {
    "duration": 12,
    "start_time": "2022-04-14T10:18:09.114Z"
   },
   {
    "duration": 75,
    "start_time": "2022-04-14T10:18:09.128Z"
   },
   {
    "duration": 31,
    "start_time": "2022-04-14T10:18:09.205Z"
   },
   {
    "duration": 8,
    "start_time": "2022-04-14T10:18:09.239Z"
   },
   {
    "duration": 74,
    "start_time": "2022-04-14T10:18:09.252Z"
   },
   {
    "duration": 8,
    "start_time": "2022-04-14T10:18:09.328Z"
   },
   {
    "duration": 26,
    "start_time": "2022-04-14T10:18:09.339Z"
   },
   {
    "duration": 25,
    "start_time": "2022-04-14T10:18:09.392Z"
   },
   {
    "duration": 10,
    "start_time": "2022-04-14T10:18:09.419Z"
   },
   {
    "duration": 72,
    "start_time": "2022-04-14T10:18:09.431Z"
   },
   {
    "duration": 62,
    "start_time": "2022-04-14T10:18:09.505Z"
   },
   {
    "duration": 44,
    "start_time": "2022-04-14T10:18:09.569Z"
   },
   {
    "duration": 25,
    "start_time": "2022-04-14T10:18:09.615Z"
   },
   {
    "duration": 107,
    "start_time": "2022-04-14T10:18:09.642Z"
   },
   {
    "duration": 15,
    "start_time": "2022-04-14T10:18:09.752Z"
   },
   {
    "duration": 38,
    "start_time": "2022-04-14T10:18:09.770Z"
   },
   {
    "duration": 23,
    "start_time": "2022-04-14T10:18:09.810Z"
   },
   {
    "duration": 82,
    "start_time": "2022-04-14T10:18:09.836Z"
   },
   {
    "duration": 10,
    "start_time": "2022-04-14T10:18:09.920Z"
   },
   {
    "duration": 71,
    "start_time": "2022-04-14T10:18:09.932Z"
   },
   {
    "duration": 30,
    "start_time": "2022-04-14T10:18:10.005Z"
   },
   {
    "duration": 71,
    "start_time": "2022-04-14T10:18:10.037Z"
   },
   {
    "duration": 28,
    "start_time": "2022-04-14T10:18:10.112Z"
   },
   {
    "duration": 65,
    "start_time": "2022-04-14T10:18:10.143Z"
   },
   {
    "duration": 28,
    "start_time": "2022-04-14T10:18:36.774Z"
   },
   {
    "duration": 779,
    "start_time": "2022-04-14T10:18:54.062Z"
   },
   {
    "duration": 52,
    "start_time": "2022-04-14T10:18:54.844Z"
   },
   {
    "duration": 29,
    "start_time": "2022-04-14T10:18:54.899Z"
   },
   {
    "duration": 19,
    "start_time": "2022-04-14T10:18:54.931Z"
   },
   {
    "duration": 46,
    "start_time": "2022-04-14T10:18:54.952Z"
   },
   {
    "duration": 11,
    "start_time": "2022-04-14T10:18:55.000Z"
   },
   {
    "duration": 34,
    "start_time": "2022-04-14T10:18:55.014Z"
   },
   {
    "duration": 46,
    "start_time": "2022-04-14T10:18:55.050Z"
   },
   {
    "duration": 11,
    "start_time": "2022-04-14T10:18:55.098Z"
   },
   {
    "duration": 28,
    "start_time": "2022-04-14T10:18:55.113Z"
   },
   {
    "duration": 52,
    "start_time": "2022-04-14T10:18:55.143Z"
   },
   {
    "duration": 18,
    "start_time": "2022-04-14T10:18:55.197Z"
   },
   {
    "duration": 28,
    "start_time": "2022-04-14T10:18:55.217Z"
   },
   {
    "duration": 50,
    "start_time": "2022-04-14T10:18:55.247Z"
   },
   {
    "duration": 27,
    "start_time": "2022-04-14T10:18:55.299Z"
   },
   {
    "duration": 100,
    "start_time": "2022-04-14T10:18:55.329Z"
   },
   {
    "duration": 22,
    "start_time": "2022-04-14T10:18:55.431Z"
   },
   {
    "duration": 46,
    "start_time": "2022-04-14T10:18:55.456Z"
   },
   {
    "duration": 95,
    "start_time": "2022-04-14T10:18:55.504Z"
   },
   {
    "duration": 17,
    "start_time": "2022-04-14T10:18:55.602Z"
   },
   {
    "duration": 17,
    "start_time": "2022-04-14T10:18:55.621Z"
   },
   {
    "duration": 66,
    "start_time": "2022-04-14T10:18:55.641Z"
   },
   {
    "duration": 40,
    "start_time": "2022-04-14T10:18:55.710Z"
   },
   {
    "duration": 47,
    "start_time": "2022-04-14T10:18:55.752Z"
   },
   {
    "duration": 36,
    "start_time": "2022-04-14T10:18:55.802Z"
   },
   {
    "duration": 72,
    "start_time": "2022-04-14T10:18:55.840Z"
   },
   {
    "duration": 44,
    "start_time": "2022-04-14T10:18:55.914Z"
   },
   {
    "duration": 58,
    "start_time": "2022-04-14T10:18:55.962Z"
   },
   {
    "duration": 71,
    "start_time": "2022-04-14T10:18:56.023Z"
   },
   {
    "duration": 215,
    "start_time": "2022-04-14T10:19:40.939Z"
   },
   {
    "duration": 27,
    "start_time": "2022-04-14T10:19:49.798Z"
   },
   {
    "duration": 27,
    "start_time": "2022-04-14T10:20:54.244Z"
   },
   {
    "duration": 27,
    "start_time": "2022-04-14T10:21:06.075Z"
   },
   {
    "duration": 589,
    "start_time": "2022-04-14T10:21:20.593Z"
   },
   {
    "duration": 34,
    "start_time": "2022-04-14T10:21:21.186Z"
   },
   {
    "duration": 64,
    "start_time": "2022-04-14T10:21:21.231Z"
   },
   {
    "duration": 21,
    "start_time": "2022-04-14T10:21:21.297Z"
   },
   {
    "duration": 6,
    "start_time": "2022-04-14T10:21:21.321Z"
   },
   {
    "duration": 11,
    "start_time": "2022-04-14T10:21:21.330Z"
   },
   {
    "duration": 67,
    "start_time": "2022-04-14T10:21:21.343Z"
   },
   {
    "duration": 21,
    "start_time": "2022-04-14T10:21:21.415Z"
   },
   {
    "duration": 9,
    "start_time": "2022-04-14T10:21:21.438Z"
   },
   {
    "duration": 64,
    "start_time": "2022-04-14T10:21:21.450Z"
   },
   {
    "duration": 8,
    "start_time": "2022-04-14T10:21:21.517Z"
   },
   {
    "duration": 18,
    "start_time": "2022-04-14T10:21:21.527Z"
   },
   {
    "duration": 66,
    "start_time": "2022-04-14T10:21:21.548Z"
   },
   {
    "duration": 9,
    "start_time": "2022-04-14T10:21:21.617Z"
   },
   {
    "duration": 71,
    "start_time": "2022-04-14T10:21:21.629Z"
   },
   {
    "duration": 59,
    "start_time": "2022-04-14T10:21:21.703Z"
   },
   {
    "duration": 44,
    "start_time": "2022-04-14T10:21:21.764Z"
   },
   {
    "duration": 26,
    "start_time": "2022-04-14T10:21:21.810Z"
   },
   {
    "duration": 96,
    "start_time": "2022-04-14T10:21:21.838Z"
   },
   {
    "duration": 18,
    "start_time": "2022-04-14T10:21:21.936Z"
   },
   {
    "duration": 38,
    "start_time": "2022-04-14T10:21:21.956Z"
   },
   {
    "duration": 25,
    "start_time": "2022-04-14T10:21:21.996Z"
   },
   {
    "duration": 79,
    "start_time": "2022-04-14T10:21:22.023Z"
   },
   {
    "duration": 13,
    "start_time": "2022-04-14T10:21:22.104Z"
   },
   {
    "duration": 36,
    "start_time": "2022-04-14T10:21:22.119Z"
   },
   {
    "duration": 31,
    "start_time": "2022-04-14T10:21:22.195Z"
   },
   {
    "duration": 69,
    "start_time": "2022-04-14T10:21:22.228Z"
   },
   {
    "duration": 28,
    "start_time": "2022-04-14T10:21:22.299Z"
   },
   {
    "duration": 69,
    "start_time": "2022-04-14T10:21:22.329Z"
   },
   {
    "duration": 553,
    "start_time": "2022-04-14T10:56:04.103Z"
   },
   {
    "duration": 35,
    "start_time": "2022-04-14T10:56:04.659Z"
   },
   {
    "duration": 22,
    "start_time": "2022-04-14T10:56:04.700Z"
   },
   {
    "duration": 19,
    "start_time": "2022-04-14T10:56:04.724Z"
   },
   {
    "duration": 51,
    "start_time": "2022-04-14T10:56:04.746Z"
   },
   {
    "duration": 9,
    "start_time": "2022-04-14T10:56:04.800Z"
   },
   {
    "duration": 25,
    "start_time": "2022-04-14T10:56:04.811Z"
   },
   {
    "duration": 55,
    "start_time": "2022-04-14T10:56:04.838Z"
   },
   {
    "duration": 7,
    "start_time": "2022-04-14T10:56:04.897Z"
   },
   {
    "duration": 27,
    "start_time": "2022-04-14T10:56:04.906Z"
   },
   {
    "duration": 7,
    "start_time": "2022-04-14T10:56:04.935Z"
   },
   {
    "duration": 61,
    "start_time": "2022-04-14T10:56:04.944Z"
   },
   {
    "duration": 25,
    "start_time": "2022-04-14T10:56:05.007Z"
   },
   {
    "duration": 9,
    "start_time": "2022-04-14T10:56:05.034Z"
   },
   {
    "duration": 71,
    "start_time": "2022-04-14T10:56:05.045Z"
   },
   {
    "duration": 40,
    "start_time": "2022-04-14T10:56:05.118Z"
   },
   {
    "duration": 49,
    "start_time": "2022-04-14T10:56:05.160Z"
   },
   {
    "duration": 26,
    "start_time": "2022-04-14T10:56:05.211Z"
   },
   {
    "duration": 93,
    "start_time": "2022-04-14T10:56:05.239Z"
   },
   {
    "duration": 17,
    "start_time": "2022-04-14T10:56:05.334Z"
   },
   {
    "duration": 41,
    "start_time": "2022-04-14T10:56:05.353Z"
   },
   {
    "duration": 23,
    "start_time": "2022-04-14T10:56:05.397Z"
   },
   {
    "duration": 54,
    "start_time": "2022-04-14T10:56:05.422Z"
   },
   {
    "duration": 14,
    "start_time": "2022-04-14T10:56:05.494Z"
   },
   {
    "duration": 47,
    "start_time": "2022-04-14T10:56:05.510Z"
   },
   {
    "duration": 51,
    "start_time": "2022-04-14T10:56:05.559Z"
   },
   {
    "duration": 33,
    "start_time": "2022-04-14T10:56:05.614Z"
   },
   {
    "duration": 59,
    "start_time": "2022-04-14T10:56:05.649Z"
   },
   {
    "duration": 30,
    "start_time": "2022-04-14T10:56:05.710Z"
   },
   {
    "duration": 60,
    "start_time": "2022-04-14T11:08:20.896Z"
   },
   {
    "duration": 677,
    "start_time": "2022-04-14T11:08:44.254Z"
   },
   {
    "duration": 34,
    "start_time": "2022-04-14T11:08:44.935Z"
   },
   {
    "duration": 34,
    "start_time": "2022-04-14T11:08:44.971Z"
   },
   {
    "duration": 20,
    "start_time": "2022-04-14T11:08:45.008Z"
   },
   {
    "duration": 11,
    "start_time": "2022-04-14T11:08:45.030Z"
   },
   {
    "duration": 57,
    "start_time": "2022-04-14T11:08:45.043Z"
   },
   {
    "duration": 26,
    "start_time": "2022-04-14T11:08:45.102Z"
   },
   {
    "duration": 22,
    "start_time": "2022-04-14T11:08:45.130Z"
   },
   {
    "duration": 43,
    "start_time": "2022-04-14T11:08:45.155Z"
   },
   {
    "duration": 29,
    "start_time": "2022-04-14T11:08:45.204Z"
   },
   {
    "duration": 10,
    "start_time": "2022-04-14T11:08:45.236Z"
   },
   {
    "duration": 21,
    "start_time": "2022-04-14T11:08:45.292Z"
   },
   {
    "duration": 27,
    "start_time": "2022-04-14T11:08:45.316Z"
   },
   {
    "duration": 55,
    "start_time": "2022-04-14T11:08:45.346Z"
   },
   {
    "duration": 28,
    "start_time": "2022-04-14T11:08:45.404Z"
   },
   {
    "duration": 84,
    "start_time": "2022-04-14T11:08:45.435Z"
   },
   {
    "duration": 25,
    "start_time": "2022-04-14T11:08:45.522Z"
   },
   {
    "duration": 61,
    "start_time": "2022-04-14T11:08:45.550Z"
   },
   {
    "duration": 82,
    "start_time": "2022-04-14T11:08:45.614Z"
   },
   {
    "duration": 17,
    "start_time": "2022-04-14T11:08:45.699Z"
   },
   {
    "duration": 16,
    "start_time": "2022-04-14T11:08:45.719Z"
   },
   {
    "duration": 77,
    "start_time": "2022-04-14T11:08:45.739Z"
   },
   {
    "duration": 76,
    "start_time": "2022-04-14T11:08:45.820Z"
   },
   {
    "duration": 15,
    "start_time": "2022-04-14T11:08:45.899Z"
   },
   {
    "duration": 77,
    "start_time": "2022-04-14T11:08:45.917Z"
   },
   {
    "duration": 30,
    "start_time": "2022-04-14T11:08:45.996Z"
   },
   {
    "duration": 74,
    "start_time": "2022-04-14T11:08:46.028Z"
   },
   {
    "duration": 27,
    "start_time": "2022-04-14T11:08:46.107Z"
   },
   {
    "duration": 80,
    "start_time": "2022-04-14T11:08:46.137Z"
   },
   {
    "duration": 120,
    "start_time": "2022-04-14T12:50:38.255Z"
   },
   {
    "duration": 32,
    "start_time": "2022-04-14T12:51:31.792Z"
   },
   {
    "duration": 34,
    "start_time": "2022-04-14T12:51:58.889Z"
   },
   {
    "duration": 551,
    "start_time": "2022-04-14T14:01:33.910Z"
   },
   {
    "duration": 29,
    "start_time": "2022-04-14T14:01:34.464Z"
   },
   {
    "duration": 27,
    "start_time": "2022-04-14T14:01:34.495Z"
   },
   {
    "duration": 19,
    "start_time": "2022-04-14T14:01:34.525Z"
   },
   {
    "duration": 7,
    "start_time": "2022-04-14T14:01:34.546Z"
   },
   {
    "duration": 39,
    "start_time": "2022-04-14T14:01:34.555Z"
   },
   {
    "duration": 39,
    "start_time": "2022-04-14T14:01:34.596Z"
   },
   {
    "duration": 19,
    "start_time": "2022-04-14T14:01:34.638Z"
   },
   {
    "duration": 38,
    "start_time": "2022-04-14T14:01:34.659Z"
   },
   {
    "duration": 41,
    "start_time": "2022-04-14T14:01:34.701Z"
   },
   {
    "duration": 7,
    "start_time": "2022-04-14T14:01:34.744Z"
   },
   {
    "duration": 41,
    "start_time": "2022-04-14T14:01:34.753Z"
   },
   {
    "duration": 22,
    "start_time": "2022-04-14T14:01:34.796Z"
   },
   {
    "duration": 8,
    "start_time": "2022-04-14T14:01:34.820Z"
   },
   {
    "duration": 67,
    "start_time": "2022-04-14T14:01:34.830Z"
   },
   {
    "duration": 40,
    "start_time": "2022-04-14T14:01:34.899Z"
   },
   {
    "duration": 22,
    "start_time": "2022-04-14T14:01:34.941Z"
   },
   {
    "duration": 50,
    "start_time": "2022-04-14T14:01:34.965Z"
   },
   {
    "duration": 92,
    "start_time": "2022-04-14T14:01:35.017Z"
   },
   {
    "duration": 16,
    "start_time": "2022-04-14T14:01:35.111Z"
   },
   {
    "duration": 15,
    "start_time": "2022-04-14T14:01:35.129Z"
   },
   {
    "duration": 60,
    "start_time": "2022-04-14T14:01:35.146Z"
   },
   {
    "duration": 39,
    "start_time": "2022-04-14T14:01:35.208Z"
   },
   {
    "duration": 9,
    "start_time": "2022-04-14T14:01:35.250Z"
   },
   {
    "duration": 41,
    "start_time": "2022-04-14T14:01:35.293Z"
   },
   {
    "duration": 76,
    "start_time": "2022-04-14T14:01:35.337Z"
   },
   {
    "duration": 37,
    "start_time": "2022-04-14T14:01:35.415Z"
   },
   {
    "duration": 58,
    "start_time": "2022-04-14T14:01:35.459Z"
   },
   {
    "duration": 29,
    "start_time": "2022-04-14T14:01:35.520Z"
   },
   {
    "duration": 615,
    "start_time": "2022-04-14T14:39:11.960Z"
   },
   {
    "duration": 38,
    "start_time": "2022-04-14T14:39:12.578Z"
   },
   {
    "duration": 21,
    "start_time": "2022-04-14T14:39:12.618Z"
   },
   {
    "duration": 54,
    "start_time": "2022-04-14T14:39:12.641Z"
   },
   {
    "duration": 17,
    "start_time": "2022-04-14T14:39:12.698Z"
   },
   {
    "duration": 7,
    "start_time": "2022-04-14T14:39:12.717Z"
   },
   {
    "duration": 26,
    "start_time": "2022-04-14T14:39:12.726Z"
   },
   {
    "duration": 61,
    "start_time": "2022-04-14T14:39:12.754Z"
   },
   {
    "duration": 7,
    "start_time": "2022-04-14T14:39:12.817Z"
   },
   {
    "duration": 68,
    "start_time": "2022-04-14T14:39:12.828Z"
   },
   {
    "duration": 10,
    "start_time": "2022-04-14T14:39:12.899Z"
   },
   {
    "duration": 19,
    "start_time": "2022-04-14T14:39:12.911Z"
   },
   {
    "duration": 65,
    "start_time": "2022-04-14T14:39:12.932Z"
   },
   {
    "duration": 12,
    "start_time": "2022-04-14T14:39:13.000Z"
   },
   {
    "duration": 28,
    "start_time": "2022-04-14T14:39:13.014Z"
   },
   {
    "duration": 91,
    "start_time": "2022-04-14T14:39:13.044Z"
   },
   {
    "duration": 22,
    "start_time": "2022-04-14T14:39:13.138Z"
   },
   {
    "duration": 51,
    "start_time": "2022-04-14T14:39:13.161Z"
   },
   {
    "duration": 90,
    "start_time": "2022-04-14T14:39:13.214Z"
   },
   {
    "duration": 18,
    "start_time": "2022-04-14T14:39:13.307Z"
   },
   {
    "duration": 17,
    "start_time": "2022-04-14T14:39:13.327Z"
   },
   {
    "duration": 58,
    "start_time": "2022-04-14T14:39:13.346Z"
   },
   {
    "duration": 41,
    "start_time": "2022-04-14T14:39:13.407Z"
   },
   {
    "duration": 9,
    "start_time": "2022-04-14T14:39:13.450Z"
   },
   {
    "duration": 45,
    "start_time": "2022-04-14T14:39:13.494Z"
   },
   {
    "duration": 74,
    "start_time": "2022-04-14T14:39:13.541Z"
   },
   {
    "duration": 35,
    "start_time": "2022-04-14T14:39:13.617Z"
   },
   {
    "duration": 58,
    "start_time": "2022-04-14T14:39:13.656Z"
   },
   {
    "duration": 30,
    "start_time": "2022-04-14T14:39:13.716Z"
   },
   {
    "duration": 565,
    "start_time": "2022-04-23T22:45:21.200Z"
   },
   {
    "duration": 31,
    "start_time": "2022-04-23T22:45:21.768Z"
   },
   {
    "duration": 23,
    "start_time": "2022-04-23T22:45:21.801Z"
   },
   {
    "duration": 21,
    "start_time": "2022-04-23T22:45:21.827Z"
   },
   {
    "duration": 8,
    "start_time": "2022-04-23T22:45:21.883Z"
   },
   {
    "duration": 7,
    "start_time": "2022-04-23T22:45:21.893Z"
   },
   {
    "duration": 27,
    "start_time": "2022-04-23T22:45:21.902Z"
   },
   {
    "duration": 58,
    "start_time": "2022-04-23T22:45:21.931Z"
   },
   {
    "duration": 7,
    "start_time": "2022-04-23T22:45:21.991Z"
   },
   {
    "duration": 27,
    "start_time": "2022-04-23T22:45:22.003Z"
   },
   {
    "duration": 8,
    "start_time": "2022-04-23T22:45:22.032Z"
   },
   {
    "duration": 16,
    "start_time": "2022-04-23T22:45:22.081Z"
   },
   {
    "duration": 25,
    "start_time": "2022-04-23T22:45:22.099Z"
   },
   {
    "duration": 8,
    "start_time": "2022-04-23T22:45:22.126Z"
   },
   {
    "duration": 66,
    "start_time": "2022-04-23T22:45:22.137Z"
   },
   {
    "duration": 41,
    "start_time": "2022-04-23T22:45:22.205Z"
   },
   {
    "duration": 47,
    "start_time": "2022-04-23T22:45:22.249Z"
   },
   {
    "duration": 27,
    "start_time": "2022-04-23T22:45:22.298Z"
   },
   {
    "duration": 92,
    "start_time": "2022-04-23T22:45:22.327Z"
   },
   {
    "duration": 16,
    "start_time": "2022-04-23T22:45:22.421Z"
   },
   {
    "duration": 48,
    "start_time": "2022-04-23T22:45:22.440Z"
   },
   {
    "duration": 21,
    "start_time": "2022-04-23T22:45:22.491Z"
   },
   {
    "duration": 39,
    "start_time": "2022-04-23T22:45:22.514Z"
   },
   {
    "duration": 11,
    "start_time": "2022-04-23T22:45:22.582Z"
   },
   {
    "duration": 35,
    "start_time": "2022-04-23T22:45:22.595Z"
   },
   {
    "duration": 61,
    "start_time": "2022-04-23T22:45:22.632Z"
   },
   {
    "duration": 686,
    "start_time": "2022-04-23T22:45:22.695Z"
   },
   {
    "duration": 37,
    "start_time": "2022-04-23T22:45:23.386Z"
   },
   {
    "duration": 27,
    "start_time": "2022-04-23T22:45:23.425Z"
   },
   {
    "duration": 32,
    "start_time": "2022-04-23T22:45:23.482Z"
   },
   {
    "duration": 447,
    "start_time": "2022-04-24T08:08:16.357Z"
   },
   {
    "duration": 20,
    "start_time": "2022-04-24T08:08:16.806Z"
   },
   {
    "duration": 16,
    "start_time": "2022-04-24T08:08:16.828Z"
   },
   {
    "duration": 12,
    "start_time": "2022-04-24T08:08:16.846Z"
   },
   {
    "duration": 13,
    "start_time": "2022-04-24T08:08:16.860Z"
   },
   {
    "duration": 6,
    "start_time": "2022-04-24T08:08:16.908Z"
   },
   {
    "duration": 7,
    "start_time": "2022-04-24T08:08:16.915Z"
   },
   {
    "duration": 18,
    "start_time": "2022-04-24T08:08:16.923Z"
   },
   {
    "duration": 15,
    "start_time": "2022-04-24T08:08:16.942Z"
   },
   {
    "duration": 5,
    "start_time": "2022-04-24T08:08:16.959Z"
   },
   {
    "duration": 56,
    "start_time": "2022-04-24T08:08:16.966Z"
   },
   {
    "duration": 5,
    "start_time": "2022-04-24T08:08:17.024Z"
   },
   {
    "duration": 10,
    "start_time": "2022-04-24T08:08:17.031Z"
   },
   {
    "duration": 16,
    "start_time": "2022-04-24T08:08:17.044Z"
   },
   {
    "duration": 6,
    "start_time": "2022-04-24T08:08:17.062Z"
   },
   {
    "duration": 51,
    "start_time": "2022-04-24T08:08:17.069Z"
   },
   {
    "duration": 27,
    "start_time": "2022-04-24T08:08:17.122Z"
   },
   {
    "duration": 18,
    "start_time": "2022-04-24T08:08:17.151Z"
   },
   {
    "duration": 46,
    "start_time": "2022-04-24T08:08:17.171Z"
   },
   {
    "duration": 46,
    "start_time": "2022-04-24T08:08:17.218Z"
   },
   {
    "duration": 11,
    "start_time": "2022-04-24T08:08:17.266Z"
   },
   {
    "duration": 33,
    "start_time": "2022-04-24T08:08:17.279Z"
   },
   {
    "duration": 15,
    "start_time": "2022-04-24T08:08:17.313Z"
   },
   {
    "duration": 25,
    "start_time": "2022-04-24T08:08:17.330Z"
   },
   {
    "duration": 7,
    "start_time": "2022-04-24T08:08:17.357Z"
   },
   {
    "duration": 56,
    "start_time": "2022-04-24T08:08:17.365Z"
   },
   {
    "duration": 19,
    "start_time": "2022-04-24T08:08:17.423Z"
   },
   {
    "duration": 463,
    "start_time": "2022-04-24T08:08:17.444Z"
   },
   {
    "duration": 24,
    "start_time": "2022-04-24T08:08:17.909Z"
   },
   {
    "duration": 18,
    "start_time": "2022-04-24T08:08:17.935Z"
   },
   {
    "duration": 19,
    "start_time": "2022-04-24T08:08:17.955Z"
   },
   {
    "duration": 456,
    "start_time": "2022-04-24T08:08:57.009Z"
   },
   {
    "duration": 20,
    "start_time": "2022-04-24T08:08:57.467Z"
   },
   {
    "duration": 15,
    "start_time": "2022-04-24T08:08:57.488Z"
   },
   {
    "duration": 12,
    "start_time": "2022-04-24T08:08:57.506Z"
   },
   {
    "duration": 13,
    "start_time": "2022-04-24T08:08:57.519Z"
   },
   {
    "duration": 5,
    "start_time": "2022-04-24T08:08:57.533Z"
   },
   {
    "duration": 5,
    "start_time": "2022-04-24T08:08:57.539Z"
   },
   {
    "duration": 16,
    "start_time": "2022-04-24T08:08:57.545Z"
   },
   {
    "duration": 47,
    "start_time": "2022-04-24T08:08:57.562Z"
   },
   {
    "duration": 9,
    "start_time": "2022-04-24T08:08:57.611Z"
   },
   {
    "duration": 16,
    "start_time": "2022-04-24T08:08:57.622Z"
   },
   {
    "duration": 4,
    "start_time": "2022-04-24T08:08:57.640Z"
   },
   {
    "duration": 14,
    "start_time": "2022-04-24T08:08:57.645Z"
   },
   {
    "duration": 15,
    "start_time": "2022-04-24T08:08:57.660Z"
   },
   {
    "duration": 6,
    "start_time": "2022-04-24T08:08:57.707Z"
   },
   {
    "duration": 16,
    "start_time": "2022-04-24T08:08:57.715Z"
   },
   {
    "duration": 24,
    "start_time": "2022-04-24T08:08:57.732Z"
   },
   {
    "duration": 14,
    "start_time": "2022-04-24T08:08:57.758Z"
   },
   {
    "duration": 48,
    "start_time": "2022-04-24T08:08:57.773Z"
   },
   {
    "duration": 41,
    "start_time": "2022-04-24T08:08:57.823Z"
   },
   {
    "duration": 11,
    "start_time": "2022-04-24T08:08:57.865Z"
   },
   {
    "duration": 30,
    "start_time": "2022-04-24T08:08:57.877Z"
   },
   {
    "duration": 14,
    "start_time": "2022-04-24T08:08:57.908Z"
   },
   {
    "duration": 20,
    "start_time": "2022-04-24T08:08:57.924Z"
   },
   {
    "duration": 6,
    "start_time": "2022-04-24T08:08:57.946Z"
   },
   {
    "duration": 22,
    "start_time": "2022-04-24T08:08:57.953Z"
   },
   {
    "duration": 47,
    "start_time": "2022-04-24T08:08:57.976Z"
   },
   {
    "duration": 282,
    "start_time": "2022-04-24T08:08:58.026Z"
   },
   {
    "duration": 22,
    "start_time": "2022-04-24T08:08:58.310Z"
   },
   {
    "duration": 17,
    "start_time": "2022-04-24T08:08:58.334Z"
   },
   {
    "duration": 18,
    "start_time": "2022-04-24T08:08:58.352Z"
   },
   {
    "duration": 393,
    "start_time": "2022-04-24T08:09:57.264Z"
   },
   {
    "duration": 20,
    "start_time": "2022-04-24T08:09:57.659Z"
   },
   {
    "duration": 26,
    "start_time": "2022-04-24T08:09:57.681Z"
   },
   {
    "duration": 33,
    "start_time": "2022-04-24T08:09:57.710Z"
   },
   {
    "duration": 13,
    "start_time": "2022-04-24T08:09:57.745Z"
   },
   {
    "duration": 5,
    "start_time": "2022-04-24T08:09:57.759Z"
   },
   {
    "duration": 7,
    "start_time": "2022-04-24T08:09:57.765Z"
   },
   {
    "duration": 44,
    "start_time": "2022-04-24T08:09:57.773Z"
   },
   {
    "duration": 15,
    "start_time": "2022-04-24T08:09:57.818Z"
   },
   {
    "duration": 5,
    "start_time": "2022-04-24T08:09:57.835Z"
   },
   {
    "duration": 18,
    "start_time": "2022-04-24T08:09:57.841Z"
   },
   {
    "duration": 5,
    "start_time": "2022-04-24T08:09:57.860Z"
   },
   {
    "duration": 44,
    "start_time": "2022-04-24T08:09:57.866Z"
   },
   {
    "duration": 15,
    "start_time": "2022-04-24T08:09:57.912Z"
   },
   {
    "duration": 5,
    "start_time": "2022-04-24T08:09:57.928Z"
   },
   {
    "duration": 19,
    "start_time": "2022-04-24T08:09:57.935Z"
   },
   {
    "duration": 56,
    "start_time": "2022-04-24T08:09:57.956Z"
   },
   {
    "duration": 16,
    "start_time": "2022-04-24T08:09:58.013Z"
   },
   {
    "duration": 20,
    "start_time": "2022-04-24T08:09:58.030Z"
   },
   {
    "duration": 66,
    "start_time": "2022-04-24T08:09:58.051Z"
   },
   {
    "duration": 12,
    "start_time": "2022-04-24T08:09:58.118Z"
   },
   {
    "duration": 10,
    "start_time": "2022-04-24T08:09:58.132Z"
   },
   {
    "duration": 14,
    "start_time": "2022-04-24T08:09:58.144Z"
   },
   {
    "duration": 51,
    "start_time": "2022-04-24T08:09:58.159Z"
   },
   {
    "duration": 7,
    "start_time": "2022-04-24T08:09:58.212Z"
   },
   {
    "duration": 24,
    "start_time": "2022-04-24T08:09:58.220Z"
   },
   {
    "duration": 18,
    "start_time": "2022-04-24T08:09:58.245Z"
   },
   {
    "duration": 283,
    "start_time": "2022-04-24T08:09:58.266Z"
   },
   {
    "duration": 23,
    "start_time": "2022-04-24T08:09:58.551Z"
   },
   {
    "duration": 17,
    "start_time": "2022-04-24T08:09:58.576Z"
   },
   {
    "duration": 19,
    "start_time": "2022-04-24T08:09:58.606Z"
   },
   {
    "duration": 81,
    "start_time": "2022-04-24T08:17:38.161Z"
   },
   {
    "duration": 4,
    "start_time": "2022-04-24T08:17:45.123Z"
   },
   {
    "duration": 415,
    "start_time": "2022-04-24T08:18:54.168Z"
   },
   {
    "duration": 19,
    "start_time": "2022-04-24T08:18:54.585Z"
   },
   {
    "duration": 15,
    "start_time": "2022-04-24T08:18:54.607Z"
   },
   {
    "duration": 30,
    "start_time": "2022-04-24T08:18:54.624Z"
   },
   {
    "duration": 12,
    "start_time": "2022-04-24T08:18:54.655Z"
   },
   {
    "duration": 4,
    "start_time": "2022-04-24T08:18:54.668Z"
   },
   {
    "duration": 35,
    "start_time": "2022-04-24T08:18:54.674Z"
   },
   {
    "duration": 7,
    "start_time": "2022-04-24T08:18:54.710Z"
   },
   {
    "duration": 18,
    "start_time": "2022-04-24T08:18:54.718Z"
   },
   {
    "duration": 12,
    "start_time": "2022-04-24T08:18:54.739Z"
   },
   {
    "duration": 4,
    "start_time": "2022-04-24T08:18:54.753Z"
   },
   {
    "duration": 48,
    "start_time": "2022-04-24T08:18:54.759Z"
   },
   {
    "duration": 5,
    "start_time": "2022-04-24T08:18:54.809Z"
   },
   {
    "duration": 10,
    "start_time": "2022-04-24T08:18:54.815Z"
   },
   {
    "duration": 16,
    "start_time": "2022-04-24T08:18:54.827Z"
   },
   {
    "duration": 5,
    "start_time": "2022-04-24T08:18:54.844Z"
   },
   {
    "duration": 16,
    "start_time": "2022-04-24T08:18:54.851Z"
   },
   {
    "duration": 59,
    "start_time": "2022-04-24T08:18:54.868Z"
   },
   {
    "duration": 15,
    "start_time": "2022-04-24T08:18:54.929Z"
   },
   {
    "duration": 17,
    "start_time": "2022-04-24T08:18:54.946Z"
   },
   {
    "duration": 63,
    "start_time": "2022-04-24T08:18:54.964Z"
   },
   {
    "duration": 11,
    "start_time": "2022-04-24T08:18:55.028Z"
   },
   {
    "duration": 12,
    "start_time": "2022-04-24T08:18:55.040Z"
   },
   {
    "duration": 14,
    "start_time": "2022-04-24T08:18:55.053Z"
   },
   {
    "duration": 52,
    "start_time": "2022-04-24T08:18:55.068Z"
   },
   {
    "duration": 6,
    "start_time": "2022-04-24T08:18:55.122Z"
   },
   {
    "duration": 21,
    "start_time": "2022-04-24T08:18:55.130Z"
   },
   {
    "duration": 17,
    "start_time": "2022-04-24T08:18:55.154Z"
   },
   {
    "duration": 282,
    "start_time": "2022-04-24T08:18:55.173Z"
   },
   {
    "duration": 22,
    "start_time": "2022-04-24T08:18:55.457Z"
   },
   {
    "duration": 29,
    "start_time": "2022-04-24T08:18:55.481Z"
   },
   {
    "duration": 17,
    "start_time": "2022-04-24T08:18:55.512Z"
   },
   {
    "duration": 431,
    "start_time": "2022-04-24T08:20:39.146Z"
   },
   {
    "duration": 20,
    "start_time": "2022-04-24T08:20:39.579Z"
   },
   {
    "duration": 16,
    "start_time": "2022-04-24T08:20:39.601Z"
   },
   {
    "duration": 33,
    "start_time": "2022-04-24T08:20:39.619Z"
   },
   {
    "duration": 14,
    "start_time": "2022-04-24T08:20:39.653Z"
   },
   {
    "duration": 5,
    "start_time": "2022-04-24T08:20:39.668Z"
   },
   {
    "duration": 162,
    "start_time": "2022-04-24T08:20:39.674Z"
   },
   {
    "duration": 0,
    "start_time": "2022-04-24T08:20:39.838Z"
   },
   {
    "duration": 0,
    "start_time": "2022-04-24T08:20:39.839Z"
   },
   {
    "duration": 0,
    "start_time": "2022-04-24T08:20:39.841Z"
   },
   {
    "duration": 0,
    "start_time": "2022-04-24T08:20:39.842Z"
   },
   {
    "duration": 0,
    "start_time": "2022-04-24T08:20:39.843Z"
   },
   {
    "duration": 1,
    "start_time": "2022-04-24T08:20:39.843Z"
   },
   {
    "duration": 0,
    "start_time": "2022-04-24T08:20:39.845Z"
   },
   {
    "duration": 0,
    "start_time": "2022-04-24T08:20:39.846Z"
   },
   {
    "duration": 0,
    "start_time": "2022-04-24T08:20:39.847Z"
   },
   {
    "duration": 0,
    "start_time": "2022-04-24T08:20:39.848Z"
   },
   {
    "duration": 0,
    "start_time": "2022-04-24T08:20:39.849Z"
   },
   {
    "duration": 0,
    "start_time": "2022-04-24T08:20:39.850Z"
   },
   {
    "duration": 0,
    "start_time": "2022-04-24T08:20:39.851Z"
   },
   {
    "duration": 0,
    "start_time": "2022-04-24T08:20:39.852Z"
   },
   {
    "duration": 0,
    "start_time": "2022-04-24T08:20:39.853Z"
   },
   {
    "duration": 0,
    "start_time": "2022-04-24T08:20:39.854Z"
   },
   {
    "duration": 0,
    "start_time": "2022-04-24T08:20:39.856Z"
   },
   {
    "duration": 0,
    "start_time": "2022-04-24T08:20:39.856Z"
   },
   {
    "duration": 0,
    "start_time": "2022-04-24T08:20:39.857Z"
   },
   {
    "duration": 0,
    "start_time": "2022-04-24T08:20:39.858Z"
   },
   {
    "duration": 0,
    "start_time": "2022-04-24T08:20:39.859Z"
   },
   {
    "duration": 0,
    "start_time": "2022-04-24T08:20:39.860Z"
   },
   {
    "duration": 0,
    "start_time": "2022-04-24T08:20:39.861Z"
   },
   {
    "duration": 0,
    "start_time": "2022-04-24T08:20:39.863Z"
   },
   {
    "duration": 0,
    "start_time": "2022-04-24T08:20:39.864Z"
   },
   {
    "duration": 465,
    "start_time": "2022-04-24T08:21:23.475Z"
   },
   {
    "duration": 19,
    "start_time": "2022-04-24T08:21:23.942Z"
   },
   {
    "duration": 16,
    "start_time": "2022-04-24T08:21:23.962Z"
   },
   {
    "duration": 48,
    "start_time": "2022-04-24T08:21:23.980Z"
   },
   {
    "duration": 12,
    "start_time": "2022-04-24T08:21:24.030Z"
   },
   {
    "duration": 5,
    "start_time": "2022-04-24T08:21:24.043Z"
   },
   {
    "duration": 5,
    "start_time": "2022-04-24T08:21:24.049Z"
   },
   {
    "duration": 5,
    "start_time": "2022-04-24T08:21:24.055Z"
   },
   {
    "duration": 46,
    "start_time": "2022-04-24T08:21:24.061Z"
   },
   {
    "duration": 13,
    "start_time": "2022-04-24T08:21:24.110Z"
   },
   {
    "duration": 8,
    "start_time": "2022-04-24T08:21:24.124Z"
   },
   {
    "duration": 18,
    "start_time": "2022-04-24T08:21:24.134Z"
   },
   {
    "duration": 5,
    "start_time": "2022-04-24T08:21:24.153Z"
   },
   {
    "duration": 12,
    "start_time": "2022-04-24T08:21:24.160Z"
   },
   {
    "duration": 47,
    "start_time": "2022-04-24T08:21:24.174Z"
   },
   {
    "duration": 7,
    "start_time": "2022-04-24T08:21:24.222Z"
   },
   {
    "duration": 18,
    "start_time": "2022-04-24T08:21:24.230Z"
   },
   {
    "duration": 29,
    "start_time": "2022-04-24T08:21:24.249Z"
   },
   {
    "duration": 41,
    "start_time": "2022-04-24T08:21:24.280Z"
   },
   {
    "duration": 21,
    "start_time": "2022-04-24T08:21:24.323Z"
   },
   {
    "duration": 42,
    "start_time": "2022-04-24T08:21:24.346Z"
   },
   {
    "duration": 12,
    "start_time": "2022-04-24T08:21:24.408Z"
   },
   {
    "duration": 11,
    "start_time": "2022-04-24T08:21:24.422Z"
   },
   {
    "duration": 14,
    "start_time": "2022-04-24T08:21:24.434Z"
   },
   {
    "duration": 24,
    "start_time": "2022-04-24T08:21:24.449Z"
   },
   {
    "duration": 8,
    "start_time": "2022-04-24T08:21:24.507Z"
   },
   {
    "duration": 25,
    "start_time": "2022-04-24T08:21:24.517Z"
   },
   {
    "duration": 20,
    "start_time": "2022-04-24T08:21:24.545Z"
   },
   {
    "duration": 298,
    "start_time": "2022-04-24T08:21:24.567Z"
   },
   {
    "duration": 25,
    "start_time": "2022-04-24T08:21:24.867Z"
   },
   {
    "duration": 28,
    "start_time": "2022-04-24T08:21:24.894Z"
   },
   {
    "duration": 21,
    "start_time": "2022-04-24T08:21:24.924Z"
   },
   {
    "duration": 407,
    "start_time": "2022-04-24T08:28:41.762Z"
   },
   {
    "duration": 18,
    "start_time": "2022-04-24T08:28:42.171Z"
   },
   {
    "duration": 19,
    "start_time": "2022-04-24T08:28:42.191Z"
   },
   {
    "duration": 30,
    "start_time": "2022-04-24T08:28:42.211Z"
   },
   {
    "duration": 11,
    "start_time": "2022-04-24T08:28:42.243Z"
   },
   {
    "duration": 7,
    "start_time": "2022-04-24T08:28:42.256Z"
   },
   {
    "duration": 5,
    "start_time": "2022-04-24T08:28:42.265Z"
   },
   {
    "duration": 36,
    "start_time": "2022-04-24T08:28:42.272Z"
   },
   {
    "duration": 16,
    "start_time": "2022-04-24T08:28:42.309Z"
   },
   {
    "duration": 12,
    "start_time": "2022-04-24T08:28:42.327Z"
   },
   {
    "duration": 7,
    "start_time": "2022-04-24T08:28:42.340Z"
   },
   {
    "duration": 16,
    "start_time": "2022-04-24T08:28:42.349Z"
   },
   {
    "duration": 4,
    "start_time": "2022-04-24T08:28:42.367Z"
   },
   {
    "duration": 36,
    "start_time": "2022-04-24T08:28:42.372Z"
   },
   {
    "duration": 10,
    "start_time": "2022-04-24T08:28:42.409Z"
   },
   {
    "duration": 14,
    "start_time": "2022-04-24T08:28:42.421Z"
   },
   {
    "duration": 7,
    "start_time": "2022-04-24T08:28:42.437Z"
   },
   {
    "duration": 17,
    "start_time": "2022-04-24T08:28:42.445Z"
   },
   {
    "duration": 50,
    "start_time": "2022-04-24T08:28:42.464Z"
   },
   {
    "duration": 16,
    "start_time": "2022-04-24T08:28:42.516Z"
   },
   {
    "duration": 19,
    "start_time": "2022-04-24T08:28:42.533Z"
   },
   {
    "duration": 66,
    "start_time": "2022-04-24T08:28:42.553Z"
   },
   {
    "duration": 11,
    "start_time": "2022-04-24T08:28:42.621Z"
   },
   {
    "duration": 12,
    "start_time": "2022-04-24T08:28:42.634Z"
   },
   {
    "duration": 14,
    "start_time": "2022-04-24T08:28:42.648Z"
   },
   {
    "duration": 53,
    "start_time": "2022-04-24T08:28:42.664Z"
   },
   {
    "duration": 8,
    "start_time": "2022-04-24T08:28:42.719Z"
   },
   {
    "duration": 26,
    "start_time": "2022-04-24T08:28:42.731Z"
   },
   {
    "duration": 55,
    "start_time": "2022-04-24T08:28:42.759Z"
   },
   {
    "duration": 315,
    "start_time": "2022-04-24T08:28:42.816Z"
   },
   {
    "duration": 22,
    "start_time": "2022-04-24T08:28:43.133Z"
   },
   {
    "duration": 20,
    "start_time": "2022-04-24T08:28:43.156Z"
   },
   {
    "duration": 42,
    "start_time": "2022-04-24T08:28:43.177Z"
   },
   {
    "duration": 445,
    "start_time": "2022-04-24T08:29:41.126Z"
   },
   {
    "duration": 19,
    "start_time": "2022-04-24T08:29:41.573Z"
   },
   {
    "duration": 23,
    "start_time": "2022-04-24T08:29:41.593Z"
   },
   {
    "duration": 29,
    "start_time": "2022-04-24T08:29:41.618Z"
   },
   {
    "duration": 11,
    "start_time": "2022-04-24T08:29:41.649Z"
   },
   {
    "duration": 5,
    "start_time": "2022-04-24T08:29:41.662Z"
   },
   {
    "duration": 4,
    "start_time": "2022-04-24T08:29:41.669Z"
   },
   {
    "duration": 34,
    "start_time": "2022-04-24T08:29:41.674Z"
   },
   {
    "duration": 20,
    "start_time": "2022-04-24T08:29:41.709Z"
   },
   {
    "duration": 13,
    "start_time": "2022-04-24T08:29:41.732Z"
   },
   {
    "duration": 7,
    "start_time": "2022-04-24T08:29:41.747Z"
   },
   {
    "duration": 30,
    "start_time": "2022-04-24T08:29:41.756Z"
   },
   {
    "duration": 24,
    "start_time": "2022-04-24T08:29:41.787Z"
   },
   {
    "duration": 11,
    "start_time": "2022-04-24T08:29:41.812Z"
   },
   {
    "duration": 16,
    "start_time": "2022-04-24T08:29:41.825Z"
   },
   {
    "duration": 6,
    "start_time": "2022-04-24T08:29:41.843Z"
   },
   {
    "duration": 18,
    "start_time": "2022-04-24T08:29:41.851Z"
   },
   {
    "duration": 28,
    "start_time": "2022-04-24T08:29:41.908Z"
   },
   {
    "duration": 15,
    "start_time": "2022-04-24T08:29:41.938Z"
   },
   {
    "duration": 21,
    "start_time": "2022-04-24T08:29:41.954Z"
   },
   {
    "duration": 68,
    "start_time": "2022-04-24T08:29:41.977Z"
   },
   {
    "duration": 12,
    "start_time": "2022-04-24T08:29:42.047Z"
   },
   {
    "duration": 13,
    "start_time": "2022-04-24T08:29:42.060Z"
   },
   {
    "duration": 35,
    "start_time": "2022-04-24T08:29:42.075Z"
   },
   {
    "duration": 23,
    "start_time": "2022-04-24T08:29:42.112Z"
   },
   {
    "duration": 6,
    "start_time": "2022-04-24T08:29:42.136Z"
   },
   {
    "duration": 21,
    "start_time": "2022-04-24T08:29:42.144Z"
   },
   {
    "duration": 52,
    "start_time": "2022-04-24T08:29:42.167Z"
   },
   {
    "duration": 266,
    "start_time": "2022-04-24T08:29:42.220Z"
   },
   {
    "duration": 22,
    "start_time": "2022-04-24T08:29:42.487Z"
   },
   {
    "duration": 17,
    "start_time": "2022-04-24T08:29:42.510Z"
   },
   {
    "duration": 18,
    "start_time": "2022-04-24T08:29:42.528Z"
   },
   {
    "duration": 428,
    "start_time": "2022-04-24T08:31:59.648Z"
   },
   {
    "duration": 19,
    "start_time": "2022-04-24T08:32:00.078Z"
   },
   {
    "duration": 33,
    "start_time": "2022-04-24T08:32:00.098Z"
   },
   {
    "duration": 32,
    "start_time": "2022-04-24T08:32:00.133Z"
   },
   {
    "duration": 13,
    "start_time": "2022-04-24T08:32:00.167Z"
   },
   {
    "duration": 13,
    "start_time": "2022-04-24T08:32:00.181Z"
   },
   {
    "duration": 27,
    "start_time": "2022-04-24T08:32:00.196Z"
   },
   {
    "duration": 10,
    "start_time": "2022-04-24T08:32:00.225Z"
   },
   {
    "duration": 24,
    "start_time": "2022-04-24T08:32:00.237Z"
   },
   {
    "duration": 12,
    "start_time": "2022-04-24T08:32:00.263Z"
   },
   {
    "duration": 10,
    "start_time": "2022-04-24T08:32:00.277Z"
   },
   {
    "duration": 30,
    "start_time": "2022-04-24T08:32:00.289Z"
   },
   {
    "duration": 5,
    "start_time": "2022-04-24T08:32:00.321Z"
   },
   {
    "duration": 11,
    "start_time": "2022-04-24T08:32:00.328Z"
   },
   {
    "duration": 19,
    "start_time": "2022-04-24T08:32:00.341Z"
   },
   {
    "duration": 12,
    "start_time": "2022-04-24T08:32:00.361Z"
   },
   {
    "duration": 27,
    "start_time": "2022-04-24T08:32:00.375Z"
   },
   {
    "duration": 26,
    "start_time": "2022-04-24T08:32:00.407Z"
   },
   {
    "duration": 15,
    "start_time": "2022-04-24T08:32:00.435Z"
   },
   {
    "duration": 27,
    "start_time": "2022-04-24T08:32:00.452Z"
   },
   {
    "duration": 81,
    "start_time": "2022-04-24T08:32:00.481Z"
   },
   {
    "duration": 11,
    "start_time": "2022-04-24T08:32:00.563Z"
   },
   {
    "duration": 13,
    "start_time": "2022-04-24T08:32:00.575Z"
   },
   {
    "duration": 25,
    "start_time": "2022-04-24T08:32:00.590Z"
   },
   {
    "duration": 43,
    "start_time": "2022-04-24T08:32:00.617Z"
   },
   {
    "duration": 7,
    "start_time": "2022-04-24T08:32:00.662Z"
   },
   {
    "duration": 27,
    "start_time": "2022-04-24T08:32:00.671Z"
   },
   {
    "duration": 22,
    "start_time": "2022-04-24T08:32:00.709Z"
   },
   {
    "duration": 289,
    "start_time": "2022-04-24T08:32:00.732Z"
   },
   {
    "duration": 22,
    "start_time": "2022-04-24T08:32:01.023Z"
   },
   {
    "duration": 41,
    "start_time": "2022-04-24T08:32:01.047Z"
   },
   {
    "duration": 19,
    "start_time": "2022-04-24T08:32:01.090Z"
   },
   {
    "duration": 447,
    "start_time": "2022-04-24T08:35:55.024Z"
   },
   {
    "duration": 20,
    "start_time": "2022-04-24T08:35:55.474Z"
   },
   {
    "duration": 15,
    "start_time": "2022-04-24T08:35:55.496Z"
   },
   {
    "duration": 31,
    "start_time": "2022-04-24T08:35:55.513Z"
   },
   {
    "duration": 13,
    "start_time": "2022-04-24T08:35:55.545Z"
   },
   {
    "duration": 5,
    "start_time": "2022-04-24T08:35:55.559Z"
   },
   {
    "duration": 4,
    "start_time": "2022-04-24T08:35:55.566Z"
   },
   {
    "duration": 37,
    "start_time": "2022-04-24T08:35:55.571Z"
   },
   {
    "duration": 17,
    "start_time": "2022-04-24T08:35:55.610Z"
   },
   {
    "duration": 12,
    "start_time": "2022-04-24T08:35:55.630Z"
   },
   {
    "duration": 7,
    "start_time": "2022-04-24T08:35:55.644Z"
   },
   {
    "duration": 17,
    "start_time": "2022-04-24T08:35:55.653Z"
   },
   {
    "duration": 5,
    "start_time": "2022-04-24T08:35:55.671Z"
   },
   {
    "duration": 41,
    "start_time": "2022-04-24T08:35:55.677Z"
   },
   {
    "duration": 347,
    "start_time": "2022-04-24T08:35:55.720Z"
   },
   {
    "duration": 4,
    "start_time": "2022-04-24T08:35:56.069Z"
   },
   {
    "duration": 0,
    "start_time": "2022-04-24T08:35:56.076Z"
   },
   {
    "duration": 0,
    "start_time": "2022-04-24T08:35:56.077Z"
   },
   {
    "duration": 0,
    "start_time": "2022-04-24T08:35:56.078Z"
   },
   {
    "duration": 0,
    "start_time": "2022-04-24T08:35:56.080Z"
   },
   {
    "duration": 0,
    "start_time": "2022-04-24T08:35:56.081Z"
   },
   {
    "duration": 0,
    "start_time": "2022-04-24T08:35:56.082Z"
   },
   {
    "duration": 0,
    "start_time": "2022-04-24T08:35:56.084Z"
   },
   {
    "duration": 0,
    "start_time": "2022-04-24T08:35:56.085Z"
   },
   {
    "duration": 0,
    "start_time": "2022-04-24T08:35:56.086Z"
   },
   {
    "duration": 0,
    "start_time": "2022-04-24T08:35:56.087Z"
   },
   {
    "duration": 0,
    "start_time": "2022-04-24T08:35:56.088Z"
   },
   {
    "duration": 0,
    "start_time": "2022-04-24T08:35:56.089Z"
   },
   {
    "duration": 0,
    "start_time": "2022-04-24T08:35:56.090Z"
   },
   {
    "duration": 0,
    "start_time": "2022-04-24T08:35:56.091Z"
   },
   {
    "duration": 0,
    "start_time": "2022-04-24T08:35:56.092Z"
   },
   {
    "duration": 0,
    "start_time": "2022-04-24T08:35:56.094Z"
   },
   {
    "duration": 0,
    "start_time": "2022-04-24T08:35:56.095Z"
   },
   {
    "duration": 433,
    "start_time": "2022-04-24T08:36:37.026Z"
   },
   {
    "duration": 19,
    "start_time": "2022-04-24T08:36:37.461Z"
   },
   {
    "duration": 14,
    "start_time": "2022-04-24T08:36:37.481Z"
   },
   {
    "duration": 29,
    "start_time": "2022-04-24T08:36:37.506Z"
   },
   {
    "duration": 12,
    "start_time": "2022-04-24T08:36:37.536Z"
   },
   {
    "duration": 5,
    "start_time": "2022-04-24T08:36:37.550Z"
   },
   {
    "duration": 6,
    "start_time": "2022-04-24T08:36:37.556Z"
   },
   {
    "duration": 5,
    "start_time": "2022-04-24T08:36:37.563Z"
   },
   {
    "duration": 51,
    "start_time": "2022-04-24T08:36:37.569Z"
   },
   {
    "duration": 13,
    "start_time": "2022-04-24T08:36:37.622Z"
   },
   {
    "duration": 5,
    "start_time": "2022-04-24T08:36:37.637Z"
   },
   {
    "duration": 17,
    "start_time": "2022-04-24T08:36:37.643Z"
   },
   {
    "duration": 5,
    "start_time": "2022-04-24T08:36:37.661Z"
   },
   {
    "duration": 11,
    "start_time": "2022-04-24T08:36:37.667Z"
   },
   {
    "duration": 15,
    "start_time": "2022-04-24T08:36:37.708Z"
   },
   {
    "duration": 9,
    "start_time": "2022-04-24T08:36:37.724Z"
   },
   {
    "duration": 6,
    "start_time": "2022-04-24T08:36:37.734Z"
   },
   {
    "duration": 18,
    "start_time": "2022-04-24T08:36:37.742Z"
   },
   {
    "duration": 50,
    "start_time": "2022-04-24T08:36:37.762Z"
   },
   {
    "duration": 18,
    "start_time": "2022-04-24T08:36:37.814Z"
   },
   {
    "duration": 18,
    "start_time": "2022-04-24T08:36:37.833Z"
   },
   {
    "duration": 64,
    "start_time": "2022-04-24T08:36:37.853Z"
   },
   {
    "duration": 10,
    "start_time": "2022-04-24T08:36:37.918Z"
   },
   {
    "duration": 10,
    "start_time": "2022-04-24T08:36:37.930Z"
   },
   {
    "duration": 14,
    "start_time": "2022-04-24T08:36:37.942Z"
   },
   {
    "duration": 52,
    "start_time": "2022-04-24T08:36:37.957Z"
   },
   {
    "duration": 7,
    "start_time": "2022-04-24T08:36:38.011Z"
   },
   {
    "duration": 24,
    "start_time": "2022-04-24T08:36:38.021Z"
   },
   {
    "duration": 20,
    "start_time": "2022-04-24T08:36:38.046Z"
   },
   {
    "duration": 287,
    "start_time": "2022-04-24T08:36:38.067Z"
   },
   {
    "duration": 23,
    "start_time": "2022-04-24T08:36:38.355Z"
   },
   {
    "duration": 29,
    "start_time": "2022-04-24T08:36:38.379Z"
   },
   {
    "duration": 17,
    "start_time": "2022-04-24T08:36:38.410Z"
   },
   {
    "duration": 10,
    "start_time": "2022-04-24T08:37:23.503Z"
   },
   {
    "duration": 462,
    "start_time": "2022-04-24T08:37:45.589Z"
   },
   {
    "duration": 18,
    "start_time": "2022-04-24T08:37:46.053Z"
   },
   {
    "duration": 14,
    "start_time": "2022-04-24T08:37:46.073Z"
   },
   {
    "duration": 43,
    "start_time": "2022-04-24T08:37:46.089Z"
   },
   {
    "duration": 11,
    "start_time": "2022-04-24T08:37:46.134Z"
   },
   {
    "duration": 4,
    "start_time": "2022-04-24T08:37:46.147Z"
   },
   {
    "duration": 4,
    "start_time": "2022-04-24T08:37:46.153Z"
   },
   {
    "duration": 4,
    "start_time": "2022-04-24T08:37:46.159Z"
   },
   {
    "duration": 43,
    "start_time": "2022-04-24T08:37:46.165Z"
   },
   {
    "duration": 13,
    "start_time": "2022-04-24T08:37:46.211Z"
   },
   {
    "duration": 5,
    "start_time": "2022-04-24T08:37:46.225Z"
   },
   {
    "duration": 17,
    "start_time": "2022-04-24T08:37:46.232Z"
   },
   {
    "duration": 5,
    "start_time": "2022-04-24T08:37:46.250Z"
   },
   {
    "duration": 9,
    "start_time": "2022-04-24T08:37:46.257Z"
   },
   {
    "duration": 45,
    "start_time": "2022-04-24T08:37:46.268Z"
   },
   {
    "duration": 92,
    "start_time": "2022-04-24T08:37:46.315Z"
   },
   {
    "duration": 0,
    "start_time": "2022-04-24T08:37:46.409Z"
   },
   {
    "duration": 0,
    "start_time": "2022-04-24T08:37:46.410Z"
   },
   {
    "duration": 0,
    "start_time": "2022-04-24T08:37:46.411Z"
   },
   {
    "duration": 0,
    "start_time": "2022-04-24T08:37:46.413Z"
   },
   {
    "duration": 0,
    "start_time": "2022-04-24T08:37:46.414Z"
   },
   {
    "duration": 0,
    "start_time": "2022-04-24T08:37:46.415Z"
   },
   {
    "duration": 0,
    "start_time": "2022-04-24T08:37:46.416Z"
   },
   {
    "duration": 0,
    "start_time": "2022-04-24T08:37:46.417Z"
   },
   {
    "duration": 0,
    "start_time": "2022-04-24T08:37:46.419Z"
   },
   {
    "duration": 0,
    "start_time": "2022-04-24T08:37:46.419Z"
   },
   {
    "duration": 0,
    "start_time": "2022-04-24T08:37:46.420Z"
   },
   {
    "duration": 0,
    "start_time": "2022-04-24T08:37:46.422Z"
   },
   {
    "duration": 0,
    "start_time": "2022-04-24T08:37:46.422Z"
   },
   {
    "duration": 0,
    "start_time": "2022-04-24T08:37:46.423Z"
   },
   {
    "duration": 0,
    "start_time": "2022-04-24T08:37:46.424Z"
   },
   {
    "duration": 0,
    "start_time": "2022-04-24T08:37:46.426Z"
   },
   {
    "duration": 0,
    "start_time": "2022-04-24T08:37:46.427Z"
   },
   {
    "duration": 490,
    "start_time": "2022-04-24T08:38:13.989Z"
   },
   {
    "duration": 20,
    "start_time": "2022-04-24T08:38:14.482Z"
   },
   {
    "duration": 16,
    "start_time": "2022-04-24T08:38:14.504Z"
   },
   {
    "duration": 31,
    "start_time": "2022-04-24T08:38:14.522Z"
   },
   {
    "duration": 14,
    "start_time": "2022-04-24T08:38:14.555Z"
   },
   {
    "duration": 6,
    "start_time": "2022-04-24T08:38:14.570Z"
   },
   {
    "duration": 5,
    "start_time": "2022-04-24T08:38:14.607Z"
   },
   {
    "duration": 6,
    "start_time": "2022-04-24T08:38:14.614Z"
   },
   {
    "duration": 20,
    "start_time": "2022-04-24T08:38:14.622Z"
   },
   {
    "duration": 14,
    "start_time": "2022-04-24T08:38:14.645Z"
   },
   {
    "duration": 5,
    "start_time": "2022-04-24T08:38:14.661Z"
   },
   {
    "duration": 58,
    "start_time": "2022-04-24T08:38:14.667Z"
   },
   {
    "duration": 6,
    "start_time": "2022-04-24T08:38:14.726Z"
   },
   {
    "duration": 10,
    "start_time": "2022-04-24T08:38:14.734Z"
   },
   {
    "duration": 20,
    "start_time": "2022-04-24T08:38:14.746Z"
   },
   {
    "duration": 11,
    "start_time": "2022-04-24T08:38:14.767Z"
   },
   {
    "duration": 8,
    "start_time": "2022-04-24T08:38:14.808Z"
   },
   {
    "duration": 19,
    "start_time": "2022-04-24T08:38:14.818Z"
   },
   {
    "duration": 29,
    "start_time": "2022-04-24T08:38:14.839Z"
   },
   {
    "duration": 43,
    "start_time": "2022-04-24T08:38:14.870Z"
   },
   {
    "duration": 19,
    "start_time": "2022-04-24T08:38:14.915Z"
   },
   {
    "duration": 93,
    "start_time": "2022-04-24T08:38:14.936Z"
   },
   {
    "duration": 14,
    "start_time": "2022-04-24T08:38:15.031Z"
   },
   {
    "duration": 13,
    "start_time": "2022-04-24T08:38:15.047Z"
   },
   {
    "duration": 17,
    "start_time": "2022-04-24T08:38:15.062Z"
   },
   {
    "duration": 27,
    "start_time": "2022-04-24T08:38:15.107Z"
   },
   {
    "duration": 7,
    "start_time": "2022-04-24T08:38:15.136Z"
   },
   {
    "duration": 27,
    "start_time": "2022-04-24T08:38:15.148Z"
   },
   {
    "duration": 52,
    "start_time": "2022-04-24T08:38:15.176Z"
   },
   {
    "duration": 309,
    "start_time": "2022-04-24T08:38:15.230Z"
   },
   {
    "duration": 26,
    "start_time": "2022-04-24T08:38:15.541Z"
   },
   {
    "duration": 38,
    "start_time": "2022-04-24T08:38:15.569Z"
   },
   {
    "duration": 23,
    "start_time": "2022-04-24T08:38:15.609Z"
   },
   {
    "duration": 454,
    "start_time": "2022-04-24T08:41:41.661Z"
   },
   {
    "duration": 22,
    "start_time": "2022-04-24T08:41:42.122Z"
   },
   {
    "duration": 17,
    "start_time": "2022-04-24T08:41:42.148Z"
   },
   {
    "duration": 59,
    "start_time": "2022-04-24T08:41:42.167Z"
   },
   {
    "duration": 14,
    "start_time": "2022-04-24T08:41:42.227Z"
   },
   {
    "duration": 5,
    "start_time": "2022-04-24T08:41:42.243Z"
   },
   {
    "duration": 4,
    "start_time": "2022-04-24T08:41:42.249Z"
   },
   {
    "duration": 6,
    "start_time": "2022-04-24T08:41:42.255Z"
   },
   {
    "duration": 49,
    "start_time": "2022-04-24T08:41:42.263Z"
   },
   {
    "duration": 17,
    "start_time": "2022-04-24T08:41:42.314Z"
   },
   {
    "duration": 5,
    "start_time": "2022-04-24T08:41:42.333Z"
   },
   {
    "duration": 19,
    "start_time": "2022-04-24T08:41:42.340Z"
   },
   {
    "duration": 5,
    "start_time": "2022-04-24T08:41:42.361Z"
   },
   {
    "duration": 48,
    "start_time": "2022-04-24T08:41:42.367Z"
   },
   {
    "duration": 20,
    "start_time": "2022-04-24T08:41:42.417Z"
   },
   {
    "duration": 12,
    "start_time": "2022-04-24T08:41:42.439Z"
   },
   {
    "duration": 7,
    "start_time": "2022-04-24T08:41:42.452Z"
   },
   {
    "duration": 18,
    "start_time": "2022-04-24T08:41:42.461Z"
   },
   {
    "duration": 34,
    "start_time": "2022-04-24T08:41:42.507Z"
   },
   {
    "duration": 16,
    "start_time": "2022-04-24T08:41:42.543Z"
   },
   {
    "duration": 19,
    "start_time": "2022-04-24T08:41:42.561Z"
   },
   {
    "duration": 80,
    "start_time": "2022-04-24T08:41:42.581Z"
   },
   {
    "duration": 15,
    "start_time": "2022-04-24T08:41:42.664Z"
   },
   {
    "duration": 18,
    "start_time": "2022-04-24T08:41:42.712Z"
   },
   {
    "duration": 15,
    "start_time": "2022-04-24T08:41:42.732Z"
   },
   {
    "duration": 27,
    "start_time": "2022-04-24T08:41:42.749Z"
   },
   {
    "duration": 43,
    "start_time": "2022-04-24T08:41:42.779Z"
   },
   {
    "duration": 26,
    "start_time": "2022-04-24T08:41:42.824Z"
   },
   {
    "duration": 21,
    "start_time": "2022-04-24T08:41:42.851Z"
   },
   {
    "duration": 303,
    "start_time": "2022-04-24T08:41:42.873Z"
   },
   {
    "duration": 24,
    "start_time": "2022-04-24T08:41:43.178Z"
   },
   {
    "duration": 22,
    "start_time": "2022-04-24T08:41:43.204Z"
   },
   {
    "duration": 24,
    "start_time": "2022-04-24T08:41:43.229Z"
   },
   {
    "duration": 474,
    "start_time": "2022-04-24T08:46:34.622Z"
   },
   {
    "duration": 31,
    "start_time": "2022-04-24T08:46:35.098Z"
   },
   {
    "duration": 23,
    "start_time": "2022-04-24T08:46:35.131Z"
   },
   {
    "duration": 37,
    "start_time": "2022-04-24T08:46:35.157Z"
   },
   {
    "duration": 26,
    "start_time": "2022-04-24T08:46:35.215Z"
   },
   {
    "duration": 7,
    "start_time": "2022-04-24T08:46:35.242Z"
   },
   {
    "duration": 7,
    "start_time": "2022-04-24T08:46:35.250Z"
   },
   {
    "duration": 7,
    "start_time": "2022-04-24T08:46:35.259Z"
   },
   {
    "duration": 48,
    "start_time": "2022-04-24T08:46:35.268Z"
   },
   {
    "duration": 21,
    "start_time": "2022-04-24T08:46:35.324Z"
   },
   {
    "duration": 8,
    "start_time": "2022-04-24T08:46:35.347Z"
   },
   {
    "duration": 19,
    "start_time": "2022-04-24T08:46:35.356Z"
   },
   {
    "duration": 5,
    "start_time": "2022-04-24T08:46:35.377Z"
   },
   {
    "duration": 22,
    "start_time": "2022-04-24T08:46:35.409Z"
   },
   {
    "duration": 17,
    "start_time": "2022-04-24T08:46:35.433Z"
   },
   {
    "duration": 12,
    "start_time": "2022-04-24T08:46:35.452Z"
   },
   {
    "duration": 6,
    "start_time": "2022-04-24T08:46:35.466Z"
   },
   {
    "duration": 32,
    "start_time": "2022-04-24T08:46:35.506Z"
   },
   {
    "duration": 28,
    "start_time": "2022-04-24T08:46:35.540Z"
   },
   {
    "duration": 17,
    "start_time": "2022-04-24T08:46:35.569Z"
   },
   {
    "duration": 26,
    "start_time": "2022-04-24T08:46:35.610Z"
   },
   {
    "duration": 45,
    "start_time": "2022-04-24T08:46:35.637Z"
   },
   {
    "duration": 36,
    "start_time": "2022-04-24T08:46:35.683Z"
   },
   {
    "duration": 14,
    "start_time": "2022-04-24T08:46:35.721Z"
   },
   {
    "duration": 15,
    "start_time": "2022-04-24T08:46:35.738Z"
   },
   {
    "duration": 26,
    "start_time": "2022-04-24T08:46:35.755Z"
   },
   {
    "duration": 33,
    "start_time": "2022-04-24T08:46:35.783Z"
   },
   {
    "duration": 25,
    "start_time": "2022-04-24T08:46:35.823Z"
   },
   {
    "duration": 7,
    "start_time": "2022-04-24T08:46:35.849Z"
   },
   {
    "duration": 20,
    "start_time": "2022-04-24T08:46:35.857Z"
   },
   {
    "duration": 313,
    "start_time": "2022-04-24T08:46:35.878Z"
   },
   {
    "duration": 36,
    "start_time": "2022-04-24T08:46:36.193Z"
   },
   {
    "duration": 19,
    "start_time": "2022-04-24T08:46:36.231Z"
   },
   {
    "duration": 20,
    "start_time": "2022-04-24T08:46:36.252Z"
   },
   {
    "duration": 454,
    "start_time": "2022-04-24T08:47:01.121Z"
   },
   {
    "duration": 23,
    "start_time": "2022-04-24T08:47:01.577Z"
   },
   {
    "duration": 25,
    "start_time": "2022-04-24T08:47:01.607Z"
   },
   {
    "duration": 40,
    "start_time": "2022-04-24T08:47:01.634Z"
   },
   {
    "duration": 33,
    "start_time": "2022-04-24T08:47:01.677Z"
   },
   {
    "duration": 7,
    "start_time": "2022-04-24T08:47:01.712Z"
   },
   {
    "duration": 7,
    "start_time": "2022-04-24T08:47:01.724Z"
   },
   {
    "duration": 8,
    "start_time": "2022-04-24T08:47:01.732Z"
   },
   {
    "duration": 28,
    "start_time": "2022-04-24T08:47:01.742Z"
   },
   {
    "duration": 41,
    "start_time": "2022-04-24T08:47:01.772Z"
   },
   {
    "duration": 12,
    "start_time": "2022-04-24T08:47:01.815Z"
   },
   {
    "duration": 18,
    "start_time": "2022-04-24T08:47:01.829Z"
   },
   {
    "duration": 7,
    "start_time": "2022-04-24T08:47:01.848Z"
   },
   {
    "duration": 13,
    "start_time": "2022-04-24T08:47:01.858Z"
   },
   {
    "duration": 63,
    "start_time": "2022-04-24T08:47:01.873Z"
   },
   {
    "duration": 21,
    "start_time": "2022-04-24T08:47:01.938Z"
   },
   {
    "duration": 16,
    "start_time": "2022-04-24T08:47:01.961Z"
   },
   {
    "duration": 34,
    "start_time": "2022-04-24T08:47:01.979Z"
   },
   {
    "duration": 57,
    "start_time": "2022-04-24T08:47:02.015Z"
   },
   {
    "duration": 44,
    "start_time": "2022-04-24T08:47:02.076Z"
   },
   {
    "duration": 34,
    "start_time": "2022-04-24T08:47:02.123Z"
   },
   {
    "duration": 78,
    "start_time": "2022-04-24T08:47:02.159Z"
   },
   {
    "duration": 15,
    "start_time": "2022-04-24T08:47:02.239Z"
   },
   {
    "duration": 18,
    "start_time": "2022-04-24T08:47:02.256Z"
   },
   {
    "duration": 15,
    "start_time": "2022-04-24T08:47:02.276Z"
   },
   {
    "duration": 54,
    "start_time": "2022-04-24T08:47:02.292Z"
   },
   {
    "duration": 11,
    "start_time": "2022-04-24T08:47:02.348Z"
   },
   {
    "duration": 65,
    "start_time": "2022-04-24T08:47:02.361Z"
   },
   {
    "duration": 62,
    "start_time": "2022-04-24T08:47:02.428Z"
   },
   {
    "duration": 0,
    "start_time": "2022-04-24T08:47:02.492Z"
   },
   {
    "duration": 0,
    "start_time": "2022-04-24T08:47:02.493Z"
   },
   {
    "duration": 0,
    "start_time": "2022-04-24T08:47:02.494Z"
   },
   {
    "duration": 0,
    "start_time": "2022-04-24T08:47:02.496Z"
   },
   {
    "duration": 0,
    "start_time": "2022-04-24T08:47:02.497Z"
   },
   {
    "duration": 491,
    "start_time": "2022-04-24T08:47:15.645Z"
   },
   {
    "duration": 30,
    "start_time": "2022-04-24T08:47:16.138Z"
   },
   {
    "duration": 43,
    "start_time": "2022-04-24T08:47:16.170Z"
   },
   {
    "duration": 50,
    "start_time": "2022-04-24T08:47:16.216Z"
   },
   {
    "duration": 15,
    "start_time": "2022-04-24T08:47:16.268Z"
   },
   {
    "duration": 27,
    "start_time": "2022-04-24T08:47:16.285Z"
   },
   {
    "duration": 7,
    "start_time": "2022-04-24T08:47:16.317Z"
   },
   {
    "duration": 8,
    "start_time": "2022-04-24T08:47:16.326Z"
   },
   {
    "duration": 20,
    "start_time": "2022-04-24T08:47:16.336Z"
   },
   {
    "duration": 15,
    "start_time": "2022-04-24T08:47:16.359Z"
   },
   {
    "duration": 8,
    "start_time": "2022-04-24T08:47:16.418Z"
   },
   {
    "duration": 20,
    "start_time": "2022-04-24T08:47:16.428Z"
   },
   {
    "duration": 6,
    "start_time": "2022-04-24T08:47:16.450Z"
   },
   {
    "duration": 12,
    "start_time": "2022-04-24T08:47:16.458Z"
   },
   {
    "duration": 60,
    "start_time": "2022-04-24T08:47:16.471Z"
   },
   {
    "duration": 17,
    "start_time": "2022-04-24T08:47:16.533Z"
   },
   {
    "duration": 6,
    "start_time": "2022-04-24T08:47:16.553Z"
   },
   {
    "duration": 19,
    "start_time": "2022-04-24T08:47:16.561Z"
   },
   {
    "duration": 38,
    "start_time": "2022-04-24T08:47:16.607Z"
   },
   {
    "duration": 18,
    "start_time": "2022-04-24T08:47:16.648Z"
   },
   {
    "duration": 54,
    "start_time": "2022-04-24T08:47:16.668Z"
   },
   {
    "duration": 88,
    "start_time": "2022-04-24T08:47:16.724Z"
   },
   {
    "duration": 19,
    "start_time": "2022-04-24T08:47:16.814Z"
   },
   {
    "duration": 13,
    "start_time": "2022-04-24T08:47:16.836Z"
   },
   {
    "duration": 20,
    "start_time": "2022-04-24T08:47:16.851Z"
   },
   {
    "duration": 67,
    "start_time": "2022-04-24T08:47:16.874Z"
   },
   {
    "duration": 7,
    "start_time": "2022-04-24T08:47:16.943Z"
   },
   {
    "duration": 62,
    "start_time": "2022-04-24T08:47:16.954Z"
   },
   {
    "duration": 11,
    "start_time": "2022-04-24T08:47:17.018Z"
   },
   {
    "duration": 30,
    "start_time": "2022-04-24T08:47:17.032Z"
   },
   {
    "duration": 322,
    "start_time": "2022-04-24T08:47:17.064Z"
   },
   {
    "duration": 37,
    "start_time": "2022-04-24T08:47:17.388Z"
   },
   {
    "duration": 20,
    "start_time": "2022-04-24T08:47:17.428Z"
   },
   {
    "duration": 22,
    "start_time": "2022-04-24T08:47:17.450Z"
   },
   {
    "duration": 470,
    "start_time": "2022-04-24T08:57:12.298Z"
   },
   {
    "duration": 20,
    "start_time": "2022-04-24T08:57:12.770Z"
   },
   {
    "duration": 29,
    "start_time": "2022-04-24T08:57:12.791Z"
   },
   {
    "duration": 36,
    "start_time": "2022-04-24T08:57:12.823Z"
   },
   {
    "duration": 12,
    "start_time": "2022-04-24T08:57:12.861Z"
   },
   {
    "duration": 9,
    "start_time": "2022-04-24T08:57:12.874Z"
   },
   {
    "duration": 31,
    "start_time": "2022-04-24T08:57:12.885Z"
   },
   {
    "duration": 6,
    "start_time": "2022-04-24T08:57:12.918Z"
   },
   {
    "duration": 19,
    "start_time": "2022-04-24T08:57:12.926Z"
   },
   {
    "duration": 14,
    "start_time": "2022-04-24T08:57:12.948Z"
   },
   {
    "duration": 6,
    "start_time": "2022-04-24T08:57:12.964Z"
   },
   {
    "duration": 58,
    "start_time": "2022-04-24T08:57:12.972Z"
   },
   {
    "duration": 5,
    "start_time": "2022-04-24T08:57:13.031Z"
   },
   {
    "duration": 11,
    "start_time": "2022-04-24T08:57:13.038Z"
   },
   {
    "duration": 19,
    "start_time": "2022-04-24T08:57:13.050Z"
   },
   {
    "duration": 44,
    "start_time": "2022-04-24T08:57:13.070Z"
   },
   {
    "duration": 13,
    "start_time": "2022-04-24T08:57:13.115Z"
   },
   {
    "duration": 16,
    "start_time": "2022-04-24T08:57:13.130Z"
   },
   {
    "duration": 27,
    "start_time": "2022-04-24T08:57:13.148Z"
   },
   {
    "duration": 35,
    "start_time": "2022-04-24T08:57:13.176Z"
   },
   {
    "duration": 23,
    "start_time": "2022-04-24T08:57:13.214Z"
   },
   {
    "duration": 44,
    "start_time": "2022-04-24T08:57:13.239Z"
   },
   {
    "duration": 37,
    "start_time": "2022-04-24T08:57:13.285Z"
   },
   {
    "duration": 12,
    "start_time": "2022-04-24T08:57:13.323Z"
   },
   {
    "duration": 18,
    "start_time": "2022-04-24T08:57:13.336Z"
   },
   {
    "duration": 25,
    "start_time": "2022-04-24T08:57:13.356Z"
   },
   {
    "duration": 34,
    "start_time": "2022-04-24T08:57:13.382Z"
   },
   {
    "duration": 24,
    "start_time": "2022-04-24T08:57:13.420Z"
   },
   {
    "duration": 7,
    "start_time": "2022-04-24T08:57:13.445Z"
   },
   {
    "duration": 20,
    "start_time": "2022-04-24T08:57:13.453Z"
   },
   {
    "duration": 317,
    "start_time": "2022-04-24T08:57:13.474Z"
   },
   {
    "duration": 32,
    "start_time": "2022-04-24T08:57:13.793Z"
   },
   {
    "duration": 18,
    "start_time": "2022-04-24T08:57:13.827Z"
   },
   {
    "duration": 19,
    "start_time": "2022-04-24T08:57:13.846Z"
   },
   {
    "duration": 426,
    "start_time": "2022-04-24T14:17:06.398Z"
   },
   {
    "duration": 25,
    "start_time": "2022-04-24T14:17:06.830Z"
   },
   {
    "duration": 14,
    "start_time": "2022-04-24T14:17:06.857Z"
   },
   {
    "duration": 28,
    "start_time": "2022-04-24T14:17:06.872Z"
   },
   {
    "duration": 37,
    "start_time": "2022-04-24T14:17:06.903Z"
   },
   {
    "duration": 6,
    "start_time": "2022-04-24T14:17:06.941Z"
   },
   {
    "duration": 8,
    "start_time": "2022-04-24T14:17:06.950Z"
   },
   {
    "duration": 6,
    "start_time": "2022-04-24T14:17:06.959Z"
   },
   {
    "duration": 19,
    "start_time": "2022-04-24T14:17:06.966Z"
   },
   {
    "duration": 12,
    "start_time": "2022-04-24T14:17:06.987Z"
   },
   {
    "duration": 6,
    "start_time": "2022-04-24T14:17:07.026Z"
   },
   {
    "duration": 30,
    "start_time": "2022-04-24T14:17:07.035Z"
   },
   {
    "duration": 5,
    "start_time": "2022-04-24T14:17:07.067Z"
   },
   {
    "duration": 9,
    "start_time": "2022-04-24T14:17:07.075Z"
   },
   {
    "duration": 15,
    "start_time": "2022-04-24T14:17:07.086Z"
   },
   {
    "duration": 34,
    "start_time": "2022-04-24T14:17:07.102Z"
   },
   {
    "duration": 5,
    "start_time": "2022-04-24T14:17:07.138Z"
   },
   {
    "duration": 22,
    "start_time": "2022-04-24T14:17:07.145Z"
   },
   {
    "duration": 26,
    "start_time": "2022-04-24T14:17:07.169Z"
   },
   {
    "duration": 29,
    "start_time": "2022-04-24T14:17:07.197Z"
   },
   {
    "duration": 25,
    "start_time": "2022-04-24T14:17:07.235Z"
   },
   {
    "duration": 41,
    "start_time": "2022-04-24T14:17:07.262Z"
   },
   {
    "duration": 27,
    "start_time": "2022-04-24T14:17:07.304Z"
   },
   {
    "duration": 12,
    "start_time": "2022-04-24T14:17:07.333Z"
   },
   {
    "duration": 20,
    "start_time": "2022-04-24T14:17:07.347Z"
   },
   {
    "duration": 36,
    "start_time": "2022-04-24T14:17:07.369Z"
   },
   {
    "duration": 26,
    "start_time": "2022-04-24T14:17:07.407Z"
   },
   {
    "duration": 28,
    "start_time": "2022-04-24T14:17:07.435Z"
   },
   {
    "duration": 6,
    "start_time": "2022-04-24T14:17:07.464Z"
   },
   {
    "duration": 18,
    "start_time": "2022-04-24T14:17:07.472Z"
   },
   {
    "duration": 498,
    "start_time": "2022-04-24T14:17:07.492Z"
   },
   {
    "duration": 23,
    "start_time": "2022-04-24T14:17:07.992Z"
   },
   {
    "duration": 28,
    "start_time": "2022-04-24T14:17:08.016Z"
   },
   {
    "duration": 29,
    "start_time": "2022-04-24T14:17:08.046Z"
   },
   {
    "duration": 11,
    "start_time": "2022-04-24T14:17:31.700Z"
   },
   {
    "duration": 50,
    "start_time": "2022-04-24T14:17:35.462Z"
   },
   {
    "duration": 15,
    "start_time": "2022-04-24T14:17:35.514Z"
   },
   {
    "duration": 44,
    "start_time": "2022-04-24T14:17:35.531Z"
   },
   {
    "duration": 29,
    "start_time": "2022-04-24T14:17:35.577Z"
   },
   {
    "duration": 13,
    "start_time": "2022-04-24T14:17:35.607Z"
   },
   {
    "duration": 12,
    "start_time": "2022-04-24T14:17:35.621Z"
   },
   {
    "duration": 31,
    "start_time": "2022-04-24T14:17:35.638Z"
   },
   {
    "duration": 5,
    "start_time": "2022-04-24T14:17:35.670Z"
   },
   {
    "duration": 17,
    "start_time": "2022-04-24T14:17:35.677Z"
   },
   {
    "duration": 13,
    "start_time": "2022-04-24T14:17:35.697Z"
   },
   {
    "duration": 7,
    "start_time": "2022-04-24T14:17:35.711Z"
   },
   {
    "duration": 25,
    "start_time": "2022-04-24T14:17:35.719Z"
   },
   {
    "duration": 24,
    "start_time": "2022-04-24T14:17:35.746Z"
   },
   {
    "duration": 9,
    "start_time": "2022-04-24T14:17:35.772Z"
   },
   {
    "duration": 14,
    "start_time": "2022-04-24T14:17:35.783Z"
   },
   {
    "duration": 33,
    "start_time": "2022-04-24T14:17:35.799Z"
   },
   {
    "duration": 27,
    "start_time": "2022-04-24T14:17:35.833Z"
   },
   {
    "duration": 16,
    "start_time": "2022-04-24T14:17:35.862Z"
   },
   {
    "duration": 25,
    "start_time": "2022-04-24T14:17:35.880Z"
   },
   {
    "duration": 38,
    "start_time": "2022-04-24T14:17:35.907Z"
   },
   {
    "duration": 21,
    "start_time": "2022-04-24T14:17:35.947Z"
   },
   {
    "duration": 43,
    "start_time": "2022-04-24T14:17:35.970Z"
   },
   {
    "duration": 17,
    "start_time": "2022-04-24T14:17:36.015Z"
   },
   {
    "duration": 42,
    "start_time": "2022-04-24T14:17:36.035Z"
   },
   {
    "duration": 15,
    "start_time": "2022-04-24T14:17:36.079Z"
   },
   {
    "duration": 22,
    "start_time": "2022-04-24T14:17:36.095Z"
   },
   {
    "duration": 25,
    "start_time": "2022-04-24T14:17:36.118Z"
   },
   {
    "duration": 35,
    "start_time": "2022-04-24T14:17:36.147Z"
   },
   {
    "duration": 6,
    "start_time": "2022-04-24T14:17:36.184Z"
   },
   {
    "duration": 20,
    "start_time": "2022-04-24T14:17:36.191Z"
   },
   {
    "duration": 29,
    "start_time": "2022-04-24T14:17:36.212Z"
   },
   {
    "duration": 48,
    "start_time": "2022-04-24T14:17:36.244Z"
   },
   {
    "duration": 24,
    "start_time": "2022-04-24T14:17:36.294Z"
   },
   {
    "duration": 29,
    "start_time": "2022-04-24T14:17:36.320Z"
   }
  ],
  "kernelspec": {
   "display_name": "Python 3 (ipykernel)",
   "language": "python",
   "name": "python3"
  },
  "language_info": {
   "codemirror_mode": {
    "name": "ipython",
    "version": 3
   },
   "file_extension": ".py",
   "mimetype": "text/x-python",
   "name": "python",
   "nbconvert_exporter": "python",
   "pygments_lexer": "ipython3",
   "version": "3.9.7"
  },
  "toc": {
   "base_numbering": 1,
   "nav_menu": {},
   "number_sections": true,
   "sideBar": true,
   "skip_h1_title": true,
   "title_cell": "Table of Contents",
   "title_sidebar": "Contents",
   "toc_cell": false,
   "toc_position": {},
   "toc_section_display": true,
   "toc_window_display": true
  }
 },
 "nbformat": 4,
 "nbformat_minor": 5
}
