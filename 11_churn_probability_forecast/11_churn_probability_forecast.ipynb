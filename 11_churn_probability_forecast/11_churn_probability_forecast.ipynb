{
 "cells": [
  {
   "cell_type": "markdown",
   "metadata": {},
   "source": [
    "# Прогнозирование вероятности оттока пользователей для фитнес-центров (Churn Prediction for Fitness Centers)"
   ]
  },
  {
   "cell_type": "markdown",
   "metadata": {},
   "source": [
    "## Описание проекта"
   ]
  },
  {
   "cell_type": "markdown",
   "metadata": {},
   "source": [
    "Проблема фитнес-центров - отток клиентов. Имеются данные о клиентах сети фитнес-центров.\n",
    "\n",
    "**Цель проекта:** на основе данных о посетителях сети фитнес-центров провести анализ и подготовить план действий по удержанию клиентов.\n",
    "\n",
    "**Задачи проекта:**\n",
    "\n",
    "* спрогнозировать вероятность оттока (на уровне следующего месяца) для каждого клиента,\n",
    "* сформировать типичные портреты клиентов: выделить несколько наиболее ярких групп и охарактеризовать их основные свойства,\n",
    "* проанализировать основные признаки, наиболее влияющие на отток,\n",
    "* сформулировать основные выводы и разработать рекомендации по повышению качества работы с клиентами.\n",
    "\n",
    "**Описание данных**\n",
    "\n",
    "Данные о клиентах находятся в файле `gym_churn.csv`, где:\n",
    "\n",
    "Данные клиента за предыдущий до проверки факта оттока месяц:\n",
    "    \n",
    "* `gender` — пол;\n",
    "* `Near_Location` — проживание или работа в районе, где находится фитнес-центр;\n",
    "* `Partner` — сотрудник компании-партнёра клуба (сотрудничество с компаниями, чьи сотрудники могут получать скидки на абонемент — в таком случае фитнес-центр хранит информацию о работодателе клиента);\n",
    "* `Promo_friends` — факт первоначальной записи в рамках акции «приведи друга» (использовал промо-код от знакомого при оплате первого абонемента);\n",
    "* `Phone` — наличие контактного телефона;\n",
    "* `Age` — возраст;\n",
    "* `Lifetime` — время с момента первого обращения в фитнес-центр (в месяцах).\n",
    "    \n",
    "Информация на основе журнала посещений, покупок и информация о текущем статусе абонемента клиента:\n",
    "    \n",
    "* `Contract_period` — длительность текущего действующего абонемента (месяц, 6 месяцев, год);\n",
    "* `Month_to_end_contract` — срок до окончания текущего действующего абонемента (в месяцах);\n",
    "* `Group_visits` — факт посещения групповых занятий;\n",
    "* `Avg_class_frequency_total` — средняя частота посещений в неделю за все время с начала действия абонемента;\n",
    "* `Avg_class_frequency_current_month` — средняя частота посещений в неделю за предыдущий месяц;\n",
    "* `Avg_additional_charges_total` — суммарная выручка от других услуг фитнес-центра: кафе, спорттовары, косметический и массажный салон.\n",
    "\n",
    "    `Churn` — факт оттока в текущем месяце.\n"
   ]
  },
  {
   "cell_type": "markdown",
   "metadata": {},
   "source": [
    "## Исследовательский анализ данных (EDA)"
   ]
  },
  {
   "cell_type": "markdown",
   "metadata": {},
   "source": [
    "### Предобработка и первичный анализ данных"
   ]
  },
  {
   "cell_type": "markdown",
   "metadata": {},
   "source": [
    "Импортируем библиотеки для дальнейшего исследования"
   ]
  },
  {
   "cell_type": "code",
   "execution_count": 1,
   "metadata": {
    "scrolled": false
   },
   "outputs": [],
   "source": [
    "# исследовательский анализ\n",
    "import pandas as pd\n",
    "import matplotlib.pyplot as plt\n",
    "import seaborn as sns\n",
    "import numpy as np\n",
    "\n",
    "# подготовка и стандартизация данных\n",
    "from sklearn.model_selection import train_test_split\n",
    "from sklearn.preprocessing import StandardScaler\n",
    "\n",
    "# обучение моделей ML\n",
    "from sklearn.linear_model import LogisticRegression\n",
    "from sklearn.ensemble import RandomForestClassifier\n",
    "\n",
    "# расчет метрик моделей\n",
    "from sklearn.metrics import accuracy_score, precision_score, recall_score, f1_score\n",
    "\n",
    "# обучение ML-модели кластеризации\n",
    "from sklearn.cluster import KMeans\n",
    "from scipy.cluster.hierarchy import dendrogram, linkage\n",
    "\n",
    "# предупреждения и внешний вид\n",
    "import warnings\n",
    "warnings.filterwarnings('ignore')\n",
    "pd.options.display.max_columns = None \n",
    "pd.set_option('display.max_colwidth', -1)"
   ]
  },
  {
   "cell_type": "markdown",
   "metadata": {},
   "source": [
    "Загрузим данные и получим информацию о данных. Создадим функцию `df_read_csv`, которая выведит сообщение об ошибке, если информация о файле будет указана неверно"
   ]
  },
  {
   "cell_type": "code",
   "execution_count": 2,
   "metadata": {
    "scrolled": false
   },
   "outputs": [
    {
     "name": "stdout",
     "output_type": "stream",
     "text": [
      "<class 'pandas.core.frame.DataFrame'>\n",
      "RangeIndex: 4000 entries, 0 to 3999\n",
      "Data columns (total 14 columns):\n",
      " #   Column                             Non-Null Count  Dtype  \n",
      "---  ------                             --------------  -----  \n",
      " 0   gender                             4000 non-null   int64  \n",
      " 1   Near_Location                      4000 non-null   int64  \n",
      " 2   Partner                            4000 non-null   int64  \n",
      " 3   Promo_friends                      4000 non-null   int64  \n",
      " 4   Phone                              4000 non-null   int64  \n",
      " 5   Contract_period                    4000 non-null   int64  \n",
      " 6   Group_visits                       4000 non-null   int64  \n",
      " 7   Age                                4000 non-null   int64  \n",
      " 8   Avg_additional_charges_total       4000 non-null   float64\n",
      " 9   Month_to_end_contract              4000 non-null   float64\n",
      " 10  Lifetime                           4000 non-null   int64  \n",
      " 11  Avg_class_frequency_total          4000 non-null   float64\n",
      " 12  Avg_class_frequency_current_month  4000 non-null   float64\n",
      " 13  Churn                              4000 non-null   int64  \n",
      "dtypes: float64(4), int64(10)\n",
      "memory usage: 437.6 KB\n"
     ]
    },
    {
     "data": {
      "text/html": [
       "<div>\n",
       "<style scoped>\n",
       "    .dataframe tbody tr th:only-of-type {\n",
       "        vertical-align: middle;\n",
       "    }\n",
       "\n",
       "    .dataframe tbody tr th {\n",
       "        vertical-align: top;\n",
       "    }\n",
       "\n",
       "    .dataframe thead th {\n",
       "        text-align: right;\n",
       "    }\n",
       "</style>\n",
       "<table border=\"1\" class=\"dataframe\">\n",
       "  <thead>\n",
       "    <tr style=\"text-align: right;\">\n",
       "      <th></th>\n",
       "      <th>gender</th>\n",
       "      <th>Near_Location</th>\n",
       "      <th>Partner</th>\n",
       "      <th>Promo_friends</th>\n",
       "      <th>Phone</th>\n",
       "      <th>Contract_period</th>\n",
       "      <th>Group_visits</th>\n",
       "      <th>Age</th>\n",
       "      <th>Avg_additional_charges_total</th>\n",
       "      <th>Month_to_end_contract</th>\n",
       "      <th>Lifetime</th>\n",
       "      <th>Avg_class_frequency_total</th>\n",
       "      <th>Avg_class_frequency_current_month</th>\n",
       "      <th>Churn</th>\n",
       "    </tr>\n",
       "  </thead>\n",
       "  <tbody>\n",
       "    <tr>\n",
       "      <th>0</th>\n",
       "      <td>1</td>\n",
       "      <td>1</td>\n",
       "      <td>1</td>\n",
       "      <td>1</td>\n",
       "      <td>0</td>\n",
       "      <td>6</td>\n",
       "      <td>1</td>\n",
       "      <td>29</td>\n",
       "      <td>14.227470</td>\n",
       "      <td>5.0</td>\n",
       "      <td>3</td>\n",
       "      <td>0.020398</td>\n",
       "      <td>0.000000</td>\n",
       "      <td>0</td>\n",
       "    </tr>\n",
       "    <tr>\n",
       "      <th>1</th>\n",
       "      <td>0</td>\n",
       "      <td>1</td>\n",
       "      <td>0</td>\n",
       "      <td>0</td>\n",
       "      <td>1</td>\n",
       "      <td>12</td>\n",
       "      <td>1</td>\n",
       "      <td>31</td>\n",
       "      <td>113.202938</td>\n",
       "      <td>12.0</td>\n",
       "      <td>7</td>\n",
       "      <td>1.922936</td>\n",
       "      <td>1.910244</td>\n",
       "      <td>0</td>\n",
       "    </tr>\n",
       "    <tr>\n",
       "      <th>2</th>\n",
       "      <td>0</td>\n",
       "      <td>1</td>\n",
       "      <td>1</td>\n",
       "      <td>0</td>\n",
       "      <td>1</td>\n",
       "      <td>1</td>\n",
       "      <td>0</td>\n",
       "      <td>28</td>\n",
       "      <td>129.448479</td>\n",
       "      <td>1.0</td>\n",
       "      <td>2</td>\n",
       "      <td>1.859098</td>\n",
       "      <td>1.736502</td>\n",
       "      <td>0</td>\n",
       "    </tr>\n",
       "    <tr>\n",
       "      <th>3</th>\n",
       "      <td>0</td>\n",
       "      <td>1</td>\n",
       "      <td>1</td>\n",
       "      <td>1</td>\n",
       "      <td>1</td>\n",
       "      <td>12</td>\n",
       "      <td>1</td>\n",
       "      <td>33</td>\n",
       "      <td>62.669863</td>\n",
       "      <td>12.0</td>\n",
       "      <td>2</td>\n",
       "      <td>3.205633</td>\n",
       "      <td>3.357215</td>\n",
       "      <td>0</td>\n",
       "    </tr>\n",
       "    <tr>\n",
       "      <th>4</th>\n",
       "      <td>1</td>\n",
       "      <td>1</td>\n",
       "      <td>1</td>\n",
       "      <td>1</td>\n",
       "      <td>1</td>\n",
       "      <td>1</td>\n",
       "      <td>0</td>\n",
       "      <td>26</td>\n",
       "      <td>198.362265</td>\n",
       "      <td>1.0</td>\n",
       "      <td>3</td>\n",
       "      <td>1.113884</td>\n",
       "      <td>1.120078</td>\n",
       "      <td>0</td>\n",
       "    </tr>\n",
       "    <tr>\n",
       "      <th>5</th>\n",
       "      <td>1</td>\n",
       "      <td>1</td>\n",
       "      <td>0</td>\n",
       "      <td>0</td>\n",
       "      <td>1</td>\n",
       "      <td>1</td>\n",
       "      <td>1</td>\n",
       "      <td>34</td>\n",
       "      <td>450.743960</td>\n",
       "      <td>1.0</td>\n",
       "      <td>3</td>\n",
       "      <td>2.623477</td>\n",
       "      <td>2.637007</td>\n",
       "      <td>0</td>\n",
       "    </tr>\n",
       "    <tr>\n",
       "      <th>6</th>\n",
       "      <td>1</td>\n",
       "      <td>1</td>\n",
       "      <td>1</td>\n",
       "      <td>1</td>\n",
       "      <td>0</td>\n",
       "      <td>6</td>\n",
       "      <td>1</td>\n",
       "      <td>32</td>\n",
       "      <td>94.266389</td>\n",
       "      <td>6.0</td>\n",
       "      <td>2</td>\n",
       "      <td>1.138941</td>\n",
       "      <td>1.277242</td>\n",
       "      <td>0</td>\n",
       "    </tr>\n",
       "    <tr>\n",
       "      <th>7</th>\n",
       "      <td>0</td>\n",
       "      <td>1</td>\n",
       "      <td>0</td>\n",
       "      <td>0</td>\n",
       "      <td>1</td>\n",
       "      <td>1</td>\n",
       "      <td>0</td>\n",
       "      <td>30</td>\n",
       "      <td>217.786641</td>\n",
       "      <td>1.0</td>\n",
       "      <td>0</td>\n",
       "      <td>1.213502</td>\n",
       "      <td>1.049387</td>\n",
       "      <td>1</td>\n",
       "    </tr>\n",
       "    <tr>\n",
       "      <th>8</th>\n",
       "      <td>1</td>\n",
       "      <td>1</td>\n",
       "      <td>1</td>\n",
       "      <td>1</td>\n",
       "      <td>1</td>\n",
       "      <td>1</td>\n",
       "      <td>1</td>\n",
       "      <td>23</td>\n",
       "      <td>45.409909</td>\n",
       "      <td>1.0</td>\n",
       "      <td>1</td>\n",
       "      <td>1.106239</td>\n",
       "      <td>1.059333</td>\n",
       "      <td>0</td>\n",
       "    </tr>\n",
       "    <tr>\n",
       "      <th>9</th>\n",
       "      <td>0</td>\n",
       "      <td>1</td>\n",
       "      <td>0</td>\n",
       "      <td>0</td>\n",
       "      <td>1</td>\n",
       "      <td>1</td>\n",
       "      <td>0</td>\n",
       "      <td>31</td>\n",
       "      <td>65.310836</td>\n",
       "      <td>1.0</td>\n",
       "      <td>11</td>\n",
       "      <td>1.810852</td>\n",
       "      <td>1.951368</td>\n",
       "      <td>0</td>\n",
       "    </tr>\n",
       "  </tbody>\n",
       "</table>\n",
       "</div>"
      ],
      "text/plain": [
       "   gender  Near_Location  Partner  Promo_friends  Phone  Contract_period  \\\n",
       "0  1       1              1        1              0      6                 \n",
       "1  0       1              0        0              1      12                \n",
       "2  0       1              1        0              1      1                 \n",
       "3  0       1              1        1              1      12                \n",
       "4  1       1              1        1              1      1                 \n",
       "5  1       1              0        0              1      1                 \n",
       "6  1       1              1        1              0      6                 \n",
       "7  0       1              0        0              1      1                 \n",
       "8  1       1              1        1              1      1                 \n",
       "9  0       1              0        0              1      1                 \n",
       "\n",
       "   Group_visits  Age  Avg_additional_charges_total  Month_to_end_contract  \\\n",
       "0  1             29   14.227470                     5.0                     \n",
       "1  1             31   113.202938                    12.0                    \n",
       "2  0             28   129.448479                    1.0                     \n",
       "3  1             33   62.669863                     12.0                    \n",
       "4  0             26   198.362265                    1.0                     \n",
       "5  1             34   450.743960                    1.0                     \n",
       "6  1             32   94.266389                     6.0                     \n",
       "7  0             30   217.786641                    1.0                     \n",
       "8  1             23   45.409909                     1.0                     \n",
       "9  0             31   65.310836                     1.0                     \n",
       "\n",
       "   Lifetime  Avg_class_frequency_total  Avg_class_frequency_current_month  \\\n",
       "0  3         0.020398                   0.000000                            \n",
       "1  7         1.922936                   1.910244                            \n",
       "2  2         1.859098                   1.736502                            \n",
       "3  2         3.205633                   3.357215                            \n",
       "4  3         1.113884                   1.120078                            \n",
       "5  3         2.623477                   2.637007                            \n",
       "6  2         1.138941                   1.277242                            \n",
       "7  0         1.213502                   1.049387                            \n",
       "8  1         1.106239                   1.059333                            \n",
       "9  11        1.810852                   1.951368                            \n",
       "\n",
       "   Churn  \n",
       "0  0      \n",
       "1  0      \n",
       "2  0      \n",
       "3  0      \n",
       "4  0      \n",
       "5  0      \n",
       "6  0      \n",
       "7  1      \n",
       "8  0      \n",
       "9  0      "
      ]
     },
     "execution_count": 2,
     "metadata": {},
     "output_type": "execute_result"
    }
   ],
   "source": [
    "def df_read_csv(path, sep=','):\n",
    "    try:\n",
    "        return pd.read_csv(path, sep)\n",
    "    except Exception:\n",
    "        print('Ошибка при загрузке файла')\n",
    "df = df_read_csv('gym_churn.csv', sep=',')\n",
    "df.info()\n",
    "df.head(10)"
   ]
  },
  {
   "cell_type": "markdown",
   "metadata": {},
   "source": [
    "Проверим данные на пропуски и явные дубликаты"
   ]
  },
  {
   "cell_type": "code",
   "execution_count": 3,
   "metadata": {
    "scrolled": false
   },
   "outputs": [
    {
     "name": "stdout",
     "output_type": "stream",
     "text": [
      "Количество пропущенных значений: 0\n",
      "Количество дубликатов: 0\n"
     ]
    }
   ],
   "source": [
    "print(\"Количество пропущенных значений: {}\".format(df.isnull().sum().sum())) \n",
    "print(\"Количество дубликатов: {}\".format(df.duplicated().sum()))             "
   ]
  },
  {
   "cell_type": "markdown",
   "metadata": {},
   "source": [
    "Пропусков не обнаружено. Но Python показывает пустые значения только, если оно имеет тип `NoneType`. Необходимо проверить, есть ли другие пропуски в столбцах. Для этого создадим функцию `nan_values`."
   ]
  },
  {
   "cell_type": "code",
   "execution_count": 4,
   "metadata": {
    "scrolled": false
   },
   "outputs": [
    {
     "data": {
      "text/html": [
       "<div>\n",
       "<style scoped>\n",
       "    .dataframe tbody tr th:only-of-type {\n",
       "        vertical-align: middle;\n",
       "    }\n",
       "\n",
       "    .dataframe tbody tr th {\n",
       "        vertical-align: top;\n",
       "    }\n",
       "\n",
       "    .dataframe thead th {\n",
       "        text-align: right;\n",
       "    }\n",
       "</style>\n",
       "<table border=\"1\" class=\"dataframe\">\n",
       "  <thead>\n",
       "    <tr style=\"text-align: right;\">\n",
       "      <th></th>\n",
       "      <th>column_name</th>\n",
       "      <th>num_missing</th>\n",
       "      <th>percent_missing</th>\n",
       "    </tr>\n",
       "  </thead>\n",
       "  <tbody>\n",
       "    <tr>\n",
       "      <th>0</th>\n",
       "      <td>gender</td>\n",
       "      <td>0</td>\n",
       "      <td>0.0</td>\n",
       "    </tr>\n",
       "    <tr>\n",
       "      <th>1</th>\n",
       "      <td>Near_Location</td>\n",
       "      <td>0</td>\n",
       "      <td>0.0</td>\n",
       "    </tr>\n",
       "    <tr>\n",
       "      <th>2</th>\n",
       "      <td>Partner</td>\n",
       "      <td>0</td>\n",
       "      <td>0.0</td>\n",
       "    </tr>\n",
       "    <tr>\n",
       "      <th>3</th>\n",
       "      <td>Promo_friends</td>\n",
       "      <td>0</td>\n",
       "      <td>0.0</td>\n",
       "    </tr>\n",
       "    <tr>\n",
       "      <th>4</th>\n",
       "      <td>Phone</td>\n",
       "      <td>0</td>\n",
       "      <td>0.0</td>\n",
       "    </tr>\n",
       "    <tr>\n",
       "      <th>5</th>\n",
       "      <td>Contract_period</td>\n",
       "      <td>0</td>\n",
       "      <td>0.0</td>\n",
       "    </tr>\n",
       "    <tr>\n",
       "      <th>6</th>\n",
       "      <td>Group_visits</td>\n",
       "      <td>0</td>\n",
       "      <td>0.0</td>\n",
       "    </tr>\n",
       "    <tr>\n",
       "      <th>7</th>\n",
       "      <td>Age</td>\n",
       "      <td>0</td>\n",
       "      <td>0.0</td>\n",
       "    </tr>\n",
       "    <tr>\n",
       "      <th>8</th>\n",
       "      <td>Avg_additional_charges_total</td>\n",
       "      <td>0</td>\n",
       "      <td>0.0</td>\n",
       "    </tr>\n",
       "    <tr>\n",
       "      <th>9</th>\n",
       "      <td>Month_to_end_contract</td>\n",
       "      <td>0</td>\n",
       "      <td>0.0</td>\n",
       "    </tr>\n",
       "    <tr>\n",
       "      <th>10</th>\n",
       "      <td>Lifetime</td>\n",
       "      <td>0</td>\n",
       "      <td>0.0</td>\n",
       "    </tr>\n",
       "    <tr>\n",
       "      <th>11</th>\n",
       "      <td>Avg_class_frequency_total</td>\n",
       "      <td>0</td>\n",
       "      <td>0.0</td>\n",
       "    </tr>\n",
       "    <tr>\n",
       "      <th>12</th>\n",
       "      <td>Avg_class_frequency_current_month</td>\n",
       "      <td>0</td>\n",
       "      <td>0.0</td>\n",
       "    </tr>\n",
       "    <tr>\n",
       "      <th>13</th>\n",
       "      <td>Churn</td>\n",
       "      <td>0</td>\n",
       "      <td>0.0</td>\n",
       "    </tr>\n",
       "  </tbody>\n",
       "</table>\n",
       "</div>"
      ],
      "text/plain": [
       "                          column_name  num_missing  percent_missing\n",
       "0   gender                             0            0.0            \n",
       "1   Near_Location                      0            0.0            \n",
       "2   Partner                            0            0.0            \n",
       "3   Promo_friends                      0            0.0            \n",
       "4   Phone                              0            0.0            \n",
       "5   Contract_period                    0            0.0            \n",
       "6   Group_visits                       0            0.0            \n",
       "7   Age                                0            0.0            \n",
       "8   Avg_additional_charges_total       0            0.0            \n",
       "9   Month_to_end_contract              0            0.0            \n",
       "10  Lifetime                           0            0.0            \n",
       "11  Avg_class_frequency_total          0            0.0            \n",
       "12  Avg_class_frequency_current_month  0            0.0            \n",
       "13  Churn                              0            0.0            "
      ]
     },
     "execution_count": 4,
     "metadata": {},
     "output_type": "execute_result"
    }
   ],
   "source": [
    "# функция для вывода пропущенных значений\n",
    "def nan_values(df,list_nans = ['',' ','\"\"', '\" \"', None, np.nan]):\n",
    "    list_count = []\n",
    "    list_share = []\n",
    "    for col in df.columns:\n",
    "        list_count.append(sum(df[col].isin(list_nans)))\n",
    "        list_share.append(round(sum(df[col].isin(list_nans)) * 100 / len(df), 2))\n",
    "    missing_value_df = pd.DataFrame({'column_name': df.columns, 'num_missing': list_count, 'percent_missing': list_share})\n",
    "    return missing_value_df\n",
    "nan_values(df) # применение функции для таблицы "
   ]
  },
  {
   "cell_type": "markdown",
   "metadata": {},
   "source": [
    "Приведем наименования столбцов к нижнему регистру"
   ]
  },
  {
   "cell_type": "code",
   "execution_count": 5,
   "metadata": {
    "scrolled": false
   },
   "outputs": [
    {
     "data": {
      "text/plain": [
       "Index(['gender', 'near_location', 'partner', 'promo_friends', 'phone',\n",
       "       'contract_period', 'group_visits', 'age',\n",
       "       'avg_additional_charges_total', 'month_to_end_contract', 'lifetime',\n",
       "       'avg_class_frequency_total', 'avg_class_frequency_current_month',\n",
       "       'churn'],\n",
       "      dtype='object')"
      ]
     },
     "execution_count": 5,
     "metadata": {},
     "output_type": "execute_result"
    }
   ],
   "source": [
    "df.columns = df.columns.str.lower()\n",
    "df.columns"
   ]
  },
  {
   "cell_type": "markdown",
   "metadata": {},
   "source": [
    "Приведем столбец `month_to_end_contract` к целочисленному типу, т.к. в нем указано целое число месяцев до окончания текущего действующего абонемента"
   ]
  },
  {
   "cell_type": "code",
   "execution_count": 6,
   "metadata": {
    "scrolled": false
   },
   "outputs": [
    {
     "name": "stdout",
     "output_type": "stream",
     "text": [
      "<class 'pandas.core.frame.DataFrame'>\n",
      "RangeIndex: 4000 entries, 0 to 3999\n",
      "Data columns (total 14 columns):\n",
      " #   Column                             Non-Null Count  Dtype  \n",
      "---  ------                             --------------  -----  \n",
      " 0   gender                             4000 non-null   int64  \n",
      " 1   near_location                      4000 non-null   int64  \n",
      " 2   partner                            4000 non-null   int64  \n",
      " 3   promo_friends                      4000 non-null   int64  \n",
      " 4   phone                              4000 non-null   int64  \n",
      " 5   contract_period                    4000 non-null   int64  \n",
      " 6   group_visits                       4000 non-null   int64  \n",
      " 7   age                                4000 non-null   int64  \n",
      " 8   avg_additional_charges_total       4000 non-null   float64\n",
      " 9   month_to_end_contract              4000 non-null   int64  \n",
      " 10  lifetime                           4000 non-null   int64  \n",
      " 11  avg_class_frequency_total          4000 non-null   float64\n",
      " 12  avg_class_frequency_current_month  4000 non-null   float64\n",
      " 13  churn                              4000 non-null   int64  \n",
      "dtypes: float64(3), int64(11)\n",
      "memory usage: 437.6 KB\n"
     ]
    }
   ],
   "source": [
    "df['month_to_end_contract'] = df['month_to_end_contract'].astype('int64')\n",
    "df.info()"
   ]
  },
  {
   "cell_type": "code",
   "execution_count": 7,
   "metadata": {
    "scrolled": false
   },
   "outputs": [
    {
     "data": {
      "text/html": [
       "<div>\n",
       "<style scoped>\n",
       "    .dataframe tbody tr th:only-of-type {\n",
       "        vertical-align: middle;\n",
       "    }\n",
       "\n",
       "    .dataframe tbody tr th {\n",
       "        vertical-align: top;\n",
       "    }\n",
       "\n",
       "    .dataframe thead th {\n",
       "        text-align: right;\n",
       "    }\n",
       "</style>\n",
       "<table border=\"1\" class=\"dataframe\">\n",
       "  <thead>\n",
       "    <tr style=\"text-align: right;\">\n",
       "      <th></th>\n",
       "      <th>count</th>\n",
       "      <th>mean</th>\n",
       "      <th>std</th>\n",
       "      <th>min</th>\n",
       "      <th>25%</th>\n",
       "      <th>50%</th>\n",
       "      <th>75%</th>\n",
       "      <th>max</th>\n",
       "    </tr>\n",
       "  </thead>\n",
       "  <tbody>\n",
       "    <tr>\n",
       "      <th>gender</th>\n",
       "      <td>4000.0</td>\n",
       "      <td>0.510250</td>\n",
       "      <td>0.499957</td>\n",
       "      <td>0.000000</td>\n",
       "      <td>0.000000</td>\n",
       "      <td>1.000000</td>\n",
       "      <td>1.000000</td>\n",
       "      <td>1.000000</td>\n",
       "    </tr>\n",
       "    <tr>\n",
       "      <th>near_location</th>\n",
       "      <td>4000.0</td>\n",
       "      <td>0.845250</td>\n",
       "      <td>0.361711</td>\n",
       "      <td>0.000000</td>\n",
       "      <td>1.000000</td>\n",
       "      <td>1.000000</td>\n",
       "      <td>1.000000</td>\n",
       "      <td>1.000000</td>\n",
       "    </tr>\n",
       "    <tr>\n",
       "      <th>partner</th>\n",
       "      <td>4000.0</td>\n",
       "      <td>0.486750</td>\n",
       "      <td>0.499887</td>\n",
       "      <td>0.000000</td>\n",
       "      <td>0.000000</td>\n",
       "      <td>0.000000</td>\n",
       "      <td>1.000000</td>\n",
       "      <td>1.000000</td>\n",
       "    </tr>\n",
       "    <tr>\n",
       "      <th>promo_friends</th>\n",
       "      <td>4000.0</td>\n",
       "      <td>0.308500</td>\n",
       "      <td>0.461932</td>\n",
       "      <td>0.000000</td>\n",
       "      <td>0.000000</td>\n",
       "      <td>0.000000</td>\n",
       "      <td>1.000000</td>\n",
       "      <td>1.000000</td>\n",
       "    </tr>\n",
       "    <tr>\n",
       "      <th>phone</th>\n",
       "      <td>4000.0</td>\n",
       "      <td>0.903500</td>\n",
       "      <td>0.295313</td>\n",
       "      <td>0.000000</td>\n",
       "      <td>1.000000</td>\n",
       "      <td>1.000000</td>\n",
       "      <td>1.000000</td>\n",
       "      <td>1.000000</td>\n",
       "    </tr>\n",
       "    <tr>\n",
       "      <th>contract_period</th>\n",
       "      <td>4000.0</td>\n",
       "      <td>4.681250</td>\n",
       "      <td>4.549706</td>\n",
       "      <td>1.000000</td>\n",
       "      <td>1.000000</td>\n",
       "      <td>1.000000</td>\n",
       "      <td>6.000000</td>\n",
       "      <td>12.000000</td>\n",
       "    </tr>\n",
       "    <tr>\n",
       "      <th>group_visits</th>\n",
       "      <td>4000.0</td>\n",
       "      <td>0.412250</td>\n",
       "      <td>0.492301</td>\n",
       "      <td>0.000000</td>\n",
       "      <td>0.000000</td>\n",
       "      <td>0.000000</td>\n",
       "      <td>1.000000</td>\n",
       "      <td>1.000000</td>\n",
       "    </tr>\n",
       "    <tr>\n",
       "      <th>age</th>\n",
       "      <td>4000.0</td>\n",
       "      <td>29.184250</td>\n",
       "      <td>3.258367</td>\n",
       "      <td>18.000000</td>\n",
       "      <td>27.000000</td>\n",
       "      <td>29.000000</td>\n",
       "      <td>31.000000</td>\n",
       "      <td>41.000000</td>\n",
       "    </tr>\n",
       "    <tr>\n",
       "      <th>avg_additional_charges_total</th>\n",
       "      <td>4000.0</td>\n",
       "      <td>146.943728</td>\n",
       "      <td>96.355602</td>\n",
       "      <td>0.148205</td>\n",
       "      <td>68.868830</td>\n",
       "      <td>136.220159</td>\n",
       "      <td>210.949625</td>\n",
       "      <td>552.590740</td>\n",
       "    </tr>\n",
       "    <tr>\n",
       "      <th>month_to_end_contract</th>\n",
       "      <td>4000.0</td>\n",
       "      <td>4.322750</td>\n",
       "      <td>4.191297</td>\n",
       "      <td>1.000000</td>\n",
       "      <td>1.000000</td>\n",
       "      <td>1.000000</td>\n",
       "      <td>6.000000</td>\n",
       "      <td>12.000000</td>\n",
       "    </tr>\n",
       "    <tr>\n",
       "      <th>lifetime</th>\n",
       "      <td>4000.0</td>\n",
       "      <td>3.724750</td>\n",
       "      <td>3.749267</td>\n",
       "      <td>0.000000</td>\n",
       "      <td>1.000000</td>\n",
       "      <td>3.000000</td>\n",
       "      <td>5.000000</td>\n",
       "      <td>31.000000</td>\n",
       "    </tr>\n",
       "    <tr>\n",
       "      <th>avg_class_frequency_total</th>\n",
       "      <td>4000.0</td>\n",
       "      <td>1.879020</td>\n",
       "      <td>0.972245</td>\n",
       "      <td>0.000000</td>\n",
       "      <td>1.180875</td>\n",
       "      <td>1.832768</td>\n",
       "      <td>2.536078</td>\n",
       "      <td>6.023668</td>\n",
       "    </tr>\n",
       "    <tr>\n",
       "      <th>avg_class_frequency_current_month</th>\n",
       "      <td>4000.0</td>\n",
       "      <td>1.767052</td>\n",
       "      <td>1.052906</td>\n",
       "      <td>0.000000</td>\n",
       "      <td>0.963003</td>\n",
       "      <td>1.719574</td>\n",
       "      <td>2.510336</td>\n",
       "      <td>6.146783</td>\n",
       "    </tr>\n",
       "    <tr>\n",
       "      <th>churn</th>\n",
       "      <td>4000.0</td>\n",
       "      <td>0.265250</td>\n",
       "      <td>0.441521</td>\n",
       "      <td>0.000000</td>\n",
       "      <td>0.000000</td>\n",
       "      <td>0.000000</td>\n",
       "      <td>1.000000</td>\n",
       "      <td>1.000000</td>\n",
       "    </tr>\n",
       "  </tbody>\n",
       "</table>\n",
       "</div>"
      ],
      "text/plain": [
       "                                    count        mean        std        min  \\\n",
       "gender                             4000.0  0.510250    0.499957   0.000000    \n",
       "near_location                      4000.0  0.845250    0.361711   0.000000    \n",
       "partner                            4000.0  0.486750    0.499887   0.000000    \n",
       "promo_friends                      4000.0  0.308500    0.461932   0.000000    \n",
       "phone                              4000.0  0.903500    0.295313   0.000000    \n",
       "contract_period                    4000.0  4.681250    4.549706   1.000000    \n",
       "group_visits                       4000.0  0.412250    0.492301   0.000000    \n",
       "age                                4000.0  29.184250   3.258367   18.000000   \n",
       "avg_additional_charges_total       4000.0  146.943728  96.355602  0.148205    \n",
       "month_to_end_contract              4000.0  4.322750    4.191297   1.000000    \n",
       "lifetime                           4000.0  3.724750    3.749267   0.000000    \n",
       "avg_class_frequency_total          4000.0  1.879020    0.972245   0.000000    \n",
       "avg_class_frequency_current_month  4000.0  1.767052    1.052906   0.000000    \n",
       "churn                              4000.0  0.265250    0.441521   0.000000    \n",
       "\n",
       "                                         25%         50%         75%  \\\n",
       "gender                             0.000000   1.000000    1.000000     \n",
       "near_location                      1.000000   1.000000    1.000000     \n",
       "partner                            0.000000   0.000000    1.000000     \n",
       "promo_friends                      0.000000   0.000000    1.000000     \n",
       "phone                              1.000000   1.000000    1.000000     \n",
       "contract_period                    1.000000   1.000000    6.000000     \n",
       "group_visits                       0.000000   0.000000    1.000000     \n",
       "age                                27.000000  29.000000   31.000000    \n",
       "avg_additional_charges_total       68.868830  136.220159  210.949625   \n",
       "month_to_end_contract              1.000000   1.000000    6.000000     \n",
       "lifetime                           1.000000   3.000000    5.000000     \n",
       "avg_class_frequency_total          1.180875   1.832768    2.536078     \n",
       "avg_class_frequency_current_month  0.963003   1.719574    2.510336     \n",
       "churn                              0.000000   0.000000    1.000000     \n",
       "\n",
       "                                          max  \n",
       "gender                             1.000000    \n",
       "near_location                      1.000000    \n",
       "partner                            1.000000    \n",
       "promo_friends                      1.000000    \n",
       "phone                              1.000000    \n",
       "contract_period                    12.000000   \n",
       "group_visits                       1.000000    \n",
       "age                                41.000000   \n",
       "avg_additional_charges_total       552.590740  \n",
       "month_to_end_contract              12.000000   \n",
       "lifetime                           31.000000   \n",
       "avg_class_frequency_total          6.023668    \n",
       "avg_class_frequency_current_month  6.146783    \n",
       "churn                              1.000000    "
      ]
     },
     "execution_count": 7,
     "metadata": {},
     "output_type": "execute_result"
    }
   ],
   "source": [
    "df.describe().T"
   ]
  },
  {
   "cell_type": "markdown",
   "metadata": {},
   "source": [
    "Проведем первичный анализ данных:\n",
    "\n",
    "* мужчин и женщин среди клиентов приблизительно одинаковое количество;\n",
    "\n",
    "* 84% всех клиентов живут или работают в районе, где находится фитнес-центр;\n",
    "\n",
    "* примерно половина клиентов — сотрудники компании-партнёра клуба;\n",
    "\n",
    "* почти треть клиентов пришли в рамках акции «приведи друга», что является неплохим показателем;\n",
    "\n",
    "* у большинства клиентов (90%) указан номер телефона - хороший показатель, остальные 10%, возможно, не хотят предоставлять лишние персональные данные; \n",
    "\n",
    "* средняя продолжительность контракта 4.7 месяца кажется неплохим показателем, но медианное значение – 1 месяц; возможно, многие люди пользуются акциями и только пришли в фитнес-клуб;\n",
    "\n",
    "* 41% всех клиентов посещают групповые занятия, возможно это связано с дополнительными скидками или акциями;\n",
    "\n",
    "* средний возраст совпадает с медианным – 29 лет, вся аудитория - 18 - 41 год, клуб обладает достаточно молодой аудиторией;\n",
    "\n",
    "* неплатящие за дополнительные услуги клуба клиенты отсутствуют;\n",
    "\n",
    "* срок до конца абонемента практически не отличается от длительности абонемента, возможно все клиенты их недавно приобрели или продлили;\n",
    "\n",
    "* среднее время с момента первого обращения в фитнес-центр менее 4 месяцев, при том, что как минимум 1 клуб сети открыт не менее 2.5 лет (31 месяц);\n",
    "\n",
    "* в среднем клиенты тренируются 1-2 раза в неделю, но есть и те, кто тренируется 6 раз в неделю;\n",
    "\n",
    "* средний отток 27%. Этот показатель является важнейшим для нас. Анализом оттока займемся далее."
   ]
  },
  {
   "cell_type": "markdown",
   "metadata": {},
   "source": [
    "### Анализ признаков по группам"
   ]
  },
  {
   "cell_type": "markdown",
   "metadata": {},
   "source": [
    "Посмотрим на средние значения признаков в двух группах — тех, кто ушел в отток и тех, кто остался (1 - те, кто ушел и 0 - те, кто остался)"
   ]
  },
  {
   "cell_type": "code",
   "execution_count": 8,
   "metadata": {
    "scrolled": false
   },
   "outputs": [
    {
     "data": {
      "text/html": [
       "<div>\n",
       "<style scoped>\n",
       "    .dataframe tbody tr th:only-of-type {\n",
       "        vertical-align: middle;\n",
       "    }\n",
       "\n",
       "    .dataframe tbody tr th {\n",
       "        vertical-align: top;\n",
       "    }\n",
       "\n",
       "    .dataframe thead th {\n",
       "        text-align: right;\n",
       "    }\n",
       "</style>\n",
       "<table border=\"1\" class=\"dataframe\">\n",
       "  <thead>\n",
       "    <tr style=\"text-align: right;\">\n",
       "      <th>churn</th>\n",
       "      <th>0</th>\n",
       "      <th>1</th>\n",
       "    </tr>\n",
       "  </thead>\n",
       "  <tbody>\n",
       "    <tr>\n",
       "      <th>gender</th>\n",
       "      <td>0.510037</td>\n",
       "      <td>0.510839</td>\n",
       "    </tr>\n",
       "    <tr>\n",
       "      <th>near_location</th>\n",
       "      <td>0.873086</td>\n",
       "      <td>0.768143</td>\n",
       "    </tr>\n",
       "    <tr>\n",
       "      <th>partner</th>\n",
       "      <td>0.534195</td>\n",
       "      <td>0.355325</td>\n",
       "    </tr>\n",
       "    <tr>\n",
       "      <th>promo_friends</th>\n",
       "      <td>0.353522</td>\n",
       "      <td>0.183789</td>\n",
       "    </tr>\n",
       "    <tr>\n",
       "      <th>phone</th>\n",
       "      <td>0.903709</td>\n",
       "      <td>0.902922</td>\n",
       "    </tr>\n",
       "    <tr>\n",
       "      <th>contract_period</th>\n",
       "      <td>5.747193</td>\n",
       "      <td>1.728558</td>\n",
       "    </tr>\n",
       "    <tr>\n",
       "      <th>group_visits</th>\n",
       "      <td>0.464103</td>\n",
       "      <td>0.268615</td>\n",
       "    </tr>\n",
       "    <tr>\n",
       "      <th>age</th>\n",
       "      <td>29.976523</td>\n",
       "      <td>26.989632</td>\n",
       "    </tr>\n",
       "    <tr>\n",
       "      <th>avg_additional_charges_total</th>\n",
       "      <td>158.445715</td>\n",
       "      <td>115.082899</td>\n",
       "    </tr>\n",
       "    <tr>\n",
       "      <th>month_to_end_contract</th>\n",
       "      <td>5.283089</td>\n",
       "      <td>1.662582</td>\n",
       "    </tr>\n",
       "    <tr>\n",
       "      <th>lifetime</th>\n",
       "      <td>4.711807</td>\n",
       "      <td>0.990575</td>\n",
       "    </tr>\n",
       "    <tr>\n",
       "      <th>avg_class_frequency_total</th>\n",
       "      <td>2.024876</td>\n",
       "      <td>1.474995</td>\n",
       "    </tr>\n",
       "    <tr>\n",
       "      <th>avg_class_frequency_current_month</th>\n",
       "      <td>2.027882</td>\n",
       "      <td>1.044546</td>\n",
       "    </tr>\n",
       "  </tbody>\n",
       "</table>\n",
       "</div>"
      ],
      "text/plain": [
       "churn                                       0           1\n",
       "gender                             0.510037    0.510839  \n",
       "near_location                      0.873086    0.768143  \n",
       "partner                            0.534195    0.355325  \n",
       "promo_friends                      0.353522    0.183789  \n",
       "phone                              0.903709    0.902922  \n",
       "contract_period                    5.747193    1.728558  \n",
       "group_visits                       0.464103    0.268615  \n",
       "age                                29.976523   26.989632 \n",
       "avg_additional_charges_total       158.445715  115.082899\n",
       "month_to_end_contract              5.283089    1.662582  \n",
       "lifetime                           4.711807    0.990575  \n",
       "avg_class_frequency_total          2.024876    1.474995  \n",
       "avg_class_frequency_current_month  2.027882    1.044546  "
      ]
     },
     "execution_count": 8,
     "metadata": {},
     "output_type": "execute_result"
    }
   ],
   "source": [
    "df.groupby('churn').agg('mean').T"
   ]
  },
  {
   "cell_type": "markdown",
   "metadata": {},
   "source": [
    "Составим предположения о клиентах, ушелших в отток:\n",
    "\n",
    "* треть клиентов пользуются партнерской программой клуба;\n",
    "* абонементы покупают на короткий срок (не более 2 месяцев);\n",
    "* чаще занимаются одни, 1-2 раза в неделю."
   ]
  },
  {
   "cell_type": "markdown",
   "metadata": {},
   "source": [
    "### Гистограммы признаков"
   ]
  },
  {
   "cell_type": "markdown",
   "metadata": {},
   "source": [
    "Разделим исходный датасет на 2 по признаку оттока `churn`. Построим гистограммы по всем признакам, где наглядно будет видно сравнение двух групп. Разделим все признаки на количественные и категориальные"
   ]
  },
  {
   "cell_type": "code",
   "execution_count": 9,
   "metadata": {},
   "outputs": [
    {
     "data": {
      "image/png": "[encoded data removed]",
      "text/plain": [
       "<Figure size 1080x720 with 6 Axes>"
      ]
     },
     "metadata": {
      "needs_background": "light"
     },
     "output_type": "display_data"
    }
   ],
   "source": [
    "# Выделим категориальные признаки;\n",
    "# делаем новых холст в котором графики будут в 3 столбца, а число строк - количество признаков деленное на 3\n",
    "\n",
    "cat = ['gender', 'near_location', 'partner', 'promo_friends', 'phone', 'group_visits']\n",
    "\n",
    "number_row = int(len(cat)/3)\n",
    "fig, ax = plt.subplots(nrows=number_row, ncols=3, figsize=(15, 10))\n",
    "\n",
    "# вытягиваем в один ряд\n",
    "ax = ax.flatten() \n",
    "\n",
    "for i in range(len(cat)):\n",
    "    sns.countplot(x='churn', data=df, hue=cat[i], ax=ax[i])\n",
    "    ax[i].set_title(f'{cat[i]}')\n",
    "    ax[i].set_xlabel('')\n",
    "                \n",
    "# полное отображение записей    \n",
    "fig.tight_layout()\n",
    "fig.show()"
   ]
  },
  {
   "cell_type": "code",
   "execution_count": 10,
   "metadata": {},
   "outputs": [
    {
     "data": {
      "image/png": "[encoded data removed]",
      "text/plain": [
       "<Figure size 1080x720 with 7 Axes>"
      ]
     },
     "metadata": {
      "needs_background": "light"
     },
     "output_type": "display_data"
    }
   ],
   "source": [
    "# Выделим количественные признаки;\n",
    "# делаем новых холст в котором графики будут в 3 столбца, а число строк - количество признаков деленное на 3\n",
    "\n",
    "count = ['age', 'contract_period', 'avg_additional_charges_total', 'month_to_end_contract', 'lifetime', \n",
    "         'avg_class_frequency_total', 'avg_class_frequency_current_month']\n",
    "\n",
    "number_row = int(len(count)/3)\n",
    "fig, ax = plt.subplots(nrows=number_row+1, ncols=3, figsize=(15, 10))\n",
    "\n",
    "# вытягиваем в один ряд\n",
    "ax = ax.flatten() \n",
    "\n",
    "for i in range(len(count)):\n",
    "    sns.boxplot(y = count[i], x = 'churn', data = df, ax=ax[i])\n",
    "    ax[i].set_title(f'{count[i]}')\n",
    "    ax[i].set_xlabel('')\n",
    "    \n",
    "# удаляем 2 пустых графика\n",
    "fig.delaxes(ax[-1])\n",
    "fig.delaxes(ax[-2])\n",
    "            \n",
    "# полное отображение записей    \n",
    "fig.tight_layout()\n",
    "fig.show()"
   ]
  },
  {
   "cell_type": "markdown",
   "metadata": {},
   "source": [
    "Графики подтверждают выводы прошлого раздела. Также можно добавить следующее:\n",
    "\n",
    "* клиенты, живущие не в районе фитнес-клуба, чаще уходят;\n",
    "* люди, пришедшие по приглашению друзей в рамках акции, уходят реже."
   ]
  },
  {
   "cell_type": "markdown",
   "metadata": {},
   "source": [
    "### Матрица корреляций"
   ]
  },
  {
   "cell_type": "markdown",
   "metadata": {},
   "source": [
    "Построим матрицу корреляций"
   ]
  },
  {
   "cell_type": "code",
   "execution_count": 11,
   "metadata": {
    "scrolled": false
   },
   "outputs": [
    {
     "data": {
      "image/png": "[encoded data removed]",
      "text/plain": [
       "<Figure size 1080x1080 with 2 Axes>"
      ]
     },
     "metadata": {
      "needs_background": "light"
     },
     "output_type": "display_data"
    }
   ],
   "source": [
    "corr_m = df.corr()\n",
    "plt.figure(figsize = (15,15))\n",
    "sns.heatmap(corr_m, square = True, annot = True, vmin = -1, vmax = 1, cmap='coolwarm')\n",
    "plt.title('Тепловая матрица корреляций', fontsize=20, pad=20)\n",
    "plt.show()"
   ]
  },
  {
   "cell_type": "markdown",
   "metadata": {},
   "source": [
    "Проанализируем матрицу корреляций.  Признаков, сильно коррелирующих с фактом оттока нет (максимум: 0.44).\n",
    "\n",
    "Большинство признаков имеют слабую корреляционную (линейную) связь между собой. Но стоит отметить 2 пары признаков: `avg_class_frequency_current_month` и `avg_class_frequency_total`,  и `month_to_end_contract`, у которых корреляция 0.95 и 0.97, соответственно. Чтобы избежать мультиколлинеарности и построить более точную модель, оставим только один из признаков в паре. Удалим `avg_class_frequency_current_month` и `contract_period` из данных."
   ]
  },
  {
   "cell_type": "code",
   "execution_count": 12,
   "metadata": {
    "scrolled": true
   },
   "outputs": [
    {
     "name": "stdout",
     "output_type": "stream",
     "text": [
      "<class 'pandas.core.frame.DataFrame'>\n",
      "RangeIndex: 4000 entries, 0 to 3999\n",
      "Data columns (total 12 columns):\n",
      " #   Column                        Non-Null Count  Dtype  \n",
      "---  ------                        --------------  -----  \n",
      " 0   gender                        4000 non-null   int64  \n",
      " 1   near_location                 4000 non-null   int64  \n",
      " 2   partner                       4000 non-null   int64  \n",
      " 3   promo_friends                 4000 non-null   int64  \n",
      " 4   phone                         4000 non-null   int64  \n",
      " 5   group_visits                  4000 non-null   int64  \n",
      " 6   age                           4000 non-null   int64  \n",
      " 7   avg_additional_charges_total  4000 non-null   float64\n",
      " 8   month_to_end_contract         4000 non-null   int64  \n",
      " 9   lifetime                      4000 non-null   int64  \n",
      " 10  avg_class_frequency_total     4000 non-null   float64\n",
      " 11  churn                         4000 non-null   int64  \n",
      "dtypes: float64(2), int64(10)\n",
      "memory usage: 375.1 KB\n"
     ]
    }
   ],
   "source": [
    "df_new = df.drop(['avg_class_frequency_current_month', 'contract_period'], axis = 1)\n",
    "df_new.info()"
   ]
  },
  {
   "cell_type": "markdown",
   "metadata": {},
   "source": [
    "## Построение модели прогнозирования оттока клиентов"
   ]
  },
  {
   "cell_type": "markdown",
   "metadata": {},
   "source": [
    "Решаемая задача - **бинарная классификция**, т.к. нам необходимо спрогнозировать отток клиентов, которые либо может состояться, либо нет.\n",
    "\n",
    "Обучать модель будем на основе датасета `df_new`, где имеем целевую переменную `churn` и 11 признаков.\n",
    "\n",
    "Обучать модель будем двумя способами: \n",
    "\n",
    "* **Логистическая регрессией**,\n",
    "* **Cлучайным лесом**.\n",
    "\n",
    "Оценивать модели будем по 4 метрикам:\n",
    "\n",
    "* **Accuracy** - доля правильных ответов\n",
    "* **Precision** - точность модели. Показывает долю правильных ответов только среди целевого класса\n",
    "* **Recall** - полнота модели. Показывает, сколько реальных фактов ухода клиента удалось обнаружить с помощью модели\n",
    "* **F1-мера** -  сводная метрика, учитывающая баланс между метриками Precision и Recall\n",
    "\n",
    "Разделим данные на **обучающую и валидационную выборку** в соотношении **80/20**, а также стандартизируем данные."
   ]
  },
  {
   "cell_type": "code",
   "execution_count": 13,
   "metadata": {
    "scrolled": false
   },
   "outputs": [],
   "source": [
    "# разделение на признаки и целевую переменной\n",
    "X = df_new.drop('churn', axis = 1)\n",
    "y = df_new['churn']\n",
    "\n",
    "# выделение обучающей и валидационной выборок\n",
    "X_train, X_test, y_train, y_test = train_test_split(X, y, random_state = 0, test_size=0.2)\n",
    "\n",
    "# создание объекта класса StandardScaler и применение к обучающей выборке\n",
    "scaler = StandardScaler()\n",
    "scaler.fit(X_train)\n",
    "\n",
    "# стандартизация признаков для моделей\n",
    "X_train_st = scaler.transform(X_train)\n",
    "X_test_st = scaler.transform(X_test)"
   ]
  },
  {
   "cell_type": "markdown",
   "metadata": {},
   "source": [
    "Сформируем модели и выведим значения метрик для каждой из них"
   ]
  },
  {
   "cell_type": "code",
   "execution_count": 14,
   "metadata": {
    "scrolled": false
   },
   "outputs": [
    {
     "name": "stdout",
     "output_type": "stream",
     "text": [
      "Модель: LogisticRegression(random_state=0, solver='liblinear')\n",
      "Accuracy: 0.88\n",
      "Precision: 0.76\n",
      "Recall: 0.77\n",
      "F1: 0.77\n",
      "\n",
      "Модель: RandomForestClassifier(random_state=0)\n",
      "Accuracy: 0.90\n",
      "Precision: 0.80\n",
      "Recall: 0.77\n",
      "F1: 0.79\n",
      "\n"
     ]
    }
   ],
   "source": [
    "# формирование списка моделлей\n",
    "models = [LogisticRegression(solver = 'liblinear', random_state = 0),\n",
    "          RandomForestClassifier(n_estimators = 100, random_state = 0)\n",
    "         ]\n",
    "\n",
    "# функция, которая принимает на вход модель и данные и выводит метрики\n",
    "def make_prediction(m, X_train, y_train, X_test, y_test):\n",
    "    \n",
    "    # задание и обучение моделей\n",
    "    model = m                     \n",
    "    model.fit(X_train, y_train)\n",
    "    \n",
    "    # прогнозирование целевой переменной и вероятности\n",
    "    predictions = model.predict(X_test)\n",
    "    \n",
    "    # вывод метрик\n",
    "    print('Accuracy: {:.2f}'.format(accuracy_score(y_test, predictions)))\n",
    "    print('Precision: {:.2f}'.format(precision_score(y_test, predictions)))\n",
    "    print('Recall: {:.2f}'.format(recall_score(y_test, predictions)))\n",
    "    print('F1: {:.2f}'.format(f1_score(y_test, predictions)))\n",
    "\n",
    "# цикл, который выводит метрики по списку моделей\n",
    "for i in models:\n",
    "    print('Модель:', i)\n",
    "    make_prediction (i,X_train, y_train, X_test, y_test)\n",
    "    print('')"
   ]
  },
  {
   "cell_type": "markdown",
   "metadata": {},
   "source": [
    "По полученным результатам можно сказать, что лучше себя проявила модель, обученная алгоритмом **\"Случайный лес\"**. Параметры **Accuracy, Precision и F1** у нее выше, чем у модели, обученной алгоритмом **\"Логистическая регрессия\"**, а метрика **Recall** одинаковая."
   ]
  },
  {
   "cell_type": "markdown",
   "metadata": {},
   "source": [
    "## Кластеризация клиентов"
   ]
  },
  {
   "cell_type": "markdown",
   "metadata": {},
   "source": [
    "### Построение дендрограммы и определение количества кластеров"
   ]
  },
  {
   "cell_type": "markdown",
   "metadata": {},
   "source": [
    "Нам необходимо сегментировать клиентов, т.е. определить наиболее склонных к оттоку. Это задача кластеризации, обучение \"без учителя\".\n",
    "\n",
    "Стандартизируем общий набор данных и построим дендрограмму с разделением по кластерам"
   ]
  },
  {
   "cell_type": "code",
   "execution_count": 15,
   "metadata": {
    "scrolled": false
   },
   "outputs": [
    {
     "data": {
      "image/png": "[encoded data removed]",
      "text/plain": [
       "<Figure size 1080x720 with 1 Axes>"
      ]
     },
     "metadata": {
      "needs_background": "light"
     },
     "output_type": "display_data"
    }
   ],
   "source": [
    "# создание и обучение стандартизатора, стандартизация данных\n",
    "X_st = StandardScaler().fit_transform(X)\n",
    "\n",
    "# матрица расстояний\n",
    "linked = linkage(X_st, method='ward')\n",
    "\n",
    "# дендрограмма\n",
    "plt.figure(figsize=(15,10))  \n",
    "dendrogram(linked, orientation='top', no_labels=True)\n",
    "plt.title('Кластеризация клиентов', size=20, pad=20)\n",
    "plt.show()"
   ]
  },
  {
   "cell_type": "markdown",
   "metadata": {},
   "source": [
    "Дендрограмма предложила 4 кластера, которые существенно различаются количеством клиентов. В соответствии с условиями проекта, выделяем 5 отдельных кластеров для будущего обученмя модели."
   ]
  },
  {
   "cell_type": "markdown",
   "metadata": {},
   "source": [
    "### Обучение модели кластеризации"
   ]
  },
  {
   "cell_type": "markdown",
   "metadata": {},
   "source": [
    "Обучим модель кластеризации на основании алгоритма **K-Means** и спрогнозируем кластеры клиентов. Алгоритм основан на предположении, что число кластеров заранее известно."
   ]
  },
  {
   "cell_type": "code",
   "execution_count": 16,
   "metadata": {
    "scrolled": false
   },
   "outputs": [],
   "source": [
    "# задание модели кластеризации\n",
    "km_model = KMeans(n_clusters = 5, random_state = 0)\n",
    "\n",
    "# обучение модели и получение кластеров по каждому клиенту\n",
    "labels = km_model.fit_predict(X_st)\n",
    "\n",
    "# занесение номера кластера в датасет\n",
    "df['km_cluster'] = labels"
   ]
  },
  {
   "cell_type": "markdown",
   "metadata": {},
   "source": [
    "Выведим количество клиентов по кластерам"
   ]
  },
  {
   "cell_type": "code",
   "execution_count": 17,
   "metadata": {
    "scrolled": false
   },
   "outputs": [
    {
     "data": {
      "text/plain": [
       "km_cluster\n",
       "0    1001\n",
       "1    557 \n",
       "2    898 \n",
       "3    1158\n",
       "4    386 \n",
       "Name: churn, dtype: int64"
      ]
     },
     "execution_count": 17,
     "metadata": {},
     "output_type": "execute_result"
    }
   ],
   "source": [
    "df.groupby('km_cluster')['churn'].count()"
   ]
  },
  {
   "cell_type": "markdown",
   "metadata": {},
   "source": [
    "### Анализ кластеров"
   ]
  },
  {
   "cell_type": "markdown",
   "metadata": {},
   "source": [
    "Посмотрим на средние значения признаков в каждом кластере"
   ]
  },
  {
   "cell_type": "code",
   "execution_count": 18,
   "metadata": {
    "scrolled": false
   },
   "outputs": [
    {
     "data": {
      "text/html": [
       "<style type=\"text/css\">\n",
       "#T_ba026_row0_col0, #T_ba026_row1_col1, #T_ba026_row2_col3, #T_ba026_row3_col2, #T_ba026_row4_col4, #T_ba026_row5_col3, #T_ba026_row6_col1, #T_ba026_row7_col3, #T_ba026_row8_col3, #T_ba026_row9_col3, #T_ba026_row10_col3, #T_ba026_row11_col3, #T_ba026_row12_col3, #T_ba026_row13_col2 {\n",
       "  background-color: #3b4cc0;\n",
       "  color: #f1f1f1;\n",
       "}\n",
       "#T_ba026_row0_col1 {\n",
       "  background-color: #5875e1;\n",
       "  color: #f1f1f1;\n",
       "}\n",
       "#T_ba026_row0_col2, #T_ba026_row6_col0 {\n",
       "  background-color: #d24b40;\n",
       "  color: #f1f1f1;\n",
       "}\n",
       "#T_ba026_row0_col3 {\n",
       "  background-color: #e9d5cb;\n",
       "  color: #000000;\n",
       "}\n",
       "#T_ba026_row0_col4, #T_ba026_row1_col3, #T_ba026_row2_col0, #T_ba026_row3_col0, #T_ba026_row4_col0, #T_ba026_row4_col1, #T_ba026_row4_col2, #T_ba026_row4_col3, #T_ba026_row5_col0, #T_ba026_row6_col2, #T_ba026_row7_col2, #T_ba026_row8_col2, #T_ba026_row9_col0, #T_ba026_row10_col2, #T_ba026_row11_col2, #T_ba026_row12_col2, #T_ba026_row13_col3 {\n",
       "  background-color: #b40426;\n",
       "  color: #f1f1f1;\n",
       "}\n",
       "#T_ba026_row1_col0, #T_ba026_row1_col2 {\n",
       "  background-color: #b50927;\n",
       "  color: #f1f1f1;\n",
       "}\n",
       "#T_ba026_row1_col4 {\n",
       "  background-color: #e16751;\n",
       "  color: #f1f1f1;\n",
       "}\n",
       "#T_ba026_row2_col1 {\n",
       "  background-color: #c6d6f1;\n",
       "  color: #000000;\n",
       "}\n",
       "#T_ba026_row2_col2 {\n",
       "  background-color: #a5c3fe;\n",
       "  color: #000000;\n",
       "}\n",
       "#T_ba026_row2_col4 {\n",
       "  background-color: #bfd3f6;\n",
       "  color: #000000;\n",
       "}\n",
       "#T_ba026_row3_col1 {\n",
       "  background-color: #4f69d9;\n",
       "  color: #f1f1f1;\n",
       "}\n",
       "#T_ba026_row3_col3 {\n",
       "  background-color: #465ecf;\n",
       "  color: #f1f1f1;\n",
       "}\n",
       "#T_ba026_row3_col4 {\n",
       "  background-color: #9ebeff;\n",
       "  color: #000000;\n",
       "}\n",
       "#T_ba026_row5_col1 {\n",
       "  background-color: #7b9ff9;\n",
       "  color: #f1f1f1;\n",
       "}\n",
       "#T_ba026_row5_col2, #T_ba026_row9_col2 {\n",
       "  background-color: #bd1f2d;\n",
       "  color: #f1f1f1;\n",
       "}\n",
       "#T_ba026_row5_col4 {\n",
       "  background-color: #edd1c2;\n",
       "  color: #000000;\n",
       "}\n",
       "#T_ba026_row6_col3, #T_ba026_row9_col1 {\n",
       "  background-color: #7ea1fa;\n",
       "  color: #f1f1f1;\n",
       "}\n",
       "#T_ba026_row6_col4 {\n",
       "  background-color: #f4c5ad;\n",
       "  color: #000000;\n",
       "}\n",
       "#T_ba026_row7_col0 {\n",
       "  background-color: #eed0c0;\n",
       "  color: #000000;\n",
       "}\n",
       "#T_ba026_row7_col1 {\n",
       "  background-color: #9bbcff;\n",
       "  color: #000000;\n",
       "}\n",
       "#T_ba026_row7_col4 {\n",
       "  background-color: #dbdcde;\n",
       "  color: #000000;\n",
       "}\n",
       "#T_ba026_row8_col0 {\n",
       "  background-color: #e3d9d3;\n",
       "  color: #000000;\n",
       "}\n",
       "#T_ba026_row8_col1 {\n",
       "  background-color: #89acfd;\n",
       "  color: #000000;\n",
       "}\n",
       "#T_ba026_row8_col4 {\n",
       "  background-color: #b7cff9;\n",
       "  color: #000000;\n",
       "}\n",
       "#T_ba026_row9_col4 {\n",
       "  background-color: #f0cdbb;\n",
       "  color: #000000;\n",
       "}\n",
       "#T_ba026_row10_col0 {\n",
       "  background-color: #f1cdba;\n",
       "  color: #000000;\n",
       "}\n",
       "#T_ba026_row10_col1 {\n",
       "  background-color: #8db0fe;\n",
       "  color: #000000;\n",
       "}\n",
       "#T_ba026_row10_col4 {\n",
       "  background-color: #e1dad6;\n",
       "  color: #000000;\n",
       "}\n",
       "#T_ba026_row11_col0 {\n",
       "  background-color: #e4d9d2;\n",
       "  color: #000000;\n",
       "}\n",
       "#T_ba026_row11_col1 {\n",
       "  background-color: #9abbff;\n",
       "  color: #000000;\n",
       "}\n",
       "#T_ba026_row11_col4, #T_ba026_row12_col4 {\n",
       "  background-color: #c1d4f4;\n",
       "  color: #000000;\n",
       "}\n",
       "#T_ba026_row12_col0 {\n",
       "  background-color: #efcfbf;\n",
       "  color: #000000;\n",
       "}\n",
       "#T_ba026_row12_col1 {\n",
       "  background-color: #96b7ff;\n",
       "  color: #000000;\n",
       "}\n",
       "#T_ba026_row13_col0 {\n",
       "  background-color: #88abfd;\n",
       "  color: #000000;\n",
       "}\n",
       "#T_ba026_row13_col1 {\n",
       "  background-color: #f08a6c;\n",
       "  color: #f1f1f1;\n",
       "}\n",
       "#T_ba026_row13_col4 {\n",
       "  background-color: #dfdbd9;\n",
       "  color: #000000;\n",
       "}\n",
       "</style>\n",
       "<table id=\"T_ba026_\">\n",
       "  <thead>\n",
       "    <tr>\n",
       "      <th class=\"index_name level0\" >km_cluster</th>\n",
       "      <th class=\"col_heading level0 col0\" >0</th>\n",
       "      <th class=\"col_heading level0 col1\" >1</th>\n",
       "      <th class=\"col_heading level0 col2\" >2</th>\n",
       "      <th class=\"col_heading level0 col3\" >3</th>\n",
       "      <th class=\"col_heading level0 col4\" >4</th>\n",
       "    </tr>\n",
       "  </thead>\n",
       "  <tbody>\n",
       "    <tr>\n",
       "      <th id=\"T_ba026_level0_row0\" class=\"row_heading level0 row0\" >gender</th>\n",
       "      <td id=\"T_ba026_row0_col0\" class=\"data row0 col0\" >0.50</td>\n",
       "      <td id=\"T_ba026_row0_col1\" class=\"data row0 col1\" >0.50</td>\n",
       "      <td id=\"T_ba026_row0_col2\" class=\"data row0 col2\" >0.52</td>\n",
       "      <td id=\"T_ba026_row0_col3\" class=\"data row0 col3\" >0.51</td>\n",
       "      <td id=\"T_ba026_row0_col4\" class=\"data row0 col4\" >0.52</td>\n",
       "    </tr>\n",
       "    <tr>\n",
       "      <th id=\"T_ba026_level0_row1\" class=\"row_heading level0 row1\" >near_location</th>\n",
       "      <td id=\"T_ba026_row1_col0\" class=\"data row1 col0\" >1.00</td>\n",
       "      <td id=\"T_ba026_row1_col1\" class=\"data row1 col1\" >0.00</td>\n",
       "      <td id=\"T_ba026_row1_col2\" class=\"data row1 col2\" >1.00</td>\n",
       "      <td id=\"T_ba026_row1_col3\" class=\"data row1 col3\" >1.00</td>\n",
       "      <td id=\"T_ba026_row1_col4\" class=\"data row1 col4\" >0.86</td>\n",
       "    </tr>\n",
       "    <tr>\n",
       "      <th id=\"T_ba026_level0_row2\" class=\"row_heading level0 row2\" >partner</th>\n",
       "      <td id=\"T_ba026_row2_col0\" class=\"data row2 col0\" >0.89</td>\n",
       "      <td id=\"T_ba026_row2_col1\" class=\"data row2 col1\" >0.49</td>\n",
       "      <td id=\"T_ba026_row2_col2\" class=\"data row2 col2\" >0.42</td>\n",
       "      <td id=\"T_ba026_row2_col3\" class=\"data row2 col3\" >0.20</td>\n",
       "      <td id=\"T_ba026_row2_col4\" class=\"data row2 col4\" >0.47</td>\n",
       "    </tr>\n",
       "    <tr>\n",
       "      <th id=\"T_ba026_level0_row3\" class=\"row_heading level0 row3\" >promo_friends</th>\n",
       "      <td id=\"T_ba026_row3_col0\" class=\"data row3 col0\" >1.00</td>\n",
       "      <td id=\"T_ba026_row3_col1\" class=\"data row3 col1\" >0.08</td>\n",
       "      <td id=\"T_ba026_row3_col2\" class=\"data row3 col2\" >0.01</td>\n",
       "      <td id=\"T_ba026_row3_col3\" class=\"data row3 col3\" >0.05</td>\n",
       "      <td id=\"T_ba026_row3_col4\" class=\"data row3 col4\" >0.31</td>\n",
       "    </tr>\n",
       "    <tr>\n",
       "      <th id=\"T_ba026_level0_row4\" class=\"row_heading level0 row4\" >phone</th>\n",
       "      <td id=\"T_ba026_row4_col0\" class=\"data row4 col0\" >1.00</td>\n",
       "      <td id=\"T_ba026_row4_col1\" class=\"data row4 col1\" >1.00</td>\n",
       "      <td id=\"T_ba026_row4_col2\" class=\"data row4 col2\" >1.00</td>\n",
       "      <td id=\"T_ba026_row4_col3\" class=\"data row4 col3\" >1.00</td>\n",
       "      <td id=\"T_ba026_row4_col4\" class=\"data row4 col4\" >0.00</td>\n",
       "    </tr>\n",
       "    <tr>\n",
       "      <th id=\"T_ba026_level0_row5\" class=\"row_heading level0 row5\" >contract_period</th>\n",
       "      <td id=\"T_ba026_row5_col0\" class=\"data row5 col0\" >6.84</td>\n",
       "      <td id=\"T_ba026_row5_col1\" class=\"data row5 col1\" >2.98</td>\n",
       "      <td id=\"T_ba026_row5_col2\" class=\"data row5 col2\" >6.73</td>\n",
       "      <td id=\"T_ba026_row5_col3\" class=\"data row5 col3\" >2.01</td>\n",
       "      <td id=\"T_ba026_row5_col4\" class=\"data row5 col4\" >4.78</td>\n",
       "    </tr>\n",
       "    <tr>\n",
       "      <th id=\"T_ba026_level0_row6\" class=\"row_heading level0 row6\" >group_visits</th>\n",
       "      <td id=\"T_ba026_row6_col0\" class=\"data row6 col0\" >0.52</td>\n",
       "      <td id=\"T_ba026_row6_col1\" class=\"data row6 col1\" >0.23</td>\n",
       "      <td id=\"T_ba026_row6_col2\" class=\"data row6 col2\" >0.55</td>\n",
       "      <td id=\"T_ba026_row6_col3\" class=\"data row6 col3\" >0.30</td>\n",
       "      <td id=\"T_ba026_row6_col4\" class=\"data row6 col4\" >0.43</td>\n",
       "    </tr>\n",
       "    <tr>\n",
       "      <th id=\"T_ba026_level0_row7\" class=\"row_heading level0 row7\" >age</th>\n",
       "      <td id=\"T_ba026_row7_col0\" class=\"data row7 col0\" >29.54</td>\n",
       "      <td id=\"T_ba026_row7_col1\" class=\"data row7 col1\" >28.69</td>\n",
       "      <td id=\"T_ba026_row7_col2\" class=\"data row7 col2\" >30.81</td>\n",
       "      <td id=\"T_ba026_row7_col3\" class=\"data row7 col3\" >27.82</td>\n",
       "      <td id=\"T_ba026_row7_col4\" class=\"data row7 col4\" >29.30</td>\n",
       "    </tr>\n",
       "    <tr>\n",
       "      <th id=\"T_ba026_level0_row8\" class=\"row_heading level0 row8\" >avg_additional_charges_total</th>\n",
       "      <td id=\"T_ba026_row8_col0\" class=\"data row8 col0\" >152.14</td>\n",
       "      <td id=\"T_ba026_row8_col1\" class=\"data row8 col1\" >137.28</td>\n",
       "      <td id=\"T_ba026_row8_col2\" class=\"data row8 col2\" >177.10</td>\n",
       "      <td id=\"T_ba026_row8_col3\" class=\"data row8 col3\" >124.63</td>\n",
       "      <td id=\"T_ba026_row8_col4\" class=\"data row8 col4\" >144.21</td>\n",
       "    </tr>\n",
       "    <tr>\n",
       "      <th id=\"T_ba026_level0_row9\" class=\"row_heading level0 row9\" >month_to_end_contract</th>\n",
       "      <td id=\"T_ba026_row9_col0\" class=\"data row9 col0\" >6.27</td>\n",
       "      <td id=\"T_ba026_row9_col1\" class=\"data row9 col1\" >2.80</td>\n",
       "      <td id=\"T_ba026_row9_col2\" class=\"data row9 col2\" >6.16</td>\n",
       "      <td id=\"T_ba026_row9_col3\" class=\"data row9 col3\" >1.90</td>\n",
       "      <td id=\"T_ba026_row9_col4\" class=\"data row9 col4\" >4.47</td>\n",
       "    </tr>\n",
       "    <tr>\n",
       "      <th id=\"T_ba026_level0_row10\" class=\"row_heading level0 row10\" >lifetime</th>\n",
       "      <td id=\"T_ba026_row10_col0\" class=\"data row10 col0\" >4.21</td>\n",
       "      <td id=\"T_ba026_row10_col1\" class=\"data row10 col1\" >2.98</td>\n",
       "      <td id=\"T_ba026_row10_col2\" class=\"data row10 col2\" >5.70</td>\n",
       "      <td id=\"T_ba026_row10_col3\" class=\"data row10 col3\" >2.06</td>\n",
       "      <td id=\"T_ba026_row10_col4\" class=\"data row10 col4\" >3.94</td>\n",
       "    </tr>\n",
       "    <tr>\n",
       "      <th id=\"T_ba026_level0_row11\" class=\"row_heading level0 row11\" >avg_class_frequency_total</th>\n",
       "      <td id=\"T_ba026_row11_col0\" class=\"data row11 col0\" >1.95</td>\n",
       "      <td id=\"T_ba026_row11_col1\" class=\"data row11 col1\" >1.76</td>\n",
       "      <td id=\"T_ba026_row11_col2\" class=\"data row11 col2\" >2.32</td>\n",
       "      <td id=\"T_ba026_row11_col3\" class=\"data row11 col3\" >1.54</td>\n",
       "      <td id=\"T_ba026_row11_col4\" class=\"data row11 col4\" >1.85</td>\n",
       "    </tr>\n",
       "    <tr>\n",
       "      <th id=\"T_ba026_level0_row12\" class=\"row_heading level0 row12\" >avg_class_frequency_current_month</th>\n",
       "      <td id=\"T_ba026_row12_col0\" class=\"data row12 col0\" >1.90</td>\n",
       "      <td id=\"T_ba026_row12_col1\" class=\"data row12 col1\" >1.60</td>\n",
       "      <td id=\"T_ba026_row12_col2\" class=\"data row12 col2\" >2.31</td>\n",
       "      <td id=\"T_ba026_row12_col3\" class=\"data row12 col3\" >1.32</td>\n",
       "      <td id=\"T_ba026_row12_col4\" class=\"data row12 col4\" >1.72</td>\n",
       "    </tr>\n",
       "    <tr>\n",
       "      <th id=\"T_ba026_level0_row13\" class=\"row_heading level0 row13\" >churn</th>\n",
       "      <td id=\"T_ba026_row13_col0\" class=\"data row13 col0\" >0.13</td>\n",
       "      <td id=\"T_ba026_row13_col1\" class=\"data row13 col1\" >0.40</td>\n",
       "      <td id=\"T_ba026_row13_col2\" class=\"data row13 col2\" >0.02</td>\n",
       "      <td id=\"T_ba026_row13_col3\" class=\"data row13 col3\" >0.51</td>\n",
       "      <td id=\"T_ba026_row13_col4\" class=\"data row13 col4\" >0.27</td>\n",
       "    </tr>\n",
       "  </tbody>\n",
       "</table>\n"
      ],
      "text/plain": [
       "<pandas.io.formats.style.Styler at 0x235dc33e700>"
      ]
     },
     "execution_count": 18,
     "metadata": {},
     "output_type": "execute_result"
    }
   ],
   "source": [
    "cluster_features = df.groupby('km_cluster').mean()\n",
    "cluster_features.T.style.background_gradient(cmap='coolwarm', axis=1).set_precision(2)"
   ]
  },
  {
   "cell_type": "markdown",
   "metadata": {},
   "source": [
    "Проанализируем полученные данные.\n",
    "\n",
    "**Кластер 0**\n",
    "\n",
    "* Уходят 13% клиентов\n",
    "* Почти все клиенты работают или живут рядом с клубом\n",
    "* 89% клиентов пришли по партнерской программе (наивысший показатель)\n",
    "* Все клиенты первый раз пришли в рамках акции «приведи друга», т.е. по рекомендации друзей (наивысший показатель)\n",
    "* Клиенты покупают абонементы на длительный срок (12 месяцев). Такое предположение можно сделать исходя из того, что средний срок до окончания текущего действующего абонемента `month_to_end_contract` - 6.3 мес., а среднее время с момента первого обращения в фитнес-центр `lifetime` - 4.2 мес.. Это подтверждается средней длительностью текущего действующего абонемента `contract_period` - 6.8 мес., что больше 6 месяцев.\n",
    "* 52% клиентов посещают групповые занятия\n",
    "* Посещают клуб примерно 2 раза в неделю\n",
    "\n",
    "**Кластер 1**\n",
    "\n",
    "* Уходят 40% клиентов\n",
    "* Все клиенты живут или работают далеко от клуба (наименьший показатель)\n",
    "* 49% клиентов пришли по партнерской программе\n",
    "* 7% клиентов пришли первый раз по рекомендации друзей\n",
    "* Клиенты покупают абонементы на средний срок (6 месяцев). `month_to_end_contract` - 2.8 мес., `lifetime` - 2.9 мес., `contract_period` - 2.9 мес.\n",
    "* 23% клиентов посещают групповые занятия (наименьший показатель)\n",
    "* Посещают клуб примерно 2 раза в неделю\n",
    "\n",
    "**Кластер 2**\n",
    "\n",
    "* Уходят всего 1.6% клиентов (наименьший показатель)\n",
    "* Почти все клиенты работают или живут рядом с клубом\n",
    "* 42% клиентов пришли по партнерской программе\n",
    "* 1% клиентов пришли первый раз по рекомендации друзей (наименьший показатель)\n",
    "* Клиенты покупают абонементы на длительный срок (12 месяцев). `month_to_end_contract` - 6.2 мес., `lifetime` - 5.7 мес., `contract_period` - 6.7 мес.\n",
    "* 55% клиентов посещают групповые занятия (наивысший показатель)\n",
    "* Посещают клуб примерно 2 раза в неделю (наивысшей показатель)\n",
    "\n",
    "**Кластер 3**\n",
    "* Половина (50%) клиентов уходят (наивысшей показатель)\n",
    "* Все клиенты работают или живут рядом с клубом (наивысшей показатель)\n",
    "* 20% клиентов пришли по партнерской программе (наименьший показатель)\n",
    "* 5% клиентов пришли первый раз по рекомендации друзей\n",
    "* Клиенты покупают абонементы на короткий или средний срок (1 или 6 месяцев). `month_to_end_contract` - 1.9 мес., `lifetime` - 2 мес., `contract_period` - 2 мес. В данном случае есть предположение, что в кластере достаточное количество клиентов, покупающих аботнементы на 1 месяц, а также те, кто закрывают свои средние абонементы раньше срока.\n",
    "* 30% клиентов посещают групповые занятия\n",
    "* Посещают клуб примерно 1-2 раза в неделю\n",
    "\n",
    "**Кластер 4**\n",
    "\n",
    "* Уходят 27% клиентов\n",
    "* 86% клиентов живут или работают рядом с клубом\n",
    "* 47% клиентов пришли по партнерской программе\n",
    "* 31% клиентов пришли первый раз по рекомендации друзей\n",
    "* Клиенты покупают абонементы на длительный срок (12 месяцев). `month_to_end_contract` - 4.5 мес., `lifetime` - 3.9 мес., `contract_period` - 4.8 мес.\n",
    "* 43% клиентов посещают групповые занятия\n",
    "* Посещают клуб примерно 1-2 раза в неделю\n",
    "\n",
    "Основные выводы и замечания по кластерам:\n",
    "\n",
    "* **0 и 2 кластеры** являются самыми надежными. В них наименьший отток клиентов, место работы или проживания клиентов находятся рядом с финтес-центром, абонименты покупают на длительный срок, посещают клуб примерно 2 раза в неделю\n",
    "* **1 кластер** с не самымы лояльными клиентами, но это объяснимо тем, что все клиенты живут или работают далеко от клуба, поэтому в оттоке 40% нет ничего удивительного\n",
    "* **4 кластер** кажется стабильным, все показатели средние, но проценти оттока хотелось бы уменьшить\n",
    "* **3 кластер** выглядит аномальным. Половина всех клиентов уходят, хотя все они работают или живут вблизи центра, абонементы покупают на короткий или средний срок, возможно разрывают их и уходят раньше\n",
    "    \n",
    "Пол, наличие номера телефона, возраст и средний чек по дополнительным услугам примерно одинаковый во всех кластерах.\n",
    "\n"
   ]
  },
  {
   "cell_type": "markdown",
   "metadata": {},
   "source": [
    "### Построение распределения признаков"
   ]
  },
  {
   "cell_type": "markdown",
   "metadata": {},
   "source": [
    "Построим диаграммы распределения признаков для кластеров. Для категориальных признаков используем для визуализации гистограммы, для количественных - график \"ящик с усами\"."
   ]
  },
  {
   "cell_type": "code",
   "execution_count": 19,
   "metadata": {},
   "outputs": [
    {
     "data": {
      "image/png": "[encoded data removed]",
      "text/plain": [
       "<Figure size 1080x720 with 6 Axes>"
      ]
     },
     "metadata": {
      "needs_background": "light"
     },
     "output_type": "display_data"
    }
   ],
   "source": [
    "# Выделим категориальные признаки\n",
    "cat = ['gender', 'near_location', 'partner', 'promo_friends', 'phone', 'group_visits']\n",
    "\n",
    "number_row = int(len(cat)/3)\n",
    "fig, ax = plt.subplots(nrows=number_row, ncols=3, figsize=(15, 10))\n",
    "\n",
    "# вытягиваем в один ряд\n",
    "ax = ax.flatten() \n",
    "\n",
    "for i in range(len(cat)):\n",
    "    sns.countplot(x='km_cluster', data=df, hue=cat[i], ax=ax[i])\n",
    "    ax[i].set_title(f'{cat[i]}')\n",
    "    ax[i].set_xlabel('')\n",
    "                \n",
    "# полное отображение записей    \n",
    "fig.tight_layout()\n",
    "fig.show()"
   ]
  },
  {
   "cell_type": "markdown",
   "metadata": {},
   "source": [
    "Выводы из предыдущего пункта подтверждаются и по графикам распределения.\n",
    "\n",
    "* По гендерному признаку отличий между кластерами нет\n",
    "* В 1 клаастере нет клиентов проживающих или работающих в районе клуба, по остальным кластерам ситуация противоположная, практически 100% клиентов проживают или работают в непосредственной близости;\n",
    "* Больше всего клиентов по партнерской программе сосредоточено в 0 кластере, больше всего не по программам - в кластере 3\n",
    "* Клиентов, пришедших в рамках акции «приведи друга» больше всего кластере 0, меньше всего - в кластере 3\n",
    "* Номер телефона указан у клиентов всех кластеров кроме 4, где все клиенты заботятся о своей конфиденциальности\n",
    "* Реже всего посещают групповые занятия клиенты кластера 3"
   ]
  },
  {
   "cell_type": "code",
   "execution_count": 20,
   "metadata": {},
   "outputs": [
    {
     "data": {
      "image/png": "[encoded data removed]",
      "text/plain": [
       "<Figure size 1080x720 with 7 Axes>"
      ]
     },
     "metadata": {
      "needs_background": "light"
     },
     "output_type": "display_data"
    }
   ],
   "source": [
    "# Выделим количественные признаки\n",
    "count = ['age', 'contract_period', 'avg_additional_charges_total', 'month_to_end_contract', 'lifetime', \n",
    "         'avg_class_frequency_total', 'avg_class_frequency_current_month']\n",
    "\n",
    "number_row = int(len(count)/3)\n",
    "fig, ax = plt.subplots(nrows=number_row+1, ncols=3, figsize=(15, 10))\n",
    "\n",
    "# вытягиваем в один ряд\n",
    "ax = ax.flatten() \n",
    "\n",
    "for i in range(len(count)):\n",
    "    sns.boxplot(y = count[i], x = 'km_cluster', data = df, ax=ax[i])\n",
    "    ax[i].set_title(f'{count[i]}')\n",
    "    ax[i].set_xlabel('')\n",
    "    \n",
    "# удаляем 2 пустых графика\n",
    "fig.delaxes(ax[-1])\n",
    "fig.delaxes(ax[-2])\n",
    "            \n",
    "# полное отображение записей    \n",
    "fig.tight_layout()\n",
    "fig.show()"
   ]
  },
  {
   "cell_type": "markdown",
   "metadata": {},
   "source": [
    "По этим признакам также подтверждаются выводы из предыдущего пункта:\n",
    "\n",
    "* Средний возраст клиентов 0, 1 и 4 кластеров - 30 лет, наименьший показатель в кластере 3 - 27 лет, наивысший в кластере 2 - 32 года;\n",
    "* Чаще всего покупают короткие абонементы на 1 месяц клиенты икластера 3, а в кластерах 0 и 2 большая часть абонементов на 12 месяцев\n",
    "* Средняя суммарная выручка от других услуг фитнес-центра во всех кластерах примерно одинаковая, чуть выше у кластера 2\n",
    "* Средний срок до окончания текущего действующего абонемента наивысший в кластерах 0 и 2 - 6 месяцев, а наименьший у кластера 3 - 1 месяц, этот кластер выглядит аномальным\n",
    "* Среднее время с момента первого обращения в фитнес-центр у кластеров 0, 2, 4\n",
    "* Чаще всего тренируются клиенты из кластера 2, но в целом этот показатель во всех кластерах примерно одинаков - 2 раза в неделю"
   ]
  },
  {
   "cell_type": "markdown",
   "metadata": {},
   "source": [
    "Если сопоставить все выводы, можно сказать, что самыми **привлекательными** выглядят **кластеры 0 и 2**, самым непоказательным - класс 3."
   ]
  },
  {
   "cell_type": "markdown",
   "metadata": {},
   "source": [
    "### Доля оттока по кластерам"
   ]
  },
  {
   "cell_type": "markdown",
   "metadata": {},
   "source": [
    "Посчитаем долю оттока по кластерам, хотя до этого мы уже видели эту информацию (кластеры 0 и 2 - меньше всего оттока, кластер 3 - большего всего оттока)"
   ]
  },
  {
   "cell_type": "code",
   "execution_count": 21,
   "metadata": {
    "scrolled": false
   },
   "outputs": [
    {
     "data": {
      "text/html": [
       "<style type=\"text/css\">\n",
       "</style>\n",
       "<table id=\"T_8f575_\">\n",
       "  <thead>\n",
       "    <tr>\n",
       "      <th class=\"blank level0\" >&nbsp;</th>\n",
       "      <th class=\"col_heading level0 col0\" >churn</th>\n",
       "    </tr>\n",
       "    <tr>\n",
       "      <th class=\"index_name level0\" >km_cluster</th>\n",
       "      <th class=\"blank col0\" >&nbsp;</th>\n",
       "    </tr>\n",
       "  </thead>\n",
       "  <tbody>\n",
       "    <tr>\n",
       "      <th id=\"T_8f575_level0_row0\" class=\"row_heading level0 row0\" >2</th>\n",
       "      <td id=\"T_8f575_row0_col0\" class=\"data row0 col0\" >1.7%</td>\n",
       "    </tr>\n",
       "    <tr>\n",
       "      <th id=\"T_8f575_level0_row1\" class=\"row_heading level0 row1\" >0</th>\n",
       "      <td id=\"T_8f575_row1_col0\" class=\"data row1 col0\" >13.3%</td>\n",
       "    </tr>\n",
       "    <tr>\n",
       "      <th id=\"T_8f575_level0_row2\" class=\"row_heading level0 row2\" >4</th>\n",
       "      <td id=\"T_8f575_row2_col0\" class=\"data row2 col0\" >26.7%</td>\n",
       "    </tr>\n",
       "    <tr>\n",
       "      <th id=\"T_8f575_level0_row3\" class=\"row_heading level0 row3\" >1</th>\n",
       "      <td id=\"T_8f575_row3_col0\" class=\"data row3 col0\" >40.2%</td>\n",
       "    </tr>\n",
       "    <tr>\n",
       "      <th id=\"T_8f575_level0_row4\" class=\"row_heading level0 row4\" >3</th>\n",
       "      <td id=\"T_8f575_row4_col0\" class=\"data row4 col0\" >50.6%</td>\n",
       "    </tr>\n",
       "  </tbody>\n",
       "</table>\n"
      ],
      "text/plain": [
       "<pandas.io.formats.style.Styler at 0x235dbfd7fa0>"
      ]
     },
     "execution_count": 21,
     "metadata": {},
     "output_type": "execute_result"
    }
   ],
   "source": [
    "df.groupby('km_cluster').agg({'churn':'mean'}).sort_values('churn').style.format('{:.1%}')"
   ]
  },
  {
   "cell_type": "markdown",
   "metadata": {},
   "source": [
    "* Половина клиентов кластера 3 уходят\n",
    "* Кластер 1 также имеет плохой процент оттока - 40%\n",
    "* Самый надежный кластер 2, в котором ухолят меньше 2% клиентов\n",
    "* Кластер 0 выглядит стабильно - 13% клиентов уходят\n",
    "\n"
   ]
  },
  {
   "cell_type": "markdown",
   "metadata": {},
   "source": [
    "## Выводы и рекомендации"
   ]
  },
  {
   "cell_type": "markdown",
   "metadata": {},
   "source": [
    "В работе было проведено исследовние данных о посетителях сети фитнес-центров, чтобы проанализировать основные признаки, наиболее влияющие на отток. \n",
    "\n",
    "По результатам анализа можно сделать следующие выводы и рекомендации:\n",
    "\n",
    "* признаков, сильно коррелирующих с фактом оттока нет, что мы увидели с помощью матрицы корреляций. Средняя корреляция наблюдается между оттоком `churn` и длительностью текущего действующего абонемента (`contract_period`), возрастом клиентов (`age`), сроком до окончания текущего действующего абонемента (`month_to_end_contract`), временем с момента первого обращения в фитнес-центр (`lifetime`), средней частотой посещений в неделю за предыдущий месяц (`avg_class_frequency_current_month`)\n",
    "* построив модели прогнозирования оттока клиентов двумя методами: логистическая регрессией и случайным лесом, оценили выбранные метрики **Accuracy, Recall, Precision и F1**, которые оказались лучше у модели, обученной алгоритмом **\"Случайный лес\"**, но незначительно. Обе модели показали хороший результат\n",
    "* сегментировав клиентов, выделили 5 кластеров. Обучение модели кластеризации производилось на основании алгоритма **K-Means** \n",
    "* **2 кластер** выявлен самым надежным. В нем наименьший процент оттока (<2%), почти все клиенты живут или работают рядом с центром, абонементы покупают на длительный срок (12 мес.), посещают занятия 2 раза в неделю, больше половины предпочитают групповые занятия\n",
    "* **0 кластер** является самым стабильным. Процент оттока приемлимый (13%), центр располагается рядом с местом работы или проживания, 89% клиентов являются партнерами центра, все клиенты пришли в рамках акции \"приведи друга\", больше половины посещают групповые занятия, в среднем тренируются 2 раза в неделю и покупают абонементы на 12 мес.\n",
    "* **3 кластер** является самым ненадеждым. Половина клиентов уходят, большая часть абонементов приобретена на 1 мес., клиенты посещают занаятия 1 раз в неделю. Это могла бы объясняться расположением центра, но в этом кластере все клиенты живут или работают рядом с клубом.\n",
    "* **1 кластер** обладает оттоком в 40%. Это можно объяснить в первую очередь расположением клуба, т.к. он расположен далеко от работы или места жительства клиентов.\n",
    "* в качестве рекомендации можно предложить расширить возрастную аудиторию, например, засчет дополнительных групповых занятий. Клиенты этой сети в возрасте от 18 до 41 года. Молодые люди часто меняют свой образ жизни и интересов, а более старшее поколение стабильнее ведет образ жизни.\n",
    "* стоит дополнительно поработать с кластером 3, т.к. в нем собрано больше всего клиентов. Стоит попробовать ввести скидки при покупке более длительных абонементов."
   ]
  }
 ],
 "metadata": {
  "ExecuteTimeLog": [
   {
    "duration": 42,
    "start_time": "2022-08-29T08:51:24.431Z"
   },
   {
    "duration": 1512,
    "start_time": "2022-08-29T08:51:39.118Z"
   },
   {
    "duration": 149,
    "start_time": "2022-08-29T08:51:44.339Z"
   },
   {
    "duration": 50,
    "start_time": "2022-08-29T08:52:10.669Z"
   },
   {
    "duration": 41,
    "start_time": "2022-08-29T08:54:50.383Z"
   },
   {
    "duration": 25,
    "start_time": "2022-08-29T08:59:25.577Z"
   },
   {
    "duration": 10,
    "start_time": "2022-08-29T09:02:25.937Z"
   },
   {
    "duration": 10,
    "start_time": "2022-08-29T09:02:31.707Z"
   },
   {
    "duration": 73,
    "start_time": "2022-08-29T09:04:09.489Z"
   },
   {
    "duration": 1409,
    "start_time": "2022-08-29T09:04:41.667Z"
   },
   {
    "duration": 54,
    "start_time": "2022-08-29T09:04:43.078Z"
   },
   {
    "duration": 42,
    "start_time": "2022-08-29T09:04:43.134Z"
   },
   {
    "duration": 8,
    "start_time": "2022-08-29T09:04:43.178Z"
   },
   {
    "duration": 46,
    "start_time": "2022-08-29T09:04:43.187Z"
   },
   {
    "duration": 3,
    "start_time": "2022-08-29T09:06:34.328Z"
   },
   {
    "duration": 19,
    "start_time": "2022-08-29T09:06:39.033Z"
   },
   {
    "duration": 5,
    "start_time": "2022-08-29T09:07:12.064Z"
   },
   {
    "duration": 4,
    "start_time": "2022-08-29T09:08:28.833Z"
   },
   {
    "duration": 11,
    "start_time": "2022-08-29T09:08:45.056Z"
   },
   {
    "duration": 13,
    "start_time": "2022-08-29T09:08:54.676Z"
   },
   {
    "duration": 26,
    "start_time": "2022-08-29T09:09:03.943Z"
   },
   {
    "duration": 11,
    "start_time": "2022-08-29T09:09:19.444Z"
   },
   {
    "duration": 45,
    "start_time": "2022-08-29T09:16:10.399Z"
   },
   {
    "duration": 100,
    "start_time": "2022-08-29T09:52:16.806Z"
   },
   {
    "duration": 13,
    "start_time": "2022-08-29T09:52:20.841Z"
   },
   {
    "duration": 14,
    "start_time": "2022-08-29T09:52:24.605Z"
   },
   {
    "duration": 11,
    "start_time": "2022-08-29T09:52:30.162Z"
   },
   {
    "duration": 18,
    "start_time": "2022-08-29T10:17:29.740Z"
   },
   {
    "duration": 11,
    "start_time": "2022-08-29T10:17:37.096Z"
   },
   {
    "duration": 10,
    "start_time": "2022-08-29T10:18:31.869Z"
   },
   {
    "duration": 1292,
    "start_time": "2022-08-29T10:18:36.124Z"
   },
   {
    "duration": 54,
    "start_time": "2022-08-29T10:18:37.417Z"
   },
   {
    "duration": 8,
    "start_time": "2022-08-29T10:18:37.473Z"
   },
   {
    "duration": 27,
    "start_time": "2022-08-29T10:18:37.483Z"
   },
   {
    "duration": 7,
    "start_time": "2022-08-29T10:18:37.512Z"
   },
   {
    "duration": 11,
    "start_time": "2022-08-29T10:18:37.520Z"
   },
   {
    "duration": 39,
    "start_time": "2022-08-29T10:18:37.532Z"
   },
   {
    "duration": 11,
    "start_time": "2022-08-29T10:18:37.572Z"
   },
   {
    "duration": 101,
    "start_time": "2022-08-29T10:18:37.606Z"
   },
   {
    "duration": 2689,
    "start_time": "2022-08-29T10:23:25.963Z"
   },
   {
    "duration": 1312,
    "start_time": "2022-08-29T10:23:38.840Z"
   },
   {
    "duration": 57,
    "start_time": "2022-08-29T10:23:40.154Z"
   },
   {
    "duration": 9,
    "start_time": "2022-08-29T10:23:40.213Z"
   },
   {
    "duration": 38,
    "start_time": "2022-08-29T10:23:40.224Z"
   },
   {
    "duration": 11,
    "start_time": "2022-08-29T10:23:40.264Z"
   },
   {
    "duration": 14,
    "start_time": "2022-08-29T10:23:40.277Z"
   },
   {
    "duration": 51,
    "start_time": "2022-08-29T10:23:40.292Z"
   },
   {
    "duration": 11,
    "start_time": "2022-08-29T10:23:40.344Z"
   },
   {
    "duration": 2584,
    "start_time": "2022-08-29T10:23:40.357Z"
   },
   {
    "duration": 4111,
    "start_time": "2022-08-29T10:27:14.358Z"
   },
   {
    "duration": 2881,
    "start_time": "2022-08-29T10:27:37.679Z"
   },
   {
    "duration": 1346,
    "start_time": "2022-08-29T10:27:57.388Z"
   },
   {
    "duration": 53,
    "start_time": "2022-08-29T10:27:58.736Z"
   },
   {
    "duration": 9,
    "start_time": "2022-08-29T10:27:58.790Z"
   },
   {
    "duration": 28,
    "start_time": "2022-08-29T10:27:58.801Z"
   },
   {
    "duration": 16,
    "start_time": "2022-08-29T10:27:58.831Z"
   },
   {
    "duration": 12,
    "start_time": "2022-08-29T10:27:58.848Z"
   },
   {
    "duration": 46,
    "start_time": "2022-08-29T10:27:58.861Z"
   },
   {
    "duration": 11,
    "start_time": "2022-08-29T10:27:58.909Z"
   },
   {
    "duration": 2630,
    "start_time": "2022-08-29T10:27:58.922Z"
   },
   {
    "duration": 2804,
    "start_time": "2022-08-29T10:28:30.252Z"
   },
   {
    "duration": 2830,
    "start_time": "2022-08-29T10:28:52.842Z"
   },
   {
    "duration": 2707,
    "start_time": "2022-08-29T10:34:52.386Z"
   },
   {
    "duration": 2463,
    "start_time": "2022-08-29T11:32:03.031Z"
   },
   {
    "duration": 2482,
    "start_time": "2022-08-29T11:32:17.056Z"
   },
   {
    "duration": 2510,
    "start_time": "2022-08-29T11:32:24.647Z"
   },
   {
    "duration": 2798,
    "start_time": "2022-08-29T11:34:32.851Z"
   },
   {
    "duration": 1417,
    "start_time": "2022-08-29T11:50:26.243Z"
   },
   {
    "duration": 1443,
    "start_time": "2022-08-29T11:51:29.399Z"
   },
   {
    "duration": 4,
    "start_time": "2022-08-29T11:53:19.999Z"
   },
   {
    "duration": 1376,
    "start_time": "2022-08-29T11:53:24.238Z"
   },
   {
    "duration": 1642,
    "start_time": "2022-08-29T11:53:45.016Z"
   },
   {
    "duration": 1425,
    "start_time": "2022-08-29T11:53:55.028Z"
   },
   {
    "duration": 107,
    "start_time": "2022-08-29T12:07:53.861Z"
   },
   {
    "duration": 5,
    "start_time": "2022-08-29T12:08:04.095Z"
   },
   {
    "duration": 5,
    "start_time": "2022-08-29T12:08:13.754Z"
   },
   {
    "duration": 11,
    "start_time": "2022-08-29T12:08:24.797Z"
   },
   {
    "duration": 12,
    "start_time": "2022-08-29T12:23:15.892Z"
   },
   {
    "duration": 4,
    "start_time": "2022-08-29T12:48:37.227Z"
   },
   {
    "duration": 102,
    "start_time": "2022-08-29T12:48:41.984Z"
   },
   {
    "duration": 356,
    "start_time": "2022-08-29T12:50:12.936Z"
   },
   {
    "duration": 364,
    "start_time": "2022-08-29T12:50:29.567Z"
   },
   {
    "duration": 344,
    "start_time": "2022-08-29T12:50:57.894Z"
   },
   {
    "duration": 354,
    "start_time": "2022-08-29T12:53:43.293Z"
   },
   {
    "duration": 335,
    "start_time": "2022-08-29T13:01:27.675Z"
   },
   {
    "duration": 1095,
    "start_time": "2022-08-29T13:36:35.119Z"
   },
   {
    "duration": 947,
    "start_time": "2022-08-29T13:36:45.442Z"
   },
   {
    "duration": 937,
    "start_time": "2022-08-29T13:37:12.449Z"
   },
   {
    "duration": 9,
    "start_time": "2022-08-29T13:44:07.096Z"
   },
   {
    "duration": 9,
    "start_time": "2022-08-29T13:44:50.481Z"
   },
   {
    "duration": 966,
    "start_time": "2022-08-29T13:44:55.587Z"
   },
   {
    "duration": 1322,
    "start_time": "2022-08-29T13:44:58.984Z"
   },
   {
    "duration": 1161,
    "start_time": "2022-08-29T13:45:46.950Z"
   },
   {
    "duration": 1038,
    "start_time": "2022-08-29T13:48:17.639Z"
   },
   {
    "duration": 949,
    "start_time": "2022-08-29T13:48:25.732Z"
   },
   {
    "duration": 1362,
    "start_time": "2022-08-29T13:48:37.948Z"
   },
   {
    "duration": 9,
    "start_time": "2022-08-29T13:49:23.727Z"
   },
   {
    "duration": 12,
    "start_time": "2022-08-29T13:49:27.804Z"
   },
   {
    "duration": 1654,
    "start_time": "2022-08-29T13:49:47.652Z"
   },
   {
    "duration": 6,
    "start_time": "2022-08-29T13:49:54.033Z"
   },
   {
    "duration": 8,
    "start_time": "2022-08-29T13:50:34.904Z"
   },
   {
    "duration": 16,
    "start_time": "2022-08-29T13:54:49.916Z"
   },
   {
    "duration": 19,
    "start_time": "2022-08-29T13:54:54.116Z"
   },
   {
    "duration": 22,
    "start_time": "2022-08-29T13:54:58.117Z"
   },
   {
    "duration": 18,
    "start_time": "2022-08-29T19:20:35.237Z"
   },
   {
    "duration": 3,
    "start_time": "2022-08-29T19:21:50.990Z"
   },
   {
    "duration": 8,
    "start_time": "2022-08-29T19:24:23.250Z"
   },
   {
    "duration": 3,
    "start_time": "2022-08-29T19:24:26.685Z"
   },
   {
    "duration": 1013,
    "start_time": "2022-08-29T19:24:27.490Z"
   },
   {
    "duration": 1168,
    "start_time": "2022-08-29T19:42:23.995Z"
   },
   {
    "duration": 1231,
    "start_time": "2022-08-29T19:42:33.021Z"
   },
   {
    "duration": 891,
    "start_time": "2022-08-29T19:43:08.303Z"
   },
   {
    "duration": 188,
    "start_time": "2022-08-29T20:04:11.675Z"
   },
   {
    "duration": 16,
    "start_time": "2022-08-29T20:04:30.499Z"
   },
   {
    "duration": 9,
    "start_time": "2022-08-29T20:04:37.162Z"
   },
   {
    "duration": 1364,
    "start_time": "2022-08-29T20:09:50.733Z"
   },
   {
    "duration": 54,
    "start_time": "2022-08-29T20:09:52.099Z"
   },
   {
    "duration": 8,
    "start_time": "2022-08-29T20:09:52.155Z"
   },
   {
    "duration": 25,
    "start_time": "2022-08-29T20:09:52.165Z"
   },
   {
    "duration": 6,
    "start_time": "2022-08-29T20:09:52.192Z"
   },
   {
    "duration": 14,
    "start_time": "2022-08-29T20:09:52.199Z"
   },
   {
    "duration": 41,
    "start_time": "2022-08-29T20:09:52.214Z"
   },
   {
    "duration": 11,
    "start_time": "2022-08-29T20:09:52.256Z"
   },
   {
    "duration": 2565,
    "start_time": "2022-08-29T20:09:52.268Z"
   },
   {
    "duration": 1436,
    "start_time": "2022-08-29T20:09:54.836Z"
   },
   {
    "duration": 10,
    "start_time": "2022-08-29T20:09:56.274Z"
   },
   {
    "duration": 14,
    "start_time": "2022-08-29T20:09:56.285Z"
   },
   {
    "duration": 342,
    "start_time": "2022-08-29T20:09:56.300Z"
   },
   {
    "duration": 113,
    "start_time": "2022-08-29T20:09:56.644Z"
   },
   {
    "duration": 0,
    "start_time": "2022-08-29T20:09:56.758Z"
   },
   {
    "duration": 0,
    "start_time": "2022-08-29T20:09:56.760Z"
   },
   {
    "duration": 0,
    "start_time": "2022-08-29T20:09:56.761Z"
   },
   {
    "duration": 0,
    "start_time": "2022-08-29T20:09:56.763Z"
   },
   {
    "duration": 0,
    "start_time": "2022-08-29T20:09:56.764Z"
   },
   {
    "duration": 0,
    "start_time": "2022-08-29T20:09:56.765Z"
   },
   {
    "duration": 0,
    "start_time": "2022-08-29T20:09:56.767Z"
   },
   {
    "duration": 850,
    "start_time": "2022-08-29T20:10:17.997Z"
   },
   {
    "duration": 1338,
    "start_time": "2022-08-29T20:10:27.476Z"
   },
   {
    "duration": 54,
    "start_time": "2022-08-29T20:10:28.815Z"
   },
   {
    "duration": 9,
    "start_time": "2022-08-29T20:10:28.874Z"
   },
   {
    "duration": 28,
    "start_time": "2022-08-29T20:10:28.884Z"
   },
   {
    "duration": 9,
    "start_time": "2022-08-29T20:10:28.913Z"
   },
   {
    "duration": 11,
    "start_time": "2022-08-29T20:10:28.923Z"
   },
   {
    "duration": 43,
    "start_time": "2022-08-29T20:10:28.936Z"
   },
   {
    "duration": 10,
    "start_time": "2022-08-29T20:10:28.980Z"
   },
   {
    "duration": 2475,
    "start_time": "2022-08-29T20:10:28.992Z"
   },
   {
    "duration": 1572,
    "start_time": "2022-08-29T20:10:31.469Z"
   },
   {
    "duration": 12,
    "start_time": "2022-08-29T20:10:33.042Z"
   },
   {
    "duration": 13,
    "start_time": "2022-08-29T20:10:33.056Z"
   },
   {
    "duration": 372,
    "start_time": "2022-08-29T20:10:33.071Z"
   },
   {
    "duration": 912,
    "start_time": "2022-08-29T20:10:33.444Z"
   },
   {
    "duration": 1148,
    "start_time": "2022-08-29T20:10:34.358Z"
   },
   {
    "duration": 7,
    "start_time": "2022-08-29T20:10:35.508Z"
   },
   {
    "duration": 107,
    "start_time": "2022-08-29T20:10:35.516Z"
   },
   {
    "duration": 6,
    "start_time": "2022-08-29T20:10:35.625Z"
   },
   {
    "duration": 2094,
    "start_time": "2022-08-29T20:10:35.632Z"
   },
   {
    "duration": 1011,
    "start_time": "2022-08-29T20:10:37.728Z"
   },
   {
    "duration": 40,
    "start_time": "2022-08-29T20:10:38.740Z"
   },
   {
    "duration": 1613,
    "start_time": "2022-08-30T09:07:35.939Z"
   },
   {
    "duration": 92,
    "start_time": "2022-08-30T09:07:37.554Z"
   },
   {
    "duration": 8,
    "start_time": "2022-08-30T09:07:37.649Z"
   },
   {
    "duration": 44,
    "start_time": "2022-08-30T09:07:37.658Z"
   },
   {
    "duration": 5,
    "start_time": "2022-08-30T09:07:37.711Z"
   },
   {
    "duration": 15,
    "start_time": "2022-08-30T09:07:37.717Z"
   },
   {
    "duration": 38,
    "start_time": "2022-08-30T09:07:37.733Z"
   },
   {
    "duration": 10,
    "start_time": "2022-08-30T09:07:37.772Z"
   },
   {
    "duration": 2453,
    "start_time": "2022-08-30T09:07:37.784Z"
   },
   {
    "duration": 1552,
    "start_time": "2022-08-30T09:07:40.239Z"
   },
   {
    "duration": 11,
    "start_time": "2022-08-30T09:07:41.792Z"
   },
   {
    "duration": 12,
    "start_time": "2022-08-30T09:07:41.805Z"
   },
   {
    "duration": 378,
    "start_time": "2022-08-30T09:07:41.818Z"
   },
   {
    "duration": 887,
    "start_time": "2022-08-30T09:07:42.198Z"
   },
   {
    "duration": 1035,
    "start_time": "2022-08-30T09:07:43.087Z"
   },
   {
    "duration": 6,
    "start_time": "2022-08-30T09:07:44.210Z"
   },
   {
    "duration": 16,
    "start_time": "2022-08-30T09:07:44.217Z"
   },
   {
    "duration": 2,
    "start_time": "2022-08-30T09:07:44.235Z"
   },
   {
    "duration": 1165,
    "start_time": "2022-08-30T09:07:44.239Z"
   },
   {
    "duration": 930,
    "start_time": "2022-08-30T09:07:45.405Z"
   },
   {
    "duration": 41,
    "start_time": "2022-08-30T09:07:46.336Z"
   },
   {
    "duration": 1404,
    "start_time": "2022-08-30T09:11:20.361Z"
   },
   {
    "duration": 58,
    "start_time": "2022-08-30T09:11:21.767Z"
   },
   {
    "duration": 10,
    "start_time": "2022-08-30T09:11:21.827Z"
   },
   {
    "duration": 55,
    "start_time": "2022-08-30T09:11:21.840Z"
   },
   {
    "duration": 20,
    "start_time": "2022-08-30T09:11:21.897Z"
   },
   {
    "duration": 20,
    "start_time": "2022-08-30T09:11:21.919Z"
   },
   {
    "duration": 71,
    "start_time": "2022-08-30T09:11:21.941Z"
   },
   {
    "duration": 13,
    "start_time": "2022-08-30T09:11:22.016Z"
   },
   {
    "duration": 2742,
    "start_time": "2022-08-30T09:11:22.032Z"
   },
   {
    "duration": 1483,
    "start_time": "2022-08-30T09:11:24.776Z"
   },
   {
    "duration": 11,
    "start_time": "2022-08-30T09:11:26.260Z"
   },
   {
    "duration": 16,
    "start_time": "2022-08-30T09:11:26.273Z"
   },
   {
    "duration": 386,
    "start_time": "2022-08-30T09:11:26.291Z"
   },
   {
    "duration": 817,
    "start_time": "2022-08-30T09:11:26.678Z"
   },
   {
    "duration": 1014,
    "start_time": "2022-08-30T09:11:27.497Z"
   },
   {
    "duration": 7,
    "start_time": "2022-08-30T09:11:28.513Z"
   },
   {
    "duration": 104,
    "start_time": "2022-08-30T09:11:28.521Z"
   },
   {
    "duration": 11,
    "start_time": "2022-08-30T09:11:28.626Z"
   },
   {
    "duration": 1224,
    "start_time": "2022-08-30T09:11:28.639Z"
   },
   {
    "duration": 906,
    "start_time": "2022-08-30T09:11:29.865Z"
   },
   {
    "duration": 58,
    "start_time": "2022-08-30T09:11:30.773Z"
   },
   {
    "duration": 1411,
    "start_time": "2022-08-30T09:12:25.224Z"
   },
   {
    "duration": 54,
    "start_time": "2022-08-30T09:12:26.637Z"
   },
   {
    "duration": 10,
    "start_time": "2022-08-30T09:12:26.693Z"
   },
   {
    "duration": 41,
    "start_time": "2022-08-30T09:12:26.705Z"
   },
   {
    "duration": 19,
    "start_time": "2022-08-30T09:12:26.748Z"
   },
   {
    "duration": 12,
    "start_time": "2022-08-30T09:12:26.769Z"
   },
   {
    "duration": 36,
    "start_time": "2022-08-30T09:12:26.783Z"
   },
   {
    "duration": 11,
    "start_time": "2022-08-30T09:12:26.821Z"
   },
   {
    "duration": 2402,
    "start_time": "2022-08-30T09:12:26.834Z"
   },
   {
    "duration": 1395,
    "start_time": "2022-08-30T09:12:29.240Z"
   },
   {
    "duration": 12,
    "start_time": "2022-08-30T09:12:30.637Z"
   },
   {
    "duration": 22,
    "start_time": "2022-08-30T09:12:30.651Z"
   },
   {
    "duration": 375,
    "start_time": "2022-08-30T09:12:30.675Z"
   },
   {
    "duration": 815,
    "start_time": "2022-08-30T09:12:31.051Z"
   },
   {
    "duration": 1556,
    "start_time": "2022-08-30T09:12:31.867Z"
   },
   {
    "duration": 87,
    "start_time": "2022-08-30T09:12:33.425Z"
   },
   {
    "duration": 21,
    "start_time": "2022-08-30T09:12:33.514Z"
   },
   {
    "duration": 9,
    "start_time": "2022-08-30T09:12:33.536Z"
   },
   {
    "duration": 1197,
    "start_time": "2022-08-30T09:12:33.546Z"
   },
   {
    "duration": 903,
    "start_time": "2022-08-30T09:12:34.745Z"
   },
   {
    "duration": 42,
    "start_time": "2022-08-30T09:12:35.650Z"
   },
   {
    "duration": 1269,
    "start_time": "2022-08-30T09:13:56.418Z"
   },
   {
    "duration": 1493,
    "start_time": "2022-08-30T09:14:32.559Z"
   },
   {
    "duration": 55,
    "start_time": "2022-08-30T09:14:34.053Z"
   },
   {
    "duration": 8,
    "start_time": "2022-08-30T09:14:34.110Z"
   },
   {
    "duration": 28,
    "start_time": "2022-08-30T09:14:34.121Z"
   },
   {
    "duration": 7,
    "start_time": "2022-08-30T09:14:34.151Z"
   },
   {
    "duration": 14,
    "start_time": "2022-08-30T09:14:34.159Z"
   },
   {
    "duration": 53,
    "start_time": "2022-08-30T09:14:34.174Z"
   },
   {
    "duration": 10,
    "start_time": "2022-08-30T09:14:34.229Z"
   },
   {
    "duration": 2356,
    "start_time": "2022-08-30T09:14:34.240Z"
   },
   {
    "duration": 1437,
    "start_time": "2022-08-30T09:14:36.598Z"
   },
   {
    "duration": 11,
    "start_time": "2022-08-30T09:14:38.036Z"
   },
   {
    "duration": 32,
    "start_time": "2022-08-30T09:14:38.048Z"
   },
   {
    "duration": 396,
    "start_time": "2022-08-30T09:14:38.081Z"
   },
   {
    "duration": 795,
    "start_time": "2022-08-30T09:14:38.479Z"
   },
   {
    "duration": 1135,
    "start_time": "2022-08-30T09:14:39.275Z"
   },
   {
    "duration": 10,
    "start_time": "2022-08-30T09:14:40.412Z"
   },
   {
    "duration": 115,
    "start_time": "2022-08-30T09:14:40.426Z"
   },
   {
    "duration": 34,
    "start_time": "2022-08-30T09:14:40.542Z"
   },
   {
    "duration": 1163,
    "start_time": "2022-08-30T09:14:40.578Z"
   },
   {
    "duration": 944,
    "start_time": "2022-08-30T09:14:41.743Z"
   },
   {
    "duration": 54,
    "start_time": "2022-08-30T09:14:42.689Z"
   },
   {
    "duration": 1296,
    "start_time": "2022-08-30T09:16:19.819Z"
   },
   {
    "duration": 56,
    "start_time": "2022-08-30T09:16:21.117Z"
   },
   {
    "duration": 7,
    "start_time": "2022-08-30T09:16:21.175Z"
   },
   {
    "duration": 37,
    "start_time": "2022-08-30T09:16:21.185Z"
   },
   {
    "duration": 11,
    "start_time": "2022-08-30T09:16:21.223Z"
   },
   {
    "duration": 14,
    "start_time": "2022-08-30T09:16:21.235Z"
   },
   {
    "duration": 50,
    "start_time": "2022-08-30T09:16:21.250Z"
   },
   {
    "duration": 10,
    "start_time": "2022-08-30T09:16:21.311Z"
   },
   {
    "duration": 2475,
    "start_time": "2022-08-30T09:16:21.323Z"
   },
   {
    "duration": 1411,
    "start_time": "2022-08-30T09:16:23.800Z"
   },
   {
    "duration": 11,
    "start_time": "2022-08-30T09:16:25.212Z"
   },
   {
    "duration": 26,
    "start_time": "2022-08-30T09:16:25.225Z"
   },
   {
    "duration": 373,
    "start_time": "2022-08-30T09:16:25.253Z"
   },
   {
    "duration": 755,
    "start_time": "2022-08-30T09:16:25.628Z"
   },
   {
    "duration": 1127,
    "start_time": "2022-08-30T09:16:26.384Z"
   },
   {
    "duration": 6,
    "start_time": "2022-08-30T09:16:27.513Z"
   },
   {
    "duration": 107,
    "start_time": "2022-08-30T09:16:27.521Z"
   },
   {
    "duration": 3,
    "start_time": "2022-08-30T09:16:27.629Z"
   },
   {
    "duration": 1154,
    "start_time": "2022-08-30T09:16:27.633Z"
   },
   {
    "duration": 914,
    "start_time": "2022-08-30T09:16:28.789Z"
   },
   {
    "duration": 54,
    "start_time": "2022-08-30T09:16:29.705Z"
   },
   {
    "duration": 6,
    "start_time": "2022-08-30T09:21:06.067Z"
   },
   {
    "duration": 1449,
    "start_time": "2022-08-30T09:21:15.105Z"
   },
   {
    "duration": 55,
    "start_time": "2022-08-30T09:21:16.556Z"
   },
   {
    "duration": 8,
    "start_time": "2022-08-30T09:21:16.613Z"
   },
   {
    "duration": 49,
    "start_time": "2022-08-30T09:21:16.622Z"
   },
   {
    "duration": 7,
    "start_time": "2022-08-30T09:21:16.673Z"
   },
   {
    "duration": 37,
    "start_time": "2022-08-30T09:21:16.681Z"
   },
   {
    "duration": 49,
    "start_time": "2022-08-30T09:21:16.720Z"
   },
   {
    "duration": 13,
    "start_time": "2022-08-30T09:21:16.771Z"
   },
   {
    "duration": 2457,
    "start_time": "2022-08-30T09:21:16.786Z"
   },
   {
    "duration": 2567,
    "start_time": "2022-08-30T09:21:19.245Z"
   },
   {
    "duration": 16,
    "start_time": "2022-08-30T09:21:21.814Z"
   },
   {
    "duration": 16,
    "start_time": "2022-08-30T09:21:21.832Z"
   },
   {
    "duration": 978,
    "start_time": "2022-08-30T09:21:21.850Z"
   },
   {
    "duration": 1055,
    "start_time": "2022-08-30T09:21:22.830Z"
   },
   {
    "duration": 1132,
    "start_time": "2022-08-30T09:21:23.887Z"
   },
   {
    "duration": 94,
    "start_time": "2022-08-30T09:21:25.020Z"
   },
   {
    "duration": 15,
    "start_time": "2022-08-30T09:21:25.116Z"
   },
   {
    "duration": 3,
    "start_time": "2022-08-30T09:21:25.133Z"
   },
   {
    "duration": 1179,
    "start_time": "2022-08-30T09:21:25.138Z"
   },
   {
    "duration": 942,
    "start_time": "2022-08-30T09:21:26.319Z"
   },
   {
    "duration": 50,
    "start_time": "2022-08-30T09:21:27.263Z"
   },
   {
    "duration": 1416,
    "start_time": "2022-08-30T09:21:42.722Z"
   },
   {
    "duration": 58,
    "start_time": "2022-08-30T09:21:44.140Z"
   },
   {
    "duration": 10,
    "start_time": "2022-08-30T09:21:44.199Z"
   },
   {
    "duration": 47,
    "start_time": "2022-08-30T09:21:44.211Z"
   },
   {
    "duration": 14,
    "start_time": "2022-08-30T09:21:44.260Z"
   },
   {
    "duration": 29,
    "start_time": "2022-08-30T09:21:44.276Z"
   },
   {
    "duration": 56,
    "start_time": "2022-08-30T09:21:44.307Z"
   },
   {
    "duration": 10,
    "start_time": "2022-08-30T09:21:44.365Z"
   },
   {
    "duration": 2672,
    "start_time": "2022-08-30T09:21:44.377Z"
   },
   {
    "duration": 1647,
    "start_time": "2022-08-30T09:21:47.051Z"
   },
   {
    "duration": 21,
    "start_time": "2022-08-30T09:21:48.700Z"
   },
   {
    "duration": 13,
    "start_time": "2022-08-30T09:21:48.723Z"
   },
   {
    "duration": 418,
    "start_time": "2022-08-30T09:21:48.738Z"
   },
   {
    "duration": 841,
    "start_time": "2022-08-30T09:21:49.160Z"
   },
   {
    "duration": 906,
    "start_time": "2022-08-30T09:21:50.017Z"
   },
   {
    "duration": 87,
    "start_time": "2022-08-30T09:21:50.925Z"
   },
   {
    "duration": 104,
    "start_time": "2022-08-30T09:21:51.015Z"
   },
   {
    "duration": 4,
    "start_time": "2022-08-30T09:21:51.120Z"
   },
   {
    "duration": 1162,
    "start_time": "2022-08-30T09:21:51.126Z"
   },
   {
    "duration": 1094,
    "start_time": "2022-08-30T09:21:52.290Z"
   },
   {
    "duration": 68,
    "start_time": "2022-08-30T09:21:53.386Z"
   },
   {
    "duration": 1875,
    "start_time": "2022-08-30T10:41:29.533Z"
   },
   {
    "duration": 159,
    "start_time": "2022-08-30T10:41:31.410Z"
   },
   {
    "duration": 8,
    "start_time": "2022-08-30T10:41:31.570Z"
   },
   {
    "duration": 27,
    "start_time": "2022-08-30T10:41:31.580Z"
   },
   {
    "duration": 6,
    "start_time": "2022-08-30T10:41:31.608Z"
   },
   {
    "duration": 21,
    "start_time": "2022-08-30T10:41:31.615Z"
   },
   {
    "duration": 38,
    "start_time": "2022-08-30T10:41:31.638Z"
   },
   {
    "duration": 10,
    "start_time": "2022-08-30T10:41:31.677Z"
   },
   {
    "duration": 2328,
    "start_time": "2022-08-30T10:41:31.688Z"
   },
   {
    "duration": 1439,
    "start_time": "2022-08-30T10:41:34.018Z"
   },
   {
    "duration": 10,
    "start_time": "2022-08-30T10:41:35.459Z"
   },
   {
    "duration": 12,
    "start_time": "2022-08-30T10:41:35.471Z"
   },
   {
    "duration": 320,
    "start_time": "2022-08-30T10:41:35.484Z"
   },
   {
    "duration": 789,
    "start_time": "2022-08-30T10:41:35.806Z"
   },
   {
    "duration": 1135,
    "start_time": "2022-08-30T10:41:36.596Z"
   },
   {
    "duration": 6,
    "start_time": "2022-08-30T10:41:37.733Z"
   },
   {
    "duration": 112,
    "start_time": "2022-08-30T10:41:37.741Z"
   },
   {
    "duration": 3,
    "start_time": "2022-08-30T10:41:37.854Z"
   },
   {
    "duration": 1158,
    "start_time": "2022-08-30T10:41:37.859Z"
   },
   {
    "duration": 858,
    "start_time": "2022-08-30T10:41:39.019Z"
   },
   {
    "duration": 38,
    "start_time": "2022-08-30T10:41:39.878Z"
   },
   {
    "duration": 1580,
    "start_time": "2022-08-30T12:08:04.724Z"
   },
   {
    "duration": 109,
    "start_time": "2022-08-30T12:08:15.974Z"
   },
   {
    "duration": 8,
    "start_time": "2022-08-30T12:08:17.097Z"
   },
   {
    "duration": 43,
    "start_time": "2022-08-30T12:08:17.793Z"
   },
   {
    "duration": 5,
    "start_time": "2022-08-30T12:08:18.478Z"
   },
   {
    "duration": 11,
    "start_time": "2022-08-30T12:08:19.524Z"
   },
   {
    "duration": 54,
    "start_time": "2022-08-30T12:08:19.675Z"
   },
   {
    "duration": 11,
    "start_time": "2022-08-30T12:08:21.093Z"
   },
   {
    "duration": 2416,
    "start_time": "2022-08-30T12:08:22.885Z"
   },
   {
    "duration": 135,
    "start_time": "2022-08-30T12:08:25.302Z"
   },
   {
    "duration": 1201,
    "start_time": "2022-08-30T12:11:35.638Z"
   },
   {
    "duration": 3355,
    "start_time": "2022-08-30T12:13:50.693Z"
   },
   {
    "duration": 69,
    "start_time": "2022-08-30T12:14:23.291Z"
   },
   {
    "duration": 2036,
    "start_time": "2022-08-30T12:14:31.724Z"
   },
   {
    "duration": 2223,
    "start_time": "2022-08-30T12:15:37.245Z"
   },
   {
    "duration": 2271,
    "start_time": "2022-08-30T12:15:51.954Z"
   },
   {
    "duration": 1261,
    "start_time": "2022-08-30T12:23:24.231Z"
   },
   {
    "duration": 1409,
    "start_time": "2022-08-30T12:23:45.728Z"
   },
   {
    "duration": 1093,
    "start_time": "2022-08-30T12:24:08.858Z"
   },
   {
    "duration": 1513,
    "start_time": "2022-08-30T12:27:54.500Z"
   },
   {
    "duration": 1768,
    "start_time": "2022-08-30T12:28:08.280Z"
   },
   {
    "duration": 1521,
    "start_time": "2022-08-30T12:28:19.324Z"
   },
   {
    "duration": 778,
    "start_time": "2022-08-30T12:29:19.131Z"
   },
   {
    "duration": 1616,
    "start_time": "2022-08-30T12:30:13.948Z"
   },
   {
    "duration": 1481,
    "start_time": "2022-08-30T12:31:35.893Z"
   },
   {
    "duration": 1593,
    "start_time": "2022-08-30T12:36:47.990Z"
   },
   {
    "duration": 1331,
    "start_time": "2022-08-30T12:37:28.949Z"
   },
   {
    "duration": 1335,
    "start_time": "2022-08-30T12:49:25.524Z"
   },
   {
    "duration": 11,
    "start_time": "2022-08-30T12:49:26.860Z"
   },
   {
    "duration": 12,
    "start_time": "2022-08-30T12:49:30.441Z"
   },
   {
    "duration": 13,
    "start_time": "2022-08-30T12:51:25.653Z"
   },
   {
    "duration": 397,
    "start_time": "2022-08-30T12:52:01.239Z"
   },
   {
    "duration": 13,
    "start_time": "2022-08-30T13:22:28.561Z"
   },
   {
    "duration": 13,
    "start_time": "2022-08-30T13:22:33.364Z"
   },
   {
    "duration": 11,
    "start_time": "2022-08-30T13:22:37.491Z"
   },
   {
    "duration": 40,
    "start_time": "2022-08-30T13:22:52.803Z"
   },
   {
    "duration": 16,
    "start_time": "2022-08-30T13:23:53.811Z"
   },
   {
    "duration": 385,
    "start_time": "2022-08-30T13:39:55.537Z"
   },
   {
    "duration": 881,
    "start_time": "2022-08-30T13:39:58.956Z"
   },
   {
    "duration": 1010,
    "start_time": "2022-08-30T13:40:02.509Z"
   },
   {
    "duration": 7,
    "start_time": "2022-08-30T13:40:04.210Z"
   },
   {
    "duration": 13,
    "start_time": "2022-08-30T13:40:07.791Z"
   },
   {
    "duration": 16,
    "start_time": "2022-08-30T13:40:51.403Z"
   },
   {
    "duration": 82,
    "start_time": "2022-08-30T13:41:01.684Z"
   },
   {
    "duration": 22,
    "start_time": "2022-08-30T13:41:10.119Z"
   },
   {
    "duration": 18,
    "start_time": "2022-08-30T13:41:29.734Z"
   },
   {
    "duration": 10,
    "start_time": "2022-08-30T13:41:38.475Z"
   },
   {
    "duration": 16,
    "start_time": "2022-08-30T13:41:48.986Z"
   },
   {
    "duration": 45,
    "start_time": "2022-08-30T13:41:53.576Z"
   },
   {
    "duration": 29,
    "start_time": "2022-08-30T13:42:05.798Z"
   },
   {
    "duration": 25,
    "start_time": "2022-08-30T13:42:53.679Z"
   },
   {
    "duration": 39,
    "start_time": "2022-08-30T13:43:05.820Z"
   },
   {
    "duration": 1417,
    "start_time": "2022-08-30T13:44:42.464Z"
   },
   {
    "duration": 56,
    "start_time": "2022-08-30T13:44:43.883Z"
   },
   {
    "duration": 8,
    "start_time": "2022-08-30T13:44:44.202Z"
   },
   {
    "duration": 45,
    "start_time": "2022-08-30T13:44:44.716Z"
   },
   {
    "duration": 5,
    "start_time": "2022-08-30T13:44:45.110Z"
   },
   {
    "duration": 14,
    "start_time": "2022-08-30T13:44:45.690Z"
   },
   {
    "duration": 54,
    "start_time": "2022-08-30T13:44:45.891Z"
   },
   {
    "duration": 14,
    "start_time": "2022-08-30T13:44:46.957Z"
   },
   {
    "duration": 2419,
    "start_time": "2022-08-30T13:44:47.652Z"
   },
   {
    "duration": 1426,
    "start_time": "2022-08-30T13:44:50.074Z"
   },
   {
    "duration": 1529,
    "start_time": "2022-08-30T13:44:51.502Z"
   },
   {
    "duration": 11,
    "start_time": "2022-08-30T13:44:53.033Z"
   },
   {
    "duration": 12,
    "start_time": "2022-08-30T13:44:53.046Z"
   },
   {
    "duration": 396,
    "start_time": "2022-08-30T13:44:53.060Z"
   },
   {
    "duration": 718,
    "start_time": "2022-08-30T13:44:55.063Z"
   },
   {
    "duration": 1066,
    "start_time": "2022-08-30T13:44:57.345Z"
   },
   {
    "duration": 7,
    "start_time": "2022-08-30T13:44:58.512Z"
   },
   {
    "duration": 68,
    "start_time": "2022-08-30T13:45:14.712Z"
   },
   {
    "duration": 24,
    "start_time": "2022-08-30T13:45:25.013Z"
   },
   {
    "duration": 40,
    "start_time": "2022-08-30T13:46:00.523Z"
   },
   {
    "duration": 3,
    "start_time": "2022-08-30T13:47:11.323Z"
   },
   {
    "duration": 1133,
    "start_time": "2022-08-30T13:47:14.666Z"
   },
   {
    "duration": 1012,
    "start_time": "2022-08-30T13:47:56.802Z"
   },
   {
    "duration": 1469,
    "start_time": "2022-08-30T13:49:34.407Z"
   },
   {
    "duration": 1367,
    "start_time": "2022-08-30T13:53:13.508Z"
   },
   {
    "duration": 55,
    "start_time": "2022-08-30T13:53:14.877Z"
   },
   {
    "duration": 8,
    "start_time": "2022-08-30T13:53:14.934Z"
   },
   {
    "duration": 36,
    "start_time": "2022-08-30T13:53:14.944Z"
   },
   {
    "duration": 6,
    "start_time": "2022-08-30T13:53:14.981Z"
   },
   {
    "duration": 25,
    "start_time": "2022-08-30T13:53:14.988Z"
   },
   {
    "duration": 38,
    "start_time": "2022-08-30T13:53:15.014Z"
   },
   {
    "duration": 10,
    "start_time": "2022-08-30T13:53:15.054Z"
   },
   {
    "duration": 2381,
    "start_time": "2022-08-30T13:53:15.065Z"
   },
   {
    "duration": 1423,
    "start_time": "2022-08-30T13:53:17.449Z"
   },
   {
    "duration": 1414,
    "start_time": "2022-08-30T13:53:18.873Z"
   },
   {
    "duration": 10,
    "start_time": "2022-08-30T13:53:20.289Z"
   },
   {
    "duration": 11,
    "start_time": "2022-08-30T13:53:20.311Z"
   },
   {
    "duration": 379,
    "start_time": "2022-08-30T13:53:20.324Z"
   },
   {
    "duration": 794,
    "start_time": "2022-08-30T13:53:20.704Z"
   },
   {
    "duration": 1232,
    "start_time": "2022-08-30T13:53:21.500Z"
   },
   {
    "duration": 6,
    "start_time": "2022-08-30T13:53:22.812Z"
   },
   {
    "duration": 159,
    "start_time": "2022-08-30T13:53:22.820Z"
   },
   {
    "duration": 3,
    "start_time": "2022-08-30T13:53:22.981Z"
   },
   {
    "duration": 1150,
    "start_time": "2022-08-30T13:53:22.986Z"
   },
   {
    "duration": 1042,
    "start_time": "2022-08-30T13:53:24.137Z"
   },
   {
    "duration": 975,
    "start_time": "2022-08-30T13:53:25.181Z"
   },
   {
    "duration": 7,
    "start_time": "2022-08-30T13:53:26.158Z"
   },
   {
    "duration": 1648,
    "start_time": "2022-08-30T14:24:19.938Z"
   },
   {
    "duration": 53,
    "start_time": "2022-08-30T14:24:21.588Z"
   },
   {
    "duration": 6,
    "start_time": "2022-08-30T14:24:21.642Z"
   },
   {
    "duration": 26,
    "start_time": "2022-08-30T14:24:21.650Z"
   },
   {
    "duration": 18,
    "start_time": "2022-08-30T14:24:21.677Z"
   },
   {
    "duration": 29,
    "start_time": "2022-08-30T14:24:21.696Z"
   },
   {
    "duration": 37,
    "start_time": "2022-08-30T14:24:21.726Z"
   },
   {
    "duration": 9,
    "start_time": "2022-08-30T14:24:21.765Z"
   },
   {
    "duration": 2370,
    "start_time": "2022-08-30T14:24:21.775Z"
   },
   {
    "duration": 1411,
    "start_time": "2022-08-30T14:24:24.147Z"
   },
   {
    "duration": 1386,
    "start_time": "2022-08-30T14:24:25.560Z"
   },
   {
    "duration": 10,
    "start_time": "2022-08-30T14:24:26.948Z"
   },
   {
    "duration": 14,
    "start_time": "2022-08-30T14:24:26.959Z"
   },
   {
    "duration": 337,
    "start_time": "2022-08-30T14:24:26.975Z"
   },
   {
    "duration": 819,
    "start_time": "2022-08-30T14:24:27.314Z"
   },
   {
    "duration": 1096,
    "start_time": "2022-08-30T14:24:28.135Z"
   },
   {
    "duration": 6,
    "start_time": "2022-08-30T14:24:29.233Z"
   },
   {
    "duration": 141,
    "start_time": "2022-08-30T14:24:29.241Z"
   },
   {
    "duration": 3,
    "start_time": "2022-08-30T14:24:29.384Z"
   },
   {
    "duration": 1164,
    "start_time": "2022-08-30T14:24:29.388Z"
   },
   {
    "duration": 1055,
    "start_time": "2022-08-30T14:24:30.554Z"
   },
   {
    "duration": 976,
    "start_time": "2022-08-30T14:24:31.610Z"
   },
   {
    "duration": 9,
    "start_time": "2022-08-30T14:24:32.588Z"
   },
   {
    "duration": 246,
    "start_time": "2022-08-30T14:26:22.668Z"
   },
   {
    "duration": 292,
    "start_time": "2022-08-30T14:26:49.124Z"
   },
   {
    "duration": 1152,
    "start_time": "2022-08-30T14:27:40.973Z"
   },
   {
    "duration": 1177,
    "start_time": "2022-08-30T14:27:46.244Z"
   },
   {
    "duration": 1228,
    "start_time": "2022-08-30T14:27:52.156Z"
   }
  ],
  "kernelspec": {
   "display_name": "Python 3 (ipykernel)",
   "language": "python",
   "name": "python3"
  },
  "language_info": {
   "codemirror_mode": {
    "name": "ipython",
    "version": 3
   },
   "file_extension": ".py",
   "mimetype": "text/x-python",
   "name": "python",
   "nbconvert_exporter": "python",
   "pygments_lexer": "ipython3",
   "version": "3.9.7"
  },
  "toc": {
   "base_numbering": 1,
   "nav_menu": {},
   "number_sections": true,
   "sideBar": true,
   "skip_h1_title": true,
   "title_cell": "Table of Contents",
   "title_sidebar": "Contents",
   "toc_cell": false,
   "toc_position": {
    "height": "calc(100% - 180px)",
    "left": "10px",
    "top": "150px",
    "width": "366.2px"
   },
   "toc_section_display": true,
   "toc_window_display": false
  }
 },
 "nbformat": 4,
 "nbformat_minor": 2
}
