{
 "cells": [
  {
   "cell_type": "markdown",
   "metadata": {},
   "source": [
    "# Анализ заведений общественного питания в Москве (Analysis of catering establishments in Moscow)"
   ]
  },
  {
   "cell_type": "markdown",
   "metadata": {},
   "source": [
    "## Описание проекта"
   ]
  },
  {
   "cell_type": "markdown",
   "metadata": {},
   "source": [
    "Есть открытые данные о заведениях общественного питания в Москве. Необходимо подготовить исследование рынка заведений общественного питания в городе. \n",
    "\n",
    "**Цель проекта:** оценить возможность открытия небольшое оригинального кафе в Москве.\n",
    "\n",
    "**Задачи проекта:** для достижения поставленной цели необходимо подготовить исследование рынка общественного питания в Москве, особенности заведения, количество посадочных мест, район расположения, возможность развития сети.\n",
    "\n",
    "**План проекта:**\n",
    "\n",
    "* Изучение общей информации;\n",
    "* Анализ данных;\n",
    "    * Исследование соотношения видов объектов общественного питания;\n",
    "    * Исследование сетевых и несетевых заведений;\n",
    "    * Исследование количества посадочных мест у разных категорий заведений;\n",
    "    * Исследование районов расположения заведений;\n",
    "* Выводы и рекомендации.\n",
    "    \n",
    "**Описание данных**\n",
    "\n",
    "Таблица `rest_data`:\n",
    "\n",
    "* id — идентификатор объекта;\n",
    "* object_name — название объекта общественного питания;\n",
    "* chain — сетевой ресторан;\n",
    "* object_type — тип объекта общественного питания;\n",
    "* address — адрес;\n",
    "* number — количество посадочных мест."
   ]
  },
  {
   "cell_type": "markdown",
   "metadata": {},
   "source": [
    "## Изучение общей информации"
   ]
  },
  {
   "cell_type": "markdown",
   "metadata": {},
   "source": [
    "Загрузим необходимые библиотеки для работы с данными"
   ]
  },
  {
   "cell_type": "code",
   "execution_count": 1,
   "metadata": {},
   "outputs": [],
   "source": [
    "import pandas as pd\n",
    "import math\n",
    "import numpy as np\n",
    "import matplotlib.pyplot as plt\n",
    "import seaborn as sns\n",
    "import requests\n",
    "import io"
   ]
  },
  {
   "cell_type": "markdown",
   "metadata": {},
   "source": [
    "Загрузим данные о заведениях общественного питания в Москве. Создадим функцию `df_read_csv`, которая выведит сообщение об ошибке, если информация о файле будет указана неверно"
   ]
  },
  {
   "cell_type": "code",
   "execution_count": 2,
   "metadata": {},
   "outputs": [
    {
     "name": "stdout",
     "output_type": "stream",
     "text": [
      "<class 'pandas.core.frame.DataFrame'>\n",
      "RangeIndex: 15366 entries, 0 to 15365\n",
      "Data columns (total 6 columns):\n",
      " #   Column       Non-Null Count  Dtype \n",
      "---  ------       --------------  ----- \n",
      " 0   id           15366 non-null  int64 \n",
      " 1   object_name  15366 non-null  object\n",
      " 2   chain        15366 non-null  object\n",
      " 3   object_type  15366 non-null  object\n",
      " 4   address      15366 non-null  object\n",
      " 5   number       15366 non-null  int64 \n",
      "dtypes: int64(2), object(4)\n",
      "memory usage: 720.4+ KB\n"
     ]
    },
    {
     "data": {
      "text/html": [
       "<div>\n",
       "<style scoped>\n",
       "    .dataframe tbody tr th:only-of-type {\n",
       "        vertical-align: middle;\n",
       "    }\n",
       "\n",
       "    .dataframe tbody tr th {\n",
       "        vertical-align: top;\n",
       "    }\n",
       "\n",
       "    .dataframe thead th {\n",
       "        text-align: right;\n",
       "    }\n",
       "</style>\n",
       "<table border=\"1\" class=\"dataframe\">\n",
       "  <thead>\n",
       "    <tr style=\"text-align: right;\">\n",
       "      <th></th>\n",
       "      <th>id</th>\n",
       "      <th>object_name</th>\n",
       "      <th>chain</th>\n",
       "      <th>object_type</th>\n",
       "      <th>address</th>\n",
       "      <th>number</th>\n",
       "    </tr>\n",
       "  </thead>\n",
       "  <tbody>\n",
       "    <tr>\n",
       "      <th>0</th>\n",
       "      <td>151635</td>\n",
       "      <td>СМЕТАНА</td>\n",
       "      <td>нет</td>\n",
       "      <td>кафе</td>\n",
       "      <td>город Москва, улица Егора Абакумова, дом 9</td>\n",
       "      <td>48</td>\n",
       "    </tr>\n",
       "    <tr>\n",
       "      <th>1</th>\n",
       "      <td>77874</td>\n",
       "      <td>Родник</td>\n",
       "      <td>нет</td>\n",
       "      <td>кафе</td>\n",
       "      <td>город Москва, улица Талалихина, дом 2/1, корпус 1</td>\n",
       "      <td>35</td>\n",
       "    </tr>\n",
       "    <tr>\n",
       "      <th>2</th>\n",
       "      <td>24309</td>\n",
       "      <td>Кафе «Академия»</td>\n",
       "      <td>нет</td>\n",
       "      <td>кафе</td>\n",
       "      <td>город Москва, Абельмановская улица, дом 6</td>\n",
       "      <td>95</td>\n",
       "    </tr>\n",
       "    <tr>\n",
       "      <th>3</th>\n",
       "      <td>21894</td>\n",
       "      <td>ПИЦЦЕТОРИЯ</td>\n",
       "      <td>да</td>\n",
       "      <td>кафе</td>\n",
       "      <td>город Москва, Абрамцевская улица, дом 1</td>\n",
       "      <td>40</td>\n",
       "    </tr>\n",
       "    <tr>\n",
       "      <th>4</th>\n",
       "      <td>119365</td>\n",
       "      <td>Кафе «Вишневая метель»</td>\n",
       "      <td>нет</td>\n",
       "      <td>кафе</td>\n",
       "      <td>город Москва, Абрамцевская улица, дом 9, корпус 1</td>\n",
       "      <td>50</td>\n",
       "    </tr>\n",
       "    <tr>\n",
       "      <th>5</th>\n",
       "      <td>27429</td>\n",
       "      <td>СТОЛ. ПРИ ГОУ СОШ № 1051</td>\n",
       "      <td>нет</td>\n",
       "      <td>столовая</td>\n",
       "      <td>город Москва, Абрамцевская улица, дом 15, корп...</td>\n",
       "      <td>240</td>\n",
       "    </tr>\n",
       "    <tr>\n",
       "      <th>6</th>\n",
       "      <td>148815</td>\n",
       "      <td>Брусника</td>\n",
       "      <td>да</td>\n",
       "      <td>кафе</td>\n",
       "      <td>город Москва, переулок Сивцев Вражек, дом 6/2</td>\n",
       "      <td>10</td>\n",
       "    </tr>\n",
       "    <tr>\n",
       "      <th>7</th>\n",
       "      <td>20957</td>\n",
       "      <td>Буфет МТУСИ</td>\n",
       "      <td>нет</td>\n",
       "      <td>столовая</td>\n",
       "      <td>город Москва, Авиамоторная улица, дом 8, строе...</td>\n",
       "      <td>90</td>\n",
       "    </tr>\n",
       "    <tr>\n",
       "      <th>8</th>\n",
       "      <td>20958</td>\n",
       "      <td>КПФ СЕМЬЯ-1</td>\n",
       "      <td>нет</td>\n",
       "      <td>столовая</td>\n",
       "      <td>город Москва, Авиамоторная улица, дом 8, строе...</td>\n",
       "      <td>150</td>\n",
       "    </tr>\n",
       "    <tr>\n",
       "      <th>9</th>\n",
       "      <td>28858</td>\n",
       "      <td>Столовая МТУСИ</td>\n",
       "      <td>нет</td>\n",
       "      <td>столовая</td>\n",
       "      <td>город Москва, Авиамоторная улица, дом 8, строе...</td>\n",
       "      <td>120</td>\n",
       "    </tr>\n",
       "  </tbody>\n",
       "</table>\n",
       "</div>"
      ],
      "text/plain": [
       "       id               object_name chain object_type  \\\n",
       "0  151635                   СМЕТАНА   нет        кафе   \n",
       "1   77874                    Родник   нет        кафе   \n",
       "2   24309           Кафе «Академия»   нет        кафе   \n",
       "3   21894                ПИЦЦЕТОРИЯ    да        кафе   \n",
       "4  119365    Кафе «Вишневая метель»   нет        кафе   \n",
       "5   27429  СТОЛ. ПРИ ГОУ СОШ № 1051   нет    столовая   \n",
       "6  148815                  Брусника    да        кафе   \n",
       "7   20957               Буфет МТУСИ   нет    столовая   \n",
       "8   20958               КПФ СЕМЬЯ-1   нет    столовая   \n",
       "9   28858            Столовая МТУСИ   нет    столовая   \n",
       "\n",
       "                                             address  number  \n",
       "0         город Москва, улица Егора Абакумова, дом 9      48  \n",
       "1  город Москва, улица Талалихина, дом 2/1, корпус 1      35  \n",
       "2          город Москва, Абельмановская улица, дом 6      95  \n",
       "3            город Москва, Абрамцевская улица, дом 1      40  \n",
       "4  город Москва, Абрамцевская улица, дом 9, корпус 1      50  \n",
       "5  город Москва, Абрамцевская улица, дом 15, корп...     240  \n",
       "6      город Москва, переулок Сивцев Вражек, дом 6/2      10  \n",
       "7  город Москва, Авиамоторная улица, дом 8, строе...      90  \n",
       "8  город Москва, Авиамоторная улица, дом 8, строе...     150  \n",
       "9  город Москва, Авиамоторная улица, дом 8, строе...     120  "
      ]
     },
     "execution_count": 2,
     "metadata": {},
     "output_type": "execute_result"
    }
   ],
   "source": [
    "def df_read_csv(path):\n",
    "    try:\n",
    "        return pd.read_csv(path)\n",
    "    except Exception:\n",
    "        print('Ошибка при загрузке файла')\n",
    "rest_data = pd.read_csv('rest_data.csv')\n",
    "rest_data.info()\n",
    "rest_data.head(10)"
   ]
  },
  {
   "cell_type": "markdown",
   "metadata": {},
   "source": [
    "Выведим список характерных значений для каждого столбца"
   ]
  },
  {
   "cell_type": "code",
   "execution_count": 3,
   "metadata": {},
   "outputs": [
    {
     "data": {
      "text/html": [
       "<div>\n",
       "<style scoped>\n",
       "    .dataframe tbody tr th:only-of-type {\n",
       "        vertical-align: middle;\n",
       "    }\n",
       "\n",
       "    .dataframe tbody tr th {\n",
       "        vertical-align: top;\n",
       "    }\n",
       "\n",
       "    .dataframe thead th {\n",
       "        text-align: right;\n",
       "    }\n",
       "</style>\n",
       "<table border=\"1\" class=\"dataframe\">\n",
       "  <thead>\n",
       "    <tr style=\"text-align: right;\">\n",
       "      <th></th>\n",
       "      <th>id</th>\n",
       "      <th>number</th>\n",
       "    </tr>\n",
       "  </thead>\n",
       "  <tbody>\n",
       "    <tr>\n",
       "      <th>count</th>\n",
       "      <td>15366.000000</td>\n",
       "      <td>15366.000000</td>\n",
       "    </tr>\n",
       "    <tr>\n",
       "      <th>mean</th>\n",
       "      <td>119720.066901</td>\n",
       "      <td>59.547182</td>\n",
       "    </tr>\n",
       "    <tr>\n",
       "      <th>std</th>\n",
       "      <td>73036.130732</td>\n",
       "      <td>74.736833</td>\n",
       "    </tr>\n",
       "    <tr>\n",
       "      <th>min</th>\n",
       "      <td>838.000000</td>\n",
       "      <td>0.000000</td>\n",
       "    </tr>\n",
       "    <tr>\n",
       "      <th>25%</th>\n",
       "      <td>28524.000000</td>\n",
       "      <td>12.000000</td>\n",
       "    </tr>\n",
       "    <tr>\n",
       "      <th>50%</th>\n",
       "      <td>144974.500000</td>\n",
       "      <td>40.000000</td>\n",
       "    </tr>\n",
       "    <tr>\n",
       "      <th>75%</th>\n",
       "      <td>184262.250000</td>\n",
       "      <td>80.000000</td>\n",
       "    </tr>\n",
       "    <tr>\n",
       "      <th>max</th>\n",
       "      <td>223439.000000</td>\n",
       "      <td>1700.000000</td>\n",
       "    </tr>\n",
       "  </tbody>\n",
       "</table>\n",
       "</div>"
      ],
      "text/plain": [
       "                  id        number\n",
       "count   15366.000000  15366.000000\n",
       "mean   119720.066901     59.547182\n",
       "std     73036.130732     74.736833\n",
       "min       838.000000      0.000000\n",
       "25%     28524.000000     12.000000\n",
       "50%    144974.500000     40.000000\n",
       "75%    184262.250000     80.000000\n",
       "max    223439.000000   1700.000000"
      ]
     },
     "execution_count": 3,
     "metadata": {},
     "output_type": "execute_result"
    }
   ],
   "source": [
    "rest_data.describe()"
   ]
  },
  {
   "cell_type": "markdown",
   "metadata": {},
   "source": [
    "Проверим данные в таблице. Создадим функцию `describe_cols`, которая выведит список уникальных значений и их количество в каждом столбце и применим для таблицы"
   ]
  },
  {
   "cell_type": "code",
   "execution_count": 4,
   "metadata": {},
   "outputs": [
    {
     "data": {
      "text/html": [
       "<div>\n",
       "<style scoped>\n",
       "    .dataframe tbody tr th:only-of-type {\n",
       "        vertical-align: middle;\n",
       "    }\n",
       "\n",
       "    .dataframe tbody tr th {\n",
       "        vertical-align: top;\n",
       "    }\n",
       "\n",
       "    .dataframe thead th {\n",
       "        text-align: right;\n",
       "    }\n",
       "</style>\n",
       "<table border=\"1\" class=\"dataframe\">\n",
       "  <thead>\n",
       "    <tr style=\"text-align: right;\">\n",
       "      <th></th>\n",
       "      <th>Значения</th>\n",
       "      <th>Количество уникальных значений</th>\n",
       "    </tr>\n",
       "  </thead>\n",
       "  <tbody>\n",
       "    <tr>\n",
       "      <th>chain</th>\n",
       "      <td>[нет, да]</td>\n",
       "      <td>2</td>\n",
       "    </tr>\n",
       "    <tr>\n",
       "      <th>object_type</th>\n",
       "      <td>[кафе, столовая, закусочная, предприятие быстр...</td>\n",
       "      <td>9</td>\n",
       "    </tr>\n",
       "    <tr>\n",
       "      <th>number</th>\n",
       "      <td>[48, 35, 95, 40, 50, 240, 10, 90, 150, 120, 5,...</td>\n",
       "      <td>315</td>\n",
       "    </tr>\n",
       "    <tr>\n",
       "      <th>address</th>\n",
       "      <td>[город Москва, улица Егора Абакумова, дом 9, г...</td>\n",
       "      <td>9108</td>\n",
       "    </tr>\n",
       "    <tr>\n",
       "      <th>object_name</th>\n",
       "      <td>[СМЕТАНА, Родник, Кафе «Академия», ПИЦЦЕТОРИЯ,...</td>\n",
       "      <td>10393</td>\n",
       "    </tr>\n",
       "    <tr>\n",
       "      <th>id</th>\n",
       "      <td>[151635, 77874, 24309, 21894, 119365, 27429, 1...</td>\n",
       "      <td>15366</td>\n",
       "    </tr>\n",
       "  </tbody>\n",
       "</table>\n",
       "</div>"
      ],
      "text/plain": [
       "                                                      Значения  \\\n",
       "chain                                                [нет, да]   \n",
       "object_type  [кафе, столовая, закусочная, предприятие быстр...   \n",
       "number       [48, 35, 95, 40, 50, 240, 10, 90, 150, 120, 5,...   \n",
       "address      [город Москва, улица Егора Абакумова, дом 9, г...   \n",
       "object_name  [СМЕТАНА, Родник, Кафе «Академия», ПИЦЦЕТОРИЯ,...   \n",
       "id           [151635, 77874, 24309, 21894, 119365, 27429, 1...   \n",
       "\n",
       "            Количество уникальных значений  \n",
       "chain                                    2  \n",
       "object_type                              9  \n",
       "number                                 315  \n",
       "address                               9108  \n",
       "object_name                          10393  \n",
       "id                                   15366  "
      ]
     },
     "execution_count": 4,
     "metadata": {},
     "output_type": "execute_result"
    }
   ],
   "source": [
    "# функция для вывода списка и количества уникальных значений в таблице\n",
    "def describe_cols(df):\n",
    "    values = pd.DataFrame()\n",
    "    for col in df.columns:\n",
    "        values[col] = [df[col].unique(),df[col].nunique()]\n",
    "    return values.transpose().sort_values(by = 1, ascending = True).rename({0: 'Значения', 1: 'Количество уникальных значений'}, axis = 1)\n",
    "describe_cols(rest_data) # применение функции для таблицы users"
   ]
  },
  {
   "cell_type": "markdown",
   "metadata": {},
   "source": [
    "Проверим таблицу на наличие явных дубликатов"
   ]
  },
  {
   "cell_type": "code",
   "execution_count": 5,
   "metadata": {},
   "outputs": [
    {
     "data": {
      "text/plain": [
       "82"
      ]
     },
     "execution_count": 5,
     "metadata": {},
     "output_type": "execute_result"
    }
   ],
   "source": [
    "rest_data[['object_name','chain','object_type','address','number']].duplicated().sum()"
   ]
  },
  {
   "cell_type": "markdown",
   "metadata": {},
   "source": [
    "Удалим эти дубликаты"
   ]
  },
  {
   "cell_type": "code",
   "execution_count": 6,
   "metadata": {},
   "outputs": [
    {
     "data": {
      "text/plain": [
       "0"
      ]
     },
     "execution_count": 6,
     "metadata": {},
     "output_type": "execute_result"
    }
   ],
   "source": [
    "rest_data = rest_data[['object_name','chain','object_type','address','number']].drop_duplicates().reset_index(drop = True) # удаление явных дубликатов (с удалением старых индексов и формированием новых)\n",
    "rest_data[['object_name','chain','object_type','address','number']].duplicated().sum()"
   ]
  },
  {
   "cell_type": "markdown",
   "metadata": {},
   "source": [
    "Приведем названия заведений к нижнему регистру"
   ]
  },
  {
   "cell_type": "code",
   "execution_count": 7,
   "metadata": {},
   "outputs": [],
   "source": [
    "rest_data['object_name'] = rest_data['object_name'].str.lower() # приведение данных к нижнему регистру"
   ]
  },
  {
   "cell_type": "markdown",
   "metadata": {},
   "source": [
    "Приведем к единому названию самые популярные заведения"
   ]
  },
  {
   "cell_type": "code",
   "execution_count": 8,
   "metadata": {},
   "outputs": [
    {
     "data": {
      "text/plain": [
       "array(['макдоналдс', 'ресторан «макдоналдс»',\n",
       "       'предприятие быстрого обслуживания «макдоналдс»',\n",
       "       'москва - макдоналдс', 'кафе макдоналдс', 'кафе «макдоналдс»',\n",
       "       'ресторан«макдоналдс»'], dtype=object)"
      ]
     },
     "execution_count": 8,
     "metadata": {},
     "output_type": "execute_result"
    }
   ],
   "source": [
    "mac = rest_data[rest_data['object_name'].str.contains(r'\\bмакд')]\n",
    "mac['object_name'].unique()"
   ]
  },
  {
   "cell_type": "code",
   "execution_count": 9,
   "metadata": {},
   "outputs": [],
   "source": [
    "# создадим функцию для замены названий\n",
    "def replace_wrong_name(wrong_name, correct_name):\n",
    "    for wrong_name in wrong_name:\n",
    "        rest_data['object_name'] = rest_data['object_name'].replace(wrong_name, correct_name)\n",
    "replace_wrong_name(mac['object_name'].unique(), 'макдоналдс')"
   ]
  },
  {
   "cell_type": "code",
   "execution_count": 10,
   "metadata": {},
   "outputs": [],
   "source": [
    "kfc = rest_data[rest_data['object_name'].str.contains(r'\\bkfc')]\n",
    "kfc['object_name'].unique()\n",
    "replace_wrong_name(kfc['object_name'].unique(), 'kfc')"
   ]
  },
  {
   "cell_type": "code",
   "execution_count": 11,
   "metadata": {},
   "outputs": [],
   "source": [
    "shok = rest_data[rest_data['object_name'].str.contains(r'\\bшоколадница')]\n",
    "shok['object_name'].unique()\n",
    "replace_wrong_name(shok['object_name'].unique(), 'шоколадница')"
   ]
  },
  {
   "cell_type": "code",
   "execution_count": 12,
   "metadata": {},
   "outputs": [],
   "source": [
    "burg = rest_data[rest_data['object_name'].str.contains(r'\\bбургер кинг')]\n",
    "burg['object_name'].unique()\n",
    "replace_wrong_name(burg['object_name'].unique(), 'бургер кинг')"
   ]
  },
  {
   "cell_type": "code",
   "execution_count": 13,
   "metadata": {},
   "outputs": [],
   "source": [
    "ter = rest_data[rest_data['object_name'].str.contains(r'\\bтеремок')]\n",
    "ter['object_name'].unique()\n",
    "replace_wrong_name(ter['object_name'].unique(), 'теремок')"
   ]
  },
  {
   "cell_type": "markdown",
   "metadata": {},
   "source": [
    "Посчитаем пропущенные значения"
   ]
  },
  {
   "cell_type": "code",
   "execution_count": 14,
   "metadata": {},
   "outputs": [
    {
     "data": {
      "text/plain": [
       "object_name    0\n",
       "chain          0\n",
       "object_type    0\n",
       "address        0\n",
       "number         0\n",
       "dtype: int64"
      ]
     },
     "execution_count": 14,
     "metadata": {},
     "output_type": "execute_result"
    }
   ],
   "source": [
    "rest_data.isna().sum() "
   ]
  },
  {
   "cell_type": "markdown",
   "metadata": {},
   "source": [
    "Пропусков не обнаружено. Но Python показывает пустые значения только, если оно имеет тип NoneType. Необходимо проверить, есть ли другие пропуски в столбцах. Для этого создадим функцию nan_values."
   ]
  },
  {
   "cell_type": "code",
   "execution_count": 15,
   "metadata": {},
   "outputs": [
    {
     "data": {
      "text/html": [
       "<div>\n",
       "<style scoped>\n",
       "    .dataframe tbody tr th:only-of-type {\n",
       "        vertical-align: middle;\n",
       "    }\n",
       "\n",
       "    .dataframe tbody tr th {\n",
       "        vertical-align: top;\n",
       "    }\n",
       "\n",
       "    .dataframe thead th {\n",
       "        text-align: right;\n",
       "    }\n",
       "</style>\n",
       "<table border=\"1\" class=\"dataframe\">\n",
       "  <thead>\n",
       "    <tr style=\"text-align: right;\">\n",
       "      <th></th>\n",
       "      <th>column_name</th>\n",
       "      <th>num_missing</th>\n",
       "      <th>percent_missing</th>\n",
       "    </tr>\n",
       "  </thead>\n",
       "  <tbody>\n",
       "    <tr>\n",
       "      <th>0</th>\n",
       "      <td>object_name</td>\n",
       "      <td>0</td>\n",
       "      <td>0.0</td>\n",
       "    </tr>\n",
       "    <tr>\n",
       "      <th>1</th>\n",
       "      <td>chain</td>\n",
       "      <td>0</td>\n",
       "      <td>0.0</td>\n",
       "    </tr>\n",
       "    <tr>\n",
       "      <th>2</th>\n",
       "      <td>object_type</td>\n",
       "      <td>0</td>\n",
       "      <td>0.0</td>\n",
       "    </tr>\n",
       "    <tr>\n",
       "      <th>3</th>\n",
       "      <td>address</td>\n",
       "      <td>0</td>\n",
       "      <td>0.0</td>\n",
       "    </tr>\n",
       "    <tr>\n",
       "      <th>4</th>\n",
       "      <td>number</td>\n",
       "      <td>0</td>\n",
       "      <td>0.0</td>\n",
       "    </tr>\n",
       "  </tbody>\n",
       "</table>\n",
       "</div>"
      ],
      "text/plain": [
       "   column_name  num_missing  percent_missing\n",
       "0  object_name            0              0.0\n",
       "1        chain            0              0.0\n",
       "2  object_type            0              0.0\n",
       "3      address            0              0.0\n",
       "4       number            0              0.0"
      ]
     },
     "execution_count": 15,
     "metadata": {},
     "output_type": "execute_result"
    }
   ],
   "source": [
    "# функция для вывода списка и количества уникальных значений в таблице\n",
    "def nan_values(df,list_nans = ['',' ','\"\"', '\" \"', None, np.nan]):\n",
    "    list_count = []\n",
    "    list_share = []\n",
    "    for col in df.columns:\n",
    "        list_count.append(sum(df[col].isin(list_nans)))\n",
    "        list_share.append(round(sum(df[col].isin(list_nans)) * 100 / len(df), 2))\n",
    "    missing_value_df = pd.DataFrame({'column_name': df.columns, 'num_missing': list_count, 'percent_missing': list_share})\n",
    "    return missing_value_df\n",
    "nan_values(rest_data) # применение функции для таблицы "
   ]
  },
  {
   "cell_type": "code",
   "execution_count": 16,
   "metadata": {},
   "outputs": [
    {
     "name": "stdout",
     "output_type": "stream",
     "text": [
      "<class 'pandas.core.frame.DataFrame'>\n",
      "RangeIndex: 15284 entries, 0 to 15283\n",
      "Data columns (total 5 columns):\n",
      " #   Column       Non-Null Count  Dtype \n",
      "---  ------       --------------  ----- \n",
      " 0   object_name  15284 non-null  object\n",
      " 1   chain        15284 non-null  object\n",
      " 2   object_type  15284 non-null  object\n",
      " 3   address      15284 non-null  object\n",
      " 4   number       15284 non-null  int64 \n",
      "dtypes: int64(1), object(4)\n",
      "memory usage: 597.2+ KB\n"
     ]
    }
   ],
   "source": [
    "rest_data.info()"
   ]
  },
  {
   "cell_type": "markdown",
   "metadata": {},
   "source": [
    "Никаких других пропусков не обнаружено\n",
    "\n",
    "Исследование данных завершено, перейдем к анализу данных"
   ]
  },
  {
   "cell_type": "markdown",
   "metadata": {},
   "source": [
    "## Анализ данных"
   ]
  },
  {
   "cell_type": "markdown",
   "metadata": {},
   "source": [
    "### Исследование соотношения видов объектов общественного питания"
   ]
  },
  {
   "cell_type": "markdown",
   "metadata": {},
   "source": [
    "Исследуем соотношение видов объектов общественного питания по количеству. \n",
    "\n",
    "Выведим количество заведений разного типа, построим диаграмму распределения этих заведений от общего числа заведений."
   ]
  },
  {
   "cell_type": "code",
   "execution_count": 17,
   "metadata": {},
   "outputs": [
    {
     "name": "stdout",
     "output_type": "stream",
     "text": [
      "object_type\n",
      "кафе                                 6071\n",
      "столовая                             2584\n",
      "ресторан                             2282\n",
      "предприятие быстрого обслуживания    1898\n",
      "бар                                   855\n",
      "буфет                                 577\n",
      "кафетерий                             395\n",
      "закусочная                            349\n",
      "магазин (отдел кулинарии)             273\n",
      "Name: object_type, dtype: int64\n"
     ]
    },
    {
     "data": {
      "image/png": "[encoded data removed]",
      "text/plain": [
       "<Figure size 720x720 with 1 Axes>"
      ]
     },
     "metadata": {},
     "output_type": "display_data"
    }
   ],
   "source": [
    "df_object_type = rest_data.groupby(['object_type'])['object_type'].count().sort_values(ascending = False) \n",
    "print(df_object_type);\n",
    "# построение круговой диаграммы\n",
    "df_object_type.plot(kind='pie', subplots=True, figsize=(10, 10), autopct='%1.1f%%')\n",
    "plt.title('Распределение видов объектов общественного питания по количеству');"
   ]
  },
  {
   "cell_type": "markdown",
   "metadata": {},
   "source": [
    "Из диаграммы видно, что больше всего заведений типа \"кафе\", на них приходится 39.7% от всех заведений. Также популярны столовые, рестораны и предприятия быстрого обслуживания"
   ]
  },
  {
   "cell_type": "markdown",
   "metadata": {},
   "source": [
    "### Исследование сетевых и несетевых заведений"
   ]
  },
  {
   "cell_type": "markdown",
   "metadata": {},
   "source": [
    "Исследуем соотношение сетевых и несетевых заведений по количеству и построим диаграмму распределения"
   ]
  },
  {
   "cell_type": "code",
   "execution_count": 18,
   "metadata": {},
   "outputs": [
    {
     "name": "stdout",
     "output_type": "stream",
     "text": [
      "chain\n",
      "нет    12320\n",
      "да      2964\n",
      "Name: chain, dtype: int64\n"
     ]
    },
    {
     "data": {
      "image/png": "[encoded data removed]",
      "text/plain": [
       "<Figure size 720x720 with 1 Axes>"
      ]
     },
     "metadata": {},
     "output_type": "display_data"
    }
   ],
   "source": [
    "df_chain = rest_data.groupby(['chain'])['chain'].count().sort_values(ascending = False) \n",
    "print(df_chain);\n",
    "# построение круговой диаграммы\n",
    "df_chain.plot(kind='pie', subplots=True, figsize=(10, 10), autopct='%1.1f%%')\n",
    "plt.title('Распределение сетевых и несетевых заведений по количеству');"
   ]
  },
  {
   "cell_type": "markdown",
   "metadata": {},
   "source": [
    "Видим, что на долю несетевых заведений приходится 80.6% всех заведений. Можно сказать, что только каждое пятое заведение - сетевое"
   ]
  },
  {
   "cell_type": "markdown",
   "metadata": {},
   "source": [
    "Определим, для какого вида объекта общественного питания характерно сетевое распространение"
   ]
  },
  {
   "cell_type": "code",
   "execution_count": 19,
   "metadata": {},
   "outputs": [
    {
     "data": {
      "text/html": [
       "<div>\n",
       "<style scoped>\n",
       "    .dataframe tbody tr th:only-of-type {\n",
       "        vertical-align: middle;\n",
       "    }\n",
       "\n",
       "    .dataframe tbody tr th {\n",
       "        vertical-align: top;\n",
       "    }\n",
       "\n",
       "    .dataframe thead th {\n",
       "        text-align: right;\n",
       "    }\n",
       "</style>\n",
       "<table border=\"1\" class=\"dataframe\">\n",
       "  <thead>\n",
       "    <tr style=\"text-align: right;\">\n",
       "      <th>chain</th>\n",
       "      <th>да</th>\n",
       "      <th>нет</th>\n",
       "      <th>Доля сетевых объектов от общего числа данного типа объектов</th>\n",
       "    </tr>\n",
       "    <tr>\n",
       "      <th>object_type</th>\n",
       "      <th></th>\n",
       "      <th></th>\n",
       "      <th></th>\n",
       "    </tr>\n",
       "  </thead>\n",
       "  <tbody>\n",
       "    <tr>\n",
       "      <th>бар</th>\n",
       "      <td>37</td>\n",
       "      <td>818</td>\n",
       "      <td>4.33</td>\n",
       "    </tr>\n",
       "    <tr>\n",
       "      <th>буфет</th>\n",
       "      <td>11</td>\n",
       "      <td>566</td>\n",
       "      <td>1.91</td>\n",
       "    </tr>\n",
       "    <tr>\n",
       "      <th>закусочная</th>\n",
       "      <td>56</td>\n",
       "      <td>293</td>\n",
       "      <td>16.05</td>\n",
       "    </tr>\n",
       "    <tr>\n",
       "      <th>кафе</th>\n",
       "      <td>1396</td>\n",
       "      <td>4675</td>\n",
       "      <td>22.99</td>\n",
       "    </tr>\n",
       "    <tr>\n",
       "      <th>кафетерий</th>\n",
       "      <td>52</td>\n",
       "      <td>343</td>\n",
       "      <td>13.16</td>\n",
       "    </tr>\n",
       "    <tr>\n",
       "      <th>магазин (отдел кулинарии)</th>\n",
       "      <td>78</td>\n",
       "      <td>195</td>\n",
       "      <td>28.57</td>\n",
       "    </tr>\n",
       "    <tr>\n",
       "      <th>предприятие быстрого обслуживания</th>\n",
       "      <td>788</td>\n",
       "      <td>1110</td>\n",
       "      <td>41.52</td>\n",
       "    </tr>\n",
       "    <tr>\n",
       "      <th>ресторан</th>\n",
       "      <td>543</td>\n",
       "      <td>1739</td>\n",
       "      <td>23.79</td>\n",
       "    </tr>\n",
       "    <tr>\n",
       "      <th>столовая</th>\n",
       "      <td>3</td>\n",
       "      <td>2581</td>\n",
       "      <td>0.12</td>\n",
       "    </tr>\n",
       "  </tbody>\n",
       "</table>\n",
       "</div>"
      ],
      "text/plain": [
       "chain                                да   нет  \\\n",
       "object_type                                     \n",
       "бар                                  37   818   \n",
       "буфет                                11   566   \n",
       "закусочная                           56   293   \n",
       "кафе                               1396  4675   \n",
       "кафетерий                            52   343   \n",
       "магазин (отдел кулинарии)            78   195   \n",
       "предприятие быстрого обслуживания   788  1110   \n",
       "ресторан                            543  1739   \n",
       "столовая                              3  2581   \n",
       "\n",
       "chain                              Доля сетевых объектов от общего числа данного типа объектов  \n",
       "object_type                                                                                     \n",
       "бар                                                                             4.33            \n",
       "буфет                                                                           1.91            \n",
       "закусочная                                                                     16.05            \n",
       "кафе                                                                           22.99            \n",
       "кафетерий                                                                      13.16            \n",
       "магазин (отдел кулинарии)                                                      28.57            \n",
       "предприятие быстрого обслуживания                                              41.52            \n",
       "ресторан                                                                       23.79            \n",
       "столовая                                                                        0.12            "
      ]
     },
     "execution_count": 19,
     "metadata": {},
     "output_type": "execute_result"
    },
    {
     "data": {
      "image/png": "[encoded data removed]",
      "text/plain": [
       "<Figure size 1080x720 with 1 Axes>"
      ]
     },
     "metadata": {
      "needs_background": "light"
     },
     "output_type": "display_data"
    }
   ],
   "source": [
    "df_web = pd.pivot_table(rest_data, values='address', index='object_type', columns='chain', aggfunc='count')\n",
    "ax = df_web.plot(kind='bar', figsize=(15,10))\n",
    "plt.xticks(rotation=60)\n",
    "plt.grid()\n",
    "plt.title('Сравнение сетевых и несетевых заведений' + \"\\n\")\n",
    "plt.xlabel('Тип объекта общественного питания')\n",
    "plt.ylabel('Количество заведений');\n",
    "df_web['Доля сетевых объектов от общего числа данного типа объектов'] = round(df_web['да'] / (df_web['да'] + df_web['нет']) * 100, 2)\n",
    "df_web"
   ]
  },
  {
   "cell_type": "markdown",
   "metadata": {},
   "source": [
    "Можно выделить, что для предприятий быстрого обслуживания самая высокая доля стевого распространения - 41%. Стоит отметить кафе и рестораны, т.к. количество таких заведений высокое. Сетевых заведений из них 23%"
   ]
  },
  {
   "cell_type": "markdown",
   "metadata": {},
   "source": [
    "### Исследование количества посадочных мест у разных категорий заведений"
   ]
  },
  {
   "cell_type": "markdown",
   "metadata": {},
   "source": [
    "Ответим на вопрос: что характерно для сетевых заведений: много заведений с небольшим числом посадочных мест в каждом или мало заведений с большим количеством посадочных мест?"
   ]
  },
  {
   "cell_type": "markdown",
   "metadata": {},
   "source": [
    "Найдем самые крупные сети и построим диаграмму"
   ]
  },
  {
   "cell_type": "code",
   "execution_count": 20,
   "metadata": {},
   "outputs": [],
   "source": [
    "df_chain = rest_data[rest_data['chain'] == 'да'].reset_index(drop=True)\n",
    "df = pd.pivot_table(df_chain, values='address', index='object_name', aggfunc='count').sort_values(by='address',ascending=False).head(20)"
   ]
  },
  {
   "cell_type": "code",
   "execution_count": 21,
   "metadata": {},
   "outputs": [
    {
     "data": {
      "image/png": "[encoded data removed]",
      "text/plain": [
       "<Figure size 1080x720 with 1 Axes>"
      ]
     },
     "metadata": {
      "needs_background": "light"
     },
     "output_type": "display_data"
    }
   ],
   "source": [
    "ax = df.plot(kind='barh', figsize=(15,10))\n",
    "plt.grid()\n",
    "plt.title('Самые большие сети заведений' + \"\\n\")\n",
    "plt.xlabel('Количество заведений в сети')\n",
    "plt.ylabel('Название сети');"
   ]
  },
  {
   "cell_type": "markdown",
   "metadata": {},
   "source": [
    "Найдем среднее количество посадочных мест в таких заведениях"
   ]
  },
  {
   "cell_type": "code",
   "execution_count": 22,
   "metadata": {},
   "outputs": [
    {
     "data": {
      "text/plain": [
       "object_name\n",
       "чайхона №1         148.813953\n",
       "якитория           117.157895\n",
       "тануки             113.875000\n",
       "макдоналдс          87.523256\n",
       "шоколадница         57.648649\n",
       "кофе хаус           56.617647\n",
       "kfc                 55.835106\n",
       "хинкальная          52.447368\n",
       "бургер кинг         48.144654\n",
       "starbucks           44.566667\n",
       "хлеб насущный       41.937500\n",
       "додо пицца          32.551020\n",
       "теремок             27.144144\n",
       "папа джонс          22.039216\n",
       "крошка картошка     21.855556\n",
       "домино'с пицца      18.344444\n",
       "subway              17.352941\n",
       "суши wok             6.708333\n",
       "милти                1.333333\n",
       "кофе с собой         0.818182\n",
       "Name: number, dtype: float64"
      ]
     },
     "execution_count": 22,
     "metadata": {},
     "output_type": "execute_result"
    }
   ],
   "source": [
    "df_1 = df_chain[df_chain['object_name'].isin(df.index)]\n",
    "df_1.groupby('object_name')['number'].mean().sort_values(ascending=False)"
   ]
  },
  {
   "cell_type": "code",
   "execution_count": 23,
   "metadata": {},
   "outputs": [
    {
     "name": "stdout",
     "output_type": "stream",
     "text": [
      "Среднее количество посадочных мест у крупных сетей:  48.285166240409204\n",
      "Всего заведений 1564\n"
     ]
    }
   ],
   "source": [
    "print('Среднее количество посадочных мест у крупных сетей: ', df_1['number'].mean())\n",
    "print('Всего заведений', len(df_1['object_name']))"
   ]
  },
  {
   "cell_type": "markdown",
   "metadata": {},
   "source": [
    "В 20 самых крупных сетей входят 1564 заведения, среднее количество мест в них равно 48."
   ]
  },
  {
   "cell_type": "markdown",
   "metadata": {},
   "source": [
    "Выберим сети, число заведений в которых небольшое (меньше 5)"
   ]
  },
  {
   "cell_type": "code",
   "execution_count": 24,
   "metadata": {},
   "outputs": [
    {
     "name": "stdout",
     "output_type": "stream",
     "text": [
      " Количество небольших сетей: 439 \n",
      " Количество заведений в этих сетях: 639\n"
     ]
    }
   ],
   "source": [
    "df_min = pd.pivot_table(df_chain, values='address', index='object_name', aggfunc='count').sort_values(by='address',ascending=False)\n",
    "df_min = df_min[df_min['address'] < 5]\n",
    "df_2 = df_chain[df_chain['object_name'].isin(df_min.index)]\n",
    "print(f' Количество небольших сетей: {len(df_min)} \\n Количество заведений в этих сетях: {len(df_2)}')"
   ]
  },
  {
   "cell_type": "markdown",
   "metadata": {},
   "source": [
    "Найдем среднее количество посадочных мест"
   ]
  },
  {
   "cell_type": "code",
   "execution_count": 25,
   "metadata": {},
   "outputs": [
    {
     "name": "stdout",
     "output_type": "stream",
     "text": [
      "Среднее количество посадочных мест у небольших сетей:  63.36619718309859\n"
     ]
    }
   ],
   "source": [
    "print('Среднее количество посадочных мест у небольших сетей: ', df_2['number'].mean())"
   ]
  },
  {
   "cell_type": "markdown",
   "metadata": {},
   "source": [
    "Получается, что у небольших сетей в среднем количество посадочных мест тоже невысокое.\n",
    "\n",
    "Выберим только заведения с большим числом посадочных мест (больше 150)"
   ]
  },
  {
   "cell_type": "code",
   "execution_count": 26,
   "metadata": {},
   "outputs": [
    {
     "name": "stdout",
     "output_type": "stream",
     "text": [
      "Заведения с большим количеством посадочных мест: 47\n"
     ]
    }
   ],
   "source": [
    "print('Заведения с большим количеством посадочных мест:', len(df_2[df_2['number'] > 150]))"
   ]
  },
  {
   "cell_type": "markdown",
   "metadata": {},
   "source": [
    "Исходя из полученных значений, наиболее характерно много заведений с небольшим числом посадочных мест в каждом"
   ]
  },
  {
   "cell_type": "markdown",
   "metadata": {},
   "source": [
    "Определим, сколько в среднем посадочных мест предоставляет каждый вид заведения"
   ]
  },
  {
   "cell_type": "code",
   "execution_count": 27,
   "metadata": {},
   "outputs": [
    {
     "data": {
      "text/html": [
       "<div>\n",
       "<style scoped>\n",
       "    .dataframe tbody tr th:only-of-type {\n",
       "        vertical-align: middle;\n",
       "    }\n",
       "\n",
       "    .dataframe tbody tr th {\n",
       "        vertical-align: top;\n",
       "    }\n",
       "\n",
       "    .dataframe thead th {\n",
       "        text-align: right;\n",
       "    }\n",
       "</style>\n",
       "<table border=\"1\" class=\"dataframe\">\n",
       "  <thead>\n",
       "    <tr style=\"text-align: right;\">\n",
       "      <th></th>\n",
       "      <th>object_type</th>\n",
       "      <th>number</th>\n",
       "    </tr>\n",
       "  </thead>\n",
       "  <tbody>\n",
       "    <tr>\n",
       "      <th>0</th>\n",
       "      <td>бар</td>\n",
       "      <td>43.533333</td>\n",
       "    </tr>\n",
       "    <tr>\n",
       "      <th>1</th>\n",
       "      <td>буфет</td>\n",
       "      <td>51.509532</td>\n",
       "    </tr>\n",
       "    <tr>\n",
       "      <th>2</th>\n",
       "      <td>закусочная</td>\n",
       "      <td>7.825215</td>\n",
       "    </tr>\n",
       "    <tr>\n",
       "      <th>3</th>\n",
       "      <td>кафе</td>\n",
       "      <td>39.785703</td>\n",
       "    </tr>\n",
       "    <tr>\n",
       "      <th>4</th>\n",
       "      <td>кафетерий</td>\n",
       "      <td>9.184810</td>\n",
       "    </tr>\n",
       "    <tr>\n",
       "      <th>5</th>\n",
       "      <td>магазин (отдел кулинарии)</td>\n",
       "      <td>5.589744</td>\n",
       "    </tr>\n",
       "    <tr>\n",
       "      <th>6</th>\n",
       "      <td>предприятие быстрого обслуживания</td>\n",
       "      <td>20.808219</td>\n",
       "    </tr>\n",
       "    <tr>\n",
       "      <th>7</th>\n",
       "      <td>ресторан</td>\n",
       "      <td>96.884750</td>\n",
       "    </tr>\n",
       "    <tr>\n",
       "      <th>8</th>\n",
       "      <td>столовая</td>\n",
       "      <td>130.337848</td>\n",
       "    </tr>\n",
       "  </tbody>\n",
       "</table>\n",
       "</div>"
      ],
      "text/plain": [
       "                         object_type      number\n",
       "0                                бар   43.533333\n",
       "1                              буфет   51.509532\n",
       "2                         закусочная    7.825215\n",
       "3                               кафе   39.785703\n",
       "4                          кафетерий    9.184810\n",
       "5          магазин (отдел кулинарии)    5.589744\n",
       "6  предприятие быстрого обслуживания   20.808219\n",
       "7                           ресторан   96.884750\n",
       "8                           столовая  130.337848"
      ]
     },
     "execution_count": 27,
     "metadata": {},
     "output_type": "execute_result"
    }
   ],
   "source": [
    "pd.pivot_table(rest_data, values='number', index='object_type', aggfunc='mean').reset_index()"
   ]
  },
  {
   "cell_type": "code",
   "execution_count": 28,
   "metadata": {},
   "outputs": [
    {
     "data": {
      "image/png": "[encoded data removed]",
      "text/plain": [
       "<Figure size 1080x720 with 1 Axes>"
      ]
     },
     "metadata": {
      "needs_background": "light"
     },
     "output_type": "display_data"
    }
   ],
   "source": [
    "plt.figure(figsize=(15,10))\n",
    "ax = sns.boxplot(data=rest_data, x='number', y='object_type')\n",
    "plt.yticks(rotation=60)\n",
    "plt.grid()\n",
    "plt.title('Среднее количество посадочных мест для разных типов объектов общественного питания' + \"\\n\")\n",
    "plt.xlabel('Тип объекта общественного питания')\n",
    "plt.ylabel('Среднее число посадочных мест');"
   ]
  },
  {
   "cell_type": "markdown",
   "metadata": {},
   "source": [
    "Из-за выбросов график не очень информативен. Уберем их, оставив при этом 99% значений"
   ]
  },
  {
   "cell_type": "code",
   "execution_count": 29,
   "metadata": {},
   "outputs": [
    {
     "data": {
      "text/html": [
       "<div>\n",
       "<style scoped>\n",
       "    .dataframe tbody tr th:only-of-type {\n",
       "        vertical-align: middle;\n",
       "    }\n",
       "\n",
       "    .dataframe tbody tr th {\n",
       "        vertical-align: top;\n",
       "    }\n",
       "\n",
       "    .dataframe thead th {\n",
       "        text-align: right;\n",
       "    }\n",
       "</style>\n",
       "<table border=\"1\" class=\"dataframe\">\n",
       "  <thead>\n",
       "    <tr style=\"text-align: right;\">\n",
       "      <th></th>\n",
       "      <th>object_type</th>\n",
       "      <th>number</th>\n",
       "    </tr>\n",
       "  </thead>\n",
       "  <tbody>\n",
       "    <tr>\n",
       "      <th>0</th>\n",
       "      <td>бар</td>\n",
       "      <td>41.593677</td>\n",
       "    </tr>\n",
       "    <tr>\n",
       "      <th>1</th>\n",
       "      <td>буфет</td>\n",
       "      <td>50.175958</td>\n",
       "    </tr>\n",
       "    <tr>\n",
       "      <th>2</th>\n",
       "      <td>закусочная</td>\n",
       "      <td>7.825215</td>\n",
       "    </tr>\n",
       "    <tr>\n",
       "      <th>3</th>\n",
       "      <td>кафе</td>\n",
       "      <td>39.243359</td>\n",
       "    </tr>\n",
       "    <tr>\n",
       "      <th>4</th>\n",
       "      <td>кафетерий</td>\n",
       "      <td>9.184810</td>\n",
       "    </tr>\n",
       "    <tr>\n",
       "      <th>5</th>\n",
       "      <td>магазин (отдел кулинарии)</td>\n",
       "      <td>5.589744</td>\n",
       "    </tr>\n",
       "    <tr>\n",
       "      <th>6</th>\n",
       "      <td>предприятие быстрого обслуживания</td>\n",
       "      <td>19.922914</td>\n",
       "    </tr>\n",
       "    <tr>\n",
       "      <th>7</th>\n",
       "      <td>ресторан</td>\n",
       "      <td>84.270871</td>\n",
       "    </tr>\n",
       "    <tr>\n",
       "      <th>8</th>\n",
       "      <td>столовая</td>\n",
       "      <td>119.271138</td>\n",
       "    </tr>\n",
       "  </tbody>\n",
       "</table>\n",
       "</div>"
      ],
      "text/plain": [
       "                         object_type      number\n",
       "0                                бар   41.593677\n",
       "1                              буфет   50.175958\n",
       "2                         закусочная    7.825215\n",
       "3                               кафе   39.243359\n",
       "4                          кафетерий    9.184810\n",
       "5          магазин (отдел кулинарии)    5.589744\n",
       "6  предприятие быстрого обслуживания   19.922914\n",
       "7                           ресторан   84.270871\n",
       "8                           столовая  119.271138"
      ]
     },
     "execution_count": 29,
     "metadata": {},
     "output_type": "execute_result"
    },
    {
     "data": {
      "image/png": "[encoded data removed]",
      "text/plain": [
       "<Figure size 1080x720 with 1 Axes>"
      ]
     },
     "metadata": {
      "needs_background": "light"
     },
     "output_type": "display_data"
    }
   ],
   "source": [
    "rest_data_99 = rest_data[rest_data['number'] < np.percentile(rest_data['number'], 99)]\n",
    "plt.figure(figsize=(15,10))\n",
    "ax = sns.boxplot(data=rest_data_99, x='number', y='object_type')\n",
    "plt.yticks(rotation=60)\n",
    "plt.grid()\n",
    "plt.title('Среднее количество посадочных мест для разных типов объектов общественного питания' + \"\\n\")\n",
    "plt.xlabel('Тип объекта общественного питания')\n",
    "plt.ylabel('Среднее число посадочных мест');\n",
    "pd.pivot_table(rest_data_99, values='number', index='object_type', aggfunc='mean').reset_index()"
   ]
  },
  {
   "cell_type": "markdown",
   "metadata": {},
   "source": [
    "Видим, что столовые в среднем имеют 100 посадочных мест, рестораны - 80. Это логично, т.к. такие заведения предназначены для большого количества гостей. Засетим, что выбросы влияют только на эти 2 вида заведений. Меньше всего посадочных мест у магазинов (отдел кулинарии), закусочных, кафетериев. В таких заведениях люди чаще всего заказывают еду и берут с собой, а посадочные места предназначены для небольших и недолгих перекусов"
   ]
  },
  {
   "cell_type": "markdown",
   "metadata": {},
   "source": [
    "### Исследование районов расположения заведений"
   ]
  },
  {
   "cell_type": "markdown",
   "metadata": {},
   "source": [
    "Выделим в отдельный столбец информацию об улице из столбца `address`. Для этого создадим функцию `get_street`"
   ]
  },
  {
   "cell_type": "code",
   "execution_count": 30,
   "metadata": {},
   "outputs": [
    {
     "data": {
      "text/html": [
       "<div>\n",
       "<style scoped>\n",
       "    .dataframe tbody tr th:only-of-type {\n",
       "        vertical-align: middle;\n",
       "    }\n",
       "\n",
       "    .dataframe tbody tr th {\n",
       "        vertical-align: top;\n",
       "    }\n",
       "\n",
       "    .dataframe thead th {\n",
       "        text-align: right;\n",
       "    }\n",
       "</style>\n",
       "<table border=\"1\" class=\"dataframe\">\n",
       "  <thead>\n",
       "    <tr style=\"text-align: right;\">\n",
       "      <th></th>\n",
       "      <th>object_name</th>\n",
       "      <th>chain</th>\n",
       "      <th>object_type</th>\n",
       "      <th>address</th>\n",
       "      <th>number</th>\n",
       "      <th>street</th>\n",
       "    </tr>\n",
       "  </thead>\n",
       "  <tbody>\n",
       "    <tr>\n",
       "      <th>12670</th>\n",
       "      <td>столовая</td>\n",
       "      <td>нет</td>\n",
       "      <td>столовая</td>\n",
       "      <td>город Москва, улица Вавилова, дом 13А</td>\n",
       "      <td>85</td>\n",
       "      <td>улица Вавилова</td>\n",
       "    </tr>\n",
       "    <tr>\n",
       "      <th>4156</th>\n",
       "      <td>школа 1523 «кдп»</td>\n",
       "      <td>нет</td>\n",
       "      <td>столовая</td>\n",
       "      <td>город Москва, Кленовый бульвар, дом 21</td>\n",
       "      <td>50</td>\n",
       "      <td>Кленовый бульвар</td>\n",
       "    </tr>\n",
       "    <tr>\n",
       "      <th>12428</th>\n",
       "      <td>бон кафе</td>\n",
       "      <td>нет</td>\n",
       "      <td>магазин (отдел кулинарии)</td>\n",
       "      <td>город Москва, улица Захарьинские Дворики, дом ...</td>\n",
       "      <td>0</td>\n",
       "      <td>улица Захарьинские Дворики</td>\n",
       "    </tr>\n",
       "    <tr>\n",
       "      <th>145</th>\n",
       "      <td>радэа</td>\n",
       "      <td>нет</td>\n",
       "      <td>кафе</td>\n",
       "      <td>город Москва, Нахимовский проспект, владение 75А</td>\n",
       "      <td>7</td>\n",
       "      <td>Нахимовский проспект</td>\n",
       "    </tr>\n",
       "    <tr>\n",
       "      <th>3272</th>\n",
       "      <td>шато бобров</td>\n",
       "      <td>нет</td>\n",
       "      <td>ресторан</td>\n",
       "      <td>город Москва, Бобров переулок, дом 4, строение 1</td>\n",
       "      <td>62</td>\n",
       "      <td>Бобров переулок</td>\n",
       "    </tr>\n",
       "    <tr>\n",
       "      <th>...</th>\n",
       "      <td>...</td>\n",
       "      <td>...</td>\n",
       "      <td>...</td>\n",
       "      <td>...</td>\n",
       "      <td>...</td>\n",
       "      <td>...</td>\n",
       "    </tr>\n",
       "    <tr>\n",
       "      <th>2920</th>\n",
       "      <td>столовая</td>\n",
       "      <td>нет</td>\n",
       "      <td>столовая</td>\n",
       "      <td>город Москва, проспект Вернадского, дом 82, ст...</td>\n",
       "      <td>328</td>\n",
       "      <td>проспект Вернадского</td>\n",
       "    </tr>\n",
       "    <tr>\n",
       "      <th>7284</th>\n",
       "      <td>макдоналдс</td>\n",
       "      <td>да</td>\n",
       "      <td>предприятие быстрого обслуживания</td>\n",
       "      <td>город Москва, улица Ленинская Слобода, дом 26,...</td>\n",
       "      <td>20</td>\n",
       "      <td>улица Ленинская Слобода</td>\n",
       "    </tr>\n",
       "    <tr>\n",
       "      <th>2155</th>\n",
       "      <td>столовая</td>\n",
       "      <td>нет</td>\n",
       "      <td>столовая</td>\n",
       "      <td>город Москва, улица Героев Панфиловцев, дом 24</td>\n",
       "      <td>65</td>\n",
       "      <td>улица Героев Панфиловцев</td>\n",
       "    </tr>\n",
       "    <tr>\n",
       "      <th>13536</th>\n",
       "      <td>coffee bar</td>\n",
       "      <td>нет</td>\n",
       "      <td>кафе</td>\n",
       "      <td>город Москва, Октябрьская улица, дом 91, корпус 1</td>\n",
       "      <td>5</td>\n",
       "      <td>Октябрьская улица</td>\n",
       "    </tr>\n",
       "    <tr>\n",
       "      <th>6960</th>\n",
       "      <td>кафе «бар славянский»</td>\n",
       "      <td>нет</td>\n",
       "      <td>кафе</td>\n",
       "      <td>город Москва, Флотская улица, дом 17, строение 2</td>\n",
       "      <td>50</td>\n",
       "      <td>Флотская улица</td>\n",
       "    </tr>\n",
       "  </tbody>\n",
       "</table>\n",
       "<p>15284 rows × 6 columns</p>\n",
       "</div>"
      ],
      "text/plain": [
       "                 object_name chain                        object_type  \\\n",
       "12670               столовая   нет                           столовая   \n",
       "4156        школа 1523 «кдп»   нет                           столовая   \n",
       "12428               бон кафе   нет          магазин (отдел кулинарии)   \n",
       "145                    радэа   нет                               кафе   \n",
       "3272             шато бобров   нет                           ресторан   \n",
       "...                      ...   ...                                ...   \n",
       "2920                столовая   нет                           столовая   \n",
       "7284              макдоналдс    да  предприятие быстрого обслуживания   \n",
       "2155                столовая   нет                           столовая   \n",
       "13536             coffee bar   нет                               кафе   \n",
       "6960   кафе «бар славянский»   нет                               кафе   \n",
       "\n",
       "                                                 address  number  \\\n",
       "12670              город Москва, улица Вавилова, дом 13А      85   \n",
       "4156              город Москва, Кленовый бульвар, дом 21      50   \n",
       "12428  город Москва, улица Захарьинские Дворики, дом ...       0   \n",
       "145     город Москва, Нахимовский проспект, владение 75А       7   \n",
       "3272    город Москва, Бобров переулок, дом 4, строение 1      62   \n",
       "...                                                  ...     ...   \n",
       "2920   город Москва, проспект Вернадского, дом 82, ст...     328   \n",
       "7284   город Москва, улица Ленинская Слобода, дом 26,...      20   \n",
       "2155      город Москва, улица Героев Панфиловцев, дом 24      65   \n",
       "13536  город Москва, Октябрьская улица, дом 91, корпус 1       5   \n",
       "6960    город Москва, Флотская улица, дом 17, строение 2      50   \n",
       "\n",
       "                           street  \n",
       "12670              улица Вавилова  \n",
       "4156             Кленовый бульвар  \n",
       "12428  улица Захарьинские Дворики  \n",
       "145          Нахимовский проспект  \n",
       "3272              Бобров переулок  \n",
       "...                           ...  \n",
       "2920         проспект Вернадского  \n",
       "7284      улица Ленинская Слобода  \n",
       "2155     улица Героев Панфиловцев  \n",
       "13536           Октябрьская улица  \n",
       "6960               Флотская улица  \n",
       "\n",
       "[15284 rows x 6 columns]"
      ]
     },
     "execution_count": 30,
     "metadata": {},
     "output_type": "execute_result"
    }
   ],
   "source": [
    "street_def = ['улица','ул','переулок','шоссе','проспект','площадь','проезд',\n",
    "         'село','аллея','бульвар','набережная','тупик','линия']\n",
    "\n",
    "def get_street(row):\n",
    "    for e in row.split(','):\n",
    "        for i in street_def:\n",
    "            if i in e.lower():\n",
    "                return e\n",
    "rest_data['street'] = rest_data['address'].apply(get_street)\n",
    "rest_data['street'] = rest_data['street'].str.strip()\n",
    "rest_data.sample(frac=1)"
   ]
  },
  {
   "cell_type": "markdown",
   "metadata": {},
   "source": [
    "Выделим топ-10 улиц по количеству объектов общественного питания"
   ]
  },
  {
   "cell_type": "code",
   "execution_count": 31,
   "metadata": {},
   "outputs": [
    {
     "data": {
      "text/plain": [
       "street\n",
       "проспект Мира             204\n",
       "Профсоюзная улица         182\n",
       "Ленинградский проспект    172\n",
       "Пресненская набережная    167\n",
       "Варшавское шоссе          165\n",
       "Ленинский проспект        148\n",
       "проспект Вернадского      128\n",
       "Кутузовский проспект      114\n",
       "Каширское шоссе           111\n",
       "Кировоградская улица      108\n",
       "Name: street, dtype: int64"
      ]
     },
     "execution_count": 31,
     "metadata": {},
     "output_type": "execute_result"
    }
   ],
   "source": [
    "rest_data_top = rest_data.groupby('street')['street'].count().sort_values(ascending=False)\n",
    "rest_data_top = rest_data_top.head(10)\n",
    "rest_data_top"
   ]
  },
  {
   "cell_type": "code",
   "execution_count": 32,
   "metadata": {},
   "outputs": [
    {
     "data": {
      "image/png": "[encoded data removed]",
      "text/plain": [
       "<Figure size 1080x720 with 1 Axes>"
      ]
     },
     "metadata": {
      "needs_background": "light"
     },
     "output_type": "display_data"
    }
   ],
   "source": [
    "rest_data_top.plot(x='adress', y='street', kind='barh', title = 'Средняя цена продажи в зависомости от дня недели', figsize=(15,10)) \n",
    "plt.grid()\n",
    "plt.title('Топ-10 улиц по количеству объектов общественного питания' + \"\\n\")\n",
    "plt.xlabel('Количество объектов')\n",
    "plt.ylabel('Улица');"
   ]
  },
  {
   "cell_type": "markdown",
   "metadata": {},
   "source": [
    "Большего всего заведений общественного питания на проспекте Мира - 204\n",
    "\n",
    "Необходимо узнать, в каких районах Москвы находятся эти улицы?\n",
    "\n",
    "Загрузим файл, содержащий информацию об улицах г. Москвы и районах, в которых они расположены"
   ]
  },
  {
   "cell_type": "code",
   "execution_count": 33,
   "metadata": {},
   "outputs": [
    {
     "data": {
      "text/html": [
       "<div>\n",
       "<style scoped>\n",
       "    .dataframe tbody tr th:only-of-type {\n",
       "        vertical-align: middle;\n",
       "    }\n",
       "\n",
       "    .dataframe tbody tr th {\n",
       "        vertical-align: top;\n",
       "    }\n",
       "\n",
       "    .dataframe thead th {\n",
       "        text-align: right;\n",
       "    }\n",
       "</style>\n",
       "<table border=\"1\" class=\"dataframe\">\n",
       "  <thead>\n",
       "    <tr style=\"text-align: right;\">\n",
       "      <th></th>\n",
       "      <th>streetname</th>\n",
       "      <th>areaid</th>\n",
       "      <th>okrug</th>\n",
       "      <th>area</th>\n",
       "    </tr>\n",
       "  </thead>\n",
       "  <tbody>\n",
       "    <tr>\n",
       "      <th>0</th>\n",
       "      <td>Выставочный переулок</td>\n",
       "      <td>17</td>\n",
       "      <td>ЦАО</td>\n",
       "      <td>Пресненский район</td>\n",
       "    </tr>\n",
       "    <tr>\n",
       "      <th>1</th>\n",
       "      <td>улица Гашека</td>\n",
       "      <td>17</td>\n",
       "      <td>ЦАО</td>\n",
       "      <td>Пресненский район</td>\n",
       "    </tr>\n",
       "    <tr>\n",
       "      <th>2</th>\n",
       "      <td>Большая Никитская улица</td>\n",
       "      <td>17</td>\n",
       "      <td>ЦАО</td>\n",
       "      <td>Пресненский район</td>\n",
       "    </tr>\n",
       "    <tr>\n",
       "      <th>3</th>\n",
       "      <td>Глубокий переулок</td>\n",
       "      <td>17</td>\n",
       "      <td>ЦАО</td>\n",
       "      <td>Пресненский район</td>\n",
       "    </tr>\n",
       "    <tr>\n",
       "      <th>4</th>\n",
       "      <td>Большой Гнездниковский переулок</td>\n",
       "      <td>17</td>\n",
       "      <td>ЦАО</td>\n",
       "      <td>Пресненский район</td>\n",
       "    </tr>\n",
       "    <tr>\n",
       "      <th>...</th>\n",
       "      <td>...</td>\n",
       "      <td>...</td>\n",
       "      <td>...</td>\n",
       "      <td>...</td>\n",
       "    </tr>\n",
       "    <tr>\n",
       "      <th>4393</th>\n",
       "      <td>Вознесенский проезд</td>\n",
       "      <td>17</td>\n",
       "      <td>ЦАО</td>\n",
       "      <td>Пресненский район</td>\n",
       "    </tr>\n",
       "    <tr>\n",
       "      <th>4394</th>\n",
       "      <td>Волков переулок</td>\n",
       "      <td>17</td>\n",
       "      <td>ЦАО</td>\n",
       "      <td>Пресненский район</td>\n",
       "    </tr>\n",
       "    <tr>\n",
       "      <th>4395</th>\n",
       "      <td>Поварская улица</td>\n",
       "      <td>17</td>\n",
       "      <td>ЦАО</td>\n",
       "      <td>Пресненский район</td>\n",
       "    </tr>\n",
       "    <tr>\n",
       "      <th>4396</th>\n",
       "      <td>Кудринская площадь</td>\n",
       "      <td>17</td>\n",
       "      <td>ЦАО</td>\n",
       "      <td>Пресненский район</td>\n",
       "    </tr>\n",
       "    <tr>\n",
       "      <th>4397</th>\n",
       "      <td>Вспольный переулок</td>\n",
       "      <td>17</td>\n",
       "      <td>ЦАО</td>\n",
       "      <td>Пресненский район</td>\n",
       "    </tr>\n",
       "  </tbody>\n",
       "</table>\n",
       "<p>4398 rows × 4 columns</p>\n",
       "</div>"
      ],
      "text/plain": [
       "                           streetname  areaid okrug               area\n",
       "0                Выставочный переулок      17   ЦАО  Пресненский район\n",
       "1                        улица Гашека      17   ЦАО  Пресненский район\n",
       "2             Большая Никитская улица      17   ЦАО  Пресненский район\n",
       "3                   Глубокий переулок      17   ЦАО  Пресненский район\n",
       "4     Большой Гнездниковский переулок      17   ЦАО  Пресненский район\n",
       "...                               ...     ...   ...                ...\n",
       "4393              Вознесенский проезд      17   ЦАО  Пресненский район\n",
       "4394                  Волков переулок      17   ЦАО  Пресненский район\n",
       "4395                  Поварская улица      17   ЦАО  Пресненский район\n",
       "4396               Кудринская площадь      17   ЦАО  Пресненский район\n",
       "4397               Вспольный переулок      17   ЦАО  Пресненский район\n",
       "\n",
       "[4398 rows x 4 columns]"
      ]
     },
     "execution_count": 33,
     "metadata": {},
     "output_type": "execute_result"
    }
   ],
   "source": [
    "# загрузка файла из google-диска\n",
    "spreadsheet_id = '1jxl5CF-KbPiS9VIBaxopGRVu2P7Qx5F6vtkYAisP1Go'\n",
    "file_name = 'https://docs.google.com/spreadsheets/d/{}/export?format=csv'.format(spreadsheet_id)\n",
    "r = requests.get(file_name)\n",
    "data = pd.read_csv(io.BytesIO(r.content))\n",
    "data"
   ]
  },
  {
   "cell_type": "markdown",
   "metadata": {},
   "source": [
    "Если что-то не работает, то вот ссылка на csv-файл на диске: <a href =\"https://drive.google.com/file/d/13P-REulP_HT0mNOvttHpaHFdGn73EPIZ/view?usp=sharing\">csv</a> \n",
    "\n",
    "Ниже приведен код для его загрузки в проект"
   ]
  },
  {
   "cell_type": "code",
   "execution_count": 34,
   "metadata": {},
   "outputs": [],
   "source": [
    "# код для альтернативной загрузки данных в проект\n",
    "#filepath = \"mos.csv\"\n",
    "#data = pd.read_csv(filepath)\n",
    "#data"
   ]
  },
  {
   "cell_type": "markdown",
   "metadata": {},
   "source": [
    "В таблице `data`:\n",
    "\n",
    "* index — идентификатор строки;\n",
    "* streetname - название улицы;\n",
    "* areaid - идентификатор района;\n",
    "* okrug - название административного округа;\n",
    "* area - название района.\n",
    "\n",
    "Выведим топ-10 улиц с указанием района и отсортируем данные по улице, а затем по району"
   ]
  },
  {
   "cell_type": "code",
   "execution_count": 35,
   "metadata": {
    "scrolled": true
   },
   "outputs": [
    {
     "data": {
      "text/html": [
       "<div>\n",
       "<style scoped>\n",
       "    .dataframe tbody tr th:only-of-type {\n",
       "        vertical-align: middle;\n",
       "    }\n",
       "\n",
       "    .dataframe tbody tr th {\n",
       "        vertical-align: top;\n",
       "    }\n",
       "\n",
       "    .dataframe thead th {\n",
       "        text-align: right;\n",
       "    }\n",
       "</style>\n",
       "<table border=\"1\" class=\"dataframe\">\n",
       "  <thead>\n",
       "    <tr style=\"text-align: right;\">\n",
       "      <th></th>\n",
       "      <th>index</th>\n",
       "      <th>streetname</th>\n",
       "      <th>areaid</th>\n",
       "      <th>okrug</th>\n",
       "      <th>area</th>\n",
       "    </tr>\n",
       "  </thead>\n",
       "  <tbody>\n",
       "    <tr>\n",
       "      <th>0</th>\n",
       "      <td>3241</td>\n",
       "      <td>Варшавское шоссе</td>\n",
       "      <td>99</td>\n",
       "      <td>ЮАО</td>\n",
       "      <td>Донской район</td>\n",
       "    </tr>\n",
       "    <tr>\n",
       "      <th>1</th>\n",
       "      <td>4065</td>\n",
       "      <td>Варшавское шоссе</td>\n",
       "      <td>133</td>\n",
       "      <td>ЮЗАО</td>\n",
       "      <td>Район Южное Бутово</td>\n",
       "    </tr>\n",
       "    <tr>\n",
       "      <th>2</th>\n",
       "      <td>3125</td>\n",
       "      <td>Варшавское шоссе</td>\n",
       "      <td>110</td>\n",
       "      <td>ЮАО</td>\n",
       "      <td>Район Чертаново Южное</td>\n",
       "    </tr>\n",
       "    <tr>\n",
       "      <th>3</th>\n",
       "      <td>3999</td>\n",
       "      <td>Варшавское шоссе</td>\n",
       "      <td>130</td>\n",
       "      <td>ЮЗАО</td>\n",
       "      <td>Район Северное Бутово</td>\n",
       "    </tr>\n",
       "    <tr>\n",
       "      <th>4</th>\n",
       "      <td>3117</td>\n",
       "      <td>Варшавское шоссе</td>\n",
       "      <td>108</td>\n",
       "      <td>ЮАО</td>\n",
       "      <td>Район Чертаново Северное</td>\n",
       "    </tr>\n",
       "    <tr>\n",
       "      <th>5</th>\n",
       "      <td>3105</td>\n",
       "      <td>Варшавское шоссе</td>\n",
       "      <td>109</td>\n",
       "      <td>ЮАО</td>\n",
       "      <td>Район Чертаново Центральное</td>\n",
       "    </tr>\n",
       "    <tr>\n",
       "      <th>6</th>\n",
       "      <td>3349</td>\n",
       "      <td>Варшавское шоссе</td>\n",
       "      <td>104</td>\n",
       "      <td>ЮАО</td>\n",
       "      <td>Нагорный район</td>\n",
       "    </tr>\n",
       "    <tr>\n",
       "      <th>7</th>\n",
       "      <td>3305</td>\n",
       "      <td>Варшавское шоссе</td>\n",
       "      <td>102</td>\n",
       "      <td>ЮАО</td>\n",
       "      <td>Район Нагатино-Садовники</td>\n",
       "    </tr>\n",
       "    <tr>\n",
       "      <th>8</th>\n",
       "      <td>3308</td>\n",
       "      <td>Каширское шоссе</td>\n",
       "      <td>102</td>\n",
       "      <td>ЮАО</td>\n",
       "      <td>Район Нагатино-Садовники</td>\n",
       "    </tr>\n",
       "    <tr>\n",
       "      <th>9</th>\n",
       "      <td>3292</td>\n",
       "      <td>Каширское шоссе</td>\n",
       "      <td>101</td>\n",
       "      <td>ЮАО</td>\n",
       "      <td>Район Москворечье-Сабурово</td>\n",
       "    </tr>\n",
       "    <tr>\n",
       "      <th>10</th>\n",
       "      <td>3369</td>\n",
       "      <td>Каширское шоссе</td>\n",
       "      <td>106</td>\n",
       "      <td>ЮАО</td>\n",
       "      <td>Район Орехово-Борисово Южное</td>\n",
       "    </tr>\n",
       "    <tr>\n",
       "      <th>11</th>\n",
       "      <td>3392</td>\n",
       "      <td>Каширское шоссе</td>\n",
       "      <td>105</td>\n",
       "      <td>ЮАО</td>\n",
       "      <td>Район Орехово-Борисово Северное</td>\n",
       "    </tr>\n",
       "    <tr>\n",
       "      <th>12</th>\n",
       "      <td>3120</td>\n",
       "      <td>Кировоградская улица</td>\n",
       "      <td>108</td>\n",
       "      <td>ЮАО</td>\n",
       "      <td>Район Чертаново Северное</td>\n",
       "    </tr>\n",
       "    <tr>\n",
       "      <th>13</th>\n",
       "      <td>3111</td>\n",
       "      <td>Кировоградская улица</td>\n",
       "      <td>109</td>\n",
       "      <td>ЮАО</td>\n",
       "      <td>Район Чертаново Центральное</td>\n",
       "    </tr>\n",
       "    <tr>\n",
       "      <th>14</th>\n",
       "      <td>3131</td>\n",
       "      <td>Кировоградская улица</td>\n",
       "      <td>110</td>\n",
       "      <td>ЮАО</td>\n",
       "      <td>Район Чертаново Южное</td>\n",
       "    </tr>\n",
       "    <tr>\n",
       "      <th>15</th>\n",
       "      <td>1280</td>\n",
       "      <td>Кутузовский проспект</td>\n",
       "      <td>49</td>\n",
       "      <td>ЗАО</td>\n",
       "      <td>Район Фили-Давыдково</td>\n",
       "    </tr>\n",
       "    <tr>\n",
       "      <th>16</th>\n",
       "      <td>1208</td>\n",
       "      <td>Кутузовский проспект</td>\n",
       "      <td>38</td>\n",
       "      <td>ЗАО</td>\n",
       "      <td>Район Дорогомилово</td>\n",
       "    </tr>\n",
       "    <tr>\n",
       "      <th>17</th>\n",
       "      <td>2150</td>\n",
       "      <td>Ленинградский проспект</td>\n",
       "      <td>66</td>\n",
       "      <td>САО</td>\n",
       "      <td>Район Сокол</td>\n",
       "    </tr>\n",
       "    <tr>\n",
       "      <th>18</th>\n",
       "      <td>1992</td>\n",
       "      <td>Ленинградский проспект</td>\n",
       "      <td>69</td>\n",
       "      <td>САО</td>\n",
       "      <td>Хорошевский район</td>\n",
       "    </tr>\n",
       "    <tr>\n",
       "      <th>19</th>\n",
       "      <td>1896</td>\n",
       "      <td>Ленинградский проспект</td>\n",
       "      <td>55</td>\n",
       "      <td>САО</td>\n",
       "      <td>Район Беговой</td>\n",
       "    </tr>\n",
       "    <tr>\n",
       "      <th>20</th>\n",
       "      <td>1857</td>\n",
       "      <td>Ленинградский проспект</td>\n",
       "      <td>54</td>\n",
       "      <td>САО</td>\n",
       "      <td>Район Аэропорт</td>\n",
       "    </tr>\n",
       "    <tr>\n",
       "      <th>21</th>\n",
       "      <td>3986</td>\n",
       "      <td>Ленинский проспект</td>\n",
       "      <td>129</td>\n",
       "      <td>ЮЗАО</td>\n",
       "      <td>Обручевский район</td>\n",
       "    </tr>\n",
       "    <tr>\n",
       "      <th>22</th>\n",
       "      <td>1602</td>\n",
       "      <td>Ленинский проспект</td>\n",
       "      <td>47</td>\n",
       "      <td>ЗАО</td>\n",
       "      <td>Район Тропарево-Никулино</td>\n",
       "    </tr>\n",
       "    <tr>\n",
       "      <th>23</th>\n",
       "      <td>4021</td>\n",
       "      <td>Ленинский проспект</td>\n",
       "      <td>131</td>\n",
       "      <td>ЮЗАО</td>\n",
       "      <td>Район Теплый Стан</td>\n",
       "    </tr>\n",
       "    <tr>\n",
       "      <th>24</th>\n",
       "      <td>1504</td>\n",
       "      <td>Ленинский проспект</td>\n",
       "      <td>44</td>\n",
       "      <td>ЗАО</td>\n",
       "      <td>Район Проспект Вернадского</td>\n",
       "    </tr>\n",
       "    <tr>\n",
       "      <th>25</th>\n",
       "      <td>4163</td>\n",
       "      <td>Ленинский проспект</td>\n",
       "      <td>21</td>\n",
       "      <td>ЦАО</td>\n",
       "      <td>Район Якиманка</td>\n",
       "    </tr>\n",
       "    <tr>\n",
       "      <th>26</th>\n",
       "      <td>3260</td>\n",
       "      <td>Ленинский проспект</td>\n",
       "      <td>99</td>\n",
       "      <td>ЮАО</td>\n",
       "      <td>Донской район</td>\n",
       "    </tr>\n",
       "    <tr>\n",
       "      <th>27</th>\n",
       "      <td>3973</td>\n",
       "      <td>Ленинский проспект</td>\n",
       "      <td>128</td>\n",
       "      <td>ЮЗАО</td>\n",
       "      <td>Ломоносовский район</td>\n",
       "    </tr>\n",
       "    <tr>\n",
       "      <th>28</th>\n",
       "      <td>3886</td>\n",
       "      <td>Ленинский проспект</td>\n",
       "      <td>124</td>\n",
       "      <td>ЮЗАО</td>\n",
       "      <td>Район Гагаринский</td>\n",
       "    </tr>\n",
       "    <tr>\n",
       "      <th>29</th>\n",
       "      <td>72</td>\n",
       "      <td>Пресненская набережная</td>\n",
       "      <td>17</td>\n",
       "      <td>ЦАО</td>\n",
       "      <td>Пресненский район</td>\n",
       "    </tr>\n",
       "    <tr>\n",
       "      <th>30</th>\n",
       "      <td>3845</td>\n",
       "      <td>Профсоюзная улица</td>\n",
       "      <td>123</td>\n",
       "      <td>ЮЗАО</td>\n",
       "      <td>Академический район</td>\n",
       "    </tr>\n",
       "    <tr>\n",
       "      <th>31</th>\n",
       "      <td>3867</td>\n",
       "      <td>Профсоюзная улица</td>\n",
       "      <td>132</td>\n",
       "      <td>ЮЗАО</td>\n",
       "      <td>Район Черемушки</td>\n",
       "    </tr>\n",
       "    <tr>\n",
       "      <th>32</th>\n",
       "      <td>4024</td>\n",
       "      <td>Профсоюзная улица</td>\n",
       "      <td>131</td>\n",
       "      <td>ЮЗАО</td>\n",
       "      <td>Район Теплый Стан</td>\n",
       "    </tr>\n",
       "    <tr>\n",
       "      <th>33</th>\n",
       "      <td>3916</td>\n",
       "      <td>Профсоюзная улица</td>\n",
       "      <td>134</td>\n",
       "      <td>ЮЗАО</td>\n",
       "      <td>Район Ясенево</td>\n",
       "    </tr>\n",
       "    <tr>\n",
       "      <th>34</th>\n",
       "      <td>3948</td>\n",
       "      <td>Профсоюзная улица</td>\n",
       "      <td>126</td>\n",
       "      <td>ЮЗАО</td>\n",
       "      <td>Район Коньково</td>\n",
       "    </tr>\n",
       "    <tr>\n",
       "      <th>35</th>\n",
       "      <td>3996</td>\n",
       "      <td>Профсоюзная улица</td>\n",
       "      <td>129</td>\n",
       "      <td>ЮЗАО</td>\n",
       "      <td>Обручевский район</td>\n",
       "    </tr>\n",
       "    <tr>\n",
       "      <th>36</th>\n",
       "      <td>3967</td>\n",
       "      <td>проспект Вернадского</td>\n",
       "      <td>128</td>\n",
       "      <td>ЮЗАО</td>\n",
       "      <td>Ломоносовский район</td>\n",
       "    </tr>\n",
       "    <tr>\n",
       "      <th>37</th>\n",
       "      <td>1501</td>\n",
       "      <td>проспект Вернадского</td>\n",
       "      <td>44</td>\n",
       "      <td>ЗАО</td>\n",
       "      <td>Район Проспект Вернадского</td>\n",
       "    </tr>\n",
       "    <tr>\n",
       "      <th>38</th>\n",
       "      <td>3878</td>\n",
       "      <td>проспект Вернадского</td>\n",
       "      <td>124</td>\n",
       "      <td>ЮЗАО</td>\n",
       "      <td>Район Гагаринский</td>\n",
       "    </tr>\n",
       "    <tr>\n",
       "      <th>39</th>\n",
       "      <td>1510</td>\n",
       "      <td>проспект Вернадского</td>\n",
       "      <td>45</td>\n",
       "      <td>ЗАО</td>\n",
       "      <td>Район Раменки</td>\n",
       "    </tr>\n",
       "    <tr>\n",
       "      <th>40</th>\n",
       "      <td>1598</td>\n",
       "      <td>проспект Вернадского</td>\n",
       "      <td>47</td>\n",
       "      <td>ЗАО</td>\n",
       "      <td>Район Тропарево-Никулино</td>\n",
       "    </tr>\n",
       "    <tr>\n",
       "      <th>41</th>\n",
       "      <td>2644</td>\n",
       "      <td>проспект Мира</td>\n",
       "      <td>81</td>\n",
       "      <td>СВАО</td>\n",
       "      <td>Район Ростокино</td>\n",
       "    </tr>\n",
       "    <tr>\n",
       "      <th>42</th>\n",
       "      <td>2390</td>\n",
       "      <td>проспект Мира</td>\n",
       "      <td>86</td>\n",
       "      <td>СВАО</td>\n",
       "      <td>Ярославский Район</td>\n",
       "    </tr>\n",
       "    <tr>\n",
       "      <th>43</th>\n",
       "      <td>2712</td>\n",
       "      <td>проспект Мира</td>\n",
       "      <td>82</td>\n",
       "      <td>СВАО</td>\n",
       "      <td>Район Свиблово</td>\n",
       "    </tr>\n",
       "    <tr>\n",
       "      <th>44</th>\n",
       "      <td>2531</td>\n",
       "      <td>проспект Мира</td>\n",
       "      <td>78</td>\n",
       "      <td>СВАО</td>\n",
       "      <td>Район Марьина роща</td>\n",
       "    </tr>\n",
       "    <tr>\n",
       "      <th>45</th>\n",
       "      <td>2578</td>\n",
       "      <td>проспект Мира</td>\n",
       "      <td>79</td>\n",
       "      <td>СВАО</td>\n",
       "      <td>Останкинский район</td>\n",
       "    </tr>\n",
       "    <tr>\n",
       "      <th>46</th>\n",
       "      <td>2293</td>\n",
       "      <td>проспект Мира</td>\n",
       "      <td>70</td>\n",
       "      <td>СВАО</td>\n",
       "      <td>Алексеевский район</td>\n",
       "    </tr>\n",
       "    <tr>\n",
       "      <th>47</th>\n",
       "      <td>4334</td>\n",
       "      <td>проспект Мира</td>\n",
       "      <td>16</td>\n",
       "      <td>ЦАО</td>\n",
       "      <td>Мещанский район</td>\n",
       "    </tr>\n",
       "  </tbody>\n",
       "</table>\n",
       "</div>"
      ],
      "text/plain": [
       "    index              streetname  areaid okrug  \\\n",
       "0    3241        Варшавское шоссе      99   ЮАО   \n",
       "1    4065        Варшавское шоссе     133  ЮЗАО   \n",
       "2    3125        Варшавское шоссе     110   ЮАО   \n",
       "3    3999        Варшавское шоссе     130  ЮЗАО   \n",
       "4    3117        Варшавское шоссе     108   ЮАО   \n",
       "5    3105        Варшавское шоссе     109   ЮАО   \n",
       "6    3349        Варшавское шоссе     104   ЮАО   \n",
       "7    3305        Варшавское шоссе     102   ЮАО   \n",
       "8    3308         Каширское шоссе     102   ЮАО   \n",
       "9    3292         Каширское шоссе     101   ЮАО   \n",
       "10   3369         Каширское шоссе     106   ЮАО   \n",
       "11   3392         Каширское шоссе     105   ЮАО   \n",
       "12   3120    Кировоградская улица     108   ЮАО   \n",
       "13   3111    Кировоградская улица     109   ЮАО   \n",
       "14   3131    Кировоградская улица     110   ЮАО   \n",
       "15   1280    Кутузовский проспект      49   ЗАО   \n",
       "16   1208    Кутузовский проспект      38   ЗАО   \n",
       "17   2150  Ленинградский проспект      66   САО   \n",
       "18   1992  Ленинградский проспект      69   САО   \n",
       "19   1896  Ленинградский проспект      55   САО   \n",
       "20   1857  Ленинградский проспект      54   САО   \n",
       "21   3986      Ленинский проспект     129  ЮЗАО   \n",
       "22   1602      Ленинский проспект      47   ЗАО   \n",
       "23   4021      Ленинский проспект     131  ЮЗАО   \n",
       "24   1504      Ленинский проспект      44   ЗАО   \n",
       "25   4163      Ленинский проспект      21   ЦАО   \n",
       "26   3260      Ленинский проспект      99   ЮАО   \n",
       "27   3973      Ленинский проспект     128  ЮЗАО   \n",
       "28   3886      Ленинский проспект     124  ЮЗАО   \n",
       "29     72  Пресненская набережная      17   ЦАО   \n",
       "30   3845       Профсоюзная улица     123  ЮЗАО   \n",
       "31   3867       Профсоюзная улица     132  ЮЗАО   \n",
       "32   4024       Профсоюзная улица     131  ЮЗАО   \n",
       "33   3916       Профсоюзная улица     134  ЮЗАО   \n",
       "34   3948       Профсоюзная улица     126  ЮЗАО   \n",
       "35   3996       Профсоюзная улица     129  ЮЗАО   \n",
       "36   3967    проспект Вернадского     128  ЮЗАО   \n",
       "37   1501    проспект Вернадского      44   ЗАО   \n",
       "38   3878    проспект Вернадского     124  ЮЗАО   \n",
       "39   1510    проспект Вернадского      45   ЗАО   \n",
       "40   1598    проспект Вернадского      47   ЗАО   \n",
       "41   2644           проспект Мира      81  СВАО   \n",
       "42   2390           проспект Мира      86  СВАО   \n",
       "43   2712           проспект Мира      82  СВАО   \n",
       "44   2531           проспект Мира      78  СВАО   \n",
       "45   2578           проспект Мира      79  СВАО   \n",
       "46   2293           проспект Мира      70  СВАО   \n",
       "47   4334           проспект Мира      16   ЦАО   \n",
       "\n",
       "                               area  \n",
       "0                     Донской район  \n",
       "1                Район Южное Бутово  \n",
       "2             Район Чертаново Южное  \n",
       "3             Район Северное Бутово  \n",
       "4          Район Чертаново Северное  \n",
       "5       Район Чертаново Центральное  \n",
       "6                    Нагорный район  \n",
       "7          Район Нагатино-Садовники  \n",
       "8          Район Нагатино-Садовники  \n",
       "9        Район Москворечье-Сабурово  \n",
       "10     Район Орехово-Борисово Южное  \n",
       "11  Район Орехово-Борисово Северное  \n",
       "12         Район Чертаново Северное  \n",
       "13      Район Чертаново Центральное  \n",
       "14            Район Чертаново Южное  \n",
       "15             Район Фили-Давыдково  \n",
       "16               Район Дорогомилово  \n",
       "17                      Район Сокол  \n",
       "18                Хорошевский район  \n",
       "19                    Район Беговой  \n",
       "20                   Район Аэропорт  \n",
       "21                Обручевский район  \n",
       "22         Район Тропарево-Никулино  \n",
       "23                Район Теплый Стан  \n",
       "24       Район Проспект Вернадского  \n",
       "25                   Район Якиманка  \n",
       "26                    Донской район  \n",
       "27              Ломоносовский район  \n",
       "28                Район Гагаринский  \n",
       "29                Пресненский район  \n",
       "30              Академический район  \n",
       "31                  Район Черемушки  \n",
       "32                Район Теплый Стан  \n",
       "33                    Район Ясенево  \n",
       "34                   Район Коньково  \n",
       "35                Обручевский район  \n",
       "36              Ломоносовский район  \n",
       "37       Район Проспект Вернадского  \n",
       "38                Район Гагаринский  \n",
       "39                    Район Раменки  \n",
       "40         Район Тропарево-Никулино  \n",
       "41                  Район Ростокино  \n",
       "42                Ярославский Район  \n",
       "43                   Район Свиблово  \n",
       "44               Район Марьина роща  \n",
       "45               Останкинский район  \n",
       "46               Алексеевский район  \n",
       "47                  Мещанский район  "
      ]
     },
     "execution_count": 35,
     "metadata": {},
     "output_type": "execute_result"
    }
   ],
   "source": [
    "rest_data_top_10 = data[data['streetname'].isin(rest_data_top.index)] # срез строк \n",
    "rest_data_top_10.sort_values(by='streetname').reset_index()"
   ]
  },
  {
   "cell_type": "code",
   "execution_count": 36,
   "metadata": {
    "scrolled": true
   },
   "outputs": [
    {
     "data": {
      "text/html": [
       "<div>\n",
       "<style scoped>\n",
       "    .dataframe tbody tr th:only-of-type {\n",
       "        vertical-align: middle;\n",
       "    }\n",
       "\n",
       "    .dataframe tbody tr th {\n",
       "        vertical-align: top;\n",
       "    }\n",
       "\n",
       "    .dataframe thead th {\n",
       "        text-align: right;\n",
       "    }\n",
       "</style>\n",
       "<table border=\"1\" class=\"dataframe\">\n",
       "  <thead>\n",
       "    <tr style=\"text-align: right;\">\n",
       "      <th></th>\n",
       "      <th>index</th>\n",
       "      <th>streetname</th>\n",
       "      <th>areaid</th>\n",
       "      <th>okrug</th>\n",
       "      <th>area</th>\n",
       "    </tr>\n",
       "  </thead>\n",
       "  <tbody>\n",
       "    <tr>\n",
       "      <th>0</th>\n",
       "      <td>3845</td>\n",
       "      <td>Профсоюзная улица</td>\n",
       "      <td>123</td>\n",
       "      <td>ЮЗАО</td>\n",
       "      <td>Академический район</td>\n",
       "    </tr>\n",
       "    <tr>\n",
       "      <th>1</th>\n",
       "      <td>2293</td>\n",
       "      <td>проспект Мира</td>\n",
       "      <td>70</td>\n",
       "      <td>СВАО</td>\n",
       "      <td>Алексеевский район</td>\n",
       "    </tr>\n",
       "    <tr>\n",
       "      <th>2</th>\n",
       "      <td>3260</td>\n",
       "      <td>Ленинский проспект</td>\n",
       "      <td>99</td>\n",
       "      <td>ЮАО</td>\n",
       "      <td>Донской район</td>\n",
       "    </tr>\n",
       "    <tr>\n",
       "      <th>3</th>\n",
       "      <td>3241</td>\n",
       "      <td>Варшавское шоссе</td>\n",
       "      <td>99</td>\n",
       "      <td>ЮАО</td>\n",
       "      <td>Донской район</td>\n",
       "    </tr>\n",
       "    <tr>\n",
       "      <th>4</th>\n",
       "      <td>3973</td>\n",
       "      <td>Ленинский проспект</td>\n",
       "      <td>128</td>\n",
       "      <td>ЮЗАО</td>\n",
       "      <td>Ломоносовский район</td>\n",
       "    </tr>\n",
       "    <tr>\n",
       "      <th>5</th>\n",
       "      <td>3967</td>\n",
       "      <td>проспект Вернадского</td>\n",
       "      <td>128</td>\n",
       "      <td>ЮЗАО</td>\n",
       "      <td>Ломоносовский район</td>\n",
       "    </tr>\n",
       "    <tr>\n",
       "      <th>6</th>\n",
       "      <td>4334</td>\n",
       "      <td>проспект Мира</td>\n",
       "      <td>16</td>\n",
       "      <td>ЦАО</td>\n",
       "      <td>Мещанский район</td>\n",
       "    </tr>\n",
       "    <tr>\n",
       "      <th>7</th>\n",
       "      <td>3349</td>\n",
       "      <td>Варшавское шоссе</td>\n",
       "      <td>104</td>\n",
       "      <td>ЮАО</td>\n",
       "      <td>Нагорный район</td>\n",
       "    </tr>\n",
       "    <tr>\n",
       "      <th>8</th>\n",
       "      <td>3996</td>\n",
       "      <td>Профсоюзная улица</td>\n",
       "      <td>129</td>\n",
       "      <td>ЮЗАО</td>\n",
       "      <td>Обручевский район</td>\n",
       "    </tr>\n",
       "    <tr>\n",
       "      <th>9</th>\n",
       "      <td>3986</td>\n",
       "      <td>Ленинский проспект</td>\n",
       "      <td>129</td>\n",
       "      <td>ЮЗАО</td>\n",
       "      <td>Обручевский район</td>\n",
       "    </tr>\n",
       "    <tr>\n",
       "      <th>10</th>\n",
       "      <td>2578</td>\n",
       "      <td>проспект Мира</td>\n",
       "      <td>79</td>\n",
       "      <td>СВАО</td>\n",
       "      <td>Останкинский район</td>\n",
       "    </tr>\n",
       "    <tr>\n",
       "      <th>11</th>\n",
       "      <td>72</td>\n",
       "      <td>Пресненская набережная</td>\n",
       "      <td>17</td>\n",
       "      <td>ЦАО</td>\n",
       "      <td>Пресненский район</td>\n",
       "    </tr>\n",
       "    <tr>\n",
       "      <th>12</th>\n",
       "      <td>1857</td>\n",
       "      <td>Ленинградский проспект</td>\n",
       "      <td>54</td>\n",
       "      <td>САО</td>\n",
       "      <td>Район Аэропорт</td>\n",
       "    </tr>\n",
       "    <tr>\n",
       "      <th>13</th>\n",
       "      <td>1896</td>\n",
       "      <td>Ленинградский проспект</td>\n",
       "      <td>55</td>\n",
       "      <td>САО</td>\n",
       "      <td>Район Беговой</td>\n",
       "    </tr>\n",
       "    <tr>\n",
       "      <th>14</th>\n",
       "      <td>3886</td>\n",
       "      <td>Ленинский проспект</td>\n",
       "      <td>124</td>\n",
       "      <td>ЮЗАО</td>\n",
       "      <td>Район Гагаринский</td>\n",
       "    </tr>\n",
       "    <tr>\n",
       "      <th>15</th>\n",
       "      <td>3878</td>\n",
       "      <td>проспект Вернадского</td>\n",
       "      <td>124</td>\n",
       "      <td>ЮЗАО</td>\n",
       "      <td>Район Гагаринский</td>\n",
       "    </tr>\n",
       "    <tr>\n",
       "      <th>16</th>\n",
       "      <td>1208</td>\n",
       "      <td>Кутузовский проспект</td>\n",
       "      <td>38</td>\n",
       "      <td>ЗАО</td>\n",
       "      <td>Район Дорогомилово</td>\n",
       "    </tr>\n",
       "    <tr>\n",
       "      <th>17</th>\n",
       "      <td>3948</td>\n",
       "      <td>Профсоюзная улица</td>\n",
       "      <td>126</td>\n",
       "      <td>ЮЗАО</td>\n",
       "      <td>Район Коньково</td>\n",
       "    </tr>\n",
       "    <tr>\n",
       "      <th>18</th>\n",
       "      <td>2531</td>\n",
       "      <td>проспект Мира</td>\n",
       "      <td>78</td>\n",
       "      <td>СВАО</td>\n",
       "      <td>Район Марьина роща</td>\n",
       "    </tr>\n",
       "    <tr>\n",
       "      <th>19</th>\n",
       "      <td>3292</td>\n",
       "      <td>Каширское шоссе</td>\n",
       "      <td>101</td>\n",
       "      <td>ЮАО</td>\n",
       "      <td>Район Москворечье-Сабурово</td>\n",
       "    </tr>\n",
       "    <tr>\n",
       "      <th>20</th>\n",
       "      <td>3308</td>\n",
       "      <td>Каширское шоссе</td>\n",
       "      <td>102</td>\n",
       "      <td>ЮАО</td>\n",
       "      <td>Район Нагатино-Садовники</td>\n",
       "    </tr>\n",
       "    <tr>\n",
       "      <th>21</th>\n",
       "      <td>3305</td>\n",
       "      <td>Варшавское шоссе</td>\n",
       "      <td>102</td>\n",
       "      <td>ЮАО</td>\n",
       "      <td>Район Нагатино-Садовники</td>\n",
       "    </tr>\n",
       "    <tr>\n",
       "      <th>22</th>\n",
       "      <td>3392</td>\n",
       "      <td>Каширское шоссе</td>\n",
       "      <td>105</td>\n",
       "      <td>ЮАО</td>\n",
       "      <td>Район Орехово-Борисово Северное</td>\n",
       "    </tr>\n",
       "    <tr>\n",
       "      <th>23</th>\n",
       "      <td>3369</td>\n",
       "      <td>Каширское шоссе</td>\n",
       "      <td>106</td>\n",
       "      <td>ЮАО</td>\n",
       "      <td>Район Орехово-Борисово Южное</td>\n",
       "    </tr>\n",
       "    <tr>\n",
       "      <th>24</th>\n",
       "      <td>1504</td>\n",
       "      <td>Ленинский проспект</td>\n",
       "      <td>44</td>\n",
       "      <td>ЗАО</td>\n",
       "      <td>Район Проспект Вернадского</td>\n",
       "    </tr>\n",
       "    <tr>\n",
       "      <th>25</th>\n",
       "      <td>1501</td>\n",
       "      <td>проспект Вернадского</td>\n",
       "      <td>44</td>\n",
       "      <td>ЗАО</td>\n",
       "      <td>Район Проспект Вернадского</td>\n",
       "    </tr>\n",
       "    <tr>\n",
       "      <th>26</th>\n",
       "      <td>1510</td>\n",
       "      <td>проспект Вернадского</td>\n",
       "      <td>45</td>\n",
       "      <td>ЗАО</td>\n",
       "      <td>Район Раменки</td>\n",
       "    </tr>\n",
       "    <tr>\n",
       "      <th>27</th>\n",
       "      <td>2644</td>\n",
       "      <td>проспект Мира</td>\n",
       "      <td>81</td>\n",
       "      <td>СВАО</td>\n",
       "      <td>Район Ростокино</td>\n",
       "    </tr>\n",
       "    <tr>\n",
       "      <th>28</th>\n",
       "      <td>2712</td>\n",
       "      <td>проспект Мира</td>\n",
       "      <td>82</td>\n",
       "      <td>СВАО</td>\n",
       "      <td>Район Свиблово</td>\n",
       "    </tr>\n",
       "    <tr>\n",
       "      <th>29</th>\n",
       "      <td>3999</td>\n",
       "      <td>Варшавское шоссе</td>\n",
       "      <td>130</td>\n",
       "      <td>ЮЗАО</td>\n",
       "      <td>Район Северное Бутово</td>\n",
       "    </tr>\n",
       "    <tr>\n",
       "      <th>30</th>\n",
       "      <td>2150</td>\n",
       "      <td>Ленинградский проспект</td>\n",
       "      <td>66</td>\n",
       "      <td>САО</td>\n",
       "      <td>Район Сокол</td>\n",
       "    </tr>\n",
       "    <tr>\n",
       "      <th>31</th>\n",
       "      <td>4024</td>\n",
       "      <td>Профсоюзная улица</td>\n",
       "      <td>131</td>\n",
       "      <td>ЮЗАО</td>\n",
       "      <td>Район Теплый Стан</td>\n",
       "    </tr>\n",
       "    <tr>\n",
       "      <th>32</th>\n",
       "      <td>4021</td>\n",
       "      <td>Ленинский проспект</td>\n",
       "      <td>131</td>\n",
       "      <td>ЮЗАО</td>\n",
       "      <td>Район Теплый Стан</td>\n",
       "    </tr>\n",
       "    <tr>\n",
       "      <th>33</th>\n",
       "      <td>1598</td>\n",
       "      <td>проспект Вернадского</td>\n",
       "      <td>47</td>\n",
       "      <td>ЗАО</td>\n",
       "      <td>Район Тропарево-Никулино</td>\n",
       "    </tr>\n",
       "    <tr>\n",
       "      <th>34</th>\n",
       "      <td>1602</td>\n",
       "      <td>Ленинский проспект</td>\n",
       "      <td>47</td>\n",
       "      <td>ЗАО</td>\n",
       "      <td>Район Тропарево-Никулино</td>\n",
       "    </tr>\n",
       "    <tr>\n",
       "      <th>35</th>\n",
       "      <td>1280</td>\n",
       "      <td>Кутузовский проспект</td>\n",
       "      <td>49</td>\n",
       "      <td>ЗАО</td>\n",
       "      <td>Район Фили-Давыдково</td>\n",
       "    </tr>\n",
       "    <tr>\n",
       "      <th>36</th>\n",
       "      <td>3867</td>\n",
       "      <td>Профсоюзная улица</td>\n",
       "      <td>132</td>\n",
       "      <td>ЮЗАО</td>\n",
       "      <td>Район Черемушки</td>\n",
       "    </tr>\n",
       "    <tr>\n",
       "      <th>37</th>\n",
       "      <td>3120</td>\n",
       "      <td>Кировоградская улица</td>\n",
       "      <td>108</td>\n",
       "      <td>ЮАО</td>\n",
       "      <td>Район Чертаново Северное</td>\n",
       "    </tr>\n",
       "    <tr>\n",
       "      <th>38</th>\n",
       "      <td>3117</td>\n",
       "      <td>Варшавское шоссе</td>\n",
       "      <td>108</td>\n",
       "      <td>ЮАО</td>\n",
       "      <td>Район Чертаново Северное</td>\n",
       "    </tr>\n",
       "    <tr>\n",
       "      <th>39</th>\n",
       "      <td>3111</td>\n",
       "      <td>Кировоградская улица</td>\n",
       "      <td>109</td>\n",
       "      <td>ЮАО</td>\n",
       "      <td>Район Чертаново Центральное</td>\n",
       "    </tr>\n",
       "    <tr>\n",
       "      <th>40</th>\n",
       "      <td>3105</td>\n",
       "      <td>Варшавское шоссе</td>\n",
       "      <td>109</td>\n",
       "      <td>ЮАО</td>\n",
       "      <td>Район Чертаново Центральное</td>\n",
       "    </tr>\n",
       "    <tr>\n",
       "      <th>41</th>\n",
       "      <td>3131</td>\n",
       "      <td>Кировоградская улица</td>\n",
       "      <td>110</td>\n",
       "      <td>ЮАО</td>\n",
       "      <td>Район Чертаново Южное</td>\n",
       "    </tr>\n",
       "    <tr>\n",
       "      <th>42</th>\n",
       "      <td>3125</td>\n",
       "      <td>Варшавское шоссе</td>\n",
       "      <td>110</td>\n",
       "      <td>ЮАО</td>\n",
       "      <td>Район Чертаново Южное</td>\n",
       "    </tr>\n",
       "    <tr>\n",
       "      <th>43</th>\n",
       "      <td>4065</td>\n",
       "      <td>Варшавское шоссе</td>\n",
       "      <td>133</td>\n",
       "      <td>ЮЗАО</td>\n",
       "      <td>Район Южное Бутово</td>\n",
       "    </tr>\n",
       "    <tr>\n",
       "      <th>44</th>\n",
       "      <td>4163</td>\n",
       "      <td>Ленинский проспект</td>\n",
       "      <td>21</td>\n",
       "      <td>ЦАО</td>\n",
       "      <td>Район Якиманка</td>\n",
       "    </tr>\n",
       "    <tr>\n",
       "      <th>45</th>\n",
       "      <td>3916</td>\n",
       "      <td>Профсоюзная улица</td>\n",
       "      <td>134</td>\n",
       "      <td>ЮЗАО</td>\n",
       "      <td>Район Ясенево</td>\n",
       "    </tr>\n",
       "    <tr>\n",
       "      <th>46</th>\n",
       "      <td>1992</td>\n",
       "      <td>Ленинградский проспект</td>\n",
       "      <td>69</td>\n",
       "      <td>САО</td>\n",
       "      <td>Хорошевский район</td>\n",
       "    </tr>\n",
       "    <tr>\n",
       "      <th>47</th>\n",
       "      <td>2390</td>\n",
       "      <td>проспект Мира</td>\n",
       "      <td>86</td>\n",
       "      <td>СВАО</td>\n",
       "      <td>Ярославский Район</td>\n",
       "    </tr>\n",
       "  </tbody>\n",
       "</table>\n",
       "</div>"
      ],
      "text/plain": [
       "    index              streetname  areaid okrug  \\\n",
       "0    3845       Профсоюзная улица     123  ЮЗАО   \n",
       "1    2293           проспект Мира      70  СВАО   \n",
       "2    3260      Ленинский проспект      99   ЮАО   \n",
       "3    3241        Варшавское шоссе      99   ЮАО   \n",
       "4    3973      Ленинский проспект     128  ЮЗАО   \n",
       "5    3967    проспект Вернадского     128  ЮЗАО   \n",
       "6    4334           проспект Мира      16   ЦАО   \n",
       "7    3349        Варшавское шоссе     104   ЮАО   \n",
       "8    3996       Профсоюзная улица     129  ЮЗАО   \n",
       "9    3986      Ленинский проспект     129  ЮЗАО   \n",
       "10   2578           проспект Мира      79  СВАО   \n",
       "11     72  Пресненская набережная      17   ЦАО   \n",
       "12   1857  Ленинградский проспект      54   САО   \n",
       "13   1896  Ленинградский проспект      55   САО   \n",
       "14   3886      Ленинский проспект     124  ЮЗАО   \n",
       "15   3878    проспект Вернадского     124  ЮЗАО   \n",
       "16   1208    Кутузовский проспект      38   ЗАО   \n",
       "17   3948       Профсоюзная улица     126  ЮЗАО   \n",
       "18   2531           проспект Мира      78  СВАО   \n",
       "19   3292         Каширское шоссе     101   ЮАО   \n",
       "20   3308         Каширское шоссе     102   ЮАО   \n",
       "21   3305        Варшавское шоссе     102   ЮАО   \n",
       "22   3392         Каширское шоссе     105   ЮАО   \n",
       "23   3369         Каширское шоссе     106   ЮАО   \n",
       "24   1504      Ленинский проспект      44   ЗАО   \n",
       "25   1501    проспект Вернадского      44   ЗАО   \n",
       "26   1510    проспект Вернадского      45   ЗАО   \n",
       "27   2644           проспект Мира      81  СВАО   \n",
       "28   2712           проспект Мира      82  СВАО   \n",
       "29   3999        Варшавское шоссе     130  ЮЗАО   \n",
       "30   2150  Ленинградский проспект      66   САО   \n",
       "31   4024       Профсоюзная улица     131  ЮЗАО   \n",
       "32   4021      Ленинский проспект     131  ЮЗАО   \n",
       "33   1598    проспект Вернадского      47   ЗАО   \n",
       "34   1602      Ленинский проспект      47   ЗАО   \n",
       "35   1280    Кутузовский проспект      49   ЗАО   \n",
       "36   3867       Профсоюзная улица     132  ЮЗАО   \n",
       "37   3120    Кировоградская улица     108   ЮАО   \n",
       "38   3117        Варшавское шоссе     108   ЮАО   \n",
       "39   3111    Кировоградская улица     109   ЮАО   \n",
       "40   3105        Варшавское шоссе     109   ЮАО   \n",
       "41   3131    Кировоградская улица     110   ЮАО   \n",
       "42   3125        Варшавское шоссе     110   ЮАО   \n",
       "43   4065        Варшавское шоссе     133  ЮЗАО   \n",
       "44   4163      Ленинский проспект      21   ЦАО   \n",
       "45   3916       Профсоюзная улица     134  ЮЗАО   \n",
       "46   1992  Ленинградский проспект      69   САО   \n",
       "47   2390           проспект Мира      86  СВАО   \n",
       "\n",
       "                               area  \n",
       "0               Академический район  \n",
       "1                Алексеевский район  \n",
       "2                     Донской район  \n",
       "3                     Донской район  \n",
       "4               Ломоносовский район  \n",
       "5               Ломоносовский район  \n",
       "6                   Мещанский район  \n",
       "7                    Нагорный район  \n",
       "8                 Обручевский район  \n",
       "9                 Обручевский район  \n",
       "10               Останкинский район  \n",
       "11                Пресненский район  \n",
       "12                   Район Аэропорт  \n",
       "13                    Район Беговой  \n",
       "14                Район Гагаринский  \n",
       "15                Район Гагаринский  \n",
       "16               Район Дорогомилово  \n",
       "17                   Район Коньково  \n",
       "18               Район Марьина роща  \n",
       "19       Район Москворечье-Сабурово  \n",
       "20         Район Нагатино-Садовники  \n",
       "21         Район Нагатино-Садовники  \n",
       "22  Район Орехово-Борисово Северное  \n",
       "23     Район Орехово-Борисово Южное  \n",
       "24       Район Проспект Вернадского  \n",
       "25       Район Проспект Вернадского  \n",
       "26                    Район Раменки  \n",
       "27                  Район Ростокино  \n",
       "28                   Район Свиблово  \n",
       "29            Район Северное Бутово  \n",
       "30                      Район Сокол  \n",
       "31                Район Теплый Стан  \n",
       "32                Район Теплый Стан  \n",
       "33         Район Тропарево-Никулино  \n",
       "34         Район Тропарево-Никулино  \n",
       "35             Район Фили-Давыдково  \n",
       "36                  Район Черемушки  \n",
       "37         Район Чертаново Северное  \n",
       "38         Район Чертаново Северное  \n",
       "39      Район Чертаново Центральное  \n",
       "40      Район Чертаново Центральное  \n",
       "41            Район Чертаново Южное  \n",
       "42            Район Чертаново Южное  \n",
       "43               Район Южное Бутово  \n",
       "44                   Район Якиманка  \n",
       "45                    Район Ясенево  \n",
       "46                Хорошевский район  \n",
       "47                Ярославский Район  "
      ]
     },
     "execution_count": 36,
     "metadata": {},
     "output_type": "execute_result"
    }
   ],
   "source": [
    "rest_data_top_10.sort_values(by='area').reset_index()"
   ]
  },
  {
   "cell_type": "markdown",
   "metadata": {},
   "source": [
    "Оказалось, что одной улице могут соответствовать несколько райнов. Действительно, разные дома одной улицы могут располагаться в разных райнох Москвы. В нашем исследовании мы выбираем только улицы без учета номера дома.\n",
    "\n",
    "Посмотрим, по каким районам проходит наибольшее число улиц из топ-10"
   ]
  },
  {
   "cell_type": "code",
   "execution_count": 37,
   "metadata": {},
   "outputs": [
    {
     "name": "stdout",
     "output_type": "stream",
     "text": [
      "area\n",
      "Район Чертаново Центральное    2\n",
      "Донской район                  2\n",
      "Ломоносовский район            2\n",
      "Район Проспект Вернадского     2\n",
      "Обручевский район              2\n",
      "Район Теплый Стан              2\n",
      "Район Нагатино-Садовники       2\n",
      "Район Чертаново Южное          2\n",
      "Район Тропарево-Никулино       2\n",
      "Район Гагаринский              2\n",
      "Район Чертаново Северное       2\n",
      "Район Фили-Давыдково           1\n",
      "Район Сокол                    1\n",
      "Академический район            1\n",
      "Район Черемушки                1\n",
      "Район Свиблово                 1\n",
      "Район Южное Бутово             1\n",
      "Район Якиманка                 1\n",
      "Район Ясенево                  1\n",
      "Хорошевский район              1\n",
      "Name: area, dtype: int64\n"
     ]
    }
   ],
   "source": [
    "print(rest_data_top_10.groupby('area')['area'].count().sort_values(ascending=False).head(20))"
   ]
  },
  {
   "cell_type": "markdown",
   "metadata": {},
   "source": [
    "Больше двух улиц нет ни в одном районе, какие конкретно, можно увидеть из таблиц выше"
   ]
  },
  {
   "cell_type": "markdown",
   "metadata": {},
   "source": [
    "Найдем число улиц с одним объектом общественного питания. "
   ]
  },
  {
   "cell_type": "code",
   "execution_count": 38,
   "metadata": {},
   "outputs": [
    {
     "data": {
      "text/plain": [
       "548"
      ]
     },
     "execution_count": 38,
     "metadata": {},
     "output_type": "execute_result"
    }
   ],
   "source": [
    "rest_data_low = rest_data.groupby('street')['street'].count().sort_values(ascending=False)\n",
    "rest_data_low = rest_data_low[rest_data_low == 1]\n",
    "len(rest_data_low)"
   ]
  },
  {
   "cell_type": "markdown",
   "metadata": {},
   "source": [
    "Таких улиц 548\n",
    "\n",
    "Найдем, в каких районах они расположены и отсортируем данные по улице, а затем по району"
   ]
  },
  {
   "cell_type": "code",
   "execution_count": 39,
   "metadata": {},
   "outputs": [
    {
     "data": {
      "text/html": [
       "<div>\n",
       "<style scoped>\n",
       "    .dataframe tbody tr th:only-of-type {\n",
       "        vertical-align: middle;\n",
       "    }\n",
       "\n",
       "    .dataframe tbody tr th {\n",
       "        vertical-align: top;\n",
       "    }\n",
       "\n",
       "    .dataframe thead th {\n",
       "        text-align: right;\n",
       "    }\n",
       "</style>\n",
       "<table border=\"1\" class=\"dataframe\">\n",
       "  <thead>\n",
       "    <tr style=\"text-align: right;\">\n",
       "      <th></th>\n",
       "      <th>index</th>\n",
       "      <th>streetname</th>\n",
       "      <th>areaid</th>\n",
       "      <th>okrug</th>\n",
       "      <th>area</th>\n",
       "    </tr>\n",
       "  </thead>\n",
       "  <tbody>\n",
       "    <tr>\n",
       "      <th>0</th>\n",
       "      <td>1834</td>\n",
       "      <td>1-й Балтийский переулок</td>\n",
       "      <td>54</td>\n",
       "      <td>САО</td>\n",
       "      <td>Район Аэропорт</td>\n",
       "    </tr>\n",
       "    <tr>\n",
       "      <th>1</th>\n",
       "      <td>805</td>\n",
       "      <td>1-й Басманный переулок</td>\n",
       "      <td>13</td>\n",
       "      <td>ЦАО</td>\n",
       "      <td>Басманный район</td>\n",
       "    </tr>\n",
       "    <tr>\n",
       "      <th>2</th>\n",
       "      <td>4213</td>\n",
       "      <td>1-й Басманный переулок</td>\n",
       "      <td>15</td>\n",
       "      <td>ЦАО</td>\n",
       "      <td>Красносельский район</td>\n",
       "    </tr>\n",
       "    <tr>\n",
       "      <th>3</th>\n",
       "      <td>2702</td>\n",
       "      <td>1-й Ботанический проезд</td>\n",
       "      <td>82</td>\n",
       "      <td>СВАО</td>\n",
       "      <td>Район Свиблово</td>\n",
       "    </tr>\n",
       "    <tr>\n",
       "      <th>4</th>\n",
       "      <td>3722</td>\n",
       "      <td>1-й Вешняковский проезд</td>\n",
       "      <td>120</td>\n",
       "      <td>ЮВАО</td>\n",
       "      <td>Рязанский район</td>\n",
       "    </tr>\n",
       "    <tr>\n",
       "      <th>...</th>\n",
       "      <td>...</td>\n",
       "      <td>...</td>\n",
       "      <td>...</td>\n",
       "      <td>...</td>\n",
       "      <td>...</td>\n",
       "    </tr>\n",
       "    <tr>\n",
       "      <th>555</th>\n",
       "      <td>2764</td>\n",
       "      <td>улица Шеногина</td>\n",
       "      <td>92</td>\n",
       "      <td>СЗАО</td>\n",
       "      <td>Район Хорошево-Мневники</td>\n",
       "    </tr>\n",
       "    <tr>\n",
       "      <th>556</th>\n",
       "      <td>3481</td>\n",
       "      <td>улица Шумилова</td>\n",
       "      <td>113</td>\n",
       "      <td>ЮВАО</td>\n",
       "      <td>Район Кузьминки</td>\n",
       "    </tr>\n",
       "    <tr>\n",
       "      <th>557</th>\n",
       "      <td>1182</td>\n",
       "      <td>улица Шумкина</td>\n",
       "      <td>26</td>\n",
       "      <td>ВАО</td>\n",
       "      <td>Район Сокольники</td>\n",
       "    </tr>\n",
       "    <tr>\n",
       "      <th>558</th>\n",
       "      <td>1592</td>\n",
       "      <td>улица Щорса</td>\n",
       "      <td>46</td>\n",
       "      <td>ЗАО</td>\n",
       "      <td>Район Солнцево</td>\n",
       "    </tr>\n",
       "    <tr>\n",
       "      <th>559</th>\n",
       "      <td>3675</td>\n",
       "      <td>шоссе Фрезер</td>\n",
       "      <td>117</td>\n",
       "      <td>ЮВАО</td>\n",
       "      <td>Нижегородский район</td>\n",
       "    </tr>\n",
       "  </tbody>\n",
       "</table>\n",
       "<p>560 rows × 5 columns</p>\n",
       "</div>"
      ],
      "text/plain": [
       "     index               streetname  areaid okrug                     area\n",
       "0     1834  1-й Балтийский переулок      54   САО           Район Аэропорт\n",
       "1      805   1-й Басманный переулок      13   ЦАО          Басманный район\n",
       "2     4213   1-й Басманный переулок      15   ЦАО     Красносельский район\n",
       "3     2702  1-й Ботанический проезд      82  СВАО           Район Свиблово\n",
       "4     3722  1-й Вешняковский проезд     120  ЮВАО          Рязанский район\n",
       "..     ...                      ...     ...   ...                      ...\n",
       "555   2764           улица Шеногина      92  СЗАО  Район Хорошево-Мневники\n",
       "556   3481           улица Шумилова     113  ЮВАО          Район Кузьминки\n",
       "557   1182            улица Шумкина      26   ВАО         Район Сокольники\n",
       "558   1592              улица Щорса      46   ЗАО           Район Солнцево\n",
       "559   3675             шоссе Фрезер     117  ЮВАО      Нижегородский район\n",
       "\n",
       "[560 rows x 5 columns]"
      ]
     },
     "execution_count": 39,
     "metadata": {},
     "output_type": "execute_result"
    }
   ],
   "source": [
    "rest_data_low_1 = data[data['streetname'].isin(rest_data_low.index)] # срез строк \n",
    "rest_data_low_1.sort_values(by='streetname').reset_index()"
   ]
  },
  {
   "cell_type": "code",
   "execution_count": 40,
   "metadata": {},
   "outputs": [
    {
     "data": {
      "text/html": [
       "<div>\n",
       "<style scoped>\n",
       "    .dataframe tbody tr th:only-of-type {\n",
       "        vertical-align: middle;\n",
       "    }\n",
       "\n",
       "    .dataframe tbody tr th {\n",
       "        vertical-align: top;\n",
       "    }\n",
       "\n",
       "    .dataframe thead th {\n",
       "        text-align: right;\n",
       "    }\n",
       "</style>\n",
       "<table border=\"1\" class=\"dataframe\">\n",
       "  <thead>\n",
       "    <tr style=\"text-align: right;\">\n",
       "      <th></th>\n",
       "      <th>index</th>\n",
       "      <th>streetname</th>\n",
       "      <th>areaid</th>\n",
       "      <th>okrug</th>\n",
       "      <th>area</th>\n",
       "    </tr>\n",
       "  </thead>\n",
       "  <tbody>\n",
       "    <tr>\n",
       "      <th>0</th>\n",
       "      <td>2286</td>\n",
       "      <td>улица Константинова</td>\n",
       "      <td>70</td>\n",
       "      <td>СВАО</td>\n",
       "      <td>Алексеевский район</td>\n",
       "    </tr>\n",
       "    <tr>\n",
       "      <th>1</th>\n",
       "      <td>2289</td>\n",
       "      <td>Кулаков переулок</td>\n",
       "      <td>70</td>\n",
       "      <td>СВАО</td>\n",
       "      <td>Алексеевский район</td>\n",
       "    </tr>\n",
       "    <tr>\n",
       "      <th>2</th>\n",
       "      <td>2291</td>\n",
       "      <td>Кучин переулок</td>\n",
       "      <td>70</td>\n",
       "      <td>СВАО</td>\n",
       "      <td>Алексеевский район</td>\n",
       "    </tr>\n",
       "    <tr>\n",
       "      <th>3</th>\n",
       "      <td>2303</td>\n",
       "      <td>1-й Рижский переулок</td>\n",
       "      <td>70</td>\n",
       "      <td>СВАО</td>\n",
       "      <td>Алексеевский район</td>\n",
       "    </tr>\n",
       "    <tr>\n",
       "      <th>4</th>\n",
       "      <td>2304</td>\n",
       "      <td>Рижский проезд</td>\n",
       "      <td>70</td>\n",
       "      <td>СВАО</td>\n",
       "      <td>Алексеевский район</td>\n",
       "    </tr>\n",
       "    <tr>\n",
       "      <th>...</th>\n",
       "      <td>...</td>\n",
       "      <td>...</td>\n",
       "      <td>...</td>\n",
       "      <td>...</td>\n",
       "      <td>...</td>\n",
       "    </tr>\n",
       "    <tr>\n",
       "      <th>555</th>\n",
       "      <td>3421</td>\n",
       "      <td>6-я Кожуховская улица</td>\n",
       "      <td>122</td>\n",
       "      <td>ЮВАО</td>\n",
       "      <td>Южнопортовый Район</td>\n",
       "    </tr>\n",
       "    <tr>\n",
       "      <th>556</th>\n",
       "      <td>3426</td>\n",
       "      <td>улица Крутицкий Вал</td>\n",
       "      <td>122</td>\n",
       "      <td>ЮВАО</td>\n",
       "      <td>Южнопортовый Район</td>\n",
       "    </tr>\n",
       "    <tr>\n",
       "      <th>557</th>\n",
       "      <td>2397</td>\n",
       "      <td>Федоскинская улица</td>\n",
       "      <td>86</td>\n",
       "      <td>СВАО</td>\n",
       "      <td>Ярославский Район</td>\n",
       "    </tr>\n",
       "    <tr>\n",
       "      <th>558</th>\n",
       "      <td>2394</td>\n",
       "      <td>улица Ротерта</td>\n",
       "      <td>86</td>\n",
       "      <td>СВАО</td>\n",
       "      <td>Ярославский Район</td>\n",
       "    </tr>\n",
       "    <tr>\n",
       "      <th>559</th>\n",
       "      <td>2387</td>\n",
       "      <td>Лосевская улица</td>\n",
       "      <td>86</td>\n",
       "      <td>СВАО</td>\n",
       "      <td>Ярославский Район</td>\n",
       "    </tr>\n",
       "  </tbody>\n",
       "</table>\n",
       "<p>560 rows × 5 columns</p>\n",
       "</div>"
      ],
      "text/plain": [
       "     index             streetname  areaid okrug                area\n",
       "0     2286    улица Константинова      70  СВАО  Алексеевский район\n",
       "1     2289       Кулаков переулок      70  СВАО  Алексеевский район\n",
       "2     2291         Кучин переулок      70  СВАО  Алексеевский район\n",
       "3     2303   1-й Рижский переулок      70  СВАО  Алексеевский район\n",
       "4     2304         Рижский проезд      70  СВАО  Алексеевский район\n",
       "..     ...                    ...     ...   ...                 ...\n",
       "555   3421  6-я Кожуховская улица     122  ЮВАО  Южнопортовый Район\n",
       "556   3426    улица Крутицкий Вал     122  ЮВАО  Южнопортовый Район\n",
       "557   2397     Федоскинская улица      86  СВАО   Ярославский Район\n",
       "558   2394          улица Ротерта      86  СВАО   Ярославский Район\n",
       "559   2387        Лосевская улица      86  СВАО   Ярославский Район\n",
       "\n",
       "[560 rows x 5 columns]"
      ]
     },
     "execution_count": 40,
     "metadata": {},
     "output_type": "execute_result"
    }
   ],
   "source": [
    "rest_data_low_1.sort_values(by='area').reset_index()"
   ]
  },
  {
   "cell_type": "markdown",
   "metadata": {},
   "source": [
    "Посмотрим, наибольшие и наименьшие значения количества улиц в одном районе"
   ]
  },
  {
   "cell_type": "code",
   "execution_count": 41,
   "metadata": {},
   "outputs": [
    {
     "name": "stdout",
     "output_type": "stream",
     "text": [
      "area\n",
      "Таганский район         27\n",
      "Район Хамовники         26\n",
      "Басманный район         25\n",
      "Тверской район          20\n",
      "Пресненский район       20\n",
      "Район Арбат             18\n",
      "Район Марьина роща      18\n",
      "Мещанский район         15\n",
      "Район Замоскворечье     14\n",
      "Район Соколиная Гора    12\n",
      "Name: area, dtype: int64\n"
     ]
    }
   ],
   "source": [
    "print(rest_data_low_1.groupby('area')['area'].count().sort_values(ascending=False).head(10))"
   ]
  },
  {
   "cell_type": "code",
   "execution_count": 42,
   "metadata": {},
   "outputs": [
    {
     "name": "stdout",
     "output_type": "stream",
     "text": [
      "area\n",
      "Район Северный                2\n",
      "Район Северное Измайлово      2\n",
      "Район Ивановское              1\n",
      "Район Москворечье-Сабурово    1\n",
      "Молжаниновский район          1\n",
      "Район Метрогородок            1\n",
      "Район Марьино                 1\n",
      "Район Гагаринский             1\n",
      "Район Западное Дегунино       1\n",
      "Район Строгино                1\n",
      "Район Филевский Парк          1\n",
      "Район Марфино                 1\n",
      "Район Чертаново Южное         1\n",
      "Район Чертаново Северное      1\n",
      "Алтуфьевский район            1\n",
      "Район Лианозово               1\n",
      "Район Крюково                 1\n",
      "Обручевский район             1\n",
      "Район Левобережный            1\n",
      "Район Южное Медведково        1\n",
      "Name: area, dtype: int64\n"
     ]
    }
   ],
   "source": [
    "print(rest_data_low_1.groupby('area')['area'].count().sort_values(ascending=False).tail(20))"
   ]
  },
  {
   "cell_type": "markdown",
   "metadata": {},
   "source": [
    "Большего всего улиц проходят через Таганский район, Район Хамовники, Басманный район. Но есть районы с одной улицей, их 18."
   ]
  },
  {
   "cell_type": "markdown",
   "metadata": {},
   "source": [
    "## Выводы и рекомендации"
   ]
  },
  {
   "cell_type": "markdown",
   "metadata": {},
   "source": [
    "В ходе исследования мы проанализировали особенности и характеристики заведений общественного питания в Москве. Нам необходимо оценить перспективы открытия небольшого оригинального кафе в Москве.\n",
    "\n",
    "С точки зрения вида заведения: кафе является самым популярным, доля 39.7% от всех заведений. Среднее количество посадочных мест для кафе - 39, это значение стоит рассматривать как ориентир при выборе размеров помещения. Мы рассмотрели улицы, где расположены заведения, и районы. Можно сказать следующее: проспект Мира, Профсоюзная улица - улицы с самым большим количеством заведений. Т.е. с одной стороны такое количество обусловлено высоким спросом, что хорошо, а с другой - конкуренция очень высокая, что является негативным фактором. Также выявили улицы с 1 заведением и районы, где такие улицы расположены. Рекомендация при выборе места расположения следующая: стоит выбрать район, где есть улицы из топ-10 по количеству заведений, но при этом, чтобы также были улицы с 1 заведением в этом районе. Например, районы Чертаново Южное и Чертаново Северное подходят под это определение: там есть улицы из топ-10 с большим количеством заведений, т.е., предположительно, спрос велик, а также есть улицы с 1 заведением. Ниже выбрали такие улицы, где видно, что есть столовая и предприятие быстрого обслуживания без посадочных мест, а небольшого кафе нет, чем можно было бы воспользоваться.\n",
    "\n",
    "Сетевых заведений от общего числа заведений в Москве - 19.4%. Из 6 071 кафе на долю сетевых приходится 23%. При этом для заведений с небольшим количеством мест, к которым можно отнести и кафе, более характерно сетевое распространение. Можно сказать, что кафе является одним из тех видов заведений, для которых открыта возможность дальнейшего развития сети."
   ]
  },
  {
   "cell_type": "code",
   "execution_count": 43,
   "metadata": {},
   "outputs": [
    {
     "data": {
      "text/html": [
       "<div>\n",
       "<style scoped>\n",
       "    .dataframe tbody tr th:only-of-type {\n",
       "        vertical-align: middle;\n",
       "    }\n",
       "\n",
       "    .dataframe tbody tr th {\n",
       "        vertical-align: top;\n",
       "    }\n",
       "\n",
       "    .dataframe thead th {\n",
       "        text-align: right;\n",
       "    }\n",
       "</style>\n",
       "<table border=\"1\" class=\"dataframe\">\n",
       "  <thead>\n",
       "    <tr style=\"text-align: right;\">\n",
       "      <th></th>\n",
       "      <th>streetname</th>\n",
       "      <th>areaid</th>\n",
       "      <th>okrug</th>\n",
       "      <th>area</th>\n",
       "    </tr>\n",
       "  </thead>\n",
       "  <tbody>\n",
       "    <tr>\n",
       "      <th>3121</th>\n",
       "      <td>Сумская улица</td>\n",
       "      <td>108</td>\n",
       "      <td>ЮАО</td>\n",
       "      <td>Район Чертаново Северное</td>\n",
       "    </tr>\n",
       "    <tr>\n",
       "      <th>3130</th>\n",
       "      <td>3-й Дорожный проезд</td>\n",
       "      <td>110</td>\n",
       "      <td>ЮАО</td>\n",
       "      <td>Район Чертаново Южное</td>\n",
       "    </tr>\n",
       "  </tbody>\n",
       "</table>\n",
       "</div>"
      ],
      "text/plain": [
       "               streetname  areaid okrug                      area\n",
       "3121        Сумская улица     108   ЮАО  Район Чертаново Северное\n",
       "3130  3-й Дорожный проезд     110   ЮАО     Район Чертаново Южное"
      ]
     },
     "execution_count": 43,
     "metadata": {},
     "output_type": "execute_result"
    }
   ],
   "source": [
    "rest_data_low_1[(rest_data_low_1['area'] == 'Район Чертаново Северное') | (rest_data_low_1['area'] == 'Район Чертаново Южное')]"
   ]
  },
  {
   "cell_type": "code",
   "execution_count": 44,
   "metadata": {},
   "outputs": [
    {
     "data": {
      "text/html": [
       "<div>\n",
       "<style scoped>\n",
       "    .dataframe tbody tr th:only-of-type {\n",
       "        vertical-align: middle;\n",
       "    }\n",
       "\n",
       "    .dataframe tbody tr th {\n",
       "        vertical-align: top;\n",
       "    }\n",
       "\n",
       "    .dataframe thead th {\n",
       "        text-align: right;\n",
       "    }\n",
       "</style>\n",
       "<table border=\"1\" class=\"dataframe\">\n",
       "  <thead>\n",
       "    <tr style=\"text-align: right;\">\n",
       "      <th></th>\n",
       "      <th>object_name</th>\n",
       "      <th>chain</th>\n",
       "      <th>object_type</th>\n",
       "      <th>address</th>\n",
       "      <th>number</th>\n",
       "      <th>street</th>\n",
       "    </tr>\n",
       "  </thead>\n",
       "  <tbody>\n",
       "    <tr>\n",
       "      <th>2503</th>\n",
       "      <td>столовая школы 900</td>\n",
       "      <td>нет</td>\n",
       "      <td>столовая</td>\n",
       "      <td>город Москва, 3-й Дорожный проезд, дом 6А</td>\n",
       "      <td>240</td>\n",
       "      <td>3-й Дорожный проезд</td>\n",
       "    </tr>\n",
       "    <tr>\n",
       "      <th>10435</th>\n",
       "      <td>предприятие быстрого обслуживания «шаурма»</td>\n",
       "      <td>нет</td>\n",
       "      <td>предприятие быстрого обслуживания</td>\n",
       "      <td>город Москва, Сумская улица, дом 2/12</td>\n",
       "      <td>0</td>\n",
       "      <td>Сумская улица</td>\n",
       "    </tr>\n",
       "  </tbody>\n",
       "</table>\n",
       "</div>"
      ],
      "text/plain": [
       "                                      object_name chain  \\\n",
       "2503                           столовая школы 900   нет   \n",
       "10435  предприятие быстрого обслуживания «шаурма»   нет   \n",
       "\n",
       "                             object_type  \\\n",
       "2503                            столовая   \n",
       "10435  предприятие быстрого обслуживания   \n",
       "\n",
       "                                         address  number               street  \n",
       "2503   город Москва, 3-й Дорожный проезд, дом 6А     240  3-й Дорожный проезд  \n",
       "10435      город Москва, Сумская улица, дом 2/12       0        Сумская улица  "
      ]
     },
     "execution_count": 44,
     "metadata": {},
     "output_type": "execute_result"
    }
   ],
   "source": [
    "rest_data[(rest_data['street'] == 'Сумская улица') | (rest_data['street'] == '3-й Дорожный проезд')]"
   ]
  },
  {
   "cell_type": "markdown",
   "metadata": {},
   "source": [
    "## Презентация"
   ]
  },
  {
   "cell_type": "markdown",
   "metadata": {},
   "source": [
    "По итогам исследования мы подготовили презентацию. Ее можно посмотреть по ссылке: <a href =\"https://drive.google.com/file/d/1Og_jwXvC0NsR9JMW61_2YchZk3qarsc3/view?usp=sharing\">Презентация</a>"
   ]
  }
 ],
 "metadata": {
  "ExecuteTimeLog": [
   {
    "duration": 1326,
    "start_time": "2022-07-12T07:59:34.005Z"
   },
   {
    "duration": 124,
    "start_time": "2022-07-12T07:59:35.333Z"
   },
   {
    "duration": 15,
    "start_time": "2022-07-12T07:59:58.397Z"
   },
   {
    "duration": 1041,
    "start_time": "2022-07-12T08:01:31.748Z"
   },
   {
    "duration": 12,
    "start_time": "2022-07-12T08:01:36.945Z"
   },
   {
    "duration": 6,
    "start_time": "2022-07-12T08:01:49.034Z"
   },
   {
    "duration": 8,
    "start_time": "2022-07-12T08:01:55.479Z"
   },
   {
    "duration": 11,
    "start_time": "2022-07-12T08:02:36.267Z"
   },
   {
    "duration": 6,
    "start_time": "2022-07-12T08:03:01.069Z"
   },
   {
    "duration": 20,
    "start_time": "2022-07-12T08:06:20.997Z"
   },
   {
    "duration": 9,
    "start_time": "2022-07-12T08:06:34.819Z"
   },
   {
    "duration": 31,
    "start_time": "2022-07-12T08:07:15.560Z"
   },
   {
    "duration": 4,
    "start_time": "2022-07-12T08:10:00.193Z"
   },
   {
    "duration": 164,
    "start_time": "2022-07-12T08:10:33.115Z"
   },
   {
    "duration": 158,
    "start_time": "2022-07-12T08:10:51.701Z"
   },
   {
    "duration": 15,
    "start_time": "2022-07-12T08:14:08.601Z"
   },
   {
    "duration": 13,
    "start_time": "2022-07-12T08:14:17.233Z"
   },
   {
    "duration": 16,
    "start_time": "2022-07-12T08:14:21.405Z"
   },
   {
    "duration": 14,
    "start_time": "2022-07-12T08:14:39.556Z"
   },
   {
    "duration": 11,
    "start_time": "2022-07-12T08:15:21.023Z"
   },
   {
    "duration": 1101,
    "start_time": "2022-07-12T08:16:25.184Z"
   },
   {
    "duration": 73,
    "start_time": "2022-07-12T08:16:26.287Z"
   },
   {
    "duration": 16,
    "start_time": "2022-07-12T08:16:26.361Z"
   },
   {
    "duration": 7,
    "start_time": "2022-07-12T08:16:26.378Z"
   },
   {
    "duration": 19,
    "start_time": "2022-07-12T08:16:26.386Z"
   },
   {
    "duration": 36,
    "start_time": "2022-07-12T08:16:26.406Z"
   },
   {
    "duration": 7,
    "start_time": "2022-07-12T08:16:26.444Z"
   },
   {
    "duration": 41,
    "start_time": "2022-07-12T08:16:26.452Z"
   },
   {
    "duration": 5,
    "start_time": "2022-07-12T08:16:26.495Z"
   },
   {
    "duration": 9,
    "start_time": "2022-07-12T08:16:26.502Z"
   },
   {
    "duration": 50,
    "start_time": "2022-07-12T08:16:51.347Z"
   },
   {
    "duration": 20,
    "start_time": "2022-07-12T08:16:55.991Z"
   },
   {
    "duration": 36,
    "start_time": "2022-07-12T08:18:12.589Z"
   },
   {
    "duration": 20,
    "start_time": "2022-07-12T08:20:13.647Z"
   },
   {
    "duration": 98,
    "start_time": "2022-07-12T08:25:27.451Z"
   },
   {
    "duration": 11,
    "start_time": "2022-07-12T08:27:49.998Z"
   },
   {
    "duration": 12,
    "start_time": "2022-07-12T08:28:12.420Z"
   },
   {
    "duration": 12,
    "start_time": "2022-07-12T08:28:23.717Z"
   },
   {
    "duration": 12,
    "start_time": "2022-07-12T08:28:27.230Z"
   },
   {
    "duration": 7,
    "start_time": "2022-07-12T08:28:30.568Z"
   },
   {
    "duration": 8,
    "start_time": "2022-07-12T08:28:42.219Z"
   },
   {
    "duration": 8,
    "start_time": "2022-07-12T08:28:46.819Z"
   },
   {
    "duration": 11,
    "start_time": "2022-07-12T08:29:31.612Z"
   },
   {
    "duration": 10,
    "start_time": "2022-07-12T08:29:35.924Z"
   },
   {
    "duration": 11,
    "start_time": "2022-07-12T08:29:43.265Z"
   },
   {
    "duration": 16,
    "start_time": "2022-07-12T08:29:50.021Z"
   },
   {
    "duration": 13,
    "start_time": "2022-07-12T08:30:13.301Z"
   },
   {
    "duration": 10,
    "start_time": "2022-07-12T08:30:19.766Z"
   },
   {
    "duration": 9,
    "start_time": "2022-07-12T08:30:29.796Z"
   },
   {
    "duration": 8,
    "start_time": "2022-07-12T08:31:20.068Z"
   },
   {
    "duration": 9,
    "start_time": "2022-07-12T08:31:35.295Z"
   },
   {
    "duration": 8,
    "start_time": "2022-07-12T08:32:01.077Z"
   },
   {
    "duration": 7,
    "start_time": "2022-07-12T08:32:12.222Z"
   },
   {
    "duration": 8,
    "start_time": "2022-07-12T08:32:30.567Z"
   },
   {
    "duration": 5,
    "start_time": "2022-07-12T08:32:38.691Z"
   },
   {
    "duration": 5,
    "start_time": "2022-07-12T08:32:43.171Z"
   },
   {
    "duration": 9,
    "start_time": "2022-07-12T08:32:47.677Z"
   },
   {
    "duration": 9,
    "start_time": "2022-07-12T08:33:02.530Z"
   },
   {
    "duration": 6,
    "start_time": "2022-07-12T08:33:41.048Z"
   },
   {
    "duration": 5,
    "start_time": "2022-07-12T08:33:46.335Z"
   },
   {
    "duration": 6,
    "start_time": "2022-07-12T08:33:56.986Z"
   },
   {
    "duration": 4,
    "start_time": "2022-07-12T08:33:59.069Z"
   },
   {
    "duration": 11,
    "start_time": "2022-07-12T08:34:05.331Z"
   },
   {
    "duration": 5,
    "start_time": "2022-07-12T08:35:19.771Z"
   },
   {
    "duration": 14,
    "start_time": "2022-07-12T08:35:23.089Z"
   },
   {
    "duration": 1309,
    "start_time": "2022-07-12T08:35:40.139Z"
   },
   {
    "duration": 6,
    "start_time": "2022-07-12T08:35:41.851Z"
   },
   {
    "duration": 5,
    "start_time": "2022-07-12T08:35:45.389Z"
   },
   {
    "duration": 1524,
    "start_time": "2022-07-12T08:35:46.786Z"
   },
   {
    "duration": 4,
    "start_time": "2022-07-12T08:35:54.801Z"
   },
   {
    "duration": 5,
    "start_time": "2022-07-12T08:36:01.979Z"
   },
   {
    "duration": 5,
    "start_time": "2022-07-12T08:36:09.634Z"
   },
   {
    "duration": 22,
    "start_time": "2022-07-12T08:37:51.338Z"
   },
   {
    "duration": 24,
    "start_time": "2022-07-12T08:39:53.598Z"
   },
   {
    "duration": 987,
    "start_time": "2022-07-12T08:40:16.575Z"
   },
   {
    "duration": 8,
    "start_time": "2022-07-12T08:41:05.658Z"
   },
   {
    "duration": 24,
    "start_time": "2022-07-12T08:41:58.751Z"
   },
   {
    "duration": 9,
    "start_time": "2022-07-12T08:42:10.151Z"
   },
   {
    "duration": 14,
    "start_time": "2022-07-12T08:42:15.423Z"
   },
   {
    "duration": 64,
    "start_time": "2022-07-12T08:43:07.151Z"
   },
   {
    "duration": 52,
    "start_time": "2022-07-12T08:43:23.540Z"
   },
   {
    "duration": 32,
    "start_time": "2022-07-12T08:43:28.061Z"
   },
   {
    "duration": 40,
    "start_time": "2022-07-12T08:43:32.632Z"
   },
   {
    "duration": 12,
    "start_time": "2022-07-12T08:44:13.444Z"
   },
   {
    "duration": 13,
    "start_time": "2022-07-12T08:44:23.373Z"
   },
   {
    "duration": 13,
    "start_time": "2022-07-12T08:48:36.758Z"
   },
   {
    "duration": 1108,
    "start_time": "2022-07-12T08:48:48.777Z"
   },
   {
    "duration": 73,
    "start_time": "2022-07-12T08:48:49.887Z"
   },
   {
    "duration": 17,
    "start_time": "2022-07-12T08:48:49.962Z"
   },
   {
    "duration": 52,
    "start_time": "2022-07-12T08:48:49.981Z"
   },
   {
    "duration": 14,
    "start_time": "2022-07-12T08:48:50.035Z"
   },
   {
    "duration": 20,
    "start_time": "2022-07-12T08:48:50.050Z"
   },
   {
    "duration": 56,
    "start_time": "2022-07-12T08:48:50.072Z"
   },
   {
    "duration": 3,
    "start_time": "2022-07-12T08:48:50.129Z"
   },
   {
    "duration": 8,
    "start_time": "2022-07-12T08:48:50.134Z"
   },
   {
    "duration": 38,
    "start_time": "2022-07-12T08:48:50.144Z"
   },
   {
    "duration": 18,
    "start_time": "2022-07-12T08:48:50.183Z"
   },
   {
    "duration": 144,
    "start_time": "2022-07-12T08:48:50.203Z"
   },
   {
    "duration": 0,
    "start_time": "2022-07-12T08:48:50.349Z"
   },
   {
    "duration": 8,
    "start_time": "2022-07-12T08:49:05.636Z"
   },
   {
    "duration": 9,
    "start_time": "2022-07-12T08:49:14.542Z"
   },
   {
    "duration": 14,
    "start_time": "2022-07-12T08:49:19.715Z"
   },
   {
    "duration": 9,
    "start_time": "2022-07-12T08:49:40.038Z"
   },
   {
    "duration": 7,
    "start_time": "2022-07-12T08:51:52.675Z"
   },
   {
    "duration": 13,
    "start_time": "2022-07-12T08:52:22.772Z"
   },
   {
    "duration": 18,
    "start_time": "2022-07-12T08:52:28.031Z"
   },
   {
    "duration": 20,
    "start_time": "2022-07-12T08:54:10.135Z"
   },
   {
    "duration": 17,
    "start_time": "2022-07-12T08:54:42.309Z"
   },
   {
    "duration": 16,
    "start_time": "2022-07-12T08:54:46.659Z"
   },
   {
    "duration": 16,
    "start_time": "2022-07-12T08:54:55.745Z"
   },
   {
    "duration": 13,
    "start_time": "2022-07-12T08:55:24.874Z"
   },
   {
    "duration": 12,
    "start_time": "2022-07-12T08:58:08.998Z"
   },
   {
    "duration": 19,
    "start_time": "2022-07-12T08:58:15.420Z"
   },
   {
    "duration": 10,
    "start_time": "2022-07-12T08:58:31.356Z"
   },
   {
    "duration": 9,
    "start_time": "2022-07-12T08:58:37.116Z"
   },
   {
    "duration": 17,
    "start_time": "2022-07-12T08:58:42.819Z"
   },
   {
    "duration": 17,
    "start_time": "2022-07-12T08:59:35.579Z"
   },
   {
    "duration": 12,
    "start_time": "2022-07-12T08:59:44.622Z"
   },
   {
    "duration": 18,
    "start_time": "2022-07-12T08:59:48.194Z"
   },
   {
    "duration": 38,
    "start_time": "2022-07-12T09:00:48.364Z"
   },
   {
    "duration": 339,
    "start_time": "2022-07-12T09:00:56.369Z"
   },
   {
    "duration": 215,
    "start_time": "2022-07-12T09:01:05.861Z"
   },
   {
    "duration": 171,
    "start_time": "2022-07-12T09:03:03.371Z"
   },
   {
    "duration": 158,
    "start_time": "2022-07-12T09:04:49.465Z"
   },
   {
    "duration": 11,
    "start_time": "2022-07-12T09:05:30.108Z"
   },
   {
    "duration": 10,
    "start_time": "2022-07-12T09:05:36.847Z"
   },
   {
    "duration": 153,
    "start_time": "2022-07-12T09:06:12.230Z"
   },
   {
    "duration": 172,
    "start_time": "2022-07-12T09:06:28.629Z"
   },
   {
    "duration": 103,
    "start_time": "2022-07-12T09:08:34.769Z"
   },
   {
    "duration": 105,
    "start_time": "2022-07-12T09:08:38.245Z"
   },
   {
    "duration": 12,
    "start_time": "2022-07-12T09:18:05.560Z"
   },
   {
    "duration": 212,
    "start_time": "2022-07-12T09:18:10.114Z"
   },
   {
    "duration": 145,
    "start_time": "2022-07-12T09:18:33.164Z"
   },
   {
    "duration": 4,
    "start_time": "2022-07-12T09:20:03.459Z"
   },
   {
    "duration": 6,
    "start_time": "2022-07-12T09:20:07.459Z"
   },
   {
    "duration": 6,
    "start_time": "2022-07-12T09:22:25.618Z"
   },
   {
    "duration": 8,
    "start_time": "2022-07-12T09:22:42.188Z"
   },
   {
    "duration": 6,
    "start_time": "2022-07-12T09:23:54.022Z"
   },
   {
    "duration": 144,
    "start_time": "2022-07-12T09:25:58.320Z"
   },
   {
    "duration": 362,
    "start_time": "2022-07-12T09:26:55.040Z"
   },
   {
    "duration": 170,
    "start_time": "2022-07-12T09:27:12.184Z"
   },
   {
    "duration": 200,
    "start_time": "2022-07-12T09:28:49.385Z"
   },
   {
    "duration": 224,
    "start_time": "2022-07-12T09:29:35.452Z"
   },
   {
    "duration": 223,
    "start_time": "2022-07-12T09:29:45.289Z"
   },
   {
    "duration": 117,
    "start_time": "2022-07-12T09:31:44.474Z"
   },
   {
    "duration": 20,
    "start_time": "2022-07-12T09:35:21.297Z"
   },
   {
    "duration": 63,
    "start_time": "2022-07-12T09:36:01.300Z"
   },
   {
    "duration": 31,
    "start_time": "2022-07-12T09:36:07.052Z"
   },
   {
    "duration": 23,
    "start_time": "2022-07-12T09:36:22.826Z"
   },
   {
    "duration": 71,
    "start_time": "2022-07-12T09:36:49.923Z"
   },
   {
    "duration": 19,
    "start_time": "2022-07-12T09:36:56.153Z"
   },
   {
    "duration": 18,
    "start_time": "2022-07-12T09:52:26.140Z"
   },
   {
    "duration": 1542,
    "start_time": "2022-07-12T09:52:44.278Z"
   },
   {
    "duration": 17,
    "start_time": "2022-07-12T09:52:58.016Z"
   },
   {
    "duration": 4,
    "start_time": "2022-07-12T09:53:31.949Z"
   },
   {
    "duration": 10,
    "start_time": "2022-07-12T09:53:37.771Z"
   },
   {
    "duration": 10,
    "start_time": "2022-07-12T09:53:47.138Z"
   },
   {
    "duration": 10,
    "start_time": "2022-07-12T09:54:02.608Z"
   },
   {
    "duration": 9,
    "start_time": "2022-07-12T09:54:09.773Z"
   },
   {
    "duration": 20,
    "start_time": "2022-07-12T09:54:47.846Z"
   },
   {
    "duration": 21,
    "start_time": "2022-07-12T09:55:02.276Z"
   },
   {
    "duration": 239,
    "start_time": "2022-07-12T09:57:55.431Z"
   },
   {
    "duration": 143,
    "start_time": "2022-07-12T09:58:05.976Z"
   },
   {
    "duration": 160,
    "start_time": "2022-07-12T09:58:36.356Z"
   },
   {
    "duration": 173,
    "start_time": "2022-07-12T09:58:57.328Z"
   },
   {
    "duration": 188,
    "start_time": "2022-07-12T09:59:07.124Z"
   },
   {
    "duration": 190,
    "start_time": "2022-07-12T09:59:14.539Z"
   },
   {
    "duration": 18,
    "start_time": "2022-07-12T10:00:05.660Z"
   },
   {
    "duration": 12,
    "start_time": "2022-07-12T10:04:49.450Z"
   },
   {
    "duration": 306,
    "start_time": "2022-07-12T10:04:59.975Z"
   },
   {
    "duration": 3439,
    "start_time": "2022-07-12T10:05:58.240Z"
   },
   {
    "duration": 18,
    "start_time": "2022-07-12T10:07:45.869Z"
   },
   {
    "duration": 20,
    "start_time": "2022-07-12T10:08:15.108Z"
   },
   {
    "duration": 11,
    "start_time": "2022-07-12T10:11:38.088Z"
   },
   {
    "duration": 14,
    "start_time": "2022-07-12T10:11:44.113Z"
   },
   {
    "duration": 17,
    "start_time": "2022-07-12T10:12:26.885Z"
   },
   {
    "duration": 15,
    "start_time": "2022-07-12T10:12:31.037Z"
   },
   {
    "duration": 22,
    "start_time": "2022-07-12T10:12:46.412Z"
   },
   {
    "duration": 111,
    "start_time": "2022-07-12T10:12:57.740Z"
   },
   {
    "duration": 23,
    "start_time": "2022-07-12T10:13:14.837Z"
   },
   {
    "duration": 16,
    "start_time": "2022-07-12T10:13:21.975Z"
   },
   {
    "duration": 16,
    "start_time": "2022-07-12T10:13:47.329Z"
   },
   {
    "duration": 17,
    "start_time": "2022-07-12T10:13:54.268Z"
   },
   {
    "duration": 11,
    "start_time": "2022-07-12T10:14:02.496Z"
   },
   {
    "duration": 15,
    "start_time": "2022-07-12T10:14:09.049Z"
   },
   {
    "duration": 18,
    "start_time": "2022-07-12T10:16:17.347Z"
   },
   {
    "duration": 18,
    "start_time": "2022-07-12T10:16:34.700Z"
   },
   {
    "duration": 22,
    "start_time": "2022-07-12T10:16:45.855Z"
   },
   {
    "duration": 15,
    "start_time": "2022-07-12T10:18:56.757Z"
   },
   {
    "duration": 20728,
    "start_time": "2022-07-12T10:19:03.173Z"
   },
   {
    "duration": 27,
    "start_time": "2022-07-12T10:19:46.722Z"
   },
   {
    "duration": 15,
    "start_time": "2022-07-12T10:22:13.016Z"
   },
   {
    "duration": 9,
    "start_time": "2022-07-12T10:23:15.907Z"
   },
   {
    "duration": 20,
    "start_time": "2022-07-12T10:23:21.388Z"
   },
   {
    "duration": 22,
    "start_time": "2022-07-12T10:23:42.999Z"
   },
   {
    "duration": 410,
    "start_time": "2022-07-12T10:23:54.369Z"
   },
   {
    "duration": 371,
    "start_time": "2022-07-12T10:25:08.827Z"
   },
   {
    "duration": 445,
    "start_time": "2022-07-12T10:25:33.163Z"
   },
   {
    "duration": 189,
    "start_time": "2022-07-12T10:27:42.105Z"
   },
   {
    "duration": 473,
    "start_time": "2022-07-12T10:28:56.023Z"
   },
   {
    "duration": 1514,
    "start_time": "2022-07-12T10:29:14.498Z"
   },
   {
    "duration": 497,
    "start_time": "2022-07-12T10:30:29.979Z"
   },
   {
    "duration": 472,
    "start_time": "2022-07-12T10:30:44.895Z"
   },
   {
    "duration": 468,
    "start_time": "2022-07-12T10:30:50.739Z"
   },
   {
    "duration": 47864,
    "start_time": "2022-07-12T10:34:09.614Z"
   },
   {
    "duration": 498,
    "start_time": "2022-07-12T10:35:28.194Z"
   },
   {
    "duration": 410,
    "start_time": "2022-07-12T10:36:54.419Z"
   },
   {
    "duration": 465,
    "start_time": "2022-07-12T10:37:09.096Z"
   },
   {
    "duration": 518,
    "start_time": "2022-07-12T10:37:14.636Z"
   },
   {
    "duration": 474,
    "start_time": "2022-07-12T10:37:21.013Z"
   },
   {
    "duration": 14,
    "start_time": "2022-07-12T10:37:49.789Z"
   },
   {
    "duration": 479,
    "start_time": "2022-07-12T10:37:51.444Z"
   },
   {
    "duration": 6,
    "start_time": "2022-07-12T10:39:09.223Z"
   },
   {
    "duration": 9,
    "start_time": "2022-07-12T10:44:10.669Z"
   },
   {
    "duration": 11,
    "start_time": "2022-07-12T10:44:14.849Z"
   },
   {
    "duration": 2902,
    "start_time": "2022-07-12T10:44:32.776Z"
   },
   {
    "duration": 13,
    "start_time": "2022-07-12T10:44:47.667Z"
   },
   {
    "duration": 14,
    "start_time": "2022-07-12T10:45:12.223Z"
   },
   {
    "duration": 10,
    "start_time": "2022-07-12T10:45:23.580Z"
   },
   {
    "duration": 9,
    "start_time": "2022-07-12T10:51:22.629Z"
   },
   {
    "duration": 15,
    "start_time": "2022-07-12T10:51:34.977Z"
   },
   {
    "duration": 16,
    "start_time": "2022-07-12T10:52:03.302Z"
   },
   {
    "duration": 22,
    "start_time": "2022-07-12T10:52:09.038Z"
   },
   {
    "duration": 15,
    "start_time": "2022-07-12T10:52:13.446Z"
   },
   {
    "duration": 15,
    "start_time": "2022-07-12T10:52:16.814Z"
   },
   {
    "duration": 79,
    "start_time": "2022-07-12T12:18:40.806Z"
   },
   {
    "duration": 47,
    "start_time": "2022-07-12T12:19:09.664Z"
   },
   {
    "duration": 9,
    "start_time": "2022-07-12T12:19:17.836Z"
   },
   {
    "duration": 3,
    "start_time": "2022-07-12T12:19:24.728Z"
   },
   {
    "duration": 10,
    "start_time": "2022-07-12T12:19:27.127Z"
   },
   {
    "duration": 21,
    "start_time": "2022-07-12T12:24:58.748Z"
   },
   {
    "duration": 1174,
    "start_time": "2022-07-12T12:25:11.212Z"
   },
   {
    "duration": 73,
    "start_time": "2022-07-12T12:25:12.388Z"
   },
   {
    "duration": 17,
    "start_time": "2022-07-12T12:25:12.466Z"
   },
   {
    "duration": 39,
    "start_time": "2022-07-12T12:25:12.500Z"
   },
   {
    "duration": 15,
    "start_time": "2022-07-12T12:25:12.541Z"
   },
   {
    "duration": 10,
    "start_time": "2022-07-12T12:25:12.558Z"
   },
   {
    "duration": 60,
    "start_time": "2022-07-12T12:25:12.570Z"
   },
   {
    "duration": 2,
    "start_time": "2022-07-12T12:25:12.632Z"
   },
   {
    "duration": 15,
    "start_time": "2022-07-12T12:25:12.638Z"
   },
   {
    "duration": 44,
    "start_time": "2022-07-12T12:25:12.655Z"
   },
   {
    "duration": 212,
    "start_time": "2022-07-12T12:25:12.701Z"
   },
   {
    "duration": 6,
    "start_time": "2022-07-12T12:25:12.915Z"
   },
   {
    "duration": 135,
    "start_time": "2022-07-12T12:25:12.923Z"
   },
   {
    "duration": 21,
    "start_time": "2022-07-12T12:25:13.060Z"
   },
   {
    "duration": 222,
    "start_time": "2022-07-12T12:25:13.083Z"
   },
   {
    "duration": 13,
    "start_time": "2022-07-12T12:25:13.307Z"
   },
   {
    "duration": 3539,
    "start_time": "2022-07-12T12:25:13.321Z"
   },
   {
    "duration": 20,
    "start_time": "2022-07-12T12:25:16.862Z"
   },
   {
    "duration": 28,
    "start_time": "2022-07-12T12:25:16.884Z"
   },
   {
    "duration": 497,
    "start_time": "2022-07-12T12:25:16.914Z"
   },
   {
    "duration": 3,
    "start_time": "2022-07-12T12:25:17.412Z"
   },
   {
    "duration": 67,
    "start_time": "2022-07-12T12:25:17.417Z"
   },
   {
    "duration": 3,
    "start_time": "2022-07-12T12:25:17.486Z"
   },
   {
    "duration": 29,
    "start_time": "2022-07-12T12:25:17.490Z"
   },
   {
    "duration": 20,
    "start_time": "2022-07-12T12:25:17.520Z"
   },
   {
    "duration": 98,
    "start_time": "2022-07-12T12:25:55.673Z"
   },
   {
    "duration": 6,
    "start_time": "2022-07-12T12:26:02.213Z"
   },
   {
    "duration": 45,
    "start_time": "2022-07-12T12:26:53.035Z"
   },
   {
    "duration": 6,
    "start_time": "2022-07-12T12:26:56.304Z"
   },
   {
    "duration": 39,
    "start_time": "2022-07-12T12:26:58.180Z"
   },
   {
    "duration": 38,
    "start_time": "2022-07-12T12:27:17.185Z"
   },
   {
    "duration": 141,
    "start_time": "2022-07-12T12:45:33.995Z"
   },
   {
    "duration": 13,
    "start_time": "2022-07-12T12:45:39.513Z"
   },
   {
    "duration": 10,
    "start_time": "2022-07-12T12:46:45.236Z"
   },
   {
    "duration": 1116,
    "start_time": "2022-07-12T12:47:01.479Z"
   },
   {
    "duration": 72,
    "start_time": "2022-07-12T12:47:02.598Z"
   },
   {
    "duration": 16,
    "start_time": "2022-07-12T12:47:02.672Z"
   },
   {
    "duration": 61,
    "start_time": "2022-07-12T12:47:02.690Z"
   },
   {
    "duration": 16,
    "start_time": "2022-07-12T12:47:02.753Z"
   },
   {
    "duration": 16,
    "start_time": "2022-07-12T12:47:02.770Z"
   },
   {
    "duration": 48,
    "start_time": "2022-07-12T12:47:02.788Z"
   },
   {
    "duration": 18,
    "start_time": "2022-07-12T12:47:02.838Z"
   },
   {
    "duration": 12,
    "start_time": "2022-07-12T12:47:02.857Z"
   },
   {
    "duration": 35,
    "start_time": "2022-07-12T12:47:02.872Z"
   },
   {
    "duration": 202,
    "start_time": "2022-07-12T12:47:02.908Z"
   },
   {
    "duration": 6,
    "start_time": "2022-07-12T12:47:03.111Z"
   },
   {
    "duration": 135,
    "start_time": "2022-07-12T12:47:03.118Z"
   },
   {
    "duration": 21,
    "start_time": "2022-07-12T12:47:03.254Z"
   },
   {
    "duration": 212,
    "start_time": "2022-07-12T12:47:03.277Z"
   },
   {
    "duration": 21,
    "start_time": "2022-07-12T12:47:03.491Z"
   },
   {
    "duration": 3605,
    "start_time": "2022-07-12T12:47:03.514Z"
   },
   {
    "duration": 19,
    "start_time": "2022-07-12T12:47:07.121Z"
   },
   {
    "duration": 36,
    "start_time": "2022-07-12T12:47:07.142Z"
   },
   {
    "duration": 482,
    "start_time": "2022-07-12T12:47:07.179Z"
   },
   {
    "duration": 5,
    "start_time": "2022-07-12T12:47:07.663Z"
   },
   {
    "duration": 163,
    "start_time": "2022-07-12T12:47:07.670Z"
   },
   {
    "duration": 0,
    "start_time": "2022-07-12T12:47:07.835Z"
   },
   {
    "duration": 0,
    "start_time": "2022-07-12T12:47:07.836Z"
   },
   {
    "duration": 0,
    "start_time": "2022-07-12T12:47:07.837Z"
   },
   {
    "duration": 13,
    "start_time": "2022-07-12T12:47:29.673Z"
   },
   {
    "duration": 11,
    "start_time": "2022-07-12T12:47:31.662Z"
   },
   {
    "duration": 13,
    "start_time": "2022-07-12T12:47:39.377Z"
   },
   {
    "duration": 5,
    "start_time": "2022-07-12T12:48:04.319Z"
   },
   {
    "duration": 5,
    "start_time": "2022-07-12T12:48:10.176Z"
   },
   {
    "duration": 4,
    "start_time": "2022-07-12T12:48:19.737Z"
   },
   {
    "duration": 11,
    "start_time": "2022-07-12T12:48:39.793Z"
   },
   {
    "duration": 12,
    "start_time": "2022-07-12T12:50:19.191Z"
   },
   {
    "duration": 89,
    "start_time": "2022-07-12T12:50:32.699Z"
   },
   {
    "duration": 14,
    "start_time": "2022-07-12T12:50:34.785Z"
   },
   {
    "duration": 12,
    "start_time": "2022-07-12T12:51:13.501Z"
   },
   {
    "duration": 10,
    "start_time": "2022-07-12T12:51:19.049Z"
   },
   {
    "duration": 29,
    "start_time": "2022-07-12T12:54:35.281Z"
   },
   {
    "duration": 15,
    "start_time": "2022-07-12T12:54:38.253Z"
   },
   {
    "duration": 9,
    "start_time": "2022-07-12T12:54:44.286Z"
   },
   {
    "duration": 14,
    "start_time": "2022-07-12T12:54:44.777Z"
   },
   {
    "duration": 8,
    "start_time": "2022-07-12T12:54:57.808Z"
   },
   {
    "duration": 14,
    "start_time": "2022-07-12T12:54:58.907Z"
   },
   {
    "duration": 1115,
    "start_time": "2022-07-12T12:55:16.870Z"
   },
   {
    "duration": 71,
    "start_time": "2022-07-12T12:55:17.987Z"
   },
   {
    "duration": 16,
    "start_time": "2022-07-12T12:55:18.063Z"
   },
   {
    "duration": 55,
    "start_time": "2022-07-12T12:55:18.081Z"
   },
   {
    "duration": 14,
    "start_time": "2022-07-12T12:55:18.138Z"
   },
   {
    "duration": 7,
    "start_time": "2022-07-12T12:55:18.154Z"
   },
   {
    "duration": 59,
    "start_time": "2022-07-12T12:55:18.163Z"
   },
   {
    "duration": 2,
    "start_time": "2022-07-12T12:55:18.224Z"
   },
   {
    "duration": 7,
    "start_time": "2022-07-12T12:55:18.228Z"
   },
   {
    "duration": 23,
    "start_time": "2022-07-12T12:55:18.236Z"
   },
   {
    "duration": 220,
    "start_time": "2022-07-12T12:55:18.260Z"
   },
   {
    "duration": 6,
    "start_time": "2022-07-12T12:55:18.482Z"
   },
   {
    "duration": 123,
    "start_time": "2022-07-12T12:55:18.501Z"
   },
   {
    "duration": 23,
    "start_time": "2022-07-12T12:55:18.626Z"
   },
   {
    "duration": 224,
    "start_time": "2022-07-12T12:55:18.650Z"
   },
   {
    "duration": 26,
    "start_time": "2022-07-12T12:55:18.876Z"
   },
   {
    "duration": 3688,
    "start_time": "2022-07-12T12:55:18.903Z"
   },
   {
    "duration": 25,
    "start_time": "2022-07-12T12:55:22.593Z"
   },
   {
    "duration": 14,
    "start_time": "2022-07-12T12:55:22.620Z"
   },
   {
    "duration": 538,
    "start_time": "2022-07-12T12:55:22.636Z"
   },
   {
    "duration": 6,
    "start_time": "2022-07-12T12:55:23.175Z"
   },
   {
    "duration": 59,
    "start_time": "2022-07-12T12:55:23.183Z"
   },
   {
    "duration": 86,
    "start_time": "2022-07-12T12:55:23.244Z"
   },
   {
    "duration": 14,
    "start_time": "2022-07-12T12:55:23.332Z"
   },
   {
    "duration": 18,
    "start_time": "2022-07-12T12:55:23.348Z"
   },
   {
    "duration": 25,
    "start_time": "2022-07-12T12:56:43.039Z"
   },
   {
    "duration": 14,
    "start_time": "2022-07-12T12:56:46.645Z"
   },
   {
    "duration": 73,
    "start_time": "2022-07-12T13:02:07.539Z"
   },
   {
    "duration": 104,
    "start_time": "2022-07-12T13:06:06.403Z"
   },
   {
    "duration": 12,
    "start_time": "2022-07-12T13:06:29.930Z"
   },
   {
    "duration": 1065,
    "start_time": "2022-07-12T13:06:33.636Z"
   },
   {
    "duration": 72,
    "start_time": "2022-07-12T13:06:34.703Z"
   },
   {
    "duration": 15,
    "start_time": "2022-07-12T13:06:34.776Z"
   },
   {
    "duration": 46,
    "start_time": "2022-07-12T13:06:34.793Z"
   },
   {
    "duration": 14,
    "start_time": "2022-07-12T13:06:34.841Z"
   },
   {
    "duration": 11,
    "start_time": "2022-07-12T13:06:34.857Z"
   },
   {
    "duration": 52,
    "start_time": "2022-07-12T13:06:34.869Z"
   },
   {
    "duration": 8,
    "start_time": "2022-07-12T13:06:34.922Z"
   },
   {
    "duration": 9,
    "start_time": "2022-07-12T13:06:34.931Z"
   },
   {
    "duration": 22,
    "start_time": "2022-07-12T13:06:34.941Z"
   },
   {
    "duration": 216,
    "start_time": "2022-07-12T13:06:34.965Z"
   },
   {
    "duration": 17,
    "start_time": "2022-07-12T13:06:35.184Z"
   },
   {
    "duration": 184,
    "start_time": "2022-07-12T13:06:35.203Z"
   },
   {
    "duration": 26,
    "start_time": "2022-07-12T13:06:35.390Z"
   },
   {
    "duration": 281,
    "start_time": "2022-07-12T13:06:35.418Z"
   },
   {
    "duration": 16,
    "start_time": "2022-07-12T13:06:35.703Z"
   },
   {
    "duration": 3516,
    "start_time": "2022-07-12T13:06:35.721Z"
   },
   {
    "duration": 20,
    "start_time": "2022-07-12T13:06:39.238Z"
   },
   {
    "duration": 13,
    "start_time": "2022-07-12T13:06:39.260Z"
   },
   {
    "duration": 510,
    "start_time": "2022-07-12T13:06:39.274Z"
   },
   {
    "duration": 5,
    "start_time": "2022-07-12T13:06:39.786Z"
   },
   {
    "duration": 157,
    "start_time": "2022-07-12T13:06:39.800Z"
   },
   {
    "duration": 0,
    "start_time": "2022-07-12T13:06:39.959Z"
   },
   {
    "duration": 1,
    "start_time": "2022-07-12T13:06:39.960Z"
   },
   {
    "duration": 0,
    "start_time": "2022-07-12T13:06:39.962Z"
   },
   {
    "duration": 11,
    "start_time": "2022-07-12T13:07:33.172Z"
   },
   {
    "duration": 10,
    "start_time": "2022-07-12T13:07:43.779Z"
   },
   {
    "duration": 4,
    "start_time": "2022-07-12T13:11:02.636Z"
   },
   {
    "duration": 78,
    "start_time": "2022-07-12T13:18:05.885Z"
   },
   {
    "duration": 20,
    "start_time": "2022-07-12T13:18:23.614Z"
   },
   {
    "duration": 1173,
    "start_time": "2022-07-12T13:18:54.946Z"
   },
   {
    "duration": 79,
    "start_time": "2022-07-12T13:18:56.122Z"
   },
   {
    "duration": 17,
    "start_time": "2022-07-12T13:18:56.203Z"
   },
   {
    "duration": 43,
    "start_time": "2022-07-12T13:18:56.222Z"
   },
   {
    "duration": 38,
    "start_time": "2022-07-12T13:18:56.267Z"
   },
   {
    "duration": 9,
    "start_time": "2022-07-12T13:18:56.307Z"
   },
   {
    "duration": 39,
    "start_time": "2022-07-12T13:18:56.317Z"
   },
   {
    "duration": 3,
    "start_time": "2022-07-12T13:18:56.358Z"
   },
   {
    "duration": 14,
    "start_time": "2022-07-12T13:18:56.362Z"
   },
   {
    "duration": 36,
    "start_time": "2022-07-12T13:18:56.378Z"
   },
   {
    "duration": 223,
    "start_time": "2022-07-12T13:18:56.416Z"
   },
   {
    "duration": 7,
    "start_time": "2022-07-12T13:18:56.641Z"
   },
   {
    "duration": 139,
    "start_time": "2022-07-12T13:18:56.649Z"
   },
   {
    "duration": 28,
    "start_time": "2022-07-12T13:18:56.791Z"
   },
   {
    "duration": 218,
    "start_time": "2022-07-12T13:18:56.820Z"
   },
   {
    "duration": 13,
    "start_time": "2022-07-12T13:18:57.040Z"
   },
   {
    "duration": 3425,
    "start_time": "2022-07-12T13:18:57.055Z"
   },
   {
    "duration": 30,
    "start_time": "2022-07-12T13:19:00.481Z"
   },
   {
    "duration": 13,
    "start_time": "2022-07-12T13:19:00.512Z"
   },
   {
    "duration": 534,
    "start_time": "2022-07-12T13:19:00.526Z"
   },
   {
    "duration": 5,
    "start_time": "2022-07-12T13:19:01.063Z"
   },
   {
    "duration": 81,
    "start_time": "2022-07-12T13:19:01.070Z"
   },
   {
    "duration": 79,
    "start_time": "2022-07-12T13:19:01.153Z"
   },
   {
    "duration": 16,
    "start_time": "2022-07-12T13:19:01.234Z"
   },
   {
    "duration": 13,
    "start_time": "2022-07-12T13:19:01.252Z"
   },
   {
    "duration": 17,
    "start_time": "2022-07-12T13:20:04.884Z"
   },
   {
    "duration": 16,
    "start_time": "2022-07-12T13:20:09.739Z"
   },
   {
    "duration": 19,
    "start_time": "2022-07-12T13:20:12.965Z"
   },
   {
    "duration": 3,
    "start_time": "2022-07-12T13:29:35.363Z"
   },
   {
    "duration": 152,
    "start_time": "2022-07-12T13:29:36.097Z"
   },
   {
    "duration": 16,
    "start_time": "2022-07-12T13:29:42.948Z"
   },
   {
    "duration": 89,
    "start_time": "2022-07-12T13:29:58.626Z"
   },
   {
    "duration": 14,
    "start_time": "2022-07-12T13:33:13.977Z"
   },
   {
    "duration": 12,
    "start_time": "2022-07-12T13:33:25.275Z"
   },
   {
    "duration": 7,
    "start_time": "2022-07-12T13:34:44.320Z"
   },
   {
    "duration": 120,
    "start_time": "2022-07-12T13:35:18.829Z"
   },
   {
    "duration": 8,
    "start_time": "2022-07-12T13:35:27.722Z"
   },
   {
    "duration": 104,
    "start_time": "2022-07-12T13:35:41.593Z"
   },
   {
    "duration": 13,
    "start_time": "2022-07-12T13:35:44.084Z"
   },
   {
    "duration": 19,
    "start_time": "2022-07-12T13:35:46.026Z"
   },
   {
    "duration": 9,
    "start_time": "2022-07-12T13:37:03.299Z"
   },
   {
    "duration": 17,
    "start_time": "2022-07-12T13:37:07.119Z"
   },
   {
    "duration": 11,
    "start_time": "2022-07-12T13:37:21.055Z"
   },
   {
    "duration": 15,
    "start_time": "2022-07-12T13:41:21.698Z"
   },
   {
    "duration": 19,
    "start_time": "2022-07-12T13:41:31.385Z"
   },
   {
    "duration": 12,
    "start_time": "2022-07-12T13:42:08.254Z"
   },
   {
    "duration": 19,
    "start_time": "2022-07-12T13:42:38.456Z"
   },
   {
    "duration": 18,
    "start_time": "2022-07-12T13:43:12.270Z"
   },
   {
    "duration": 15,
    "start_time": "2022-07-12T13:43:16.135Z"
   },
   {
    "duration": 19,
    "start_time": "2022-07-12T13:43:23.912Z"
   },
   {
    "duration": 209,
    "start_time": "2022-07-12T13:43:39.885Z"
   },
   {
    "duration": 18,
    "start_time": "2022-07-12T13:44:21.312Z"
   },
   {
    "duration": 19,
    "start_time": "2022-07-12T13:46:35.782Z"
   },
   {
    "duration": 10,
    "start_time": "2022-07-12T13:48:02.664Z"
   },
   {
    "duration": 77,
    "start_time": "2022-07-12T13:48:19.422Z"
   },
   {
    "duration": 79,
    "start_time": "2022-07-12T13:48:25.601Z"
   },
   {
    "duration": 90,
    "start_time": "2022-07-12T13:48:47.499Z"
   },
   {
    "duration": 84,
    "start_time": "2022-07-12T13:48:51.790Z"
   },
   {
    "duration": 95,
    "start_time": "2022-07-12T13:48:54.652Z"
   },
   {
    "duration": 85,
    "start_time": "2022-07-12T13:48:57.394Z"
   },
   {
    "duration": 86,
    "start_time": "2022-07-12T13:49:01.196Z"
   },
   {
    "duration": 90,
    "start_time": "2022-07-12T13:49:04.270Z"
   },
   {
    "duration": 1091,
    "start_time": "2022-07-12T13:50:08.203Z"
   },
   {
    "duration": 72,
    "start_time": "2022-07-12T13:50:09.296Z"
   },
   {
    "duration": 15,
    "start_time": "2022-07-12T13:50:09.370Z"
   },
   {
    "duration": 43,
    "start_time": "2022-07-12T13:50:09.387Z"
   },
   {
    "duration": 14,
    "start_time": "2022-07-12T13:50:09.432Z"
   },
   {
    "duration": 8,
    "start_time": "2022-07-12T13:50:09.447Z"
   },
   {
    "duration": 60,
    "start_time": "2022-07-12T13:50:09.456Z"
   },
   {
    "duration": 2,
    "start_time": "2022-07-12T13:50:09.518Z"
   },
   {
    "duration": 11,
    "start_time": "2022-07-12T13:50:09.521Z"
   },
   {
    "duration": 20,
    "start_time": "2022-07-12T13:50:09.534Z"
   },
   {
    "duration": 200,
    "start_time": "2022-07-12T13:50:09.556Z"
   },
   {
    "duration": 5,
    "start_time": "2022-07-12T13:50:09.758Z"
   },
   {
    "duration": 130,
    "start_time": "2022-07-12T13:50:09.764Z"
   },
   {
    "duration": 22,
    "start_time": "2022-07-12T13:50:09.895Z"
   },
   {
    "duration": 219,
    "start_time": "2022-07-12T13:50:09.919Z"
   },
   {
    "duration": 13,
    "start_time": "2022-07-12T13:50:10.140Z"
   },
   {
    "duration": 3351,
    "start_time": "2022-07-12T13:50:10.155Z"
   },
   {
    "duration": 21,
    "start_time": "2022-07-12T13:50:13.508Z"
   },
   {
    "duration": 14,
    "start_time": "2022-07-12T13:50:13.531Z"
   },
   {
    "duration": 557,
    "start_time": "2022-07-12T13:50:13.547Z"
   },
   {
    "duration": 3,
    "start_time": "2022-07-12T13:50:14.105Z"
   },
   {
    "duration": 105,
    "start_time": "2022-07-12T13:50:14.110Z"
   },
   {
    "duration": 3,
    "start_time": "2022-07-12T13:50:14.216Z"
   },
   {
    "duration": 114,
    "start_time": "2022-07-12T13:50:14.220Z"
   },
   {
    "duration": 0,
    "start_time": "2022-07-12T13:50:14.336Z"
   },
   {
    "duration": 0,
    "start_time": "2022-07-12T13:50:14.337Z"
   },
   {
    "duration": 0,
    "start_time": "2022-07-12T13:50:14.338Z"
   },
   {
    "duration": 14,
    "start_time": "2022-07-12T13:50:40.533Z"
   },
   {
    "duration": 16,
    "start_time": "2022-07-12T13:50:50.501Z"
   },
   {
    "duration": 13,
    "start_time": "2022-07-12T13:50:53.363Z"
   },
   {
    "duration": 20,
    "start_time": "2022-07-12T13:50:55.494Z"
   },
   {
    "duration": 17,
    "start_time": "2022-07-12T13:51:00.791Z"
   },
   {
    "duration": 145,
    "start_time": "2022-07-12T13:52:57.713Z"
   },
   {
    "duration": 246,
    "start_time": "2022-07-12T13:53:09.916Z"
   },
   {
    "duration": 12,
    "start_time": "2022-07-12T13:53:46.173Z"
   },
   {
    "duration": 9,
    "start_time": "2022-07-12T13:54:04.865Z"
   },
   {
    "duration": 159,
    "start_time": "2022-07-12T13:54:26.532Z"
   },
   {
    "duration": 9,
    "start_time": "2022-07-12T13:54:41.811Z"
   },
   {
    "duration": 10,
    "start_time": "2022-07-12T13:55:02.889Z"
   },
   {
    "duration": 17,
    "start_time": "2022-07-12T13:57:02.377Z"
   },
   {
    "duration": 35,
    "start_time": "2022-07-12T14:00:28.761Z"
   },
   {
    "duration": 1061,
    "start_time": "2022-07-12T14:00:47.624Z"
   },
   {
    "duration": 74,
    "start_time": "2022-07-12T14:00:48.687Z"
   },
   {
    "duration": 15,
    "start_time": "2022-07-12T14:00:48.762Z"
   },
   {
    "duration": 48,
    "start_time": "2022-07-12T14:00:48.779Z"
   },
   {
    "duration": 14,
    "start_time": "2022-07-12T14:00:48.828Z"
   },
   {
    "duration": 7,
    "start_time": "2022-07-12T14:00:48.844Z"
   },
   {
    "duration": 55,
    "start_time": "2022-07-12T14:00:48.853Z"
   },
   {
    "duration": 3,
    "start_time": "2022-07-12T14:00:48.910Z"
   },
   {
    "duration": 10,
    "start_time": "2022-07-12T14:00:48.914Z"
   },
   {
    "duration": 23,
    "start_time": "2022-07-12T14:00:48.927Z"
   },
   {
    "duration": 215,
    "start_time": "2022-07-12T14:00:48.951Z"
   },
   {
    "duration": 8,
    "start_time": "2022-07-12T14:00:49.168Z"
   },
   {
    "duration": 129,
    "start_time": "2022-07-12T14:00:49.177Z"
   },
   {
    "duration": 20,
    "start_time": "2022-07-12T14:00:49.308Z"
   },
   {
    "duration": 237,
    "start_time": "2022-07-12T14:00:49.330Z"
   },
   {
    "duration": 13,
    "start_time": "2022-07-12T14:00:49.570Z"
   },
   {
    "duration": 3321,
    "start_time": "2022-07-12T14:00:49.585Z"
   },
   {
    "duration": 20,
    "start_time": "2022-07-12T14:00:52.908Z"
   },
   {
    "duration": 15,
    "start_time": "2022-07-12T14:00:52.930Z"
   },
   {
    "duration": 533,
    "start_time": "2022-07-12T14:00:52.947Z"
   },
   {
    "duration": 3,
    "start_time": "2022-07-12T14:00:53.482Z"
   },
   {
    "duration": 104,
    "start_time": "2022-07-12T14:00:53.486Z"
   },
   {
    "duration": 8,
    "start_time": "2022-07-12T14:00:53.592Z"
   },
   {
    "duration": 14,
    "start_time": "2022-07-12T14:00:53.602Z"
   },
   {
    "duration": 17,
    "start_time": "2022-07-12T14:00:53.618Z"
   },
   {
    "duration": 12,
    "start_time": "2022-07-12T14:00:53.636Z"
   },
   {
    "duration": 16,
    "start_time": "2022-07-12T14:00:53.649Z"
   },
   {
    "duration": 9,
    "start_time": "2022-07-12T14:05:13.692Z"
   },
   {
    "duration": 11,
    "start_time": "2022-07-12T14:05:23.201Z"
   },
   {
    "duration": 11,
    "start_time": "2022-07-12T14:05:38.528Z"
   },
   {
    "duration": 10,
    "start_time": "2022-07-12T14:05:44.649Z"
   },
   {
    "duration": 12,
    "start_time": "2022-07-12T14:05:50.991Z"
   },
   {
    "duration": 189,
    "start_time": "2022-07-12T14:07:06.809Z"
   },
   {
    "duration": 189,
    "start_time": "2022-07-12T14:07:22.330Z"
   },
   {
    "duration": 185,
    "start_time": "2022-07-12T14:07:29.430Z"
   },
   {
    "duration": 232,
    "start_time": "2022-07-12T14:07:35.623Z"
   },
   {
    "duration": 246,
    "start_time": "2022-07-12T14:07:49.848Z"
   },
   {
    "duration": 171,
    "start_time": "2022-07-12T14:08:04.080Z"
   },
   {
    "duration": 176,
    "start_time": "2022-07-12T14:08:12.781Z"
   },
   {
    "duration": 204,
    "start_time": "2022-07-12T14:10:37.771Z"
   },
   {
    "duration": 11,
    "start_time": "2022-07-12T14:11:52.397Z"
   },
   {
    "duration": 187,
    "start_time": "2022-07-12T14:11:58.420Z"
   },
   {
    "duration": 197,
    "start_time": "2022-07-12T14:12:13.081Z"
   },
   {
    "duration": 53,
    "start_time": "2022-07-12T14:12:39.139Z"
   },
   {
    "duration": 239,
    "start_time": "2022-07-12T14:12:46.391Z"
   },
   {
    "duration": 235,
    "start_time": "2022-07-12T14:12:52.591Z"
   },
   {
    "duration": 5,
    "start_time": "2022-07-12T14:23:12.085Z"
   },
   {
    "duration": 91,
    "start_time": "2022-07-12T14:48:08.748Z"
   },
   {
    "duration": 3,
    "start_time": "2022-07-12T14:48:15.610Z"
   },
   {
    "duration": 85,
    "start_time": "2022-07-12T14:48:18.342Z"
   },
   {
    "duration": 80,
    "start_time": "2022-07-12T14:48:23.737Z"
   },
   {
    "duration": 80,
    "start_time": "2022-07-12T14:48:29.876Z"
   },
   {
    "duration": 82,
    "start_time": "2022-07-12T14:48:36.131Z"
   },
   {
    "duration": 84,
    "start_time": "2022-07-12T14:48:44.073Z"
   },
   {
    "duration": 83,
    "start_time": "2022-07-12T14:48:48.464Z"
   },
   {
    "duration": 86,
    "start_time": "2022-07-12T14:48:56.611Z"
   },
   {
    "duration": 111,
    "start_time": "2022-07-12T14:49:03.895Z"
   },
   {
    "duration": 81,
    "start_time": "2022-07-12T14:49:10.747Z"
   },
   {
    "duration": 1835,
    "start_time": "2022-07-12T14:59:36.206Z"
   },
   {
    "duration": 1575,
    "start_time": "2022-07-12T14:59:48.805Z"
   },
   {
    "duration": 14,
    "start_time": "2022-07-12T14:59:59.000Z"
   },
   {
    "duration": 18,
    "start_time": "2022-07-12T15:09:23.161Z"
   },
   {
    "duration": 43,
    "start_time": "2022-07-12T15:32:13.737Z"
   },
   {
    "duration": 33,
    "start_time": "2022-07-12T15:32:22.144Z"
   },
   {
    "duration": 37,
    "start_time": "2022-07-12T15:32:36.444Z"
   },
   {
    "duration": 48,
    "start_time": "2022-07-12T15:35:31.815Z"
   },
   {
    "duration": 48,
    "start_time": "2022-07-12T15:35:35.718Z"
   },
   {
    "duration": 36,
    "start_time": "2022-07-12T15:35:46.317Z"
   },
   {
    "duration": 37,
    "start_time": "2022-07-12T15:36:07.358Z"
   },
   {
    "duration": 83,
    "start_time": "2022-07-12T15:36:21.786Z"
   },
   {
    "duration": 32,
    "start_time": "2022-07-12T15:37:20.235Z"
   },
   {
    "duration": 61,
    "start_time": "2022-07-12T15:38:35.877Z"
   },
   {
    "duration": 54,
    "start_time": "2022-07-12T15:38:58.274Z"
   },
   {
    "duration": 66,
    "start_time": "2022-07-12T15:39:16.595Z"
   },
   {
    "duration": 59,
    "start_time": "2022-07-12T15:39:22.662Z"
   },
   {
    "duration": 58,
    "start_time": "2022-07-12T15:48:06.567Z"
   },
   {
    "duration": 75,
    "start_time": "2022-07-12T15:48:10.137Z"
   },
   {
    "duration": 35,
    "start_time": "2022-07-12T15:48:21.215Z"
   },
   {
    "duration": 51,
    "start_time": "2022-07-12T15:49:26.433Z"
   },
   {
    "duration": 55,
    "start_time": "2022-07-12T15:53:12.981Z"
   },
   {
    "duration": 56,
    "start_time": "2022-07-12T15:55:36.424Z"
   },
   {
    "duration": 62,
    "start_time": "2022-07-12T15:56:00.365Z"
   },
   {
    "duration": 36,
    "start_time": "2022-07-12T16:01:44.450Z"
   },
   {
    "duration": 41,
    "start_time": "2022-07-12T16:02:11.717Z"
   },
   {
    "duration": 37,
    "start_time": "2022-07-12T16:02:23.621Z"
   },
   {
    "duration": 70,
    "start_time": "2022-07-12T16:02:59.753Z"
   },
   {
    "duration": 102,
    "start_time": "2022-07-12T16:03:09.684Z"
   },
   {
    "duration": 14,
    "start_time": "2022-07-12T16:06:57.587Z"
   },
   {
    "duration": 14,
    "start_time": "2022-07-12T16:07:07.493Z"
   },
   {
    "duration": 15,
    "start_time": "2022-07-12T16:08:02.057Z"
   },
   {
    "duration": 14,
    "start_time": "2022-07-12T16:08:52.704Z"
   },
   {
    "duration": 74,
    "start_time": "2022-07-12T16:09:15.268Z"
   },
   {
    "duration": 37,
    "start_time": "2022-07-12T16:10:49.612Z"
   },
   {
    "duration": 37,
    "start_time": "2022-07-12T16:10:58.715Z"
   },
   {
    "duration": 57,
    "start_time": "2022-07-12T16:15:31.986Z"
   },
   {
    "duration": 47,
    "start_time": "2022-07-12T16:15:36.923Z"
   },
   {
    "duration": 59,
    "start_time": "2022-07-12T16:18:13.181Z"
   },
   {
    "duration": 34,
    "start_time": "2022-07-12T16:20:05.392Z"
   },
   {
    "duration": 17,
    "start_time": "2022-07-12T16:20:49.545Z"
   },
   {
    "duration": 30,
    "start_time": "2022-07-12T16:20:59.528Z"
   },
   {
    "duration": 33,
    "start_time": "2022-07-12T16:22:19.165Z"
   },
   {
    "duration": 9,
    "start_time": "2022-07-12T16:24:26.112Z"
   },
   {
    "duration": 4,
    "start_time": "2022-07-12T16:25:24.413Z"
   },
   {
    "duration": 14,
    "start_time": "2022-07-12T16:25:29.862Z"
   },
   {
    "duration": 10,
    "start_time": "2022-07-12T16:26:35.027Z"
   },
   {
    "duration": 7,
    "start_time": "2022-07-12T16:26:46.710Z"
   },
   {
    "duration": 6,
    "start_time": "2022-07-12T16:27:04.133Z"
   },
   {
    "duration": 11,
    "start_time": "2022-07-12T16:27:20.853Z"
   },
   {
    "duration": 861,
    "start_time": "2022-07-12T16:27:37.730Z"
   },
   {
    "duration": 12,
    "start_time": "2022-07-12T16:27:50.680Z"
   },
   {
    "duration": 10,
    "start_time": "2022-07-12T16:28:03.254Z"
   },
   {
    "duration": 6,
    "start_time": "2022-07-12T16:29:01.722Z"
   },
   {
    "duration": 13,
    "start_time": "2022-07-12T16:29:21.405Z"
   },
   {
    "duration": 15,
    "start_time": "2022-07-12T16:33:21.471Z"
   },
   {
    "duration": 18,
    "start_time": "2022-07-12T16:35:53.298Z"
   },
   {
    "duration": 17,
    "start_time": "2022-07-12T16:36:04.196Z"
   },
   {
    "duration": 14,
    "start_time": "2022-07-12T16:37:02.893Z"
   },
   {
    "duration": 10,
    "start_time": "2022-07-12T16:44:07.976Z"
   },
   {
    "duration": 448,
    "start_time": "2022-07-12T16:44:30.734Z"
   },
   {
    "duration": 359,
    "start_time": "2022-07-12T16:44:44.426Z"
   },
   {
    "duration": 458,
    "start_time": "2022-07-12T16:45:02.374Z"
   },
   {
    "duration": 441,
    "start_time": "2022-07-12T16:45:24.216Z"
   },
   {
    "duration": 433,
    "start_time": "2022-07-12T16:45:29.300Z"
   },
   {
    "duration": 272,
    "start_time": "2022-07-12T16:52:45.041Z"
   },
   {
    "duration": 649,
    "start_time": "2022-07-12T16:53:31.911Z"
   },
   {
    "duration": 273,
    "start_time": "2022-07-12T16:54:08.501Z"
   },
   {
    "duration": 514,
    "start_time": "2022-07-12T16:54:17.450Z"
   },
   {
    "duration": 1606,
    "start_time": "2022-07-12T16:56:38.450Z"
   },
   {
    "duration": 637,
    "start_time": "2022-07-12T16:56:47.882Z"
   },
   {
    "duration": 681,
    "start_time": "2022-07-12T17:00:50.261Z"
   },
   {
    "duration": 823,
    "start_time": "2022-07-12T17:01:58.602Z"
   },
   {
    "duration": 15,
    "start_time": "2022-07-12T17:02:02.968Z"
   },
   {
    "duration": 14,
    "start_time": "2022-07-12T17:02:05.949Z"
   },
   {
    "duration": 5,
    "start_time": "2022-07-12T17:02:09.318Z"
   },
   {
    "duration": 9,
    "start_time": "2022-07-12T17:02:38.982Z"
   },
   {
    "duration": 11,
    "start_time": "2022-07-12T17:03:03.373Z"
   },
   {
    "duration": 8,
    "start_time": "2022-07-12T17:03:25.855Z"
   },
   {
    "duration": 10,
    "start_time": "2022-07-12T17:03:40.753Z"
   },
   {
    "duration": 11,
    "start_time": "2022-07-12T17:03:58.592Z"
   },
   {
    "duration": 10,
    "start_time": "2022-07-12T17:04:13.613Z"
   },
   {
    "duration": 9,
    "start_time": "2022-07-12T17:04:22.581Z"
   },
   {
    "duration": 10,
    "start_time": "2022-07-12T17:04:28.265Z"
   },
   {
    "duration": 14,
    "start_time": "2022-07-12T17:04:55.523Z"
   },
   {
    "duration": 10,
    "start_time": "2022-07-12T17:05:09.425Z"
   },
   {
    "duration": 16,
    "start_time": "2022-07-12T17:06:28.144Z"
   },
   {
    "duration": 14,
    "start_time": "2022-07-12T17:06:51.644Z"
   },
   {
    "duration": 14,
    "start_time": "2022-07-12T17:07:03.865Z"
   },
   {
    "duration": 13,
    "start_time": "2022-07-12T17:07:18.556Z"
   },
   {
    "duration": 6,
    "start_time": "2022-07-12T17:08:04.539Z"
   },
   {
    "duration": 16,
    "start_time": "2022-07-12T17:08:22.262Z"
   },
   {
    "duration": 12,
    "start_time": "2022-07-12T17:09:01.607Z"
   },
   {
    "duration": 7,
    "start_time": "2022-07-12T17:09:06.513Z"
   },
   {
    "duration": 8,
    "start_time": "2022-07-12T17:09:28.972Z"
   },
   {
    "duration": 15,
    "start_time": "2022-07-12T17:09:40.064Z"
   },
   {
    "duration": 5,
    "start_time": "2022-07-12T17:10:16.378Z"
   },
   {
    "duration": 6,
    "start_time": "2022-07-12T17:11:01.657Z"
   },
   {
    "duration": 6,
    "start_time": "2022-07-12T17:11:45.166Z"
   },
   {
    "duration": 6,
    "start_time": "2022-07-12T17:11:57.052Z"
   },
   {
    "duration": 6,
    "start_time": "2022-07-12T17:12:05.748Z"
   },
   {
    "duration": 6,
    "start_time": "2022-07-12T17:20:57.115Z"
   },
   {
    "duration": 64,
    "start_time": "2022-07-13T09:59:52.743Z"
   },
   {
    "duration": 1339,
    "start_time": "2022-07-13T09:59:56.884Z"
   },
   {
    "duration": 126,
    "start_time": "2022-07-13T09:59:58.225Z"
   },
   {
    "duration": 18,
    "start_time": "2022-07-13T09:59:58.353Z"
   },
   {
    "duration": 41,
    "start_time": "2022-07-13T09:59:58.374Z"
   },
   {
    "duration": 24,
    "start_time": "2022-07-13T09:59:58.417Z"
   },
   {
    "duration": 12,
    "start_time": "2022-07-13T09:59:58.461Z"
   },
   {
    "duration": 39,
    "start_time": "2022-07-13T09:59:58.476Z"
   },
   {
    "duration": 261,
    "start_time": "2022-07-13T09:59:58.517Z"
   },
   {
    "duration": 126,
    "start_time": "2022-07-13T09:59:58.780Z"
   },
   {
    "duration": 29,
    "start_time": "2022-07-13T09:59:58.910Z"
   },
   {
    "duration": 214,
    "start_time": "2022-07-13T09:59:58.941Z"
   },
   {
    "duration": 15,
    "start_time": "2022-07-13T09:59:59.156Z"
   },
   {
    "duration": 4461,
    "start_time": "2022-07-13T09:59:59.173Z"
   },
   {
    "duration": 31,
    "start_time": "2022-07-13T10:00:03.635Z"
   },
   {
    "duration": 20,
    "start_time": "2022-07-13T10:00:03.668Z"
   },
   {
    "duration": 520,
    "start_time": "2022-07-13T10:00:03.690Z"
   },
   {
    "duration": 3,
    "start_time": "2022-07-13T10:00:04.212Z"
   },
   {
    "duration": 128,
    "start_time": "2022-07-13T10:00:04.217Z"
   },
   {
    "duration": 3,
    "start_time": "2022-07-13T10:00:04.346Z"
   },
   {
    "duration": 38,
    "start_time": "2022-07-13T10:00:04.351Z"
   },
   {
    "duration": 232,
    "start_time": "2022-07-13T10:00:04.391Z"
   },
   {
    "duration": 1105,
    "start_time": "2022-07-13T10:00:04.625Z"
   },
   {
    "duration": 17,
    "start_time": "2022-07-13T10:00:05.732Z"
   },
   {
    "duration": 25,
    "start_time": "2022-07-13T10:00:05.751Z"
   },
   {
    "duration": 17,
    "start_time": "2022-07-13T10:00:05.779Z"
   },
   {
    "duration": 17,
    "start_time": "2022-07-13T10:00:05.798Z"
   },
   {
    "duration": 21,
    "start_time": "2022-07-13T10:00:05.817Z"
   },
   {
    "duration": 27,
    "start_time": "2022-07-13T10:00:05.843Z"
   },
   {
    "duration": 6,
    "start_time": "2022-07-13T10:00:05.872Z"
   },
   {
    "duration": 5,
    "start_time": "2022-07-13T10:02:18.114Z"
   },
   {
    "duration": 11,
    "start_time": "2022-07-13T11:13:28.419Z"
   },
   {
    "duration": 9,
    "start_time": "2022-07-13T11:13:42.185Z"
   },
   {
    "duration": 8,
    "start_time": "2022-07-13T11:13:44.865Z"
   },
   {
    "duration": 6,
    "start_time": "2022-07-13T11:30:11.277Z"
   },
   {
    "duration": 6,
    "start_time": "2022-07-13T11:30:15.810Z"
   },
   {
    "duration": 118,
    "start_time": "2022-07-13T11:32:41.999Z"
   },
   {
    "duration": 11,
    "start_time": "2022-07-13T11:32:49.071Z"
   },
   {
    "duration": 10,
    "start_time": "2022-07-13T11:33:48.808Z"
   },
   {
    "duration": 12,
    "start_time": "2022-07-13T11:33:56.459Z"
   },
   {
    "duration": 10,
    "start_time": "2022-07-13T11:34:03.356Z"
   },
   {
    "duration": 48,
    "start_time": "2022-07-13T12:32:50.032Z"
   },
   {
    "duration": 8,
    "start_time": "2022-07-13T12:32:53.550Z"
   },
   {
    "duration": 8,
    "start_time": "2022-07-13T12:33:11.816Z"
   },
   {
    "duration": 9,
    "start_time": "2022-07-13T12:33:36.802Z"
   },
   {
    "duration": 9,
    "start_time": "2022-07-13T12:34:17.132Z"
   },
   {
    "duration": 9,
    "start_time": "2022-07-13T12:34:47.940Z"
   },
   {
    "duration": 14,
    "start_time": "2022-07-13T12:35:26.944Z"
   },
   {
    "duration": 9,
    "start_time": "2022-07-13T12:46:12.237Z"
   },
   {
    "duration": 5,
    "start_time": "2022-07-13T12:47:35.957Z"
   },
   {
    "duration": 4,
    "start_time": "2022-07-13T12:47:40.403Z"
   },
   {
    "duration": 4,
    "start_time": "2022-07-13T12:47:55.173Z"
   },
   {
    "duration": 11,
    "start_time": "2022-07-13T12:48:15.595Z"
   },
   {
    "duration": 1203,
    "start_time": "2022-07-13T12:51:26.082Z"
   },
   {
    "duration": 74,
    "start_time": "2022-07-13T12:51:27.287Z"
   },
   {
    "duration": 15,
    "start_time": "2022-07-13T12:51:27.362Z"
   },
   {
    "duration": 49,
    "start_time": "2022-07-13T12:51:27.379Z"
   },
   {
    "duration": 14,
    "start_time": "2022-07-13T12:51:27.430Z"
   },
   {
    "duration": 13,
    "start_time": "2022-07-13T12:51:27.461Z"
   },
   {
    "duration": 38,
    "start_time": "2022-07-13T12:51:27.476Z"
   },
   {
    "duration": 228,
    "start_time": "2022-07-13T12:51:27.516Z"
   },
   {
    "duration": 156,
    "start_time": "2022-07-13T12:51:27.746Z"
   },
   {
    "duration": 20,
    "start_time": "2022-07-13T12:51:27.908Z"
   },
   {
    "duration": 220,
    "start_time": "2022-07-13T12:51:27.929Z"
   },
   {
    "duration": 10,
    "start_time": "2022-07-13T12:51:28.150Z"
   },
   {
    "duration": 18,
    "start_time": "2022-07-13T12:51:28.162Z"
   },
   {
    "duration": 4618,
    "start_time": "2022-07-13T12:51:28.182Z"
   },
   {
    "duration": 19,
    "start_time": "2022-07-13T12:51:32.801Z"
   },
   {
    "duration": 13,
    "start_time": "2022-07-13T12:51:32.821Z"
   },
   {
    "duration": 494,
    "start_time": "2022-07-13T12:51:32.835Z"
   },
   {
    "duration": 87,
    "start_time": "2022-07-13T12:51:33.331Z"
   },
   {
    "duration": 9,
    "start_time": "2022-07-13T12:51:33.420Z"
   },
   {
    "duration": 248,
    "start_time": "2022-07-13T12:51:33.431Z"
   },
   {
    "duration": 974,
    "start_time": "2022-07-13T12:51:33.681Z"
   },
   {
    "duration": 3,
    "start_time": "2022-07-13T12:51:34.656Z"
   },
   {
    "duration": 27,
    "start_time": "2022-07-13T12:51:34.661Z"
   },
   {
    "duration": 26,
    "start_time": "2022-07-13T12:51:34.690Z"
   },
   {
    "duration": 7,
    "start_time": "2022-07-13T12:51:34.718Z"
   },
   {
    "duration": 9,
    "start_time": "2022-07-13T12:51:34.727Z"
   },
   {
    "duration": 25,
    "start_time": "2022-07-13T12:51:34.738Z"
   },
   {
    "duration": 14,
    "start_time": "2022-07-13T12:51:34.766Z"
   },
   {
    "duration": 5,
    "start_time": "2022-07-13T12:51:34.781Z"
   },
   {
    "duration": 9,
    "start_time": "2022-07-13T12:51:34.787Z"
   },
   {
    "duration": 16,
    "start_time": "2022-07-13T12:51:34.797Z"
   },
   {
    "duration": 13,
    "start_time": "2022-07-13T12:51:34.814Z"
   },
   {
    "duration": 122,
    "start_time": "2022-07-13T15:41:23.634Z"
   },
   {
    "duration": 13,
    "start_time": "2022-07-13T15:41:35.516Z"
   },
   {
    "duration": 176,
    "start_time": "2022-07-13T15:41:45.805Z"
   },
   {
    "duration": 155,
    "start_time": "2022-07-13T15:41:55.024Z"
   },
   {
    "duration": 224,
    "start_time": "2022-07-13T15:42:02.302Z"
   },
   {
    "duration": 137,
    "start_time": "2022-07-13T15:42:12.427Z"
   },
   {
    "duration": 138,
    "start_time": "2022-07-13T15:42:23.741Z"
   },
   {
    "duration": 165,
    "start_time": "2022-07-13T15:42:36.562Z"
   },
   {
    "duration": 13,
    "start_time": "2022-07-13T15:44:11.096Z"
   },
   {
    "duration": 17,
    "start_time": "2022-07-13T15:44:25.237Z"
   },
   {
    "duration": 8,
    "start_time": "2022-07-13T15:44:30.100Z"
   },
   {
    "duration": 12,
    "start_time": "2022-07-13T15:44:38.844Z"
   },
   {
    "duration": 13,
    "start_time": "2022-07-13T15:45:01.217Z"
   },
   {
    "duration": 262,
    "start_time": "2022-07-13T15:48:01.121Z"
   },
   {
    "duration": 208,
    "start_time": "2022-07-13T15:48:07.480Z"
   },
   {
    "duration": 114,
    "start_time": "2022-07-13T15:48:53.846Z"
   },
   {
    "duration": 214,
    "start_time": "2022-07-13T15:49:06.315Z"
   },
   {
    "duration": 12,
    "start_time": "2022-07-13T15:49:19.440Z"
   },
   {
    "duration": 155,
    "start_time": "2022-07-13T15:49:27.676Z"
   },
   {
    "duration": 13,
    "start_time": "2022-07-13T15:49:44.682Z"
   },
   {
    "duration": 221,
    "start_time": "2022-07-13T15:50:04.490Z"
   },
   {
    "duration": 243,
    "start_time": "2022-07-13T15:50:11.538Z"
   },
   {
    "duration": 324,
    "start_time": "2022-07-13T15:50:22.919Z"
   },
   {
    "duration": 222,
    "start_time": "2022-07-13T15:52:10.251Z"
   },
   {
    "duration": 221,
    "start_time": "2022-07-13T15:52:21.873Z"
   },
   {
    "duration": 228,
    "start_time": "2022-07-13T15:53:02.911Z"
   },
   {
    "duration": 20,
    "start_time": "2022-07-13T15:53:08.125Z"
   },
   {
    "duration": 241,
    "start_time": "2022-07-13T15:53:10.070Z"
   },
   {
    "duration": 648,
    "start_time": "2022-07-13T15:55:00.561Z"
   },
   {
    "duration": 685,
    "start_time": "2022-07-13T15:55:31.117Z"
   },
   {
    "duration": 1224,
    "start_time": "2022-07-13T15:57:42.572Z"
   },
   {
    "duration": 186,
    "start_time": "2022-07-13T15:57:43.799Z"
   },
   {
    "duration": 14,
    "start_time": "2022-07-13T15:57:43.986Z"
   },
   {
    "duration": 94,
    "start_time": "2022-07-13T15:57:44.002Z"
   },
   {
    "duration": 78,
    "start_time": "2022-07-13T15:57:44.098Z"
   },
   {
    "duration": 9,
    "start_time": "2022-07-13T15:57:44.179Z"
   },
   {
    "duration": 95,
    "start_time": "2022-07-13T15:57:44.189Z"
   },
   {
    "duration": 481,
    "start_time": "2022-07-13T15:57:44.286Z"
   },
   {
    "duration": 233,
    "start_time": "2022-07-13T15:57:44.769Z"
   },
   {
    "duration": 27,
    "start_time": "2022-07-13T15:57:45.060Z"
   },
   {
    "duration": 2,
    "start_time": "2022-07-13T15:57:45.089Z"
   },
   {
    "duration": 486,
    "start_time": "2022-07-13T15:57:45.092Z"
   },
   {
    "duration": 5,
    "start_time": "2022-07-13T15:57:45.581Z"
   },
   {
    "duration": 18,
    "start_time": "2022-07-13T15:57:45.588Z"
   },
   {
    "duration": 3393,
    "start_time": "2022-07-13T15:57:45.608Z"
   },
   {
    "duration": 20,
    "start_time": "2022-07-13T15:57:49.003Z"
   },
   {
    "duration": 15,
    "start_time": "2022-07-13T15:57:49.025Z"
   },
   {
    "duration": 485,
    "start_time": "2022-07-13T15:57:49.061Z"
   },
   {
    "duration": 93,
    "start_time": "2022-07-13T15:57:49.548Z"
   },
   {
    "duration": 26,
    "start_time": "2022-07-13T15:57:49.642Z"
   },
   {
    "duration": 233,
    "start_time": "2022-07-13T15:57:49.670Z"
   },
   {
    "duration": 1291,
    "start_time": "2022-07-13T15:57:49.904Z"
   },
   {
    "duration": 3,
    "start_time": "2022-07-13T15:57:51.196Z"
   },
   {
    "duration": 17,
    "start_time": "2022-07-13T15:57:51.200Z"
   },
   {
    "duration": 14,
    "start_time": "2022-07-13T15:57:51.219Z"
   },
   {
    "duration": 5,
    "start_time": "2022-07-13T15:57:51.235Z"
   },
   {
    "duration": 28,
    "start_time": "2022-07-13T15:57:51.242Z"
   },
   {
    "duration": 15,
    "start_time": "2022-07-13T15:57:51.275Z"
   },
   {
    "duration": 13,
    "start_time": "2022-07-13T15:57:51.291Z"
   },
   {
    "duration": 5,
    "start_time": "2022-07-13T15:57:51.305Z"
   },
   {
    "duration": 7,
    "start_time": "2022-07-13T15:57:51.312Z"
   },
   {
    "duration": 12,
    "start_time": "2022-07-13T15:57:51.321Z"
   },
   {
    "duration": 41,
    "start_time": "2022-07-13T15:57:51.335Z"
   },
   {
    "duration": 214,
    "start_time": "2022-07-13T15:57:53.719Z"
   },
   {
    "duration": 244,
    "start_time": "2022-07-13T15:58:24.942Z"
   },
   {
    "duration": 379,
    "start_time": "2022-07-13T15:58:38.733Z"
   },
   {
    "duration": 13,
    "start_time": "2022-07-13T15:59:47.949Z"
   },
   {
    "duration": 19,
    "start_time": "2022-07-13T16:00:10.038Z"
   },
   {
    "duration": 253,
    "start_time": "2022-07-13T16:00:42.230Z"
   },
   {
    "duration": 270,
    "start_time": "2022-07-13T16:00:55.723Z"
   },
   {
    "duration": 280,
    "start_time": "2022-07-13T16:04:25.228Z"
   },
   {
    "duration": 269,
    "start_time": "2022-07-13T16:04:50.319Z"
   },
   {
    "duration": 1225,
    "start_time": "2022-07-13T16:35:11.011Z"
   },
   {
    "duration": 90,
    "start_time": "2022-07-13T16:35:12.239Z"
   },
   {
    "duration": 15,
    "start_time": "2022-07-13T16:35:12.331Z"
   },
   {
    "duration": 59,
    "start_time": "2022-07-13T16:35:12.348Z"
   },
   {
    "duration": 16,
    "start_time": "2022-07-13T16:35:12.408Z"
   },
   {
    "duration": 13,
    "start_time": "2022-07-13T16:35:12.426Z"
   },
   {
    "duration": 65,
    "start_time": "2022-07-13T16:35:12.440Z"
   },
   {
    "duration": 242,
    "start_time": "2022-07-13T16:35:12.508Z"
   },
   {
    "duration": 158,
    "start_time": "2022-07-13T16:35:12.752Z"
   },
   {
    "duration": 308,
    "start_time": "2022-07-13T16:35:12.913Z"
   },
   {
    "duration": 236,
    "start_time": "2022-07-13T16:35:13.223Z"
   },
   {
    "duration": 22,
    "start_time": "2022-07-13T16:35:13.460Z"
   },
   {
    "duration": 31,
    "start_time": "2022-07-13T16:35:13.487Z"
   },
   {
    "duration": 3989,
    "start_time": "2022-07-13T16:35:13.520Z"
   },
   {
    "duration": 19,
    "start_time": "2022-07-13T16:35:17.511Z"
   },
   {
    "duration": 13,
    "start_time": "2022-07-13T16:35:17.532Z"
   },
   {
    "duration": 603,
    "start_time": "2022-07-13T16:35:17.547Z"
   },
   {
    "duration": 117,
    "start_time": "2022-07-13T16:35:18.152Z"
   },
   {
    "duration": 17,
    "start_time": "2022-07-13T16:35:18.271Z"
   },
   {
    "duration": 248,
    "start_time": "2022-07-13T16:35:18.290Z"
   },
   {
    "duration": 978,
    "start_time": "2022-07-13T16:35:18.540Z"
   },
   {
    "duration": 2,
    "start_time": "2022-07-13T16:35:19.521Z"
   },
   {
    "duration": 26,
    "start_time": "2022-07-13T16:35:19.525Z"
   },
   {
    "duration": 20,
    "start_time": "2022-07-13T16:35:19.552Z"
   },
   {
    "duration": 23,
    "start_time": "2022-07-13T16:35:19.573Z"
   },
   {
    "duration": 20,
    "start_time": "2022-07-13T16:35:19.598Z"
   },
   {
    "duration": 19,
    "start_time": "2022-07-13T16:35:19.620Z"
   },
   {
    "duration": 17,
    "start_time": "2022-07-13T16:35:19.643Z"
   },
   {
    "duration": 37,
    "start_time": "2022-07-13T16:35:19.661Z"
   },
   {
    "duration": 12,
    "start_time": "2022-07-13T16:35:19.700Z"
   },
   {
    "duration": 21,
    "start_time": "2022-07-13T16:35:19.714Z"
   },
   {
    "duration": 46,
    "start_time": "2022-07-13T16:35:19.737Z"
   },
   {
    "duration": 1169,
    "start_time": "2022-07-13T16:44:39.370Z"
   },
   {
    "duration": 96,
    "start_time": "2022-07-13T16:44:40.542Z"
   },
   {
    "duration": 39,
    "start_time": "2022-07-13T16:44:40.644Z"
   },
   {
    "duration": 49,
    "start_time": "2022-07-13T16:44:40.685Z"
   },
   {
    "duration": 13,
    "start_time": "2022-07-13T16:44:40.736Z"
   },
   {
    "duration": 17,
    "start_time": "2022-07-13T16:44:40.750Z"
   },
   {
    "duration": 49,
    "start_time": "2022-07-13T16:44:40.772Z"
   },
   {
    "duration": 211,
    "start_time": "2022-07-13T16:44:40.822Z"
   },
   {
    "duration": 146,
    "start_time": "2022-07-13T16:44:41.036Z"
   },
   {
    "duration": 270,
    "start_time": "2022-07-13T16:44:41.186Z"
   },
   {
    "duration": 241,
    "start_time": "2022-07-13T16:44:41.458Z"
   },
   {
    "duration": 4,
    "start_time": "2022-07-13T16:44:41.701Z"
   },
   {
    "duration": 29,
    "start_time": "2022-07-13T16:44:41.707Z"
   },
   {
    "duration": 3467,
    "start_time": "2022-07-13T16:44:41.738Z"
   },
   {
    "duration": 19,
    "start_time": "2022-07-13T16:44:45.206Z"
   },
   {
    "duration": 14,
    "start_time": "2022-07-13T16:44:45.227Z"
   },
   {
    "duration": 547,
    "start_time": "2022-07-13T16:44:45.243Z"
   },
   {
    "duration": 98,
    "start_time": "2022-07-13T16:44:45.792Z"
   },
   {
    "duration": 11,
    "start_time": "2022-07-13T16:44:45.891Z"
   },
   {
    "duration": 249,
    "start_time": "2022-07-13T16:44:45.904Z"
   },
   {
    "duration": 863,
    "start_time": "2022-07-13T16:44:46.160Z"
   },
   {
    "duration": 2,
    "start_time": "2022-07-13T16:44:47.025Z"
   },
   {
    "duration": 21,
    "start_time": "2022-07-13T16:44:47.062Z"
   },
   {
    "duration": 24,
    "start_time": "2022-07-13T16:44:47.084Z"
   },
   {
    "duration": 76,
    "start_time": "2022-07-13T16:44:47.109Z"
   },
   {
    "duration": 11,
    "start_time": "2022-07-13T16:44:47.187Z"
   },
   {
    "duration": 15,
    "start_time": "2022-07-13T16:44:47.200Z"
   },
   {
    "duration": 61,
    "start_time": "2022-07-13T16:44:47.217Z"
   },
   {
    "duration": 21,
    "start_time": "2022-07-13T16:44:47.280Z"
   },
   {
    "duration": 9,
    "start_time": "2022-07-13T16:44:47.302Z"
   },
   {
    "duration": 54,
    "start_time": "2022-07-13T16:44:47.312Z"
   },
   {
    "duration": 33,
    "start_time": "2022-07-13T16:44:47.368Z"
   },
   {
    "duration": 1661,
    "start_time": "2022-07-14T06:51:35.356Z"
   },
   {
    "duration": 222,
    "start_time": "2022-07-14T06:51:37.020Z"
   },
   {
    "duration": 63,
    "start_time": "2022-07-14T06:51:37.244Z"
   },
   {
    "duration": 38,
    "start_time": "2022-07-14T06:51:37.309Z"
   },
   {
    "duration": 60,
    "start_time": "2022-07-14T06:51:37.349Z"
   },
   {
    "duration": 39,
    "start_time": "2022-07-14T06:51:37.411Z"
   },
   {
    "duration": 444,
    "start_time": "2022-07-14T06:51:37.504Z"
   },
   {
    "duration": 373,
    "start_time": "2022-07-14T06:51:37.950Z"
   },
   {
    "duration": 345,
    "start_time": "2022-07-14T06:51:38.325Z"
   },
   {
    "duration": 287,
    "start_time": "2022-07-14T06:51:38.675Z"
   },
   {
    "duration": 6,
    "start_time": "2022-07-14T06:51:38.963Z"
   },
   {
    "duration": 20,
    "start_time": "2022-07-14T06:51:38.971Z"
   },
   {
    "duration": 3353,
    "start_time": "2022-07-14T06:51:39.005Z"
   },
   {
    "duration": 18,
    "start_time": "2022-07-14T06:51:42.360Z"
   },
   {
    "duration": 30,
    "start_time": "2022-07-14T06:51:42.380Z"
   },
   {
    "duration": 475,
    "start_time": "2022-07-14T06:51:42.412Z"
   },
   {
    "duration": 97,
    "start_time": "2022-07-14T06:51:42.889Z"
   },
   {
    "duration": 20,
    "start_time": "2022-07-14T06:51:42.987Z"
   },
   {
    "duration": 226,
    "start_time": "2022-07-14T06:51:43.009Z"
   },
   {
    "duration": 553,
    "start_time": "2022-07-14T06:51:43.237Z"
   },
   {
    "duration": 0,
    "start_time": "2022-07-14T06:51:43.792Z"
   },
   {
    "duration": 0,
    "start_time": "2022-07-14T06:51:43.794Z"
   },
   {
    "duration": 0,
    "start_time": "2022-07-14T06:51:43.795Z"
   },
   {
    "duration": 0,
    "start_time": "2022-07-14T06:51:43.804Z"
   },
   {
    "duration": 0,
    "start_time": "2022-07-14T06:51:43.805Z"
   },
   {
    "duration": 0,
    "start_time": "2022-07-14T06:51:43.806Z"
   },
   {
    "duration": 0,
    "start_time": "2022-07-14T06:51:43.807Z"
   },
   {
    "duration": 0,
    "start_time": "2022-07-14T06:51:43.808Z"
   },
   {
    "duration": 0,
    "start_time": "2022-07-14T06:51:43.809Z"
   },
   {
    "duration": 0,
    "start_time": "2022-07-14T06:51:43.810Z"
   },
   {
    "duration": 0,
    "start_time": "2022-07-14T06:51:43.811Z"
   },
   {
    "duration": 11,
    "start_time": "2022-07-14T06:52:00.221Z"
   },
   {
    "duration": 9,
    "start_time": "2022-07-14T06:52:09.085Z"
   },
   {
    "duration": 6,
    "start_time": "2022-07-14T06:52:21.274Z"
   },
   {
    "duration": 1592,
    "start_time": "2022-07-14T06:53:12.751Z"
   },
   {
    "duration": 12,
    "start_time": "2022-07-14T06:53:26.954Z"
   },
   {
    "duration": 18,
    "start_time": "2022-07-14T06:53:49.622Z"
   },
   {
    "duration": 10,
    "start_time": "2022-07-14T06:55:28.678Z"
   },
   {
    "duration": 18,
    "start_time": "2022-07-14T06:56:50.046Z"
   },
   {
    "duration": 20,
    "start_time": "2022-07-14T06:56:56.234Z"
   },
   {
    "duration": 7,
    "start_time": "2022-07-14T06:57:21.855Z"
   },
   {
    "duration": 28,
    "start_time": "2022-07-14T07:03:25.935Z"
   },
   {
    "duration": 5,
    "start_time": "2022-07-14T07:03:48.389Z"
   },
   {
    "duration": 1750,
    "start_time": "2022-07-14T07:04:18.201Z"
   },
   {
    "duration": 10,
    "start_time": "2022-07-14T07:04:27.024Z"
   },
   {
    "duration": 16,
    "start_time": "2022-07-14T07:05:05.265Z"
   },
   {
    "duration": 9,
    "start_time": "2022-07-14T07:05:27.397Z"
   },
   {
    "duration": 18,
    "start_time": "2022-07-14T07:05:44.406Z"
   },
   {
    "duration": 6,
    "start_time": "2022-07-14T07:05:45.956Z"
   },
   {
    "duration": 15,
    "start_time": "2022-07-14T07:09:06.206Z"
   },
   {
    "duration": 11,
    "start_time": "2022-07-14T07:09:16.140Z"
   },
   {
    "duration": 1137,
    "start_time": "2022-07-14T07:10:10.502Z"
   },
   {
    "duration": 4,
    "start_time": "2022-07-14T07:10:48.092Z"
   },
   {
    "duration": 9,
    "start_time": "2022-07-14T07:10:52.081Z"
   },
   {
    "duration": 20,
    "start_time": "2022-07-14T07:10:56.095Z"
   },
   {
    "duration": 9,
    "start_time": "2022-07-14T07:10:57.554Z"
   },
   {
    "duration": 11,
    "start_time": "2022-07-14T07:11:27.761Z"
   },
   {
    "duration": 15,
    "start_time": "2022-07-14T07:11:41.123Z"
   },
   {
    "duration": 12,
    "start_time": "2022-07-14T07:11:45.056Z"
   },
   {
    "duration": 26,
    "start_time": "2022-07-14T07:11:51.292Z"
   },
   {
    "duration": 25,
    "start_time": "2022-07-14T07:11:52.846Z"
   },
   {
    "duration": 26,
    "start_time": "2022-07-14T07:13:20.863Z"
   },
   {
    "duration": 23,
    "start_time": "2022-07-14T07:13:39.814Z"
   },
   {
    "duration": 24,
    "start_time": "2022-07-14T07:13:43.769Z"
   },
   {
    "duration": 36,
    "start_time": "2022-07-14T07:14:05.309Z"
   },
   {
    "duration": 23,
    "start_time": "2022-07-14T07:14:09.330Z"
   },
   {
    "duration": 43,
    "start_time": "2022-07-14T07:14:10.828Z"
   },
   {
    "duration": 21,
    "start_time": "2022-07-14T07:14:24.455Z"
   },
   {
    "duration": 34,
    "start_time": "2022-07-14T07:14:28.085Z"
   },
   {
    "duration": 22,
    "start_time": "2022-07-14T07:15:47.360Z"
   },
   {
    "duration": 29,
    "start_time": "2022-07-14T07:16:16.446Z"
   },
   {
    "duration": 30,
    "start_time": "2022-07-14T07:17:10.424Z"
   },
   {
    "duration": 24,
    "start_time": "2022-07-14T07:17:17.397Z"
   },
   {
    "duration": 19,
    "start_time": "2022-07-14T07:17:32.123Z"
   },
   {
    "duration": 30,
    "start_time": "2022-07-14T07:17:51.277Z"
   },
   {
    "duration": 25,
    "start_time": "2022-07-14T07:17:52.826Z"
   },
   {
    "duration": 14,
    "start_time": "2022-07-14T07:18:05.572Z"
   },
   {
    "duration": 1204,
    "start_time": "2022-07-14T07:18:39.829Z"
   },
   {
    "duration": 90,
    "start_time": "2022-07-14T07:18:41.035Z"
   },
   {
    "duration": 22,
    "start_time": "2022-07-14T07:18:41.127Z"
   },
   {
    "duration": 56,
    "start_time": "2022-07-14T07:18:41.151Z"
   },
   {
    "duration": 17,
    "start_time": "2022-07-14T07:18:41.218Z"
   },
   {
    "duration": 28,
    "start_time": "2022-07-14T07:18:41.236Z"
   },
   {
    "duration": 27,
    "start_time": "2022-07-14T07:18:41.266Z"
   },
   {
    "duration": 14,
    "start_time": "2022-07-14T07:18:41.304Z"
   },
   {
    "duration": 40,
    "start_time": "2022-07-14T07:18:41.320Z"
   },
   {
    "duration": 221,
    "start_time": "2022-07-14T07:18:41.363Z"
   },
   {
    "duration": 141,
    "start_time": "2022-07-14T07:18:41.586Z"
   },
   {
    "duration": 126,
    "start_time": "2022-07-14T07:18:41.729Z"
   },
   {
    "duration": 0,
    "start_time": "2022-07-14T07:18:41.857Z"
   },
   {
    "duration": 0,
    "start_time": "2022-07-14T07:18:41.858Z"
   },
   {
    "duration": 0,
    "start_time": "2022-07-14T07:18:41.859Z"
   },
   {
    "duration": 0,
    "start_time": "2022-07-14T07:18:41.861Z"
   },
   {
    "duration": 0,
    "start_time": "2022-07-14T07:18:41.862Z"
   },
   {
    "duration": 0,
    "start_time": "2022-07-14T07:18:41.863Z"
   },
   {
    "duration": 0,
    "start_time": "2022-07-14T07:18:41.864Z"
   },
   {
    "duration": 0,
    "start_time": "2022-07-14T07:18:41.865Z"
   },
   {
    "duration": 0,
    "start_time": "2022-07-14T07:18:41.866Z"
   },
   {
    "duration": 0,
    "start_time": "2022-07-14T07:18:41.867Z"
   },
   {
    "duration": 0,
    "start_time": "2022-07-14T07:18:41.868Z"
   },
   {
    "duration": 0,
    "start_time": "2022-07-14T07:18:41.869Z"
   },
   {
    "duration": 0,
    "start_time": "2022-07-14T07:18:41.870Z"
   },
   {
    "duration": 0,
    "start_time": "2022-07-14T07:18:41.871Z"
   },
   {
    "duration": 0,
    "start_time": "2022-07-14T07:18:41.872Z"
   },
   {
    "duration": 0,
    "start_time": "2022-07-14T07:18:41.904Z"
   },
   {
    "duration": 0,
    "start_time": "2022-07-14T07:18:41.909Z"
   },
   {
    "duration": 0,
    "start_time": "2022-07-14T07:18:41.910Z"
   },
   {
    "duration": 0,
    "start_time": "2022-07-14T07:18:41.911Z"
   },
   {
    "duration": 0,
    "start_time": "2022-07-14T07:18:41.912Z"
   },
   {
    "duration": 0,
    "start_time": "2022-07-14T07:18:41.913Z"
   },
   {
    "duration": 0,
    "start_time": "2022-07-14T07:18:41.914Z"
   },
   {
    "duration": 322,
    "start_time": "2022-07-14T07:20:07.631Z"
   },
   {
    "duration": 1320,
    "start_time": "2022-07-14T07:20:17.750Z"
   },
   {
    "duration": 96,
    "start_time": "2022-07-14T07:20:19.072Z"
   },
   {
    "duration": 17,
    "start_time": "2022-07-14T07:20:19.169Z"
   },
   {
    "duration": 67,
    "start_time": "2022-07-14T07:20:19.189Z"
   },
   {
    "duration": 17,
    "start_time": "2022-07-14T07:20:19.258Z"
   },
   {
    "duration": 57,
    "start_time": "2022-07-14T07:20:19.277Z"
   },
   {
    "duration": 17,
    "start_time": "2022-07-14T07:20:19.335Z"
   },
   {
    "duration": 8,
    "start_time": "2022-07-14T07:20:19.354Z"
   },
   {
    "duration": 68,
    "start_time": "2022-07-14T07:20:19.364Z"
   },
   {
    "duration": 230,
    "start_time": "2022-07-14T07:20:19.435Z"
   },
   {
    "duration": 155,
    "start_time": "2022-07-14T07:20:19.667Z"
   },
   {
    "duration": 336,
    "start_time": "2022-07-14T07:20:19.829Z"
   },
   {
    "duration": 272,
    "start_time": "2022-07-14T07:20:20.167Z"
   },
   {
    "duration": 5,
    "start_time": "2022-07-14T07:20:20.441Z"
   },
   {
    "duration": 25,
    "start_time": "2022-07-14T07:20:20.447Z"
   },
   {
    "duration": 4317,
    "start_time": "2022-07-14T07:20:20.473Z"
   },
   {
    "duration": 128,
    "start_time": "2022-07-14T07:20:24.806Z"
   },
   {
    "duration": 0,
    "start_time": "2022-07-14T07:20:24.937Z"
   },
   {
    "duration": 0,
    "start_time": "2022-07-14T07:20:24.938Z"
   },
   {
    "duration": 0,
    "start_time": "2022-07-14T07:20:24.940Z"
   },
   {
    "duration": 0,
    "start_time": "2022-07-14T07:20:24.941Z"
   },
   {
    "duration": 0,
    "start_time": "2022-07-14T07:20:24.942Z"
   },
   {
    "duration": 0,
    "start_time": "2022-07-14T07:20:24.944Z"
   },
   {
    "duration": 0,
    "start_time": "2022-07-14T07:20:24.945Z"
   },
   {
    "duration": 0,
    "start_time": "2022-07-14T07:20:24.947Z"
   },
   {
    "duration": 0,
    "start_time": "2022-07-14T07:20:24.948Z"
   },
   {
    "duration": 0,
    "start_time": "2022-07-14T07:20:24.949Z"
   },
   {
    "duration": 0,
    "start_time": "2022-07-14T07:20:24.951Z"
   },
   {
    "duration": 0,
    "start_time": "2022-07-14T07:20:24.952Z"
   },
   {
    "duration": 0,
    "start_time": "2022-07-14T07:20:24.954Z"
   },
   {
    "duration": 0,
    "start_time": "2022-07-14T07:20:24.955Z"
   },
   {
    "duration": 0,
    "start_time": "2022-07-14T07:20:24.957Z"
   },
   {
    "duration": 0,
    "start_time": "2022-07-14T07:20:24.958Z"
   },
   {
    "duration": 0,
    "start_time": "2022-07-14T07:20:24.959Z"
   },
   {
    "duration": 35,
    "start_time": "2022-07-14T07:20:39.004Z"
   },
   {
    "duration": 22,
    "start_time": "2022-07-14T07:20:43.900Z"
   },
   {
    "duration": 585,
    "start_time": "2022-07-14T07:20:44.907Z"
   },
   {
    "duration": 94,
    "start_time": "2022-07-14T07:20:47.420Z"
   },
   {
    "duration": 11,
    "start_time": "2022-07-14T07:20:48.182Z"
   },
   {
    "duration": 237,
    "start_time": "2022-07-14T07:20:48.541Z"
   },
   {
    "duration": 1129,
    "start_time": "2022-07-14T07:20:49.932Z"
   },
   {
    "duration": 3,
    "start_time": "2022-07-14T07:20:51.063Z"
   },
   {
    "duration": 16,
    "start_time": "2022-07-14T07:20:54.753Z"
   },
   {
    "duration": 21,
    "start_time": "2022-07-14T07:20:55.357Z"
   },
   {
    "duration": 8,
    "start_time": "2022-07-14T07:20:57.257Z"
   },
   {
    "duration": 23,
    "start_time": "2022-07-14T07:20:58.432Z"
   },
   {
    "duration": 22,
    "start_time": "2022-07-14T07:20:58.775Z"
   },
   {
    "duration": 17,
    "start_time": "2022-07-14T07:20:59.150Z"
   },
   {
    "duration": 8,
    "start_time": "2022-07-14T07:21:00.476Z"
   },
   {
    "duration": 7,
    "start_time": "2022-07-14T07:21:00.659Z"
   },
   {
    "duration": 20,
    "start_time": "2022-07-14T07:21:01.805Z"
   },
   {
    "duration": 15,
    "start_time": "2022-07-14T07:21:02.382Z"
   },
   {
    "duration": 30,
    "start_time": "2022-07-14T07:21:57.137Z"
   },
   {
    "duration": 17,
    "start_time": "2022-07-14T07:21:57.893Z"
   },
   {
    "duration": 13,
    "start_time": "2022-07-14T07:22:01.620Z"
   },
   {
    "duration": 21,
    "start_time": "2022-07-14T07:23:25.397Z"
   },
   {
    "duration": 48,
    "start_time": "2022-07-14T07:24:18.824Z"
   },
   {
    "duration": 69,
    "start_time": "2022-07-14T07:24:23.268Z"
   },
   {
    "duration": 41,
    "start_time": "2022-07-14T07:24:33.288Z"
   },
   {
    "duration": 1569,
    "start_time": "2022-07-14T07:25:15.671Z"
   },
   {
    "duration": 20,
    "start_time": "2022-07-14T07:25:24.701Z"
   },
   {
    "duration": 22,
    "start_time": "2022-07-14T07:26:15.545Z"
   },
   {
    "duration": 20,
    "start_time": "2022-07-14T07:26:56.464Z"
   },
   {
    "duration": 28,
    "start_time": "2022-07-14T07:27:05.023Z"
   },
   {
    "duration": 23,
    "start_time": "2022-07-14T07:27:34.237Z"
   },
   {
    "duration": 20,
    "start_time": "2022-07-14T07:27:51.340Z"
   },
   {
    "duration": 23,
    "start_time": "2022-07-14T07:28:18.146Z"
   },
   {
    "duration": 18,
    "start_time": "2022-07-14T07:28:22.254Z"
   },
   {
    "duration": 26,
    "start_time": "2022-07-14T07:28:44.941Z"
   },
   {
    "duration": 18,
    "start_time": "2022-07-14T07:28:53.831Z"
   },
   {
    "duration": 31,
    "start_time": "2022-07-14T07:29:07.889Z"
   },
   {
    "duration": 18,
    "start_time": "2022-07-14T07:30:10.038Z"
   },
   {
    "duration": 37,
    "start_time": "2022-07-14T07:30:30.482Z"
   },
   {
    "duration": 21,
    "start_time": "2022-07-14T07:30:42.666Z"
   },
   {
    "duration": 37,
    "start_time": "2022-07-14T07:30:46.676Z"
   },
   {
    "duration": 22,
    "start_time": "2022-07-14T07:30:56.740Z"
   },
   {
    "duration": 41,
    "start_time": "2022-07-14T07:31:01.051Z"
   },
   {
    "duration": 36,
    "start_time": "2022-07-14T07:31:29.998Z"
   },
   {
    "duration": 44,
    "start_time": "2022-07-14T07:32:01.117Z"
   },
   {
    "duration": 4,
    "start_time": "2022-07-14T07:32:41.172Z"
   },
   {
    "duration": 31,
    "start_time": "2022-07-14T07:32:46.796Z"
   },
   {
    "duration": 23,
    "start_time": "2022-07-14T07:33:12.539Z"
   },
   {
    "duration": 36,
    "start_time": "2022-07-14T07:33:21.305Z"
   },
   {
    "duration": 28,
    "start_time": "2022-07-14T07:33:29.641Z"
   },
   {
    "duration": 25,
    "start_time": "2022-07-14T07:33:34.665Z"
   },
   {
    "duration": 21,
    "start_time": "2022-07-14T07:33:48.479Z"
   },
   {
    "duration": 24,
    "start_time": "2022-07-14T07:33:53.742Z"
   },
   {
    "duration": 200,
    "start_time": "2022-07-14T07:35:08.020Z"
   },
   {
    "duration": 25,
    "start_time": "2022-07-14T07:35:12.900Z"
   },
   {
    "duration": 23,
    "start_time": "2022-07-14T07:35:16.005Z"
   },
   {
    "duration": 20,
    "start_time": "2022-07-14T07:35:33.846Z"
   },
   {
    "duration": 28,
    "start_time": "2022-07-14T07:35:42.786Z"
   },
   {
    "duration": 892,
    "start_time": "2022-07-14T07:37:02.230Z"
   },
   {
    "duration": 525,
    "start_time": "2022-07-14T07:37:30.074Z"
   },
   {
    "duration": 20830,
    "start_time": "2022-07-14T07:37:55.627Z"
   },
   {
    "duration": 22,
    "start_time": "2022-07-14T07:41:38.702Z"
   },
   {
    "duration": 19,
    "start_time": "2022-07-14T07:41:56.423Z"
   },
   {
    "duration": 14,
    "start_time": "2022-07-14T07:41:58.821Z"
   },
   {
    "duration": 22,
    "start_time": "2022-07-14T07:42:18.301Z"
   },
   {
    "duration": 15,
    "start_time": "2022-07-14T07:42:30.951Z"
   },
   {
    "duration": 1319,
    "start_time": "2022-07-14T07:43:00.808Z"
   },
   {
    "duration": 113,
    "start_time": "2022-07-14T07:43:02.130Z"
   },
   {
    "duration": 16,
    "start_time": "2022-07-14T07:43:02.245Z"
   },
   {
    "duration": 55,
    "start_time": "2022-07-14T07:43:02.263Z"
   },
   {
    "duration": 31,
    "start_time": "2022-07-14T07:43:02.320Z"
   },
   {
    "duration": 16,
    "start_time": "2022-07-14T07:43:02.352Z"
   },
   {
    "duration": 16,
    "start_time": "2022-07-14T07:43:02.369Z"
   },
   {
    "duration": 33,
    "start_time": "2022-07-14T07:43:02.386Z"
   },
   {
    "duration": 41,
    "start_time": "2022-07-14T07:43:02.421Z"
   },
   {
    "duration": 207,
    "start_time": "2022-07-14T07:43:02.465Z"
   },
   {
    "duration": 136,
    "start_time": "2022-07-14T07:43:02.673Z"
   },
   {
    "duration": 524,
    "start_time": "2022-07-14T07:43:02.810Z"
   },
   {
    "duration": 498,
    "start_time": "2022-07-14T07:43:03.336Z"
   },
   {
    "duration": 5,
    "start_time": "2022-07-14T07:43:03.836Z"
   },
   {
    "duration": 74,
    "start_time": "2022-07-14T07:43:03.843Z"
   },
   {
    "duration": 5231,
    "start_time": "2022-07-14T07:43:03.919Z"
   },
   {
    "duration": 23,
    "start_time": "2022-07-14T07:43:09.152Z"
   },
   {
    "duration": 39,
    "start_time": "2022-07-14T07:43:09.177Z"
   },
   {
    "duration": 16,
    "start_time": "2022-07-14T07:43:09.218Z"
   },
   {
    "duration": 19,
    "start_time": "2022-07-14T07:43:09.236Z"
   },
   {
    "duration": 20,
    "start_time": "2022-07-14T07:43:09.256Z"
   },
   {
    "duration": 20037,
    "start_time": "2022-07-14T07:43:09.278Z"
   },
   {
    "duration": 557,
    "start_time": "2022-07-14T07:43:29.318Z"
   },
   {
    "duration": 0,
    "start_time": "2022-07-14T07:43:29.877Z"
   },
   {
    "duration": 0,
    "start_time": "2022-07-14T07:43:29.878Z"
   },
   {
    "duration": 0,
    "start_time": "2022-07-14T07:43:29.880Z"
   },
   {
    "duration": 0,
    "start_time": "2022-07-14T07:43:29.881Z"
   },
   {
    "duration": 0,
    "start_time": "2022-07-14T07:43:29.882Z"
   },
   {
    "duration": 0,
    "start_time": "2022-07-14T07:43:29.883Z"
   },
   {
    "duration": 0,
    "start_time": "2022-07-14T07:43:29.884Z"
   },
   {
    "duration": 0,
    "start_time": "2022-07-14T07:43:29.886Z"
   },
   {
    "duration": 0,
    "start_time": "2022-07-14T07:43:29.886Z"
   },
   {
    "duration": 0,
    "start_time": "2022-07-14T07:43:29.887Z"
   },
   {
    "duration": 0,
    "start_time": "2022-07-14T07:43:29.888Z"
   },
   {
    "duration": 0,
    "start_time": "2022-07-14T07:43:29.889Z"
   },
   {
    "duration": 0,
    "start_time": "2022-07-14T07:43:29.891Z"
   },
   {
    "duration": 0,
    "start_time": "2022-07-14T07:43:29.892Z"
   },
   {
    "duration": 6,
    "start_time": "2022-07-14T07:44:05.860Z"
   },
   {
    "duration": 5,
    "start_time": "2022-07-14T07:44:14.549Z"
   },
   {
    "duration": 5,
    "start_time": "2022-07-14T07:44:36.220Z"
   },
   {
    "duration": 5,
    "start_time": "2022-07-14T07:45:08.744Z"
   },
   {
    "duration": 5,
    "start_time": "2022-07-14T07:45:12.189Z"
   },
   {
    "duration": 9,
    "start_time": "2022-07-14T07:45:18.613Z"
   },
   {
    "duration": 11,
    "start_time": "2022-07-14T07:45:38.846Z"
   },
   {
    "duration": 9,
    "start_time": "2022-07-14T07:46:06.265Z"
   },
   {
    "duration": 93,
    "start_time": "2022-07-14T07:46:36.175Z"
   },
   {
    "duration": 8,
    "start_time": "2022-07-14T07:46:54.433Z"
   },
   {
    "duration": 57,
    "start_time": "2022-07-14T07:54:21.141Z"
   },
   {
    "duration": 42,
    "start_time": "2022-07-14T07:54:35.470Z"
   },
   {
    "duration": 1599,
    "start_time": "2022-07-14T07:54:43.192Z"
   },
   {
    "duration": 738,
    "start_time": "2022-07-14T07:54:44.793Z"
   },
   {
    "duration": 19,
    "start_time": "2022-07-14T07:54:45.533Z"
   },
   {
    "duration": 101,
    "start_time": "2022-07-14T07:54:45.609Z"
   },
   {
    "duration": 30,
    "start_time": "2022-07-14T07:54:45.712Z"
   },
   {
    "duration": 66,
    "start_time": "2022-07-14T07:54:45.744Z"
   },
   {
    "duration": 12,
    "start_time": "2022-07-14T07:54:45.812Z"
   },
   {
    "duration": 13,
    "start_time": "2022-07-14T07:54:45.825Z"
   },
   {
    "duration": 94,
    "start_time": "2022-07-14T07:54:45.839Z"
   },
   {
    "duration": 474,
    "start_time": "2022-07-14T07:54:45.936Z"
   },
   {
    "duration": 260,
    "start_time": "2022-07-14T07:54:46.412Z"
   },
   {
    "duration": 296,
    "start_time": "2022-07-14T07:54:46.712Z"
   },
   {
    "duration": 246,
    "start_time": "2022-07-14T07:54:47.010Z"
   },
   {
    "duration": 5,
    "start_time": "2022-07-14T07:54:47.258Z"
   },
   {
    "duration": 36,
    "start_time": "2022-07-14T07:54:47.264Z"
   },
   {
    "duration": 4890,
    "start_time": "2022-07-14T07:54:47.303Z"
   },
   {
    "duration": 29,
    "start_time": "2022-07-14T07:54:52.196Z"
   },
   {
    "duration": 19,
    "start_time": "2022-07-14T07:54:52.227Z"
   },
   {
    "duration": 20,
    "start_time": "2022-07-14T07:54:52.248Z"
   },
   {
    "duration": 21,
    "start_time": "2022-07-14T07:54:52.269Z"
   },
   {
    "duration": 33,
    "start_time": "2022-07-14T07:54:52.292Z"
   },
   {
    "duration": 19886,
    "start_time": "2022-07-14T07:54:52.327Z"
   },
   {
    "duration": 437,
    "start_time": "2022-07-14T07:55:12.216Z"
   },
   {
    "duration": 0,
    "start_time": "2022-07-14T07:55:12.655Z"
   },
   {
    "duration": 0,
    "start_time": "2022-07-14T07:55:12.657Z"
   },
   {
    "duration": 0,
    "start_time": "2022-07-14T07:55:12.659Z"
   },
   {
    "duration": 0,
    "start_time": "2022-07-14T07:55:12.661Z"
   },
   {
    "duration": 0,
    "start_time": "2022-07-14T07:55:12.662Z"
   },
   {
    "duration": 0,
    "start_time": "2022-07-14T07:55:12.664Z"
   },
   {
    "duration": 0,
    "start_time": "2022-07-14T07:55:12.665Z"
   },
   {
    "duration": 0,
    "start_time": "2022-07-14T07:55:12.667Z"
   },
   {
    "duration": 0,
    "start_time": "2022-07-14T07:55:12.668Z"
   },
   {
    "duration": 0,
    "start_time": "2022-07-14T07:55:12.670Z"
   },
   {
    "duration": 0,
    "start_time": "2022-07-14T07:55:12.672Z"
   },
   {
    "duration": 0,
    "start_time": "2022-07-14T07:55:12.674Z"
   },
   {
    "duration": 0,
    "start_time": "2022-07-14T07:55:12.675Z"
   },
   {
    "duration": 1,
    "start_time": "2022-07-14T07:55:12.676Z"
   },
   {
    "duration": 17,
    "start_time": "2022-07-14T07:55:34.372Z"
   },
   {
    "duration": 94,
    "start_time": "2022-07-14T07:56:18.216Z"
   },
   {
    "duration": 16,
    "start_time": "2022-07-14T07:56:23.938Z"
   },
   {
    "duration": 15,
    "start_time": "2022-07-14T07:56:44.572Z"
   },
   {
    "duration": 77,
    "start_time": "2022-07-14T07:56:53.012Z"
   },
   {
    "duration": 23,
    "start_time": "2022-07-14T08:00:16.690Z"
   },
   {
    "duration": 9,
    "start_time": "2022-07-14T08:02:08.576Z"
   },
   {
    "duration": 12,
    "start_time": "2022-07-14T08:02:12.681Z"
   },
   {
    "duration": 19,
    "start_time": "2022-07-14T08:02:37.971Z"
   },
   {
    "duration": 11,
    "start_time": "2022-07-14T08:02:44.254Z"
   },
   {
    "duration": 12489,
    "start_time": "2022-07-14T08:03:13.450Z"
   },
   {
    "duration": 12,
    "start_time": "2022-07-14T08:04:14.918Z"
   },
   {
    "duration": 283,
    "start_time": "2022-07-14T08:04:18.594Z"
   },
   {
    "duration": 257,
    "start_time": "2022-07-14T08:05:34.221Z"
   },
   {
    "duration": 17,
    "start_time": "2022-07-14T08:07:12.261Z"
   },
   {
    "duration": 8,
    "start_time": "2022-07-14T08:07:33.838Z"
   },
   {
    "duration": 10,
    "start_time": "2022-07-14T08:08:08.600Z"
   },
   {
    "duration": 12,
    "start_time": "2022-07-14T08:08:52.378Z"
   },
   {
    "duration": 7,
    "start_time": "2022-07-14T08:09:01.883Z"
   },
   {
    "duration": 12,
    "start_time": "2022-07-14T08:09:31.722Z"
   },
   {
    "duration": 14,
    "start_time": "2022-07-14T08:10:23.490Z"
   },
   {
    "duration": 393,
    "start_time": "2022-07-14T08:10:46.037Z"
   },
   {
    "duration": 15,
    "start_time": "2022-07-14T08:11:40.750Z"
   },
   {
    "duration": 8,
    "start_time": "2022-07-14T08:12:50.521Z"
   },
   {
    "duration": 1216,
    "start_time": "2022-07-14T08:43:11.946Z"
   },
   {
    "duration": 83,
    "start_time": "2022-07-14T08:43:13.164Z"
   },
   {
    "duration": 15,
    "start_time": "2022-07-14T08:43:13.248Z"
   },
   {
    "duration": 56,
    "start_time": "2022-07-14T08:43:13.265Z"
   },
   {
    "duration": 29,
    "start_time": "2022-07-14T08:43:13.322Z"
   },
   {
    "duration": 16,
    "start_time": "2022-07-14T08:43:13.352Z"
   },
   {
    "duration": 40,
    "start_time": "2022-07-14T08:43:13.369Z"
   },
   {
    "duration": 8,
    "start_time": "2022-07-14T08:43:13.411Z"
   },
   {
    "duration": 40,
    "start_time": "2022-07-14T08:43:13.420Z"
   },
   {
    "duration": 208,
    "start_time": "2022-07-14T08:43:13.462Z"
   },
   {
    "duration": 128,
    "start_time": "2022-07-14T08:43:13.672Z"
   },
   {
    "duration": 269,
    "start_time": "2022-07-14T08:43:13.809Z"
   },
   {
    "duration": 217,
    "start_time": "2022-07-14T08:43:14.080Z"
   },
   {
    "duration": 13,
    "start_time": "2022-07-14T08:43:14.299Z"
   },
   {
    "duration": 13,
    "start_time": "2022-07-14T08:43:14.313Z"
   },
   {
    "duration": 5586,
    "start_time": "2022-07-14T08:43:14.327Z"
   },
   {
    "duration": 19,
    "start_time": "2022-07-14T08:43:19.914Z"
   },
   {
    "duration": 12,
    "start_time": "2022-07-14T08:43:19.935Z"
   },
   {
    "duration": 21,
    "start_time": "2022-07-14T08:43:19.948Z"
   },
   {
    "duration": 39,
    "start_time": "2022-07-14T08:43:19.970Z"
   },
   {
    "duration": 297,
    "start_time": "2022-07-14T08:43:20.011Z"
   },
   {
    "duration": 8,
    "start_time": "2022-07-14T08:43:20.310Z"
   },
   {
    "duration": 18494,
    "start_time": "2022-07-14T08:43:20.319Z"
   },
   {
    "duration": 393,
    "start_time": "2022-07-14T08:43:38.815Z"
   },
   {
    "duration": 0,
    "start_time": "2022-07-14T08:43:39.211Z"
   },
   {
    "duration": 0,
    "start_time": "2022-07-14T08:43:39.213Z"
   },
   {
    "duration": 0,
    "start_time": "2022-07-14T08:43:39.214Z"
   },
   {
    "duration": 0,
    "start_time": "2022-07-14T08:43:39.216Z"
   },
   {
    "duration": 0,
    "start_time": "2022-07-14T08:43:39.217Z"
   },
   {
    "duration": 0,
    "start_time": "2022-07-14T08:43:39.218Z"
   },
   {
    "duration": 0,
    "start_time": "2022-07-14T08:43:39.220Z"
   },
   {
    "duration": 0,
    "start_time": "2022-07-14T08:43:39.221Z"
   },
   {
    "duration": 0,
    "start_time": "2022-07-14T08:43:39.223Z"
   },
   {
    "duration": 0,
    "start_time": "2022-07-14T08:43:39.224Z"
   },
   {
    "duration": 0,
    "start_time": "2022-07-14T08:43:39.226Z"
   },
   {
    "duration": 0,
    "start_time": "2022-07-14T08:43:39.227Z"
   },
   {
    "duration": 0,
    "start_time": "2022-07-14T08:43:39.229Z"
   },
   {
    "duration": 0,
    "start_time": "2022-07-14T08:43:39.230Z"
   },
   {
    "duration": 3,
    "start_time": "2022-07-14T08:44:33.211Z"
   },
   {
    "duration": 3,
    "start_time": "2022-07-14T08:44:46.971Z"
   },
   {
    "duration": 1137,
    "start_time": "2022-07-14T08:44:55.845Z"
   },
   {
    "duration": 91,
    "start_time": "2022-07-14T08:44:58.002Z"
   },
   {
    "duration": 17,
    "start_time": "2022-07-14T08:45:00.033Z"
   },
   {
    "duration": 40,
    "start_time": "2022-07-14T08:45:03.049Z"
   },
   {
    "duration": 29,
    "start_time": "2022-07-14T08:45:04.441Z"
   },
   {
    "duration": 16,
    "start_time": "2022-07-14T08:45:09.348Z"
   },
   {
    "duration": 12,
    "start_time": "2022-07-14T08:45:10.799Z"
   },
   {
    "duration": 9,
    "start_time": "2022-07-14T08:45:16.836Z"
   },
   {
    "duration": 19,
    "start_time": "2022-07-14T08:46:36.192Z"
   },
   {
    "duration": 15,
    "start_time": "2022-07-14T08:47:02.691Z"
   },
   {
    "duration": 18,
    "start_time": "2022-07-14T08:47:30.338Z"
   },
   {
    "duration": 29,
    "start_time": "2022-07-14T08:47:32.674Z"
   },
   {
    "duration": 17,
    "start_time": "2022-07-14T08:47:33.718Z"
   },
   {
    "duration": 11,
    "start_time": "2022-07-14T08:48:07.494Z"
   },
   {
    "duration": 34,
    "start_time": "2022-07-14T08:48:08.962Z"
   },
   {
    "duration": 16,
    "start_time": "2022-07-14T08:48:09.408Z"
   },
   {
    "duration": 9,
    "start_time": "2022-07-14T08:48:10.964Z"
   },
   {
    "duration": 31,
    "start_time": "2022-07-14T08:48:12.373Z"
   },
   {
    "duration": 190,
    "start_time": "2022-07-14T08:48:14.793Z"
   },
   {
    "duration": 115,
    "start_time": "2022-07-14T08:48:19.353Z"
   },
   {
    "duration": 328,
    "start_time": "2022-07-14T08:48:21.313Z"
   },
   {
    "duration": 200,
    "start_time": "2022-07-14T08:48:30.817Z"
   },
   {
    "duration": 4,
    "start_time": "2022-07-14T08:48:32.053Z"
   },
   {
    "duration": 12,
    "start_time": "2022-07-14T08:48:32.940Z"
   },
   {
    "duration": 3595,
    "start_time": "2022-07-14T08:48:39.599Z"
   },
   {
    "duration": 21,
    "start_time": "2022-07-14T08:48:44.110Z"
   },
   {
    "duration": 17,
    "start_time": "2022-07-14T08:48:47.135Z"
   },
   {
    "duration": 12,
    "start_time": "2022-07-14T08:48:49.670Z"
   },
   {
    "duration": 13,
    "start_time": "2022-07-14T08:48:50.343Z"
   },
   {
    "duration": 300,
    "start_time": "2022-07-14T08:48:51.371Z"
   },
   {
    "duration": 9,
    "start_time": "2022-07-14T08:48:52.606Z"
   },
   {
    "duration": 15432,
    "start_time": "2022-07-14T08:49:03.456Z"
   },
   {
    "duration": 15,
    "start_time": "2022-07-14T08:51:52.263Z"
   },
   {
    "duration": 19,
    "start_time": "2022-07-14T08:52:45.188Z"
   },
   {
    "duration": 1515,
    "start_time": "2022-07-14T08:56:22.645Z"
   },
   {
    "duration": 1105,
    "start_time": "2022-07-14T08:56:29.361Z"
   },
   {
    "duration": 19,
    "start_time": "2022-07-14T08:56:48.467Z"
   },
   {
    "duration": 8,
    "start_time": "2022-07-14T09:02:17.616Z"
   },
   {
    "duration": 15,
    "start_time": "2022-07-14T09:03:01.290Z"
   },
   {
    "duration": 14,
    "start_time": "2022-07-14T09:03:07.166Z"
   },
   {
    "duration": 10,
    "start_time": "2022-07-14T09:03:32.972Z"
   },
   {
    "duration": 12,
    "start_time": "2022-07-14T09:04:17.408Z"
   },
   {
    "duration": 13,
    "start_time": "2022-07-14T09:04:23.339Z"
   },
   {
    "duration": 39,
    "start_time": "2022-07-14T09:07:51.607Z"
   },
   {
    "duration": 50,
    "start_time": "2022-07-14T09:08:25.722Z"
   },
   {
    "duration": 29,
    "start_time": "2022-07-14T09:08:40.666Z"
   },
   {
    "duration": 29,
    "start_time": "2022-07-14T09:09:22.250Z"
   },
   {
    "duration": 23,
    "start_time": "2022-07-14T09:09:34.716Z"
   },
   {
    "duration": 22,
    "start_time": "2022-07-14T09:09:44.956Z"
   },
   {
    "duration": 1270,
    "start_time": "2022-07-14T09:11:01.294Z"
   },
   {
    "duration": 103,
    "start_time": "2022-07-14T09:11:04.089Z"
   },
   {
    "duration": 16,
    "start_time": "2022-07-14T09:11:05.441Z"
   },
   {
    "duration": 40,
    "start_time": "2022-07-14T09:11:06.927Z"
   },
   {
    "duration": 16,
    "start_time": "2022-07-14T09:11:23.635Z"
   },
   {
    "duration": 131,
    "start_time": "2022-07-14T09:11:55.160Z"
   },
   {
    "duration": 27,
    "start_time": "2022-07-14T09:11:59.257Z"
   },
   {
    "duration": 22,
    "start_time": "2022-07-14T09:12:39.267Z"
   },
   {
    "duration": 12,
    "start_time": "2022-07-14T09:13:19.915Z"
   },
   {
    "duration": 17,
    "start_time": "2022-07-14T09:13:37.300Z"
   },
   {
    "duration": 16,
    "start_time": "2022-07-14T09:14:15.480Z"
   },
   {
    "duration": 15,
    "start_time": "2022-07-14T09:14:26.740Z"
   },
   {
    "duration": 9,
    "start_time": "2022-07-14T09:15:31.730Z"
   },
   {
    "duration": 24,
    "start_time": "2022-07-14T09:15:34.602Z"
   },
   {
    "duration": 23,
    "start_time": "2022-07-14T09:15:36.667Z"
   },
   {
    "duration": 34,
    "start_time": "2022-07-14T09:15:47.450Z"
   },
   {
    "duration": 18,
    "start_time": "2022-07-14T09:15:57.428Z"
   },
   {
    "duration": 3,
    "start_time": "2022-07-14T09:16:12.256Z"
   },
   {
    "duration": 15,
    "start_time": "2022-07-14T09:16:17.386Z"
   },
   {
    "duration": 22,
    "start_time": "2022-07-14T09:16:28.434Z"
   },
   {
    "duration": 15,
    "start_time": "2022-07-14T09:16:29.484Z"
   },
   {
    "duration": 18,
    "start_time": "2022-07-14T09:16:49.936Z"
   },
   {
    "duration": 20,
    "start_time": "2022-07-14T09:16:51.628Z"
   },
   {
    "duration": 1250,
    "start_time": "2022-07-14T09:17:00.366Z"
   },
   {
    "duration": 3,
    "start_time": "2022-07-14T09:17:05.584Z"
   },
   {
    "duration": 1272,
    "start_time": "2022-07-14T09:17:10.982Z"
   },
   {
    "duration": 90,
    "start_time": "2022-07-14T09:17:12.665Z"
   },
   {
    "duration": 17,
    "start_time": "2022-07-14T09:17:13.936Z"
   },
   {
    "duration": 40,
    "start_time": "2022-07-14T09:17:15.136Z"
   },
   {
    "duration": 20,
    "start_time": "2022-07-14T09:17:15.603Z"
   },
   {
    "duration": 32,
    "start_time": "2022-07-14T09:17:18.103Z"
   },
   {
    "duration": 12,
    "start_time": "2022-07-14T09:17:19.394Z"
   },
   {
    "duration": 27,
    "start_time": "2022-07-14T09:17:20.355Z"
   },
   {
    "duration": 60,
    "start_time": "2022-07-14T09:17:21.068Z"
   },
   {
    "duration": 44,
    "start_time": "2022-07-14T09:17:43.322Z"
   },
   {
    "duration": 53,
    "start_time": "2022-07-14T09:19:08.973Z"
   },
   {
    "duration": 24,
    "start_time": "2022-07-14T09:20:20.031Z"
   },
   {
    "duration": 15,
    "start_time": "2022-07-14T09:20:35.439Z"
   },
   {
    "duration": 12,
    "start_time": "2022-07-14T09:22:12.781Z"
   },
   {
    "duration": 21,
    "start_time": "2022-07-14T09:22:17.767Z"
   },
   {
    "duration": 16,
    "start_time": "2022-07-14T09:23:33.051Z"
   },
   {
    "duration": 14,
    "start_time": "2022-07-14T09:23:39.826Z"
   },
   {
    "duration": 15,
    "start_time": "2022-07-14T09:24:01.809Z"
   },
   {
    "duration": 120,
    "start_time": "2022-07-14T09:25:50.035Z"
   },
   {
    "duration": 10,
    "start_time": "2022-07-14T09:25:58.944Z"
   },
   {
    "duration": 27,
    "start_time": "2022-07-14T09:25:59.465Z"
   },
   {
    "duration": 5,
    "start_time": "2022-07-14T09:26:00.003Z"
   },
   {
    "duration": 16,
    "start_time": "2022-07-14T09:26:00.476Z"
   },
   {
    "duration": 6,
    "start_time": "2022-07-14T09:26:01.170Z"
   },
   {
    "duration": 21,
    "start_time": "2022-07-14T09:26:01.645Z"
   },
   {
    "duration": 6,
    "start_time": "2022-07-14T09:26:02.983Z"
   },
   {
    "duration": 14,
    "start_time": "2022-07-14T09:26:09.418Z"
   },
   {
    "duration": 17,
    "start_time": "2022-07-14T09:26:19.366Z"
   },
   {
    "duration": 24,
    "start_time": "2022-07-14T09:26:32.003Z"
   },
   {
    "duration": 5,
    "start_time": "2022-07-14T09:26:39.914Z"
   },
   {
    "duration": 16,
    "start_time": "2022-07-14T09:26:40.389Z"
   },
   {
    "duration": 14,
    "start_time": "2022-07-14T09:27:14.260Z"
   },
   {
    "duration": 29,
    "start_time": "2022-07-14T09:27:15.687Z"
   },
   {
    "duration": 16,
    "start_time": "2022-07-14T09:27:16.340Z"
   },
   {
    "duration": 9,
    "start_time": "2022-07-14T09:27:17.969Z"
   },
   {
    "duration": 40,
    "start_time": "2022-07-14T09:27:21.487Z"
   },
   {
    "duration": 192,
    "start_time": "2022-07-14T09:27:24.366Z"
   },
   {
    "duration": 122,
    "start_time": "2022-07-14T09:27:33.079Z"
   },
   {
    "duration": 265,
    "start_time": "2022-07-14T09:27:35.121Z"
   },
   {
    "duration": 13,
    "start_time": "2022-07-14T09:28:18.370Z"
   },
   {
    "duration": 12,
    "start_time": "2022-07-14T09:28:33.138Z"
   },
   {
    "duration": 9,
    "start_time": "2022-07-14T09:29:12.241Z"
   },
   {
    "duration": 51,
    "start_time": "2022-07-14T09:29:13.521Z"
   },
   {
    "duration": 191,
    "start_time": "2022-07-14T09:29:15.939Z"
   },
   {
    "duration": 125,
    "start_time": "2022-07-14T09:29:17.113Z"
   },
   {
    "duration": 261,
    "start_time": "2022-07-14T09:29:18.732Z"
   },
   {
    "duration": 255,
    "start_time": "2022-07-14T09:29:21.380Z"
   },
   {
    "duration": 5,
    "start_time": "2022-07-14T09:29:22.207Z"
   },
   {
    "duration": 17,
    "start_time": "2022-07-14T09:29:23.111Z"
   },
   {
    "duration": 3486,
    "start_time": "2022-07-14T09:29:25.781Z"
   },
   {
    "duration": 25,
    "start_time": "2022-07-14T09:29:30.877Z"
   },
   {
    "duration": 15,
    "start_time": "2022-07-14T09:29:33.158Z"
   },
   {
    "duration": 15,
    "start_time": "2022-07-14T09:29:35.488Z"
   },
   {
    "duration": 16,
    "start_time": "2022-07-14T09:29:35.974Z"
   },
   {
    "duration": 339,
    "start_time": "2022-07-14T09:29:36.697Z"
   },
   {
    "duration": 10,
    "start_time": "2022-07-14T09:29:40.601Z"
   },
   {
    "duration": 17,
    "start_time": "2022-07-14T09:29:42.039Z"
   },
   {
    "duration": 24,
    "start_time": "2022-07-14T09:30:57.460Z"
   },
   {
    "duration": 39,
    "start_time": "2022-07-14T09:31:56.496Z"
   },
   {
    "duration": 26,
    "start_time": "2022-07-14T09:32:42.182Z"
   },
   {
    "duration": 255,
    "start_time": "2022-07-14T09:32:51.721Z"
   },
   {
    "duration": 9,
    "start_time": "2022-07-14T09:32:54.741Z"
   },
   {
    "duration": 16,
    "start_time": "2022-07-14T09:32:55.896Z"
   },
   {
    "duration": 1343,
    "start_time": "2022-07-14T09:33:05.189Z"
   },
   {
    "duration": 97,
    "start_time": "2022-07-14T09:33:06.535Z"
   },
   {
    "duration": 20,
    "start_time": "2022-07-14T09:33:06.634Z"
   },
   {
    "duration": 87,
    "start_time": "2022-07-14T09:33:06.657Z"
   },
   {
    "duration": 17,
    "start_time": "2022-07-14T09:33:06.746Z"
   },
   {
    "duration": 35,
    "start_time": "2022-07-14T09:33:06.765Z"
   },
   {
    "duration": 33,
    "start_time": "2022-07-14T09:33:06.802Z"
   },
   {
    "duration": 46,
    "start_time": "2022-07-14T09:33:06.837Z"
   },
   {
    "duration": 33,
    "start_time": "2022-07-14T09:33:06.886Z"
   },
   {
    "duration": 27,
    "start_time": "2022-07-14T09:33:06.927Z"
   },
   {
    "duration": 11,
    "start_time": "2022-07-14T09:33:06.956Z"
   },
   {
    "duration": 32,
    "start_time": "2022-07-14T09:33:06.969Z"
   },
   {
    "duration": 41,
    "start_time": "2022-07-14T09:33:07.009Z"
   },
   {
    "duration": 64,
    "start_time": "2022-07-14T09:33:07.053Z"
   },
   {
    "duration": 28,
    "start_time": "2022-07-14T09:33:07.124Z"
   },
   {
    "duration": 17,
    "start_time": "2022-07-14T09:33:07.154Z"
   },
   {
    "duration": 77,
    "start_time": "2022-07-14T09:33:07.173Z"
   },
   {
    "duration": 238,
    "start_time": "2022-07-14T09:33:07.253Z"
   },
   {
    "duration": 149,
    "start_time": "2022-07-14T09:33:07.493Z"
   },
   {
    "duration": 321,
    "start_time": "2022-07-14T09:33:07.644Z"
   },
   {
    "duration": 316,
    "start_time": "2022-07-14T09:33:07.968Z"
   },
   {
    "duration": 7,
    "start_time": "2022-07-14T09:33:08.286Z"
   },
   {
    "duration": 51,
    "start_time": "2022-07-14T09:33:08.295Z"
   },
   {
    "duration": 5253,
    "start_time": "2022-07-14T09:33:08.348Z"
   },
   {
    "duration": 27,
    "start_time": "2022-07-14T09:33:13.609Z"
   },
   {
    "duration": 38,
    "start_time": "2022-07-14T09:33:13.638Z"
   },
   {
    "duration": 16,
    "start_time": "2022-07-14T09:33:13.678Z"
   },
   {
    "duration": 31,
    "start_time": "2022-07-14T09:33:13.698Z"
   },
   {
    "duration": 307,
    "start_time": "2022-07-14T09:33:13.731Z"
   },
   {
    "duration": 9,
    "start_time": "2022-07-14T09:33:14.039Z"
   },
   {
    "duration": 17,
    "start_time": "2022-07-14T09:33:14.050Z"
   },
   {
    "duration": 130,
    "start_time": "2022-07-14T09:33:14.069Z"
   },
   {
    "duration": 21,
    "start_time": "2022-07-14T09:33:14.201Z"
   },
   {
    "duration": 256,
    "start_time": "2022-07-14T09:33:14.224Z"
   },
   {
    "duration": 887,
    "start_time": "2022-07-14T09:33:14.482Z"
   },
   {
    "duration": 3,
    "start_time": "2022-07-14T09:33:15.371Z"
   },
   {
    "duration": 25,
    "start_time": "2022-07-14T09:33:15.376Z"
   },
   {
    "duration": 18,
    "start_time": "2022-07-14T09:33:15.404Z"
   },
   {
    "duration": 22,
    "start_time": "2022-07-14T09:33:15.424Z"
   },
   {
    "duration": 22,
    "start_time": "2022-07-14T09:33:15.448Z"
   },
   {
    "duration": 28,
    "start_time": "2022-07-14T09:33:15.473Z"
   },
   {
    "duration": 24,
    "start_time": "2022-07-14T09:33:15.503Z"
   },
   {
    "duration": 13,
    "start_time": "2022-07-14T09:33:15.529Z"
   },
   {
    "duration": 13,
    "start_time": "2022-07-14T09:33:15.544Z"
   },
   {
    "duration": 11,
    "start_time": "2022-07-14T09:33:15.559Z"
   },
   {
    "duration": 51,
    "start_time": "2022-07-14T09:33:15.572Z"
   },
   {
    "duration": 112,
    "start_time": "2022-07-14T09:34:22.531Z"
   },
   {
    "duration": 12,
    "start_time": "2022-07-14T09:34:42.836Z"
   },
   {
    "duration": 16,
    "start_time": "2022-07-14T09:35:09.165Z"
   },
   {
    "duration": 11,
    "start_time": "2022-07-14T09:35:14.921Z"
   },
   {
    "duration": 1243,
    "start_time": "2022-07-14T09:42:44.757Z"
   },
   {
    "duration": 1079,
    "start_time": "2022-07-14T09:42:55.077Z"
   },
   {
    "duration": 98,
    "start_time": "2022-07-14T09:42:57.221Z"
   },
   {
    "duration": 16,
    "start_time": "2022-07-14T09:42:58.452Z"
   },
   {
    "duration": 51,
    "start_time": "2022-07-14T09:42:59.703Z"
   },
   {
    "duration": 66,
    "start_time": "2022-07-14T09:43:00.406Z"
   },
   {
    "duration": 10,
    "start_time": "2022-07-14T09:43:00.988Z"
   },
   {
    "duration": 11,
    "start_time": "2022-07-14T09:43:09.287Z"
   },
   {
    "duration": 20,
    "start_time": "2022-07-14T09:43:11.797Z"
   },
   {
    "duration": 14,
    "start_time": "2022-07-14T09:43:12.740Z"
   },
   {
    "duration": 30,
    "start_time": "2022-07-14T09:43:15.967Z"
   },
   {
    "duration": 20,
    "start_time": "2022-07-14T09:43:16.545Z"
   },
   {
    "duration": 25,
    "start_time": "2022-07-14T09:43:17.131Z"
   },
   {
    "duration": 29,
    "start_time": "2022-07-14T09:43:17.768Z"
   },
   {
    "duration": 28,
    "start_time": "2022-07-14T09:43:19.762Z"
   },
   {
    "duration": 16,
    "start_time": "2022-07-14T09:43:23.976Z"
   },
   {
    "duration": 17,
    "start_time": "2022-07-14T09:43:51.344Z"
   },
   {
    "duration": 15,
    "start_time": "2022-07-14T09:44:17.561Z"
   },
   {
    "duration": 16,
    "start_time": "2022-07-14T09:44:18.517Z"
   },
   {
    "duration": 1187,
    "start_time": "2022-07-14T09:45:23.875Z"
   },
   {
    "duration": 88,
    "start_time": "2022-07-14T09:45:25.502Z"
   },
   {
    "duration": 15,
    "start_time": "2022-07-14T09:45:26.515Z"
   },
   {
    "duration": 39,
    "start_time": "2022-07-14T09:45:27.535Z"
   },
   {
    "duration": 11,
    "start_time": "2022-07-14T09:45:28.764Z"
   },
   {
    "duration": 38,
    "start_time": "2022-07-14T09:45:31.525Z"
   },
   {
    "duration": 16,
    "start_time": "2022-07-14T09:45:44.756Z"
   },
   {
    "duration": 3,
    "start_time": "2022-07-14T09:46:23.846Z"
   },
   {
    "duration": 80,
    "start_time": "2022-07-14T09:46:25.774Z"
   },
   {
    "duration": 18,
    "start_time": "2022-07-14T09:46:27.289Z"
   },
   {
    "duration": 38,
    "start_time": "2022-07-14T09:46:28.704Z"
   },
   {
    "duration": 17,
    "start_time": "2022-07-14T09:46:29.196Z"
   },
   {
    "duration": 61,
    "start_time": "2022-07-14T09:47:07.124Z"
   },
   {
    "duration": 29,
    "start_time": "2022-07-14T09:47:29.657Z"
   },
   {
    "duration": 11,
    "start_time": "2022-07-14T09:47:35.657Z"
   },
   {
    "duration": 28,
    "start_time": "2022-07-14T09:47:36.468Z"
   },
   {
    "duration": 15,
    "start_time": "2022-07-14T09:47:42.788Z"
   },
   {
    "duration": 12,
    "start_time": "2022-07-14T09:47:43.579Z"
   },
   {
    "duration": 29,
    "start_time": "2022-07-14T09:47:43.953Z"
   },
   {
    "duration": 20,
    "start_time": "2022-07-14T09:47:44.254Z"
   },
   {
    "duration": 21,
    "start_time": "2022-07-14T09:47:44.513Z"
   },
   {
    "duration": 26,
    "start_time": "2022-07-14T09:47:44.766Z"
   },
   {
    "duration": 10,
    "start_time": "2022-07-14T09:47:55.467Z"
   },
   {
    "duration": 29,
    "start_time": "2022-07-14T09:49:45.177Z"
   },
   {
    "duration": 230,
    "start_time": "2022-07-14T09:49:47.960Z"
   },
   {
    "duration": 119,
    "start_time": "2022-07-14T09:49:50.825Z"
   },
   {
    "duration": 324,
    "start_time": "2022-07-14T09:50:08.603Z"
   },
   {
    "duration": 218,
    "start_time": "2022-07-14T09:50:34.238Z"
   },
   {
    "duration": 11,
    "start_time": "2022-07-14T09:53:12.510Z"
   },
   {
    "duration": 12,
    "start_time": "2022-07-14T09:53:43.458Z"
   },
   {
    "duration": 12,
    "start_time": "2022-07-14T09:54:02.468Z"
   },
   {
    "duration": 297,
    "start_time": "2022-07-14T09:54:03.005Z"
   },
   {
    "duration": 126,
    "start_time": "2022-07-14T09:54:21.803Z"
   },
   {
    "duration": 11,
    "start_time": "2022-07-14T09:54:24.884Z"
   },
   {
    "duration": 253,
    "start_time": "2022-07-14T09:54:25.252Z"
   },
   {
    "duration": 9,
    "start_time": "2022-07-14T09:54:55.884Z"
   },
   {
    "duration": 9,
    "start_time": "2022-07-14T09:55:22.421Z"
   },
   {
    "duration": 10,
    "start_time": "2022-07-14T09:55:30.739Z"
   },
   {
    "duration": 8,
    "start_time": "2022-07-14T09:55:33.205Z"
   },
   {
    "duration": 9,
    "start_time": "2022-07-14T09:55:39.041Z"
   },
   {
    "duration": 11,
    "start_time": "2022-07-14T09:56:19.730Z"
   },
   {
    "duration": 11,
    "start_time": "2022-07-14T09:56:46.406Z"
   },
   {
    "duration": 8,
    "start_time": "2022-07-14T09:56:57.613Z"
   },
   {
    "duration": 21,
    "start_time": "2022-07-14T09:58:16.690Z"
   },
   {
    "duration": 31,
    "start_time": "2022-07-14T09:59:06.794Z"
   },
   {
    "duration": 24,
    "start_time": "2022-07-14T09:59:22.132Z"
   },
   {
    "duration": 22,
    "start_time": "2022-07-14T09:59:43.599Z"
   },
   {
    "duration": 15,
    "start_time": "2022-07-14T10:00:21.953Z"
   },
   {
    "duration": 17,
    "start_time": "2022-07-14T10:01:32.404Z"
   },
   {
    "duration": 8,
    "start_time": "2022-07-14T10:02:30.831Z"
   },
   {
    "duration": 10,
    "start_time": "2022-07-14T10:03:00.024Z"
   },
   {
    "duration": 1120,
    "start_time": "2022-07-14T10:03:09.966Z"
   },
   {
    "duration": 99,
    "start_time": "2022-07-14T10:03:11.087Z"
   },
   {
    "duration": 16,
    "start_time": "2022-07-14T10:03:11.188Z"
   },
   {
    "duration": 47,
    "start_time": "2022-07-14T10:03:11.207Z"
   },
   {
    "duration": 15,
    "start_time": "2022-07-14T10:03:11.255Z"
   },
   {
    "duration": 39,
    "start_time": "2022-07-14T10:03:11.271Z"
   },
   {
    "duration": 16,
    "start_time": "2022-07-14T10:03:11.315Z"
   },
   {
    "duration": 25,
    "start_time": "2022-07-14T10:03:11.333Z"
   },
   {
    "duration": 10,
    "start_time": "2022-07-14T10:03:11.360Z"
   },
   {
    "duration": 41,
    "start_time": "2022-07-14T10:03:11.373Z"
   },
   {
    "duration": 30,
    "start_time": "2022-07-14T10:03:11.415Z"
   },
   {
    "duration": 26,
    "start_time": "2022-07-14T10:03:11.447Z"
   },
   {
    "duration": 44,
    "start_time": "2022-07-14T10:03:11.475Z"
   },
   {
    "duration": 10,
    "start_time": "2022-07-14T10:03:11.521Z"
   },
   {
    "duration": 49,
    "start_time": "2022-07-14T10:03:11.532Z"
   },
   {
    "duration": 232,
    "start_time": "2022-07-14T10:03:11.583Z"
   },
   {
    "duration": 132,
    "start_time": "2022-07-14T10:03:11.824Z"
   },
   {
    "duration": 288,
    "start_time": "2022-07-14T10:03:11.958Z"
   },
   {
    "duration": 10,
    "start_time": "2022-07-14T10:03:12.248Z"
   },
   {
    "duration": 22,
    "start_time": "2022-07-14T10:03:12.260Z"
   },
   {
    "duration": 286,
    "start_time": "2022-07-14T10:03:12.284Z"
   },
   {
    "duration": 112,
    "start_time": "2022-07-14T10:03:12.572Z"
   },
   {
    "duration": 0,
    "start_time": "2022-07-14T10:03:12.686Z"
   },
   {
    "duration": 0,
    "start_time": "2022-07-14T10:03:12.687Z"
   },
   {
    "duration": 0,
    "start_time": "2022-07-14T10:03:12.687Z"
   },
   {
    "duration": 0,
    "start_time": "2022-07-14T10:03:12.689Z"
   },
   {
    "duration": 0,
    "start_time": "2022-07-14T10:03:12.690Z"
   },
   {
    "duration": 0,
    "start_time": "2022-07-14T10:03:12.692Z"
   },
   {
    "duration": 0,
    "start_time": "2022-07-14T10:03:12.712Z"
   },
   {
    "duration": 0,
    "start_time": "2022-07-14T10:03:12.713Z"
   },
   {
    "duration": 0,
    "start_time": "2022-07-14T10:03:12.715Z"
   },
   {
    "duration": 0,
    "start_time": "2022-07-14T10:03:12.716Z"
   },
   {
    "duration": 0,
    "start_time": "2022-07-14T10:03:12.717Z"
   },
   {
    "duration": 1,
    "start_time": "2022-07-14T10:03:12.717Z"
   },
   {
    "duration": 0,
    "start_time": "2022-07-14T10:03:12.718Z"
   },
   {
    "duration": 0,
    "start_time": "2022-07-14T10:03:12.719Z"
   },
   {
    "duration": 0,
    "start_time": "2022-07-14T10:03:12.720Z"
   },
   {
    "duration": 0,
    "start_time": "2022-07-14T10:03:12.721Z"
   },
   {
    "duration": 9,
    "start_time": "2022-07-14T10:03:30.966Z"
   },
   {
    "duration": 9,
    "start_time": "2022-07-14T10:03:44.068Z"
   },
   {
    "duration": 17,
    "start_time": "2022-07-14T10:03:49.683Z"
   },
   {
    "duration": 29,
    "start_time": "2022-07-14T10:04:18.904Z"
   },
   {
    "duration": 20,
    "start_time": "2022-07-14T10:04:45.908Z"
   },
   {
    "duration": 309,
    "start_time": "2022-07-14T10:04:48.622Z"
   },
   {
    "duration": 22,
    "start_time": "2022-07-14T10:10:31.733Z"
   },
   {
    "duration": 9,
    "start_time": "2022-07-14T10:11:36.757Z"
   },
   {
    "duration": 19,
    "start_time": "2022-07-14T10:11:56.113Z"
   },
   {
    "duration": 7,
    "start_time": "2022-07-14T10:13:34.573Z"
   },
   {
    "duration": 14,
    "start_time": "2022-07-14T10:13:47.269Z"
   },
   {
    "duration": 9,
    "start_time": "2022-07-14T10:14:00.231Z"
   },
   {
    "duration": 9,
    "start_time": "2022-07-14T10:14:08.632Z"
   },
   {
    "duration": 8,
    "start_time": "2022-07-14T10:14:26.757Z"
   },
   {
    "duration": 5,
    "start_time": "2022-07-14T10:14:28.957Z"
   },
   {
    "duration": 63,
    "start_time": "2022-07-14T10:15:41.988Z"
   },
   {
    "duration": 3,
    "start_time": "2022-07-14T10:15:47.276Z"
   },
   {
    "duration": 17,
    "start_time": "2022-07-14T10:15:53.257Z"
   },
   {
    "duration": 4,
    "start_time": "2022-07-14T10:16:08.406Z"
   },
   {
    "duration": 4,
    "start_time": "2022-07-14T10:17:27.500Z"
   },
   {
    "duration": 5,
    "start_time": "2022-07-14T10:17:42.877Z"
   },
   {
    "duration": 10,
    "start_time": "2022-07-14T10:17:59.335Z"
   },
   {
    "duration": 10,
    "start_time": "2022-07-14T10:18:11.176Z"
   },
   {
    "duration": 11,
    "start_time": "2022-07-14T10:19:14.786Z"
   },
   {
    "duration": 5,
    "start_time": "2022-07-14T10:19:57.798Z"
   },
   {
    "duration": 4,
    "start_time": "2022-07-14T10:20:08.883Z"
   },
   {
    "duration": 14,
    "start_time": "2022-07-14T10:20:12.082Z"
   },
   {
    "duration": 12,
    "start_time": "2022-07-14T10:20:26.391Z"
   },
   {
    "duration": 4,
    "start_time": "2022-07-14T10:20:29.463Z"
   },
   {
    "duration": 22,
    "start_time": "2022-07-14T10:21:17.205Z"
   },
   {
    "duration": 12,
    "start_time": "2022-07-14T10:21:58.399Z"
   },
   {
    "duration": 291,
    "start_time": "2022-07-14T10:31:48.269Z"
   },
   {
    "duration": 279,
    "start_time": "2022-07-14T10:33:03.364Z"
   },
   {
    "duration": 420,
    "start_time": "2022-07-14T10:34:06.827Z"
   },
   {
    "duration": 11,
    "start_time": "2022-07-14T10:35:16.963Z"
   },
   {
    "duration": 16,
    "start_time": "2022-07-14T10:35:17.733Z"
   },
   {
    "duration": 13,
    "start_time": "2022-07-14T10:36:11.828Z"
   },
   {
    "duration": 17,
    "start_time": "2022-07-14T10:39:19.588Z"
   },
   {
    "duration": 57,
    "start_time": "2022-07-14T10:39:44.148Z"
   },
   {
    "duration": 15,
    "start_time": "2022-07-14T10:39:50.252Z"
   },
   {
    "duration": 17,
    "start_time": "2022-07-14T10:40:00.412Z"
   },
   {
    "duration": 14,
    "start_time": "2022-07-14T10:41:32.943Z"
   },
   {
    "duration": 60,
    "start_time": "2022-07-14T10:41:48.669Z"
   },
   {
    "duration": 50,
    "start_time": "2022-07-14T10:41:56.812Z"
   },
   {
    "duration": 18,
    "start_time": "2022-07-14T10:42:00.379Z"
   },
   {
    "duration": 50,
    "start_time": "2022-07-14T10:42:12.616Z"
   },
   {
    "duration": 11,
    "start_time": "2022-07-14T10:44:03.252Z"
   },
   {
    "duration": 11,
    "start_time": "2022-07-14T10:44:25.233Z"
   },
   {
    "duration": 11,
    "start_time": "2022-07-14T10:44:31.807Z"
   },
   {
    "duration": 12,
    "start_time": "2022-07-14T10:44:49.499Z"
   },
   {
    "duration": 12,
    "start_time": "2022-07-14T10:44:57.913Z"
   },
   {
    "duration": 80,
    "start_time": "2022-07-14T10:46:04.087Z"
   },
   {
    "duration": 4,
    "start_time": "2022-07-14T10:46:08.604Z"
   },
   {
    "duration": 21,
    "start_time": "2022-07-14T10:46:39.477Z"
   },
   {
    "duration": 15,
    "start_time": "2022-07-14T10:49:04.986Z"
   },
   {
    "duration": 5,
    "start_time": "2022-07-14T10:49:14.365Z"
   },
   {
    "duration": 5,
    "start_time": "2022-07-14T10:49:35.258Z"
   },
   {
    "duration": 110,
    "start_time": "2022-07-14T10:50:17.826Z"
   },
   {
    "duration": 49,
    "start_time": "2022-07-14T10:50:27.446Z"
   },
   {
    "duration": 99,
    "start_time": "2022-07-14T10:50:36.053Z"
   },
   {
    "duration": 4,
    "start_time": "2022-07-14T10:51:50.251Z"
   },
   {
    "duration": 4,
    "start_time": "2022-07-14T10:51:57.096Z"
   },
   {
    "duration": 15,
    "start_time": "2022-07-14T10:56:04.905Z"
   },
   {
    "duration": 478,
    "start_time": "2022-07-14T10:56:05.866Z"
   },
   {
    "duration": 311,
    "start_time": "2022-07-14T10:56:23.001Z"
   },
   {
    "duration": 19,
    "start_time": "2022-07-14T10:57:23.377Z"
   },
   {
    "duration": 317,
    "start_time": "2022-07-14T10:57:45.828Z"
   },
   {
    "duration": 282,
    "start_time": "2022-07-14T10:57:56.655Z"
   },
   {
    "duration": 309,
    "start_time": "2022-07-14T10:58:17.800Z"
   },
   {
    "duration": 372,
    "start_time": "2022-07-14T10:58:35.539Z"
   },
   {
    "duration": 10,
    "start_time": "2022-07-14T11:00:30.640Z"
   },
   {
    "duration": 16,
    "start_time": "2022-07-14T11:00:50.957Z"
   },
   {
    "duration": 4,
    "start_time": "2022-07-14T11:01:32.208Z"
   },
   {
    "duration": 224,
    "start_time": "2022-07-14T11:01:44.234Z"
   },
   {
    "duration": 289,
    "start_time": "2022-07-14T11:02:14.628Z"
   },
   {
    "duration": 1236,
    "start_time": "2022-07-14T11:08:30.653Z"
   },
   {
    "duration": 87,
    "start_time": "2022-07-14T11:08:31.892Z"
   },
   {
    "duration": 20,
    "start_time": "2022-07-14T11:08:31.981Z"
   },
   {
    "duration": 49,
    "start_time": "2022-07-14T11:08:32.004Z"
   },
   {
    "duration": 16,
    "start_time": "2022-07-14T11:08:32.055Z"
   },
   {
    "duration": 52,
    "start_time": "2022-07-14T11:08:32.073Z"
   },
   {
    "duration": 10,
    "start_time": "2022-07-14T11:08:32.127Z"
   },
   {
    "duration": 39,
    "start_time": "2022-07-14T11:08:32.139Z"
   },
   {
    "duration": 19,
    "start_time": "2022-07-14T11:08:32.180Z"
   },
   {
    "duration": 55,
    "start_time": "2022-07-14T11:08:32.201Z"
   },
   {
    "duration": 23,
    "start_time": "2022-07-14T11:08:32.257Z"
   },
   {
    "duration": 20,
    "start_time": "2022-07-14T11:08:32.281Z"
   },
   {
    "duration": 25,
    "start_time": "2022-07-14T11:08:32.303Z"
   },
   {
    "duration": 8,
    "start_time": "2022-07-14T11:08:32.330Z"
   },
   {
    "duration": 31,
    "start_time": "2022-07-14T11:08:32.339Z"
   },
   {
    "duration": 202,
    "start_time": "2022-07-14T11:08:32.371Z"
   },
   {
    "duration": 123,
    "start_time": "2022-07-14T11:08:32.575Z"
   },
   {
    "duration": 271,
    "start_time": "2022-07-14T11:08:32.699Z"
   },
   {
    "duration": 12,
    "start_time": "2022-07-14T11:08:32.971Z"
   },
   {
    "duration": 306,
    "start_time": "2022-07-14T11:08:32.984Z"
   },
   {
    "duration": 17,
    "start_time": "2022-07-14T11:08:33.292Z"
   },
   {
    "duration": 11,
    "start_time": "2022-07-14T11:08:33.311Z"
   },
   {
    "duration": 21,
    "start_time": "2022-07-14T11:08:33.323Z"
   },
   {
    "duration": 3,
    "start_time": "2022-07-14T11:08:33.345Z"
   },
   {
    "duration": 6,
    "start_time": "2022-07-14T11:08:33.350Z"
   },
   {
    "duration": 18,
    "start_time": "2022-07-14T11:08:33.357Z"
   },
   {
    "duration": 312,
    "start_time": "2022-07-14T11:08:33.376Z"
   },
   {
    "duration": 375,
    "start_time": "2022-07-14T11:08:33.691Z"
   },
   {
    "duration": 89,
    "start_time": "2022-07-14T11:08:34.067Z"
   },
   {
    "duration": 11,
    "start_time": "2022-07-14T11:08:34.157Z"
   },
   {
    "duration": 239,
    "start_time": "2022-07-14T11:08:34.170Z"
   },
   {
    "duration": 1144,
    "start_time": "2022-07-14T11:08:34.411Z"
   },
   {
    "duration": 2,
    "start_time": "2022-07-14T11:08:35.557Z"
   },
   {
    "duration": 22,
    "start_time": "2022-07-14T11:08:35.560Z"
   },
   {
    "duration": 15,
    "start_time": "2022-07-14T11:08:35.584Z"
   },
   {
    "duration": 11,
    "start_time": "2022-07-14T11:08:35.600Z"
   },
   {
    "duration": 13,
    "start_time": "2022-07-14T11:08:35.612Z"
   },
   {
    "duration": 15,
    "start_time": "2022-07-14T11:08:35.626Z"
   },
   {
    "duration": 24,
    "start_time": "2022-07-14T11:08:35.643Z"
   },
   {
    "duration": 14,
    "start_time": "2022-07-14T11:08:35.669Z"
   },
   {
    "duration": 15,
    "start_time": "2022-07-14T11:08:35.684Z"
   },
   {
    "duration": 11,
    "start_time": "2022-07-14T11:08:35.701Z"
   },
   {
    "duration": 13,
    "start_time": "2022-07-14T11:08:35.713Z"
   },
   {
    "duration": 13,
    "start_time": "2022-07-14T11:18:49.232Z"
   },
   {
    "duration": 338,
    "start_time": "2022-07-14T11:23:45.137Z"
   },
   {
    "duration": 1303,
    "start_time": "2022-07-14T11:35:55.838Z"
   },
   {
    "duration": 94,
    "start_time": "2022-07-14T11:35:57.144Z"
   },
   {
    "duration": 21,
    "start_time": "2022-07-14T11:35:57.239Z"
   },
   {
    "duration": 57,
    "start_time": "2022-07-14T11:35:57.263Z"
   },
   {
    "duration": 21,
    "start_time": "2022-07-14T11:35:57.322Z"
   },
   {
    "duration": 37,
    "start_time": "2022-07-14T11:35:57.346Z"
   },
   {
    "duration": 26,
    "start_time": "2022-07-14T11:35:57.385Z"
   },
   {
    "duration": 30,
    "start_time": "2022-07-14T11:35:57.413Z"
   },
   {
    "duration": 32,
    "start_time": "2022-07-14T11:35:57.445Z"
   },
   {
    "duration": 50,
    "start_time": "2022-07-14T11:35:57.480Z"
   },
   {
    "duration": 25,
    "start_time": "2022-07-14T11:35:57.532Z"
   },
   {
    "duration": 25,
    "start_time": "2022-07-14T11:35:57.559Z"
   },
   {
    "duration": 41,
    "start_time": "2022-07-14T11:35:57.586Z"
   },
   {
    "duration": 19,
    "start_time": "2022-07-14T11:35:57.629Z"
   },
   {
    "duration": 49,
    "start_time": "2022-07-14T11:35:57.650Z"
   },
   {
    "duration": 26,
    "start_time": "2022-07-14T11:35:57.701Z"
   },
   {
    "duration": 240,
    "start_time": "2022-07-14T11:35:57.729Z"
   },
   {
    "duration": 145,
    "start_time": "2022-07-14T11:35:57.971Z"
   },
   {
    "duration": 282,
    "start_time": "2022-07-14T11:35:58.117Z"
   },
   {
    "duration": 18,
    "start_time": "2022-07-14T11:35:58.401Z"
   },
   {
    "duration": 303,
    "start_time": "2022-07-14T11:35:58.421Z"
   },
   {
    "duration": 9,
    "start_time": "2022-07-14T11:35:58.726Z"
   },
   {
    "duration": 16,
    "start_time": "2022-07-14T11:35:58.737Z"
   },
   {
    "duration": 27,
    "start_time": "2022-07-14T11:35:58.755Z"
   },
   {
    "duration": 11,
    "start_time": "2022-07-14T11:35:58.784Z"
   },
   {
    "duration": 16,
    "start_time": "2022-07-14T11:35:58.797Z"
   },
   {
    "duration": 21,
    "start_time": "2022-07-14T11:35:58.815Z"
   },
   {
    "duration": 326,
    "start_time": "2022-07-14T11:35:58.839Z"
   },
   {
    "duration": 411,
    "start_time": "2022-07-14T11:35:59.167Z"
   },
   {
    "duration": 107,
    "start_time": "2022-07-14T11:35:59.580Z"
   },
   {
    "duration": 13,
    "start_time": "2022-07-14T11:35:59.688Z"
   },
   {
    "duration": 243,
    "start_time": "2022-07-14T11:35:59.710Z"
   },
   {
    "duration": 893,
    "start_time": "2022-07-14T11:35:59.955Z"
   },
   {
    "duration": 3,
    "start_time": "2022-07-14T11:36:00.850Z"
   },
   {
    "duration": 42,
    "start_time": "2022-07-14T11:36:00.854Z"
   },
   {
    "duration": 20,
    "start_time": "2022-07-14T11:36:00.898Z"
   },
   {
    "duration": 18,
    "start_time": "2022-07-14T11:36:00.920Z"
   },
   {
    "duration": 16,
    "start_time": "2022-07-14T11:36:00.940Z"
   },
   {
    "duration": 28,
    "start_time": "2022-07-14T11:36:00.959Z"
   },
   {
    "duration": 27,
    "start_time": "2022-07-14T11:36:00.989Z"
   },
   {
    "duration": 18,
    "start_time": "2022-07-14T11:36:01.018Z"
   },
   {
    "duration": 22,
    "start_time": "2022-07-14T11:36:01.038Z"
   },
   {
    "duration": 29,
    "start_time": "2022-07-14T11:36:01.062Z"
   },
   {
    "duration": 31,
    "start_time": "2022-07-14T11:36:01.093Z"
   }
  ],
  "kernelspec": {
   "display_name": "Python 3 (ipykernel)",
   "language": "python",
   "name": "python3"
  },
  "language_info": {
   "codemirror_mode": {
    "name": "ipython",
    "version": 3
   },
   "file_extension": ".py",
   "mimetype": "text/x-python",
   "name": "python",
   "nbconvert_exporter": "python",
   "pygments_lexer": "ipython3",
   "version": "3.9.7"
  },
  "toc": {
   "base_numbering": 1,
   "nav_menu": {},
   "number_sections": true,
   "sideBar": true,
   "skip_h1_title": true,
   "title_cell": "Table of Contents",
   "title_sidebar": "Contents",
   "toc_cell": false,
   "toc_position": {
    "height": "calc(100% - 180px)",
    "left": "10px",
    "top": "150px",
    "width": "366.4px"
   },
   "toc_section_display": true,
   "toc_window_display": true
  }
 },
 "nbformat": 4,
 "nbformat_minor": 2
}
