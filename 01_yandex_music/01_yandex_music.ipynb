{
 "cells": [
  {
   "cell_type": "markdown",
   "metadata": {
    "id": "E0vqbgi9ay0H"
   },
   "source": [
    "# Исследование данных сервиса “Яндекс.Музыка” (Data analysis of Yandex.Music service)"
   ]
  },
  {
   "cell_type": "markdown",
   "metadata": {},
   "source": [
    "## Описание проекта"
   ]
  },
  {
   "cell_type": "markdown",
   "metadata": {
    "id": "VUC88oWjTJw2"
   },
   "source": [
    "Сравнение музыкальных предпочтений жителей Москвы и Санкт-Петербурга на основе данных Яндекс.Музыки\n",
    "\n",
    "**Цель исследования:** сравнить поведение пользователей двух городов\n",
    "\n",
    "**Задачи исследования:** для достижения поставленной цели необходимо проверить гиипотезы:\n",
    "\n",
    "* Активность пользователей зависит от дня недели. Причём в Москве и Петербурге это проявляется по-разному.\n",
    "* В понедельник утром в Москве преобладают одни жанры, а в Петербурге — другие. Так же и вечером пятницы преобладают разные жанры — в зависимости от города. \n",
    "* Москва и Петербург предпочитают разные жанры музыки. В Москве чаще слушают поп-музыку, в Петербурге — русский рэп.\n",
    "\n",
    "**Ход исследования**\n",
    "\n",
    "Данные о поведении пользователей находятся в файле `yandex_music_project.csv`. \n",
    "\n",
    "Исследование пройдёт в три этапа:\n",
    "\n",
    " 1. Обзор данных\n",
    " 2. Предобработка данных\n",
    " 3. Проверка гипотез"
   ]
  },
  {
   "cell_type": "markdown",
   "metadata": {
    "id": "Ml1hmfXC_Zcs"
   },
   "source": [
    "## Обзор данных"
   ]
  },
  {
   "cell_type": "markdown",
   "metadata": {
    "id": "57eAOGIz_Zcs"
   },
   "source": [
    "Импортируем библиотеку `pandas`"
   ]
  },
  {
   "cell_type": "code",
   "execution_count": 1,
   "metadata": {
    "id": "AXN7PHPN_Zcs"
   },
   "outputs": [],
   "source": [
    "import pandas as pd        # импорт библиотеки pandas"
   ]
  },
  {
   "cell_type": "markdown",
   "metadata": {
    "id": "SG23P8tt_Zcs"
   },
   "source": [
    "Загрузим данные. Создадим функцию `df_read_csv`, которая выведит сообщение об ошибке, если информация о файле будет указана неверно"
   ]
  },
  {
   "cell_type": "code",
   "execution_count": 2,
   "metadata": {},
   "outputs": [],
   "source": [
    "# создание функции для чтения данных\n",
    "def df_read_csv(path):\n",
    "    try:\n",
    "        return pd.read_csv(path)\n",
    "    except Exception:\n",
    "        print('Ошибка при загрузке файла')\n",
    "df = df_read_csv('yandex_music_project.csv')"
   ]
  },
  {
   "cell_type": "markdown",
   "metadata": {
    "id": "rDoOMd3uTqnZ"
   },
   "source": [
    "Выведим на экран первые десять строк таблицы:"
   ]
  },
  {
   "cell_type": "code",
   "execution_count": 3,
   "metadata": {
    "id": "oWTVX3gW_Zct"
   },
   "outputs": [
    {
     "data": {
      "text/html": [
       "<div>\n",
       "<style scoped>\n",
       "    .dataframe tbody tr th:only-of-type {\n",
       "        vertical-align: middle;\n",
       "    }\n",
       "\n",
       "    .dataframe tbody tr th {\n",
       "        vertical-align: top;\n",
       "    }\n",
       "\n",
       "    .dataframe thead th {\n",
       "        text-align: right;\n",
       "    }\n",
       "</style>\n",
       "<table border=\"1\" class=\"dataframe\">\n",
       "  <thead>\n",
       "    <tr style=\"text-align: right;\">\n",
       "      <th></th>\n",
       "      <th>userID</th>\n",
       "      <th>Track</th>\n",
       "      <th>artist</th>\n",
       "      <th>genre</th>\n",
       "      <th>City</th>\n",
       "      <th>time</th>\n",
       "      <th>Day</th>\n",
       "    </tr>\n",
       "  </thead>\n",
       "  <tbody>\n",
       "    <tr>\n",
       "      <th>0</th>\n",
       "      <td>FFB692EC</td>\n",
       "      <td>Kamigata To Boots</td>\n",
       "      <td>The Mass Missile</td>\n",
       "      <td>rock</td>\n",
       "      <td>Saint-Petersburg</td>\n",
       "      <td>20:28:33</td>\n",
       "      <td>Wednesday</td>\n",
       "    </tr>\n",
       "    <tr>\n",
       "      <th>1</th>\n",
       "      <td>55204538</td>\n",
       "      <td>Delayed Because of Accident</td>\n",
       "      <td>Andreas Rönnberg</td>\n",
       "      <td>rock</td>\n",
       "      <td>Moscow</td>\n",
       "      <td>14:07:09</td>\n",
       "      <td>Friday</td>\n",
       "    </tr>\n",
       "    <tr>\n",
       "      <th>2</th>\n",
       "      <td>20EC38</td>\n",
       "      <td>Funiculì funiculà</td>\n",
       "      <td>Mario Lanza</td>\n",
       "      <td>pop</td>\n",
       "      <td>Saint-Petersburg</td>\n",
       "      <td>20:58:07</td>\n",
       "      <td>Wednesday</td>\n",
       "    </tr>\n",
       "    <tr>\n",
       "      <th>3</th>\n",
       "      <td>A3DD03C9</td>\n",
       "      <td>Dragons in the Sunset</td>\n",
       "      <td>Fire + Ice</td>\n",
       "      <td>folk</td>\n",
       "      <td>Saint-Petersburg</td>\n",
       "      <td>08:37:09</td>\n",
       "      <td>Monday</td>\n",
       "    </tr>\n",
       "    <tr>\n",
       "      <th>4</th>\n",
       "      <td>E2DC1FAE</td>\n",
       "      <td>Soul People</td>\n",
       "      <td>Space Echo</td>\n",
       "      <td>dance</td>\n",
       "      <td>Moscow</td>\n",
       "      <td>08:34:34</td>\n",
       "      <td>Monday</td>\n",
       "    </tr>\n",
       "    <tr>\n",
       "      <th>5</th>\n",
       "      <td>842029A1</td>\n",
       "      <td>Преданная</td>\n",
       "      <td>IMPERVTOR</td>\n",
       "      <td>rusrap</td>\n",
       "      <td>Saint-Petersburg</td>\n",
       "      <td>13:09:41</td>\n",
       "      <td>Friday</td>\n",
       "    </tr>\n",
       "    <tr>\n",
       "      <th>6</th>\n",
       "      <td>4CB90AA5</td>\n",
       "      <td>True</td>\n",
       "      <td>Roman Messer</td>\n",
       "      <td>dance</td>\n",
       "      <td>Moscow</td>\n",
       "      <td>13:00:07</td>\n",
       "      <td>Wednesday</td>\n",
       "    </tr>\n",
       "    <tr>\n",
       "      <th>7</th>\n",
       "      <td>F03E1C1F</td>\n",
       "      <td>Feeling This Way</td>\n",
       "      <td>Polina Griffith</td>\n",
       "      <td>dance</td>\n",
       "      <td>Moscow</td>\n",
       "      <td>20:47:49</td>\n",
       "      <td>Wednesday</td>\n",
       "    </tr>\n",
       "    <tr>\n",
       "      <th>8</th>\n",
       "      <td>8FA1D3BE</td>\n",
       "      <td>И вновь продолжается бой</td>\n",
       "      <td>NaN</td>\n",
       "      <td>ruspop</td>\n",
       "      <td>Moscow</td>\n",
       "      <td>09:17:40</td>\n",
       "      <td>Friday</td>\n",
       "    </tr>\n",
       "    <tr>\n",
       "      <th>9</th>\n",
       "      <td>E772D5C0</td>\n",
       "      <td>Pessimist</td>\n",
       "      <td>NaN</td>\n",
       "      <td>dance</td>\n",
       "      <td>Saint-Petersburg</td>\n",
       "      <td>21:20:49</td>\n",
       "      <td>Wednesday</td>\n",
       "    </tr>\n",
       "  </tbody>\n",
       "</table>\n",
       "</div>"
      ],
      "text/plain": [
       "     userID                        Track            artist   genre  \\\n",
       "0  FFB692EC            Kamigata To Boots  The Mass Missile    rock   \n",
       "1  55204538  Delayed Because of Accident  Andreas Rönnberg    rock   \n",
       "2    20EC38            Funiculì funiculà       Mario Lanza     pop   \n",
       "3  A3DD03C9        Dragons in the Sunset        Fire + Ice    folk   \n",
       "4  E2DC1FAE                  Soul People        Space Echo   dance   \n",
       "5  842029A1                    Преданная         IMPERVTOR  rusrap   \n",
       "6  4CB90AA5                         True      Roman Messer   dance   \n",
       "7  F03E1C1F             Feeling This Way   Polina Griffith   dance   \n",
       "8  8FA1D3BE     И вновь продолжается бой               NaN  ruspop   \n",
       "9  E772D5C0                    Pessimist               NaN   dance   \n",
       "\n",
       "             City        time        Day  \n",
       "0  Saint-Petersburg  20:28:33  Wednesday  \n",
       "1            Moscow  14:07:09     Friday  \n",
       "2  Saint-Petersburg  20:58:07  Wednesday  \n",
       "3  Saint-Petersburg  08:37:09     Monday  \n",
       "4            Moscow  08:34:34     Monday  \n",
       "5  Saint-Petersburg  13:09:41     Friday  \n",
       "6            Moscow  13:00:07  Wednesday  \n",
       "7            Moscow  20:47:49  Wednesday  \n",
       "8            Moscow  09:17:40     Friday  \n",
       "9  Saint-Petersburg  21:20:49  Wednesday  "
      ]
     },
     "execution_count": 3,
     "metadata": {},
     "output_type": "execute_result"
    }
   ],
   "source": [
    "df.head(10)        # получение первых 10 строк таблицы df"
   ]
  },
  {
   "cell_type": "markdown",
   "metadata": {
    "id": "EO73Kwic_Zct"
   },
   "source": [
    "Получим общую информацию о таблице:"
   ]
  },
  {
   "cell_type": "code",
   "execution_count": 4,
   "metadata": {
    "id": "DSf2kIb-_Zct"
   },
   "outputs": [
    {
     "name": "stdout",
     "output_type": "stream",
     "text": [
      "<class 'pandas.core.frame.DataFrame'>\n",
      "RangeIndex: 65079 entries, 0 to 65078\n",
      "Data columns (total 7 columns):\n",
      " #   Column    Non-Null Count  Dtype \n",
      "---  ------    --------------  ----- \n",
      " 0     userID  65079 non-null  object\n",
      " 1   Track     63848 non-null  object\n",
      " 2   artist    57876 non-null  object\n",
      " 3   genre     63881 non-null  object\n",
      " 4     City    65079 non-null  object\n",
      " 5   time      65079 non-null  object\n",
      " 6   Day       65079 non-null  object\n",
      "dtypes: object(7)\n",
      "memory usage: 3.5+ MB\n"
     ]
    }
   ],
   "source": [
    "df.info()        # получение общей информации о данных в таблице df"
   ]
  },
  {
   "cell_type": "markdown",
   "metadata": {
    "id": "TaQ2Iwbr_Zct"
   },
   "source": [
    "Итак, в таблице семь столбцов. Тип данных во всех столбцах — `object`.\n",
    "\n",
    "Согласно документации к данным:\n",
    "* `userID` — идентификатор пользователя;\n",
    "* `Track` — название трека;  \n",
    "* `artist` — имя исполнителя;\n",
    "* `genre` — название жанра;\n",
    "* `City` — город пользователя;\n",
    "* `time` — время начала прослушивания;\n",
    "* `Day` — день недели.\n",
    "\n",
    "В названиях колонок видны три нарушения стиля:\n",
    "1. Строчные буквы сочетаются с прописными.\n",
    "2. Встречаются пробелы.\n",
    "3. Найдите ещё одну проблему в названии колонок и опишите её в этом пункте. \n",
    "   Столбец userID необходимо записать в змеином регистре, user_id.\n",
    "\n",
    "\n",
    "\n",
    "Количество значений в столбцах различается. Значит, в данных есть пропущенные значения.\n"
   ]
  },
  {
   "cell_type": "markdown",
   "metadata": {
    "id": "MCB6-dXG_Zct"
   },
   "source": [
    "**Выводы**\n",
    "\n",
    "В каждой строке таблицы — данные о прослушанном треке. Часть колонок описывает саму композицию: название, исполнителя и жанр. Остальные данные рассказывают о пользователе: из какого он города, когда он слушал музыку. \n",
    "\n",
    "Предварительно можно утверждать, что, данных достаточно для проверки гипотез. Но встречаются пропуски в данных, а в названиях колонок — расхождения с хорошим стилем.\n",
    "\n",
    "Чтобы двигаться дальше, нужно устранить проблемы в данных."
   ]
  },
  {
   "cell_type": "markdown",
   "metadata": {
    "id": "SjYF6Ub9_Zct"
   },
   "source": [
    "## Предобработка данных\n",
    "\n",
    "Необходимо исправить стиль в заголовках столбцов, исключить пропуски. Затем проверить данные на дубликаты."
   ]
  },
  {
   "cell_type": "markdown",
   "metadata": {
    "id": "dIaKXr29_Zct"
   },
   "source": [
    "### Стиль заголовков\n",
    "\n",
    "Выведим на экран названия столбцов:"
   ]
  },
  {
   "cell_type": "code",
   "execution_count": 5,
   "metadata": {
    "id": "oKOTdF_Q_Zct"
   },
   "outputs": [
    {
     "data": {
      "text/plain": [
       "Index(['  userID', 'Track', 'artist', 'genre', '  City  ', 'time', 'Day'], dtype='object')"
      ]
     },
     "execution_count": 5,
     "metadata": {},
     "output_type": "execute_result"
    }
   ],
   "source": [
    "df.columns        # перечень названий столбцов таблицы df"
   ]
  },
  {
   "cell_type": "markdown",
   "metadata": {
    "id": "zj5534cv_Zct"
   },
   "source": [
    "Приведим названия в соответствие с хорошим стилем:"
   ]
  },
  {
   "cell_type": "code",
   "execution_count": 6,
   "metadata": {
    "id": "ISlFqs5y_Zct"
   },
   "outputs": [],
   "source": [
    "# переименование столбцов\n",
    "df = df.rename(columns = {'  userID': 'user_id', 'Track': 'track', '  City  ': 'city', 'Day': 'day'})       "
   ]
  },
  {
   "cell_type": "markdown",
   "metadata": {
    "id": "1dqbh00J_Zct"
   },
   "source": [
    "Проверим результат"
   ]
  },
  {
   "cell_type": "code",
   "execution_count": 7,
   "metadata": {
    "id": "d4NOAmTW_Zct"
   },
   "outputs": [
    {
     "data": {
      "text/plain": [
       "Index(['user_id', 'track', 'artist', 'genre', 'city', 'time', 'day'], dtype='object')"
      ]
     },
     "execution_count": 7,
     "metadata": {},
     "output_type": "execute_result"
    }
   ],
   "source": [
    "df.columns "
   ]
  },
  {
   "cell_type": "markdown",
   "metadata": {
    "id": "5ISfbcfY_Zct"
   },
   "source": [
    "### Пропуски значений\n",
    "\n",
    "Сначала посчитаем, сколько в таблице пропущенных значений"
   ]
  },
  {
   "cell_type": "code",
   "execution_count": 8,
   "metadata": {
    "id": "RskX29qr_Zct"
   },
   "outputs": [
    {
     "data": {
      "text/plain": [
       "user_id       0\n",
       "track      1231\n",
       "artist     7203\n",
       "genre      1198\n",
       "city          0\n",
       "time          0\n",
       "day           0\n",
       "dtype: int64"
      ]
     },
     "execution_count": 8,
     "metadata": {},
     "output_type": "execute_result"
    }
   ],
   "source": [
    "df.isna().sum()        # подсчёт пропусков"
   ]
  },
  {
   "cell_type": "markdown",
   "metadata": {
    "id": "fSv2laPA_Zct"
   },
   "source": [
    "Заменим пропущенные значения в столбцах `track`, `artist` и `genre` на строку `'unknown'`. Для этого создадим список `columns_to_replace`, переберем его элементы циклом `for` и для каждого столбца выполним замену пропущенных значений:"
   ]
  },
  {
   "cell_type": "code",
   "execution_count": 9,
   "metadata": {
    "id": "KplB5qWs_Zct"
   },
   "outputs": [],
   "source": [
    "# перебор названий столбцов в цикле и замена пропущенных значений на 'unknown'\n",
    "columns_to_replace = ['track', 'artist', 'genre']\n",
    "for column in columns_to_replace:\n",
    "    df[column] = df[column].fillna('unknown')"
   ]
  },
  {
   "cell_type": "markdown",
   "metadata": {
    "id": "Ilsm-MZo_Zct"
   },
   "source": [
    "Убедимся что в таблице не осталось пропусков"
   ]
  },
  {
   "cell_type": "code",
   "execution_count": 10,
   "metadata": {
    "id": "Tq4nYRX4_Zct"
   },
   "outputs": [
    {
     "data": {
      "text/plain": [
       "user_id    0\n",
       "track      0\n",
       "artist     0\n",
       "genre      0\n",
       "city       0\n",
       "time       0\n",
       "day        0\n",
       "dtype: int64"
      ]
     },
     "execution_count": 10,
     "metadata": {},
     "output_type": "execute_result"
    }
   ],
   "source": [
    "df.isna().sum()"
   ]
  },
  {
   "cell_type": "markdown",
   "metadata": {
    "id": "BWKRtBJ3_Zct"
   },
   "source": [
    "### Дубликаты\n",
    "\n",
    "Посчитаеи явные дубликаты в таблице"
   ]
  },
  {
   "cell_type": "code",
   "execution_count": 11,
   "metadata": {
    "id": "36eES_S0_Zct"
   },
   "outputs": [
    {
     "data": {
      "text/plain": [
       "3826"
      ]
     },
     "execution_count": 11,
     "metadata": {},
     "output_type": "execute_result"
    }
   ],
   "source": [
    "df.duplicated().sum()        # подсчёт явных дубликатов"
   ]
  },
  {
   "cell_type": "markdown",
   "metadata": {
    "id": "Ot25h6XR_Zct"
   },
   "source": [
    "Удалим явные дубликаты:"
   ]
  },
  {
   "cell_type": "code",
   "execution_count": 12,
   "metadata": {
    "id": "exFHq6tt_Zct"
   },
   "outputs": [],
   "source": [
    "# удаление явных дубликатов (с удалением старых индексов и формированием новых)\n",
    "df = df.drop_duplicates().reset_index(drop = True) "
   ]
  },
  {
   "cell_type": "markdown",
   "metadata": {
    "id": "Im2YwBEG_Zct"
   },
   "source": [
    "Ещё раз посчитайте явные дубликаты в таблице"
   ]
  },
  {
   "cell_type": "code",
   "execution_count": 13,
   "metadata": {
    "id": "-8PuNWQ0_Zct"
   },
   "outputs": [
    {
     "data": {
      "text/plain": [
       "0"
      ]
     },
     "execution_count": 13,
     "metadata": {},
     "output_type": "execute_result"
    }
   ],
   "source": [
    "df.duplicated().sum()"
   ]
  },
  {
   "cell_type": "markdown",
   "metadata": {
    "id": "QlFBsxAr_Zct"
   },
   "source": [
    "Теперь избавимся от неявных дубликатов в колонке `genre`. Например, название одного и того же жанра может быть записано немного по-разному. Такие ошибки тоже повлияют на результат исследования."
   ]
  },
  {
   "cell_type": "markdown",
   "metadata": {
    "id": "eSjWwsOh_Zct"
   },
   "source": [
    "Выведим на экран список уникальных названий жанров, отсортированный в алфавитном порядке"
   ]
  },
  {
   "cell_type": "code",
   "execution_count": 14,
   "metadata": {
    "id": "JIUcqzZN_Zct"
   },
   "outputs": [
    {
     "data": {
      "text/plain": [
       "array(['acid', 'acoustic', 'action', 'adult', 'africa', 'afrikaans',\n",
       "       'alternative', 'alternativepunk', 'ambient', 'americana',\n",
       "       'animated', 'anime', 'arabesk', 'arabic', 'arena',\n",
       "       'argentinetango', 'art', 'audiobook', 'author', 'avantgarde',\n",
       "       'axé', 'baile', 'balkan', 'beats', 'bigroom', 'black', 'bluegrass',\n",
       "       'blues', 'bollywood', 'bossa', 'brazilian', 'breakbeat', 'breaks',\n",
       "       'broadway', 'cantautori', 'cantopop', 'canzone', 'caribbean',\n",
       "       'caucasian', 'celtic', 'chamber', 'chanson', 'children', 'chill',\n",
       "       'chinese', 'choral', 'christian', 'christmas', 'classical',\n",
       "       'classicmetal', 'club', 'colombian', 'comedy', 'conjazz',\n",
       "       'contemporary', 'country', 'cuban', 'dance', 'dancehall',\n",
       "       'dancepop', 'dark', 'death', 'deep', 'deutschrock', 'deutschspr',\n",
       "       'dirty', 'disco', 'dnb', 'documentary', 'downbeat', 'downtempo',\n",
       "       'drum', 'dub', 'dubstep', 'eastern', 'easy', 'electronic',\n",
       "       'electropop', 'emo', 'entehno', 'epicmetal', 'estrada', 'ethnic',\n",
       "       'eurofolk', 'european', 'experimental', 'extrememetal', 'fado',\n",
       "       'fairytail', 'film', 'fitness', 'flamenco', 'folk', 'folklore',\n",
       "       'folkmetal', 'folkrock', 'folktronica', 'forró', 'frankreich',\n",
       "       'französisch', 'french', 'funk', 'future', 'gangsta', 'garage',\n",
       "       'german', 'ghazal', 'gitarre', 'glitch', 'gospel', 'gothic',\n",
       "       'grime', 'grunge', 'gypsy', 'handsup', \"hard'n'heavy\", 'hardcore',\n",
       "       'hardstyle', 'hardtechno', 'hip', 'hip-hop', 'hiphop',\n",
       "       'historisch', 'holiday', 'hop', 'horror', 'house', 'hymn', 'idm',\n",
       "       'independent', 'indian', 'indie', 'indipop', 'industrial',\n",
       "       'inspirational', 'instrumental', 'international', 'irish', 'jam',\n",
       "       'japanese', 'jazz', 'jewish', 'jpop', 'jungle', 'k-pop',\n",
       "       'karadeniz', 'karaoke', 'kayokyoku', 'korean', 'laiko', 'latin',\n",
       "       'latino', 'leftfield', 'local', 'lounge', 'loungeelectronic',\n",
       "       'lovers', 'malaysian', 'mandopop', 'marschmusik', 'meditative',\n",
       "       'mediterranean', 'melodic', 'metal', 'metalcore', 'mexican',\n",
       "       'middle', 'minimal', 'miscellaneous', 'modern', 'mood', 'mpb',\n",
       "       'muslim', 'native', 'neoklassik', 'neue', 'new', 'newage',\n",
       "       'newwave', 'nu', 'nujazz', 'numetal', 'oceania', 'old', 'opera',\n",
       "       'orchestral', 'other', 'piano', 'podcasts', 'pop', 'popdance',\n",
       "       'popelectronic', 'popeurodance', 'poprussian', 'post',\n",
       "       'posthardcore', 'postrock', 'power', 'progmetal', 'progressive',\n",
       "       'psychedelic', 'punjabi', 'punk', 'quebecois', 'ragga', 'ram',\n",
       "       'rancheras', 'rap', 'rave', 'reggae', 'reggaeton', 'regional',\n",
       "       'relax', 'religious', 'retro', 'rhythm', 'rnb', 'rnr', 'rock',\n",
       "       'rockabilly', 'rockalternative', 'rockindie', 'rockother',\n",
       "       'romance', 'roots', 'ruspop', 'rusrap', 'rusrock', 'russian',\n",
       "       'salsa', 'samba', 'scenic', 'schlager', 'self', 'sertanejo',\n",
       "       'shanson', 'shoegazing', 'showtunes', 'singer', 'ska', 'skarock',\n",
       "       'slow', 'smooth', 'soft', 'soul', 'soulful', 'sound', 'soundtrack',\n",
       "       'southern', 'specialty', 'speech', 'spiritual', 'sport',\n",
       "       'stonerrock', 'surf', 'swing', 'synthpop', 'synthrock',\n",
       "       'sängerportrait', 'tango', 'tanzorchester', 'taraftar', 'tatar',\n",
       "       'tech', 'techno', 'teen', 'thrash', 'top', 'traditional',\n",
       "       'tradjazz', 'trance', 'tribal', 'trip', 'triphop', 'tropical',\n",
       "       'türk', 'türkçe', 'ukrrock', 'unknown', 'urban', 'uzbek',\n",
       "       'variété', 'vi', 'videogame', 'vocal', 'western', 'world',\n",
       "       'worldbeat', 'ïîï', 'электроника'], dtype=object)"
      ]
     },
     "execution_count": 14,
     "metadata": {},
     "output_type": "execute_result"
    }
   ],
   "source": [
    "# просмотр уникальных названий жанров\n",
    "df['genre'].sort_values().unique()"
   ]
  },
  {
   "cell_type": "markdown",
   "metadata": {
    "id": "qej-Qmuo_Zct"
   },
   "source": [
    "Чтобы очистить таблицу от неявных дубликатов, напишим функцию `replace_wrong_genres()` с двумя параметрами: \n",
    "* `wrong_genres` — список дубликатов,\n",
    "* `correct_genre` — строка с правильным значением.\n",
    "\n",
    "Функция должна исправить колонку `genre` в таблице `df`: заменить каждое значение из списка `wrong_genres` на значение из `correct_genre`."
   ]
  },
  {
   "cell_type": "code",
   "execution_count": 15,
   "metadata": {
    "id": "ErNDkmns_Zct"
   },
   "outputs": [],
   "source": [
    "# функция для замены неявных дубликатов\n",
    "def replace_wrong_genres(wrong_genres, correct_genre):\n",
    "    for wrong_genres in wrong_genres:\n",
    "        df['genre'] = df['genre'].replace(wrong_genres, correct_genre)"
   ]
  },
  {
   "cell_type": "markdown",
   "metadata": {
    "id": "aDoBJxbA_Zct"
   },
   "source": [
    "Вызовим `replace_wrong_genres()` и передадим ей такие аргументы, чтобы она устранила неявные дубликаты: вместо `hip`, `hop` и `hip-hop` в таблице должно быть значение `hiphop`:"
   ]
  },
  {
   "cell_type": "code",
   "execution_count": 16,
   "metadata": {
    "id": "YN5i2hpmSo09"
   },
   "outputs": [],
   "source": [
    "# устранение неявных дубликатов\n",
    "replace_wrong_genres(['hip', 'hop', 'hip-hop'], 'hiphop')"
   ]
  },
  {
   "cell_type": "markdown",
   "metadata": {
    "id": "zQKF16_RG15m"
   },
   "source": [
    "Выведите отсортированный список уникальных значений столбца `genre` для проверки:"
   ]
  },
  {
   "cell_type": "code",
   "execution_count": 17,
   "metadata": {
    "id": "wvixALnFG15m"
   },
   "outputs": [
    {
     "data": {
      "text/plain": [
       "array(['acid', 'acoustic', 'action', 'adult', 'africa', 'afrikaans',\n",
       "       'alternative', 'alternativepunk', 'ambient', 'americana',\n",
       "       'animated', 'anime', 'arabesk', 'arabic', 'arena',\n",
       "       'argentinetango', 'art', 'audiobook', 'author', 'avantgarde',\n",
       "       'axé', 'baile', 'balkan', 'beats', 'bigroom', 'black', 'bluegrass',\n",
       "       'blues', 'bollywood', 'bossa', 'brazilian', 'breakbeat', 'breaks',\n",
       "       'broadway', 'cantautori', 'cantopop', 'canzone', 'caribbean',\n",
       "       'caucasian', 'celtic', 'chamber', 'chanson', 'children', 'chill',\n",
       "       'chinese', 'choral', 'christian', 'christmas', 'classical',\n",
       "       'classicmetal', 'club', 'colombian', 'comedy', 'conjazz',\n",
       "       'contemporary', 'country', 'cuban', 'dance', 'dancehall',\n",
       "       'dancepop', 'dark', 'death', 'deep', 'deutschrock', 'deutschspr',\n",
       "       'dirty', 'disco', 'dnb', 'documentary', 'downbeat', 'downtempo',\n",
       "       'drum', 'dub', 'dubstep', 'eastern', 'easy', 'electronic',\n",
       "       'electropop', 'emo', 'entehno', 'epicmetal', 'estrada', 'ethnic',\n",
       "       'eurofolk', 'european', 'experimental', 'extrememetal', 'fado',\n",
       "       'fairytail', 'film', 'fitness', 'flamenco', 'folk', 'folklore',\n",
       "       'folkmetal', 'folkrock', 'folktronica', 'forró', 'frankreich',\n",
       "       'französisch', 'french', 'funk', 'future', 'gangsta', 'garage',\n",
       "       'german', 'ghazal', 'gitarre', 'glitch', 'gospel', 'gothic',\n",
       "       'grime', 'grunge', 'gypsy', 'handsup', \"hard'n'heavy\", 'hardcore',\n",
       "       'hardstyle', 'hardtechno', 'hiphop', 'historisch', 'holiday',\n",
       "       'horror', 'house', 'hymn', 'idm', 'independent', 'indian', 'indie',\n",
       "       'indipop', 'industrial', 'inspirational', 'instrumental',\n",
       "       'international', 'irish', 'jam', 'japanese', 'jazz', 'jewish',\n",
       "       'jpop', 'jungle', 'k-pop', 'karadeniz', 'karaoke', 'kayokyoku',\n",
       "       'korean', 'laiko', 'latin', 'latino', 'leftfield', 'local',\n",
       "       'lounge', 'loungeelectronic', 'lovers', 'malaysian', 'mandopop',\n",
       "       'marschmusik', 'meditative', 'mediterranean', 'melodic', 'metal',\n",
       "       'metalcore', 'mexican', 'middle', 'minimal', 'miscellaneous',\n",
       "       'modern', 'mood', 'mpb', 'muslim', 'native', 'neoklassik', 'neue',\n",
       "       'new', 'newage', 'newwave', 'nu', 'nujazz', 'numetal', 'oceania',\n",
       "       'old', 'opera', 'orchestral', 'other', 'piano', 'podcasts', 'pop',\n",
       "       'popdance', 'popelectronic', 'popeurodance', 'poprussian', 'post',\n",
       "       'posthardcore', 'postrock', 'power', 'progmetal', 'progressive',\n",
       "       'psychedelic', 'punjabi', 'punk', 'quebecois', 'ragga', 'ram',\n",
       "       'rancheras', 'rap', 'rave', 'reggae', 'reggaeton', 'regional',\n",
       "       'relax', 'religious', 'retro', 'rhythm', 'rnb', 'rnr', 'rock',\n",
       "       'rockabilly', 'rockalternative', 'rockindie', 'rockother',\n",
       "       'romance', 'roots', 'ruspop', 'rusrap', 'rusrock', 'russian',\n",
       "       'salsa', 'samba', 'scenic', 'schlager', 'self', 'sertanejo',\n",
       "       'shanson', 'shoegazing', 'showtunes', 'singer', 'ska', 'skarock',\n",
       "       'slow', 'smooth', 'soft', 'soul', 'soulful', 'sound', 'soundtrack',\n",
       "       'southern', 'specialty', 'speech', 'spiritual', 'sport',\n",
       "       'stonerrock', 'surf', 'swing', 'synthpop', 'synthrock',\n",
       "       'sängerportrait', 'tango', 'tanzorchester', 'taraftar', 'tatar',\n",
       "       'tech', 'techno', 'teen', 'thrash', 'top', 'traditional',\n",
       "       'tradjazz', 'trance', 'tribal', 'trip', 'triphop', 'tropical',\n",
       "       'türk', 'türkçe', 'ukrrock', 'unknown', 'urban', 'uzbek',\n",
       "       'variété', 'vi', 'videogame', 'vocal', 'western', 'world',\n",
       "       'worldbeat', 'ïîï', 'электроника'], dtype=object)"
      ]
     },
     "execution_count": 17,
     "metadata": {},
     "output_type": "execute_result"
    }
   ],
   "source": [
    "df['genre'].sort_values().unique() # Проверка на неявные дубликаты"
   ]
  },
  {
   "cell_type": "markdown",
   "metadata": {
    "id": "jz6a9-7HQUDd"
   },
   "source": [
    "**Выводы**\n",
    "\n",
    "Предобработка обнаружила три проблемы в данных:\n",
    "\n",
    "- нарушения в стиле заголовков,\n",
    "- пропущенные значения,\n",
    "- дубликаты — явные и неявные.\n",
    "\n",
    "Заголовки исправлены, чтобы упростить работу с таблицей. Без дубликатов исследование станет более точным.\n",
    "\n",
    "Пропущенные значения заменили на `'unknown'`. Ещё предстоит увидеть, не повредят ли исследованию пропуски в колонке `genre`.\n",
    "\n",
    "Теперь можно перейти к проверке гипотез. "
   ]
  },
  {
   "cell_type": "markdown",
   "metadata": {
    "id": "WttZHXH0SqKk"
   },
   "source": [
    "## Проверка гипотез"
   ]
  },
  {
   "cell_type": "markdown",
   "metadata": {
    "id": "Im936VVi_Zcu"
   },
   "source": [
    "### Сравнение поведения пользователей двух столиц"
   ]
  },
  {
   "cell_type": "markdown",
   "metadata": {
    "id": "nwt_MuaL_Zcu"
   },
   "source": [
    "Первая гипотеза утверждает, что пользователи по-разному слушают музыку в Москве и Санкт-Петербурге. Проверим это предположение по данным о трёх днях недели — понедельнике, среде и пятнице. Для этого:\n",
    "\n",
    "* Разделим пользователей Москвы и Санкт-Петербурга\n",
    "* Сравним, сколько треков послушала каждая группа пользователей в понедельник, среду и пятницу.\n"
   ]
  },
  {
   "cell_type": "markdown",
   "metadata": {
    "id": "8Dw_YMmT_Zcu"
   },
   "source": [
    "Оцените активность пользователей в каждом городе. Сгруппируем данные по городу и посчитаем прослушивания в каждой группе."
   ]
  },
  {
   "cell_type": "code",
   "execution_count": 18,
   "metadata": {
    "id": "0_Qs96oh_Zcu"
   },
   "outputs": [
    {
     "data": {
      "text/plain": [
       "city\n",
       "Moscow              42741\n",
       "Saint-Petersburg    18512\n",
       "Name: city, dtype: int64"
      ]
     },
     "execution_count": 18,
     "metadata": {},
     "output_type": "execute_result"
    }
   ],
   "source": [
    "df.groupby('city')['city'].count()        # подсчёт прослушиваний в каждом городе"
   ]
  },
  {
   "cell_type": "markdown",
   "metadata": {
    "id": "dzli3w8o_Zcu"
   },
   "source": [
    "В Москве прослушиваний больше, чем в Петербурге. Из этого не следует, что московские пользователи чаще слушают музыку. Просто самих пользователей в Москве больше.\n",
    "\n",
    "Теперь сгруппируем данные по дню недели и подсчитаем прослушивания в понедельник, среду и пятницу."
   ]
  },
  {
   "cell_type": "code",
   "execution_count": 19,
   "metadata": {
    "id": "uZMKjiJz_Zcu"
   },
   "outputs": [
    {
     "data": {
      "text/plain": [
       "day\n",
       "Friday       21840\n",
       "Monday       21354\n",
       "Wednesday    18059\n",
       "Name: day, dtype: int64"
      ]
     },
     "execution_count": 19,
     "metadata": {},
     "output_type": "execute_result"
    }
   ],
   "source": [
    "df.groupby('day')['day'].count()        # подсчёт прослушиваний в каждый из трёх дней"
   ]
  },
  {
   "cell_type": "markdown",
   "metadata": {
    "id": "cC2tNrlL_Zcu"
   },
   "source": [
    "В среднем пользователи из двух городов менее активны по средам. Но картина может измениться, если рассмотреть каждый город в отдельности."
   ]
  },
  {
   "cell_type": "markdown",
   "metadata": {
    "id": "POzs8bGa_Zcu"
   },
   "source": [
    "Мы посмотрели на данные по городам и дням недели по отдельности . Теперь напишем функцию, которая объединит два эти расчёта.\n",
    "\n",
    "Создадим функцию `number_tracks`, которая посчитает прослушивания для заданного дня и города. Ей понадобятся два параметра:\n",
    "\n",
    "* день недели,\n",
    "* название города.\n",
    "\n",
    "В функции сохраним в переменную строки исходной таблицы, у которых значение:\n",
    "* в колонке `day` равно параметру `day`,\n",
    "* в колонке `city` равно параметру `city`.\n",
    "\n",
    "Для этого применим фильтрацию с логической индексацией.\n",
    "\n",
    "Затем посчитаем значения в столбце `user_id` получившейся таблицы. Результат сохраним в новую переменную. Вернем эту переменную из функции."
   ]
  },
  {
   "cell_type": "code",
   "execution_count": 20,
   "metadata": {
    "id": "Nz3GdQB1_Zcu"
   },
   "outputs": [],
   "source": [
    "# создание функции для подсчета прослушиваний\n",
    "def number_tracks(day, city):\n",
    "    track_list = df[(df['day'] == day) & (df['city'] == city)] \n",
    "    track_list_count = track_list['user_id'].count()\n",
    "    return track_list_count"
   ]
  },
  {
   "cell_type": "markdown",
   "metadata": {
    "id": "ytf7xFrFJQ2r"
   },
   "source": [
    "Вызовите `number_tracks()` шесть раз, меняя значение параметров — так, чтобы получить данные для каждого города в каждый из трёх дней."
   ]
  },
  {
   "cell_type": "code",
   "execution_count": 21,
   "metadata": {
    "id": "rJcRATNQ_Zcu"
   },
   "outputs": [
    {
     "data": {
      "text/plain": [
       "15740"
      ]
     },
     "execution_count": 21,
     "metadata": {},
     "output_type": "execute_result"
    }
   ],
   "source": [
    "# количество прослушиваний в Москве по понедельникам\n",
    "a_1 = number_tracks('Monday', 'Moscow')\n",
    "a_1"
   ]
  },
  {
   "cell_type": "code",
   "execution_count": 22,
   "metadata": {
    "id": "hq_ncZ5T_Zcu"
   },
   "outputs": [
    {
     "data": {
      "text/plain": [
       "5614"
      ]
     },
     "execution_count": 22,
     "metadata": {},
     "output_type": "execute_result"
    }
   ],
   "source": [
    "# количество прослушиваний в Санкт-Петербурге по понедельникам\n",
    "b_1 = number_tracks('Monday', 'Saint-Petersburg')\n",
    "b_1"
   ]
  },
  {
   "cell_type": "code",
   "execution_count": 23,
   "metadata": {
    "id": "_NTy2VPU_Zcu"
   },
   "outputs": [
    {
     "data": {
      "text/plain": [
       "11056"
      ]
     },
     "execution_count": 23,
     "metadata": {},
     "output_type": "execute_result"
    }
   ],
   "source": [
    "# количество прослушиваний в Москве по средам\n",
    "a_2 = number_tracks('Wednesday', 'Moscow')\n",
    "a_2"
   ]
  },
  {
   "cell_type": "code",
   "execution_count": 24,
   "metadata": {
    "id": "j2y3TAwo_Zcu"
   },
   "outputs": [
    {
     "data": {
      "text/plain": [
       "7003"
      ]
     },
     "execution_count": 24,
     "metadata": {},
     "output_type": "execute_result"
    }
   ],
   "source": [
    "# количество прослушиваний в Санкт-Петербурге по средам\n",
    "b_2 = number_tracks('Wednesday', 'Saint-Petersburg')\n",
    "b_2"
   ]
  },
  {
   "cell_type": "code",
   "execution_count": 25,
   "metadata": {
    "id": "vYDw5u_K_Zcu"
   },
   "outputs": [
    {
     "data": {
      "text/plain": [
       "15945"
      ]
     },
     "execution_count": 25,
     "metadata": {},
     "output_type": "execute_result"
    }
   ],
   "source": [
    "# количество прослушиваний в Москве по пятницам\n",
    "a_3 = number_tracks('Friday', 'Moscow')\n",
    "a_3"
   ]
  },
  {
   "cell_type": "code",
   "execution_count": 26,
   "metadata": {
    "id": "8_yzFtW3_Zcu"
   },
   "outputs": [
    {
     "data": {
      "text/plain": [
       "5895"
      ]
     },
     "execution_count": 26,
     "metadata": {},
     "output_type": "execute_result"
    }
   ],
   "source": [
    "# количество прослушиваний в Санкт-Петербурге по пятницам\n",
    "b_3 = number_tracks('Friday', 'Saint-Petersburg')\n",
    "b_3"
   ]
  },
  {
   "cell_type": "markdown",
   "metadata": {
    "id": "7QXffbO-_Zcu"
   },
   "source": [
    "Создадим c помощью конструктора `pd.DataFrame` таблицу, где\n",
    "\n",
    "* названия колонок — `['city', 'monday', 'wednesday', 'friday']`;\n",
    "* данные — результаты, которые вы получили с помощью `number_tracks`."
   ]
  },
  {
   "cell_type": "code",
   "execution_count": 27,
   "metadata": {
    "id": "APAcLpOr_Zcu"
   },
   "outputs": [
    {
     "data": {
      "text/html": [
       "<div>\n",
       "<style scoped>\n",
       "    .dataframe tbody tr th:only-of-type {\n",
       "        vertical-align: middle;\n",
       "    }\n",
       "\n",
       "    .dataframe tbody tr th {\n",
       "        vertical-align: top;\n",
       "    }\n",
       "\n",
       "    .dataframe thead th {\n",
       "        text-align: right;\n",
       "    }\n",
       "</style>\n",
       "<table border=\"1\" class=\"dataframe\">\n",
       "  <thead>\n",
       "    <tr style=\"text-align: right;\">\n",
       "      <th></th>\n",
       "      <th>city</th>\n",
       "      <th>monday</th>\n",
       "      <th>wednesday</th>\n",
       "      <th>friday</th>\n",
       "    </tr>\n",
       "  </thead>\n",
       "  <tbody>\n",
       "    <tr>\n",
       "      <th>0</th>\n",
       "      <td>Москва</td>\n",
       "      <td>15740</td>\n",
       "      <td>11056</td>\n",
       "      <td>15945</td>\n",
       "    </tr>\n",
       "    <tr>\n",
       "      <th>1</th>\n",
       "      <td>Санкт-Петербург</td>\n",
       "      <td>5614</td>\n",
       "      <td>7003</td>\n",
       "      <td>5895</td>\n",
       "    </tr>\n",
       "  </tbody>\n",
       "</table>\n",
       "</div>"
      ],
      "text/plain": [
       "              city  monday  wednesday  friday\n",
       "0           Москва   15740      11056   15945\n",
       "1  Санкт-Петербург    5614       7003    5895"
      ]
     },
     "execution_count": 27,
     "metadata": {},
     "output_type": "execute_result"
    }
   ],
   "source": [
    "# Таблица с результатами\n",
    "pd.DataFrame(data=[['Москва', a_1, a_2, a_3], ['Санкт-Петербург', b_1, b_2, b_3]], columns=['city', 'monday', 'wednesday', 'friday'])"
   ]
  },
  {
   "cell_type": "markdown",
   "metadata": {
    "id": "-EgPIHYu_Zcu"
   },
   "source": [
    "**Выводы**\n",
    "\n",
    "Данные показывают разницу поведения пользователей:\n",
    "\n",
    "- В Москве пик прослушиваний приходится на понедельник и пятницу, а в среду заметен спад.\n",
    "- В Петербурге, наоборот, больше слушают музыку по средам. Активность в понедельник и пятницу здесь почти в равной мере уступает среде.\n",
    "\n",
    "Значит, данные говорят в пользу первой гипотезы."
   ]
  },
  {
   "cell_type": "markdown",
   "metadata": {
    "id": "atZAxtq4_Zcu"
   },
   "source": [
    "### Музыка в начале и в конце недели"
   ]
  },
  {
   "cell_type": "markdown",
   "metadata": {
    "id": "eXrQqXFH_Zcu"
   },
   "source": [
    "Согласно второй гипотезе, утром в понедельник в Москве преобладают одни жанры, а в Петербурге — другие. Так же и вечером пятницы преобладают разные жанры — в зависимости от города."
   ]
  },
  {
   "cell_type": "markdown",
   "metadata": {
    "id": "S8UcW6Hw_Zcu"
   },
   "source": [
    "Сохраним таблицы с данными в две переменные:\n",
    "\n",
    "* по Москве — в `moscow_general`;\n",
    "* по Санкт-Петербургу — в `spb_general`."
   ]
  },
  {
   "cell_type": "code",
   "execution_count": 28,
   "metadata": {
    "id": "qeaFfM_P_Zcu"
   },
   "outputs": [],
   "source": [
    "moscow_general = df[df['city'] == 'Moscow']"
   ]
  },
  {
   "cell_type": "code",
   "execution_count": 29,
   "metadata": {
    "id": "ORaVRKto_Zcu"
   },
   "outputs": [],
   "source": [
    "spb_general = df[df['city'] == 'Saint-Petersburg']"
   ]
  },
  {
   "cell_type": "markdown",
   "metadata": {
    "id": "MEJV-CX2_Zcu"
   },
   "source": [
    "Создадим функцию `genre_weekday()` с четырьмя параметрами:\n",
    "\n",
    "* таблица (датафрейм) с данными,\n",
    "* день недели,\n",
    "* начальная временная метка в формате 'hh:mm', \n",
    "* последняя временная метка в формате 'hh:mm'.\n",
    "\n",
    "Функция должна вернуть информацию о топ-10 жанров тех треков, которые прослушивали в указанный день, в промежутке между двумя отметками времени."
   ]
  },
  {
   "cell_type": "code",
   "execution_count": 30,
   "metadata": {
    "id": "laJT9BYl_Zcu"
   },
   "outputs": [],
   "source": [
    "# создание функции для подсчета треков разных жанров\n",
    "def genre_weekday(table, day, time1, time2):\n",
    "    genre_df = table.query('@day==day and @time1 < time < @time2')\n",
    "    genre_df_count = genre_df.groupby('genre')['user_id'].count()\n",
    "    genre_df_sorted = genre_df_count.sort_values(ascending = False)\n",
    "    return genre_df_sorted.head(10)"
   ]
  },
  {
   "cell_type": "markdown",
   "metadata": {
    "id": "la2s2_PF_Zcu"
   },
   "source": [
    "Cравним результаты функции `genre_weekday()` для Москвы и Санкт-Петербурга в понедельник утром (с 7:00 до 11:00) и в пятницу вечером (с 17:00 до 23:00):"
   ]
  },
  {
   "cell_type": "code",
   "execution_count": 31,
   "metadata": {
    "id": "yz7itPUQ_Zcu"
   },
   "outputs": [
    {
     "data": {
      "text/plain": [
       "genre\n",
       "pop            781\n",
       "dance          549\n",
       "electronic     480\n",
       "rock           474\n",
       "hiphop         286\n",
       "ruspop         186\n",
       "world          181\n",
       "rusrap         175\n",
       "alternative    164\n",
       "unknown        161\n",
       "Name: user_id, dtype: int64"
      ]
     },
     "execution_count": 31,
     "metadata": {},
     "output_type": "execute_result"
    }
   ],
   "source": [
    "genre_weekday(moscow_general, 'Monday', '07:00', '11:00')"
   ]
  },
  {
   "cell_type": "code",
   "execution_count": 32,
   "metadata": {
    "id": "kwUcHPdy_Zcu"
   },
   "outputs": [
    {
     "data": {
      "text/plain": [
       "genre\n",
       "pop            218\n",
       "dance          182\n",
       "rock           162\n",
       "electronic     147\n",
       "hiphop          80\n",
       "ruspop          64\n",
       "alternative     58\n",
       "rusrap          55\n",
       "jazz            44\n",
       "classical       40\n",
       "Name: user_id, dtype: int64"
      ]
     },
     "execution_count": 32,
     "metadata": {},
     "output_type": "execute_result"
    }
   ],
   "source": [
    "genre_weekday(spb_general, 'Monday', '07:00', '11:00')"
   ]
  },
  {
   "cell_type": "code",
   "execution_count": 33,
   "metadata": {
    "id": "EzXVRE1o_Zcu"
   },
   "outputs": [
    {
     "data": {
      "text/plain": [
       "genre\n",
       "pop            713\n",
       "rock           517\n",
       "dance          495\n",
       "electronic     482\n",
       "hiphop         273\n",
       "world          208\n",
       "ruspop         170\n",
       "alternative    163\n",
       "classical      163\n",
       "rusrap         142\n",
       "Name: user_id, dtype: int64"
      ]
     },
     "execution_count": 33,
     "metadata": {},
     "output_type": "execute_result"
    }
   ],
   "source": [
    "genre_weekday(moscow_general, 'Friday', '17:00', '23:00')"
   ]
  },
  {
   "cell_type": "code",
   "execution_count": 34,
   "metadata": {
    "id": "JZaEKu5v_Zcu"
   },
   "outputs": [
    {
     "data": {
      "text/plain": [
       "genre\n",
       "pop            256\n",
       "electronic     216\n",
       "rock           216\n",
       "dance          210\n",
       "hiphop          97\n",
       "alternative     63\n",
       "jazz            61\n",
       "classical       60\n",
       "rusrap          59\n",
       "world           54\n",
       "Name: user_id, dtype: int64"
      ]
     },
     "execution_count": 34,
     "metadata": {},
     "output_type": "execute_result"
    }
   ],
   "source": [
    "genre_weekday(spb_general, 'Friday', '17:00', '23:00')"
   ]
  },
  {
   "cell_type": "markdown",
   "metadata": {
    "id": "wrCe4MNX_Zcu"
   },
   "source": [
    "**Выводы**\n",
    "\n",
    "Если сравнить топ-10 жанров в понедельник утром, можно сделать такие выводы:\n",
    "\n",
    "1. В Москве и Петербурге слушают похожую музыку. Единственное отличие — в московский рейтинг вошёл жанр **\"world\"**, а в петербургский — джаз и классика.\n",
    "\n",
    "2. В Москве пропущенных значений оказалось так много, что значение `'unknown'` заняло десятое место среди самых популярных жанров. Значит, пропущенные значения занимают существенную долю в данных и угрожают достоверности исследования.\n",
    "\n",
    "Вечер пятницы не меняет эту картину. Некоторые жанры поднимаются немного выше, другие спускаются, но в целом топ-10 остаётся тем же самым.\n",
    "\n",
    "Таким образом, вторая гипотеза подтвердилась лишь частично:\n",
    "\n",
    "* Пользователи слушают похожую музыку в начале недели и в конце.\n",
    "* Разница между Москвой и Петербургом не слишком выражена. В Москве чаще слушают русскую популярную музыку, в Петербурге — джаз.\n",
    "\n",
    "Однако пропуски в данных ставят под сомнение этот результат. В Москве их так много, что рейтинг топ-10 мог бы выглядеть иначе, если бы не утерянные  данные о жанрах."
   ]
  },
  {
   "cell_type": "markdown",
   "metadata": {
    "id": "JolODAqr_Zcu"
   },
   "source": [
    "### Жанровые предпочтения в Москве и Петербурге\n",
    "\n",
    "Гипотеза: Петербург — столица рэпа, музыку этого жанра там слушают чаще, чем в Москве.  А Москва — город контрастов, в котором, тем не менее, преобладает поп-музыка."
   ]
  },
  {
   "cell_type": "markdown",
   "metadata": {
    "id": "DlegSvaT_Zcu"
   },
   "source": [
    "Сгруппируем таблицу `moscow_general` по жанру и посчитаем прослушивания треков каждого жанра. Затем отсортируем результат в порядке убывания и сохраним его в таблице `moscow_genres`."
   ]
  },
  {
   "cell_type": "code",
   "execution_count": 35,
   "metadata": {
    "id": "r19lIPke_Zcu"
   },
   "outputs": [],
   "source": [
    "moscow_genres = moscow_general.groupby('genre')['genre'].count().sort_values(ascending = False)"
   ]
  },
  {
   "cell_type": "markdown",
   "metadata": {
    "id": "6kMuomxTiIr8"
   },
   "source": [
    "Выведим на экран первые десять строк `moscow_genres`:"
   ]
  },
  {
   "cell_type": "code",
   "execution_count": 36,
   "metadata": {
    "id": "WhCSooF8_Zcv"
   },
   "outputs": [
    {
     "data": {
      "text/plain": [
       "genre\n",
       "pop            5892\n",
       "dance          4435\n",
       "rock           3965\n",
       "electronic     3786\n",
       "hiphop         2096\n",
       "classical      1616\n",
       "world          1432\n",
       "alternative    1379\n",
       "ruspop         1372\n",
       "rusrap         1161\n",
       "Name: genre, dtype: int64"
      ]
     },
     "execution_count": 36,
     "metadata": {},
     "output_type": "execute_result"
    }
   ],
   "source": [
    "moscow_genres.head(10) # просмотр первых 10 строк moscow_genres"
   ]
  },
  {
   "cell_type": "markdown",
   "metadata": {
    "id": "cnPG2vnN_Zcv"
   },
   "source": [
    "Теперь повторим то же и для Петербурга."
   ]
  },
  {
   "cell_type": "code",
   "execution_count": 37,
   "metadata": {
    "id": "gluLIpE7_Zcv"
   },
   "outputs": [],
   "source": [
    "spb_genres = spb_general.groupby('genre')['genre'].count().sort_values(ascending = False)"
   ]
  },
  {
   "cell_type": "markdown",
   "metadata": {
    "id": "5Doha_ODgyQ8"
   },
   "source": [
    "Выведим на экран первые десять строк `spb_genres`:"
   ]
  },
  {
   "cell_type": "code",
   "execution_count": 38,
   "metadata": {
    "id": "uaGJHjVU_Zcv"
   },
   "outputs": [
    {
     "data": {
      "text/plain": [
       "genre\n",
       "pop            2431\n",
       "dance          1932\n",
       "rock           1879\n",
       "electronic     1736\n",
       "hiphop          960\n",
       "alternative     649\n",
       "classical       646\n",
       "rusrap          564\n",
       "ruspop          538\n",
       "world           515\n",
       "Name: genre, dtype: int64"
      ]
     },
     "execution_count": 38,
     "metadata": {},
     "output_type": "execute_result"
    }
   ],
   "source": [
    "spb_genres.head(10) # просмотр первых 10 строк spb_genres"
   ]
  },
  {
   "cell_type": "markdown",
   "metadata": {
    "id": "RY51YJYu_Zcv"
   },
   "source": [
    "**Выводы**"
   ]
  },
  {
   "cell_type": "markdown",
   "metadata": {
    "id": "nVhnJEm__Zcv"
   },
   "source": [
    "Гипотеза частично подтвердилась:\n",
    "* Поп-музыка — самый популярный жанр в Москве, как и предполагала гипотеза. Более того, в топ-10 жанров встречается близкий жанр — русская популярная музыка.\n",
    "* Вопреки ожиданиям, рэп одинаково популярен в Москве и Петербурге. \n"
   ]
  },
  {
   "cell_type": "markdown",
   "metadata": {
    "id": "ykKQ0N65_Zcv"
   },
   "source": [
    "## Общий вывод"
   ]
  },
  {
   "cell_type": "markdown",
   "metadata": {
    "id": "tjUwbHb3_Zcv"
   },
   "source": [
    "По итогам проверки трех гипотез мы установили:\n",
    "\n",
    "1. День недели по-разному влияет на активность пользователей в Москве и Петербурге. Первая гипотеза полностью подтвердилась.\n",
    "\n",
    "2. Музыкальные предпочтения не сильно меняются в течение недели, независимо от города. Небольшие различия заметны в начале недели, по понедельникам: в Москве слушают музыку жанра \"world\", в Петербурге — джаз и классику. Таким образом, вторая гипотеза подтвердилась лишь отчасти. Этот результат мог оказаться иным, если бы не пропуски в данных.\n",
    "\n",
    "3. Во вкусах пользователей Москвы и Петербурга больше общего чем различий. Вопреки ожиданиям, предпочтения жанров в Петербурге напоминают московские. Третья гипотеза не подтвердилась. Если различия в предпочтениях и существуют, на основной массе пользователей они незаметны.\n",
    "\n",
    "В проекте был проведен простой анализ двух категорий граждан без использовнаия методов проверки статистических гипотез. Проект был направлен на отработку базовых команд Pyhon."
   ]
  }
 ],
 "metadata": {
  "ExecuteTimeLog": [
   {
    "duration": 493,
    "start_time": "2022-03-28T12:12:23.911Z"
   },
   {
    "duration": 222,
    "start_time": "2022-03-28T12:17:51.080Z"
   },
   {
    "duration": 224,
    "start_time": "2022-03-28T12:17:59.823Z"
   },
   {
    "duration": 27,
    "start_time": "2022-03-28T12:18:46.876Z"
   },
   {
    "duration": 40,
    "start_time": "2022-03-28T12:19:18.316Z"
   },
   {
    "duration": 94,
    "start_time": "2022-03-28T12:21:50.081Z"
   },
   {
    "duration": 9,
    "start_time": "2022-03-28T12:21:57.396Z"
   },
   {
    "duration": 9,
    "start_time": "2022-03-28T12:22:46.138Z"
   },
   {
    "duration": 12,
    "start_time": "2022-03-28T12:23:38.189Z"
   },
   {
    "duration": 6,
    "start_time": "2022-03-28T12:23:44.995Z"
   },
   {
    "duration": 11,
    "start_time": "2022-03-28T12:31:15.904Z"
   },
   {
    "duration": 5,
    "start_time": "2022-03-28T12:31:29.184Z"
   },
   {
    "duration": 45,
    "start_time": "2022-03-28T14:42:57.065Z"
   },
   {
    "duration": 7,
    "start_time": "2022-03-28T14:43:13.967Z"
   },
   {
    "duration": 448,
    "start_time": "2022-03-28T14:45:39.643Z"
   },
   {
    "duration": 3,
    "start_time": "2022-03-28T14:46:14.085Z"
   },
   {
    "duration": 2,
    "start_time": "2022-03-28T14:46:27.274Z"
   },
   {
    "duration": 182,
    "start_time": "2022-03-28T14:46:27.278Z"
   },
   {
    "duration": 22,
    "start_time": "2022-03-28T14:46:27.462Z"
   },
   {
    "duration": 29,
    "start_time": "2022-03-28T14:46:27.486Z"
   },
   {
    "duration": 4,
    "start_time": "2022-03-28T14:46:27.517Z"
   },
   {
    "duration": 13,
    "start_time": "2022-03-28T14:46:27.522Z"
   },
   {
    "duration": 5,
    "start_time": "2022-03-28T14:46:27.537Z"
   },
   {
    "duration": 52,
    "start_time": "2022-03-28T14:46:27.543Z"
   },
   {
    "duration": 5,
    "start_time": "2022-03-28T14:46:27.598Z"
   },
   {
    "duration": 4,
    "start_time": "2022-03-28T14:46:27.605Z"
   },
   {
    "duration": 4,
    "start_time": "2022-03-28T14:46:27.610Z"
   },
   {
    "duration": 5,
    "start_time": "2022-03-28T14:46:27.616Z"
   },
   {
    "duration": 5,
    "start_time": "2022-03-28T14:46:27.622Z"
   },
   {
    "duration": 4,
    "start_time": "2022-03-28T14:46:27.628Z"
   },
   {
    "duration": 4,
    "start_time": "2022-03-28T14:46:27.634Z"
   },
   {
    "duration": 4,
    "start_time": "2022-03-28T14:46:27.639Z"
   },
   {
    "duration": 4,
    "start_time": "2022-03-28T14:46:27.645Z"
   },
   {
    "duration": 30,
    "start_time": "2022-03-28T14:46:27.651Z"
   },
   {
    "duration": 4,
    "start_time": "2022-03-28T14:46:27.683Z"
   },
   {
    "duration": 5,
    "start_time": "2022-03-28T14:46:27.689Z"
   },
   {
    "duration": 10,
    "start_time": "2022-03-28T14:46:27.695Z"
   },
   {
    "duration": 5,
    "start_time": "2022-03-28T14:46:27.707Z"
   },
   {
    "duration": 5,
    "start_time": "2022-03-28T14:46:27.713Z"
   },
   {
    "duration": 4,
    "start_time": "2022-03-28T14:46:27.720Z"
   },
   {
    "duration": 4,
    "start_time": "2022-03-28T14:46:27.725Z"
   },
   {
    "duration": 7,
    "start_time": "2022-03-28T14:46:27.730Z"
   },
   {
    "duration": 5,
    "start_time": "2022-03-28T14:46:27.739Z"
   },
   {
    "duration": 4,
    "start_time": "2022-03-28T14:46:27.746Z"
   },
   {
    "duration": 5,
    "start_time": "2022-03-28T14:46:27.751Z"
   },
   {
    "duration": 23,
    "start_time": "2022-03-28T14:46:27.758Z"
   },
   {
    "duration": 7,
    "start_time": "2022-03-28T14:46:27.783Z"
   },
   {
    "duration": 5,
    "start_time": "2022-03-28T14:46:27.791Z"
   },
   {
    "duration": 6,
    "start_time": "2022-03-28T14:46:27.797Z"
   },
   {
    "duration": 4,
    "start_time": "2022-03-28T14:46:27.805Z"
   },
   {
    "duration": 5,
    "start_time": "2022-03-28T14:46:27.810Z"
   },
   {
    "duration": 4,
    "start_time": "2022-03-28T14:46:27.816Z"
   },
   {
    "duration": 4,
    "start_time": "2022-03-28T14:46:27.822Z"
   },
   {
    "duration": 4,
    "start_time": "2022-03-28T14:46:27.828Z"
   },
   {
    "duration": 256,
    "start_time": "2022-03-28T14:56:53.593Z"
   },
   {
    "duration": 29,
    "start_time": "2022-03-28T14:57:04.110Z"
   },
   {
    "duration": 221,
    "start_time": "2022-03-28T14:57:38.557Z"
   },
   {
    "duration": 290,
    "start_time": "2022-03-28T14:58:05.800Z"
   },
   {
    "duration": 8,
    "start_time": "2022-03-28T14:58:33.537Z"
   },
   {
    "duration": 0,
    "start_time": "2022-03-28T15:04:57.090Z"
   },
   {
    "duration": 134,
    "start_time": "2022-03-28T15:05:31.013Z"
   },
   {
    "duration": 25,
    "start_time": "2022-03-28T15:05:41.939Z"
   },
   {
    "duration": 14,
    "start_time": "2022-03-28T15:11:40.715Z"
   },
   {
    "duration": 12,
    "start_time": "2022-03-28T15:12:24.774Z"
   },
   {
    "duration": 28,
    "start_time": "2022-03-28T15:16:44.371Z"
   },
   {
    "duration": 42,
    "start_time": "2022-03-28T15:16:47.161Z"
   },
   {
    "duration": 58,
    "start_time": "2022-03-28T15:19:16.200Z"
   },
   {
    "duration": 784,
    "start_time": "2022-03-28T15:20:14.685Z"
   },
   {
    "duration": 74,
    "start_time": "2022-03-28T15:20:22.100Z"
   },
   {
    "duration": 66,
    "start_time": "2022-03-28T15:20:24.729Z"
   },
   {
    "duration": 54,
    "start_time": "2022-03-28T15:20:33.219Z"
   },
   {
    "duration": 208,
    "start_time": "2022-03-28T15:25:09.005Z"
   },
   {
    "duration": 233,
    "start_time": "2022-03-28T15:25:15.590Z"
   },
   {
    "duration": 7,
    "start_time": "2022-03-28T15:25:24.890Z"
   },
   {
    "duration": 8,
    "start_time": "2022-03-28T15:27:13.324Z"
   },
   {
    "duration": 9,
    "start_time": "2022-03-28T15:27:20.237Z"
   },
   {
    "duration": 7,
    "start_time": "2022-03-28T15:27:34.967Z"
   },
   {
    "duration": 41,
    "start_time": "2022-03-28T15:28:44.290Z"
   },
   {
    "duration": 40,
    "start_time": "2022-03-28T15:28:57.633Z"
   },
   {
    "duration": 40,
    "start_time": "2022-03-28T15:29:24.366Z"
   },
   {
    "duration": 40,
    "start_time": "2022-03-28T15:29:36.150Z"
   },
   {
    "duration": 194,
    "start_time": "2022-03-28T15:39:36.784Z"
   },
   {
    "duration": 211,
    "start_time": "2022-03-28T15:39:53.991Z"
   },
   {
    "duration": 218,
    "start_time": "2022-03-28T15:40:02.338Z"
   },
   {
    "duration": 3,
    "start_time": "2022-03-28T15:40:22.081Z"
   },
   {
    "duration": 14,
    "start_time": "2022-03-28T15:42:07.217Z"
   },
   {
    "duration": 67,
    "start_time": "2022-03-28T15:42:31.638Z"
   },
   {
    "duration": 4304,
    "start_time": "2022-03-28T15:52:08.650Z"
   },
   {
    "duration": 30,
    "start_time": "2022-03-28T15:52:20.154Z"
   },
   {
    "duration": 10,
    "start_time": "2022-03-28T15:53:25.373Z"
   },
   {
    "duration": 10,
    "start_time": "2022-03-28T15:54:28.416Z"
   },
   {
    "duration": 3,
    "start_time": "2022-03-28T16:00:34.015Z"
   },
   {
    "duration": 16,
    "start_time": "2022-03-28T16:02:40.081Z"
   },
   {
    "duration": 15,
    "start_time": "2022-03-28T16:04:44.864Z"
   },
   {
    "duration": 14,
    "start_time": "2022-03-28T16:04:46.826Z"
   },
   {
    "duration": 13,
    "start_time": "2022-03-28T16:04:49.344Z"
   },
   {
    "duration": 16,
    "start_time": "2022-03-28T16:04:51.022Z"
   },
   {
    "duration": 14,
    "start_time": "2022-03-28T16:04:52.808Z"
   },
   {
    "duration": 199,
    "start_time": "2022-03-28T16:07:25.205Z"
   },
   {
    "duration": 7,
    "start_time": "2022-03-28T16:08:07.051Z"
   },
   {
    "duration": 6,
    "start_time": "2022-03-28T16:08:39.886Z"
   },
   {
    "duration": 7,
    "start_time": "2022-03-28T16:08:47.934Z"
   },
   {
    "duration": 6,
    "start_time": "2022-03-28T16:09:39.961Z"
   },
   {
    "duration": 7,
    "start_time": "2022-03-28T16:09:47.155Z"
   },
   {
    "duration": 7,
    "start_time": "2022-03-28T16:10:03.743Z"
   },
   {
    "duration": 8,
    "start_time": "2022-03-28T16:12:49.668Z"
   },
   {
    "duration": 8,
    "start_time": "2022-03-28T16:15:11.363Z"
   },
   {
    "duration": 7,
    "start_time": "2022-03-28T16:16:19.013Z"
   },
   {
    "duration": 8,
    "start_time": "2022-03-28T16:16:45.715Z"
   },
   {
    "duration": 7,
    "start_time": "2022-03-28T16:19:56.146Z"
   },
   {
    "duration": 6,
    "start_time": "2022-03-28T16:21:46.138Z"
   },
   {
    "duration": 8,
    "start_time": "2022-03-28T16:22:44.600Z"
   },
   {
    "duration": 11,
    "start_time": "2022-03-28T16:23:13.568Z"
   },
   {
    "duration": 11,
    "start_time": "2022-03-28T16:23:16.116Z"
   },
   {
    "duration": 11,
    "start_time": "2022-03-28T16:23:22.204Z"
   },
   {
    "duration": 15,
    "start_time": "2022-03-28T16:23:38.440Z"
   },
   {
    "duration": 3,
    "start_time": "2022-03-28T16:24:29.106Z"
   },
   {
    "duration": 138,
    "start_time": "2022-03-28T16:24:29.112Z"
   },
   {
    "duration": 9,
    "start_time": "2022-03-28T16:24:29.252Z"
   },
   {
    "duration": 39,
    "start_time": "2022-03-28T16:24:29.263Z"
   },
   {
    "duration": 4,
    "start_time": "2022-03-28T16:24:29.304Z"
   },
   {
    "duration": 11,
    "start_time": "2022-03-28T16:24:29.309Z"
   },
   {
    "duration": 3,
    "start_time": "2022-03-28T16:24:29.321Z"
   },
   {
    "duration": 27,
    "start_time": "2022-03-28T16:24:29.326Z"
   },
   {
    "duration": 16,
    "start_time": "2022-03-28T16:24:29.381Z"
   },
   {
    "duration": 24,
    "start_time": "2022-03-28T16:24:29.399Z"
   },
   {
    "duration": 77,
    "start_time": "2022-03-28T16:24:29.425Z"
   },
   {
    "duration": 58,
    "start_time": "2022-03-28T16:24:29.503Z"
   },
   {
    "duration": 61,
    "start_time": "2022-03-28T16:24:29.562Z"
   },
   {
    "duration": 38,
    "start_time": "2022-03-28T16:24:29.625Z"
   },
   {
    "duration": 3,
    "start_time": "2022-03-28T16:24:29.664Z"
   },
   {
    "duration": 9,
    "start_time": "2022-03-28T16:24:29.681Z"
   },
   {
    "duration": 38,
    "start_time": "2022-03-28T16:24:29.691Z"
   },
   {
    "duration": 12,
    "start_time": "2022-03-28T16:24:29.730Z"
   },
   {
    "duration": 11,
    "start_time": "2022-03-28T16:24:29.744Z"
   },
   {
    "duration": 4,
    "start_time": "2022-03-28T16:24:29.781Z"
   },
   {
    "duration": 18,
    "start_time": "2022-03-28T16:24:29.786Z"
   },
   {
    "duration": 12,
    "start_time": "2022-03-28T16:24:29.806Z"
   },
   {
    "duration": 16,
    "start_time": "2022-03-28T16:24:29.819Z"
   },
   {
    "duration": 11,
    "start_time": "2022-03-28T16:24:29.836Z"
   },
   {
    "duration": 42,
    "start_time": "2022-03-28T16:24:29.848Z"
   },
   {
    "duration": 11,
    "start_time": "2022-03-28T16:24:29.891Z"
   },
   {
    "duration": 7,
    "start_time": "2022-03-28T16:24:29.904Z"
   },
   {
    "duration": 4,
    "start_time": "2022-03-28T16:24:29.912Z"
   },
   {
    "duration": 3,
    "start_time": "2022-03-28T16:24:29.919Z"
   },
   {
    "duration": 5,
    "start_time": "2022-03-28T16:24:29.923Z"
   },
   {
    "duration": 8,
    "start_time": "2022-03-28T16:24:29.929Z"
   },
   {
    "duration": 9,
    "start_time": "2022-03-28T16:24:29.938Z"
   },
   {
    "duration": 8,
    "start_time": "2022-03-28T16:24:29.948Z"
   },
   {
    "duration": 5,
    "start_time": "2022-03-28T16:24:29.957Z"
   },
   {
    "duration": 18,
    "start_time": "2022-03-28T16:24:29.963Z"
   },
   {
    "duration": 5,
    "start_time": "2022-03-28T16:24:29.982Z"
   },
   {
    "duration": 8,
    "start_time": "2022-03-28T16:24:29.988Z"
   },
   {
    "duration": 11,
    "start_time": "2022-03-28T16:24:29.998Z"
   },
   {
    "duration": 10,
    "start_time": "2022-03-28T16:29:02.488Z"
   },
   {
    "duration": 4,
    "start_time": "2022-03-28T16:37:31.805Z"
   },
   {
    "duration": 26,
    "start_time": "2022-03-28T16:40:27.160Z"
   },
   {
    "duration": 23,
    "start_time": "2022-03-28T16:40:33.231Z"
   },
   {
    "duration": 3,
    "start_time": "2022-03-28T16:42:00.897Z"
   },
   {
    "duration": 24,
    "start_time": "2022-03-28T16:42:03.337Z"
   },
   {
    "duration": 4,
    "start_time": "2022-03-28T16:42:33.901Z"
   },
   {
    "duration": 2807,
    "start_time": "2022-03-28T16:42:36.015Z"
   },
   {
    "duration": 2380,
    "start_time": "2022-03-28T16:42:39.849Z"
   },
   {
    "duration": 2,
    "start_time": "2022-03-28T16:42:42.910Z"
   },
   {
    "duration": 2469,
    "start_time": "2022-03-28T16:42:46.526Z"
   },
   {
    "duration": 4,
    "start_time": "2022-03-28T16:44:03.318Z"
   },
   {
    "duration": 23,
    "start_time": "2022-03-28T16:44:06.207Z"
   },
   {
    "duration": 4,
    "start_time": "2022-03-28T16:44:39.200Z"
   },
   {
    "duration": 26,
    "start_time": "2022-03-28T16:44:41.477Z"
   },
   {
    "duration": 4,
    "start_time": "2022-03-28T16:44:48.281Z"
   },
   {
    "duration": 19,
    "start_time": "2022-03-28T16:44:50.509Z"
   },
   {
    "duration": 20,
    "start_time": "2022-03-28T16:45:55.503Z"
   },
   {
    "duration": 4,
    "start_time": "2022-03-28T16:45:58.675Z"
   },
   {
    "duration": 19,
    "start_time": "2022-03-28T16:46:01.058Z"
   },
   {
    "duration": 8,
    "start_time": "2022-03-28T16:48:24.968Z"
   },
   {
    "duration": 17,
    "start_time": "2022-03-28T16:48:26.986Z"
   },
   {
    "duration": 46,
    "start_time": "2022-03-28T16:55:23.854Z"
   },
   {
    "duration": 416,
    "start_time": "2022-03-28T16:55:30.262Z"
   },
   {
    "duration": 165,
    "start_time": "2022-03-28T16:55:30.680Z"
   },
   {
    "duration": 17,
    "start_time": "2022-03-28T16:55:30.847Z"
   },
   {
    "duration": 44,
    "start_time": "2022-03-28T16:55:30.867Z"
   },
   {
    "duration": 3,
    "start_time": "2022-03-28T16:55:30.913Z"
   },
   {
    "duration": 28,
    "start_time": "2022-03-28T16:55:30.918Z"
   },
   {
    "duration": 11,
    "start_time": "2022-03-28T16:55:30.947Z"
   },
   {
    "duration": 40,
    "start_time": "2022-03-28T16:55:30.959Z"
   },
   {
    "duration": 23,
    "start_time": "2022-03-28T16:55:31.001Z"
   },
   {
    "duration": 30,
    "start_time": "2022-03-28T16:55:31.028Z"
   },
   {
    "duration": 84,
    "start_time": "2022-03-28T16:55:31.060Z"
   },
   {
    "duration": 96,
    "start_time": "2022-03-28T16:55:31.146Z"
   },
   {
    "duration": 70,
    "start_time": "2022-03-28T16:55:31.244Z"
   },
   {
    "duration": 40,
    "start_time": "2022-03-28T16:55:31.316Z"
   },
   {
    "duration": 3,
    "start_time": "2022-03-28T16:55:31.358Z"
   },
   {
    "duration": 26,
    "start_time": "2022-03-28T16:55:31.362Z"
   },
   {
    "duration": 49,
    "start_time": "2022-03-28T16:55:31.390Z"
   },
   {
    "duration": 11,
    "start_time": "2022-03-28T16:55:31.441Z"
   },
   {
    "duration": 14,
    "start_time": "2022-03-28T16:55:31.454Z"
   },
   {
    "duration": 4,
    "start_time": "2022-03-28T16:55:31.469Z"
   },
   {
    "duration": 59,
    "start_time": "2022-03-28T16:55:31.475Z"
   },
   {
    "duration": 16,
    "start_time": "2022-03-28T16:55:31.536Z"
   },
   {
    "duration": 21,
    "start_time": "2022-03-28T16:55:31.553Z"
   },
   {
    "duration": 37,
    "start_time": "2022-03-28T16:55:31.576Z"
   },
   {
    "duration": 28,
    "start_time": "2022-03-28T16:55:31.616Z"
   },
   {
    "duration": 15,
    "start_time": "2022-03-28T16:55:31.645Z"
   },
   {
    "duration": 9,
    "start_time": "2022-03-28T16:55:31.662Z"
   },
   {
    "duration": 35,
    "start_time": "2022-03-28T16:55:31.674Z"
   },
   {
    "duration": 10,
    "start_time": "2022-03-28T16:55:31.710Z"
   },
   {
    "duration": 6,
    "start_time": "2022-03-28T16:55:31.722Z"
   },
   {
    "duration": 28,
    "start_time": "2022-03-28T16:55:31.729Z"
   },
   {
    "duration": 13,
    "start_time": "2022-03-28T16:55:31.758Z"
   },
   {
    "duration": 44,
    "start_time": "2022-03-28T16:55:31.773Z"
   },
   {
    "duration": 12,
    "start_time": "2022-03-28T16:55:31.818Z"
   },
   {
    "duration": 4,
    "start_time": "2022-03-28T16:55:31.831Z"
   },
   {
    "duration": 8,
    "start_time": "2022-03-28T16:55:31.836Z"
   },
   {
    "duration": 24,
    "start_time": "2022-03-28T16:55:31.846Z"
   },
   {
    "duration": 12,
    "start_time": "2022-03-28T16:55:31.872Z"
   },
   {
    "duration": 3,
    "start_time": "2022-03-28T17:25:00.148Z"
   },
   {
    "duration": 181,
    "start_time": "2022-03-28T17:25:00.152Z"
   },
   {
    "duration": 12,
    "start_time": "2022-03-28T17:25:00.334Z"
   },
   {
    "duration": 35,
    "start_time": "2022-03-28T17:25:00.348Z"
   },
   {
    "duration": 4,
    "start_time": "2022-03-28T17:25:00.385Z"
   },
   {
    "duration": 31,
    "start_time": "2022-03-28T17:25:00.391Z"
   },
   {
    "duration": 4,
    "start_time": "2022-03-28T17:25:00.424Z"
   },
   {
    "duration": 30,
    "start_time": "2022-03-28T17:25:00.430Z"
   },
   {
    "duration": 26,
    "start_time": "2022-03-28T17:25:00.462Z"
   },
   {
    "duration": 33,
    "start_time": "2022-03-28T17:25:00.490Z"
   },
   {
    "duration": 68,
    "start_time": "2022-03-28T17:25:00.526Z"
   },
   {
    "duration": 75,
    "start_time": "2022-03-28T17:25:00.610Z"
   },
   {
    "duration": 70,
    "start_time": "2022-03-28T17:25:00.686Z"
   },
   {
    "duration": 51,
    "start_time": "2022-03-28T17:25:00.758Z"
   },
   {
    "duration": 3,
    "start_time": "2022-03-28T17:25:00.810Z"
   },
   {
    "duration": 14,
    "start_time": "2022-03-28T17:25:00.815Z"
   },
   {
    "duration": 38,
    "start_time": "2022-03-28T17:25:00.830Z"
   },
   {
    "duration": 12,
    "start_time": "2022-03-28T17:25:00.870Z"
   },
   {
    "duration": 33,
    "start_time": "2022-03-28T17:25:00.884Z"
   },
   {
    "duration": 7,
    "start_time": "2022-03-28T17:25:00.918Z"
   },
   {
    "duration": 34,
    "start_time": "2022-03-28T17:25:00.926Z"
   },
   {
    "duration": 19,
    "start_time": "2022-03-28T17:25:00.962Z"
   },
   {
    "duration": 21,
    "start_time": "2022-03-28T17:25:00.983Z"
   },
   {
    "duration": 28,
    "start_time": "2022-03-28T17:25:01.006Z"
   },
   {
    "duration": 18,
    "start_time": "2022-03-28T17:25:01.036Z"
   },
   {
    "duration": 21,
    "start_time": "2022-03-28T17:25:01.056Z"
   },
   {
    "duration": 11,
    "start_time": "2022-03-28T17:25:01.079Z"
   },
   {
    "duration": 40,
    "start_time": "2022-03-28T17:25:01.095Z"
   },
   {
    "duration": 12,
    "start_time": "2022-03-28T17:25:01.138Z"
   },
   {
    "duration": 23,
    "start_time": "2022-03-28T17:25:01.152Z"
   },
   {
    "duration": 43,
    "start_time": "2022-03-28T17:25:01.177Z"
   },
   {
    "duration": 11,
    "start_time": "2022-03-28T17:25:01.222Z"
   },
   {
    "duration": 17,
    "start_time": "2022-03-28T17:25:01.235Z"
   },
   {
    "duration": 11,
    "start_time": "2022-03-28T17:25:01.254Z"
   },
   {
    "duration": 48,
    "start_time": "2022-03-28T17:25:01.266Z"
   },
   {
    "duration": 0,
    "start_time": "2022-03-28T17:25:01.316Z"
   },
   {
    "duration": 0,
    "start_time": "2022-03-28T17:25:01.317Z"
   },
   {
    "duration": 0,
    "start_time": "2022-03-28T17:25:01.318Z"
   },
   {
    "duration": 9,
    "start_time": "2022-03-28T17:30:34.146Z"
   },
   {
    "duration": 8,
    "start_time": "2022-03-28T17:31:58.653Z"
   },
   {
    "duration": 11,
    "start_time": "2022-03-28T17:32:17.139Z"
   },
   {
    "duration": 3,
    "start_time": "2022-03-28T17:32:29.237Z"
   },
   {
    "duration": 8,
    "start_time": "2022-03-28T17:33:03.424Z"
   },
   {
    "duration": 5,
    "start_time": "2022-03-28T17:33:05.289Z"
   },
   {
    "duration": 2,
    "start_time": "2022-03-28T17:33:37.193Z"
   },
   {
    "duration": 152,
    "start_time": "2022-03-28T17:33:37.198Z"
   },
   {
    "duration": 11,
    "start_time": "2022-03-28T17:33:37.351Z"
   },
   {
    "duration": 46,
    "start_time": "2022-03-28T17:33:37.363Z"
   },
   {
    "duration": 4,
    "start_time": "2022-03-28T17:33:37.411Z"
   },
   {
    "duration": 9,
    "start_time": "2022-03-28T17:33:37.416Z"
   },
   {
    "duration": 3,
    "start_time": "2022-03-28T17:33:37.427Z"
   },
   {
    "duration": 31,
    "start_time": "2022-03-28T17:33:37.432Z"
   },
   {
    "duration": 17,
    "start_time": "2022-03-28T17:33:37.464Z"
   },
   {
    "duration": 46,
    "start_time": "2022-03-28T17:33:37.482Z"
   },
   {
    "duration": 57,
    "start_time": "2022-03-28T17:33:37.530Z"
   },
   {
    "duration": 81,
    "start_time": "2022-03-28T17:33:37.589Z"
   },
   {
    "duration": 67,
    "start_time": "2022-03-28T17:33:37.672Z"
   },
   {
    "duration": 41,
    "start_time": "2022-03-28T17:33:37.740Z"
   },
   {
    "duration": 3,
    "start_time": "2022-03-28T17:33:37.782Z"
   },
   {
    "duration": 26,
    "start_time": "2022-03-28T17:33:37.787Z"
   },
   {
    "duration": 39,
    "start_time": "2022-03-28T17:33:37.814Z"
   },
   {
    "duration": 13,
    "start_time": "2022-03-28T17:33:37.854Z"
   },
   {
    "duration": 12,
    "start_time": "2022-03-28T17:33:37.868Z"
   },
   {
    "duration": 4,
    "start_time": "2022-03-28T17:33:37.909Z"
   },
   {
    "duration": 21,
    "start_time": "2022-03-28T17:33:37.914Z"
   },
   {
    "duration": 14,
    "start_time": "2022-03-28T17:33:37.937Z"
   },
   {
    "duration": 15,
    "start_time": "2022-03-28T17:33:37.953Z"
   },
   {
    "duration": 45,
    "start_time": "2022-03-28T17:33:37.969Z"
   },
   {
    "duration": 19,
    "start_time": "2022-03-28T17:33:38.016Z"
   },
   {
    "duration": 15,
    "start_time": "2022-03-28T17:33:38.037Z"
   },
   {
    "duration": 10,
    "start_time": "2022-03-28T17:33:38.054Z"
   },
   {
    "duration": 43,
    "start_time": "2022-03-28T17:33:38.066Z"
   },
   {
    "duration": 18,
    "start_time": "2022-03-28T17:33:38.114Z"
   },
   {
    "duration": 6,
    "start_time": "2022-03-28T17:33:38.134Z"
   },
   {
    "duration": 26,
    "start_time": "2022-03-28T17:33:38.142Z"
   },
   {
    "duration": 39,
    "start_time": "2022-03-28T17:33:38.171Z"
   },
   {
    "duration": 18,
    "start_time": "2022-03-28T17:33:38.212Z"
   },
   {
    "duration": 13,
    "start_time": "2022-03-28T17:33:38.232Z"
   },
   {
    "duration": 9,
    "start_time": "2022-03-28T17:33:38.247Z"
   },
   {
    "duration": 4,
    "start_time": "2022-03-28T17:33:38.258Z"
   },
   {
    "duration": 45,
    "start_time": "2022-03-28T17:33:38.264Z"
   },
   {
    "duration": 4,
    "start_time": "2022-03-28T17:33:38.311Z"
   },
   {
    "duration": 409,
    "start_time": "2022-04-08T08:28:27.664Z"
   },
   {
    "duration": 154,
    "start_time": "2022-04-08T08:28:28.075Z"
   },
   {
    "duration": 15,
    "start_time": "2022-04-08T08:28:28.231Z"
   },
   {
    "duration": 35,
    "start_time": "2022-04-08T08:28:28.248Z"
   },
   {
    "duration": 3,
    "start_time": "2022-04-08T08:28:28.286Z"
   },
   {
    "duration": 18,
    "start_time": "2022-04-08T08:28:28.291Z"
   },
   {
    "duration": 6,
    "start_time": "2022-04-08T08:28:28.311Z"
   },
   {
    "duration": 26,
    "start_time": "2022-04-08T08:28:28.319Z"
   },
   {
    "duration": 45,
    "start_time": "2022-04-08T08:28:28.346Z"
   },
   {
    "duration": 25,
    "start_time": "2022-04-08T08:28:28.393Z"
   },
   {
    "duration": 78,
    "start_time": "2022-04-08T08:28:28.419Z"
   },
   {
    "duration": 72,
    "start_time": "2022-04-08T08:28:28.498Z"
   },
   {
    "duration": 58,
    "start_time": "2022-04-08T08:28:28.572Z"
   },
   {
    "duration": 52,
    "start_time": "2022-04-08T08:28:28.633Z"
   },
   {
    "duration": 4,
    "start_time": "2022-04-08T08:28:28.687Z"
   },
   {
    "duration": 16,
    "start_time": "2022-04-08T08:28:28.693Z"
   },
   {
    "duration": 36,
    "start_time": "2022-04-08T08:28:28.710Z"
   },
   {
    "duration": 11,
    "start_time": "2022-04-08T08:28:28.747Z"
   },
   {
    "duration": 30,
    "start_time": "2022-04-08T08:28:28.759Z"
   },
   {
    "duration": 10,
    "start_time": "2022-04-08T08:28:28.791Z"
   },
   {
    "duration": 21,
    "start_time": "2022-04-08T08:28:28.802Z"
   },
   {
    "duration": 12,
    "start_time": "2022-04-08T08:28:28.825Z"
   },
   {
    "duration": 13,
    "start_time": "2022-04-08T08:28:28.838Z"
   },
   {
    "duration": 44,
    "start_time": "2022-04-08T08:28:28.852Z"
   },
   {
    "duration": 17,
    "start_time": "2022-04-08T08:28:28.897Z"
   },
   {
    "duration": 15,
    "start_time": "2022-04-08T08:28:28.915Z"
   },
   {
    "duration": 8,
    "start_time": "2022-04-08T08:28:28.931Z"
   },
   {
    "duration": 11,
    "start_time": "2022-04-08T08:28:28.941Z"
   },
   {
    "duration": 34,
    "start_time": "2022-04-08T08:28:28.954Z"
   },
   {
    "duration": 5,
    "start_time": "2022-04-08T08:28:28.990Z"
   },
   {
    "duration": 21,
    "start_time": "2022-04-08T08:28:28.996Z"
   },
   {
    "duration": 10,
    "start_time": "2022-04-08T08:28:29.019Z"
   },
   {
    "duration": 14,
    "start_time": "2022-04-08T08:28:29.031Z"
   },
   {
    "duration": 10,
    "start_time": "2022-04-08T08:28:29.046Z"
   },
   {
    "duration": 33,
    "start_time": "2022-04-08T08:28:29.057Z"
   },
   {
    "duration": 6,
    "start_time": "2022-04-08T08:28:29.093Z"
   },
   {
    "duration": 10,
    "start_time": "2022-04-08T08:28:29.101Z"
   },
   {
    "duration": 4,
    "start_time": "2022-04-08T08:28:29.112Z"
   },
   {
    "duration": 63,
    "start_time": "2022-04-08T11:43:28.780Z"
   },
   {
    "duration": 6,
    "start_time": "2022-04-08T11:43:42.352Z"
   },
   {
    "duration": 411,
    "start_time": "2022-04-08T11:43:48.651Z"
   },
   {
    "duration": 157,
    "start_time": "2022-04-08T11:43:51.561Z"
   },
   {
    "duration": 8,
    "start_time": "2022-04-08T11:43:54.105Z"
   },
   {
    "duration": 17,
    "start_time": "2022-04-08T11:44:40.164Z"
   },
   {
    "duration": 7,
    "start_time": "2022-04-08T11:44:50.289Z"
   },
   {
    "duration": 12,
    "start_time": "2022-04-08T11:45:30.416Z"
   },
   {
    "duration": 7,
    "start_time": "2022-04-08T11:45:56.866Z"
   },
   {
    "duration": 5,
    "start_time": "2022-04-08T11:57:31.115Z"
   },
   {
    "duration": 4,
    "start_time": "2022-04-08T11:57:56.870Z"
   },
   {
    "duration": 217,
    "start_time": "2022-04-08T12:00:02.099Z"
   },
   {
    "duration": 10,
    "start_time": "2022-04-08T12:00:36.101Z"
   },
   {
    "duration": 10,
    "start_time": "2022-04-08T12:00:44.905Z"
   },
   {
    "duration": 77,
    "start_time": "2022-04-08T12:02:02.543Z"
   },
   {
    "duration": 65,
    "start_time": "2022-04-08T12:02:49.810Z"
   },
   {
    "duration": 66,
    "start_time": "2022-04-08T12:03:03.040Z"
   },
   {
    "duration": 68,
    "start_time": "2022-04-08T12:03:12.767Z"
   },
   {
    "duration": 96,
    "start_time": "2022-04-08T12:03:14.753Z"
   },
   {
    "duration": 66,
    "start_time": "2022-04-08T12:03:17.162Z"
   },
   {
    "duration": 40,
    "start_time": "2022-04-08T12:03:28.911Z"
   },
   {
    "duration": 3,
    "start_time": "2022-04-08T12:03:35.498Z"
   },
   {
    "duration": 10,
    "start_time": "2022-04-08T12:03:37.229Z"
   },
   {
    "duration": 10,
    "start_time": "2022-04-08T12:05:30.508Z"
   },
   {
    "duration": 39,
    "start_time": "2022-04-08T12:05:40.758Z"
   },
   {
    "duration": 33,
    "start_time": "2022-04-08T12:06:10.284Z"
   },
   {
    "duration": 11,
    "start_time": "2022-04-08T12:06:25.943Z"
   },
   {
    "duration": 10,
    "start_time": "2022-04-08T12:06:49.399Z"
   },
   {
    "duration": 374,
    "start_time": "2022-04-08T12:07:11.175Z"
   },
   {
    "duration": 159,
    "start_time": "2022-04-08T12:07:11.552Z"
   },
   {
    "duration": 17,
    "start_time": "2022-04-08T12:07:11.713Z"
   },
   {
    "duration": 42,
    "start_time": "2022-04-08T12:07:11.732Z"
   },
   {
    "duration": 6,
    "start_time": "2022-04-08T12:07:11.775Z"
   },
   {
    "duration": 15,
    "start_time": "2022-04-08T12:07:11.783Z"
   },
   {
    "duration": 9,
    "start_time": "2022-04-08T12:07:11.800Z"
   },
   {
    "duration": 37,
    "start_time": "2022-04-08T12:07:11.811Z"
   },
   {
    "duration": 20,
    "start_time": "2022-04-08T12:07:11.850Z"
   },
   {
    "duration": 24,
    "start_time": "2022-04-08T12:07:11.873Z"
   },
   {
    "duration": 88,
    "start_time": "2022-04-08T12:07:11.899Z"
   },
   {
    "duration": 85,
    "start_time": "2022-04-08T12:07:11.989Z"
   },
   {
    "duration": 61,
    "start_time": "2022-04-08T12:07:12.075Z"
   },
   {
    "duration": 46,
    "start_time": "2022-04-08T12:07:12.137Z"
   },
   {
    "duration": 3,
    "start_time": "2022-04-08T12:07:12.185Z"
   },
   {
    "duration": 11,
    "start_time": "2022-04-08T12:07:12.189Z"
   },
   {
    "duration": 56,
    "start_time": "2022-04-08T12:07:12.202Z"
   },
   {
    "duration": 11,
    "start_time": "2022-04-08T12:07:12.260Z"
   },
   {
    "duration": 12,
    "start_time": "2022-04-08T12:07:12.273Z"
   },
   {
    "duration": 4,
    "start_time": "2022-04-08T12:07:12.287Z"
   },
   {
    "duration": 22,
    "start_time": "2022-04-08T12:07:12.292Z"
   },
   {
    "duration": 41,
    "start_time": "2022-04-08T12:07:12.316Z"
   },
   {
    "duration": 14,
    "start_time": "2022-04-08T12:07:12.359Z"
   },
   {
    "duration": 12,
    "start_time": "2022-04-08T12:07:12.375Z"
   },
   {
    "duration": 17,
    "start_time": "2022-04-08T12:07:12.389Z"
   },
   {
    "duration": 44,
    "start_time": "2022-04-08T12:07:12.407Z"
   },
   {
    "duration": 8,
    "start_time": "2022-04-08T12:07:12.453Z"
   },
   {
    "duration": 14,
    "start_time": "2022-04-08T12:07:12.464Z"
   },
   {
    "duration": 8,
    "start_time": "2022-04-08T12:07:12.480Z"
   },
   {
    "duration": 4,
    "start_time": "2022-04-08T12:07:12.490Z"
   },
   {
    "duration": 26,
    "start_time": "2022-04-08T12:07:12.495Z"
   },
   {
    "duration": 12,
    "start_time": "2022-04-08T12:07:12.547Z"
   },
   {
    "duration": 16,
    "start_time": "2022-04-08T12:07:12.561Z"
   },
   {
    "duration": 10,
    "start_time": "2022-04-08T12:07:12.579Z"
   },
   {
    "duration": 8,
    "start_time": "2022-04-08T12:07:12.590Z"
   },
   {
    "duration": 3,
    "start_time": "2022-04-08T12:07:12.600Z"
   },
   {
    "duration": 7,
    "start_time": "2022-04-08T12:07:12.605Z"
   },
   {
    "duration": 35,
    "start_time": "2022-04-08T12:07:12.613Z"
   },
   {
    "duration": 12,
    "start_time": "2022-04-08T12:07:32.685Z"
   },
   {
    "duration": 11,
    "start_time": "2022-04-08T12:07:44.204Z"
   },
   {
    "duration": 9,
    "start_time": "2022-04-08T12:08:05.629Z"
   },
   {
    "duration": 124,
    "start_time": "2022-04-08T12:09:07.429Z"
   },
   {
    "duration": 8,
    "start_time": "2022-04-08T12:09:25.271Z"
   },
   {
    "duration": 4,
    "start_time": "2022-04-08T12:10:07.579Z"
   },
   {
    "duration": 18,
    "start_time": "2022-04-08T12:10:15.585Z"
   },
   {
    "duration": 13,
    "start_time": "2022-04-08T12:10:18.440Z"
   },
   {
    "duration": 18,
    "start_time": "2022-04-08T12:10:19.397Z"
   },
   {
    "duration": 169,
    "start_time": "2022-04-08T12:10:51.930Z"
   },
   {
    "duration": 4,
    "start_time": "2022-04-08T12:11:11.353Z"
   },
   {
    "duration": 6,
    "start_time": "2022-04-08T12:11:22.233Z"
   },
   {
    "duration": 402,
    "start_time": "2022-04-08T12:15:47.254Z"
   },
   {
    "duration": 151,
    "start_time": "2022-04-08T12:15:47.658Z"
   },
   {
    "duration": 16,
    "start_time": "2022-04-08T12:15:47.811Z"
   },
   {
    "duration": 44,
    "start_time": "2022-04-08T12:15:47.829Z"
   },
   {
    "duration": 9,
    "start_time": "2022-04-08T12:15:47.875Z"
   },
   {
    "duration": 18,
    "start_time": "2022-04-08T12:15:47.886Z"
   },
   {
    "duration": 10,
    "start_time": "2022-04-08T12:15:47.905Z"
   },
   {
    "duration": 32,
    "start_time": "2022-04-08T12:15:47.916Z"
   },
   {
    "duration": 19,
    "start_time": "2022-04-08T12:15:47.950Z"
   },
   {
    "duration": 24,
    "start_time": "2022-04-08T12:15:47.972Z"
   },
   {
    "duration": 81,
    "start_time": "2022-04-08T12:15:47.998Z"
   },
   {
    "duration": 88,
    "start_time": "2022-04-08T12:15:48.081Z"
   },
   {
    "duration": 60,
    "start_time": "2022-04-08T12:15:48.171Z"
   },
   {
    "duration": 50,
    "start_time": "2022-04-08T12:15:48.233Z"
   },
   {
    "duration": 2,
    "start_time": "2022-04-08T12:15:48.285Z"
   },
   {
    "duration": 11,
    "start_time": "2022-04-08T12:15:48.289Z"
   },
   {
    "duration": 55,
    "start_time": "2022-04-08T12:15:48.302Z"
   },
   {
    "duration": 11,
    "start_time": "2022-04-08T12:15:48.359Z"
   },
   {
    "duration": 17,
    "start_time": "2022-04-08T12:15:48.372Z"
   },
   {
    "duration": 9,
    "start_time": "2022-04-08T12:15:48.391Z"
   },
   {
    "duration": 31,
    "start_time": "2022-04-08T12:15:48.401Z"
   },
   {
    "duration": 23,
    "start_time": "2022-04-08T12:15:48.434Z"
   },
   {
    "duration": 18,
    "start_time": "2022-04-08T12:15:48.459Z"
   },
   {
    "duration": 14,
    "start_time": "2022-04-08T12:15:48.479Z"
   },
   {
    "duration": 23,
    "start_time": "2022-04-08T12:15:48.495Z"
   },
   {
    "duration": 38,
    "start_time": "2022-04-08T12:15:48.519Z"
   },
   {
    "duration": 9,
    "start_time": "2022-04-08T12:15:48.559Z"
   },
   {
    "duration": 18,
    "start_time": "2022-04-08T12:15:48.571Z"
   },
   {
    "duration": 9,
    "start_time": "2022-04-08T12:15:48.591Z"
   },
   {
    "duration": 3,
    "start_time": "2022-04-08T12:15:48.602Z"
   },
   {
    "duration": 40,
    "start_time": "2022-04-08T12:15:48.607Z"
   },
   {
    "duration": 12,
    "start_time": "2022-04-08T12:15:48.649Z"
   },
   {
    "duration": 18,
    "start_time": "2022-04-08T12:15:48.663Z"
   },
   {
    "duration": 19,
    "start_time": "2022-04-08T12:15:48.683Z"
   },
   {
    "duration": 40,
    "start_time": "2022-04-08T12:15:48.703Z"
   },
   {
    "duration": 5,
    "start_time": "2022-04-08T12:15:48.745Z"
   },
   {
    "duration": 10,
    "start_time": "2022-04-08T12:15:48.751Z"
   },
   {
    "duration": 5,
    "start_time": "2022-04-08T12:15:48.763Z"
   },
   {
    "duration": 422,
    "start_time": "2022-04-09T06:10:56.497Z"
   },
   {
    "duration": 326,
    "start_time": "2022-04-09T06:10:56.921Z"
   },
   {
    "duration": 17,
    "start_time": "2022-04-09T06:10:57.249Z"
   },
   {
    "duration": 30,
    "start_time": "2022-04-09T06:10:57.268Z"
   },
   {
    "duration": 4,
    "start_time": "2022-04-09T06:10:57.301Z"
   },
   {
    "duration": 27,
    "start_time": "2022-04-09T06:10:57.306Z"
   },
   {
    "duration": 4,
    "start_time": "2022-04-09T06:10:57.334Z"
   },
   {
    "duration": 27,
    "start_time": "2022-04-09T06:10:57.340Z"
   },
   {
    "duration": 21,
    "start_time": "2022-04-09T06:10:57.369Z"
   },
   {
    "duration": 44,
    "start_time": "2022-04-09T06:10:57.392Z"
   },
   {
    "duration": 68,
    "start_time": "2022-04-09T06:10:57.438Z"
   },
   {
    "duration": 97,
    "start_time": "2022-04-09T06:10:57.508Z"
   },
   {
    "duration": 70,
    "start_time": "2022-04-09T06:10:57.607Z"
   },
   {
    "duration": 50,
    "start_time": "2022-04-09T06:10:57.682Z"
   },
   {
    "duration": 3,
    "start_time": "2022-04-09T06:10:57.734Z"
   },
   {
    "duration": 12,
    "start_time": "2022-04-09T06:10:57.738Z"
   },
   {
    "duration": 41,
    "start_time": "2022-04-09T06:10:57.752Z"
   },
   {
    "duration": 37,
    "start_time": "2022-04-09T06:10:57.795Z"
   },
   {
    "duration": 12,
    "start_time": "2022-04-09T06:10:57.834Z"
   },
   {
    "duration": 4,
    "start_time": "2022-04-09T06:10:57.847Z"
   },
   {
    "duration": 23,
    "start_time": "2022-04-09T06:10:57.852Z"
   },
   {
    "duration": 15,
    "start_time": "2022-04-09T06:10:57.877Z"
   },
   {
    "duration": 45,
    "start_time": "2022-04-09T06:10:57.893Z"
   },
   {
    "duration": 15,
    "start_time": "2022-04-09T06:10:57.940Z"
   },
   {
    "duration": 18,
    "start_time": "2022-04-09T06:10:57.956Z"
   },
   {
    "duration": 15,
    "start_time": "2022-04-09T06:10:57.976Z"
   },
   {
    "duration": 40,
    "start_time": "2022-04-09T06:10:57.993Z"
   },
   {
    "duration": 13,
    "start_time": "2022-04-09T06:10:58.034Z"
   },
   {
    "duration": 11,
    "start_time": "2022-04-09T06:10:58.049Z"
   },
   {
    "duration": 5,
    "start_time": "2022-04-09T06:10:58.061Z"
   },
   {
    "duration": 22,
    "start_time": "2022-04-09T06:10:58.067Z"
   },
   {
    "duration": 11,
    "start_time": "2022-04-09T06:10:58.091Z"
   },
   {
    "duration": 17,
    "start_time": "2022-04-09T06:10:58.133Z"
   },
   {
    "duration": 11,
    "start_time": "2022-04-09T06:10:58.152Z"
   },
   {
    "duration": 10,
    "start_time": "2022-04-09T06:10:58.165Z"
   },
   {
    "duration": 5,
    "start_time": "2022-04-09T06:10:58.176Z"
   },
   {
    "duration": 10,
    "start_time": "2022-04-09T06:10:58.182Z"
   },
   {
    "duration": 40,
    "start_time": "2022-04-09T06:10:58.193Z"
   },
   {
    "duration": 395,
    "start_time": "2022-04-09T06:12:30.888Z"
   },
   {
    "duration": 182,
    "start_time": "2022-04-09T06:12:31.286Z"
   },
   {
    "duration": 19,
    "start_time": "2022-04-09T06:12:31.470Z"
   },
   {
    "duration": 47,
    "start_time": "2022-04-09T06:12:31.492Z"
   },
   {
    "duration": 5,
    "start_time": "2022-04-09T06:12:31.541Z"
   },
   {
    "duration": 16,
    "start_time": "2022-04-09T06:12:31.548Z"
   },
   {
    "duration": 25,
    "start_time": "2022-04-09T06:12:31.566Z"
   },
   {
    "duration": 15,
    "start_time": "2022-04-09T06:12:31.593Z"
   },
   {
    "duration": 18,
    "start_time": "2022-04-09T06:12:31.610Z"
   },
   {
    "duration": 24,
    "start_time": "2022-04-09T06:12:31.631Z"
   },
   {
    "duration": 22,
    "start_time": "2022-04-09T06:12:31.657Z"
   },
   {
    "duration": 21,
    "start_time": "2022-04-09T06:12:31.681Z"
   },
   {
    "duration": 31,
    "start_time": "2022-04-09T06:12:31.704Z"
   },
   {
    "duration": 25,
    "start_time": "2022-04-09T06:12:31.737Z"
   },
   {
    "duration": 42,
    "start_time": "2022-04-09T06:12:31.764Z"
   },
   {
    "duration": 78,
    "start_time": "2022-04-09T06:12:31.808Z"
   },
   {
    "duration": 94,
    "start_time": "2022-04-09T06:12:31.888Z"
   },
   {
    "duration": 71,
    "start_time": "2022-04-09T06:12:31.983Z"
   },
   {
    "duration": 42,
    "start_time": "2022-04-09T06:12:32.056Z"
   },
   {
    "duration": 3,
    "start_time": "2022-04-09T06:12:32.100Z"
   },
   {
    "duration": 34,
    "start_time": "2022-04-09T06:12:32.104Z"
   },
   {
    "duration": 43,
    "start_time": "2022-04-09T06:12:32.140Z"
   },
   {
    "duration": 13,
    "start_time": "2022-04-09T06:12:32.185Z"
   },
   {
    "duration": 36,
    "start_time": "2022-04-09T06:12:32.200Z"
   },
   {
    "duration": 5,
    "start_time": "2022-04-09T06:12:32.238Z"
   },
   {
    "duration": 50,
    "start_time": "2022-04-09T06:12:32.244Z"
   },
   {
    "duration": 16,
    "start_time": "2022-04-09T06:12:32.296Z"
   },
   {
    "duration": 16,
    "start_time": "2022-04-09T06:12:32.315Z"
   },
   {
    "duration": 18,
    "start_time": "2022-04-09T06:12:32.333Z"
   },
   {
    "duration": 18,
    "start_time": "2022-04-09T06:12:32.353Z"
   },
   {
    "duration": 24,
    "start_time": "2022-04-09T06:12:32.373Z"
   },
   {
    "duration": 10,
    "start_time": "2022-04-09T06:12:32.400Z"
   },
   {
    "duration": 14,
    "start_time": "2022-04-09T06:12:32.432Z"
   },
   {
    "duration": 12,
    "start_time": "2022-04-09T06:12:32.448Z"
   },
   {
    "duration": 6,
    "start_time": "2022-04-09T06:12:32.462Z"
   },
   {
    "duration": 43,
    "start_time": "2022-04-09T06:12:32.470Z"
   },
   {
    "duration": 22,
    "start_time": "2022-04-09T06:12:32.515Z"
   },
   {
    "duration": 21,
    "start_time": "2022-04-09T06:12:32.539Z"
   },
   {
    "duration": 13,
    "start_time": "2022-04-09T06:12:32.562Z"
   },
   {
    "duration": 11,
    "start_time": "2022-04-09T06:12:32.577Z"
   },
   {
    "duration": 41,
    "start_time": "2022-04-09T06:12:32.590Z"
   },
   {
    "duration": 7,
    "start_time": "2022-04-09T06:12:32.633Z"
   },
   {
    "duration": 6,
    "start_time": "2022-04-09T06:12:32.642Z"
   }
  ],
  "colab": {
   "collapsed_sections": [
    "E0vqbgi9ay0H",
    "VUC88oWjTJw2"
   ],
   "name": "yandex_music_project.ipynb",
   "provenance": []
  },
  "kernelspec": {
   "display_name": "Python 3 (ipykernel)",
   "language": "python",
   "name": "python3"
  },
  "language_info": {
   "codemirror_mode": {
    "name": "ipython",
    "version": 3
   },
   "file_extension": ".py",
   "mimetype": "text/x-python",
   "name": "python",
   "nbconvert_exporter": "python",
   "pygments_lexer": "ipython3",
   "version": "3.9.7"
  },
  "toc": {
   "base_numbering": 1,
   "nav_menu": {},
   "number_sections": true,
   "sideBar": true,
   "skip_h1_title": true,
   "title_cell": "Table of Contents",
   "title_sidebar": "Contents",
   "toc_cell": false,
   "toc_position": {
    "height": "calc(100% - 180px)",
    "left": "10px",
    "top": "150px",
    "width": "366.4px"
   },
   "toc_section_display": true,
   "toc_window_display": true
  }
 },
 "nbformat": 4,
 "nbformat_minor": 1
}
