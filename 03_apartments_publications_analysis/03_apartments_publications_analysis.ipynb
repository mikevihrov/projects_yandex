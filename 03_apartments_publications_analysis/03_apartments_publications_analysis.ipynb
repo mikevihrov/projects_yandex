{
 "cells": [
  {
   "cell_type": "markdown",
   "metadata": {},
   "source": [
    "# Исследование публикаций о продаже квартир (Research of publications about the sale of apartments)"
   ]
  },
  {
   "cell_type": "markdown",
   "metadata": {},
   "source": [
    "## Описание проекта"
   ]
  },
  {
   "cell_type": "markdown",
   "metadata": {},
   "source": [
    "В распоряжении имеются данные сервиса Яндекc.Недвижимость, а именно объявления о продаже квартир в Санкт-Петербурге и соседних населённых пунктах за несколько лет.\n",
    "\n",
    "**Цель проекта:** установить параметры, которые влияют на рыночную стоимость объектов недвижимости, а также их степень влияния.\n",
    "\n",
    "По каждой квартире на продажу доступны два вида данных. Первые вписаны пользователем, вторые получены автоматически на основе картографических данных. Например, расстояние до центра, аэропорта, ближайшего парка и водоёма.\n",
    "\n",
    "**Этапы исследования:**\n",
    "\n",
    "* Изучение данных\n",
    "* Предобработка данных\n",
    "* Расчёты и добавление результатов в таблицу\n",
    "* Исследовательский анализ данных\n",
    "* Общий вывод"
   ]
  },
  {
   "cell_type": "markdown",
   "metadata": {},
   "source": [
    "## Изучение данных из файла"
   ]
  },
  {
   "cell_type": "markdown",
   "metadata": {},
   "source": [
    "Импортируем библиотеки, которые будем использовать в исследовании"
   ]
  },
  {
   "cell_type": "code",
   "execution_count": 1,
   "metadata": {},
   "outputs": [],
   "source": [
    "import pandas as pd\n",
    "import matplotlib.pyplot as plt"
   ]
  },
  {
   "cell_type": "markdown",
   "metadata": {},
   "source": [
    "Загрузим данные и получим информацию о данных. Создадим функцию `df_read_csv`, которая выведит сообщение об ошибке, если информация о файле будет указана неверно"
   ]
  },
  {
   "cell_type": "code",
   "execution_count": 2,
   "metadata": {},
   "outputs": [
    {
     "name": "stdout",
     "output_type": "stream",
     "text": [
      "<class 'pandas.core.frame.DataFrame'>\n",
      "RangeIndex: 23699 entries, 0 to 23698\n",
      "Data columns (total 22 columns):\n",
      " #   Column                Non-Null Count  Dtype  \n",
      "---  ------                --------------  -----  \n",
      " 0   total_images          23699 non-null  int64  \n",
      " 1   last_price            23699 non-null  float64\n",
      " 2   total_area            23699 non-null  float64\n",
      " 3   first_day_exposition  23699 non-null  object \n",
      " 4   rooms                 23699 non-null  int64  \n",
      " 5   ceiling_height        14504 non-null  float64\n",
      " 6   floors_total          23613 non-null  float64\n",
      " 7   living_area           21796 non-null  float64\n",
      " 8   floor                 23699 non-null  int64  \n",
      " 9   is_apartment          2775 non-null   object \n",
      " 10  studio                23699 non-null  bool   \n",
      " 11  open_plan             23699 non-null  bool   \n",
      " 12  kitchen_area          21421 non-null  float64\n",
      " 13  balcony               12180 non-null  float64\n",
      " 14  locality_name         23650 non-null  object \n",
      " 15  airports_nearest      18157 non-null  float64\n",
      " 16  cityCenters_nearest   18180 non-null  float64\n",
      " 17  parks_around3000      18181 non-null  float64\n",
      " 18  parks_nearest         8079 non-null   float64\n",
      " 19  ponds_around3000      18181 non-null  float64\n",
      " 20  ponds_nearest         9110 non-null   float64\n",
      " 21  days_exposition       20518 non-null  float64\n",
      "dtypes: bool(2), float64(14), int64(3), object(3)\n",
      "memory usage: 3.7+ MB\n"
     ]
    },
    {
     "data": {
      "text/html": [
       "<div>\n",
       "<style scoped>\n",
       "    .dataframe tbody tr th:only-of-type {\n",
       "        vertical-align: middle;\n",
       "    }\n",
       "\n",
       "    .dataframe tbody tr th {\n",
       "        vertical-align: top;\n",
       "    }\n",
       "\n",
       "    .dataframe thead th {\n",
       "        text-align: right;\n",
       "    }\n",
       "</style>\n",
       "<table border=\"1\" class=\"dataframe\">\n",
       "  <thead>\n",
       "    <tr style=\"text-align: right;\">\n",
       "      <th></th>\n",
       "      <th>total_images</th>\n",
       "      <th>last_price</th>\n",
       "      <th>total_area</th>\n",
       "      <th>first_day_exposition</th>\n",
       "      <th>rooms</th>\n",
       "      <th>ceiling_height</th>\n",
       "      <th>floors_total</th>\n",
       "      <th>living_area</th>\n",
       "      <th>floor</th>\n",
       "      <th>is_apartment</th>\n",
       "      <th>...</th>\n",
       "      <th>kitchen_area</th>\n",
       "      <th>balcony</th>\n",
       "      <th>locality_name</th>\n",
       "      <th>airports_nearest</th>\n",
       "      <th>cityCenters_nearest</th>\n",
       "      <th>parks_around3000</th>\n",
       "      <th>parks_nearest</th>\n",
       "      <th>ponds_around3000</th>\n",
       "      <th>ponds_nearest</th>\n",
       "      <th>days_exposition</th>\n",
       "    </tr>\n",
       "  </thead>\n",
       "  <tbody>\n",
       "    <tr>\n",
       "      <th>0</th>\n",
       "      <td>20</td>\n",
       "      <td>13000000.0</td>\n",
       "      <td>108.00</td>\n",
       "      <td>2019-03-07T00:00:00</td>\n",
       "      <td>3</td>\n",
       "      <td>2.70</td>\n",
       "      <td>16.0</td>\n",
       "      <td>51.00</td>\n",
       "      <td>8</td>\n",
       "      <td>NaN</td>\n",
       "      <td>...</td>\n",
       "      <td>25.00</td>\n",
       "      <td>NaN</td>\n",
       "      <td>Санкт-Петербург</td>\n",
       "      <td>18863.0</td>\n",
       "      <td>16028.0</td>\n",
       "      <td>1.0</td>\n",
       "      <td>482.0</td>\n",
       "      <td>2.0</td>\n",
       "      <td>755.0</td>\n",
       "      <td>NaN</td>\n",
       "    </tr>\n",
       "    <tr>\n",
       "      <th>1</th>\n",
       "      <td>7</td>\n",
       "      <td>3350000.0</td>\n",
       "      <td>40.40</td>\n",
       "      <td>2018-12-04T00:00:00</td>\n",
       "      <td>1</td>\n",
       "      <td>NaN</td>\n",
       "      <td>11.0</td>\n",
       "      <td>18.60</td>\n",
       "      <td>1</td>\n",
       "      <td>NaN</td>\n",
       "      <td>...</td>\n",
       "      <td>11.00</td>\n",
       "      <td>2.0</td>\n",
       "      <td>посёлок Шушары</td>\n",
       "      <td>12817.0</td>\n",
       "      <td>18603.0</td>\n",
       "      <td>0.0</td>\n",
       "      <td>NaN</td>\n",
       "      <td>0.0</td>\n",
       "      <td>NaN</td>\n",
       "      <td>81.0</td>\n",
       "    </tr>\n",
       "    <tr>\n",
       "      <th>2</th>\n",
       "      <td>10</td>\n",
       "      <td>5196000.0</td>\n",
       "      <td>56.00</td>\n",
       "      <td>2015-08-20T00:00:00</td>\n",
       "      <td>2</td>\n",
       "      <td>NaN</td>\n",
       "      <td>5.0</td>\n",
       "      <td>34.30</td>\n",
       "      <td>4</td>\n",
       "      <td>NaN</td>\n",
       "      <td>...</td>\n",
       "      <td>8.30</td>\n",
       "      <td>0.0</td>\n",
       "      <td>Санкт-Петербург</td>\n",
       "      <td>21741.0</td>\n",
       "      <td>13933.0</td>\n",
       "      <td>1.0</td>\n",
       "      <td>90.0</td>\n",
       "      <td>2.0</td>\n",
       "      <td>574.0</td>\n",
       "      <td>558.0</td>\n",
       "    </tr>\n",
       "    <tr>\n",
       "      <th>3</th>\n",
       "      <td>0</td>\n",
       "      <td>64900000.0</td>\n",
       "      <td>159.00</td>\n",
       "      <td>2015-07-24T00:00:00</td>\n",
       "      <td>3</td>\n",
       "      <td>NaN</td>\n",
       "      <td>14.0</td>\n",
       "      <td>NaN</td>\n",
       "      <td>9</td>\n",
       "      <td>NaN</td>\n",
       "      <td>...</td>\n",
       "      <td>NaN</td>\n",
       "      <td>0.0</td>\n",
       "      <td>Санкт-Петербург</td>\n",
       "      <td>28098.0</td>\n",
       "      <td>6800.0</td>\n",
       "      <td>2.0</td>\n",
       "      <td>84.0</td>\n",
       "      <td>3.0</td>\n",
       "      <td>234.0</td>\n",
       "      <td>424.0</td>\n",
       "    </tr>\n",
       "    <tr>\n",
       "      <th>4</th>\n",
       "      <td>2</td>\n",
       "      <td>10000000.0</td>\n",
       "      <td>100.00</td>\n",
       "      <td>2018-06-19T00:00:00</td>\n",
       "      <td>2</td>\n",
       "      <td>3.03</td>\n",
       "      <td>14.0</td>\n",
       "      <td>32.00</td>\n",
       "      <td>13</td>\n",
       "      <td>NaN</td>\n",
       "      <td>...</td>\n",
       "      <td>41.00</td>\n",
       "      <td>NaN</td>\n",
       "      <td>Санкт-Петербург</td>\n",
       "      <td>31856.0</td>\n",
       "      <td>8098.0</td>\n",
       "      <td>2.0</td>\n",
       "      <td>112.0</td>\n",
       "      <td>1.0</td>\n",
       "      <td>48.0</td>\n",
       "      <td>121.0</td>\n",
       "    </tr>\n",
       "    <tr>\n",
       "      <th>5</th>\n",
       "      <td>10</td>\n",
       "      <td>2890000.0</td>\n",
       "      <td>30.40</td>\n",
       "      <td>2018-09-10T00:00:00</td>\n",
       "      <td>1</td>\n",
       "      <td>NaN</td>\n",
       "      <td>12.0</td>\n",
       "      <td>14.40</td>\n",
       "      <td>5</td>\n",
       "      <td>NaN</td>\n",
       "      <td>...</td>\n",
       "      <td>9.10</td>\n",
       "      <td>NaN</td>\n",
       "      <td>городской посёлок Янино-1</td>\n",
       "      <td>NaN</td>\n",
       "      <td>NaN</td>\n",
       "      <td>NaN</td>\n",
       "      <td>NaN</td>\n",
       "      <td>NaN</td>\n",
       "      <td>NaN</td>\n",
       "      <td>55.0</td>\n",
       "    </tr>\n",
       "    <tr>\n",
       "      <th>6</th>\n",
       "      <td>6</td>\n",
       "      <td>3700000.0</td>\n",
       "      <td>37.30</td>\n",
       "      <td>2017-11-02T00:00:00</td>\n",
       "      <td>1</td>\n",
       "      <td>NaN</td>\n",
       "      <td>26.0</td>\n",
       "      <td>10.60</td>\n",
       "      <td>6</td>\n",
       "      <td>NaN</td>\n",
       "      <td>...</td>\n",
       "      <td>14.40</td>\n",
       "      <td>1.0</td>\n",
       "      <td>посёлок Парголово</td>\n",
       "      <td>52996.0</td>\n",
       "      <td>19143.0</td>\n",
       "      <td>0.0</td>\n",
       "      <td>NaN</td>\n",
       "      <td>0.0</td>\n",
       "      <td>NaN</td>\n",
       "      <td>155.0</td>\n",
       "    </tr>\n",
       "    <tr>\n",
       "      <th>7</th>\n",
       "      <td>5</td>\n",
       "      <td>7915000.0</td>\n",
       "      <td>71.60</td>\n",
       "      <td>2019-04-18T00:00:00</td>\n",
       "      <td>2</td>\n",
       "      <td>NaN</td>\n",
       "      <td>24.0</td>\n",
       "      <td>NaN</td>\n",
       "      <td>22</td>\n",
       "      <td>NaN</td>\n",
       "      <td>...</td>\n",
       "      <td>18.90</td>\n",
       "      <td>2.0</td>\n",
       "      <td>Санкт-Петербург</td>\n",
       "      <td>23982.0</td>\n",
       "      <td>11634.0</td>\n",
       "      <td>0.0</td>\n",
       "      <td>NaN</td>\n",
       "      <td>0.0</td>\n",
       "      <td>NaN</td>\n",
       "      <td>NaN</td>\n",
       "    </tr>\n",
       "    <tr>\n",
       "      <th>8</th>\n",
       "      <td>20</td>\n",
       "      <td>2900000.0</td>\n",
       "      <td>33.16</td>\n",
       "      <td>2018-05-23T00:00:00</td>\n",
       "      <td>1</td>\n",
       "      <td>NaN</td>\n",
       "      <td>27.0</td>\n",
       "      <td>15.43</td>\n",
       "      <td>26</td>\n",
       "      <td>NaN</td>\n",
       "      <td>...</td>\n",
       "      <td>8.81</td>\n",
       "      <td>NaN</td>\n",
       "      <td>посёлок Мурино</td>\n",
       "      <td>NaN</td>\n",
       "      <td>NaN</td>\n",
       "      <td>NaN</td>\n",
       "      <td>NaN</td>\n",
       "      <td>NaN</td>\n",
       "      <td>NaN</td>\n",
       "      <td>189.0</td>\n",
       "    </tr>\n",
       "    <tr>\n",
       "      <th>9</th>\n",
       "      <td>18</td>\n",
       "      <td>5400000.0</td>\n",
       "      <td>61.00</td>\n",
       "      <td>2017-02-26T00:00:00</td>\n",
       "      <td>3</td>\n",
       "      <td>2.50</td>\n",
       "      <td>9.0</td>\n",
       "      <td>43.60</td>\n",
       "      <td>7</td>\n",
       "      <td>NaN</td>\n",
       "      <td>...</td>\n",
       "      <td>6.50</td>\n",
       "      <td>2.0</td>\n",
       "      <td>Санкт-Петербург</td>\n",
       "      <td>50898.0</td>\n",
       "      <td>15008.0</td>\n",
       "      <td>0.0</td>\n",
       "      <td>NaN</td>\n",
       "      <td>0.0</td>\n",
       "      <td>NaN</td>\n",
       "      <td>289.0</td>\n",
       "    </tr>\n",
       "  </tbody>\n",
       "</table>\n",
       "<p>10 rows × 22 columns</p>\n",
       "</div>"
      ],
      "text/plain": [
       "   total_images  last_price  total_area first_day_exposition  rooms  \\\n",
       "0            20  13000000.0      108.00  2019-03-07T00:00:00      3   \n",
       "1             7   3350000.0       40.40  2018-12-04T00:00:00      1   \n",
       "2            10   5196000.0       56.00  2015-08-20T00:00:00      2   \n",
       "3             0  64900000.0      159.00  2015-07-24T00:00:00      3   \n",
       "4             2  10000000.0      100.00  2018-06-19T00:00:00      2   \n",
       "5            10   2890000.0       30.40  2018-09-10T00:00:00      1   \n",
       "6             6   3700000.0       37.30  2017-11-02T00:00:00      1   \n",
       "7             5   7915000.0       71.60  2019-04-18T00:00:00      2   \n",
       "8            20   2900000.0       33.16  2018-05-23T00:00:00      1   \n",
       "9            18   5400000.0       61.00  2017-02-26T00:00:00      3   \n",
       "\n",
       "   ceiling_height  floors_total  living_area  floor is_apartment  ...  \\\n",
       "0            2.70          16.0        51.00      8          NaN  ...   \n",
       "1             NaN          11.0        18.60      1          NaN  ...   \n",
       "2             NaN           5.0        34.30      4          NaN  ...   \n",
       "3             NaN          14.0          NaN      9          NaN  ...   \n",
       "4            3.03          14.0        32.00     13          NaN  ...   \n",
       "5             NaN          12.0        14.40      5          NaN  ...   \n",
       "6             NaN          26.0        10.60      6          NaN  ...   \n",
       "7             NaN          24.0          NaN     22          NaN  ...   \n",
       "8             NaN          27.0        15.43     26          NaN  ...   \n",
       "9            2.50           9.0        43.60      7          NaN  ...   \n",
       "\n",
       "   kitchen_area  balcony              locality_name  airports_nearest  \\\n",
       "0         25.00      NaN            Санкт-Петербург           18863.0   \n",
       "1         11.00      2.0             посёлок Шушары           12817.0   \n",
       "2          8.30      0.0            Санкт-Петербург           21741.0   \n",
       "3           NaN      0.0            Санкт-Петербург           28098.0   \n",
       "4         41.00      NaN            Санкт-Петербург           31856.0   \n",
       "5          9.10      NaN  городской посёлок Янино-1               NaN   \n",
       "6         14.40      1.0          посёлок Парголово           52996.0   \n",
       "7         18.90      2.0            Санкт-Петербург           23982.0   \n",
       "8          8.81      NaN             посёлок Мурино               NaN   \n",
       "9          6.50      2.0            Санкт-Петербург           50898.0   \n",
       "\n",
       "  cityCenters_nearest  parks_around3000  parks_nearest  ponds_around3000  \\\n",
       "0             16028.0               1.0          482.0               2.0   \n",
       "1             18603.0               0.0            NaN               0.0   \n",
       "2             13933.0               1.0           90.0               2.0   \n",
       "3              6800.0               2.0           84.0               3.0   \n",
       "4              8098.0               2.0          112.0               1.0   \n",
       "5                 NaN               NaN            NaN               NaN   \n",
       "6             19143.0               0.0            NaN               0.0   \n",
       "7             11634.0               0.0            NaN               0.0   \n",
       "8                 NaN               NaN            NaN               NaN   \n",
       "9             15008.0               0.0            NaN               0.0   \n",
       "\n",
       "   ponds_nearest  days_exposition  \n",
       "0          755.0              NaN  \n",
       "1            NaN             81.0  \n",
       "2          574.0            558.0  \n",
       "3          234.0            424.0  \n",
       "4           48.0            121.0  \n",
       "5            NaN             55.0  \n",
       "6            NaN            155.0  \n",
       "7            NaN              NaN  \n",
       "8            NaN            189.0  \n",
       "9            NaN            289.0  \n",
       "\n",
       "[10 rows x 22 columns]"
      ]
     },
     "execution_count": 2,
     "metadata": {},
     "output_type": "execute_result"
    }
   ],
   "source": [
    "def df_read_csv(path, sep='\\t'):\n",
    "    try:\n",
    "        return pd.read_csv(path, sep)\n",
    "    except Exception:\n",
    "        print('Ошибка при загрузке файла')\n",
    "df = pd.read_csv('real_estate_data.csv', sep='\\t') \n",
    "df.info()\n",
    "df.head(10)"
   ]
  },
  {
   "cell_type": "markdown",
   "metadata": {},
   "source": [
    "Выведим список характерных значений для каждого столбца."
   ]
  },
  {
   "cell_type": "code",
   "execution_count": 3,
   "metadata": {},
   "outputs": [
    {
     "data": {
      "text/html": [
       "<div>\n",
       "<style scoped>\n",
       "    .dataframe tbody tr th:only-of-type {\n",
       "        vertical-align: middle;\n",
       "    }\n",
       "\n",
       "    .dataframe tbody tr th {\n",
       "        vertical-align: top;\n",
       "    }\n",
       "\n",
       "    .dataframe thead th {\n",
       "        text-align: right;\n",
       "    }\n",
       "</style>\n",
       "<table border=\"1\" class=\"dataframe\">\n",
       "  <thead>\n",
       "    <tr style=\"text-align: right;\">\n",
       "      <th></th>\n",
       "      <th>total_images</th>\n",
       "      <th>last_price</th>\n",
       "      <th>total_area</th>\n",
       "      <th>rooms</th>\n",
       "      <th>ceiling_height</th>\n",
       "      <th>floors_total</th>\n",
       "      <th>living_area</th>\n",
       "      <th>floor</th>\n",
       "      <th>kitchen_area</th>\n",
       "      <th>balcony</th>\n",
       "      <th>airports_nearest</th>\n",
       "      <th>cityCenters_nearest</th>\n",
       "      <th>parks_around3000</th>\n",
       "      <th>parks_nearest</th>\n",
       "      <th>ponds_around3000</th>\n",
       "      <th>ponds_nearest</th>\n",
       "      <th>days_exposition</th>\n",
       "    </tr>\n",
       "  </thead>\n",
       "  <tbody>\n",
       "    <tr>\n",
       "      <th>count</th>\n",
       "      <td>23699.000000</td>\n",
       "      <td>2.369900e+04</td>\n",
       "      <td>23699.000000</td>\n",
       "      <td>23699.000000</td>\n",
       "      <td>14504.000000</td>\n",
       "      <td>23613.000000</td>\n",
       "      <td>21796.000000</td>\n",
       "      <td>23699.000000</td>\n",
       "      <td>21421.000000</td>\n",
       "      <td>12180.000000</td>\n",
       "      <td>18157.000000</td>\n",
       "      <td>18180.000000</td>\n",
       "      <td>18181.000000</td>\n",
       "      <td>8079.000000</td>\n",
       "      <td>18181.000000</td>\n",
       "      <td>9110.000000</td>\n",
       "      <td>20518.000000</td>\n",
       "    </tr>\n",
       "    <tr>\n",
       "      <th>mean</th>\n",
       "      <td>9.858475</td>\n",
       "      <td>6.541549e+06</td>\n",
       "      <td>60.348651</td>\n",
       "      <td>2.070636</td>\n",
       "      <td>2.771499</td>\n",
       "      <td>10.673824</td>\n",
       "      <td>34.457852</td>\n",
       "      <td>5.892358</td>\n",
       "      <td>10.569807</td>\n",
       "      <td>1.150082</td>\n",
       "      <td>28793.672193</td>\n",
       "      <td>14191.277833</td>\n",
       "      <td>0.611408</td>\n",
       "      <td>490.804555</td>\n",
       "      <td>0.770255</td>\n",
       "      <td>517.980900</td>\n",
       "      <td>180.888634</td>\n",
       "    </tr>\n",
       "    <tr>\n",
       "      <th>std</th>\n",
       "      <td>5.682529</td>\n",
       "      <td>1.088701e+07</td>\n",
       "      <td>35.654083</td>\n",
       "      <td>1.078405</td>\n",
       "      <td>1.261056</td>\n",
       "      <td>6.597173</td>\n",
       "      <td>22.030445</td>\n",
       "      <td>4.885249</td>\n",
       "      <td>5.905438</td>\n",
       "      <td>1.071300</td>\n",
       "      <td>12630.880622</td>\n",
       "      <td>8608.386210</td>\n",
       "      <td>0.802074</td>\n",
       "      <td>342.317995</td>\n",
       "      <td>0.938346</td>\n",
       "      <td>277.720643</td>\n",
       "      <td>219.727988</td>\n",
       "    </tr>\n",
       "    <tr>\n",
       "      <th>min</th>\n",
       "      <td>0.000000</td>\n",
       "      <td>1.219000e+04</td>\n",
       "      <td>12.000000</td>\n",
       "      <td>0.000000</td>\n",
       "      <td>1.000000</td>\n",
       "      <td>1.000000</td>\n",
       "      <td>2.000000</td>\n",
       "      <td>1.000000</td>\n",
       "      <td>1.300000</td>\n",
       "      <td>0.000000</td>\n",
       "      <td>0.000000</td>\n",
       "      <td>181.000000</td>\n",
       "      <td>0.000000</td>\n",
       "      <td>1.000000</td>\n",
       "      <td>0.000000</td>\n",
       "      <td>13.000000</td>\n",
       "      <td>1.000000</td>\n",
       "    </tr>\n",
       "    <tr>\n",
       "      <th>25%</th>\n",
       "      <td>6.000000</td>\n",
       "      <td>3.400000e+06</td>\n",
       "      <td>40.000000</td>\n",
       "      <td>1.000000</td>\n",
       "      <td>2.520000</td>\n",
       "      <td>5.000000</td>\n",
       "      <td>18.600000</td>\n",
       "      <td>2.000000</td>\n",
       "      <td>7.000000</td>\n",
       "      <td>0.000000</td>\n",
       "      <td>18585.000000</td>\n",
       "      <td>9238.000000</td>\n",
       "      <td>0.000000</td>\n",
       "      <td>288.000000</td>\n",
       "      <td>0.000000</td>\n",
       "      <td>294.000000</td>\n",
       "      <td>45.000000</td>\n",
       "    </tr>\n",
       "    <tr>\n",
       "      <th>50%</th>\n",
       "      <td>9.000000</td>\n",
       "      <td>4.650000e+06</td>\n",
       "      <td>52.000000</td>\n",
       "      <td>2.000000</td>\n",
       "      <td>2.650000</td>\n",
       "      <td>9.000000</td>\n",
       "      <td>30.000000</td>\n",
       "      <td>4.000000</td>\n",
       "      <td>9.100000</td>\n",
       "      <td>1.000000</td>\n",
       "      <td>26726.000000</td>\n",
       "      <td>13098.500000</td>\n",
       "      <td>0.000000</td>\n",
       "      <td>455.000000</td>\n",
       "      <td>1.000000</td>\n",
       "      <td>502.000000</td>\n",
       "      <td>95.000000</td>\n",
       "    </tr>\n",
       "    <tr>\n",
       "      <th>75%</th>\n",
       "      <td>14.000000</td>\n",
       "      <td>6.800000e+06</td>\n",
       "      <td>69.900000</td>\n",
       "      <td>3.000000</td>\n",
       "      <td>2.800000</td>\n",
       "      <td>16.000000</td>\n",
       "      <td>42.300000</td>\n",
       "      <td>8.000000</td>\n",
       "      <td>12.000000</td>\n",
       "      <td>2.000000</td>\n",
       "      <td>37273.000000</td>\n",
       "      <td>16293.000000</td>\n",
       "      <td>1.000000</td>\n",
       "      <td>612.000000</td>\n",
       "      <td>1.000000</td>\n",
       "      <td>729.000000</td>\n",
       "      <td>232.000000</td>\n",
       "    </tr>\n",
       "    <tr>\n",
       "      <th>max</th>\n",
       "      <td>50.000000</td>\n",
       "      <td>7.630000e+08</td>\n",
       "      <td>900.000000</td>\n",
       "      <td>19.000000</td>\n",
       "      <td>100.000000</td>\n",
       "      <td>60.000000</td>\n",
       "      <td>409.700000</td>\n",
       "      <td>33.000000</td>\n",
       "      <td>112.000000</td>\n",
       "      <td>5.000000</td>\n",
       "      <td>84869.000000</td>\n",
       "      <td>65968.000000</td>\n",
       "      <td>3.000000</td>\n",
       "      <td>3190.000000</td>\n",
       "      <td>3.000000</td>\n",
       "      <td>1344.000000</td>\n",
       "      <td>1580.000000</td>\n",
       "    </tr>\n",
       "  </tbody>\n",
       "</table>\n",
       "</div>"
      ],
      "text/plain": [
       "       total_images    last_price    total_area         rooms  ceiling_height  \\\n",
       "count  23699.000000  2.369900e+04  23699.000000  23699.000000    14504.000000   \n",
       "mean       9.858475  6.541549e+06     60.348651      2.070636        2.771499   \n",
       "std        5.682529  1.088701e+07     35.654083      1.078405        1.261056   \n",
       "min        0.000000  1.219000e+04     12.000000      0.000000        1.000000   \n",
       "25%        6.000000  3.400000e+06     40.000000      1.000000        2.520000   \n",
       "50%        9.000000  4.650000e+06     52.000000      2.000000        2.650000   \n",
       "75%       14.000000  6.800000e+06     69.900000      3.000000        2.800000   \n",
       "max       50.000000  7.630000e+08    900.000000     19.000000      100.000000   \n",
       "\n",
       "       floors_total   living_area         floor  kitchen_area       balcony  \\\n",
       "count  23613.000000  21796.000000  23699.000000  21421.000000  12180.000000   \n",
       "mean      10.673824     34.457852      5.892358     10.569807      1.150082   \n",
       "std        6.597173     22.030445      4.885249      5.905438      1.071300   \n",
       "min        1.000000      2.000000      1.000000      1.300000      0.000000   \n",
       "25%        5.000000     18.600000      2.000000      7.000000      0.000000   \n",
       "50%        9.000000     30.000000      4.000000      9.100000      1.000000   \n",
       "75%       16.000000     42.300000      8.000000     12.000000      2.000000   \n",
       "max       60.000000    409.700000     33.000000    112.000000      5.000000   \n",
       "\n",
       "       airports_nearest  cityCenters_nearest  parks_around3000  parks_nearest  \\\n",
       "count      18157.000000         18180.000000      18181.000000    8079.000000   \n",
       "mean       28793.672193         14191.277833          0.611408     490.804555   \n",
       "std        12630.880622          8608.386210          0.802074     342.317995   \n",
       "min            0.000000           181.000000          0.000000       1.000000   \n",
       "25%        18585.000000          9238.000000          0.000000     288.000000   \n",
       "50%        26726.000000         13098.500000          0.000000     455.000000   \n",
       "75%        37273.000000         16293.000000          1.000000     612.000000   \n",
       "max        84869.000000         65968.000000          3.000000    3190.000000   \n",
       "\n",
       "       ponds_around3000  ponds_nearest  days_exposition  \n",
       "count      18181.000000    9110.000000     20518.000000  \n",
       "mean           0.770255     517.980900       180.888634  \n",
       "std            0.938346     277.720643       219.727988  \n",
       "min            0.000000      13.000000         1.000000  \n",
       "25%            0.000000     294.000000        45.000000  \n",
       "50%            1.000000     502.000000        95.000000  \n",
       "75%            1.000000     729.000000       232.000000  \n",
       "max            3.000000    1344.000000      1580.000000  "
      ]
     },
     "execution_count": 3,
     "metadata": {},
     "output_type": "execute_result"
    }
   ],
   "source": [
    "df.describe() # список характерных значений"
   ]
  },
  {
   "cell_type": "markdown",
   "metadata": {},
   "source": [
    "В таблице 22 столбца. Типы данных в столбцах разные — `object`, `int`, `float`, `bool`.\n",
    "\n",
    "Согласно документации к данным:\n",
    "* `airports_nearest` — расстояние до ближайшего аэропорта в метрах (м)\n",
    "* `balcony` — число балконов\n",
    "* `ceiling_height` — высота потолков (м)\n",
    "* `cityCenters_nearest` — расстояние до центра города (м)\n",
    "* `days_exposition` — сколько дней было размещено объявление (от публикации до снятия)\n",
    "* `first_day_exposition` — дата публикации\n",
    "* `floor` — этаж\n",
    "* `floors_total` — всего этажей в доме\n",
    "* `is_apartment` — апартаменты (булев тип)\n",
    "* `kitchen_area` — площадь кухни в квадратных метрах (м²)\n",
    "* `last_price` — цена на момент снятия с публикации\n",
    "* `living_area` — жилая площадь в квадратных метрах (м²)\n",
    "* `locality_name` — название населённого пункта\n",
    "* `open_plan` — свободная планировка (булев тип)\n",
    "* `parks_around3000` — число парков в радиусе 3 км\n",
    "* `parks_nearest` — расстояние до ближайшего парка (м)\n",
    "* `ponds_around3000` — число водоёмов в радиусе 3 км\n",
    "* `ponds_nearest` — расстояние до ближайшего водоёма (м)\n",
    "* `rooms` — число комнат\n",
    "* `studio` — квартира-студия (булев тип)\n",
    "* `total_area` — площадь квартиры в квадратных метрах (м²)\n",
    "* `total_images` — число фотографий квартиры в объявлении"
   ]
  },
  {
   "cell_type": "markdown",
   "metadata": {},
   "source": [
    "### Вывод"
   ]
  },
  {
   "cell_type": "markdown",
   "metadata": {},
   "source": [
    "В каждой строке таблицы — данные о продаже квартир. В данных встречаются пропуски, а также другие аномалии.\n",
    "Чтобы двигаться дальше, нужно устранить проблемы в данных."
   ]
  },
  {
   "cell_type": "markdown",
   "metadata": {},
   "source": [
    "## Предобработка данных"
   ]
  },
  {
   "cell_type": "markdown",
   "metadata": {},
   "source": [
    "### Поиск и работа с пропущенными значениями"
   ]
  },
  {
   "cell_type": "markdown",
   "metadata": {},
   "source": [
    "На этом этапе необходимо обработать пропущенные значения в данных, а также другие аномалии.\n",
    "\n",
    "Проверим все столбцы методом `value_counts()` на уникальные значения. Среди всех столбцов выделим те, где можно заметить аномалии."
   ]
  },
  {
   "cell_type": "code",
   "execution_count": 4,
   "metadata": {},
   "outputs": [
    {
     "data": {
      "text/plain": [
       "1     8047\n",
       "2     7940\n",
       "3     5814\n",
       "4     1180\n",
       "5      326\n",
       "0      197\n",
       "6      105\n",
       "7       59\n",
       "8       12\n",
       "9        8\n",
       "10       3\n",
       "11       2\n",
       "14       2\n",
       "15       1\n",
       "19       1\n",
       "16       1\n",
       "12       1\n",
       "Name: rooms, dtype: int64"
      ]
     },
     "execution_count": 4,
     "metadata": {},
     "output_type": "execute_result"
    }
   ],
   "source": [
    "df['rooms'].value_counts() # количество уникальных значений в столбце "
   ]
  },
  {
   "cell_type": "code",
   "execution_count": 5,
   "metadata": {},
   "outputs": [
    {
     "data": {
      "text/html": [
       "<div>\n",
       "<style scoped>\n",
       "    .dataframe tbody tr th:only-of-type {\n",
       "        vertical-align: middle;\n",
       "    }\n",
       "\n",
       "    .dataframe tbody tr th {\n",
       "        vertical-align: top;\n",
       "    }\n",
       "\n",
       "    .dataframe thead th {\n",
       "        text-align: right;\n",
       "    }\n",
       "</style>\n",
       "<table border=\"1\" class=\"dataframe\">\n",
       "  <thead>\n",
       "    <tr style=\"text-align: right;\">\n",
       "      <th></th>\n",
       "      <th>total_images</th>\n",
       "      <th>last_price</th>\n",
       "      <th>total_area</th>\n",
       "      <th>first_day_exposition</th>\n",
       "      <th>rooms</th>\n",
       "      <th>ceiling_height</th>\n",
       "      <th>floors_total</th>\n",
       "      <th>living_area</th>\n",
       "      <th>floor</th>\n",
       "      <th>is_apartment</th>\n",
       "      <th>...</th>\n",
       "      <th>kitchen_area</th>\n",
       "      <th>balcony</th>\n",
       "      <th>locality_name</th>\n",
       "      <th>airports_nearest</th>\n",
       "      <th>cityCenters_nearest</th>\n",
       "      <th>parks_around3000</th>\n",
       "      <th>parks_nearest</th>\n",
       "      <th>ponds_around3000</th>\n",
       "      <th>ponds_nearest</th>\n",
       "      <th>days_exposition</th>\n",
       "    </tr>\n",
       "  </thead>\n",
       "  <tbody>\n",
       "    <tr>\n",
       "      <th>144</th>\n",
       "      <td>1</td>\n",
       "      <td>2450000.0</td>\n",
       "      <td>27.00</td>\n",
       "      <td>2017-03-30T00:00:00</td>\n",
       "      <td>0</td>\n",
       "      <td>NaN</td>\n",
       "      <td>24.0</td>\n",
       "      <td>15.50</td>\n",
       "      <td>2</td>\n",
       "      <td>NaN</td>\n",
       "      <td>...</td>\n",
       "      <td>NaN</td>\n",
       "      <td>2.0</td>\n",
       "      <td>посёлок Мурино</td>\n",
       "      <td>NaN</td>\n",
       "      <td>NaN</td>\n",
       "      <td>NaN</td>\n",
       "      <td>NaN</td>\n",
       "      <td>NaN</td>\n",
       "      <td>NaN</td>\n",
       "      <td>181.0</td>\n",
       "    </tr>\n",
       "    <tr>\n",
       "      <th>349</th>\n",
       "      <td>4</td>\n",
       "      <td>2320000.0</td>\n",
       "      <td>25.00</td>\n",
       "      <td>2017-09-27T00:00:00</td>\n",
       "      <td>0</td>\n",
       "      <td>NaN</td>\n",
       "      <td>14.0</td>\n",
       "      <td>17.00</td>\n",
       "      <td>1</td>\n",
       "      <td>NaN</td>\n",
       "      <td>...</td>\n",
       "      <td>NaN</td>\n",
       "      <td>0.0</td>\n",
       "      <td>деревня Кудрово</td>\n",
       "      <td>NaN</td>\n",
       "      <td>NaN</td>\n",
       "      <td>NaN</td>\n",
       "      <td>NaN</td>\n",
       "      <td>NaN</td>\n",
       "      <td>NaN</td>\n",
       "      <td>45.0</td>\n",
       "    </tr>\n",
       "    <tr>\n",
       "      <th>440</th>\n",
       "      <td>8</td>\n",
       "      <td>2480000.0</td>\n",
       "      <td>27.11</td>\n",
       "      <td>2018-03-12T00:00:00</td>\n",
       "      <td>0</td>\n",
       "      <td>NaN</td>\n",
       "      <td>17.0</td>\n",
       "      <td>24.75</td>\n",
       "      <td>4</td>\n",
       "      <td>NaN</td>\n",
       "      <td>...</td>\n",
       "      <td>NaN</td>\n",
       "      <td>2.0</td>\n",
       "      <td>Санкт-Петербург</td>\n",
       "      <td>38171.0</td>\n",
       "      <td>15015.0</td>\n",
       "      <td>0.0</td>\n",
       "      <td>NaN</td>\n",
       "      <td>2.0</td>\n",
       "      <td>982.0</td>\n",
       "      <td>64.0</td>\n",
       "    </tr>\n",
       "    <tr>\n",
       "      <th>508</th>\n",
       "      <td>0</td>\n",
       "      <td>3375000.0</td>\n",
       "      <td>34.40</td>\n",
       "      <td>2017-03-28T00:00:00</td>\n",
       "      <td>0</td>\n",
       "      <td>NaN</td>\n",
       "      <td>26.0</td>\n",
       "      <td>24.30</td>\n",
       "      <td>19</td>\n",
       "      <td>NaN</td>\n",
       "      <td>...</td>\n",
       "      <td>NaN</td>\n",
       "      <td>1.0</td>\n",
       "      <td>посёлок Парголово</td>\n",
       "      <td>53115.0</td>\n",
       "      <td>19292.0</td>\n",
       "      <td>0.0</td>\n",
       "      <td>NaN</td>\n",
       "      <td>1.0</td>\n",
       "      <td>593.0</td>\n",
       "      <td>430.0</td>\n",
       "    </tr>\n",
       "    <tr>\n",
       "      <th>608</th>\n",
       "      <td>2</td>\n",
       "      <td>1850000.0</td>\n",
       "      <td>25.00</td>\n",
       "      <td>2019-02-20T00:00:00</td>\n",
       "      <td>0</td>\n",
       "      <td>NaN</td>\n",
       "      <td>10.0</td>\n",
       "      <td>NaN</td>\n",
       "      <td>7</td>\n",
       "      <td>NaN</td>\n",
       "      <td>...</td>\n",
       "      <td>NaN</td>\n",
       "      <td>NaN</td>\n",
       "      <td>посёлок Шушары</td>\n",
       "      <td>NaN</td>\n",
       "      <td>NaN</td>\n",
       "      <td>NaN</td>\n",
       "      <td>NaN</td>\n",
       "      <td>NaN</td>\n",
       "      <td>NaN</td>\n",
       "      <td>29.0</td>\n",
       "    </tr>\n",
       "    <tr>\n",
       "      <th>...</th>\n",
       "      <td>...</td>\n",
       "      <td>...</td>\n",
       "      <td>...</td>\n",
       "      <td>...</td>\n",
       "      <td>...</td>\n",
       "      <td>...</td>\n",
       "      <td>...</td>\n",
       "      <td>...</td>\n",
       "      <td>...</td>\n",
       "      <td>...</td>\n",
       "      <td>...</td>\n",
       "      <td>...</td>\n",
       "      <td>...</td>\n",
       "      <td>...</td>\n",
       "      <td>...</td>\n",
       "      <td>...</td>\n",
       "      <td>...</td>\n",
       "      <td>...</td>\n",
       "      <td>...</td>\n",
       "      <td>...</td>\n",
       "      <td>...</td>\n",
       "    </tr>\n",
       "    <tr>\n",
       "      <th>23210</th>\n",
       "      <td>7</td>\n",
       "      <td>3200000.0</td>\n",
       "      <td>26.00</td>\n",
       "      <td>2017-09-01T00:00:00</td>\n",
       "      <td>0</td>\n",
       "      <td>NaN</td>\n",
       "      <td>25.0</td>\n",
       "      <td>18.00</td>\n",
       "      <td>16</td>\n",
       "      <td>NaN</td>\n",
       "      <td>...</td>\n",
       "      <td>NaN</td>\n",
       "      <td>0.0</td>\n",
       "      <td>Санкт-Петербург</td>\n",
       "      <td>11405.0</td>\n",
       "      <td>13222.0</td>\n",
       "      <td>0.0</td>\n",
       "      <td>NaN</td>\n",
       "      <td>1.0</td>\n",
       "      <td>623.0</td>\n",
       "      <td>14.0</td>\n",
       "    </tr>\n",
       "    <tr>\n",
       "      <th>23442</th>\n",
       "      <td>0</td>\n",
       "      <td>2500000.0</td>\n",
       "      <td>27.70</td>\n",
       "      <td>2017-09-28T00:00:00</td>\n",
       "      <td>0</td>\n",
       "      <td>NaN</td>\n",
       "      <td>24.0</td>\n",
       "      <td>18.00</td>\n",
       "      <td>4</td>\n",
       "      <td>NaN</td>\n",
       "      <td>...</td>\n",
       "      <td>NaN</td>\n",
       "      <td>2.0</td>\n",
       "      <td>посёлок Мурино</td>\n",
       "      <td>NaN</td>\n",
       "      <td>NaN</td>\n",
       "      <td>NaN</td>\n",
       "      <td>NaN</td>\n",
       "      <td>NaN</td>\n",
       "      <td>NaN</td>\n",
       "      <td>4.0</td>\n",
       "    </tr>\n",
       "    <tr>\n",
       "      <th>23554</th>\n",
       "      <td>15</td>\n",
       "      <td>3350000.0</td>\n",
       "      <td>26.00</td>\n",
       "      <td>2018-09-07T00:00:00</td>\n",
       "      <td>0</td>\n",
       "      <td>NaN</td>\n",
       "      <td>19.0</td>\n",
       "      <td>NaN</td>\n",
       "      <td>8</td>\n",
       "      <td>NaN</td>\n",
       "      <td>...</td>\n",
       "      <td>NaN</td>\n",
       "      <td>NaN</td>\n",
       "      <td>Санкт-Петербург</td>\n",
       "      <td>18090.0</td>\n",
       "      <td>17092.0</td>\n",
       "      <td>0.0</td>\n",
       "      <td>NaN</td>\n",
       "      <td>2.0</td>\n",
       "      <td>112.0</td>\n",
       "      <td>31.0</td>\n",
       "    </tr>\n",
       "    <tr>\n",
       "      <th>23592</th>\n",
       "      <td>10</td>\n",
       "      <td>1450000.0</td>\n",
       "      <td>29.00</td>\n",
       "      <td>2017-11-11T00:00:00</td>\n",
       "      <td>0</td>\n",
       "      <td>NaN</td>\n",
       "      <td>9.0</td>\n",
       "      <td>18.00</td>\n",
       "      <td>8</td>\n",
       "      <td>NaN</td>\n",
       "      <td>...</td>\n",
       "      <td>NaN</td>\n",
       "      <td>2.0</td>\n",
       "      <td>Никольское</td>\n",
       "      <td>NaN</td>\n",
       "      <td>NaN</td>\n",
       "      <td>NaN</td>\n",
       "      <td>NaN</td>\n",
       "      <td>NaN</td>\n",
       "      <td>NaN</td>\n",
       "      <td>82.0</td>\n",
       "    </tr>\n",
       "    <tr>\n",
       "      <th>23637</th>\n",
       "      <td>8</td>\n",
       "      <td>2350000.0</td>\n",
       "      <td>26.00</td>\n",
       "      <td>2018-06-26T00:00:00</td>\n",
       "      <td>0</td>\n",
       "      <td>NaN</td>\n",
       "      <td>25.0</td>\n",
       "      <td>17.00</td>\n",
       "      <td>4</td>\n",
       "      <td>NaN</td>\n",
       "      <td>...</td>\n",
       "      <td>NaN</td>\n",
       "      <td>2.0</td>\n",
       "      <td>посёлок Бугры</td>\n",
       "      <td>NaN</td>\n",
       "      <td>NaN</td>\n",
       "      <td>NaN</td>\n",
       "      <td>NaN</td>\n",
       "      <td>NaN</td>\n",
       "      <td>NaN</td>\n",
       "      <td>207.0</td>\n",
       "    </tr>\n",
       "  </tbody>\n",
       "</table>\n",
       "<p>197 rows × 22 columns</p>\n",
       "</div>"
      ],
      "text/plain": [
       "       total_images  last_price  total_area first_day_exposition  rooms  \\\n",
       "144               1   2450000.0       27.00  2017-03-30T00:00:00      0   \n",
       "349               4   2320000.0       25.00  2017-09-27T00:00:00      0   \n",
       "440               8   2480000.0       27.11  2018-03-12T00:00:00      0   \n",
       "508               0   3375000.0       34.40  2017-03-28T00:00:00      0   \n",
       "608               2   1850000.0       25.00  2019-02-20T00:00:00      0   \n",
       "...             ...         ...         ...                  ...    ...   \n",
       "23210             7   3200000.0       26.00  2017-09-01T00:00:00      0   \n",
       "23442             0   2500000.0       27.70  2017-09-28T00:00:00      0   \n",
       "23554            15   3350000.0       26.00  2018-09-07T00:00:00      0   \n",
       "23592            10   1450000.0       29.00  2017-11-11T00:00:00      0   \n",
       "23637             8   2350000.0       26.00  2018-06-26T00:00:00      0   \n",
       "\n",
       "       ceiling_height  floors_total  living_area  floor is_apartment  ...  \\\n",
       "144               NaN          24.0        15.50      2          NaN  ...   \n",
       "349               NaN          14.0        17.00      1          NaN  ...   \n",
       "440               NaN          17.0        24.75      4          NaN  ...   \n",
       "508               NaN          26.0        24.30     19          NaN  ...   \n",
       "608               NaN          10.0          NaN      7          NaN  ...   \n",
       "...               ...           ...          ...    ...          ...  ...   \n",
       "23210             NaN          25.0        18.00     16          NaN  ...   \n",
       "23442             NaN          24.0        18.00      4          NaN  ...   \n",
       "23554             NaN          19.0          NaN      8          NaN  ...   \n",
       "23592             NaN           9.0        18.00      8          NaN  ...   \n",
       "23637             NaN          25.0        17.00      4          NaN  ...   \n",
       "\n",
       "       kitchen_area  balcony      locality_name  airports_nearest  \\\n",
       "144             NaN      2.0     посёлок Мурино               NaN   \n",
       "349             NaN      0.0    деревня Кудрово               NaN   \n",
       "440             NaN      2.0    Санкт-Петербург           38171.0   \n",
       "508             NaN      1.0  посёлок Парголово           53115.0   \n",
       "608             NaN      NaN     посёлок Шушары               NaN   \n",
       "...             ...      ...                ...               ...   \n",
       "23210           NaN      0.0    Санкт-Петербург           11405.0   \n",
       "23442           NaN      2.0     посёлок Мурино               NaN   \n",
       "23554           NaN      NaN    Санкт-Петербург           18090.0   \n",
       "23592           NaN      2.0         Никольское               NaN   \n",
       "23637           NaN      2.0      посёлок Бугры               NaN   \n",
       "\n",
       "      cityCenters_nearest  parks_around3000  parks_nearest  ponds_around3000  \\\n",
       "144                   NaN               NaN            NaN               NaN   \n",
       "349                   NaN               NaN            NaN               NaN   \n",
       "440               15015.0               0.0            NaN               2.0   \n",
       "508               19292.0               0.0            NaN               1.0   \n",
       "608                   NaN               NaN            NaN               NaN   \n",
       "...                   ...               ...            ...               ...   \n",
       "23210             13222.0               0.0            NaN               1.0   \n",
       "23442                 NaN               NaN            NaN               NaN   \n",
       "23554             17092.0               0.0            NaN               2.0   \n",
       "23592                 NaN               NaN            NaN               NaN   \n",
       "23637                 NaN               NaN            NaN               NaN   \n",
       "\n",
       "       ponds_nearest  days_exposition  \n",
       "144              NaN            181.0  \n",
       "349              NaN             45.0  \n",
       "440            982.0             64.0  \n",
       "508            593.0            430.0  \n",
       "608              NaN             29.0  \n",
       "...              ...              ...  \n",
       "23210          623.0             14.0  \n",
       "23442            NaN              4.0  \n",
       "23554          112.0             31.0  \n",
       "23592            NaN             82.0  \n",
       "23637            NaN            207.0  \n",
       "\n",
       "[197 rows x 22 columns]"
      ]
     },
     "execution_count": 5,
     "metadata": {},
     "output_type": "execute_result"
    }
   ],
   "source": [
    "df[df['rooms'] == 0]"
   ]
  },
  {
   "cell_type": "markdown",
   "metadata": {},
   "source": [
    "В столбце `rooms` есть 197 значений 0. Скорее всего, посмотрев на столбцы `total_area` и `living_area` можно предположить, что это могут быть студии. Оставим столбцы без изменения."
   ]
  },
  {
   "cell_type": "markdown",
   "metadata": {},
   "source": [
    "В столбце `ceiling_height` были пропущены значения. Проверим долю пропущенных значений от общего количества."
   ]
  },
  {
   "cell_type": "code",
   "execution_count": 6,
   "metadata": {},
   "outputs": [
    {
     "data": {
      "text/html": [
       "<div>\n",
       "<style scoped>\n",
       "    .dataframe tbody tr th:only-of-type {\n",
       "        vertical-align: middle;\n",
       "    }\n",
       "\n",
       "    .dataframe tbody tr th {\n",
       "        vertical-align: top;\n",
       "    }\n",
       "\n",
       "    .dataframe thead th {\n",
       "        text-align: right;\n",
       "    }\n",
       "</style>\n",
       "<table border=\"1\" class=\"dataframe\">\n",
       "  <thead>\n",
       "    <tr style=\"text-align: right;\">\n",
       "      <th></th>\n",
       "      <th>total_images</th>\n",
       "      <th>last_price</th>\n",
       "      <th>total_area</th>\n",
       "      <th>first_day_exposition</th>\n",
       "      <th>rooms</th>\n",
       "      <th>ceiling_height</th>\n",
       "      <th>floors_total</th>\n",
       "      <th>living_area</th>\n",
       "      <th>floor</th>\n",
       "      <th>is_apartment</th>\n",
       "      <th>...</th>\n",
       "      <th>kitchen_area</th>\n",
       "      <th>balcony</th>\n",
       "      <th>locality_name</th>\n",
       "      <th>airports_nearest</th>\n",
       "      <th>cityCenters_nearest</th>\n",
       "      <th>parks_around3000</th>\n",
       "      <th>parks_nearest</th>\n",
       "      <th>ponds_around3000</th>\n",
       "      <th>ponds_nearest</th>\n",
       "      <th>days_exposition</th>\n",
       "    </tr>\n",
       "  </thead>\n",
       "  <tbody>\n",
       "    <tr>\n",
       "      <th>1</th>\n",
       "      <td>7</td>\n",
       "      <td>3350000.0</td>\n",
       "      <td>40.4</td>\n",
       "      <td>2018-12-04T00:00:00</td>\n",
       "      <td>1</td>\n",
       "      <td>NaN</td>\n",
       "      <td>11.0</td>\n",
       "      <td>18.6</td>\n",
       "      <td>1</td>\n",
       "      <td>NaN</td>\n",
       "      <td>...</td>\n",
       "      <td>11.0</td>\n",
       "      <td>2.0</td>\n",
       "      <td>посёлок Шушары</td>\n",
       "      <td>12817.0</td>\n",
       "      <td>18603.0</td>\n",
       "      <td>0.0</td>\n",
       "      <td>NaN</td>\n",
       "      <td>0.0</td>\n",
       "      <td>NaN</td>\n",
       "      <td>81.0</td>\n",
       "    </tr>\n",
       "    <tr>\n",
       "      <th>2</th>\n",
       "      <td>10</td>\n",
       "      <td>5196000.0</td>\n",
       "      <td>56.0</td>\n",
       "      <td>2015-08-20T00:00:00</td>\n",
       "      <td>2</td>\n",
       "      <td>NaN</td>\n",
       "      <td>5.0</td>\n",
       "      <td>34.3</td>\n",
       "      <td>4</td>\n",
       "      <td>NaN</td>\n",
       "      <td>...</td>\n",
       "      <td>8.3</td>\n",
       "      <td>0.0</td>\n",
       "      <td>Санкт-Петербург</td>\n",
       "      <td>21741.0</td>\n",
       "      <td>13933.0</td>\n",
       "      <td>1.0</td>\n",
       "      <td>90.0</td>\n",
       "      <td>2.0</td>\n",
       "      <td>574.0</td>\n",
       "      <td>558.0</td>\n",
       "    </tr>\n",
       "    <tr>\n",
       "      <th>3</th>\n",
       "      <td>0</td>\n",
       "      <td>64900000.0</td>\n",
       "      <td>159.0</td>\n",
       "      <td>2015-07-24T00:00:00</td>\n",
       "      <td>3</td>\n",
       "      <td>NaN</td>\n",
       "      <td>14.0</td>\n",
       "      <td>NaN</td>\n",
       "      <td>9</td>\n",
       "      <td>NaN</td>\n",
       "      <td>...</td>\n",
       "      <td>NaN</td>\n",
       "      <td>0.0</td>\n",
       "      <td>Санкт-Петербург</td>\n",
       "      <td>28098.0</td>\n",
       "      <td>6800.0</td>\n",
       "      <td>2.0</td>\n",
       "      <td>84.0</td>\n",
       "      <td>3.0</td>\n",
       "      <td>234.0</td>\n",
       "      <td>424.0</td>\n",
       "    </tr>\n",
       "    <tr>\n",
       "      <th>5</th>\n",
       "      <td>10</td>\n",
       "      <td>2890000.0</td>\n",
       "      <td>30.4</td>\n",
       "      <td>2018-09-10T00:00:00</td>\n",
       "      <td>1</td>\n",
       "      <td>NaN</td>\n",
       "      <td>12.0</td>\n",
       "      <td>14.4</td>\n",
       "      <td>5</td>\n",
       "      <td>NaN</td>\n",
       "      <td>...</td>\n",
       "      <td>9.1</td>\n",
       "      <td>NaN</td>\n",
       "      <td>городской посёлок Янино-1</td>\n",
       "      <td>NaN</td>\n",
       "      <td>NaN</td>\n",
       "      <td>NaN</td>\n",
       "      <td>NaN</td>\n",
       "      <td>NaN</td>\n",
       "      <td>NaN</td>\n",
       "      <td>55.0</td>\n",
       "    </tr>\n",
       "    <tr>\n",
       "      <th>6</th>\n",
       "      <td>6</td>\n",
       "      <td>3700000.0</td>\n",
       "      <td>37.3</td>\n",
       "      <td>2017-11-02T00:00:00</td>\n",
       "      <td>1</td>\n",
       "      <td>NaN</td>\n",
       "      <td>26.0</td>\n",
       "      <td>10.6</td>\n",
       "      <td>6</td>\n",
       "      <td>NaN</td>\n",
       "      <td>...</td>\n",
       "      <td>14.4</td>\n",
       "      <td>1.0</td>\n",
       "      <td>посёлок Парголово</td>\n",
       "      <td>52996.0</td>\n",
       "      <td>19143.0</td>\n",
       "      <td>0.0</td>\n",
       "      <td>NaN</td>\n",
       "      <td>0.0</td>\n",
       "      <td>NaN</td>\n",
       "      <td>155.0</td>\n",
       "    </tr>\n",
       "  </tbody>\n",
       "</table>\n",
       "<p>5 rows × 22 columns</p>\n",
       "</div>"
      ],
      "text/plain": [
       "   total_images  last_price  total_area first_day_exposition  rooms  \\\n",
       "1             7   3350000.0        40.4  2018-12-04T00:00:00      1   \n",
       "2            10   5196000.0        56.0  2015-08-20T00:00:00      2   \n",
       "3             0  64900000.0       159.0  2015-07-24T00:00:00      3   \n",
       "5            10   2890000.0        30.4  2018-09-10T00:00:00      1   \n",
       "6             6   3700000.0        37.3  2017-11-02T00:00:00      1   \n",
       "\n",
       "   ceiling_height  floors_total  living_area  floor is_apartment  ...  \\\n",
       "1             NaN          11.0         18.6      1          NaN  ...   \n",
       "2             NaN           5.0         34.3      4          NaN  ...   \n",
       "3             NaN          14.0          NaN      9          NaN  ...   \n",
       "5             NaN          12.0         14.4      5          NaN  ...   \n",
       "6             NaN          26.0         10.6      6          NaN  ...   \n",
       "\n",
       "   kitchen_area  balcony              locality_name  airports_nearest  \\\n",
       "1          11.0      2.0             посёлок Шушары           12817.0   \n",
       "2           8.3      0.0            Санкт-Петербург           21741.0   \n",
       "3           NaN      0.0            Санкт-Петербург           28098.0   \n",
       "5           9.1      NaN  городской посёлок Янино-1               NaN   \n",
       "6          14.4      1.0          посёлок Парголово           52996.0   \n",
       "\n",
       "  cityCenters_nearest  parks_around3000  parks_nearest  ponds_around3000  \\\n",
       "1             18603.0               0.0            NaN               0.0   \n",
       "2             13933.0               1.0           90.0               2.0   \n",
       "3              6800.0               2.0           84.0               3.0   \n",
       "5                 NaN               NaN            NaN               NaN   \n",
       "6             19143.0               0.0            NaN               0.0   \n",
       "\n",
       "   ponds_nearest  days_exposition  \n",
       "1            NaN             81.0  \n",
       "2          574.0            558.0  \n",
       "3          234.0            424.0  \n",
       "5            NaN             55.0  \n",
       "6            NaN            155.0  \n",
       "\n",
       "[5 rows x 22 columns]"
      ]
     },
     "metadata": {},
     "output_type": "display_data"
    },
    {
     "data": {
      "text/plain": [
       "0.38799105447487237"
      ]
     },
     "execution_count": 6,
     "metadata": {},
     "output_type": "execute_result"
    }
   ],
   "source": [
    "display(df[df['ceiling_height'].isna()].head(5)) # вывод 5 строк таблицы с пропущенными значениями в столбце ceiling_height\n",
    "df['ceiling_height'].isna().mean() # доля пропущенных значений в ceiling_height"
   ]
  },
  {
   "cell_type": "markdown",
   "metadata": {},
   "source": [
    "Видно, что пропущено 38% значений. Необходимо их заменить. Из метода `describe()` минимальное и максимальное значения различаются в два порядка. Медиана менее чувствительна к выбросам, чем среднее арифметическое, поэтому пропущенные значения заполним медианными, причем `rooms` можно учесть при вычислении медианы."
   ]
  },
  {
   "cell_type": "code",
   "execution_count": 7,
   "metadata": {},
   "outputs": [],
   "source": [
    "df['ceiling_height'] = df['ceiling_height'].fillna(df.groupby('rooms')['ceiling_height'].transform('median')) # заполнение пропусков в ceiling_height по группам в rooms"
   ]
  },
  {
   "cell_type": "markdown",
   "metadata": {},
   "source": [
    "Также необходимо заменить аномалии в значениях. Высота потолков менее 2 м и более 5 м выглядят странно. Посчитаем количество тах значений."
   ]
  },
  {
   "cell_type": "code",
   "execution_count": 8,
   "metadata": {},
   "outputs": [
    {
     "name": "stdout",
     "output_type": "stream",
     "text": [
      "37\n"
     ]
    },
    {
     "data": {
      "text/plain": [
       "3"
      ]
     },
     "execution_count": 8,
     "metadata": {},
     "output_type": "execute_result"
    }
   ],
   "source": [
    "print(len(df[df['ceiling_height'] >= 5])) # количество значений в столбце ceiling_height с условием >= 5\n",
    "len(df[df['ceiling_height'] < 2]) # количество значений в столбце ceiling_height с условием < 2"
   ]
  },
  {
   "cell_type": "markdown",
   "metadata": {},
   "source": [
    "Значений оказалось 3 и 37, соответственно. Их замена незначительно повлияет на результат, но все равно заменим эти значения на медианные."
   ]
  },
  {
   "cell_type": "code",
   "execution_count": 9,
   "metadata": {},
   "outputs": [],
   "source": [
    "ceiling_height_median = df['ceiling_height'].median() # среднее значение \n",
    "df.loc[df['ceiling_height'] >= 5, 'ceiling_height'] = ceiling_height_median #замена значений на среднее\n",
    "df.loc[df['ceiling_height'] < 2, 'ceiling_height'] = ceiling_height_median #замена значений на среднее"
   ]
  },
  {
   "cell_type": "markdown",
   "metadata": {},
   "source": [
    "Посчитаем долю пропущенных значений в столбце `floors_total`."
   ]
  },
  {
   "cell_type": "code",
   "execution_count": 10,
   "metadata": {},
   "outputs": [
    {
     "data": {
      "text/plain": [
       "0.0036288450989493226"
      ]
     },
     "execution_count": 10,
     "metadata": {},
     "output_type": "execute_result"
    }
   ],
   "source": [
    "df['floors_total'].isna().mean() # доля пропущенных значений в floors_total"
   ]
  },
  {
   "cell_type": "markdown",
   "metadata": {},
   "source": [
    "0.3% - незначительное количество пропусков. Удалим строки, где значения `floors_total` пропущены."
   ]
  },
  {
   "cell_type": "code",
   "execution_count": 11,
   "metadata": {},
   "outputs": [],
   "source": [
    "df = df.dropna(subset=['floors_total']) # удаление пропущенных строк, где floors_total пропущено"
   ]
  },
  {
   "cell_type": "markdown",
   "metadata": {},
   "source": [
    "В столбце `living_area` пропущены значения. Проверим долю пропущенных значений от общего количества."
   ]
  },
  {
   "cell_type": "code",
   "execution_count": 12,
   "metadata": {},
   "outputs": [
    {
     "name": "stdout",
     "output_type": "stream",
     "text": [
      "0.07919366450683946\n"
     ]
    },
    {
     "data": {
      "text/html": [
       "<div>\n",
       "<style scoped>\n",
       "    .dataframe tbody tr th:only-of-type {\n",
       "        vertical-align: middle;\n",
       "    }\n",
       "\n",
       "    .dataframe tbody tr th {\n",
       "        vertical-align: top;\n",
       "    }\n",
       "\n",
       "    .dataframe thead th {\n",
       "        text-align: right;\n",
       "    }\n",
       "</style>\n",
       "<table border=\"1\" class=\"dataframe\">\n",
       "  <thead>\n",
       "    <tr style=\"text-align: right;\">\n",
       "      <th></th>\n",
       "      <th>total_images</th>\n",
       "      <th>last_price</th>\n",
       "      <th>total_area</th>\n",
       "      <th>first_day_exposition</th>\n",
       "      <th>rooms</th>\n",
       "      <th>ceiling_height</th>\n",
       "      <th>floors_total</th>\n",
       "      <th>living_area</th>\n",
       "      <th>floor</th>\n",
       "      <th>is_apartment</th>\n",
       "      <th>...</th>\n",
       "      <th>kitchen_area</th>\n",
       "      <th>balcony</th>\n",
       "      <th>locality_name</th>\n",
       "      <th>airports_nearest</th>\n",
       "      <th>cityCenters_nearest</th>\n",
       "      <th>parks_around3000</th>\n",
       "      <th>parks_nearest</th>\n",
       "      <th>ponds_around3000</th>\n",
       "      <th>ponds_nearest</th>\n",
       "      <th>days_exposition</th>\n",
       "    </tr>\n",
       "  </thead>\n",
       "  <tbody>\n",
       "    <tr>\n",
       "      <th>3</th>\n",
       "      <td>0</td>\n",
       "      <td>64900000.0</td>\n",
       "      <td>159.0</td>\n",
       "      <td>2015-07-24T00:00:00</td>\n",
       "      <td>3</td>\n",
       "      <td>2.65</td>\n",
       "      <td>14.0</td>\n",
       "      <td>NaN</td>\n",
       "      <td>9</td>\n",
       "      <td>NaN</td>\n",
       "      <td>...</td>\n",
       "      <td>NaN</td>\n",
       "      <td>0.0</td>\n",
       "      <td>Санкт-Петербург</td>\n",
       "      <td>28098.0</td>\n",
       "      <td>6800.0</td>\n",
       "      <td>2.0</td>\n",
       "      <td>84.0</td>\n",
       "      <td>3.0</td>\n",
       "      <td>234.0</td>\n",
       "      <td>424.0</td>\n",
       "    </tr>\n",
       "    <tr>\n",
       "      <th>7</th>\n",
       "      <td>5</td>\n",
       "      <td>7915000.0</td>\n",
       "      <td>71.6</td>\n",
       "      <td>2019-04-18T00:00:00</td>\n",
       "      <td>2</td>\n",
       "      <td>2.60</td>\n",
       "      <td>24.0</td>\n",
       "      <td>NaN</td>\n",
       "      <td>22</td>\n",
       "      <td>NaN</td>\n",
       "      <td>...</td>\n",
       "      <td>18.9</td>\n",
       "      <td>2.0</td>\n",
       "      <td>Санкт-Петербург</td>\n",
       "      <td>23982.0</td>\n",
       "      <td>11634.0</td>\n",
       "      <td>0.0</td>\n",
       "      <td>NaN</td>\n",
       "      <td>0.0</td>\n",
       "      <td>NaN</td>\n",
       "      <td>NaN</td>\n",
       "    </tr>\n",
       "    <tr>\n",
       "      <th>30</th>\n",
       "      <td>12</td>\n",
       "      <td>2200000.0</td>\n",
       "      <td>32.8</td>\n",
       "      <td>2018-02-19T00:00:00</td>\n",
       "      <td>1</td>\n",
       "      <td>2.64</td>\n",
       "      <td>9.0</td>\n",
       "      <td>NaN</td>\n",
       "      <td>2</td>\n",
       "      <td>NaN</td>\n",
       "      <td>...</td>\n",
       "      <td>NaN</td>\n",
       "      <td>NaN</td>\n",
       "      <td>Коммунар</td>\n",
       "      <td>NaN</td>\n",
       "      <td>NaN</td>\n",
       "      <td>NaN</td>\n",
       "      <td>NaN</td>\n",
       "      <td>NaN</td>\n",
       "      <td>NaN</td>\n",
       "      <td>63.0</td>\n",
       "    </tr>\n",
       "    <tr>\n",
       "      <th>37</th>\n",
       "      <td>10</td>\n",
       "      <td>1990000.0</td>\n",
       "      <td>45.8</td>\n",
       "      <td>2017-10-28T00:00:00</td>\n",
       "      <td>2</td>\n",
       "      <td>2.50</td>\n",
       "      <td>5.0</td>\n",
       "      <td>NaN</td>\n",
       "      <td>1</td>\n",
       "      <td>NaN</td>\n",
       "      <td>...</td>\n",
       "      <td>NaN</td>\n",
       "      <td>NaN</td>\n",
       "      <td>поселок городского типа Красный Бор</td>\n",
       "      <td>NaN</td>\n",
       "      <td>NaN</td>\n",
       "      <td>NaN</td>\n",
       "      <td>NaN</td>\n",
       "      <td>NaN</td>\n",
       "      <td>NaN</td>\n",
       "      <td>196.0</td>\n",
       "    </tr>\n",
       "    <tr>\n",
       "      <th>44</th>\n",
       "      <td>13</td>\n",
       "      <td>5350000.0</td>\n",
       "      <td>40.0</td>\n",
       "      <td>2018-11-18T00:00:00</td>\n",
       "      <td>1</td>\n",
       "      <td>2.64</td>\n",
       "      <td>22.0</td>\n",
       "      <td>NaN</td>\n",
       "      <td>3</td>\n",
       "      <td>NaN</td>\n",
       "      <td>...</td>\n",
       "      <td>NaN</td>\n",
       "      <td>1.0</td>\n",
       "      <td>Санкт-Петербург</td>\n",
       "      <td>30471.0</td>\n",
       "      <td>11603.0</td>\n",
       "      <td>1.0</td>\n",
       "      <td>620.0</td>\n",
       "      <td>1.0</td>\n",
       "      <td>1152.0</td>\n",
       "      <td>NaN</td>\n",
       "    </tr>\n",
       "  </tbody>\n",
       "</table>\n",
       "<p>5 rows × 22 columns</p>\n",
       "</div>"
      ],
      "text/plain": [
       "    total_images  last_price  total_area first_day_exposition  rooms  \\\n",
       "3              0  64900000.0       159.0  2015-07-24T00:00:00      3   \n",
       "7              5   7915000.0        71.6  2019-04-18T00:00:00      2   \n",
       "30            12   2200000.0        32.8  2018-02-19T00:00:00      1   \n",
       "37            10   1990000.0        45.8  2017-10-28T00:00:00      2   \n",
       "44            13   5350000.0        40.0  2018-11-18T00:00:00      1   \n",
       "\n",
       "    ceiling_height  floors_total  living_area  floor is_apartment  ...  \\\n",
       "3             2.65          14.0          NaN      9          NaN  ...   \n",
       "7             2.60          24.0          NaN     22          NaN  ...   \n",
       "30            2.64           9.0          NaN      2          NaN  ...   \n",
       "37            2.50           5.0          NaN      1          NaN  ...   \n",
       "44            2.64          22.0          NaN      3          NaN  ...   \n",
       "\n",
       "    kitchen_area  balcony                        locality_name  \\\n",
       "3            NaN      0.0                      Санкт-Петербург   \n",
       "7           18.9      2.0                      Санкт-Петербург   \n",
       "30           NaN      NaN                             Коммунар   \n",
       "37           NaN      NaN  поселок городского типа Красный Бор   \n",
       "44           NaN      1.0                      Санкт-Петербург   \n",
       "\n",
       "    airports_nearest cityCenters_nearest  parks_around3000  parks_nearest  \\\n",
       "3            28098.0              6800.0               2.0           84.0   \n",
       "7            23982.0             11634.0               0.0            NaN   \n",
       "30               NaN                 NaN               NaN            NaN   \n",
       "37               NaN                 NaN               NaN            NaN   \n",
       "44           30471.0             11603.0               1.0          620.0   \n",
       "\n",
       "    ponds_around3000  ponds_nearest  days_exposition  \n",
       "3                3.0          234.0            424.0  \n",
       "7                0.0            NaN              NaN  \n",
       "30               NaN            NaN             63.0  \n",
       "37               NaN            NaN            196.0  \n",
       "44               1.0         1152.0              NaN  \n",
       "\n",
       "[5 rows x 22 columns]"
      ]
     },
     "metadata": {},
     "output_type": "display_data"
    }
   ],
   "source": [
    "print(df['living_area'].isna().mean()) # доля пропущенных значений в living_area\n",
    "display(df[df['living_area'].isna()].head(5)) # вывод 5 строк таблицы с пропущенными значениями в столбце living_area"
   ]
  },
  {
   "cell_type": "markdown",
   "metadata": {},
   "source": [
    "Видно, что пропущено 7% значений. Необходимо их заменить. Сделаем это аналогично заполнению в столбце `ceiling_height`."
   ]
  },
  {
   "cell_type": "code",
   "execution_count": 13,
   "metadata": {},
   "outputs": [],
   "source": [
    "df['living_area'] = df['living_area'].fillna(df.groupby('rooms')['living_area'].transform('median')) # заполнение пропусков в living_area по группам в rooms"
   ]
  },
  {
   "cell_type": "markdown",
   "metadata": {},
   "source": [
    "В столбце `kitchen_area` пропущены значения. Проверим долю пропущенных значений от общего количества."
   ]
  },
  {
   "cell_type": "code",
   "execution_count": 14,
   "metadata": {},
   "outputs": [
    {
     "name": "stdout",
     "output_type": "stream",
     "text": [
      "0.09448185321644857\n"
     ]
    },
    {
     "data": {
      "text/html": [
       "<div>\n",
       "<style scoped>\n",
       "    .dataframe tbody tr th:only-of-type {\n",
       "        vertical-align: middle;\n",
       "    }\n",
       "\n",
       "    .dataframe tbody tr th {\n",
       "        vertical-align: top;\n",
       "    }\n",
       "\n",
       "    .dataframe thead th {\n",
       "        text-align: right;\n",
       "    }\n",
       "</style>\n",
       "<table border=\"1\" class=\"dataframe\">\n",
       "  <thead>\n",
       "    <tr style=\"text-align: right;\">\n",
       "      <th></th>\n",
       "      <th>total_images</th>\n",
       "      <th>last_price</th>\n",
       "      <th>total_area</th>\n",
       "      <th>first_day_exposition</th>\n",
       "      <th>rooms</th>\n",
       "      <th>ceiling_height</th>\n",
       "      <th>floors_total</th>\n",
       "      <th>living_area</th>\n",
       "      <th>floor</th>\n",
       "      <th>is_apartment</th>\n",
       "      <th>...</th>\n",
       "      <th>kitchen_area</th>\n",
       "      <th>balcony</th>\n",
       "      <th>locality_name</th>\n",
       "      <th>airports_nearest</th>\n",
       "      <th>cityCenters_nearest</th>\n",
       "      <th>parks_around3000</th>\n",
       "      <th>parks_nearest</th>\n",
       "      <th>ponds_around3000</th>\n",
       "      <th>ponds_nearest</th>\n",
       "      <th>days_exposition</th>\n",
       "    </tr>\n",
       "  </thead>\n",
       "  <tbody>\n",
       "    <tr>\n",
       "      <th>3</th>\n",
       "      <td>0</td>\n",
       "      <td>64900000.0</td>\n",
       "      <td>159.0</td>\n",
       "      <td>2015-07-24T00:00:00</td>\n",
       "      <td>3</td>\n",
       "      <td>2.65</td>\n",
       "      <td>14.0</td>\n",
       "      <td>45.0</td>\n",
       "      <td>9</td>\n",
       "      <td>NaN</td>\n",
       "      <td>...</td>\n",
       "      <td>NaN</td>\n",
       "      <td>0.0</td>\n",
       "      <td>Санкт-Петербург</td>\n",
       "      <td>28098.0</td>\n",
       "      <td>6800.0</td>\n",
       "      <td>2.0</td>\n",
       "      <td>84.0</td>\n",
       "      <td>3.0</td>\n",
       "      <td>234.0</td>\n",
       "      <td>424.0</td>\n",
       "    </tr>\n",
       "    <tr>\n",
       "      <th>30</th>\n",
       "      <td>12</td>\n",
       "      <td>2200000.0</td>\n",
       "      <td>32.8</td>\n",
       "      <td>2018-02-19T00:00:00</td>\n",
       "      <td>1</td>\n",
       "      <td>2.64</td>\n",
       "      <td>9.0</td>\n",
       "      <td>17.6</td>\n",
       "      <td>2</td>\n",
       "      <td>NaN</td>\n",
       "      <td>...</td>\n",
       "      <td>NaN</td>\n",
       "      <td>NaN</td>\n",
       "      <td>Коммунар</td>\n",
       "      <td>NaN</td>\n",
       "      <td>NaN</td>\n",
       "      <td>NaN</td>\n",
       "      <td>NaN</td>\n",
       "      <td>NaN</td>\n",
       "      <td>NaN</td>\n",
       "      <td>63.0</td>\n",
       "    </tr>\n",
       "    <tr>\n",
       "      <th>37</th>\n",
       "      <td>10</td>\n",
       "      <td>1990000.0</td>\n",
       "      <td>45.8</td>\n",
       "      <td>2017-10-28T00:00:00</td>\n",
       "      <td>2</td>\n",
       "      <td>2.50</td>\n",
       "      <td>5.0</td>\n",
       "      <td>30.5</td>\n",
       "      <td>1</td>\n",
       "      <td>NaN</td>\n",
       "      <td>...</td>\n",
       "      <td>NaN</td>\n",
       "      <td>NaN</td>\n",
       "      <td>поселок городского типа Красный Бор</td>\n",
       "      <td>NaN</td>\n",
       "      <td>NaN</td>\n",
       "      <td>NaN</td>\n",
       "      <td>NaN</td>\n",
       "      <td>NaN</td>\n",
       "      <td>NaN</td>\n",
       "      <td>196.0</td>\n",
       "    </tr>\n",
       "    <tr>\n",
       "      <th>44</th>\n",
       "      <td>13</td>\n",
       "      <td>5350000.0</td>\n",
       "      <td>40.0</td>\n",
       "      <td>2018-11-18T00:00:00</td>\n",
       "      <td>1</td>\n",
       "      <td>2.64</td>\n",
       "      <td>22.0</td>\n",
       "      <td>17.6</td>\n",
       "      <td>3</td>\n",
       "      <td>NaN</td>\n",
       "      <td>...</td>\n",
       "      <td>NaN</td>\n",
       "      <td>1.0</td>\n",
       "      <td>Санкт-Петербург</td>\n",
       "      <td>30471.0</td>\n",
       "      <td>11603.0</td>\n",
       "      <td>1.0</td>\n",
       "      <td>620.0</td>\n",
       "      <td>1.0</td>\n",
       "      <td>1152.0</td>\n",
       "      <td>NaN</td>\n",
       "    </tr>\n",
       "    <tr>\n",
       "      <th>59</th>\n",
       "      <td>15</td>\n",
       "      <td>6300000.0</td>\n",
       "      <td>46.5</td>\n",
       "      <td>2017-03-06T00:00:00</td>\n",
       "      <td>1</td>\n",
       "      <td>2.64</td>\n",
       "      <td>13.0</td>\n",
       "      <td>17.6</td>\n",
       "      <td>13</td>\n",
       "      <td>NaN</td>\n",
       "      <td>...</td>\n",
       "      <td>NaN</td>\n",
       "      <td>NaN</td>\n",
       "      <td>Санкт-Петербург</td>\n",
       "      <td>11125.0</td>\n",
       "      <td>14501.0</td>\n",
       "      <td>0.0</td>\n",
       "      <td>NaN</td>\n",
       "      <td>0.0</td>\n",
       "      <td>NaN</td>\n",
       "      <td>336.0</td>\n",
       "    </tr>\n",
       "  </tbody>\n",
       "</table>\n",
       "<p>5 rows × 22 columns</p>\n",
       "</div>"
      ],
      "text/plain": [
       "    total_images  last_price  total_area first_day_exposition  rooms  \\\n",
       "3              0  64900000.0       159.0  2015-07-24T00:00:00      3   \n",
       "30            12   2200000.0        32.8  2018-02-19T00:00:00      1   \n",
       "37            10   1990000.0        45.8  2017-10-28T00:00:00      2   \n",
       "44            13   5350000.0        40.0  2018-11-18T00:00:00      1   \n",
       "59            15   6300000.0        46.5  2017-03-06T00:00:00      1   \n",
       "\n",
       "    ceiling_height  floors_total  living_area  floor is_apartment  ...  \\\n",
       "3             2.65          14.0         45.0      9          NaN  ...   \n",
       "30            2.64           9.0         17.6      2          NaN  ...   \n",
       "37            2.50           5.0         30.5      1          NaN  ...   \n",
       "44            2.64          22.0         17.6      3          NaN  ...   \n",
       "59            2.64          13.0         17.6     13          NaN  ...   \n",
       "\n",
       "    kitchen_area  balcony                        locality_name  \\\n",
       "3            NaN      0.0                      Санкт-Петербург   \n",
       "30           NaN      NaN                             Коммунар   \n",
       "37           NaN      NaN  поселок городского типа Красный Бор   \n",
       "44           NaN      1.0                      Санкт-Петербург   \n",
       "59           NaN      NaN                      Санкт-Петербург   \n",
       "\n",
       "    airports_nearest cityCenters_nearest  parks_around3000  parks_nearest  \\\n",
       "3            28098.0              6800.0               2.0           84.0   \n",
       "30               NaN                 NaN               NaN            NaN   \n",
       "37               NaN                 NaN               NaN            NaN   \n",
       "44           30471.0             11603.0               1.0          620.0   \n",
       "59           11125.0             14501.0               0.0            NaN   \n",
       "\n",
       "    ponds_around3000  ponds_nearest  days_exposition  \n",
       "3                3.0          234.0            424.0  \n",
       "30               NaN            NaN             63.0  \n",
       "37               NaN            NaN            196.0  \n",
       "44               1.0         1152.0              NaN  \n",
       "59               0.0            NaN            336.0  \n",
       "\n",
       "[5 rows x 22 columns]"
      ]
     },
     "metadata": {},
     "output_type": "display_data"
    }
   ],
   "source": [
    "print(df['kitchen_area'].isna().mean()) # доля пропущенных значений в kitchen_area\n",
    "display(df[df['kitchen_area'].isna()].head(5)) # вывод 5 строк таблицы с пропущенными значениями в столбце kitchen_area"
   ]
  },
  {
   "cell_type": "markdown",
   "metadata": {},
   "source": [
    "Видно, что пропущено 9% значений. Необходимо их заменить. Сделаем это аналогично заполнению в столбцам `ceiling_height` и `living_area`."
   ]
  },
  {
   "cell_type": "code",
   "execution_count": 15,
   "metadata": {},
   "outputs": [],
   "source": [
    "df['kitchen_area'] = df['kitchen_area'].fillna(df.groupby('rooms')['kitchen_area'].transform('median')) # заполнение пропусков в kitchen_area по группам в rooms"
   ]
  },
  {
   "cell_type": "markdown",
   "metadata": {},
   "source": [
    "В столбце `balcony` есть пропущенные значения. Можно предположить, что отсутствие значения означает отсутствие балкона. Заменим попуски на 0."
   ]
  },
  {
   "cell_type": "code",
   "execution_count": 16,
   "metadata": {},
   "outputs": [
    {
     "name": "stdout",
     "output_type": "stream",
     "text": [
      "0.0    15193\n",
      "1.0     4195\n",
      "2.0     3657\n",
      "5.0      304\n",
      "4.0      183\n",
      "3.0       81\n",
      "Name: balcony, dtype: int64\n"
     ]
    }
   ],
   "source": [
    "df['balcony'] = df['balcony'].fillna(0) # заполнение пропусков в balcony на 0\n",
    "print(df['balcony'].value_counts()) # количество уникальных значений в столбце"
   ]
  },
  {
   "cell_type": "markdown",
   "metadata": {},
   "source": [
    "Посчитаем долю пропущенных значений в `locality_name`."
   ]
  },
  {
   "cell_type": "code",
   "execution_count": 17,
   "metadata": {},
   "outputs": [
    {
     "name": "stdout",
     "output_type": "stream",
     "text": [
      "0.002032778554186253\n"
     ]
    },
    {
     "data": {
      "text/html": [
       "<div>\n",
       "<style scoped>\n",
       "    .dataframe tbody tr th:only-of-type {\n",
       "        vertical-align: middle;\n",
       "    }\n",
       "\n",
       "    .dataframe tbody tr th {\n",
       "        vertical-align: top;\n",
       "    }\n",
       "\n",
       "    .dataframe thead th {\n",
       "        text-align: right;\n",
       "    }\n",
       "</style>\n",
       "<table border=\"1\" class=\"dataframe\">\n",
       "  <thead>\n",
       "    <tr style=\"text-align: right;\">\n",
       "      <th></th>\n",
       "      <th>total_images</th>\n",
       "      <th>last_price</th>\n",
       "      <th>total_area</th>\n",
       "      <th>first_day_exposition</th>\n",
       "      <th>rooms</th>\n",
       "      <th>ceiling_height</th>\n",
       "      <th>floors_total</th>\n",
       "      <th>living_area</th>\n",
       "      <th>floor</th>\n",
       "      <th>is_apartment</th>\n",
       "      <th>...</th>\n",
       "      <th>kitchen_area</th>\n",
       "      <th>balcony</th>\n",
       "      <th>locality_name</th>\n",
       "      <th>airports_nearest</th>\n",
       "      <th>cityCenters_nearest</th>\n",
       "      <th>parks_around3000</th>\n",
       "      <th>parks_nearest</th>\n",
       "      <th>ponds_around3000</th>\n",
       "      <th>ponds_nearest</th>\n",
       "      <th>days_exposition</th>\n",
       "    </tr>\n",
       "  </thead>\n",
       "  <tbody>\n",
       "    <tr>\n",
       "      <th>1097</th>\n",
       "      <td>3</td>\n",
       "      <td>8600000.0</td>\n",
       "      <td>81.7</td>\n",
       "      <td>2016-04-15T00:00:00</td>\n",
       "      <td>3</td>\n",
       "      <td>3.55</td>\n",
       "      <td>5.0</td>\n",
       "      <td>50.8</td>\n",
       "      <td>2</td>\n",
       "      <td>NaN</td>\n",
       "      <td>...</td>\n",
       "      <td>8.8</td>\n",
       "      <td>0.0</td>\n",
       "      <td>NaN</td>\n",
       "      <td>23478.0</td>\n",
       "      <td>4258.0</td>\n",
       "      <td>0.0</td>\n",
       "      <td>NaN</td>\n",
       "      <td>0.0</td>\n",
       "      <td>NaN</td>\n",
       "      <td>147.0</td>\n",
       "    </tr>\n",
       "    <tr>\n",
       "      <th>2033</th>\n",
       "      <td>6</td>\n",
       "      <td>5398000.0</td>\n",
       "      <td>80.0</td>\n",
       "      <td>2017-05-30T00:00:00</td>\n",
       "      <td>3</td>\n",
       "      <td>2.65</td>\n",
       "      <td>4.0</td>\n",
       "      <td>42.6</td>\n",
       "      <td>2</td>\n",
       "      <td>NaN</td>\n",
       "      <td>...</td>\n",
       "      <td>18.6</td>\n",
       "      <td>0.0</td>\n",
       "      <td>NaN</td>\n",
       "      <td>NaN</td>\n",
       "      <td>NaN</td>\n",
       "      <td>NaN</td>\n",
       "      <td>NaN</td>\n",
       "      <td>NaN</td>\n",
       "      <td>NaN</td>\n",
       "      <td>34.0</td>\n",
       "    </tr>\n",
       "    <tr>\n",
       "      <th>2603</th>\n",
       "      <td>20</td>\n",
       "      <td>3351765.0</td>\n",
       "      <td>42.7</td>\n",
       "      <td>2015-09-20T00:00:00</td>\n",
       "      <td>1</td>\n",
       "      <td>2.64</td>\n",
       "      <td>24.0</td>\n",
       "      <td>15.6</td>\n",
       "      <td>3</td>\n",
       "      <td>NaN</td>\n",
       "      <td>...</td>\n",
       "      <td>10.7</td>\n",
       "      <td>0.0</td>\n",
       "      <td>NaN</td>\n",
       "      <td>22041.0</td>\n",
       "      <td>17369.0</td>\n",
       "      <td>0.0</td>\n",
       "      <td>NaN</td>\n",
       "      <td>1.0</td>\n",
       "      <td>374.0</td>\n",
       "      <td>276.0</td>\n",
       "    </tr>\n",
       "    <tr>\n",
       "      <th>2632</th>\n",
       "      <td>2</td>\n",
       "      <td>5130593.0</td>\n",
       "      <td>62.4</td>\n",
       "      <td>2015-10-11T00:00:00</td>\n",
       "      <td>2</td>\n",
       "      <td>2.60</td>\n",
       "      <td>24.0</td>\n",
       "      <td>33.1</td>\n",
       "      <td>21</td>\n",
       "      <td>NaN</td>\n",
       "      <td>...</td>\n",
       "      <td>8.2</td>\n",
       "      <td>0.0</td>\n",
       "      <td>NaN</td>\n",
       "      <td>22041.0</td>\n",
       "      <td>17369.0</td>\n",
       "      <td>0.0</td>\n",
       "      <td>NaN</td>\n",
       "      <td>1.0</td>\n",
       "      <td>374.0</td>\n",
       "      <td>256.0</td>\n",
       "    </tr>\n",
       "    <tr>\n",
       "      <th>3574</th>\n",
       "      <td>10</td>\n",
       "      <td>4200000.0</td>\n",
       "      <td>46.5</td>\n",
       "      <td>2016-05-28T00:00:00</td>\n",
       "      <td>2</td>\n",
       "      <td>2.60</td>\n",
       "      <td>5.0</td>\n",
       "      <td>30.8</td>\n",
       "      <td>5</td>\n",
       "      <td>NaN</td>\n",
       "      <td>...</td>\n",
       "      <td>6.5</td>\n",
       "      <td>0.0</td>\n",
       "      <td>NaN</td>\n",
       "      <td>27419.0</td>\n",
       "      <td>8127.0</td>\n",
       "      <td>0.0</td>\n",
       "      <td>NaN</td>\n",
       "      <td>1.0</td>\n",
       "      <td>603.0</td>\n",
       "      <td>45.0</td>\n",
       "    </tr>\n",
       "  </tbody>\n",
       "</table>\n",
       "<p>5 rows × 22 columns</p>\n",
       "</div>"
      ],
      "text/plain": [
       "      total_images  last_price  total_area first_day_exposition  rooms  \\\n",
       "1097             3   8600000.0        81.7  2016-04-15T00:00:00      3   \n",
       "2033             6   5398000.0        80.0  2017-05-30T00:00:00      3   \n",
       "2603            20   3351765.0        42.7  2015-09-20T00:00:00      1   \n",
       "2632             2   5130593.0        62.4  2015-10-11T00:00:00      2   \n",
       "3574            10   4200000.0        46.5  2016-05-28T00:00:00      2   \n",
       "\n",
       "      ceiling_height  floors_total  living_area  floor is_apartment  ...  \\\n",
       "1097            3.55           5.0         50.8      2          NaN  ...   \n",
       "2033            2.65           4.0         42.6      2          NaN  ...   \n",
       "2603            2.64          24.0         15.6      3          NaN  ...   \n",
       "2632            2.60          24.0         33.1     21          NaN  ...   \n",
       "3574            2.60           5.0         30.8      5          NaN  ...   \n",
       "\n",
       "      kitchen_area  balcony  locality_name  airports_nearest  \\\n",
       "1097           8.8      0.0            NaN           23478.0   \n",
       "2033          18.6      0.0            NaN               NaN   \n",
       "2603          10.7      0.0            NaN           22041.0   \n",
       "2632           8.2      0.0            NaN           22041.0   \n",
       "3574           6.5      0.0            NaN           27419.0   \n",
       "\n",
       "     cityCenters_nearest  parks_around3000  parks_nearest  ponds_around3000  \\\n",
       "1097              4258.0               0.0            NaN               0.0   \n",
       "2033                 NaN               NaN            NaN               NaN   \n",
       "2603             17369.0               0.0            NaN               1.0   \n",
       "2632             17369.0               0.0            NaN               1.0   \n",
       "3574              8127.0               0.0            NaN               1.0   \n",
       "\n",
       "      ponds_nearest  days_exposition  \n",
       "1097            NaN            147.0  \n",
       "2033            NaN             34.0  \n",
       "2603          374.0            276.0  \n",
       "2632          374.0            256.0  \n",
       "3574          603.0             45.0  \n",
       "\n",
       "[5 rows x 22 columns]"
      ]
     },
     "metadata": {},
     "output_type": "display_data"
    }
   ],
   "source": [
    "print(df['locality_name'].isna().mean()) # доля пропущенных значений в locality_name\n",
    "display(df[df['locality_name'].isna()].head(5)) # вывод 5 строк таблицы с пропущенными значениями в столбце locality_name"
   ]
  },
  {
   "cell_type": "markdown",
   "metadata": {},
   "source": [
    "Пропущенных значений - 0.2%. Это небольшое количество. Данные в этом столбце являются категориальными, обоснованной замены сложно выбрать. Оставим этот столбец без изменения."
   ]
  },
  {
   "cell_type": "markdown",
   "metadata": {},
   "source": [
    "Посчитаем долю пропущенных значений в `days_exposition`."
   ]
  },
  {
   "cell_type": "code",
   "execution_count": 18,
   "metadata": {},
   "outputs": [
    {
     "name": "stdout",
     "output_type": "stream",
     "text": [
      "0.13433278278914157\n"
     ]
    },
    {
     "data": {
      "text/html": [
       "<div>\n",
       "<style scoped>\n",
       "    .dataframe tbody tr th:only-of-type {\n",
       "        vertical-align: middle;\n",
       "    }\n",
       "\n",
       "    .dataframe tbody tr th {\n",
       "        vertical-align: top;\n",
       "    }\n",
       "\n",
       "    .dataframe thead th {\n",
       "        text-align: right;\n",
       "    }\n",
       "</style>\n",
       "<table border=\"1\" class=\"dataframe\">\n",
       "  <thead>\n",
       "    <tr style=\"text-align: right;\">\n",
       "      <th></th>\n",
       "      <th>total_images</th>\n",
       "      <th>last_price</th>\n",
       "      <th>total_area</th>\n",
       "      <th>first_day_exposition</th>\n",
       "      <th>rooms</th>\n",
       "      <th>ceiling_height</th>\n",
       "      <th>floors_total</th>\n",
       "      <th>living_area</th>\n",
       "      <th>floor</th>\n",
       "      <th>is_apartment</th>\n",
       "      <th>...</th>\n",
       "      <th>kitchen_area</th>\n",
       "      <th>balcony</th>\n",
       "      <th>locality_name</th>\n",
       "      <th>airports_nearest</th>\n",
       "      <th>cityCenters_nearest</th>\n",
       "      <th>parks_around3000</th>\n",
       "      <th>parks_nearest</th>\n",
       "      <th>ponds_around3000</th>\n",
       "      <th>ponds_nearest</th>\n",
       "      <th>days_exposition</th>\n",
       "    </tr>\n",
       "  </thead>\n",
       "  <tbody>\n",
       "    <tr>\n",
       "      <th>0</th>\n",
       "      <td>20</td>\n",
       "      <td>13000000.0</td>\n",
       "      <td>108.0</td>\n",
       "      <td>2019-03-07T00:00:00</td>\n",
       "      <td>3</td>\n",
       "      <td>2.70</td>\n",
       "      <td>16.0</td>\n",
       "      <td>51.0</td>\n",
       "      <td>8</td>\n",
       "      <td>NaN</td>\n",
       "      <td>...</td>\n",
       "      <td>25.0</td>\n",
       "      <td>0.0</td>\n",
       "      <td>Санкт-Петербург</td>\n",
       "      <td>18863.0</td>\n",
       "      <td>16028.0</td>\n",
       "      <td>1.0</td>\n",
       "      <td>482.0</td>\n",
       "      <td>2.0</td>\n",
       "      <td>755.0</td>\n",
       "      <td>NaN</td>\n",
       "    </tr>\n",
       "    <tr>\n",
       "      <th>7</th>\n",
       "      <td>5</td>\n",
       "      <td>7915000.0</td>\n",
       "      <td>71.6</td>\n",
       "      <td>2019-04-18T00:00:00</td>\n",
       "      <td>2</td>\n",
       "      <td>2.60</td>\n",
       "      <td>24.0</td>\n",
       "      <td>30.5</td>\n",
       "      <td>22</td>\n",
       "      <td>NaN</td>\n",
       "      <td>...</td>\n",
       "      <td>18.9</td>\n",
       "      <td>2.0</td>\n",
       "      <td>Санкт-Петербург</td>\n",
       "      <td>23982.0</td>\n",
       "      <td>11634.0</td>\n",
       "      <td>0.0</td>\n",
       "      <td>NaN</td>\n",
       "      <td>0.0</td>\n",
       "      <td>NaN</td>\n",
       "      <td>NaN</td>\n",
       "    </tr>\n",
       "    <tr>\n",
       "      <th>44</th>\n",
       "      <td>13</td>\n",
       "      <td>5350000.0</td>\n",
       "      <td>40.0</td>\n",
       "      <td>2018-11-18T00:00:00</td>\n",
       "      <td>1</td>\n",
       "      <td>2.64</td>\n",
       "      <td>22.0</td>\n",
       "      <td>17.6</td>\n",
       "      <td>3</td>\n",
       "      <td>NaN</td>\n",
       "      <td>...</td>\n",
       "      <td>9.0</td>\n",
       "      <td>1.0</td>\n",
       "      <td>Санкт-Петербург</td>\n",
       "      <td>30471.0</td>\n",
       "      <td>11603.0</td>\n",
       "      <td>1.0</td>\n",
       "      <td>620.0</td>\n",
       "      <td>1.0</td>\n",
       "      <td>1152.0</td>\n",
       "      <td>NaN</td>\n",
       "    </tr>\n",
       "    <tr>\n",
       "      <th>45</th>\n",
       "      <td>17</td>\n",
       "      <td>5200000.0</td>\n",
       "      <td>50.6</td>\n",
       "      <td>2018-12-02T00:00:00</td>\n",
       "      <td>2</td>\n",
       "      <td>2.65</td>\n",
       "      <td>9.0</td>\n",
       "      <td>30.3</td>\n",
       "      <td>7</td>\n",
       "      <td>NaN</td>\n",
       "      <td>...</td>\n",
       "      <td>7.0</td>\n",
       "      <td>0.0</td>\n",
       "      <td>Санкт-Петербург</td>\n",
       "      <td>30011.0</td>\n",
       "      <td>12872.0</td>\n",
       "      <td>0.0</td>\n",
       "      <td>NaN</td>\n",
       "      <td>0.0</td>\n",
       "      <td>NaN</td>\n",
       "      <td>NaN</td>\n",
       "    </tr>\n",
       "    <tr>\n",
       "      <th>46</th>\n",
       "      <td>17</td>\n",
       "      <td>6600000.0</td>\n",
       "      <td>52.1</td>\n",
       "      <td>2019-01-31T00:00:00</td>\n",
       "      <td>2</td>\n",
       "      <td>2.60</td>\n",
       "      <td>24.0</td>\n",
       "      <td>29.7</td>\n",
       "      <td>9</td>\n",
       "      <td>NaN</td>\n",
       "      <td>...</td>\n",
       "      <td>8.3</td>\n",
       "      <td>2.0</td>\n",
       "      <td>Санкт-Петербург</td>\n",
       "      <td>15114.0</td>\n",
       "      <td>12702.0</td>\n",
       "      <td>0.0</td>\n",
       "      <td>NaN</td>\n",
       "      <td>0.0</td>\n",
       "      <td>NaN</td>\n",
       "      <td>NaN</td>\n",
       "    </tr>\n",
       "  </tbody>\n",
       "</table>\n",
       "<p>5 rows × 22 columns</p>\n",
       "</div>"
      ],
      "text/plain": [
       "    total_images  last_price  total_area first_day_exposition  rooms  \\\n",
       "0             20  13000000.0       108.0  2019-03-07T00:00:00      3   \n",
       "7              5   7915000.0        71.6  2019-04-18T00:00:00      2   \n",
       "44            13   5350000.0        40.0  2018-11-18T00:00:00      1   \n",
       "45            17   5200000.0        50.6  2018-12-02T00:00:00      2   \n",
       "46            17   6600000.0        52.1  2019-01-31T00:00:00      2   \n",
       "\n",
       "    ceiling_height  floors_total  living_area  floor is_apartment  ...  \\\n",
       "0             2.70          16.0         51.0      8          NaN  ...   \n",
       "7             2.60          24.0         30.5     22          NaN  ...   \n",
       "44            2.64          22.0         17.6      3          NaN  ...   \n",
       "45            2.65           9.0         30.3      7          NaN  ...   \n",
       "46            2.60          24.0         29.7      9          NaN  ...   \n",
       "\n",
       "    kitchen_area  balcony    locality_name  airports_nearest  \\\n",
       "0           25.0      0.0  Санкт-Петербург           18863.0   \n",
       "7           18.9      2.0  Санкт-Петербург           23982.0   \n",
       "44           9.0      1.0  Санкт-Петербург           30471.0   \n",
       "45           7.0      0.0  Санкт-Петербург           30011.0   \n",
       "46           8.3      2.0  Санкт-Петербург           15114.0   \n",
       "\n",
       "   cityCenters_nearest  parks_around3000  parks_nearest  ponds_around3000  \\\n",
       "0              16028.0               1.0          482.0               2.0   \n",
       "7              11634.0               0.0            NaN               0.0   \n",
       "44             11603.0               1.0          620.0               1.0   \n",
       "45             12872.0               0.0            NaN               0.0   \n",
       "46             12702.0               0.0            NaN               0.0   \n",
       "\n",
       "    ponds_nearest  days_exposition  \n",
       "0           755.0              NaN  \n",
       "7             NaN              NaN  \n",
       "44         1152.0              NaN  \n",
       "45            NaN              NaN  \n",
       "46            NaN              NaN  \n",
       "\n",
       "[5 rows x 22 columns]"
      ]
     },
     "metadata": {},
     "output_type": "display_data"
    }
   ],
   "source": [
    "print(df['days_exposition'].isna().mean()) # доля пропущенных значений в days_exposition\n",
    "display(df[df['days_exposition'].isna()].head(5)) # вывод 5 строк таблицы с пропущенными значениями в столбце days_exposition"
   ]
  },
  {
   "cell_type": "markdown",
   "metadata": {},
   "source": [
    "Получилось 13% пропущенных значений. Удалять эти строки нельзя. Данный столбец неоходим для дальнейшего исследования. Если заполнить его, то можно существенно повлиять на результат. Оставим пустые значения, т.к. не хотим исказить выводы."
   ]
  },
  {
   "cell_type": "markdown",
   "metadata": {},
   "source": [
    "Проверим наличие явных дубликатов в данных."
   ]
  },
  {
   "cell_type": "code",
   "execution_count": 19,
   "metadata": {},
   "outputs": [
    {
     "data": {
      "text/plain": [
       "0"
      ]
     },
     "execution_count": 19,
     "metadata": {},
     "output_type": "execute_result"
    }
   ],
   "source": [
    "df.duplicated().sum() # всего явных дубликатов"
   ]
  },
  {
   "cell_type": "markdown",
   "metadata": {},
   "source": [
    "Явных дубликатов в данных нет."
   ]
  },
  {
   "cell_type": "code",
   "execution_count": 20,
   "metadata": {},
   "outputs": [
    {
     "name": "stdout",
     "output_type": "stream",
     "text": [
      "<class 'pandas.core.frame.DataFrame'>\n",
      "Int64Index: 23613 entries, 0 to 23698\n",
      "Data columns (total 22 columns):\n",
      " #   Column                Non-Null Count  Dtype  \n",
      "---  ------                --------------  -----  \n",
      " 0   total_images          23613 non-null  int64  \n",
      " 1   last_price            23613 non-null  float64\n",
      " 2   total_area            23613 non-null  float64\n",
      " 3   first_day_exposition  23613 non-null  object \n",
      " 4   rooms                 23613 non-null  int64  \n",
      " 5   ceiling_height        23612 non-null  float64\n",
      " 6   floors_total          23613 non-null  float64\n",
      " 7   living_area           23613 non-null  float64\n",
      " 8   floor                 23613 non-null  int64  \n",
      " 9   is_apartment          2775 non-null   object \n",
      " 10  studio                23613 non-null  bool   \n",
      " 11  open_plan             23613 non-null  bool   \n",
      " 12  kitchen_area          23419 non-null  float64\n",
      " 13  balcony               23613 non-null  float64\n",
      " 14  locality_name         23565 non-null  object \n",
      " 15  airports_nearest      18081 non-null  float64\n",
      " 16  cityCenters_nearest   18104 non-null  float64\n",
      " 17  parks_around3000      18105 non-null  float64\n",
      " 18  parks_nearest         8045 non-null   float64\n",
      " 19  ponds_around3000      18105 non-null  float64\n",
      " 20  ponds_nearest         9061 non-null   float64\n",
      " 21  days_exposition       20441 non-null  float64\n",
      "dtypes: bool(2), float64(14), int64(3), object(3)\n",
      "memory usage: 3.8+ MB\n"
     ]
    }
   ],
   "source": [
    "df.info()"
   ]
  },
  {
   "cell_type": "markdown",
   "metadata": {},
   "source": [
    "Часть пропусков в столбцах, о которых не говорили выше остались. Данные в столбцах `is_apartment`, `airports_nearest`, `parks_around3000`, `parks_nearest`, `ponds_around3000`, `ponds_nearest` не важны для исследования. С необходимыми данными и их преобразованием в столбце `cityCenters_nearest` будем работать ниже.   "
   ]
  },
  {
   "cell_type": "markdown",
   "metadata": {},
   "source": [
    "### Изменение типа данных"
   ]
  },
  {
   "cell_type": "markdown",
   "metadata": {},
   "source": [
    "Поменяем в некоторых столбцах тип данных. Изменим в столбце `first_day_exposition`, так как эти данные отражают дату и время, для этого есть специальный тип данных `datetime`. Также изменим в столбцах, где значения являются целыми, но тип данных для них `float`, заменим на `int`."
   ]
  },
  {
   "cell_type": "code",
   "execution_count": 21,
   "metadata": {},
   "outputs": [],
   "source": [
    "# Изменения типа данных\n",
    "df['first_day_exposition'] = pd.to_datetime(df['first_day_exposition'], format='%Y-%m-%dT%H:%M:%S') \n",
    "df['last_price'] = df['last_price'].astype('int')\n",
    "df['floors_total'] = df['floors_total'].astype('Int64')\n",
    "df['balcony'] = df['balcony'].astype('int')\n",
    "df['airports_nearest'] = df['airports_nearest'].astype('Int64')\n",
    "df['cityCenters_nearest'] = df['cityCenters_nearest'].astype('Int64')\n",
    "df['parks_around3000'] = df['parks_around3000'].astype('Int64')\n",
    "df['parks_nearest'] = df['parks_nearest'].astype('Int64')\n",
    "df['ponds_around3000'] = df['ponds_around3000'].astype('Int64')\n",
    "df['ponds_nearest'] = df['ponds_nearest'].astype('Int64')\n",
    "df['days_exposition'] = df['days_exposition'].round()\n",
    "df['days_exposition'] = df['days_exposition'].astype('Int64')"
   ]
  },
  {
   "cell_type": "code",
   "execution_count": 22,
   "metadata": {},
   "outputs": [
    {
     "name": "stdout",
     "output_type": "stream",
     "text": [
      "<class 'pandas.core.frame.DataFrame'>\n",
      "Int64Index: 23613 entries, 0 to 23698\n",
      "Data columns (total 22 columns):\n",
      " #   Column                Non-Null Count  Dtype         \n",
      "---  ------                --------------  -----         \n",
      " 0   total_images          23613 non-null  int64         \n",
      " 1   last_price            23613 non-null  int32         \n",
      " 2   total_area            23613 non-null  float32       \n",
      " 3   first_day_exposition  23613 non-null  datetime64[ns]\n",
      " 4   rooms                 23613 non-null  int64         \n",
      " 5   ceiling_height        23612 non-null  float64       \n",
      " 6   floors_total          23613 non-null  Int64         \n",
      " 7   living_area           23613 non-null  float32       \n",
      " 8   floor                 23613 non-null  int64         \n",
      " 9   is_apartment          2775 non-null   object        \n",
      " 10  studio                23613 non-null  bool          \n",
      " 11  open_plan             23613 non-null  bool          \n",
      " 12  kitchen_area          23613 non-null  float32       \n",
      " 13  balcony               23613 non-null  int32         \n",
      " 14  locality_name         23565 non-null  object        \n",
      " 15  airports_nearest      18081 non-null  Int64         \n",
      " 16  cityCenters_nearest   18104 non-null  Int64         \n",
      " 17  parks_around3000      18105 non-null  Int64         \n",
      " 18  parks_nearest         8045 non-null   Int64         \n",
      " 19  ponds_around3000      18105 non-null  Int64         \n",
      " 20  ponds_nearest         9061 non-null   Int64         \n",
      " 21  days_exposition       20441 non-null  Int64         \n",
      "dtypes: Int64(8), bool(2), datetime64[ns](1), float32(3), float64(1), int32(2), int64(3), object(2)\n",
      "memory usage: 3.6+ MB\n"
     ]
    },
    {
     "data": {
      "text/html": [
       "<div>\n",
       "<style scoped>\n",
       "    .dataframe tbody tr th:only-of-type {\n",
       "        vertical-align: middle;\n",
       "    }\n",
       "\n",
       "    .dataframe tbody tr th {\n",
       "        vertical-align: top;\n",
       "    }\n",
       "\n",
       "    .dataframe thead th {\n",
       "        text-align: right;\n",
       "    }\n",
       "</style>\n",
       "<table border=\"1\" class=\"dataframe\">\n",
       "  <thead>\n",
       "    <tr style=\"text-align: right;\">\n",
       "      <th></th>\n",
       "      <th>total_images</th>\n",
       "      <th>last_price</th>\n",
       "      <th>total_area</th>\n",
       "      <th>first_day_exposition</th>\n",
       "      <th>rooms</th>\n",
       "      <th>ceiling_height</th>\n",
       "      <th>floors_total</th>\n",
       "      <th>living_area</th>\n",
       "      <th>floor</th>\n",
       "      <th>is_apartment</th>\n",
       "      <th>...</th>\n",
       "      <th>kitchen_area</th>\n",
       "      <th>balcony</th>\n",
       "      <th>locality_name</th>\n",
       "      <th>airports_nearest</th>\n",
       "      <th>cityCenters_nearest</th>\n",
       "      <th>parks_around3000</th>\n",
       "      <th>parks_nearest</th>\n",
       "      <th>ponds_around3000</th>\n",
       "      <th>ponds_nearest</th>\n",
       "      <th>days_exposition</th>\n",
       "    </tr>\n",
       "  </thead>\n",
       "  <tbody>\n",
       "    <tr>\n",
       "      <th>0</th>\n",
       "      <td>20</td>\n",
       "      <td>13000000</td>\n",
       "      <td>108.000000</td>\n",
       "      <td>2019-03-07</td>\n",
       "      <td>3</td>\n",
       "      <td>2.70</td>\n",
       "      <td>16</td>\n",
       "      <td>108.000000</td>\n",
       "      <td>8</td>\n",
       "      <td>NaN</td>\n",
       "      <td>...</td>\n",
       "      <td>108.000000</td>\n",
       "      <td>0</td>\n",
       "      <td>Санкт-Петербург</td>\n",
       "      <td>18863</td>\n",
       "      <td>16028</td>\n",
       "      <td>1</td>\n",
       "      <td>482</td>\n",
       "      <td>2</td>\n",
       "      <td>755</td>\n",
       "      <td>&lt;NA&gt;</td>\n",
       "    </tr>\n",
       "    <tr>\n",
       "      <th>1</th>\n",
       "      <td>7</td>\n",
       "      <td>3350000</td>\n",
       "      <td>40.400002</td>\n",
       "      <td>2018-12-04</td>\n",
       "      <td>1</td>\n",
       "      <td>2.64</td>\n",
       "      <td>11</td>\n",
       "      <td>40.400002</td>\n",
       "      <td>1</td>\n",
       "      <td>NaN</td>\n",
       "      <td>...</td>\n",
       "      <td>40.400002</td>\n",
       "      <td>2</td>\n",
       "      <td>посёлок Шушары</td>\n",
       "      <td>12817</td>\n",
       "      <td>18603</td>\n",
       "      <td>0</td>\n",
       "      <td>&lt;NA&gt;</td>\n",
       "      <td>0</td>\n",
       "      <td>&lt;NA&gt;</td>\n",
       "      <td>81</td>\n",
       "    </tr>\n",
       "    <tr>\n",
       "      <th>2</th>\n",
       "      <td>10</td>\n",
       "      <td>5196000</td>\n",
       "      <td>56.000000</td>\n",
       "      <td>2015-08-20</td>\n",
       "      <td>2</td>\n",
       "      <td>2.60</td>\n",
       "      <td>5</td>\n",
       "      <td>56.000000</td>\n",
       "      <td>4</td>\n",
       "      <td>NaN</td>\n",
       "      <td>...</td>\n",
       "      <td>56.000000</td>\n",
       "      <td>0</td>\n",
       "      <td>Санкт-Петербург</td>\n",
       "      <td>21741</td>\n",
       "      <td>13933</td>\n",
       "      <td>1</td>\n",
       "      <td>90</td>\n",
       "      <td>2</td>\n",
       "      <td>574</td>\n",
       "      <td>558</td>\n",
       "    </tr>\n",
       "    <tr>\n",
       "      <th>3</th>\n",
       "      <td>0</td>\n",
       "      <td>64900000</td>\n",
       "      <td>159.000000</td>\n",
       "      <td>2015-07-24</td>\n",
       "      <td>3</td>\n",
       "      <td>2.65</td>\n",
       "      <td>14</td>\n",
       "      <td>159.000000</td>\n",
       "      <td>9</td>\n",
       "      <td>NaN</td>\n",
       "      <td>...</td>\n",
       "      <td>159.000000</td>\n",
       "      <td>0</td>\n",
       "      <td>Санкт-Петербург</td>\n",
       "      <td>28098</td>\n",
       "      <td>6800</td>\n",
       "      <td>2</td>\n",
       "      <td>84</td>\n",
       "      <td>3</td>\n",
       "      <td>234</td>\n",
       "      <td>424</td>\n",
       "    </tr>\n",
       "    <tr>\n",
       "      <th>4</th>\n",
       "      <td>2</td>\n",
       "      <td>10000000</td>\n",
       "      <td>100.000000</td>\n",
       "      <td>2018-06-19</td>\n",
       "      <td>2</td>\n",
       "      <td>3.03</td>\n",
       "      <td>14</td>\n",
       "      <td>100.000000</td>\n",
       "      <td>13</td>\n",
       "      <td>NaN</td>\n",
       "      <td>...</td>\n",
       "      <td>100.000000</td>\n",
       "      <td>0</td>\n",
       "      <td>Санкт-Петербург</td>\n",
       "      <td>31856</td>\n",
       "      <td>8098</td>\n",
       "      <td>2</td>\n",
       "      <td>112</td>\n",
       "      <td>1</td>\n",
       "      <td>48</td>\n",
       "      <td>121</td>\n",
       "    </tr>\n",
       "  </tbody>\n",
       "</table>\n",
       "<p>5 rows × 22 columns</p>\n",
       "</div>"
      ],
      "text/plain": [
       "   total_images  last_price  total_area first_day_exposition  rooms  \\\n",
       "0            20    13000000  108.000000           2019-03-07      3   \n",
       "1             7     3350000   40.400002           2018-12-04      1   \n",
       "2            10     5196000   56.000000           2015-08-20      2   \n",
       "3             0    64900000  159.000000           2015-07-24      3   \n",
       "4             2    10000000  100.000000           2018-06-19      2   \n",
       "\n",
       "   ceiling_height  floors_total  living_area  floor is_apartment  ...  \\\n",
       "0            2.70            16   108.000000      8          NaN  ...   \n",
       "1            2.64            11    40.400002      1          NaN  ...   \n",
       "2            2.60             5    56.000000      4          NaN  ...   \n",
       "3            2.65            14   159.000000      9          NaN  ...   \n",
       "4            3.03            14   100.000000     13          NaN  ...   \n",
       "\n",
       "   kitchen_area  balcony    locality_name  airports_nearest  \\\n",
       "0    108.000000        0  Санкт-Петербург             18863   \n",
       "1     40.400002        2   посёлок Шушары             12817   \n",
       "2     56.000000        0  Санкт-Петербург             21741   \n",
       "3    159.000000        0  Санкт-Петербург             28098   \n",
       "4    100.000000        0  Санкт-Петербург             31856   \n",
       "\n",
       "  cityCenters_nearest  parks_around3000  parks_nearest  ponds_around3000  \\\n",
       "0               16028                 1            482                 2   \n",
       "1               18603                 0           <NA>                 0   \n",
       "2               13933                 1             90                 2   \n",
       "3                6800                 2             84                 3   \n",
       "4                8098                 2            112                 1   \n",
       "\n",
       "   ponds_nearest  days_exposition  \n",
       "0            755             <NA>  \n",
       "1           <NA>               81  \n",
       "2            574              558  \n",
       "3            234              424  \n",
       "4             48              121  \n",
       "\n",
       "[5 rows x 22 columns]"
      ]
     },
     "execution_count": 22,
     "metadata": {},
     "output_type": "execute_result"
    }
   ],
   "source": [
    "df['total_area'] = df['total_area'].astype('float32')\n",
    "df['living_area'] = df['total_area'].astype('float32')\n",
    "df['kitchen_area'] = df['total_area'].astype('float32')\n",
    "df.info()\n",
    "df.head(5)"
   ]
  },
  {
   "cell_type": "markdown",
   "metadata": {},
   "source": [
    "### Вывод"
   ]
  },
  {
   "cell_type": "markdown",
   "metadata": {},
   "source": [
    "В данных было обнаружено множество пропусков и аномалий. Часть из пропусков были заполнены, а аномалии убраны. Пропуски в столбцах, невлияющих на результат, остались. Также в столбце `cityCenters_nearest` изменения проведем ниже. Заполнение пропущенных значений в `days_exposition` исказит результат, поэтому оставили их без изменений.\n",
    "\n",
    "Типы данных были изменены на более корректные и удобные для дальнейшей работы, в частности данный по дате и времени."
   ]
  },
  {
   "cell_type": "markdown",
   "metadata": {},
   "source": [
    "## Расчёты и добавление результатов в таблицу"
   ]
  },
  {
   "cell_type": "markdown",
   "metadata": {},
   "source": [
    "### Добавление данных"
   ]
  },
  {
   "cell_type": "markdown",
   "metadata": {},
   "source": [
    "Добавим в датафрейм столбец с ценой квадратного метра `price_meter`."
   ]
  },
  {
   "cell_type": "code",
   "execution_count": 23,
   "metadata": {},
   "outputs": [],
   "source": [
    "df['price_meter'] = df['last_price'] / df['total_area'] # добавление столбца с ценой квадратного метра\n",
    "df['price_meter'] = df['price_meter'].round() # округление значений в столбце"
   ]
  },
  {
   "cell_type": "markdown",
   "metadata": {},
   "source": [
    "Из столбца `first_day_exposition` выделим день недели, месяц и год публикации объявления и создадим соответственные столбцы `weekday`, `month`, `year`."
   ]
  },
  {
   "cell_type": "code",
   "execution_count": 24,
   "metadata": {},
   "outputs": [],
   "source": [
    "df['weekday'] = df ['first_day_exposition'].dt.weekday # добавление столбца день недели\n",
    "df['month'] = df ['first_day_exposition'].dt.month # добавление столбца месяц\n",
    "df['year'] = df ['first_day_exposition'].dt.year # добавление столбца год"
   ]
  },
  {
   "cell_type": "markdown",
   "metadata": {},
   "source": [
    "Создадим функцию `floor_category`, которая по данным из столбцов `floor` и `floors_total` распределит этаж: первый, последний, другой. Затем добавим столбец с этими данными в датафрейм."
   ]
  },
  {
   "cell_type": "code",
   "execution_count": 25,
   "metadata": {},
   "outputs": [
    {
     "data": {
      "text/plain": [
       "другой       17363\n",
       "последний     3336\n",
       "первый        2914\n",
       "Name: floor_category, dtype: int64"
      ]
     },
     "execution_count": 25,
     "metadata": {},
     "output_type": "execute_result"
    }
   ],
   "source": [
    "def floor_category(row): # создание функции по условиям\n",
    "    floor = row['floor']\n",
    "    floors_total = row['floors_total']\n",
    "    if floor == 1:\n",
    "        return 'первый' \n",
    "    elif floor == floors_total:\n",
    "        return 'последний'\n",
    "    else:\n",
    "        return 'другой'\n",
    "df['floor_category'] = df.apply(floor_category, axis=1) # добавление нового столбца с применением функции\n",
    "df['floor_category'].value_counts() # количество уникальных значений в столбце для проверки"
   ]
  },
  {
   "cell_type": "markdown",
   "metadata": {},
   "source": [
    "Определим соотношение жилой и общей площади, а также отношение площади кухни к общей и добавим столбцы `ratio_total_area` и `ratio_kitchen_area` в датафрейм. Выведим несколько случайных строк на экран, чтобы увидеть все добавления."
   ]
  },
  {
   "cell_type": "code",
   "execution_count": 26,
   "metadata": {},
   "outputs": [
    {
     "data": {
      "text/html": [
       "<div>\n",
       "<style scoped>\n",
       "    .dataframe tbody tr th:only-of-type {\n",
       "        vertical-align: middle;\n",
       "    }\n",
       "\n",
       "    .dataframe tbody tr th {\n",
       "        vertical-align: top;\n",
       "    }\n",
       "\n",
       "    .dataframe thead th {\n",
       "        text-align: right;\n",
       "    }\n",
       "</style>\n",
       "<table border=\"1\" class=\"dataframe\">\n",
       "  <thead>\n",
       "    <tr style=\"text-align: right;\">\n",
       "      <th></th>\n",
       "      <th>total_images</th>\n",
       "      <th>last_price</th>\n",
       "      <th>total_area</th>\n",
       "      <th>first_day_exposition</th>\n",
       "      <th>rooms</th>\n",
       "      <th>ceiling_height</th>\n",
       "      <th>floors_total</th>\n",
       "      <th>living_area</th>\n",
       "      <th>floor</th>\n",
       "      <th>is_apartment</th>\n",
       "      <th>...</th>\n",
       "      <th>ponds_around3000</th>\n",
       "      <th>ponds_nearest</th>\n",
       "      <th>days_exposition</th>\n",
       "      <th>price_meter</th>\n",
       "      <th>weekday</th>\n",
       "      <th>month</th>\n",
       "      <th>year</th>\n",
       "      <th>floor_category</th>\n",
       "      <th>ratio_total_area</th>\n",
       "      <th>ratio_kitchen_area</th>\n",
       "    </tr>\n",
       "  </thead>\n",
       "  <tbody>\n",
       "    <tr>\n",
       "      <th>18060</th>\n",
       "      <td>16</td>\n",
       "      <td>6400000</td>\n",
       "      <td>64.400002</td>\n",
       "      <td>2018-02-12</td>\n",
       "      <td>2</td>\n",
       "      <td>2.65</td>\n",
       "      <td>21</td>\n",
       "      <td>64.400002</td>\n",
       "      <td>16</td>\n",
       "      <td>NaN</td>\n",
       "      <td>...</td>\n",
       "      <td>0</td>\n",
       "      <td>&lt;NA&gt;</td>\n",
       "      <td>94</td>\n",
       "      <td>99379.0</td>\n",
       "      <td>0</td>\n",
       "      <td>2</td>\n",
       "      <td>2018</td>\n",
       "      <td>другой</td>\n",
       "      <td>1.0</td>\n",
       "      <td>1.0</td>\n",
       "    </tr>\n",
       "    <tr>\n",
       "      <th>5884</th>\n",
       "      <td>9</td>\n",
       "      <td>4900000</td>\n",
       "      <td>55.700001</td>\n",
       "      <td>2016-10-03</td>\n",
       "      <td>3</td>\n",
       "      <td>2.65</td>\n",
       "      <td>5</td>\n",
       "      <td>55.700001</td>\n",
       "      <td>5</td>\n",
       "      <td>False</td>\n",
       "      <td>...</td>\n",
       "      <td>2</td>\n",
       "      <td>500</td>\n",
       "      <td>199</td>\n",
       "      <td>87971.0</td>\n",
       "      <td>0</td>\n",
       "      <td>10</td>\n",
       "      <td>2016</td>\n",
       "      <td>последний</td>\n",
       "      <td>1.0</td>\n",
       "      <td>1.0</td>\n",
       "    </tr>\n",
       "    <tr>\n",
       "      <th>6366</th>\n",
       "      <td>4</td>\n",
       "      <td>3990000</td>\n",
       "      <td>49.720001</td>\n",
       "      <td>2018-08-18</td>\n",
       "      <td>3</td>\n",
       "      <td>2.65</td>\n",
       "      <td>19</td>\n",
       "      <td>49.720001</td>\n",
       "      <td>14</td>\n",
       "      <td>NaN</td>\n",
       "      <td>...</td>\n",
       "      <td>&lt;NA&gt;</td>\n",
       "      <td>&lt;NA&gt;</td>\n",
       "      <td>80</td>\n",
       "      <td>80249.0</td>\n",
       "      <td>5</td>\n",
       "      <td>8</td>\n",
       "      <td>2018</td>\n",
       "      <td>другой</td>\n",
       "      <td>1.0</td>\n",
       "      <td>1.0</td>\n",
       "    </tr>\n",
       "    <tr>\n",
       "      <th>689</th>\n",
       "      <td>5</td>\n",
       "      <td>3500000</td>\n",
       "      <td>32.599998</td>\n",
       "      <td>2017-05-22</td>\n",
       "      <td>1</td>\n",
       "      <td>2.70</td>\n",
       "      <td>18</td>\n",
       "      <td>32.599998</td>\n",
       "      <td>5</td>\n",
       "      <td>NaN</td>\n",
       "      <td>...</td>\n",
       "      <td>&lt;NA&gt;</td>\n",
       "      <td>&lt;NA&gt;</td>\n",
       "      <td>325</td>\n",
       "      <td>107362.0</td>\n",
       "      <td>0</td>\n",
       "      <td>5</td>\n",
       "      <td>2017</td>\n",
       "      <td>другой</td>\n",
       "      <td>1.0</td>\n",
       "      <td>1.0</td>\n",
       "    </tr>\n",
       "    <tr>\n",
       "      <th>23008</th>\n",
       "      <td>8</td>\n",
       "      <td>2199000</td>\n",
       "      <td>39.000000</td>\n",
       "      <td>2016-03-01</td>\n",
       "      <td>1</td>\n",
       "      <td>3.00</td>\n",
       "      <td>5</td>\n",
       "      <td>39.000000</td>\n",
       "      <td>5</td>\n",
       "      <td>NaN</td>\n",
       "      <td>...</td>\n",
       "      <td>&lt;NA&gt;</td>\n",
       "      <td>&lt;NA&gt;</td>\n",
       "      <td>366</td>\n",
       "      <td>56385.0</td>\n",
       "      <td>1</td>\n",
       "      <td>3</td>\n",
       "      <td>2016</td>\n",
       "      <td>последний</td>\n",
       "      <td>1.0</td>\n",
       "      <td>1.0</td>\n",
       "    </tr>\n",
       "    <tr>\n",
       "      <th>...</th>\n",
       "      <td>...</td>\n",
       "      <td>...</td>\n",
       "      <td>...</td>\n",
       "      <td>...</td>\n",
       "      <td>...</td>\n",
       "      <td>...</td>\n",
       "      <td>...</td>\n",
       "      <td>...</td>\n",
       "      <td>...</td>\n",
       "      <td>...</td>\n",
       "      <td>...</td>\n",
       "      <td>...</td>\n",
       "      <td>...</td>\n",
       "      <td>...</td>\n",
       "      <td>...</td>\n",
       "      <td>...</td>\n",
       "      <td>...</td>\n",
       "      <td>...</td>\n",
       "      <td>...</td>\n",
       "      <td>...</td>\n",
       "      <td>...</td>\n",
       "    </tr>\n",
       "    <tr>\n",
       "      <th>6565</th>\n",
       "      <td>16</td>\n",
       "      <td>6800000</td>\n",
       "      <td>62.099998</td>\n",
       "      <td>2019-02-12</td>\n",
       "      <td>2</td>\n",
       "      <td>2.70</td>\n",
       "      <td>16</td>\n",
       "      <td>62.099998</td>\n",
       "      <td>11</td>\n",
       "      <td>NaN</td>\n",
       "      <td>...</td>\n",
       "      <td>2</td>\n",
       "      <td>250</td>\n",
       "      <td>31</td>\n",
       "      <td>109501.0</td>\n",
       "      <td>1</td>\n",
       "      <td>2</td>\n",
       "      <td>2019</td>\n",
       "      <td>другой</td>\n",
       "      <td>1.0</td>\n",
       "      <td>1.0</td>\n",
       "    </tr>\n",
       "    <tr>\n",
       "      <th>20805</th>\n",
       "      <td>8</td>\n",
       "      <td>5300000</td>\n",
       "      <td>54.700001</td>\n",
       "      <td>2017-04-11</td>\n",
       "      <td>2</td>\n",
       "      <td>2.60</td>\n",
       "      <td>5</td>\n",
       "      <td>54.700001</td>\n",
       "      <td>2</td>\n",
       "      <td>NaN</td>\n",
       "      <td>...</td>\n",
       "      <td>1</td>\n",
       "      <td>473</td>\n",
       "      <td>125</td>\n",
       "      <td>96892.0</td>\n",
       "      <td>1</td>\n",
       "      <td>4</td>\n",
       "      <td>2017</td>\n",
       "      <td>другой</td>\n",
       "      <td>1.0</td>\n",
       "      <td>1.0</td>\n",
       "    </tr>\n",
       "    <tr>\n",
       "      <th>19957</th>\n",
       "      <td>10</td>\n",
       "      <td>4900000</td>\n",
       "      <td>43.000000</td>\n",
       "      <td>2017-06-21</td>\n",
       "      <td>2</td>\n",
       "      <td>2.60</td>\n",
       "      <td>5</td>\n",
       "      <td>43.000000</td>\n",
       "      <td>3</td>\n",
       "      <td>NaN</td>\n",
       "      <td>...</td>\n",
       "      <td>0</td>\n",
       "      <td>&lt;NA&gt;</td>\n",
       "      <td>166</td>\n",
       "      <td>113953.0</td>\n",
       "      <td>2</td>\n",
       "      <td>6</td>\n",
       "      <td>2017</td>\n",
       "      <td>другой</td>\n",
       "      <td>1.0</td>\n",
       "      <td>1.0</td>\n",
       "    </tr>\n",
       "    <tr>\n",
       "      <th>1712</th>\n",
       "      <td>4</td>\n",
       "      <td>2850000</td>\n",
       "      <td>32.000000</td>\n",
       "      <td>2017-11-14</td>\n",
       "      <td>1</td>\n",
       "      <td>2.64</td>\n",
       "      <td>9</td>\n",
       "      <td>32.000000</td>\n",
       "      <td>2</td>\n",
       "      <td>NaN</td>\n",
       "      <td>...</td>\n",
       "      <td>1</td>\n",
       "      <td>774</td>\n",
       "      <td>131</td>\n",
       "      <td>89062.0</td>\n",
       "      <td>1</td>\n",
       "      <td>11</td>\n",
       "      <td>2017</td>\n",
       "      <td>другой</td>\n",
       "      <td>1.0</td>\n",
       "      <td>1.0</td>\n",
       "    </tr>\n",
       "    <tr>\n",
       "      <th>19509</th>\n",
       "      <td>20</td>\n",
       "      <td>6000000</td>\n",
       "      <td>62.000000</td>\n",
       "      <td>2017-06-19</td>\n",
       "      <td>2</td>\n",
       "      <td>2.77</td>\n",
       "      <td>15</td>\n",
       "      <td>62.000000</td>\n",
       "      <td>9</td>\n",
       "      <td>NaN</td>\n",
       "      <td>...</td>\n",
       "      <td>0</td>\n",
       "      <td>&lt;NA&gt;</td>\n",
       "      <td>287</td>\n",
       "      <td>96774.0</td>\n",
       "      <td>0</td>\n",
       "      <td>6</td>\n",
       "      <td>2017</td>\n",
       "      <td>другой</td>\n",
       "      <td>1.0</td>\n",
       "      <td>1.0</td>\n",
       "    </tr>\n",
       "  </tbody>\n",
       "</table>\n",
       "<p>23613 rows × 29 columns</p>\n",
       "</div>"
      ],
      "text/plain": [
       "       total_images  last_price  total_area first_day_exposition  rooms  \\\n",
       "18060            16     6400000   64.400002           2018-02-12      2   \n",
       "5884              9     4900000   55.700001           2016-10-03      3   \n",
       "6366              4     3990000   49.720001           2018-08-18      3   \n",
       "689               5     3500000   32.599998           2017-05-22      1   \n",
       "23008             8     2199000   39.000000           2016-03-01      1   \n",
       "...             ...         ...         ...                  ...    ...   \n",
       "6565             16     6800000   62.099998           2019-02-12      2   \n",
       "20805             8     5300000   54.700001           2017-04-11      2   \n",
       "19957            10     4900000   43.000000           2017-06-21      2   \n",
       "1712              4     2850000   32.000000           2017-11-14      1   \n",
       "19509            20     6000000   62.000000           2017-06-19      2   \n",
       "\n",
       "       ceiling_height  floors_total  living_area  floor is_apartment  ...  \\\n",
       "18060            2.65            21    64.400002     16          NaN  ...   \n",
       "5884             2.65             5    55.700001      5        False  ...   \n",
       "6366             2.65            19    49.720001     14          NaN  ...   \n",
       "689              2.70            18    32.599998      5          NaN  ...   \n",
       "23008            3.00             5    39.000000      5          NaN  ...   \n",
       "...               ...           ...          ...    ...          ...  ...   \n",
       "6565             2.70            16    62.099998     11          NaN  ...   \n",
       "20805            2.60             5    54.700001      2          NaN  ...   \n",
       "19957            2.60             5    43.000000      3          NaN  ...   \n",
       "1712             2.64             9    32.000000      2          NaN  ...   \n",
       "19509            2.77            15    62.000000      9          NaN  ...   \n",
       "\n",
       "       ponds_around3000  ponds_nearest  days_exposition  price_meter weekday  \\\n",
       "18060                 0           <NA>               94      99379.0       0   \n",
       "5884                  2            500              199      87971.0       0   \n",
       "6366               <NA>           <NA>               80      80249.0       5   \n",
       "689                <NA>           <NA>              325     107362.0       0   \n",
       "23008              <NA>           <NA>              366      56385.0       1   \n",
       "...                 ...            ...              ...          ...     ...   \n",
       "6565                  2            250               31     109501.0       1   \n",
       "20805                 1            473              125      96892.0       1   \n",
       "19957                 0           <NA>              166     113953.0       2   \n",
       "1712                  1            774              131      89062.0       1   \n",
       "19509                 0           <NA>              287      96774.0       0   \n",
       "\n",
       "       month  year  floor_category  ratio_total_area  ratio_kitchen_area  \n",
       "18060      2  2018          другой               1.0                 1.0  \n",
       "5884      10  2016       последний               1.0                 1.0  \n",
       "6366       8  2018          другой               1.0                 1.0  \n",
       "689        5  2017          другой               1.0                 1.0  \n",
       "23008      3  2016       последний               1.0                 1.0  \n",
       "...      ...   ...             ...               ...                 ...  \n",
       "6565       2  2019          другой               1.0                 1.0  \n",
       "20805      4  2017          другой               1.0                 1.0  \n",
       "19957      6  2017          другой               1.0                 1.0  \n",
       "1712      11  2017          другой               1.0                 1.0  \n",
       "19509      6  2017          другой               1.0                 1.0  \n",
       "\n",
       "[23613 rows x 29 columns]"
      ]
     },
     "execution_count": 26,
     "metadata": {},
     "output_type": "execute_result"
    }
   ],
   "source": [
    "df['ratio_total_area'] = df['living_area'] / df['total_area'] # добавление столбца с ценой квадратного метра\n",
    "df['ratio_total_area'] = df['ratio_total_area'].round(2) # округление значений в столбце\n",
    "df['ratio_kitchen_area'] = df['kitchen_area'] / df['total_area'] # добавление столбца с ценой квадратного метра\n",
    "df['ratio_kitchen_area'] = df['ratio_kitchen_area'].round(2) # округление значений в столбце\n",
    "df.sample(frac=1)"
   ]
  },
  {
   "cell_type": "markdown",
   "metadata": {},
   "source": [
    "### Вывод"
   ]
  },
  {
   "cell_type": "markdown",
   "metadata": {},
   "source": [
    "На этом этапе были добавлены столбцы `price_meter`, `weekday`, `month`, `floor_category`, `ratio_total_area`, `ratio_kitchen_area` на основе имеющихся данных, которые потребуются для дальнешего анализа."
   ]
  },
  {
   "cell_type": "markdown",
   "metadata": {},
   "source": [
    "## Исследовательский анализ данных"
   ]
  },
  {
   "cell_type": "markdown",
   "metadata": {},
   "source": [
    "### Исследование площади, цены, числа комнат, высоты потолков"
   ]
  },
  {
   "cell_type": "markdown",
   "metadata": {},
   "source": [
    "Построим гистограммы для площади, цены, числа комнат, высоты потолков."
   ]
  },
  {
   "cell_type": "code",
   "execution_count": 27,
   "metadata": {},
   "outputs": [
    {
     "data": {
      "text/plain": [
       "<AxesSubplot:>"
      ]
     },
     "execution_count": 27,
     "metadata": {},
     "output_type": "execute_result"
    },
    {
     "data": {
      "image/png": "[encoded data removed]",
      "text/plain": [
       "<Figure size 432x288 with 1 Axes>"
      ]
     },
     "metadata": {
      "needs_background": "light"
     },
     "output_type": "display_data"
    }
   ],
   "source": [
    "df['total_area'].hist(bins=100) # построение гистограммы"
   ]
  },
  {
   "cell_type": "code",
   "execution_count": 28,
   "metadata": {},
   "outputs": [
    {
     "data": {
      "text/plain": [
       "<AxesSubplot:>"
      ]
     },
     "execution_count": 28,
     "metadata": {},
     "output_type": "execute_result"
    },
    {
     "data": {
      "image/png": "[encoded data removed]",
      "text/plain": [
       "<Figure size 432x288 with 1 Axes>"
      ]
     },
     "metadata": {
      "needs_background": "light"
     },
     "output_type": "display_data"
    }
   ],
   "source": [
    "df['last_price'].hist(range=(0,100000000), bins=50) # построение гистограммы"
   ]
  },
  {
   "cell_type": "code",
   "execution_count": 29,
   "metadata": {},
   "outputs": [
    {
     "data": {
      "text/plain": [
       "<AxesSubplot:>"
      ]
     },
     "execution_count": 29,
     "metadata": {},
     "output_type": "execute_result"
    },
    {
     "data": {
      "image/png": "[encoded data removed]",
      "text/plain": [
       "<Figure size 432x288 with 1 Axes>"
      ]
     },
     "metadata": {
      "needs_background": "light"
     },
     "output_type": "display_data"
    }
   ],
   "source": [
    "df['rooms'].hist(bins=20) # построение гистограммы"
   ]
  },
  {
   "cell_type": "code",
   "execution_count": 30,
   "metadata": {},
   "outputs": [
    {
     "data": {
      "text/plain": [
       "<AxesSubplot:>"
      ]
     },
     "execution_count": 30,
     "metadata": {},
     "output_type": "execute_result"
    },
    {
     "data": {
      "image/png": "[encoded data removed]",
      "text/plain": [
       "<Figure size 432x288 with 1 Axes>"
      ]
     },
     "metadata": {
      "needs_background": "light"
     },
     "output_type": "display_data"
    }
   ],
   "source": [
    "df['ceiling_height'].hist(bins=20) # построение гистограммы"
   ]
  },
  {
   "cell_type": "code",
   "execution_count": 31,
   "metadata": {},
   "outputs": [
    {
     "data": {
      "text/html": [
       "<div>\n",
       "<style scoped>\n",
       "    .dataframe tbody tr th:only-of-type {\n",
       "        vertical-align: middle;\n",
       "    }\n",
       "\n",
       "    .dataframe tbody tr th {\n",
       "        vertical-align: top;\n",
       "    }\n",
       "\n",
       "    .dataframe thead th {\n",
       "        text-align: right;\n",
       "    }\n",
       "</style>\n",
       "<table border=\"1\" class=\"dataframe\">\n",
       "  <thead>\n",
       "    <tr style=\"text-align: right;\">\n",
       "      <th></th>\n",
       "      <th>total_images</th>\n",
       "      <th>last_price</th>\n",
       "      <th>total_area</th>\n",
       "      <th>rooms</th>\n",
       "      <th>ceiling_height</th>\n",
       "      <th>floors_total</th>\n",
       "      <th>living_area</th>\n",
       "      <th>floor</th>\n",
       "      <th>kitchen_area</th>\n",
       "      <th>balcony</th>\n",
       "      <th>...</th>\n",
       "      <th>parks_nearest</th>\n",
       "      <th>ponds_around3000</th>\n",
       "      <th>ponds_nearest</th>\n",
       "      <th>days_exposition</th>\n",
       "      <th>price_meter</th>\n",
       "      <th>weekday</th>\n",
       "      <th>month</th>\n",
       "      <th>year</th>\n",
       "      <th>ratio_total_area</th>\n",
       "      <th>ratio_kitchen_area</th>\n",
       "    </tr>\n",
       "  </thead>\n",
       "  <tbody>\n",
       "    <tr>\n",
       "      <th>count</th>\n",
       "      <td>23613.000000</td>\n",
       "      <td>2.361300e+04</td>\n",
       "      <td>23613.000000</td>\n",
       "      <td>23613.000000</td>\n",
       "      <td>23612.000000</td>\n",
       "      <td>23613.000000</td>\n",
       "      <td>23613.000000</td>\n",
       "      <td>23613.000000</td>\n",
       "      <td>23613.000000</td>\n",
       "      <td>23613.000000</td>\n",
       "      <td>...</td>\n",
       "      <td>8045.000000</td>\n",
       "      <td>18105.000000</td>\n",
       "      <td>9061.000000</td>\n",
       "      <td>20441.000000</td>\n",
       "      <td>2.361300e+04</td>\n",
       "      <td>23613.000000</td>\n",
       "      <td>23613.000000</td>\n",
       "      <td>23613.000000</td>\n",
       "      <td>23613.0</td>\n",
       "      <td>23613.0</td>\n",
       "    </tr>\n",
       "    <tr>\n",
       "      <th>mean</th>\n",
       "      <td>9.874518</td>\n",
       "      <td>6.540555e+06</td>\n",
       "      <td>60.340813</td>\n",
       "      <td>2.071147</td>\n",
       "      <td>2.694233</td>\n",
       "      <td>10.673824</td>\n",
       "      <td>60.340813</td>\n",
       "      <td>5.877313</td>\n",
       "      <td>60.340813</td>\n",
       "      <td>0.593063</td>\n",
       "      <td>...</td>\n",
       "      <td>490.554630</td>\n",
       "      <td>0.770119</td>\n",
       "      <td>518.209469</td>\n",
       "      <td>180.884839</td>\n",
       "      <td>9.939748e+04</td>\n",
       "      <td>2.568035</td>\n",
       "      <td>6.400076</td>\n",
       "      <td>2017.368102</td>\n",
       "      <td>1.0</td>\n",
       "      <td>1.0</td>\n",
       "    </tr>\n",
       "    <tr>\n",
       "      <th>std</th>\n",
       "      <td>5.681541</td>\n",
       "      <td>1.090172e+07</td>\n",
       "      <td>35.649048</td>\n",
       "      <td>1.078380</td>\n",
       "      <td>0.221423</td>\n",
       "      <td>6.597173</td>\n",
       "      <td>35.649048</td>\n",
       "      <td>4.873539</td>\n",
       "      <td>35.649048</td>\n",
       "      <td>0.960307</td>\n",
       "      <td>...</td>\n",
       "      <td>341.336698</td>\n",
       "      <td>0.939075</td>\n",
       "      <td>277.887489</td>\n",
       "      <td>219.685543</td>\n",
       "      <td>5.035802e+04</td>\n",
       "      <td>1.788565</td>\n",
       "      <td>3.493160</td>\n",
       "      <td>1.039383</td>\n",
       "      <td>0.0</td>\n",
       "      <td>0.0</td>\n",
       "    </tr>\n",
       "    <tr>\n",
       "      <th>min</th>\n",
       "      <td>0.000000</td>\n",
       "      <td>1.219000e+04</td>\n",
       "      <td>12.000000</td>\n",
       "      <td>0.000000</td>\n",
       "      <td>2.000000</td>\n",
       "      <td>1.000000</td>\n",
       "      <td>12.000000</td>\n",
       "      <td>1.000000</td>\n",
       "      <td>12.000000</td>\n",
       "      <td>0.000000</td>\n",
       "      <td>...</td>\n",
       "      <td>1.000000</td>\n",
       "      <td>0.000000</td>\n",
       "      <td>13.000000</td>\n",
       "      <td>1.000000</td>\n",
       "      <td>1.120000e+02</td>\n",
       "      <td>0.000000</td>\n",
       "      <td>1.000000</td>\n",
       "      <td>2014.000000</td>\n",
       "      <td>1.0</td>\n",
       "      <td>1.0</td>\n",
       "    </tr>\n",
       "    <tr>\n",
       "      <th>25%</th>\n",
       "      <td>6.000000</td>\n",
       "      <td>3.400000e+06</td>\n",
       "      <td>40.000000</td>\n",
       "      <td>1.000000</td>\n",
       "      <td>2.600000</td>\n",
       "      <td>5.000000</td>\n",
       "      <td>40.000000</td>\n",
       "      <td>2.000000</td>\n",
       "      <td>40.000000</td>\n",
       "      <td>0.000000</td>\n",
       "      <td>...</td>\n",
       "      <td>288.000000</td>\n",
       "      <td>0.000000</td>\n",
       "      <td>294.000000</td>\n",
       "      <td>45.000000</td>\n",
       "      <td>7.656200e+04</td>\n",
       "      <td>1.000000</td>\n",
       "      <td>3.000000</td>\n",
       "      <td>2017.000000</td>\n",
       "      <td>1.0</td>\n",
       "      <td>1.0</td>\n",
       "    </tr>\n",
       "    <tr>\n",
       "      <th>50%</th>\n",
       "      <td>9.000000</td>\n",
       "      <td>4.650000e+06</td>\n",
       "      <td>52.000000</td>\n",
       "      <td>2.000000</td>\n",
       "      <td>2.640000</td>\n",
       "      <td>9.000000</td>\n",
       "      <td>52.000000</td>\n",
       "      <td>4.000000</td>\n",
       "      <td>52.000000</td>\n",
       "      <td>0.000000</td>\n",
       "      <td>...</td>\n",
       "      <td>455.000000</td>\n",
       "      <td>1.000000</td>\n",
       "      <td>503.000000</td>\n",
       "      <td>95.000000</td>\n",
       "      <td>9.500000e+04</td>\n",
       "      <td>3.000000</td>\n",
       "      <td>6.000000</td>\n",
       "      <td>2017.000000</td>\n",
       "      <td>1.0</td>\n",
       "      <td>1.0</td>\n",
       "    </tr>\n",
       "    <tr>\n",
       "      <th>75%</th>\n",
       "      <td>14.000000</td>\n",
       "      <td>6.799000e+06</td>\n",
       "      <td>69.800003</td>\n",
       "      <td>3.000000</td>\n",
       "      <td>2.700000</td>\n",
       "      <td>16.000000</td>\n",
       "      <td>69.800003</td>\n",
       "      <td>8.000000</td>\n",
       "      <td>69.800003</td>\n",
       "      <td>1.000000</td>\n",
       "      <td>...</td>\n",
       "      <td>612.000000</td>\n",
       "      <td>1.000000</td>\n",
       "      <td>730.000000</td>\n",
       "      <td>232.000000</td>\n",
       "      <td>1.142060e+05</td>\n",
       "      <td>4.000000</td>\n",
       "      <td>10.000000</td>\n",
       "      <td>2018.000000</td>\n",
       "      <td>1.0</td>\n",
       "      <td>1.0</td>\n",
       "    </tr>\n",
       "    <tr>\n",
       "      <th>max</th>\n",
       "      <td>50.000000</td>\n",
       "      <td>7.630000e+08</td>\n",
       "      <td>900.000000</td>\n",
       "      <td>19.000000</td>\n",
       "      <td>4.900000</td>\n",
       "      <td>60.000000</td>\n",
       "      <td>900.000000</td>\n",
       "      <td>33.000000</td>\n",
       "      <td>900.000000</td>\n",
       "      <td>5.000000</td>\n",
       "      <td>...</td>\n",
       "      <td>3190.000000</td>\n",
       "      <td>3.000000</td>\n",
       "      <td>1344.000000</td>\n",
       "      <td>1580.000000</td>\n",
       "      <td>1.907500e+06</td>\n",
       "      <td>6.000000</td>\n",
       "      <td>12.000000</td>\n",
       "      <td>2019.000000</td>\n",
       "      <td>1.0</td>\n",
       "      <td>1.0</td>\n",
       "    </tr>\n",
       "  </tbody>\n",
       "</table>\n",
       "<p>8 rows × 23 columns</p>\n",
       "</div>"
      ],
      "text/plain": [
       "       total_images    last_price    total_area         rooms  ceiling_height  \\\n",
       "count  23613.000000  2.361300e+04  23613.000000  23613.000000    23612.000000   \n",
       "mean       9.874518  6.540555e+06     60.340813      2.071147        2.694233   \n",
       "std        5.681541  1.090172e+07     35.649048      1.078380        0.221423   \n",
       "min        0.000000  1.219000e+04     12.000000      0.000000        2.000000   \n",
       "25%        6.000000  3.400000e+06     40.000000      1.000000        2.600000   \n",
       "50%        9.000000  4.650000e+06     52.000000      2.000000        2.640000   \n",
       "75%       14.000000  6.799000e+06     69.800003      3.000000        2.700000   \n",
       "max       50.000000  7.630000e+08    900.000000     19.000000        4.900000   \n",
       "\n",
       "       floors_total   living_area         floor  kitchen_area       balcony  \\\n",
       "count  23613.000000  23613.000000  23613.000000  23613.000000  23613.000000   \n",
       "mean      10.673824     60.340813      5.877313     60.340813      0.593063   \n",
       "std        6.597173     35.649048      4.873539     35.649048      0.960307   \n",
       "min        1.000000     12.000000      1.000000     12.000000      0.000000   \n",
       "25%        5.000000     40.000000      2.000000     40.000000      0.000000   \n",
       "50%        9.000000     52.000000      4.000000     52.000000      0.000000   \n",
       "75%       16.000000     69.800003      8.000000     69.800003      1.000000   \n",
       "max       60.000000    900.000000     33.000000    900.000000      5.000000   \n",
       "\n",
       "       ...  parks_nearest  ponds_around3000  ponds_nearest  days_exposition  \\\n",
       "count  ...    8045.000000      18105.000000    9061.000000     20441.000000   \n",
       "mean   ...     490.554630          0.770119     518.209469       180.884839   \n",
       "std    ...     341.336698          0.939075     277.887489       219.685543   \n",
       "min    ...       1.000000          0.000000      13.000000         1.000000   \n",
       "25%    ...     288.000000          0.000000     294.000000        45.000000   \n",
       "50%    ...     455.000000          1.000000     503.000000        95.000000   \n",
       "75%    ...     612.000000          1.000000     730.000000       232.000000   \n",
       "max    ...    3190.000000          3.000000    1344.000000      1580.000000   \n",
       "\n",
       "        price_meter       weekday         month          year  \\\n",
       "count  2.361300e+04  23613.000000  23613.000000  23613.000000   \n",
       "mean   9.939748e+04      2.568035      6.400076   2017.368102   \n",
       "std    5.035802e+04      1.788565      3.493160      1.039383   \n",
       "min    1.120000e+02      0.000000      1.000000   2014.000000   \n",
       "25%    7.656200e+04      1.000000      3.000000   2017.000000   \n",
       "50%    9.500000e+04      3.000000      6.000000   2017.000000   \n",
       "75%    1.142060e+05      4.000000     10.000000   2018.000000   \n",
       "max    1.907500e+06      6.000000     12.000000   2019.000000   \n",
       "\n",
       "       ratio_total_area  ratio_kitchen_area  \n",
       "count           23613.0             23613.0  \n",
       "mean                1.0                 1.0  \n",
       "std                 0.0                 0.0  \n",
       "min                 1.0                 1.0  \n",
       "25%                 1.0                 1.0  \n",
       "50%                 1.0                 1.0  \n",
       "75%                 1.0                 1.0  \n",
       "max                 1.0                 1.0  \n",
       "\n",
       "[8 rows x 23 columns]"
      ]
     },
     "execution_count": 31,
     "metadata": {},
     "output_type": "execute_result"
    }
   ],
   "source": [
    "df.describe()"
   ]
  },
  {
   "cell_type": "markdown",
   "metadata": {},
   "source": [
    "Можно сравнить, значения выводимые функцией `describe()`, и гистограммы. Максимальные, минимальные, средние и медианные значения похожи. Во всех столбцах есть выбивающиеся значения. Графики похожи на распределение Пуассона."
   ]
  },
  {
   "cell_type": "markdown",
   "metadata": {},
   "source": [
    "### Исследование количества времени для продажи квартиры"
   ]
  },
  {
   "cell_type": "markdown",
   "metadata": {},
   "source": [
    "Построим гистограммы для времени продажи квартиры."
   ]
  },
  {
   "cell_type": "code",
   "execution_count": 32,
   "metadata": {},
   "outputs": [
    {
     "data": {
      "text/plain": [
       "<AxesSubplot:>"
      ]
     },
     "execution_count": 32,
     "metadata": {},
     "output_type": "execute_result"
    },
    {
     "data": {
      "image/png": "[encoded data removed]",
      "text/plain": [
       "<Figure size 432x288 with 1 Axes>"
      ]
     },
     "metadata": {
      "needs_background": "light"
     },
     "output_type": "display_data"
    }
   ],
   "source": [
    "df['days_exposition'].hist(bins=20) # построение гистограммы"
   ]
  },
  {
   "cell_type": "markdown",
   "metadata": {},
   "source": [
    "Выведим список характерных значений."
   ]
  },
  {
   "cell_type": "code",
   "execution_count": 33,
   "metadata": {},
   "outputs": [
    {
     "data": {
      "text/plain": [
       "count    20441.000000\n",
       "mean       180.884839\n",
       "std        219.685543\n",
       "min          1.000000\n",
       "25%         45.000000\n",
       "50%         95.000000\n",
       "75%        232.000000\n",
       "max       1580.000000\n",
       "Name: days_exposition, dtype: float64"
      ]
     },
     "execution_count": 33,
     "metadata": {},
     "output_type": "execute_result"
    }
   ],
   "source": [
    "df['days_exposition'].describe() # список характерных значений"
   ]
  },
  {
   "cell_type": "markdown",
   "metadata": {},
   "source": [
    "Медиана равна 95, в то время как среднее равно 180, можно сказать, что выбивающиеся большие значения сильно влияют на величину среднего. Обычно продажа занимает 95 дней. По графику и данным можно отметить, что быстрая продажа - это до 45 дней, а долгая - более 232 дней."
   ]
  },
  {
   "cell_type": "markdown",
   "metadata": {},
   "source": [
    "### Анализ редких и выбивающихся значений"
   ]
  },
  {
   "cell_type": "markdown",
   "metadata": {},
   "source": [
    "Построим диаграммы размаха для `days_exposition`, `total_area`, `last_price`, `rooms`, `ceiling_height`, что увидеть редкие и выбивающиеся значения."
   ]
  },
  {
   "cell_type": "code",
   "execution_count": 34,
   "metadata": {},
   "outputs": [
    {
     "data": {
      "text/plain": [
       "<AxesSubplot:>"
      ]
     },
     "execution_count": 34,
     "metadata": {},
     "output_type": "execute_result"
    },
    {
     "data": {
      "image/png": "[encoded data removed]",
      "text/plain": [
       "<Figure size 432x288 with 1 Axes>"
      ]
     },
     "metadata": {
      "needs_background": "light"
     },
     "output_type": "display_data"
    }
   ],
   "source": [
    "# построение диаграммы размаха\n",
    "df.boxplot(column='days_exposition')"
   ]
  },
  {
   "cell_type": "markdown",
   "metadata": {},
   "source": [
    "Видим, что значения выше 500 являются выбросами. Поэтому можно посмотреть на характерные данные для этого диапозона"
   ]
  },
  {
   "cell_type": "code",
   "execution_count": 35,
   "metadata": {},
   "outputs": [
    {
     "data": {
      "text/plain": [
       "count    18694.000000\n",
       "mean       127.069595\n",
       "std        119.199647\n",
       "min          1.000000\n",
       "25%         41.000000\n",
       "50%         84.000000\n",
       "75%        181.000000\n",
       "max        499.000000\n",
       "Name: days_exposition, dtype: float64"
      ]
     },
     "execution_count": 35,
     "metadata": {},
     "output_type": "execute_result"
    }
   ],
   "source": [
    "days_exposition_character = df[df['days_exposition'] < 500] # отброс выбивающихся значений\n",
    "days_exposition_character['days_exposition'].describe()"
   ]
  },
  {
   "cell_type": "markdown",
   "metadata": {},
   "source": [
    "Видно, что среднее значение стало намного ближе к медиане."
   ]
  },
  {
   "cell_type": "code",
   "execution_count": 36,
   "metadata": {},
   "outputs": [
    {
     "data": {
      "text/plain": [
       "<AxesSubplot:>"
      ]
     },
     "execution_count": 36,
     "metadata": {},
     "output_type": "execute_result"
    },
    {
     "data": {
      "image/png": "[encoded data removed]",
      "text/plain": [
       "<Figure size 432x288 with 1 Axes>"
      ]
     },
     "metadata": {
      "needs_background": "light"
     },
     "output_type": "display_data"
    }
   ],
   "source": [
    "# построение диаграммы размаха\n",
    "df.boxplot(column='total_area')"
   ]
  },
  {
   "cell_type": "markdown",
   "metadata": {},
   "source": [
    "Видим, что значения выше 150 являются выбросами. Поэтому можно посмотреть на характерные данные для этого диапазона"
   ]
  },
  {
   "cell_type": "code",
   "execution_count": 37,
   "metadata": {},
   "outputs": [
    {
     "data": {
      "text/plain": [
       "count    23032.000000\n",
       "mean        56.467258\n",
       "std         22.793861\n",
       "min         12.000000\n",
       "25%         40.000000\n",
       "50%         51.000000\n",
       "75%         67.599998\n",
       "max        149.600006\n",
       "Name: total_area, dtype: float64"
      ]
     },
     "execution_count": 37,
     "metadata": {},
     "output_type": "execute_result"
    }
   ],
   "source": [
    "total_area_character = df[df['total_area'] < 150] # отброс выбивающихся значений\n",
    "total_area_character['total_area'].describe()"
   ]
  },
  {
   "cell_type": "markdown",
   "metadata": {},
   "source": [
    "Среднее и медиана практически совпали."
   ]
  },
  {
   "cell_type": "code",
   "execution_count": 38,
   "metadata": {},
   "outputs": [
    {
     "data": {
      "text/plain": [
       "<AxesSubplot:>"
      ]
     },
     "execution_count": 38,
     "metadata": {},
     "output_type": "execute_result"
    },
    {
     "data": {
      "image/png": "[encoded data removed]",
      "text/plain": [
       "<Figure size 432x288 with 1 Axes>"
      ]
     },
     "metadata": {
      "needs_background": "light"
     },
     "output_type": "display_data"
    }
   ],
   "source": [
    "# построение диаграммы размаха\n",
    "df.boxplot(column='last_price')"
   ]
  },
  {
   "cell_type": "markdown",
   "metadata": {},
   "source": [
    "Видим, что значения выше 10 000 000 являются выбросами. Поэтому можно посмотреть на характерные данные для этого диапазона"
   ]
  },
  {
   "cell_type": "code",
   "execution_count": 39,
   "metadata": {},
   "outputs": [
    {
     "data": {
      "text/plain": [
       "count    2.084600e+04\n",
       "mean     4.632736e+06\n",
       "std      1.948484e+06\n",
       "min      1.219000e+04\n",
       "25%      3.300000e+06\n",
       "50%      4.300000e+06\n",
       "75%      5.800000e+06\n",
       "max      9.999999e+06\n",
       "Name: last_price, dtype: float64"
      ]
     },
     "execution_count": 39,
     "metadata": {},
     "output_type": "execute_result"
    }
   ],
   "source": [
    "last_price_character = df[df['last_price'] < 10000000] # отброс выбивающихся значений\n",
    "last_price_character['last_price'].describe()"
   ]
  },
  {
   "cell_type": "markdown",
   "metadata": {},
   "source": [
    "Среднее и медиана практически совпали."
   ]
  },
  {
   "cell_type": "code",
   "execution_count": 40,
   "metadata": {},
   "outputs": [
    {
     "data": {
      "text/plain": [
       "<AxesSubplot:>"
      ]
     },
     "execution_count": 40,
     "metadata": {},
     "output_type": "execute_result"
    },
    {
     "data": {
      "image/png": "[encoded data removed]",
      "text/plain": [
       "<Figure size 432x288 with 1 Axes>"
      ]
     },
     "metadata": {
      "needs_background": "light"
     },
     "output_type": "display_data"
    }
   ],
   "source": [
    "# построение диаграммы размаха\n",
    "df.boxplot(column='rooms')"
   ]
  },
  {
   "cell_type": "markdown",
   "metadata": {},
   "source": [
    "Видим, что значения выше 6 являются выбросами. Поэтому можно посмотреть на характерные данные для этого диапазона"
   ]
  },
  {
   "cell_type": "code",
   "execution_count": 41,
   "metadata": {},
   "outputs": [
    {
     "data": {
      "text/plain": [
       "count    23419.000000\n",
       "mean         2.030787\n",
       "std          0.973577\n",
       "min          0.000000\n",
       "25%          1.000000\n",
       "50%          2.000000\n",
       "75%          3.000000\n",
       "max          5.000000\n",
       "Name: rooms, dtype: float64"
      ]
     },
     "execution_count": 41,
     "metadata": {},
     "output_type": "execute_result"
    }
   ],
   "source": [
    "rooms_character = df[df['rooms'] < 6]  # отброс выбивающихся значений\n",
    "rooms_character['rooms'].describe()"
   ]
  },
  {
   "cell_type": "markdown",
   "metadata": {},
   "source": [
    "Среднее и медиана практически совпали."
   ]
  },
  {
   "cell_type": "code",
   "execution_count": 42,
   "metadata": {},
   "outputs": [
    {
     "data": {
      "text/plain": [
       "<AxesSubplot:>"
      ]
     },
     "execution_count": 42,
     "metadata": {},
     "output_type": "execute_result"
    },
    {
     "data": {
      "image/png": "[encoded data removed]",
      "text/plain": [
       "<Figure size 432x288 with 1 Axes>"
      ]
     },
     "metadata": {
      "needs_background": "light"
     },
     "output_type": "display_data"
    }
   ],
   "source": [
    "# построение диаграммы размаха\n",
    "df.boxplot(column='ceiling_height')"
   ]
  },
  {
   "cell_type": "markdown",
   "metadata": {},
   "source": [
    "Видим, что значения выше 3 являются выбросами. Поэтому можно посмотреть на характерные данные для этого диапазона"
   ]
  },
  {
   "cell_type": "code",
   "execution_count": 43,
   "metadata": {},
   "outputs": [
    {
     "data": {
      "text/plain": [
       "count    20860.000000\n",
       "mean         2.628104\n",
       "std          0.092386\n",
       "min          2.000000\n",
       "25%          2.600000\n",
       "50%          2.640000\n",
       "75%          2.650000\n",
       "max          2.990000\n",
       "Name: ceiling_height, dtype: float64"
      ]
     },
     "execution_count": 43,
     "metadata": {},
     "output_type": "execute_result"
    }
   ],
   "source": [
    "ceiling_height_character = df[df['ceiling_height'] < 3] # отброс выбивающихся значений\n",
    "ceiling_height_character['ceiling_height'].describe()"
   ]
  },
  {
   "cell_type": "markdown",
   "metadata": {},
   "source": [
    "Среднее и медиана практически совпали."
   ]
  },
  {
   "cell_type": "markdown",
   "metadata": {},
   "source": [
    "### Исследование факторов, влияющих на стоимость квартиры"
   ]
  },
  {
   "cell_type": "markdown",
   "metadata": {},
   "source": [
    "Рассчитаем корреляцию между ценой от площади, числа комнат, удалённости от центра."
   ]
  },
  {
   "cell_type": "code",
   "execution_count": 44,
   "metadata": {
    "scrolled": true
   },
   "outputs": [
    {
     "data": {
      "text/html": [
       "<div>\n",
       "<style scoped>\n",
       "    .dataframe tbody tr th:only-of-type {\n",
       "        vertical-align: middle;\n",
       "    }\n",
       "\n",
       "    .dataframe tbody tr th {\n",
       "        vertical-align: top;\n",
       "    }\n",
       "\n",
       "    .dataframe thead th {\n",
       "        text-align: right;\n",
       "    }\n",
       "</style>\n",
       "<table border=\"1\" class=\"dataframe\">\n",
       "  <thead>\n",
       "    <tr style=\"text-align: right;\">\n",
       "      <th></th>\n",
       "      <th>last_price</th>\n",
       "      <th>total_area</th>\n",
       "    </tr>\n",
       "  </thead>\n",
       "  <tbody>\n",
       "    <tr>\n",
       "      <th>last_price</th>\n",
       "      <td>1.00</td>\n",
       "      <td>0.65</td>\n",
       "    </tr>\n",
       "    <tr>\n",
       "      <th>total_area</th>\n",
       "      <td>0.65</td>\n",
       "      <td>1.00</td>\n",
       "    </tr>\n",
       "  </tbody>\n",
       "</table>\n",
       "</div>"
      ],
      "text/plain": [
       "            last_price  total_area\n",
       "last_price        1.00        0.65\n",
       "total_area        0.65        1.00"
      ]
     },
     "metadata": {},
     "output_type": "display_data"
    },
    {
     "data": {
      "text/html": [
       "<div>\n",
       "<style scoped>\n",
       "    .dataframe tbody tr th:only-of-type {\n",
       "        vertical-align: middle;\n",
       "    }\n",
       "\n",
       "    .dataframe tbody tr th {\n",
       "        vertical-align: top;\n",
       "    }\n",
       "\n",
       "    .dataframe thead th {\n",
       "        text-align: right;\n",
       "    }\n",
       "</style>\n",
       "<table border=\"1\" class=\"dataframe\">\n",
       "  <thead>\n",
       "    <tr style=\"text-align: right;\">\n",
       "      <th></th>\n",
       "      <th>last_price</th>\n",
       "      <th>rooms</th>\n",
       "    </tr>\n",
       "  </thead>\n",
       "  <tbody>\n",
       "    <tr>\n",
       "      <th>last_price</th>\n",
       "      <td>1.00</td>\n",
       "      <td>0.36</td>\n",
       "    </tr>\n",
       "    <tr>\n",
       "      <th>rooms</th>\n",
       "      <td>0.36</td>\n",
       "      <td>1.00</td>\n",
       "    </tr>\n",
       "  </tbody>\n",
       "</table>\n",
       "</div>"
      ],
      "text/plain": [
       "            last_price  rooms\n",
       "last_price        1.00   0.36\n",
       "rooms             0.36   1.00"
      ]
     },
     "metadata": {},
     "output_type": "display_data"
    },
    {
     "data": {
      "text/html": [
       "<div>\n",
       "<style scoped>\n",
       "    .dataframe tbody tr th:only-of-type {\n",
       "        vertical-align: middle;\n",
       "    }\n",
       "\n",
       "    .dataframe tbody tr th {\n",
       "        vertical-align: top;\n",
       "    }\n",
       "\n",
       "    .dataframe thead th {\n",
       "        text-align: right;\n",
       "    }\n",
       "</style>\n",
       "<table border=\"1\" class=\"dataframe\">\n",
       "  <thead>\n",
       "    <tr style=\"text-align: right;\">\n",
       "      <th></th>\n",
       "      <th>last_price</th>\n",
       "      <th>cityCenters_nearest</th>\n",
       "    </tr>\n",
       "  </thead>\n",
       "  <tbody>\n",
       "    <tr>\n",
       "      <th>last_price</th>\n",
       "      <td>1.00</td>\n",
       "      <td>-0.21</td>\n",
       "    </tr>\n",
       "    <tr>\n",
       "      <th>cityCenters_nearest</th>\n",
       "      <td>-0.21</td>\n",
       "      <td>1.00</td>\n",
       "    </tr>\n",
       "  </tbody>\n",
       "</table>\n",
       "</div>"
      ],
      "text/plain": [
       "                     last_price  cityCenters_nearest\n",
       "last_price                 1.00                -0.21\n",
       "cityCenters_nearest       -0.21                 1.00"
      ]
     },
     "metadata": {},
     "output_type": "display_data"
    }
   ],
   "source": [
    "display(df[['last_price','total_area']].corr().round(2)) # расчет корреляции между параметрами last_price и total_area\n",
    "display(df[['last_price','rooms']].corr().round(2)) # расчет корреляции между параметрами last_price и rooms\n",
    "display(df[['last_price','cityCenters_nearest']].corr().round(2)) # расчет корреляции между параметрами last_price и cityCenters_nearest "
   ]
  },
  {
   "cell_type": "markdown",
   "metadata": {},
   "source": [
    "Корреляция между количеством комнат и ценой слабая и положительная, между удаленностью от центра и ценой слабая и отрицательная (обратная), а между площадью и ценой средняя и положительная."
   ]
  },
  {
   "cell_type": "markdown",
   "metadata": {},
   "source": [
    "Определим, как зависит цена от этажа."
   ]
  },
  {
   "cell_type": "code",
   "execution_count": 45,
   "metadata": {},
   "outputs": [
    {
     "name": "stdout",
     "output_type": "stream",
     "text": [
      "другой       17363\n",
      "последний     3336\n",
      "первый        2914\n",
      "Name: floor_category, dtype: int64\n"
     ]
    },
    {
     "data": {
      "text/plain": [
       "<AxesSubplot:title={'center':'Средняя цена продажи в зависомости от этажа'}, xlabel='floor_category'>"
      ]
     },
     "execution_count": 45,
     "metadata": {},
     "output_type": "execute_result"
    },
    {
     "data": {
      "image/png": "[encoded data removed]",
      "text/plain": [
       "<Figure size 432x288 with 1 Axes>"
      ]
     },
     "metadata": {
      "needs_background": "light"
     },
     "output_type": "display_data"
    }
   ],
   "source": [
    "print(df['floor_category'].value_counts())\n",
    "floor_category_ratio = df.groupby('floor_category')['last_price'].mean().sort_values(ascending=True) # группировска значений по floor_category\n",
    "floor_category_ratio.plot(x='floor_category', y='last_price', kind='bar', title = 'Средняя цена продажи в зависомости от этажа', legend =True) # построение столбчатой диаграммы"
   ]
  },
  {
   "cell_type": "markdown",
   "metadata": {},
   "source": [
    "По графику видно, что чем ниже расположена квартира, тем она дешевле."
   ]
  },
  {
   "cell_type": "markdown",
   "metadata": {},
   "source": [
    "Определим, как зависит цена от дня недели, когда размещено объявление."
   ]
  },
  {
   "cell_type": "code",
   "execution_count": 46,
   "metadata": {},
   "outputs": [
    {
     "name": "stdout",
     "output_type": "stream",
     "text": [
      "3    4285\n",
      "1    4170\n",
      "4    3988\n",
      "2    3956\n",
      "0    3602\n",
      "5    1922\n",
      "6    1690\n",
      "Name: weekday, dtype: int64\n"
     ]
    },
    {
     "data": {
      "text/plain": [
       "<AxesSubplot:title={'center':'Средняя цена продажи в зависомости от дня недели'}, ylabel='weekday'>"
      ]
     },
     "execution_count": 46,
     "metadata": {},
     "output_type": "execute_result"
    },
    {
     "data": {
      "image/png": "[encoded data removed]",
      "text/plain": [
       "<Figure size 432x288 with 1 Axes>"
      ]
     },
     "metadata": {
      "needs_background": "light"
     },
     "output_type": "display_data"
    }
   ],
   "source": [
    "print(df['weekday'].value_counts())\n",
    "weekday_ratio = df.groupby('weekday')['last_price'].mean().sort_values(ascending=True) # группировска значений по weekday\n",
    "weekday_ratio.plot(x='floor_category', y='last_price', kind='barh', title = 'Средняя цена продажи в зависомости от дня недели', legend =True) # построение диаграммы"
   ]
  },
  {
   "cell_type": "markdown",
   "metadata": {},
   "source": [
    "По графику видно, что сильных различий нет."
   ]
  },
  {
   "cell_type": "markdown",
   "metadata": {},
   "source": [
    "Определим, как зависит цена от месяца, когда размещено объявление."
   ]
  },
  {
   "cell_type": "code",
   "execution_count": 47,
   "metadata": {},
   "outputs": [
    {
     "name": "stdout",
     "output_type": "stream",
     "text": [
      "2     2637\n",
      "3     2580\n",
      "11    2364\n",
      "4     2362\n",
      "10    2111\n",
      "9     1974\n",
      "6     1752\n",
      "8     1741\n",
      "7     1690\n",
      "12    1641\n",
      "1     1496\n",
      "5     1265\n",
      "Name: month, dtype: int64\n"
     ]
    },
    {
     "data": {
      "text/plain": [
       "<AxesSubplot:title={'center':'Средняя цена продажи в зависомости от месяца'}, ylabel='month'>"
      ]
     },
     "execution_count": 47,
     "metadata": {},
     "output_type": "execute_result"
    },
    {
     "data": {
      "image/png": "[encoded data removed]",
      "text/plain": [
       "<Figure size 432x288 with 1 Axes>"
      ]
     },
     "metadata": {
      "needs_background": "light"
     },
     "output_type": "display_data"
    }
   ],
   "source": [
    "print(df['month'].value_counts()) \n",
    "month_ratio = df.groupby('month')['last_price'].mean().sort_values(ascending=True) # группировска значений по month\n",
    "month_ratio.plot(x='month', y='last_price', kind='barh', title = 'Средняя цена продажи в зависомости от месяца', legend =True) # построение диаграммы"
   ]
  },
  {
   "cell_type": "markdown",
   "metadata": {},
   "source": [
    "На графике видно, что в декабре стоимость самая высокая, при этом самая низкая стоимость в октябре."
   ]
  },
  {
   "cell_type": "markdown",
   "metadata": {},
   "source": [
    "Определим, как зависит цена от года, когда размещено объявление."
   ]
  },
  {
   "cell_type": "code",
   "execution_count": 48,
   "metadata": {},
   "outputs": [
    {
     "name": "stdout",
     "output_type": "stream",
     "text": [
      "2018    8492\n",
      "2017    8166\n",
      "2019    2871\n",
      "2016    2763\n",
      "2015    1184\n",
      "2014     137\n",
      "Name: year, dtype: int64\n"
     ]
    },
    {
     "data": {
      "text/plain": [
       "<AxesSubplot:title={'center':'Средняя цена продажи в зависомости от года'}, ylabel='year'>"
      ]
     },
     "execution_count": 48,
     "metadata": {},
     "output_type": "execute_result"
    },
    {
     "data": {
      "image/png": "[encoded data removed]",
      "text/plain": [
       "<Figure size 432x288 with 1 Axes>"
      ]
     },
     "metadata": {
      "needs_background": "light"
     },
     "output_type": "display_data"
    }
   ],
   "source": [
    "print(df['year'].value_counts())\n",
    "year_ratio = df.groupby('year')['last_price'].mean().sort_values(ascending=True) # группировска значений по year\n",
    "year_ratio.plot(x='year', y='last_price', kind='barh', title = 'Средняя цена продажи в зависомости от года', legend =True) # построение диаграммы"
   ]
  },
  {
   "cell_type": "markdown",
   "metadata": {},
   "source": [
    "Самые дорогие объявления были в 2014 году, возможно, из-за скачак курса доллара."
   ]
  },
  {
   "cell_type": "markdown",
   "metadata": {},
   "source": [
    "### Анализ десяти населённых пунктов с наибольшим числом объявлений"
   ]
  },
  {
   "cell_type": "markdown",
   "metadata": {},
   "source": [
    "Выделим 10 населённых пунктов с наибольшим числом объявлений, затем посчитаем среднюю цену квадратного метра в этих населённых пунктах."
   ]
  },
  {
   "cell_type": "code",
   "execution_count": 49,
   "metadata": {},
   "outputs": [
    {
     "name": "stdout",
     "output_type": "stream",
     "text": [
      "Санкт-Петербург      15651\n",
      "посёлок Мурино         520\n",
      "посёлок Шушары         439\n",
      "Всеволожск             398\n",
      "Пушкин                 369\n",
      "Колпино                338\n",
      "посёлок Парголово      327\n",
      "Гатчина                307\n",
      "деревня Кудрово        299\n",
      "Выборг                 237\n",
      "Name: locality_name, dtype: int64\n"
     ]
    },
    {
     "data": {
      "text/plain": [
       "locality_name\n",
       "Санкт-Петербург      114868.874449\n",
       "Пушкин               103125.818428\n",
       "деревня Кудрово       92473.588629\n",
       "посёлок Парголово     90175.886850\n",
       "посёлок Мурино        85673.253846\n",
       "посёлок Шушары        78551.357631\n",
       "Колпино               75424.571006\n",
       "Гатчина               68746.110749\n",
       "Всеволожск            68654.474874\n",
       "Выборг                58141.919831\n",
       "Name: price_meter, dtype: float64"
      ]
     },
     "execution_count": 49,
     "metadata": {},
     "output_type": "execute_result"
    }
   ],
   "source": [
    "df_10 = df['locality_name'].value_counts().head(10) # вывод 10 населенных пунктов с наибольшим количеством объявлений\n",
    "print(df_10)\n",
    "locality_name_top10 = df[df['locality_name'].isin(df_10.index)]   # срез строк по 10 значениям\n",
    "locality_name_top10_price_meter = locality_name_top10.groupby('locality_name')['price_meter'].mean().sort_values(ascending=False).head(10) # подсчет средней цены квадратного метра для 10 населенных пунктов\n",
    "locality_name_top10_price_meter"
   ]
  },
  {
   "cell_type": "markdown",
   "metadata": {},
   "source": [
    "Самая низкая стоимость жилья в Выборге, а самая высокая в Санкт-Петербурге, что закономерно."
   ]
  },
  {
   "cell_type": "markdown",
   "metadata": {},
   "source": [
    "### Анализ изменения цены по степени удалённости от центра"
   ]
  },
  {
   "cell_type": "markdown",
   "metadata": {},
   "source": [
    "Выделим квартиры в Санкт-Петербурге. Создадим столбец с расстоянием до центра в километрах с округлением до целых значений. В предобработке данных говорили про пропущенные значения в `cityCenters_nearest`, на этом этапе проверим количество пропущенных значений и удалим их, если их доля мала. Также заменим все значения менее 1 километра округлим в большую сторону."
   ]
  },
  {
   "cell_type": "code",
   "execution_count": 50,
   "metadata": {},
   "outputs": [
    {
     "name": "stdout",
     "output_type": "stream",
     "text": [
      "0.003833620854897451\n"
     ]
    },
    {
     "data": {
      "text/html": [
       "<div>\n",
       "<style scoped>\n",
       "    .dataframe tbody tr th:only-of-type {\n",
       "        vertical-align: middle;\n",
       "    }\n",
       "\n",
       "    .dataframe tbody tr th {\n",
       "        vertical-align: top;\n",
       "    }\n",
       "\n",
       "    .dataframe thead th {\n",
       "        text-align: right;\n",
       "    }\n",
       "</style>\n",
       "<table border=\"1\" class=\"dataframe\">\n",
       "  <thead>\n",
       "    <tr style=\"text-align: right;\">\n",
       "      <th></th>\n",
       "      <th>total_images</th>\n",
       "      <th>last_price</th>\n",
       "      <th>total_area</th>\n",
       "      <th>first_day_exposition</th>\n",
       "      <th>rooms</th>\n",
       "      <th>ceiling_height</th>\n",
       "      <th>floors_total</th>\n",
       "      <th>living_area</th>\n",
       "      <th>floor</th>\n",
       "      <th>is_apartment</th>\n",
       "      <th>...</th>\n",
       "      <th>ponds_nearest</th>\n",
       "      <th>days_exposition</th>\n",
       "      <th>price_meter</th>\n",
       "      <th>weekday</th>\n",
       "      <th>month</th>\n",
       "      <th>year</th>\n",
       "      <th>floor_category</th>\n",
       "      <th>ratio_total_area</th>\n",
       "      <th>ratio_kitchen_area</th>\n",
       "      <th>cityCenters_nearest_km</th>\n",
       "    </tr>\n",
       "  </thead>\n",
       "  <tbody>\n",
       "    <tr>\n",
       "      <th>0</th>\n",
       "      <td>20</td>\n",
       "      <td>13000000</td>\n",
       "      <td>108.000000</td>\n",
       "      <td>2019-03-07</td>\n",
       "      <td>3</td>\n",
       "      <td>2.70</td>\n",
       "      <td>16</td>\n",
       "      <td>108.000000</td>\n",
       "      <td>8</td>\n",
       "      <td>NaN</td>\n",
       "      <td>...</td>\n",
       "      <td>755</td>\n",
       "      <td>&lt;NA&gt;</td>\n",
       "      <td>120370.0</td>\n",
       "      <td>3</td>\n",
       "      <td>3</td>\n",
       "      <td>2019</td>\n",
       "      <td>другой</td>\n",
       "      <td>1.0</td>\n",
       "      <td>1.0</td>\n",
       "      <td>16</td>\n",
       "    </tr>\n",
       "    <tr>\n",
       "      <th>2</th>\n",
       "      <td>10</td>\n",
       "      <td>5196000</td>\n",
       "      <td>56.000000</td>\n",
       "      <td>2015-08-20</td>\n",
       "      <td>2</td>\n",
       "      <td>2.60</td>\n",
       "      <td>5</td>\n",
       "      <td>56.000000</td>\n",
       "      <td>4</td>\n",
       "      <td>NaN</td>\n",
       "      <td>...</td>\n",
       "      <td>574</td>\n",
       "      <td>558</td>\n",
       "      <td>92786.0</td>\n",
       "      <td>3</td>\n",
       "      <td>8</td>\n",
       "      <td>2015</td>\n",
       "      <td>другой</td>\n",
       "      <td>1.0</td>\n",
       "      <td>1.0</td>\n",
       "      <td>13</td>\n",
       "    </tr>\n",
       "    <tr>\n",
       "      <th>3</th>\n",
       "      <td>0</td>\n",
       "      <td>64900000</td>\n",
       "      <td>159.000000</td>\n",
       "      <td>2015-07-24</td>\n",
       "      <td>3</td>\n",
       "      <td>2.65</td>\n",
       "      <td>14</td>\n",
       "      <td>159.000000</td>\n",
       "      <td>9</td>\n",
       "      <td>NaN</td>\n",
       "      <td>...</td>\n",
       "      <td>234</td>\n",
       "      <td>424</td>\n",
       "      <td>408176.0</td>\n",
       "      <td>4</td>\n",
       "      <td>7</td>\n",
       "      <td>2015</td>\n",
       "      <td>другой</td>\n",
       "      <td>1.0</td>\n",
       "      <td>1.0</td>\n",
       "      <td>6</td>\n",
       "    </tr>\n",
       "    <tr>\n",
       "      <th>4</th>\n",
       "      <td>2</td>\n",
       "      <td>10000000</td>\n",
       "      <td>100.000000</td>\n",
       "      <td>2018-06-19</td>\n",
       "      <td>2</td>\n",
       "      <td>3.03</td>\n",
       "      <td>14</td>\n",
       "      <td>100.000000</td>\n",
       "      <td>13</td>\n",
       "      <td>NaN</td>\n",
       "      <td>...</td>\n",
       "      <td>48</td>\n",
       "      <td>121</td>\n",
       "      <td>100000.0</td>\n",
       "      <td>1</td>\n",
       "      <td>6</td>\n",
       "      <td>2018</td>\n",
       "      <td>другой</td>\n",
       "      <td>1.0</td>\n",
       "      <td>1.0</td>\n",
       "      <td>8</td>\n",
       "    </tr>\n",
       "    <tr>\n",
       "      <th>7</th>\n",
       "      <td>5</td>\n",
       "      <td>7915000</td>\n",
       "      <td>71.599998</td>\n",
       "      <td>2019-04-18</td>\n",
       "      <td>2</td>\n",
       "      <td>2.60</td>\n",
       "      <td>24</td>\n",
       "      <td>71.599998</td>\n",
       "      <td>22</td>\n",
       "      <td>NaN</td>\n",
       "      <td>...</td>\n",
       "      <td>&lt;NA&gt;</td>\n",
       "      <td>&lt;NA&gt;</td>\n",
       "      <td>110545.0</td>\n",
       "      <td>3</td>\n",
       "      <td>4</td>\n",
       "      <td>2019</td>\n",
       "      <td>другой</td>\n",
       "      <td>1.0</td>\n",
       "      <td>1.0</td>\n",
       "      <td>11</td>\n",
       "    </tr>\n",
       "    <tr>\n",
       "      <th>...</th>\n",
       "      <td>...</td>\n",
       "      <td>...</td>\n",
       "      <td>...</td>\n",
       "      <td>...</td>\n",
       "      <td>...</td>\n",
       "      <td>...</td>\n",
       "      <td>...</td>\n",
       "      <td>...</td>\n",
       "      <td>...</td>\n",
       "      <td>...</td>\n",
       "      <td>...</td>\n",
       "      <td>...</td>\n",
       "      <td>...</td>\n",
       "      <td>...</td>\n",
       "      <td>...</td>\n",
       "      <td>...</td>\n",
       "      <td>...</td>\n",
       "      <td>...</td>\n",
       "      <td>...</td>\n",
       "      <td>...</td>\n",
       "      <td>...</td>\n",
       "    </tr>\n",
       "    <tr>\n",
       "      <th>23689</th>\n",
       "      <td>13</td>\n",
       "      <td>3550000</td>\n",
       "      <td>35.299999</td>\n",
       "      <td>2018-02-28</td>\n",
       "      <td>1</td>\n",
       "      <td>2.86</td>\n",
       "      <td>15</td>\n",
       "      <td>35.299999</td>\n",
       "      <td>4</td>\n",
       "      <td>NaN</td>\n",
       "      <td>...</td>\n",
       "      <td>652</td>\n",
       "      <td>29</td>\n",
       "      <td>100567.0</td>\n",
       "      <td>2</td>\n",
       "      <td>2</td>\n",
       "      <td>2018</td>\n",
       "      <td>другой</td>\n",
       "      <td>1.0</td>\n",
       "      <td>1.0</td>\n",
       "      <td>16</td>\n",
       "    </tr>\n",
       "    <tr>\n",
       "      <th>23690</th>\n",
       "      <td>3</td>\n",
       "      <td>5500000</td>\n",
       "      <td>52.000000</td>\n",
       "      <td>2018-07-19</td>\n",
       "      <td>2</td>\n",
       "      <td>2.60</td>\n",
       "      <td>5</td>\n",
       "      <td>52.000000</td>\n",
       "      <td>2</td>\n",
       "      <td>NaN</td>\n",
       "      <td>...</td>\n",
       "      <td>&lt;NA&gt;</td>\n",
       "      <td>15</td>\n",
       "      <td>105769.0</td>\n",
       "      <td>3</td>\n",
       "      <td>7</td>\n",
       "      <td>2018</td>\n",
       "      <td>другой</td>\n",
       "      <td>1.0</td>\n",
       "      <td>1.0</td>\n",
       "      <td>6</td>\n",
       "    </tr>\n",
       "    <tr>\n",
       "      <th>23691</th>\n",
       "      <td>11</td>\n",
       "      <td>9470000</td>\n",
       "      <td>72.900002</td>\n",
       "      <td>2016-10-13</td>\n",
       "      <td>2</td>\n",
       "      <td>2.75</td>\n",
       "      <td>25</td>\n",
       "      <td>72.900002</td>\n",
       "      <td>7</td>\n",
       "      <td>NaN</td>\n",
       "      <td>...</td>\n",
       "      <td>806</td>\n",
       "      <td>519</td>\n",
       "      <td>129904.0</td>\n",
       "      <td>3</td>\n",
       "      <td>10</td>\n",
       "      <td>2016</td>\n",
       "      <td>другой</td>\n",
       "      <td>1.0</td>\n",
       "      <td>1.0</td>\n",
       "      <td>4</td>\n",
       "    </tr>\n",
       "    <tr>\n",
       "      <th>23694</th>\n",
       "      <td>9</td>\n",
       "      <td>9700000</td>\n",
       "      <td>133.809998</td>\n",
       "      <td>2017-03-21</td>\n",
       "      <td>3</td>\n",
       "      <td>3.70</td>\n",
       "      <td>5</td>\n",
       "      <td>133.809998</td>\n",
       "      <td>3</td>\n",
       "      <td>NaN</td>\n",
       "      <td>...</td>\n",
       "      <td>381</td>\n",
       "      <td>&lt;NA&gt;</td>\n",
       "      <td>72491.0</td>\n",
       "      <td>1</td>\n",
       "      <td>3</td>\n",
       "      <td>2017</td>\n",
       "      <td>другой</td>\n",
       "      <td>1.0</td>\n",
       "      <td>1.0</td>\n",
       "      <td>4</td>\n",
       "    </tr>\n",
       "    <tr>\n",
       "      <th>23697</th>\n",
       "      <td>13</td>\n",
       "      <td>11475000</td>\n",
       "      <td>76.750000</td>\n",
       "      <td>2017-03-28</td>\n",
       "      <td>2</td>\n",
       "      <td>3.00</td>\n",
       "      <td>17</td>\n",
       "      <td>76.750000</td>\n",
       "      <td>12</td>\n",
       "      <td>NaN</td>\n",
       "      <td>...</td>\n",
       "      <td>196</td>\n",
       "      <td>602</td>\n",
       "      <td>149511.0</td>\n",
       "      <td>1</td>\n",
       "      <td>3</td>\n",
       "      <td>2017</td>\n",
       "      <td>другой</td>\n",
       "      <td>1.0</td>\n",
       "      <td>1.0</td>\n",
       "      <td>10</td>\n",
       "    </tr>\n",
       "  </tbody>\n",
       "</table>\n",
       "<p>15591 rows × 30 columns</p>\n",
       "</div>"
      ],
      "text/plain": [
       "       total_images  last_price  total_area first_day_exposition  rooms  \\\n",
       "0                20    13000000  108.000000           2019-03-07      3   \n",
       "2                10     5196000   56.000000           2015-08-20      2   \n",
       "3                 0    64900000  159.000000           2015-07-24      3   \n",
       "4                 2    10000000  100.000000           2018-06-19      2   \n",
       "7                 5     7915000   71.599998           2019-04-18      2   \n",
       "...             ...         ...         ...                  ...    ...   \n",
       "23689            13     3550000   35.299999           2018-02-28      1   \n",
       "23690             3     5500000   52.000000           2018-07-19      2   \n",
       "23691            11     9470000   72.900002           2016-10-13      2   \n",
       "23694             9     9700000  133.809998           2017-03-21      3   \n",
       "23697            13    11475000   76.750000           2017-03-28      2   \n",
       "\n",
       "       ceiling_height  floors_total  living_area  floor is_apartment  ...  \\\n",
       "0                2.70            16   108.000000      8          NaN  ...   \n",
       "2                2.60             5    56.000000      4          NaN  ...   \n",
       "3                2.65            14   159.000000      9          NaN  ...   \n",
       "4                3.03            14   100.000000     13          NaN  ...   \n",
       "7                2.60            24    71.599998     22          NaN  ...   \n",
       "...               ...           ...          ...    ...          ...  ...   \n",
       "23689            2.86            15    35.299999      4          NaN  ...   \n",
       "23690            2.60             5    52.000000      2          NaN  ...   \n",
       "23691            2.75            25    72.900002      7          NaN  ...   \n",
       "23694            3.70             5   133.809998      3          NaN  ...   \n",
       "23697            3.00            17    76.750000     12          NaN  ...   \n",
       "\n",
       "       ponds_nearest  days_exposition  price_meter  weekday month  year  \\\n",
       "0                755             <NA>     120370.0        3     3  2019   \n",
       "2                574              558      92786.0        3     8  2015   \n",
       "3                234              424     408176.0        4     7  2015   \n",
       "4                 48              121     100000.0        1     6  2018   \n",
       "7               <NA>             <NA>     110545.0        3     4  2019   \n",
       "...              ...              ...          ...      ...   ...   ...   \n",
       "23689            652               29     100567.0        2     2  2018   \n",
       "23690           <NA>               15     105769.0        3     7  2018   \n",
       "23691            806              519     129904.0        3    10  2016   \n",
       "23694            381             <NA>      72491.0        1     3  2017   \n",
       "23697            196              602     149511.0        1     3  2017   \n",
       "\n",
       "       floor_category  ratio_total_area  ratio_kitchen_area  \\\n",
       "0              другой               1.0                 1.0   \n",
       "2              другой               1.0                 1.0   \n",
       "3              другой               1.0                 1.0   \n",
       "4              другой               1.0                 1.0   \n",
       "7              другой               1.0                 1.0   \n",
       "...               ...               ...                 ...   \n",
       "23689          другой               1.0                 1.0   \n",
       "23690          другой               1.0                 1.0   \n",
       "23691          другой               1.0                 1.0   \n",
       "23694          другой               1.0                 1.0   \n",
       "23697          другой               1.0                 1.0   \n",
       "\n",
       "       cityCenters_nearest_km  \n",
       "0                          16  \n",
       "2                          13  \n",
       "3                           6  \n",
       "4                           8  \n",
       "7                          11  \n",
       "...                       ...  \n",
       "23689                      16  \n",
       "23690                       6  \n",
       "23691                       4  \n",
       "23694                       4  \n",
       "23697                      10  \n",
       "\n",
       "[15591 rows x 30 columns]"
      ]
     },
     "execution_count": 50,
     "metadata": {},
     "output_type": "execute_result"
    }
   ],
   "source": [
    "locality_name_sp = df[df['locality_name'].isin(['Санкт-Петербург'])] # выбор квартир в Санкт-Петербург\n",
    "print(locality_name_sp['cityCenters_nearest'].isna().mean()) # доля пропущенных значений в cityCenters_nearest\n",
    "locality_name_sp = locality_name_sp.dropna(subset=['cityCenters_nearest']) # удаление пропусков\n",
    "locality_name_sp['cityCenters_nearest_km'] = locality_name_sp['cityCenters_nearest'] / 1000 # добавление столбца cityCenters_nearest_km\n",
    "locality_name_sp.loc[locality_name_sp['cityCenters_nearest_km'] < 1, 'cityCenters_nearest_km'] = 1 # замена значений на среднее\n",
    "locality_name_sp['cityCenters_nearest_km'] = locality_name_sp['cityCenters_nearest_km'].astype('Int64') # изменение типа данных\n",
    "locality_name_sp"
   ]
  },
  {
   "cell_type": "markdown",
   "metadata": {},
   "source": [
    "После этого посчитаем среднюю цену квадратного метра для каждого километра `square_meter_price`. Построим график зависимости средней цены `square_meter_price` от удалённости от центра `cityCenters_nearest_km`. Определим границу, где график сильно меняется. Таким образом определим, какая область входит в центр."
   ]
  },
  {
   "cell_type": "code",
   "execution_count": 51,
   "metadata": {},
   "outputs": [
    {
     "data": {
      "text/plain": [
       "<AxesSubplot:xlabel='cityCenters_nearest_km'>"
      ]
     },
     "execution_count": 51,
     "metadata": {},
     "output_type": "execute_result"
    },
    {
     "data": {
      "image/png": "[encoded data removed]",
      "text/plain": [
       "<Figure size 720x216 with 1 Axes>"
      ]
     },
     "metadata": {
      "needs_background": "light"
     },
     "output_type": "display_data"
    }
   ],
   "source": [
    "locality_name_sp['square_meter_price'] = locality_name_sp['price_meter'] / locality_name_sp['cityCenters_nearest_km'] # создание столбца square_meter_price\n",
    "locality_name_sp['square_meter_price'] = locality_name_sp['square_meter_price'].astype('Int64') # изменение типа данных\n",
    "mean_price_km = locality_name_sp.groupby('cityCenters_nearest_km')['square_meter_price'].mean().astype('Int64') # группировка данных square_meter_price по cityCenters_nearest_km\n",
    "mean_price_km.plot(x='cityCenters_nearest_km', y='square_meter_price', grid=True, figsize=(10, 3), legend =True) # построение графика"
   ]
  },
  {
   "cell_type": "markdown",
   "metadata": {},
   "source": [
    "График становится более пологим на границе 8 км - это и будет центральная зона."
   ]
  },
  {
   "cell_type": "markdown",
   "metadata": {},
   "source": [
    "### Сравнение выводов по квартирам в центре и общих выводов по всему городу"
   ]
  },
  {
   "cell_type": "markdown",
   "metadata": {},
   "source": [
    "Выделим сегмент квартир в центре. Проанализируем эту территорию и изучим следующие параметры: площадь, цена, число комнат, высота потолков. Также выделим факторы, которые влияют на стоимость квартиры (число комнат, этаж, удалённость от центра, дата размещения объявления). Затем срвним эти показатели с параметрами по общей базе."
   ]
  },
  {
   "cell_type": "code",
   "execution_count": 52,
   "metadata": {},
   "outputs": [
    {
     "data": {
      "text/html": [
       "<div>\n",
       "<style scoped>\n",
       "    .dataframe tbody tr th:only-of-type {\n",
       "        vertical-align: middle;\n",
       "    }\n",
       "\n",
       "    .dataframe tbody tr th {\n",
       "        vertical-align: top;\n",
       "    }\n",
       "\n",
       "    .dataframe thead th {\n",
       "        text-align: right;\n",
       "    }\n",
       "</style>\n",
       "<table border=\"1\" class=\"dataframe\">\n",
       "  <thead>\n",
       "    <tr style=\"text-align: right;\">\n",
       "      <th></th>\n",
       "      <th>total_images</th>\n",
       "      <th>last_price</th>\n",
       "      <th>total_area</th>\n",
       "      <th>rooms</th>\n",
       "      <th>ceiling_height</th>\n",
       "      <th>floors_total</th>\n",
       "      <th>living_area</th>\n",
       "      <th>floor</th>\n",
       "      <th>kitchen_area</th>\n",
       "      <th>balcony</th>\n",
       "      <th>...</th>\n",
       "      <th>ponds_nearest</th>\n",
       "      <th>days_exposition</th>\n",
       "      <th>price_meter</th>\n",
       "      <th>weekday</th>\n",
       "      <th>month</th>\n",
       "      <th>year</th>\n",
       "      <th>ratio_total_area</th>\n",
       "      <th>ratio_kitchen_area</th>\n",
       "      <th>cityCenters_nearest_km</th>\n",
       "      <th>square_meter_price</th>\n",
       "    </tr>\n",
       "  </thead>\n",
       "  <tbody>\n",
       "    <tr>\n",
       "      <th>count</th>\n",
       "      <td>3705.000000</td>\n",
       "      <td>3.705000e+03</td>\n",
       "      <td>3705.000000</td>\n",
       "      <td>3705.000000</td>\n",
       "      <td>3704.000000</td>\n",
       "      <td>3705.000000</td>\n",
       "      <td>3705.000000</td>\n",
       "      <td>3705.000000</td>\n",
       "      <td>3705.000000</td>\n",
       "      <td>3705.000000</td>\n",
       "      <td>...</td>\n",
       "      <td>2657.000000</td>\n",
       "      <td>3099.000000</td>\n",
       "      <td>3.705000e+03</td>\n",
       "      <td>3705.000000</td>\n",
       "      <td>3705.000000</td>\n",
       "      <td>3705.000000</td>\n",
       "      <td>3705.0</td>\n",
       "      <td>3705.0</td>\n",
       "      <td>3705.000000</td>\n",
       "      <td>3.705000e+03</td>\n",
       "    </tr>\n",
       "    <tr>\n",
       "      <th>mean</th>\n",
       "      <td>10.268016</td>\n",
       "      <td>1.472224e+07</td>\n",
       "      <td>92.245758</td>\n",
       "      <td>2.812686</td>\n",
       "      <td>2.939449</td>\n",
       "      <td>7.243455</td>\n",
       "      <td>92.245758</td>\n",
       "      <td>4.275034</td>\n",
       "      <td>92.245758</td>\n",
       "      <td>0.330364</td>\n",
       "      <td>...</td>\n",
       "      <td>464.175009</td>\n",
       "      <td>245.220394</td>\n",
       "      <td>1.444201e+05</td>\n",
       "      <td>2.526316</td>\n",
       "      <td>6.428880</td>\n",
       "      <td>2017.174089</td>\n",
       "      <td>1.0</td>\n",
       "      <td>1.0</td>\n",
       "      <td>4.219433</td>\n",
       "      <td>4.722729e+04</td>\n",
       "    </tr>\n",
       "    <tr>\n",
       "      <th>std</th>\n",
       "      <td>6.007394</td>\n",
       "      <td>2.472347e+07</td>\n",
       "      <td>60.491150</td>\n",
       "      <td>1.456719</td>\n",
       "      <td>0.353607</td>\n",
       "      <td>3.974351</td>\n",
       "      <td>60.491150</td>\n",
       "      <td>3.057527</td>\n",
       "      <td>60.491150</td>\n",
       "      <td>0.768514</td>\n",
       "      <td>...</td>\n",
       "      <td>270.117231</td>\n",
       "      <td>271.603465</td>\n",
       "      <td>9.192280e+04</td>\n",
       "      <td>1.722805</td>\n",
       "      <td>3.460418</td>\n",
       "      <td>1.122217</td>\n",
       "      <td>0.0</td>\n",
       "      <td>0.0</td>\n",
       "      <td>1.709031</td>\n",
       "      <td>6.781918e+04</td>\n",
       "    </tr>\n",
       "    <tr>\n",
       "      <th>min</th>\n",
       "      <td>0.000000</td>\n",
       "      <td>1.600000e+06</td>\n",
       "      <td>12.000000</td>\n",
       "      <td>0.000000</td>\n",
       "      <td>2.000000</td>\n",
       "      <td>2.000000</td>\n",
       "      <td>12.000000</td>\n",
       "      <td>1.000000</td>\n",
       "      <td>12.000000</td>\n",
       "      <td>0.000000</td>\n",
       "      <td>...</td>\n",
       "      <td>22.000000</td>\n",
       "      <td>3.000000</td>\n",
       "      <td>1.534500e+04</td>\n",
       "      <td>0.000000</td>\n",
       "      <td>1.000000</td>\n",
       "      <td>2014.000000</td>\n",
       "      <td>1.0</td>\n",
       "      <td>1.0</td>\n",
       "      <td>1.000000</td>\n",
       "      <td>3.069000e+03</td>\n",
       "    </tr>\n",
       "    <tr>\n",
       "      <th>25%</th>\n",
       "      <td>6.000000</td>\n",
       "      <td>6.590000e+06</td>\n",
       "      <td>56.000000</td>\n",
       "      <td>2.000000</td>\n",
       "      <td>2.650000</td>\n",
       "      <td>5.000000</td>\n",
       "      <td>56.000000</td>\n",
       "      <td>2.000000</td>\n",
       "      <td>56.000000</td>\n",
       "      <td>0.000000</td>\n",
       "      <td>...</td>\n",
       "      <td>227.000000</td>\n",
       "      <td>60.000000</td>\n",
       "      <td>1.000000e+05</td>\n",
       "      <td>1.000000</td>\n",
       "      <td>3.000000</td>\n",
       "      <td>2017.000000</td>\n",
       "      <td>1.0</td>\n",
       "      <td>1.0</td>\n",
       "      <td>3.000000</td>\n",
       "      <td>2.218500e+04</td>\n",
       "    </tr>\n",
       "    <tr>\n",
       "      <th>50%</th>\n",
       "      <td>10.000000</td>\n",
       "      <td>9.000000e+06</td>\n",
       "      <td>77.699997</td>\n",
       "      <td>3.000000</td>\n",
       "      <td>2.830000</td>\n",
       "      <td>6.000000</td>\n",
       "      <td>77.699997</td>\n",
       "      <td>4.000000</td>\n",
       "      <td>77.699997</td>\n",
       "      <td>0.000000</td>\n",
       "      <td>...</td>\n",
       "      <td>450.000000</td>\n",
       "      <td>140.000000</td>\n",
       "      <td>1.236110e+05</td>\n",
       "      <td>3.000000</td>\n",
       "      <td>6.000000</td>\n",
       "      <td>2017.000000</td>\n",
       "      <td>1.0</td>\n",
       "      <td>1.0</td>\n",
       "      <td>4.000000</td>\n",
       "      <td>3.068700e+04</td>\n",
       "    </tr>\n",
       "    <tr>\n",
       "      <th>75%</th>\n",
       "      <td>15.000000</td>\n",
       "      <td>1.410000e+07</td>\n",
       "      <td>108.599998</td>\n",
       "      <td>3.000000</td>\n",
       "      <td>3.150000</td>\n",
       "      <td>9.000000</td>\n",
       "      <td>108.599998</td>\n",
       "      <td>5.000000</td>\n",
       "      <td>108.599998</td>\n",
       "      <td>0.000000</td>\n",
       "      <td>...</td>\n",
       "      <td>666.000000</td>\n",
       "      <td>342.000000</td>\n",
       "      <td>1.549550e+05</td>\n",
       "      <td>4.000000</td>\n",
       "      <td>10.000000</td>\n",
       "      <td>2018.000000</td>\n",
       "      <td>1.0</td>\n",
       "      <td>1.0</td>\n",
       "      <td>5.000000</td>\n",
       "      <td>4.649900e+04</td>\n",
       "    </tr>\n",
       "    <tr>\n",
       "      <th>max</th>\n",
       "      <td>50.000000</td>\n",
       "      <td>7.630000e+08</td>\n",
       "      <td>900.000000</td>\n",
       "      <td>19.000000</td>\n",
       "      <td>4.900000</td>\n",
       "      <td>27.000000</td>\n",
       "      <td>900.000000</td>\n",
       "      <td>25.000000</td>\n",
       "      <td>900.000000</td>\n",
       "      <td>5.000000</td>\n",
       "      <td>...</td>\n",
       "      <td>1293.000000</td>\n",
       "      <td>1572.000000</td>\n",
       "      <td>1.907500e+06</td>\n",
       "      <td>6.000000</td>\n",
       "      <td>12.000000</td>\n",
       "      <td>2019.000000</td>\n",
       "      <td>1.0</td>\n",
       "      <td>1.0</td>\n",
       "      <td>7.000000</td>\n",
       "      <td>1.736842e+06</td>\n",
       "    </tr>\n",
       "  </tbody>\n",
       "</table>\n",
       "<p>8 rows × 25 columns</p>\n",
       "</div>"
      ],
      "text/plain": [
       "       total_images    last_price   total_area        rooms  ceiling_height  \\\n",
       "count   3705.000000  3.705000e+03  3705.000000  3705.000000     3704.000000   \n",
       "mean      10.268016  1.472224e+07    92.245758     2.812686        2.939449   \n",
       "std        6.007394  2.472347e+07    60.491150     1.456719        0.353607   \n",
       "min        0.000000  1.600000e+06    12.000000     0.000000        2.000000   \n",
       "25%        6.000000  6.590000e+06    56.000000     2.000000        2.650000   \n",
       "50%       10.000000  9.000000e+06    77.699997     3.000000        2.830000   \n",
       "75%       15.000000  1.410000e+07   108.599998     3.000000        3.150000   \n",
       "max       50.000000  7.630000e+08   900.000000    19.000000        4.900000   \n",
       "\n",
       "       floors_total  living_area        floor  kitchen_area      balcony  ...  \\\n",
       "count   3705.000000  3705.000000  3705.000000   3705.000000  3705.000000  ...   \n",
       "mean       7.243455    92.245758     4.275034     92.245758     0.330364  ...   \n",
       "std        3.974351    60.491150     3.057527     60.491150     0.768514  ...   \n",
       "min        2.000000    12.000000     1.000000     12.000000     0.000000  ...   \n",
       "25%        5.000000    56.000000     2.000000     56.000000     0.000000  ...   \n",
       "50%        6.000000    77.699997     4.000000     77.699997     0.000000  ...   \n",
       "75%        9.000000   108.599998     5.000000    108.599998     0.000000  ...   \n",
       "max       27.000000   900.000000    25.000000    900.000000     5.000000  ...   \n",
       "\n",
       "       ponds_nearest  days_exposition   price_meter      weekday        month  \\\n",
       "count    2657.000000      3099.000000  3.705000e+03  3705.000000  3705.000000   \n",
       "mean      464.175009       245.220394  1.444201e+05     2.526316     6.428880   \n",
       "std       270.117231       271.603465  9.192280e+04     1.722805     3.460418   \n",
       "min        22.000000         3.000000  1.534500e+04     0.000000     1.000000   \n",
       "25%       227.000000        60.000000  1.000000e+05     1.000000     3.000000   \n",
       "50%       450.000000       140.000000  1.236110e+05     3.000000     6.000000   \n",
       "75%       666.000000       342.000000  1.549550e+05     4.000000    10.000000   \n",
       "max      1293.000000      1572.000000  1.907500e+06     6.000000    12.000000   \n",
       "\n",
       "              year  ratio_total_area  ratio_kitchen_area  \\\n",
       "count  3705.000000            3705.0              3705.0   \n",
       "mean   2017.174089               1.0                 1.0   \n",
       "std       1.122217               0.0                 0.0   \n",
       "min    2014.000000               1.0                 1.0   \n",
       "25%    2017.000000               1.0                 1.0   \n",
       "50%    2017.000000               1.0                 1.0   \n",
       "75%    2018.000000               1.0                 1.0   \n",
       "max    2019.000000               1.0                 1.0   \n",
       "\n",
       "       cityCenters_nearest_km  square_meter_price  \n",
       "count             3705.000000        3.705000e+03  \n",
       "mean                 4.219433        4.722729e+04  \n",
       "std                  1.709031        6.781918e+04  \n",
       "min                  1.000000        3.069000e+03  \n",
       "25%                  3.000000        2.218500e+04  \n",
       "50%                  4.000000        3.068700e+04  \n",
       "75%                  5.000000        4.649900e+04  \n",
       "max                  7.000000        1.736842e+06  \n",
       "\n",
       "[8 rows x 25 columns]"
      ]
     },
     "execution_count": 52,
     "metadata": {},
     "output_type": "execute_result"
    }
   ],
   "source": [
    "center_sp = locality_name_sp[locality_name_sp['cityCenters_nearest_km'] < 8]\n",
    "center_sp.describe()"
   ]
  },
  {
   "cell_type": "code",
   "execution_count": 53,
   "metadata": {},
   "outputs": [
    {
     "data": {
      "text/html": [
       "<div>\n",
       "<style scoped>\n",
       "    .dataframe tbody tr th:only-of-type {\n",
       "        vertical-align: middle;\n",
       "    }\n",
       "\n",
       "    .dataframe tbody tr th {\n",
       "        vertical-align: top;\n",
       "    }\n",
       "\n",
       "    .dataframe thead th {\n",
       "        text-align: right;\n",
       "    }\n",
       "</style>\n",
       "<table border=\"1\" class=\"dataframe\">\n",
       "  <thead>\n",
       "    <tr style=\"text-align: right;\">\n",
       "      <th></th>\n",
       "      <th>total_images</th>\n",
       "      <th>last_price</th>\n",
       "      <th>total_area</th>\n",
       "      <th>rooms</th>\n",
       "      <th>ceiling_height</th>\n",
       "      <th>floors_total</th>\n",
       "      <th>living_area</th>\n",
       "      <th>floor</th>\n",
       "      <th>kitchen_area</th>\n",
       "      <th>balcony</th>\n",
       "      <th>...</th>\n",
       "      <th>parks_nearest</th>\n",
       "      <th>ponds_around3000</th>\n",
       "      <th>ponds_nearest</th>\n",
       "      <th>days_exposition</th>\n",
       "      <th>price_meter</th>\n",
       "      <th>weekday</th>\n",
       "      <th>month</th>\n",
       "      <th>year</th>\n",
       "      <th>ratio_total_area</th>\n",
       "      <th>ratio_kitchen_area</th>\n",
       "    </tr>\n",
       "  </thead>\n",
       "  <tbody>\n",
       "    <tr>\n",
       "      <th>count</th>\n",
       "      <td>23613.000000</td>\n",
       "      <td>2.361300e+04</td>\n",
       "      <td>23613.000000</td>\n",
       "      <td>23613.000000</td>\n",
       "      <td>23612.000000</td>\n",
       "      <td>23613.000000</td>\n",
       "      <td>23613.000000</td>\n",
       "      <td>23613.000000</td>\n",
       "      <td>23613.000000</td>\n",
       "      <td>23613.000000</td>\n",
       "      <td>...</td>\n",
       "      <td>8045.000000</td>\n",
       "      <td>18105.000000</td>\n",
       "      <td>9061.000000</td>\n",
       "      <td>20441.000000</td>\n",
       "      <td>2.361300e+04</td>\n",
       "      <td>23613.000000</td>\n",
       "      <td>23613.000000</td>\n",
       "      <td>23613.000000</td>\n",
       "      <td>23613.0</td>\n",
       "      <td>23613.0</td>\n",
       "    </tr>\n",
       "    <tr>\n",
       "      <th>mean</th>\n",
       "      <td>9.874518</td>\n",
       "      <td>6.540555e+06</td>\n",
       "      <td>60.340813</td>\n",
       "      <td>2.071147</td>\n",
       "      <td>2.694233</td>\n",
       "      <td>10.673824</td>\n",
       "      <td>60.340813</td>\n",
       "      <td>5.877313</td>\n",
       "      <td>60.340813</td>\n",
       "      <td>0.593063</td>\n",
       "      <td>...</td>\n",
       "      <td>490.554630</td>\n",
       "      <td>0.770119</td>\n",
       "      <td>518.209469</td>\n",
       "      <td>180.884839</td>\n",
       "      <td>9.939748e+04</td>\n",
       "      <td>2.568035</td>\n",
       "      <td>6.400076</td>\n",
       "      <td>2017.368102</td>\n",
       "      <td>1.0</td>\n",
       "      <td>1.0</td>\n",
       "    </tr>\n",
       "    <tr>\n",
       "      <th>std</th>\n",
       "      <td>5.681541</td>\n",
       "      <td>1.090172e+07</td>\n",
       "      <td>35.649048</td>\n",
       "      <td>1.078380</td>\n",
       "      <td>0.221423</td>\n",
       "      <td>6.597173</td>\n",
       "      <td>35.649048</td>\n",
       "      <td>4.873539</td>\n",
       "      <td>35.649048</td>\n",
       "      <td>0.960307</td>\n",
       "      <td>...</td>\n",
       "      <td>341.336698</td>\n",
       "      <td>0.939075</td>\n",
       "      <td>277.887489</td>\n",
       "      <td>219.685543</td>\n",
       "      <td>5.035802e+04</td>\n",
       "      <td>1.788565</td>\n",
       "      <td>3.493160</td>\n",
       "      <td>1.039383</td>\n",
       "      <td>0.0</td>\n",
       "      <td>0.0</td>\n",
       "    </tr>\n",
       "    <tr>\n",
       "      <th>min</th>\n",
       "      <td>0.000000</td>\n",
       "      <td>1.219000e+04</td>\n",
       "      <td>12.000000</td>\n",
       "      <td>0.000000</td>\n",
       "      <td>2.000000</td>\n",
       "      <td>1.000000</td>\n",
       "      <td>12.000000</td>\n",
       "      <td>1.000000</td>\n",
       "      <td>12.000000</td>\n",
       "      <td>0.000000</td>\n",
       "      <td>...</td>\n",
       "      <td>1.000000</td>\n",
       "      <td>0.000000</td>\n",
       "      <td>13.000000</td>\n",
       "      <td>1.000000</td>\n",
       "      <td>1.120000e+02</td>\n",
       "      <td>0.000000</td>\n",
       "      <td>1.000000</td>\n",
       "      <td>2014.000000</td>\n",
       "      <td>1.0</td>\n",
       "      <td>1.0</td>\n",
       "    </tr>\n",
       "    <tr>\n",
       "      <th>25%</th>\n",
       "      <td>6.000000</td>\n",
       "      <td>3.400000e+06</td>\n",
       "      <td>40.000000</td>\n",
       "      <td>1.000000</td>\n",
       "      <td>2.600000</td>\n",
       "      <td>5.000000</td>\n",
       "      <td>40.000000</td>\n",
       "      <td>2.000000</td>\n",
       "      <td>40.000000</td>\n",
       "      <td>0.000000</td>\n",
       "      <td>...</td>\n",
       "      <td>288.000000</td>\n",
       "      <td>0.000000</td>\n",
       "      <td>294.000000</td>\n",
       "      <td>45.000000</td>\n",
       "      <td>7.656200e+04</td>\n",
       "      <td>1.000000</td>\n",
       "      <td>3.000000</td>\n",
       "      <td>2017.000000</td>\n",
       "      <td>1.0</td>\n",
       "      <td>1.0</td>\n",
       "    </tr>\n",
       "    <tr>\n",
       "      <th>50%</th>\n",
       "      <td>9.000000</td>\n",
       "      <td>4.650000e+06</td>\n",
       "      <td>52.000000</td>\n",
       "      <td>2.000000</td>\n",
       "      <td>2.640000</td>\n",
       "      <td>9.000000</td>\n",
       "      <td>52.000000</td>\n",
       "      <td>4.000000</td>\n",
       "      <td>52.000000</td>\n",
       "      <td>0.000000</td>\n",
       "      <td>...</td>\n",
       "      <td>455.000000</td>\n",
       "      <td>1.000000</td>\n",
       "      <td>503.000000</td>\n",
       "      <td>95.000000</td>\n",
       "      <td>9.500000e+04</td>\n",
       "      <td>3.000000</td>\n",
       "      <td>6.000000</td>\n",
       "      <td>2017.000000</td>\n",
       "      <td>1.0</td>\n",
       "      <td>1.0</td>\n",
       "    </tr>\n",
       "    <tr>\n",
       "      <th>75%</th>\n",
       "      <td>14.000000</td>\n",
       "      <td>6.799000e+06</td>\n",
       "      <td>69.800003</td>\n",
       "      <td>3.000000</td>\n",
       "      <td>2.700000</td>\n",
       "      <td>16.000000</td>\n",
       "      <td>69.800003</td>\n",
       "      <td>8.000000</td>\n",
       "      <td>69.800003</td>\n",
       "      <td>1.000000</td>\n",
       "      <td>...</td>\n",
       "      <td>612.000000</td>\n",
       "      <td>1.000000</td>\n",
       "      <td>730.000000</td>\n",
       "      <td>232.000000</td>\n",
       "      <td>1.142060e+05</td>\n",
       "      <td>4.000000</td>\n",
       "      <td>10.000000</td>\n",
       "      <td>2018.000000</td>\n",
       "      <td>1.0</td>\n",
       "      <td>1.0</td>\n",
       "    </tr>\n",
       "    <tr>\n",
       "      <th>max</th>\n",
       "      <td>50.000000</td>\n",
       "      <td>7.630000e+08</td>\n",
       "      <td>900.000000</td>\n",
       "      <td>19.000000</td>\n",
       "      <td>4.900000</td>\n",
       "      <td>60.000000</td>\n",
       "      <td>900.000000</td>\n",
       "      <td>33.000000</td>\n",
       "      <td>900.000000</td>\n",
       "      <td>5.000000</td>\n",
       "      <td>...</td>\n",
       "      <td>3190.000000</td>\n",
       "      <td>3.000000</td>\n",
       "      <td>1344.000000</td>\n",
       "      <td>1580.000000</td>\n",
       "      <td>1.907500e+06</td>\n",
       "      <td>6.000000</td>\n",
       "      <td>12.000000</td>\n",
       "      <td>2019.000000</td>\n",
       "      <td>1.0</td>\n",
       "      <td>1.0</td>\n",
       "    </tr>\n",
       "  </tbody>\n",
       "</table>\n",
       "<p>8 rows × 23 columns</p>\n",
       "</div>"
      ],
      "text/plain": [
       "       total_images    last_price    total_area         rooms  ceiling_height  \\\n",
       "count  23613.000000  2.361300e+04  23613.000000  23613.000000    23612.000000   \n",
       "mean       9.874518  6.540555e+06     60.340813      2.071147        2.694233   \n",
       "std        5.681541  1.090172e+07     35.649048      1.078380        0.221423   \n",
       "min        0.000000  1.219000e+04     12.000000      0.000000        2.000000   \n",
       "25%        6.000000  3.400000e+06     40.000000      1.000000        2.600000   \n",
       "50%        9.000000  4.650000e+06     52.000000      2.000000        2.640000   \n",
       "75%       14.000000  6.799000e+06     69.800003      3.000000        2.700000   \n",
       "max       50.000000  7.630000e+08    900.000000     19.000000        4.900000   \n",
       "\n",
       "       floors_total   living_area         floor  kitchen_area       balcony  \\\n",
       "count  23613.000000  23613.000000  23613.000000  23613.000000  23613.000000   \n",
       "mean      10.673824     60.340813      5.877313     60.340813      0.593063   \n",
       "std        6.597173     35.649048      4.873539     35.649048      0.960307   \n",
       "min        1.000000     12.000000      1.000000     12.000000      0.000000   \n",
       "25%        5.000000     40.000000      2.000000     40.000000      0.000000   \n",
       "50%        9.000000     52.000000      4.000000     52.000000      0.000000   \n",
       "75%       16.000000     69.800003      8.000000     69.800003      1.000000   \n",
       "max       60.000000    900.000000     33.000000    900.000000      5.000000   \n",
       "\n",
       "       ...  parks_nearest  ponds_around3000  ponds_nearest  days_exposition  \\\n",
       "count  ...    8045.000000      18105.000000    9061.000000     20441.000000   \n",
       "mean   ...     490.554630          0.770119     518.209469       180.884839   \n",
       "std    ...     341.336698          0.939075     277.887489       219.685543   \n",
       "min    ...       1.000000          0.000000      13.000000         1.000000   \n",
       "25%    ...     288.000000          0.000000     294.000000        45.000000   \n",
       "50%    ...     455.000000          1.000000     503.000000        95.000000   \n",
       "75%    ...     612.000000          1.000000     730.000000       232.000000   \n",
       "max    ...    3190.000000          3.000000    1344.000000      1580.000000   \n",
       "\n",
       "        price_meter       weekday         month          year  \\\n",
       "count  2.361300e+04  23613.000000  23613.000000  23613.000000   \n",
       "mean   9.939748e+04      2.568035      6.400076   2017.368102   \n",
       "std    5.035802e+04      1.788565      3.493160      1.039383   \n",
       "min    1.120000e+02      0.000000      1.000000   2014.000000   \n",
       "25%    7.656200e+04      1.000000      3.000000   2017.000000   \n",
       "50%    9.500000e+04      3.000000      6.000000   2017.000000   \n",
       "75%    1.142060e+05      4.000000     10.000000   2018.000000   \n",
       "max    1.907500e+06      6.000000     12.000000   2019.000000   \n",
       "\n",
       "       ratio_total_area  ratio_kitchen_area  \n",
       "count           23613.0             23613.0  \n",
       "mean                1.0                 1.0  \n",
       "std                 0.0                 0.0  \n",
       "min                 1.0                 1.0  \n",
       "25%                 1.0                 1.0  \n",
       "50%                 1.0                 1.0  \n",
       "75%                 1.0                 1.0  \n",
       "max                 1.0                 1.0  \n",
       "\n",
       "[8 rows x 23 columns]"
      ]
     },
     "execution_count": 53,
     "metadata": {},
     "output_type": "execute_result"
    }
   ],
   "source": [
    "df.describe()"
   ]
  },
  {
   "cell_type": "markdown",
   "metadata": {},
   "source": [
    "Сравним выделенные параметры по характерным значениям. Показатели среднего и медианы в `last_price` в сегменте больше в 2 раза, чем во всей базе. При этом максимальное значение одинаковое, а вот минимальное разное, как и страндартное отклонение. Выводы по `total_area` похожие, за исключением минимальных значений, здесь они одинаковы. В `rooms` значения среднего и медианы также выше в выборке, а `ceiling_height` не сильно отличаются."
   ]
  },
  {
   "cell_type": "markdown",
   "metadata": {},
   "source": [
    "Построим гистограммы по выбранным параметрам для выборки центра и сравним их со всей базой."
   ]
  },
  {
   "cell_type": "code",
   "execution_count": 54,
   "metadata": {},
   "outputs": [
    {
     "data": {
      "text/plain": [
       "<AxesSubplot:>"
      ]
     },
     "execution_count": 54,
     "metadata": {},
     "output_type": "execute_result"
    },
    {
     "data": {
      "image/png": "[encoded data removed]",
      "text/plain": [
       "<Figure size 432x288 with 1 Axes>"
      ]
     },
     "metadata": {
      "needs_background": "light"
     },
     "output_type": "display_data"
    }
   ],
   "source": [
    "center_sp['total_area'].hist(bins=100) # построение гистограммы"
   ]
  },
  {
   "cell_type": "code",
   "execution_count": 55,
   "metadata": {},
   "outputs": [
    {
     "data": {
      "text/plain": [
       "<AxesSubplot:>"
      ]
     },
     "execution_count": 55,
     "metadata": {},
     "output_type": "execute_result"
    },
    {
     "data": {
      "image/png": "[encoded data removed]",
      "text/plain": [
       "<Figure size 432x288 with 1 Axes>"
      ]
     },
     "metadata": {
      "needs_background": "light"
     },
     "output_type": "display_data"
    }
   ],
   "source": [
    "center_sp['last_price'].hist(range=(0,100000000), bins=50) # построение гистограммы"
   ]
  },
  {
   "cell_type": "code",
   "execution_count": 56,
   "metadata": {},
   "outputs": [
    {
     "data": {
      "text/plain": [
       "<AxesSubplot:>"
      ]
     },
     "execution_count": 56,
     "metadata": {},
     "output_type": "execute_result"
    },
    {
     "data": {
      "image/png": "[encoded data removed]",
      "text/plain": [
       "<Figure size 432x288 with 1 Axes>"
      ]
     },
     "metadata": {
      "needs_background": "light"
     },
     "output_type": "display_data"
    }
   ],
   "source": [
    "center_sp['rooms'].hist(bins=20) # построение гистограммы"
   ]
  },
  {
   "cell_type": "code",
   "execution_count": 57,
   "metadata": {},
   "outputs": [
    {
     "data": {
      "text/plain": [
       "<AxesSubplot:>"
      ]
     },
     "execution_count": 57,
     "metadata": {},
     "output_type": "execute_result"
    },
    {
     "data": {
      "image/png": "[encoded data removed]",
      "text/plain": [
       "<Figure size 432x288 with 1 Axes>"
      ]
     },
     "metadata": {
      "needs_background": "light"
     },
     "output_type": "display_data"
    }
   ],
   "source": [
    "center_sp['ceiling_height'].hist(bins=20) # построение гистограммы"
   ]
  },
  {
   "cell_type": "markdown",
   "metadata": {},
   "source": [
    "Сравнивая гистограммы для центра и общей базе, видим, что по виуд они практически не отличаются, есть небольшие расхождения по характреным точкам, как говорилось выше."
   ]
  },
  {
   "cell_type": "markdown",
   "metadata": {},
   "source": [
    "Рассчитаем корреляцию между ценой от площади, числа комнат, удалённости от центра для выборки."
   ]
  },
  {
   "cell_type": "code",
   "execution_count": 58,
   "metadata": {},
   "outputs": [
    {
     "data": {
      "text/html": [
       "<style type=\"text/css\">\n",
       "#T_c8a79_row0_col0, #T_c8a79_row1_col1 {\n",
       "  background-color: #023858;\n",
       "  color: #f1f1f1;\n",
       "}\n",
       "#T_c8a79_row0_col1, #T_c8a79_row1_col0 {\n",
       "  background-color: #fff7fb;\n",
       "  color: #000000;\n",
       "}\n",
       "</style>\n",
       "<table id=\"T_c8a79_\">\n",
       "  <thead>\n",
       "    <tr>\n",
       "      <th class=\"blank level0\" >&nbsp;</th>\n",
       "      <th class=\"col_heading level0 col0\" >last_price</th>\n",
       "      <th class=\"col_heading level0 col1\" >total_area</th>\n",
       "    </tr>\n",
       "  </thead>\n",
       "  <tbody>\n",
       "    <tr>\n",
       "      <th id=\"T_c8a79_level0_row0\" class=\"row_heading level0 row0\" >last_price</th>\n",
       "      <td id=\"T_c8a79_row0_col0\" class=\"data row0 col0\" >1.000000</td>\n",
       "      <td id=\"T_c8a79_row0_col1\" class=\"data row0 col1\" >0.636563</td>\n",
       "    </tr>\n",
       "    <tr>\n",
       "      <th id=\"T_c8a79_level0_row1\" class=\"row_heading level0 row1\" >total_area</th>\n",
       "      <td id=\"T_c8a79_row1_col0\" class=\"data row1 col0\" >0.636563</td>\n",
       "      <td id=\"T_c8a79_row1_col1\" class=\"data row1 col1\" >1.000000</td>\n",
       "    </tr>\n",
       "  </tbody>\n",
       "</table>\n"
      ],
      "text/plain": [
       "<pandas.io.formats.style.Styler at 0x16315d63d90>"
      ]
     },
     "metadata": {},
     "output_type": "display_data"
    },
    {
     "data": {
      "text/html": [
       "<style type=\"text/css\">\n",
       "#T_ed0bd_row0_col0, #T_ed0bd_row1_col1 {\n",
       "  background-color: #023858;\n",
       "  color: #f1f1f1;\n",
       "}\n",
       "#T_ed0bd_row0_col1, #T_ed0bd_row1_col0 {\n",
       "  background-color: #fff7fb;\n",
       "  color: #000000;\n",
       "}\n",
       "</style>\n",
       "<table id=\"T_ed0bd_\">\n",
       "  <thead>\n",
       "    <tr>\n",
       "      <th class=\"blank level0\" >&nbsp;</th>\n",
       "      <th class=\"col_heading level0 col0\" >last_price</th>\n",
       "      <th class=\"col_heading level0 col1\" >rooms</th>\n",
       "    </tr>\n",
       "  </thead>\n",
       "  <tbody>\n",
       "    <tr>\n",
       "      <th id=\"T_ed0bd_level0_row0\" class=\"row_heading level0 row0\" >last_price</th>\n",
       "      <td id=\"T_ed0bd_row0_col0\" class=\"data row0 col0\" >1.000000</td>\n",
       "      <td id=\"T_ed0bd_row0_col1\" class=\"data row0 col1\" >0.333293</td>\n",
       "    </tr>\n",
       "    <tr>\n",
       "      <th id=\"T_ed0bd_level0_row1\" class=\"row_heading level0 row1\" >rooms</th>\n",
       "      <td id=\"T_ed0bd_row1_col0\" class=\"data row1 col0\" >0.333293</td>\n",
       "      <td id=\"T_ed0bd_row1_col1\" class=\"data row1 col1\" >1.000000</td>\n",
       "    </tr>\n",
       "  </tbody>\n",
       "</table>\n"
      ],
      "text/plain": [
       "<pandas.io.formats.style.Styler at 0x16315fd4dc0>"
      ]
     },
     "metadata": {},
     "output_type": "display_data"
    },
    {
     "data": {
      "text/html": [
       "<style type=\"text/css\">\n",
       "#T_5a3ec_row0_col0, #T_5a3ec_row1_col1 {\n",
       "  background-color: #023858;\n",
       "  color: #f1f1f1;\n",
       "}\n",
       "#T_5a3ec_row0_col1, #T_5a3ec_row1_col0 {\n",
       "  background-color: #fff7fb;\n",
       "  color: #000000;\n",
       "}\n",
       "</style>\n",
       "<table id=\"T_5a3ec_\">\n",
       "  <thead>\n",
       "    <tr>\n",
       "      <th class=\"blank level0\" >&nbsp;</th>\n",
       "      <th class=\"col_heading level0 col0\" >last_price</th>\n",
       "      <th class=\"col_heading level0 col1\" >cityCenters_nearest</th>\n",
       "    </tr>\n",
       "  </thead>\n",
       "  <tbody>\n",
       "    <tr>\n",
       "      <th id=\"T_5a3ec_level0_row0\" class=\"row_heading level0 row0\" >last_price</th>\n",
       "      <td id=\"T_5a3ec_row0_col0\" class=\"data row0 col0\" >1.000000</td>\n",
       "      <td id=\"T_5a3ec_row0_col1\" class=\"data row0 col1\" >-0.048395</td>\n",
       "    </tr>\n",
       "    <tr>\n",
       "      <th id=\"T_5a3ec_level0_row1\" class=\"row_heading level0 row1\" >cityCenters_nearest</th>\n",
       "      <td id=\"T_5a3ec_row1_col0\" class=\"data row1 col0\" >-0.048395</td>\n",
       "      <td id=\"T_5a3ec_row1_col1\" class=\"data row1 col1\" >1.000000</td>\n",
       "    </tr>\n",
       "  </tbody>\n",
       "</table>\n"
      ],
      "text/plain": [
       "<pandas.io.formats.style.Styler at 0x16315f6a490>"
      ]
     },
     "metadata": {},
     "output_type": "display_data"
    }
   ],
   "source": [
    "display(center_sp[['last_price','total_area']].corr().style.background_gradient(axis=None)) # расчет корреляции между параметрами last_price и total_area\n",
    "display(center_sp[['last_price','rooms']].corr().style.background_gradient(axis=None)) # расчет корреляции между параметрами last_price и rooms\n",
    "display(center_sp[['last_price','cityCenters_nearest']].corr().style.background_gradient(axis=None)) # расчет корреляции между параметрами last_price и cityCenters_nearest "
   ]
  },
  {
   "cell_type": "markdown",
   "metadata": {},
   "source": [
    "Корреляция между ценой от площади, числа комнат в районе центра и по общей базе практически идентична, а между ценой и удаленностью от центра различна. В выборке она практически отсутствует. Это можно объяснить тем, что выбран центральный район, а отсекаются все объявления дальше 8 км."
   ]
  },
  {
   "cell_type": "markdown",
   "metadata": {},
   "source": [
    "Сравним зависимость цены от этажа, от дня недели, месяца, года для центра и общей базы."
   ]
  },
  {
   "cell_type": "code",
   "execution_count": 59,
   "metadata": {},
   "outputs": [
    {
     "name": "stdout",
     "output_type": "stream",
     "text": [
      "другой       2646\n",
      "последний     652\n",
      "первый        407\n",
      "Name: floor_category, dtype: int64\n"
     ]
    },
    {
     "data": {
      "text/plain": [
       "<AxesSubplot:title={'center':'Средняя цена продажи в зависомости от этажа'}, xlabel='floor_category'>"
      ]
     },
     "execution_count": 59,
     "metadata": {},
     "output_type": "execute_result"
    },
    {
     "data": {
      "image/png": "[encoded data removed]",
      "text/plain": [
       "<Figure size 432x288 with 1 Axes>"
      ]
     },
     "metadata": {
      "needs_background": "light"
     },
     "output_type": "display_data"
    }
   ],
   "source": [
    "print(center_sp['floor_category'].value_counts())\n",
    "floor_category_ratio = center_sp.groupby('floor_category')['last_price'].mean().sort_values(ascending=True) # группировска значений по floor_category\n",
    "floor_category_ratio.plot(x='floor_category', y='last_price', kind='bar', title = 'Средняя цена продажи в зависомости от этажа', legend =True) # построение столбчатой диаграммы"
   ]
  },
  {
   "cell_type": "code",
   "execution_count": 60,
   "metadata": {},
   "outputs": [
    {
     "name": "stdout",
     "output_type": "stream",
     "text": [
      "3    762\n",
      "2    637\n",
      "1    628\n",
      "4    627\n",
      "0    560\n",
      "5    282\n",
      "6    209\n",
      "Name: weekday, dtype: int64\n"
     ]
    },
    {
     "data": {
      "text/plain": [
       "<AxesSubplot:title={'center':'Средняя цена продажи в зависомости от дня недели'}, ylabel='weekday'>"
      ]
     },
     "execution_count": 60,
     "metadata": {},
     "output_type": "execute_result"
    },
    {
     "data": {
      "image/png": "[encoded data removed]",
      "text/plain": [
       "<Figure size 432x288 with 1 Axes>"
      ]
     },
     "metadata": {
      "needs_background": "light"
     },
     "output_type": "display_data"
    }
   ],
   "source": [
    "print(center_sp['weekday'].value_counts())\n",
    "weekday_ratio = center_sp.groupby('weekday')['last_price'].mean().sort_values(ascending=True) # группировска значений по weekday\n",
    "weekday_ratio.plot(x='floor_category', y='last_price', kind='barh', title = 'Средняя цена продажи в зависомости от дня недели', legend =True) # построение диаграммы"
   ]
  },
  {
   "cell_type": "code",
   "execution_count": 61,
   "metadata": {},
   "outputs": [
    {
     "name": "stdout",
     "output_type": "stream",
     "text": [
      "2     406\n",
      "3     395\n",
      "11    371\n",
      "4     348\n",
      "9     323\n",
      "10    310\n",
      "6     302\n",
      "7     288\n",
      "8     272\n",
      "12    256\n",
      "1     226\n",
      "5     208\n",
      "Name: month, dtype: int64\n"
     ]
    },
    {
     "data": {
      "text/plain": [
       "<AxesSubplot:title={'center':'Средняя цена продажи в зависомости от месяца'}, ylabel='month'>"
      ]
     },
     "execution_count": 61,
     "metadata": {},
     "output_type": "execute_result"
    },
    {
     "data": {
      "image/png": "[encoded data removed]",
      "text/plain": [
       "<Figure size 432x288 with 1 Axes>"
      ]
     },
     "metadata": {
      "needs_background": "light"
     },
     "output_type": "display_data"
    }
   ],
   "source": [
    "print(center_sp['month'].value_counts()) \n",
    "month_ratio = center_sp.groupby('month')['last_price'].mean().sort_values(ascending=True) # группировска значений по month\n",
    "month_ratio.plot(x='month', y='last_price', kind='barh', title = 'Средняя цена продажи в зависомости от месяца', legend =True) # построение диаграммы"
   ]
  },
  {
   "cell_type": "code",
   "execution_count": 62,
   "metadata": {},
   "outputs": [
    {
     "name": "stdout",
     "output_type": "stream",
     "text": [
      "2017    1328\n",
      "2018    1102\n",
      "2016     520\n",
      "2019     400\n",
      "2015     328\n",
      "2014      27\n",
      "Name: year, dtype: int64\n"
     ]
    },
    {
     "data": {
      "text/plain": [
       "<AxesSubplot:title={'center':'Средняя цена продажи в зависомости от года'}, ylabel='year'>"
      ]
     },
     "execution_count": 62,
     "metadata": {},
     "output_type": "execute_result"
    },
    {
     "data": {
      "image/png": "[encoded data removed]",
      "text/plain": [
       "<Figure size 432x288 with 1 Axes>"
      ]
     },
     "metadata": {
      "needs_background": "light"
     },
     "output_type": "display_data"
    }
   ],
   "source": [
    "print(center_sp['year'].value_counts())\n",
    "year_ratio = center_sp.groupby('year')['last_price'].mean().sort_values(ascending=True) # группировска значений по year\n",
    "year_ratio.plot(x='year', y='last_price', kind='barh', title = 'Средняя цена продажи в зависомости от года', legend =True) # построение диаграммы"
   ]
  },
  {
   "cell_type": "markdown",
   "metadata": {},
   "source": [
    "Проанализировав эти графики можно сказать, что различия несущественны. Зависимость от этажа такая же, от года минимальная и максимальная цена была в те же годы, день недели с максимальной ценой - суббота, а месяц - декабрь."
   ]
  },
  {
   "cell_type": "markdown",
   "metadata": {},
   "source": [
    "### Вывод"
   ]
  },
  {
   "cell_type": "markdown",
   "metadata": {},
   "source": [
    "Мы изучили и построили гистограммы для площади, цены, число комнат, высоты потолков. Графики похожи на распределения Пуассона. Построив гистограмму для времени продажи квартиры, определили, что обычно продажа занимает 95 дней, быстрая продажа - это до 45 дней, а долгая - более 232 дней. Построив диаграммы размаха для всех этих параметров определили и убрали выбивающиеся значения, после чего медиана и среднее стали ближе друг к другу.\n",
    "\n",
    "Определили факторы больше всего влияющие на стоимость квартиры. Корреляция между количеством комнат и ценой слабая и положительная, между удаленностью от центра и ценой слабая и отрицательная (обратная), а между площадью и ценой средняя и положительная. Построив графики, определили каким образом этаж и дата размещения объявления влияют на цену.\n",
    "\n",
    "Выделили 10 населённых пунктов с наибольшим числом объявлений. Для них самая низкая стоимость жилья в Выборге, а самая высокая в Санкт-Петербурге.\n",
    "\n",
    "Посчитали и выделили центральную зону в Санкт-Петербурге, где стоимость квартир наибольшая. Это - 8 км.\n",
    "\n",
    "Сравнив параметры для общей базы и центра Санкт-Петербурга, можно заметить, что тенденция, зависимость, вид графиков очень похожи."
   ]
  },
  {
   "cell_type": "markdown",
   "metadata": {},
   "source": [
    "## Общий вывод"
   ]
  },
  {
   "cell_type": "markdown",
   "metadata": {},
   "source": [
    "В ходе исследования необходимо было установить параметры, которые определяют рыночную стоимость объектов недвижимости, а также их влияние.\n",
    "\n",
    "1. В данных было найдено небольшое количество пропусков и аномалий, часть из которых были устранены. Пропуски в столбцах, которые не влияют на ход исследования, были оставлены.\n",
    "2. В данные были внесены дополнительные столбцы для более глубокого анализа.\n",
    "3. В ходе исследования было установлено:     \n",
    "* в данных есть выбросы, которые влияют на значения среднего и медианы, был сделан срез данных с учетом этих выбросов, характерные значения стали более объективными,    \n",
    "* корреляция между количеством комнат и ценой (слабая и положительная), между удаленностью от центра и ценой (слабая и отрицательная), между площадью и ценой (средняя и положительная),   \n",
    "* чем ниже расположена квартира, тем она дешевле, самые дорогие объявления в декабре, самые дорогие квартиры в 2014 году,   \n",
    "* в 10 населённых пунктов с наибольшим числом объявлений самая низкая стоимость жилья в Выборге, а самая высокая в Санкт-Петербурге,   \n",
    "* 8 км - центральная зона в Санкт-Петербурге, где стоимость квартир наибольшая,    \n",
    "* зависимости между общей базой и квратирами в центре Санкт-Петербурга однотипны и похожи.\n",
    "\n",
    "    "
   ]
  }
 ],
 "metadata": {
  "ExecuteTimeLog": [
   {
    "duration": 524,
    "start_time": "2022-04-25T09:43:00.263Z"
   },
   {
    "duration": 129,
    "start_time": "2022-04-25T09:43:25.109Z"
   },
   {
    "duration": 103,
    "start_time": "2022-04-25T09:43:29.773Z"
   },
   {
    "duration": 110,
    "start_time": "2022-04-25T09:44:09.481Z"
   },
   {
    "duration": 198,
    "start_time": "2022-04-25T09:45:44.391Z"
   },
   {
    "duration": 1979,
    "start_time": "2022-04-25T09:48:31.859Z"
   },
   {
    "duration": 244,
    "start_time": "2022-04-25T09:49:07.067Z"
   },
   {
    "duration": 132,
    "start_time": "2022-04-25T09:49:31.428Z"
   },
   {
    "duration": 132,
    "start_time": "2022-04-25T09:49:58.966Z"
   },
   {
    "duration": 71,
    "start_time": "2022-04-25T16:54:29.345Z"
   },
   {
    "duration": 701,
    "start_time": "2022-04-25T16:54:36.028Z"
   },
   {
    "duration": 7,
    "start_time": "2022-04-25T16:54:36.732Z"
   },
   {
    "duration": 8,
    "start_time": "2022-04-25T16:55:17.372Z"
   },
   {
    "duration": 8,
    "start_time": "2022-04-25T16:56:00.273Z"
   },
   {
    "duration": 12,
    "start_time": "2022-04-25T16:56:45.018Z"
   },
   {
    "duration": 7,
    "start_time": "2022-04-25T16:57:27.639Z"
   },
   {
    "duration": 10,
    "start_time": "2022-04-25T16:58:09.253Z"
   },
   {
    "duration": 11,
    "start_time": "2022-04-25T16:59:34.933Z"
   },
   {
    "duration": 13,
    "start_time": "2022-04-25T17:00:44.376Z"
   },
   {
    "duration": 12,
    "start_time": "2022-04-25T17:01:18.605Z"
   },
   {
    "duration": 14,
    "start_time": "2022-04-25T17:01:54.857Z"
   },
   {
    "duration": 15,
    "start_time": "2022-04-25T17:02:30.035Z"
   },
   {
    "duration": 13,
    "start_time": "2022-04-25T17:03:08.288Z"
   },
   {
    "duration": 13,
    "start_time": "2022-04-25T17:03:36.247Z"
   },
   {
    "duration": 12,
    "start_time": "2022-04-25T17:04:05.267Z"
   },
   {
    "duration": 16,
    "start_time": "2022-04-25T17:04:50.682Z"
   },
   {
    "duration": 15,
    "start_time": "2022-04-25T17:05:21.119Z"
   },
   {
    "duration": 15,
    "start_time": "2022-04-25T17:06:15.528Z"
   },
   {
    "duration": 14,
    "start_time": "2022-04-25T17:06:39.281Z"
   },
   {
    "duration": 15,
    "start_time": "2022-04-25T17:07:00.397Z"
   },
   {
    "duration": 13,
    "start_time": "2022-04-25T17:07:23.934Z"
   },
   {
    "duration": 15,
    "start_time": "2022-04-25T17:07:45.467Z"
   },
   {
    "duration": 13,
    "start_time": "2022-04-25T17:08:12.635Z"
   },
   {
    "duration": 97,
    "start_time": "2022-04-25T17:08:55.633Z"
   },
   {
    "duration": 616,
    "start_time": "2022-04-26T07:16:54.989Z"
   },
   {
    "duration": 12,
    "start_time": "2022-04-26T07:16:55.608Z"
   },
   {
    "duration": 130,
    "start_time": "2022-04-26T07:16:55.623Z"
   },
   {
    "duration": 18,
    "start_time": "2022-04-26T07:16:55.756Z"
   },
   {
    "duration": 46,
    "start_time": "2022-04-26T07:17:39.967Z"
   },
   {
    "duration": 7,
    "start_time": "2022-04-26T07:23:27.045Z"
   },
   {
    "duration": 11,
    "start_time": "2022-04-26T07:24:16.002Z"
   },
   {
    "duration": 82,
    "start_time": "2022-04-26T07:25:15.176Z"
   },
   {
    "duration": 24,
    "start_time": "2022-04-26T07:28:35.902Z"
   },
   {
    "duration": 705,
    "start_time": "2022-04-26T07:29:07.332Z"
   },
   {
    "duration": 26,
    "start_time": "2022-04-26T07:29:08.040Z"
   },
   {
    "duration": 137,
    "start_time": "2022-04-26T07:29:08.068Z"
   },
   {
    "duration": 19,
    "start_time": "2022-04-26T07:29:08.208Z"
   },
   {
    "duration": 64,
    "start_time": "2022-04-26T07:29:08.229Z"
   },
   {
    "duration": 7,
    "start_time": "2022-04-26T07:29:08.295Z"
   },
   {
    "duration": 72,
    "start_time": "2022-04-26T07:29:08.304Z"
   },
   {
    "duration": 112,
    "start_time": "2022-04-26T07:29:08.378Z"
   },
   {
    "duration": 89,
    "start_time": "2022-04-26T07:31:34.602Z"
   },
   {
    "duration": 37,
    "start_time": "2022-04-26T07:31:45.874Z"
   },
   {
    "duration": 100,
    "start_time": "2022-04-26T07:37:36.838Z"
   },
   {
    "duration": 103,
    "start_time": "2022-04-26T07:38:23.033Z"
   },
   {
    "duration": 5,
    "start_time": "2022-04-26T07:39:17.926Z"
   },
   {
    "duration": 115,
    "start_time": "2022-04-26T07:40:10.778Z"
   },
   {
    "duration": 740,
    "start_time": "2022-04-26T07:40:16.100Z"
   },
   {
    "duration": 22,
    "start_time": "2022-04-26T07:40:16.851Z"
   },
   {
    "duration": 145,
    "start_time": "2022-04-26T07:40:16.876Z"
   },
   {
    "duration": 38,
    "start_time": "2022-04-26T07:40:17.024Z"
   },
   {
    "duration": 47,
    "start_time": "2022-04-26T07:40:17.065Z"
   },
   {
    "duration": 45,
    "start_time": "2022-04-26T07:40:17.116Z"
   },
   {
    "duration": 46,
    "start_time": "2022-04-26T07:40:17.165Z"
   },
   {
    "duration": 125,
    "start_time": "2022-04-26T07:40:17.213Z"
   },
   {
    "duration": 122,
    "start_time": "2022-04-26T07:40:36.634Z"
   },
   {
    "duration": 108,
    "start_time": "2022-04-26T07:41:05.071Z"
   },
   {
    "duration": 139,
    "start_time": "2022-04-26T07:41:14.685Z"
   },
   {
    "duration": 134,
    "start_time": "2022-04-26T07:41:27.343Z"
   },
   {
    "duration": 100,
    "start_time": "2022-04-26T07:41:37.968Z"
   },
   {
    "duration": 12,
    "start_time": "2022-04-26T07:41:56.747Z"
   },
   {
    "duration": 8,
    "start_time": "2022-04-26T07:42:15.108Z"
   },
   {
    "duration": 30,
    "start_time": "2022-04-26T07:42:42.840Z"
   },
   {
    "duration": 25,
    "start_time": "2022-04-26T07:42:48.322Z"
   },
   {
    "duration": 732,
    "start_time": "2022-04-26T07:43:07.205Z"
   },
   {
    "duration": 21,
    "start_time": "2022-04-26T07:43:07.940Z"
   },
   {
    "duration": 159,
    "start_time": "2022-04-26T07:43:07.964Z"
   },
   {
    "duration": 41,
    "start_time": "2022-04-26T07:43:08.127Z"
   },
   {
    "duration": 82,
    "start_time": "2022-04-26T07:43:08.171Z"
   },
   {
    "duration": 7,
    "start_time": "2022-04-26T07:43:08.257Z"
   },
   {
    "duration": 35,
    "start_time": "2022-04-26T07:43:08.267Z"
   },
   {
    "duration": 50,
    "start_time": "2022-04-26T07:43:08.305Z"
   },
   {
    "duration": 100,
    "start_time": "2022-04-26T07:52:16.323Z"
   },
   {
    "duration": 20,
    "start_time": "2022-04-26T07:52:21.367Z"
   },
   {
    "duration": 49,
    "start_time": "2022-04-26T07:54:21.730Z"
   },
   {
    "duration": 11,
    "start_time": "2022-04-26T07:56:07.861Z"
   },
   {
    "duration": 645,
    "start_time": "2022-04-26T07:56:38.662Z"
   },
   {
    "duration": 42,
    "start_time": "2022-04-26T07:56:39.310Z"
   },
   {
    "duration": 134,
    "start_time": "2022-04-26T07:56:39.359Z"
   },
   {
    "duration": 24,
    "start_time": "2022-04-26T07:56:39.496Z"
   },
   {
    "duration": 38,
    "start_time": "2022-04-26T07:56:39.552Z"
   },
   {
    "duration": 7,
    "start_time": "2022-04-26T07:56:39.592Z"
   },
   {
    "duration": 9,
    "start_time": "2022-04-26T07:56:39.601Z"
   },
   {
    "duration": 12,
    "start_time": "2022-04-26T07:56:39.652Z"
   },
   {
    "duration": 7,
    "start_time": "2022-04-26T07:56:39.667Z"
   },
   {
    "duration": 76,
    "start_time": "2022-04-26T07:56:39.677Z"
   },
   {
    "duration": 11,
    "start_time": "2022-04-26T07:57:08.062Z"
   },
   {
    "duration": 6,
    "start_time": "2022-04-26T07:57:29.324Z"
   },
   {
    "duration": 645,
    "start_time": "2022-04-26T07:57:35.261Z"
   },
   {
    "duration": 13,
    "start_time": "2022-04-26T07:57:35.908Z"
   },
   {
    "duration": 137,
    "start_time": "2022-04-26T07:57:35.923Z"
   },
   {
    "duration": 19,
    "start_time": "2022-04-26T07:57:36.063Z"
   },
   {
    "duration": 69,
    "start_time": "2022-04-26T07:57:36.085Z"
   },
   {
    "duration": 7,
    "start_time": "2022-04-26T07:57:36.157Z"
   },
   {
    "duration": 13,
    "start_time": "2022-04-26T07:57:36.166Z"
   },
   {
    "duration": 8,
    "start_time": "2022-04-26T07:57:36.181Z"
   },
   {
    "duration": 60,
    "start_time": "2022-04-26T07:57:36.192Z"
   },
   {
    "duration": 40,
    "start_time": "2022-04-26T07:57:36.255Z"
   },
   {
    "duration": 10,
    "start_time": "2022-04-26T07:58:17.532Z"
   },
   {
    "duration": 686,
    "start_time": "2022-04-26T07:58:29.578Z"
   },
   {
    "duration": 14,
    "start_time": "2022-04-26T07:58:30.267Z"
   },
   {
    "duration": 147,
    "start_time": "2022-04-26T07:58:30.284Z"
   },
   {
    "duration": 36,
    "start_time": "2022-04-26T07:58:30.433Z"
   },
   {
    "duration": 39,
    "start_time": "2022-04-26T07:58:30.472Z"
   },
   {
    "duration": 39,
    "start_time": "2022-04-26T07:58:30.514Z"
   },
   {
    "duration": 12,
    "start_time": "2022-04-26T07:58:30.556Z"
   },
   {
    "duration": 23,
    "start_time": "2022-04-26T07:58:30.571Z"
   },
   {
    "duration": 55,
    "start_time": "2022-04-26T07:58:30.597Z"
   },
   {
    "duration": 42,
    "start_time": "2022-04-26T07:58:30.662Z"
   },
   {
    "duration": 10,
    "start_time": "2022-04-26T07:59:19.830Z"
   },
   {
    "duration": 6,
    "start_time": "2022-04-26T08:00:57.982Z"
   },
   {
    "duration": 42,
    "start_time": "2022-04-26T08:01:58.372Z"
   },
   {
    "duration": 33,
    "start_time": "2022-04-26T08:06:26.476Z"
   },
   {
    "duration": 36,
    "start_time": "2022-04-26T08:07:07.224Z"
   },
   {
    "duration": 8,
    "start_time": "2022-04-26T08:07:42.330Z"
   },
   {
    "duration": 10,
    "start_time": "2022-04-26T08:08:05.630Z"
   },
   {
    "duration": 8,
    "start_time": "2022-04-26T08:09:30.560Z"
   },
   {
    "duration": 66,
    "start_time": "2022-04-26T08:10:52.127Z"
   },
   {
    "duration": 9,
    "start_time": "2022-04-26T08:11:57.820Z"
   },
   {
    "duration": 12,
    "start_time": "2022-04-26T08:12:03.505Z"
   },
   {
    "duration": 11,
    "start_time": "2022-04-26T08:12:11.333Z"
   },
   {
    "duration": 12,
    "start_time": "2022-04-26T08:12:21.685Z"
   },
   {
    "duration": 8,
    "start_time": "2022-04-26T08:12:32.199Z"
   },
   {
    "duration": 8,
    "start_time": "2022-04-26T08:12:39.225Z"
   },
   {
    "duration": 688,
    "start_time": "2022-04-26T08:12:48.740Z"
   },
   {
    "duration": 30,
    "start_time": "2022-04-26T08:12:49.432Z"
   },
   {
    "duration": 133,
    "start_time": "2022-04-26T08:12:49.465Z"
   },
   {
    "duration": 20,
    "start_time": "2022-04-26T08:12:49.600Z"
   },
   {
    "duration": 70,
    "start_time": "2022-04-26T08:12:49.623Z"
   },
   {
    "duration": 6,
    "start_time": "2022-04-26T08:12:49.696Z"
   },
   {
    "duration": 11,
    "start_time": "2022-04-26T08:12:49.704Z"
   },
   {
    "duration": 18,
    "start_time": "2022-04-26T08:12:49.752Z"
   },
   {
    "duration": 8,
    "start_time": "2022-04-26T08:12:49.772Z"
   },
   {
    "duration": 9,
    "start_time": "2022-04-26T08:12:49.783Z"
   },
   {
    "duration": 110,
    "start_time": "2022-04-26T08:12:49.795Z"
   },
   {
    "duration": 17,
    "start_time": "2022-04-26T08:12:49.908Z"
   },
   {
    "duration": 938,
    "start_time": "2022-04-26T08:15:03.740Z"
   },
   {
    "duration": 17,
    "start_time": "2022-04-26T08:15:04.682Z"
   },
   {
    "duration": 184,
    "start_time": "2022-04-26T08:15:04.702Z"
   },
   {
    "duration": 29,
    "start_time": "2022-04-26T08:15:04.889Z"
   },
   {
    "duration": 89,
    "start_time": "2022-04-26T08:15:04.923Z"
   },
   {
    "duration": 7,
    "start_time": "2022-04-26T08:15:05.014Z"
   },
   {
    "duration": 32,
    "start_time": "2022-04-26T08:15:05.024Z"
   },
   {
    "duration": 66,
    "start_time": "2022-04-26T08:15:05.059Z"
   },
   {
    "duration": 18,
    "start_time": "2022-04-26T08:15:05.128Z"
   },
   {
    "duration": 38,
    "start_time": "2022-04-26T08:15:05.149Z"
   },
   {
    "duration": 50,
    "start_time": "2022-04-26T08:15:05.189Z"
   },
   {
    "duration": 87,
    "start_time": "2022-04-26T08:15:05.241Z"
   },
   {
    "duration": 32,
    "start_time": "2022-04-26T08:15:05.330Z"
   },
   {
    "duration": 13,
    "start_time": "2022-04-26T08:16:06.429Z"
   },
   {
    "duration": 107,
    "start_time": "2022-04-26T08:16:36.611Z"
   },
   {
    "duration": 34,
    "start_time": "2022-04-26T08:17:18.191Z"
   },
   {
    "duration": 15,
    "start_time": "2022-04-26T08:17:28.392Z"
   },
   {
    "duration": 24,
    "start_time": "2022-04-26T08:18:03.815Z"
   },
   {
    "duration": 42,
    "start_time": "2022-04-26T08:18:34.237Z"
   },
   {
    "duration": 779,
    "start_time": "2022-04-26T08:18:59.348Z"
   },
   {
    "duration": 38,
    "start_time": "2022-04-26T08:19:00.131Z"
   },
   {
    "duration": 428,
    "start_time": "2022-04-26T08:19:00.172Z"
   },
   {
    "duration": 20,
    "start_time": "2022-04-26T08:19:00.602Z"
   },
   {
    "duration": 78,
    "start_time": "2022-04-26T08:19:00.625Z"
   },
   {
    "duration": 6,
    "start_time": "2022-04-26T08:19:00.705Z"
   },
   {
    "duration": 50,
    "start_time": "2022-04-26T08:19:00.714Z"
   },
   {
    "duration": 58,
    "start_time": "2022-04-26T08:19:00.767Z"
   },
   {
    "duration": 10,
    "start_time": "2022-04-26T08:19:00.828Z"
   },
   {
    "duration": 58,
    "start_time": "2022-04-26T08:19:00.840Z"
   },
   {
    "duration": 70,
    "start_time": "2022-04-26T08:19:00.900Z"
   },
   {
    "duration": 88,
    "start_time": "2022-04-26T08:19:00.972Z"
   },
   {
    "duration": 15,
    "start_time": "2022-04-26T08:19:01.063Z"
   },
   {
    "duration": 827,
    "start_time": "2022-04-26T08:20:21.746Z"
   },
   {
    "duration": 25,
    "start_time": "2022-04-26T08:20:22.576Z"
   },
   {
    "duration": 176,
    "start_time": "2022-04-26T08:20:22.604Z"
   },
   {
    "duration": 25,
    "start_time": "2022-04-26T08:20:22.783Z"
   },
   {
    "duration": 91,
    "start_time": "2022-04-26T08:20:22.811Z"
   },
   {
    "duration": 6,
    "start_time": "2022-04-26T08:20:22.905Z"
   },
   {
    "duration": 8,
    "start_time": "2022-04-26T08:20:22.914Z"
   },
   {
    "duration": 45,
    "start_time": "2022-04-26T08:20:22.924Z"
   },
   {
    "duration": 30,
    "start_time": "2022-04-26T08:20:22.974Z"
   },
   {
    "duration": 9,
    "start_time": "2022-04-26T08:20:23.008Z"
   },
   {
    "duration": 93,
    "start_time": "2022-04-26T08:20:23.019Z"
   },
   {
    "duration": 86,
    "start_time": "2022-04-26T08:20:23.114Z"
   },
   {
    "duration": 9,
    "start_time": "2022-04-26T08:20:23.202Z"
   },
   {
    "duration": 10,
    "start_time": "2022-04-26T08:22:39.004Z"
   },
   {
    "duration": 9,
    "start_time": "2022-04-26T08:26:17.068Z"
   },
   {
    "duration": 9,
    "start_time": "2022-04-26T08:26:30.486Z"
   },
   {
    "duration": 11,
    "start_time": "2022-04-26T08:32:02.301Z"
   },
   {
    "duration": 32,
    "start_time": "2022-04-26T08:32:23.388Z"
   },
   {
    "duration": 64,
    "start_time": "2022-04-26T08:33:21.074Z"
   },
   {
    "duration": 139,
    "start_time": "2022-04-26T08:34:07.753Z"
   },
   {
    "duration": 124,
    "start_time": "2022-04-26T08:34:41.316Z"
   },
   {
    "duration": 133,
    "start_time": "2022-04-26T08:34:55.315Z"
   },
   {
    "duration": 759,
    "start_time": "2022-04-26T08:35:02.426Z"
   },
   {
    "duration": 18,
    "start_time": "2022-04-26T08:35:03.189Z"
   },
   {
    "duration": 139,
    "start_time": "2022-04-26T08:35:03.210Z"
   },
   {
    "duration": 27,
    "start_time": "2022-04-26T08:35:03.354Z"
   },
   {
    "duration": 80,
    "start_time": "2022-04-26T08:35:03.386Z"
   },
   {
    "duration": 8,
    "start_time": "2022-04-26T08:35:03.469Z"
   },
   {
    "duration": 35,
    "start_time": "2022-04-26T08:35:03.479Z"
   },
   {
    "duration": 28,
    "start_time": "2022-04-26T08:35:03.517Z"
   },
   {
    "duration": 9,
    "start_time": "2022-04-26T08:35:03.551Z"
   },
   {
    "duration": 41,
    "start_time": "2022-04-26T08:35:03.564Z"
   },
   {
    "duration": 193,
    "start_time": "2022-04-26T08:35:03.607Z"
   },
   {
    "duration": 114,
    "start_time": "2022-04-26T08:35:03.803Z"
   },
   {
    "duration": 13,
    "start_time": "2022-04-26T08:35:03.920Z"
   },
   {
    "duration": 30,
    "start_time": "2022-04-26T08:35:03.936Z"
   },
   {
    "duration": 776,
    "start_time": "2022-04-26T08:35:53.254Z"
   },
   {
    "duration": 35,
    "start_time": "2022-04-26T08:35:54.034Z"
   },
   {
    "duration": 133,
    "start_time": "2022-04-26T08:35:54.072Z"
   },
   {
    "duration": 18,
    "start_time": "2022-04-26T08:35:54.209Z"
   },
   {
    "duration": 50,
    "start_time": "2022-04-26T08:35:54.255Z"
   },
   {
    "duration": 7,
    "start_time": "2022-04-26T08:35:54.307Z"
   },
   {
    "duration": 10,
    "start_time": "2022-04-26T08:35:54.316Z"
   },
   {
    "duration": 21,
    "start_time": "2022-04-26T08:35:54.352Z"
   },
   {
    "duration": 18,
    "start_time": "2022-04-26T08:35:54.376Z"
   },
   {
    "duration": 9,
    "start_time": "2022-04-26T08:35:54.399Z"
   },
   {
    "duration": 223,
    "start_time": "2022-04-26T08:35:54.459Z"
   },
   {
    "duration": 103,
    "start_time": "2022-04-26T08:35:54.684Z"
   },
   {
    "duration": 10,
    "start_time": "2022-04-26T08:35:54.790Z"
   },
   {
    "duration": 9,
    "start_time": "2022-04-26T08:35:54.802Z"
   },
   {
    "duration": 690,
    "start_time": "2022-04-26T08:47:44.776Z"
   },
   {
    "duration": 16,
    "start_time": "2022-04-26T08:47:45.470Z"
   },
   {
    "duration": 152,
    "start_time": "2022-04-26T08:47:45.488Z"
   },
   {
    "duration": 25,
    "start_time": "2022-04-26T08:47:45.642Z"
   },
   {
    "duration": 48,
    "start_time": "2022-04-26T08:47:45.670Z"
   },
   {
    "duration": 8,
    "start_time": "2022-04-26T08:47:45.759Z"
   },
   {
    "duration": 21,
    "start_time": "2022-04-26T08:47:45.769Z"
   },
   {
    "duration": 12,
    "start_time": "2022-04-26T08:47:45.793Z"
   },
   {
    "duration": 58,
    "start_time": "2022-04-26T08:47:45.807Z"
   },
   {
    "duration": 25,
    "start_time": "2022-04-26T08:47:45.869Z"
   },
   {
    "duration": 40,
    "start_time": "2022-04-26T08:47:45.897Z"
   },
   {
    "duration": 32,
    "start_time": "2022-04-26T08:47:45.952Z"
   },
   {
    "duration": 100,
    "start_time": "2022-04-26T08:47:45.986Z"
   },
   {
    "duration": 9,
    "start_time": "2022-04-26T08:47:46.089Z"
   },
   {
    "duration": 8,
    "start_time": "2022-04-26T08:47:46.100Z"
   },
   {
    "duration": 763,
    "start_time": "2022-04-26T08:49:52.516Z"
   },
   {
    "duration": 21,
    "start_time": "2022-04-26T08:49:53.283Z"
   },
   {
    "duration": 164,
    "start_time": "2022-04-26T08:49:53.306Z"
   },
   {
    "duration": 23,
    "start_time": "2022-04-26T08:49:53.473Z"
   },
   {
    "duration": 64,
    "start_time": "2022-04-26T08:49:53.499Z"
   },
   {
    "duration": 53,
    "start_time": "2022-04-26T08:49:53.567Z"
   },
   {
    "duration": 40,
    "start_time": "2022-04-26T08:49:53.622Z"
   },
   {
    "duration": 13,
    "start_time": "2022-04-26T08:49:53.666Z"
   },
   {
    "duration": 11,
    "start_time": "2022-04-26T08:49:53.682Z"
   },
   {
    "duration": 7,
    "start_time": "2022-04-26T08:49:53.697Z"
   },
   {
    "duration": 58,
    "start_time": "2022-04-26T08:49:53.706Z"
   },
   {
    "duration": 41,
    "start_time": "2022-04-26T08:49:53.767Z"
   },
   {
    "duration": 64,
    "start_time": "2022-04-26T08:49:53.810Z"
   },
   {
    "duration": 23,
    "start_time": "2022-04-26T08:49:53.877Z"
   },
   {
    "duration": 55,
    "start_time": "2022-04-26T08:49:53.902Z"
   },
   {
    "duration": 746,
    "start_time": "2022-04-26T08:52:29.232Z"
   },
   {
    "duration": 14,
    "start_time": "2022-04-26T08:52:29.985Z"
   },
   {
    "duration": 137,
    "start_time": "2022-04-26T08:52:30.001Z"
   },
   {
    "duration": 33,
    "start_time": "2022-04-26T08:52:30.141Z"
   },
   {
    "duration": 14,
    "start_time": "2022-04-26T08:52:30.176Z"
   },
   {
    "duration": 25,
    "start_time": "2022-04-26T08:52:30.192Z"
   },
   {
    "duration": 77,
    "start_time": "2022-04-26T08:52:30.219Z"
   },
   {
    "duration": 8,
    "start_time": "2022-04-26T08:52:30.299Z"
   },
   {
    "duration": 50,
    "start_time": "2022-04-26T08:52:30.310Z"
   },
   {
    "duration": 28,
    "start_time": "2022-04-26T08:52:30.364Z"
   },
   {
    "duration": 26,
    "start_time": "2022-04-26T08:52:30.395Z"
   },
   {
    "duration": 29,
    "start_time": "2022-04-26T08:52:30.423Z"
   },
   {
    "duration": 51,
    "start_time": "2022-04-26T08:52:30.454Z"
   },
   {
    "duration": 60,
    "start_time": "2022-04-26T08:52:30.507Z"
   },
   {
    "duration": 24,
    "start_time": "2022-04-26T08:52:30.569Z"
   },
   {
    "duration": 64,
    "start_time": "2022-04-26T08:52:30.595Z"
   },
   {
    "duration": 706,
    "start_time": "2022-04-26T08:54:32.939Z"
   },
   {
    "duration": 18,
    "start_time": "2022-04-26T08:54:33.647Z"
   },
   {
    "duration": 160,
    "start_time": "2022-04-26T08:54:33.668Z"
   },
   {
    "duration": 36,
    "start_time": "2022-04-26T08:54:33.831Z"
   },
   {
    "duration": 10,
    "start_time": "2022-04-26T08:54:33.871Z"
   },
   {
    "duration": 39,
    "start_time": "2022-04-26T08:54:33.884Z"
   },
   {
    "duration": 75,
    "start_time": "2022-04-26T08:54:33.925Z"
   },
   {
    "duration": 5,
    "start_time": "2022-04-26T08:54:34.003Z"
   },
   {
    "duration": 68,
    "start_time": "2022-04-26T08:54:34.010Z"
   },
   {
    "duration": 8,
    "start_time": "2022-04-26T08:54:34.082Z"
   },
   {
    "duration": 21,
    "start_time": "2022-04-26T08:54:34.093Z"
   },
   {
    "duration": 12,
    "start_time": "2022-04-26T08:54:34.116Z"
   },
   {
    "duration": 72,
    "start_time": "2022-04-26T08:54:34.130Z"
   },
   {
    "duration": 64,
    "start_time": "2022-04-26T08:54:34.205Z"
   },
   {
    "duration": 44,
    "start_time": "2022-04-26T08:54:34.272Z"
   },
   {
    "duration": 23,
    "start_time": "2022-04-26T08:55:41.275Z"
   },
   {
    "duration": 8,
    "start_time": "2022-04-26T09:02:36.985Z"
   },
   {
    "duration": 8,
    "start_time": "2022-04-26T09:04:02.402Z"
   },
   {
    "duration": 9,
    "start_time": "2022-04-26T09:04:12.090Z"
   },
   {
    "duration": 37,
    "start_time": "2022-04-26T09:04:41.509Z"
   },
   {
    "duration": 57,
    "start_time": "2022-04-26T09:05:37.344Z"
   },
   {
    "duration": 27,
    "start_time": "2022-04-26T09:15:56.195Z"
   },
   {
    "duration": 167,
    "start_time": "2022-04-26T09:16:17.951Z"
   },
   {
    "duration": 39,
    "start_time": "2022-04-26T09:16:48.316Z"
   },
   {
    "duration": 105,
    "start_time": "2022-04-26T09:20:08.245Z"
   },
   {
    "duration": 120,
    "start_time": "2022-04-26T09:20:13.882Z"
   },
   {
    "duration": 22,
    "start_time": "2022-04-26T09:20:28.575Z"
   },
   {
    "duration": 9,
    "start_time": "2022-04-26T09:21:53.773Z"
   },
   {
    "duration": 13,
    "start_time": "2022-04-26T09:22:26.238Z"
   },
   {
    "duration": 12,
    "start_time": "2022-04-26T09:22:37.884Z"
   },
   {
    "duration": 27,
    "start_time": "2022-04-26T09:22:55.538Z"
   },
   {
    "duration": 58,
    "start_time": "2022-04-26T09:23:14.677Z"
   },
   {
    "duration": 23,
    "start_time": "2022-04-26T09:24:38.323Z"
   },
   {
    "duration": 25,
    "start_time": "2022-04-26T09:25:30.013Z"
   },
   {
    "duration": 59,
    "start_time": "2022-04-26T09:26:05.007Z"
   },
   {
    "duration": 60,
    "start_time": "2022-04-26T09:26:19.924Z"
   },
   {
    "duration": 54,
    "start_time": "2022-04-26T09:27:49.619Z"
   },
   {
    "duration": 81,
    "start_time": "2022-04-26T09:29:01.850Z"
   },
   {
    "duration": 754,
    "start_time": "2022-04-26T09:29:28.515Z"
   },
   {
    "duration": 13,
    "start_time": "2022-04-26T09:29:29.276Z"
   },
   {
    "duration": 153,
    "start_time": "2022-04-26T09:29:29.292Z"
   },
   {
    "duration": 29,
    "start_time": "2022-04-26T09:29:29.448Z"
   },
   {
    "duration": 9,
    "start_time": "2022-04-26T09:29:29.479Z"
   },
   {
    "duration": 61,
    "start_time": "2022-04-26T09:29:29.491Z"
   },
   {
    "duration": 47,
    "start_time": "2022-04-26T09:29:29.556Z"
   },
   {
    "duration": 6,
    "start_time": "2022-04-26T09:29:29.605Z"
   },
   {
    "duration": 33,
    "start_time": "2022-04-26T09:29:29.653Z"
   },
   {
    "duration": 11,
    "start_time": "2022-04-26T09:29:29.691Z"
   },
   {
    "duration": 73,
    "start_time": "2022-04-26T09:29:29.705Z"
   },
   {
    "duration": 13,
    "start_time": "2022-04-26T09:29:29.781Z"
   },
   {
    "duration": 83,
    "start_time": "2022-04-26T09:29:29.797Z"
   },
   {
    "duration": 32,
    "start_time": "2022-04-26T09:29:29.883Z"
   },
   {
    "duration": 75,
    "start_time": "2022-04-26T09:29:29.917Z"
   },
   {
    "duration": 61,
    "start_time": "2022-04-26T09:29:29.995Z"
   },
   {
    "duration": 29,
    "start_time": "2022-04-26T09:29:30.059Z"
   },
   {
    "duration": 83,
    "start_time": "2022-04-26T09:29:30.091Z"
   },
   {
    "duration": 49,
    "start_time": "2022-04-26T09:29:30.176Z"
   },
   {
    "duration": 54,
    "start_time": "2022-04-26T09:29:30.228Z"
   },
   {
    "duration": 230,
    "start_time": "2022-04-26T09:29:30.285Z"
   },
   {
    "duration": 0,
    "start_time": "2022-04-26T09:29:30.518Z"
   },
   {
    "duration": 95,
    "start_time": "2022-04-26T09:29:42.557Z"
   },
   {
    "duration": 35,
    "start_time": "2022-04-26T09:30:02.452Z"
   },
   {
    "duration": 32,
    "start_time": "2022-04-26T09:30:11.892Z"
   },
   {
    "duration": 92,
    "start_time": "2022-04-26T09:33:23.818Z"
   },
   {
    "duration": 26,
    "start_time": "2022-04-26T09:33:33.774Z"
   },
   {
    "duration": 108,
    "start_time": "2022-04-26T09:33:57.925Z"
   },
   {
    "duration": 29,
    "start_time": "2022-04-26T09:34:21.918Z"
   },
   {
    "duration": 28,
    "start_time": "2022-04-26T09:35:57.269Z"
   },
   {
    "duration": 75,
    "start_time": "2022-04-26T09:36:00.388Z"
   },
   {
    "duration": 870,
    "start_time": "2022-04-26T09:36:18.113Z"
   },
   {
    "duration": 14,
    "start_time": "2022-04-26T09:36:18.985Z"
   },
   {
    "duration": 146,
    "start_time": "2022-04-26T09:36:19.001Z"
   },
   {
    "duration": 29,
    "start_time": "2022-04-26T09:36:19.149Z"
   },
   {
    "duration": 8,
    "start_time": "2022-04-26T09:36:19.181Z"
   },
   {
    "duration": 65,
    "start_time": "2022-04-26T09:36:19.191Z"
   },
   {
    "duration": 44,
    "start_time": "2022-04-26T09:36:19.260Z"
   },
   {
    "duration": 46,
    "start_time": "2022-04-26T09:36:19.306Z"
   },
   {
    "duration": 33,
    "start_time": "2022-04-26T09:36:19.355Z"
   },
   {
    "duration": 10,
    "start_time": "2022-04-26T09:36:19.392Z"
   },
   {
    "duration": 57,
    "start_time": "2022-04-26T09:36:19.404Z"
   },
   {
    "duration": 8,
    "start_time": "2022-04-26T09:36:19.464Z"
   },
   {
    "duration": 99,
    "start_time": "2022-04-26T09:36:19.474Z"
   },
   {
    "duration": 24,
    "start_time": "2022-04-26T09:36:19.576Z"
   },
   {
    "duration": 93,
    "start_time": "2022-04-26T09:36:19.603Z"
   },
   {
    "duration": 23,
    "start_time": "2022-04-26T09:36:19.698Z"
   },
   {
    "duration": 30,
    "start_time": "2022-04-26T09:36:19.753Z"
   },
   {
    "duration": 67,
    "start_time": "2022-04-26T09:36:19.786Z"
   },
   {
    "duration": 52,
    "start_time": "2022-04-26T09:36:19.856Z"
   },
   {
    "duration": 75,
    "start_time": "2022-04-26T09:36:19.911Z"
   },
   {
    "duration": 105,
    "start_time": "2022-04-26T09:36:19.988Z"
   },
   {
    "duration": 100,
    "start_time": "2022-04-26T09:36:20.095Z"
   },
   {
    "duration": 70,
    "start_time": "2022-04-26T09:36:57.569Z"
   },
   {
    "duration": 166,
    "start_time": "2022-04-26T09:41:42.584Z"
   },
   {
    "duration": 22,
    "start_time": "2022-04-26T09:41:49.576Z"
   },
   {
    "duration": 95,
    "start_time": "2022-04-26T09:41:52.318Z"
   },
   {
    "duration": 770,
    "start_time": "2022-04-26T09:45:30.151Z"
   },
   {
    "duration": 34,
    "start_time": "2022-04-26T09:45:30.924Z"
   },
   {
    "duration": 151,
    "start_time": "2022-04-26T09:45:30.960Z"
   },
   {
    "duration": 37,
    "start_time": "2022-04-26T09:45:31.115Z"
   },
   {
    "duration": 10,
    "start_time": "2022-04-26T09:45:31.156Z"
   },
   {
    "duration": 32,
    "start_time": "2022-04-26T09:45:31.170Z"
   },
   {
    "duration": 93,
    "start_time": "2022-04-26T09:45:31.204Z"
   },
   {
    "duration": 8,
    "start_time": "2022-04-26T09:45:31.299Z"
   },
   {
    "duration": 63,
    "start_time": "2022-04-26T09:45:31.310Z"
   },
   {
    "duration": 10,
    "start_time": "2022-04-26T09:45:31.377Z"
   },
   {
    "duration": 36,
    "start_time": "2022-04-26T09:45:31.389Z"
   },
   {
    "duration": 26,
    "start_time": "2022-04-26T09:45:31.429Z"
   },
   {
    "duration": 70,
    "start_time": "2022-04-26T09:45:31.458Z"
   },
   {
    "duration": 54,
    "start_time": "2022-04-26T09:45:31.530Z"
   },
   {
    "duration": 77,
    "start_time": "2022-04-26T09:45:31.586Z"
   },
   {
    "duration": 26,
    "start_time": "2022-04-26T09:45:31.667Z"
   },
   {
    "duration": 63,
    "start_time": "2022-04-26T09:45:31.695Z"
   },
   {
    "duration": 28,
    "start_time": "2022-04-26T09:45:31.761Z"
   },
   {
    "duration": 90,
    "start_time": "2022-04-26T09:45:31.791Z"
   },
   {
    "duration": 125,
    "start_time": "2022-04-26T09:45:31.884Z"
   },
   {
    "duration": 109,
    "start_time": "2022-04-26T09:45:32.012Z"
   },
   {
    "duration": 5,
    "start_time": "2022-04-26T09:46:29.326Z"
   },
   {
    "duration": 37,
    "start_time": "2022-04-26T09:46:38.705Z"
   },
   {
    "duration": 63,
    "start_time": "2022-04-26T09:46:45.731Z"
   },
   {
    "duration": 39,
    "start_time": "2022-04-26T09:47:59.785Z"
   },
   {
    "duration": 105,
    "start_time": "2022-04-26T09:48:21.188Z"
   },
   {
    "duration": 11,
    "start_time": "2022-04-26T09:48:23.271Z"
   },
   {
    "duration": 14,
    "start_time": "2022-04-26T09:48:38.719Z"
   },
   {
    "duration": 16,
    "start_time": "2022-04-26T09:48:40.385Z"
   },
   {
    "duration": 15,
    "start_time": "2022-04-26T09:48:47.418Z"
   },
   {
    "duration": 767,
    "start_time": "2022-04-26T09:48:53.140Z"
   },
   {
    "duration": 42,
    "start_time": "2022-04-26T09:48:53.910Z"
   },
   {
    "duration": 147,
    "start_time": "2022-04-26T09:48:53.955Z"
   },
   {
    "duration": 49,
    "start_time": "2022-04-26T09:48:54.106Z"
   },
   {
    "duration": 10,
    "start_time": "2022-04-26T09:48:54.158Z"
   },
   {
    "duration": 11,
    "start_time": "2022-04-26T09:48:54.171Z"
   },
   {
    "duration": 91,
    "start_time": "2022-04-26T09:48:54.185Z"
   },
   {
    "duration": 7,
    "start_time": "2022-04-26T09:48:54.279Z"
   },
   {
    "duration": 66,
    "start_time": "2022-04-26T09:48:54.288Z"
   },
   {
    "duration": 10,
    "start_time": "2022-04-26T09:48:54.357Z"
   },
   {
    "duration": 11,
    "start_time": "2022-04-26T09:48:54.369Z"
   },
   {
    "duration": 8,
    "start_time": "2022-04-26T09:48:54.382Z"
   },
   {
    "duration": 159,
    "start_time": "2022-04-26T09:48:54.393Z"
   },
   {
    "duration": 26,
    "start_time": "2022-04-26T09:48:54.555Z"
   },
   {
    "duration": 113,
    "start_time": "2022-04-26T09:48:54.584Z"
   },
   {
    "duration": 58,
    "start_time": "2022-04-26T09:48:54.699Z"
   },
   {
    "duration": 29,
    "start_time": "2022-04-26T09:48:54.761Z"
   },
   {
    "duration": 74,
    "start_time": "2022-04-26T09:48:54.793Z"
   },
   {
    "duration": 89,
    "start_time": "2022-04-26T09:48:54.871Z"
   },
   {
    "duration": 115,
    "start_time": "2022-04-26T09:48:54.963Z"
   },
   {
    "duration": 39,
    "start_time": "2022-04-26T09:48:55.080Z"
   },
   {
    "duration": 201,
    "start_time": "2022-04-26T09:49:12.234Z"
   },
   {
    "duration": 759,
    "start_time": "2022-04-26T09:49:21.240Z"
   },
   {
    "duration": 13,
    "start_time": "2022-04-26T09:49:22.001Z"
   },
   {
    "duration": 166,
    "start_time": "2022-04-26T09:49:22.017Z"
   },
   {
    "duration": 21,
    "start_time": "2022-04-26T09:49:22.186Z"
   },
   {
    "duration": 43,
    "start_time": "2022-04-26T09:49:22.209Z"
   },
   {
    "duration": 16,
    "start_time": "2022-04-26T09:49:22.256Z"
   },
   {
    "duration": 106,
    "start_time": "2022-04-26T09:49:22.275Z"
   },
   {
    "duration": 8,
    "start_time": "2022-04-26T09:49:22.384Z"
   },
   {
    "duration": 57,
    "start_time": "2022-04-26T09:49:22.395Z"
   },
   {
    "duration": 11,
    "start_time": "2022-04-26T09:49:22.457Z"
   },
   {
    "duration": 17,
    "start_time": "2022-04-26T09:49:22.472Z"
   },
   {
    "duration": 14,
    "start_time": "2022-04-26T09:49:22.491Z"
   },
   {
    "duration": 55,
    "start_time": "2022-04-26T09:49:22.551Z"
   },
   {
    "duration": 65,
    "start_time": "2022-04-26T09:49:22.608Z"
   },
   {
    "duration": 77,
    "start_time": "2022-04-26T09:49:22.676Z"
   },
   {
    "duration": 33,
    "start_time": "2022-04-26T09:49:22.755Z"
   },
   {
    "duration": 68,
    "start_time": "2022-04-26T09:49:22.790Z"
   },
   {
    "duration": 34,
    "start_time": "2022-04-26T09:49:22.860Z"
   },
   {
    "duration": 94,
    "start_time": "2022-04-26T09:49:22.897Z"
   },
   {
    "duration": 123,
    "start_time": "2022-04-26T09:49:22.993Z"
   },
   {
    "duration": 138,
    "start_time": "2022-04-26T09:49:23.119Z"
   },
   {
    "duration": 40,
    "start_time": "2022-04-26T09:59:49.635Z"
   },
   {
    "duration": 41,
    "start_time": "2022-04-26T09:59:53.110Z"
   },
   {
    "duration": 33,
    "start_time": "2022-04-26T10:00:08.173Z"
   },
   {
    "duration": 38,
    "start_time": "2022-04-26T10:00:34.898Z"
   },
   {
    "duration": 7,
    "start_time": "2022-04-26T10:02:22.486Z"
   },
   {
    "duration": 58,
    "start_time": "2022-04-26T10:02:29.911Z"
   },
   {
    "duration": 38,
    "start_time": "2022-04-26T10:03:37.785Z"
   },
   {
    "duration": 38,
    "start_time": "2022-04-26T10:03:50.408Z"
   },
   {
    "duration": 41,
    "start_time": "2022-04-26T10:03:56.845Z"
   },
   {
    "duration": 80,
    "start_time": "2022-04-26T10:05:38.225Z"
   },
   {
    "duration": 61,
    "start_time": "2022-04-26T10:05:59.767Z"
   },
   {
    "duration": 13,
    "start_time": "2022-04-26T11:30:23.456Z"
   },
   {
    "duration": 8,
    "start_time": "2022-04-26T11:30:38.564Z"
   },
   {
    "duration": 40,
    "start_time": "2022-04-26T11:30:44.864Z"
   },
   {
    "duration": 30,
    "start_time": "2022-04-26T11:31:29.205Z"
   },
   {
    "duration": 48,
    "start_time": "2022-04-26T11:35:50.823Z"
   },
   {
    "duration": 40,
    "start_time": "2022-04-26T11:36:40.653Z"
   },
   {
    "duration": 46,
    "start_time": "2022-04-26T11:36:44.787Z"
   },
   {
    "duration": 567,
    "start_time": "2022-04-26T11:45:09.814Z"
   },
   {
    "duration": 17,
    "start_time": "2022-04-26T11:45:53.176Z"
   },
   {
    "duration": 1405,
    "start_time": "2022-04-26T11:46:13.070Z"
   },
   {
    "duration": 12,
    "start_time": "2022-04-26T11:48:27.784Z"
   },
   {
    "duration": 378,
    "start_time": "2022-04-26T11:53:06.168Z"
   },
   {
    "duration": 357,
    "start_time": "2022-04-26T11:53:38.186Z"
   },
   {
    "duration": 448,
    "start_time": "2022-04-26T11:53:45.111Z"
   },
   {
    "duration": 12,
    "start_time": "2022-04-26T11:54:11.222Z"
   },
   {
    "duration": 25,
    "start_time": "2022-04-26T11:54:59.275Z"
   },
   {
    "duration": 622,
    "start_time": "2022-04-26T11:56:50.708Z"
   },
   {
    "duration": 554,
    "start_time": "2022-04-26T14:15:56.746Z"
   },
   {
    "duration": 518,
    "start_time": "2022-04-26T14:18:43.881Z"
   },
   {
    "duration": 1248,
    "start_time": "2022-04-26T14:19:04.358Z"
   },
   {
    "duration": 1276,
    "start_time": "2022-04-26T14:19:16.246Z"
   },
   {
    "duration": 528,
    "start_time": "2022-04-26T14:19:20.149Z"
   },
   {
    "duration": 564,
    "start_time": "2022-04-26T14:19:23.570Z"
   },
   {
    "duration": 728,
    "start_time": "2022-04-26T14:22:15.292Z"
   },
   {
    "duration": 31,
    "start_time": "2022-04-26T14:22:16.023Z"
   },
   {
    "duration": 191,
    "start_time": "2022-04-26T14:22:16.056Z"
   },
   {
    "duration": 30,
    "start_time": "2022-04-26T14:22:16.249Z"
   },
   {
    "duration": 8,
    "start_time": "2022-04-26T14:22:16.283Z"
   },
   {
    "duration": 15,
    "start_time": "2022-04-26T14:22:16.293Z"
   },
   {
    "duration": 39,
    "start_time": "2022-04-26T14:22:16.353Z"
   },
   {
    "duration": 7,
    "start_time": "2022-04-26T14:22:16.395Z"
   },
   {
    "duration": 65,
    "start_time": "2022-04-26T14:22:16.404Z"
   },
   {
    "duration": 11,
    "start_time": "2022-04-26T14:22:16.471Z"
   },
   {
    "duration": 16,
    "start_time": "2022-04-26T14:22:16.484Z"
   },
   {
    "duration": 58,
    "start_time": "2022-04-26T14:22:16.502Z"
   },
   {
    "duration": 54,
    "start_time": "2022-04-26T14:22:16.562Z"
   },
   {
    "duration": 48,
    "start_time": "2022-04-26T14:22:16.620Z"
   },
   {
    "duration": 40,
    "start_time": "2022-04-26T14:22:16.670Z"
   },
   {
    "duration": 56,
    "start_time": "2022-04-26T14:22:16.712Z"
   },
   {
    "duration": 19,
    "start_time": "2022-04-26T14:22:16.770Z"
   },
   {
    "duration": 73,
    "start_time": "2022-04-26T14:22:16.792Z"
   },
   {
    "duration": 46,
    "start_time": "2022-04-26T14:22:16.868Z"
   },
   {
    "duration": 142,
    "start_time": "2022-04-26T14:22:16.916Z"
   },
   {
    "duration": 41,
    "start_time": "2022-04-26T14:22:17.061Z"
   },
   {
    "duration": 48,
    "start_time": "2022-04-26T14:22:17.106Z"
   },
   {
    "duration": 104,
    "start_time": "2022-04-26T14:22:17.157Z"
   },
   {
    "duration": 63,
    "start_time": "2022-04-26T14:22:17.264Z"
   },
   {
    "duration": 620,
    "start_time": "2022-04-26T14:22:17.353Z"
   },
   {
    "duration": 26,
    "start_time": "2022-04-26T14:26:20.697Z"
   },
   {
    "duration": 493,
    "start_time": "2022-04-26T14:26:32.636Z"
   },
   {
    "duration": 713,
    "start_time": "2022-04-26T14:26:38.702Z"
   },
   {
    "duration": 13,
    "start_time": "2022-04-26T14:26:39.418Z"
   },
   {
    "duration": 121,
    "start_time": "2022-04-26T14:26:39.451Z"
   },
   {
    "duration": 19,
    "start_time": "2022-04-26T14:26:39.575Z"
   },
   {
    "duration": 8,
    "start_time": "2022-04-26T14:26:39.596Z"
   },
   {
    "duration": 55,
    "start_time": "2022-04-26T14:26:39.607Z"
   },
   {
    "duration": 44,
    "start_time": "2022-04-26T14:26:39.664Z"
   },
   {
    "duration": 6,
    "start_time": "2022-04-26T14:26:39.711Z"
   },
   {
    "duration": 27,
    "start_time": "2022-04-26T14:26:39.751Z"
   },
   {
    "duration": 8,
    "start_time": "2022-04-26T14:26:39.783Z"
   },
   {
    "duration": 8,
    "start_time": "2022-04-26T14:26:39.794Z"
   },
   {
    "duration": 8,
    "start_time": "2022-04-26T14:26:39.853Z"
   },
   {
    "duration": 100,
    "start_time": "2022-04-26T14:26:39.863Z"
   },
   {
    "duration": 31,
    "start_time": "2022-04-26T14:26:39.965Z"
   },
   {
    "duration": 103,
    "start_time": "2022-04-26T14:26:39.998Z"
   },
   {
    "duration": 57,
    "start_time": "2022-04-26T14:26:40.104Z"
   },
   {
    "duration": 20,
    "start_time": "2022-04-26T14:26:40.164Z"
   },
   {
    "duration": 42,
    "start_time": "2022-04-26T14:26:40.186Z"
   },
   {
    "duration": 59,
    "start_time": "2022-04-26T14:26:40.231Z"
   },
   {
    "duration": 176,
    "start_time": "2022-04-26T14:26:40.293Z"
   },
   {
    "duration": 47,
    "start_time": "2022-04-26T14:26:40.472Z"
   },
   {
    "duration": 33,
    "start_time": "2022-04-26T14:26:40.521Z"
   },
   {
    "duration": 75,
    "start_time": "2022-04-26T14:26:40.557Z"
   },
   {
    "duration": 72,
    "start_time": "2022-04-26T14:26:40.635Z"
   },
   {
    "duration": 631,
    "start_time": "2022-04-26T14:26:40.709Z"
   },
   {
    "duration": 963,
    "start_time": "2022-04-26T14:28:45.454Z"
   },
   {
    "duration": 33,
    "start_time": "2022-04-26T14:28:46.421Z"
   },
   {
    "duration": 171,
    "start_time": "2022-04-26T14:28:46.458Z"
   },
   {
    "duration": 43,
    "start_time": "2022-04-26T14:28:46.633Z"
   },
   {
    "duration": 9,
    "start_time": "2022-04-26T14:28:46.679Z"
   },
   {
    "duration": 14,
    "start_time": "2022-04-26T14:28:46.690Z"
   },
   {
    "duration": 75,
    "start_time": "2022-04-26T14:28:46.706Z"
   },
   {
    "duration": 6,
    "start_time": "2022-04-26T14:28:46.784Z"
   },
   {
    "duration": 69,
    "start_time": "2022-04-26T14:28:46.793Z"
   },
   {
    "duration": 10,
    "start_time": "2022-04-26T14:28:46.866Z"
   },
   {
    "duration": 9,
    "start_time": "2022-04-26T14:28:46.878Z"
   },
   {
    "duration": 7,
    "start_time": "2022-04-26T14:28:46.889Z"
   },
   {
    "duration": 58,
    "start_time": "2022-04-26T14:28:46.898Z"
   },
   {
    "duration": 43,
    "start_time": "2022-04-26T14:28:46.958Z"
   },
   {
    "duration": 67,
    "start_time": "2022-04-26T14:28:47.004Z"
   },
   {
    "duration": 42,
    "start_time": "2022-04-26T14:28:47.073Z"
   },
   {
    "duration": 24,
    "start_time": "2022-04-26T14:28:47.152Z"
   },
   {
    "duration": 20,
    "start_time": "2022-04-26T14:28:47.179Z"
   },
   {
    "duration": 64,
    "start_time": "2022-04-26T14:28:47.201Z"
   },
   {
    "duration": 46,
    "start_time": "2022-04-26T14:28:47.267Z"
   },
   {
    "duration": 112,
    "start_time": "2022-04-26T14:28:47.315Z"
   },
   {
    "duration": 51,
    "start_time": "2022-04-26T14:28:47.429Z"
   },
   {
    "duration": 7,
    "start_time": "2022-04-26T14:28:47.482Z"
   },
   {
    "duration": 91,
    "start_time": "2022-04-26T14:28:47.491Z"
   },
   {
    "duration": 549,
    "start_time": "2022-04-26T14:28:47.584Z"
   },
   {
    "duration": 23,
    "start_time": "2022-04-26T14:29:11.066Z"
   },
   {
    "duration": 114,
    "start_time": "2022-04-26T14:32:44.764Z"
   },
   {
    "duration": 7,
    "start_time": "2022-04-26T14:37:28.556Z"
   },
   {
    "duration": 76,
    "start_time": "2022-04-26T14:38:10.767Z"
   },
   {
    "duration": 76,
    "start_time": "2022-04-26T14:38:43.926Z"
   },
   {
    "duration": 99,
    "start_time": "2022-04-26T14:38:57.812Z"
   },
   {
    "duration": 72,
    "start_time": "2022-04-26T14:39:26.039Z"
   },
   {
    "duration": 113,
    "start_time": "2022-04-26T14:39:33.684Z"
   },
   {
    "duration": 116,
    "start_time": "2022-04-26T14:40:03.140Z"
   },
   {
    "duration": 79,
    "start_time": "2022-04-26T14:40:42.308Z"
   },
   {
    "duration": 35,
    "start_time": "2022-04-26T14:40:55.119Z"
   },
   {
    "duration": 9,
    "start_time": "2022-04-26T14:41:14.199Z"
   },
   {
    "duration": 1005,
    "start_time": "2022-04-26T14:42:36.253Z"
   },
   {
    "duration": 13,
    "start_time": "2022-04-26T14:42:37.260Z"
   },
   {
    "duration": 132,
    "start_time": "2022-04-26T14:42:37.276Z"
   },
   {
    "duration": 44,
    "start_time": "2022-04-26T14:42:37.411Z"
   },
   {
    "duration": 10,
    "start_time": "2022-04-26T14:42:37.457Z"
   },
   {
    "duration": 23,
    "start_time": "2022-04-26T14:42:37.470Z"
   },
   {
    "duration": 78,
    "start_time": "2022-04-26T14:42:37.495Z"
   },
   {
    "duration": 7,
    "start_time": "2022-04-26T14:42:37.575Z"
   },
   {
    "duration": 36,
    "start_time": "2022-04-26T14:42:37.586Z"
   },
   {
    "duration": 12,
    "start_time": "2022-04-26T14:42:37.652Z"
   },
   {
    "duration": 22,
    "start_time": "2022-04-26T14:42:37.667Z"
   },
   {
    "duration": 22,
    "start_time": "2022-04-26T14:42:37.692Z"
   },
   {
    "duration": 48,
    "start_time": "2022-04-26T14:42:37.717Z"
   },
   {
    "duration": 95,
    "start_time": "2022-04-26T14:42:37.768Z"
   },
   {
    "duration": 37,
    "start_time": "2022-04-26T14:42:37.866Z"
   },
   {
    "duration": 102,
    "start_time": "2022-04-26T14:42:37.906Z"
   },
   {
    "duration": 53,
    "start_time": "2022-04-26T14:42:38.010Z"
   },
   {
    "duration": 20,
    "start_time": "2022-04-26T14:42:38.065Z"
   },
   {
    "duration": 71,
    "start_time": "2022-04-26T14:42:38.088Z"
   },
   {
    "duration": 42,
    "start_time": "2022-04-26T14:42:38.163Z"
   },
   {
    "duration": 145,
    "start_time": "2022-04-26T14:42:38.207Z"
   },
   {
    "duration": 32,
    "start_time": "2022-04-26T14:42:38.354Z"
   },
   {
    "duration": 6,
    "start_time": "2022-04-26T14:42:38.389Z"
   },
   {
    "duration": 95,
    "start_time": "2022-04-26T14:42:38.397Z"
   },
   {
    "duration": 550,
    "start_time": "2022-04-26T14:42:38.494Z"
   },
   {
    "duration": 9,
    "start_time": "2022-04-26T14:42:39.051Z"
   },
   {
    "duration": 572,
    "start_time": "2022-04-27T10:06:12.998Z"
   },
   {
    "duration": 74,
    "start_time": "2022-04-27T10:06:13.571Z"
   },
   {
    "duration": 7,
    "start_time": "2022-04-27T10:06:13.647Z"
   },
   {
    "duration": 11,
    "start_time": "2022-04-27T10:06:13.656Z"
   },
   {
    "duration": 41,
    "start_time": "2022-04-27T10:06:13.668Z"
   },
   {
    "duration": 5,
    "start_time": "2022-04-27T10:06:13.710Z"
   },
   {
    "duration": 52,
    "start_time": "2022-04-27T10:06:13.717Z"
   },
   {
    "duration": 6,
    "start_time": "2022-04-27T10:06:13.770Z"
   },
   {
    "duration": 7,
    "start_time": "2022-04-27T10:06:13.777Z"
   },
   {
    "duration": 6,
    "start_time": "2022-04-27T10:06:13.786Z"
   },
   {
    "duration": 12,
    "start_time": "2022-04-27T10:06:13.793Z"
   },
   {
    "duration": 69,
    "start_time": "2022-04-27T10:06:13.808Z"
   },
   {
    "duration": 14,
    "start_time": "2022-04-27T10:06:13.879Z"
   },
   {
    "duration": 26,
    "start_time": "2022-04-27T10:06:13.895Z"
   },
   {
    "duration": 45,
    "start_time": "2022-04-27T10:06:13.922Z"
   },
   {
    "duration": 12,
    "start_time": "2022-04-27T10:06:13.968Z"
   },
   {
    "duration": 14,
    "start_time": "2022-04-27T10:06:13.981Z"
   },
   {
    "duration": 52,
    "start_time": "2022-04-27T10:06:13.997Z"
   },
   {
    "duration": 62,
    "start_time": "2022-04-27T10:06:14.052Z"
   },
   {
    "duration": 30,
    "start_time": "2022-04-27T10:06:14.119Z"
   },
   {
    "duration": 12,
    "start_time": "2022-04-27T10:06:14.151Z"
   },
   {
    "duration": 46,
    "start_time": "2022-04-27T10:06:14.165Z"
   },
   {
    "duration": 391,
    "start_time": "2022-04-27T10:06:14.212Z"
   },
   {
    "duration": 80,
    "start_time": "2022-04-27T10:06:14.619Z"
   },
   {
    "duration": 58,
    "start_time": "2022-04-27T10:06:20.534Z"
   },
   {
    "duration": 7,
    "start_time": "2022-04-27T10:19:47.678Z"
   },
   {
    "duration": 786,
    "start_time": "2022-04-27T10:19:53.773Z"
   },
   {
    "duration": 144,
    "start_time": "2022-04-27T10:20:02.877Z"
   },
   {
    "duration": 117,
    "start_time": "2022-04-27T10:20:15.119Z"
   },
   {
    "duration": 173,
    "start_time": "2022-04-27T10:20:27.827Z"
   },
   {
    "duration": 211,
    "start_time": "2022-04-27T10:21:35.426Z"
   },
   {
    "duration": 135,
    "start_time": "2022-04-27T10:22:45.845Z"
   },
   {
    "duration": 155,
    "start_time": "2022-04-27T10:22:48.098Z"
   },
   {
    "duration": 167,
    "start_time": "2022-04-27T10:23:21.267Z"
   },
   {
    "duration": 165,
    "start_time": "2022-04-27T10:23:28.029Z"
   },
   {
    "duration": 167,
    "start_time": "2022-04-27T10:23:33.017Z"
   },
   {
    "duration": 219,
    "start_time": "2022-04-27T10:23:40.387Z"
   },
   {
    "duration": 187,
    "start_time": "2022-04-27T10:25:01.228Z"
   },
   {
    "duration": 191,
    "start_time": "2022-04-27T10:25:13.920Z"
   },
   {
    "duration": 165,
    "start_time": "2022-04-27T10:25:18.823Z"
   },
   {
    "duration": 18,
    "start_time": "2022-04-27T10:27:35.860Z"
   },
   {
    "duration": 28,
    "start_time": "2022-04-27T10:29:52.380Z"
   },
   {
    "duration": 23,
    "start_time": "2022-04-27T10:33:35.536Z"
   },
   {
    "duration": 803,
    "start_time": "2022-04-27T10:33:45.135Z"
   },
   {
    "duration": 119,
    "start_time": "2022-04-27T10:35:02.548Z"
   },
   {
    "duration": 7,
    "start_time": "2022-04-27T10:44:42.558Z"
   },
   {
    "duration": 39,
    "start_time": "2022-04-27T10:47:19.496Z"
   },
   {
    "duration": 49,
    "start_time": "2022-04-27T10:48:24.899Z"
   },
   {
    "duration": 206,
    "start_time": "2022-04-27T10:52:10.732Z"
   },
   {
    "duration": 20,
    "start_time": "2022-04-27T10:52:26.340Z"
   },
   {
    "duration": 32,
    "start_time": "2022-04-27T10:52:47.725Z"
   },
   {
    "duration": 36,
    "start_time": "2022-04-27T10:52:54.088Z"
   },
   {
    "duration": 19,
    "start_time": "2022-04-27T10:53:04.067Z"
   },
   {
    "duration": 23,
    "start_time": "2022-04-27T10:53:24.393Z"
   },
   {
    "duration": 222,
    "start_time": "2022-04-27T10:59:13.873Z"
   },
   {
    "duration": 200,
    "start_time": "2022-04-27T10:59:30.478Z"
   },
   {
    "duration": 6,
    "start_time": "2022-04-27T11:01:28.240Z"
   },
   {
    "duration": 357,
    "start_time": "2022-04-27T11:05:18.850Z"
   },
   {
    "duration": 351,
    "start_time": "2022-04-27T11:05:54.622Z"
   },
   {
    "duration": 336,
    "start_time": "2022-04-27T11:06:13.147Z"
   },
   {
    "duration": 210,
    "start_time": "2022-04-27T11:06:27.434Z"
   },
   {
    "duration": 350,
    "start_time": "2022-04-27T11:06:35.570Z"
   },
   {
    "duration": 284,
    "start_time": "2022-04-27T11:07:23.656Z"
   },
   {
    "duration": 198,
    "start_time": "2022-04-27T11:07:35.277Z"
   },
   {
    "duration": 280,
    "start_time": "2022-04-27T11:07:38.924Z"
   },
   {
    "duration": 662,
    "start_time": "2022-04-27T11:07:59.376Z"
   },
   {
    "duration": 314,
    "start_time": "2022-04-27T11:08:08.529Z"
   },
   {
    "duration": 140,
    "start_time": "2022-04-27T11:08:41.123Z"
   },
   {
    "duration": 151,
    "start_time": "2022-04-27T11:08:45.700Z"
   },
   {
    "duration": 283,
    "start_time": "2022-04-27T11:08:47.884Z"
   },
   {
    "duration": 1219,
    "start_time": "2022-04-27T11:08:49.975Z"
   },
   {
    "duration": 341,
    "start_time": "2022-04-27T11:09:46.469Z"
   },
   {
    "duration": 89,
    "start_time": "2022-04-27T11:10:20.469Z"
   },
   {
    "duration": 651,
    "start_time": "2022-04-27T11:10:29.133Z"
   },
   {
    "duration": 104,
    "start_time": "2022-04-27T11:10:29.792Z"
   },
   {
    "duration": 9,
    "start_time": "2022-04-27T11:10:29.898Z"
   },
   {
    "duration": 74,
    "start_time": "2022-04-27T11:10:29.909Z"
   },
   {
    "duration": 31,
    "start_time": "2022-04-27T11:10:29.986Z"
   },
   {
    "duration": 12,
    "start_time": "2022-04-27T11:10:30.019Z"
   },
   {
    "duration": 96,
    "start_time": "2022-04-27T11:10:30.033Z"
   },
   {
    "duration": 20,
    "start_time": "2022-04-27T11:10:30.137Z"
   },
   {
    "duration": 37,
    "start_time": "2022-04-27T11:10:30.158Z"
   },
   {
    "duration": 61,
    "start_time": "2022-04-27T11:10:30.204Z"
   },
   {
    "duration": 25,
    "start_time": "2022-04-27T11:10:30.270Z"
   },
   {
    "duration": 87,
    "start_time": "2022-04-27T11:10:30.297Z"
   },
   {
    "duration": 31,
    "start_time": "2022-04-27T11:10:30.386Z"
   },
   {
    "duration": 86,
    "start_time": "2022-04-27T11:10:30.421Z"
   },
   {
    "duration": 59,
    "start_time": "2022-04-27T11:10:30.509Z"
   },
   {
    "duration": 57,
    "start_time": "2022-04-27T11:10:30.570Z"
   },
   {
    "duration": 68,
    "start_time": "2022-04-27T11:10:30.630Z"
   },
   {
    "duration": 46,
    "start_time": "2022-04-27T11:10:30.701Z"
   },
   {
    "duration": 101,
    "start_time": "2022-04-27T11:10:30.749Z"
   },
   {
    "duration": 29,
    "start_time": "2022-04-27T11:10:30.854Z"
   },
   {
    "duration": 95,
    "start_time": "2022-04-27T11:10:30.884Z"
   },
   {
    "duration": 52,
    "start_time": "2022-04-27T11:10:30.981Z"
   },
   {
    "duration": 513,
    "start_time": "2022-04-27T11:10:31.046Z"
   },
   {
    "duration": 82,
    "start_time": "2022-04-27T11:10:31.567Z"
   },
   {
    "duration": 677,
    "start_time": "2022-04-27T11:10:31.657Z"
   },
   {
    "duration": 255,
    "start_time": "2022-04-27T11:10:32.336Z"
   },
   {
    "duration": 192,
    "start_time": "2022-04-27T11:10:32.597Z"
   },
   {
    "duration": 179,
    "start_time": "2022-04-27T11:10:32.796Z"
   },
   {
    "duration": 41,
    "start_time": "2022-04-27T11:10:32.980Z"
   },
   {
    "duration": 209,
    "start_time": "2022-04-27T11:10:33.023Z"
   },
   {
    "duration": 53,
    "start_time": "2022-04-27T11:10:33.234Z"
   },
   {
    "duration": 497,
    "start_time": "2022-04-27T11:10:33.289Z"
   },
   {
    "duration": 361,
    "start_time": "2022-04-27T11:10:43.527Z"
   },
   {
    "duration": 666,
    "start_time": "2022-04-27T11:12:04.942Z"
   },
   {
    "duration": 1156,
    "start_time": "2022-04-27T11:18:40.047Z"
   },
   {
    "duration": 306,
    "start_time": "2022-04-27T11:19:25.430Z"
   },
   {
    "duration": 298,
    "start_time": "2022-04-27T11:19:40.841Z"
   },
   {
    "duration": 283,
    "start_time": "2022-04-27T11:19:46.482Z"
   },
   {
    "duration": 5,
    "start_time": "2022-04-27T11:20:05.643Z"
   },
   {
    "duration": 312,
    "start_time": "2022-04-27T11:21:20.786Z"
   },
   {
    "duration": 317,
    "start_time": "2022-04-27T11:21:25.361Z"
   },
   {
    "duration": 326,
    "start_time": "2022-04-27T11:21:42.567Z"
   },
   {
    "duration": 5,
    "start_time": "2022-04-27T11:22:10.856Z"
   },
   {
    "duration": 13,
    "start_time": "2022-04-27T11:22:16.498Z"
   },
   {
    "duration": 6,
    "start_time": "2022-04-27T11:22:36.732Z"
   },
   {
    "duration": 6,
    "start_time": "2022-04-27T11:22:56.679Z"
   },
   {
    "duration": 950,
    "start_time": "2022-04-27T11:24:44.935Z"
   },
   {
    "duration": 692,
    "start_time": "2022-04-27T11:28:40.967Z"
   },
   {
    "duration": 103,
    "start_time": "2022-04-27T11:28:41.661Z"
   },
   {
    "duration": 6,
    "start_time": "2022-04-27T11:28:41.767Z"
   },
   {
    "duration": 33,
    "start_time": "2022-04-27T11:28:41.776Z"
   },
   {
    "duration": 39,
    "start_time": "2022-04-27T11:28:41.813Z"
   },
   {
    "duration": 13,
    "start_time": "2022-04-27T11:28:41.857Z"
   },
   {
    "duration": 44,
    "start_time": "2022-04-27T11:28:41.872Z"
   },
   {
    "duration": 14,
    "start_time": "2022-04-27T11:28:41.921Z"
   },
   {
    "duration": 32,
    "start_time": "2022-04-27T11:28:41.937Z"
   },
   {
    "duration": 5,
    "start_time": "2022-04-27T11:28:41.973Z"
   },
   {
    "duration": 10,
    "start_time": "2022-04-27T11:28:41.981Z"
   },
   {
    "duration": 46,
    "start_time": "2022-04-27T11:28:41.993Z"
   },
   {
    "duration": 30,
    "start_time": "2022-04-27T11:28:42.043Z"
   },
   {
    "duration": 52,
    "start_time": "2022-04-27T11:28:42.074Z"
   },
   {
    "duration": 25,
    "start_time": "2022-04-27T11:28:42.133Z"
   },
   {
    "duration": 15,
    "start_time": "2022-04-27T11:28:42.160Z"
   },
   {
    "duration": 41,
    "start_time": "2022-04-27T11:28:42.177Z"
   },
   {
    "duration": 34,
    "start_time": "2022-04-27T11:28:42.228Z"
   },
   {
    "duration": 78,
    "start_time": "2022-04-27T11:28:42.264Z"
   },
   {
    "duration": 29,
    "start_time": "2022-04-27T11:28:42.347Z"
   },
   {
    "duration": 25,
    "start_time": "2022-04-27T11:28:42.378Z"
   },
   {
    "duration": 41,
    "start_time": "2022-04-27T11:28:42.406Z"
   },
   {
    "duration": 423,
    "start_time": "2022-04-27T11:28:42.449Z"
   },
   {
    "duration": 75,
    "start_time": "2022-04-27T11:28:42.874Z"
   },
   {
    "duration": 596,
    "start_time": "2022-04-27T11:28:42.950Z"
   },
   {
    "duration": 233,
    "start_time": "2022-04-27T11:28:43.548Z"
   },
   {
    "duration": 192,
    "start_time": "2022-04-27T11:28:43.783Z"
   },
   {
    "duration": 193,
    "start_time": "2022-04-27T11:28:43.978Z"
   },
   {
    "duration": 44,
    "start_time": "2022-04-27T11:28:44.173Z"
   },
   {
    "duration": 154,
    "start_time": "2022-04-27T11:28:44.219Z"
   },
   {
    "duration": 49,
    "start_time": "2022-04-27T11:28:44.375Z"
   },
   {
    "duration": 921,
    "start_time": "2022-04-27T11:28:44.427Z"
   },
   {
    "duration": 39,
    "start_time": "2022-04-27T11:29:39.092Z"
   },
   {
    "duration": 628,
    "start_time": "2022-04-27T11:29:49.301Z"
   },
   {
    "duration": 83,
    "start_time": "2022-04-27T11:29:49.931Z"
   },
   {
    "duration": 10,
    "start_time": "2022-04-27T11:29:50.016Z"
   },
   {
    "duration": 45,
    "start_time": "2022-04-27T11:29:50.029Z"
   },
   {
    "duration": 40,
    "start_time": "2022-04-27T11:29:50.076Z"
   },
   {
    "duration": 7,
    "start_time": "2022-04-27T11:29:50.119Z"
   },
   {
    "duration": 61,
    "start_time": "2022-04-27T11:29:50.128Z"
   },
   {
    "duration": 8,
    "start_time": "2022-04-27T11:29:50.191Z"
   },
   {
    "duration": 63,
    "start_time": "2022-04-27T11:29:50.207Z"
   },
   {
    "duration": 6,
    "start_time": "2022-04-27T11:29:50.274Z"
   },
   {
    "duration": 8,
    "start_time": "2022-04-27T11:29:50.282Z"
   },
   {
    "duration": 36,
    "start_time": "2022-04-27T11:29:50.291Z"
   },
   {
    "duration": 40,
    "start_time": "2022-04-27T11:29:50.330Z"
   },
   {
    "duration": 41,
    "start_time": "2022-04-27T11:29:50.372Z"
   },
   {
    "duration": 36,
    "start_time": "2022-04-27T11:29:50.415Z"
   },
   {
    "duration": 18,
    "start_time": "2022-04-27T11:29:50.457Z"
   },
   {
    "duration": 15,
    "start_time": "2022-04-27T11:29:50.476Z"
   },
   {
    "duration": 48,
    "start_time": "2022-04-27T11:29:50.493Z"
   },
   {
    "duration": 81,
    "start_time": "2022-04-27T11:29:50.545Z"
   },
   {
    "duration": 30,
    "start_time": "2022-04-27T11:29:50.628Z"
   },
   {
    "duration": 86,
    "start_time": "2022-04-27T11:29:50.660Z"
   },
   {
    "duration": 0,
    "start_time": "2022-04-27T11:29:50.748Z"
   },
   {
    "duration": 0,
    "start_time": "2022-04-27T11:29:50.749Z"
   },
   {
    "duration": 0,
    "start_time": "2022-04-27T11:29:50.750Z"
   },
   {
    "duration": 0,
    "start_time": "2022-04-27T11:29:50.751Z"
   },
   {
    "duration": 0,
    "start_time": "2022-04-27T11:29:50.752Z"
   },
   {
    "duration": 0,
    "start_time": "2022-04-27T11:29:50.753Z"
   },
   {
    "duration": 0,
    "start_time": "2022-04-27T11:29:50.754Z"
   },
   {
    "duration": 0,
    "start_time": "2022-04-27T11:29:50.755Z"
   },
   {
    "duration": 0,
    "start_time": "2022-04-27T11:29:50.757Z"
   },
   {
    "duration": 0,
    "start_time": "2022-04-27T11:29:50.758Z"
   },
   {
    "duration": 0,
    "start_time": "2022-04-27T11:29:50.758Z"
   },
   {
    "duration": 8,
    "start_time": "2022-04-27T11:30:30.011Z"
   },
   {
    "duration": 51,
    "start_time": "2022-04-27T11:30:35.326Z"
   },
   {
    "duration": 398,
    "start_time": "2022-04-27T11:30:36.339Z"
   },
   {
    "duration": 63,
    "start_time": "2022-04-27T11:30:37.338Z"
   },
   {
    "duration": 707,
    "start_time": "2022-04-27T11:30:39.298Z"
   },
   {
    "duration": 317,
    "start_time": "2022-04-27T11:30:40.007Z"
   },
   {
    "duration": 160,
    "start_time": "2022-04-27T11:30:40.335Z"
   },
   {
    "duration": 206,
    "start_time": "2022-04-27T11:30:40.763Z"
   },
   {
    "duration": 34,
    "start_time": "2022-04-27T11:30:41.125Z"
   },
   {
    "duration": 171,
    "start_time": "2022-04-27T11:30:41.385Z"
   },
   {
    "duration": 53,
    "start_time": "2022-04-27T11:30:41.693Z"
   },
   {
    "duration": 876,
    "start_time": "2022-04-27T11:30:42.007Z"
   },
   {
    "duration": 573,
    "start_time": "2022-04-27T11:31:45.766Z"
   },
   {
    "duration": 79,
    "start_time": "2022-04-27T11:31:46.343Z"
   },
   {
    "duration": 11,
    "start_time": "2022-04-27T11:31:46.424Z"
   },
   {
    "duration": 36,
    "start_time": "2022-04-27T11:31:46.439Z"
   },
   {
    "duration": 30,
    "start_time": "2022-04-27T11:31:46.477Z"
   },
   {
    "duration": 8,
    "start_time": "2022-04-27T11:31:46.508Z"
   },
   {
    "duration": 60,
    "start_time": "2022-04-27T11:31:46.518Z"
   },
   {
    "duration": 8,
    "start_time": "2022-04-27T11:31:46.580Z"
   },
   {
    "duration": 6,
    "start_time": "2022-04-27T11:31:46.590Z"
   },
   {
    "duration": 27,
    "start_time": "2022-04-27T11:31:46.599Z"
   },
   {
    "duration": 37,
    "start_time": "2022-04-27T11:31:46.628Z"
   },
   {
    "duration": 25,
    "start_time": "2022-04-27T11:31:46.667Z"
   },
   {
    "duration": 24,
    "start_time": "2022-04-27T11:31:46.693Z"
   },
   {
    "duration": 64,
    "start_time": "2022-04-27T11:31:46.719Z"
   },
   {
    "duration": 29,
    "start_time": "2022-04-27T11:31:46.784Z"
   },
   {
    "duration": 20,
    "start_time": "2022-04-27T11:31:46.815Z"
   },
   {
    "duration": 44,
    "start_time": "2022-04-27T11:31:46.837Z"
   },
   {
    "duration": 58,
    "start_time": "2022-04-27T11:31:46.883Z"
   },
   {
    "duration": 76,
    "start_time": "2022-04-27T11:31:46.943Z"
   },
   {
    "duration": 33,
    "start_time": "2022-04-27T11:31:47.021Z"
   },
   {
    "duration": 16,
    "start_time": "2022-04-27T11:31:47.056Z"
   },
   {
    "duration": 78,
    "start_time": "2022-04-27T11:31:47.073Z"
   },
   {
    "duration": 402,
    "start_time": "2022-04-27T11:31:47.156Z"
   },
   {
    "duration": 82,
    "start_time": "2022-04-27T11:31:47.560Z"
   },
   {
    "duration": 580,
    "start_time": "2022-04-27T11:31:47.643Z"
   },
   {
    "duration": 218,
    "start_time": "2022-04-27T11:31:48.227Z"
   },
   {
    "duration": 202,
    "start_time": "2022-04-27T11:31:48.446Z"
   },
   {
    "duration": 154,
    "start_time": "2022-04-27T11:31:48.651Z"
   },
   {
    "duration": 26,
    "start_time": "2022-04-27T11:31:48.807Z"
   },
   {
    "duration": 151,
    "start_time": "2022-04-27T11:31:48.835Z"
   },
   {
    "duration": 43,
    "start_time": "2022-04-27T11:31:48.988Z"
   },
   {
    "duration": 918,
    "start_time": "2022-04-27T11:31:49.034Z"
   },
   {
    "duration": 900,
    "start_time": "2022-04-27T11:32:39.725Z"
   },
   {
    "duration": 229,
    "start_time": "2022-04-27T12:02:44.838Z"
   },
   {
    "duration": 21,
    "start_time": "2022-04-27T12:02:53.893Z"
   },
   {
    "duration": 13,
    "start_time": "2022-04-27T12:03:40.444Z"
   },
   {
    "duration": 17,
    "start_time": "2022-04-27T12:03:45.818Z"
   },
   {
    "duration": 1987,
    "start_time": "2022-04-27T12:04:16.823Z"
   },
   {
    "duration": 3727,
    "start_time": "2022-04-27T12:04:49.777Z"
   },
   {
    "duration": 31,
    "start_time": "2022-04-27T12:05:14.499Z"
   },
   {
    "duration": 20,
    "start_time": "2022-04-27T12:05:51.727Z"
   },
   {
    "duration": 21,
    "start_time": "2022-04-27T12:06:07.292Z"
   },
   {
    "duration": 58,
    "start_time": "2022-04-27T13:23:22.726Z"
   },
   {
    "duration": 964,
    "start_time": "2022-04-27T13:24:05.082Z"
   },
   {
    "duration": 56,
    "start_time": "2022-04-27T13:25:06.159Z"
   },
   {
    "duration": 60,
    "start_time": "2022-04-27T13:25:37.826Z"
   },
   {
    "duration": 57,
    "start_time": "2022-04-27T13:31:56.271Z"
   },
   {
    "duration": 772,
    "start_time": "2022-04-27T13:32:04.564Z"
   },
   {
    "duration": 84,
    "start_time": "2022-04-27T13:32:05.340Z"
   },
   {
    "duration": 38,
    "start_time": "2022-04-27T13:32:05.425Z"
   },
   {
    "duration": 21,
    "start_time": "2022-04-27T13:32:05.466Z"
   },
   {
    "duration": 33,
    "start_time": "2022-04-27T13:32:05.489Z"
   },
   {
    "duration": 59,
    "start_time": "2022-04-27T13:32:05.524Z"
   },
   {
    "duration": 40,
    "start_time": "2022-04-27T13:32:05.585Z"
   },
   {
    "duration": 42,
    "start_time": "2022-04-27T13:32:05.627Z"
   },
   {
    "duration": 16,
    "start_time": "2022-04-27T13:32:05.671Z"
   },
   {
    "duration": 6,
    "start_time": "2022-04-27T13:32:05.688Z"
   },
   {
    "duration": 20,
    "start_time": "2022-04-27T13:32:05.696Z"
   },
   {
    "duration": 76,
    "start_time": "2022-04-27T13:32:05.718Z"
   },
   {
    "duration": 30,
    "start_time": "2022-04-27T13:32:05.796Z"
   },
   {
    "duration": 80,
    "start_time": "2022-04-27T13:32:05.833Z"
   },
   {
    "duration": 33,
    "start_time": "2022-04-27T13:32:05.915Z"
   },
   {
    "duration": 45,
    "start_time": "2022-04-27T13:32:05.950Z"
   },
   {
    "duration": 50,
    "start_time": "2022-04-27T13:32:05.997Z"
   },
   {
    "duration": 62,
    "start_time": "2022-04-27T13:32:06.051Z"
   },
   {
    "duration": 79,
    "start_time": "2022-04-27T13:32:06.115Z"
   },
   {
    "duration": 61,
    "start_time": "2022-04-27T13:32:06.196Z"
   },
   {
    "duration": 28,
    "start_time": "2022-04-27T13:32:06.259Z"
   },
   {
    "duration": 58,
    "start_time": "2022-04-27T13:32:06.288Z"
   },
   {
    "duration": 462,
    "start_time": "2022-04-27T13:32:06.348Z"
   },
   {
    "duration": 68,
    "start_time": "2022-04-27T13:32:06.811Z"
   },
   {
    "duration": 692,
    "start_time": "2022-04-27T13:32:06.883Z"
   },
   {
    "duration": 249,
    "start_time": "2022-04-27T13:32:07.580Z"
   },
   {
    "duration": 165,
    "start_time": "2022-04-27T13:32:07.831Z"
   },
   {
    "duration": 186,
    "start_time": "2022-04-27T13:32:08.003Z"
   },
   {
    "duration": 38,
    "start_time": "2022-04-27T13:32:08.191Z"
   },
   {
    "duration": 197,
    "start_time": "2022-04-27T13:32:08.231Z"
   },
   {
    "duration": 37,
    "start_time": "2022-04-27T13:32:08.435Z"
   },
   {
    "duration": 92,
    "start_time": "2022-04-27T13:32:08.473Z"
   },
   {
    "duration": 239,
    "start_time": "2022-04-27T13:32:08.572Z"
   },
   {
    "duration": 121,
    "start_time": "2022-04-27T13:32:30.071Z"
   },
   {
    "duration": 28,
    "start_time": "2022-04-27T13:32:36.883Z"
   },
   {
    "duration": 73,
    "start_time": "2022-04-27T13:41:42.971Z"
   },
   {
    "duration": 77,
    "start_time": "2022-04-27T13:42:39.183Z"
   },
   {
    "duration": 69,
    "start_time": "2022-04-27T13:43:33.042Z"
   },
   {
    "duration": 52,
    "start_time": "2022-04-27T13:43:42.986Z"
   },
   {
    "duration": 9,
    "start_time": "2022-04-27T13:44:09.573Z"
   },
   {
    "duration": 13,
    "start_time": "2022-04-27T13:44:21.794Z"
   },
   {
    "duration": 34,
    "start_time": "2022-04-27T13:45:14.096Z"
   },
   {
    "duration": 11,
    "start_time": "2022-04-27T13:45:21.847Z"
   },
   {
    "duration": 1141,
    "start_time": "2022-04-27T13:47:19.727Z"
   },
   {
    "duration": 198,
    "start_time": "2022-04-27T13:48:57.960Z"
   },
   {
    "duration": 16,
    "start_time": "2022-04-27T13:49:16.160Z"
   },
   {
    "duration": 24,
    "start_time": "2022-04-27T13:50:20.734Z"
   },
   {
    "duration": 24,
    "start_time": "2022-04-27T13:51:05.146Z"
   },
   {
    "duration": 8,
    "start_time": "2022-04-27T13:51:12.960Z"
   },
   {
    "duration": 18,
    "start_time": "2022-04-27T13:52:21.400Z"
   },
   {
    "duration": 8,
    "start_time": "2022-04-27T13:52:40.945Z"
   },
   {
    "duration": 9,
    "start_time": "2022-04-27T13:53:12.430Z"
   },
   {
    "duration": 16,
    "start_time": "2022-04-27T14:02:22.731Z"
   },
   {
    "duration": 68,
    "start_time": "2022-04-27T14:03:02.964Z"
   },
   {
    "duration": 14,
    "start_time": "2022-04-27T14:03:25.450Z"
   },
   {
    "duration": 4193,
    "start_time": "2022-04-27T14:03:51.542Z"
   },
   {
    "duration": 117,
    "start_time": "2022-04-27T14:05:29.654Z"
   },
   {
    "duration": 108,
    "start_time": "2022-04-27T14:05:47.087Z"
   },
   {
    "duration": 108,
    "start_time": "2022-04-27T14:05:57.080Z"
   },
   {
    "duration": 140,
    "start_time": "2022-04-27T14:07:34.398Z"
   },
   {
    "duration": 145,
    "start_time": "2022-04-27T14:12:06.893Z"
   },
   {
    "duration": 197,
    "start_time": "2022-04-27T14:12:18.043Z"
   },
   {
    "duration": 136,
    "start_time": "2022-04-27T14:12:23.794Z"
   },
   {
    "duration": 137,
    "start_time": "2022-04-27T14:12:27.181Z"
   },
   {
    "duration": 108,
    "start_time": "2022-04-27T14:13:01.668Z"
   },
   {
    "duration": 135,
    "start_time": "2022-04-27T14:13:10.240Z"
   },
   {
    "duration": 135,
    "start_time": "2022-04-27T14:14:48.730Z"
   },
   {
    "duration": 129,
    "start_time": "2022-04-27T14:15:07.115Z"
   },
   {
    "duration": 132,
    "start_time": "2022-04-27T14:17:06.050Z"
   },
   {
    "duration": 11,
    "start_time": "2022-04-27T14:18:19.683Z"
   },
   {
    "duration": 11,
    "start_time": "2022-04-27T14:18:42.840Z"
   },
   {
    "duration": 133,
    "start_time": "2022-04-27T14:18:58.123Z"
   },
   {
    "duration": 132,
    "start_time": "2022-04-27T14:19:36.847Z"
   },
   {
    "duration": 124,
    "start_time": "2022-04-27T14:20:49.313Z"
   },
   {
    "duration": 784,
    "start_time": "2022-04-27T14:20:59.087Z"
   },
   {
    "duration": 152,
    "start_time": "2022-04-27T14:21:17.551Z"
   },
   {
    "duration": 166,
    "start_time": "2022-04-27T14:21:31.501Z"
   },
   {
    "duration": 213,
    "start_time": "2022-04-27T14:21:37.013Z"
   },
   {
    "duration": 189,
    "start_time": "2022-04-27T14:21:46.056Z"
   },
   {
    "duration": 35,
    "start_time": "2022-04-27T14:21:53.742Z"
   },
   {
    "duration": 14,
    "start_time": "2022-04-27T14:21:58.329Z"
   },
   {
    "duration": 137,
    "start_time": "2022-04-27T14:22:04.723Z"
   },
   {
    "duration": 22,
    "start_time": "2022-04-27T14:22:57.158Z"
   },
   {
    "duration": 136,
    "start_time": "2022-04-27T14:23:00.138Z"
   },
   {
    "duration": 130,
    "start_time": "2022-04-27T14:23:36.899Z"
   },
   {
    "duration": 143,
    "start_time": "2022-04-27T14:23:41.703Z"
   },
   {
    "duration": 136,
    "start_time": "2022-04-27T14:23:49.070Z"
   },
   {
    "duration": 230,
    "start_time": "2022-04-27T15:38:57.477Z"
   },
   {
    "duration": 124,
    "start_time": "2022-04-27T15:39:48.858Z"
   },
   {
    "duration": 539,
    "start_time": "2022-04-27T15:40:47.387Z"
   },
   {
    "duration": 73,
    "start_time": "2022-04-27T15:40:47.928Z"
   },
   {
    "duration": 6,
    "start_time": "2022-04-27T15:40:48.002Z"
   },
   {
    "duration": 11,
    "start_time": "2022-04-27T15:40:48.009Z"
   },
   {
    "duration": 26,
    "start_time": "2022-04-27T15:40:48.021Z"
   },
   {
    "duration": 4,
    "start_time": "2022-04-27T15:40:48.049Z"
   },
   {
    "duration": 50,
    "start_time": "2022-04-27T15:40:48.055Z"
   },
   {
    "duration": 6,
    "start_time": "2022-04-27T15:40:48.107Z"
   },
   {
    "duration": 8,
    "start_time": "2022-04-27T15:40:48.114Z"
   },
   {
    "duration": 5,
    "start_time": "2022-04-27T15:40:48.125Z"
   },
   {
    "duration": 9,
    "start_time": "2022-04-27T15:40:48.132Z"
   },
   {
    "duration": 64,
    "start_time": "2022-04-27T15:40:48.142Z"
   },
   {
    "duration": 16,
    "start_time": "2022-04-27T15:40:48.208Z"
   },
   {
    "duration": 22,
    "start_time": "2022-04-27T15:40:48.225Z"
   },
   {
    "duration": 15,
    "start_time": "2022-04-27T15:40:48.248Z"
   },
   {
    "duration": 13,
    "start_time": "2022-04-27T15:40:48.299Z"
   },
   {
    "duration": 15,
    "start_time": "2022-04-27T15:40:48.314Z"
   },
   {
    "duration": 26,
    "start_time": "2022-04-27T15:40:48.331Z"
   },
   {
    "duration": 89,
    "start_time": "2022-04-27T15:40:48.358Z"
   },
   {
    "duration": 51,
    "start_time": "2022-04-27T15:40:48.449Z"
   },
   {
    "duration": 5,
    "start_time": "2022-04-27T15:40:48.502Z"
   },
   {
    "duration": 30,
    "start_time": "2022-04-27T15:40:48.509Z"
   },
   {
    "duration": 344,
    "start_time": "2022-04-27T15:40:48.541Z"
   },
   {
    "duration": 52,
    "start_time": "2022-04-27T15:40:48.887Z"
   },
   {
    "duration": 714,
    "start_time": "2022-04-27T15:40:48.941Z"
   },
   {
    "duration": 186,
    "start_time": "2022-04-27T15:40:49.656Z"
   },
   {
    "duration": 136,
    "start_time": "2022-04-27T15:40:49.843Z"
   },
   {
    "duration": 148,
    "start_time": "2022-04-27T15:40:49.982Z"
   },
   {
    "duration": 17,
    "start_time": "2022-04-27T15:40:50.132Z"
   },
   {
    "duration": 129,
    "start_time": "2022-04-27T15:40:50.151Z"
   },
   {
    "duration": 34,
    "start_time": "2022-04-27T15:40:50.281Z"
   },
   {
    "duration": 21,
    "start_time": "2022-04-27T15:40:50.316Z"
   },
   {
    "duration": 154,
    "start_time": "2022-04-27T15:40:50.338Z"
   },
   {
    "duration": 150,
    "start_time": "2022-04-27T15:40:50.499Z"
   },
   {
    "duration": 165,
    "start_time": "2022-04-27T15:40:50.650Z"
   },
   {
    "duration": 145,
    "start_time": "2022-04-27T15:40:50.816Z"
   },
   {
    "duration": 77,
    "start_time": "2022-04-27T15:43:24.474Z"
   },
   {
    "duration": 11,
    "start_time": "2022-04-27T15:43:35.788Z"
   },
   {
    "duration": 11,
    "start_time": "2022-04-27T15:43:55.141Z"
   },
   {
    "duration": 25,
    "start_time": "2022-04-27T15:44:11.779Z"
   },
   {
    "duration": 24,
    "start_time": "2022-04-27T15:44:48.510Z"
   },
   {
    "duration": 44,
    "start_time": "2022-04-27T15:45:05.016Z"
   },
   {
    "duration": 25,
    "start_time": "2022-04-27T15:48:58.939Z"
   },
   {
    "duration": 15,
    "start_time": "2022-04-27T15:51:05.174Z"
   },
   {
    "duration": 15,
    "start_time": "2022-04-27T15:51:24.061Z"
   },
   {
    "duration": 4,
    "start_time": "2022-04-27T15:52:18.073Z"
   },
   {
    "duration": 15,
    "start_time": "2022-04-27T15:52:23.148Z"
   },
   {
    "duration": 16,
    "start_time": "2022-04-27T15:56:15.296Z"
   },
   {
    "duration": 28,
    "start_time": "2022-04-27T16:05:56.951Z"
   },
   {
    "duration": 19,
    "start_time": "2022-04-27T16:06:50.360Z"
   },
   {
    "duration": 27,
    "start_time": "2022-04-27T16:07:02.436Z"
   },
   {
    "duration": 28,
    "start_time": "2022-04-27T16:07:19.737Z"
   },
   {
    "duration": 21,
    "start_time": "2022-04-27T16:07:34.552Z"
   },
   {
    "duration": 14,
    "start_time": "2022-04-27T16:08:31.208Z"
   },
   {
    "duration": 24,
    "start_time": "2022-04-27T16:09:00.669Z"
   },
   {
    "duration": 18,
    "start_time": "2022-04-27T16:09:10.507Z"
   },
   {
    "duration": 20,
    "start_time": "2022-04-27T16:09:14.657Z"
   },
   {
    "duration": 22,
    "start_time": "2022-04-27T16:09:24.037Z"
   },
   {
    "duration": 19,
    "start_time": "2022-04-27T16:09:28.017Z"
   },
   {
    "duration": 42,
    "start_time": "2022-04-27T16:09:30.829Z"
   },
   {
    "duration": 197,
    "start_time": "2022-04-27T16:12:23.304Z"
   },
   {
    "duration": 186,
    "start_time": "2022-04-27T16:12:29.521Z"
   },
   {
    "duration": 9,
    "start_time": "2022-04-27T16:12:40.166Z"
   },
   {
    "duration": 9,
    "start_time": "2022-04-27T16:13:08.516Z"
   },
   {
    "duration": 10,
    "start_time": "2022-04-27T16:13:30.971Z"
   },
   {
    "duration": 8,
    "start_time": "2022-04-27T16:13:54.880Z"
   },
   {
    "duration": 9,
    "start_time": "2022-04-27T16:14:02.860Z"
   },
   {
    "duration": 9,
    "start_time": "2022-04-27T16:14:21.616Z"
   },
   {
    "duration": 10,
    "start_time": "2022-04-27T16:14:36.811Z"
   },
   {
    "duration": 8,
    "start_time": "2022-04-27T16:15:16.599Z"
   },
   {
    "duration": 7,
    "start_time": "2022-04-27T16:15:18.312Z"
   },
   {
    "duration": 189,
    "start_time": "2022-04-27T16:16:37.096Z"
   },
   {
    "duration": 11,
    "start_time": "2022-04-27T16:16:41.868Z"
   },
   {
    "duration": 9,
    "start_time": "2022-04-27T16:17:47.133Z"
   },
   {
    "duration": 12,
    "start_time": "2022-04-27T16:22:46.019Z"
   },
   {
    "duration": 8,
    "start_time": "2022-04-27T16:26:30.869Z"
   },
   {
    "duration": 8,
    "start_time": "2022-04-27T16:27:58.469Z"
   },
   {
    "duration": 46,
    "start_time": "2022-04-28T10:23:53.998Z"
   },
   {
    "duration": 547,
    "start_time": "2022-04-28T10:24:00.951Z"
   },
   {
    "duration": 73,
    "start_time": "2022-04-28T10:24:01.500Z"
   },
   {
    "duration": 6,
    "start_time": "2022-04-28T10:24:01.575Z"
   },
   {
    "duration": 29,
    "start_time": "2022-04-28T10:24:01.583Z"
   },
   {
    "duration": 53,
    "start_time": "2022-04-28T10:24:01.614Z"
   },
   {
    "duration": 5,
    "start_time": "2022-04-28T10:24:01.669Z"
   },
   {
    "duration": 33,
    "start_time": "2022-04-28T10:24:01.676Z"
   },
   {
    "duration": 7,
    "start_time": "2022-04-28T10:24:01.710Z"
   },
   {
    "duration": 9,
    "start_time": "2022-04-28T10:24:01.719Z"
   },
   {
    "duration": 16,
    "start_time": "2022-04-28T10:24:01.730Z"
   },
   {
    "duration": 13,
    "start_time": "2022-04-28T10:24:01.747Z"
   },
   {
    "duration": 40,
    "start_time": "2022-04-28T10:24:01.762Z"
   },
   {
    "duration": 16,
    "start_time": "2022-04-28T10:24:01.804Z"
   },
   {
    "duration": 34,
    "start_time": "2022-04-28T10:24:01.822Z"
   },
   {
    "duration": 17,
    "start_time": "2022-04-28T10:24:01.857Z"
   },
   {
    "duration": 14,
    "start_time": "2022-04-28T10:24:01.876Z"
   },
   {
    "duration": 98,
    "start_time": "2022-04-28T10:24:01.891Z"
   },
   {
    "duration": 59,
    "start_time": "2022-04-28T10:24:01.990Z"
   },
   {
    "duration": 57,
    "start_time": "2022-04-28T10:24:02.051Z"
   },
   {
    "duration": 23,
    "start_time": "2022-04-28T10:24:02.110Z"
   },
   {
    "duration": 22,
    "start_time": "2022-04-28T10:24:02.134Z"
   },
   {
    "duration": 71,
    "start_time": "2022-04-28T10:24:02.158Z"
   },
   {
    "duration": 345,
    "start_time": "2022-04-28T10:24:02.231Z"
   },
   {
    "duration": 52,
    "start_time": "2022-04-28T10:24:02.577Z"
   },
   {
    "duration": 696,
    "start_time": "2022-04-28T10:24:02.631Z"
   },
   {
    "duration": 153,
    "start_time": "2022-04-28T10:24:03.329Z"
   },
   {
    "duration": 146,
    "start_time": "2022-04-28T10:24:03.483Z"
   },
   {
    "duration": 161,
    "start_time": "2022-04-28T10:24:03.633Z"
   },
   {
    "duration": 18,
    "start_time": "2022-04-28T10:24:03.796Z"
   },
   {
    "duration": 138,
    "start_time": "2022-04-28T10:24:03.816Z"
   },
   {
    "duration": 25,
    "start_time": "2022-04-28T10:24:03.956Z"
   },
   {
    "duration": 25,
    "start_time": "2022-04-28T10:24:03.982Z"
   },
   {
    "duration": 162,
    "start_time": "2022-04-28T10:24:04.009Z"
   },
   {
    "duration": 155,
    "start_time": "2022-04-28T10:24:04.173Z"
   },
   {
    "duration": 167,
    "start_time": "2022-04-28T10:24:04.329Z"
   },
   {
    "duration": 143,
    "start_time": "2022-04-28T10:24:04.497Z"
   },
   {
    "duration": 16,
    "start_time": "2022-04-28T10:24:04.642Z"
   },
   {
    "duration": 8,
    "start_time": "2022-04-28T10:24:04.659Z"
   },
   {
    "duration": 8,
    "start_time": "2022-04-28T10:24:22.287Z"
   },
   {
    "duration": 83,
    "start_time": "2022-04-28T10:25:13.375Z"
   },
   {
    "duration": 47,
    "start_time": "2022-04-28T10:25:28.437Z"
   },
   {
    "duration": 42,
    "start_time": "2022-04-28T10:25:50.633Z"
   },
   {
    "duration": 49,
    "start_time": "2022-04-28T10:26:56.094Z"
   },
   {
    "duration": 20,
    "start_time": "2022-04-28T10:28:13.489Z"
   },
   {
    "duration": 21,
    "start_time": "2022-04-28T10:30:20.738Z"
   },
   {
    "duration": 7,
    "start_time": "2022-04-28T10:35:14.975Z"
   },
   {
    "duration": 42,
    "start_time": "2022-04-28T10:35:20.716Z"
   },
   {
    "duration": 9,
    "start_time": "2022-04-28T10:42:49.167Z"
   },
   {
    "duration": 11,
    "start_time": "2022-04-28T10:42:59.736Z"
   },
   {
    "duration": 42,
    "start_time": "2022-04-28T10:43:09.244Z"
   },
   {
    "duration": 14,
    "start_time": "2022-04-28T10:43:48.792Z"
   },
   {
    "duration": 16,
    "start_time": "2022-04-28T10:43:56.095Z"
   },
   {
    "duration": 14,
    "start_time": "2022-04-28T10:44:10.975Z"
   },
   {
    "duration": 20,
    "start_time": "2022-04-28T10:44:28.250Z"
   },
   {
    "duration": 15,
    "start_time": "2022-04-28T10:44:50.264Z"
   },
   {
    "duration": 27,
    "start_time": "2022-04-28T10:45:32.076Z"
   },
   {
    "duration": 23,
    "start_time": "2022-04-28T10:46:56.458Z"
   },
   {
    "duration": 32,
    "start_time": "2022-04-28T10:47:07.273Z"
   },
   {
    "duration": 50,
    "start_time": "2022-04-28T10:47:17.422Z"
   },
   {
    "duration": 50,
    "start_time": "2022-04-28T10:47:43.610Z"
   },
   {
    "duration": 41,
    "start_time": "2022-04-28T10:48:04.969Z"
   },
   {
    "duration": 510,
    "start_time": "2022-04-28T10:48:57.539Z"
   },
   {
    "duration": 62,
    "start_time": "2022-04-28T10:48:58.055Z"
   },
   {
    "duration": 5,
    "start_time": "2022-04-28T10:48:58.119Z"
   },
   {
    "duration": 30,
    "start_time": "2022-04-28T10:48:58.125Z"
   },
   {
    "duration": 22,
    "start_time": "2022-04-28T10:48:58.157Z"
   },
   {
    "duration": 4,
    "start_time": "2022-04-28T10:48:58.180Z"
   },
   {
    "duration": 20,
    "start_time": "2022-04-28T10:48:58.186Z"
   },
   {
    "duration": 6,
    "start_time": "2022-04-28T10:48:58.207Z"
   },
   {
    "duration": 42,
    "start_time": "2022-04-28T10:48:58.215Z"
   },
   {
    "duration": 6,
    "start_time": "2022-04-28T10:48:58.259Z"
   },
   {
    "duration": 11,
    "start_time": "2022-04-28T10:48:58.267Z"
   },
   {
    "duration": 23,
    "start_time": "2022-04-28T10:48:58.279Z"
   },
   {
    "duration": 57,
    "start_time": "2022-04-28T10:48:58.304Z"
   },
   {
    "duration": 25,
    "start_time": "2022-04-28T10:48:58.364Z"
   },
   {
    "duration": 17,
    "start_time": "2022-04-28T10:48:58.391Z"
   },
   {
    "duration": 51,
    "start_time": "2022-04-28T10:48:58.409Z"
   },
   {
    "duration": 16,
    "start_time": "2022-04-28T10:48:58.461Z"
   },
   {
    "duration": 26,
    "start_time": "2022-04-28T10:48:58.479Z"
   },
   {
    "duration": 89,
    "start_time": "2022-04-28T10:48:58.506Z"
   },
   {
    "duration": 21,
    "start_time": "2022-04-28T10:48:58.596Z"
   },
   {
    "duration": 4,
    "start_time": "2022-04-28T10:48:58.618Z"
   },
   {
    "duration": 56,
    "start_time": "2022-04-28T10:48:58.624Z"
   },
   {
    "duration": 338,
    "start_time": "2022-04-28T10:48:58.682Z"
   },
   {
    "duration": 61,
    "start_time": "2022-04-28T10:48:59.021Z"
   },
   {
    "duration": 401,
    "start_time": "2022-04-28T10:48:59.084Z"
   },
   {
    "duration": 196,
    "start_time": "2022-04-28T10:48:59.487Z"
   },
   {
    "duration": 142,
    "start_time": "2022-04-28T10:48:59.684Z"
   },
   {
    "duration": 149,
    "start_time": "2022-04-28T10:48:59.828Z"
   },
   {
    "duration": 20,
    "start_time": "2022-04-28T10:48:59.979Z"
   },
   {
    "duration": 140,
    "start_time": "2022-04-28T10:49:00.001Z"
   },
   {
    "duration": 33,
    "start_time": "2022-04-28T10:49:00.143Z"
   },
   {
    "duration": 24,
    "start_time": "2022-04-28T10:49:00.178Z"
   },
   {
    "duration": 172,
    "start_time": "2022-04-28T10:49:00.203Z"
   },
   {
    "duration": 157,
    "start_time": "2022-04-28T10:49:00.376Z"
   },
   {
    "duration": 169,
    "start_time": "2022-04-28T10:49:00.534Z"
   },
   {
    "duration": 135,
    "start_time": "2022-04-28T10:49:00.705Z"
   },
   {
    "duration": 17,
    "start_time": "2022-04-28T10:49:00.842Z"
   },
   {
    "duration": 57,
    "start_time": "2022-04-28T10:49:00.860Z"
   },
   {
    "duration": 54,
    "start_time": "2022-04-28T10:49:00.918Z"
   },
   {
    "duration": 70,
    "start_time": "2022-04-28T10:59:17.872Z"
   },
   {
    "duration": 5,
    "start_time": "2022-04-28T10:59:32.204Z"
   },
   {
    "duration": 39,
    "start_time": "2022-04-28T10:59:40.668Z"
   },
   {
    "duration": 38,
    "start_time": "2022-04-28T11:00:10.115Z"
   },
   {
    "duration": 8,
    "start_time": "2022-04-28T11:00:59.172Z"
   },
   {
    "duration": 10,
    "start_time": "2022-04-28T11:01:05.065Z"
   },
   {
    "duration": 9,
    "start_time": "2022-04-28T11:01:33.849Z"
   },
   {
    "duration": 10,
    "start_time": "2022-04-28T11:01:43.190Z"
   },
   {
    "duration": 13,
    "start_time": "2022-04-28T11:10:52.855Z"
   },
   {
    "duration": 12,
    "start_time": "2022-04-28T11:13:24.055Z"
   },
   {
    "duration": 11,
    "start_time": "2022-04-28T11:19:08.299Z"
   },
   {
    "duration": 22,
    "start_time": "2022-04-28T13:02:56.729Z"
   },
   {
    "duration": 30,
    "start_time": "2022-04-28T13:04:13.330Z"
   },
   {
    "duration": 49,
    "start_time": "2022-04-28T13:04:41.820Z"
   },
   {
    "duration": 48,
    "start_time": "2022-04-28T13:05:20.291Z"
   },
   {
    "duration": 12,
    "start_time": "2022-04-28T13:05:28.529Z"
   },
   {
    "duration": 2802,
    "start_time": "2022-04-28T13:06:11.663Z"
   },
   {
    "duration": 26,
    "start_time": "2022-04-28T13:06:19.035Z"
   },
   {
    "duration": 32,
    "start_time": "2022-04-28T13:08:12.445Z"
   },
   {
    "duration": 49,
    "start_time": "2022-04-28T13:11:41.433Z"
   },
   {
    "duration": 57,
    "start_time": "2022-04-28T13:11:50.853Z"
   },
   {
    "duration": 79,
    "start_time": "2022-04-29T05:51:29.223Z"
   },
   {
    "duration": 738,
    "start_time": "2022-04-29T05:51:33.687Z"
   },
   {
    "duration": 116,
    "start_time": "2022-04-29T05:51:34.428Z"
   },
   {
    "duration": 8,
    "start_time": "2022-04-29T05:51:34.546Z"
   },
   {
    "duration": 11,
    "start_time": "2022-04-29T05:51:34.557Z"
   },
   {
    "duration": 82,
    "start_time": "2022-04-29T05:51:34.570Z"
   },
   {
    "duration": 6,
    "start_time": "2022-04-29T05:51:34.654Z"
   },
   {
    "duration": 64,
    "start_time": "2022-04-29T05:51:34.662Z"
   },
   {
    "duration": 10,
    "start_time": "2022-04-29T05:51:34.728Z"
   },
   {
    "duration": 8,
    "start_time": "2022-04-29T05:51:34.740Z"
   },
   {
    "duration": 7,
    "start_time": "2022-04-29T05:51:34.752Z"
   },
   {
    "duration": 66,
    "start_time": "2022-04-29T05:51:34.761Z"
   },
   {
    "duration": 41,
    "start_time": "2022-04-29T05:51:34.829Z"
   },
   {
    "duration": 65,
    "start_time": "2022-04-29T05:51:34.872Z"
   },
   {
    "duration": 41,
    "start_time": "2022-04-29T05:51:34.940Z"
   },
   {
    "duration": 58,
    "start_time": "2022-04-29T05:51:34.983Z"
   },
   {
    "duration": 21,
    "start_time": "2022-04-29T05:51:35.043Z"
   },
   {
    "duration": 68,
    "start_time": "2022-04-29T05:51:35.067Z"
   },
   {
    "duration": 43,
    "start_time": "2022-04-29T05:51:35.138Z"
   },
   {
    "duration": 115,
    "start_time": "2022-04-29T05:51:35.183Z"
   },
   {
    "duration": 32,
    "start_time": "2022-04-29T05:51:35.324Z"
   },
   {
    "duration": 7,
    "start_time": "2022-04-29T05:51:35.359Z"
   },
   {
    "duration": 95,
    "start_time": "2022-04-29T05:51:35.368Z"
   },
   {
    "duration": 562,
    "start_time": "2022-04-29T05:51:35.466Z"
   },
   {
    "duration": 114,
    "start_time": "2022-04-29T05:51:36.030Z"
   },
   {
    "duration": 1037,
    "start_time": "2022-04-29T05:51:36.146Z"
   },
   {
    "duration": 272,
    "start_time": "2022-04-29T05:51:37.185Z"
   },
   {
    "duration": 264,
    "start_time": "2022-04-29T05:51:37.460Z"
   },
   {
    "duration": 258,
    "start_time": "2022-04-29T05:51:37.729Z"
   },
   {
    "duration": 42,
    "start_time": "2022-04-29T05:51:37.989Z"
   },
   {
    "duration": 217,
    "start_time": "2022-04-29T05:51:38.033Z"
   },
   {
    "duration": 32,
    "start_time": "2022-04-29T05:51:38.253Z"
   },
   {
    "duration": 61,
    "start_time": "2022-04-29T05:51:38.287Z"
   },
   {
    "duration": 268,
    "start_time": "2022-04-29T05:51:38.351Z"
   },
   {
    "duration": 263,
    "start_time": "2022-04-29T05:51:38.625Z"
   },
   {
    "duration": 407,
    "start_time": "2022-04-29T05:51:38.890Z"
   },
   {
    "duration": 258,
    "start_time": "2022-04-29T05:51:39.299Z"
   },
   {
    "duration": 13,
    "start_time": "2022-04-29T05:51:39.559Z"
   },
   {
    "duration": 67,
    "start_time": "2022-04-29T05:51:39.574Z"
   },
   {
    "duration": 1903,
    "start_time": "2022-04-29T05:51:39.643Z"
   },
   {
    "duration": 0,
    "start_time": "2022-04-29T05:51:41.548Z"
   },
   {
    "duration": 88,
    "start_time": "2022-04-29T05:52:04.938Z"
   },
   {
    "duration": 85,
    "start_time": "2022-04-29T05:52:50.732Z"
   },
   {
    "duration": 83,
    "start_time": "2022-04-29T05:58:40.422Z"
   },
   {
    "duration": 84,
    "start_time": "2022-04-29T06:01:40.405Z"
   },
   {
    "duration": 93,
    "start_time": "2022-04-29T06:02:03.690Z"
   },
   {
    "duration": 19,
    "start_time": "2022-04-29T06:02:08.664Z"
   },
   {
    "duration": 20,
    "start_time": "2022-04-29T06:03:15.266Z"
   },
   {
    "duration": 86,
    "start_time": "2022-04-29T06:03:49.375Z"
   },
   {
    "duration": 15,
    "start_time": "2022-04-29T06:04:13.182Z"
   },
   {
    "duration": 14,
    "start_time": "2022-04-29T06:04:53.563Z"
   },
   {
    "duration": 252,
    "start_time": "2022-04-29T06:07:14.809Z"
   },
   {
    "duration": 611,
    "start_time": "2022-04-29T06:07:37.203Z"
   },
   {
    "duration": 569,
    "start_time": "2022-04-29T06:07:55.728Z"
   },
   {
    "duration": 893,
    "start_time": "2022-04-29T06:08:26.100Z"
   },
   {
    "duration": 528,
    "start_time": "2022-04-29T06:09:45.430Z"
   },
   {
    "duration": 748,
    "start_time": "2022-04-29T06:11:24.296Z"
   },
   {
    "duration": 241,
    "start_time": "2022-04-29T06:12:16.803Z"
   },
   {
    "duration": 257,
    "start_time": "2022-04-29T06:12:31.791Z"
   },
   {
    "duration": 741,
    "start_time": "2022-04-29T14:30:53.578Z"
   },
   {
    "duration": 138,
    "start_time": "2022-04-29T14:30:54.326Z"
   },
   {
    "duration": 8,
    "start_time": "2022-04-29T14:30:54.466Z"
   },
   {
    "duration": 48,
    "start_time": "2022-04-29T14:30:54.477Z"
   },
   {
    "duration": 43,
    "start_time": "2022-04-29T14:30:54.528Z"
   },
   {
    "duration": 60,
    "start_time": "2022-04-29T14:30:54.573Z"
   },
   {
    "duration": 10,
    "start_time": "2022-04-29T14:30:54.636Z"
   },
   {
    "duration": 12,
    "start_time": "2022-04-29T14:30:54.648Z"
   },
   {
    "duration": 8,
    "start_time": "2022-04-29T14:30:54.663Z"
   },
   {
    "duration": 11,
    "start_time": "2022-04-29T14:30:54.724Z"
   },
   {
    "duration": 39,
    "start_time": "2022-04-29T14:30:54.738Z"
   },
   {
    "duration": 65,
    "start_time": "2022-04-29T14:30:54.779Z"
   },
   {
    "duration": 78,
    "start_time": "2022-04-29T14:30:54.846Z"
   },
   {
    "duration": 25,
    "start_time": "2022-04-29T14:30:54.927Z"
   },
   {
    "duration": 20,
    "start_time": "2022-04-29T14:30:54.955Z"
   },
   {
    "duration": 26,
    "start_time": "2022-04-29T14:30:55.024Z"
   },
   {
    "duration": 80,
    "start_time": "2022-04-29T14:30:55.052Z"
   },
   {
    "duration": 104,
    "start_time": "2022-04-29T14:30:55.135Z"
   },
   {
    "duration": 32,
    "start_time": "2022-04-29T14:30:55.241Z"
   },
   {
    "duration": 7,
    "start_time": "2022-04-29T14:30:55.275Z"
   },
   {
    "duration": 89,
    "start_time": "2022-04-29T14:30:55.284Z"
   },
   {
    "duration": 602,
    "start_time": "2022-04-29T14:30:55.376Z"
   },
   {
    "duration": 110,
    "start_time": "2022-04-29T14:30:55.981Z"
   },
   {
    "duration": 706,
    "start_time": "2022-04-29T14:30:56.094Z"
   },
   {
    "duration": 352,
    "start_time": "2022-04-29T14:30:56.802Z"
   },
   {
    "duration": 263,
    "start_time": "2022-04-29T14:30:57.157Z"
   },
   {
    "duration": 260,
    "start_time": "2022-04-29T14:30:57.425Z"
   },
   {
    "duration": 47,
    "start_time": "2022-04-29T14:30:57.690Z"
   },
   {
    "duration": 229,
    "start_time": "2022-04-29T14:30:57.739Z"
   },
   {
    "duration": 63,
    "start_time": "2022-04-29T14:30:57.971Z"
   },
   {
    "duration": 35,
    "start_time": "2022-04-29T14:30:58.036Z"
   },
   {
    "duration": 313,
    "start_time": "2022-04-29T14:30:58.074Z"
   },
   {
    "duration": 288,
    "start_time": "2022-04-29T14:30:58.389Z"
   },
   {
    "duration": 328,
    "start_time": "2022-04-29T14:30:58.679Z"
   },
   {
    "duration": 321,
    "start_time": "2022-04-29T14:30:59.010Z"
   },
   {
    "duration": 0,
    "start_time": "2022-04-29T14:30:59.334Z"
   },
   {
    "duration": 0,
    "start_time": "2022-04-29T14:30:59.337Z"
   },
   {
    "duration": 0,
    "start_time": "2022-04-29T14:30:59.339Z"
   },
   {
    "duration": 803,
    "start_time": "2022-04-29T14:51:27.838Z"
   },
   {
    "duration": 123,
    "start_time": "2022-04-29T14:51:28.643Z"
   },
   {
    "duration": 9,
    "start_time": "2022-04-29T14:51:28.768Z"
   },
   {
    "duration": 44,
    "start_time": "2022-04-29T14:51:28.780Z"
   },
   {
    "duration": 46,
    "start_time": "2022-04-29T14:51:28.827Z"
   },
   {
    "duration": 10,
    "start_time": "2022-04-29T14:51:28.876Z"
   },
   {
    "duration": 13,
    "start_time": "2022-04-29T14:51:28.925Z"
   },
   {
    "duration": 14,
    "start_time": "2022-04-29T14:51:28.942Z"
   },
   {
    "duration": 16,
    "start_time": "2022-04-29T14:51:28.958Z"
   },
   {
    "duration": 56,
    "start_time": "2022-04-29T14:51:28.978Z"
   },
   {
    "duration": 55,
    "start_time": "2022-04-29T14:51:29.036Z"
   },
   {
    "duration": 32,
    "start_time": "2022-04-29T14:51:29.094Z"
   },
   {
    "duration": 42,
    "start_time": "2022-04-29T14:51:29.128Z"
   },
   {
    "duration": 7,
    "start_time": "2022-04-29T14:51:29.172Z"
   },
   {
    "duration": 9,
    "start_time": "2022-04-29T14:51:29.224Z"
   },
   {
    "duration": 26,
    "start_time": "2022-04-29T14:51:29.235Z"
   },
   {
    "duration": 93,
    "start_time": "2022-04-29T14:51:29.263Z"
   },
   {
    "duration": 116,
    "start_time": "2022-04-29T14:51:29.358Z"
   },
   {
    "duration": 52,
    "start_time": "2022-04-29T14:51:29.476Z"
   },
   {
    "duration": 7,
    "start_time": "2022-04-29T14:51:29.530Z"
   },
   {
    "duration": 56,
    "start_time": "2022-04-29T14:51:29.539Z"
   },
   {
    "duration": 565,
    "start_time": "2022-04-29T14:51:29.624Z"
   },
   {
    "duration": 101,
    "start_time": "2022-04-29T14:51:30.191Z"
   },
   {
    "duration": 739,
    "start_time": "2022-04-29T14:51:30.294Z"
   },
   {
    "duration": 330,
    "start_time": "2022-04-29T14:51:31.035Z"
   },
   {
    "duration": 262,
    "start_time": "2022-04-29T14:51:31.367Z"
   },
   {
    "duration": 267,
    "start_time": "2022-04-29T14:51:31.632Z"
   },
   {
    "duration": 37,
    "start_time": "2022-04-29T14:51:31.904Z"
   },
   {
    "duration": 229,
    "start_time": "2022-04-29T14:51:31.943Z"
   },
   {
    "duration": 52,
    "start_time": "2022-04-29T14:51:32.174Z"
   },
   {
    "duration": 38,
    "start_time": "2022-04-29T14:51:32.228Z"
   },
   {
    "duration": 283,
    "start_time": "2022-04-29T14:51:32.268Z"
   },
   {
    "duration": 271,
    "start_time": "2022-04-29T14:51:32.553Z"
   },
   {
    "duration": 305,
    "start_time": "2022-04-29T14:51:32.827Z"
   },
   {
    "duration": 696,
    "start_time": "2022-04-29T14:51:33.134Z"
   },
   {
    "duration": 0,
    "start_time": "2022-04-29T14:51:33.833Z"
   },
   {
    "duration": 0,
    "start_time": "2022-04-29T14:51:33.835Z"
   },
   {
    "duration": 0,
    "start_time": "2022-04-29T14:51:33.837Z"
   },
   {
    "duration": 741,
    "start_time": "2022-04-29T15:08:21.031Z"
   },
   {
    "duration": 119,
    "start_time": "2022-04-29T15:08:21.775Z"
   },
   {
    "duration": 28,
    "start_time": "2022-04-29T15:08:21.896Z"
   },
   {
    "duration": 11,
    "start_time": "2022-04-29T15:08:21.927Z"
   },
   {
    "duration": 58,
    "start_time": "2022-04-29T15:08:21.940Z"
   },
   {
    "duration": 30,
    "start_time": "2022-04-29T15:08:22.000Z"
   },
   {
    "duration": 17,
    "start_time": "2022-04-29T15:08:22.032Z"
   },
   {
    "duration": 12,
    "start_time": "2022-04-29T15:08:22.052Z"
   },
   {
    "duration": 62,
    "start_time": "2022-04-29T15:08:22.066Z"
   },
   {
    "duration": 14,
    "start_time": "2022-04-29T15:08:22.134Z"
   },
   {
    "duration": 91,
    "start_time": "2022-04-29T15:08:22.151Z"
   },
   {
    "duration": 10,
    "start_time": "2022-04-29T15:08:22.245Z"
   },
   {
    "duration": 98,
    "start_time": "2022-04-29T15:08:22.258Z"
   },
   {
    "duration": 9,
    "start_time": "2022-04-29T15:08:22.360Z"
   },
   {
    "duration": 10,
    "start_time": "2022-04-29T15:08:22.372Z"
   },
   {
    "duration": 87,
    "start_time": "2022-04-29T15:08:22.384Z"
   },
   {
    "duration": 77,
    "start_time": "2022-04-29T15:08:22.474Z"
   },
   {
    "duration": 24,
    "start_time": "2022-04-29T15:08:22.554Z"
   },
   {
    "duration": 121,
    "start_time": "2022-04-29T15:08:22.581Z"
   },
   {
    "duration": 6,
    "start_time": "2022-04-29T15:08:22.726Z"
   },
   {
    "duration": 56,
    "start_time": "2022-04-29T15:08:22.734Z"
   },
   {
    "duration": 585,
    "start_time": "2022-04-29T15:08:22.792Z"
   },
   {
    "duration": 106,
    "start_time": "2022-04-29T15:08:23.379Z"
   },
   {
    "duration": 678,
    "start_time": "2022-04-29T15:08:23.487Z"
   },
   {
    "duration": 344,
    "start_time": "2022-04-29T15:08:24.168Z"
   },
   {
    "duration": 261,
    "start_time": "2022-04-29T15:08:24.514Z"
   },
   {
    "duration": 261,
    "start_time": "2022-04-29T15:08:24.777Z"
   },
   {
    "duration": 24,
    "start_time": "2022-04-29T15:08:25.043Z"
   },
   {
    "duration": 247,
    "start_time": "2022-04-29T15:08:25.073Z"
   },
   {
    "duration": 34,
    "start_time": "2022-04-29T15:08:25.326Z"
   },
   {
    "duration": 83,
    "start_time": "2022-04-29T15:08:25.362Z"
   },
   {
    "duration": 284,
    "start_time": "2022-04-29T15:08:25.448Z"
   },
   {
    "duration": 267,
    "start_time": "2022-04-29T15:08:25.734Z"
   },
   {
    "duration": 302,
    "start_time": "2022-04-29T15:08:26.004Z"
   },
   {
    "duration": 123,
    "start_time": "2022-04-29T15:08:26.308Z"
   },
   {
    "duration": 0,
    "start_time": "2022-04-29T15:08:26.434Z"
   },
   {
    "duration": 0,
    "start_time": "2022-04-29T15:08:26.436Z"
   },
   {
    "duration": 0,
    "start_time": "2022-04-29T15:08:26.439Z"
   },
   {
    "duration": 686,
    "start_time": "2022-04-29T15:14:51.545Z"
   },
   {
    "duration": 143,
    "start_time": "2022-04-29T15:14:52.235Z"
   },
   {
    "duration": 10,
    "start_time": "2022-04-29T15:14:52.381Z"
   },
   {
    "duration": 40,
    "start_time": "2022-04-29T15:14:52.396Z"
   },
   {
    "duration": 95,
    "start_time": "2022-04-29T15:14:52.439Z"
   },
   {
    "duration": 10,
    "start_time": "2022-04-29T15:14:52.537Z"
   },
   {
    "duration": 19,
    "start_time": "2022-04-29T15:14:52.550Z"
   },
   {
    "duration": 59,
    "start_time": "2022-04-29T15:14:52.572Z"
   },
   {
    "duration": 14,
    "start_time": "2022-04-29T15:14:52.633Z"
   },
   {
    "duration": 24,
    "start_time": "2022-04-29T15:14:52.651Z"
   },
   {
    "duration": 65,
    "start_time": "2022-04-29T15:14:52.678Z"
   },
   {
    "duration": 8,
    "start_time": "2022-04-29T15:14:52.746Z"
   },
   {
    "duration": 75,
    "start_time": "2022-04-29T15:14:52.756Z"
   },
   {
    "duration": 7,
    "start_time": "2022-04-29T15:14:52.833Z"
   },
   {
    "duration": 10,
    "start_time": "2022-04-29T15:14:52.842Z"
   },
   {
    "duration": 89,
    "start_time": "2022-04-29T15:14:52.855Z"
   },
   {
    "duration": 38,
    "start_time": "2022-04-29T15:14:52.946Z"
   },
   {
    "duration": 51,
    "start_time": "2022-04-29T15:14:52.986Z"
   },
   {
    "duration": 112,
    "start_time": "2022-04-29T15:14:53.039Z"
   },
   {
    "duration": 6,
    "start_time": "2022-04-29T15:14:53.153Z"
   },
   {
    "duration": 83,
    "start_time": "2022-04-29T15:14:53.161Z"
   },
   {
    "duration": 566,
    "start_time": "2022-04-29T15:14:53.246Z"
   },
   {
    "duration": 110,
    "start_time": "2022-04-29T15:14:53.814Z"
   },
   {
    "duration": 1077,
    "start_time": "2022-04-29T15:14:53.926Z"
   },
   {
    "duration": 523,
    "start_time": "2022-04-29T15:14:55.006Z"
   },
   {
    "duration": 426,
    "start_time": "2022-04-29T15:14:55.532Z"
   },
   {
    "duration": 422,
    "start_time": "2022-04-29T15:14:55.961Z"
   },
   {
    "duration": 58,
    "start_time": "2022-04-29T15:14:56.392Z"
   },
   {
    "duration": 354,
    "start_time": "2022-04-29T15:14:56.453Z"
   },
   {
    "duration": 56,
    "start_time": "2022-04-29T15:14:56.810Z"
   },
   {
    "duration": 85,
    "start_time": "2022-04-29T15:14:56.869Z"
   },
   {
    "duration": 262,
    "start_time": "2022-04-29T15:14:56.957Z"
   },
   {
    "duration": 261,
    "start_time": "2022-04-29T15:14:57.222Z"
   },
   {
    "duration": 303,
    "start_time": "2022-04-29T15:14:57.485Z"
   },
   {
    "duration": 261,
    "start_time": "2022-04-29T15:14:57.790Z"
   },
   {
    "duration": 31,
    "start_time": "2022-04-29T15:14:58.053Z"
   },
   {
    "duration": 180,
    "start_time": "2022-04-29T15:14:58.086Z"
   },
   {
    "duration": 445,
    "start_time": "2022-04-29T15:14:58.269Z"
   },
   {
    "duration": 978,
    "start_time": "2022-04-29T15:20:56.033Z"
   },
   {
    "duration": 119,
    "start_time": "2022-04-29T15:20:57.014Z"
   },
   {
    "duration": 9,
    "start_time": "2022-04-29T15:20:57.135Z"
   },
   {
    "duration": 17,
    "start_time": "2022-04-29T15:20:57.147Z"
   },
   {
    "duration": 86,
    "start_time": "2022-04-29T15:20:57.166Z"
   },
   {
    "duration": 8,
    "start_time": "2022-04-29T15:20:57.254Z"
   },
   {
    "duration": 11,
    "start_time": "2022-04-29T15:20:57.264Z"
   },
   {
    "duration": 53,
    "start_time": "2022-04-29T15:20:57.277Z"
   },
   {
    "duration": 7,
    "start_time": "2022-04-29T15:20:57.333Z"
   },
   {
    "duration": 12,
    "start_time": "2022-04-29T15:20:57.343Z"
   },
   {
    "duration": 93,
    "start_time": "2022-04-29T15:20:57.357Z"
   },
   {
    "duration": 8,
    "start_time": "2022-04-29T15:20:57.452Z"
   },
   {
    "duration": 71,
    "start_time": "2022-04-29T15:20:57.463Z"
   },
   {
    "duration": 8,
    "start_time": "2022-04-29T15:20:57.537Z"
   },
   {
    "duration": 12,
    "start_time": "2022-04-29T15:20:57.547Z"
   },
   {
    "duration": 92,
    "start_time": "2022-04-29T15:20:57.562Z"
   },
   {
    "duration": 85,
    "start_time": "2022-04-29T15:20:57.657Z"
   },
   {
    "duration": 40,
    "start_time": "2022-04-29T15:20:57.744Z"
   },
   {
    "duration": 57,
    "start_time": "2022-04-29T15:20:57.787Z"
   },
   {
    "duration": 133,
    "start_time": "2022-04-29T15:20:57.848Z"
   },
   {
    "duration": 8,
    "start_time": "2022-04-29T15:20:57.984Z"
   },
   {
    "duration": 74,
    "start_time": "2022-04-29T15:20:57.995Z"
   },
   {
    "duration": 882,
    "start_time": "2022-04-29T15:20:58.071Z"
   },
   {
    "duration": 153,
    "start_time": "2022-04-29T15:20:58.956Z"
   },
   {
    "duration": 1223,
    "start_time": "2022-04-29T15:20:59.112Z"
   },
   {
    "duration": 353,
    "start_time": "2022-04-29T15:21:00.338Z"
   },
   {
    "duration": 275,
    "start_time": "2022-04-29T15:21:00.694Z"
   },
   {
    "duration": 272,
    "start_time": "2022-04-29T15:21:00.974Z"
   },
   {
    "duration": 25,
    "start_time": "2022-04-29T15:21:01.249Z"
   },
   {
    "duration": 237,
    "start_time": "2022-04-29T15:21:01.277Z"
   },
   {
    "duration": 40,
    "start_time": "2022-04-29T15:21:01.516Z"
   },
   {
    "duration": 78,
    "start_time": "2022-04-29T15:21:01.559Z"
   },
   {
    "duration": 260,
    "start_time": "2022-04-29T15:21:01.639Z"
   },
   {
    "duration": 274,
    "start_time": "2022-04-29T15:21:01.901Z"
   },
   {
    "duration": 313,
    "start_time": "2022-04-29T15:21:02.177Z"
   },
   {
    "duration": 274,
    "start_time": "2022-04-29T15:21:02.493Z"
   },
   {
    "duration": 60,
    "start_time": "2022-04-29T15:21:02.771Z"
   },
   {
    "duration": 131,
    "start_time": "2022-04-29T15:21:02.834Z"
   },
   {
    "duration": 403,
    "start_time": "2022-04-29T15:21:02.968Z"
   },
   {
    "duration": 795,
    "start_time": "2022-04-29T16:00:59.589Z"
   },
   {
    "duration": 410,
    "start_time": "2022-04-29T16:01:20.584Z"
   },
   {
    "duration": 416,
    "start_time": "2022-04-29T16:01:36.509Z"
   },
   {
    "duration": 240,
    "start_time": "2022-04-29T16:01:56.907Z"
   },
   {
    "duration": 237,
    "start_time": "2022-04-29T16:02:11.076Z"
   },
   {
    "duration": 638,
    "start_time": "2022-04-29T16:02:15.717Z"
   },
   {
    "duration": 290,
    "start_time": "2022-04-29T16:02:27.940Z"
   },
   {
    "duration": 474,
    "start_time": "2022-04-29T16:02:43.187Z"
   },
   {
    "duration": 416,
    "start_time": "2022-04-29T16:03:30.730Z"
   },
   {
    "duration": 301,
    "start_time": "2022-04-29T16:03:38.209Z"
   },
   {
    "duration": 299,
    "start_time": "2022-04-29T16:04:47.469Z"
   },
   {
    "duration": 203,
    "start_time": "2022-04-29T16:04:58.678Z"
   },
   {
    "duration": 230,
    "start_time": "2022-04-29T16:05:02.426Z"
   },
   {
    "duration": 214,
    "start_time": "2022-04-29T16:05:07.847Z"
   },
   {
    "duration": 736,
    "start_time": "2022-04-29T16:05:50.657Z"
   },
   {
    "duration": 127,
    "start_time": "2022-04-29T16:05:51.396Z"
   },
   {
    "duration": 13,
    "start_time": "2022-04-29T16:05:51.529Z"
   },
   {
    "duration": 18,
    "start_time": "2022-04-29T16:05:51.545Z"
   },
   {
    "duration": 96,
    "start_time": "2022-04-29T16:05:51.566Z"
   },
   {
    "duration": 8,
    "start_time": "2022-04-29T16:05:51.664Z"
   },
   {
    "duration": 12,
    "start_time": "2022-04-29T16:05:51.674Z"
   },
   {
    "duration": 51,
    "start_time": "2022-04-29T16:05:51.688Z"
   },
   {
    "duration": 17,
    "start_time": "2022-04-29T16:05:51.743Z"
   },
   {
    "duration": 61,
    "start_time": "2022-04-29T16:05:51.766Z"
   },
   {
    "duration": 51,
    "start_time": "2022-04-29T16:05:51.831Z"
   },
   {
    "duration": 42,
    "start_time": "2022-04-29T16:05:51.885Z"
   },
   {
    "duration": 50,
    "start_time": "2022-04-29T16:05:51.931Z"
   },
   {
    "duration": 46,
    "start_time": "2022-04-29T16:05:51.983Z"
   },
   {
    "duration": 21,
    "start_time": "2022-04-29T16:05:52.033Z"
   },
   {
    "duration": 83,
    "start_time": "2022-04-29T16:05:52.057Z"
   },
   {
    "duration": 45,
    "start_time": "2022-04-29T16:05:52.144Z"
   },
   {
    "duration": 79,
    "start_time": "2022-04-29T16:05:52.191Z"
   },
   {
    "duration": 69,
    "start_time": "2022-04-29T16:05:52.273Z"
   },
   {
    "duration": 121,
    "start_time": "2022-04-29T16:05:52.344Z"
   },
   {
    "duration": 9,
    "start_time": "2022-04-29T16:05:52.467Z"
   },
   {
    "duration": 58,
    "start_time": "2022-04-29T16:05:52.478Z"
   },
   {
    "duration": 620,
    "start_time": "2022-04-29T16:05:52.539Z"
   },
   {
    "duration": 109,
    "start_time": "2022-04-29T16:05:53.162Z"
   },
   {
    "duration": 775,
    "start_time": "2022-04-29T16:05:53.273Z"
   },
   {
    "duration": 328,
    "start_time": "2022-04-29T16:05:54.050Z"
   },
   {
    "duration": 300,
    "start_time": "2022-04-29T16:05:54.380Z"
   },
   {
    "duration": 291,
    "start_time": "2022-04-29T16:05:54.688Z"
   },
   {
    "duration": 291,
    "start_time": "2022-04-29T16:05:54.981Z"
   },
   {
    "duration": 25,
    "start_time": "2022-04-29T16:05:55.274Z"
   },
   {
    "duration": 268,
    "start_time": "2022-04-29T16:05:55.301Z"
   },
   {
    "duration": 32,
    "start_time": "2022-04-29T16:05:55.572Z"
   },
   {
    "duration": 62,
    "start_time": "2022-04-29T16:05:55.606Z"
   },
   {
    "duration": 316,
    "start_time": "2022-04-29T16:05:55.671Z"
   },
   {
    "duration": 300,
    "start_time": "2022-04-29T16:05:55.989Z"
   },
   {
    "duration": 341,
    "start_time": "2022-04-29T16:05:56.291Z"
   },
   {
    "duration": 288,
    "start_time": "2022-04-29T16:05:56.637Z"
   },
   {
    "duration": 37,
    "start_time": "2022-04-29T16:05:56.929Z"
   },
   {
    "duration": 156,
    "start_time": "2022-04-29T16:05:56.969Z"
   },
   {
    "duration": 311,
    "start_time": "2022-04-29T16:05:57.130Z"
   },
   {
    "duration": 150,
    "start_time": "2022-04-29T16:06:21.650Z"
   },
   {
    "duration": 199,
    "start_time": "2022-04-29T16:06:28.577Z"
   },
   {
    "duration": 364,
    "start_time": "2022-04-29T16:06:45.938Z"
   },
   {
    "duration": 277,
    "start_time": "2022-04-29T16:07:08.278Z"
   },
   {
    "duration": 300,
    "start_time": "2022-04-29T16:07:52.042Z"
   },
   {
    "duration": 205,
    "start_time": "2022-04-29T16:08:23.045Z"
   },
   {
    "duration": 285,
    "start_time": "2022-04-29T16:08:30.984Z"
   },
   {
    "duration": 303,
    "start_time": "2022-04-29T16:09:48.101Z"
   },
   {
    "duration": 292,
    "start_time": "2022-04-29T16:09:51.710Z"
   },
   {
    "duration": 2136,
    "start_time": "2022-04-29T16:16:58.004Z"
   },
   {
    "duration": 15,
    "start_time": "2022-04-29T16:17:16.103Z"
   },
   {
    "duration": 202,
    "start_time": "2022-04-29T16:17:25.947Z"
   },
   {
    "duration": 113,
    "start_time": "2022-04-29T16:18:16.503Z"
   },
   {
    "duration": 393,
    "start_time": "2022-04-29T16:18:22.434Z"
   },
   {
    "duration": 523,
    "start_time": "2022-04-29T16:19:13.578Z"
   },
   {
    "duration": 682,
    "start_time": "2022-04-29T16:19:18.386Z"
   },
   {
    "duration": 270,
    "start_time": "2022-04-29T16:19:32.095Z"
   },
   {
    "duration": 366,
    "start_time": "2022-04-29T16:19:44.778Z"
   },
   {
    "duration": 115,
    "start_time": "2022-04-29T16:28:05.478Z"
   },
   {
    "duration": 40,
    "start_time": "2022-04-29T16:39:26.615Z"
   },
   {
    "duration": 108,
    "start_time": "2022-04-29T16:40:24.943Z"
   },
   {
    "duration": 178,
    "start_time": "2022-04-29T16:42:13.543Z"
   },
   {
    "duration": 203,
    "start_time": "2022-04-29T16:43:10.114Z"
   },
   {
    "duration": 200,
    "start_time": "2022-04-29T16:43:12.206Z"
   },
   {
    "duration": 198,
    "start_time": "2022-04-29T16:43:14.919Z"
   },
   {
    "duration": 24,
    "start_time": "2022-04-29T16:47:23.084Z"
   },
   {
    "duration": 26,
    "start_time": "2022-04-29T16:48:01.891Z"
   },
   {
    "duration": 106,
    "start_time": "2022-04-29T16:49:06.621Z"
   },
   {
    "duration": 16,
    "start_time": "2022-04-29T16:49:16.293Z"
   },
   {
    "duration": 312,
    "start_time": "2022-04-29T16:50:19.080Z"
   },
   {
    "duration": 20,
    "start_time": "2022-04-29T16:54:30.267Z"
   },
   {
    "duration": 24,
    "start_time": "2022-04-29T16:54:55.438Z"
   },
   {
    "duration": 178,
    "start_time": "2022-04-29T16:55:44.646Z"
   },
   {
    "duration": 326,
    "start_time": "2022-04-29T16:55:51.695Z"
   },
   {
    "duration": 27,
    "start_time": "2022-04-29T16:56:11.282Z"
   },
   {
    "duration": 213,
    "start_time": "2022-04-29T16:56:45.404Z"
   },
   {
    "duration": 22,
    "start_time": "2022-04-29T16:58:56.461Z"
   },
   {
    "duration": 24,
    "start_time": "2022-04-29T17:00:27.308Z"
   },
   {
    "duration": 22,
    "start_time": "2022-04-29T17:00:44.138Z"
   },
   {
    "duration": 69,
    "start_time": "2022-04-29T17:01:27.238Z"
   },
   {
    "duration": 23,
    "start_time": "2022-04-29T17:01:37.338Z"
   },
   {
    "duration": 105,
    "start_time": "2022-04-29T17:01:54.319Z"
   },
   {
    "duration": 15,
    "start_time": "2022-04-29T17:02:04.538Z"
   },
   {
    "duration": 27,
    "start_time": "2022-04-29T17:02:14.341Z"
   },
   {
    "duration": 114,
    "start_time": "2022-04-29T17:02:28.856Z"
   },
   {
    "duration": 726,
    "start_time": "2022-04-29T17:02:50.720Z"
   },
   {
    "duration": 125,
    "start_time": "2022-04-29T17:02:51.449Z"
   },
   {
    "duration": 8,
    "start_time": "2022-04-29T17:02:51.576Z"
   },
   {
    "duration": 43,
    "start_time": "2022-04-29T17:02:51.587Z"
   },
   {
    "duration": 45,
    "start_time": "2022-04-29T17:02:51.633Z"
   },
   {
    "duration": 7,
    "start_time": "2022-04-29T17:02:51.680Z"
   },
   {
    "duration": 12,
    "start_time": "2022-04-29T17:02:51.725Z"
   },
   {
    "duration": 8,
    "start_time": "2022-04-29T17:02:51.740Z"
   },
   {
    "duration": 10,
    "start_time": "2022-04-29T17:02:51.750Z"
   },
   {
    "duration": 68,
    "start_time": "2022-04-29T17:02:51.764Z"
   },
   {
    "duration": 48,
    "start_time": "2022-04-29T17:02:51.834Z"
   },
   {
    "duration": 45,
    "start_time": "2022-04-29T17:02:51.885Z"
   },
   {
    "duration": 52,
    "start_time": "2022-04-29T17:02:51.933Z"
   },
   {
    "duration": 11,
    "start_time": "2022-04-29T17:02:52.024Z"
   },
   {
    "duration": 13,
    "start_time": "2022-04-29T17:02:52.038Z"
   },
   {
    "duration": 89,
    "start_time": "2022-04-29T17:02:52.054Z"
   },
   {
    "duration": 43,
    "start_time": "2022-04-29T17:02:52.145Z"
   },
   {
    "duration": 74,
    "start_time": "2022-04-29T17:02:52.191Z"
   },
   {
    "duration": 22,
    "start_time": "2022-04-29T17:02:52.267Z"
   },
   {
    "duration": 141,
    "start_time": "2022-04-29T17:02:52.291Z"
   },
   {
    "duration": 8,
    "start_time": "2022-04-29T17:02:52.435Z"
   },
   {
    "duration": 22,
    "start_time": "2022-04-29T17:02:52.446Z"
   },
   {
    "duration": 598,
    "start_time": "2022-04-29T17:02:52.470Z"
   },
   {
    "duration": 101,
    "start_time": "2022-04-29T17:02:53.070Z"
   },
   {
    "duration": 721,
    "start_time": "2022-04-29T17:02:53.173Z"
   },
   {
    "duration": 402,
    "start_time": "2022-04-29T17:02:53.897Z"
   },
   {
    "duration": 294,
    "start_time": "2022-04-29T17:02:54.301Z"
   },
   {
    "duration": 273,
    "start_time": "2022-04-29T17:02:54.603Z"
   },
   {
    "duration": 251,
    "start_time": "2022-04-29T17:02:54.880Z"
   },
   {
    "duration": 268,
    "start_time": "2022-04-29T17:02:55.134Z"
   },
   {
    "duration": 43,
    "start_time": "2022-04-29T17:02:55.404Z"
   },
   {
    "duration": 227,
    "start_time": "2022-04-29T17:02:55.449Z"
   },
   {
    "duration": 56,
    "start_time": "2022-04-29T17:02:55.678Z"
   },
   {
    "duration": 201,
    "start_time": "2022-04-29T17:02:55.737Z"
   },
   {
    "duration": 22,
    "start_time": "2022-04-29T17:02:55.943Z"
   },
   {
    "duration": 242,
    "start_time": "2022-04-29T17:02:55.967Z"
   },
   {
    "duration": 35,
    "start_time": "2022-04-29T17:02:56.211Z"
   },
   {
    "duration": 318,
    "start_time": "2022-04-29T17:02:56.249Z"
   },
   {
    "duration": 30,
    "start_time": "2022-04-29T17:02:56.571Z"
   },
   {
    "duration": 217,
    "start_time": "2022-04-29T17:02:56.626Z"
   },
   {
    "duration": 109,
    "start_time": "2022-04-29T17:02:56.846Z"
   },
   {
    "duration": 0,
    "start_time": "2022-04-29T17:02:56.957Z"
   },
   {
    "duration": 0,
    "start_time": "2022-04-29T17:02:56.959Z"
   },
   {
    "duration": 0,
    "start_time": "2022-04-29T17:02:56.960Z"
   },
   {
    "duration": 0,
    "start_time": "2022-04-29T17:02:56.961Z"
   },
   {
    "duration": 0,
    "start_time": "2022-04-29T17:02:56.963Z"
   },
   {
    "duration": 0,
    "start_time": "2022-04-29T17:02:56.964Z"
   },
   {
    "duration": 0,
    "start_time": "2022-04-29T17:02:56.966Z"
   },
   {
    "duration": 0,
    "start_time": "2022-04-29T17:02:56.967Z"
   },
   {
    "duration": 0,
    "start_time": "2022-04-29T17:02:56.968Z"
   },
   {
    "duration": 726,
    "start_time": "2022-04-29T17:03:18.203Z"
   },
   {
    "duration": 125,
    "start_time": "2022-04-29T17:03:18.932Z"
   },
   {
    "duration": 8,
    "start_time": "2022-04-29T17:03:19.060Z"
   },
   {
    "duration": 12,
    "start_time": "2022-04-29T17:03:19.071Z"
   },
   {
    "duration": 87,
    "start_time": "2022-04-29T17:03:19.085Z"
   },
   {
    "duration": 15,
    "start_time": "2022-04-29T17:03:19.174Z"
   },
   {
    "duration": 45,
    "start_time": "2022-04-29T17:03:19.192Z"
   },
   {
    "duration": 11,
    "start_time": "2022-04-29T17:03:19.239Z"
   },
   {
    "duration": 7,
    "start_time": "2022-04-29T17:03:19.253Z"
   },
   {
    "duration": 60,
    "start_time": "2022-04-29T17:03:19.264Z"
   },
   {
    "duration": 43,
    "start_time": "2022-04-29T17:03:19.331Z"
   },
   {
    "duration": 7,
    "start_time": "2022-04-29T17:03:19.377Z"
   },
   {
    "duration": 79,
    "start_time": "2022-04-29T17:03:19.387Z"
   },
   {
    "duration": 8,
    "start_time": "2022-04-29T17:03:19.469Z"
   },
   {
    "duration": 52,
    "start_time": "2022-04-29T17:03:19.480Z"
   },
   {
    "duration": 56,
    "start_time": "2022-04-29T17:03:19.534Z"
   },
   {
    "duration": 63,
    "start_time": "2022-04-29T17:03:19.592Z"
   },
   {
    "duration": 85,
    "start_time": "2022-04-29T17:03:19.657Z"
   },
   {
    "duration": 20,
    "start_time": "2022-04-29T17:03:19.745Z"
   },
   {
    "duration": 115,
    "start_time": "2022-04-29T17:03:19.767Z"
   },
   {
    "duration": 7,
    "start_time": "2022-04-29T17:03:19.884Z"
   },
   {
    "duration": 40,
    "start_time": "2022-04-29T17:03:19.893Z"
   },
   {
    "duration": 580,
    "start_time": "2022-04-29T17:03:19.941Z"
   },
   {
    "duration": 114,
    "start_time": "2022-04-29T17:03:20.525Z"
   },
   {
    "duration": 843,
    "start_time": "2022-04-29T17:03:20.642Z"
   },
   {
    "duration": 396,
    "start_time": "2022-04-29T17:03:21.488Z"
   },
   {
    "duration": 286,
    "start_time": "2022-04-29T17:03:21.886Z"
   },
   {
    "duration": 272,
    "start_time": "2022-04-29T17:03:22.177Z"
   },
   {
    "duration": 233,
    "start_time": "2022-04-29T17:03:22.451Z"
   },
   {
    "duration": 288,
    "start_time": "2022-04-29T17:03:22.687Z"
   },
   {
    "duration": 24,
    "start_time": "2022-04-29T17:03:22.978Z"
   },
   {
    "duration": 232,
    "start_time": "2022-04-29T17:03:23.031Z"
   },
   {
    "duration": 30,
    "start_time": "2022-04-29T17:03:23.265Z"
   },
   {
    "duration": 209,
    "start_time": "2022-04-29T17:03:23.297Z"
   },
   {
    "duration": 37,
    "start_time": "2022-04-29T17:03:23.508Z"
   },
   {
    "duration": 246,
    "start_time": "2022-04-29T17:03:23.547Z"
   },
   {
    "duration": 50,
    "start_time": "2022-04-29T17:03:23.795Z"
   },
   {
    "duration": 216,
    "start_time": "2022-04-29T17:03:23.847Z"
   },
   {
    "duration": 23,
    "start_time": "2022-04-29T17:03:24.066Z"
   },
   {
    "duration": 227,
    "start_time": "2022-04-29T17:03:24.091Z"
   },
   {
    "duration": 23,
    "start_time": "2022-04-29T17:03:24.324Z"
   },
   {
    "duration": 79,
    "start_time": "2022-04-29T17:03:24.349Z"
   },
   {
    "duration": 269,
    "start_time": "2022-04-29T17:03:24.431Z"
   },
   {
    "duration": 282,
    "start_time": "2022-04-29T17:03:24.702Z"
   },
   {
    "duration": 418,
    "start_time": "2022-04-29T17:03:24.987Z"
   },
   {
    "duration": 284,
    "start_time": "2022-04-29T17:03:25.407Z"
   },
   {
    "duration": 47,
    "start_time": "2022-04-29T17:03:25.693Z"
   },
   {
    "duration": 127,
    "start_time": "2022-04-29T17:03:25.742Z"
   },
   {
    "duration": 312,
    "start_time": "2022-04-29T17:03:25.872Z"
   },
   {
    "duration": 43,
    "start_time": "2022-04-29T17:05:25.393Z"
   },
   {
    "duration": 157,
    "start_time": "2022-04-29T18:06:55.317Z"
   },
   {
    "duration": 88,
    "start_time": "2022-04-29T18:08:18.057Z"
   },
   {
    "duration": 83,
    "start_time": "2022-04-29T18:25:26.314Z"
   },
   {
    "duration": 239,
    "start_time": "2022-04-29T18:32:10.878Z"
   },
   {
    "duration": 267,
    "start_time": "2022-04-29T18:32:50.664Z"
   },
   {
    "duration": 243,
    "start_time": "2022-04-29T18:35:48.236Z"
   },
   {
    "duration": 9,
    "start_time": "2022-04-29T18:40:25.384Z"
   },
   {
    "duration": 62,
    "start_time": "2022-04-29T18:40:30.394Z"
   },
   {
    "duration": 124,
    "start_time": "2022-04-29T18:41:32.407Z"
   },
   {
    "duration": 136,
    "start_time": "2022-04-29T18:41:38.428Z"
   },
   {
    "duration": 400,
    "start_time": "2022-04-29T20:18:54.436Z"
   },
   {
    "duration": 734,
    "start_time": "2022-04-29T20:23:03.884Z"
   },
   {
    "duration": 131,
    "start_time": "2022-04-29T20:23:04.625Z"
   },
   {
    "duration": 10,
    "start_time": "2022-04-29T20:23:04.758Z"
   },
   {
    "duration": 24,
    "start_time": "2022-04-29T20:23:04.772Z"
   },
   {
    "duration": 74,
    "start_time": "2022-04-29T20:23:04.798Z"
   },
   {
    "duration": 10,
    "start_time": "2022-04-29T20:23:04.875Z"
   },
   {
    "duration": 13,
    "start_time": "2022-04-29T20:23:04.924Z"
   },
   {
    "duration": 27,
    "start_time": "2022-04-29T20:23:04.939Z"
   },
   {
    "duration": 20,
    "start_time": "2022-04-29T20:23:04.968Z"
   },
   {
    "duration": 46,
    "start_time": "2022-04-29T20:23:04.992Z"
   },
   {
    "duration": 49,
    "start_time": "2022-04-29T20:23:05.041Z"
   },
   {
    "duration": 32,
    "start_time": "2022-04-29T20:23:05.093Z"
   },
   {
    "duration": 42,
    "start_time": "2022-04-29T20:23:05.128Z"
   },
   {
    "duration": 53,
    "start_time": "2022-04-29T20:23:05.172Z"
   },
   {
    "duration": 9,
    "start_time": "2022-04-29T20:23:05.227Z"
   },
   {
    "duration": 56,
    "start_time": "2022-04-29T20:23:05.239Z"
   },
   {
    "duration": 70,
    "start_time": "2022-04-29T20:23:05.297Z"
   },
   {
    "duration": 76,
    "start_time": "2022-04-29T20:23:05.369Z"
   },
   {
    "duration": 20,
    "start_time": "2022-04-29T20:23:05.447Z"
   },
   {
    "duration": 121,
    "start_time": "2022-04-29T20:23:05.469Z"
   },
   {
    "duration": 8,
    "start_time": "2022-04-29T20:23:05.593Z"
   },
   {
    "duration": 21,
    "start_time": "2022-04-29T20:23:05.625Z"
   },
   {
    "duration": 566,
    "start_time": "2022-04-29T20:23:05.649Z"
   },
   {
    "duration": 112,
    "start_time": "2022-04-29T20:23:06.218Z"
   },
   {
    "duration": 708,
    "start_time": "2022-04-29T20:23:06.332Z"
   },
   {
    "duration": 401,
    "start_time": "2022-04-29T20:23:07.044Z"
   },
   {
    "duration": 290,
    "start_time": "2022-04-29T20:23:07.447Z"
   },
   {
    "duration": 283,
    "start_time": "2022-04-29T20:23:07.747Z"
   },
   {
    "duration": 223,
    "start_time": "2022-04-29T20:23:08.032Z"
   },
   {
    "duration": 269,
    "start_time": "2022-04-29T20:23:08.258Z"
   },
   {
    "duration": 27,
    "start_time": "2022-04-29T20:23:08.529Z"
   },
   {
    "duration": 256,
    "start_time": "2022-04-29T20:23:08.559Z"
   },
   {
    "duration": 35,
    "start_time": "2022-04-29T20:23:08.817Z"
   },
   {
    "duration": 224,
    "start_time": "2022-04-29T20:23:08.854Z"
   },
   {
    "duration": 51,
    "start_time": "2022-04-29T20:23:09.081Z"
   },
   {
    "duration": 235,
    "start_time": "2022-04-29T20:23:09.135Z"
   },
   {
    "duration": 22,
    "start_time": "2022-04-29T20:23:09.373Z"
   },
   {
    "duration": 241,
    "start_time": "2022-04-29T20:23:09.397Z"
   },
   {
    "duration": 22,
    "start_time": "2022-04-29T20:23:09.640Z"
   },
   {
    "duration": 246,
    "start_time": "2022-04-29T20:23:09.664Z"
   },
   {
    "duration": 32,
    "start_time": "2022-04-29T20:23:09.912Z"
   },
   {
    "duration": 84,
    "start_time": "2022-04-29T20:23:09.946Z"
   },
   {
    "duration": 279,
    "start_time": "2022-04-29T20:23:10.033Z"
   },
   {
    "duration": 278,
    "start_time": "2022-04-29T20:23:10.315Z"
   },
   {
    "duration": 399,
    "start_time": "2022-04-29T20:23:10.595Z"
   },
   {
    "duration": 277,
    "start_time": "2022-04-29T20:23:10.996Z"
   },
   {
    "duration": 61,
    "start_time": "2022-04-29T20:23:11.276Z"
   },
   {
    "duration": 150,
    "start_time": "2022-04-29T20:23:11.340Z"
   },
   {
    "duration": 388,
    "start_time": "2022-04-29T20:23:11.493Z"
   },
   {
    "duration": 206,
    "start_time": "2022-04-29T20:23:11.884Z"
   },
   {
    "duration": 572,
    "start_time": "2022-04-29T20:23:12.093Z"
   },
   {
    "duration": 356,
    "start_time": "2022-04-29T20:23:12.668Z"
   },
   {
    "duration": 271,
    "start_time": "2022-04-29T20:23:13.027Z"
   },
   {
    "duration": 270,
    "start_time": "2022-04-29T20:23:13.300Z"
   },
   {
    "duration": 59,
    "start_time": "2022-04-29T20:23:13.572Z"
   },
   {
    "duration": 261,
    "start_time": "2022-04-29T20:23:13.633Z"
   },
   {
    "duration": 274,
    "start_time": "2022-04-29T20:23:13.896Z"
   },
   {
    "duration": 325,
    "start_time": "2022-04-29T20:23:14.172Z"
   },
   {
    "duration": 366,
    "start_time": "2022-04-29T20:23:14.500Z"
   },
   {
    "duration": 802,
    "start_time": "2022-04-29T20:25:20.469Z"
   },
   {
    "duration": 128,
    "start_time": "2022-04-29T20:25:21.274Z"
   },
   {
    "duration": 22,
    "start_time": "2022-04-29T20:25:21.404Z"
   },
   {
    "duration": 17,
    "start_time": "2022-04-29T20:25:21.430Z"
   },
   {
    "duration": 106,
    "start_time": "2022-04-29T20:25:21.450Z"
   },
   {
    "duration": 8,
    "start_time": "2022-04-29T20:25:21.559Z"
   },
   {
    "duration": 11,
    "start_time": "2022-04-29T20:25:21.569Z"
   },
   {
    "duration": 47,
    "start_time": "2022-04-29T20:25:21.582Z"
   },
   {
    "duration": 13,
    "start_time": "2022-04-29T20:25:21.632Z"
   },
   {
    "duration": 17,
    "start_time": "2022-04-29T20:25:21.650Z"
   },
   {
    "duration": 78,
    "start_time": "2022-04-29T20:25:21.670Z"
   },
   {
    "duration": 7,
    "start_time": "2022-04-29T20:25:21.751Z"
   },
   {
    "duration": 80,
    "start_time": "2022-04-29T20:25:21.761Z"
   },
   {
    "duration": 8,
    "start_time": "2022-04-29T20:25:21.843Z"
   },
   {
    "duration": 9,
    "start_time": "2022-04-29T20:25:21.854Z"
   },
   {
    "duration": 91,
    "start_time": "2022-04-29T20:25:21.865Z"
   },
   {
    "duration": 68,
    "start_time": "2022-04-29T20:25:21.958Z"
   },
   {
    "duration": 39,
    "start_time": "2022-04-29T20:25:22.028Z"
   },
   {
    "duration": 57,
    "start_time": "2022-04-29T20:25:22.069Z"
   },
   {
    "duration": 110,
    "start_time": "2022-04-29T20:25:22.128Z"
   },
   {
    "duration": 7,
    "start_time": "2022-04-29T20:25:22.241Z"
   },
   {
    "duration": 24,
    "start_time": "2022-04-29T20:25:22.250Z"
   },
   {
    "duration": 565,
    "start_time": "2022-04-29T20:25:22.276Z"
   },
   {
    "duration": 104,
    "start_time": "2022-04-29T20:25:22.844Z"
   },
   {
    "duration": 659,
    "start_time": "2022-04-29T20:25:22.951Z"
   },
   {
    "duration": 369,
    "start_time": "2022-04-29T20:25:23.613Z"
   },
   {
    "duration": 276,
    "start_time": "2022-04-29T20:25:23.984Z"
   },
   {
    "duration": 254,
    "start_time": "2022-04-29T20:25:24.266Z"
   },
   {
    "duration": 217,
    "start_time": "2022-04-29T20:25:24.523Z"
   },
   {
    "duration": 258,
    "start_time": "2022-04-29T20:25:24.742Z"
   },
   {
    "duration": 46,
    "start_time": "2022-04-29T20:25:25.003Z"
   },
   {
    "duration": 318,
    "start_time": "2022-04-29T20:25:25.052Z"
   },
   {
    "duration": 60,
    "start_time": "2022-04-29T20:25:25.373Z"
   },
   {
    "duration": 220,
    "start_time": "2022-04-29T20:25:25.436Z"
   },
   {
    "duration": 22,
    "start_time": "2022-04-29T20:25:25.658Z"
   },
   {
    "duration": 242,
    "start_time": "2022-04-29T20:25:25.682Z"
   },
   {
    "duration": 22,
    "start_time": "2022-04-29T20:25:25.926Z"
   },
   {
    "duration": 216,
    "start_time": "2022-04-29T20:25:25.950Z"
   },
   {
    "duration": 22,
    "start_time": "2022-04-29T20:25:26.168Z"
   },
   {
    "duration": 233,
    "start_time": "2022-04-29T20:25:26.193Z"
   },
   {
    "duration": 27,
    "start_time": "2022-04-29T20:25:26.430Z"
   },
   {
    "duration": 83,
    "start_time": "2022-04-29T20:25:26.460Z"
   },
   {
    "duration": 254,
    "start_time": "2022-04-29T20:25:26.545Z"
   },
   {
    "duration": 386,
    "start_time": "2022-04-29T20:25:26.801Z"
   },
   {
    "duration": 388,
    "start_time": "2022-04-29T20:25:27.189Z"
   },
   {
    "duration": 274,
    "start_time": "2022-04-29T20:25:27.580Z"
   },
   {
    "duration": 29,
    "start_time": "2022-04-29T20:25:27.857Z"
   },
   {
    "duration": 142,
    "start_time": "2022-04-29T20:25:27.889Z"
   },
   {
    "duration": 277,
    "start_time": "2022-04-29T20:25:28.033Z"
   },
   {
    "duration": 151,
    "start_time": "2022-04-29T20:25:28.312Z"
   },
   {
    "duration": 403,
    "start_time": "2022-04-29T20:25:28.466Z"
   },
   {
    "duration": 329,
    "start_time": "2022-04-29T20:25:28.872Z"
   },
   {
    "duration": 258,
    "start_time": "2022-04-29T20:25:29.204Z"
   },
   {
    "duration": 253,
    "start_time": "2022-04-29T20:25:29.464Z"
   },
   {
    "duration": 33,
    "start_time": "2022-04-29T20:25:29.724Z"
   },
   {
    "duration": 268,
    "start_time": "2022-04-29T20:25:29.759Z"
   },
   {
    "duration": 285,
    "start_time": "2022-04-29T20:25:30.030Z"
   },
   {
    "duration": 410,
    "start_time": "2022-04-29T20:25:30.324Z"
   },
   {
    "duration": 362,
    "start_time": "2022-04-29T20:25:30.736Z"
   },
   {
    "duration": 511,
    "start_time": "2022-04-30T08:27:37.517Z"
   },
   {
    "duration": 62,
    "start_time": "2022-04-30T08:27:38.029Z"
   },
   {
    "duration": 5,
    "start_time": "2022-04-30T08:27:38.093Z"
   },
   {
    "duration": 27,
    "start_time": "2022-04-30T08:27:38.100Z"
   },
   {
    "duration": 25,
    "start_time": "2022-04-30T08:27:38.128Z"
   },
   {
    "duration": 5,
    "start_time": "2022-04-30T08:27:38.154Z"
   },
   {
    "duration": 10,
    "start_time": "2022-04-30T08:27:38.161Z"
   },
   {
    "duration": 6,
    "start_time": "2022-04-30T08:27:38.173Z"
   },
   {
    "duration": 6,
    "start_time": "2022-04-30T08:27:38.181Z"
   },
   {
    "duration": 8,
    "start_time": "2022-04-30T08:27:38.222Z"
   },
   {
    "duration": 25,
    "start_time": "2022-04-30T08:27:38.232Z"
   },
   {
    "duration": 6,
    "start_time": "2022-04-30T08:27:38.259Z"
   },
   {
    "duration": 24,
    "start_time": "2022-04-30T08:27:38.267Z"
   },
   {
    "duration": 6,
    "start_time": "2022-04-30T08:27:38.323Z"
   },
   {
    "duration": 7,
    "start_time": "2022-04-30T08:27:38.330Z"
   },
   {
    "duration": 26,
    "start_time": "2022-04-30T08:27:38.339Z"
   },
   {
    "duration": 58,
    "start_time": "2022-04-30T08:27:38.366Z"
   },
   {
    "duration": 25,
    "start_time": "2022-04-30T08:27:38.427Z"
   },
   {
    "duration": 14,
    "start_time": "2022-04-30T08:27:38.454Z"
   },
   {
    "duration": 78,
    "start_time": "2022-04-30T08:27:38.470Z"
   },
   {
    "duration": 4,
    "start_time": "2022-04-30T08:27:38.549Z"
   },
   {
    "duration": 14,
    "start_time": "2022-04-30T08:27:38.555Z"
   },
   {
    "duration": 306,
    "start_time": "2022-04-30T08:27:38.570Z"
   },
   {
    "duration": 52,
    "start_time": "2022-04-30T08:27:38.877Z"
   },
   {
    "duration": 627,
    "start_time": "2022-04-30T08:27:38.931Z"
   },
   {
    "duration": 170,
    "start_time": "2022-04-30T08:27:39.559Z"
   },
   {
    "duration": 141,
    "start_time": "2022-04-30T08:27:39.730Z"
   },
   {
    "duration": 136,
    "start_time": "2022-04-30T08:27:39.875Z"
   },
   {
    "duration": 153,
    "start_time": "2022-04-30T08:27:40.012Z"
   },
   {
    "duration": 132,
    "start_time": "2022-04-30T08:27:40.167Z"
   },
   {
    "duration": 29,
    "start_time": "2022-04-30T08:27:40.300Z"
   },
   {
    "duration": 131,
    "start_time": "2022-04-30T08:27:40.331Z"
   },
   {
    "duration": 21,
    "start_time": "2022-04-30T08:27:40.464Z"
   },
   {
    "duration": 105,
    "start_time": "2022-04-30T08:27:40.486Z"
   },
   {
    "duration": 14,
    "start_time": "2022-04-30T08:27:40.593Z"
   },
   {
    "duration": 133,
    "start_time": "2022-04-30T08:27:40.608Z"
   },
   {
    "duration": 14,
    "start_time": "2022-04-30T08:27:40.742Z"
   },
   {
    "duration": 115,
    "start_time": "2022-04-30T08:27:40.757Z"
   },
   {
    "duration": 15,
    "start_time": "2022-04-30T08:27:40.873Z"
   },
   {
    "duration": 115,
    "start_time": "2022-04-30T08:27:40.890Z"
   },
   {
    "duration": 24,
    "start_time": "2022-04-30T08:27:41.006Z"
   },
   {
    "duration": 23,
    "start_time": "2022-04-30T08:27:41.031Z"
   },
   {
    "duration": 208,
    "start_time": "2022-04-30T08:27:41.055Z"
   },
   {
    "duration": 147,
    "start_time": "2022-04-30T08:27:41.265Z"
   },
   {
    "duration": 180,
    "start_time": "2022-04-30T08:27:41.414Z"
   },
   {
    "duration": 140,
    "start_time": "2022-04-30T08:27:41.595Z"
   },
   {
    "duration": 18,
    "start_time": "2022-04-30T08:27:41.736Z"
   },
   {
    "duration": 86,
    "start_time": "2022-04-30T08:27:41.755Z"
   },
   {
    "duration": 230,
    "start_time": "2022-04-30T08:27:41.843Z"
   },
   {
    "duration": 85,
    "start_time": "2022-04-30T08:27:42.075Z"
   },
   {
    "duration": 140,
    "start_time": "2022-04-30T08:27:42.162Z"
   },
   {
    "duration": 206,
    "start_time": "2022-04-30T08:27:42.304Z"
   },
   {
    "duration": 182,
    "start_time": "2022-04-30T08:27:42.512Z"
   },
   {
    "duration": 140,
    "start_time": "2022-04-30T08:27:42.696Z"
   },
   {
    "duration": 136,
    "start_time": "2022-04-30T08:27:42.838Z"
   },
   {
    "duration": 27,
    "start_time": "2022-04-30T08:27:42.976Z"
   },
   {
    "duration": 220,
    "start_time": "2022-04-30T08:27:43.005Z"
   },
   {
    "duration": 337,
    "start_time": "2022-04-30T08:27:43.227Z"
   },
   {
    "duration": 298,
    "start_time": "2022-04-30T08:27:43.566Z"
   },
   {
    "duration": 230,
    "start_time": "2022-04-30T08:27:43.867Z"
   },
   {
    "duration": 507,
    "start_time": "2022-04-30T08:50:13.967Z"
   },
   {
    "duration": 79,
    "start_time": "2022-04-30T08:50:14.476Z"
   },
   {
    "duration": 5,
    "start_time": "2022-04-30T08:50:14.557Z"
   },
   {
    "duration": 11,
    "start_time": "2022-04-30T08:50:14.564Z"
   },
   {
    "duration": 55,
    "start_time": "2022-04-30T08:50:14.577Z"
   },
   {
    "duration": 7,
    "start_time": "2022-04-30T08:50:14.634Z"
   },
   {
    "duration": 8,
    "start_time": "2022-04-30T08:50:14.643Z"
   },
   {
    "duration": 8,
    "start_time": "2022-04-30T08:50:14.653Z"
   },
   {
    "duration": 5,
    "start_time": "2022-04-30T08:50:14.663Z"
   },
   {
    "duration": 9,
    "start_time": "2022-04-30T08:50:14.672Z"
   },
   {
    "duration": 74,
    "start_time": "2022-04-30T08:50:14.683Z"
   },
   {
    "duration": 7,
    "start_time": "2022-04-30T08:50:14.759Z"
   },
   {
    "duration": 57,
    "start_time": "2022-04-30T08:50:14.768Z"
   },
   {
    "duration": 7,
    "start_time": "2022-04-30T08:50:14.827Z"
   },
   {
    "duration": 7,
    "start_time": "2022-04-30T08:50:14.837Z"
   },
   {
    "duration": 40,
    "start_time": "2022-04-30T08:50:14.846Z"
   },
   {
    "duration": 66,
    "start_time": "2022-04-30T08:50:14.888Z"
   },
   {
    "duration": 35,
    "start_time": "2022-04-30T08:50:14.956Z"
   },
   {
    "duration": 45,
    "start_time": "2022-04-30T08:50:14.993Z"
   },
   {
    "duration": 85,
    "start_time": "2022-04-30T08:50:15.040Z"
   },
   {
    "duration": 5,
    "start_time": "2022-04-30T08:50:15.127Z"
   },
   {
    "duration": 16,
    "start_time": "2022-04-30T08:50:15.134Z"
   },
   {
    "duration": 497,
    "start_time": "2022-04-30T08:50:15.152Z"
   },
   {
    "duration": 82,
    "start_time": "2022-04-30T08:50:15.651Z"
   },
   {
    "duration": 469,
    "start_time": "2022-04-30T08:50:15.736Z"
   },
   {
    "duration": 224,
    "start_time": "2022-04-30T08:50:16.206Z"
   },
   {
    "duration": 144,
    "start_time": "2022-04-30T08:50:16.431Z"
   },
   {
    "duration": 145,
    "start_time": "2022-04-30T08:50:16.579Z"
   },
   {
    "duration": 145,
    "start_time": "2022-04-30T08:50:16.726Z"
   },
   {
    "duration": 138,
    "start_time": "2022-04-30T08:50:16.873Z"
   },
   {
    "duration": 27,
    "start_time": "2022-04-30T08:50:17.013Z"
   },
   {
    "duration": 133,
    "start_time": "2022-04-30T08:50:17.042Z"
   },
   {
    "duration": 21,
    "start_time": "2022-04-30T08:50:17.177Z"
   },
   {
    "duration": 128,
    "start_time": "2022-04-30T08:50:17.200Z"
   },
   {
    "duration": 17,
    "start_time": "2022-04-30T08:50:17.330Z"
   },
   {
    "duration": 135,
    "start_time": "2022-04-30T08:50:17.349Z"
   },
   {
    "duration": 16,
    "start_time": "2022-04-30T08:50:17.486Z"
   },
   {
    "duration": 129,
    "start_time": "2022-04-30T08:50:17.503Z"
   },
   {
    "duration": 16,
    "start_time": "2022-04-30T08:50:17.634Z"
   },
   {
    "duration": 128,
    "start_time": "2022-04-30T08:50:17.651Z"
   },
   {
    "duration": 14,
    "start_time": "2022-04-30T08:50:17.781Z"
   },
   {
    "duration": 38,
    "start_time": "2022-04-30T08:50:17.797Z"
   },
   {
    "duration": 149,
    "start_time": "2022-04-30T08:50:17.836Z"
   },
   {
    "duration": 150,
    "start_time": "2022-04-30T08:50:17.986Z"
   },
   {
    "duration": 246,
    "start_time": "2022-04-30T08:50:18.137Z"
   },
   {
    "duration": 145,
    "start_time": "2022-04-30T08:50:18.384Z"
   },
   {
    "duration": 20,
    "start_time": "2022-04-30T08:50:18.530Z"
   },
   {
    "duration": 73,
    "start_time": "2022-04-30T08:50:18.552Z"
   },
   {
    "duration": 160,
    "start_time": "2022-04-30T08:50:18.627Z"
   },
   {
    "duration": 93,
    "start_time": "2022-04-30T08:50:18.789Z"
   },
   {
    "duration": 143,
    "start_time": "2022-04-30T08:50:18.884Z"
   },
   {
    "duration": 237,
    "start_time": "2022-04-30T08:50:19.029Z"
   },
   {
    "duration": 198,
    "start_time": "2022-04-30T08:50:19.267Z"
   },
   {
    "duration": 141,
    "start_time": "2022-04-30T08:50:19.467Z"
   },
   {
    "duration": 146,
    "start_time": "2022-04-30T08:50:19.610Z"
   },
   {
    "duration": 25,
    "start_time": "2022-04-30T08:50:19.757Z"
   },
   {
    "duration": 178,
    "start_time": "2022-04-30T08:50:19.784Z"
   },
   {
    "duration": 173,
    "start_time": "2022-04-30T08:50:19.964Z"
   },
   {
    "duration": 191,
    "start_time": "2022-04-30T08:50:20.139Z"
   },
   {
    "duration": 252,
    "start_time": "2022-04-30T08:50:20.332Z"
   },
   {
    "duration": 527,
    "start_time": "2022-04-30T12:15:10.037Z"
   },
   {
    "duration": 66,
    "start_time": "2022-04-30T12:15:10.567Z"
   },
   {
    "duration": 6,
    "start_time": "2022-04-30T12:15:10.635Z"
   },
   {
    "duration": 16,
    "start_time": "2022-04-30T12:15:10.644Z"
   },
   {
    "duration": 26,
    "start_time": "2022-04-30T12:15:10.662Z"
   },
   {
    "duration": 36,
    "start_time": "2022-04-30T12:15:10.690Z"
   },
   {
    "duration": 7,
    "start_time": "2022-04-30T12:15:10.728Z"
   },
   {
    "duration": 7,
    "start_time": "2022-04-30T12:15:10.737Z"
   },
   {
    "duration": 4,
    "start_time": "2022-04-30T12:15:10.746Z"
   },
   {
    "duration": 9,
    "start_time": "2022-04-30T12:15:10.753Z"
   },
   {
    "duration": 25,
    "start_time": "2022-04-30T12:15:10.764Z"
   },
   {
    "duration": 6,
    "start_time": "2022-04-30T12:15:10.823Z"
   },
   {
    "duration": 25,
    "start_time": "2022-04-30T12:15:10.831Z"
   },
   {
    "duration": 5,
    "start_time": "2022-04-30T12:15:10.858Z"
   },
   {
    "duration": 5,
    "start_time": "2022-04-30T12:15:10.866Z"
   },
   {
    "duration": 63,
    "start_time": "2022-04-30T12:15:10.873Z"
   },
   {
    "duration": 25,
    "start_time": "2022-04-30T12:15:10.938Z"
   },
   {
    "duration": 27,
    "start_time": "2022-04-30T12:15:10.964Z"
   },
   {
    "duration": 39,
    "start_time": "2022-04-30T12:15:10.992Z"
   },
   {
    "duration": 54,
    "start_time": "2022-04-30T12:15:11.033Z"
   },
   {
    "duration": 5,
    "start_time": "2022-04-30T12:15:11.089Z"
   },
   {
    "duration": 35,
    "start_time": "2022-04-30T12:15:11.096Z"
   },
   {
    "duration": 328,
    "start_time": "2022-04-30T12:15:11.132Z"
   },
   {
    "duration": 65,
    "start_time": "2022-04-30T12:15:11.462Z"
   },
   {
    "duration": 452,
    "start_time": "2022-04-30T12:15:11.529Z"
   },
   {
    "duration": 227,
    "start_time": "2022-04-30T12:15:11.982Z"
   },
   {
    "duration": 148,
    "start_time": "2022-04-30T12:15:12.211Z"
   },
   {
    "duration": 143,
    "start_time": "2022-04-30T12:15:12.363Z"
   },
   {
    "duration": 154,
    "start_time": "2022-04-30T12:15:12.508Z"
   },
   {
    "duration": 145,
    "start_time": "2022-04-30T12:15:12.664Z"
   },
   {
    "duration": 25,
    "start_time": "2022-04-30T12:15:12.811Z"
   },
   {
    "duration": 129,
    "start_time": "2022-04-30T12:15:12.839Z"
   },
   {
    "duration": 22,
    "start_time": "2022-04-30T12:15:12.970Z"
   },
   {
    "duration": 114,
    "start_time": "2022-04-30T12:15:12.993Z"
   },
   {
    "duration": 24,
    "start_time": "2022-04-30T12:15:13.110Z"
   },
   {
    "duration": 136,
    "start_time": "2022-04-30T12:15:13.136Z"
   },
   {
    "duration": 17,
    "start_time": "2022-04-30T12:15:13.274Z"
   },
   {
    "duration": 121,
    "start_time": "2022-04-30T12:15:13.294Z"
   },
   {
    "duration": 17,
    "start_time": "2022-04-30T12:15:13.422Z"
   },
   {
    "duration": 128,
    "start_time": "2022-04-30T12:15:13.440Z"
   },
   {
    "duration": 16,
    "start_time": "2022-04-30T12:15:13.569Z"
   },
   {
    "duration": 41,
    "start_time": "2022-04-30T12:15:13.587Z"
   },
   {
    "duration": 150,
    "start_time": "2022-04-30T12:15:13.629Z"
   },
   {
    "duration": 153,
    "start_time": "2022-04-30T12:15:13.781Z"
   },
   {
    "duration": 247,
    "start_time": "2022-04-30T12:15:13.936Z"
   },
   {
    "duration": 151,
    "start_time": "2022-04-30T12:15:14.186Z"
   },
   {
    "duration": 21,
    "start_time": "2022-04-30T12:15:14.339Z"
   },
   {
    "duration": 74,
    "start_time": "2022-04-30T12:15:14.361Z"
   },
   {
    "duration": 145,
    "start_time": "2022-04-30T12:15:14.437Z"
   },
   {
    "duration": 85,
    "start_time": "2022-04-30T12:15:14.584Z"
   },
   {
    "duration": 141,
    "start_time": "2022-04-30T12:15:14.671Z"
   },
   {
    "duration": 227,
    "start_time": "2022-04-30T12:15:14.814Z"
   },
   {
    "duration": 181,
    "start_time": "2022-04-30T12:15:15.043Z"
   },
   {
    "duration": 141,
    "start_time": "2022-04-30T12:15:15.226Z"
   },
   {
    "duration": 140,
    "start_time": "2022-04-30T12:15:15.369Z"
   },
   {
    "duration": 28,
    "start_time": "2022-04-30T12:15:15.511Z"
   },
   {
    "duration": 152,
    "start_time": "2022-04-30T12:15:15.541Z"
   },
   {
    "duration": 163,
    "start_time": "2022-04-30T12:15:15.695Z"
   },
   {
    "duration": 179,
    "start_time": "2022-04-30T12:15:15.860Z"
   },
   {
    "duration": 251,
    "start_time": "2022-04-30T12:15:16.041Z"
   },
   {
    "duration": 612,
    "start_time": "2022-04-30T12:33:26.699Z"
   },
   {
    "duration": 63,
    "start_time": "2022-04-30T12:33:27.322Z"
   },
   {
    "duration": 5,
    "start_time": "2022-04-30T12:33:27.387Z"
   },
   {
    "duration": 9,
    "start_time": "2022-04-30T12:33:27.394Z"
   },
   {
    "duration": 42,
    "start_time": "2022-04-30T12:33:27.405Z"
   },
   {
    "duration": 5,
    "start_time": "2022-04-30T12:33:27.448Z"
   },
   {
    "duration": 6,
    "start_time": "2022-04-30T12:33:27.455Z"
   },
   {
    "duration": 10,
    "start_time": "2022-04-30T12:33:27.462Z"
   },
   {
    "duration": 5,
    "start_time": "2022-04-30T12:33:27.474Z"
   },
   {
    "duration": 9,
    "start_time": "2022-04-30T12:33:27.481Z"
   },
   {
    "duration": 51,
    "start_time": "2022-04-30T12:33:27.492Z"
   },
   {
    "duration": 5,
    "start_time": "2022-04-30T12:33:27.545Z"
   },
   {
    "duration": 24,
    "start_time": "2022-04-30T12:33:27.552Z"
   },
   {
    "duration": 5,
    "start_time": "2022-04-30T12:33:27.578Z"
   },
   {
    "duration": 6,
    "start_time": "2022-04-30T12:33:27.584Z"
   },
   {
    "duration": 51,
    "start_time": "2022-04-30T12:33:27.591Z"
   },
   {
    "duration": 23,
    "start_time": "2022-04-30T12:33:27.643Z"
   },
   {
    "duration": 24,
    "start_time": "2022-04-30T12:33:27.668Z"
   },
   {
    "duration": 33,
    "start_time": "2022-04-30T12:33:27.693Z"
   },
   {
    "duration": 47,
    "start_time": "2022-04-30T12:33:27.728Z"
   },
   {
    "duration": 4,
    "start_time": "2022-04-30T12:33:27.777Z"
   },
   {
    "duration": 13,
    "start_time": "2022-04-30T12:33:27.783Z"
   },
   {
    "duration": 322,
    "start_time": "2022-04-30T12:33:27.797Z"
   },
   {
    "duration": 52,
    "start_time": "2022-04-30T12:33:28.120Z"
   },
   {
    "duration": 440,
    "start_time": "2022-04-30T12:33:28.173Z"
   },
   {
    "duration": 218,
    "start_time": "2022-04-30T12:33:28.614Z"
   },
   {
    "duration": 138,
    "start_time": "2022-04-30T12:33:28.834Z"
   },
   {
    "duration": 136,
    "start_time": "2022-04-30T12:33:28.976Z"
   },
   {
    "duration": 136,
    "start_time": "2022-04-30T12:33:29.113Z"
   },
   {
    "duration": 140,
    "start_time": "2022-04-30T12:33:29.251Z"
   },
   {
    "duration": 16,
    "start_time": "2022-04-30T12:33:29.392Z"
   },
   {
    "duration": 127,
    "start_time": "2022-04-30T12:33:29.409Z"
   },
   {
    "duration": 20,
    "start_time": "2022-04-30T12:33:29.538Z"
   },
   {
    "duration": 109,
    "start_time": "2022-04-30T12:33:29.559Z"
   },
   {
    "duration": 15,
    "start_time": "2022-04-30T12:33:29.670Z"
   },
   {
    "duration": 129,
    "start_time": "2022-04-30T12:33:29.687Z"
   },
   {
    "duration": 15,
    "start_time": "2022-04-30T12:33:29.821Z"
   },
   {
    "duration": 117,
    "start_time": "2022-04-30T12:33:29.838Z"
   },
   {
    "duration": 21,
    "start_time": "2022-04-30T12:33:29.957Z"
   },
   {
    "duration": 133,
    "start_time": "2022-04-30T12:33:29.979Z"
   },
   {
    "duration": 21,
    "start_time": "2022-04-30T12:33:30.114Z"
   },
   {
    "duration": 22,
    "start_time": "2022-04-30T12:33:30.136Z"
   },
   {
    "duration": 145,
    "start_time": "2022-04-30T12:33:30.160Z"
   },
   {
    "duration": 165,
    "start_time": "2022-04-30T12:33:30.306Z"
   },
   {
    "duration": 260,
    "start_time": "2022-04-30T12:33:30.473Z"
   },
   {
    "duration": 145,
    "start_time": "2022-04-30T12:33:30.734Z"
   },
   {
    "duration": 21,
    "start_time": "2022-04-30T12:33:30.881Z"
   },
   {
    "duration": 72,
    "start_time": "2022-04-30T12:33:30.904Z"
   },
   {
    "duration": 165,
    "start_time": "2022-04-30T12:33:30.978Z"
   },
   {
    "duration": 91,
    "start_time": "2022-04-30T12:33:31.144Z"
   },
   {
    "duration": 154,
    "start_time": "2022-04-30T12:33:31.237Z"
   },
   {
    "duration": 232,
    "start_time": "2022-04-30T12:33:31.392Z"
   },
   {
    "duration": 174,
    "start_time": "2022-04-30T12:33:31.625Z"
   },
   {
    "duration": 128,
    "start_time": "2022-04-30T12:33:31.800Z"
   },
   {
    "duration": 143,
    "start_time": "2022-04-30T12:33:31.930Z"
   },
   {
    "duration": 22,
    "start_time": "2022-04-30T12:33:32.074Z"
   },
   {
    "duration": 154,
    "start_time": "2022-04-30T12:33:32.097Z"
   },
   {
    "duration": 157,
    "start_time": "2022-04-30T12:33:32.253Z"
   },
   {
    "duration": 177,
    "start_time": "2022-04-30T12:33:32.412Z"
   },
   {
    "duration": 213,
    "start_time": "2022-04-30T12:33:32.591Z"
   },
   {
    "duration": 707,
    "start_time": "2022-05-02T17:34:39.618Z"
   },
   {
    "duration": 129,
    "start_time": "2022-05-02T17:34:40.328Z"
   },
   {
    "duration": 9,
    "start_time": "2022-05-02T17:34:40.460Z"
   },
   {
    "duration": 95,
    "start_time": "2022-05-02T17:34:40.472Z"
   },
   {
    "duration": 24,
    "start_time": "2022-05-02T17:34:40.571Z"
   },
   {
    "duration": 51,
    "start_time": "2022-05-02T17:34:40.597Z"
   },
   {
    "duration": 7,
    "start_time": "2022-05-02T17:34:40.650Z"
   },
   {
    "duration": 41,
    "start_time": "2022-05-02T17:34:40.659Z"
   },
   {
    "duration": 18,
    "start_time": "2022-05-02T17:34:40.703Z"
   },
   {
    "duration": 6,
    "start_time": "2022-05-02T17:34:40.724Z"
   },
   {
    "duration": 12,
    "start_time": "2022-05-02T17:34:40.733Z"
   },
   {
    "duration": 80,
    "start_time": "2022-05-02T17:34:40.748Z"
   },
   {
    "duration": 8,
    "start_time": "2022-05-02T17:34:40.830Z"
   },
   {
    "duration": 69,
    "start_time": "2022-05-02T17:34:40.842Z"
   },
   {
    "duration": 7,
    "start_time": "2022-05-02T17:34:40.913Z"
   },
   {
    "duration": 10,
    "start_time": "2022-05-02T17:34:40.922Z"
   },
   {
    "duration": 82,
    "start_time": "2022-05-02T17:34:40.934Z"
   },
   {
    "duration": 75,
    "start_time": "2022-05-02T17:34:41.018Z"
   },
   {
    "duration": 47,
    "start_time": "2022-05-02T17:34:41.096Z"
   },
   {
    "duration": 19,
    "start_time": "2022-05-02T17:34:41.145Z"
   },
   {
    "duration": 82,
    "start_time": "2022-05-02T17:34:41.194Z"
   },
   {
    "duration": 8,
    "start_time": "2022-05-02T17:34:41.292Z"
   },
   {
    "duration": 29,
    "start_time": "2022-05-02T17:34:41.304Z"
   },
   {
    "duration": 593,
    "start_time": "2022-05-02T17:34:41.335Z"
   },
   {
    "duration": 97,
    "start_time": "2022-05-02T17:34:41.930Z"
   },
   {
    "duration": 1121,
    "start_time": "2022-05-02T17:34:42.030Z"
   },
   {
    "duration": 323,
    "start_time": "2022-05-02T17:34:43.153Z"
   },
   {
    "duration": 277,
    "start_time": "2022-05-02T17:34:43.478Z"
   },
   {
    "duration": 265,
    "start_time": "2022-05-02T17:34:43.757Z"
   },
   {
    "duration": 222,
    "start_time": "2022-05-02T17:34:44.024Z"
   },
   {
    "duration": 268,
    "start_time": "2022-05-02T17:34:44.248Z"
   },
   {
    "duration": 25,
    "start_time": "2022-05-02T17:34:44.520Z"
   },
   {
    "duration": 240,
    "start_time": "2022-05-02T17:34:44.547Z"
   },
   {
    "duration": 41,
    "start_time": "2022-05-02T17:34:44.794Z"
   },
   {
    "duration": 212,
    "start_time": "2022-05-02T17:34:44.837Z"
   },
   {
    "duration": 24,
    "start_time": "2022-05-02T17:34:45.052Z"
   },
   {
    "duration": 233,
    "start_time": "2022-05-02T17:34:45.094Z"
   },
   {
    "duration": 21,
    "start_time": "2022-05-02T17:34:45.330Z"
   },
   {
    "duration": 226,
    "start_time": "2022-05-02T17:34:45.354Z"
   },
   {
    "duration": 42,
    "start_time": "2022-05-02T17:34:45.582Z"
   },
   {
    "duration": 228,
    "start_time": "2022-05-02T17:34:45.632Z"
   },
   {
    "duration": 33,
    "start_time": "2022-05-02T17:34:45.862Z"
   },
   {
    "duration": 44,
    "start_time": "2022-05-02T17:34:45.898Z"
   },
   {
    "duration": 335,
    "start_time": "2022-05-02T17:34:45.944Z"
   },
   {
    "duration": 290,
    "start_time": "2022-05-02T17:34:46.281Z"
   },
   {
    "duration": 329,
    "start_time": "2022-05-02T17:34:46.574Z"
   },
   {
    "duration": 269,
    "start_time": "2022-05-02T17:34:46.906Z"
   },
   {
    "duration": 44,
    "start_time": "2022-05-02T17:34:47.178Z"
   },
   {
    "duration": 109,
    "start_time": "2022-05-02T17:34:47.225Z"
   },
   {
    "duration": 290,
    "start_time": "2022-05-02T17:34:47.337Z"
   },
   {
    "duration": 147,
    "start_time": "2022-05-02T17:34:47.630Z"
   },
   {
    "duration": 260,
    "start_time": "2022-05-02T17:34:47.779Z"
   },
   {
    "duration": 415,
    "start_time": "2022-05-02T17:34:48.041Z"
   },
   {
    "duration": 345,
    "start_time": "2022-05-02T17:34:48.458Z"
   },
   {
    "duration": 321,
    "start_time": "2022-05-02T17:34:48.807Z"
   },
   {
    "duration": 287,
    "start_time": "2022-05-02T17:34:49.132Z"
   },
   {
    "duration": 35,
    "start_time": "2022-05-02T17:34:49.422Z"
   },
   {
    "duration": 273,
    "start_time": "2022-05-02T17:34:49.460Z"
   },
   {
    "duration": 406,
    "start_time": "2022-05-02T17:34:49.735Z"
   },
   {
    "duration": 340,
    "start_time": "2022-05-02T17:34:50.143Z"
   },
   {
    "duration": 274,
    "start_time": "2022-05-02T17:34:50.485Z"
   },
   {
    "duration": 6,
    "start_time": "2022-05-02T17:45:55.235Z"
   },
   {
    "duration": 24,
    "start_time": "2022-05-02T17:46:06.539Z"
   },
   {
    "duration": 729,
    "start_time": "2022-05-02T17:46:19.902Z"
   },
   {
    "duration": 108,
    "start_time": "2022-05-02T17:46:20.633Z"
   },
   {
    "duration": 8,
    "start_time": "2022-05-02T17:46:20.744Z"
   },
   {
    "duration": 75,
    "start_time": "2022-05-02T17:46:20.754Z"
   },
   {
    "duration": 41,
    "start_time": "2022-05-02T17:46:20.831Z"
   },
   {
    "duration": 8,
    "start_time": "2022-05-02T17:46:20.893Z"
   },
   {
    "duration": 13,
    "start_time": "2022-05-02T17:46:20.904Z"
   },
   {
    "duration": 11,
    "start_time": "2022-05-02T17:46:20.919Z"
   },
   {
    "duration": 8,
    "start_time": "2022-05-02T17:46:20.933Z"
   },
   {
    "duration": 56,
    "start_time": "2022-05-02T17:46:20.947Z"
   },
   {
    "duration": 42,
    "start_time": "2022-05-02T17:46:21.006Z"
   },
   {
    "duration": 7,
    "start_time": "2022-05-02T17:46:21.050Z"
   },
   {
    "duration": 70,
    "start_time": "2022-05-02T17:46:21.059Z"
   },
   {
    "duration": 8,
    "start_time": "2022-05-02T17:46:21.131Z"
   },
   {
    "duration": 9,
    "start_time": "2022-05-02T17:46:21.140Z"
   },
   {
    "duration": 69,
    "start_time": "2022-05-02T17:46:21.151Z"
   },
   {
    "duration": 38,
    "start_time": "2022-05-02T17:46:21.222Z"
   },
   {
    "duration": 59,
    "start_time": "2022-05-02T17:46:21.262Z"
   },
   {
    "duration": 18,
    "start_time": "2022-05-02T17:46:21.323Z"
   },
   {
    "duration": 93,
    "start_time": "2022-05-02T17:46:21.344Z"
   },
   {
    "duration": 21,
    "start_time": "2022-05-02T17:46:21.439Z"
   },
   {
    "duration": 5,
    "start_time": "2022-05-02T17:46:21.462Z"
   },
   {
    "duration": 16,
    "start_time": "2022-05-02T17:46:21.493Z"
   },
   {
    "duration": 476,
    "start_time": "2022-05-02T17:46:21.512Z"
   },
   {
    "duration": 72,
    "start_time": "2022-05-02T17:46:21.990Z"
   },
   {
    "duration": 746,
    "start_time": "2022-05-02T17:46:22.064Z"
   },
   {
    "duration": 296,
    "start_time": "2022-05-02T17:46:22.812Z"
   },
   {
    "duration": 266,
    "start_time": "2022-05-02T17:46:23.113Z"
   },
   {
    "duration": 235,
    "start_time": "2022-05-02T17:46:23.381Z"
   },
   {
    "duration": 199,
    "start_time": "2022-05-02T17:46:23.618Z"
   },
   {
    "duration": 252,
    "start_time": "2022-05-02T17:46:23.820Z"
   },
   {
    "duration": 35,
    "start_time": "2022-05-02T17:46:24.074Z"
   },
   {
    "duration": 194,
    "start_time": "2022-05-02T17:46:24.111Z"
   },
   {
    "duration": 29,
    "start_time": "2022-05-02T17:46:24.307Z"
   },
   {
    "duration": 201,
    "start_time": "2022-05-02T17:46:24.338Z"
   },
   {
    "duration": 22,
    "start_time": "2022-05-02T17:46:24.541Z"
   },
   {
    "duration": 214,
    "start_time": "2022-05-02T17:46:24.565Z"
   },
   {
    "duration": 24,
    "start_time": "2022-05-02T17:46:24.781Z"
   },
   {
    "duration": 200,
    "start_time": "2022-05-02T17:46:24.808Z"
   },
   {
    "duration": 23,
    "start_time": "2022-05-02T17:46:25.011Z"
   },
   {
    "duration": 212,
    "start_time": "2022-05-02T17:46:25.037Z"
   },
   {
    "duration": 21,
    "start_time": "2022-05-02T17:46:25.252Z"
   },
   {
    "duration": 46,
    "start_time": "2022-05-02T17:46:25.276Z"
   },
   {
    "duration": 295,
    "start_time": "2022-05-02T17:46:25.324Z"
   },
   {
    "duration": 250,
    "start_time": "2022-05-02T17:46:25.621Z"
   },
   {
    "duration": 287,
    "start_time": "2022-05-02T17:46:25.873Z"
   },
   {
    "duration": 245,
    "start_time": "2022-05-02T17:46:26.162Z"
   },
   {
    "duration": 30,
    "start_time": "2022-05-02T17:46:26.409Z"
   },
   {
    "duration": 112,
    "start_time": "2022-05-02T17:46:26.441Z"
   },
   {
    "duration": 324,
    "start_time": "2022-05-02T17:46:26.557Z"
   },
   {
    "duration": 140,
    "start_time": "2022-05-02T17:46:26.893Z"
   },
   {
    "duration": 211,
    "start_time": "2022-05-02T17:46:27.035Z"
   },
   {
    "duration": 398,
    "start_time": "2022-05-02T17:46:27.248Z"
   },
   {
    "duration": 305,
    "start_time": "2022-05-02T17:46:27.648Z"
   },
   {
    "duration": 252,
    "start_time": "2022-05-02T17:46:27.955Z"
   },
   {
    "duration": 319,
    "start_time": "2022-05-02T17:46:28.210Z"
   },
   {
    "duration": 34,
    "start_time": "2022-05-02T17:46:28.532Z"
   },
   {
    "duration": 250,
    "start_time": "2022-05-02T17:46:28.568Z"
   },
   {
    "duration": 391,
    "start_time": "2022-05-02T17:46:28.820Z"
   },
   {
    "duration": 301,
    "start_time": "2022-05-02T17:46:29.213Z"
   },
   {
    "duration": 243,
    "start_time": "2022-05-02T17:46:29.517Z"
   },
   {
    "duration": 101,
    "start_time": "2022-05-02T17:55:22.896Z"
   },
   {
    "duration": 134,
    "start_time": "2022-05-02T17:56:01.179Z"
   },
   {
    "duration": 46,
    "start_time": "2022-05-02T17:56:09.085Z"
   },
   {
    "duration": 37,
    "start_time": "2022-05-02T17:56:20.928Z"
   },
   {
    "duration": 53,
    "start_time": "2022-05-02T17:56:44.969Z"
   },
   {
    "duration": 18,
    "start_time": "2022-05-02T17:57:07.213Z"
   },
   {
    "duration": 61,
    "start_time": "2022-05-02T17:57:36.469Z"
   },
   {
    "duration": 24,
    "start_time": "2022-05-02T17:58:02.511Z"
   },
   {
    "duration": 46,
    "start_time": "2022-05-02T17:58:28.104Z"
   },
   {
    "duration": 17,
    "start_time": "2022-05-02T17:58:42.587Z"
   },
   {
    "duration": 58,
    "start_time": "2022-05-02T17:58:50.877Z"
   },
   {
    "duration": 258,
    "start_time": "2022-05-02T18:02:44.290Z"
   },
   {
    "duration": 830,
    "start_time": "2022-05-02T18:04:18.208Z"
   },
   {
    "duration": 123,
    "start_time": "2022-05-02T18:04:19.042Z"
   },
   {
    "duration": 25,
    "start_time": "2022-05-02T18:04:19.168Z"
   },
   {
    "duration": 81,
    "start_time": "2022-05-02T18:04:19.197Z"
   },
   {
    "duration": 68,
    "start_time": "2022-05-02T18:04:19.281Z"
   },
   {
    "duration": 10,
    "start_time": "2022-05-02T18:04:19.352Z"
   },
   {
    "duration": 39,
    "start_time": "2022-05-02T18:04:19.364Z"
   },
   {
    "duration": 10,
    "start_time": "2022-05-02T18:04:19.406Z"
   },
   {
    "duration": 7,
    "start_time": "2022-05-02T18:04:19.419Z"
   },
   {
    "duration": 11,
    "start_time": "2022-05-02T18:04:19.433Z"
   },
   {
    "duration": 94,
    "start_time": "2022-05-02T18:04:19.447Z"
   },
   {
    "duration": 9,
    "start_time": "2022-05-02T18:04:19.544Z"
   },
   {
    "duration": 74,
    "start_time": "2022-05-02T18:04:19.556Z"
   },
   {
    "duration": 9,
    "start_time": "2022-05-02T18:04:19.632Z"
   },
   {
    "duration": 10,
    "start_time": "2022-05-02T18:04:19.643Z"
   },
   {
    "duration": 80,
    "start_time": "2022-05-02T18:04:19.655Z"
   },
   {
    "duration": 70,
    "start_time": "2022-05-02T18:04:19.738Z"
   },
   {
    "duration": 49,
    "start_time": "2022-05-02T18:04:19.810Z"
   },
   {
    "duration": 39,
    "start_time": "2022-05-02T18:04:19.862Z"
   },
   {
    "duration": 29,
    "start_time": "2022-05-02T18:04:19.903Z"
   },
   {
    "duration": 79,
    "start_time": "2022-05-02T18:04:19.935Z"
   },
   {
    "duration": 7,
    "start_time": "2022-05-02T18:04:20.017Z"
   },
   {
    "duration": 27,
    "start_time": "2022-05-02T18:04:20.026Z"
   },
   {
    "duration": 595,
    "start_time": "2022-05-02T18:04:20.056Z"
   },
   {
    "duration": 91,
    "start_time": "2022-05-02T18:04:20.653Z"
   },
   {
    "duration": 794,
    "start_time": "2022-05-02T18:04:20.747Z"
   },
   {
    "duration": 328,
    "start_time": "2022-05-02T18:04:21.543Z"
   },
   {
    "duration": 317,
    "start_time": "2022-05-02T18:04:21.878Z"
   },
   {
    "duration": 272,
    "start_time": "2022-05-02T18:04:22.198Z"
   },
   {
    "duration": 250,
    "start_time": "2022-05-02T18:04:22.472Z"
   },
   {
    "duration": 368,
    "start_time": "2022-05-02T18:04:22.725Z"
   },
   {
    "duration": 35,
    "start_time": "2022-05-02T18:04:23.096Z"
   },
   {
    "duration": 259,
    "start_time": "2022-05-02T18:04:23.134Z"
   },
   {
    "duration": 38,
    "start_time": "2022-05-02T18:04:23.395Z"
   },
   {
    "duration": 226,
    "start_time": "2022-05-02T18:04:23.436Z"
   },
   {
    "duration": 34,
    "start_time": "2022-05-02T18:04:23.665Z"
   },
   {
    "duration": 230,
    "start_time": "2022-05-02T18:04:23.701Z"
   },
   {
    "duration": 22,
    "start_time": "2022-05-02T18:04:23.933Z"
   },
   {
    "duration": 229,
    "start_time": "2022-05-02T18:04:23.957Z"
   },
   {
    "duration": 27,
    "start_time": "2022-05-02T18:04:24.188Z"
   },
   {
    "duration": 222,
    "start_time": "2022-05-02T18:04:24.217Z"
   },
   {
    "duration": 21,
    "start_time": "2022-05-02T18:04:24.442Z"
   },
   {
    "duration": 55,
    "start_time": "2022-05-02T18:04:24.465Z"
   },
   {
    "duration": 346,
    "start_time": "2022-05-02T18:04:24.523Z"
   },
   {
    "duration": 261,
    "start_time": "2022-05-02T18:04:24.871Z"
   },
   {
    "duration": 354,
    "start_time": "2022-05-02T18:04:25.134Z"
   },
   {
    "duration": 255,
    "start_time": "2022-05-02T18:04:25.493Z"
   },
   {
    "duration": 43,
    "start_time": "2022-05-02T18:04:25.751Z"
   },
   {
    "duration": 98,
    "start_time": "2022-05-02T18:04:25.797Z"
   },
   {
    "duration": 318,
    "start_time": "2022-05-02T18:04:25.898Z"
   },
   {
    "duration": 148,
    "start_time": "2022-05-02T18:04:26.218Z"
   },
   {
    "duration": 208,
    "start_time": "2022-05-02T18:04:26.369Z"
   },
   {
    "duration": 422,
    "start_time": "2022-05-02T18:04:26.580Z"
   },
   {
    "duration": 448,
    "start_time": "2022-05-02T18:04:27.004Z"
   },
   {
    "duration": 272,
    "start_time": "2022-05-02T18:04:27.455Z"
   },
   {
    "duration": 344,
    "start_time": "2022-05-02T18:04:27.730Z"
   },
   {
    "duration": 119,
    "start_time": "2022-05-02T18:04:28.077Z"
   },
   {
    "duration": 430,
    "start_time": "2022-05-02T18:04:28.199Z"
   },
   {
    "duration": 290,
    "start_time": "2022-05-02T18:04:28.632Z"
   },
   {
    "duration": 332,
    "start_time": "2022-05-02T18:04:28.925Z"
   },
   {
    "duration": 330,
    "start_time": "2022-05-02T18:04:29.259Z"
   },
   {
    "duration": 1470,
    "start_time": "2022-05-02T18:06:14.738Z"
   },
   {
    "duration": 125,
    "start_time": "2022-05-02T18:06:16.212Z"
   },
   {
    "duration": 8,
    "start_time": "2022-05-02T18:06:16.339Z"
   },
   {
    "duration": 86,
    "start_time": "2022-05-02T18:06:16.351Z"
   },
   {
    "duration": 62,
    "start_time": "2022-05-02T18:06:16.440Z"
   },
   {
    "duration": 14,
    "start_time": "2022-05-02T18:06:16.505Z"
   },
   {
    "duration": 10,
    "start_time": "2022-05-02T18:06:16.522Z"
   },
   {
    "duration": 11,
    "start_time": "2022-05-02T18:06:16.534Z"
   },
   {
    "duration": 46,
    "start_time": "2022-05-02T18:06:16.548Z"
   },
   {
    "duration": 14,
    "start_time": "2022-05-02T18:06:16.601Z"
   },
   {
    "duration": 41,
    "start_time": "2022-05-02T18:06:16.618Z"
   },
   {
    "duration": 36,
    "start_time": "2022-05-02T18:06:16.661Z"
   },
   {
    "duration": 71,
    "start_time": "2022-05-02T18:06:16.700Z"
   },
   {
    "duration": 28,
    "start_time": "2022-05-02T18:06:16.773Z"
   },
   {
    "duration": 10,
    "start_time": "2022-05-02T18:06:16.818Z"
   },
   {
    "duration": 69,
    "start_time": "2022-05-02T18:06:16.831Z"
   },
   {
    "duration": 44,
    "start_time": "2022-05-02T18:06:16.904Z"
   },
   {
    "duration": 82,
    "start_time": "2022-05-02T18:06:16.951Z"
   },
   {
    "duration": 19,
    "start_time": "2022-05-02T18:06:17.036Z"
   },
   {
    "duration": 58,
    "start_time": "2022-05-02T18:06:17.057Z"
   },
   {
    "duration": 78,
    "start_time": "2022-05-02T18:06:17.118Z"
   },
   {
    "duration": 8,
    "start_time": "2022-05-02T18:06:17.200Z"
   },
   {
    "duration": 25,
    "start_time": "2022-05-02T18:06:17.211Z"
   },
   {
    "duration": 559,
    "start_time": "2022-05-02T18:06:17.238Z"
   },
   {
    "duration": 75,
    "start_time": "2022-05-02T18:06:17.801Z"
   },
   {
    "duration": 803,
    "start_time": "2022-05-02T18:06:17.878Z"
   },
   {
    "duration": 324,
    "start_time": "2022-05-02T18:06:18.684Z"
   },
   {
    "duration": 282,
    "start_time": "2022-05-02T18:06:19.015Z"
   },
   {
    "duration": 264,
    "start_time": "2022-05-02T18:06:19.300Z"
   },
   {
    "duration": 226,
    "start_time": "2022-05-02T18:06:19.567Z"
   },
   {
    "duration": 266,
    "start_time": "2022-05-02T18:06:19.796Z"
   },
   {
    "duration": 37,
    "start_time": "2022-05-02T18:06:20.064Z"
   },
   {
    "duration": 215,
    "start_time": "2022-05-02T18:06:20.104Z"
   },
   {
    "duration": 30,
    "start_time": "2022-05-02T18:06:20.322Z"
   },
   {
    "duration": 218,
    "start_time": "2022-05-02T18:06:20.353Z"
   },
   {
    "duration": 38,
    "start_time": "2022-05-02T18:06:20.574Z"
   },
   {
    "duration": 219,
    "start_time": "2022-05-02T18:06:20.614Z"
   },
   {
    "duration": 22,
    "start_time": "2022-05-02T18:06:20.836Z"
   },
   {
    "duration": 229,
    "start_time": "2022-05-02T18:06:20.861Z"
   },
   {
    "duration": 28,
    "start_time": "2022-05-02T18:06:21.093Z"
   },
   {
    "duration": 218,
    "start_time": "2022-05-02T18:06:21.123Z"
   },
   {
    "duration": 20,
    "start_time": "2022-05-02T18:06:21.344Z"
   },
   {
    "duration": 61,
    "start_time": "2022-05-02T18:06:21.366Z"
   },
   {
    "duration": 337,
    "start_time": "2022-05-02T18:06:21.429Z"
   },
   {
    "duration": 276,
    "start_time": "2022-05-02T18:06:21.768Z"
   },
   {
    "duration": 303,
    "start_time": "2022-05-02T18:06:22.046Z"
   },
   {
    "duration": 260,
    "start_time": "2022-05-02T18:06:22.351Z"
   },
   {
    "duration": 29,
    "start_time": "2022-05-02T18:06:22.613Z"
   },
   {
    "duration": 113,
    "start_time": "2022-05-02T18:06:22.644Z"
   },
   {
    "duration": 272,
    "start_time": "2022-05-02T18:06:22.759Z"
   },
   {
    "duration": 173,
    "start_time": "2022-05-02T18:06:23.033Z"
   },
   {
    "duration": 329,
    "start_time": "2022-05-02T18:06:23.210Z"
   },
   {
    "duration": 570,
    "start_time": "2022-05-02T18:06:23.541Z"
   },
   {
    "duration": 491,
    "start_time": "2022-05-02T18:06:24.114Z"
   },
   {
    "duration": 373,
    "start_time": "2022-05-02T18:06:24.608Z"
   },
   {
    "duration": 366,
    "start_time": "2022-05-02T18:06:24.984Z"
   },
   {
    "duration": 115,
    "start_time": "2022-05-02T18:06:25.352Z"
   },
   {
    "duration": 363,
    "start_time": "2022-05-02T18:06:25.469Z"
   },
   {
    "duration": 288,
    "start_time": "2022-05-02T18:06:25.835Z"
   },
   {
    "duration": 323,
    "start_time": "2022-05-02T18:06:26.125Z"
   },
   {
    "duration": 263,
    "start_time": "2022-05-02T18:06:26.450Z"
   },
   {
    "duration": 699,
    "start_time": "2022-05-02T18:08:15.750Z"
   },
   {
    "duration": 121,
    "start_time": "2022-05-02T18:08:16.451Z"
   },
   {
    "duration": 19,
    "start_time": "2022-05-02T18:08:16.575Z"
   },
   {
    "duration": 56,
    "start_time": "2022-05-02T18:08:16.598Z"
   },
   {
    "duration": 76,
    "start_time": "2022-05-02T18:08:16.656Z"
   },
   {
    "duration": 8,
    "start_time": "2022-05-02T18:08:16.734Z"
   },
   {
    "duration": 9,
    "start_time": "2022-05-02T18:08:16.744Z"
   },
   {
    "duration": 39,
    "start_time": "2022-05-02T18:08:16.755Z"
   },
   {
    "duration": 12,
    "start_time": "2022-05-02T18:08:16.798Z"
   },
   {
    "duration": 11,
    "start_time": "2022-05-02T18:08:16.814Z"
   },
   {
    "duration": 37,
    "start_time": "2022-05-02T18:08:16.827Z"
   },
   {
    "duration": 11,
    "start_time": "2022-05-02T18:08:16.894Z"
   },
   {
    "duration": 44,
    "start_time": "2022-05-02T18:08:16.908Z"
   },
   {
    "duration": 8,
    "start_time": "2022-05-02T18:08:16.954Z"
   },
   {
    "duration": 35,
    "start_time": "2022-05-02T18:08:16.964Z"
   },
   {
    "duration": 54,
    "start_time": "2022-05-02T18:08:17.003Z"
   },
   {
    "duration": 74,
    "start_time": "2022-05-02T18:08:17.060Z"
   },
   {
    "duration": 57,
    "start_time": "2022-05-02T18:08:17.136Z"
   },
   {
    "duration": 25,
    "start_time": "2022-05-02T18:08:17.197Z"
   },
   {
    "duration": 28,
    "start_time": "2022-05-02T18:08:17.224Z"
   },
   {
    "duration": 88,
    "start_time": "2022-05-02T18:08:17.254Z"
   },
   {
    "duration": 6,
    "start_time": "2022-05-02T18:08:17.344Z"
   },
   {
    "duration": 19,
    "start_time": "2022-05-02T18:08:17.352Z"
   },
   {
    "duration": 609,
    "start_time": "2022-05-02T18:08:17.373Z"
   },
   {
    "duration": 87,
    "start_time": "2022-05-02T18:08:17.984Z"
   },
   {
    "duration": 787,
    "start_time": "2022-05-02T18:08:18.073Z"
   },
   {
    "duration": 381,
    "start_time": "2022-05-02T18:08:18.862Z"
   },
   {
    "duration": 286,
    "start_time": "2022-05-02T18:08:19.252Z"
   },
   {
    "duration": 243,
    "start_time": "2022-05-02T18:08:19.540Z"
   },
   {
    "duration": 217,
    "start_time": "2022-05-02T18:08:19.793Z"
   },
   {
    "duration": 270,
    "start_time": "2022-05-02T18:08:20.014Z"
   },
   {
    "duration": 31,
    "start_time": "2022-05-02T18:08:20.287Z"
   },
   {
    "duration": 222,
    "start_time": "2022-05-02T18:08:20.320Z"
   },
   {
    "duration": 29,
    "start_time": "2022-05-02T18:08:20.544Z"
   },
   {
    "duration": 200,
    "start_time": "2022-05-02T18:08:20.575Z"
   },
   {
    "duration": 31,
    "start_time": "2022-05-02T18:08:20.777Z"
   },
   {
    "duration": 217,
    "start_time": "2022-05-02T18:08:20.810Z"
   },
   {
    "duration": 20,
    "start_time": "2022-05-02T18:08:21.030Z"
   },
   {
    "duration": 212,
    "start_time": "2022-05-02T18:08:21.052Z"
   },
   {
    "duration": 32,
    "start_time": "2022-05-02T18:08:21.266Z"
   },
   {
    "duration": 196,
    "start_time": "2022-05-02T18:08:21.301Z"
   },
   {
    "duration": 25,
    "start_time": "2022-05-02T18:08:21.501Z"
   },
   {
    "duration": 33,
    "start_time": "2022-05-02T18:08:21.528Z"
   },
   {
    "duration": 228,
    "start_time": "2022-05-02T18:08:21.594Z"
   },
   {
    "duration": 237,
    "start_time": "2022-05-02T18:08:21.824Z"
   },
   {
    "duration": 352,
    "start_time": "2022-05-02T18:08:22.064Z"
   },
   {
    "duration": 241,
    "start_time": "2022-05-02T18:08:22.418Z"
   },
   {
    "duration": 46,
    "start_time": "2022-05-02T18:08:22.661Z"
   },
   {
    "duration": 96,
    "start_time": "2022-05-02T18:08:22.710Z"
   },
   {
    "duration": 252,
    "start_time": "2022-05-02T18:08:22.809Z"
   },
   {
    "duration": 125,
    "start_time": "2022-05-02T18:08:23.063Z"
   },
   {
    "duration": 212,
    "start_time": "2022-05-02T18:08:23.190Z"
   },
   {
    "duration": 391,
    "start_time": "2022-05-02T18:08:23.405Z"
   },
   {
    "duration": 317,
    "start_time": "2022-05-02T18:08:23.800Z"
   },
   {
    "duration": 245,
    "start_time": "2022-05-02T18:08:24.119Z"
   },
   {
    "duration": 250,
    "start_time": "2022-05-02T18:08:24.367Z"
   },
   {
    "duration": 105,
    "start_time": "2022-05-02T18:08:24.619Z"
   },
   {
    "duration": 251,
    "start_time": "2022-05-02T18:08:24.726Z"
   },
   {
    "duration": 265,
    "start_time": "2022-05-02T18:08:24.979Z"
   },
   {
    "duration": 376,
    "start_time": "2022-05-02T18:08:25.247Z"
   },
   {
    "duration": 246,
    "start_time": "2022-05-02T18:08:25.625Z"
   },
   {
    "duration": 47,
    "start_time": "2022-05-03T06:53:49.327Z"
   },
   {
    "duration": 508,
    "start_time": "2022-05-03T06:53:57.088Z"
   },
   {
    "duration": 69,
    "start_time": "2022-05-03T06:53:57.598Z"
   },
   {
    "duration": 5,
    "start_time": "2022-05-03T06:53:57.671Z"
   },
   {
    "duration": 50,
    "start_time": "2022-05-03T06:53:57.677Z"
   },
   {
    "duration": 24,
    "start_time": "2022-05-03T06:53:57.728Z"
   },
   {
    "duration": 6,
    "start_time": "2022-05-03T06:53:57.753Z"
   },
   {
    "duration": 8,
    "start_time": "2022-05-03T06:53:57.760Z"
   },
   {
    "duration": 6,
    "start_time": "2022-05-03T06:53:57.769Z"
   },
   {
    "duration": 4,
    "start_time": "2022-05-03T06:53:57.778Z"
   },
   {
    "duration": 9,
    "start_time": "2022-05-03T06:53:57.783Z"
   },
   {
    "duration": 24,
    "start_time": "2022-05-03T06:53:57.823Z"
   },
   {
    "duration": 5,
    "start_time": "2022-05-03T06:53:57.848Z"
   },
   {
    "duration": 24,
    "start_time": "2022-05-03T06:53:57.854Z"
   },
   {
    "duration": 5,
    "start_time": "2022-05-03T06:53:57.879Z"
   },
   {
    "duration": 5,
    "start_time": "2022-05-03T06:53:57.885Z"
   },
   {
    "duration": 52,
    "start_time": "2022-05-03T06:53:57.892Z"
   },
   {
    "duration": 24,
    "start_time": "2022-05-03T06:53:57.946Z"
   },
   {
    "duration": 26,
    "start_time": "2022-05-03T06:53:57.972Z"
   },
   {
    "duration": 15,
    "start_time": "2022-05-03T06:53:58.024Z"
   },
   {
    "duration": 21,
    "start_time": "2022-05-03T06:53:58.041Z"
   },
   {
    "duration": 35,
    "start_time": "2022-05-03T06:53:58.064Z"
   },
   {
    "duration": 6,
    "start_time": "2022-05-03T06:53:58.124Z"
   },
   {
    "duration": 14,
    "start_time": "2022-05-03T06:53:58.131Z"
   },
   {
    "duration": 323,
    "start_time": "2022-05-03T06:53:58.147Z"
   },
   {
    "duration": 56,
    "start_time": "2022-05-03T06:53:58.472Z"
   },
   {
    "duration": 606,
    "start_time": "2022-05-03T06:53:58.530Z"
   },
   {
    "duration": 163,
    "start_time": "2022-05-03T06:53:59.141Z"
   },
   {
    "duration": 144,
    "start_time": "2022-05-03T06:53:59.305Z"
   },
   {
    "duration": 135,
    "start_time": "2022-05-03T06:53:59.450Z"
   },
   {
    "duration": 133,
    "start_time": "2022-05-03T06:53:59.586Z"
   },
   {
    "duration": 141,
    "start_time": "2022-05-03T06:53:59.721Z"
   },
   {
    "duration": 16,
    "start_time": "2022-05-03T06:53:59.864Z"
   },
   {
    "duration": 123,
    "start_time": "2022-05-03T06:53:59.882Z"
   },
   {
    "duration": 28,
    "start_time": "2022-05-03T06:54:00.006Z"
   },
   {
    "duration": 108,
    "start_time": "2022-05-03T06:54:00.036Z"
   },
   {
    "duration": 14,
    "start_time": "2022-05-03T06:54:00.145Z"
   },
   {
    "duration": 126,
    "start_time": "2022-05-03T06:54:00.160Z"
   },
   {
    "duration": 13,
    "start_time": "2022-05-03T06:54:00.287Z"
   },
   {
    "duration": 123,
    "start_time": "2022-05-03T06:54:00.302Z"
   },
   {
    "duration": 15,
    "start_time": "2022-05-03T06:54:00.427Z"
   },
   {
    "duration": 134,
    "start_time": "2022-05-03T06:54:00.444Z"
   },
   {
    "duration": 15,
    "start_time": "2022-05-03T06:54:00.579Z"
   },
   {
    "duration": 42,
    "start_time": "2022-05-03T06:54:00.595Z"
   },
   {
    "duration": 198,
    "start_time": "2022-05-03T06:54:00.639Z"
   },
   {
    "duration": 155,
    "start_time": "2022-05-03T06:54:00.839Z"
   },
   {
    "duration": 166,
    "start_time": "2022-05-03T06:54:00.995Z"
   },
   {
    "duration": 145,
    "start_time": "2022-05-03T06:54:01.163Z"
   },
   {
    "duration": 29,
    "start_time": "2022-05-03T06:54:01.310Z"
   },
   {
    "duration": 52,
    "start_time": "2022-05-03T06:54:01.342Z"
   },
   {
    "duration": 174,
    "start_time": "2022-05-03T06:54:01.396Z"
   },
   {
    "duration": 81,
    "start_time": "2022-05-03T06:54:01.572Z"
   },
   {
    "duration": 137,
    "start_time": "2022-05-03T06:54:01.655Z"
   },
   {
    "duration": 205,
    "start_time": "2022-05-03T06:54:01.795Z"
   },
   {
    "duration": 171,
    "start_time": "2022-05-03T06:54:02.001Z"
   },
   {
    "duration": 142,
    "start_time": "2022-05-03T06:54:02.174Z"
   },
   {
    "duration": 137,
    "start_time": "2022-05-03T06:54:02.323Z"
   },
   {
    "duration": 76,
    "start_time": "2022-05-03T06:54:02.462Z"
   },
   {
    "duration": 225,
    "start_time": "2022-05-03T06:54:02.540Z"
   },
   {
    "duration": 152,
    "start_time": "2022-05-03T06:54:02.766Z"
   },
   {
    "duration": 183,
    "start_time": "2022-05-03T06:54:02.923Z"
   },
   {
    "duration": 143,
    "start_time": "2022-05-03T06:54:03.108Z"
   },
   {
    "duration": 96,
    "start_time": "2022-05-03T06:55:31.381Z"
   },
   {
    "duration": 4,
    "start_time": "2022-05-03T06:57:12.315Z"
   },
   {
    "duration": 12,
    "start_time": "2022-05-03T06:57:20.271Z"
   },
   {
    "duration": 11,
    "start_time": "2022-05-03T06:57:38.851Z"
   },
   {
    "duration": 6,
    "start_time": "2022-05-03T06:58:38.377Z"
   },
   {
    "duration": 11,
    "start_time": "2022-05-03T07:00:12.316Z"
   },
   {
    "duration": 28,
    "start_time": "2022-05-03T07:00:21.998Z"
   },
   {
    "duration": 16,
    "start_time": "2022-05-03T07:01:04.348Z"
   },
   {
    "duration": 144,
    "start_time": "2022-05-03T07:02:12.868Z"
   },
   {
    "duration": 16,
    "start_time": "2022-05-03T07:02:27.782Z"
   },
   {
    "duration": 19,
    "start_time": "2022-05-03T07:02:48.064Z"
   },
   {
    "duration": 20,
    "start_time": "2022-05-03T07:03:27.363Z"
   },
   {
    "duration": 16,
    "start_time": "2022-05-03T07:03:41.886Z"
   },
   {
    "duration": 4,
    "start_time": "2022-05-03T07:06:01.552Z"
   },
   {
    "duration": 12,
    "start_time": "2022-05-03T07:06:04.894Z"
   },
   {
    "duration": 10,
    "start_time": "2022-05-03T07:06:15.821Z"
   },
   {
    "duration": 118,
    "start_time": "2022-05-03T07:06:23.792Z"
   },
   {
    "duration": 12,
    "start_time": "2022-05-03T07:06:34.883Z"
   },
   {
    "duration": 10,
    "start_time": "2022-05-03T07:06:44.422Z"
   },
   {
    "duration": 15,
    "start_time": "2022-05-03T07:07:50.638Z"
   },
   {
    "duration": 16,
    "start_time": "2022-05-03T07:08:26.037Z"
   },
   {
    "duration": 18,
    "start_time": "2022-05-03T07:08:38.093Z"
   },
   {
    "duration": 19,
    "start_time": "2022-05-03T07:08:46.667Z"
   },
   {
    "duration": 23,
    "start_time": "2022-05-03T07:09:47.992Z"
   },
   {
    "duration": 37,
    "start_time": "2022-05-03T07:10:12.082Z"
   },
   {
    "duration": 23,
    "start_time": "2022-05-03T07:10:17.634Z"
   },
   {
    "duration": 24,
    "start_time": "2022-05-03T07:10:38.105Z"
   },
   {
    "duration": 27,
    "start_time": "2022-05-03T07:10:57.054Z"
   },
   {
    "duration": 29,
    "start_time": "2022-05-03T07:11:04.271Z"
   },
   {
    "duration": 27,
    "start_time": "2022-05-03T07:11:15.204Z"
   },
   {
    "duration": 14,
    "start_time": "2022-05-03T07:11:50.906Z"
   },
   {
    "duration": 29,
    "start_time": "2022-05-03T07:12:03.007Z"
   },
   {
    "duration": 12,
    "start_time": "2022-05-03T07:12:12.504Z"
   },
   {
    "duration": 43,
    "start_time": "2022-05-03T07:12:27.296Z"
   },
   {
    "duration": 34,
    "start_time": "2022-05-03T07:14:33.645Z"
   },
   {
    "duration": 24,
    "start_time": "2022-05-03T07:14:55.469Z"
   },
   {
    "duration": 26,
    "start_time": "2022-05-03T07:15:04.083Z"
   },
   {
    "duration": 36,
    "start_time": "2022-05-03T07:15:17.975Z"
   },
   {
    "duration": 34,
    "start_time": "2022-05-03T07:15:28.030Z"
   },
   {
    "duration": 495,
    "start_time": "2022-05-03T07:18:14.365Z"
   },
   {
    "duration": 72,
    "start_time": "2022-05-03T07:18:14.862Z"
   },
   {
    "duration": 6,
    "start_time": "2022-05-03T07:18:14.935Z"
   },
   {
    "duration": 34,
    "start_time": "2022-05-03T07:18:14.942Z"
   },
   {
    "duration": 25,
    "start_time": "2022-05-03T07:18:14.978Z"
   },
   {
    "duration": 6,
    "start_time": "2022-05-03T07:18:15.024Z"
   },
   {
    "duration": 8,
    "start_time": "2022-05-03T07:18:15.031Z"
   },
   {
    "duration": 11,
    "start_time": "2022-05-03T07:18:15.040Z"
   },
   {
    "duration": 4,
    "start_time": "2022-05-03T07:18:15.052Z"
   },
   {
    "duration": 8,
    "start_time": "2022-05-03T07:18:15.059Z"
   },
   {
    "duration": 23,
    "start_time": "2022-05-03T07:18:15.068Z"
   },
   {
    "duration": 33,
    "start_time": "2022-05-03T07:18:15.093Z"
   },
   {
    "duration": 23,
    "start_time": "2022-05-03T07:18:15.128Z"
   },
   {
    "duration": 5,
    "start_time": "2022-05-03T07:18:15.153Z"
   },
   {
    "duration": 5,
    "start_time": "2022-05-03T07:18:15.159Z"
   },
   {
    "duration": 23,
    "start_time": "2022-05-03T07:18:15.165Z"
   },
   {
    "duration": 50,
    "start_time": "2022-05-03T07:18:15.190Z"
   },
   {
    "duration": 24,
    "start_time": "2022-05-03T07:18:15.241Z"
   },
   {
    "duration": 11,
    "start_time": "2022-05-03T07:18:15.266Z"
   },
   {
    "duration": 18,
    "start_time": "2022-05-03T07:18:15.279Z"
   },
   {
    "duration": 54,
    "start_time": "2022-05-03T07:18:15.299Z"
   },
   {
    "duration": 5,
    "start_time": "2022-05-03T07:18:15.354Z"
   },
   {
    "duration": 14,
    "start_time": "2022-05-03T07:18:15.360Z"
   },
   {
    "duration": 314,
    "start_time": "2022-05-03T07:18:15.376Z"
   },
   {
    "duration": 55,
    "start_time": "2022-05-03T07:18:15.692Z"
   },
   {
    "duration": 428,
    "start_time": "2022-05-03T07:18:15.749Z"
   },
   {
    "duration": 170,
    "start_time": "2022-05-03T07:18:16.178Z"
   },
   {
    "duration": 146,
    "start_time": "2022-05-03T07:18:16.351Z"
   },
   {
    "duration": 143,
    "start_time": "2022-05-03T07:18:16.498Z"
   },
   {
    "duration": 129,
    "start_time": "2022-05-03T07:18:16.642Z"
   },
   {
    "duration": 132,
    "start_time": "2022-05-03T07:18:16.772Z"
   },
   {
    "duration": 24,
    "start_time": "2022-05-03T07:18:16.906Z"
   },
   {
    "duration": 126,
    "start_time": "2022-05-03T07:18:16.932Z"
   },
   {
    "duration": 21,
    "start_time": "2022-05-03T07:18:17.060Z"
   },
   {
    "duration": 117,
    "start_time": "2022-05-03T07:18:17.083Z"
   },
   {
    "duration": 25,
    "start_time": "2022-05-03T07:18:17.202Z"
   },
   {
    "duration": 130,
    "start_time": "2022-05-03T07:18:17.229Z"
   },
   {
    "duration": 16,
    "start_time": "2022-05-03T07:18:17.361Z"
   },
   {
    "duration": 120,
    "start_time": "2022-05-03T07:18:17.378Z"
   },
   {
    "duration": 32,
    "start_time": "2022-05-03T07:18:17.500Z"
   },
   {
    "duration": 114,
    "start_time": "2022-05-03T07:18:17.534Z"
   },
   {
    "duration": 15,
    "start_time": "2022-05-03T07:18:17.650Z"
   },
   {
    "duration": 25,
    "start_time": "2022-05-03T07:18:17.667Z"
   },
   {
    "duration": 206,
    "start_time": "2022-05-03T07:18:17.694Z"
   },
   {
    "duration": 146,
    "start_time": "2022-05-03T07:18:17.902Z"
   },
   {
    "duration": 177,
    "start_time": "2022-05-03T07:18:18.050Z"
   },
   {
    "duration": 142,
    "start_time": "2022-05-03T07:18:18.229Z"
   },
   {
    "duration": 21,
    "start_time": "2022-05-03T07:18:18.373Z"
   },
   {
    "duration": 69,
    "start_time": "2022-05-03T07:18:18.396Z"
   },
   {
    "duration": 153,
    "start_time": "2022-05-03T07:18:18.466Z"
   },
   {
    "duration": 77,
    "start_time": "2022-05-03T07:18:18.623Z"
   },
   {
    "duration": 140,
    "start_time": "2022-05-03T07:18:18.702Z"
   },
   {
    "duration": 220,
    "start_time": "2022-05-03T07:18:18.843Z"
   },
   {
    "duration": 176,
    "start_time": "2022-05-03T07:18:19.064Z"
   },
   {
    "duration": 141,
    "start_time": "2022-05-03T07:18:19.242Z"
   },
   {
    "duration": 141,
    "start_time": "2022-05-03T07:18:19.384Z"
   },
   {
    "duration": 149,
    "start_time": "2022-05-03T07:18:19.527Z"
   },
   {
    "duration": 12,
    "start_time": "2022-05-03T07:18:19.678Z"
   },
   {
    "duration": 0,
    "start_time": "2022-05-03T07:18:19.692Z"
   },
   {
    "duration": 0,
    "start_time": "2022-05-03T07:18:19.693Z"
   },
   {
    "duration": 0,
    "start_time": "2022-05-03T07:18:19.695Z"
   },
   {
    "duration": 0,
    "start_time": "2022-05-03T07:18:19.724Z"
   },
   {
    "duration": 43,
    "start_time": "2022-05-03T07:19:00.867Z"
   },
   {
    "duration": 42,
    "start_time": "2022-05-03T07:19:52.470Z"
   },
   {
    "duration": 11,
    "start_time": "2022-05-03T07:20:04.014Z"
   },
   {
    "duration": 118,
    "start_time": "2022-05-03T07:20:14.508Z"
   },
   {
    "duration": 11,
    "start_time": "2022-05-03T07:20:26.379Z"
   },
   {
    "duration": 38,
    "start_time": "2022-05-03T07:20:42.278Z"
   },
   {
    "duration": 40,
    "start_time": "2022-05-03T07:20:56.345Z"
   },
   {
    "duration": 132,
    "start_time": "2022-05-03T07:21:18.917Z"
   },
   {
    "duration": 482,
    "start_time": "2022-05-03T07:21:27.489Z"
   },
   {
    "duration": 28,
    "start_time": "2022-05-03T07:23:31.281Z"
   },
   {
    "duration": 543,
    "start_time": "2022-05-03T07:26:13.824Z"
   },
   {
    "duration": 73,
    "start_time": "2022-05-03T07:26:14.369Z"
   },
   {
    "duration": 4,
    "start_time": "2022-05-03T07:26:14.444Z"
   },
   {
    "duration": 38,
    "start_time": "2022-05-03T07:26:14.450Z"
   },
   {
    "duration": 45,
    "start_time": "2022-05-03T07:26:14.489Z"
   },
   {
    "duration": 5,
    "start_time": "2022-05-03T07:26:14.536Z"
   },
   {
    "duration": 11,
    "start_time": "2022-05-03T07:26:14.542Z"
   },
   {
    "duration": 6,
    "start_time": "2022-05-03T07:26:14.554Z"
   },
   {
    "duration": 4,
    "start_time": "2022-05-03T07:26:14.561Z"
   },
   {
    "duration": 8,
    "start_time": "2022-05-03T07:26:14.568Z"
   },
   {
    "duration": 56,
    "start_time": "2022-05-03T07:26:14.578Z"
   },
   {
    "duration": 6,
    "start_time": "2022-05-03T07:26:14.637Z"
   },
   {
    "duration": 33,
    "start_time": "2022-05-03T07:26:14.645Z"
   },
   {
    "duration": 5,
    "start_time": "2022-05-03T07:26:14.680Z"
   },
   {
    "duration": 7,
    "start_time": "2022-05-03T07:26:14.686Z"
   },
   {
    "duration": 53,
    "start_time": "2022-05-03T07:26:14.694Z"
   },
   {
    "duration": 25,
    "start_time": "2022-05-03T07:26:14.749Z"
   },
   {
    "duration": 25,
    "start_time": "2022-05-03T07:26:14.776Z"
   },
   {
    "duration": 33,
    "start_time": "2022-05-03T07:26:14.802Z"
   },
   {
    "duration": 22,
    "start_time": "2022-05-03T07:26:14.836Z"
   },
   {
    "duration": 36,
    "start_time": "2022-05-03T07:26:14.860Z"
   },
   {
    "duration": 29,
    "start_time": "2022-05-03T07:26:14.897Z"
   },
   {
    "duration": 15,
    "start_time": "2022-05-03T07:26:14.928Z"
   },
   {
    "duration": 356,
    "start_time": "2022-05-03T07:26:14.945Z"
   },
   {
    "duration": 56,
    "start_time": "2022-05-03T07:26:15.303Z"
   },
   {
    "duration": 477,
    "start_time": "2022-05-03T07:26:15.361Z"
   },
   {
    "duration": 173,
    "start_time": "2022-05-03T07:26:15.840Z"
   },
   {
    "duration": 146,
    "start_time": "2022-05-03T07:26:16.017Z"
   },
   {
    "duration": 142,
    "start_time": "2022-05-03T07:26:16.164Z"
   },
   {
    "duration": 142,
    "start_time": "2022-05-03T07:26:16.307Z"
   },
   {
    "duration": 147,
    "start_time": "2022-05-03T07:26:16.451Z"
   },
   {
    "duration": 24,
    "start_time": "2022-05-03T07:26:16.599Z"
   },
   {
    "duration": 117,
    "start_time": "2022-05-03T07:26:16.625Z"
   },
   {
    "duration": 20,
    "start_time": "2022-05-03T07:26:16.743Z"
   },
   {
    "duration": 113,
    "start_time": "2022-05-03T07:26:16.764Z"
   },
   {
    "duration": 16,
    "start_time": "2022-05-03T07:26:16.880Z"
   },
   {
    "duration": 140,
    "start_time": "2022-05-03T07:26:16.898Z"
   },
   {
    "duration": 15,
    "start_time": "2022-05-03T07:26:17.040Z"
   },
   {
    "duration": 129,
    "start_time": "2022-05-03T07:26:17.057Z"
   },
   {
    "duration": 16,
    "start_time": "2022-05-03T07:26:17.188Z"
   },
   {
    "duration": 135,
    "start_time": "2022-05-03T07:26:17.206Z"
   },
   {
    "duration": 16,
    "start_time": "2022-05-03T07:26:17.343Z"
   },
   {
    "duration": 25,
    "start_time": "2022-05-03T07:26:17.360Z"
   },
   {
    "duration": 212,
    "start_time": "2022-05-03T07:26:17.387Z"
   },
   {
    "duration": 157,
    "start_time": "2022-05-03T07:26:17.601Z"
   },
   {
    "duration": 173,
    "start_time": "2022-05-03T07:26:17.760Z"
   },
   {
    "duration": 148,
    "start_time": "2022-05-03T07:26:17.935Z"
   },
   {
    "duration": 19,
    "start_time": "2022-05-03T07:26:18.085Z"
   },
   {
    "duration": 68,
    "start_time": "2022-05-03T07:26:18.105Z"
   },
   {
    "duration": 165,
    "start_time": "2022-05-03T07:26:18.175Z"
   },
   {
    "duration": 94,
    "start_time": "2022-05-03T07:26:18.342Z"
   },
   {
    "duration": 143,
    "start_time": "2022-05-03T07:26:18.438Z"
   },
   {
    "duration": 231,
    "start_time": "2022-05-03T07:26:18.583Z"
   },
   {
    "duration": 211,
    "start_time": "2022-05-03T07:26:18.816Z"
   },
   {
    "duration": 144,
    "start_time": "2022-05-03T07:26:19.028Z"
   },
   {
    "duration": 139,
    "start_time": "2022-05-03T07:26:19.174Z"
   },
   {
    "duration": 64,
    "start_time": "2022-05-03T07:26:19.315Z"
   },
   {
    "duration": 233,
    "start_time": "2022-05-03T07:26:19.381Z"
   },
   {
    "duration": 161,
    "start_time": "2022-05-03T07:26:19.616Z"
   },
   {
    "duration": 189,
    "start_time": "2022-05-03T07:26:19.778Z"
   },
   {
    "duration": 142,
    "start_time": "2022-05-03T07:26:19.969Z"
   },
   {
    "duration": 663,
    "start_time": "2022-05-08T09:14:42.722Z"
   },
   {
    "duration": 96,
    "start_time": "2022-05-08T09:14:43.387Z"
   },
   {
    "duration": 6,
    "start_time": "2022-05-08T09:14:43.485Z"
   },
   {
    "duration": 54,
    "start_time": "2022-05-08T09:14:43.493Z"
   },
   {
    "duration": 28,
    "start_time": "2022-05-08T09:14:43.548Z"
   },
   {
    "duration": 7,
    "start_time": "2022-05-08T09:14:43.578Z"
   },
   {
    "duration": 38,
    "start_time": "2022-05-08T09:14:43.588Z"
   },
   {
    "duration": 10,
    "start_time": "2022-05-08T09:14:43.627Z"
   },
   {
    "duration": 5,
    "start_time": "2022-05-08T09:14:43.639Z"
   },
   {
    "duration": 11,
    "start_time": "2022-05-08T09:14:43.648Z"
   },
   {
    "duration": 69,
    "start_time": "2022-05-08T09:14:43.661Z"
   },
   {
    "duration": 7,
    "start_time": "2022-05-08T09:14:43.733Z"
   },
   {
    "duration": 42,
    "start_time": "2022-05-08T09:14:43.741Z"
   },
   {
    "duration": 6,
    "start_time": "2022-05-08T09:14:43.785Z"
   },
   {
    "duration": 34,
    "start_time": "2022-05-08T09:14:43.793Z"
   },
   {
    "duration": 27,
    "start_time": "2022-05-08T09:14:43.829Z"
   },
   {
    "duration": 31,
    "start_time": "2022-05-08T09:14:43.858Z"
   },
   {
    "duration": 55,
    "start_time": "2022-05-08T09:14:43.890Z"
   },
   {
    "duration": 13,
    "start_time": "2022-05-08T09:14:43.947Z"
   },
   {
    "duration": 21,
    "start_time": "2022-05-08T09:14:43.962Z"
   },
   {
    "duration": 64,
    "start_time": "2022-05-08T09:14:43.984Z"
   },
   {
    "duration": 5,
    "start_time": "2022-05-08T09:14:44.050Z"
   },
   {
    "duration": 17,
    "start_time": "2022-05-08T09:14:44.056Z"
   },
   {
    "duration": 338,
    "start_time": "2022-05-08T09:14:44.075Z"
   },
   {
    "duration": 54,
    "start_time": "2022-05-08T09:14:44.415Z"
   },
   {
    "duration": 415,
    "start_time": "2022-05-08T09:14:44.471Z"
   },
   {
    "duration": 227,
    "start_time": "2022-05-08T09:14:44.887Z"
   },
   {
    "duration": 154,
    "start_time": "2022-05-08T09:14:45.118Z"
   },
   {
    "duration": 141,
    "start_time": "2022-05-08T09:14:45.274Z"
   },
   {
    "duration": 141,
    "start_time": "2022-05-08T09:14:45.416Z"
   },
   {
    "duration": 139,
    "start_time": "2022-05-08T09:14:45.558Z"
   },
   {
    "duration": 30,
    "start_time": "2022-05-08T09:14:45.698Z"
   },
   {
    "duration": 127,
    "start_time": "2022-05-08T09:14:45.730Z"
   },
   {
    "duration": 21,
    "start_time": "2022-05-08T09:14:45.859Z"
   },
   {
    "duration": 118,
    "start_time": "2022-05-08T09:14:45.882Z"
   },
   {
    "duration": 25,
    "start_time": "2022-05-08T09:14:46.002Z"
   },
   {
    "duration": 123,
    "start_time": "2022-05-08T09:14:46.029Z"
   },
   {
    "duration": 15,
    "start_time": "2022-05-08T09:14:46.154Z"
   },
   {
    "duration": 131,
    "start_time": "2022-05-08T09:14:46.171Z"
   },
   {
    "duration": 26,
    "start_time": "2022-05-08T09:14:46.304Z"
   },
   {
    "duration": 133,
    "start_time": "2022-05-08T09:14:46.332Z"
   },
   {
    "duration": 16,
    "start_time": "2022-05-08T09:14:46.467Z"
   },
   {
    "duration": 45,
    "start_time": "2022-05-08T09:14:46.484Z"
   },
   {
    "duration": 145,
    "start_time": "2022-05-08T09:14:46.531Z"
   },
   {
    "duration": 152,
    "start_time": "2022-05-08T09:14:46.678Z"
   },
   {
    "duration": 241,
    "start_time": "2022-05-08T09:14:46.832Z"
   },
   {
    "duration": 141,
    "start_time": "2022-05-08T09:14:47.075Z"
   },
   {
    "duration": 20,
    "start_time": "2022-05-08T09:14:47.223Z"
   },
   {
    "duration": 51,
    "start_time": "2022-05-08T09:14:47.244Z"
   },
   {
    "duration": 174,
    "start_time": "2022-05-08T09:14:47.296Z"
   },
   {
    "duration": 93,
    "start_time": "2022-05-08T09:14:47.472Z"
   },
   {
    "duration": 211,
    "start_time": "2022-05-08T09:14:47.567Z"
   },
   {
    "duration": 218,
    "start_time": "2022-05-08T09:14:47.780Z"
   },
   {
    "duration": 175,
    "start_time": "2022-05-08T09:14:48.000Z"
   },
   {
    "duration": 138,
    "start_time": "2022-05-08T09:14:48.176Z"
   },
   {
    "duration": 138,
    "start_time": "2022-05-08T09:14:48.315Z"
   },
   {
    "duration": 69,
    "start_time": "2022-05-08T09:14:48.454Z"
   },
   {
    "duration": 244,
    "start_time": "2022-05-08T09:14:48.525Z"
   },
   {
    "duration": 189,
    "start_time": "2022-05-08T09:14:48.770Z"
   },
   {
    "duration": 305,
    "start_time": "2022-05-08T09:14:48.960Z"
   },
   {
    "duration": 142,
    "start_time": "2022-05-08T09:14:49.267Z"
   }
  ],
  "kernelspec": {
   "display_name": "Python 3 (ipykernel)",
   "language": "python",
   "name": "python3"
  },
  "language_info": {
   "codemirror_mode": {
    "name": "ipython",
    "version": 3
   },
   "file_extension": ".py",
   "mimetype": "text/x-python",
   "name": "python",
   "nbconvert_exporter": "python",
   "pygments_lexer": "ipython3",
   "version": "3.9.7"
  },
  "toc": {
   "base_numbering": 1,
   "nav_menu": {},
   "number_sections": true,
   "sideBar": true,
   "skip_h1_title": true,
   "title_cell": "Содержание",
   "title_sidebar": "Contents",
   "toc_cell": true,
   "toc_position": {
    "height": "calc(100% - 180px)",
    "left": "10px",
    "top": "150px",
    "width": "366.4px"
   },
   "toc_section_display": true,
   "toc_window_display": true
  }
 },
 "nbformat": 4,
 "nbformat_minor": 4
}
