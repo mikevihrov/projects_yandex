{
 "cells": [
  {
   "cell_type": "markdown",
   "id": "6d56dba5",
   "metadata": {},
   "source": [
    "# Анализ пользовательского взаимодействия в Яндекс.Дзен (User interaction analysis)"
   ]
  },
  {
   "cell_type": "markdown",
   "id": "793ed105",
   "metadata": {},
   "source": [
    "### Описание проекта"
   ]
  },
  {
   "cell_type": "markdown",
   "id": "15c425c5",
   "metadata": {},
   "source": [
    "Имеются данные взаимодействия пользователей с карточками статей сервиса Яндекс.Дзен\n",
    "\n",
    "**Цель проекта:** Провести анализ пользовательского взаимодействия с карточками статей и ответить на вопросы менеджеров:\n",
    "\n",
    "* Сколько взаимодействий пользователей с карточками происходит в системе с разбивкой по темам карточек?\n",
    "* Как много карточек генерируют источники с разными темами?\n",
    "* Как соотносятся темы карточек и темы источников?\n",
    "\n",
    "**Задача проекта:** Для решения поставленной цели необходимо автоматизировать процесс и построить дашборд для анализа.\n",
    "\n",
    "Пользователи разбиты на разные возрастные группы.\n",
    "\n",
    "Планируемый состав данных для дашборда:\n",
    "\n",
    "* История событий по темам карточек (два графика - абсолютные числа и процентное соотношение);\n",
    "* Разбивка событий по темам источников;\n",
    "* Таблица соответствия тем источников темам карточек;\n",
    "\n",
    "Данные будут группироваться по параметрам:\n",
    "\n",
    "* Дата и время;\n",
    "* Тема карточки;\n",
    "* Тема источника;\n",
    "* Возрастная группа;\n",
    "\n",
    "Характер данных:\n",
    "\n",
    "* История событий по темам карточек — абсолютные величины с разбивкой по минутам;\n",
    "* Разбивка событий по темам источников — относительные величины (% событий);\n",
    "* Соответствия тем источников темам карточек - абсолютные величины;\n",
    "\n",
    "Все графики имеют одинаковую важность.\n",
    "\n",
    "Частота обновления данных: один раз в сутки, в полночь по UTC."
   ]
  },
  {
   "cell_type": "markdown",
   "id": "0cec7e33",
   "metadata": {},
   "source": [
    "### Подготовка данных"
   ]
  },
  {
   "cell_type": "markdown",
   "id": "ca5c4d2f",
   "metadata": {},
   "source": [
    "Устанавливаем необходимую библиотеку"
   ]
  },
  {
   "cell_type": "code",
   "execution_count": 1,
   "id": "1ab700b8",
   "metadata": {},
   "outputs": [
    {
     "name": "stdout",
     "output_type": "stream",
     "text": [
      "Requirement already satisfied: psycopg2 in c:\\users\\1\\anaconda3\\lib\\site-packages (2.9.3)\n"
     ]
    }
   ],
   "source": [
    "!pip install psycopg2"
   ]
  },
  {
   "cell_type": "markdown",
   "id": "c7f3b729",
   "metadata": {},
   "source": [
    "Импортируем библиотеки"
   ]
  },
  {
   "cell_type": "code",
   "execution_count": 2,
   "id": "66dd5c49",
   "metadata": {},
   "outputs": [],
   "source": [
    "import pandas as pd\n",
    "from sqlalchemy import create_engine"
   ]
  },
  {
   "cell_type": "markdown",
   "id": "1b23a43f",
   "metadata": {},
   "source": [
    "Выгружаем таблицу из базы данных"
   ]
  },
  {
   "cell_type": "code",
   "execution_count": 3,
   "id": "eef211ae",
   "metadata": {},
   "outputs": [],
   "source": [
    "db_config = {'user': 'praktikum_student', # имя пользователя\n",
    "            'pwd': 'Sdf4$2;d-d30pp', # пароль\n",
    "            'host': 'rc1b-wcoijxj3yxfsf3fs.mdb.yandexcloud.net',\n",
    "            'port': 6432, # порт подключения\n",
    "            'db': 'data-analyst-zen-project-db'} # название базы данных\n",
    " \n",
    "connection_string = 'postgresql://{}:{}@{}:{}/{}'.format(db_config['user'],\n",
    "                                                db_config['pwd'],\n",
    "                                                db_config['host'],\n",
    "                                                db_config['port'],\n",
    "                                                db_config['db'])\n",
    " \n",
    "engine = create_engine(connection_string) \n",
    " \n",
    "query = query = ''' SELECT *\n",
    "            FROM dash_visits\n",
    "        '''\n",
    " \n",
    "dash_visits = pd.io.sql.read_sql(query, con = engine) \n",
    "dash_visits.to_csv('dash_visits.csv', index=False) "
   ]
  },
  {
   "cell_type": "markdown",
   "id": "713c9a22",
   "metadata": {},
   "source": [
    "### Дашборд"
   ]
  },
  {
   "cell_type": "markdown",
   "id": "3ad34126",
   "metadata": {},
   "source": [
    "Для ответа на вопросы был сделан дашборд в **Tableau Public**, который можно посмотреть по <a href=\" https://public.tableau.com/app/profile/mikhail6624/viz/Project_yandex_16611638341260/Dashboard1?publish=yes\">ссылке</a>"
   ]
  },
  {
   "cell_type": "markdown",
   "id": "338f6195",
   "metadata": {},
   "source": [
    "### Презентация"
   ]
  },
  {
   "cell_type": "markdown",
   "id": "9a732746",
   "metadata": {},
   "source": [
    "По итогам исследования подготовлена презентация. Ее можно посмотреть по ссылке: \n",
    "<a href=\" https://docs.google.com/presentation/d/124_QYDiKBbdLur19yl86p0093WgeQxJ3yk3bwUQp1XQ/edit?usp=sharing\">презентация</a>\n"
   ]
  }
 ],
 "metadata": {
  "kernelspec": {
   "display_name": "Python 3 (ipykernel)",
   "language": "python",
   "name": "python3"
  },
  "language_info": {
   "codemirror_mode": {
    "name": "ipython",
    "version": 3
   },
   "file_extension": ".py",
   "mimetype": "text/x-python",
   "name": "python",
   "nbconvert_exporter": "python",
   "pygments_lexer": "ipython3",
   "version": "3.9.7"
  }
 },
 "nbformat": 4,
 "nbformat_minor": 5
}
