{
 "cells": [
  {
   "cell_type": "markdown",
   "metadata": {},
   "source": [
    "# Анализ тарифов оператора сотовой связи (Tariff analysis)"
   ]
  },
  {
   "cell_type": "markdown",
   "metadata": {},
   "source": [
    "## Описание проекта"
   ]
  },
  {
   "cell_type": "markdown",
   "metadata": {},
   "source": [
    "Клиентам компании «Мегалайн» - федерального оператора сотовой связи - предлагают два тарифных плана: «Смарт» и «Ультра». Чтобы скорректировать рекламный бюджет, необходимо понять, какой тариф приносит больше денег.\n",
    "В распоряжении данные 500 пользователей «Мегалайна»: кто они, откуда, каким тарифом пользуются, сколько звонков и сообщений каждый отправил за 2018 год. \n",
    "    \n",
    "**Цель работы:** проанализировать поведение клиентов и сделать вывод — какой тариф лучше.\n",
    "\n",
    "**Задачи проекта:** для достижения поставленной цели необходимо посчитать выручку с каждого пользователя по их тарифу и сравнить, какой тариф приносит большую прибыль.\n",
    "  \n",
    "**План работы:**:\n",
    "\n",
    "* Изучить общую информацию о данных;\n",
    "* Подготовить и обработать данные;\n",
    "* Проанализировать данные, посчитать характерные параметры, построить гистограммы;\n",
    "* Проверить гипотезы;\n",
    "* Сделать выводы.\n",
    "\n",
    "**Описание тарифов:**\n",
    "\n",
    "Тариф «Смарт»\n",
    "* Ежемесячная плата: 550 рублей\n",
    "* Включено 500 минут разговора, 50 сообщений и 15 Гб интернет-трафика\n",
    "* Стоимость услуг сверх тарифного пакета:\n",
    "    * минута разговора: 3 рубля\n",
    "    * сообщение: 3 рубля\n",
    "    * 1 Гб интернет-трафика: 200 рублей\n",
    "\n",
    "Тариф «Ультра»\n",
    "\n",
    "* Ежемесячная плата: 1950 рублей\n",
    "* Включено 3000 минут разговора, 1000 сообщений и 30 Гб интернет-трафика\n",
    "* Стоимость услуг сверх тарифного пакета:\n",
    "    * минута разговора: 1 рубль\n",
    "    * сообщение: 1 рубль\n",
    "    * 1 Гб интернет-трафика: 150 рублей"
   ]
  },
  {
   "cell_type": "markdown",
   "metadata": {},
   "source": [
    "## Изучение общей информации"
   ]
  },
  {
   "cell_type": "markdown",
   "metadata": {},
   "source": [
    "### Общая информация о данных"
   ]
  },
  {
   "cell_type": "markdown",
   "metadata": {},
   "source": [
    "Импортируем библиотеки, необходимые для анализа данных"
   ]
  },
  {
   "cell_type": "code",
   "execution_count": 1,
   "metadata": {},
   "outputs": [],
   "source": [
    "import pandas as pd\n",
    "import math\n",
    "import numpy as np\n",
    "import matplotlib.pyplot as plt\n",
    "import seaborn as sns\n",
    "from scipy import stats as st"
   ]
  },
  {
   "cell_type": "markdown",
   "metadata": {},
   "source": [
    "Данные для исследования хранятся в 5 файлах. Откроем файлы формата `.csv` с помощью библиотеки `pandas`. Получим общую информацию о таблице. Выведим первые 10 строк таблицы."
   ]
  },
  {
   "cell_type": "code",
   "execution_count": 2,
   "metadata": {},
   "outputs": [
    {
     "name": "stdout",
     "output_type": "stream",
     "text": [
      "<class 'pandas.core.frame.DataFrame'>\n",
      "RangeIndex: 202607 entries, 0 to 202606\n",
      "Data columns (total 4 columns):\n",
      " #   Column     Non-Null Count   Dtype         \n",
      "---  ------     --------------   -----         \n",
      " 0   id         202607 non-null  object        \n",
      " 1   call_date  202607 non-null  datetime64[ns]\n",
      " 2   duration   202607 non-null  float64       \n",
      " 3   user_id    202607 non-null  int64         \n",
      "dtypes: datetime64[ns](1), float64(1), int64(1), object(1)\n",
      "memory usage: 6.2+ MB\n"
     ]
    },
    {
     "data": {
      "text/html": [
       "<div>\n",
       "<style scoped>\n",
       "    .dataframe tbody tr th:only-of-type {\n",
       "        vertical-align: middle;\n",
       "    }\n",
       "\n",
       "    .dataframe tbody tr th {\n",
       "        vertical-align: top;\n",
       "    }\n",
       "\n",
       "    .dataframe thead th {\n",
       "        text-align: right;\n",
       "    }\n",
       "</style>\n",
       "<table border=\"1\" class=\"dataframe\">\n",
       "  <thead>\n",
       "    <tr style=\"text-align: right;\">\n",
       "      <th></th>\n",
       "      <th>id</th>\n",
       "      <th>call_date</th>\n",
       "      <th>duration</th>\n",
       "      <th>user_id</th>\n",
       "    </tr>\n",
       "  </thead>\n",
       "  <tbody>\n",
       "    <tr>\n",
       "      <th>0</th>\n",
       "      <td>1000_0</td>\n",
       "      <td>2018-07-25</td>\n",
       "      <td>0.00</td>\n",
       "      <td>1000</td>\n",
       "    </tr>\n",
       "    <tr>\n",
       "      <th>1</th>\n",
       "      <td>1000_1</td>\n",
       "      <td>2018-08-17</td>\n",
       "      <td>0.00</td>\n",
       "      <td>1000</td>\n",
       "    </tr>\n",
       "    <tr>\n",
       "      <th>2</th>\n",
       "      <td>1000_2</td>\n",
       "      <td>2018-06-11</td>\n",
       "      <td>2.85</td>\n",
       "      <td>1000</td>\n",
       "    </tr>\n",
       "    <tr>\n",
       "      <th>3</th>\n",
       "      <td>1000_3</td>\n",
       "      <td>2018-09-21</td>\n",
       "      <td>13.80</td>\n",
       "      <td>1000</td>\n",
       "    </tr>\n",
       "    <tr>\n",
       "      <th>4</th>\n",
       "      <td>1000_4</td>\n",
       "      <td>2018-12-15</td>\n",
       "      <td>5.18</td>\n",
       "      <td>1000</td>\n",
       "    </tr>\n",
       "    <tr>\n",
       "      <th>5</th>\n",
       "      <td>1000_5</td>\n",
       "      <td>2018-11-02</td>\n",
       "      <td>0.00</td>\n",
       "      <td>1000</td>\n",
       "    </tr>\n",
       "    <tr>\n",
       "      <th>6</th>\n",
       "      <td>1000_6</td>\n",
       "      <td>2018-10-18</td>\n",
       "      <td>0.00</td>\n",
       "      <td>1000</td>\n",
       "    </tr>\n",
       "    <tr>\n",
       "      <th>7</th>\n",
       "      <td>1000_7</td>\n",
       "      <td>2018-08-22</td>\n",
       "      <td>18.31</td>\n",
       "      <td>1000</td>\n",
       "    </tr>\n",
       "    <tr>\n",
       "      <th>8</th>\n",
       "      <td>1000_8</td>\n",
       "      <td>2018-09-15</td>\n",
       "      <td>18.44</td>\n",
       "      <td>1000</td>\n",
       "    </tr>\n",
       "    <tr>\n",
       "      <th>9</th>\n",
       "      <td>1000_9</td>\n",
       "      <td>2018-08-15</td>\n",
       "      <td>0.00</td>\n",
       "      <td>1000</td>\n",
       "    </tr>\n",
       "  </tbody>\n",
       "</table>\n",
       "</div>"
      ],
      "text/plain": [
       "       id  call_date  duration  user_id\n",
       "0  1000_0 2018-07-25      0.00     1000\n",
       "1  1000_1 2018-08-17      0.00     1000\n",
       "2  1000_2 2018-06-11      2.85     1000\n",
       "3  1000_3 2018-09-21     13.80     1000\n",
       "4  1000_4 2018-12-15      5.18     1000\n",
       "5  1000_5 2018-11-02      0.00     1000\n",
       "6  1000_6 2018-10-18      0.00     1000\n",
       "7  1000_7 2018-08-22     18.31     1000\n",
       "8  1000_8 2018-09-15     18.44     1000\n",
       "9  1000_9 2018-08-15      0.00     1000"
      ]
     },
     "execution_count": 2,
     "metadata": {},
     "output_type": "execute_result"
    }
   ],
   "source": [
    "calls = pd.read_csv('calls.csv', parse_dates = ['call_date'])\n",
    "calls.info()\n",
    "calls.head(10)"
   ]
  },
  {
   "cell_type": "code",
   "execution_count": 3,
   "metadata": {},
   "outputs": [
    {
     "name": "stdout",
     "output_type": "stream",
     "text": [
      "<class 'pandas.core.frame.DataFrame'>\n",
      "Int64Index: 149396 entries, 0 to 149395\n",
      "Data columns (total 4 columns):\n",
      " #   Column        Non-Null Count   Dtype         \n",
      "---  ------        --------------   -----         \n",
      " 0   id            149396 non-null  object        \n",
      " 1   mb_used       149396 non-null  float64       \n",
      " 2   session_date  149396 non-null  datetime64[ns]\n",
      " 3   user_id       149396 non-null  int64         \n",
      "dtypes: datetime64[ns](1), float64(1), int64(1), object(1)\n",
      "memory usage: 5.7+ MB\n"
     ]
    },
    {
     "data": {
      "text/html": [
       "<div>\n",
       "<style scoped>\n",
       "    .dataframe tbody tr th:only-of-type {\n",
       "        vertical-align: middle;\n",
       "    }\n",
       "\n",
       "    .dataframe tbody tr th {\n",
       "        vertical-align: top;\n",
       "    }\n",
       "\n",
       "    .dataframe thead th {\n",
       "        text-align: right;\n",
       "    }\n",
       "</style>\n",
       "<table border=\"1\" class=\"dataframe\">\n",
       "  <thead>\n",
       "    <tr style=\"text-align: right;\">\n",
       "      <th></th>\n",
       "      <th>id</th>\n",
       "      <th>mb_used</th>\n",
       "      <th>session_date</th>\n",
       "      <th>user_id</th>\n",
       "    </tr>\n",
       "  </thead>\n",
       "  <tbody>\n",
       "    <tr>\n",
       "      <th>0</th>\n",
       "      <td>1000_0</td>\n",
       "      <td>112.95</td>\n",
       "      <td>2018-11-25</td>\n",
       "      <td>1000</td>\n",
       "    </tr>\n",
       "    <tr>\n",
       "      <th>1</th>\n",
       "      <td>1000_1</td>\n",
       "      <td>1052.81</td>\n",
       "      <td>2018-09-07</td>\n",
       "      <td>1000</td>\n",
       "    </tr>\n",
       "    <tr>\n",
       "      <th>2</th>\n",
       "      <td>1000_2</td>\n",
       "      <td>1197.26</td>\n",
       "      <td>2018-06-25</td>\n",
       "      <td>1000</td>\n",
       "    </tr>\n",
       "    <tr>\n",
       "      <th>3</th>\n",
       "      <td>1000_3</td>\n",
       "      <td>550.27</td>\n",
       "      <td>2018-08-22</td>\n",
       "      <td>1000</td>\n",
       "    </tr>\n",
       "    <tr>\n",
       "      <th>4</th>\n",
       "      <td>1000_4</td>\n",
       "      <td>302.56</td>\n",
       "      <td>2018-09-24</td>\n",
       "      <td>1000</td>\n",
       "    </tr>\n",
       "    <tr>\n",
       "      <th>5</th>\n",
       "      <td>1000_5</td>\n",
       "      <td>399.97</td>\n",
       "      <td>2018-10-02</td>\n",
       "      <td>1000</td>\n",
       "    </tr>\n",
       "    <tr>\n",
       "      <th>6</th>\n",
       "      <td>1000_6</td>\n",
       "      <td>540.08</td>\n",
       "      <td>2018-09-07</td>\n",
       "      <td>1000</td>\n",
       "    </tr>\n",
       "    <tr>\n",
       "      <th>7</th>\n",
       "      <td>1000_7</td>\n",
       "      <td>415.70</td>\n",
       "      <td>2018-07-11</td>\n",
       "      <td>1000</td>\n",
       "    </tr>\n",
       "    <tr>\n",
       "      <th>8</th>\n",
       "      <td>1000_8</td>\n",
       "      <td>505.40</td>\n",
       "      <td>2018-10-08</td>\n",
       "      <td>1000</td>\n",
       "    </tr>\n",
       "    <tr>\n",
       "      <th>9</th>\n",
       "      <td>1000_9</td>\n",
       "      <td>345.54</td>\n",
       "      <td>2018-09-03</td>\n",
       "      <td>1000</td>\n",
       "    </tr>\n",
       "  </tbody>\n",
       "</table>\n",
       "</div>"
      ],
      "text/plain": [
       "       id  mb_used session_date  user_id\n",
       "0  1000_0   112.95   2018-11-25     1000\n",
       "1  1000_1  1052.81   2018-09-07     1000\n",
       "2  1000_2  1197.26   2018-06-25     1000\n",
       "3  1000_3   550.27   2018-08-22     1000\n",
       "4  1000_4   302.56   2018-09-24     1000\n",
       "5  1000_5   399.97   2018-10-02     1000\n",
       "6  1000_6   540.08   2018-09-07     1000\n",
       "7  1000_7   415.70   2018-07-11     1000\n",
       "8  1000_8   505.40   2018-10-08     1000\n",
       "9  1000_9   345.54   2018-09-03     1000"
      ]
     },
     "execution_count": 3,
     "metadata": {},
     "output_type": "execute_result"
    }
   ],
   "source": [
    "internet = pd.read_csv('internet.csv', parse_dates = ['session_date'], index_col=0) \n",
    "internet.info()\n",
    "internet.head(10)"
   ]
  },
  {
   "cell_type": "code",
   "execution_count": 4,
   "metadata": {},
   "outputs": [
    {
     "name": "stdout",
     "output_type": "stream",
     "text": [
      "<class 'pandas.core.frame.DataFrame'>\n",
      "RangeIndex: 123036 entries, 0 to 123035\n",
      "Data columns (total 3 columns):\n",
      " #   Column        Non-Null Count   Dtype         \n",
      "---  ------        --------------   -----         \n",
      " 0   id            123036 non-null  object        \n",
      " 1   message_date  123036 non-null  datetime64[ns]\n",
      " 2   user_id       123036 non-null  int64         \n",
      "dtypes: datetime64[ns](1), int64(1), object(1)\n",
      "memory usage: 2.8+ MB\n"
     ]
    },
    {
     "data": {
      "text/html": [
       "<div>\n",
       "<style scoped>\n",
       "    .dataframe tbody tr th:only-of-type {\n",
       "        vertical-align: middle;\n",
       "    }\n",
       "\n",
       "    .dataframe tbody tr th {\n",
       "        vertical-align: top;\n",
       "    }\n",
       "\n",
       "    .dataframe thead th {\n",
       "        text-align: right;\n",
       "    }\n",
       "</style>\n",
       "<table border=\"1\" class=\"dataframe\">\n",
       "  <thead>\n",
       "    <tr style=\"text-align: right;\">\n",
       "      <th></th>\n",
       "      <th>id</th>\n",
       "      <th>message_date</th>\n",
       "      <th>user_id</th>\n",
       "    </tr>\n",
       "  </thead>\n",
       "  <tbody>\n",
       "    <tr>\n",
       "      <th>0</th>\n",
       "      <td>1000_0</td>\n",
       "      <td>2018-06-27</td>\n",
       "      <td>1000</td>\n",
       "    </tr>\n",
       "    <tr>\n",
       "      <th>1</th>\n",
       "      <td>1000_1</td>\n",
       "      <td>2018-10-08</td>\n",
       "      <td>1000</td>\n",
       "    </tr>\n",
       "    <tr>\n",
       "      <th>2</th>\n",
       "      <td>1000_2</td>\n",
       "      <td>2018-08-04</td>\n",
       "      <td>1000</td>\n",
       "    </tr>\n",
       "    <tr>\n",
       "      <th>3</th>\n",
       "      <td>1000_3</td>\n",
       "      <td>2018-06-16</td>\n",
       "      <td>1000</td>\n",
       "    </tr>\n",
       "    <tr>\n",
       "      <th>4</th>\n",
       "      <td>1000_4</td>\n",
       "      <td>2018-12-05</td>\n",
       "      <td>1000</td>\n",
       "    </tr>\n",
       "    <tr>\n",
       "      <th>5</th>\n",
       "      <td>1000_5</td>\n",
       "      <td>2018-06-20</td>\n",
       "      <td>1000</td>\n",
       "    </tr>\n",
       "    <tr>\n",
       "      <th>6</th>\n",
       "      <td>1000_6</td>\n",
       "      <td>2018-11-19</td>\n",
       "      <td>1000</td>\n",
       "    </tr>\n",
       "    <tr>\n",
       "      <th>7</th>\n",
       "      <td>1000_7</td>\n",
       "      <td>2018-10-29</td>\n",
       "      <td>1000</td>\n",
       "    </tr>\n",
       "    <tr>\n",
       "      <th>8</th>\n",
       "      <td>1000_8</td>\n",
       "      <td>2018-06-25</td>\n",
       "      <td>1000</td>\n",
       "    </tr>\n",
       "    <tr>\n",
       "      <th>9</th>\n",
       "      <td>1000_9</td>\n",
       "      <td>2018-12-18</td>\n",
       "      <td>1000</td>\n",
       "    </tr>\n",
       "  </tbody>\n",
       "</table>\n",
       "</div>"
      ],
      "text/plain": [
       "       id message_date  user_id\n",
       "0  1000_0   2018-06-27     1000\n",
       "1  1000_1   2018-10-08     1000\n",
       "2  1000_2   2018-08-04     1000\n",
       "3  1000_3   2018-06-16     1000\n",
       "4  1000_4   2018-12-05     1000\n",
       "5  1000_5   2018-06-20     1000\n",
       "6  1000_6   2018-11-19     1000\n",
       "7  1000_7   2018-10-29     1000\n",
       "8  1000_8   2018-06-25     1000\n",
       "9  1000_9   2018-12-18     1000"
      ]
     },
     "execution_count": 4,
     "metadata": {},
     "output_type": "execute_result"
    }
   ],
   "source": [
    "messages = pd.read_csv('messages.csv', parse_dates = ['message_date'])\n",
    "messages.info()\n",
    "messages.head(10)"
   ]
  },
  {
   "cell_type": "code",
   "execution_count": 5,
   "metadata": {},
   "outputs": [
    {
     "name": "stdout",
     "output_type": "stream",
     "text": [
      "<class 'pandas.core.frame.DataFrame'>\n",
      "RangeIndex: 2 entries, 0 to 1\n",
      "Data columns (total 8 columns):\n",
      " #   Column                 Non-Null Count  Dtype \n",
      "---  ------                 --------------  ----- \n",
      " 0   messages_included      2 non-null      int64 \n",
      " 1   mb_per_month_included  2 non-null      int64 \n",
      " 2   minutes_included       2 non-null      int64 \n",
      " 3   rub_monthly_fee        2 non-null      int64 \n",
      " 4   rub_per_gb             2 non-null      int64 \n",
      " 5   rub_per_message        2 non-null      int64 \n",
      " 6   rub_per_minute         2 non-null      int64 \n",
      " 7   tariff_name            2 non-null      object\n",
      "dtypes: int64(7), object(1)\n",
      "memory usage: 256.0+ bytes\n"
     ]
    },
    {
     "data": {
      "text/html": [
       "<div>\n",
       "<style scoped>\n",
       "    .dataframe tbody tr th:only-of-type {\n",
       "        vertical-align: middle;\n",
       "    }\n",
       "\n",
       "    .dataframe tbody tr th {\n",
       "        vertical-align: top;\n",
       "    }\n",
       "\n",
       "    .dataframe thead th {\n",
       "        text-align: right;\n",
       "    }\n",
       "</style>\n",
       "<table border=\"1\" class=\"dataframe\">\n",
       "  <thead>\n",
       "    <tr style=\"text-align: right;\">\n",
       "      <th></th>\n",
       "      <th>messages_included</th>\n",
       "      <th>mb_per_month_included</th>\n",
       "      <th>minutes_included</th>\n",
       "      <th>rub_monthly_fee</th>\n",
       "      <th>rub_per_gb</th>\n",
       "      <th>rub_per_message</th>\n",
       "      <th>rub_per_minute</th>\n",
       "      <th>tariff_name</th>\n",
       "    </tr>\n",
       "  </thead>\n",
       "  <tbody>\n",
       "    <tr>\n",
       "      <th>0</th>\n",
       "      <td>50</td>\n",
       "      <td>15360</td>\n",
       "      <td>500</td>\n",
       "      <td>550</td>\n",
       "      <td>200</td>\n",
       "      <td>3</td>\n",
       "      <td>3</td>\n",
       "      <td>smart</td>\n",
       "    </tr>\n",
       "    <tr>\n",
       "      <th>1</th>\n",
       "      <td>1000</td>\n",
       "      <td>30720</td>\n",
       "      <td>3000</td>\n",
       "      <td>1950</td>\n",
       "      <td>150</td>\n",
       "      <td>1</td>\n",
       "      <td>1</td>\n",
       "      <td>ultra</td>\n",
       "    </tr>\n",
       "  </tbody>\n",
       "</table>\n",
       "</div>"
      ],
      "text/plain": [
       "   messages_included  mb_per_month_included  minutes_included  \\\n",
       "0                 50                  15360               500   \n",
       "1               1000                  30720              3000   \n",
       "\n",
       "   rub_monthly_fee  rub_per_gb  rub_per_message  rub_per_minute tariff_name  \n",
       "0              550         200                3               3       smart  \n",
       "1             1950         150                1               1       ultra  "
      ]
     },
     "execution_count": 5,
     "metadata": {},
     "output_type": "execute_result"
    }
   ],
   "source": [
    "tariffs = pd.read_csv('tariffs.csv') \n",
    "tariffs.info()\n",
    "tariffs.head(10)"
   ]
  },
  {
   "cell_type": "code",
   "execution_count": 6,
   "metadata": {},
   "outputs": [
    {
     "name": "stdout",
     "output_type": "stream",
     "text": [
      "<class 'pandas.core.frame.DataFrame'>\n",
      "RangeIndex: 500 entries, 0 to 499\n",
      "Data columns (total 8 columns):\n",
      " #   Column      Non-Null Count  Dtype         \n",
      "---  ------      --------------  -----         \n",
      " 0   user_id     500 non-null    int64         \n",
      " 1   age         500 non-null    int64         \n",
      " 2   churn_date  38 non-null     datetime64[ns]\n",
      " 3   city        500 non-null    object        \n",
      " 4   first_name  500 non-null    object        \n",
      " 5   last_name   500 non-null    object        \n",
      " 6   reg_date    500 non-null    datetime64[ns]\n",
      " 7   tariff      500 non-null    object        \n",
      "dtypes: datetime64[ns](2), int64(2), object(4)\n",
      "memory usage: 31.4+ KB\n"
     ]
    },
    {
     "data": {
      "text/html": [
       "<div>\n",
       "<style scoped>\n",
       "    .dataframe tbody tr th:only-of-type {\n",
       "        vertical-align: middle;\n",
       "    }\n",
       "\n",
       "    .dataframe tbody tr th {\n",
       "        vertical-align: top;\n",
       "    }\n",
       "\n",
       "    .dataframe thead th {\n",
       "        text-align: right;\n",
       "    }\n",
       "</style>\n",
       "<table border=\"1\" class=\"dataframe\">\n",
       "  <thead>\n",
       "    <tr style=\"text-align: right;\">\n",
       "      <th></th>\n",
       "      <th>user_id</th>\n",
       "      <th>age</th>\n",
       "      <th>churn_date</th>\n",
       "      <th>city</th>\n",
       "      <th>first_name</th>\n",
       "      <th>last_name</th>\n",
       "      <th>reg_date</th>\n",
       "      <th>tariff</th>\n",
       "    </tr>\n",
       "  </thead>\n",
       "  <tbody>\n",
       "    <tr>\n",
       "      <th>0</th>\n",
       "      <td>1000</td>\n",
       "      <td>52</td>\n",
       "      <td>NaT</td>\n",
       "      <td>Краснодар</td>\n",
       "      <td>Рафаил</td>\n",
       "      <td>Верещагин</td>\n",
       "      <td>2018-05-25</td>\n",
       "      <td>ultra</td>\n",
       "    </tr>\n",
       "    <tr>\n",
       "      <th>1</th>\n",
       "      <td>1001</td>\n",
       "      <td>41</td>\n",
       "      <td>NaT</td>\n",
       "      <td>Москва</td>\n",
       "      <td>Иван</td>\n",
       "      <td>Ежов</td>\n",
       "      <td>2018-11-01</td>\n",
       "      <td>smart</td>\n",
       "    </tr>\n",
       "    <tr>\n",
       "      <th>2</th>\n",
       "      <td>1002</td>\n",
       "      <td>59</td>\n",
       "      <td>NaT</td>\n",
       "      <td>Стерлитамак</td>\n",
       "      <td>Евгений</td>\n",
       "      <td>Абрамович</td>\n",
       "      <td>2018-06-17</td>\n",
       "      <td>smart</td>\n",
       "    </tr>\n",
       "    <tr>\n",
       "      <th>3</th>\n",
       "      <td>1003</td>\n",
       "      <td>23</td>\n",
       "      <td>NaT</td>\n",
       "      <td>Москва</td>\n",
       "      <td>Белла</td>\n",
       "      <td>Белякова</td>\n",
       "      <td>2018-08-17</td>\n",
       "      <td>ultra</td>\n",
       "    </tr>\n",
       "    <tr>\n",
       "      <th>4</th>\n",
       "      <td>1004</td>\n",
       "      <td>68</td>\n",
       "      <td>NaT</td>\n",
       "      <td>Новокузнецк</td>\n",
       "      <td>Татьяна</td>\n",
       "      <td>Авдеенко</td>\n",
       "      <td>2018-05-14</td>\n",
       "      <td>ultra</td>\n",
       "    </tr>\n",
       "    <tr>\n",
       "      <th>5</th>\n",
       "      <td>1005</td>\n",
       "      <td>67</td>\n",
       "      <td>NaT</td>\n",
       "      <td>Набережные Челны</td>\n",
       "      <td>Афанасий</td>\n",
       "      <td>Горлов</td>\n",
       "      <td>2018-01-25</td>\n",
       "      <td>smart</td>\n",
       "    </tr>\n",
       "    <tr>\n",
       "      <th>6</th>\n",
       "      <td>1006</td>\n",
       "      <td>21</td>\n",
       "      <td>NaT</td>\n",
       "      <td>Ульяновск</td>\n",
       "      <td>Леонид</td>\n",
       "      <td>Ермолаев</td>\n",
       "      <td>2018-02-26</td>\n",
       "      <td>smart</td>\n",
       "    </tr>\n",
       "    <tr>\n",
       "      <th>7</th>\n",
       "      <td>1007</td>\n",
       "      <td>65</td>\n",
       "      <td>NaT</td>\n",
       "      <td>Москва</td>\n",
       "      <td>Юна</td>\n",
       "      <td>Березина</td>\n",
       "      <td>2018-04-19</td>\n",
       "      <td>smart</td>\n",
       "    </tr>\n",
       "    <tr>\n",
       "      <th>8</th>\n",
       "      <td>1008</td>\n",
       "      <td>63</td>\n",
       "      <td>NaT</td>\n",
       "      <td>Челябинск</td>\n",
       "      <td>Рустэм</td>\n",
       "      <td>Пономарёв</td>\n",
       "      <td>2018-12-19</td>\n",
       "      <td>smart</td>\n",
       "    </tr>\n",
       "    <tr>\n",
       "      <th>9</th>\n",
       "      <td>1009</td>\n",
       "      <td>24</td>\n",
       "      <td>NaT</td>\n",
       "      <td>Пермь</td>\n",
       "      <td>Василиса</td>\n",
       "      <td>Блинова</td>\n",
       "      <td>2018-03-22</td>\n",
       "      <td>smart</td>\n",
       "    </tr>\n",
       "  </tbody>\n",
       "</table>\n",
       "</div>"
      ],
      "text/plain": [
       "   user_id  age churn_date              city first_name  last_name   reg_date  \\\n",
       "0     1000   52        NaT         Краснодар     Рафаил  Верещагин 2018-05-25   \n",
       "1     1001   41        NaT            Москва       Иван       Ежов 2018-11-01   \n",
       "2     1002   59        NaT       Стерлитамак    Евгений  Абрамович 2018-06-17   \n",
       "3     1003   23        NaT            Москва      Белла   Белякова 2018-08-17   \n",
       "4     1004   68        NaT       Новокузнецк    Татьяна   Авдеенко 2018-05-14   \n",
       "5     1005   67        NaT  Набережные Челны   Афанасий     Горлов 2018-01-25   \n",
       "6     1006   21        NaT         Ульяновск     Леонид   Ермолаев 2018-02-26   \n",
       "7     1007   65        NaT            Москва        Юна   Березина 2018-04-19   \n",
       "8     1008   63        NaT         Челябинск     Рустэм  Пономарёв 2018-12-19   \n",
       "9     1009   24        NaT             Пермь   Василиса    Блинова 2018-03-22   \n",
       "\n",
       "  tariff  \n",
       "0  ultra  \n",
       "1  smart  \n",
       "2  smart  \n",
       "3  ultra  \n",
       "4  ultra  \n",
       "5  smart  \n",
       "6  smart  \n",
       "7  smart  \n",
       "8  smart  \n",
       "9  smart  "
      ]
     },
     "execution_count": 6,
     "metadata": {},
     "output_type": "execute_result"
    }
   ],
   "source": [
    "users = pd.read_csv('users.csv', parse_dates = ['reg_date', 'churn_date']) \n",
    "users.info()\n",
    "users.head(10)"
   ]
  },
  {
   "cell_type": "markdown",
   "metadata": {},
   "source": [
    "Проверим уникальность ключей `user_id` в таблицах"
   ]
  },
  {
   "cell_type": "code",
   "execution_count": 7,
   "metadata": {},
   "outputs": [
    {
     "name": "stdout",
     "output_type": "stream",
     "text": [
      "1000    1\n",
      "1329    1\n",
      "1342    1\n",
      "1341    1\n",
      "1340    1\n",
      "       ..\n",
      "1161    1\n",
      "1160    1\n",
      "1159    1\n",
      "1158    1\n",
      "1499    1\n",
      "Name: user_id, Length: 500, dtype: int64\n",
      "1277    1463\n",
      "1089    1408\n",
      "1231    1384\n",
      "1385    1380\n",
      "1356    1224\n",
      "        ... \n",
      "1389       6\n",
      "1279       5\n",
      "1074       3\n",
      "1159       2\n",
      "1141       1\n",
      "Name: user_id, Length: 426, dtype: int64\n",
      "1496    834\n",
      "1227    812\n",
      "1204    789\n",
      "1240    764\n",
      "1251    759\n",
      "       ... \n",
      "1151     35\n",
      "1467     27\n",
      "1343     26\n",
      "1192     22\n",
      "1399      8\n",
      "Name: user_id, Length: 497, dtype: int64\n"
     ]
    },
    {
     "data": {
      "text/plain": [
       "1377    1760\n",
       "1168    1692\n",
       "1375    1560\n",
       "1453    1440\n",
       "1196    1240\n",
       "        ... \n",
       "1397      33\n",
       "1442      28\n",
       "1373      24\n",
       "1016      20\n",
       "1257      14\n",
       "Name: user_id, Length: 492, dtype: int64"
      ]
     },
     "execution_count": 7,
     "metadata": {},
     "output_type": "execute_result"
    }
   ],
   "source": [
    "print(users['user_id'].value_counts())\n",
    "print(messages['user_id'].value_counts())\n",
    "print(internet['user_id'].value_counts())\n",
    "calls['user_id'].value_counts()"
   ]
  },
  {
   "cell_type": "markdown",
   "metadata": {},
   "source": [
    "Типы данных в столбцах разные — `object`, `int`, `float`. В таблицах `users`, `calls`, `messages`, `internet` есть столбец с датой, которая записана как `object`. Чтобы сразу поменять на более удобный формат `datetime`, зададим параметр `parse_dates` при отркытии файлов.\n",
    "\n",
    "Согласно документации к данным:\n",
    "\n",
    "Таблица `users` (информация о пользователях):\n",
    "\n",
    "* `user_id` — уникальный идентификатор пользователя\n",
    "* `first_name` — имя пользователя\n",
    "* `last_name` — фамилия пользователя\n",
    "* `age` — возраст пользователя (годы)\n",
    "* `reg_date` — дата подключения тарифа (день, месяц, год)\n",
    "* `churn_date` — дата прекращения пользования тарифом (если значение пропущено, то тариф ещё действовал на момент выгрузки данных)\n",
    "* `city` — город проживания пользователя\n",
    "* `tariff` — название тарифного плана\n",
    "\n",
    "Таблица `calls` (информация о звонках):\n",
    "\n",
    "* `id` — уникальный номер звонка\n",
    "* `call_date` — дата звонка\n",
    "* `duration` — длительность звонка в минутах\n",
    "* `user_id` — идентификатор пользователя, сделавшего звонок\n",
    "\n",
    "Таблица `messages` (информация о сообщениях):\n",
    "\n",
    "* `id` — уникальный номер сообщения\n",
    "* `message_date` — дата сообщения\n",
    "* `user_id` — идентификатор пользователя, отправившего сообщение\n",
    "\n",
    "Таблица `internet` (информация об интернет-сессиях):\n",
    "\n",
    "* `id` — уникальный номер сессии\n",
    "* `mb_used` — объём потраченного за сессию интернет-трафика (в мегабайтах)\n",
    "* `session_date` — дата интернет-сессии\n",
    "* `user_id` — идентификатор пользователя\n",
    "\n",
    "Таблица `tariffs` (информация о тарифах):\n",
    "\n",
    "* `tariff_name` — название тарифа\n",
    "* `rub_monthly_fee` — ежемесячная абонентская плата в рублях\n",
    "* `minutes_included` — количество минут разговора в месяц, включённых в абонентскую плату\n",
    "* `messages_included` — количество сообщений в месяц, включённых в абонентскую плату\n",
    "* `mb_per_month_included` — объём интернет-трафика, включённого в абонентскую плату (в мегабайтах)\n",
    "* `rub_per_minute` — стоимость минуты разговора сверх тарифного пакета (например, если в тарифе 100 минут разговора в месяц, то со 101 минуты будет взиматься плата)\n",
    "* `rub_per_message` — стоимость отправки сообщения сверх тарифного пакета\n",
    "* `rub_per_gb` — стоимость дополнительного гигабайта интернет-трафика сверх тарифного пакета (1 гигабайт = 1024 мегабайта)"
   ]
  },
  {
   "cell_type": "markdown",
   "metadata": {},
   "source": [
    "### Вывод"
   ]
  },
  {
   "cell_type": "markdown",
   "metadata": {},
   "source": [
    "В таблицах были обнаружены следующие данные: информация о пользователях, информация о звонках, информация о сообщениях, информация об интернет-сессиях, информация о тарифах. В данных пропуски встречаются в таблице `users` (информация о пользователях) в столбце `churn_date`, их оставим без изменения исходя из данных документации (если значение пропущено, то тариф ещё действовал на момент выгрузки данных). \n",
    "\n",
    "Возможные аномалии устраним на следующем шаге."
   ]
  },
  {
   "cell_type": "markdown",
   "metadata": {},
   "source": [
    "## Предобработка и подготовка данных"
   ]
  },
  {
   "cell_type": "markdown",
   "metadata": {},
   "source": [
    "### Предобработка данных в таблице `users`"
   ]
  },
  {
   "cell_type": "markdown",
   "metadata": {},
   "source": [
    "Проверим данные в таблице `users`. Создадим функцию `describe_cols`, которая выведит список уникальных значений и их количество в каждом столбце и применим для таблицы `users`."
   ]
  },
  {
   "cell_type": "code",
   "execution_count": 8,
   "metadata": {},
   "outputs": [
    {
     "data": {
      "text/html": [
       "<div>\n",
       "<style scoped>\n",
       "    .dataframe tbody tr th:only-of-type {\n",
       "        vertical-align: middle;\n",
       "    }\n",
       "\n",
       "    .dataframe tbody tr th {\n",
       "        vertical-align: top;\n",
       "    }\n",
       "\n",
       "    .dataframe thead th {\n",
       "        text-align: right;\n",
       "    }\n",
       "</style>\n",
       "<table border=\"1\" class=\"dataframe\">\n",
       "  <thead>\n",
       "    <tr style=\"text-align: right;\">\n",
       "      <th></th>\n",
       "      <th>Значения</th>\n",
       "      <th>Количество уникальных значений</th>\n",
       "    </tr>\n",
       "  </thead>\n",
       "  <tbody>\n",
       "    <tr>\n",
       "      <th>tariff</th>\n",
       "      <td>[ultra, smart]</td>\n",
       "      <td>2</td>\n",
       "    </tr>\n",
       "    <tr>\n",
       "      <th>churn_date</th>\n",
       "      <td>[NaT, 2018-10-05T00:00:00.000000000, 2018-12-1...</td>\n",
       "      <td>33</td>\n",
       "    </tr>\n",
       "    <tr>\n",
       "      <th>age</th>\n",
       "      <td>[52, 41, 59, 23, 68, 67, 21, 65, 63, 24, 26, 4...</td>\n",
       "      <td>58</td>\n",
       "    </tr>\n",
       "    <tr>\n",
       "      <th>city</th>\n",
       "      <td>[Краснодар, Москва, Стерлитамак, Новокузнецк, ...</td>\n",
       "      <td>76</td>\n",
       "    </tr>\n",
       "    <tr>\n",
       "      <th>first_name</th>\n",
       "      <td>[Рафаил, Иван, Евгений, Белла, Татьяна, Афанас...</td>\n",
       "      <td>246</td>\n",
       "    </tr>\n",
       "    <tr>\n",
       "      <th>reg_date</th>\n",
       "      <td>[2018-05-25T00:00:00.000000000, 2018-11-01T00:...</td>\n",
       "      <td>270</td>\n",
       "    </tr>\n",
       "    <tr>\n",
       "      <th>last_name</th>\n",
       "      <td>[Верещагин, Ежов, Абрамович, Белякова, Авдеенк...</td>\n",
       "      <td>419</td>\n",
       "    </tr>\n",
       "    <tr>\n",
       "      <th>user_id</th>\n",
       "      <td>[1000, 1001, 1002, 1003, 1004, 1005, 1006, 100...</td>\n",
       "      <td>500</td>\n",
       "    </tr>\n",
       "  </tbody>\n",
       "</table>\n",
       "</div>"
      ],
      "text/plain": [
       "                                                     Значения  \\\n",
       "tariff                                         [ultra, smart]   \n",
       "churn_date  [NaT, 2018-10-05T00:00:00.000000000, 2018-12-1...   \n",
       "age         [52, 41, 59, 23, 68, 67, 21, 65, 63, 24, 26, 4...   \n",
       "city        [Краснодар, Москва, Стерлитамак, Новокузнецк, ...   \n",
       "first_name  [Рафаил, Иван, Евгений, Белла, Татьяна, Афанас...   \n",
       "reg_date    [2018-05-25T00:00:00.000000000, 2018-11-01T00:...   \n",
       "last_name   [Верещагин, Ежов, Абрамович, Белякова, Авдеенк...   \n",
       "user_id     [1000, 1001, 1002, 1003, 1004, 1005, 1006, 100...   \n",
       "\n",
       "           Количество уникальных значений  \n",
       "tariff                                  2  \n",
       "churn_date                             33  \n",
       "age                                    58  \n",
       "city                                   76  \n",
       "first_name                            246  \n",
       "reg_date                              270  \n",
       "last_name                             419  \n",
       "user_id                               500  "
      ]
     },
     "execution_count": 8,
     "metadata": {},
     "output_type": "execute_result"
    }
   ],
   "source": [
    "# функция для вывода списка и количества уникальных значений в таблице\n",
    "def describe_cols(df):\n",
    "    values = pd.DataFrame()\n",
    "    for col in df.columns:\n",
    "        values[col] = [df[col].unique(),df[col].nunique()]\n",
    "    return values.transpose().sort_values(by = 1, ascending = True).rename({0: 'Значения', 1: 'Количество уникальных значений'}, axis = 1)\n",
    "describe_cols(users) # применение функции для таблицы users"
   ]
  },
  {
   "cell_type": "markdown",
   "metadata": {},
   "source": [
    "Выведим список характерных значений для каждого столбца."
   ]
  },
  {
   "cell_type": "code",
   "execution_count": 9,
   "metadata": {},
   "outputs": [
    {
     "data": {
      "text/html": [
       "<div>\n",
       "<style scoped>\n",
       "    .dataframe tbody tr th:only-of-type {\n",
       "        vertical-align: middle;\n",
       "    }\n",
       "\n",
       "    .dataframe tbody tr th {\n",
       "        vertical-align: top;\n",
       "    }\n",
       "\n",
       "    .dataframe thead th {\n",
       "        text-align: right;\n",
       "    }\n",
       "</style>\n",
       "<table border=\"1\" class=\"dataframe\">\n",
       "  <thead>\n",
       "    <tr style=\"text-align: right;\">\n",
       "      <th></th>\n",
       "      <th>user_id</th>\n",
       "      <th>age</th>\n",
       "    </tr>\n",
       "  </thead>\n",
       "  <tbody>\n",
       "    <tr>\n",
       "      <th>count</th>\n",
       "      <td>500.000000</td>\n",
       "      <td>500.00000</td>\n",
       "    </tr>\n",
       "    <tr>\n",
       "      <th>mean</th>\n",
       "      <td>1249.500000</td>\n",
       "      <td>46.58800</td>\n",
       "    </tr>\n",
       "    <tr>\n",
       "      <th>std</th>\n",
       "      <td>144.481833</td>\n",
       "      <td>16.66763</td>\n",
       "    </tr>\n",
       "    <tr>\n",
       "      <th>min</th>\n",
       "      <td>1000.000000</td>\n",
       "      <td>18.00000</td>\n",
       "    </tr>\n",
       "    <tr>\n",
       "      <th>25%</th>\n",
       "      <td>1124.750000</td>\n",
       "      <td>32.00000</td>\n",
       "    </tr>\n",
       "    <tr>\n",
       "      <th>50%</th>\n",
       "      <td>1249.500000</td>\n",
       "      <td>46.00000</td>\n",
       "    </tr>\n",
       "    <tr>\n",
       "      <th>75%</th>\n",
       "      <td>1374.250000</td>\n",
       "      <td>62.00000</td>\n",
       "    </tr>\n",
       "    <tr>\n",
       "      <th>max</th>\n",
       "      <td>1499.000000</td>\n",
       "      <td>75.00000</td>\n",
       "    </tr>\n",
       "  </tbody>\n",
       "</table>\n",
       "</div>"
      ],
      "text/plain": [
       "           user_id        age\n",
       "count   500.000000  500.00000\n",
       "mean   1249.500000   46.58800\n",
       "std     144.481833   16.66763\n",
       "min    1000.000000   18.00000\n",
       "25%    1124.750000   32.00000\n",
       "50%    1249.500000   46.00000\n",
       "75%    1374.250000   62.00000\n",
       "max    1499.000000   75.00000"
      ]
     },
     "execution_count": 9,
     "metadata": {},
     "output_type": "execute_result"
    }
   ],
   "source": [
    "users.describe() # список характерных значений"
   ]
  },
  {
   "cell_type": "markdown",
   "metadata": {},
   "source": [
    "Проверим наличие явных дубликатов в данных."
   ]
  },
  {
   "cell_type": "code",
   "execution_count": 10,
   "metadata": {},
   "outputs": [
    {
     "data": {
      "text/plain": [
       "0"
      ]
     },
     "execution_count": 10,
     "metadata": {},
     "output_type": "execute_result"
    }
   ],
   "source": [
    "calls.duplicated().sum() # всего явных дубликатов"
   ]
  },
  {
   "cell_type": "markdown",
   "metadata": {},
   "source": [
    "Явных дубликатов в данных нет."
   ]
  },
  {
   "cell_type": "markdown",
   "metadata": {},
   "source": [
    "### Предобработка данных в таблице `calls`"
   ]
  },
  {
   "cell_type": "markdown",
   "metadata": {},
   "source": [
    "Проверим данные в таблице `calls`. Применим функцию `describe_cols` для таблицы `calls`."
   ]
  },
  {
   "cell_type": "code",
   "execution_count": 11,
   "metadata": {},
   "outputs": [
    {
     "data": {
      "text/html": [
       "<div>\n",
       "<style scoped>\n",
       "    .dataframe tbody tr th:only-of-type {\n",
       "        vertical-align: middle;\n",
       "    }\n",
       "\n",
       "    .dataframe tbody tr th {\n",
       "        vertical-align: top;\n",
       "    }\n",
       "\n",
       "    .dataframe thead th {\n",
       "        text-align: right;\n",
       "    }\n",
       "</style>\n",
       "<table border=\"1\" class=\"dataframe\">\n",
       "  <thead>\n",
       "    <tr style=\"text-align: right;\">\n",
       "      <th></th>\n",
       "      <th>Значения</th>\n",
       "      <th>Количество уникальных значений</th>\n",
       "    </tr>\n",
       "  </thead>\n",
       "  <tbody>\n",
       "    <tr>\n",
       "      <th>call_date</th>\n",
       "      <td>[2018-07-25T00:00:00.000000000, 2018-08-17T00:...</td>\n",
       "      <td>365</td>\n",
       "    </tr>\n",
       "    <tr>\n",
       "      <th>user_id</th>\n",
       "      <td>[1000, 1001, 1002, 1003, 1004, 1005, 1006, 100...</td>\n",
       "      <td>492</td>\n",
       "    </tr>\n",
       "    <tr>\n",
       "      <th>duration</th>\n",
       "      <td>[0.0, 2.85, 13.8, 5.18, 18.31, 18.44, 5.03, 18...</td>\n",
       "      <td>2871</td>\n",
       "    </tr>\n",
       "    <tr>\n",
       "      <th>id</th>\n",
       "      <td>[1000_0, 1000_1, 1000_2, 1000_3, 1000_4, 1000_...</td>\n",
       "      <td>202607</td>\n",
       "    </tr>\n",
       "  </tbody>\n",
       "</table>\n",
       "</div>"
      ],
      "text/plain": [
       "                                                    Значения  \\\n",
       "call_date  [2018-07-25T00:00:00.000000000, 2018-08-17T00:...   \n",
       "user_id    [1000, 1001, 1002, 1003, 1004, 1005, 1006, 100...   \n",
       "duration   [0.0, 2.85, 13.8, 5.18, 18.31, 18.44, 5.03, 18...   \n",
       "id         [1000_0, 1000_1, 1000_2, 1000_3, 1000_4, 1000_...   \n",
       "\n",
       "          Количество уникальных значений  \n",
       "call_date                            365  \n",
       "user_id                              492  \n",
       "duration                            2871  \n",
       "id                                202607  "
      ]
     },
     "execution_count": 11,
     "metadata": {},
     "output_type": "execute_result"
    }
   ],
   "source": [
    "describe_cols(calls) # применение функции"
   ]
  },
  {
   "cell_type": "markdown",
   "metadata": {},
   "source": [
    "Выведим список уникальных значений в столбце `duration`."
   ]
  },
  {
   "cell_type": "code",
   "execution_count": 12,
   "metadata": {},
   "outputs": [
    {
     "data": {
      "text/plain": [
       "0.00     39613\n",
       "4.49       142\n",
       "5.50       142\n",
       "6.15       141\n",
       "6.38       141\n",
       "         ...  \n",
       "26.94        1\n",
       "32.19        1\n",
       "26.32        1\n",
       "27.41        1\n",
       "26.90        1\n",
       "Name: duration, Length: 2871, dtype: int64"
      ]
     },
     "execution_count": 12,
     "metadata": {},
     "output_type": "execute_result"
    }
   ],
   "source": [
    "calls['duration'].value_counts() # количество уникальных значений в столбце "
   ]
  },
  {
   "cell_type": "markdown",
   "metadata": {},
   "source": [
    "В столбце `duration` есть звонки с нулевой продолжительностью. Это не ошибка: нулями обозначены пропущенные звонки, поэтому их не нужно удалять.\n",
    "\n",
    "Выведим список характерных значений для каждого столбца."
   ]
  },
  {
   "cell_type": "code",
   "execution_count": 13,
   "metadata": {},
   "outputs": [
    {
     "data": {
      "text/html": [
       "<div>\n",
       "<style scoped>\n",
       "    .dataframe tbody tr th:only-of-type {\n",
       "        vertical-align: middle;\n",
       "    }\n",
       "\n",
       "    .dataframe tbody tr th {\n",
       "        vertical-align: top;\n",
       "    }\n",
       "\n",
       "    .dataframe thead th {\n",
       "        text-align: right;\n",
       "    }\n",
       "</style>\n",
       "<table border=\"1\" class=\"dataframe\">\n",
       "  <thead>\n",
       "    <tr style=\"text-align: right;\">\n",
       "      <th></th>\n",
       "      <th>duration</th>\n",
       "      <th>user_id</th>\n",
       "    </tr>\n",
       "  </thead>\n",
       "  <tbody>\n",
       "    <tr>\n",
       "      <th>count</th>\n",
       "      <td>202607.000000</td>\n",
       "      <td>202607.000000</td>\n",
       "    </tr>\n",
       "    <tr>\n",
       "      <th>mean</th>\n",
       "      <td>6.755887</td>\n",
       "      <td>1253.940619</td>\n",
       "    </tr>\n",
       "    <tr>\n",
       "      <th>std</th>\n",
       "      <td>5.843365</td>\n",
       "      <td>144.722751</td>\n",
       "    </tr>\n",
       "    <tr>\n",
       "      <th>min</th>\n",
       "      <td>0.000000</td>\n",
       "      <td>1000.000000</td>\n",
       "    </tr>\n",
       "    <tr>\n",
       "      <th>25%</th>\n",
       "      <td>1.300000</td>\n",
       "      <td>1126.000000</td>\n",
       "    </tr>\n",
       "    <tr>\n",
       "      <th>50%</th>\n",
       "      <td>6.000000</td>\n",
       "      <td>1260.000000</td>\n",
       "    </tr>\n",
       "    <tr>\n",
       "      <th>75%</th>\n",
       "      <td>10.700000</td>\n",
       "      <td>1379.000000</td>\n",
       "    </tr>\n",
       "    <tr>\n",
       "      <th>max</th>\n",
       "      <td>38.000000</td>\n",
       "      <td>1499.000000</td>\n",
       "    </tr>\n",
       "  </tbody>\n",
       "</table>\n",
       "</div>"
      ],
      "text/plain": [
       "            duration        user_id\n",
       "count  202607.000000  202607.000000\n",
       "mean        6.755887    1253.940619\n",
       "std         5.843365     144.722751\n",
       "min         0.000000    1000.000000\n",
       "25%         1.300000    1126.000000\n",
       "50%         6.000000    1260.000000\n",
       "75%        10.700000    1379.000000\n",
       "max        38.000000    1499.000000"
      ]
     },
     "execution_count": 13,
     "metadata": {},
     "output_type": "execute_result"
    }
   ],
   "source": [
    "calls.describe() # список характерных значений"
   ]
  },
  {
   "cell_type": "markdown",
   "metadata": {},
   "source": [
    "Проверим наличие явных дубликатов в данных."
   ]
  },
  {
   "cell_type": "code",
   "execution_count": 14,
   "metadata": {},
   "outputs": [
    {
     "data": {
      "text/plain": [
       "0"
      ]
     },
     "execution_count": 14,
     "metadata": {},
     "output_type": "execute_result"
    }
   ],
   "source": [
    "calls.duplicated().sum() # всего явных дубликатов"
   ]
  },
  {
   "cell_type": "markdown",
   "metadata": {},
   "source": [
    "Явных дубликатов в данных нет."
   ]
  },
  {
   "cell_type": "markdown",
   "metadata": {},
   "source": [
    "### Предобработка данных в таблице `messages`"
   ]
  },
  {
   "cell_type": "markdown",
   "metadata": {},
   "source": [
    "Проверим данные в таблице `messages`. Применим функцию `describe_cols` для таблицы `messages`."
   ]
  },
  {
   "cell_type": "code",
   "execution_count": 15,
   "metadata": {},
   "outputs": [
    {
     "data": {
      "text/html": [
       "<div>\n",
       "<style scoped>\n",
       "    .dataframe tbody tr th:only-of-type {\n",
       "        vertical-align: middle;\n",
       "    }\n",
       "\n",
       "    .dataframe tbody tr th {\n",
       "        vertical-align: top;\n",
       "    }\n",
       "\n",
       "    .dataframe thead th {\n",
       "        text-align: right;\n",
       "    }\n",
       "</style>\n",
       "<table border=\"1\" class=\"dataframe\">\n",
       "  <thead>\n",
       "    <tr style=\"text-align: right;\">\n",
       "      <th></th>\n",
       "      <th>Значения</th>\n",
       "      <th>Количество уникальных значений</th>\n",
       "    </tr>\n",
       "  </thead>\n",
       "  <tbody>\n",
       "    <tr>\n",
       "      <th>message_date</th>\n",
       "      <td>[2018-06-27T00:00:00.000000000, 2018-10-08T00:...</td>\n",
       "      <td>364</td>\n",
       "    </tr>\n",
       "    <tr>\n",
       "      <th>user_id</th>\n",
       "      <td>[1000, 1002, 1003, 1004, 1005, 1007, 1008, 100...</td>\n",
       "      <td>426</td>\n",
       "    </tr>\n",
       "    <tr>\n",
       "      <th>id</th>\n",
       "      <td>[1000_0, 1000_1, 1000_2, 1000_3, 1000_4, 1000_...</td>\n",
       "      <td>123036</td>\n",
       "    </tr>\n",
       "  </tbody>\n",
       "</table>\n",
       "</div>"
      ],
      "text/plain": [
       "                                                       Значения  \\\n",
       "message_date  [2018-06-27T00:00:00.000000000, 2018-10-08T00:...   \n",
       "user_id       [1000, 1002, 1003, 1004, 1005, 1007, 1008, 100...   \n",
       "id            [1000_0, 1000_1, 1000_2, 1000_3, 1000_4, 1000_...   \n",
       "\n",
       "             Количество уникальных значений  \n",
       "message_date                            364  \n",
       "user_id                                 426  \n",
       "id                                   123036  "
      ]
     },
     "execution_count": 15,
     "metadata": {},
     "output_type": "execute_result"
    }
   ],
   "source": [
    "describe_cols(messages) # применение функции"
   ]
  },
  {
   "cell_type": "markdown",
   "metadata": {},
   "source": [
    "Проверим наличие явных дубликатов в данных."
   ]
  },
  {
   "cell_type": "code",
   "execution_count": 16,
   "metadata": {},
   "outputs": [
    {
     "data": {
      "text/plain": [
       "0"
      ]
     },
     "execution_count": 16,
     "metadata": {},
     "output_type": "execute_result"
    }
   ],
   "source": [
    "messages.duplicated().sum() # всего явных дубликатов"
   ]
  },
  {
   "cell_type": "markdown",
   "metadata": {},
   "source": [
    "Явных дубликатов в данных нет."
   ]
  },
  {
   "cell_type": "markdown",
   "metadata": {},
   "source": [
    "### Предобработка данных в таблице `internet`"
   ]
  },
  {
   "cell_type": "markdown",
   "metadata": {},
   "source": [
    "Проверим данные в таблице `internet`. Применим функцию `describe_cols` для таблицы `internet`."
   ]
  },
  {
   "cell_type": "code",
   "execution_count": 17,
   "metadata": {},
   "outputs": [
    {
     "data": {
      "text/html": [
       "<div>\n",
       "<style scoped>\n",
       "    .dataframe tbody tr th:only-of-type {\n",
       "        vertical-align: middle;\n",
       "    }\n",
       "\n",
       "    .dataframe tbody tr th {\n",
       "        vertical-align: top;\n",
       "    }\n",
       "\n",
       "    .dataframe thead th {\n",
       "        text-align: right;\n",
       "    }\n",
       "</style>\n",
       "<table border=\"1\" class=\"dataframe\">\n",
       "  <thead>\n",
       "    <tr style=\"text-align: right;\">\n",
       "      <th></th>\n",
       "      <th>Значения</th>\n",
       "      <th>Количество уникальных значений</th>\n",
       "    </tr>\n",
       "  </thead>\n",
       "  <tbody>\n",
       "    <tr>\n",
       "      <th>session_date</th>\n",
       "      <td>[2018-11-25T00:00:00.000000000, 2018-09-07T00:...</td>\n",
       "      <td>365</td>\n",
       "    </tr>\n",
       "    <tr>\n",
       "      <th>user_id</th>\n",
       "      <td>[1000, 1001, 1002, 1003, 1004, 1005, 1006, 100...</td>\n",
       "      <td>497</td>\n",
       "    </tr>\n",
       "    <tr>\n",
       "      <th>mb_used</th>\n",
       "      <td>[112.95, 1052.81, 1197.26, 550.27, 302.56, 399...</td>\n",
       "      <td>70003</td>\n",
       "    </tr>\n",
       "    <tr>\n",
       "      <th>id</th>\n",
       "      <td>[1000_0, 1000_1, 1000_2, 1000_3, 1000_4, 1000_...</td>\n",
       "      <td>149396</td>\n",
       "    </tr>\n",
       "  </tbody>\n",
       "</table>\n",
       "</div>"
      ],
      "text/plain": [
       "                                                       Значения  \\\n",
       "session_date  [2018-11-25T00:00:00.000000000, 2018-09-07T00:...   \n",
       "user_id       [1000, 1001, 1002, 1003, 1004, 1005, 1006, 100...   \n",
       "mb_used       [112.95, 1052.81, 1197.26, 550.27, 302.56, 399...   \n",
       "id            [1000_0, 1000_1, 1000_2, 1000_3, 1000_4, 1000_...   \n",
       "\n",
       "             Количество уникальных значений  \n",
       "session_date                            365  \n",
       "user_id                                 497  \n",
       "mb_used                               70003  \n",
       "id                                   149396  "
      ]
     },
     "execution_count": 17,
     "metadata": {},
     "output_type": "execute_result"
    }
   ],
   "source": [
    "describe_cols(internet) # применение функции"
   ]
  },
  {
   "cell_type": "markdown",
   "metadata": {},
   "source": [
    "Выведим список характерных значений для каждого столбца."
   ]
  },
  {
   "cell_type": "code",
   "execution_count": 18,
   "metadata": {},
   "outputs": [
    {
     "data": {
      "text/html": [
       "<div>\n",
       "<style scoped>\n",
       "    .dataframe tbody tr th:only-of-type {\n",
       "        vertical-align: middle;\n",
       "    }\n",
       "\n",
       "    .dataframe tbody tr th {\n",
       "        vertical-align: top;\n",
       "    }\n",
       "\n",
       "    .dataframe thead th {\n",
       "        text-align: right;\n",
       "    }\n",
       "</style>\n",
       "<table border=\"1\" class=\"dataframe\">\n",
       "  <thead>\n",
       "    <tr style=\"text-align: right;\">\n",
       "      <th></th>\n",
       "      <th>mb_used</th>\n",
       "      <th>user_id</th>\n",
       "    </tr>\n",
       "  </thead>\n",
       "  <tbody>\n",
       "    <tr>\n",
       "      <th>count</th>\n",
       "      <td>149396.000000</td>\n",
       "      <td>149396.000000</td>\n",
       "    </tr>\n",
       "    <tr>\n",
       "      <th>mean</th>\n",
       "      <td>370.192426</td>\n",
       "      <td>1252.099842</td>\n",
       "    </tr>\n",
       "    <tr>\n",
       "      <th>std</th>\n",
       "      <td>278.300951</td>\n",
       "      <td>144.050823</td>\n",
       "    </tr>\n",
       "    <tr>\n",
       "      <th>min</th>\n",
       "      <td>0.000000</td>\n",
       "      <td>1000.000000</td>\n",
       "    </tr>\n",
       "    <tr>\n",
       "      <th>25%</th>\n",
       "      <td>138.187500</td>\n",
       "      <td>1130.000000</td>\n",
       "    </tr>\n",
       "    <tr>\n",
       "      <th>50%</th>\n",
       "      <td>348.015000</td>\n",
       "      <td>1251.000000</td>\n",
       "    </tr>\n",
       "    <tr>\n",
       "      <th>75%</th>\n",
       "      <td>559.552500</td>\n",
       "      <td>1380.000000</td>\n",
       "    </tr>\n",
       "    <tr>\n",
       "      <th>max</th>\n",
       "      <td>1724.830000</td>\n",
       "      <td>1499.000000</td>\n",
       "    </tr>\n",
       "  </tbody>\n",
       "</table>\n",
       "</div>"
      ],
      "text/plain": [
       "             mb_used        user_id\n",
       "count  149396.000000  149396.000000\n",
       "mean      370.192426    1252.099842\n",
       "std       278.300951     144.050823\n",
       "min         0.000000    1000.000000\n",
       "25%       138.187500    1130.000000\n",
       "50%       348.015000    1251.000000\n",
       "75%       559.552500    1380.000000\n",
       "max      1724.830000    1499.000000"
      ]
     },
     "execution_count": 18,
     "metadata": {},
     "output_type": "execute_result"
    }
   ],
   "source": [
    "internet.describe() # список характерных значений"
   ]
  },
  {
   "cell_type": "markdown",
   "metadata": {},
   "source": [
    "Проверим наличие явных дубликатов в данных."
   ]
  },
  {
   "cell_type": "code",
   "execution_count": 19,
   "metadata": {},
   "outputs": [
    {
     "data": {
      "text/plain": [
       "0"
      ]
     },
     "execution_count": 19,
     "metadata": {},
     "output_type": "execute_result"
    }
   ],
   "source": [
    "internet.duplicated().sum() # всего явных дубликатов"
   ]
  },
  {
   "cell_type": "markdown",
   "metadata": {},
   "source": [
    "Посмотрим на гистограмму распределения объема интернет-сессий, нет ли здесь аномалий, а также выведим список уникальных значений"
   ]
  },
  {
   "cell_type": "code",
   "execution_count": 20,
   "metadata": {},
   "outputs": [
    {
     "name": "stdout",
     "output_type": "stream",
     "text": [
      "0.00      19598\n",
      "335.91        9\n",
      "447.30        9\n",
      "197.56        9\n",
      "199.11        8\n",
      "          ...  \n",
      "643.43        1\n",
      "973.04        1\n",
      "834.51        1\n",
      "777.30        1\n",
      "23.72         1\n",
      "Name: mb_used, Length: 70003, dtype: int64\n",
      "<class 'pandas.core.frame.DataFrame'>\n",
      "Int64Index: 149396 entries, 0 to 149395\n",
      "Data columns (total 4 columns):\n",
      " #   Column        Non-Null Count   Dtype         \n",
      "---  ------        --------------   -----         \n",
      " 0   id            149396 non-null  object        \n",
      " 1   mb_used       149396 non-null  float64       \n",
      " 2   session_date  149396 non-null  datetime64[ns]\n",
      " 3   user_id       149396 non-null  int64         \n",
      "dtypes: datetime64[ns](1), float64(1), int64(1), object(1)\n",
      "memory usage: 5.7+ MB\n"
     ]
    },
    {
     "data": {
      "image/png": "[encoded data removed]",
      "text/plain": [
       "<Figure size 432x288 with 1 Axes>"
      ]
     },
     "metadata": {
      "needs_background": "light"
     },
     "output_type": "display_data"
    }
   ],
   "source": [
    "print(internet['mb_used'].value_counts())\n",
    "internet['mb_used'].hist(bins=100)\n",
    "internet.info()"
   ]
  },
  {
   "cell_type": "markdown",
   "metadata": {},
   "source": [
    "Много нулевых значений трафика, он не несут никакой важной информации для нашего исследования. Удалим строки, где `mb_used` равно 0."
   ]
  },
  {
   "cell_type": "markdown",
   "metadata": {},
   "source": [
    "+ посмотреть на гистограмму распределения объема интернет-сессий, нет ли здесь аномалий"
   ]
  },
  {
   "cell_type": "code",
   "execution_count": 21,
   "metadata": {},
   "outputs": [
    {
     "name": "stdout",
     "output_type": "stream",
     "text": [
      "<class 'pandas.core.frame.DataFrame'>\n",
      "Int64Index: 129798 entries, 0 to 149395\n",
      "Data columns (total 4 columns):\n",
      " #   Column        Non-Null Count   Dtype         \n",
      "---  ------        --------------   -----         \n",
      " 0   id            129798 non-null  object        \n",
      " 1   mb_used       129798 non-null  float64       \n",
      " 2   session_date  129798 non-null  datetime64[ns]\n",
      " 3   user_id       129798 non-null  int64         \n",
      "dtypes: datetime64[ns](1), float64(1), int64(1), object(1)\n",
      "memory usage: 5.0+ MB\n"
     ]
    }
   ],
   "source": [
    "internet = internet.drop(np.where(internet['mb_used'] == 0)[0]) # удаление строк по условию\n",
    "internet.info()"
   ]
  },
  {
   "cell_type": "markdown",
   "metadata": {},
   "source": [
    "Явных дубликатов в данных нет."
   ]
  },
  {
   "cell_type": "markdown",
   "metadata": {},
   "source": [
    "В таблице есть столбец `'Unnamed: 0`. Он не несет в себе никакой информации. Удалим его."
   ]
  },
  {
   "cell_type": "markdown",
   "metadata": {},
   "source": [
    "### Предобработка данных в таблице `tariffs`"
   ]
  },
  {
   "cell_type": "markdown",
   "metadata": {},
   "source": [
    "Проверим данные в таблице `tariffs`. Применим функцию `describe_cols` для таблицы `tariffs`."
   ]
  },
  {
   "cell_type": "code",
   "execution_count": 22,
   "metadata": {},
   "outputs": [
    {
     "data": {
      "text/html": [
       "<div>\n",
       "<style scoped>\n",
       "    .dataframe tbody tr th:only-of-type {\n",
       "        vertical-align: middle;\n",
       "    }\n",
       "\n",
       "    .dataframe tbody tr th {\n",
       "        vertical-align: top;\n",
       "    }\n",
       "\n",
       "    .dataframe thead th {\n",
       "        text-align: right;\n",
       "    }\n",
       "</style>\n",
       "<table border=\"1\" class=\"dataframe\">\n",
       "  <thead>\n",
       "    <tr style=\"text-align: right;\">\n",
       "      <th></th>\n",
       "      <th>Значения</th>\n",
       "      <th>Количество уникальных значений</th>\n",
       "    </tr>\n",
       "  </thead>\n",
       "  <tbody>\n",
       "    <tr>\n",
       "      <th>messages_included</th>\n",
       "      <td>[50, 1000]</td>\n",
       "      <td>2</td>\n",
       "    </tr>\n",
       "    <tr>\n",
       "      <th>mb_per_month_included</th>\n",
       "      <td>[15360, 30720]</td>\n",
       "      <td>2</td>\n",
       "    </tr>\n",
       "    <tr>\n",
       "      <th>minutes_included</th>\n",
       "      <td>[500, 3000]</td>\n",
       "      <td>2</td>\n",
       "    </tr>\n",
       "    <tr>\n",
       "      <th>rub_monthly_fee</th>\n",
       "      <td>[550, 1950]</td>\n",
       "      <td>2</td>\n",
       "    </tr>\n",
       "    <tr>\n",
       "      <th>rub_per_gb</th>\n",
       "      <td>[200, 150]</td>\n",
       "      <td>2</td>\n",
       "    </tr>\n",
       "    <tr>\n",
       "      <th>rub_per_message</th>\n",
       "      <td>[3, 1]</td>\n",
       "      <td>2</td>\n",
       "    </tr>\n",
       "    <tr>\n",
       "      <th>rub_per_minute</th>\n",
       "      <td>[3, 1]</td>\n",
       "      <td>2</td>\n",
       "    </tr>\n",
       "    <tr>\n",
       "      <th>tariff_name</th>\n",
       "      <td>[smart, ultra]</td>\n",
       "      <td>2</td>\n",
       "    </tr>\n",
       "  </tbody>\n",
       "</table>\n",
       "</div>"
      ],
      "text/plain": [
       "                             Значения Количество уникальных значений\n",
       "messages_included          [50, 1000]                              2\n",
       "mb_per_month_included  [15360, 30720]                              2\n",
       "minutes_included          [500, 3000]                              2\n",
       "rub_monthly_fee           [550, 1950]                              2\n",
       "rub_per_gb                 [200, 150]                              2\n",
       "rub_per_message                [3, 1]                              2\n",
       "rub_per_minute                 [3, 1]                              2\n",
       "tariff_name            [smart, ultra]                              2"
      ]
     },
     "execution_count": 22,
     "metadata": {},
     "output_type": "execute_result"
    }
   ],
   "source": [
    "describe_cols(tariffs) # применение функции"
   ]
  },
  {
   "cell_type": "markdown",
   "metadata": {},
   "source": [
    "В таблице 2 уникальные строки, она включает в себя справочную информацию о тарифах."
   ]
  },
  {
   "cell_type": "markdown",
   "metadata": {},
   "source": [
    "### Подготовка пользовательских данных"
   ]
  },
  {
   "cell_type": "markdown",
   "metadata": {},
   "source": [
    "Для дальнейшего исследования необходимо посчитать для каждого пользователя:\n",
    "\n",
    "* количество сделанных звонков и израсходованных минут разговора по месяцам;\n",
    "* количество отправленных сообщений по месяцам;\n",
    "* объем израсходованного интернет-трафика по месяцам;\n",
    "* помесячную выручку с каждого пользователя."
   ]
  },
  {
   "cell_type": "markdown",
   "metadata": {},
   "source": [
    "Для расчета количества сделанных звонков и израсходованных минут разговора по месяцам необходимо воспользоваться таблицей `calls`. \n",
    "\n",
    "«Мегалайн» всегда округляет секунды до минут. Каждый звонок округляется отдельно: даже если он длился всего 1 секунду, будет засчитан как 1 минута.\n",
    "\n",
    "Длительность звонка округляем в большую сторону до целого значения в минутах, а также добавляем столбец `month` с номером месяца. "
   ]
  },
  {
   "cell_type": "code",
   "execution_count": 23,
   "metadata": {},
   "outputs": [
    {
     "data": {
      "text/html": [
       "<div>\n",
       "<style scoped>\n",
       "    .dataframe tbody tr th:only-of-type {\n",
       "        vertical-align: middle;\n",
       "    }\n",
       "\n",
       "    .dataframe tbody tr th {\n",
       "        vertical-align: top;\n",
       "    }\n",
       "\n",
       "    .dataframe thead th {\n",
       "        text-align: right;\n",
       "    }\n",
       "</style>\n",
       "<table border=\"1\" class=\"dataframe\">\n",
       "  <thead>\n",
       "    <tr style=\"text-align: right;\">\n",
       "      <th></th>\n",
       "      <th>id</th>\n",
       "      <th>call_date</th>\n",
       "      <th>duration</th>\n",
       "      <th>user_id</th>\n",
       "      <th>month</th>\n",
       "    </tr>\n",
       "  </thead>\n",
       "  <tbody>\n",
       "    <tr>\n",
       "      <th>0</th>\n",
       "      <td>1000_0</td>\n",
       "      <td>2018-07-25</td>\n",
       "      <td>0.0</td>\n",
       "      <td>1000</td>\n",
       "      <td>7</td>\n",
       "    </tr>\n",
       "    <tr>\n",
       "      <th>1</th>\n",
       "      <td>1000_1</td>\n",
       "      <td>2018-08-17</td>\n",
       "      <td>0.0</td>\n",
       "      <td>1000</td>\n",
       "      <td>8</td>\n",
       "    </tr>\n",
       "    <tr>\n",
       "      <th>2</th>\n",
       "      <td>1000_2</td>\n",
       "      <td>2018-06-11</td>\n",
       "      <td>3.0</td>\n",
       "      <td>1000</td>\n",
       "      <td>6</td>\n",
       "    </tr>\n",
       "    <tr>\n",
       "      <th>3</th>\n",
       "      <td>1000_3</td>\n",
       "      <td>2018-09-21</td>\n",
       "      <td>14.0</td>\n",
       "      <td>1000</td>\n",
       "      <td>9</td>\n",
       "    </tr>\n",
       "    <tr>\n",
       "      <th>4</th>\n",
       "      <td>1000_4</td>\n",
       "      <td>2018-12-15</td>\n",
       "      <td>6.0</td>\n",
       "      <td>1000</td>\n",
       "      <td>12</td>\n",
       "    </tr>\n",
       "  </tbody>\n",
       "</table>\n",
       "</div>"
      ],
      "text/plain": [
       "       id  call_date  duration  user_id  month\n",
       "0  1000_0 2018-07-25       0.0     1000      7\n",
       "1  1000_1 2018-08-17       0.0     1000      8\n",
       "2  1000_2 2018-06-11       3.0     1000      6\n",
       "3  1000_3 2018-09-21      14.0     1000      9\n",
       "4  1000_4 2018-12-15       6.0     1000     12"
      ]
     },
     "execution_count": 23,
     "metadata": {},
     "output_type": "execute_result"
    }
   ],
   "source": [
    "calls['month'] = calls['call_date'].dt.month # добавление столбца месяц(если данные будут за несколько лет, то используем .astype('datetime64[M]'))\n",
    "calls['duration'] = np.ceil(calls['duration']) # округление значений в столбце в большую сторону\n",
    "calls.head() # вызов случайных строк из таблицы"
   ]
  },
  {
   "cell_type": "markdown",
   "metadata": {},
   "source": [
    "Создадим сводную таблицу `calls_expense`, в которой сгруппируем данные по пользователям и месяцам. Посчитаем в ней количество сделанных звонков и израсходованных минут разговора. Выведим первые 5 строк таблицы."
   ]
  },
  {
   "cell_type": "code",
   "execution_count": 24,
   "metadata": {},
   "outputs": [
    {
     "data": {
      "text/html": [
       "<div>\n",
       "<style scoped>\n",
       "    .dataframe tbody tr th:only-of-type {\n",
       "        vertical-align: middle;\n",
       "    }\n",
       "\n",
       "    .dataframe tbody tr th {\n",
       "        vertical-align: top;\n",
       "    }\n",
       "\n",
       "    .dataframe thead tr th {\n",
       "        text-align: left;\n",
       "    }\n",
       "</style>\n",
       "<table border=\"1\" class=\"dataframe\">\n",
       "  <thead>\n",
       "    <tr>\n",
       "      <th></th>\n",
       "      <th>user_id</th>\n",
       "      <th>month</th>\n",
       "      <th>sum</th>\n",
       "      <th>count</th>\n",
       "    </tr>\n",
       "    <tr>\n",
       "      <th></th>\n",
       "      <th></th>\n",
       "      <th></th>\n",
       "      <th>duration</th>\n",
       "      <th>duration</th>\n",
       "    </tr>\n",
       "  </thead>\n",
       "  <tbody>\n",
       "    <tr>\n",
       "      <th>0</th>\n",
       "      <td>1000</td>\n",
       "      <td>5</td>\n",
       "      <td>159.0</td>\n",
       "      <td>22</td>\n",
       "    </tr>\n",
       "    <tr>\n",
       "      <th>1</th>\n",
       "      <td>1000</td>\n",
       "      <td>6</td>\n",
       "      <td>172.0</td>\n",
       "      <td>43</td>\n",
       "    </tr>\n",
       "    <tr>\n",
       "      <th>2</th>\n",
       "      <td>1000</td>\n",
       "      <td>7</td>\n",
       "      <td>340.0</td>\n",
       "      <td>47</td>\n",
       "    </tr>\n",
       "    <tr>\n",
       "      <th>3</th>\n",
       "      <td>1000</td>\n",
       "      <td>8</td>\n",
       "      <td>408.0</td>\n",
       "      <td>52</td>\n",
       "    </tr>\n",
       "    <tr>\n",
       "      <th>4</th>\n",
       "      <td>1000</td>\n",
       "      <td>9</td>\n",
       "      <td>466.0</td>\n",
       "      <td>58</td>\n",
       "    </tr>\n",
       "  </tbody>\n",
       "</table>\n",
       "</div>"
      ],
      "text/plain": [
       "  user_id month      sum    count\n",
       "                duration duration\n",
       "0    1000     5    159.0       22\n",
       "1    1000     6    172.0       43\n",
       "2    1000     7    340.0       47\n",
       "3    1000     8    408.0       52\n",
       "4    1000     9    466.0       58"
      ]
     },
     "execution_count": 24,
     "metadata": {},
     "output_type": "execute_result"
    }
   ],
   "source": [
    "calls_expense = pd.pivot_table(calls, index=['user_id','month'], values='duration', aggfunc=['sum', 'count']).reset_index() # создание сводной таблицы\n",
    "calls_expense.head()"
   ]
  },
  {
   "cell_type": "markdown",
   "metadata": {},
   "source": [
    "Названия двух последних столбцов с длительностью звонков и их количеством изменим на более понятные: `sum_duration`, `count_duration`."
   ]
  },
  {
   "cell_type": "code",
   "execution_count": 25,
   "metadata": {},
   "outputs": [],
   "source": [
    "calls_expense.columns = ['user_id', 'month', 'sum_duration', 'count_calls']"
   ]
  },
  {
   "cell_type": "markdown",
   "metadata": {},
   "source": [
    "Посмотрим информацию о таблицы и выведим первые 5 строк."
   ]
  },
  {
   "cell_type": "code",
   "execution_count": 26,
   "metadata": {},
   "outputs": [
    {
     "name": "stdout",
     "output_type": "stream",
     "text": [
      "<class 'pandas.core.frame.DataFrame'>\n",
      "RangeIndex: 3174 entries, 0 to 3173\n",
      "Data columns (total 4 columns):\n",
      " #   Column        Non-Null Count  Dtype  \n",
      "---  ------        --------------  -----  \n",
      " 0   user_id       3174 non-null   int64  \n",
      " 1   month         3174 non-null   int64  \n",
      " 2   sum_duration  3174 non-null   float64\n",
      " 3   count_calls   3174 non-null   int64  \n",
      "dtypes: float64(1), int64(3)\n",
      "memory usage: 99.3 KB\n"
     ]
    },
    {
     "data": {
      "text/html": [
       "<div>\n",
       "<style scoped>\n",
       "    .dataframe tbody tr th:only-of-type {\n",
       "        vertical-align: middle;\n",
       "    }\n",
       "\n",
       "    .dataframe tbody tr th {\n",
       "        vertical-align: top;\n",
       "    }\n",
       "\n",
       "    .dataframe thead th {\n",
       "        text-align: right;\n",
       "    }\n",
       "</style>\n",
       "<table border=\"1\" class=\"dataframe\">\n",
       "  <thead>\n",
       "    <tr style=\"text-align: right;\">\n",
       "      <th></th>\n",
       "      <th>user_id</th>\n",
       "      <th>month</th>\n",
       "      <th>sum_duration</th>\n",
       "      <th>count_calls</th>\n",
       "    </tr>\n",
       "  </thead>\n",
       "  <tbody>\n",
       "    <tr>\n",
       "      <th>0</th>\n",
       "      <td>1000</td>\n",
       "      <td>5</td>\n",
       "      <td>159.0</td>\n",
       "      <td>22</td>\n",
       "    </tr>\n",
       "    <tr>\n",
       "      <th>1</th>\n",
       "      <td>1000</td>\n",
       "      <td>6</td>\n",
       "      <td>172.0</td>\n",
       "      <td>43</td>\n",
       "    </tr>\n",
       "    <tr>\n",
       "      <th>2</th>\n",
       "      <td>1000</td>\n",
       "      <td>7</td>\n",
       "      <td>340.0</td>\n",
       "      <td>47</td>\n",
       "    </tr>\n",
       "    <tr>\n",
       "      <th>3</th>\n",
       "      <td>1000</td>\n",
       "      <td>8</td>\n",
       "      <td>408.0</td>\n",
       "      <td>52</td>\n",
       "    </tr>\n",
       "    <tr>\n",
       "      <th>4</th>\n",
       "      <td>1000</td>\n",
       "      <td>9</td>\n",
       "      <td>466.0</td>\n",
       "      <td>58</td>\n",
       "    </tr>\n",
       "  </tbody>\n",
       "</table>\n",
       "</div>"
      ],
      "text/plain": [
       "   user_id  month  sum_duration  count_calls\n",
       "0     1000      5         159.0           22\n",
       "1     1000      6         172.0           43\n",
       "2     1000      7         340.0           47\n",
       "3     1000      8         408.0           52\n",
       "4     1000      9         466.0           58"
      ]
     },
     "execution_count": 26,
     "metadata": {},
     "output_type": "execute_result"
    }
   ],
   "source": [
    "calls_expense.info()\n",
    "calls_expense.head()"
   ]
  },
  {
   "cell_type": "markdown",
   "metadata": {},
   "source": [
    "Для расчета количества отправленных сообщений по месяцам необходимо воспользоваться таблицей `message_date`. Добавим столбец `month` с номером месяца. "
   ]
  },
  {
   "cell_type": "code",
   "execution_count": 27,
   "metadata": {},
   "outputs": [
    {
     "data": {
      "text/html": [
       "<div>\n",
       "<style scoped>\n",
       "    .dataframe tbody tr th:only-of-type {\n",
       "        vertical-align: middle;\n",
       "    }\n",
       "\n",
       "    .dataframe tbody tr th {\n",
       "        vertical-align: top;\n",
       "    }\n",
       "\n",
       "    .dataframe thead th {\n",
       "        text-align: right;\n",
       "    }\n",
       "</style>\n",
       "<table border=\"1\" class=\"dataframe\">\n",
       "  <thead>\n",
       "    <tr style=\"text-align: right;\">\n",
       "      <th></th>\n",
       "      <th>id</th>\n",
       "      <th>message_date</th>\n",
       "      <th>user_id</th>\n",
       "      <th>month</th>\n",
       "    </tr>\n",
       "  </thead>\n",
       "  <tbody>\n",
       "    <tr>\n",
       "      <th>18787</th>\n",
       "      <td>1082_228</td>\n",
       "      <td>2018-12-02</td>\n",
       "      <td>1082</td>\n",
       "      <td>12</td>\n",
       "    </tr>\n",
       "    <tr>\n",
       "      <th>13879</th>\n",
       "      <td>1057_221</td>\n",
       "      <td>2018-07-01</td>\n",
       "      <td>1057</td>\n",
       "      <td>7</td>\n",
       "    </tr>\n",
       "    <tr>\n",
       "      <th>49343</th>\n",
       "      <td>1217_618</td>\n",
       "      <td>2018-03-31</td>\n",
       "      <td>1217</td>\n",
       "      <td>3</td>\n",
       "    </tr>\n",
       "    <tr>\n",
       "      <th>114304</th>\n",
       "      <td>1465_196</td>\n",
       "      <td>2018-08-20</td>\n",
       "      <td>1465</td>\n",
       "      <td>8</td>\n",
       "    </tr>\n",
       "    <tr>\n",
       "      <th>69655</th>\n",
       "      <td>1298_103</td>\n",
       "      <td>2018-12-04</td>\n",
       "      <td>1298</td>\n",
       "      <td>12</td>\n",
       "    </tr>\n",
       "    <tr>\n",
       "      <th>...</th>\n",
       "      <td>...</td>\n",
       "      <td>...</td>\n",
       "      <td>...</td>\n",
       "      <td>...</td>\n",
       "    </tr>\n",
       "    <tr>\n",
       "      <th>59266</th>\n",
       "      <td>1259_133</td>\n",
       "      <td>2018-11-26</td>\n",
       "      <td>1259</td>\n",
       "      <td>11</td>\n",
       "    </tr>\n",
       "    <tr>\n",
       "      <th>20212</th>\n",
       "      <td>1089_215</td>\n",
       "      <td>2018-03-27</td>\n",
       "      <td>1089</td>\n",
       "      <td>3</td>\n",
       "    </tr>\n",
       "    <tr>\n",
       "      <th>33656</th>\n",
       "      <td>1146_454</td>\n",
       "      <td>2018-11-28</td>\n",
       "      <td>1146</td>\n",
       "      <td>11</td>\n",
       "    </tr>\n",
       "    <tr>\n",
       "      <th>34637</th>\n",
       "      <td>1149_449</td>\n",
       "      <td>2018-07-14</td>\n",
       "      <td>1149</td>\n",
       "      <td>7</td>\n",
       "    </tr>\n",
       "    <tr>\n",
       "      <th>94054</th>\n",
       "      <td>1385_763</td>\n",
       "      <td>2018-09-11</td>\n",
       "      <td>1385</td>\n",
       "      <td>9</td>\n",
       "    </tr>\n",
       "  </tbody>\n",
       "</table>\n",
       "<p>123036 rows × 4 columns</p>\n",
       "</div>"
      ],
      "text/plain": [
       "              id message_date  user_id  month\n",
       "18787   1082_228   2018-12-02     1082     12\n",
       "13879   1057_221   2018-07-01     1057      7\n",
       "49343   1217_618   2018-03-31     1217      3\n",
       "114304  1465_196   2018-08-20     1465      8\n",
       "69655   1298_103   2018-12-04     1298     12\n",
       "...          ...          ...      ...    ...\n",
       "59266   1259_133   2018-11-26     1259     11\n",
       "20212   1089_215   2018-03-27     1089      3\n",
       "33656   1146_454   2018-11-28     1146     11\n",
       "34637   1149_449   2018-07-14     1149      7\n",
       "94054   1385_763   2018-09-11     1385      9\n",
       "\n",
       "[123036 rows x 4 columns]"
      ]
     },
     "execution_count": 27,
     "metadata": {},
     "output_type": "execute_result"
    }
   ],
   "source": [
    "messages['month'] = messages['message_date'].dt.month # добавление столбца месяц\n",
    "messages.sample(frac = 1) # вызов случайных строк из таблицы"
   ]
  },
  {
   "cell_type": "markdown",
   "metadata": {},
   "source": [
    "Создадим сводную таблицу `messages_sent`, в которой сгруппируем данные по пользователям и месяцам. Посчитаем в ней количество отправленных сообщений. Выведим первые 5 строк таблицы."
   ]
  },
  {
   "cell_type": "code",
   "execution_count": 28,
   "metadata": {},
   "outputs": [
    {
     "data": {
      "text/html": [
       "<div>\n",
       "<style scoped>\n",
       "    .dataframe tbody tr th:only-of-type {\n",
       "        vertical-align: middle;\n",
       "    }\n",
       "\n",
       "    .dataframe tbody tr th {\n",
       "        vertical-align: top;\n",
       "    }\n",
       "\n",
       "    .dataframe thead th {\n",
       "        text-align: right;\n",
       "    }\n",
       "</style>\n",
       "<table border=\"1\" class=\"dataframe\">\n",
       "  <thead>\n",
       "    <tr style=\"text-align: right;\">\n",
       "      <th></th>\n",
       "      <th>user_id</th>\n",
       "      <th>month</th>\n",
       "      <th>message_date</th>\n",
       "    </tr>\n",
       "  </thead>\n",
       "  <tbody>\n",
       "    <tr>\n",
       "      <th>0</th>\n",
       "      <td>1000</td>\n",
       "      <td>5</td>\n",
       "      <td>22</td>\n",
       "    </tr>\n",
       "    <tr>\n",
       "      <th>1</th>\n",
       "      <td>1000</td>\n",
       "      <td>6</td>\n",
       "      <td>60</td>\n",
       "    </tr>\n",
       "    <tr>\n",
       "      <th>2</th>\n",
       "      <td>1000</td>\n",
       "      <td>7</td>\n",
       "      <td>75</td>\n",
       "    </tr>\n",
       "    <tr>\n",
       "      <th>3</th>\n",
       "      <td>1000</td>\n",
       "      <td>8</td>\n",
       "      <td>81</td>\n",
       "    </tr>\n",
       "    <tr>\n",
       "      <th>4</th>\n",
       "      <td>1000</td>\n",
       "      <td>9</td>\n",
       "      <td>57</td>\n",
       "    </tr>\n",
       "  </tbody>\n",
       "</table>\n",
       "</div>"
      ],
      "text/plain": [
       "   user_id  month  message_date\n",
       "0     1000      5            22\n",
       "1     1000      6            60\n",
       "2     1000      7            75\n",
       "3     1000      8            81\n",
       "4     1000      9            57"
      ]
     },
     "execution_count": 28,
     "metadata": {},
     "output_type": "execute_result"
    }
   ],
   "source": [
    "messages_sent = pd.pivot_table(messages, index=['user_id','month'], values='message_date', aggfunc='count').reset_index() # создание сводной таблицы\n",
    "messages_sent.head()"
   ]
  },
  {
   "cell_type": "markdown",
   "metadata": {},
   "source": [
    "Название последнего столбца с количеством отправленных сообщений изменим на `messages_sent_amount`."
   ]
  },
  {
   "cell_type": "code",
   "execution_count": 29,
   "metadata": {},
   "outputs": [],
   "source": [
    "messages_sent.columns = ['user_id', 'month', 'messages_sent_amount'] # присвоение названий столбцов"
   ]
  },
  {
   "cell_type": "markdown",
   "metadata": {},
   "source": [
    "Посмотрим информацию о таблицы и выведим первые 5 строк."
   ]
  },
  {
   "cell_type": "code",
   "execution_count": 30,
   "metadata": {},
   "outputs": [
    {
     "name": "stdout",
     "output_type": "stream",
     "text": [
      "<class 'pandas.core.frame.DataFrame'>\n",
      "RangeIndex: 2717 entries, 0 to 2716\n",
      "Data columns (total 3 columns):\n",
      " #   Column                Non-Null Count  Dtype\n",
      "---  ------                --------------  -----\n",
      " 0   user_id               2717 non-null   int64\n",
      " 1   month                 2717 non-null   int64\n",
      " 2   messages_sent_amount  2717 non-null   int64\n",
      "dtypes: int64(3)\n",
      "memory usage: 63.8 KB\n"
     ]
    },
    {
     "data": {
      "text/html": [
       "<div>\n",
       "<style scoped>\n",
       "    .dataframe tbody tr th:only-of-type {\n",
       "        vertical-align: middle;\n",
       "    }\n",
       "\n",
       "    .dataframe tbody tr th {\n",
       "        vertical-align: top;\n",
       "    }\n",
       "\n",
       "    .dataframe thead th {\n",
       "        text-align: right;\n",
       "    }\n",
       "</style>\n",
       "<table border=\"1\" class=\"dataframe\">\n",
       "  <thead>\n",
       "    <tr style=\"text-align: right;\">\n",
       "      <th></th>\n",
       "      <th>user_id</th>\n",
       "      <th>month</th>\n",
       "      <th>messages_sent_amount</th>\n",
       "    </tr>\n",
       "  </thead>\n",
       "  <tbody>\n",
       "    <tr>\n",
       "      <th>0</th>\n",
       "      <td>1000</td>\n",
       "      <td>5</td>\n",
       "      <td>22</td>\n",
       "    </tr>\n",
       "    <tr>\n",
       "      <th>1</th>\n",
       "      <td>1000</td>\n",
       "      <td>6</td>\n",
       "      <td>60</td>\n",
       "    </tr>\n",
       "    <tr>\n",
       "      <th>2</th>\n",
       "      <td>1000</td>\n",
       "      <td>7</td>\n",
       "      <td>75</td>\n",
       "    </tr>\n",
       "    <tr>\n",
       "      <th>3</th>\n",
       "      <td>1000</td>\n",
       "      <td>8</td>\n",
       "      <td>81</td>\n",
       "    </tr>\n",
       "    <tr>\n",
       "      <th>4</th>\n",
       "      <td>1000</td>\n",
       "      <td>9</td>\n",
       "      <td>57</td>\n",
       "    </tr>\n",
       "  </tbody>\n",
       "</table>\n",
       "</div>"
      ],
      "text/plain": [
       "   user_id  month  messages_sent_amount\n",
       "0     1000      5                    22\n",
       "1     1000      6                    60\n",
       "2     1000      7                    75\n",
       "3     1000      8                    81\n",
       "4     1000      9                    57"
      ]
     },
     "execution_count": 30,
     "metadata": {},
     "output_type": "execute_result"
    }
   ],
   "source": [
    "messages_sent.info()\n",
    "messages_sent.head()"
   ]
  },
  {
   "cell_type": "markdown",
   "metadata": {},
   "source": [
    "Для расчета объема израсходованного интернет-трафика по месяцам необходимо воспользоваться таблицей `internet`. Добавим столбец `month` с номером месяца. "
   ]
  },
  {
   "cell_type": "code",
   "execution_count": 31,
   "metadata": {},
   "outputs": [
    {
     "data": {
      "text/html": [
       "<div>\n",
       "<style scoped>\n",
       "    .dataframe tbody tr th:only-of-type {\n",
       "        vertical-align: middle;\n",
       "    }\n",
       "\n",
       "    .dataframe tbody tr th {\n",
       "        vertical-align: top;\n",
       "    }\n",
       "\n",
       "    .dataframe thead th {\n",
       "        text-align: right;\n",
       "    }\n",
       "</style>\n",
       "<table border=\"1\" class=\"dataframe\">\n",
       "  <thead>\n",
       "    <tr style=\"text-align: right;\">\n",
       "      <th></th>\n",
       "      <th>id</th>\n",
       "      <th>mb_used</th>\n",
       "      <th>session_date</th>\n",
       "      <th>user_id</th>\n",
       "      <th>month</th>\n",
       "    </tr>\n",
       "  </thead>\n",
       "  <tbody>\n",
       "    <tr>\n",
       "      <th>120455</th>\n",
       "      <td>1406_29</td>\n",
       "      <td>287.97</td>\n",
       "      <td>2018-12-19</td>\n",
       "      <td>1406</td>\n",
       "      <td>12</td>\n",
       "    </tr>\n",
       "    <tr>\n",
       "      <th>53500</th>\n",
       "      <td>1179_362</td>\n",
       "      <td>329.70</td>\n",
       "      <td>2018-08-11</td>\n",
       "      <td>1179</td>\n",
       "      <td>8</td>\n",
       "    </tr>\n",
       "    <tr>\n",
       "      <th>20018</th>\n",
       "      <td>1067_119</td>\n",
       "      <td>560.40</td>\n",
       "      <td>2018-05-27</td>\n",
       "      <td>1067</td>\n",
       "      <td>5</td>\n",
       "    </tr>\n",
       "    <tr>\n",
       "      <th>134484</th>\n",
       "      <td>1452_22</td>\n",
       "      <td>925.95</td>\n",
       "      <td>2018-07-15</td>\n",
       "      <td>1452</td>\n",
       "      <td>7</td>\n",
       "    </tr>\n",
       "    <tr>\n",
       "      <th>122964</th>\n",
       "      <td>1414_57</td>\n",
       "      <td>103.94</td>\n",
       "      <td>2018-11-20</td>\n",
       "      <td>1414</td>\n",
       "      <td>11</td>\n",
       "    </tr>\n",
       "    <tr>\n",
       "      <th>...</th>\n",
       "      <td>...</td>\n",
       "      <td>...</td>\n",
       "      <td>...</td>\n",
       "      <td>...</td>\n",
       "      <td>...</td>\n",
       "    </tr>\n",
       "    <tr>\n",
       "      <th>43009</th>\n",
       "      <td>1149_9</td>\n",
       "      <td>398.01</td>\n",
       "      <td>2018-08-06</td>\n",
       "      <td>1149</td>\n",
       "      <td>8</td>\n",
       "    </tr>\n",
       "    <tr>\n",
       "      <th>80517</th>\n",
       "      <td>1271_74</td>\n",
       "      <td>305.88</td>\n",
       "      <td>2018-07-28</td>\n",
       "      <td>1271</td>\n",
       "      <td>7</td>\n",
       "    </tr>\n",
       "    <tr>\n",
       "      <th>97570</th>\n",
       "      <td>1328_127</td>\n",
       "      <td>332.82</td>\n",
       "      <td>2018-12-28</td>\n",
       "      <td>1328</td>\n",
       "      <td>12</td>\n",
       "    </tr>\n",
       "    <tr>\n",
       "      <th>8948</th>\n",
       "      <td>1032_28</td>\n",
       "      <td>348.46</td>\n",
       "      <td>2018-08-19</td>\n",
       "      <td>1032</td>\n",
       "      <td>8</td>\n",
       "    </tr>\n",
       "    <tr>\n",
       "      <th>41019</th>\n",
       "      <td>1144_179</td>\n",
       "      <td>997.11</td>\n",
       "      <td>2018-12-17</td>\n",
       "      <td>1144</td>\n",
       "      <td>12</td>\n",
       "    </tr>\n",
       "  </tbody>\n",
       "</table>\n",
       "<p>129798 rows × 5 columns</p>\n",
       "</div>"
      ],
      "text/plain": [
       "              id  mb_used session_date  user_id  month\n",
       "120455   1406_29   287.97   2018-12-19     1406     12\n",
       "53500   1179_362   329.70   2018-08-11     1179      8\n",
       "20018   1067_119   560.40   2018-05-27     1067      5\n",
       "134484   1452_22   925.95   2018-07-15     1452      7\n",
       "122964   1414_57   103.94   2018-11-20     1414     11\n",
       "...          ...      ...          ...      ...    ...\n",
       "43009     1149_9   398.01   2018-08-06     1149      8\n",
       "80517    1271_74   305.88   2018-07-28     1271      7\n",
       "97570   1328_127   332.82   2018-12-28     1328     12\n",
       "8948     1032_28   348.46   2018-08-19     1032      8\n",
       "41019   1144_179   997.11   2018-12-17     1144     12\n",
       "\n",
       "[129798 rows x 5 columns]"
      ]
     },
     "execution_count": 31,
     "metadata": {},
     "output_type": "execute_result"
    }
   ],
   "source": [
    "internet['month'] = internet['session_date'].dt.month # добавление столбца месяц\n",
    "internet.sample(frac = 1) # вызов случайных строк из таблицы"
   ]
  },
  {
   "cell_type": "markdown",
   "metadata": {},
   "source": [
    "Создадим сводную таблицу `internet_sent`, в которой сгруппируем данные по пользователям и месяцам. Посчитаем в ней объем израсходованного интернет-трафика в столбце `mb_used`. Посмотрим информацию о таблицы и выведим первые 5 строк."
   ]
  },
  {
   "cell_type": "code",
   "execution_count": 32,
   "metadata": {},
   "outputs": [
    {
     "name": "stdout",
     "output_type": "stream",
     "text": [
      "<class 'pandas.core.frame.DataFrame'>\n",
      "RangeIndex: 3201 entries, 0 to 3200\n",
      "Data columns (total 3 columns):\n",
      " #   Column   Non-Null Count  Dtype  \n",
      "---  ------   --------------  -----  \n",
      " 0   user_id  3201 non-null   int64  \n",
      " 1   month    3201 non-null   int64  \n",
      " 2   mb_used  3201 non-null   float64\n",
      "dtypes: float64(1), int64(2)\n",
      "memory usage: 75.1 KB\n"
     ]
    },
    {
     "data": {
      "text/html": [
       "<div>\n",
       "<style scoped>\n",
       "    .dataframe tbody tr th:only-of-type {\n",
       "        vertical-align: middle;\n",
       "    }\n",
       "\n",
       "    .dataframe tbody tr th {\n",
       "        vertical-align: top;\n",
       "    }\n",
       "\n",
       "    .dataframe thead th {\n",
       "        text-align: right;\n",
       "    }\n",
       "</style>\n",
       "<table border=\"1\" class=\"dataframe\">\n",
       "  <thead>\n",
       "    <tr style=\"text-align: right;\">\n",
       "      <th></th>\n",
       "      <th>user_id</th>\n",
       "      <th>month</th>\n",
       "      <th>mb_used</th>\n",
       "    </tr>\n",
       "  </thead>\n",
       "  <tbody>\n",
       "    <tr>\n",
       "      <th>0</th>\n",
       "      <td>1000</td>\n",
       "      <td>5</td>\n",
       "      <td>2253.49</td>\n",
       "    </tr>\n",
       "    <tr>\n",
       "      <th>1</th>\n",
       "      <td>1000</td>\n",
       "      <td>6</td>\n",
       "      <td>23233.77</td>\n",
       "    </tr>\n",
       "    <tr>\n",
       "      <th>2</th>\n",
       "      <td>1000</td>\n",
       "      <td>7</td>\n",
       "      <td>14003.64</td>\n",
       "    </tr>\n",
       "    <tr>\n",
       "      <th>3</th>\n",
       "      <td>1000</td>\n",
       "      <td>8</td>\n",
       "      <td>14055.93</td>\n",
       "    </tr>\n",
       "    <tr>\n",
       "      <th>4</th>\n",
       "      <td>1000</td>\n",
       "      <td>9</td>\n",
       "      <td>14568.91</td>\n",
       "    </tr>\n",
       "  </tbody>\n",
       "</table>\n",
       "</div>"
      ],
      "text/plain": [
       "   user_id  month   mb_used\n",
       "0     1000      5   2253.49\n",
       "1     1000      6  23233.77\n",
       "2     1000      7  14003.64\n",
       "3     1000      8  14055.93\n",
       "4     1000      9  14568.91"
      ]
     },
     "execution_count": 32,
     "metadata": {},
     "output_type": "execute_result"
    }
   ],
   "source": [
    "internet_sent = pd.pivot_table(internet, index=['user_id','month'], values='mb_used', aggfunc='sum').reset_index() # создание сводной таблицы\n",
    "internet_sent.info()\n",
    "internet_sent.head()"
   ]
  },
  {
   "cell_type": "markdown",
   "metadata": {},
   "source": [
    "Необходимо учесть, что если абонент использует 1025 мегабайт в этом месяце, с него возьмут плату за 2 гигабайта. Для веб-трафика отдельные сессии не считаются. Вместо этого общая сумма за месяц округляется в большую сторону. Поэтому создадим отдельный столбец `gb_used`, в котором будет уже округленный и актуальный расход трафика за месяц в ГБ."
   ]
  },
  {
   "cell_type": "code",
   "execution_count": 33,
   "metadata": {},
   "outputs": [
    {
     "name": "stdout",
     "output_type": "stream",
     "text": [
      "<class 'pandas.core.frame.DataFrame'>\n",
      "RangeIndex: 3201 entries, 0 to 3200\n",
      "Data columns (total 4 columns):\n",
      " #   Column   Non-Null Count  Dtype  \n",
      "---  ------   --------------  -----  \n",
      " 0   user_id  3201 non-null   int64  \n",
      " 1   month    3201 non-null   int64  \n",
      " 2   mb_used  3201 non-null   float64\n",
      " 3   gb_used  3201 non-null   float64\n",
      "dtypes: float64(2), int64(2)\n",
      "memory usage: 100.2 KB\n"
     ]
    },
    {
     "data": {
      "text/html": [
       "<div>\n",
       "<style scoped>\n",
       "    .dataframe tbody tr th:only-of-type {\n",
       "        vertical-align: middle;\n",
       "    }\n",
       "\n",
       "    .dataframe tbody tr th {\n",
       "        vertical-align: top;\n",
       "    }\n",
       "\n",
       "    .dataframe thead th {\n",
       "        text-align: right;\n",
       "    }\n",
       "</style>\n",
       "<table border=\"1\" class=\"dataframe\">\n",
       "  <thead>\n",
       "    <tr style=\"text-align: right;\">\n",
       "      <th></th>\n",
       "      <th>user_id</th>\n",
       "      <th>month</th>\n",
       "      <th>mb_used</th>\n",
       "      <th>gb_used</th>\n",
       "    </tr>\n",
       "  </thead>\n",
       "  <tbody>\n",
       "    <tr>\n",
       "      <th>0</th>\n",
       "      <td>1000</td>\n",
       "      <td>5</td>\n",
       "      <td>2253.49</td>\n",
       "      <td>3.0</td>\n",
       "    </tr>\n",
       "    <tr>\n",
       "      <th>1</th>\n",
       "      <td>1000</td>\n",
       "      <td>6</td>\n",
       "      <td>23233.77</td>\n",
       "      <td>23.0</td>\n",
       "    </tr>\n",
       "    <tr>\n",
       "      <th>2</th>\n",
       "      <td>1000</td>\n",
       "      <td>7</td>\n",
       "      <td>14003.64</td>\n",
       "      <td>14.0</td>\n",
       "    </tr>\n",
       "    <tr>\n",
       "      <th>3</th>\n",
       "      <td>1000</td>\n",
       "      <td>8</td>\n",
       "      <td>14055.93</td>\n",
       "      <td>14.0</td>\n",
       "    </tr>\n",
       "    <tr>\n",
       "      <th>4</th>\n",
       "      <td>1000</td>\n",
       "      <td>9</td>\n",
       "      <td>14568.91</td>\n",
       "      <td>15.0</td>\n",
       "    </tr>\n",
       "  </tbody>\n",
       "</table>\n",
       "</div>"
      ],
      "text/plain": [
       "   user_id  month   mb_used  gb_used\n",
       "0     1000      5   2253.49      3.0\n",
       "1     1000      6  23233.77     23.0\n",
       "2     1000      7  14003.64     14.0\n",
       "3     1000      8  14055.93     14.0\n",
       "4     1000      9  14568.91     15.0"
      ]
     },
     "execution_count": 33,
     "metadata": {},
     "output_type": "execute_result"
    }
   ],
   "source": [
    "internet_sent['gb_used'] = np.ceil(internet_sent['mb_used'] / 1024) # округление значений в столбце в большую сторону\n",
    "internet_sent.info()\n",
    "internet_sent.head()"
   ]
  },
  {
   "cell_type": "markdown",
   "metadata": {},
   "source": [
    "Для того, чтобы посчитать помесячную выручку с каждого пользователя, объединим все данные в одну таблицу.\n",
    "\n",
    "Объединим таблицы `internet_sent` и `messages_sent` методом `merge`, соединение выберим `outer`, так как в таблицах могут быть пользователи, которые в какой-то месяц отправляли сообщения, но не звонили или наоборот. Выведим информацию о полученной таблице."
   ]
  },
  {
   "cell_type": "code",
   "execution_count": 34,
   "metadata": {},
   "outputs": [
    {
     "name": "stdout",
     "output_type": "stream",
     "text": [
      "<class 'pandas.core.frame.DataFrame'>\n",
      "Int64Index: 3214 entries, 0 to 3213\n",
      "Data columns (total 5 columns):\n",
      " #   Column                Non-Null Count  Dtype  \n",
      "---  ------                --------------  -----  \n",
      " 0   user_id               3214 non-null   int64  \n",
      " 1   month                 3214 non-null   int64  \n",
      " 2   mb_used               3201 non-null   float64\n",
      " 3   gb_used               3201 non-null   float64\n",
      " 4   messages_sent_amount  2717 non-null   float64\n",
      "dtypes: float64(3), int64(2)\n",
      "memory usage: 150.7 KB\n"
     ]
    },
    {
     "data": {
      "text/html": [
       "<div>\n",
       "<style scoped>\n",
       "    .dataframe tbody tr th:only-of-type {\n",
       "        vertical-align: middle;\n",
       "    }\n",
       "\n",
       "    .dataframe tbody tr th {\n",
       "        vertical-align: top;\n",
       "    }\n",
       "\n",
       "    .dataframe thead th {\n",
       "        text-align: right;\n",
       "    }\n",
       "</style>\n",
       "<table border=\"1\" class=\"dataframe\">\n",
       "  <thead>\n",
       "    <tr style=\"text-align: right;\">\n",
       "      <th></th>\n",
       "      <th>user_id</th>\n",
       "      <th>month</th>\n",
       "      <th>mb_used</th>\n",
       "      <th>gb_used</th>\n",
       "      <th>messages_sent_amount</th>\n",
       "    </tr>\n",
       "  </thead>\n",
       "  <tbody>\n",
       "    <tr>\n",
       "      <th>281</th>\n",
       "      <td>1045</td>\n",
       "      <td>7</td>\n",
       "      <td>17222.70</td>\n",
       "      <td>17.0</td>\n",
       "      <td>57.0</td>\n",
       "    </tr>\n",
       "    <tr>\n",
       "      <th>2340</th>\n",
       "      <td>1373</td>\n",
       "      <td>5</td>\n",
       "      <td>29724.08</td>\n",
       "      <td>30.0</td>\n",
       "      <td>48.0</td>\n",
       "    </tr>\n",
       "    <tr>\n",
       "      <th>870</th>\n",
       "      <td>1137</td>\n",
       "      <td>12</td>\n",
       "      <td>16174.13</td>\n",
       "      <td>16.0</td>\n",
       "      <td>19.0</td>\n",
       "    </tr>\n",
       "    <tr>\n",
       "      <th>1574</th>\n",
       "      <td>1248</td>\n",
       "      <td>10</td>\n",
       "      <td>21007.90</td>\n",
       "      <td>21.0</td>\n",
       "      <td>NaN</td>\n",
       "    </tr>\n",
       "    <tr>\n",
       "      <th>1367</th>\n",
       "      <td>1214</td>\n",
       "      <td>11</td>\n",
       "      <td>10105.44</td>\n",
       "      <td>10.0</td>\n",
       "      <td>66.0</td>\n",
       "    </tr>\n",
       "    <tr>\n",
       "      <th>...</th>\n",
       "      <td>...</td>\n",
       "      <td>...</td>\n",
       "      <td>...</td>\n",
       "      <td>...</td>\n",
       "      <td>...</td>\n",
       "    </tr>\n",
       "    <tr>\n",
       "      <th>1697</th>\n",
       "      <td>1268</td>\n",
       "      <td>11</td>\n",
       "      <td>16506.84</td>\n",
       "      <td>17.0</td>\n",
       "      <td>49.0</td>\n",
       "    </tr>\n",
       "    <tr>\n",
       "      <th>2301</th>\n",
       "      <td>1366</td>\n",
       "      <td>8</td>\n",
       "      <td>8035.03</td>\n",
       "      <td>8.0</td>\n",
       "      <td>30.0</td>\n",
       "    </tr>\n",
       "    <tr>\n",
       "      <th>1837</th>\n",
       "      <td>1291</td>\n",
       "      <td>9</td>\n",
       "      <td>9116.98</td>\n",
       "      <td>9.0</td>\n",
       "      <td>NaN</td>\n",
       "    </tr>\n",
       "    <tr>\n",
       "      <th>3139</th>\n",
       "      <td>1489</td>\n",
       "      <td>11</td>\n",
       "      <td>17491.56</td>\n",
       "      <td>18.0</td>\n",
       "      <td>20.0</td>\n",
       "    </tr>\n",
       "    <tr>\n",
       "      <th>44</th>\n",
       "      <td>1006</td>\n",
       "      <td>4</td>\n",
       "      <td>13936.70</td>\n",
       "      <td>14.0</td>\n",
       "      <td>NaN</td>\n",
       "    </tr>\n",
       "  </tbody>\n",
       "</table>\n",
       "<p>3214 rows × 5 columns</p>\n",
       "</div>"
      ],
      "text/plain": [
       "      user_id  month   mb_used  gb_used  messages_sent_amount\n",
       "281      1045      7  17222.70     17.0                  57.0\n",
       "2340     1373      5  29724.08     30.0                  48.0\n",
       "870      1137     12  16174.13     16.0                  19.0\n",
       "1574     1248     10  21007.90     21.0                   NaN\n",
       "1367     1214     11  10105.44     10.0                  66.0\n",
       "...       ...    ...       ...      ...                   ...\n",
       "1697     1268     11  16506.84     17.0                  49.0\n",
       "2301     1366      8   8035.03      8.0                  30.0\n",
       "1837     1291      9   9116.98      9.0                   NaN\n",
       "3139     1489     11  17491.56     18.0                  20.0\n",
       "44       1006      4  13936.70     14.0                   NaN\n",
       "\n",
       "[3214 rows x 5 columns]"
      ]
     },
     "execution_count": 34,
     "metadata": {},
     "output_type": "execute_result"
    }
   ],
   "source": [
    "df = internet_sent.merge(messages_sent, on = ['user_id','month'], how = 'outer' ) # объединение таблиц\n",
    "df.info()\n",
    "df.sample(frac = 1) # вызов случайных строк из таблицы"
   ]
  },
  {
   "cell_type": "markdown",
   "metadata": {},
   "source": [
    "Объединим таблицы `df` и `calls_expense` методом `merge`, соединение выберим `outer` аналогично предыдущему действию. Выведим информацию о полученной таблице."
   ]
  },
  {
   "cell_type": "code",
   "execution_count": 35,
   "metadata": {},
   "outputs": [
    {
     "name": "stdout",
     "output_type": "stream",
     "text": [
      "<class 'pandas.core.frame.DataFrame'>\n",
      "Int64Index: 3214 entries, 0 to 3213\n",
      "Data columns (total 7 columns):\n",
      " #   Column                Non-Null Count  Dtype  \n",
      "---  ------                --------------  -----  \n",
      " 0   user_id               3214 non-null   int64  \n",
      " 1   month                 3214 non-null   int64  \n",
      " 2   mb_used               3201 non-null   float64\n",
      " 3   gb_used               3201 non-null   float64\n",
      " 4   messages_sent_amount  2717 non-null   float64\n",
      " 5   sum_duration          3174 non-null   float64\n",
      " 6   count_calls           3174 non-null   float64\n",
      "dtypes: float64(5), int64(2)\n",
      "memory usage: 200.9 KB\n"
     ]
    },
    {
     "data": {
      "text/html": [
       "<div>\n",
       "<style scoped>\n",
       "    .dataframe tbody tr th:only-of-type {\n",
       "        vertical-align: middle;\n",
       "    }\n",
       "\n",
       "    .dataframe tbody tr th {\n",
       "        vertical-align: top;\n",
       "    }\n",
       "\n",
       "    .dataframe thead th {\n",
       "        text-align: right;\n",
       "    }\n",
       "</style>\n",
       "<table border=\"1\" class=\"dataframe\">\n",
       "  <thead>\n",
       "    <tr style=\"text-align: right;\">\n",
       "      <th></th>\n",
       "      <th>user_id</th>\n",
       "      <th>month</th>\n",
       "      <th>mb_used</th>\n",
       "      <th>gb_used</th>\n",
       "      <th>messages_sent_amount</th>\n",
       "      <th>sum_duration</th>\n",
       "      <th>count_calls</th>\n",
       "    </tr>\n",
       "  </thead>\n",
       "  <tbody>\n",
       "    <tr>\n",
       "      <th>808</th>\n",
       "      <td>1126</td>\n",
       "      <td>4</td>\n",
       "      <td>27183.12</td>\n",
       "      <td>27.0</td>\n",
       "      <td>6.0</td>\n",
       "      <td>689.0</td>\n",
       "      <td>87.0</td>\n",
       "    </tr>\n",
       "    <tr>\n",
       "      <th>1277</th>\n",
       "      <td>1200</td>\n",
       "      <td>5</td>\n",
       "      <td>18696.43</td>\n",
       "      <td>19.0</td>\n",
       "      <td>53.0</td>\n",
       "      <td>454.0</td>\n",
       "      <td>72.0</td>\n",
       "    </tr>\n",
       "    <tr>\n",
       "      <th>2365</th>\n",
       "      <td>1375</td>\n",
       "      <td>9</td>\n",
       "      <td>19459.06</td>\n",
       "      <td>20.0</td>\n",
       "      <td>64.0</td>\n",
       "      <td>885.0</td>\n",
       "      <td>118.0</td>\n",
       "    </tr>\n",
       "    <tr>\n",
       "      <th>1932</th>\n",
       "      <td>1307</td>\n",
       "      <td>6</td>\n",
       "      <td>17688.98</td>\n",
       "      <td>18.0</td>\n",
       "      <td>22.0</td>\n",
       "      <td>658.0</td>\n",
       "      <td>76.0</td>\n",
       "    </tr>\n",
       "    <tr>\n",
       "      <th>1607</th>\n",
       "      <td>1253</td>\n",
       "      <td>12</td>\n",
       "      <td>21786.92</td>\n",
       "      <td>22.0</td>\n",
       "      <td>87.0</td>\n",
       "      <td>241.0</td>\n",
       "      <td>41.0</td>\n",
       "    </tr>\n",
       "    <tr>\n",
       "      <th>...</th>\n",
       "      <td>...</td>\n",
       "      <td>...</td>\n",
       "      <td>...</td>\n",
       "      <td>...</td>\n",
       "      <td>...</td>\n",
       "      <td>...</td>\n",
       "      <td>...</td>\n",
       "    </tr>\n",
       "    <tr>\n",
       "      <th>473</th>\n",
       "      <td>1075</td>\n",
       "      <td>12</td>\n",
       "      <td>16861.42</td>\n",
       "      <td>17.0</td>\n",
       "      <td>21.0</td>\n",
       "      <td>532.0</td>\n",
       "      <td>64.0</td>\n",
       "    </tr>\n",
       "    <tr>\n",
       "      <th>2762</th>\n",
       "      <td>1430</td>\n",
       "      <td>11</td>\n",
       "      <td>19376.91</td>\n",
       "      <td>19.0</td>\n",
       "      <td>39.0</td>\n",
       "      <td>310.0</td>\n",
       "      <td>46.0</td>\n",
       "    </tr>\n",
       "    <tr>\n",
       "      <th>1141</th>\n",
       "      <td>1178</td>\n",
       "      <td>8</td>\n",
       "      <td>18080.19</td>\n",
       "      <td>18.0</td>\n",
       "      <td>30.0</td>\n",
       "      <td>404.0</td>\n",
       "      <td>58.0</td>\n",
       "    </tr>\n",
       "    <tr>\n",
       "      <th>2803</th>\n",
       "      <td>1436</td>\n",
       "      <td>4</td>\n",
       "      <td>24936.52</td>\n",
       "      <td>25.0</td>\n",
       "      <td>22.0</td>\n",
       "      <td>314.0</td>\n",
       "      <td>51.0</td>\n",
       "    </tr>\n",
       "    <tr>\n",
       "      <th>1236</th>\n",
       "      <td>1193</td>\n",
       "      <td>1</td>\n",
       "      <td>7136.31</td>\n",
       "      <td>7.0</td>\n",
       "      <td>24.0</td>\n",
       "      <td>388.0</td>\n",
       "      <td>53.0</td>\n",
       "    </tr>\n",
       "  </tbody>\n",
       "</table>\n",
       "<p>3214 rows × 7 columns</p>\n",
       "</div>"
      ],
      "text/plain": [
       "      user_id  month   mb_used  gb_used  messages_sent_amount  sum_duration  \\\n",
       "808      1126      4  27183.12     27.0                   6.0         689.0   \n",
       "1277     1200      5  18696.43     19.0                  53.0         454.0   \n",
       "2365     1375      9  19459.06     20.0                  64.0         885.0   \n",
       "1932     1307      6  17688.98     18.0                  22.0         658.0   \n",
       "1607     1253     12  21786.92     22.0                  87.0         241.0   \n",
       "...       ...    ...       ...      ...                   ...           ...   \n",
       "473      1075     12  16861.42     17.0                  21.0         532.0   \n",
       "2762     1430     11  19376.91     19.0                  39.0         310.0   \n",
       "1141     1178      8  18080.19     18.0                  30.0         404.0   \n",
       "2803     1436      4  24936.52     25.0                  22.0         314.0   \n",
       "1236     1193      1   7136.31      7.0                  24.0         388.0   \n",
       "\n",
       "      count_calls  \n",
       "808          87.0  \n",
       "1277         72.0  \n",
       "2365        118.0  \n",
       "1932         76.0  \n",
       "1607         41.0  \n",
       "...           ...  \n",
       "473          64.0  \n",
       "2762         46.0  \n",
       "1141         58.0  \n",
       "2803         51.0  \n",
       "1236         53.0  \n",
       "\n",
       "[3214 rows x 7 columns]"
      ]
     },
     "execution_count": 35,
     "metadata": {},
     "output_type": "execute_result"
    }
   ],
   "source": [
    "df_1 = df.merge(calls_expense, on = ['user_id','month'], how = 'outer' ) # объединение таблиц\n",
    "df_1.info()\n",
    "df_1.sample(frac = 1) # вызов случайных строк из таблицы"
   ]
  },
  {
   "cell_type": "markdown",
   "metadata": {},
   "source": [
    "Объединим таблицы `df_1` и `users` методом `merge`, соединение выберим `outer` аналогично предыдущему действию. Выведим информацию о полученной таблице."
   ]
  },
  {
   "cell_type": "code",
   "execution_count": 36,
   "metadata": {},
   "outputs": [
    {
     "name": "stdout",
     "output_type": "stream",
     "text": [
      "<class 'pandas.core.frame.DataFrame'>\n",
      "Int64Index: 3216 entries, 0 to 3215\n",
      "Data columns (total 14 columns):\n",
      " #   Column                Non-Null Count  Dtype         \n",
      "---  ------                --------------  -----         \n",
      " 0   user_id               3216 non-null   int64         \n",
      " 1   month                 3214 non-null   float64       \n",
      " 2   mb_used               3201 non-null   float64       \n",
      " 3   gb_used               3201 non-null   float64       \n",
      " 4   messages_sent_amount  2717 non-null   float64       \n",
      " 5   sum_duration          3174 non-null   float64       \n",
      " 6   count_calls           3174 non-null   float64       \n",
      " 7   age                   3216 non-null   int64         \n",
      " 8   churn_date            189 non-null    datetime64[ns]\n",
      " 9   city                  3216 non-null   object        \n",
      " 10  first_name            3216 non-null   object        \n",
      " 11  last_name             3216 non-null   object        \n",
      " 12  reg_date              3216 non-null   datetime64[ns]\n",
      " 13  tariff                3216 non-null   object        \n",
      "dtypes: datetime64[ns](2), float64(6), int64(2), object(4)\n",
      "memory usage: 376.9+ KB\n"
     ]
    },
    {
     "data": {
      "text/html": [
       "<div>\n",
       "<style scoped>\n",
       "    .dataframe tbody tr th:only-of-type {\n",
       "        vertical-align: middle;\n",
       "    }\n",
       "\n",
       "    .dataframe tbody tr th {\n",
       "        vertical-align: top;\n",
       "    }\n",
       "\n",
       "    .dataframe thead th {\n",
       "        text-align: right;\n",
       "    }\n",
       "</style>\n",
       "<table border=\"1\" class=\"dataframe\">\n",
       "  <thead>\n",
       "    <tr style=\"text-align: right;\">\n",
       "      <th></th>\n",
       "      <th>user_id</th>\n",
       "      <th>month</th>\n",
       "      <th>mb_used</th>\n",
       "      <th>gb_used</th>\n",
       "      <th>messages_sent_amount</th>\n",
       "      <th>sum_duration</th>\n",
       "      <th>count_calls</th>\n",
       "      <th>age</th>\n",
       "      <th>churn_date</th>\n",
       "      <th>city</th>\n",
       "      <th>first_name</th>\n",
       "      <th>last_name</th>\n",
       "      <th>reg_date</th>\n",
       "      <th>tariff</th>\n",
       "    </tr>\n",
       "  </thead>\n",
       "  <tbody>\n",
       "    <tr>\n",
       "      <th>2541</th>\n",
       "      <td>1396</td>\n",
       "      <td>7.0</td>\n",
       "      <td>8495.05</td>\n",
       "      <td>9.0</td>\n",
       "      <td>89.0</td>\n",
       "      <td>452.0</td>\n",
       "      <td>62.0</td>\n",
       "      <td>23</td>\n",
       "      <td>NaT</td>\n",
       "      <td>Пенза</td>\n",
       "      <td>Эльга</td>\n",
       "      <td>Савельева</td>\n",
       "      <td>2018-01-12</td>\n",
       "      <td>ultra</td>\n",
       "    </tr>\n",
       "    <tr>\n",
       "      <th>279</th>\n",
       "      <td>1045</td>\n",
       "      <td>5.0</td>\n",
       "      <td>22404.88</td>\n",
       "      <td>22.0</td>\n",
       "      <td>55.0</td>\n",
       "      <td>290.0</td>\n",
       "      <td>36.0</td>\n",
       "      <td>48</td>\n",
       "      <td>NaT</td>\n",
       "      <td>Улан-Удэ</td>\n",
       "      <td>Джемма</td>\n",
       "      <td>Карасева</td>\n",
       "      <td>2018-01-30</td>\n",
       "      <td>smart</td>\n",
       "    </tr>\n",
       "    <tr>\n",
       "      <th>1520</th>\n",
       "      <td>1240</td>\n",
       "      <td>4.0</td>\n",
       "      <td>36298.10</td>\n",
       "      <td>36.0</td>\n",
       "      <td>NaN</td>\n",
       "      <td>402.0</td>\n",
       "      <td>61.0</td>\n",
       "      <td>30</td>\n",
       "      <td>NaT</td>\n",
       "      <td>Воронеж</td>\n",
       "      <td>Зинаида</td>\n",
       "      <td>Шарова</td>\n",
       "      <td>2018-02-27</td>\n",
       "      <td>ultra</td>\n",
       "    </tr>\n",
       "    <tr>\n",
       "      <th>1680</th>\n",
       "      <td>1265</td>\n",
       "      <td>10.0</td>\n",
       "      <td>2241.43</td>\n",
       "      <td>3.0</td>\n",
       "      <td>6.0</td>\n",
       "      <td>130.0</td>\n",
       "      <td>15.0</td>\n",
       "      <td>24</td>\n",
       "      <td>2018-10-04</td>\n",
       "      <td>Омск</td>\n",
       "      <td>Радим</td>\n",
       "      <td>Адамов</td>\n",
       "      <td>2018-06-24</td>\n",
       "      <td>ultra</td>\n",
       "    </tr>\n",
       "    <tr>\n",
       "      <th>2924</th>\n",
       "      <td>1457</td>\n",
       "      <td>6.0</td>\n",
       "      <td>14696.21</td>\n",
       "      <td>15.0</td>\n",
       "      <td>25.0</td>\n",
       "      <td>371.0</td>\n",
       "      <td>72.0</td>\n",
       "      <td>35</td>\n",
       "      <td>NaT</td>\n",
       "      <td>Саратов</td>\n",
       "      <td>Татьяна</td>\n",
       "      <td>Авчинникова</td>\n",
       "      <td>2018-03-14</td>\n",
       "      <td>smart</td>\n",
       "    </tr>\n",
       "    <tr>\n",
       "      <th>...</th>\n",
       "      <td>...</td>\n",
       "      <td>...</td>\n",
       "      <td>...</td>\n",
       "      <td>...</td>\n",
       "      <td>...</td>\n",
       "      <td>...</td>\n",
       "      <td>...</td>\n",
       "      <td>...</td>\n",
       "      <td>...</td>\n",
       "      <td>...</td>\n",
       "      <td>...</td>\n",
       "      <td>...</td>\n",
       "      <td>...</td>\n",
       "      <td>...</td>\n",
       "    </tr>\n",
       "    <tr>\n",
       "      <th>244</th>\n",
       "      <td>1039</td>\n",
       "      <td>7.0</td>\n",
       "      <td>21709.90</td>\n",
       "      <td>22.0</td>\n",
       "      <td>136.0</td>\n",
       "      <td>433.0</td>\n",
       "      <td>67.0</td>\n",
       "      <td>40</td>\n",
       "      <td>NaT</td>\n",
       "      <td>Ярославль</td>\n",
       "      <td>Агнесса</td>\n",
       "      <td>Андреенко</td>\n",
       "      <td>2018-06-21</td>\n",
       "      <td>ultra</td>\n",
       "    </tr>\n",
       "    <tr>\n",
       "      <th>1488</th>\n",
       "      <td>1233</td>\n",
       "      <td>9.0</td>\n",
       "      <td>21250.98</td>\n",
       "      <td>21.0</td>\n",
       "      <td>27.0</td>\n",
       "      <td>663.0</td>\n",
       "      <td>88.0</td>\n",
       "      <td>28</td>\n",
       "      <td>NaT</td>\n",
       "      <td>Воронеж</td>\n",
       "      <td>Сара</td>\n",
       "      <td>Алфимова</td>\n",
       "      <td>2018-05-23</td>\n",
       "      <td>smart</td>\n",
       "    </tr>\n",
       "    <tr>\n",
       "      <th>1594</th>\n",
       "      <td>1251</td>\n",
       "      <td>4.0</td>\n",
       "      <td>21131.27</td>\n",
       "      <td>21.0</td>\n",
       "      <td>78.0</td>\n",
       "      <td>476.0</td>\n",
       "      <td>53.0</td>\n",
       "      <td>48</td>\n",
       "      <td>NaT</td>\n",
       "      <td>Пермь</td>\n",
       "      <td>Роксана</td>\n",
       "      <td>Тетерина</td>\n",
       "      <td>2018-02-13</td>\n",
       "      <td>smart</td>\n",
       "    </tr>\n",
       "    <tr>\n",
       "      <th>2374</th>\n",
       "      <td>1376</td>\n",
       "      <td>8.0</td>\n",
       "      <td>19352.88</td>\n",
       "      <td>19.0</td>\n",
       "      <td>NaN</td>\n",
       "      <td>453.0</td>\n",
       "      <td>68.0</td>\n",
       "      <td>46</td>\n",
       "      <td>NaT</td>\n",
       "      <td>Самара</td>\n",
       "      <td>Пётр</td>\n",
       "      <td>Акимов</td>\n",
       "      <td>2018-05-31</td>\n",
       "      <td>smart</td>\n",
       "    </tr>\n",
       "    <tr>\n",
       "      <th>2183</th>\n",
       "      <td>1345</td>\n",
       "      <td>8.0</td>\n",
       "      <td>23642.17</td>\n",
       "      <td>24.0</td>\n",
       "      <td>3.0</td>\n",
       "      <td>281.0</td>\n",
       "      <td>31.0</td>\n",
       "      <td>31</td>\n",
       "      <td>NaT</td>\n",
       "      <td>Москва</td>\n",
       "      <td>Галина</td>\n",
       "      <td>Ёркина</td>\n",
       "      <td>2018-06-01</td>\n",
       "      <td>smart</td>\n",
       "    </tr>\n",
       "  </tbody>\n",
       "</table>\n",
       "<p>3216 rows × 14 columns</p>\n",
       "</div>"
      ],
      "text/plain": [
       "      user_id  month   mb_used  gb_used  messages_sent_amount  sum_duration  \\\n",
       "2541     1396    7.0   8495.05      9.0                  89.0         452.0   \n",
       "279      1045    5.0  22404.88     22.0                  55.0         290.0   \n",
       "1520     1240    4.0  36298.10     36.0                   NaN         402.0   \n",
       "1680     1265   10.0   2241.43      3.0                   6.0         130.0   \n",
       "2924     1457    6.0  14696.21     15.0                  25.0         371.0   \n",
       "...       ...    ...       ...      ...                   ...           ...   \n",
       "244      1039    7.0  21709.90     22.0                 136.0         433.0   \n",
       "1488     1233    9.0  21250.98     21.0                  27.0         663.0   \n",
       "1594     1251    4.0  21131.27     21.0                  78.0         476.0   \n",
       "2374     1376    8.0  19352.88     19.0                   NaN         453.0   \n",
       "2183     1345    8.0  23642.17     24.0                   3.0         281.0   \n",
       "\n",
       "      count_calls  age churn_date       city first_name    last_name  \\\n",
       "2541         62.0   23        NaT      Пенза      Эльга    Савельева   \n",
       "279          36.0   48        NaT   Улан-Удэ     Джемма     Карасева   \n",
       "1520         61.0   30        NaT    Воронеж    Зинаида       Шарова   \n",
       "1680         15.0   24 2018-10-04       Омск      Радим       Адамов   \n",
       "2924         72.0   35        NaT    Саратов    Татьяна  Авчинникова   \n",
       "...           ...  ...        ...        ...        ...          ...   \n",
       "244          67.0   40        NaT  Ярославль    Агнесса    Андреенко   \n",
       "1488         88.0   28        NaT    Воронеж       Сара     Алфимова   \n",
       "1594         53.0   48        NaT      Пермь    Роксана     Тетерина   \n",
       "2374         68.0   46        NaT     Самара       Пётр       Акимов   \n",
       "2183         31.0   31        NaT     Москва     Галина       Ёркина   \n",
       "\n",
       "       reg_date tariff  \n",
       "2541 2018-01-12  ultra  \n",
       "279  2018-01-30  smart  \n",
       "1520 2018-02-27  ultra  \n",
       "1680 2018-06-24  ultra  \n",
       "2924 2018-03-14  smart  \n",
       "...         ...    ...  \n",
       "244  2018-06-21  ultra  \n",
       "1488 2018-05-23  smart  \n",
       "1594 2018-02-13  smart  \n",
       "2374 2018-05-31  smart  \n",
       "2183 2018-06-01  smart  \n",
       "\n",
       "[3216 rows x 14 columns]"
      ]
     },
     "execution_count": 36,
     "metadata": {},
     "output_type": "execute_result"
    }
   ],
   "source": [
    "df_2 = df_1.merge(users, on = 'user_id', how = 'outer' ) # объединение таблиц\n",
    "df_2.info()\n",
    "df_2.sample(frac = 1) # вызов случайных строк из таблицы"
   ]
  },
  {
   "cell_type": "markdown",
   "metadata": {},
   "source": [
    "Для того, чтобы объединить таблицы `df_2` и `tariffs`, необходимо, чтобы столбец, по которому происходит объединение, имел одно название в обоих таблицах. Переименуем столбец `tariff` в `tariff_name` в таблице `df_2`."
   ]
  },
  {
   "cell_type": "code",
   "execution_count": 37,
   "metadata": {},
   "outputs": [],
   "source": [
    "df_2 = df_2.rename(columns = {'tariff':'tariff_name'}) # переименование столбца"
   ]
  },
  {
   "cell_type": "markdown",
   "metadata": {},
   "source": [
    "Объединим таблицы `df_2` и `tariffs` методом `merge`, соединение выберим `outer` аналогично предыдущему действию. Выведим информацию о полученной таблице."
   ]
  },
  {
   "cell_type": "code",
   "execution_count": 38,
   "metadata": {},
   "outputs": [
    {
     "name": "stdout",
     "output_type": "stream",
     "text": [
      "<class 'pandas.core.frame.DataFrame'>\n",
      "Int64Index: 3216 entries, 0 to 3215\n",
      "Data columns (total 21 columns):\n",
      " #   Column                 Non-Null Count  Dtype         \n",
      "---  ------                 --------------  -----         \n",
      " 0   user_id                3216 non-null   int64         \n",
      " 1   month                  3214 non-null   float64       \n",
      " 2   mb_used                3201 non-null   float64       \n",
      " 3   gb_used                3201 non-null   float64       \n",
      " 4   messages_sent_amount   2717 non-null   float64       \n",
      " 5   sum_duration           3174 non-null   float64       \n",
      " 6   count_calls            3174 non-null   float64       \n",
      " 7   age                    3216 non-null   int64         \n",
      " 8   churn_date             189 non-null    datetime64[ns]\n",
      " 9   city                   3216 non-null   object        \n",
      " 10  first_name             3216 non-null   object        \n",
      " 11  last_name              3216 non-null   object        \n",
      " 12  reg_date               3216 non-null   datetime64[ns]\n",
      " 13  tariff_name            3216 non-null   object        \n",
      " 14  messages_included      3216 non-null   int64         \n",
      " 15  mb_per_month_included  3216 non-null   int64         \n",
      " 16  minutes_included       3216 non-null   int64         \n",
      " 17  rub_monthly_fee        3216 non-null   int64         \n",
      " 18  rub_per_gb             3216 non-null   int64         \n",
      " 19  rub_per_message        3216 non-null   int64         \n",
      " 20  rub_per_minute         3216 non-null   int64         \n",
      "dtypes: datetime64[ns](2), float64(6), int64(9), object(4)\n",
      "memory usage: 552.8+ KB\n"
     ]
    },
    {
     "data": {
      "text/html": [
       "<div>\n",
       "<style scoped>\n",
       "    .dataframe tbody tr th:only-of-type {\n",
       "        vertical-align: middle;\n",
       "    }\n",
       "\n",
       "    .dataframe tbody tr th {\n",
       "        vertical-align: top;\n",
       "    }\n",
       "\n",
       "    .dataframe thead th {\n",
       "        text-align: right;\n",
       "    }\n",
       "</style>\n",
       "<table border=\"1\" class=\"dataframe\">\n",
       "  <thead>\n",
       "    <tr style=\"text-align: right;\">\n",
       "      <th></th>\n",
       "      <th>user_id</th>\n",
       "      <th>month</th>\n",
       "      <th>mb_used</th>\n",
       "      <th>gb_used</th>\n",
       "      <th>messages_sent_amount</th>\n",
       "      <th>sum_duration</th>\n",
       "      <th>count_calls</th>\n",
       "      <th>age</th>\n",
       "      <th>churn_date</th>\n",
       "      <th>city</th>\n",
       "      <th>...</th>\n",
       "      <th>last_name</th>\n",
       "      <th>reg_date</th>\n",
       "      <th>tariff_name</th>\n",
       "      <th>messages_included</th>\n",
       "      <th>mb_per_month_included</th>\n",
       "      <th>minutes_included</th>\n",
       "      <th>rub_monthly_fee</th>\n",
       "      <th>rub_per_gb</th>\n",
       "      <th>rub_per_message</th>\n",
       "      <th>rub_per_minute</th>\n",
       "    </tr>\n",
       "  </thead>\n",
       "  <tbody>\n",
       "    <tr>\n",
       "      <th>1622</th>\n",
       "      <td>1139</td>\n",
       "      <td>12.0</td>\n",
       "      <td>15428.86</td>\n",
       "      <td>16.0</td>\n",
       "      <td>53.0</td>\n",
       "      <td>572.0</td>\n",
       "      <td>77.0</td>\n",
       "      <td>22</td>\n",
       "      <td>NaT</td>\n",
       "      <td>Казань</td>\n",
       "      <td>...</td>\n",
       "      <td>Корнеева</td>\n",
       "      <td>2018-11-09</td>\n",
       "      <td>smart</td>\n",
       "      <td>50</td>\n",
       "      <td>15360</td>\n",
       "      <td>500</td>\n",
       "      <td>550</td>\n",
       "      <td>200</td>\n",
       "      <td>3</td>\n",
       "      <td>3</td>\n",
       "    </tr>\n",
       "    <tr>\n",
       "      <th>1919</th>\n",
       "      <td>1198</td>\n",
       "      <td>12.0</td>\n",
       "      <td>15402.76</td>\n",
       "      <td>16.0</td>\n",
       "      <td>NaN</td>\n",
       "      <td>469.0</td>\n",
       "      <td>66.0</td>\n",
       "      <td>26</td>\n",
       "      <td>NaT</td>\n",
       "      <td>Ярославль</td>\n",
       "      <td>...</td>\n",
       "      <td>Швецов</td>\n",
       "      <td>2018-08-15</td>\n",
       "      <td>smart</td>\n",
       "      <td>50</td>\n",
       "      <td>15360</td>\n",
       "      <td>500</td>\n",
       "      <td>550</td>\n",
       "      <td>200</td>\n",
       "      <td>3</td>\n",
       "      <td>3</td>\n",
       "    </tr>\n",
       "    <tr>\n",
       "      <th>33</th>\n",
       "      <td>1018</td>\n",
       "      <td>12.0</td>\n",
       "      <td>5426.56</td>\n",
       "      <td>6.0</td>\n",
       "      <td>37.0</td>\n",
       "      <td>839.0</td>\n",
       "      <td>110.0</td>\n",
       "      <td>71</td>\n",
       "      <td>NaT</td>\n",
       "      <td>Уфа</td>\n",
       "      <td>...</td>\n",
       "      <td>Золотов</td>\n",
       "      <td>2018-04-01</td>\n",
       "      <td>ultra</td>\n",
       "      <td>1000</td>\n",
       "      <td>30720</td>\n",
       "      <td>3000</td>\n",
       "      <td>1950</td>\n",
       "      <td>150</td>\n",
       "      <td>1</td>\n",
       "      <td>1</td>\n",
       "    </tr>\n",
       "    <tr>\n",
       "      <th>888</th>\n",
       "      <td>1453</td>\n",
       "      <td>12.0</td>\n",
       "      <td>21445.04</td>\n",
       "      <td>21.0</td>\n",
       "      <td>53.0</td>\n",
       "      <td>796.0</td>\n",
       "      <td>121.0</td>\n",
       "      <td>50</td>\n",
       "      <td>NaT</td>\n",
       "      <td>Москва</td>\n",
       "      <td>...</td>\n",
       "      <td>Акуленко</td>\n",
       "      <td>2018-01-01</td>\n",
       "      <td>ultra</td>\n",
       "      <td>1000</td>\n",
       "      <td>30720</td>\n",
       "      <td>3000</td>\n",
       "      <td>1950</td>\n",
       "      <td>150</td>\n",
       "      <td>1</td>\n",
       "      <td>1</td>\n",
       "    </tr>\n",
       "    <tr>\n",
       "      <th>1264</th>\n",
       "      <td>1059</td>\n",
       "      <td>5.0</td>\n",
       "      <td>21392.57</td>\n",
       "      <td>21.0</td>\n",
       "      <td>23.0</td>\n",
       "      <td>671.0</td>\n",
       "      <td>102.0</td>\n",
       "      <td>47</td>\n",
       "      <td>NaT</td>\n",
       "      <td>Курск</td>\n",
       "      <td>...</td>\n",
       "      <td>Свиридов</td>\n",
       "      <td>2018-04-14</td>\n",
       "      <td>smart</td>\n",
       "      <td>50</td>\n",
       "      <td>15360</td>\n",
       "      <td>500</td>\n",
       "      <td>550</td>\n",
       "      <td>200</td>\n",
       "      <td>3</td>\n",
       "      <td>3</td>\n",
       "    </tr>\n",
       "    <tr>\n",
       "      <th>...</th>\n",
       "      <td>...</td>\n",
       "      <td>...</td>\n",
       "      <td>...</td>\n",
       "      <td>...</td>\n",
       "      <td>...</td>\n",
       "      <td>...</td>\n",
       "      <td>...</td>\n",
       "      <td>...</td>\n",
       "      <td>...</td>\n",
       "      <td>...</td>\n",
       "      <td>...</td>\n",
       "      <td>...</td>\n",
       "      <td>...</td>\n",
       "      <td>...</td>\n",
       "      <td>...</td>\n",
       "      <td>...</td>\n",
       "      <td>...</td>\n",
       "      <td>...</td>\n",
       "      <td>...</td>\n",
       "      <td>...</td>\n",
       "      <td>...</td>\n",
       "    </tr>\n",
       "    <tr>\n",
       "      <th>2184</th>\n",
       "      <td>1262</td>\n",
       "      <td>8.0</td>\n",
       "      <td>20699.54</td>\n",
       "      <td>21.0</td>\n",
       "      <td>30.0</td>\n",
       "      <td>381.0</td>\n",
       "      <td>51.0</td>\n",
       "      <td>21</td>\n",
       "      <td>NaT</td>\n",
       "      <td>Ульяновск</td>\n",
       "      <td>...</td>\n",
       "      <td>Ларина</td>\n",
       "      <td>2018-03-17</td>\n",
       "      <td>smart</td>\n",
       "      <td>50</td>\n",
       "      <td>15360</td>\n",
       "      <td>500</td>\n",
       "      <td>550</td>\n",
       "      <td>200</td>\n",
       "      <td>3</td>\n",
       "      <td>3</td>\n",
       "    </tr>\n",
       "    <tr>\n",
       "      <th>2505</th>\n",
       "      <td>1334</td>\n",
       "      <td>12.0</td>\n",
       "      <td>26141.17</td>\n",
       "      <td>26.0</td>\n",
       "      <td>NaN</td>\n",
       "      <td>386.0</td>\n",
       "      <td>54.0</td>\n",
       "      <td>45</td>\n",
       "      <td>NaT</td>\n",
       "      <td>Владивосток</td>\n",
       "      <td>...</td>\n",
       "      <td>Минаев</td>\n",
       "      <td>2018-11-16</td>\n",
       "      <td>smart</td>\n",
       "      <td>50</td>\n",
       "      <td>15360</td>\n",
       "      <td>500</td>\n",
       "      <td>550</td>\n",
       "      <td>200</td>\n",
       "      <td>3</td>\n",
       "      <td>3</td>\n",
       "    </tr>\n",
       "    <tr>\n",
       "      <th>721</th>\n",
       "      <td>1380</td>\n",
       "      <td>5.0</td>\n",
       "      <td>28647.82</td>\n",
       "      <td>28.0</td>\n",
       "      <td>25.0</td>\n",
       "      <td>519.0</td>\n",
       "      <td>77.0</td>\n",
       "      <td>45</td>\n",
       "      <td>NaT</td>\n",
       "      <td>Ростов-на-Дону</td>\n",
       "      <td>...</td>\n",
       "      <td>Карасева</td>\n",
       "      <td>2018-05-07</td>\n",
       "      <td>ultra</td>\n",
       "      <td>1000</td>\n",
       "      <td>30720</td>\n",
       "      <td>3000</td>\n",
       "      <td>1950</td>\n",
       "      <td>150</td>\n",
       "      <td>1</td>\n",
       "      <td>1</td>\n",
       "    </tr>\n",
       "    <tr>\n",
       "      <th>351</th>\n",
       "      <td>1201</td>\n",
       "      <td>11.0</td>\n",
       "      <td>7929.83</td>\n",
       "      <td>8.0</td>\n",
       "      <td>NaN</td>\n",
       "      <td>886.0</td>\n",
       "      <td>117.0</td>\n",
       "      <td>32</td>\n",
       "      <td>2018-12-03</td>\n",
       "      <td>Москва</td>\n",
       "      <td>...</td>\n",
       "      <td>Веселов</td>\n",
       "      <td>2018-08-06</td>\n",
       "      <td>ultra</td>\n",
       "      <td>1000</td>\n",
       "      <td>30720</td>\n",
       "      <td>3000</td>\n",
       "      <td>1950</td>\n",
       "      <td>150</td>\n",
       "      <td>1</td>\n",
       "      <td>1</td>\n",
       "    </tr>\n",
       "    <tr>\n",
       "      <th>566</th>\n",
       "      <td>1325</td>\n",
       "      <td>12.0</td>\n",
       "      <td>31015.08</td>\n",
       "      <td>31.0</td>\n",
       "      <td>15.0</td>\n",
       "      <td>606.0</td>\n",
       "      <td>88.0</td>\n",
       "      <td>63</td>\n",
       "      <td>NaT</td>\n",
       "      <td>Новосибирск</td>\n",
       "      <td>...</td>\n",
       "      <td>Федосеев</td>\n",
       "      <td>2018-06-12</td>\n",
       "      <td>ultra</td>\n",
       "      <td>1000</td>\n",
       "      <td>30720</td>\n",
       "      <td>3000</td>\n",
       "      <td>1950</td>\n",
       "      <td>150</td>\n",
       "      <td>1</td>\n",
       "      <td>1</td>\n",
       "    </tr>\n",
       "  </tbody>\n",
       "</table>\n",
       "<p>3216 rows × 21 columns</p>\n",
       "</div>"
      ],
      "text/plain": [
       "      user_id  month   mb_used  gb_used  messages_sent_amount  sum_duration  \\\n",
       "1622     1139   12.0  15428.86     16.0                  53.0         572.0   \n",
       "1919     1198   12.0  15402.76     16.0                   NaN         469.0   \n",
       "33       1018   12.0   5426.56      6.0                  37.0         839.0   \n",
       "888      1453   12.0  21445.04     21.0                  53.0         796.0   \n",
       "1264     1059    5.0  21392.57     21.0                  23.0         671.0   \n",
       "...       ...    ...       ...      ...                   ...           ...   \n",
       "2184     1262    8.0  20699.54     21.0                  30.0         381.0   \n",
       "2505     1334   12.0  26141.17     26.0                   NaN         386.0   \n",
       "721      1380    5.0  28647.82     28.0                  25.0         519.0   \n",
       "351      1201   11.0   7929.83      8.0                   NaN         886.0   \n",
       "566      1325   12.0  31015.08     31.0                  15.0         606.0   \n",
       "\n",
       "      count_calls  age churn_date            city  ... last_name   reg_date  \\\n",
       "1622         77.0   22        NaT          Казань  ...  Корнеева 2018-11-09   \n",
       "1919         66.0   26        NaT       Ярославль  ...    Швецов 2018-08-15   \n",
       "33          110.0   71        NaT             Уфа  ...   Золотов 2018-04-01   \n",
       "888         121.0   50        NaT          Москва  ...  Акуленко 2018-01-01   \n",
       "1264        102.0   47        NaT           Курск  ...  Свиридов 2018-04-14   \n",
       "...           ...  ...        ...             ...  ...       ...        ...   \n",
       "2184         51.0   21        NaT       Ульяновск  ...    Ларина 2018-03-17   \n",
       "2505         54.0   45        NaT     Владивосток  ...    Минаев 2018-11-16   \n",
       "721          77.0   45        NaT  Ростов-на-Дону  ...  Карасева 2018-05-07   \n",
       "351         117.0   32 2018-12-03          Москва  ...   Веселов 2018-08-06   \n",
       "566          88.0   63        NaT     Новосибирск  ...  Федосеев 2018-06-12   \n",
       "\n",
       "     tariff_name messages_included  mb_per_month_included  minutes_included  \\\n",
       "1622       smart                50                  15360               500   \n",
       "1919       smart                50                  15360               500   \n",
       "33         ultra              1000                  30720              3000   \n",
       "888        ultra              1000                  30720              3000   \n",
       "1264       smart                50                  15360               500   \n",
       "...          ...               ...                    ...               ...   \n",
       "2184       smart                50                  15360               500   \n",
       "2505       smart                50                  15360               500   \n",
       "721        ultra              1000                  30720              3000   \n",
       "351        ultra              1000                  30720              3000   \n",
       "566        ultra              1000                  30720              3000   \n",
       "\n",
       "      rub_monthly_fee  rub_per_gb  rub_per_message  rub_per_minute  \n",
       "1622              550         200                3               3  \n",
       "1919              550         200                3               3  \n",
       "33               1950         150                1               1  \n",
       "888              1950         150                1               1  \n",
       "1264              550         200                3               3  \n",
       "...               ...         ...              ...             ...  \n",
       "2184              550         200                3               3  \n",
       "2505              550         200                3               3  \n",
       "721              1950         150                1               1  \n",
       "351              1950         150                1               1  \n",
       "566              1950         150                1               1  \n",
       "\n",
       "[3216 rows x 21 columns]"
      ]
     },
     "execution_count": 38,
     "metadata": {},
     "output_type": "execute_result"
    }
   ],
   "source": [
    "df = df_2.merge(tariffs, on = 'tariff_name', how = 'outer' ) # объединение таблиц\n",
    "df.info()\n",
    "df.sample(frac = 1) # вызов случайных строк из таблицы"
   ]
  },
  {
   "cell_type": "markdown",
   "metadata": {},
   "source": [
    "Пропущенные значения в столбцах `gb_used`, `messages_sent_amount`, `mb_used`, `sum_duration`, `count_calls` можно заменить на 0."
   ]
  },
  {
   "cell_type": "code",
   "execution_count": 39,
   "metadata": {},
   "outputs": [
    {
     "name": "stdout",
     "output_type": "stream",
     "text": [
      "<class 'pandas.core.frame.DataFrame'>\n",
      "Int64Index: 3216 entries, 0 to 3215\n",
      "Data columns (total 21 columns):\n",
      " #   Column                 Non-Null Count  Dtype         \n",
      "---  ------                 --------------  -----         \n",
      " 0   user_id                3216 non-null   int64         \n",
      " 1   month                  3214 non-null   float64       \n",
      " 2   mb_used                3216 non-null   float64       \n",
      " 3   gb_used                3216 non-null   float64       \n",
      " 4   messages_sent_amount   3216 non-null   float64       \n",
      " 5   sum_duration           3216 non-null   float64       \n",
      " 6   count_calls            3216 non-null   float64       \n",
      " 7   age                    3216 non-null   int64         \n",
      " 8   churn_date             189 non-null    datetime64[ns]\n",
      " 9   city                   3216 non-null   object        \n",
      " 10  first_name             3216 non-null   object        \n",
      " 11  last_name              3216 non-null   object        \n",
      " 12  reg_date               3216 non-null   datetime64[ns]\n",
      " 13  tariff_name            3216 non-null   object        \n",
      " 14  messages_included      3216 non-null   int64         \n",
      " 15  mb_per_month_included  3216 non-null   int64         \n",
      " 16  minutes_included       3216 non-null   int64         \n",
      " 17  rub_monthly_fee        3216 non-null   int64         \n",
      " 18  rub_per_gb             3216 non-null   int64         \n",
      " 19  rub_per_message        3216 non-null   int64         \n",
      " 20  rub_per_minute         3216 non-null   int64         \n",
      "dtypes: datetime64[ns](2), float64(6), int64(9), object(4)\n",
      "memory usage: 552.8+ KB\n"
     ]
    }
   ],
   "source": [
    "df['gb_used'] = df['gb_used'].fillna(0) # замена пропусков на 0\n",
    "df['messages_sent_amount'] = df['messages_sent_amount'].fillna(0) # замена пропусков на 0\n",
    "df['mb_used'] = df['mb_used'].fillna(0) # замена пропусков на 0\n",
    "df['sum_duration'] = df['sum_duration'].fillna(0) # замена пропусков на 0\n",
    "df['count_calls'] = df['count_calls'].fillna(0) # замена пропусков на 0\n",
    "df.info()"
   ]
  },
  {
   "cell_type": "markdown",
   "metadata": {},
   "source": [
    "Проверим пропущенные значения в столбце `month`."
   ]
  },
  {
   "cell_type": "code",
   "execution_count": 40,
   "metadata": {},
   "outputs": [
    {
     "name": "stdout",
     "output_type": "stream",
     "text": [
      "0.0006218905472636816\n"
     ]
    },
    {
     "data": {
      "text/html": [
       "<div>\n",
       "<style scoped>\n",
       "    .dataframe tbody tr th:only-of-type {\n",
       "        vertical-align: middle;\n",
       "    }\n",
       "\n",
       "    .dataframe tbody tr th {\n",
       "        vertical-align: top;\n",
       "    }\n",
       "\n",
       "    .dataframe thead th {\n",
       "        text-align: right;\n",
       "    }\n",
       "</style>\n",
       "<table border=\"1\" class=\"dataframe\">\n",
       "  <thead>\n",
       "    <tr style=\"text-align: right;\">\n",
       "      <th></th>\n",
       "      <th>user_id</th>\n",
       "      <th>month</th>\n",
       "      <th>mb_used</th>\n",
       "      <th>gb_used</th>\n",
       "      <th>messages_sent_amount</th>\n",
       "      <th>sum_duration</th>\n",
       "      <th>count_calls</th>\n",
       "      <th>age</th>\n",
       "      <th>churn_date</th>\n",
       "      <th>city</th>\n",
       "      <th>...</th>\n",
       "      <th>last_name</th>\n",
       "      <th>reg_date</th>\n",
       "      <th>tariff_name</th>\n",
       "      <th>messages_included</th>\n",
       "      <th>mb_per_month_included</th>\n",
       "      <th>minutes_included</th>\n",
       "      <th>rub_monthly_fee</th>\n",
       "      <th>rub_per_gb</th>\n",
       "      <th>rub_per_message</th>\n",
       "      <th>rub_per_minute</th>\n",
       "    </tr>\n",
       "  </thead>\n",
       "  <tbody>\n",
       "    <tr>\n",
       "      <th>985</th>\n",
       "      <td>1128</td>\n",
       "      <td>NaN</td>\n",
       "      <td>0.0</td>\n",
       "      <td>0.0</td>\n",
       "      <td>0.0</td>\n",
       "      <td>0.0</td>\n",
       "      <td>0.0</td>\n",
       "      <td>51</td>\n",
       "      <td>2018-12-23</td>\n",
       "      <td>Волжский</td>\n",
       "      <td>...</td>\n",
       "      <td>Агаева</td>\n",
       "      <td>2018-12-15</td>\n",
       "      <td>ultra</td>\n",
       "      <td>1000</td>\n",
       "      <td>30720</td>\n",
       "      <td>3000</td>\n",
       "      <td>1950</td>\n",
       "      <td>150</td>\n",
       "      <td>1</td>\n",
       "      <td>1</td>\n",
       "    </tr>\n",
       "    <tr>\n",
       "      <th>3215</th>\n",
       "      <td>1371</td>\n",
       "      <td>NaN</td>\n",
       "      <td>0.0</td>\n",
       "      <td>0.0</td>\n",
       "      <td>0.0</td>\n",
       "      <td>0.0</td>\n",
       "      <td>0.0</td>\n",
       "      <td>50</td>\n",
       "      <td>2018-12-30</td>\n",
       "      <td>Омск</td>\n",
       "      <td>...</td>\n",
       "      <td>Трофимов</td>\n",
       "      <td>2018-12-25</td>\n",
       "      <td>smart</td>\n",
       "      <td>50</td>\n",
       "      <td>15360</td>\n",
       "      <td>500</td>\n",
       "      <td>550</td>\n",
       "      <td>200</td>\n",
       "      <td>3</td>\n",
       "      <td>3</td>\n",
       "    </tr>\n",
       "  </tbody>\n",
       "</table>\n",
       "<p>2 rows × 21 columns</p>\n",
       "</div>"
      ],
      "text/plain": [
       "      user_id  month  mb_used  gb_used  messages_sent_amount  sum_duration  \\\n",
       "985      1128    NaN      0.0      0.0                   0.0           0.0   \n",
       "3215     1371    NaN      0.0      0.0                   0.0           0.0   \n",
       "\n",
       "      count_calls  age churn_date      city  ... last_name   reg_date  \\\n",
       "985           0.0   51 2018-12-23  Волжский  ...    Агаева 2018-12-15   \n",
       "3215          0.0   50 2018-12-30      Омск  ...  Трофимов 2018-12-25   \n",
       "\n",
       "     tariff_name messages_included  mb_per_month_included  minutes_included  \\\n",
       "985        ultra              1000                  30720              3000   \n",
       "3215       smart                50                  15360               500   \n",
       "\n",
       "      rub_monthly_fee  rub_per_gb  rub_per_message  rub_per_minute  \n",
       "985              1950         150                1               1  \n",
       "3215              550         200                3               3  \n",
       "\n",
       "[2 rows x 21 columns]"
      ]
     },
     "execution_count": 40,
     "metadata": {},
     "output_type": "execute_result"
    }
   ],
   "source": [
    "print(df['month'].isna().mean()) # доля пропусков\n",
    "df[df['month'].isna()] # вывод строк с пропусками"
   ]
  },
  {
   "cell_type": "markdown",
   "metadata": {},
   "source": [
    "У двух пользователей нет никаких действий во время пользования тарифом. Точно нельзя сказать ошибка это или данные верны, но т.к. их доля меньше 1%, оставим эти строки без изменения, на конечный результат они окажут незначительное влияние.\n",
    "\n",
    "Создадим столбцы `minutes_profit`, `sms_profit`, `internet_profit`, которые покажут выручку засчет пользования услугами после использования включенного тарифного пакета."
   ]
  },
  {
   "cell_type": "code",
   "execution_count": 41,
   "metadata": {},
   "outputs": [
    {
     "data": {
      "text/html": [
       "<div>\n",
       "<style scoped>\n",
       "    .dataframe tbody tr th:only-of-type {\n",
       "        vertical-align: middle;\n",
       "    }\n",
       "\n",
       "    .dataframe tbody tr th {\n",
       "        vertical-align: top;\n",
       "    }\n",
       "\n",
       "    .dataframe thead th {\n",
       "        text-align: right;\n",
       "    }\n",
       "</style>\n",
       "<table border=\"1\" class=\"dataframe\">\n",
       "  <thead>\n",
       "    <tr style=\"text-align: right;\">\n",
       "      <th></th>\n",
       "      <th>user_id</th>\n",
       "      <th>month</th>\n",
       "      <th>mb_used</th>\n",
       "      <th>gb_used</th>\n",
       "      <th>messages_sent_amount</th>\n",
       "      <th>sum_duration</th>\n",
       "      <th>count_calls</th>\n",
       "      <th>age</th>\n",
       "      <th>churn_date</th>\n",
       "      <th>city</th>\n",
       "      <th>...</th>\n",
       "      <th>mb_per_month_included</th>\n",
       "      <th>minutes_included</th>\n",
       "      <th>rub_monthly_fee</th>\n",
       "      <th>rub_per_gb</th>\n",
       "      <th>rub_per_message</th>\n",
       "      <th>rub_per_minute</th>\n",
       "      <th>minutes_profit</th>\n",
       "      <th>sms_profit</th>\n",
       "      <th>profit</th>\n",
       "      <th>internet_profit</th>\n",
       "    </tr>\n",
       "  </thead>\n",
       "  <tbody>\n",
       "    <tr>\n",
       "      <th>710</th>\n",
       "      <td>1377</td>\n",
       "      <td>8.0</td>\n",
       "      <td>5749.01</td>\n",
       "      <td>6.0</td>\n",
       "      <td>11.0</td>\n",
       "      <td>1273.0</td>\n",
       "      <td>161.0</td>\n",
       "      <td>59</td>\n",
       "      <td>NaT</td>\n",
       "      <td>Брянск</td>\n",
       "      <td>...</td>\n",
       "      <td>30720</td>\n",
       "      <td>3000</td>\n",
       "      <td>1950</td>\n",
       "      <td>150</td>\n",
       "      <td>1</td>\n",
       "      <td>1</td>\n",
       "      <td>-1727.0</td>\n",
       "      <td>-989.0</td>\n",
       "      <td>-989.0</td>\n",
       "      <td>-3600.0</td>\n",
       "    </tr>\n",
       "    <tr>\n",
       "      <th>2767</th>\n",
       "      <td>1404</td>\n",
       "      <td>11.0</td>\n",
       "      <td>17865.19</td>\n",
       "      <td>18.0</td>\n",
       "      <td>59.0</td>\n",
       "      <td>226.0</td>\n",
       "      <td>39.0</td>\n",
       "      <td>61</td>\n",
       "      <td>NaT</td>\n",
       "      <td>Иркутск</td>\n",
       "      <td>...</td>\n",
       "      <td>15360</td>\n",
       "      <td>500</td>\n",
       "      <td>550</td>\n",
       "      <td>200</td>\n",
       "      <td>3</td>\n",
       "      <td>3</td>\n",
       "      <td>-822.0</td>\n",
       "      <td>27.0</td>\n",
       "      <td>27.0</td>\n",
       "      <td>600.0</td>\n",
       "    </tr>\n",
       "    <tr>\n",
       "      <th>2616</th>\n",
       "      <td>1370</td>\n",
       "      <td>8.0</td>\n",
       "      <td>18743.46</td>\n",
       "      <td>19.0</td>\n",
       "      <td>0.0</td>\n",
       "      <td>123.0</td>\n",
       "      <td>17.0</td>\n",
       "      <td>48</td>\n",
       "      <td>2018-10-27</td>\n",
       "      <td>Новороссийск</td>\n",
       "      <td>...</td>\n",
       "      <td>15360</td>\n",
       "      <td>500</td>\n",
       "      <td>550</td>\n",
       "      <td>200</td>\n",
       "      <td>3</td>\n",
       "      <td>3</td>\n",
       "      <td>-1131.0</td>\n",
       "      <td>-150.0</td>\n",
       "      <td>-150.0</td>\n",
       "      <td>800.0</td>\n",
       "    </tr>\n",
       "    <tr>\n",
       "      <th>1489</th>\n",
       "      <td>1113</td>\n",
       "      <td>4.0</td>\n",
       "      <td>17236.47</td>\n",
       "      <td>17.0</td>\n",
       "      <td>42.0</td>\n",
       "      <td>785.0</td>\n",
       "      <td>109.0</td>\n",
       "      <td>52</td>\n",
       "      <td>NaT</td>\n",
       "      <td>Чита</td>\n",
       "      <td>...</td>\n",
       "      <td>15360</td>\n",
       "      <td>500</td>\n",
       "      <td>550</td>\n",
       "      <td>200</td>\n",
       "      <td>3</td>\n",
       "      <td>3</td>\n",
       "      <td>855.0</td>\n",
       "      <td>-24.0</td>\n",
       "      <td>-24.0</td>\n",
       "      <td>400.0</td>\n",
       "    </tr>\n",
       "    <tr>\n",
       "      <th>115</th>\n",
       "      <td>1080</td>\n",
       "      <td>9.0</td>\n",
       "      <td>2335.64</td>\n",
       "      <td>3.0</td>\n",
       "      <td>53.0</td>\n",
       "      <td>951.0</td>\n",
       "      <td>130.0</td>\n",
       "      <td>28</td>\n",
       "      <td>NaT</td>\n",
       "      <td>Москва</td>\n",
       "      <td>...</td>\n",
       "      <td>30720</td>\n",
       "      <td>3000</td>\n",
       "      <td>1950</td>\n",
       "      <td>150</td>\n",
       "      <td>1</td>\n",
       "      <td>1</td>\n",
       "      <td>-2049.0</td>\n",
       "      <td>-947.0</td>\n",
       "      <td>-947.0</td>\n",
       "      <td>-4050.0</td>\n",
       "    </tr>\n",
       "    <tr>\n",
       "      <th>...</th>\n",
       "      <td>...</td>\n",
       "      <td>...</td>\n",
       "      <td>...</td>\n",
       "      <td>...</td>\n",
       "      <td>...</td>\n",
       "      <td>...</td>\n",
       "      <td>...</td>\n",
       "      <td>...</td>\n",
       "      <td>...</td>\n",
       "      <td>...</td>\n",
       "      <td>...</td>\n",
       "      <td>...</td>\n",
       "      <td>...</td>\n",
       "      <td>...</td>\n",
       "      <td>...</td>\n",
       "      <td>...</td>\n",
       "      <td>...</td>\n",
       "      <td>...</td>\n",
       "      <td>...</td>\n",
       "      <td>...</td>\n",
       "      <td>...</td>\n",
       "    </tr>\n",
       "    <tr>\n",
       "      <th>1713</th>\n",
       "      <td>1158</td>\n",
       "      <td>7.0</td>\n",
       "      <td>12697.41</td>\n",
       "      <td>13.0</td>\n",
       "      <td>69.0</td>\n",
       "      <td>546.0</td>\n",
       "      <td>77.0</td>\n",
       "      <td>45</td>\n",
       "      <td>NaT</td>\n",
       "      <td>Новокузнецк</td>\n",
       "      <td>...</td>\n",
       "      <td>15360</td>\n",
       "      <td>500</td>\n",
       "      <td>550</td>\n",
       "      <td>200</td>\n",
       "      <td>3</td>\n",
       "      <td>3</td>\n",
       "      <td>138.0</td>\n",
       "      <td>57.0</td>\n",
       "      <td>57.0</td>\n",
       "      <td>-400.0</td>\n",
       "    </tr>\n",
       "    <tr>\n",
       "      <th>549</th>\n",
       "      <td>1310</td>\n",
       "      <td>12.0</td>\n",
       "      <td>19012.99</td>\n",
       "      <td>19.0</td>\n",
       "      <td>49.0</td>\n",
       "      <td>483.0</td>\n",
       "      <td>74.0</td>\n",
       "      <td>28</td>\n",
       "      <td>NaT</td>\n",
       "      <td>Уфа</td>\n",
       "      <td>...</td>\n",
       "      <td>30720</td>\n",
       "      <td>3000</td>\n",
       "      <td>1950</td>\n",
       "      <td>150</td>\n",
       "      <td>1</td>\n",
       "      <td>1</td>\n",
       "      <td>-2517.0</td>\n",
       "      <td>-951.0</td>\n",
       "      <td>-951.0</td>\n",
       "      <td>-1650.0</td>\n",
       "    </tr>\n",
       "    <tr>\n",
       "      <th>585</th>\n",
       "      <td>1331</td>\n",
       "      <td>8.0</td>\n",
       "      <td>28074.27</td>\n",
       "      <td>28.0</td>\n",
       "      <td>71.0</td>\n",
       "      <td>409.0</td>\n",
       "      <td>58.0</td>\n",
       "      <td>26</td>\n",
       "      <td>NaT</td>\n",
       "      <td>Москва</td>\n",
       "      <td>...</td>\n",
       "      <td>30720</td>\n",
       "      <td>3000</td>\n",
       "      <td>1950</td>\n",
       "      <td>150</td>\n",
       "      <td>1</td>\n",
       "      <td>1</td>\n",
       "      <td>-2591.0</td>\n",
       "      <td>-929.0</td>\n",
       "      <td>-929.0</td>\n",
       "      <td>-300.0</td>\n",
       "    </tr>\n",
       "    <tr>\n",
       "      <th>1567</th>\n",
       "      <td>1127</td>\n",
       "      <td>10.0</td>\n",
       "      <td>13380.63</td>\n",
       "      <td>14.0</td>\n",
       "      <td>72.0</td>\n",
       "      <td>249.0</td>\n",
       "      <td>35.0</td>\n",
       "      <td>26</td>\n",
       "      <td>NaT</td>\n",
       "      <td>Казань</td>\n",
       "      <td>...</td>\n",
       "      <td>15360</td>\n",
       "      <td>500</td>\n",
       "      <td>550</td>\n",
       "      <td>200</td>\n",
       "      <td>3</td>\n",
       "      <td>3</td>\n",
       "      <td>-753.0</td>\n",
       "      <td>66.0</td>\n",
       "      <td>66.0</td>\n",
       "      <td>-200.0</td>\n",
       "    </tr>\n",
       "    <tr>\n",
       "      <th>470</th>\n",
       "      <td>1271</td>\n",
       "      <td>11.0</td>\n",
       "      <td>6976.25</td>\n",
       "      <td>7.0</td>\n",
       "      <td>45.0</td>\n",
       "      <td>155.0</td>\n",
       "      <td>27.0</td>\n",
       "      <td>69</td>\n",
       "      <td>2018-11-13</td>\n",
       "      <td>Челябинск</td>\n",
       "      <td>...</td>\n",
       "      <td>30720</td>\n",
       "      <td>3000</td>\n",
       "      <td>1950</td>\n",
       "      <td>150</td>\n",
       "      <td>1</td>\n",
       "      <td>1</td>\n",
       "      <td>-2845.0</td>\n",
       "      <td>-955.0</td>\n",
       "      <td>-955.0</td>\n",
       "      <td>-3450.0</td>\n",
       "    </tr>\n",
       "  </tbody>\n",
       "</table>\n",
       "<p>3216 rows × 25 columns</p>\n",
       "</div>"
      ],
      "text/plain": [
       "      user_id  month   mb_used  gb_used  messages_sent_amount  sum_duration  \\\n",
       "710      1377    8.0   5749.01      6.0                  11.0        1273.0   \n",
       "2767     1404   11.0  17865.19     18.0                  59.0         226.0   \n",
       "2616     1370    8.0  18743.46     19.0                   0.0         123.0   \n",
       "1489     1113    4.0  17236.47     17.0                  42.0         785.0   \n",
       "115      1080    9.0   2335.64      3.0                  53.0         951.0   \n",
       "...       ...    ...       ...      ...                   ...           ...   \n",
       "1713     1158    7.0  12697.41     13.0                  69.0         546.0   \n",
       "549      1310   12.0  19012.99     19.0                  49.0         483.0   \n",
       "585      1331    8.0  28074.27     28.0                  71.0         409.0   \n",
       "1567     1127   10.0  13380.63     14.0                  72.0         249.0   \n",
       "470      1271   11.0   6976.25      7.0                  45.0         155.0   \n",
       "\n",
       "      count_calls  age churn_date          city  ... mb_per_month_included  \\\n",
       "710         161.0   59        NaT        Брянск  ...                 30720   \n",
       "2767         39.0   61        NaT       Иркутск  ...                 15360   \n",
       "2616         17.0   48 2018-10-27  Новороссийск  ...                 15360   \n",
       "1489        109.0   52        NaT          Чита  ...                 15360   \n",
       "115         130.0   28        NaT        Москва  ...                 30720   \n",
       "...           ...  ...        ...           ...  ...                   ...   \n",
       "1713         77.0   45        NaT   Новокузнецк  ...                 15360   \n",
       "549          74.0   28        NaT           Уфа  ...                 30720   \n",
       "585          58.0   26        NaT        Москва  ...                 30720   \n",
       "1567         35.0   26        NaT        Казань  ...                 15360   \n",
       "470          27.0   69 2018-11-13     Челябинск  ...                 30720   \n",
       "\n",
       "     minutes_included rub_monthly_fee rub_per_gb  rub_per_message  \\\n",
       "710              3000            1950        150                1   \n",
       "2767              500             550        200                3   \n",
       "2616              500             550        200                3   \n",
       "1489              500             550        200                3   \n",
       "115              3000            1950        150                1   \n",
       "...               ...             ...        ...              ...   \n",
       "1713              500             550        200                3   \n",
       "549              3000            1950        150                1   \n",
       "585              3000            1950        150                1   \n",
       "1567              500             550        200                3   \n",
       "470              3000            1950        150                1   \n",
       "\n",
       "      rub_per_minute  minutes_profit  sms_profit  profit  internet_profit  \n",
       "710                1         -1727.0      -989.0  -989.0          -3600.0  \n",
       "2767               3          -822.0        27.0    27.0            600.0  \n",
       "2616               3         -1131.0      -150.0  -150.0            800.0  \n",
       "1489               3           855.0       -24.0   -24.0            400.0  \n",
       "115                1         -2049.0      -947.0  -947.0          -4050.0  \n",
       "...              ...             ...         ...     ...              ...  \n",
       "1713               3           138.0        57.0    57.0           -400.0  \n",
       "549                1         -2517.0      -951.0  -951.0          -1650.0  \n",
       "585                1         -2591.0      -929.0  -929.0           -300.0  \n",
       "1567               3          -753.0        66.0    66.0           -200.0  \n",
       "470                1         -2845.0      -955.0  -955.0          -3450.0  \n",
       "\n",
       "[3216 rows x 25 columns]"
      ]
     },
     "execution_count": 41,
     "metadata": {},
     "output_type": "execute_result"
    }
   ],
   "source": [
    "df['minutes_profit'] = (df['sum_duration'] - df['minutes_included']) * df['rub_per_minute'] # добавление столбца\n",
    "df['sms_profit'] = df['profit'] = (df['messages_sent_amount'] - df['messages_included']) * df['rub_per_message'] # добавление столбца\n",
    "df['internet_profit'] = (df['gb_used'] - (df['mb_per_month_included']  / 1024)) * df['rub_per_gb'] # добавление столбца\n",
    "df.sample(frac = 1)"
   ]
  },
  {
   "cell_type": "markdown",
   "metadata": {},
   "source": [
    "Можно заметить, что часть значений в столбцах отрицательные. Это означает, что пользователи не пользовались услугами вне тарифного плана за дополнительную плату. Поэтому заменим все отрицательные значения в этих столбцах на 0.\n",
    "\n",
    "Создадим столбец `profit`, в котором сложим выручку за пользования услугами вне тарифного плана и стоимость тарифного плана. Это и будет помесячная выручка с каждого пользователя."
   ]
  },
  {
   "cell_type": "code",
   "execution_count": 42,
   "metadata": {},
   "outputs": [
    {
     "data": {
      "text/html": [
       "<div>\n",
       "<style scoped>\n",
       "    .dataframe tbody tr th:only-of-type {\n",
       "        vertical-align: middle;\n",
       "    }\n",
       "\n",
       "    .dataframe tbody tr th {\n",
       "        vertical-align: top;\n",
       "    }\n",
       "\n",
       "    .dataframe thead th {\n",
       "        text-align: right;\n",
       "    }\n",
       "</style>\n",
       "<table border=\"1\" class=\"dataframe\">\n",
       "  <thead>\n",
       "    <tr style=\"text-align: right;\">\n",
       "      <th></th>\n",
       "      <th>user_id</th>\n",
       "      <th>month</th>\n",
       "      <th>mb_used</th>\n",
       "      <th>gb_used</th>\n",
       "      <th>messages_sent_amount</th>\n",
       "      <th>sum_duration</th>\n",
       "      <th>count_calls</th>\n",
       "      <th>age</th>\n",
       "      <th>churn_date</th>\n",
       "      <th>city</th>\n",
       "      <th>...</th>\n",
       "      <th>mb_per_month_included</th>\n",
       "      <th>minutes_included</th>\n",
       "      <th>rub_monthly_fee</th>\n",
       "      <th>rub_per_gb</th>\n",
       "      <th>rub_per_message</th>\n",
       "      <th>rub_per_minute</th>\n",
       "      <th>minutes_profit</th>\n",
       "      <th>sms_profit</th>\n",
       "      <th>profit</th>\n",
       "      <th>internet_profit</th>\n",
       "    </tr>\n",
       "  </thead>\n",
       "  <tbody>\n",
       "    <tr>\n",
       "      <th>1638</th>\n",
       "      <td>1144</td>\n",
       "      <td>7.0</td>\n",
       "      <td>12454.44</td>\n",
       "      <td>13.0</td>\n",
       "      <td>80.0</td>\n",
       "      <td>398.0</td>\n",
       "      <td>67.0</td>\n",
       "      <td>65</td>\n",
       "      <td>NaT</td>\n",
       "      <td>Улан-Удэ</td>\n",
       "      <td>...</td>\n",
       "      <td>15360</td>\n",
       "      <td>500</td>\n",
       "      <td>550</td>\n",
       "      <td>200</td>\n",
       "      <td>3</td>\n",
       "      <td>3</td>\n",
       "      <td>0.0</td>\n",
       "      <td>90.0</td>\n",
       "      <td>640.0</td>\n",
       "      <td>0.0</td>\n",
       "    </tr>\n",
       "    <tr>\n",
       "      <th>293</th>\n",
       "      <td>1167</td>\n",
       "      <td>11.0</td>\n",
       "      <td>19930.29</td>\n",
       "      <td>20.0</td>\n",
       "      <td>148.0</td>\n",
       "      <td>588.0</td>\n",
       "      <td>83.0</td>\n",
       "      <td>30</td>\n",
       "      <td>NaT</td>\n",
       "      <td>Кемерово</td>\n",
       "      <td>...</td>\n",
       "      <td>30720</td>\n",
       "      <td>3000</td>\n",
       "      <td>1950</td>\n",
       "      <td>150</td>\n",
       "      <td>1</td>\n",
       "      <td>1</td>\n",
       "      <td>0.0</td>\n",
       "      <td>0.0</td>\n",
       "      <td>1950.0</td>\n",
       "      <td>0.0</td>\n",
       "    </tr>\n",
       "    <tr>\n",
       "      <th>1844</th>\n",
       "      <td>1184</td>\n",
       "      <td>10.0</td>\n",
       "      <td>16462.90</td>\n",
       "      <td>17.0</td>\n",
       "      <td>3.0</td>\n",
       "      <td>319.0</td>\n",
       "      <td>42.0</td>\n",
       "      <td>21</td>\n",
       "      <td>NaT</td>\n",
       "      <td>Барнаул</td>\n",
       "      <td>...</td>\n",
       "      <td>15360</td>\n",
       "      <td>500</td>\n",
       "      <td>550</td>\n",
       "      <td>200</td>\n",
       "      <td>3</td>\n",
       "      <td>3</td>\n",
       "      <td>0.0</td>\n",
       "      <td>0.0</td>\n",
       "      <td>950.0</td>\n",
       "      <td>400.0</td>\n",
       "    </tr>\n",
       "    <tr>\n",
       "      <th>688</th>\n",
       "      <td>1369</td>\n",
       "      <td>8.0</td>\n",
       "      <td>10880.74</td>\n",
       "      <td>11.0</td>\n",
       "      <td>44.0</td>\n",
       "      <td>74.0</td>\n",
       "      <td>12.0</td>\n",
       "      <td>31</td>\n",
       "      <td>NaT</td>\n",
       "      <td>Краснодар</td>\n",
       "      <td>...</td>\n",
       "      <td>30720</td>\n",
       "      <td>3000</td>\n",
       "      <td>1950</td>\n",
       "      <td>150</td>\n",
       "      <td>1</td>\n",
       "      <td>1</td>\n",
       "      <td>0.0</td>\n",
       "      <td>0.0</td>\n",
       "      <td>1950.0</td>\n",
       "      <td>0.0</td>\n",
       "    </tr>\n",
       "    <tr>\n",
       "      <th>445</th>\n",
       "      <td>1255</td>\n",
       "      <td>9.0</td>\n",
       "      <td>492.03</td>\n",
       "      <td>1.0</td>\n",
       "      <td>0.0</td>\n",
       "      <td>11.0</td>\n",
       "      <td>3.0</td>\n",
       "      <td>40</td>\n",
       "      <td>2018-09-02</td>\n",
       "      <td>Саранск</td>\n",
       "      <td>...</td>\n",
       "      <td>30720</td>\n",
       "      <td>3000</td>\n",
       "      <td>1950</td>\n",
       "      <td>150</td>\n",
       "      <td>1</td>\n",
       "      <td>1</td>\n",
       "      <td>0.0</td>\n",
       "      <td>0.0</td>\n",
       "      <td>1950.0</td>\n",
       "      <td>0.0</td>\n",
       "    </tr>\n",
       "    <tr>\n",
       "      <th>...</th>\n",
       "      <td>...</td>\n",
       "      <td>...</td>\n",
       "      <td>...</td>\n",
       "      <td>...</td>\n",
       "      <td>...</td>\n",
       "      <td>...</td>\n",
       "      <td>...</td>\n",
       "      <td>...</td>\n",
       "      <td>...</td>\n",
       "      <td>...</td>\n",
       "      <td>...</td>\n",
       "      <td>...</td>\n",
       "      <td>...</td>\n",
       "      <td>...</td>\n",
       "      <td>...</td>\n",
       "      <td>...</td>\n",
       "      <td>...</td>\n",
       "      <td>...</td>\n",
       "      <td>...</td>\n",
       "      <td>...</td>\n",
       "      <td>...</td>\n",
       "    </tr>\n",
       "    <tr>\n",
       "      <th>266</th>\n",
       "      <td>1151</td>\n",
       "      <td>9.0</td>\n",
       "      <td>2123.81</td>\n",
       "      <td>3.0</td>\n",
       "      <td>5.0</td>\n",
       "      <td>375.0</td>\n",
       "      <td>55.0</td>\n",
       "      <td>39</td>\n",
       "      <td>NaT</td>\n",
       "      <td>Пенза</td>\n",
       "      <td>...</td>\n",
       "      <td>30720</td>\n",
       "      <td>3000</td>\n",
       "      <td>1950</td>\n",
       "      <td>150</td>\n",
       "      <td>1</td>\n",
       "      <td>1</td>\n",
       "      <td>0.0</td>\n",
       "      <td>0.0</td>\n",
       "      <td>1950.0</td>\n",
       "      <td>0.0</td>\n",
       "    </tr>\n",
       "    <tr>\n",
       "      <th>646</th>\n",
       "      <td>1352</td>\n",
       "      <td>12.0</td>\n",
       "      <td>19446.14</td>\n",
       "      <td>19.0</td>\n",
       "      <td>9.0</td>\n",
       "      <td>706.0</td>\n",
       "      <td>103.0</td>\n",
       "      <td>53</td>\n",
       "      <td>NaT</td>\n",
       "      <td>Рязань</td>\n",
       "      <td>...</td>\n",
       "      <td>30720</td>\n",
       "      <td>3000</td>\n",
       "      <td>1950</td>\n",
       "      <td>150</td>\n",
       "      <td>1</td>\n",
       "      <td>1</td>\n",
       "      <td>0.0</td>\n",
       "      <td>0.0</td>\n",
       "      <td>1950.0</td>\n",
       "      <td>0.0</td>\n",
       "    </tr>\n",
       "    <tr>\n",
       "      <th>858</th>\n",
       "      <td>1436</td>\n",
       "      <td>11.0</td>\n",
       "      <td>15738.07</td>\n",
       "      <td>16.0</td>\n",
       "      <td>20.0</td>\n",
       "      <td>479.0</td>\n",
       "      <td>77.0</td>\n",
       "      <td>75</td>\n",
       "      <td>NaT</td>\n",
       "      <td>Москва</td>\n",
       "      <td>...</td>\n",
       "      <td>30720</td>\n",
       "      <td>3000</td>\n",
       "      <td>1950</td>\n",
       "      <td>150</td>\n",
       "      <td>1</td>\n",
       "      <td>1</td>\n",
       "      <td>0.0</td>\n",
       "      <td>0.0</td>\n",
       "      <td>1950.0</td>\n",
       "      <td>0.0</td>\n",
       "    </tr>\n",
       "    <tr>\n",
       "      <th>1981</th>\n",
       "      <td>1214</td>\n",
       "      <td>11.0</td>\n",
       "      <td>10105.44</td>\n",
       "      <td>10.0</td>\n",
       "      <td>66.0</td>\n",
       "      <td>432.0</td>\n",
       "      <td>57.0</td>\n",
       "      <td>42</td>\n",
       "      <td>NaT</td>\n",
       "      <td>Калининград</td>\n",
       "      <td>...</td>\n",
       "      <td>15360</td>\n",
       "      <td>500</td>\n",
       "      <td>550</td>\n",
       "      <td>200</td>\n",
       "      <td>3</td>\n",
       "      <td>3</td>\n",
       "      <td>0.0</td>\n",
       "      <td>48.0</td>\n",
       "      <td>598.0</td>\n",
       "      <td>0.0</td>\n",
       "    </tr>\n",
       "    <tr>\n",
       "      <th>1369</th>\n",
       "      <td>1079</td>\n",
       "      <td>8.0</td>\n",
       "      <td>12765.65</td>\n",
       "      <td>13.0</td>\n",
       "      <td>27.0</td>\n",
       "      <td>653.0</td>\n",
       "      <td>83.0</td>\n",
       "      <td>20</td>\n",
       "      <td>NaT</td>\n",
       "      <td>Москва</td>\n",
       "      <td>...</td>\n",
       "      <td>15360</td>\n",
       "      <td>500</td>\n",
       "      <td>550</td>\n",
       "      <td>200</td>\n",
       "      <td>3</td>\n",
       "      <td>3</td>\n",
       "      <td>459.0</td>\n",
       "      <td>0.0</td>\n",
       "      <td>1009.0</td>\n",
       "      <td>0.0</td>\n",
       "    </tr>\n",
       "  </tbody>\n",
       "</table>\n",
       "<p>3216 rows × 25 columns</p>\n",
       "</div>"
      ],
      "text/plain": [
       "      user_id  month   mb_used  gb_used  messages_sent_amount  sum_duration  \\\n",
       "1638     1144    7.0  12454.44     13.0                  80.0         398.0   \n",
       "293      1167   11.0  19930.29     20.0                 148.0         588.0   \n",
       "1844     1184   10.0  16462.90     17.0                   3.0         319.0   \n",
       "688      1369    8.0  10880.74     11.0                  44.0          74.0   \n",
       "445      1255    9.0    492.03      1.0                   0.0          11.0   \n",
       "...       ...    ...       ...      ...                   ...           ...   \n",
       "266      1151    9.0   2123.81      3.0                   5.0         375.0   \n",
       "646      1352   12.0  19446.14     19.0                   9.0         706.0   \n",
       "858      1436   11.0  15738.07     16.0                  20.0         479.0   \n",
       "1981     1214   11.0  10105.44     10.0                  66.0         432.0   \n",
       "1369     1079    8.0  12765.65     13.0                  27.0         653.0   \n",
       "\n",
       "      count_calls  age churn_date         city  ... mb_per_month_included  \\\n",
       "1638         67.0   65        NaT     Улан-Удэ  ...                 15360   \n",
       "293          83.0   30        NaT     Кемерово  ...                 30720   \n",
       "1844         42.0   21        NaT      Барнаул  ...                 15360   \n",
       "688          12.0   31        NaT    Краснодар  ...                 30720   \n",
       "445           3.0   40 2018-09-02      Саранск  ...                 30720   \n",
       "...           ...  ...        ...          ...  ...                   ...   \n",
       "266          55.0   39        NaT        Пенза  ...                 30720   \n",
       "646         103.0   53        NaT       Рязань  ...                 30720   \n",
       "858          77.0   75        NaT       Москва  ...                 30720   \n",
       "1981         57.0   42        NaT  Калининград  ...                 15360   \n",
       "1369         83.0   20        NaT       Москва  ...                 15360   \n",
       "\n",
       "     minutes_included rub_monthly_fee rub_per_gb  rub_per_message  \\\n",
       "1638              500             550        200                3   \n",
       "293              3000            1950        150                1   \n",
       "1844              500             550        200                3   \n",
       "688              3000            1950        150                1   \n",
       "445              3000            1950        150                1   \n",
       "...               ...             ...        ...              ...   \n",
       "266              3000            1950        150                1   \n",
       "646              3000            1950        150                1   \n",
       "858              3000            1950        150                1   \n",
       "1981              500             550        200                3   \n",
       "1369              500             550        200                3   \n",
       "\n",
       "      rub_per_minute  minutes_profit  sms_profit  profit  internet_profit  \n",
       "1638               3             0.0        90.0   640.0              0.0  \n",
       "293                1             0.0         0.0  1950.0              0.0  \n",
       "1844               3             0.0         0.0   950.0            400.0  \n",
       "688                1             0.0         0.0  1950.0              0.0  \n",
       "445                1             0.0         0.0  1950.0              0.0  \n",
       "...              ...             ...         ...     ...              ...  \n",
       "266                1             0.0         0.0  1950.0              0.0  \n",
       "646                1             0.0         0.0  1950.0              0.0  \n",
       "858                1             0.0         0.0  1950.0              0.0  \n",
       "1981               3             0.0        48.0   598.0              0.0  \n",
       "1369               3           459.0         0.0  1009.0              0.0  \n",
       "\n",
       "[3216 rows x 25 columns]"
      ]
     },
     "execution_count": 42,
     "metadata": {},
     "output_type": "execute_result"
    }
   ],
   "source": [
    "df.loc[df['minutes_profit'] <= 0, 'minutes_profit'] = 0 # замена значений меньше 0 на 0\n",
    "df.loc[df['sms_profit'] <= 0, 'sms_profit'] = 0 # замена значений меньше 0 на 0\n",
    "df.loc[df['internet_profit'] <= 0, 'internet_profit'] = 0 # замена значений меньше 0 на 0\n",
    "df['profit'] = df['minutes_profit'] + df['sms_profit'] + df['internet_profit'] + df['rub_monthly_fee'] # добавление столбца\n",
    "df.sample(frac = 1)"
   ]
  },
  {
   "cell_type": "markdown",
   "metadata": {},
   "source": [
    "Общая выручка"
   ]
  },
  {
   "cell_type": "code",
   "execution_count": 43,
   "metadata": {},
   "outputs": [
    {
     "data": {
      "text/plain": [
       "4916951.0"
      ]
     },
     "execution_count": 43,
     "metadata": {},
     "output_type": "execute_result"
    }
   ],
   "source": [
    "df['profit'].sum()"
   ]
  },
  {
   "cell_type": "markdown",
   "metadata": {},
   "source": [
    "### Вывод"
   ]
  },
  {
   "cell_type": "markdown",
   "metadata": {},
   "source": [
    "В этом разделе провели обработку данных в таблицах `users`, `calls`, `messages`, `internet`, `tariffs`, а также посчитали для каждого пользователя:\n",
    "\n",
    "* количество сделанных звонков и израсходованных минут разговора по месяцам (столбцы `sum_duration`, `count_calls` в таблице `calls_expense`);\n",
    "* количество отправленных сообщений по месяцам (столбец `messages_sent_amount` в таблице `messages_sent`);\n",
    "* объем израсходованного интернет-трафика по месяцам (столбец `gb_used` в таблице `internet_sent`);\n",
    "* помесячную выручку с каждого пользователя (столбец `profit` в таблице `df`).\n",
    "\n",
    "Эти данные понадобятся для дальнейшего анализа."
   ]
  },
  {
   "cell_type": "markdown",
   "metadata": {},
   "source": [
    "## Анализ и описание данных"
   ]
  },
  {
   "cell_type": "markdown",
   "metadata": {},
   "source": [
    "### Анализ тарифа «Смарт»"
   ]
  },
  {
   "cell_type": "markdown",
   "metadata": {},
   "source": [
    "Выберим из таблицы только строки, где тариф «Смарт». Назовем такую таблицу `smart` и выведим информацию о ней и первые 5 строк."
   ]
  },
  {
   "cell_type": "code",
   "execution_count": 44,
   "metadata": {},
   "outputs": [
    {
     "name": "stdout",
     "output_type": "stream",
     "text": [
      "<class 'pandas.core.frame.DataFrame'>\n",
      "Int64Index: 2230 entries, 986 to 3215\n",
      "Data columns (total 25 columns):\n",
      " #   Column                 Non-Null Count  Dtype         \n",
      "---  ------                 --------------  -----         \n",
      " 0   user_id                2230 non-null   int64         \n",
      " 1   month                  2229 non-null   float64       \n",
      " 2   mb_used                2230 non-null   float64       \n",
      " 3   gb_used                2230 non-null   float64       \n",
      " 4   messages_sent_amount   2230 non-null   float64       \n",
      " 5   sum_duration           2230 non-null   float64       \n",
      " 6   count_calls            2230 non-null   float64       \n",
      " 7   age                    2230 non-null   int64         \n",
      " 8   churn_date             112 non-null    datetime64[ns]\n",
      " 9   city                   2230 non-null   object        \n",
      " 10  first_name             2230 non-null   object        \n",
      " 11  last_name              2230 non-null   object        \n",
      " 12  reg_date               2230 non-null   datetime64[ns]\n",
      " 13  tariff_name            2230 non-null   object        \n",
      " 14  messages_included      2230 non-null   int64         \n",
      " 15  mb_per_month_included  2230 non-null   int64         \n",
      " 16  minutes_included       2230 non-null   int64         \n",
      " 17  rub_monthly_fee        2230 non-null   int64         \n",
      " 18  rub_per_gb             2230 non-null   int64         \n",
      " 19  rub_per_message        2230 non-null   int64         \n",
      " 20  rub_per_minute         2230 non-null   int64         \n",
      " 21  minutes_profit         2230 non-null   float64       \n",
      " 22  sms_profit             2230 non-null   float64       \n",
      " 23  profit                 2230 non-null   float64       \n",
      " 24  internet_profit        2230 non-null   float64       \n",
      "dtypes: datetime64[ns](2), float64(10), int64(9), object(4)\n",
      "memory usage: 453.0+ KB\n"
     ]
    },
    {
     "data": {
      "text/html": [
       "<div>\n",
       "<style scoped>\n",
       "    .dataframe tbody tr th:only-of-type {\n",
       "        vertical-align: middle;\n",
       "    }\n",
       "\n",
       "    .dataframe tbody tr th {\n",
       "        vertical-align: top;\n",
       "    }\n",
       "\n",
       "    .dataframe thead th {\n",
       "        text-align: right;\n",
       "    }\n",
       "</style>\n",
       "<table border=\"1\" class=\"dataframe\">\n",
       "  <thead>\n",
       "    <tr style=\"text-align: right;\">\n",
       "      <th></th>\n",
       "      <th>user_id</th>\n",
       "      <th>month</th>\n",
       "      <th>mb_used</th>\n",
       "      <th>gb_used</th>\n",
       "      <th>messages_sent_amount</th>\n",
       "      <th>sum_duration</th>\n",
       "      <th>count_calls</th>\n",
       "      <th>age</th>\n",
       "      <th>churn_date</th>\n",
       "      <th>city</th>\n",
       "      <th>...</th>\n",
       "      <th>mb_per_month_included</th>\n",
       "      <th>minutes_included</th>\n",
       "      <th>rub_monthly_fee</th>\n",
       "      <th>rub_per_gb</th>\n",
       "      <th>rub_per_message</th>\n",
       "      <th>rub_per_minute</th>\n",
       "      <th>minutes_profit</th>\n",
       "      <th>sms_profit</th>\n",
       "      <th>profit</th>\n",
       "      <th>internet_profit</th>\n",
       "    </tr>\n",
       "  </thead>\n",
       "  <tbody>\n",
       "    <tr>\n",
       "      <th>986</th>\n",
       "      <td>1001</td>\n",
       "      <td>11.0</td>\n",
       "      <td>18429.34</td>\n",
       "      <td>18.0</td>\n",
       "      <td>0.0</td>\n",
       "      <td>430.0</td>\n",
       "      <td>59.0</td>\n",
       "      <td>41</td>\n",
       "      <td>NaT</td>\n",
       "      <td>Москва</td>\n",
       "      <td>...</td>\n",
       "      <td>15360</td>\n",
       "      <td>500</td>\n",
       "      <td>550</td>\n",
       "      <td>200</td>\n",
       "      <td>3</td>\n",
       "      <td>3</td>\n",
       "      <td>0.0</td>\n",
       "      <td>0.0</td>\n",
       "      <td>1150.0</td>\n",
       "      <td>600.0</td>\n",
       "    </tr>\n",
       "    <tr>\n",
       "      <th>987</th>\n",
       "      <td>1001</td>\n",
       "      <td>12.0</td>\n",
       "      <td>14036.66</td>\n",
       "      <td>14.0</td>\n",
       "      <td>0.0</td>\n",
       "      <td>414.0</td>\n",
       "      <td>63.0</td>\n",
       "      <td>41</td>\n",
       "      <td>NaT</td>\n",
       "      <td>Москва</td>\n",
       "      <td>...</td>\n",
       "      <td>15360</td>\n",
       "      <td>500</td>\n",
       "      <td>550</td>\n",
       "      <td>200</td>\n",
       "      <td>3</td>\n",
       "      <td>3</td>\n",
       "      <td>0.0</td>\n",
       "      <td>0.0</td>\n",
       "      <td>550.0</td>\n",
       "      <td>0.0</td>\n",
       "    </tr>\n",
       "    <tr>\n",
       "      <th>988</th>\n",
       "      <td>1002</td>\n",
       "      <td>6.0</td>\n",
       "      <td>10856.82</td>\n",
       "      <td>11.0</td>\n",
       "      <td>4.0</td>\n",
       "      <td>117.0</td>\n",
       "      <td>15.0</td>\n",
       "      <td>59</td>\n",
       "      <td>NaT</td>\n",
       "      <td>Стерлитамак</td>\n",
       "      <td>...</td>\n",
       "      <td>15360</td>\n",
       "      <td>500</td>\n",
       "      <td>550</td>\n",
       "      <td>200</td>\n",
       "      <td>3</td>\n",
       "      <td>3</td>\n",
       "      <td>0.0</td>\n",
       "      <td>0.0</td>\n",
       "      <td>550.0</td>\n",
       "      <td>0.0</td>\n",
       "    </tr>\n",
       "    <tr>\n",
       "      <th>989</th>\n",
       "      <td>1002</td>\n",
       "      <td>7.0</td>\n",
       "      <td>17580.10</td>\n",
       "      <td>18.0</td>\n",
       "      <td>11.0</td>\n",
       "      <td>214.0</td>\n",
       "      <td>26.0</td>\n",
       "      <td>59</td>\n",
       "      <td>NaT</td>\n",
       "      <td>Стерлитамак</td>\n",
       "      <td>...</td>\n",
       "      <td>15360</td>\n",
       "      <td>500</td>\n",
       "      <td>550</td>\n",
       "      <td>200</td>\n",
       "      <td>3</td>\n",
       "      <td>3</td>\n",
       "      <td>0.0</td>\n",
       "      <td>0.0</td>\n",
       "      <td>1150.0</td>\n",
       "      <td>600.0</td>\n",
       "    </tr>\n",
       "    <tr>\n",
       "      <th>990</th>\n",
       "      <td>1002</td>\n",
       "      <td>8.0</td>\n",
       "      <td>20319.26</td>\n",
       "      <td>20.0</td>\n",
       "      <td>13.0</td>\n",
       "      <td>289.0</td>\n",
       "      <td>42.0</td>\n",
       "      <td>59</td>\n",
       "      <td>NaT</td>\n",
       "      <td>Стерлитамак</td>\n",
       "      <td>...</td>\n",
       "      <td>15360</td>\n",
       "      <td>500</td>\n",
       "      <td>550</td>\n",
       "      <td>200</td>\n",
       "      <td>3</td>\n",
       "      <td>3</td>\n",
       "      <td>0.0</td>\n",
       "      <td>0.0</td>\n",
       "      <td>1550.0</td>\n",
       "      <td>1000.0</td>\n",
       "    </tr>\n",
       "  </tbody>\n",
       "</table>\n",
       "<p>5 rows × 25 columns</p>\n",
       "</div>"
      ],
      "text/plain": [
       "     user_id  month   mb_used  gb_used  messages_sent_amount  sum_duration  \\\n",
       "986     1001   11.0  18429.34     18.0                   0.0         430.0   \n",
       "987     1001   12.0  14036.66     14.0                   0.0         414.0   \n",
       "988     1002    6.0  10856.82     11.0                   4.0         117.0   \n",
       "989     1002    7.0  17580.10     18.0                  11.0         214.0   \n",
       "990     1002    8.0  20319.26     20.0                  13.0         289.0   \n",
       "\n",
       "     count_calls  age churn_date         city  ... mb_per_month_included  \\\n",
       "986         59.0   41        NaT       Москва  ...                 15360   \n",
       "987         63.0   41        NaT       Москва  ...                 15360   \n",
       "988         15.0   59        NaT  Стерлитамак  ...                 15360   \n",
       "989         26.0   59        NaT  Стерлитамак  ...                 15360   \n",
       "990         42.0   59        NaT  Стерлитамак  ...                 15360   \n",
       "\n",
       "    minutes_included rub_monthly_fee rub_per_gb  rub_per_message  \\\n",
       "986              500             550        200                3   \n",
       "987              500             550        200                3   \n",
       "988              500             550        200                3   \n",
       "989              500             550        200                3   \n",
       "990              500             550        200                3   \n",
       "\n",
       "     rub_per_minute  minutes_profit  sms_profit  profit  internet_profit  \n",
       "986               3             0.0         0.0  1150.0            600.0  \n",
       "987               3             0.0         0.0   550.0              0.0  \n",
       "988               3             0.0         0.0   550.0              0.0  \n",
       "989               3             0.0         0.0  1150.0            600.0  \n",
       "990               3             0.0         0.0  1550.0           1000.0  \n",
       "\n",
       "[5 rows x 25 columns]"
      ]
     },
     "execution_count": 44,
     "metadata": {},
     "output_type": "execute_result"
    }
   ],
   "source": [
    "smart = df[df['tariff_name'].isin(['smart'])] # срез строк \n",
    "smart.info()\n",
    "smart.head()"
   ]
  },
  {
   "cell_type": "markdown",
   "metadata": {},
   "source": [
    "Необходимо ответить на вопрос: сколько минут разговора, сколько сообщений и какой объём интернет-трафика требуется пользователям каждого тарифа в месяц? Посчитаем среднее количество, дисперсию и стандартное отклонение для всех этих столбцов данных."
   ]
  },
  {
   "cell_type": "code",
   "execution_count": 45,
   "metadata": {},
   "outputs": [
    {
     "name": "stdout",
     "output_type": "stream",
     "text": [
      " Cреднее количество минут разговора для тарифа «Смарт» 417.75 \n",
      " Дисперсия 36281.39 \n",
      " Стандартное отклонение 190.48\n"
     ]
    }
   ],
   "source": [
    "sum_duration_variance_smart = np.var(smart['sum_duration'], ddof = 1) # расчет дисперсии\n",
    "sum_duration_standart_deviation_smart = np.std(smart['sum_duration'], ddof = 1) # расчет стандартного отклонения\n",
    "sum_duration_mean_smart = smart['sum_duration'].mean() # расчет среднего\n",
    "print(f' Cреднее количество минут разговора для тарифа «Смарт» {sum_duration_mean_smart:.2f} \\n Дисперсия {sum_duration_variance_smart:.2f} \\n Стандартное отклонение {sum_duration_standart_deviation_smart:.2f}')"
   ]
  },
  {
   "cell_type": "code",
   "execution_count": 46,
   "metadata": {},
   "outputs": [
    {
     "name": "stdout",
     "output_type": "stream",
     "text": [
      " Cреднее количество сообщений для тарифа «Смарт» 33.37 \n",
      " Дисперсия 796.96 \n",
      " Стандартное отклонение 28.23\n"
     ]
    }
   ],
   "source": [
    "messages_variance_smart = np.var(smart['messages_sent_amount'], ddof = 1) # расчет дисперсии\n",
    "messages_standart_deviation_smart = np.std(smart['messages_sent_amount'], ddof = 1) # расчет стандартного отклонения\n",
    "messages_mean_smart = smart['messages_sent_amount'].mean() # расчет среднего\n",
    "print(f' Cреднее количество сообщений для тарифа «Смарт» {messages_mean_smart:.2f} \\n Дисперсия {messages_variance_smart:.2f} \\n Стандартное отклонение {messages_standart_deviation_smart:.2f}')"
   ]
  },
  {
   "cell_type": "code",
   "execution_count": 47,
   "metadata": {},
   "outputs": [
    {
     "name": "stdout",
     "output_type": "stream",
     "text": [
      " Cредний объём интернет-трафика для тарифа «Смарт» 16.32 \n",
      " Дисперсия 33.13 \n",
      " Стандартное отклонение 5.76\n"
     ]
    }
   ],
   "source": [
    "gb_used_variance_smart = np.var(smart['gb_used'], ddof = 1) # расчет дисперсии\n",
    "gb_used_standart_deviation_smart = np.std(smart['gb_used'], ddof = 1) # расчет стандартного отклонения\n",
    "gb_used_mean_smart = smart['gb_used'].mean() # расчет среднего\n",
    "print(f' Cредний объём интернет-трафика для тарифа «Смарт» {gb_used_mean_smart:.2f} \\n Дисперсия {gb_used_variance_smart:.2f} \\n Стандартное отклонение {gb_used_standart_deviation_smart:.2f}')"
   ]
  },
  {
   "cell_type": "markdown",
   "metadata": {},
   "source": [
    "Построим гистограммы распределения для суммарной продолжительности разговора за месяц для кажого пользователя, количества сообщений, объёма интернет-трафика."
   ]
  },
  {
   "cell_type": "code",
   "execution_count": 48,
   "metadata": {
    "scrolled": true
   },
   "outputs": [
    {
     "data": {
      "image/png": "[encoded data removed]",
      "text/plain": [
       "<Figure size 432x288 with 1 Axes>"
      ]
     },
     "metadata": {
      "needs_background": "light"
     },
     "output_type": "display_data"
    }
   ],
   "source": [
    "smart_call = smart['sum_duration'].hist(bins=20) # построение гистограммы\n",
    "# добавляем подписи к осям и заголовка графика\n",
    "smart_call.set_xlabel('количество пользователей')\n",
    "smart_call.set_ylabel('продолжительность разговора в минутах')\n",
    "smart_call.set_title('Гистограмма распределения для продолжительности разговора'+ \"\\n\");"
   ]
  },
  {
   "cell_type": "code",
   "execution_count": 49,
   "metadata": {},
   "outputs": [
    {
     "data": {
      "text/plain": [
       "0.0      308\n",
       "20.0      39\n",
       "16.0      38\n",
       "13.0      37\n",
       "14.0      36\n",
       "        ... \n",
       "112.0      1\n",
       "117.0      1\n",
       "110.0      1\n",
       "129.0      1\n",
       "121.0      1\n",
       "Name: messages_sent_amount, Length: 124, dtype: int64"
      ]
     },
     "execution_count": 49,
     "metadata": {},
     "output_type": "execute_result"
    },
    {
     "data": {
      "image/png": "[encoded data removed]",
      "text/plain": [
       "<Figure size 432x288 with 1 Axes>"
      ]
     },
     "metadata": {
      "needs_background": "light"
     },
     "output_type": "display_data"
    }
   ],
   "source": [
    "smart_sms = smart['messages_sent_amount'].hist(bins = 100) # построение гистограммы\n",
    "# добавляем подписи к осям и заголовка графика\n",
    "smart_sms.set_xlabel('количество пользователей')\n",
    "smart_sms.set_ylabel('количество сообщений')\n",
    "smart_sms.set_title('Гистограмма распределения количества сообщений'+ \"\\n\");\n",
    "smart['messages_sent_amount'].value_counts()"
   ]
  },
  {
   "cell_type": "code",
   "execution_count": 50,
   "metadata": {},
   "outputs": [
    {
     "data": {
      "image/png": "[encoded data removed]",
      "text/plain": [
       "<Figure size 432x288 with 1 Axes>"
      ]
     },
     "metadata": {
      "needs_background": "light"
     },
     "output_type": "display_data"
    }
   ],
   "source": [
    "smart_gb = smart['gb_used'].hist(bins = 100); # построение гистограммы\n",
    "# добавляем подписи к осям и заголовка графика\n",
    "smart_gb.set_xlabel('количество пользователей')\n",
    "smart_gb.set_ylabel('потраченный интернет-трафик')\n",
    "smart_gb.set_title('Гистограмма распределения объема интренет-трафика'+ \"\\n\");"
   ]
  },
  {
   "cell_type": "markdown",
   "metadata": {},
   "source": [
    "По гистограммам можно описать распределения: количество пользователей с продолжительностью звонков распределено нормально,  количество пользователей с объемом интернет-трафика распределено нормально. Сложнее описать распределение количества пользователей с количеством сообщений, т.к. 308 пользователей не отправляют сообщений. Если удалить эти значения, то распределение станет похоже на нормальное со скашиванием, но это исказит результаты."
   ]
  },
  {
   "cell_type": "markdown",
   "metadata": {},
   "source": [
    "### Анализ тарифа «Ультра»"
   ]
  },
  {
   "cell_type": "markdown",
   "metadata": {},
   "source": [
    "Выберим из таблицы только строки, где тариф «Ультра». Назовем такую таблицу `ultra` и выведим информацию о ней и первые 5 строк."
   ]
  },
  {
   "cell_type": "code",
   "execution_count": 51,
   "metadata": {},
   "outputs": [
    {
     "name": "stdout",
     "output_type": "stream",
     "text": [
      "<class 'pandas.core.frame.DataFrame'>\n",
      "Int64Index: 986 entries, 0 to 985\n",
      "Data columns (total 25 columns):\n",
      " #   Column                 Non-Null Count  Dtype         \n",
      "---  ------                 --------------  -----         \n",
      " 0   user_id                986 non-null    int64         \n",
      " 1   month                  985 non-null    float64       \n",
      " 2   mb_used                986 non-null    float64       \n",
      " 3   gb_used                986 non-null    float64       \n",
      " 4   messages_sent_amount   986 non-null    float64       \n",
      " 5   sum_duration           986 non-null    float64       \n",
      " 6   count_calls            986 non-null    float64       \n",
      " 7   age                    986 non-null    int64         \n",
      " 8   churn_date             77 non-null     datetime64[ns]\n",
      " 9   city                   986 non-null    object        \n",
      " 10  first_name             986 non-null    object        \n",
      " 11  last_name              986 non-null    object        \n",
      " 12  reg_date               986 non-null    datetime64[ns]\n",
      " 13  tariff_name            986 non-null    object        \n",
      " 14  messages_included      986 non-null    int64         \n",
      " 15  mb_per_month_included  986 non-null    int64         \n",
      " 16  minutes_included       986 non-null    int64         \n",
      " 17  rub_monthly_fee        986 non-null    int64         \n",
      " 18  rub_per_gb             986 non-null    int64         \n",
      " 19  rub_per_message        986 non-null    int64         \n",
      " 20  rub_per_minute         986 non-null    int64         \n",
      " 21  minutes_profit         986 non-null    float64       \n",
      " 22  sms_profit             986 non-null    float64       \n",
      " 23  profit                 986 non-null    float64       \n",
      " 24  internet_profit        986 non-null    float64       \n",
      "dtypes: datetime64[ns](2), float64(10), int64(9), object(4)\n",
      "memory usage: 200.3+ KB\n"
     ]
    }
   ],
   "source": [
    "ultra = df[df['tariff_name'].isin(['ultra'])] # срез строк \n",
    "ultra.head()\n",
    "ultra.info()"
   ]
  },
  {
   "cell_type": "markdown",
   "metadata": {},
   "source": [
    "Аналогично тарифу «Смарт» посчитаем среднее количество, дисперсию и стандартное отклонение для всех этих столбцов данных для тарифа «Ультра»."
   ]
  },
  {
   "cell_type": "code",
   "execution_count": 52,
   "metadata": {},
   "outputs": [
    {
     "name": "stdout",
     "output_type": "stream",
     "text": [
      " Cреднее количество минут разговора для тарифа «Смарт» 526.09 \n",
      " Дисперсия 101052.49 \n",
      " Стандартное отклонение 317.89\n"
     ]
    }
   ],
   "source": [
    "sum_duration_variance_ultra = np.var(ultra['sum_duration'], ddof = 1) # расчет дисперсии\n",
    "sum_duration_standart_deviation_ultra = np.std(ultra['sum_duration'], ddof = 1) # расчет стандартного отклонения\n",
    "sum_duration_mean_ultra = ultra['sum_duration'].mean() # расчет среднего\n",
    "print(f' Cреднее количество минут разговора для тарифа «Смарт» {sum_duration_mean_ultra:.2f} \\n Дисперсия {sum_duration_variance_ultra:.2f} \\n Стандартное отклонение {sum_duration_standart_deviation_ultra:.2f}')"
   ]
  },
  {
   "cell_type": "code",
   "execution_count": 53,
   "metadata": {},
   "outputs": [
    {
     "name": "stdout",
     "output_type": "stream",
     "text": [
      " Cреднее количество сообщений для тарифа «Смарт» 49.31 \n",
      " Дисперсия 2285.42 \n",
      " Стандартное отклонение 47.81\n"
     ]
    }
   ],
   "source": [
    "messages_variance_ultra = np.var(ultra['messages_sent_amount'], ddof = 1) # расчет дисперсии\n",
    "messages_standart_deviation_ultra = np.std(ultra['messages_sent_amount'], ddof = 1)  # расчет стандартного отклонения\n",
    "messages_mean_ultra = ultra['messages_sent_amount'].mean() # расчет среднего\n",
    "print(f' Cреднее количество сообщений для тарифа «Смарт» {messages_mean_ultra:.2f} \\n Дисперсия {messages_variance_ultra:.2f} \\n Стандартное отклонение {messages_standart_deviation_ultra:.2f}')"
   ]
  },
  {
   "cell_type": "code",
   "execution_count": 54,
   "metadata": {},
   "outputs": [
    {
     "name": "stdout",
     "output_type": "stream",
     "text": [
      " Cредний объём интернет-трафика для тарифа «Смарт» 19.47 \n",
      " Дисперсия 97.38 \n",
      " Стандартное отклонение 9.87\n"
     ]
    }
   ],
   "source": [
    "gb_used_variance_ultra = np.var(ultra['gb_used'], ddof = 1) # расчет дисперсии\n",
    "gb_used_standart_deviation_ultra = np.std(ultra['gb_used'], ddof = 1)  # расчет стандартного отклонения\n",
    "gb_used_mean_ultra = ultra['gb_used'].mean() # расчет среднего\n",
    "print(f' Cредний объём интернет-трафика для тарифа «Смарт» {gb_used_mean_ultra:.2f} \\n Дисперсия {gb_used_variance_ultra:.2f} \\n Стандартное отклонение {gb_used_standart_deviation_ultra:.2f}')"
   ]
  },
  {
   "cell_type": "markdown",
   "metadata": {},
   "source": [
    "Построим гистограммы распределения для суммарной продолжительности разговора за месяц для кажого пользователя, количества сообщений, объёма интернет-трафика."
   ]
  },
  {
   "cell_type": "code",
   "execution_count": 55,
   "metadata": {},
   "outputs": [
    {
     "data": {
      "text/plain": [
       "0.0       39\n",
       "567.0      5\n",
       "368.0      5\n",
       "813.0      5\n",
       "311.0      4\n",
       "          ..\n",
       "1410.0     1\n",
       "1055.0     1\n",
       "585.0      1\n",
       "832.0      1\n",
       "260.0      1\n",
       "Name: sum_duration, Length: 641, dtype: int64"
      ]
     },
     "execution_count": 55,
     "metadata": {},
     "output_type": "execute_result"
    },
    {
     "data": {
      "image/png": "[encoded data removed]",
      "text/plain": [
       "<Figure size 432x288 with 1 Axes>"
      ]
     },
     "metadata": {
      "needs_background": "light"
     },
     "output_type": "display_data"
    }
   ],
   "source": [
    "ultra_call = ultra['sum_duration'].hist(bins = 100); # построение гистограммы\n",
    "# добавляем подписи к осям и заголовка графика\n",
    "ultra_call.set_xlabel('количество пользователей')\n",
    "ultra_call.set_ylabel('продолжительность разговора в минутах')\n",
    "ultra_call.set_title('Гистограмма распределения для продолжительности разговора'+ \"\\n\");\n",
    "ultra['sum_duration'].value_counts()"
   ]
  },
  {
   "cell_type": "code",
   "execution_count": 56,
   "metadata": {},
   "outputs": [
    {
     "data": {
      "text/plain": [
       "0.0      191\n",
       "6.0       13\n",
       "20.0      13\n",
       "40.0      13\n",
       "3.0       12\n",
       "        ... \n",
       "211.0      1\n",
       "180.0      1\n",
       "188.0      1\n",
       "185.0      1\n",
       "92.0       1\n",
       "Name: messages_sent_amount, Length: 178, dtype: int64"
      ]
     },
     "execution_count": 56,
     "metadata": {},
     "output_type": "execute_result"
    },
    {
     "data": {
      "image/png": "[encoded data removed]",
      "text/plain": [
       "<Figure size 432x288 with 1 Axes>"
      ]
     },
     "metadata": {
      "needs_background": "light"
     },
     "output_type": "display_data"
    }
   ],
   "source": [
    "ultra_sms = ultra['messages_sent_amount'].hist(bins = 100); # построение гистограммы\n",
    "# добавляем подписи к осям и заголовка графика\n",
    "ultra_sms.set_xlabel('количество пользователей')\n",
    "ultra_sms.set_ylabel('потраченный интернет-трафик')\n",
    "ultra_sms.set_title('Гистограмма распределения количества сообщений'+ \"\\n\");\n",
    "ultra['messages_sent_amount'].value_counts()"
   ]
  },
  {
   "cell_type": "code",
   "execution_count": 57,
   "metadata": {},
   "outputs": [
    {
     "data": {
      "image/png": "[encoded data removed]",
      "text/plain": [
       "<Figure size 432x288 with 1 Axes>"
      ]
     },
     "metadata": {
      "needs_background": "light"
     },
     "output_type": "display_data"
    }
   ],
   "source": [
    "ultra_gb = ultra['gb_used'].hist(bins = 100); # построение гистограммы\n",
    "# добавляем подписи к осям и заголовка графика\n",
    "ultra_gb.set_xlabel('количество пользователей' )\n",
    "ultra_gb.set_ylabel('потраченный интернет-трафик')\n",
    "ultra_gb.set_title('Гистограмма распределения объема интренет-трафика' + \"\\n\");"
   ]
  },
  {
   "cell_type": "markdown",
   "metadata": {},
   "source": [
    "По гистограммам можно описать распределения: количество пользователей с объемом интернет-трафика распределено нормально.  Количество пользователей с продолжительностью звонков распределено нормально, но есть 39 пользователей с продолжительностью звонков 0. Эти звонки можно было бы удалить, но есть указание в самом проекте (В данных вы найдёте звонки с нулевой продолжительностью. Это не ошибка: нулями обозначены пропущенные звонки, поэтому их не нужно удалять).   Сложнее описать распределение количества пользователей с количеством сообщений, т.к. 191 пользователь не отправляют сообщений. Если удалить эти значения, то распределение станет похоже на нормальное со скашиванием, но это исказит результаты."
   ]
  },
  {
   "cell_type": "markdown",
   "metadata": {},
   "source": [
    "Создадим общую таблицу по ключевым параметрам для обоих тарифов"
   ]
  },
  {
   "cell_type": "code",
   "execution_count": 58,
   "metadata": {},
   "outputs": [
    {
     "data": {
      "text/html": [
       "<div>\n",
       "<style scoped>\n",
       "    .dataframe tbody tr th:only-of-type {\n",
       "        vertical-align: middle;\n",
       "    }\n",
       "\n",
       "    .dataframe tbody tr th {\n",
       "        vertical-align: top;\n",
       "    }\n",
       "\n",
       "    .dataframe thead th {\n",
       "        text-align: right;\n",
       "    }\n",
       "</style>\n",
       "<table border=\"1\" class=\"dataframe\">\n",
       "  <thead>\n",
       "    <tr style=\"text-align: right;\">\n",
       "      <th></th>\n",
       "      <th>tariff_name</th>\n",
       "      <th>smart</th>\n",
       "      <th>ultra</th>\n",
       "    </tr>\n",
       "  </thead>\n",
       "  <tbody>\n",
       "    <tr>\n",
       "      <th rowspan=\"4\" valign=\"top\">mean</th>\n",
       "      <th>gb_used</th>\n",
       "      <td>16.0</td>\n",
       "      <td>19.0</td>\n",
       "    </tr>\n",
       "    <tr>\n",
       "      <th>messages_sent_amount</th>\n",
       "      <td>33.0</td>\n",
       "      <td>49.0</td>\n",
       "    </tr>\n",
       "    <tr>\n",
       "      <th>profit</th>\n",
       "      <td>1290.0</td>\n",
       "      <td>2070.0</td>\n",
       "    </tr>\n",
       "    <tr>\n",
       "      <th>sum_duration</th>\n",
       "      <td>418.0</td>\n",
       "      <td>526.0</td>\n",
       "    </tr>\n",
       "    <tr>\n",
       "      <th rowspan=\"4\" valign=\"top\">median</th>\n",
       "      <th>gb_used</th>\n",
       "      <td>17.0</td>\n",
       "      <td>19.0</td>\n",
       "    </tr>\n",
       "    <tr>\n",
       "      <th>messages_sent_amount</th>\n",
       "      <td>28.0</td>\n",
       "      <td>38.0</td>\n",
       "    </tr>\n",
       "    <tr>\n",
       "      <th>profit</th>\n",
       "      <td>1021.0</td>\n",
       "      <td>1950.0</td>\n",
       "    </tr>\n",
       "    <tr>\n",
       "      <th>sum_duration</th>\n",
       "      <td>422.0</td>\n",
       "      <td>518.0</td>\n",
       "    </tr>\n",
       "    <tr>\n",
       "      <th rowspan=\"4\" valign=\"top\">std</th>\n",
       "      <th>gb_used</th>\n",
       "      <td>6.0</td>\n",
       "      <td>10.0</td>\n",
       "    </tr>\n",
       "    <tr>\n",
       "      <th>messages_sent_amount</th>\n",
       "      <td>28.0</td>\n",
       "      <td>48.0</td>\n",
       "    </tr>\n",
       "    <tr>\n",
       "      <th>profit</th>\n",
       "      <td>818.0</td>\n",
       "      <td>376.0</td>\n",
       "    </tr>\n",
       "    <tr>\n",
       "      <th>sum_duration</th>\n",
       "      <td>190.0</td>\n",
       "      <td>318.0</td>\n",
       "    </tr>\n",
       "    <tr>\n",
       "      <th rowspan=\"4\" valign=\"top\">var</th>\n",
       "      <th>gb_used</th>\n",
       "      <td>33.0</td>\n",
       "      <td>97.0</td>\n",
       "    </tr>\n",
       "    <tr>\n",
       "      <th>messages_sent_amount</th>\n",
       "      <td>797.0</td>\n",
       "      <td>2285.0</td>\n",
       "    </tr>\n",
       "    <tr>\n",
       "      <th>profit</th>\n",
       "      <td>669731.0</td>\n",
       "      <td>141388.0</td>\n",
       "    </tr>\n",
       "    <tr>\n",
       "      <th>sum_duration</th>\n",
       "      <td>36281.0</td>\n",
       "      <td>101052.0</td>\n",
       "    </tr>\n",
       "  </tbody>\n",
       "</table>\n",
       "</div>"
      ],
      "text/plain": [
       "tariff_name                     smart     ultra\n",
       "mean   gb_used                   16.0      19.0\n",
       "       messages_sent_amount      33.0      49.0\n",
       "       profit                  1290.0    2070.0\n",
       "       sum_duration             418.0     526.0\n",
       "median gb_used                   17.0      19.0\n",
       "       messages_sent_amount      28.0      38.0\n",
       "       profit                  1021.0    1950.0\n",
       "       sum_duration             422.0     518.0\n",
       "std    gb_used                    6.0      10.0\n",
       "       messages_sent_amount      28.0      48.0\n",
       "       profit                   818.0     376.0\n",
       "       sum_duration             190.0     318.0\n",
       "var    gb_used                   33.0      97.0\n",
       "       messages_sent_amount     797.0    2285.0\n",
       "       profit                669731.0  141388.0\n",
       "       sum_duration           36281.0  101052.0"
      ]
     },
     "execution_count": 58,
     "metadata": {},
     "output_type": "execute_result"
    }
   ],
   "source": [
    "(\n",
    "    df\n",
    "        .pivot_table(index = 'tariff_name', values = ['gb_used', 'messages_sent_amount',\n",
    "       'sum_duration', 'profit'], aggfunc = ['mean', 'median', 'std', 'var'])\n",
    "        .round()\n",
    "        .transpose()\n",
    ")"
   ]
  },
  {
   "cell_type": "markdown",
   "metadata": {},
   "source": [
    "Для наглядности построим диаграммы размаха для обоих тарифов"
   ]
  },
  {
   "cell_type": "code",
   "execution_count": 59,
   "metadata": {},
   "outputs": [
    {
     "data": {
      "image/png": "[encoded data removed]",
      "text/plain": [
       "<Figure size 864x144 with 1 Axes>"
      ]
     },
     "metadata": {
      "needs_background": "light"
     },
     "output_type": "display_data"
    },
    {
     "data": {
      "image/png": "[encoded data removed]",
      "text/plain": [
       "<Figure size 864x144 with 1 Axes>"
      ]
     },
     "metadata": {
      "needs_background": "light"
     },
     "output_type": "display_data"
    },
    {
     "data": {
      "image/png": "[encoded data removed]",
      "text/plain": [
       "<Figure size 864x144 with 1 Axes>"
      ]
     },
     "metadata": {
      "needs_background": "light"
     },
     "output_type": "display_data"
    },
    {
     "data": {
      "image/png": "[encoded data removed]",
      "text/plain": [
       "<Figure size 864x144 with 1 Axes>"
      ]
     },
     "metadata": {
      "needs_background": "light"
     },
     "output_type": "display_data"
    },
    {
     "data": {
      "image/png": "[encoded data removed]",
      "text/plain": [
       "<Figure size 864x144 with 1 Axes>"
      ]
     },
     "metadata": {
      "needs_background": "light"
     },
     "output_type": "display_data"
    }
   ],
   "source": [
    "for column in ['gb_used', 'messages_sent_amount',\n",
    "       'sum_duration', 'count_calls', 'profit']:    \n",
    "    g = sns.catplot(y='tariff_name', x=column, kind=\"box\", data=df, orient='h', palette = 'pastel')\n",
    "    g.fig.set_figwidth(12)\n",
    "    g.fig.set_figheight(2)"
   ]
  },
  {
   "cell_type": "markdown",
   "metadata": {},
   "source": [
    "Сделаем расчеты для общего вывода. Построим графики изменения ключевых метрик за год"
   ]
  },
  {
   "cell_type": "code",
   "execution_count": 60,
   "metadata": {},
   "outputs": [
    {
     "name": "stdout",
     "output_type": "stream",
     "text": [
      " Общая выручка 4916951.00 \n",
      " Выручка от пользоватилей тарифа «Смарт» 2875901.00 \n",
      " Выручка от пользоватилей тарифа «Ультра» 2041050.00\n",
      " Средняя выручка от 1 пользователя 1528.90 \n",
      " Средняя выручка от 1 пользователя тарифа «Смарт» 1289.64 \n",
      " Средняя выручка от 1 пользователя тарифа «Ультра» 2070.03\n"
     ]
    }
   ],
   "source": [
    "smart_profit = smart['profit'].sum()\n",
    "ultra_profit = ultra['profit'].sum()\n",
    "sum_profit = df['profit'].sum()\n",
    "sum_profit_per_person = df['profit'].mean()\n",
    "smart_profit_per_person = smart['profit'].mean()\n",
    "ultra_profit_per_person = ultra['profit'].mean()\n",
    "print(f' Общая выручка {sum_profit:.2f} \\n Выручка от пользоватилей тарифа «Смарт» {smart_profit:.2f} \\n Выручка от пользоватилей тарифа «Ультра» {ultra_profit:.2f}')\n",
    "print(f' Средняя выручка от 1 пользователя {sum_profit_per_person:.2f} \\n Средняя выручка от 1 пользователя тарифа «Смарт» {smart_profit_per_person:.2f} \\n Средняя выручка от 1 пользователя тарифа «Ультра» {ultra_profit_per_person:.2f}')"
   ]
  },
  {
   "cell_type": "code",
   "execution_count": 61,
   "metadata": {},
   "outputs": [
    {
     "data": {
      "image/png": "[encoded data removed]",
      "text/plain": [
       "<Figure size 720x288 with 1 Axes>"
      ]
     },
     "metadata": {
      "needs_background": "light"
     },
     "output_type": "display_data"
    }
   ],
   "source": [
    "(df\n",
    " .pivot_table(index='tariff_name', columns='month', values='user_id', aggfunc='count')\n",
    " .T\n",
    " .plot(kind='line', figsize=(10,4),  style = 'o-')\n",
    ")\n",
    "plt.title('Рост кол-ва клиентов по 2-м тарифам за год'+ \"\\n\")\n",
    "plt.xlabel('Месяц')\n",
    "plt.ylabel('Кол-во');"
   ]
  },
  {
   "cell_type": "code",
   "execution_count": 62,
   "metadata": {},
   "outputs": [
    {
     "data": {
      "image/png": "[encoded data removed]",
      "text/plain": [
       "<Figure size 720x288 with 1 Axes>"
      ]
     },
     "metadata": {
      "needs_background": "light"
     },
     "output_type": "display_data"
    }
   ],
   "source": [
    "(df\n",
    " .pivot_table(index='tariff_name', columns='month', values='profit', aggfunc='mean')\n",
    " .T\n",
    " .plot(kind='line', figsize=(10,4),  style = 'o-')\n",
    ")\n",
    "plt.title('Средняя ежемесячная выручка от одного абонента'+ \"\\n\")\n",
    "plt.xlabel('Месяц')\n",
    "plt.ylabel('Рубли');"
   ]
  },
  {
   "cell_type": "code",
   "execution_count": 63,
   "metadata": {},
   "outputs": [
    {
     "data": {
      "image/png": "[encoded data removed]",
      "text/plain": [
       "<Figure size 720x288 with 1 Axes>"
      ]
     },
     "metadata": {
      "needs_background": "light"
     },
     "output_type": "display_data"
    }
   ],
   "source": [
    "(df\n",
    " .pivot_table(index='tariff_name', columns='month', values='profit', aggfunc='sum')\n",
    " .T\n",
    " .plot(kind='line', figsize=(10,4),  style = 'o-')\n",
    ")\n",
    "plt.title('Суммарная ежемесячная выручка по 2-м тарифам'+ \"\\n\")\n",
    "plt.xlabel('Месяц')\n",
    "plt.ylabel('Рубли');"
   ]
  },
  {
   "cell_type": "markdown",
   "metadata": {},
   "source": [
    "### Вывод"
   ]
  },
  {
   "cell_type": "markdown",
   "metadata": {},
   "source": [
    "Мы провели анализ данных по тарифам «Смарт» и «Ультра». Гистограммы распределения у обоих тарифов имеют похожий вид. Значения среднего, дисперсии, стандартного отклонения у тарифа «Ультра» превышают значения у тарифа «Смарт» для выбранных категорий данных. Это объясняется тем, что пользователи заранее выбирают необходимый тариф с включенным пакетом услуг, исходя из своих нужд, и тратят больше минут, сообшений и интернета."
   ]
  },
  {
   "cell_type": "markdown",
   "metadata": {},
   "source": [
    "## Проверка гипотез и пояснения"
   ]
  },
  {
   "cell_type": "markdown",
   "metadata": {},
   "source": [
    "### Проверка гипотезы: средняя выручка пользователей тарифов «Ультра» и «Смарт» различаются"
   ]
  },
  {
   "cell_type": "markdown",
   "metadata": {},
   "source": [
    "Нулевую гипотезу примем, что средняя выручка пользователей тарифов «Ультра» и «Смарт» равна. Тогда альтернативная ей будет: средняя выручка пользователей тарифов «Ультра» и «Смарт» различаются. В качестве критерия для проверки выберим гипотезу о равенстве средних двух генеральных совокупностей. Т.к. количество элементов в двух совокупностях различно и нет уверенности в равенстве дисперсий, то параметр примем: `equal_var = False`. Уровень значимости `alpha` зададим 5%."
   ]
  },
  {
   "cell_type": "code",
   "execution_count": 64,
   "metadata": {},
   "outputs": [
    {
     "name": "stdout",
     "output_type": "stream",
     "text": [
      "p-значение: 1.927011394420941e-250\n",
      "Отвергаем нулевую гипотезу\n"
     ]
    }
   ],
   "source": [
    "# проверка гипотезы\n",
    "\n",
    "alpha = 0.05\n",
    "\n",
    "results = st.ttest_ind(smart['profit'], ultra['profit'], equal_var = False)\n",
    "print('p-значение:', results.pvalue)\n",
    "if results.pvalue < alpha:\n",
    "    print('Отвергаем нулевую гипотезу')\n",
    "else:\n",
    "    print('Не получилось отвергнуть нулевую гипотезу')\n"
   ]
  },
  {
   "cell_type": "markdown",
   "metadata": {},
   "source": [
    "### Проверка гипотезы: средняя выручка пользователей из Москвы отличается от выручки пользователей из других регионов"
   ]
  },
  {
   "cell_type": "markdown",
   "metadata": {},
   "source": [
    "Нулевую гипотезу примем, что средняя выручка пользователей из Москвы равна выручке пользователей из других регионов. Тогда альтернативная ей будет: средняя выручка пользователей из Москвы отличается от выручки пользователей из других регионов. В качестве критерия для проверки выберим гипотезу о равенстве средних двух генеральных совокупностей. Т.к. количество элементов в двух совокупностях различно и нет уверенности в равенстве дисперсий, то параметр примем: `equal_var = False`. Уровень значимости `alpha` зададим 5%. Выберим срез строк для Москвы и других регионов."
   ]
  },
  {
   "cell_type": "code",
   "execution_count": 65,
   "metadata": {},
   "outputs": [
    {
     "name": "stdout",
     "output_type": "stream",
     "text": [
      "<class 'pandas.core.frame.DataFrame'>\n",
      "Int64Index: 611 entries, 8 to 3179\n",
      "Data columns (total 25 columns):\n",
      " #   Column                 Non-Null Count  Dtype         \n",
      "---  ------                 --------------  -----         \n",
      " 0   user_id                611 non-null    int64         \n",
      " 1   month                  611 non-null    float64       \n",
      " 2   mb_used                611 non-null    float64       \n",
      " 3   gb_used                611 non-null    float64       \n",
      " 4   messages_sent_amount   611 non-null    float64       \n",
      " 5   sum_duration           611 non-null    float64       \n",
      " 6   count_calls            611 non-null    float64       \n",
      " 7   age                    611 non-null    int64         \n",
      " 8   churn_date             41 non-null     datetime64[ns]\n",
      " 9   city                   611 non-null    object        \n",
      " 10  first_name             611 non-null    object        \n",
      " 11  last_name              611 non-null    object        \n",
      " 12  reg_date               611 non-null    datetime64[ns]\n",
      " 13  tariff_name            611 non-null    object        \n",
      " 14  messages_included      611 non-null    int64         \n",
      " 15  mb_per_month_included  611 non-null    int64         \n",
      " 16  minutes_included       611 non-null    int64         \n",
      " 17  rub_monthly_fee        611 non-null    int64         \n",
      " 18  rub_per_gb             611 non-null    int64         \n",
      " 19  rub_per_message        611 non-null    int64         \n",
      " 20  rub_per_minute         611 non-null    int64         \n",
      " 21  minutes_profit         611 non-null    float64       \n",
      " 22  sms_profit             611 non-null    float64       \n",
      " 23  profit                 611 non-null    float64       \n",
      " 24  internet_profit        611 non-null    float64       \n",
      "dtypes: datetime64[ns](2), float64(10), int64(9), object(4)\n",
      "memory usage: 124.1+ KB\n"
     ]
    }
   ],
   "source": [
    "moscow = df[df['city'].isin(['Москва'])] # срез строк \n",
    "moscow.info()"
   ]
  },
  {
   "cell_type": "code",
   "execution_count": 66,
   "metadata": {},
   "outputs": [
    {
     "name": "stdout",
     "output_type": "stream",
     "text": [
      "<class 'pandas.core.frame.DataFrame'>\n",
      "Int64Index: 2605 entries, 0 to 3215\n",
      "Data columns (total 25 columns):\n",
      " #   Column                 Non-Null Count  Dtype         \n",
      "---  ------                 --------------  -----         \n",
      " 0   user_id                2605 non-null   int64         \n",
      " 1   month                  2603 non-null   float64       \n",
      " 2   mb_used                2605 non-null   float64       \n",
      " 3   gb_used                2605 non-null   float64       \n",
      " 4   messages_sent_amount   2605 non-null   float64       \n",
      " 5   sum_duration           2605 non-null   float64       \n",
      " 6   count_calls            2605 non-null   float64       \n",
      " 7   age                    2605 non-null   int64         \n",
      " 8   churn_date             148 non-null    datetime64[ns]\n",
      " 9   city                   2605 non-null   object        \n",
      " 10  first_name             2605 non-null   object        \n",
      " 11  last_name              2605 non-null   object        \n",
      " 12  reg_date               2605 non-null   datetime64[ns]\n",
      " 13  tariff_name            2605 non-null   object        \n",
      " 14  messages_included      2605 non-null   int64         \n",
      " 15  mb_per_month_included  2605 non-null   int64         \n",
      " 16  minutes_included       2605 non-null   int64         \n",
      " 17  rub_monthly_fee        2605 non-null   int64         \n",
      " 18  rub_per_gb             2605 non-null   int64         \n",
      " 19  rub_per_message        2605 non-null   int64         \n",
      " 20  rub_per_minute         2605 non-null   int64         \n",
      " 21  minutes_profit         2605 non-null   float64       \n",
      " 22  sms_profit             2605 non-null   float64       \n",
      " 23  profit                 2605 non-null   float64       \n",
      " 24  internet_profit        2605 non-null   float64       \n",
      "dtypes: datetime64[ns](2), float64(10), int64(9), object(4)\n",
      "memory usage: 529.1+ KB\n"
     ]
    }
   ],
   "source": [
    "other_regions = df[df['city'] != 'Москва'] # срез строк \n",
    "other_regions.info()"
   ]
  },
  {
   "cell_type": "code",
   "execution_count": 67,
   "metadata": {},
   "outputs": [
    {
     "name": "stdout",
     "output_type": "stream",
     "text": [
      "p-значение: 0.5216952110000278\n",
      "Не получилось отвергнуть нулевую гипотезу\n"
     ]
    }
   ],
   "source": [
    "# проверка гипотезы\n",
    "\n",
    "alpha = 0.05\n",
    "\n",
    "results = st.ttest_ind(moscow['profit'], other_regions['profit'], equal_var = False)\n",
    "print('p-значение:', results.pvalue)\n",
    "if results.pvalue < alpha:\n",
    "    print('Отвергаем нулевую гипотезу')\n",
    "else:\n",
    "    print('Не получилось отвергнуть нулевую гипотезу')\n"
   ]
  },
  {
   "cell_type": "markdown",
   "metadata": {},
   "source": [
    "p-значение равно 0.5216952110000278. Это означает, что вероятность получить наблюдаемый или еще более далекий от предполагаемого результат (средняя выручка пользователей из Москвы равна выручке пользователей из других регионов) при условии, что нулевая гипотеза верна, равна 52%. А эта вероятность намного выше, чем 5% (уровень значимости)."
   ]
  },
  {
   "cell_type": "markdown",
   "metadata": {},
   "source": [
    "### Вывод"
   ]
  },
  {
   "cell_type": "markdown",
   "metadata": {},
   "source": [
    "Необходимо было проверить следующие гипотезы : средняя выручка пользователей тарифов «Ультра» и «Смарт» различаются; средняя выручка пользователей из Москвы отличается от выручки пользователей из других регионов.\n",
    "\n",
    "В первом анализе выбрали нулевую гипотезу о равенстве выручек, p-value оказался меньше выбранного уровня значимости, значит гипотезу о равенстве отвергаем, т.е. средняя выручка пользователей тарифов «Ультра» и «Смарт» различаются.\n",
    "\n",
    "Во втором анализе выбрали нулевую гипотезу о равенстве выручек, p-value оказался больше выбранного уровня значимости, значит не получилось отвергнуть нулевую гипотезу, т.е. средняя выручка пользователей из Москвы может не отличаться от выручки пользователей из других регионов."
   ]
  },
  {
   "cell_type": "markdown",
   "metadata": {},
   "source": [
    "## Общий вывод"
   ]
  },
  {
   "cell_type": "markdown",
   "metadata": {},
   "source": [
    "В ходе исследования необходимо проанализировать тарифы «Смарт» и «Ультра» федерального оператора сотовой связи - компании «Мегалайн».\n",
    "\n",
    "1. В данных было найдено небольшое количество пропусков и аномалий, часть из которых были устранены. Пропуски в столбцах, которые не влияют на ход исследования, были оставлены.\n",
    "2. В данные были внесены дополнительные столбцы для более глубокого анализа, в частности столбец с выручкой.\n",
    "3. В ходе исследования было установлено:     \n",
    "* характерные параметры для тарифа «Ультра» выше, чем у тарифа «Смарт», т.е. пользователи первого тарифа больше используют звонки, сообщения и интернет-трафик,\n",
    "* количество отправленных сообщений невысокое, а более 500 ими не пользуются вообще, \n",
    "* гипотеза о том, что средняя выручка пользователей тарифов «Ультра» и «Смарт» различаются была подтверждена,\n",
    "* гипотеза о том, что средняя выручка пользователей из Москвы отличается от выручки пользователей из других регионов не была подтверждена.\n",
    "\n",
    "Ответим на вопросы: какой тариф приносит больше денег и какой тариф лучше.\n",
    "\n",
    "Общая выручка от двух тарифов составила 4 916 951 руб. Из них на долю пользователей тарифа «Смарт» пришлось 2 875 901 руб., а на пользователей тарифа «Ультра» - 2 041 050 руб. С точки зрения совокупной прибыли тариф «Смарт» прибыльнее. Но если посмотреть на среднюю прибыль на одного пользователя, то получается, что у тарифа «Ультра» она выше (2070 руб. против 1289 руб.). Такие результаты объясняются тем, что у тарифа «Ультра» 986 пользователей, а у «Смарт» 2230. Т.е. необходимо привлекать клиентов для пользования тарифом «Ультра»."
   ]
  }
 ],
 "metadata": {
  "ExecuteTimeLog": [
   {
    "duration": 791,
    "start_time": "2022-05-07T07:29:21.161Z"
   },
   {
    "duration": 156,
    "start_time": "2022-05-07T07:30:00.160Z"
   },
   {
    "duration": 100,
    "start_time": "2022-05-07T07:31:03.291Z"
   },
   {
    "duration": 28,
    "start_time": "2022-05-07T07:31:21.722Z"
   },
   {
    "duration": 33,
    "start_time": "2022-05-07T07:31:50.183Z"
   },
   {
    "duration": 604,
    "start_time": "2022-05-07T07:34:12.852Z"
   },
   {
    "duration": 149,
    "start_time": "2022-05-07T07:34:13.458Z"
   },
   {
    "duration": 106,
    "start_time": "2022-05-07T07:34:13.609Z"
   },
   {
    "duration": 21,
    "start_time": "2022-05-07T07:34:13.717Z"
   },
   {
    "duration": 35,
    "start_time": "2022-05-07T07:34:13.739Z"
   },
   {
    "duration": 204,
    "start_time": "2022-05-07T07:34:47.630Z"
   },
   {
    "duration": 22,
    "start_time": "2022-05-07T07:42:51.816Z"
   },
   {
    "duration": 171,
    "start_time": "2022-05-07T07:43:31.471Z"
   },
   {
    "duration": 581,
    "start_time": "2022-05-07T07:44:01.701Z"
   },
   {
    "duration": 157,
    "start_time": "2022-05-07T07:44:02.283Z"
   },
   {
    "duration": 107,
    "start_time": "2022-05-07T07:44:02.441Z"
   },
   {
    "duration": 26,
    "start_time": "2022-05-07T07:44:02.550Z"
   },
   {
    "duration": 30,
    "start_time": "2022-05-07T07:44:02.578Z"
   },
   {
    "duration": 215,
    "start_time": "2022-05-07T07:44:02.609Z"
   },
   {
    "duration": 27,
    "start_time": "2022-05-07T07:44:02.826Z"
   },
   {
    "duration": 10,
    "start_time": "2022-05-07T07:46:03.274Z"
   },
   {
    "duration": 645,
    "start_time": "2022-05-07T07:47:25.165Z"
   },
   {
    "duration": 156,
    "start_time": "2022-05-07T07:47:25.812Z"
   },
   {
    "duration": 106,
    "start_time": "2022-05-07T07:47:25.974Z"
   },
   {
    "duration": 21,
    "start_time": "2022-05-07T07:47:26.082Z"
   },
   {
    "duration": 32,
    "start_time": "2022-05-07T07:47:26.105Z"
   },
   {
    "duration": 190,
    "start_time": "2022-05-07T07:47:26.139Z"
   },
   {
    "duration": 10,
    "start_time": "2022-05-07T07:47:26.331Z"
   },
   {
    "duration": 41,
    "start_time": "2022-05-07T07:47:26.343Z"
   },
   {
    "duration": 593,
    "start_time": "2022-05-07T07:49:47.485Z"
   },
   {
    "duration": 161,
    "start_time": "2022-05-07T07:49:48.080Z"
   },
   {
    "duration": 110,
    "start_time": "2022-05-07T07:49:48.243Z"
   },
   {
    "duration": 24,
    "start_time": "2022-05-07T07:49:48.355Z"
   },
   {
    "duration": 33,
    "start_time": "2022-05-07T07:49:48.381Z"
   },
   {
    "duration": 179,
    "start_time": "2022-05-07T07:49:48.416Z"
   },
   {
    "duration": 11,
    "start_time": "2022-05-07T07:49:48.597Z"
   },
   {
    "duration": 27,
    "start_time": "2022-05-07T07:49:48.610Z"
   },
   {
    "duration": 593,
    "start_time": "2022-05-07T07:58:23.978Z"
   },
   {
    "duration": 158,
    "start_time": "2022-05-07T07:58:24.573Z"
   },
   {
    "duration": 115,
    "start_time": "2022-05-07T07:58:24.732Z"
   },
   {
    "duration": 26,
    "start_time": "2022-05-07T07:58:24.849Z"
   },
   {
    "duration": 31,
    "start_time": "2022-05-07T07:58:24.877Z"
   },
   {
    "duration": 190,
    "start_time": "2022-05-07T07:58:24.910Z"
   },
   {
    "duration": 9,
    "start_time": "2022-05-07T07:58:25.102Z"
   },
   {
    "duration": 26,
    "start_time": "2022-05-07T07:58:25.113Z"
   },
   {
    "duration": 98,
    "start_time": "2022-05-07T08:00:16.264Z"
   },
   {
    "duration": 559,
    "start_time": "2022-05-07T08:02:37.712Z"
   },
   {
    "duration": 154,
    "start_time": "2022-05-07T08:02:38.273Z"
   },
   {
    "duration": 120,
    "start_time": "2022-05-07T08:02:38.432Z"
   },
   {
    "duration": 26,
    "start_time": "2022-05-07T08:02:38.554Z"
   },
   {
    "duration": 30,
    "start_time": "2022-05-07T08:02:38.581Z"
   },
   {
    "duration": 21,
    "start_time": "2022-05-07T08:02:38.612Z"
   },
   {
    "duration": 185,
    "start_time": "2022-05-07T08:02:38.635Z"
   },
   {
    "duration": 9,
    "start_time": "2022-05-07T08:02:38.822Z"
   },
   {
    "duration": 39,
    "start_time": "2022-05-07T08:02:38.834Z"
   },
   {
    "duration": 99,
    "start_time": "2022-05-07T08:02:38.875Z"
   },
   {
    "duration": 1745,
    "start_time": "2022-05-07T08:03:24.647Z"
   },
   {
    "duration": 6,
    "start_time": "2022-05-07T08:03:35.484Z"
   },
   {
    "duration": 7,
    "start_time": "2022-05-07T08:03:49.412Z"
   },
   {
    "duration": 6,
    "start_time": "2022-05-07T08:03:59.227Z"
   },
   {
    "duration": 8,
    "start_time": "2022-05-07T08:04:06.935Z"
   },
   {
    "duration": 6,
    "start_time": "2022-05-07T08:04:13.761Z"
   },
   {
    "duration": 6,
    "start_time": "2022-05-07T08:04:20.488Z"
   },
   {
    "duration": 5,
    "start_time": "2022-05-07T08:04:31.323Z"
   },
   {
    "duration": 15,
    "start_time": "2022-05-07T08:04:52.047Z"
   },
   {
    "duration": 102,
    "start_time": "2022-05-07T08:05:19.094Z"
   },
   {
    "duration": 82,
    "start_time": "2022-05-07T08:06:16.742Z"
   },
   {
    "duration": 44,
    "start_time": "2022-05-07T08:06:51.947Z"
   },
   {
    "duration": 93,
    "start_time": "2022-05-07T08:07:14.625Z"
   },
   {
    "duration": 38,
    "start_time": "2022-05-07T08:08:36.459Z"
   },
   {
    "duration": 14,
    "start_time": "2022-05-07T08:08:56.376Z"
   },
   {
    "duration": 30,
    "start_time": "2022-05-07T08:09:43.126Z"
   },
   {
    "duration": 56,
    "start_time": "2022-05-07T08:14:58.048Z"
   },
   {
    "duration": 7,
    "start_time": "2022-05-07T08:15:01.043Z"
   },
   {
    "duration": 77,
    "start_time": "2022-05-07T08:15:09.452Z"
   },
   {
    "duration": 10,
    "start_time": "2022-05-07T08:15:28.243Z"
   },
   {
    "duration": 19,
    "start_time": "2022-05-07T08:16:25.357Z"
   },
   {
    "duration": 426,
    "start_time": "2022-05-07T08:17:12.913Z"
   },
   {
    "duration": 7,
    "start_time": "2022-05-07T08:17:35.233Z"
   },
   {
    "duration": 8,
    "start_time": "2022-05-07T08:17:51.842Z"
   },
   {
    "duration": 6,
    "start_time": "2022-05-07T08:21:45.721Z"
   },
   {
    "duration": 607,
    "start_time": "2022-05-07T08:25:20.384Z"
   },
   {
    "duration": 164,
    "start_time": "2022-05-07T08:25:20.992Z"
   },
   {
    "duration": 129,
    "start_time": "2022-05-07T08:25:21.157Z"
   },
   {
    "duration": 20,
    "start_time": "2022-05-07T08:25:21.288Z"
   },
   {
    "duration": 30,
    "start_time": "2022-05-07T08:25:21.311Z"
   },
   {
    "duration": 22,
    "start_time": "2022-05-07T08:25:21.342Z"
   },
   {
    "duration": 16,
    "start_time": "2022-05-07T08:25:21.373Z"
   },
   {
    "duration": 114,
    "start_time": "2022-05-07T08:25:21.391Z"
   },
   {
    "duration": 184,
    "start_time": "2022-05-07T08:25:21.508Z"
   },
   {
    "duration": 11,
    "start_time": "2022-05-07T08:25:21.694Z"
   },
   {
    "duration": 26,
    "start_time": "2022-05-07T08:25:21.707Z"
   },
   {
    "duration": 133,
    "start_time": "2022-05-07T08:25:21.735Z"
   },
   {
    "duration": 13,
    "start_time": "2022-05-07T08:25:21.870Z"
   },
   {
    "duration": 77,
    "start_time": "2022-05-07T08:25:21.887Z"
   },
   {
    "duration": 54,
    "start_time": "2022-05-07T08:25:21.966Z"
   },
   {
    "duration": 110,
    "start_time": "2022-05-07T08:25:22.022Z"
   },
   {
    "duration": 25,
    "start_time": "2022-05-07T08:25:22.134Z"
   },
   {
    "duration": 71,
    "start_time": "2022-05-07T08:25:22.161Z"
   },
   {
    "duration": 6,
    "start_time": "2022-05-07T08:25:22.234Z"
   },
   {
    "duration": 6,
    "start_time": "2022-05-07T08:25:22.242Z"
   },
   {
    "duration": 32,
    "start_time": "2022-05-07T08:25:22.249Z"
   },
   {
    "duration": 13,
    "start_time": "2022-05-07T08:25:22.282Z"
   },
   {
    "duration": 23,
    "start_time": "2022-05-07T08:36:25.442Z"
   },
   {
    "duration": 80,
    "start_time": "2022-05-07T08:36:45.957Z"
   },
   {
    "duration": 61,
    "start_time": "2022-05-07T08:36:49.717Z"
   },
   {
    "duration": 597,
    "start_time": "2022-05-07T08:39:00.397Z"
   },
   {
    "duration": 169,
    "start_time": "2022-05-07T08:39:00.996Z"
   },
   {
    "duration": 130,
    "start_time": "2022-05-07T08:39:01.166Z"
   },
   {
    "duration": 22,
    "start_time": "2022-05-07T08:39:01.299Z"
   },
   {
    "duration": 35,
    "start_time": "2022-05-07T08:39:01.323Z"
   },
   {
    "duration": 34,
    "start_time": "2022-05-07T08:39:01.360Z"
   },
   {
    "duration": 15,
    "start_time": "2022-05-07T08:39:01.395Z"
   },
   {
    "duration": 134,
    "start_time": "2022-05-07T08:39:01.412Z"
   },
   {
    "duration": 194,
    "start_time": "2022-05-07T08:39:01.548Z"
   },
   {
    "duration": 9,
    "start_time": "2022-05-07T08:39:01.745Z"
   },
   {
    "duration": 41,
    "start_time": "2022-05-07T08:39:01.756Z"
   },
   {
    "duration": 115,
    "start_time": "2022-05-07T08:39:01.799Z"
   },
   {
    "duration": 3,
    "start_time": "2022-05-07T08:39:01.915Z"
   },
   {
    "duration": 112,
    "start_time": "2022-05-07T08:39:01.919Z"
   },
   {
    "duration": 57,
    "start_time": "2022-05-07T08:39:02.032Z"
   },
   {
    "duration": 123,
    "start_time": "2022-05-07T08:39:02.091Z"
   },
   {
    "duration": 28,
    "start_time": "2022-05-07T08:39:02.215Z"
   },
   {
    "duration": 79,
    "start_time": "2022-05-07T08:39:02.244Z"
   },
   {
    "duration": 7,
    "start_time": "2022-05-07T08:39:02.325Z"
   },
   {
    "duration": 13,
    "start_time": "2022-05-07T08:39:02.334Z"
   },
   {
    "duration": 25,
    "start_time": "2022-05-07T08:39:02.349Z"
   },
   {
    "duration": 21,
    "start_time": "2022-05-07T08:39:02.375Z"
   },
   {
    "duration": 78,
    "start_time": "2022-05-07T08:39:02.398Z"
   },
   {
    "duration": 73,
    "start_time": "2022-05-07T08:56:33.002Z"
   },
   {
    "duration": 73,
    "start_time": "2022-05-07T08:56:43.907Z"
   },
   {
    "duration": 103,
    "start_time": "2022-05-07T08:57:05.727Z"
   },
   {
    "duration": 15,
    "start_time": "2022-05-07T08:57:54.356Z"
   },
   {
    "duration": 11,
    "start_time": "2022-05-07T08:58:40.993Z"
   },
   {
    "duration": 10,
    "start_time": "2022-05-07T08:59:24.398Z"
   },
   {
    "duration": 165,
    "start_time": "2022-05-07T09:10:03.242Z"
   },
   {
    "duration": 36,
    "start_time": "2022-05-07T09:12:47.771Z"
   },
   {
    "duration": 3,
    "start_time": "2022-05-07T09:13:44.424Z"
   },
   {
    "duration": 4,
    "start_time": "2022-05-07T09:13:48.637Z"
   },
   {
    "duration": 25,
    "start_time": "2022-05-07T09:14:00.782Z"
   },
   {
    "duration": 14,
    "start_time": "2022-05-07T09:15:23.729Z"
   },
   {
    "duration": 9,
    "start_time": "2022-05-07T09:15:25.328Z"
   },
   {
    "duration": 14,
    "start_time": "2022-05-07T09:15:50.370Z"
   },
   {
    "duration": 7,
    "start_time": "2022-05-07T09:15:52.122Z"
   },
   {
    "duration": 70,
    "start_time": "2022-05-07T09:16:34.440Z"
   },
   {
    "duration": 15,
    "start_time": "2022-05-07T09:17:07.758Z"
   },
   {
    "duration": 5,
    "start_time": "2022-05-07T09:17:09.704Z"
   },
   {
    "duration": 5,
    "start_time": "2022-05-07T09:17:15.834Z"
   },
   {
    "duration": 13,
    "start_time": "2022-05-07T09:17:18.380Z"
   },
   {
    "duration": 5,
    "start_time": "2022-05-07T09:17:20.756Z"
   },
   {
    "duration": 32,
    "start_time": "2022-05-07T09:20:08.791Z"
   },
   {
    "duration": 20,
    "start_time": "2022-05-07T09:20:50.071Z"
   },
   {
    "duration": 23,
    "start_time": "2022-05-07T09:21:06.387Z"
   },
   {
    "duration": 55,
    "start_time": "2022-05-07T09:21:28.756Z"
   },
   {
    "duration": 696,
    "start_time": "2022-05-07T09:21:38.270Z"
   },
   {
    "duration": 495,
    "start_time": "2022-05-07T09:21:38.968Z"
   },
   {
    "duration": 150,
    "start_time": "2022-05-07T09:21:39.465Z"
   },
   {
    "duration": 36,
    "start_time": "2022-05-07T09:21:39.617Z"
   },
   {
    "duration": 48,
    "start_time": "2022-05-07T09:21:39.654Z"
   },
   {
    "duration": 22,
    "start_time": "2022-05-07T09:21:39.703Z"
   },
   {
    "duration": 14,
    "start_time": "2022-05-07T09:21:39.727Z"
   },
   {
    "duration": 122,
    "start_time": "2022-05-07T09:21:39.742Z"
   },
   {
    "duration": 199,
    "start_time": "2022-05-07T09:21:39.866Z"
   },
   {
    "duration": 9,
    "start_time": "2022-05-07T09:21:40.068Z"
   },
   {
    "duration": 26,
    "start_time": "2022-05-07T09:21:40.079Z"
   },
   {
    "duration": 131,
    "start_time": "2022-05-07T09:21:40.107Z"
   },
   {
    "duration": 90,
    "start_time": "2022-05-07T09:21:40.239Z"
   },
   {
    "duration": 52,
    "start_time": "2022-05-07T09:21:40.331Z"
   },
   {
    "duration": 97,
    "start_time": "2022-05-07T09:21:40.385Z"
   },
   {
    "duration": 26,
    "start_time": "2022-05-07T09:21:40.483Z"
   },
   {
    "duration": 71,
    "start_time": "2022-05-07T09:21:40.511Z"
   },
   {
    "duration": 7,
    "start_time": "2022-05-07T09:21:40.583Z"
   },
   {
    "duration": 23,
    "start_time": "2022-05-07T09:21:40.592Z"
   },
   {
    "duration": 8,
    "start_time": "2022-05-07T09:21:40.616Z"
   },
   {
    "duration": 79,
    "start_time": "2022-05-07T09:21:40.625Z"
   },
   {
    "duration": 134,
    "start_time": "2022-05-07T09:21:40.705Z"
   },
   {
    "duration": 13,
    "start_time": "2022-05-07T09:21:40.841Z"
   },
   {
    "duration": 19,
    "start_time": "2022-05-07T09:21:40.856Z"
   },
   {
    "duration": 14,
    "start_time": "2022-05-07T09:21:40.876Z"
   },
   {
    "duration": 12,
    "start_time": "2022-05-07T09:21:40.891Z"
   },
   {
    "duration": 32,
    "start_time": "2022-05-07T09:21:40.904Z"
   },
   {
    "duration": 9,
    "start_time": "2022-05-07T09:21:40.939Z"
   },
   {
    "duration": 667,
    "start_time": "2022-05-07T09:22:05.103Z"
   },
   {
    "duration": 422,
    "start_time": "2022-05-07T09:22:05.772Z"
   },
   {
    "duration": 147,
    "start_time": "2022-05-07T09:22:06.195Z"
   },
   {
    "duration": 39,
    "start_time": "2022-05-07T09:22:06.344Z"
   },
   {
    "duration": 50,
    "start_time": "2022-05-07T09:22:06.384Z"
   },
   {
    "duration": 22,
    "start_time": "2022-05-07T09:22:06.436Z"
   },
   {
    "duration": 15,
    "start_time": "2022-05-07T09:22:06.460Z"
   },
   {
    "duration": 147,
    "start_time": "2022-05-07T09:22:06.476Z"
   },
   {
    "duration": 198,
    "start_time": "2022-05-07T09:22:06.625Z"
   },
   {
    "duration": 9,
    "start_time": "2022-05-07T09:22:06.826Z"
   },
   {
    "duration": 41,
    "start_time": "2022-05-07T09:22:06.836Z"
   },
   {
    "duration": 117,
    "start_time": "2022-05-07T09:22:06.879Z"
   },
   {
    "duration": 97,
    "start_time": "2022-05-07T09:22:06.998Z"
   },
   {
    "duration": 48,
    "start_time": "2022-05-07T09:22:07.097Z"
   },
   {
    "duration": 110,
    "start_time": "2022-05-07T09:22:07.146Z"
   },
   {
    "duration": 34,
    "start_time": "2022-05-07T09:22:07.257Z"
   },
   {
    "duration": 57,
    "start_time": "2022-05-07T09:22:07.292Z"
   },
   {
    "duration": 22,
    "start_time": "2022-05-07T09:22:07.351Z"
   },
   {
    "duration": 15,
    "start_time": "2022-05-07T09:22:07.375Z"
   },
   {
    "duration": 17,
    "start_time": "2022-05-07T09:22:07.392Z"
   },
   {
    "duration": 77,
    "start_time": "2022-05-07T09:22:07.411Z"
   },
   {
    "duration": 138,
    "start_time": "2022-05-07T09:22:07.490Z"
   },
   {
    "duration": 14,
    "start_time": "2022-05-07T09:22:07.630Z"
   },
   {
    "duration": 31,
    "start_time": "2022-05-07T09:22:07.645Z"
   },
   {
    "duration": 34,
    "start_time": "2022-05-07T09:22:07.677Z"
   },
   {
    "duration": 28,
    "start_time": "2022-05-07T09:22:07.713Z"
   },
   {
    "duration": 10,
    "start_time": "2022-05-07T09:22:07.743Z"
   },
   {
    "duration": 5,
    "start_time": "2022-05-07T09:22:07.756Z"
   },
   {
    "duration": 53,
    "start_time": "2022-05-07T09:25:49.967Z"
   },
   {
    "duration": 728,
    "start_time": "2022-05-07T09:25:55.276Z"
   },
   {
    "duration": 426,
    "start_time": "2022-05-07T09:25:56.005Z"
   },
   {
    "duration": 159,
    "start_time": "2022-05-07T09:25:56.432Z"
   },
   {
    "duration": 35,
    "start_time": "2022-05-07T09:25:56.594Z"
   },
   {
    "duration": 52,
    "start_time": "2022-05-07T09:25:56.631Z"
   },
   {
    "duration": 23,
    "start_time": "2022-05-07T09:25:56.685Z"
   },
   {
    "duration": 14,
    "start_time": "2022-05-07T09:25:56.710Z"
   },
   {
    "duration": 131,
    "start_time": "2022-05-07T09:25:56.725Z"
   },
   {
    "duration": 185,
    "start_time": "2022-05-07T09:25:56.858Z"
   },
   {
    "duration": 9,
    "start_time": "2022-05-07T09:25:57.046Z"
   },
   {
    "duration": 36,
    "start_time": "2022-05-07T09:25:57.057Z"
   },
   {
    "duration": 126,
    "start_time": "2022-05-07T09:25:57.095Z"
   },
   {
    "duration": 94,
    "start_time": "2022-05-07T09:25:57.223Z"
   },
   {
    "duration": 44,
    "start_time": "2022-05-07T09:25:57.318Z"
   },
   {
    "duration": 108,
    "start_time": "2022-05-07T09:25:57.373Z"
   },
   {
    "duration": 27,
    "start_time": "2022-05-07T09:25:57.484Z"
   },
   {
    "duration": 77,
    "start_time": "2022-05-07T09:25:57.513Z"
   },
   {
    "duration": 7,
    "start_time": "2022-05-07T09:25:57.591Z"
   },
   {
    "duration": 18,
    "start_time": "2022-05-07T09:25:57.599Z"
   },
   {
    "duration": 7,
    "start_time": "2022-05-07T09:25:57.618Z"
   },
   {
    "duration": 93,
    "start_time": "2022-05-07T09:25:57.626Z"
   },
   {
    "duration": 136,
    "start_time": "2022-05-07T09:25:57.720Z"
   },
   {
    "duration": 24,
    "start_time": "2022-05-07T09:25:57.858Z"
   },
   {
    "duration": 18,
    "start_time": "2022-05-07T09:25:57.885Z"
   },
   {
    "duration": 12,
    "start_time": "2022-05-07T09:25:57.904Z"
   },
   {
    "duration": 10,
    "start_time": "2022-05-07T09:25:57.918Z"
   },
   {
    "duration": 5,
    "start_time": "2022-05-07T09:25:57.930Z"
   },
   {
    "duration": 3,
    "start_time": "2022-05-07T09:25:57.938Z"
   },
   {
    "duration": 93,
    "start_time": "2022-05-07T09:25:57.943Z"
   },
   {
    "duration": 0,
    "start_time": "2022-05-07T09:25:58.038Z"
   },
   {
    "duration": 39,
    "start_time": "2022-05-07T09:26:05.586Z"
   },
   {
    "duration": 10,
    "start_time": "2022-05-07T09:26:08.203Z"
   },
   {
    "duration": 15,
    "start_time": "2022-05-07T09:27:25.488Z"
   },
   {
    "duration": 11,
    "start_time": "2022-05-07T09:27:48.311Z"
   },
   {
    "duration": 9,
    "start_time": "2022-05-07T09:30:05.317Z"
   },
   {
    "duration": 10,
    "start_time": "2022-05-07T09:30:24.712Z"
   },
   {
    "duration": 13,
    "start_time": "2022-05-07T09:32:53.748Z"
   },
   {
    "duration": 9,
    "start_time": "2022-05-07T09:33:14.436Z"
   },
   {
    "duration": 8,
    "start_time": "2022-05-07T09:33:26.149Z"
   },
   {
    "duration": 9,
    "start_time": "2022-05-07T09:33:34.118Z"
   },
   {
    "duration": 9,
    "start_time": "2022-05-07T09:33:41.496Z"
   },
   {
    "duration": 35,
    "start_time": "2022-05-07T09:34:51.924Z"
   },
   {
    "duration": 9,
    "start_time": "2022-05-07T09:34:54.045Z"
   },
   {
    "duration": 9,
    "start_time": "2022-05-07T09:55:09.058Z"
   },
   {
    "duration": 669,
    "start_time": "2022-05-07T09:56:07.363Z"
   },
   {
    "duration": 188,
    "start_time": "2022-05-07T09:56:08.034Z"
   },
   {
    "duration": 120,
    "start_time": "2022-05-07T09:56:08.223Z"
   },
   {
    "duration": 34,
    "start_time": "2022-05-07T09:56:08.345Z"
   },
   {
    "duration": 38,
    "start_time": "2022-05-07T09:56:08.381Z"
   },
   {
    "duration": 22,
    "start_time": "2022-05-07T09:56:08.420Z"
   },
   {
    "duration": 14,
    "start_time": "2022-05-07T09:56:08.443Z"
   },
   {
    "duration": 131,
    "start_time": "2022-05-07T09:56:08.459Z"
   },
   {
    "duration": 211,
    "start_time": "2022-05-07T09:56:08.592Z"
   },
   {
    "duration": 10,
    "start_time": "2022-05-07T09:56:08.806Z"
   },
   {
    "duration": 27,
    "start_time": "2022-05-07T09:56:08.817Z"
   },
   {
    "duration": 142,
    "start_time": "2022-05-07T09:56:08.846Z"
   },
   {
    "duration": 69,
    "start_time": "2022-05-07T09:56:08.990Z"
   },
   {
    "duration": 0,
    "start_time": "2022-05-07T09:56:09.061Z"
   },
   {
    "duration": 0,
    "start_time": "2022-05-07T09:56:09.062Z"
   },
   {
    "duration": 0,
    "start_time": "2022-05-07T09:56:09.063Z"
   },
   {
    "duration": 1,
    "start_time": "2022-05-07T09:56:09.075Z"
   },
   {
    "duration": 0,
    "start_time": "2022-05-07T09:56:09.077Z"
   },
   {
    "duration": 0,
    "start_time": "2022-05-07T09:56:09.078Z"
   },
   {
    "duration": 0,
    "start_time": "2022-05-07T09:56:09.080Z"
   },
   {
    "duration": 0,
    "start_time": "2022-05-07T09:56:09.083Z"
   },
   {
    "duration": 0,
    "start_time": "2022-05-07T09:56:09.085Z"
   },
   {
    "duration": 0,
    "start_time": "2022-05-07T09:56:09.086Z"
   },
   {
    "duration": 0,
    "start_time": "2022-05-07T09:56:09.088Z"
   },
   {
    "duration": 0,
    "start_time": "2022-05-07T09:56:09.089Z"
   },
   {
    "duration": 0,
    "start_time": "2022-05-07T09:56:09.091Z"
   },
   {
    "duration": 0,
    "start_time": "2022-05-07T09:56:09.093Z"
   },
   {
    "duration": 0,
    "start_time": "2022-05-07T09:56:09.094Z"
   },
   {
    "duration": 1,
    "start_time": "2022-05-07T09:56:09.095Z"
   },
   {
    "duration": 0,
    "start_time": "2022-05-07T09:56:09.097Z"
   },
   {
    "duration": 0,
    "start_time": "2022-05-07T09:56:09.098Z"
   },
   {
    "duration": 0,
    "start_time": "2022-05-07T09:56:09.099Z"
   },
   {
    "duration": 7,
    "start_time": "2022-05-07T09:56:41.861Z"
   },
   {
    "duration": 10,
    "start_time": "2022-05-07T09:56:59.266Z"
   },
   {
    "duration": 11,
    "start_time": "2022-05-07T10:01:40.120Z"
   },
   {
    "duration": 9,
    "start_time": "2022-05-07T10:02:17.329Z"
   },
   {
    "duration": 8,
    "start_time": "2022-05-07T10:02:21.623Z"
   },
   {
    "duration": 8,
    "start_time": "2022-05-07T10:02:24.423Z"
   },
   {
    "duration": 8,
    "start_time": "2022-05-07T10:02:33.187Z"
   },
   {
    "duration": 7,
    "start_time": "2022-05-07T10:02:38.870Z"
   },
   {
    "duration": 10,
    "start_time": "2022-05-07T10:03:40.755Z"
   },
   {
    "duration": 9,
    "start_time": "2022-05-07T10:08:23.221Z"
   },
   {
    "duration": 8,
    "start_time": "2022-05-07T10:08:32.295Z"
   },
   {
    "duration": 10,
    "start_time": "2022-05-07T10:10:40.095Z"
   },
   {
    "duration": 557,
    "start_time": "2022-05-07T10:15:59.127Z"
   },
   {
    "duration": 167,
    "start_time": "2022-05-07T10:15:59.686Z"
   },
   {
    "duration": 119,
    "start_time": "2022-05-07T10:15:59.855Z"
   },
   {
    "duration": 21,
    "start_time": "2022-05-07T10:15:59.976Z"
   },
   {
    "duration": 51,
    "start_time": "2022-05-07T10:15:59.998Z"
   },
   {
    "duration": 22,
    "start_time": "2022-05-07T10:16:00.051Z"
   },
   {
    "duration": 34,
    "start_time": "2022-05-07T10:16:00.075Z"
   },
   {
    "duration": 124,
    "start_time": "2022-05-07T10:16:00.111Z"
   },
   {
    "duration": 175,
    "start_time": "2022-05-07T10:16:00.237Z"
   },
   {
    "duration": 9,
    "start_time": "2022-05-07T10:16:00.415Z"
   },
   {
    "duration": 32,
    "start_time": "2022-05-07T10:16:00.425Z"
   },
   {
    "duration": 120,
    "start_time": "2022-05-07T10:16:00.459Z"
   },
   {
    "duration": 2,
    "start_time": "2022-05-07T10:16:00.581Z"
   },
   {
    "duration": 98,
    "start_time": "2022-05-07T10:16:00.584Z"
   },
   {
    "duration": 48,
    "start_time": "2022-05-07T10:16:00.684Z"
   },
   {
    "duration": 113,
    "start_time": "2022-05-07T10:16:00.733Z"
   },
   {
    "duration": 50,
    "start_time": "2022-05-07T10:16:00.848Z"
   },
   {
    "duration": 117,
    "start_time": "2022-05-07T10:16:00.900Z"
   },
   {
    "duration": 8,
    "start_time": "2022-05-07T10:16:01.019Z"
   },
   {
    "duration": 30,
    "start_time": "2022-05-07T10:16:01.029Z"
   },
   {
    "duration": 13,
    "start_time": "2022-05-07T10:16:01.061Z"
   },
   {
    "duration": 68,
    "start_time": "2022-05-07T10:16:01.075Z"
   },
   {
    "duration": 141,
    "start_time": "2022-05-07T10:16:01.144Z"
   },
   {
    "duration": 15,
    "start_time": "2022-05-07T10:16:01.287Z"
   },
   {
    "duration": 21,
    "start_time": "2022-05-07T10:16:01.304Z"
   },
   {
    "duration": 24,
    "start_time": "2022-05-07T10:16:01.327Z"
   },
   {
    "duration": 21,
    "start_time": "2022-05-07T10:16:01.353Z"
   },
   {
    "duration": 12,
    "start_time": "2022-05-07T10:16:01.378Z"
   },
   {
    "duration": 18,
    "start_time": "2022-05-07T10:16:01.393Z"
   },
   {
    "duration": 15,
    "start_time": "2022-05-07T10:16:01.413Z"
   },
   {
    "duration": 43,
    "start_time": "2022-05-07T10:16:01.430Z"
   },
   {
    "duration": 10,
    "start_time": "2022-05-07T10:16:01.475Z"
   },
   {
    "duration": 62,
    "start_time": "2022-05-07T10:18:43.112Z"
   },
   {
    "duration": 8,
    "start_time": "2022-05-07T10:18:45.819Z"
   },
   {
    "duration": 7,
    "start_time": "2022-05-07T10:18:50.865Z"
   },
   {
    "duration": 8,
    "start_time": "2022-05-07T10:18:52.778Z"
   },
   {
    "duration": 9,
    "start_time": "2022-05-07T10:19:09.800Z"
   },
   {
    "duration": 54,
    "start_time": "2022-05-07T10:21:10.566Z"
   },
   {
    "duration": 36,
    "start_time": "2022-05-07T10:21:24.452Z"
   },
   {
    "duration": 19,
    "start_time": "2022-05-07T10:22:20.278Z"
   },
   {
    "duration": 245,
    "start_time": "2022-05-07T10:22:58.569Z"
   },
   {
    "duration": 8,
    "start_time": "2022-05-07T10:23:05.283Z"
   },
   {
    "duration": 26,
    "start_time": "2022-05-07T10:23:22.526Z"
   },
   {
    "duration": 8,
    "start_time": "2022-05-07T10:23:23.949Z"
   },
   {
    "duration": 99,
    "start_time": "2022-05-07T10:23:49.875Z"
   },
   {
    "duration": 18,
    "start_time": "2022-05-07T10:23:54.572Z"
   },
   {
    "duration": 7,
    "start_time": "2022-05-07T10:23:55.900Z"
   },
   {
    "duration": 17,
    "start_time": "2022-05-07T10:26:29.044Z"
   },
   {
    "duration": 8,
    "start_time": "2022-05-07T10:26:31.054Z"
   },
   {
    "duration": 12,
    "start_time": "2022-05-07T10:27:50.949Z"
   },
   {
    "duration": 9,
    "start_time": "2022-05-07T10:28:01.037Z"
   },
   {
    "duration": 8,
    "start_time": "2022-05-07T10:28:07.716Z"
   },
   {
    "duration": 9,
    "start_time": "2022-05-07T10:29:51.678Z"
   },
   {
    "duration": 56,
    "start_time": "2022-05-07T10:30:01.958Z"
   },
   {
    "duration": 10,
    "start_time": "2022-05-07T10:30:03.817Z"
   },
   {
    "duration": 10,
    "start_time": "2022-05-07T10:30:58.212Z"
   },
   {
    "duration": 54,
    "start_time": "2022-05-07T10:31:07.627Z"
   },
   {
    "duration": 9,
    "start_time": "2022-05-07T10:31:27.582Z"
   },
   {
    "duration": 50,
    "start_time": "2022-05-07T10:31:39.978Z"
   },
   {
    "duration": 24,
    "start_time": "2022-05-07T10:31:46.169Z"
   },
   {
    "duration": 7,
    "start_time": "2022-05-07T10:31:54.520Z"
   },
   {
    "duration": 9,
    "start_time": "2022-05-07T10:31:58.571Z"
   },
   {
    "duration": 10,
    "start_time": "2022-05-07T10:35:41.321Z"
   },
   {
    "duration": 4,
    "start_time": "2022-05-07T10:35:47.686Z"
   },
   {
    "duration": 7,
    "start_time": "2022-05-07T10:35:54.190Z"
   },
   {
    "duration": 11,
    "start_time": "2022-05-07T10:36:10.179Z"
   },
   {
    "duration": 4,
    "start_time": "2022-05-07T10:47:15.614Z"
   },
   {
    "duration": 8,
    "start_time": "2022-05-07T10:47:19.300Z"
   },
   {
    "duration": 10,
    "start_time": "2022-05-07T10:47:55.069Z"
   },
   {
    "duration": 4,
    "start_time": "2022-05-07T10:49:34.704Z"
   },
   {
    "duration": 8,
    "start_time": "2022-05-07T10:49:36.691Z"
   },
   {
    "duration": 4,
    "start_time": "2022-05-07T10:50:11.212Z"
   },
   {
    "duration": 12,
    "start_time": "2022-05-07T10:50:12.509Z"
   },
   {
    "duration": 5,
    "start_time": "2022-05-07T10:50:43.523Z"
   },
   {
    "duration": 12,
    "start_time": "2022-05-07T10:50:44.067Z"
   },
   {
    "duration": 5,
    "start_time": "2022-05-07T10:50:56.933Z"
   },
   {
    "duration": 10,
    "start_time": "2022-05-07T10:50:57.536Z"
   },
   {
    "duration": 4,
    "start_time": "2022-05-07T10:51:20.467Z"
   },
   {
    "duration": 10,
    "start_time": "2022-05-07T10:51:21.182Z"
   },
   {
    "duration": 5,
    "start_time": "2022-05-07T10:51:38.827Z"
   },
   {
    "duration": 9,
    "start_time": "2022-05-07T10:51:39.294Z"
   },
   {
    "duration": 103,
    "start_time": "2022-05-07T10:52:56.032Z"
   },
   {
    "duration": 153,
    "start_time": "2022-05-07T10:53:02.632Z"
   },
   {
    "duration": 1788,
    "start_time": "2022-05-07T10:53:14.964Z"
   },
   {
    "duration": 99,
    "start_time": "2022-05-07T10:53:25.915Z"
   },
   {
    "duration": 103,
    "start_time": "2022-05-07T10:53:35.208Z"
   },
   {
    "duration": 105,
    "start_time": "2022-05-07T10:53:44.914Z"
   },
   {
    "duration": 3,
    "start_time": "2022-05-07T10:53:53.687Z"
   },
   {
    "duration": 5,
    "start_time": "2022-05-07T10:54:53.859Z"
   },
   {
    "duration": 4,
    "start_time": "2022-05-07T10:56:14.642Z"
   },
   {
    "duration": 12,
    "start_time": "2022-05-07T10:56:16.205Z"
   },
   {
    "duration": 7,
    "start_time": "2022-05-07T10:57:29.385Z"
   },
   {
    "duration": 7,
    "start_time": "2022-05-07T10:59:15.335Z"
   },
   {
    "duration": 8,
    "start_time": "2022-05-07T10:59:31.907Z"
   },
   {
    "duration": 16,
    "start_time": "2022-05-07T12:07:37.666Z"
   },
   {
    "duration": 8,
    "start_time": "2022-05-07T12:08:07.260Z"
   },
   {
    "duration": 8,
    "start_time": "2022-05-07T12:09:59.083Z"
   },
   {
    "duration": 4,
    "start_time": "2022-05-07T12:10:11.398Z"
   },
   {
    "duration": 10,
    "start_time": "2022-05-07T12:10:39.018Z"
   },
   {
    "duration": 101,
    "start_time": "2022-05-07T12:11:13.021Z"
   },
   {
    "duration": 105,
    "start_time": "2022-05-07T12:11:43.706Z"
   },
   {
    "duration": 638,
    "start_time": "2022-05-07T12:12:01.077Z"
   },
   {
    "duration": 176,
    "start_time": "2022-05-07T12:12:01.717Z"
   },
   {
    "duration": 127,
    "start_time": "2022-05-07T12:12:01.895Z"
   },
   {
    "duration": 23,
    "start_time": "2022-05-07T12:12:02.024Z"
   },
   {
    "duration": 40,
    "start_time": "2022-05-07T12:12:02.049Z"
   },
   {
    "duration": 23,
    "start_time": "2022-05-07T12:12:02.091Z"
   },
   {
    "duration": 21,
    "start_time": "2022-05-07T12:12:02.116Z"
   },
   {
    "duration": 139,
    "start_time": "2022-05-07T12:12:02.139Z"
   },
   {
    "duration": 196,
    "start_time": "2022-05-07T12:12:02.280Z"
   },
   {
    "duration": 10,
    "start_time": "2022-05-07T12:12:02.478Z"
   },
   {
    "duration": 30,
    "start_time": "2022-05-07T12:12:02.489Z"
   },
   {
    "duration": 136,
    "start_time": "2022-05-07T12:12:02.521Z"
   },
   {
    "duration": 3,
    "start_time": "2022-05-07T12:12:02.659Z"
   },
   {
    "duration": 100,
    "start_time": "2022-05-07T12:12:02.674Z"
   },
   {
    "duration": 55,
    "start_time": "2022-05-07T12:12:02.776Z"
   },
   {
    "duration": 115,
    "start_time": "2022-05-07T12:12:02.833Z"
   },
   {
    "duration": 41,
    "start_time": "2022-05-07T12:12:02.950Z"
   },
   {
    "duration": 60,
    "start_time": "2022-05-07T12:12:02.993Z"
   },
   {
    "duration": 20,
    "start_time": "2022-05-07T12:12:03.055Z"
   },
   {
    "duration": 19,
    "start_time": "2022-05-07T12:12:03.077Z"
   },
   {
    "duration": 9,
    "start_time": "2022-05-07T12:12:03.098Z"
   },
   {
    "duration": 83,
    "start_time": "2022-05-07T12:12:03.109Z"
   },
   {
    "duration": 143,
    "start_time": "2022-05-07T12:12:03.194Z"
   },
   {
    "duration": 15,
    "start_time": "2022-05-07T12:12:03.339Z"
   },
   {
    "duration": 10,
    "start_time": "2022-05-07T12:12:03.372Z"
   },
   {
    "duration": 11,
    "start_time": "2022-05-07T12:12:03.384Z"
   },
   {
    "duration": 13,
    "start_time": "2022-05-07T12:12:03.397Z"
   },
   {
    "duration": 5,
    "start_time": "2022-05-07T12:12:03.414Z"
   },
   {
    "duration": 22,
    "start_time": "2022-05-07T12:12:03.420Z"
   },
   {
    "duration": 16,
    "start_time": "2022-05-07T12:12:03.443Z"
   },
   {
    "duration": 47,
    "start_time": "2022-05-07T12:12:03.461Z"
   },
   {
    "duration": 10,
    "start_time": "2022-05-07T12:12:03.509Z"
   },
   {
    "duration": 43,
    "start_time": "2022-05-07T12:12:03.521Z"
   },
   {
    "duration": 13,
    "start_time": "2022-05-07T12:12:03.566Z"
   },
   {
    "duration": 20,
    "start_time": "2022-05-07T12:12:03.580Z"
   },
   {
    "duration": 7,
    "start_time": "2022-05-07T12:12:03.602Z"
   },
   {
    "duration": 11,
    "start_time": "2022-05-07T12:12:03.610Z"
   },
   {
    "duration": 68,
    "start_time": "2022-05-07T12:12:03.623Z"
   },
   {
    "duration": 26,
    "start_time": "2022-05-07T12:12:03.693Z"
   },
   {
    "duration": 8,
    "start_time": "2022-05-07T12:12:03.721Z"
   },
   {
    "duration": 12,
    "start_time": "2022-05-07T12:12:03.731Z"
   },
   {
    "duration": 110,
    "start_time": "2022-05-07T12:12:03.744Z"
   },
   {
    "duration": 0,
    "start_time": "2022-05-07T12:12:03.856Z"
   },
   {
    "duration": 0,
    "start_time": "2022-05-07T12:12:03.858Z"
   },
   {
    "duration": 5,
    "start_time": "2022-05-07T12:15:37.211Z"
   },
   {
    "duration": 4,
    "start_time": "2022-05-07T12:15:40.402Z"
   },
   {
    "duration": 67,
    "start_time": "2022-05-07T12:16:03.879Z"
   },
   {
    "duration": 16,
    "start_time": "2022-05-07T12:16:16.057Z"
   },
   {
    "duration": 35,
    "start_time": "2022-05-07T12:19:32.616Z"
   },
   {
    "duration": 8,
    "start_time": "2022-05-07T12:19:45.253Z"
   },
   {
    "duration": 7,
    "start_time": "2022-05-07T12:19:59.887Z"
   },
   {
    "duration": 10,
    "start_time": "2022-05-07T12:20:11.148Z"
   },
   {
    "duration": 8,
    "start_time": "2022-05-07T12:20:23.417Z"
   },
   {
    "duration": 117,
    "start_time": "2022-05-07T12:24:42.609Z"
   },
   {
    "duration": 8,
    "start_time": "2022-05-07T12:24:49.722Z"
   },
   {
    "duration": 1694,
    "start_time": "2022-05-07T12:25:04.452Z"
   },
   {
    "duration": 103,
    "start_time": "2022-05-07T12:25:15.902Z"
   },
   {
    "duration": 8,
    "start_time": "2022-05-07T12:25:25.118Z"
   },
   {
    "duration": 12,
    "start_time": "2022-05-07T12:25:32.212Z"
   },
   {
    "duration": 12,
    "start_time": "2022-05-07T12:25:46.407Z"
   },
   {
    "duration": 11,
    "start_time": "2022-05-07T12:26:22.089Z"
   },
   {
    "duration": 11,
    "start_time": "2022-05-07T12:26:33.564Z"
   },
   {
    "duration": 13,
    "start_time": "2022-05-07T12:27:11.477Z"
   },
   {
    "duration": 9,
    "start_time": "2022-05-07T12:27:15.113Z"
   },
   {
    "duration": 15,
    "start_time": "2022-05-07T12:27:23.633Z"
   },
   {
    "duration": 15,
    "start_time": "2022-05-07T12:28:11.618Z"
   },
   {
    "duration": 21,
    "start_time": "2022-05-07T12:30:56.667Z"
   },
   {
    "duration": 12,
    "start_time": "2022-05-07T12:31:20.746Z"
   },
   {
    "duration": 12,
    "start_time": "2022-05-07T12:31:54.224Z"
   },
   {
    "duration": 12,
    "start_time": "2022-05-07T12:32:25.059Z"
   },
   {
    "duration": 12,
    "start_time": "2022-05-07T12:32:33.013Z"
   },
   {
    "duration": 399,
    "start_time": "2022-05-07T12:37:00.770Z"
   },
   {
    "duration": 411,
    "start_time": "2022-05-07T12:37:37.230Z"
   },
   {
    "duration": 412,
    "start_time": "2022-05-07T12:37:44.503Z"
   },
   {
    "duration": 9,
    "start_time": "2022-05-07T12:38:49.480Z"
   },
   {
    "duration": 12,
    "start_time": "2022-05-07T12:38:57.670Z"
   },
   {
    "duration": 415,
    "start_time": "2022-05-07T12:39:08.367Z"
   },
   {
    "duration": 460,
    "start_time": "2022-05-07T12:39:28.720Z"
   },
   {
    "duration": 415,
    "start_time": "2022-05-07T12:39:43.645Z"
   },
   {
    "duration": 10,
    "start_time": "2022-05-07T12:50:11.152Z"
   },
   {
    "duration": 101,
    "start_time": "2022-05-07T12:50:26.567Z"
   },
   {
    "duration": 18,
    "start_time": "2022-05-07T12:53:01.034Z"
   },
   {
    "duration": 15,
    "start_time": "2022-05-07T12:53:12.119Z"
   },
   {
    "duration": 16,
    "start_time": "2022-05-07T12:55:02.106Z"
   },
   {
    "duration": 15,
    "start_time": "2022-05-07T12:55:19.239Z"
   },
   {
    "duration": 562,
    "start_time": "2022-05-07T12:58:25.494Z"
   },
   {
    "duration": 520,
    "start_time": "2022-05-07T12:58:30.688Z"
   },
   {
    "duration": 523,
    "start_time": "2022-05-07T12:58:32.857Z"
   },
   {
    "duration": 578,
    "start_time": "2022-05-07T12:58:35.215Z"
   },
   {
    "duration": 8,
    "start_time": "2022-05-07T12:58:49.111Z"
   },
   {
    "duration": 105,
    "start_time": "2022-05-07T12:58:57.205Z"
   },
   {
    "duration": 590,
    "start_time": "2022-05-07T12:59:08.343Z"
   },
   {
    "duration": 7,
    "start_time": "2022-05-07T12:59:10.897Z"
   },
   {
    "duration": 1737,
    "start_time": "2022-05-07T13:00:18.342Z"
   },
   {
    "duration": 1720,
    "start_time": "2022-05-07T13:00:40.882Z"
   },
   {
    "duration": 1598,
    "start_time": "2022-05-07T13:00:48.013Z"
   },
   {
    "duration": 1631,
    "start_time": "2022-05-07T13:00:54.358Z"
   },
   {
    "duration": 8,
    "start_time": "2022-05-07T13:01:05.581Z"
   },
   {
    "duration": 636,
    "start_time": "2022-05-07T13:01:40.255Z"
   },
   {
    "duration": 177,
    "start_time": "2022-05-07T13:01:40.894Z"
   },
   {
    "duration": 122,
    "start_time": "2022-05-07T13:01:41.073Z"
   },
   {
    "duration": 21,
    "start_time": "2022-05-07T13:01:41.198Z"
   },
   {
    "duration": 34,
    "start_time": "2022-05-07T13:01:41.221Z"
   },
   {
    "duration": 34,
    "start_time": "2022-05-07T13:01:41.257Z"
   },
   {
    "duration": 21,
    "start_time": "2022-05-07T13:01:41.293Z"
   },
   {
    "duration": 126,
    "start_time": "2022-05-07T13:01:41.315Z"
   },
   {
    "duration": 197,
    "start_time": "2022-05-07T13:01:41.444Z"
   },
   {
    "duration": 11,
    "start_time": "2022-05-07T13:01:41.645Z"
   },
   {
    "duration": 41,
    "start_time": "2022-05-07T13:01:41.658Z"
   },
   {
    "duration": 124,
    "start_time": "2022-05-07T13:01:41.701Z"
   },
   {
    "duration": 2,
    "start_time": "2022-05-07T13:01:41.826Z"
   },
   {
    "duration": 93,
    "start_time": "2022-05-07T13:01:41.830Z"
   },
   {
    "duration": 60,
    "start_time": "2022-05-07T13:01:41.925Z"
   },
   {
    "duration": 102,
    "start_time": "2022-05-07T13:01:41.986Z"
   },
   {
    "duration": 26,
    "start_time": "2022-05-07T13:01:42.090Z"
   },
   {
    "duration": 73,
    "start_time": "2022-05-07T13:01:42.117Z"
   },
   {
    "duration": 8,
    "start_time": "2022-05-07T13:01:42.191Z"
   },
   {
    "duration": 18,
    "start_time": "2022-05-07T13:01:42.200Z"
   },
   {
    "duration": 7,
    "start_time": "2022-05-07T13:01:42.220Z"
   },
   {
    "duration": 87,
    "start_time": "2022-05-07T13:01:42.228Z"
   },
   {
    "duration": 141,
    "start_time": "2022-05-07T13:01:42.317Z"
   },
   {
    "duration": 20,
    "start_time": "2022-05-07T13:01:42.459Z"
   },
   {
    "duration": 12,
    "start_time": "2022-05-07T13:01:42.480Z"
   },
   {
    "duration": 12,
    "start_time": "2022-05-07T13:01:42.494Z"
   },
   {
    "duration": 13,
    "start_time": "2022-05-07T13:01:42.508Z"
   },
   {
    "duration": 2,
    "start_time": "2022-05-07T13:01:42.526Z"
   },
   {
    "duration": 5,
    "start_time": "2022-05-07T13:01:42.530Z"
   },
   {
    "duration": 5,
    "start_time": "2022-05-07T13:01:42.536Z"
   },
   {
    "duration": 40,
    "start_time": "2022-05-07T13:01:42.574Z"
   },
   {
    "duration": 10,
    "start_time": "2022-05-07T13:01:42.616Z"
   },
   {
    "duration": 58,
    "start_time": "2022-05-07T13:01:42.627Z"
   },
   {
    "duration": 8,
    "start_time": "2022-05-07T13:01:42.686Z"
   },
   {
    "duration": 18,
    "start_time": "2022-05-07T13:01:42.696Z"
   },
   {
    "duration": 7,
    "start_time": "2022-05-07T13:01:42.715Z"
   },
   {
    "duration": 11,
    "start_time": "2022-05-07T13:01:42.723Z"
   },
   {
    "duration": 72,
    "start_time": "2022-05-07T13:01:42.735Z"
   },
   {
    "duration": 23,
    "start_time": "2022-05-07T13:01:42.809Z"
   },
   {
    "duration": 7,
    "start_time": "2022-05-07T13:01:42.834Z"
   },
   {
    "duration": 11,
    "start_time": "2022-05-07T13:01:42.843Z"
   },
   {
    "duration": 4,
    "start_time": "2022-05-07T13:01:42.874Z"
   },
   {
    "duration": 15,
    "start_time": "2022-05-07T13:01:42.880Z"
   },
   {
    "duration": 571,
    "start_time": "2022-05-07T13:02:04.112Z"
   },
   {
    "duration": 164,
    "start_time": "2022-05-07T13:02:04.685Z"
   },
   {
    "duration": 115,
    "start_time": "2022-05-07T13:02:04.851Z"
   },
   {
    "duration": 21,
    "start_time": "2022-05-07T13:02:04.968Z"
   },
   {
    "duration": 30,
    "start_time": "2022-05-07T13:02:04.990Z"
   },
   {
    "duration": 22,
    "start_time": "2022-05-07T13:02:05.022Z"
   },
   {
    "duration": 30,
    "start_time": "2022-05-07T13:02:05.045Z"
   },
   {
    "duration": 109,
    "start_time": "2022-05-07T13:02:05.077Z"
   },
   {
    "duration": 197,
    "start_time": "2022-05-07T13:02:05.187Z"
   },
   {
    "duration": 10,
    "start_time": "2022-05-07T13:02:05.388Z"
   },
   {
    "duration": 51,
    "start_time": "2022-05-07T13:02:05.400Z"
   },
   {
    "duration": 113,
    "start_time": "2022-05-07T13:02:05.453Z"
   },
   {
    "duration": 3,
    "start_time": "2022-05-07T13:02:05.572Z"
   },
   {
    "duration": 101,
    "start_time": "2022-05-07T13:02:05.576Z"
   },
   {
    "duration": 45,
    "start_time": "2022-05-07T13:02:05.679Z"
   },
   {
    "duration": 104,
    "start_time": "2022-05-07T13:02:05.726Z"
   },
   {
    "duration": 28,
    "start_time": "2022-05-07T13:02:05.831Z"
   },
   {
    "duration": 73,
    "start_time": "2022-05-07T13:02:05.861Z"
   },
   {
    "duration": 7,
    "start_time": "2022-05-07T13:02:05.936Z"
   },
   {
    "duration": 34,
    "start_time": "2022-05-07T13:02:05.944Z"
   },
   {
    "duration": 9,
    "start_time": "2022-05-07T13:02:05.980Z"
   },
   {
    "duration": 72,
    "start_time": "2022-05-07T13:02:05.990Z"
   },
   {
    "duration": 143,
    "start_time": "2022-05-07T13:02:06.073Z"
   },
   {
    "duration": 14,
    "start_time": "2022-05-07T13:02:06.218Z"
   },
   {
    "duration": 12,
    "start_time": "2022-05-07T13:02:06.234Z"
   },
   {
    "duration": 12,
    "start_time": "2022-05-07T13:02:06.248Z"
   },
   {
    "duration": 9,
    "start_time": "2022-05-07T13:02:06.273Z"
   },
   {
    "duration": 3,
    "start_time": "2022-05-07T13:02:06.286Z"
   },
   {
    "duration": 5,
    "start_time": "2022-05-07T13:02:06.290Z"
   },
   {
    "duration": 5,
    "start_time": "2022-05-07T13:02:06.296Z"
   },
   {
    "duration": 39,
    "start_time": "2022-05-07T13:02:06.302Z"
   },
   {
    "duration": 33,
    "start_time": "2022-05-07T13:02:06.342Z"
   },
   {
    "duration": 41,
    "start_time": "2022-05-07T13:02:06.377Z"
   },
   {
    "duration": 8,
    "start_time": "2022-05-07T13:02:06.420Z"
   },
   {
    "duration": 16,
    "start_time": "2022-05-07T13:02:06.430Z"
   },
   {
    "duration": 31,
    "start_time": "2022-05-07T13:02:06.448Z"
   },
   {
    "duration": 11,
    "start_time": "2022-05-07T13:02:06.481Z"
   },
   {
    "duration": 50,
    "start_time": "2022-05-07T13:02:06.494Z"
   },
   {
    "duration": 44,
    "start_time": "2022-05-07T13:02:06.546Z"
   },
   {
    "duration": 8,
    "start_time": "2022-05-07T13:02:06.592Z"
   },
   {
    "duration": 17,
    "start_time": "2022-05-07T13:02:06.602Z"
   },
   {
    "duration": 9,
    "start_time": "2022-05-07T13:02:06.621Z"
   },
   {
    "duration": 16,
    "start_time": "2022-05-07T13:02:06.632Z"
   },
   {
    "duration": 1735,
    "start_time": "2022-05-07T13:02:06.650Z"
   },
   {
    "duration": 0,
    "start_time": "2022-05-07T13:02:08.386Z"
   },
   {
    "duration": 0,
    "start_time": "2022-05-07T13:02:08.387Z"
   },
   {
    "duration": 0,
    "start_time": "2022-05-07T13:02:08.388Z"
   },
   {
    "duration": 0,
    "start_time": "2022-05-07T13:02:08.390Z"
   },
   {
    "duration": 8,
    "start_time": "2022-05-07T13:02:53.657Z"
   },
   {
    "duration": 1743,
    "start_time": "2022-05-07T13:03:07.129Z"
   },
   {
    "duration": 4,
    "start_time": "2022-05-07T13:10:08.215Z"
   },
   {
    "duration": 7,
    "start_time": "2022-05-07T13:10:13.757Z"
   },
   {
    "duration": 11,
    "start_time": "2022-05-07T13:11:00.133Z"
   },
   {
    "duration": 9,
    "start_time": "2022-05-07T13:11:34.359Z"
   },
   {
    "duration": 9,
    "start_time": "2022-05-07T13:11:43.521Z"
   },
   {
    "duration": 5,
    "start_time": "2022-05-07T13:15:07.241Z"
   },
   {
    "duration": 4,
    "start_time": "2022-05-07T13:15:11.996Z"
   },
   {
    "duration": 13,
    "start_time": "2022-05-07T13:15:13.510Z"
   },
   {
    "duration": 5,
    "start_time": "2022-05-07T13:16:50.198Z"
   },
   {
    "duration": 12,
    "start_time": "2022-05-07T13:16:53.995Z"
   },
   {
    "duration": 133,
    "start_time": "2022-05-07T13:17:58.608Z"
   },
   {
    "duration": 14,
    "start_time": "2022-05-07T13:18:13.642Z"
   },
   {
    "duration": 13,
    "start_time": "2022-05-07T13:18:49.881Z"
   },
   {
    "duration": 13,
    "start_time": "2022-05-07T13:19:52.141Z"
   },
   {
    "duration": 4,
    "start_time": "2022-05-07T13:19:54.803Z"
   },
   {
    "duration": 15,
    "start_time": "2022-05-07T13:19:56.441Z"
   },
   {
    "duration": 591,
    "start_time": "2022-05-07T13:20:28.601Z"
   },
   {
    "duration": 174,
    "start_time": "2022-05-07T13:20:29.195Z"
   },
   {
    "duration": 116,
    "start_time": "2022-05-07T13:20:29.371Z"
   },
   {
    "duration": 21,
    "start_time": "2022-05-07T13:20:29.489Z"
   },
   {
    "duration": 32,
    "start_time": "2022-05-07T13:20:29.512Z"
   },
   {
    "duration": 42,
    "start_time": "2022-05-07T13:20:29.546Z"
   },
   {
    "duration": 15,
    "start_time": "2022-05-07T13:20:29.590Z"
   },
   {
    "duration": 131,
    "start_time": "2022-05-07T13:20:29.607Z"
   },
   {
    "duration": 179,
    "start_time": "2022-05-07T13:20:29.740Z"
   },
   {
    "duration": 10,
    "start_time": "2022-05-07T13:20:29.923Z"
   },
   {
    "duration": 44,
    "start_time": "2022-05-07T13:20:29.935Z"
   },
   {
    "duration": 132,
    "start_time": "2022-05-07T13:20:29.981Z"
   },
   {
    "duration": 2,
    "start_time": "2022-05-07T13:20:30.115Z"
   },
   {
    "duration": 95,
    "start_time": "2022-05-07T13:20:30.119Z"
   },
   {
    "duration": 65,
    "start_time": "2022-05-07T13:20:30.216Z"
   },
   {
    "duration": 104,
    "start_time": "2022-05-07T13:20:30.283Z"
   },
   {
    "duration": 27,
    "start_time": "2022-05-07T13:20:30.389Z"
   },
   {
    "duration": 83,
    "start_time": "2022-05-07T13:20:30.417Z"
   },
   {
    "duration": 8,
    "start_time": "2022-05-07T13:20:30.501Z"
   },
   {
    "duration": 28,
    "start_time": "2022-05-07T13:20:30.511Z"
   },
   {
    "duration": 14,
    "start_time": "2022-05-07T13:20:30.541Z"
   },
   {
    "duration": 75,
    "start_time": "2022-05-07T13:20:30.557Z"
   },
   {
    "duration": 149,
    "start_time": "2022-05-07T13:20:30.634Z"
   },
   {
    "duration": 16,
    "start_time": "2022-05-07T13:20:30.784Z"
   },
   {
    "duration": 30,
    "start_time": "2022-05-07T13:20:30.801Z"
   },
   {
    "duration": 18,
    "start_time": "2022-05-07T13:20:30.832Z"
   },
   {
    "duration": 23,
    "start_time": "2022-05-07T13:20:30.852Z"
   },
   {
    "duration": 6,
    "start_time": "2022-05-07T13:20:30.879Z"
   },
   {
    "duration": 14,
    "start_time": "2022-05-07T13:20:30.887Z"
   },
   {
    "duration": 7,
    "start_time": "2022-05-07T13:20:30.902Z"
   },
   {
    "duration": 57,
    "start_time": "2022-05-07T13:20:30.910Z"
   },
   {
    "duration": 11,
    "start_time": "2022-05-07T13:20:30.969Z"
   },
   {
    "duration": 43,
    "start_time": "2022-05-07T13:20:30.981Z"
   },
   {
    "duration": 7,
    "start_time": "2022-05-07T13:20:31.026Z"
   },
   {
    "duration": 19,
    "start_time": "2022-05-07T13:20:31.034Z"
   },
   {
    "duration": 20,
    "start_time": "2022-05-07T13:20:31.055Z"
   },
   {
    "duration": 13,
    "start_time": "2022-05-07T13:20:31.077Z"
   },
   {
    "duration": 49,
    "start_time": "2022-05-07T13:20:31.091Z"
   },
   {
    "duration": 46,
    "start_time": "2022-05-07T13:20:31.142Z"
   },
   {
    "duration": 9,
    "start_time": "2022-05-07T13:20:31.190Z"
   },
   {
    "duration": 16,
    "start_time": "2022-05-07T13:20:31.201Z"
   },
   {
    "duration": 14,
    "start_time": "2022-05-07T13:20:31.219Z"
   },
   {
    "duration": 10,
    "start_time": "2022-05-07T13:20:31.235Z"
   },
   {
    "duration": 8,
    "start_time": "2022-05-07T13:20:31.246Z"
   },
   {
    "duration": 4,
    "start_time": "2022-05-07T13:20:31.274Z"
   },
   {
    "duration": 24,
    "start_time": "2022-05-07T13:20:31.279Z"
   },
   {
    "duration": 12,
    "start_time": "2022-05-07T13:20:43.300Z"
   },
   {
    "duration": 12,
    "start_time": "2022-05-07T13:20:49.019Z"
   },
   {
    "duration": 13,
    "start_time": "2022-05-07T13:20:52.109Z"
   },
   {
    "duration": 14,
    "start_time": "2022-05-07T13:21:21.565Z"
   },
   {
    "duration": 14,
    "start_time": "2022-05-07T13:22:06.101Z"
   },
   {
    "duration": 14,
    "start_time": "2022-05-07T13:22:09.907Z"
   },
   {
    "duration": 12,
    "start_time": "2022-05-07T13:23:08.747Z"
   },
   {
    "duration": 11,
    "start_time": "2022-05-07T13:23:27.735Z"
   },
   {
    "duration": 569,
    "start_time": "2022-05-07T13:23:35.708Z"
   },
   {
    "duration": 166,
    "start_time": "2022-05-07T13:23:36.278Z"
   },
   {
    "duration": 119,
    "start_time": "2022-05-07T13:23:36.445Z"
   },
   {
    "duration": 21,
    "start_time": "2022-05-07T13:23:36.574Z"
   },
   {
    "duration": 30,
    "start_time": "2022-05-07T13:23:36.597Z"
   },
   {
    "duration": 22,
    "start_time": "2022-05-07T13:23:36.629Z"
   },
   {
    "duration": 28,
    "start_time": "2022-05-07T13:23:36.652Z"
   },
   {
    "duration": 112,
    "start_time": "2022-05-07T13:23:36.682Z"
   },
   {
    "duration": 178,
    "start_time": "2022-05-07T13:23:36.796Z"
   },
   {
    "duration": 10,
    "start_time": "2022-05-07T13:23:36.977Z"
   },
   {
    "duration": 26,
    "start_time": "2022-05-07T13:23:36.989Z"
   },
   {
    "duration": 138,
    "start_time": "2022-05-07T13:23:37.017Z"
   },
   {
    "duration": 2,
    "start_time": "2022-05-07T13:23:37.157Z"
   },
   {
    "duration": 90,
    "start_time": "2022-05-07T13:23:37.161Z"
   },
   {
    "duration": 62,
    "start_time": "2022-05-07T13:23:37.253Z"
   },
   {
    "duration": 109,
    "start_time": "2022-05-07T13:23:37.317Z"
   },
   {
    "duration": 25,
    "start_time": "2022-05-07T13:23:37.428Z"
   },
   {
    "duration": 69,
    "start_time": "2022-05-07T13:23:37.455Z"
   },
   {
    "duration": 7,
    "start_time": "2022-05-07T13:23:37.526Z"
   },
   {
    "duration": 22,
    "start_time": "2022-05-07T13:23:37.534Z"
   },
   {
    "duration": 16,
    "start_time": "2022-05-07T13:23:37.558Z"
   },
   {
    "duration": 66,
    "start_time": "2022-05-07T13:23:37.575Z"
   },
   {
    "duration": 142,
    "start_time": "2022-05-07T13:23:37.643Z"
   },
   {
    "duration": 15,
    "start_time": "2022-05-07T13:23:37.787Z"
   },
   {
    "duration": 11,
    "start_time": "2022-05-07T13:23:37.803Z"
   },
   {
    "duration": 12,
    "start_time": "2022-05-07T13:23:37.815Z"
   },
   {
    "duration": 12,
    "start_time": "2022-05-07T13:23:37.829Z"
   },
   {
    "duration": 2,
    "start_time": "2022-05-07T13:23:37.844Z"
   },
   {
    "duration": 2,
    "start_time": "2022-05-07T13:23:37.874Z"
   },
   {
    "duration": 7,
    "start_time": "2022-05-07T13:23:37.878Z"
   },
   {
    "duration": 43,
    "start_time": "2022-05-07T13:23:37.886Z"
   },
   {
    "duration": 9,
    "start_time": "2022-05-07T13:23:37.931Z"
   },
   {
    "duration": 59,
    "start_time": "2022-05-07T13:23:37.941Z"
   },
   {
    "duration": 8,
    "start_time": "2022-05-07T13:23:38.002Z"
   },
   {
    "duration": 17,
    "start_time": "2022-05-07T13:23:38.011Z"
   },
   {
    "duration": 7,
    "start_time": "2022-05-07T13:23:38.029Z"
   },
   {
    "duration": 36,
    "start_time": "2022-05-07T13:23:38.038Z"
   },
   {
    "duration": 48,
    "start_time": "2022-05-07T13:23:38.075Z"
   },
   {
    "duration": 25,
    "start_time": "2022-05-07T13:23:38.124Z"
   },
   {
    "duration": 25,
    "start_time": "2022-05-07T13:23:38.151Z"
   },
   {
    "duration": 13,
    "start_time": "2022-05-07T13:23:38.178Z"
   },
   {
    "duration": 13,
    "start_time": "2022-05-07T13:23:38.193Z"
   },
   {
    "duration": 16,
    "start_time": "2022-05-07T13:23:38.208Z"
   },
   {
    "duration": 9,
    "start_time": "2022-05-07T13:23:38.225Z"
   },
   {
    "duration": 6,
    "start_time": "2022-05-07T13:23:38.235Z"
   },
   {
    "duration": 16,
    "start_time": "2022-05-07T13:23:38.243Z"
   },
   {
    "duration": 10,
    "start_time": "2022-05-07T13:23:38.273Z"
   },
   {
    "duration": 10,
    "start_time": "2022-05-07T13:30:03.942Z"
   },
   {
    "duration": 12,
    "start_time": "2022-05-07T13:33:01.815Z"
   },
   {
    "duration": 7,
    "start_time": "2022-05-07T13:34:47.751Z"
   },
   {
    "duration": 11,
    "start_time": "2022-05-07T13:34:55.988Z"
   },
   {
    "duration": 11,
    "start_time": "2022-05-07T13:35:09.470Z"
   },
   {
    "duration": 7,
    "start_time": "2022-05-07T13:36:22.264Z"
   },
   {
    "duration": 9,
    "start_time": "2022-05-07T13:36:24.787Z"
   },
   {
    "duration": 10,
    "start_time": "2022-05-07T13:36:28.091Z"
   },
   {
    "duration": 8,
    "start_time": "2022-05-07T13:36:35.330Z"
   },
   {
    "duration": 11,
    "start_time": "2022-05-07T13:36:36.345Z"
   },
   {
    "duration": 11,
    "start_time": "2022-05-07T13:36:37.459Z"
   },
   {
    "duration": 12,
    "start_time": "2022-05-07T13:37:19.161Z"
   },
   {
    "duration": 13,
    "start_time": "2022-05-07T13:37:25.097Z"
   },
   {
    "duration": 14,
    "start_time": "2022-05-07T13:37:30.020Z"
   },
   {
    "duration": 9,
    "start_time": "2022-05-07T13:42:04.444Z"
   },
   {
    "duration": 1630,
    "start_time": "2022-05-07T13:42:49.540Z"
   },
   {
    "duration": 616,
    "start_time": "2022-05-07T13:43:03.885Z"
   },
   {
    "duration": 170,
    "start_time": "2022-05-07T13:43:04.503Z"
   },
   {
    "duration": 112,
    "start_time": "2022-05-07T13:43:04.675Z"
   },
   {
    "duration": 21,
    "start_time": "2022-05-07T13:43:04.790Z"
   },
   {
    "duration": 44,
    "start_time": "2022-05-07T13:43:04.812Z"
   },
   {
    "duration": 22,
    "start_time": "2022-05-07T13:43:04.858Z"
   },
   {
    "duration": 13,
    "start_time": "2022-05-07T13:43:04.882Z"
   },
   {
    "duration": 124,
    "start_time": "2022-05-07T13:43:04.897Z"
   },
   {
    "duration": 191,
    "start_time": "2022-05-07T13:43:05.023Z"
   },
   {
    "duration": 9,
    "start_time": "2022-05-07T13:43:05.217Z"
   },
   {
    "duration": 26,
    "start_time": "2022-05-07T13:43:05.228Z"
   },
   {
    "duration": 110,
    "start_time": "2022-05-07T13:43:05.273Z"
   },
   {
    "duration": 2,
    "start_time": "2022-05-07T13:43:05.385Z"
   },
   {
    "duration": 95,
    "start_time": "2022-05-07T13:43:05.389Z"
   },
   {
    "duration": 50,
    "start_time": "2022-05-07T13:43:05.485Z"
   },
   {
    "duration": 105,
    "start_time": "2022-05-07T13:43:05.537Z"
   },
   {
    "duration": 34,
    "start_time": "2022-05-07T13:43:05.643Z"
   },
   {
    "duration": 57,
    "start_time": "2022-05-07T13:43:05.679Z"
   },
   {
    "duration": 7,
    "start_time": "2022-05-07T13:43:05.738Z"
   },
   {
    "duration": 37,
    "start_time": "2022-05-07T13:43:05.747Z"
   },
   {
    "duration": 12,
    "start_time": "2022-05-07T13:43:05.785Z"
   },
   {
    "duration": 75,
    "start_time": "2022-05-07T13:43:05.799Z"
   },
   {
    "duration": 145,
    "start_time": "2022-05-07T13:43:05.876Z"
   },
   {
    "duration": 17,
    "start_time": "2022-05-07T13:43:06.023Z"
   },
   {
    "duration": 13,
    "start_time": "2022-05-07T13:43:06.042Z"
   },
   {
    "duration": 14,
    "start_time": "2022-05-07T13:43:06.074Z"
   },
   {
    "duration": 12,
    "start_time": "2022-05-07T13:43:06.090Z"
   },
   {
    "duration": 3,
    "start_time": "2022-05-07T13:43:06.106Z"
   },
   {
    "duration": 10,
    "start_time": "2022-05-07T13:43:06.110Z"
   },
   {
    "duration": 5,
    "start_time": "2022-05-07T13:43:06.122Z"
   },
   {
    "duration": 60,
    "start_time": "2022-05-07T13:43:06.129Z"
   },
   {
    "duration": 10,
    "start_time": "2022-05-07T13:43:06.191Z"
   },
   {
    "duration": 20,
    "start_time": "2022-05-07T13:43:06.202Z"
   },
   {
    "duration": 51,
    "start_time": "2022-05-07T13:43:06.223Z"
   },
   {
    "duration": 8,
    "start_time": "2022-05-07T13:43:06.276Z"
   },
   {
    "duration": 19,
    "start_time": "2022-05-07T13:43:06.286Z"
   },
   {
    "duration": 7,
    "start_time": "2022-05-07T13:43:06.306Z"
   },
   {
    "duration": 13,
    "start_time": "2022-05-07T13:43:06.315Z"
   },
   {
    "duration": 11,
    "start_time": "2022-05-07T13:43:06.330Z"
   },
   {
    "duration": 49,
    "start_time": "2022-05-07T13:43:06.372Z"
   },
   {
    "duration": 27,
    "start_time": "2022-05-07T13:43:06.423Z"
   },
   {
    "duration": 27,
    "start_time": "2022-05-07T13:43:06.452Z"
   },
   {
    "duration": 11,
    "start_time": "2022-05-07T13:43:06.481Z"
   },
   {
    "duration": 5,
    "start_time": "2022-05-07T13:43:06.493Z"
   },
   {
    "duration": 7,
    "start_time": "2022-05-07T13:43:06.500Z"
   },
   {
    "duration": 9,
    "start_time": "2022-05-07T13:43:06.508Z"
   },
   {
    "duration": 8,
    "start_time": "2022-05-07T13:43:06.518Z"
   },
   {
    "duration": 13,
    "start_time": "2022-05-07T13:43:06.527Z"
   },
   {
    "duration": 9,
    "start_time": "2022-05-07T13:43:06.573Z"
   },
   {
    "duration": 15,
    "start_time": "2022-05-07T13:43:06.584Z"
   },
   {
    "duration": 9,
    "start_time": "2022-05-07T13:43:06.601Z"
   },
   {
    "duration": 1740,
    "start_time": "2022-05-07T13:43:06.612Z"
   },
   {
    "duration": 3,
    "start_time": "2022-05-07T13:43:31.751Z"
   },
   {
    "duration": 14,
    "start_time": "2022-05-07T13:43:39.405Z"
   },
   {
    "duration": 8,
    "start_time": "2022-05-07T13:43:48.230Z"
   },
   {
    "duration": 13,
    "start_time": "2022-05-07T13:43:49.722Z"
   },
   {
    "duration": 601,
    "start_time": "2022-05-07T13:43:57.506Z"
   },
   {
    "duration": 170,
    "start_time": "2022-05-07T13:43:58.109Z"
   },
   {
    "duration": 121,
    "start_time": "2022-05-07T13:43:58.280Z"
   },
   {
    "duration": 21,
    "start_time": "2022-05-07T13:43:58.403Z"
   },
   {
    "duration": 38,
    "start_time": "2022-05-07T13:43:58.426Z"
   },
   {
    "duration": 27,
    "start_time": "2022-05-07T13:43:58.465Z"
   },
   {
    "duration": 14,
    "start_time": "2022-05-07T13:43:58.495Z"
   },
   {
    "duration": 136,
    "start_time": "2022-05-07T13:43:58.510Z"
   },
   {
    "duration": 196,
    "start_time": "2022-05-07T13:43:58.648Z"
   },
   {
    "duration": 10,
    "start_time": "2022-05-07T13:43:58.846Z"
   },
   {
    "duration": 41,
    "start_time": "2022-05-07T13:43:58.858Z"
   },
   {
    "duration": 122,
    "start_time": "2022-05-07T13:43:58.901Z"
   },
   {
    "duration": 3,
    "start_time": "2022-05-07T13:43:59.024Z"
   },
   {
    "duration": 92,
    "start_time": "2022-05-07T13:43:59.030Z"
   },
   {
    "duration": 55,
    "start_time": "2022-05-07T13:43:59.124Z"
   },
   {
    "duration": 100,
    "start_time": "2022-05-07T13:43:59.181Z"
   },
   {
    "duration": 26,
    "start_time": "2022-05-07T13:43:59.283Z"
   },
   {
    "duration": 74,
    "start_time": "2022-05-07T13:43:59.311Z"
   },
   {
    "duration": 8,
    "start_time": "2022-05-07T13:43:59.386Z"
   },
   {
    "duration": 21,
    "start_time": "2022-05-07T13:43:59.395Z"
   },
   {
    "duration": 11,
    "start_time": "2022-05-07T13:43:59.417Z"
   },
   {
    "duration": 86,
    "start_time": "2022-05-07T13:43:59.430Z"
   },
   {
    "duration": 131,
    "start_time": "2022-05-07T13:43:59.518Z"
   },
   {
    "duration": 24,
    "start_time": "2022-05-07T13:43:59.650Z"
   },
   {
    "duration": 11,
    "start_time": "2022-05-07T13:43:59.676Z"
   },
   {
    "duration": 11,
    "start_time": "2022-05-07T13:43:59.689Z"
   },
   {
    "duration": 10,
    "start_time": "2022-05-07T13:43:59.702Z"
   },
   {
    "duration": 5,
    "start_time": "2022-05-07T13:43:59.714Z"
   },
   {
    "duration": 6,
    "start_time": "2022-05-07T13:43:59.720Z"
   },
   {
    "duration": 8,
    "start_time": "2022-05-07T13:43:59.727Z"
   },
   {
    "duration": 57,
    "start_time": "2022-05-07T13:43:59.737Z"
   },
   {
    "duration": 9,
    "start_time": "2022-05-07T13:43:59.796Z"
   },
   {
    "duration": 13,
    "start_time": "2022-05-07T13:43:59.806Z"
   },
   {
    "duration": 53,
    "start_time": "2022-05-07T13:43:59.821Z"
   },
   {
    "duration": 8,
    "start_time": "2022-05-07T13:43:59.876Z"
   },
   {
    "duration": 19,
    "start_time": "2022-05-07T13:43:59.885Z"
   },
   {
    "duration": 6,
    "start_time": "2022-05-07T13:43:59.906Z"
   },
   {
    "duration": 15,
    "start_time": "2022-05-07T13:43:59.913Z"
   },
   {
    "duration": 10,
    "start_time": "2022-05-07T13:43:59.930Z"
   },
   {
    "duration": 71,
    "start_time": "2022-05-07T13:43:59.941Z"
   },
   {
    "duration": 27,
    "start_time": "2022-05-07T13:44:00.017Z"
   },
   {
    "duration": 29,
    "start_time": "2022-05-07T13:44:00.046Z"
   },
   {
    "duration": 13,
    "start_time": "2022-05-07T13:44:00.076Z"
   },
   {
    "duration": 10,
    "start_time": "2022-05-07T13:44:00.091Z"
   },
   {
    "duration": 9,
    "start_time": "2022-05-07T13:44:00.102Z"
   },
   {
    "duration": 15,
    "start_time": "2022-05-07T13:44:00.112Z"
   },
   {
    "duration": 12,
    "start_time": "2022-05-07T13:44:00.129Z"
   },
   {
    "duration": 6,
    "start_time": "2022-05-07T13:44:00.143Z"
   },
   {
    "duration": 15,
    "start_time": "2022-05-07T13:44:00.151Z"
   },
   {
    "duration": 15,
    "start_time": "2022-05-07T13:44:00.168Z"
   },
   {
    "duration": 10,
    "start_time": "2022-05-07T13:44:00.184Z"
   },
   {
    "duration": 13,
    "start_time": "2022-05-07T13:44:00.195Z"
   },
   {
    "duration": 14,
    "start_time": "2022-05-07T13:45:33.235Z"
   },
   {
    "duration": 13,
    "start_time": "2022-05-07T13:45:41.427Z"
   },
   {
    "duration": 13,
    "start_time": "2022-05-07T13:45:49.362Z"
   },
   {
    "duration": 15,
    "start_time": "2022-05-07T13:45:56.569Z"
   },
   {
    "duration": 10,
    "start_time": "2022-05-07T13:46:00.703Z"
   },
   {
    "duration": 5,
    "start_time": "2022-05-07T13:47:43.932Z"
   },
   {
    "duration": 15,
    "start_time": "2022-05-07T13:47:45.791Z"
   },
   {
    "duration": 5,
    "start_time": "2022-05-07T13:47:56.385Z"
   },
   {
    "duration": 21,
    "start_time": "2022-05-07T13:47:57.953Z"
   },
   {
    "duration": 651,
    "start_time": "2022-05-07T13:48:07.046Z"
   },
   {
    "duration": 166,
    "start_time": "2022-05-07T13:48:07.699Z"
   },
   {
    "duration": 115,
    "start_time": "2022-05-07T13:48:07.867Z"
   },
   {
    "duration": 21,
    "start_time": "2022-05-07T13:48:07.984Z"
   },
   {
    "duration": 39,
    "start_time": "2022-05-07T13:48:08.006Z"
   },
   {
    "duration": 21,
    "start_time": "2022-05-07T13:48:08.046Z"
   },
   {
    "duration": 13,
    "start_time": "2022-05-07T13:48:08.073Z"
   },
   {
    "duration": 122,
    "start_time": "2022-05-07T13:48:08.088Z"
   },
   {
    "duration": 177,
    "start_time": "2022-05-07T13:48:08.212Z"
   },
   {
    "duration": 10,
    "start_time": "2022-05-07T13:48:08.391Z"
   },
   {
    "duration": 32,
    "start_time": "2022-05-07T13:48:08.403Z"
   },
   {
    "duration": 123,
    "start_time": "2022-05-07T13:48:08.437Z"
   },
   {
    "duration": 2,
    "start_time": "2022-05-07T13:48:08.562Z"
   },
   {
    "duration": 85,
    "start_time": "2022-05-07T13:48:08.565Z"
   },
   {
    "duration": 64,
    "start_time": "2022-05-07T13:48:08.652Z"
   },
   {
    "duration": 112,
    "start_time": "2022-05-07T13:48:08.718Z"
   },
   {
    "duration": 27,
    "start_time": "2022-05-07T13:48:08.832Z"
   },
   {
    "duration": 71,
    "start_time": "2022-05-07T13:48:08.861Z"
   },
   {
    "duration": 8,
    "start_time": "2022-05-07T13:48:08.934Z"
   },
   {
    "duration": 44,
    "start_time": "2022-05-07T13:48:08.943Z"
   },
   {
    "duration": 20,
    "start_time": "2022-05-07T13:48:08.989Z"
   },
   {
    "duration": 87,
    "start_time": "2022-05-07T13:48:09.010Z"
   },
   {
    "duration": 133,
    "start_time": "2022-05-07T13:48:09.099Z"
   },
   {
    "duration": 14,
    "start_time": "2022-05-07T13:48:09.234Z"
   },
   {
    "duration": 23,
    "start_time": "2022-05-07T13:48:09.250Z"
   },
   {
    "duration": 14,
    "start_time": "2022-05-07T13:48:09.275Z"
   },
   {
    "duration": 20,
    "start_time": "2022-05-07T13:48:09.290Z"
   },
   {
    "duration": 19,
    "start_time": "2022-05-07T13:48:09.313Z"
   },
   {
    "duration": 13,
    "start_time": "2022-05-07T13:48:09.333Z"
   },
   {
    "duration": 7,
    "start_time": "2022-05-07T13:48:09.347Z"
   },
   {
    "duration": 49,
    "start_time": "2022-05-07T13:48:09.356Z"
   },
   {
    "duration": 9,
    "start_time": "2022-05-07T13:48:09.407Z"
   },
   {
    "duration": 17,
    "start_time": "2022-05-07T13:48:09.417Z"
   },
   {
    "duration": 49,
    "start_time": "2022-05-07T13:48:09.435Z"
   },
   {
    "duration": 8,
    "start_time": "2022-05-07T13:48:09.486Z"
   },
   {
    "duration": 23,
    "start_time": "2022-05-07T13:48:09.495Z"
   },
   {
    "duration": 7,
    "start_time": "2022-05-07T13:48:09.520Z"
   },
   {
    "duration": 21,
    "start_time": "2022-05-07T13:48:09.528Z"
   },
   {
    "duration": 23,
    "start_time": "2022-05-07T13:48:09.550Z"
   },
   {
    "duration": 47,
    "start_time": "2022-05-07T13:48:09.575Z"
   },
   {
    "duration": 26,
    "start_time": "2022-05-07T13:48:09.623Z"
   },
   {
    "duration": 28,
    "start_time": "2022-05-07T13:48:09.651Z"
   },
   {
    "duration": 12,
    "start_time": "2022-05-07T13:48:09.681Z"
   },
   {
    "duration": 7,
    "start_time": "2022-05-07T13:48:09.695Z"
   },
   {
    "duration": 10,
    "start_time": "2022-05-07T13:48:09.704Z"
   },
   {
    "duration": 12,
    "start_time": "2022-05-07T13:48:09.715Z"
   },
   {
    "duration": 13,
    "start_time": "2022-05-07T13:48:09.728Z"
   },
   {
    "duration": 6,
    "start_time": "2022-05-07T13:48:09.743Z"
   },
   {
    "duration": 25,
    "start_time": "2022-05-07T13:48:09.750Z"
   },
   {
    "duration": 13,
    "start_time": "2022-05-07T13:48:09.776Z"
   },
   {
    "duration": 15,
    "start_time": "2022-05-07T13:48:09.790Z"
   },
   {
    "duration": 12,
    "start_time": "2022-05-07T13:48:09.807Z"
   },
   {
    "duration": 19,
    "start_time": "2022-05-07T13:48:09.821Z"
   },
   {
    "duration": 4,
    "start_time": "2022-05-07T13:48:09.842Z"
   },
   {
    "duration": 35,
    "start_time": "2022-05-07T13:48:09.848Z"
   },
   {
    "duration": 18,
    "start_time": "2022-05-07T13:48:09.885Z"
   },
   {
    "duration": 636,
    "start_time": "2022-05-07T13:58:26.360Z"
   },
   {
    "duration": 166,
    "start_time": "2022-05-07T13:58:26.998Z"
   },
   {
    "duration": 114,
    "start_time": "2022-05-07T13:58:27.173Z"
   },
   {
    "duration": 22,
    "start_time": "2022-05-07T13:58:27.289Z"
   },
   {
    "duration": 36,
    "start_time": "2022-05-07T13:58:27.313Z"
   },
   {
    "duration": 31,
    "start_time": "2022-05-07T13:58:27.351Z"
   },
   {
    "duration": 14,
    "start_time": "2022-05-07T13:58:27.384Z"
   },
   {
    "duration": 124,
    "start_time": "2022-05-07T13:58:27.400Z"
   },
   {
    "duration": 185,
    "start_time": "2022-05-07T13:58:27.525Z"
   },
   {
    "duration": 9,
    "start_time": "2022-05-07T13:58:27.713Z"
   },
   {
    "duration": 26,
    "start_time": "2022-05-07T13:58:27.723Z"
   },
   {
    "duration": 129,
    "start_time": "2022-05-07T13:58:27.751Z"
   },
   {
    "duration": 2,
    "start_time": "2022-05-07T13:58:27.882Z"
   },
   {
    "duration": 98,
    "start_time": "2022-05-07T13:58:27.885Z"
   },
   {
    "duration": 53,
    "start_time": "2022-05-07T13:58:27.985Z"
   },
   {
    "duration": 116,
    "start_time": "2022-05-07T13:58:28.040Z"
   },
   {
    "duration": 35,
    "start_time": "2022-05-07T13:58:28.158Z"
   },
   {
    "duration": 60,
    "start_time": "2022-05-07T13:58:28.195Z"
   },
   {
    "duration": 8,
    "start_time": "2022-05-07T13:58:28.274Z"
   },
   {
    "duration": 26,
    "start_time": "2022-05-07T13:58:28.283Z"
   },
   {
    "duration": 6,
    "start_time": "2022-05-07T13:58:28.311Z"
   },
   {
    "duration": 77,
    "start_time": "2022-05-07T13:58:28.319Z"
   },
   {
    "duration": 137,
    "start_time": "2022-05-07T13:58:28.397Z"
   },
   {
    "duration": 14,
    "start_time": "2022-05-07T13:58:28.535Z"
   },
   {
    "duration": 16,
    "start_time": "2022-05-07T13:58:28.551Z"
   },
   {
    "duration": 10,
    "start_time": "2022-05-07T13:58:28.573Z"
   },
   {
    "duration": 12,
    "start_time": "2022-05-07T13:58:28.585Z"
   },
   {
    "duration": 6,
    "start_time": "2022-05-07T13:58:28.600Z"
   },
   {
    "duration": 6,
    "start_time": "2022-05-07T13:58:28.607Z"
   },
   {
    "duration": 12,
    "start_time": "2022-05-07T13:58:28.614Z"
   },
   {
    "duration": 53,
    "start_time": "2022-05-07T13:58:28.628Z"
   },
   {
    "duration": 10,
    "start_time": "2022-05-07T13:58:28.682Z"
   },
   {
    "duration": 13,
    "start_time": "2022-05-07T13:58:28.693Z"
   },
   {
    "duration": 38,
    "start_time": "2022-05-07T13:58:28.708Z"
   },
   {
    "duration": 29,
    "start_time": "2022-05-07T13:58:28.748Z"
   },
   {
    "duration": 21,
    "start_time": "2022-05-07T13:58:28.779Z"
   },
   {
    "duration": 7,
    "start_time": "2022-05-07T13:58:28.801Z"
   },
   {
    "duration": 17,
    "start_time": "2022-05-07T13:58:28.810Z"
   },
   {
    "duration": 12,
    "start_time": "2022-05-07T13:58:28.829Z"
   },
   {
    "duration": 69,
    "start_time": "2022-05-07T13:58:28.842Z"
   },
   {
    "duration": 25,
    "start_time": "2022-05-07T13:58:28.913Z"
   },
   {
    "duration": 7,
    "start_time": "2022-05-07T13:58:28.940Z"
   },
   {
    "duration": 27,
    "start_time": "2022-05-07T13:58:28.949Z"
   },
   {
    "duration": 10,
    "start_time": "2022-05-07T13:58:28.977Z"
   },
   {
    "duration": 11,
    "start_time": "2022-05-07T13:58:28.989Z"
   },
   {
    "duration": 10,
    "start_time": "2022-05-07T13:58:29.002Z"
   },
   {
    "duration": 11,
    "start_time": "2022-05-07T13:58:29.014Z"
   },
   {
    "duration": 6,
    "start_time": "2022-05-07T13:58:29.027Z"
   },
   {
    "duration": 11,
    "start_time": "2022-05-07T13:58:29.034Z"
   },
   {
    "duration": 13,
    "start_time": "2022-05-07T13:58:29.047Z"
   },
   {
    "duration": 17,
    "start_time": "2022-05-07T13:58:29.061Z"
   },
   {
    "duration": 8,
    "start_time": "2022-05-07T13:58:29.080Z"
   },
   {
    "duration": 17,
    "start_time": "2022-05-07T13:58:29.089Z"
   },
   {
    "duration": 3,
    "start_time": "2022-05-07T13:58:29.108Z"
   },
   {
    "duration": 14,
    "start_time": "2022-05-07T13:58:29.113Z"
   },
   {
    "duration": 10,
    "start_time": "2022-05-07T13:58:29.129Z"
   },
   {
    "duration": 663,
    "start_time": "2022-05-07T14:04:14.063Z"
   },
   {
    "duration": 173,
    "start_time": "2022-05-07T14:04:14.729Z"
   },
   {
    "duration": 129,
    "start_time": "2022-05-07T14:04:14.904Z"
   },
   {
    "duration": 22,
    "start_time": "2022-05-07T14:04:15.035Z"
   },
   {
    "duration": 35,
    "start_time": "2022-05-07T14:04:15.059Z"
   },
   {
    "duration": 21,
    "start_time": "2022-05-07T14:04:15.096Z"
   },
   {
    "duration": 12,
    "start_time": "2022-05-07T14:04:15.119Z"
   },
   {
    "duration": 128,
    "start_time": "2022-05-07T14:04:15.133Z"
   },
   {
    "duration": 191,
    "start_time": "2022-05-07T14:04:15.263Z"
   },
   {
    "duration": 16,
    "start_time": "2022-05-07T14:04:15.458Z"
   },
   {
    "duration": 29,
    "start_time": "2022-05-07T14:04:15.476Z"
   },
   {
    "duration": 138,
    "start_time": "2022-05-07T14:04:15.507Z"
   },
   {
    "duration": 3,
    "start_time": "2022-05-07T14:04:15.646Z"
   },
   {
    "duration": 103,
    "start_time": "2022-05-07T14:04:15.650Z"
   },
   {
    "duration": 54,
    "start_time": "2022-05-07T14:04:15.754Z"
   },
   {
    "duration": 115,
    "start_time": "2022-05-07T14:04:15.809Z"
   },
   {
    "duration": 27,
    "start_time": "2022-05-07T14:04:15.926Z"
   },
   {
    "duration": 80,
    "start_time": "2022-05-07T14:04:15.955Z"
   },
   {
    "duration": 8,
    "start_time": "2022-05-07T14:04:16.037Z"
   },
   {
    "duration": 37,
    "start_time": "2022-05-07T14:04:16.047Z"
   },
   {
    "duration": 10,
    "start_time": "2022-05-07T14:04:16.085Z"
   },
   {
    "duration": 80,
    "start_time": "2022-05-07T14:04:16.097Z"
   },
   {
    "duration": 138,
    "start_time": "2022-05-07T14:04:16.179Z"
   },
   {
    "duration": 14,
    "start_time": "2022-05-07T14:04:16.318Z"
   },
   {
    "duration": 11,
    "start_time": "2022-05-07T14:04:16.334Z"
   },
   {
    "duration": 31,
    "start_time": "2022-05-07T14:04:16.347Z"
   },
   {
    "duration": 12,
    "start_time": "2022-05-07T14:04:16.380Z"
   },
   {
    "duration": 3,
    "start_time": "2022-05-07T14:04:16.396Z"
   },
   {
    "duration": 4,
    "start_time": "2022-05-07T14:04:16.401Z"
   },
   {
    "duration": 7,
    "start_time": "2022-05-07T14:04:16.407Z"
   },
   {
    "duration": 65,
    "start_time": "2022-05-07T14:04:16.416Z"
   },
   {
    "duration": 62,
    "start_time": "2022-05-07T14:04:16.483Z"
   },
   {
    "duration": 0,
    "start_time": "2022-05-07T14:04:16.547Z"
   },
   {
    "duration": 0,
    "start_time": "2022-05-07T14:04:16.548Z"
   },
   {
    "duration": 0,
    "start_time": "2022-05-07T14:04:16.549Z"
   },
   {
    "duration": 0,
    "start_time": "2022-05-07T14:04:16.551Z"
   },
   {
    "duration": 0,
    "start_time": "2022-05-07T14:04:16.552Z"
   },
   {
    "duration": 0,
    "start_time": "2022-05-07T14:04:16.573Z"
   },
   {
    "duration": 0,
    "start_time": "2022-05-07T14:04:16.574Z"
   },
   {
    "duration": 0,
    "start_time": "2022-05-07T14:04:16.575Z"
   },
   {
    "duration": 0,
    "start_time": "2022-05-07T14:04:16.577Z"
   },
   {
    "duration": 0,
    "start_time": "2022-05-07T14:04:16.578Z"
   },
   {
    "duration": 0,
    "start_time": "2022-05-07T14:04:16.579Z"
   },
   {
    "duration": 0,
    "start_time": "2022-05-07T14:04:16.581Z"
   },
   {
    "duration": 0,
    "start_time": "2022-05-07T14:04:16.582Z"
   },
   {
    "duration": 0,
    "start_time": "2022-05-07T14:04:16.583Z"
   },
   {
    "duration": 0,
    "start_time": "2022-05-07T14:04:16.584Z"
   },
   {
    "duration": 0,
    "start_time": "2022-05-07T14:04:16.585Z"
   },
   {
    "duration": 0,
    "start_time": "2022-05-07T14:04:16.587Z"
   },
   {
    "duration": 0,
    "start_time": "2022-05-07T14:04:16.588Z"
   },
   {
    "duration": 0,
    "start_time": "2022-05-07T14:04:16.589Z"
   },
   {
    "duration": 0,
    "start_time": "2022-05-07T14:04:16.590Z"
   },
   {
    "duration": 0,
    "start_time": "2022-05-07T14:04:16.591Z"
   },
   {
    "duration": 0,
    "start_time": "2022-05-07T14:04:16.592Z"
   },
   {
    "duration": 0,
    "start_time": "2022-05-07T14:04:16.593Z"
   },
   {
    "duration": 0,
    "start_time": "2022-05-07T14:04:16.594Z"
   },
   {
    "duration": 0,
    "start_time": "2022-05-07T14:04:16.595Z"
   },
   {
    "duration": 620,
    "start_time": "2022-05-07T14:04:56.248Z"
   },
   {
    "duration": 161,
    "start_time": "2022-05-07T14:04:56.870Z"
   },
   {
    "duration": 115,
    "start_time": "2022-05-07T14:04:57.032Z"
   },
   {
    "duration": 25,
    "start_time": "2022-05-07T14:04:57.149Z"
   },
   {
    "duration": 35,
    "start_time": "2022-05-07T14:04:57.175Z"
   },
   {
    "duration": 20,
    "start_time": "2022-05-07T14:04:57.211Z"
   },
   {
    "duration": 13,
    "start_time": "2022-05-07T14:04:57.233Z"
   },
   {
    "duration": 119,
    "start_time": "2022-05-07T14:04:57.247Z"
   },
   {
    "duration": 186,
    "start_time": "2022-05-07T14:04:57.368Z"
   },
   {
    "duration": 18,
    "start_time": "2022-05-07T14:04:57.556Z"
   },
   {
    "duration": 26,
    "start_time": "2022-05-07T14:04:57.575Z"
   },
   {
    "duration": 122,
    "start_time": "2022-05-07T14:04:57.602Z"
   },
   {
    "duration": 2,
    "start_time": "2022-05-07T14:04:57.726Z"
   },
   {
    "duration": 90,
    "start_time": "2022-05-07T14:04:57.729Z"
   },
   {
    "duration": 52,
    "start_time": "2022-05-07T14:04:57.821Z"
   },
   {
    "duration": 89,
    "start_time": "2022-05-07T14:04:57.875Z"
   },
   {
    "duration": 30,
    "start_time": "2022-05-07T14:04:57.965Z"
   },
   {
    "duration": 56,
    "start_time": "2022-05-07T14:04:57.997Z"
   },
   {
    "duration": 23,
    "start_time": "2022-05-07T14:04:58.055Z"
   },
   {
    "duration": 19,
    "start_time": "2022-05-07T14:04:58.080Z"
   },
   {
    "duration": 7,
    "start_time": "2022-05-07T14:04:58.101Z"
   },
   {
    "duration": 80,
    "start_time": "2022-05-07T14:04:58.110Z"
   },
   {
    "duration": 141,
    "start_time": "2022-05-07T14:04:58.192Z"
   },
   {
    "duration": 15,
    "start_time": "2022-05-07T14:04:58.335Z"
   },
   {
    "duration": 22,
    "start_time": "2022-05-07T14:04:58.352Z"
   },
   {
    "duration": 13,
    "start_time": "2022-05-07T14:04:58.375Z"
   },
   {
    "duration": 11,
    "start_time": "2022-05-07T14:04:58.390Z"
   },
   {
    "duration": 2,
    "start_time": "2022-05-07T14:04:58.405Z"
   },
   {
    "duration": 4,
    "start_time": "2022-05-07T14:04:58.409Z"
   },
   {
    "duration": 4,
    "start_time": "2022-05-07T14:04:58.415Z"
   },
   {
    "duration": 63,
    "start_time": "2022-05-07T14:04:58.421Z"
   },
   {
    "duration": 15,
    "start_time": "2022-05-07T14:04:58.486Z"
   },
   {
    "duration": 11,
    "start_time": "2022-05-07T14:04:58.503Z"
   },
   {
    "duration": 14,
    "start_time": "2022-05-07T14:04:58.516Z"
   },
   {
    "duration": 55,
    "start_time": "2022-05-07T14:04:58.532Z"
   },
   {
    "duration": 7,
    "start_time": "2022-05-07T14:04:58.589Z"
   },
   {
    "duration": 19,
    "start_time": "2022-05-07T14:04:58.598Z"
   },
   {
    "duration": 6,
    "start_time": "2022-05-07T14:04:58.618Z"
   },
   {
    "duration": 11,
    "start_time": "2022-05-07T14:04:58.626Z"
   },
   {
    "duration": 9,
    "start_time": "2022-05-07T14:04:58.638Z"
   },
   {
    "duration": 69,
    "start_time": "2022-05-07T14:04:58.648Z"
   },
   {
    "duration": 23,
    "start_time": "2022-05-07T14:04:58.719Z"
   },
   {
    "duration": 30,
    "start_time": "2022-05-07T14:04:58.744Z"
   },
   {
    "duration": 11,
    "start_time": "2022-05-07T14:04:58.776Z"
   },
   {
    "duration": 11,
    "start_time": "2022-05-07T14:04:58.788Z"
   },
   {
    "duration": 9,
    "start_time": "2022-05-07T14:04:58.800Z"
   },
   {
    "duration": 10,
    "start_time": "2022-05-07T14:04:58.810Z"
   },
   {
    "duration": 8,
    "start_time": "2022-05-07T14:04:58.821Z"
   },
   {
    "duration": 10,
    "start_time": "2022-05-07T14:04:58.830Z"
   },
   {
    "duration": 21,
    "start_time": "2022-05-07T14:04:58.842Z"
   },
   {
    "duration": 20,
    "start_time": "2022-05-07T14:04:58.864Z"
   },
   {
    "duration": 10,
    "start_time": "2022-05-07T14:04:58.885Z"
   },
   {
    "duration": 13,
    "start_time": "2022-05-07T14:04:58.896Z"
   },
   {
    "duration": 19,
    "start_time": "2022-05-07T14:04:58.911Z"
   },
   {
    "duration": 4,
    "start_time": "2022-05-07T14:04:58.931Z"
   },
   {
    "duration": 37,
    "start_time": "2022-05-07T14:04:58.936Z"
   },
   {
    "duration": 10,
    "start_time": "2022-05-07T14:04:58.975Z"
   },
   {
    "duration": 2056,
    "start_time": "2022-05-07T14:05:34.696Z"
   },
   {
    "duration": 168,
    "start_time": "2022-05-07T14:05:36.754Z"
   },
   {
    "duration": 130,
    "start_time": "2022-05-07T14:05:36.926Z"
   },
   {
    "duration": 28,
    "start_time": "2022-05-07T14:05:37.057Z"
   },
   {
    "duration": 45,
    "start_time": "2022-05-07T14:05:37.087Z"
   },
   {
    "duration": 22,
    "start_time": "2022-05-07T14:05:37.133Z"
   },
   {
    "duration": 14,
    "start_time": "2022-05-07T14:05:37.156Z"
   },
   {
    "duration": 115,
    "start_time": "2022-05-07T14:05:37.173Z"
   },
   {
    "duration": 185,
    "start_time": "2022-05-07T14:05:37.291Z"
   },
   {
    "duration": 9,
    "start_time": "2022-05-07T14:05:37.478Z"
   },
   {
    "duration": 27,
    "start_time": "2022-05-07T14:05:37.489Z"
   },
   {
    "duration": 132,
    "start_time": "2022-05-07T14:05:37.518Z"
   },
   {
    "duration": 2,
    "start_time": "2022-05-07T14:05:37.653Z"
   },
   {
    "duration": 91,
    "start_time": "2022-05-07T14:05:37.657Z"
   },
   {
    "duration": 57,
    "start_time": "2022-05-07T14:05:37.750Z"
   },
   {
    "duration": 108,
    "start_time": "2022-05-07T14:05:37.810Z"
   },
   {
    "duration": 27,
    "start_time": "2022-05-07T14:05:37.920Z"
   },
   {
    "duration": 78,
    "start_time": "2022-05-07T14:05:37.949Z"
   },
   {
    "duration": 7,
    "start_time": "2022-05-07T14:05:38.029Z"
   },
   {
    "duration": 20,
    "start_time": "2022-05-07T14:05:38.038Z"
   },
   {
    "duration": 7,
    "start_time": "2022-05-07T14:05:38.073Z"
   },
   {
    "duration": 68,
    "start_time": "2022-05-07T14:05:38.081Z"
   },
   {
    "duration": 154,
    "start_time": "2022-05-07T14:05:38.151Z"
   },
   {
    "duration": 15,
    "start_time": "2022-05-07T14:05:38.307Z"
   },
   {
    "duration": 9,
    "start_time": "2022-05-07T14:05:38.324Z"
   },
   {
    "duration": 13,
    "start_time": "2022-05-07T14:05:38.335Z"
   },
   {
    "duration": 10,
    "start_time": "2022-05-07T14:05:38.373Z"
   },
   {
    "duration": 4,
    "start_time": "2022-05-07T14:05:38.385Z"
   },
   {
    "duration": 8,
    "start_time": "2022-05-07T14:05:38.391Z"
   },
   {
    "duration": 5,
    "start_time": "2022-05-07T14:05:38.401Z"
   },
   {
    "duration": 45,
    "start_time": "2022-05-07T14:05:38.407Z"
   },
   {
    "duration": 20,
    "start_time": "2022-05-07T14:05:38.453Z"
   },
   {
    "duration": 16,
    "start_time": "2022-05-07T14:05:38.474Z"
   },
   {
    "duration": 12,
    "start_time": "2022-05-07T14:05:38.491Z"
   },
   {
    "duration": 36,
    "start_time": "2022-05-07T14:05:38.505Z"
   },
   {
    "duration": 7,
    "start_time": "2022-05-07T14:05:38.543Z"
   },
   {
    "duration": 18,
    "start_time": "2022-05-07T14:05:38.574Z"
   },
   {
    "duration": 8,
    "start_time": "2022-05-07T14:05:38.593Z"
   },
   {
    "duration": 14,
    "start_time": "2022-05-07T14:05:38.602Z"
   },
   {
    "duration": 10,
    "start_time": "2022-05-07T14:05:38.618Z"
   },
   {
    "duration": 71,
    "start_time": "2022-05-07T14:05:38.630Z"
   },
   {
    "duration": 24,
    "start_time": "2022-05-07T14:05:38.703Z"
   },
   {
    "duration": 7,
    "start_time": "2022-05-07T14:05:38.729Z"
   },
   {
    "duration": 11,
    "start_time": "2022-05-07T14:05:38.738Z"
   },
   {
    "duration": 5,
    "start_time": "2022-05-07T14:05:38.773Z"
   },
   {
    "duration": 7,
    "start_time": "2022-05-07T14:05:38.780Z"
   },
   {
    "duration": 7,
    "start_time": "2022-05-07T14:05:38.789Z"
   },
   {
    "duration": 5,
    "start_time": "2022-05-07T14:05:38.798Z"
   },
   {
    "duration": 5,
    "start_time": "2022-05-07T14:05:38.805Z"
   },
   {
    "duration": 9,
    "start_time": "2022-05-07T14:05:38.812Z"
   },
   {
    "duration": 12,
    "start_time": "2022-05-07T14:05:38.823Z"
   },
   {
    "duration": 45,
    "start_time": "2022-05-07T14:05:38.837Z"
   },
   {
    "duration": 10,
    "start_time": "2022-05-07T14:05:38.884Z"
   },
   {
    "duration": 14,
    "start_time": "2022-05-07T14:05:38.895Z"
   },
   {
    "duration": 3,
    "start_time": "2022-05-07T14:05:38.911Z"
   },
   {
    "duration": 14,
    "start_time": "2022-05-07T14:05:38.916Z"
   },
   {
    "duration": 40,
    "start_time": "2022-05-07T14:05:38.932Z"
   },
   {
    "duration": 639,
    "start_time": "2022-05-07T14:07:37.741Z"
   },
   {
    "duration": 167,
    "start_time": "2022-05-07T14:07:38.382Z"
   },
   {
    "duration": 124,
    "start_time": "2022-05-07T14:07:38.550Z"
   },
   {
    "duration": 22,
    "start_time": "2022-05-07T14:07:38.676Z"
   },
   {
    "duration": 39,
    "start_time": "2022-05-07T14:07:38.700Z"
   },
   {
    "duration": 24,
    "start_time": "2022-05-07T14:07:38.741Z"
   },
   {
    "duration": 14,
    "start_time": "2022-05-07T14:07:38.772Z"
   },
   {
    "duration": 122,
    "start_time": "2022-05-07T14:07:38.789Z"
   },
   {
    "duration": 183,
    "start_time": "2022-05-07T14:07:38.913Z"
   },
   {
    "duration": 10,
    "start_time": "2022-05-07T14:07:39.099Z"
   },
   {
    "duration": 25,
    "start_time": "2022-05-07T14:07:39.111Z"
   },
   {
    "duration": 136,
    "start_time": "2022-05-07T14:07:39.138Z"
   },
   {
    "duration": 3,
    "start_time": "2022-05-07T14:07:39.275Z"
   },
   {
    "duration": 103,
    "start_time": "2022-05-07T14:07:39.279Z"
   },
   {
    "duration": 51,
    "start_time": "2022-05-07T14:07:39.384Z"
   },
   {
    "duration": 125,
    "start_time": "2022-05-07T14:07:39.437Z"
   },
   {
    "duration": 29,
    "start_time": "2022-05-07T14:07:39.564Z"
   },
   {
    "duration": 79,
    "start_time": "2022-05-07T14:07:39.595Z"
   },
   {
    "duration": 7,
    "start_time": "2022-05-07T14:07:39.676Z"
   },
   {
    "duration": 19,
    "start_time": "2022-05-07T14:07:39.685Z"
   },
   {
    "duration": 8,
    "start_time": "2022-05-07T14:07:39.705Z"
   },
   {
    "duration": 85,
    "start_time": "2022-05-07T14:07:39.715Z"
   },
   {
    "duration": 77,
    "start_time": "2022-05-07T14:07:39.802Z"
   },
   {
    "duration": 0,
    "start_time": "2022-05-07T14:07:39.881Z"
   },
   {
    "duration": 0,
    "start_time": "2022-05-07T14:07:39.882Z"
   },
   {
    "duration": 0,
    "start_time": "2022-05-07T14:07:39.883Z"
   },
   {
    "duration": 0,
    "start_time": "2022-05-07T14:07:39.884Z"
   },
   {
    "duration": 0,
    "start_time": "2022-05-07T14:07:39.885Z"
   },
   {
    "duration": 0,
    "start_time": "2022-05-07T14:07:39.886Z"
   },
   {
    "duration": 0,
    "start_time": "2022-05-07T14:07:39.887Z"
   },
   {
    "duration": 0,
    "start_time": "2022-05-07T14:07:39.888Z"
   },
   {
    "duration": 0,
    "start_time": "2022-05-07T14:07:39.889Z"
   },
   {
    "duration": 0,
    "start_time": "2022-05-07T14:07:39.890Z"
   },
   {
    "duration": 0,
    "start_time": "2022-05-07T14:07:39.891Z"
   },
   {
    "duration": 0,
    "start_time": "2022-05-07T14:07:39.892Z"
   },
   {
    "duration": 0,
    "start_time": "2022-05-07T14:07:39.893Z"
   },
   {
    "duration": 0,
    "start_time": "2022-05-07T14:07:39.894Z"
   },
   {
    "duration": 0,
    "start_time": "2022-05-07T14:07:39.895Z"
   },
   {
    "duration": 0,
    "start_time": "2022-05-07T14:07:39.895Z"
   },
   {
    "duration": 0,
    "start_time": "2022-05-07T14:07:39.896Z"
   },
   {
    "duration": 0,
    "start_time": "2022-05-07T14:07:39.897Z"
   },
   {
    "duration": 0,
    "start_time": "2022-05-07T14:07:39.898Z"
   },
   {
    "duration": 0,
    "start_time": "2022-05-07T14:07:39.899Z"
   },
   {
    "duration": 0,
    "start_time": "2022-05-07T14:07:39.900Z"
   },
   {
    "duration": 0,
    "start_time": "2022-05-07T14:07:39.901Z"
   },
   {
    "duration": 0,
    "start_time": "2022-05-07T14:07:39.902Z"
   },
   {
    "duration": 0,
    "start_time": "2022-05-07T14:07:39.903Z"
   },
   {
    "duration": 0,
    "start_time": "2022-05-07T14:07:39.904Z"
   },
   {
    "duration": 0,
    "start_time": "2022-05-07T14:07:39.905Z"
   },
   {
    "duration": 0,
    "start_time": "2022-05-07T14:07:39.906Z"
   },
   {
    "duration": 0,
    "start_time": "2022-05-07T14:07:39.907Z"
   },
   {
    "duration": 0,
    "start_time": "2022-05-07T14:07:39.908Z"
   },
   {
    "duration": 0,
    "start_time": "2022-05-07T14:07:39.909Z"
   },
   {
    "duration": 74,
    "start_time": "2022-05-07T14:09:53.318Z"
   },
   {
    "duration": 653,
    "start_time": "2022-05-07T14:10:03.353Z"
   },
   {
    "duration": 177,
    "start_time": "2022-05-07T14:10:04.008Z"
   },
   {
    "duration": 125,
    "start_time": "2022-05-07T14:10:04.187Z"
   },
   {
    "duration": 23,
    "start_time": "2022-05-07T14:10:04.314Z"
   },
   {
    "duration": 57,
    "start_time": "2022-05-07T14:10:04.338Z"
   },
   {
    "duration": 25,
    "start_time": "2022-05-07T14:10:04.397Z"
   },
   {
    "duration": 16,
    "start_time": "2022-05-07T14:10:04.424Z"
   },
   {
    "duration": 143,
    "start_time": "2022-05-07T14:10:04.442Z"
   },
   {
    "duration": 206,
    "start_time": "2022-05-07T14:10:04.587Z"
   },
   {
    "duration": 10,
    "start_time": "2022-05-07T14:10:04.796Z"
   },
   {
    "duration": 30,
    "start_time": "2022-05-07T14:10:04.808Z"
   },
   {
    "duration": 133,
    "start_time": "2022-05-07T14:10:04.840Z"
   },
   {
    "duration": 2,
    "start_time": "2022-05-07T14:10:04.975Z"
   },
   {
    "duration": 97,
    "start_time": "2022-05-07T14:10:04.979Z"
   },
   {
    "duration": 45,
    "start_time": "2022-05-07T14:10:05.078Z"
   },
   {
    "duration": 105,
    "start_time": "2022-05-07T14:10:05.125Z"
   },
   {
    "duration": 29,
    "start_time": "2022-05-07T14:10:05.231Z"
   },
   {
    "duration": 60,
    "start_time": "2022-05-07T14:10:05.274Z"
   },
   {
    "duration": 8,
    "start_time": "2022-05-07T14:10:05.336Z"
   },
   {
    "duration": 38,
    "start_time": "2022-05-07T14:10:05.345Z"
   },
   {
    "duration": 14,
    "start_time": "2022-05-07T14:10:05.384Z"
   },
   {
    "duration": 81,
    "start_time": "2022-05-07T14:10:05.399Z"
   },
   {
    "duration": 8,
    "start_time": "2022-05-07T14:10:05.482Z"
   },
   {
    "duration": 61,
    "start_time": "2022-05-07T14:10:05.492Z"
   },
   {
    "duration": 20,
    "start_time": "2022-05-07T14:10:05.555Z"
   },
   {
    "duration": 15,
    "start_time": "2022-05-07T14:10:05.576Z"
   },
   {
    "duration": 43,
    "start_time": "2022-05-07T14:10:05.593Z"
   },
   {
    "duration": 8,
    "start_time": "2022-05-07T14:10:05.640Z"
   },
   {
    "duration": 25,
    "start_time": "2022-05-07T14:10:05.674Z"
   },
   {
    "duration": 8,
    "start_time": "2022-05-07T14:10:05.701Z"
   },
   {
    "duration": 11,
    "start_time": "2022-05-07T14:10:05.711Z"
   },
   {
    "duration": 16,
    "start_time": "2022-05-07T14:10:05.724Z"
   },
   {
    "duration": 79,
    "start_time": "2022-05-07T14:10:05.742Z"
   },
   {
    "duration": 30,
    "start_time": "2022-05-07T14:10:05.823Z"
   },
   {
    "duration": 22,
    "start_time": "2022-05-07T14:10:05.855Z"
   },
   {
    "duration": 22,
    "start_time": "2022-05-07T14:10:05.878Z"
   },
   {
    "duration": 7,
    "start_time": "2022-05-07T14:10:05.901Z"
   },
   {
    "duration": 9,
    "start_time": "2022-05-07T14:10:05.910Z"
   },
   {
    "duration": 7,
    "start_time": "2022-05-07T14:10:05.921Z"
   },
   {
    "duration": 6,
    "start_time": "2022-05-07T14:10:05.930Z"
   },
   {
    "duration": 5,
    "start_time": "2022-05-07T14:10:05.938Z"
   },
   {
    "duration": 31,
    "start_time": "2022-05-07T14:10:05.945Z"
   },
   {
    "duration": 13,
    "start_time": "2022-05-07T14:10:05.978Z"
   },
   {
    "duration": 11,
    "start_time": "2022-05-07T14:10:05.992Z"
   },
   {
    "duration": 12,
    "start_time": "2022-05-07T14:10:06.005Z"
   },
   {
    "duration": 21,
    "start_time": "2022-05-07T14:10:06.018Z"
   },
   {
    "duration": 4,
    "start_time": "2022-05-07T14:10:06.041Z"
   },
   {
    "duration": 14,
    "start_time": "2022-05-07T14:10:06.073Z"
   },
   {
    "duration": 12,
    "start_time": "2022-05-07T14:10:06.089Z"
   },
   {
    "duration": 623,
    "start_time": "2022-05-07T14:11:00.777Z"
   },
   {
    "duration": 183,
    "start_time": "2022-05-07T14:11:01.404Z"
   },
   {
    "duration": 122,
    "start_time": "2022-05-07T14:11:01.590Z"
   },
   {
    "duration": 21,
    "start_time": "2022-05-07T14:11:01.714Z"
   },
   {
    "duration": 39,
    "start_time": "2022-05-07T14:11:01.737Z"
   },
   {
    "duration": 22,
    "start_time": "2022-05-07T14:11:01.778Z"
   },
   {
    "duration": 15,
    "start_time": "2022-05-07T14:11:01.802Z"
   },
   {
    "duration": 145,
    "start_time": "2022-05-07T14:11:01.819Z"
   },
   {
    "duration": 206,
    "start_time": "2022-05-07T14:11:01.972Z"
   },
   {
    "duration": 10,
    "start_time": "2022-05-07T14:11:02.180Z"
   },
   {
    "duration": 38,
    "start_time": "2022-05-07T14:11:02.191Z"
   },
   {
    "duration": 131,
    "start_time": "2022-05-07T14:11:02.230Z"
   },
   {
    "duration": 10,
    "start_time": "2022-05-07T14:11:02.363Z"
   },
   {
    "duration": 99,
    "start_time": "2022-05-07T14:11:02.375Z"
   },
   {
    "duration": 54,
    "start_time": "2022-05-07T14:11:02.476Z"
   },
   {
    "duration": 118,
    "start_time": "2022-05-07T14:11:02.532Z"
   },
   {
    "duration": 42,
    "start_time": "2022-05-07T14:11:02.651Z"
   },
   {
    "duration": 65,
    "start_time": "2022-05-07T14:11:02.695Z"
   },
   {
    "duration": 15,
    "start_time": "2022-05-07T14:11:02.762Z"
   },
   {
    "duration": 15,
    "start_time": "2022-05-07T14:11:02.779Z"
   },
   {
    "duration": 8,
    "start_time": "2022-05-07T14:11:02.796Z"
   },
   {
    "duration": 91,
    "start_time": "2022-05-07T14:11:02.805Z"
   },
   {
    "duration": 58,
    "start_time": "2022-05-07T14:11:02.898Z"
   },
   {
    "duration": 23,
    "start_time": "2022-05-07T14:11:02.957Z"
   },
   {
    "duration": 14,
    "start_time": "2022-05-07T14:11:02.982Z"
   },
   {
    "duration": 50,
    "start_time": "2022-05-07T14:11:02.998Z"
   },
   {
    "duration": 8,
    "start_time": "2022-05-07T14:11:03.051Z"
   },
   {
    "duration": 27,
    "start_time": "2022-05-07T14:11:03.073Z"
   },
   {
    "duration": 7,
    "start_time": "2022-05-07T14:11:03.101Z"
   },
   {
    "duration": 12,
    "start_time": "2022-05-07T14:11:03.110Z"
   },
   {
    "duration": 11,
    "start_time": "2022-05-07T14:11:03.123Z"
   },
   {
    "duration": 70,
    "start_time": "2022-05-07T14:11:03.136Z"
   },
   {
    "duration": 25,
    "start_time": "2022-05-07T14:11:03.208Z"
   },
   {
    "duration": 7,
    "start_time": "2022-05-07T14:11:03.235Z"
   },
   {
    "duration": 33,
    "start_time": "2022-05-07T14:11:03.244Z"
   },
   {
    "duration": 4,
    "start_time": "2022-05-07T14:11:03.278Z"
   },
   {
    "duration": 7,
    "start_time": "2022-05-07T14:11:03.284Z"
   },
   {
    "duration": 11,
    "start_time": "2022-05-07T14:11:03.293Z"
   },
   {
    "duration": 6,
    "start_time": "2022-05-07T14:11:03.306Z"
   },
   {
    "duration": 7,
    "start_time": "2022-05-07T14:11:03.314Z"
   },
   {
    "duration": 10,
    "start_time": "2022-05-07T14:11:03.323Z"
   },
   {
    "duration": 15,
    "start_time": "2022-05-07T14:11:03.334Z"
   },
   {
    "duration": 29,
    "start_time": "2022-05-07T14:11:03.350Z"
   },
   {
    "duration": 14,
    "start_time": "2022-05-07T14:11:03.380Z"
   },
   {
    "duration": 21,
    "start_time": "2022-05-07T14:11:03.396Z"
   },
   {
    "duration": 8,
    "start_time": "2022-05-07T14:11:03.418Z"
   },
   {
    "duration": 36,
    "start_time": "2022-05-07T14:11:03.428Z"
   },
   {
    "duration": 14,
    "start_time": "2022-05-07T14:11:03.465Z"
   },
   {
    "duration": 8,
    "start_time": "2022-05-07T14:12:12.026Z"
   },
   {
    "duration": 12,
    "start_time": "2022-05-07T14:12:14.423Z"
   },
   {
    "duration": 12,
    "start_time": "2022-05-07T14:13:31.882Z"
   },
   {
    "duration": 4,
    "start_time": "2022-05-07T14:13:38.716Z"
   },
   {
    "duration": 16,
    "start_time": "2022-05-07T14:13:40.749Z"
   },
   {
    "duration": 594,
    "start_time": "2022-05-07T14:14:03.104Z"
   },
   {
    "duration": 170,
    "start_time": "2022-05-07T14:14:03.701Z"
   },
   {
    "duration": 118,
    "start_time": "2022-05-07T14:14:03.872Z"
   },
   {
    "duration": 21,
    "start_time": "2022-05-07T14:14:03.992Z"
   },
   {
    "duration": 38,
    "start_time": "2022-05-07T14:14:04.015Z"
   },
   {
    "duration": 31,
    "start_time": "2022-05-07T14:14:04.054Z"
   },
   {
    "duration": 14,
    "start_time": "2022-05-07T14:14:04.087Z"
   },
   {
    "duration": 126,
    "start_time": "2022-05-07T14:14:04.102Z"
   },
   {
    "duration": 200,
    "start_time": "2022-05-07T14:14:04.229Z"
   },
   {
    "duration": 10,
    "start_time": "2022-05-07T14:14:04.432Z"
   },
   {
    "duration": 45,
    "start_time": "2022-05-07T14:14:04.443Z"
   },
   {
    "duration": 117,
    "start_time": "2022-05-07T14:14:04.489Z"
   },
   {
    "duration": 3,
    "start_time": "2022-05-07T14:14:04.607Z"
   },
   {
    "duration": 96,
    "start_time": "2022-05-07T14:14:04.611Z"
   },
   {
    "duration": 45,
    "start_time": "2022-05-07T14:14:04.708Z"
   },
   {
    "duration": 105,
    "start_time": "2022-05-07T14:14:04.755Z"
   },
   {
    "duration": 36,
    "start_time": "2022-05-07T14:14:04.861Z"
   },
   {
    "duration": 58,
    "start_time": "2022-05-07T14:14:04.899Z"
   },
   {
    "duration": 20,
    "start_time": "2022-05-07T14:14:04.958Z"
   },
   {
    "duration": 17,
    "start_time": "2022-05-07T14:14:04.980Z"
   },
   {
    "duration": 8,
    "start_time": "2022-05-07T14:14:04.999Z"
   },
   {
    "duration": 83,
    "start_time": "2022-05-07T14:14:05.009Z"
   },
   {
    "duration": 55,
    "start_time": "2022-05-07T14:14:05.094Z"
   },
   {
    "duration": 23,
    "start_time": "2022-05-07T14:14:05.151Z"
   },
   {
    "duration": 11,
    "start_time": "2022-05-07T14:14:05.176Z"
   },
   {
    "duration": 43,
    "start_time": "2022-05-07T14:14:05.189Z"
   },
   {
    "duration": 8,
    "start_time": "2022-05-07T14:14:05.233Z"
   },
   {
    "duration": 49,
    "start_time": "2022-05-07T14:14:05.244Z"
   },
   {
    "duration": 7,
    "start_time": "2022-05-07T14:14:05.294Z"
   },
   {
    "duration": 12,
    "start_time": "2022-05-07T14:14:05.302Z"
   },
   {
    "duration": 10,
    "start_time": "2022-05-07T14:14:05.316Z"
   },
   {
    "duration": 74,
    "start_time": "2022-05-07T14:14:05.327Z"
   },
   {
    "duration": 25,
    "start_time": "2022-05-07T14:14:05.402Z"
   },
   {
    "duration": 7,
    "start_time": "2022-05-07T14:14:05.429Z"
   },
   {
    "duration": 11,
    "start_time": "2022-05-07T14:14:05.438Z"
   },
   {
    "duration": 24,
    "start_time": "2022-05-07T14:14:05.451Z"
   },
   {
    "duration": 7,
    "start_time": "2022-05-07T14:14:05.477Z"
   },
   {
    "duration": 8,
    "start_time": "2022-05-07T14:14:05.486Z"
   },
   {
    "duration": 6,
    "start_time": "2022-05-07T14:14:05.495Z"
   },
   {
    "duration": 6,
    "start_time": "2022-05-07T14:14:05.503Z"
   },
   {
    "duration": 9,
    "start_time": "2022-05-07T14:14:05.510Z"
   },
   {
    "duration": 12,
    "start_time": "2022-05-07T14:14:05.521Z"
   },
   {
    "duration": 9,
    "start_time": "2022-05-07T14:14:05.534Z"
   },
   {
    "duration": 36,
    "start_time": "2022-05-07T14:14:05.545Z"
   },
   {
    "duration": 15,
    "start_time": "2022-05-07T14:14:05.582Z"
   },
   {
    "duration": 3,
    "start_time": "2022-05-07T14:14:05.598Z"
   },
   {
    "duration": 24,
    "start_time": "2022-05-07T14:14:05.603Z"
   },
   {
    "duration": 10,
    "start_time": "2022-05-07T14:14:05.628Z"
   },
   {
    "duration": 36,
    "start_time": "2022-05-07T14:14:05.639Z"
   },
   {
    "duration": 13,
    "start_time": "2022-05-07T14:14:05.676Z"
   },
   {
    "duration": 65,
    "start_time": "2022-05-07T14:14:34.608Z"
   },
   {
    "duration": 13,
    "start_time": "2022-05-07T14:14:38.669Z"
   },
   {
    "duration": 4,
    "start_time": "2022-05-07T14:14:40.283Z"
   },
   {
    "duration": 19,
    "start_time": "2022-05-07T14:14:42.327Z"
   },
   {
    "duration": 564,
    "start_time": "2022-05-07T14:14:48.430Z"
   },
   {
    "duration": 169,
    "start_time": "2022-05-07T14:14:48.995Z"
   },
   {
    "duration": 119,
    "start_time": "2022-05-07T14:14:49.166Z"
   },
   {
    "duration": 20,
    "start_time": "2022-05-07T14:14:49.288Z"
   },
   {
    "duration": 35,
    "start_time": "2022-05-07T14:14:49.309Z"
   },
   {
    "duration": 30,
    "start_time": "2022-05-07T14:14:49.345Z"
   },
   {
    "duration": 13,
    "start_time": "2022-05-07T14:14:49.377Z"
   },
   {
    "duration": 118,
    "start_time": "2022-05-07T14:14:49.391Z"
   },
   {
    "duration": 183,
    "start_time": "2022-05-07T14:14:49.511Z"
   },
   {
    "duration": 9,
    "start_time": "2022-05-07T14:14:49.697Z"
   },
   {
    "duration": 26,
    "start_time": "2022-05-07T14:14:49.708Z"
   },
   {
    "duration": 139,
    "start_time": "2022-05-07T14:14:49.736Z"
   },
   {
    "duration": 2,
    "start_time": "2022-05-07T14:14:49.877Z"
   },
   {
    "duration": 94,
    "start_time": "2022-05-07T14:14:49.880Z"
   },
   {
    "duration": 53,
    "start_time": "2022-05-07T14:14:49.976Z"
   },
   {
    "duration": 114,
    "start_time": "2022-05-07T14:14:50.030Z"
   },
   {
    "duration": 35,
    "start_time": "2022-05-07T14:14:50.146Z"
   },
   {
    "duration": 58,
    "start_time": "2022-05-07T14:14:50.182Z"
   },
   {
    "duration": 7,
    "start_time": "2022-05-07T14:14:50.241Z"
   },
   {
    "duration": 32,
    "start_time": "2022-05-07T14:14:50.250Z"
   },
   {
    "duration": 10,
    "start_time": "2022-05-07T14:14:50.284Z"
   },
   {
    "duration": 71,
    "start_time": "2022-05-07T14:14:50.296Z"
   },
   {
    "duration": 59,
    "start_time": "2022-05-07T14:14:50.373Z"
   },
   {
    "duration": 9,
    "start_time": "2022-05-07T14:14:50.434Z"
   },
   {
    "duration": 31,
    "start_time": "2022-05-07T14:14:50.445Z"
   },
   {
    "duration": 39,
    "start_time": "2022-05-07T14:14:50.478Z"
   },
   {
    "duration": 8,
    "start_time": "2022-05-07T14:14:50.519Z"
   },
   {
    "duration": 25,
    "start_time": "2022-05-07T14:14:50.530Z"
   },
   {
    "duration": 7,
    "start_time": "2022-05-07T14:14:50.574Z"
   },
   {
    "duration": 13,
    "start_time": "2022-05-07T14:14:50.582Z"
   },
   {
    "duration": 11,
    "start_time": "2022-05-07T14:14:50.597Z"
   },
   {
    "duration": 66,
    "start_time": "2022-05-07T14:14:50.610Z"
   },
   {
    "duration": 25,
    "start_time": "2022-05-07T14:14:50.678Z"
   },
   {
    "duration": 7,
    "start_time": "2022-05-07T14:14:50.705Z"
   },
   {
    "duration": 13,
    "start_time": "2022-05-07T14:14:50.714Z"
   },
   {
    "duration": 4,
    "start_time": "2022-05-07T14:14:50.729Z"
   },
   {
    "duration": 6,
    "start_time": "2022-05-07T14:14:50.735Z"
   },
   {
    "duration": 35,
    "start_time": "2022-05-07T14:14:50.742Z"
   },
   {
    "duration": 4,
    "start_time": "2022-05-07T14:14:50.779Z"
   },
   {
    "duration": 12,
    "start_time": "2022-05-07T14:14:50.785Z"
   },
   {
    "duration": 12,
    "start_time": "2022-05-07T14:14:50.798Z"
   },
   {
    "duration": 14,
    "start_time": "2022-05-07T14:14:50.812Z"
   },
   {
    "duration": 10,
    "start_time": "2022-05-07T14:14:50.827Z"
   },
   {
    "duration": 11,
    "start_time": "2022-05-07T14:14:50.838Z"
   },
   {
    "duration": 31,
    "start_time": "2022-05-07T14:14:50.850Z"
   },
   {
    "duration": 4,
    "start_time": "2022-05-07T14:14:50.882Z"
   },
   {
    "duration": 20,
    "start_time": "2022-05-07T14:14:50.887Z"
   },
   {
    "duration": 8,
    "start_time": "2022-05-07T14:14:50.909Z"
   },
   {
    "duration": 7,
    "start_time": "2022-05-07T14:14:50.919Z"
   },
   {
    "duration": 12,
    "start_time": "2022-05-07T14:14:50.927Z"
   },
   {
    "duration": 11,
    "start_time": "2022-05-07T14:15:43.853Z"
   },
   {
    "duration": 4,
    "start_time": "2022-05-07T14:29:12.651Z"
   },
   {
    "duration": 17,
    "start_time": "2022-05-07T14:29:14.216Z"
   },
   {
    "duration": 12,
    "start_time": "2022-05-07T14:29:16.446Z"
   },
   {
    "duration": 71,
    "start_time": "2022-05-07T14:30:39.960Z"
   },
   {
    "duration": 13,
    "start_time": "2022-05-07T14:30:45.281Z"
   },
   {
    "duration": 8,
    "start_time": "2022-05-07T14:32:44.301Z"
   },
   {
    "duration": 18,
    "start_time": "2022-05-07T14:32:50.959Z"
   },
   {
    "duration": 14,
    "start_time": "2022-05-07T14:33:12.403Z"
   },
   {
    "duration": 14,
    "start_time": "2022-05-07T14:34:18.085Z"
   },
   {
    "duration": 12,
    "start_time": "2022-05-07T14:34:21.780Z"
   },
   {
    "duration": 4,
    "start_time": "2022-05-07T14:35:26.263Z"
   },
   {
    "duration": 13,
    "start_time": "2022-05-07T14:35:34.396Z"
   },
   {
    "duration": 9,
    "start_time": "2022-05-07T14:36:02.101Z"
   },
   {
    "duration": 31,
    "start_time": "2022-05-07T14:36:16.374Z"
   },
   {
    "duration": 25,
    "start_time": "2022-05-07T14:36:31.997Z"
   },
   {
    "duration": 1780,
    "start_time": "2022-05-07T15:16:06.823Z"
   },
   {
    "duration": 1632,
    "start_time": "2022-05-07T15:16:40.622Z"
   },
   {
    "duration": 1734,
    "start_time": "2022-05-07T15:16:53.086Z"
   },
   {
    "duration": 101,
    "start_time": "2022-05-07T15:17:33.534Z"
   },
   {
    "duration": 102,
    "start_time": "2022-05-07T15:19:19.127Z"
   },
   {
    "duration": 106,
    "start_time": "2022-05-07T15:19:41.206Z"
   },
   {
    "duration": 109,
    "start_time": "2022-05-07T15:20:41.134Z"
   },
   {
    "duration": 637,
    "start_time": "2022-05-07T15:20:48.652Z"
   },
   {
    "duration": 170,
    "start_time": "2022-05-07T15:20:49.291Z"
   },
   {
    "duration": 116,
    "start_time": "2022-05-07T15:20:49.463Z"
   },
   {
    "duration": 20,
    "start_time": "2022-05-07T15:20:49.581Z"
   },
   {
    "duration": 35,
    "start_time": "2022-05-07T15:20:49.603Z"
   },
   {
    "duration": 22,
    "start_time": "2022-05-07T15:20:49.639Z"
   },
   {
    "duration": 23,
    "start_time": "2022-05-07T15:20:49.662Z"
   },
   {
    "duration": 113,
    "start_time": "2022-05-07T15:20:49.687Z"
   },
   {
    "duration": 187,
    "start_time": "2022-05-07T15:20:49.802Z"
   },
   {
    "duration": 9,
    "start_time": "2022-05-07T15:20:49.992Z"
   },
   {
    "duration": 28,
    "start_time": "2022-05-07T15:20:50.003Z"
   },
   {
    "duration": 139,
    "start_time": "2022-05-07T15:20:50.033Z"
   },
   {
    "duration": 2,
    "start_time": "2022-05-07T15:20:50.173Z"
   },
   {
    "duration": 95,
    "start_time": "2022-05-07T15:20:50.177Z"
   },
   {
    "duration": 51,
    "start_time": "2022-05-07T15:20:50.274Z"
   },
   {
    "duration": 110,
    "start_time": "2022-05-07T15:20:50.326Z"
   },
   {
    "duration": 25,
    "start_time": "2022-05-07T15:20:50.438Z"
   },
   {
    "duration": 55,
    "start_time": "2022-05-07T15:20:50.473Z"
   },
   {
    "duration": 7,
    "start_time": "2022-05-07T15:20:50.529Z"
   },
   {
    "duration": 35,
    "start_time": "2022-05-07T15:20:50.538Z"
   },
   {
    "duration": 5,
    "start_time": "2022-05-07T15:20:50.575Z"
   },
   {
    "duration": 70,
    "start_time": "2022-05-07T15:20:50.582Z"
   },
   {
    "duration": 69,
    "start_time": "2022-05-07T15:20:50.653Z"
   },
   {
    "duration": 9,
    "start_time": "2022-05-07T15:20:50.724Z"
   },
   {
    "duration": 16,
    "start_time": "2022-05-07T15:20:50.734Z"
   },
   {
    "duration": 52,
    "start_time": "2022-05-07T15:20:50.752Z"
   },
   {
    "duration": 8,
    "start_time": "2022-05-07T15:20:50.805Z"
   },
   {
    "duration": 26,
    "start_time": "2022-05-07T15:20:50.818Z"
   },
   {
    "duration": 28,
    "start_time": "2022-05-07T15:20:50.846Z"
   },
   {
    "duration": 10,
    "start_time": "2022-05-07T15:20:50.876Z"
   },
   {
    "duration": 12,
    "start_time": "2022-05-07T15:20:50.888Z"
   },
   {
    "duration": 57,
    "start_time": "2022-05-07T15:20:50.901Z"
   },
   {
    "duration": 27,
    "start_time": "2022-05-07T15:20:50.974Z"
   },
   {
    "duration": 7,
    "start_time": "2022-05-07T15:20:51.003Z"
   },
   {
    "duration": 12,
    "start_time": "2022-05-07T15:20:51.012Z"
   },
   {
    "duration": 5,
    "start_time": "2022-05-07T15:20:51.026Z"
   },
   {
    "duration": 19,
    "start_time": "2022-05-07T15:20:51.032Z"
   },
   {
    "duration": 25,
    "start_time": "2022-05-07T15:20:51.053Z"
   },
   {
    "duration": 9,
    "start_time": "2022-05-07T15:20:51.079Z"
   },
   {
    "duration": 7,
    "start_time": "2022-05-07T15:20:51.089Z"
   },
   {
    "duration": 10,
    "start_time": "2022-05-07T15:20:51.098Z"
   },
   {
    "duration": 15,
    "start_time": "2022-05-07T15:20:51.109Z"
   },
   {
    "duration": 10,
    "start_time": "2022-05-07T15:20:51.125Z"
   },
   {
    "duration": 14,
    "start_time": "2022-05-07T15:20:51.137Z"
   },
   {
    "duration": 34,
    "start_time": "2022-05-07T15:20:51.152Z"
   },
   {
    "duration": 4,
    "start_time": "2022-05-07T15:20:51.187Z"
   },
   {
    "duration": 19,
    "start_time": "2022-05-07T15:20:51.192Z"
   },
   {
    "duration": 7,
    "start_time": "2022-05-07T15:20:51.212Z"
   },
   {
    "duration": 12,
    "start_time": "2022-05-07T15:20:51.221Z"
   },
   {
    "duration": 9,
    "start_time": "2022-05-07T15:20:51.235Z"
   },
   {
    "duration": 18,
    "start_time": "2022-05-07T15:20:51.273Z"
   },
   {
    "duration": 15,
    "start_time": "2022-05-07T15:20:51.292Z"
   },
   {
    "duration": 3,
    "start_time": "2022-05-07T15:20:51.309Z"
   },
   {
    "duration": 15,
    "start_time": "2022-05-07T15:20:51.313Z"
   },
   {
    "duration": 7,
    "start_time": "2022-05-07T15:20:51.329Z"
   },
   {
    "duration": 51,
    "start_time": "2022-05-07T15:20:51.337Z"
   },
   {
    "duration": 96,
    "start_time": "2022-05-07T15:20:51.390Z"
   },
   {
    "duration": 4,
    "start_time": "2022-05-07T15:22:50.569Z"
   },
   {
    "duration": 126,
    "start_time": "2022-05-07T15:23:23.075Z"
   },
   {
    "duration": 107,
    "start_time": "2022-05-07T15:23:37.057Z"
   },
   {
    "duration": 130,
    "start_time": "2022-05-07T15:23:48.834Z"
   },
   {
    "duration": 119,
    "start_time": "2022-05-07T15:23:57.858Z"
   },
   {
    "duration": 3,
    "start_time": "2022-05-07T15:39:07.198Z"
   },
   {
    "duration": 10,
    "start_time": "2022-05-07T15:39:08.962Z"
   },
   {
    "duration": 9,
    "start_time": "2022-05-07T15:39:22.777Z"
   },
   {
    "duration": 4,
    "start_time": "2022-05-07T15:40:06.585Z"
   },
   {
    "duration": 10,
    "start_time": "2022-05-07T15:40:07.957Z"
   },
   {
    "duration": 8,
    "start_time": "2022-05-07T15:40:09.823Z"
   },
   {
    "duration": 524,
    "start_time": "2022-05-07T15:40:59.185Z"
   },
   {
    "duration": 1213,
    "start_time": "2022-05-07T15:41:12.094Z"
   },
   {
    "duration": 166,
    "start_time": "2022-05-07T15:41:13.309Z"
   },
   {
    "duration": 125,
    "start_time": "2022-05-07T15:41:13.476Z"
   },
   {
    "duration": 24,
    "start_time": "2022-05-07T15:41:13.603Z"
   },
   {
    "duration": 48,
    "start_time": "2022-05-07T15:41:13.629Z"
   },
   {
    "duration": 26,
    "start_time": "2022-05-07T15:41:13.679Z"
   },
   {
    "duration": 14,
    "start_time": "2022-05-07T15:41:13.707Z"
   },
   {
    "duration": 141,
    "start_time": "2022-05-07T15:41:13.723Z"
   },
   {
    "duration": 191,
    "start_time": "2022-05-07T15:41:13.866Z"
   },
   {
    "duration": 20,
    "start_time": "2022-05-07T15:41:14.060Z"
   },
   {
    "duration": 27,
    "start_time": "2022-05-07T15:41:14.082Z"
   },
   {
    "duration": 143,
    "start_time": "2022-05-07T15:41:14.111Z"
   },
   {
    "duration": 3,
    "start_time": "2022-05-07T15:41:14.255Z"
   },
   {
    "duration": 97,
    "start_time": "2022-05-07T15:41:14.259Z"
   },
   {
    "duration": 53,
    "start_time": "2022-05-07T15:41:14.358Z"
   },
   {
    "duration": 133,
    "start_time": "2022-05-07T15:41:14.413Z"
   },
   {
    "duration": 32,
    "start_time": "2022-05-07T15:41:14.548Z"
   },
   {
    "duration": 60,
    "start_time": "2022-05-07T15:41:14.582Z"
   },
   {
    "duration": 7,
    "start_time": "2022-05-07T15:41:14.644Z"
   },
   {
    "duration": 34,
    "start_time": "2022-05-07T15:41:14.654Z"
   },
   {
    "duration": 8,
    "start_time": "2022-05-07T15:41:14.690Z"
   },
   {
    "duration": 79,
    "start_time": "2022-05-07T15:41:14.700Z"
   },
   {
    "duration": 56,
    "start_time": "2022-05-07T15:41:14.781Z"
   },
   {
    "duration": 9,
    "start_time": "2022-05-07T15:41:14.839Z"
   },
   {
    "duration": 33,
    "start_time": "2022-05-07T15:41:14.849Z"
   },
   {
    "duration": 26,
    "start_time": "2022-05-07T15:41:14.884Z"
   },
   {
    "duration": 16,
    "start_time": "2022-05-07T15:41:14.912Z"
   },
   {
    "duration": 45,
    "start_time": "2022-05-07T15:41:14.931Z"
   },
   {
    "duration": 7,
    "start_time": "2022-05-07T15:41:14.977Z"
   },
   {
    "duration": 42,
    "start_time": "2022-05-07T15:41:14.986Z"
   },
   {
    "duration": 7,
    "start_time": "2022-05-07T15:41:15.029Z"
   },
   {
    "duration": 480,
    "start_time": "2022-05-07T15:41:15.038Z"
   },
   {
    "duration": 0,
    "start_time": "2022-05-07T15:41:15.519Z"
   },
   {
    "duration": 0,
    "start_time": "2022-05-07T15:41:15.521Z"
   },
   {
    "duration": 0,
    "start_time": "2022-05-07T15:41:15.522Z"
   },
   {
    "duration": 0,
    "start_time": "2022-05-07T15:41:15.522Z"
   },
   {
    "duration": 0,
    "start_time": "2022-05-07T15:41:15.523Z"
   },
   {
    "duration": 0,
    "start_time": "2022-05-07T15:41:15.524Z"
   },
   {
    "duration": 0,
    "start_time": "2022-05-07T15:41:15.525Z"
   },
   {
    "duration": 0,
    "start_time": "2022-05-07T15:41:15.526Z"
   },
   {
    "duration": 0,
    "start_time": "2022-05-07T15:41:15.526Z"
   },
   {
    "duration": 0,
    "start_time": "2022-05-07T15:41:15.527Z"
   },
   {
    "duration": 0,
    "start_time": "2022-05-07T15:41:15.528Z"
   },
   {
    "duration": 0,
    "start_time": "2022-05-07T15:41:15.530Z"
   },
   {
    "duration": 0,
    "start_time": "2022-05-07T15:41:15.531Z"
   },
   {
    "duration": 0,
    "start_time": "2022-05-07T15:41:15.532Z"
   },
   {
    "duration": 0,
    "start_time": "2022-05-07T15:41:15.533Z"
   },
   {
    "duration": 0,
    "start_time": "2022-05-07T15:41:15.534Z"
   },
   {
    "duration": 0,
    "start_time": "2022-05-07T15:41:15.535Z"
   },
   {
    "duration": 0,
    "start_time": "2022-05-07T15:41:15.535Z"
   },
   {
    "duration": 0,
    "start_time": "2022-05-07T15:41:15.536Z"
   },
   {
    "duration": 0,
    "start_time": "2022-05-07T15:41:15.537Z"
   },
   {
    "duration": 0,
    "start_time": "2022-05-07T15:41:15.538Z"
   },
   {
    "duration": 0,
    "start_time": "2022-05-07T15:41:15.539Z"
   },
   {
    "duration": 0,
    "start_time": "2022-05-07T15:41:15.540Z"
   },
   {
    "duration": 0,
    "start_time": "2022-05-07T15:41:15.541Z"
   },
   {
    "duration": 0,
    "start_time": "2022-05-07T15:41:15.541Z"
   },
   {
    "duration": 0,
    "start_time": "2022-05-07T15:41:15.542Z"
   },
   {
    "duration": 1,
    "start_time": "2022-05-07T15:41:15.543Z"
   },
   {
    "duration": 0,
    "start_time": "2022-05-07T15:41:15.545Z"
   },
   {
    "duration": 0,
    "start_time": "2022-05-07T15:41:15.546Z"
   },
   {
    "duration": 3,
    "start_time": "2022-05-07T15:41:26.563Z"
   },
   {
    "duration": 11,
    "start_time": "2022-05-07T15:41:29.618Z"
   },
   {
    "duration": 628,
    "start_time": "2022-05-07T15:42:22.468Z"
   },
   {
    "duration": 168,
    "start_time": "2022-05-07T15:42:23.098Z"
   },
   {
    "duration": 118,
    "start_time": "2022-05-07T15:42:23.267Z"
   },
   {
    "duration": 23,
    "start_time": "2022-05-07T15:42:23.387Z"
   },
   {
    "duration": 42,
    "start_time": "2022-05-07T15:42:23.412Z"
   },
   {
    "duration": 32,
    "start_time": "2022-05-07T15:42:23.456Z"
   },
   {
    "duration": 15,
    "start_time": "2022-05-07T15:42:23.490Z"
   },
   {
    "duration": 133,
    "start_time": "2022-05-07T15:42:23.506Z"
   },
   {
    "duration": 198,
    "start_time": "2022-05-07T15:42:23.640Z"
   },
   {
    "duration": 10,
    "start_time": "2022-05-07T15:42:23.841Z"
   },
   {
    "duration": 40,
    "start_time": "2022-05-07T15:42:23.853Z"
   },
   {
    "duration": 129,
    "start_time": "2022-05-07T15:42:23.895Z"
   },
   {
    "duration": 2,
    "start_time": "2022-05-07T15:42:24.026Z"
   },
   {
    "duration": 107,
    "start_time": "2022-05-07T15:42:24.030Z"
   },
   {
    "duration": 59,
    "start_time": "2022-05-07T15:42:24.139Z"
   },
   {
    "duration": 103,
    "start_time": "2022-05-07T15:42:24.200Z"
   },
   {
    "duration": 28,
    "start_time": "2022-05-07T15:42:24.305Z"
   },
   {
    "duration": 77,
    "start_time": "2022-05-07T15:42:24.335Z"
   },
   {
    "duration": 9,
    "start_time": "2022-05-07T15:42:24.413Z"
   },
   {
    "duration": 19,
    "start_time": "2022-05-07T15:42:24.423Z"
   },
   {
    "duration": 7,
    "start_time": "2022-05-07T15:42:24.444Z"
   },
   {
    "duration": 84,
    "start_time": "2022-05-07T15:42:24.452Z"
   },
   {
    "duration": 70,
    "start_time": "2022-05-07T15:42:24.538Z"
   },
   {
    "duration": 9,
    "start_time": "2022-05-07T15:42:24.609Z"
   },
   {
    "duration": 7,
    "start_time": "2022-05-07T15:42:24.620Z"
   },
   {
    "duration": 14,
    "start_time": "2022-05-07T15:42:24.629Z"
   },
   {
    "duration": 15,
    "start_time": "2022-05-07T15:42:24.645Z"
   },
   {
    "duration": 38,
    "start_time": "2022-05-07T15:42:24.672Z"
   },
   {
    "duration": 8,
    "start_time": "2022-05-07T15:42:24.712Z"
   },
   {
    "duration": 25,
    "start_time": "2022-05-07T15:42:24.722Z"
   },
   {
    "duration": 28,
    "start_time": "2022-05-07T15:42:24.748Z"
   },
   {
    "duration": 6,
    "start_time": "2022-05-07T15:42:24.778Z"
   },
   {
    "duration": 14,
    "start_time": "2022-05-07T15:42:24.786Z"
   },
   {
    "duration": 12,
    "start_time": "2022-05-07T15:42:24.802Z"
   },
   {
    "duration": 69,
    "start_time": "2022-05-07T15:42:24.815Z"
   },
   {
    "duration": 26,
    "start_time": "2022-05-07T15:42:24.885Z"
   },
   {
    "duration": 7,
    "start_time": "2022-05-07T15:42:24.913Z"
   },
   {
    "duration": 16,
    "start_time": "2022-05-07T15:42:24.922Z"
   },
   {
    "duration": 17,
    "start_time": "2022-05-07T15:42:24.940Z"
   },
   {
    "duration": 15,
    "start_time": "2022-05-07T15:42:24.959Z"
   },
   {
    "duration": 11,
    "start_time": "2022-05-07T15:42:24.975Z"
   },
   {
    "duration": 8,
    "start_time": "2022-05-07T15:42:24.987Z"
   },
   {
    "duration": 17,
    "start_time": "2022-05-07T15:42:24.996Z"
   },
   {
    "duration": 20,
    "start_time": "2022-05-07T15:42:25.015Z"
   },
   {
    "duration": 35,
    "start_time": "2022-05-07T15:42:25.037Z"
   },
   {
    "duration": 466,
    "start_time": "2022-05-07T15:42:25.073Z"
   },
   {
    "duration": 0,
    "start_time": "2022-05-07T15:42:25.541Z"
   },
   {
    "duration": 0,
    "start_time": "2022-05-07T15:42:25.542Z"
   },
   {
    "duration": 0,
    "start_time": "2022-05-07T15:42:25.544Z"
   },
   {
    "duration": 0,
    "start_time": "2022-05-07T15:42:25.546Z"
   },
   {
    "duration": 0,
    "start_time": "2022-05-07T15:42:25.547Z"
   },
   {
    "duration": 0,
    "start_time": "2022-05-07T15:42:25.548Z"
   },
   {
    "duration": 0,
    "start_time": "2022-05-07T15:42:25.549Z"
   },
   {
    "duration": 0,
    "start_time": "2022-05-07T15:42:25.550Z"
   },
   {
    "duration": 0,
    "start_time": "2022-05-07T15:42:25.552Z"
   },
   {
    "duration": 0,
    "start_time": "2022-05-07T15:42:25.553Z"
   },
   {
    "duration": 0,
    "start_time": "2022-05-07T15:42:25.554Z"
   },
   {
    "duration": 0,
    "start_time": "2022-05-07T15:42:25.555Z"
   },
   {
    "duration": 0,
    "start_time": "2022-05-07T15:42:25.556Z"
   },
   {
    "duration": 0,
    "start_time": "2022-05-07T15:42:25.557Z"
   },
   {
    "duration": 0,
    "start_time": "2022-05-07T15:42:25.559Z"
   },
   {
    "duration": 0,
    "start_time": "2022-05-07T15:42:25.560Z"
   },
   {
    "duration": 405,
    "start_time": "2022-05-07T15:43:40.654Z"
   },
   {
    "duration": 10,
    "start_time": "2022-05-07T15:44:34.344Z"
   },
   {
    "duration": 602,
    "start_time": "2022-05-07T15:44:41.682Z"
   },
   {
    "duration": 163,
    "start_time": "2022-05-07T15:44:42.286Z"
   },
   {
    "duration": 123,
    "start_time": "2022-05-07T15:44:42.451Z"
   },
   {
    "duration": 22,
    "start_time": "2022-05-07T15:44:42.576Z"
   },
   {
    "duration": 49,
    "start_time": "2022-05-07T15:44:42.600Z"
   },
   {
    "duration": 23,
    "start_time": "2022-05-07T15:44:42.651Z"
   },
   {
    "duration": 14,
    "start_time": "2022-05-07T15:44:42.675Z"
   },
   {
    "duration": 122,
    "start_time": "2022-05-07T15:44:42.691Z"
   },
   {
    "duration": 190,
    "start_time": "2022-05-07T15:44:42.815Z"
   },
   {
    "duration": 10,
    "start_time": "2022-05-07T15:44:43.008Z"
   },
   {
    "duration": 27,
    "start_time": "2022-05-07T15:44:43.019Z"
   },
   {
    "duration": 135,
    "start_time": "2022-05-07T15:44:43.048Z"
   },
   {
    "duration": 2,
    "start_time": "2022-05-07T15:44:43.185Z"
   },
   {
    "duration": 95,
    "start_time": "2022-05-07T15:44:43.188Z"
   },
   {
    "duration": 45,
    "start_time": "2022-05-07T15:44:43.285Z"
   },
   {
    "duration": 105,
    "start_time": "2022-05-07T15:44:43.331Z"
   },
   {
    "duration": 36,
    "start_time": "2022-05-07T15:44:43.438Z"
   },
   {
    "duration": 61,
    "start_time": "2022-05-07T15:44:43.476Z"
   },
   {
    "duration": 7,
    "start_time": "2022-05-07T15:44:43.539Z"
   },
   {
    "duration": 31,
    "start_time": "2022-05-07T15:44:43.548Z"
   },
   {
    "duration": 7,
    "start_time": "2022-05-07T15:44:43.581Z"
   },
   {
    "duration": 84,
    "start_time": "2022-05-07T15:44:43.589Z"
   },
   {
    "duration": 56,
    "start_time": "2022-05-07T15:44:43.675Z"
   },
   {
    "duration": 9,
    "start_time": "2022-05-07T15:44:43.733Z"
   },
   {
    "duration": 5,
    "start_time": "2022-05-07T15:44:43.744Z"
   },
   {
    "duration": 31,
    "start_time": "2022-05-07T15:44:43.750Z"
   },
   {
    "duration": 11,
    "start_time": "2022-05-07T15:44:43.783Z"
   },
   {
    "duration": 37,
    "start_time": "2022-05-07T15:44:43.798Z"
   },
   {
    "duration": 8,
    "start_time": "2022-05-07T15:44:43.837Z"
   },
   {
    "duration": 46,
    "start_time": "2022-05-07T15:44:43.846Z"
   },
   {
    "duration": 7,
    "start_time": "2022-05-07T15:44:43.894Z"
   },
   {
    "duration": 4,
    "start_time": "2022-05-07T15:44:43.903Z"
   },
   {
    "duration": 12,
    "start_time": "2022-05-07T15:44:43.909Z"
   },
   {
    "duration": 19,
    "start_time": "2022-05-07T15:44:43.923Z"
   },
   {
    "duration": 68,
    "start_time": "2022-05-07T15:44:43.943Z"
   },
   {
    "duration": 27,
    "start_time": "2022-05-07T15:44:44.013Z"
   },
   {
    "duration": 8,
    "start_time": "2022-05-07T15:44:44.042Z"
   },
   {
    "duration": 31,
    "start_time": "2022-05-07T15:44:44.052Z"
   },
   {
    "duration": 6,
    "start_time": "2022-05-07T15:44:44.085Z"
   },
   {
    "duration": 9,
    "start_time": "2022-05-07T15:44:44.092Z"
   },
   {
    "duration": 11,
    "start_time": "2022-05-07T15:44:44.103Z"
   },
   {
    "duration": 8,
    "start_time": "2022-05-07T15:44:44.115Z"
   },
   {
    "duration": 6,
    "start_time": "2022-05-07T15:44:44.124Z"
   },
   {
    "duration": 13,
    "start_time": "2022-05-07T15:44:44.131Z"
   },
   {
    "duration": 27,
    "start_time": "2022-05-07T15:44:44.146Z"
   },
   {
    "duration": 14,
    "start_time": "2022-05-07T15:44:44.175Z"
   },
   {
    "duration": 10,
    "start_time": "2022-05-07T15:44:44.190Z"
   },
   {
    "duration": 18,
    "start_time": "2022-05-07T15:44:44.202Z"
   },
   {
    "duration": 20,
    "start_time": "2022-05-07T15:44:44.222Z"
   },
   {
    "duration": 16,
    "start_time": "2022-05-07T15:44:44.244Z"
   },
   {
    "duration": 25,
    "start_time": "2022-05-07T15:44:44.262Z"
   },
   {
    "duration": 8,
    "start_time": "2022-05-07T15:44:44.288Z"
   },
   {
    "duration": 23,
    "start_time": "2022-05-07T15:44:44.298Z"
   },
   {
    "duration": 11,
    "start_time": "2022-05-07T15:44:44.323Z"
   },
   {
    "duration": 24,
    "start_time": "2022-05-07T15:44:44.335Z"
   },
   {
    "duration": 13,
    "start_time": "2022-05-07T15:44:44.373Z"
   },
   {
    "duration": 4,
    "start_time": "2022-05-07T15:44:44.388Z"
   },
   {
    "duration": 17,
    "start_time": "2022-05-07T15:44:44.393Z"
   },
   {
    "duration": 8,
    "start_time": "2022-05-07T15:44:44.411Z"
   },
   {
    "duration": 25,
    "start_time": "2022-05-07T15:44:44.421Z"
   },
   {
    "duration": 28,
    "start_time": "2022-05-07T15:44:44.447Z"
   },
   {
    "duration": 116,
    "start_time": "2022-05-07T15:44:44.476Z"
   },
   {
    "duration": 7,
    "start_time": "2022-05-07T15:45:06.685Z"
   },
   {
    "duration": 27,
    "start_time": "2022-05-07T15:45:45.165Z"
   },
   {
    "duration": 32,
    "start_time": "2022-05-07T15:47:20.700Z"
   },
   {
    "duration": 193,
    "start_time": "2022-05-07T15:49:40.276Z"
   },
   {
    "duration": 194,
    "start_time": "2022-05-07T15:49:47.400Z"
   },
   {
    "duration": 22,
    "start_time": "2022-05-07T15:50:08.430Z"
   },
   {
    "duration": 22,
    "start_time": "2022-05-07T15:50:19.971Z"
   },
   {
    "duration": 13,
    "start_time": "2022-05-07T15:57:48.054Z"
   },
   {
    "duration": 628,
    "start_time": "2022-05-07T16:02:32.137Z"
   },
   {
    "duration": 166,
    "start_time": "2022-05-07T16:02:32.767Z"
   },
   {
    "duration": 116,
    "start_time": "2022-05-07T16:02:32.934Z"
   },
   {
    "duration": 27,
    "start_time": "2022-05-07T16:02:33.052Z"
   },
   {
    "duration": 41,
    "start_time": "2022-05-07T16:02:33.080Z"
   },
   {
    "duration": 21,
    "start_time": "2022-05-07T16:02:33.123Z"
   },
   {
    "duration": 39,
    "start_time": "2022-05-07T16:02:33.146Z"
   },
   {
    "duration": 123,
    "start_time": "2022-05-07T16:02:33.186Z"
   },
   {
    "duration": 177,
    "start_time": "2022-05-07T16:02:33.311Z"
   },
   {
    "duration": 9,
    "start_time": "2022-05-07T16:02:33.490Z"
   },
   {
    "duration": 25,
    "start_time": "2022-05-07T16:02:33.500Z"
   },
   {
    "duration": 138,
    "start_time": "2022-05-07T16:02:33.527Z"
   },
   {
    "duration": 7,
    "start_time": "2022-05-07T16:02:33.666Z"
   },
   {
    "duration": 98,
    "start_time": "2022-05-07T16:02:33.675Z"
   },
   {
    "duration": 51,
    "start_time": "2022-05-07T16:02:33.775Z"
   },
   {
    "duration": 124,
    "start_time": "2022-05-07T16:02:33.828Z"
   },
   {
    "duration": 32,
    "start_time": "2022-05-07T16:02:33.953Z"
   },
   {
    "duration": 60,
    "start_time": "2022-05-07T16:02:33.987Z"
   },
   {
    "duration": 24,
    "start_time": "2022-05-07T16:02:34.049Z"
   },
   {
    "duration": 20,
    "start_time": "2022-05-07T16:02:34.075Z"
   },
   {
    "duration": 10,
    "start_time": "2022-05-07T16:02:34.097Z"
   },
   {
    "duration": 77,
    "start_time": "2022-05-07T16:02:34.109Z"
   },
   {
    "duration": 56,
    "start_time": "2022-05-07T16:02:34.187Z"
   },
   {
    "duration": 9,
    "start_time": "2022-05-07T16:02:34.245Z"
   },
   {
    "duration": 19,
    "start_time": "2022-05-07T16:02:34.255Z"
   },
   {
    "duration": 12,
    "start_time": "2022-05-07T16:02:34.276Z"
   },
   {
    "duration": 7,
    "start_time": "2022-05-07T16:02:34.290Z"
   },
   {
    "duration": 36,
    "start_time": "2022-05-07T16:02:34.301Z"
   },
   {
    "duration": 7,
    "start_time": "2022-05-07T16:02:34.338Z"
   },
   {
    "duration": 47,
    "start_time": "2022-05-07T16:02:34.347Z"
   },
   {
    "duration": 7,
    "start_time": "2022-05-07T16:02:34.396Z"
   },
   {
    "duration": 6,
    "start_time": "2022-05-07T16:02:34.404Z"
   },
   {
    "duration": 11,
    "start_time": "2022-05-07T16:02:34.412Z"
   },
   {
    "duration": 11,
    "start_time": "2022-05-07T16:02:34.425Z"
   },
   {
    "duration": 73,
    "start_time": "2022-05-07T16:02:34.438Z"
   },
   {
    "duration": 28,
    "start_time": "2022-05-07T16:02:34.513Z"
   },
   {
    "duration": 8,
    "start_time": "2022-05-07T16:02:34.543Z"
   },
   {
    "duration": 30,
    "start_time": "2022-05-07T16:02:34.552Z"
   },
   {
    "duration": 6,
    "start_time": "2022-05-07T16:02:34.584Z"
   },
   {
    "duration": 5,
    "start_time": "2022-05-07T16:02:34.592Z"
   },
   {
    "duration": 12,
    "start_time": "2022-05-07T16:02:34.599Z"
   },
   {
    "duration": 10,
    "start_time": "2022-05-07T16:02:34.613Z"
   },
   {
    "duration": 5,
    "start_time": "2022-05-07T16:02:34.624Z"
   },
   {
    "duration": 13,
    "start_time": "2022-05-07T16:02:34.630Z"
   },
   {
    "duration": 35,
    "start_time": "2022-05-07T16:02:34.644Z"
   },
   {
    "duration": 12,
    "start_time": "2022-05-07T16:02:34.681Z"
   },
   {
    "duration": 10,
    "start_time": "2022-05-07T16:02:34.695Z"
   },
   {
    "duration": 17,
    "start_time": "2022-05-07T16:02:34.707Z"
   },
   {
    "duration": 11,
    "start_time": "2022-05-07T16:02:34.726Z"
   },
   {
    "duration": 4,
    "start_time": "2022-05-07T16:02:34.739Z"
   },
   {
    "duration": 42,
    "start_time": "2022-05-07T16:02:34.745Z"
   },
   {
    "duration": 8,
    "start_time": "2022-05-07T16:02:34.789Z"
   },
   {
    "duration": 23,
    "start_time": "2022-05-07T16:02:34.798Z"
   },
   {
    "duration": 14,
    "start_time": "2022-05-07T16:02:34.823Z"
   },
   {
    "duration": 18,
    "start_time": "2022-05-07T16:02:34.839Z"
   },
   {
    "duration": 14,
    "start_time": "2022-05-07T16:02:34.872Z"
   },
   {
    "duration": 3,
    "start_time": "2022-05-07T16:02:34.888Z"
   },
   {
    "duration": 22,
    "start_time": "2022-05-07T16:02:34.893Z"
   },
   {
    "duration": 7,
    "start_time": "2022-05-07T16:02:34.917Z"
   },
   {
    "duration": 23,
    "start_time": "2022-05-07T16:02:34.925Z"
   },
   {
    "duration": 33,
    "start_time": "2022-05-07T16:02:34.950Z"
   },
   {
    "duration": 5,
    "start_time": "2022-05-07T16:02:34.985Z"
   },
   {
    "duration": 17,
    "start_time": "2022-05-07T16:02:34.991Z"
   },
   {
    "duration": 7,
    "start_time": "2022-05-07T16:02:35.010Z"
   },
   {
    "duration": 26,
    "start_time": "2022-05-07T16:02:35.019Z"
   },
   {
    "duration": 14,
    "start_time": "2022-05-07T16:04:24.207Z"
   },
   {
    "duration": 5,
    "start_time": "2022-05-07T16:04:53.904Z"
   },
   {
    "duration": 62,
    "start_time": "2022-05-07T16:05:05.085Z"
   },
   {
    "duration": 5,
    "start_time": "2022-05-07T16:05:19.119Z"
   },
   {
    "duration": 105,
    "start_time": "2022-05-07T16:06:15.466Z"
   },
   {
    "duration": 20,
    "start_time": "2022-05-07T16:06:19.759Z"
   },
   {
    "duration": 599,
    "start_time": "2022-05-07T16:07:33.319Z"
   },
   {
    "duration": 168,
    "start_time": "2022-05-07T16:07:33.920Z"
   },
   {
    "duration": 125,
    "start_time": "2022-05-07T16:07:34.092Z"
   },
   {
    "duration": 21,
    "start_time": "2022-05-07T16:07:34.218Z"
   },
   {
    "duration": 34,
    "start_time": "2022-05-07T16:07:34.241Z"
   },
   {
    "duration": 24,
    "start_time": "2022-05-07T16:07:34.277Z"
   },
   {
    "duration": 14,
    "start_time": "2022-05-07T16:07:34.302Z"
   },
   {
    "duration": 135,
    "start_time": "2022-05-07T16:07:34.317Z"
   },
   {
    "duration": 190,
    "start_time": "2022-05-07T16:07:34.454Z"
   },
   {
    "duration": 10,
    "start_time": "2022-05-07T16:07:34.645Z"
   },
   {
    "duration": 42,
    "start_time": "2022-05-07T16:07:34.657Z"
   },
   {
    "duration": 124,
    "start_time": "2022-05-07T16:07:34.701Z"
   },
   {
    "duration": 3,
    "start_time": "2022-05-07T16:07:34.826Z"
   },
   {
    "duration": 100,
    "start_time": "2022-05-07T16:07:34.830Z"
   },
   {
    "duration": 65,
    "start_time": "2022-05-07T16:07:34.931Z"
   },
   {
    "duration": 107,
    "start_time": "2022-05-07T16:07:34.998Z"
   },
   {
    "duration": 27,
    "start_time": "2022-05-07T16:07:35.107Z"
   },
   {
    "duration": 82,
    "start_time": "2022-05-07T16:07:35.136Z"
   },
   {
    "duration": 8,
    "start_time": "2022-05-07T16:07:35.220Z"
   },
   {
    "duration": 21,
    "start_time": "2022-05-07T16:07:35.229Z"
   },
   {
    "duration": 27,
    "start_time": "2022-05-07T16:07:35.252Z"
   },
   {
    "duration": 71,
    "start_time": "2022-05-07T16:07:35.280Z"
   },
   {
    "duration": 66,
    "start_time": "2022-05-07T16:07:35.353Z"
   },
   {
    "duration": 9,
    "start_time": "2022-05-07T16:07:35.421Z"
   },
   {
    "duration": 4,
    "start_time": "2022-05-07T16:07:35.432Z"
   },
   {
    "duration": 13,
    "start_time": "2022-05-07T16:07:35.437Z"
   },
   {
    "duration": 9,
    "start_time": "2022-05-07T16:07:35.472Z"
   },
   {
    "duration": 40,
    "start_time": "2022-05-07T16:07:35.483Z"
   },
   {
    "duration": 8,
    "start_time": "2022-05-07T16:07:35.525Z"
   },
   {
    "duration": 42,
    "start_time": "2022-05-07T16:07:35.534Z"
   },
   {
    "duration": 7,
    "start_time": "2022-05-07T16:07:35.577Z"
   },
   {
    "duration": 5,
    "start_time": "2022-05-07T16:07:35.585Z"
   },
   {
    "duration": 13,
    "start_time": "2022-05-07T16:07:35.592Z"
   },
   {
    "duration": 12,
    "start_time": "2022-05-07T16:07:35.607Z"
   },
   {
    "duration": 80,
    "start_time": "2022-05-07T16:07:35.621Z"
   },
   {
    "duration": 28,
    "start_time": "2022-05-07T16:07:35.703Z"
   },
   {
    "duration": 8,
    "start_time": "2022-05-07T16:07:35.733Z"
   },
   {
    "duration": 34,
    "start_time": "2022-05-07T16:07:35.743Z"
   },
   {
    "duration": 5,
    "start_time": "2022-05-07T16:07:35.779Z"
   },
   {
    "duration": 6,
    "start_time": "2022-05-07T16:07:35.786Z"
   },
   {
    "duration": 8,
    "start_time": "2022-05-07T16:07:35.794Z"
   },
   {
    "duration": 8,
    "start_time": "2022-05-07T16:07:35.804Z"
   },
   {
    "duration": 6,
    "start_time": "2022-05-07T16:07:35.814Z"
   },
   {
    "duration": 12,
    "start_time": "2022-05-07T16:07:35.822Z"
   },
   {
    "duration": 37,
    "start_time": "2022-05-07T16:07:35.836Z"
   },
   {
    "duration": 14,
    "start_time": "2022-05-07T16:07:35.875Z"
   },
   {
    "duration": 11,
    "start_time": "2022-05-07T16:07:35.890Z"
   },
   {
    "duration": 14,
    "start_time": "2022-05-07T16:07:35.903Z"
   },
   {
    "duration": 9,
    "start_time": "2022-05-07T16:07:35.919Z"
   },
   {
    "duration": 4,
    "start_time": "2022-05-07T16:07:35.930Z"
   },
   {
    "duration": 47,
    "start_time": "2022-05-07T16:07:35.936Z"
   },
   {
    "duration": 8,
    "start_time": "2022-05-07T16:07:35.985Z"
   },
   {
    "duration": 19,
    "start_time": "2022-05-07T16:07:35.994Z"
   },
   {
    "duration": 11,
    "start_time": "2022-05-07T16:07:36.014Z"
   },
   {
    "duration": 21,
    "start_time": "2022-05-07T16:07:36.027Z"
   },
   {
    "duration": 37,
    "start_time": "2022-05-07T16:07:36.050Z"
   },
   {
    "duration": 4,
    "start_time": "2022-05-07T16:07:36.088Z"
   },
   {
    "duration": 16,
    "start_time": "2022-05-07T16:07:36.093Z"
   },
   {
    "duration": 7,
    "start_time": "2022-05-07T16:07:36.111Z"
   },
   {
    "duration": 25,
    "start_time": "2022-05-07T16:07:36.119Z"
   },
   {
    "duration": 39,
    "start_time": "2022-05-07T16:07:36.146Z"
   },
   {
    "duration": 5,
    "start_time": "2022-05-07T16:07:36.187Z"
   },
   {
    "duration": 15,
    "start_time": "2022-05-07T16:07:36.194Z"
   },
   {
    "duration": 20,
    "start_time": "2022-05-07T16:07:36.210Z"
   },
   {
    "duration": 41,
    "start_time": "2022-05-07T16:07:36.232Z"
   },
   {
    "duration": 24,
    "start_time": "2022-05-07T16:07:36.276Z"
   },
   {
    "duration": 6,
    "start_time": "2022-05-07T16:08:38.344Z"
   },
   {
    "duration": 6,
    "start_time": "2022-05-07T16:08:55.428Z"
   },
   {
    "duration": 24,
    "start_time": "2022-05-07T16:09:20.845Z"
   },
   {
    "duration": 5,
    "start_time": "2022-05-07T16:14:02.207Z"
   },
   {
    "duration": 4,
    "start_time": "2022-05-07T16:14:04.545Z"
   },
   {
    "duration": 6,
    "start_time": "2022-05-07T16:14:05.508Z"
   },
   {
    "duration": 5,
    "start_time": "2022-05-07T16:16:25.654Z"
   },
   {
    "duration": 4,
    "start_time": "2022-05-07T16:16:27.035Z"
   },
   {
    "duration": 6,
    "start_time": "2022-05-07T16:16:27.849Z"
   },
   {
    "duration": 4,
    "start_time": "2022-05-07T16:17:07.876Z"
   },
   {
    "duration": 4,
    "start_time": "2022-05-07T16:17:09.661Z"
   },
   {
    "duration": 7,
    "start_time": "2022-05-07T16:17:10.208Z"
   },
   {
    "duration": 639,
    "start_time": "2022-05-07T16:17:30.865Z"
   },
   {
    "duration": 186,
    "start_time": "2022-05-07T16:17:31.506Z"
   },
   {
    "duration": 119,
    "start_time": "2022-05-07T16:17:31.693Z"
   },
   {
    "duration": 22,
    "start_time": "2022-05-07T16:17:31.814Z"
   },
   {
    "duration": 37,
    "start_time": "2022-05-07T16:17:31.837Z"
   },
   {
    "duration": 22,
    "start_time": "2022-05-07T16:17:31.876Z"
   },
   {
    "duration": 15,
    "start_time": "2022-05-07T16:17:31.900Z"
   },
   {
    "duration": 145,
    "start_time": "2022-05-07T16:17:31.917Z"
   },
   {
    "duration": 210,
    "start_time": "2022-05-07T16:17:32.064Z"
   },
   {
    "duration": 10,
    "start_time": "2022-05-07T16:17:32.277Z"
   },
   {
    "duration": 26,
    "start_time": "2022-05-07T16:17:32.289Z"
   },
   {
    "duration": 140,
    "start_time": "2022-05-07T16:17:32.317Z"
   },
   {
    "duration": 2,
    "start_time": "2022-05-07T16:17:32.459Z"
   },
   {
    "duration": 87,
    "start_time": "2022-05-07T16:17:32.462Z"
   },
   {
    "duration": 63,
    "start_time": "2022-05-07T16:17:32.550Z"
   },
   {
    "duration": 115,
    "start_time": "2022-05-07T16:17:32.615Z"
   },
   {
    "duration": 29,
    "start_time": "2022-05-07T16:17:32.732Z"
   },
   {
    "duration": 62,
    "start_time": "2022-05-07T16:17:32.774Z"
   },
   {
    "duration": 7,
    "start_time": "2022-05-07T16:17:32.838Z"
   },
   {
    "duration": 33,
    "start_time": "2022-05-07T16:17:32.847Z"
   },
   {
    "duration": 11,
    "start_time": "2022-05-07T16:17:32.881Z"
   },
   {
    "duration": 72,
    "start_time": "2022-05-07T16:17:32.894Z"
   },
   {
    "duration": 56,
    "start_time": "2022-05-07T16:17:32.972Z"
   },
   {
    "duration": 9,
    "start_time": "2022-05-07T16:17:33.030Z"
   },
   {
    "duration": 6,
    "start_time": "2022-05-07T16:17:33.041Z"
   },
   {
    "duration": 24,
    "start_time": "2022-05-07T16:17:33.049Z"
   },
   {
    "duration": 8,
    "start_time": "2022-05-07T16:17:33.075Z"
   },
   {
    "duration": 38,
    "start_time": "2022-05-07T16:17:33.087Z"
   },
   {
    "duration": 7,
    "start_time": "2022-05-07T16:17:33.127Z"
   },
   {
    "duration": 50,
    "start_time": "2022-05-07T16:17:33.136Z"
   },
   {
    "duration": 7,
    "start_time": "2022-05-07T16:17:33.188Z"
   },
   {
    "duration": 6,
    "start_time": "2022-05-07T16:17:33.196Z"
   },
   {
    "duration": 13,
    "start_time": "2022-05-07T16:17:33.203Z"
   },
   {
    "duration": 11,
    "start_time": "2022-05-07T16:17:33.218Z"
   },
   {
    "duration": 75,
    "start_time": "2022-05-07T16:17:33.231Z"
   },
   {
    "duration": 25,
    "start_time": "2022-05-07T16:17:33.308Z"
   },
   {
    "duration": 7,
    "start_time": "2022-05-07T16:17:33.335Z"
   },
   {
    "duration": 33,
    "start_time": "2022-05-07T16:17:33.344Z"
   },
   {
    "duration": 6,
    "start_time": "2022-05-07T16:17:33.379Z"
   },
   {
    "duration": 7,
    "start_time": "2022-05-07T16:17:33.386Z"
   },
   {
    "duration": 7,
    "start_time": "2022-05-07T16:17:33.394Z"
   },
   {
    "duration": 5,
    "start_time": "2022-05-07T16:17:33.403Z"
   },
   {
    "duration": 8,
    "start_time": "2022-05-07T16:17:33.410Z"
   },
   {
    "duration": 14,
    "start_time": "2022-05-07T16:17:33.419Z"
   },
   {
    "duration": 8,
    "start_time": "2022-05-07T16:17:33.435Z"
   },
   {
    "duration": 38,
    "start_time": "2022-05-07T16:17:33.444Z"
   },
   {
    "duration": 9,
    "start_time": "2022-05-07T16:17:33.484Z"
   },
   {
    "duration": 8,
    "start_time": "2022-05-07T16:17:33.495Z"
   },
   {
    "duration": 10,
    "start_time": "2022-05-07T16:17:33.505Z"
   },
   {
    "duration": 3,
    "start_time": "2022-05-07T16:17:33.517Z"
   },
   {
    "duration": 21,
    "start_time": "2022-05-07T16:17:33.521Z"
   },
   {
    "duration": 8,
    "start_time": "2022-05-07T16:17:33.572Z"
   },
   {
    "duration": 13,
    "start_time": "2022-05-07T16:17:33.582Z"
   },
   {
    "duration": 13,
    "start_time": "2022-05-07T16:17:33.596Z"
   },
   {
    "duration": 18,
    "start_time": "2022-05-07T16:17:33.610Z"
   },
   {
    "duration": 18,
    "start_time": "2022-05-07T16:17:33.630Z"
   },
   {
    "duration": 25,
    "start_time": "2022-05-07T16:17:33.649Z"
   },
   {
    "duration": 12,
    "start_time": "2022-05-07T16:17:33.676Z"
   },
   {
    "duration": 7,
    "start_time": "2022-05-07T16:17:33.689Z"
   },
   {
    "duration": 25,
    "start_time": "2022-05-07T16:17:33.698Z"
   },
   {
    "duration": 14,
    "start_time": "2022-05-07T16:17:33.725Z"
   },
   {
    "duration": 34,
    "start_time": "2022-05-07T16:17:33.741Z"
   },
   {
    "duration": 13,
    "start_time": "2022-05-07T16:17:33.777Z"
   },
   {
    "duration": 20,
    "start_time": "2022-05-07T16:17:33.791Z"
   },
   {
    "duration": 8,
    "start_time": "2022-05-07T16:17:33.812Z"
   },
   {
    "duration": 24,
    "start_time": "2022-05-07T16:17:33.821Z"
   },
   {
    "duration": 6,
    "start_time": "2022-05-07T16:17:33.874Z"
   },
   {
    "duration": 17,
    "start_time": "2022-05-07T16:17:33.881Z"
   },
   {
    "duration": 606,
    "start_time": "2022-05-07T16:19:05.002Z"
   },
   {
    "duration": 170,
    "start_time": "2022-05-07T16:19:05.609Z"
   },
   {
    "duration": 121,
    "start_time": "2022-05-07T16:19:05.781Z"
   },
   {
    "duration": 23,
    "start_time": "2022-05-07T16:19:05.904Z"
   },
   {
    "duration": 30,
    "start_time": "2022-05-07T16:19:05.928Z"
   },
   {
    "duration": 31,
    "start_time": "2022-05-07T16:19:05.960Z"
   },
   {
    "duration": 15,
    "start_time": "2022-05-07T16:19:05.992Z"
   },
   {
    "duration": 131,
    "start_time": "2022-05-07T16:19:06.008Z"
   },
   {
    "duration": 188,
    "start_time": "2022-05-07T16:19:06.140Z"
   },
   {
    "duration": 8,
    "start_time": "2022-05-07T16:19:06.331Z"
   },
   {
    "duration": 42,
    "start_time": "2022-05-07T16:19:06.341Z"
   },
   {
    "duration": 113,
    "start_time": "2022-05-07T16:19:06.385Z"
   },
   {
    "duration": 2,
    "start_time": "2022-05-07T16:19:06.500Z"
   },
   {
    "duration": 91,
    "start_time": "2022-05-07T16:19:06.504Z"
   },
   {
    "duration": 48,
    "start_time": "2022-05-07T16:19:06.596Z"
   },
   {
    "duration": 113,
    "start_time": "2022-05-07T16:19:06.646Z"
   },
   {
    "duration": 30,
    "start_time": "2022-05-07T16:19:06.761Z"
   },
   {
    "duration": 58,
    "start_time": "2022-05-07T16:19:06.793Z"
   },
   {
    "duration": 20,
    "start_time": "2022-05-07T16:19:06.853Z"
   },
   {
    "duration": 17,
    "start_time": "2022-05-07T16:19:06.875Z"
   },
   {
    "duration": 11,
    "start_time": "2022-05-07T16:19:06.893Z"
   },
   {
    "duration": 83,
    "start_time": "2022-05-07T16:19:06.905Z"
   },
   {
    "duration": 60,
    "start_time": "2022-05-07T16:19:06.990Z"
   },
   {
    "duration": 23,
    "start_time": "2022-05-07T16:19:07.051Z"
   },
   {
    "duration": 6,
    "start_time": "2022-05-07T16:19:07.076Z"
   },
   {
    "duration": 13,
    "start_time": "2022-05-07T16:19:07.083Z"
   },
   {
    "duration": 8,
    "start_time": "2022-05-07T16:19:07.098Z"
   },
   {
    "duration": 37,
    "start_time": "2022-05-07T16:19:07.110Z"
   },
   {
    "duration": 30,
    "start_time": "2022-05-07T16:19:07.149Z"
   },
   {
    "duration": 24,
    "start_time": "2022-05-07T16:19:07.181Z"
   },
   {
    "duration": 7,
    "start_time": "2022-05-07T16:19:07.206Z"
   },
   {
    "duration": 5,
    "start_time": "2022-05-07T16:19:07.215Z"
   },
   {
    "duration": 17,
    "start_time": "2022-05-07T16:19:07.222Z"
   },
   {
    "duration": 34,
    "start_time": "2022-05-07T16:19:07.240Z"
   },
   {
    "duration": 51,
    "start_time": "2022-05-07T16:19:07.276Z"
   },
   {
    "duration": 24,
    "start_time": "2022-05-07T16:19:07.329Z"
   },
   {
    "duration": 22,
    "start_time": "2022-05-07T16:19:07.355Z"
   },
   {
    "duration": 11,
    "start_time": "2022-05-07T16:19:07.378Z"
   },
   {
    "duration": 4,
    "start_time": "2022-05-07T16:19:07.391Z"
   },
   {
    "duration": 6,
    "start_time": "2022-05-07T16:19:07.396Z"
   },
   {
    "duration": 8,
    "start_time": "2022-05-07T16:19:07.404Z"
   },
   {
    "duration": 5,
    "start_time": "2022-05-07T16:19:07.414Z"
   },
   {
    "duration": 5,
    "start_time": "2022-05-07T16:19:07.420Z"
   },
   {
    "duration": 13,
    "start_time": "2022-05-07T16:19:07.426Z"
   },
   {
    "duration": 38,
    "start_time": "2022-05-07T16:19:07.440Z"
   },
   {
    "duration": 11,
    "start_time": "2022-05-07T16:19:07.480Z"
   },
   {
    "duration": 12,
    "start_time": "2022-05-07T16:19:07.493Z"
   },
   {
    "duration": 1855,
    "start_time": "2022-05-07T16:19:07.506Z"
   },
   {
    "duration": 0,
    "start_time": "2022-05-07T16:19:09.363Z"
   },
   {
    "duration": 0,
    "start_time": "2022-05-07T16:19:09.364Z"
   },
   {
    "duration": 0,
    "start_time": "2022-05-07T16:19:09.364Z"
   },
   {
    "duration": 0,
    "start_time": "2022-05-07T16:19:09.365Z"
   },
   {
    "duration": 0,
    "start_time": "2022-05-07T16:19:09.366Z"
   },
   {
    "duration": 0,
    "start_time": "2022-05-07T16:19:09.368Z"
   },
   {
    "duration": 0,
    "start_time": "2022-05-07T16:19:09.368Z"
   },
   {
    "duration": 0,
    "start_time": "2022-05-07T16:19:09.369Z"
   },
   {
    "duration": 0,
    "start_time": "2022-05-07T16:19:09.370Z"
   },
   {
    "duration": 0,
    "start_time": "2022-05-07T16:19:09.371Z"
   },
   {
    "duration": 0,
    "start_time": "2022-05-07T16:19:09.372Z"
   },
   {
    "duration": 0,
    "start_time": "2022-05-07T16:19:09.373Z"
   },
   {
    "duration": 0,
    "start_time": "2022-05-07T16:19:09.374Z"
   },
   {
    "duration": 0,
    "start_time": "2022-05-07T16:19:09.375Z"
   },
   {
    "duration": 0,
    "start_time": "2022-05-07T16:19:09.376Z"
   },
   {
    "duration": 0,
    "start_time": "2022-05-07T16:19:09.377Z"
   },
   {
    "duration": 0,
    "start_time": "2022-05-07T16:19:09.378Z"
   },
   {
    "duration": 0,
    "start_time": "2022-05-07T16:19:09.379Z"
   },
   {
    "duration": 0,
    "start_time": "2022-05-07T16:19:09.380Z"
   },
   {
    "duration": 0,
    "start_time": "2022-05-07T16:19:09.381Z"
   },
   {
    "duration": 10,
    "start_time": "2022-05-07T16:19:22.361Z"
   },
   {
    "duration": 581,
    "start_time": "2022-05-07T16:19:35.429Z"
   },
   {
    "duration": 165,
    "start_time": "2022-05-07T16:19:36.012Z"
   },
   {
    "duration": 114,
    "start_time": "2022-05-07T16:19:36.178Z"
   },
   {
    "duration": 21,
    "start_time": "2022-05-07T16:19:36.294Z"
   },
   {
    "duration": 36,
    "start_time": "2022-05-07T16:19:36.316Z"
   },
   {
    "duration": 31,
    "start_time": "2022-05-07T16:19:36.353Z"
   },
   {
    "duration": 14,
    "start_time": "2022-05-07T16:19:36.386Z"
   },
   {
    "duration": 118,
    "start_time": "2022-05-07T16:19:36.401Z"
   },
   {
    "duration": 188,
    "start_time": "2022-05-07T16:19:36.521Z"
   },
   {
    "duration": 9,
    "start_time": "2022-05-07T16:19:36.712Z"
   },
   {
    "duration": 27,
    "start_time": "2022-05-07T16:19:36.723Z"
   },
   {
    "duration": 124,
    "start_time": "2022-05-07T16:19:36.752Z"
   },
   {
    "duration": 2,
    "start_time": "2022-05-07T16:19:36.878Z"
   },
   {
    "duration": 81,
    "start_time": "2022-05-07T16:19:36.882Z"
   },
   {
    "duration": 52,
    "start_time": "2022-05-07T16:19:36.974Z"
   },
   {
    "duration": 114,
    "start_time": "2022-05-07T16:19:37.028Z"
   },
   {
    "duration": 36,
    "start_time": "2022-05-07T16:19:37.144Z"
   },
   {
    "duration": 59,
    "start_time": "2022-05-07T16:19:37.182Z"
   },
   {
    "duration": 7,
    "start_time": "2022-05-07T16:19:37.243Z"
   },
   {
    "duration": 35,
    "start_time": "2022-05-07T16:19:37.252Z"
   },
   {
    "duration": 9,
    "start_time": "2022-05-07T16:19:37.289Z"
   },
   {
    "duration": 80,
    "start_time": "2022-05-07T16:19:37.300Z"
   },
   {
    "duration": 55,
    "start_time": "2022-05-07T16:19:37.381Z"
   },
   {
    "duration": 9,
    "start_time": "2022-05-07T16:19:37.438Z"
   },
   {
    "duration": 24,
    "start_time": "2022-05-07T16:19:37.449Z"
   },
   {
    "duration": 11,
    "start_time": "2022-05-07T16:19:37.474Z"
   },
   {
    "duration": 11,
    "start_time": "2022-05-07T16:19:37.486Z"
   },
   {
    "duration": 35,
    "start_time": "2022-05-07T16:19:37.501Z"
   },
   {
    "duration": 8,
    "start_time": "2022-05-07T16:19:37.537Z"
   },
   {
    "duration": 49,
    "start_time": "2022-05-07T16:19:37.546Z"
   },
   {
    "duration": 8,
    "start_time": "2022-05-07T16:19:37.596Z"
   },
   {
    "duration": 15,
    "start_time": "2022-05-07T16:19:37.605Z"
   },
   {
    "duration": 16,
    "start_time": "2022-05-07T16:19:37.621Z"
   },
   {
    "duration": 11,
    "start_time": "2022-05-07T16:19:37.639Z"
   },
   {
    "duration": 64,
    "start_time": "2022-05-07T16:19:37.652Z"
   },
   {
    "duration": 26,
    "start_time": "2022-05-07T16:19:37.717Z"
   },
   {
    "duration": 8,
    "start_time": "2022-05-07T16:19:37.744Z"
   },
   {
    "duration": 28,
    "start_time": "2022-05-07T16:19:37.753Z"
   },
   {
    "duration": 14,
    "start_time": "2022-05-07T16:19:37.783Z"
   },
   {
    "duration": 8,
    "start_time": "2022-05-07T16:19:37.799Z"
   },
   {
    "duration": 9,
    "start_time": "2022-05-07T16:19:37.808Z"
   },
   {
    "duration": 6,
    "start_time": "2022-05-07T16:19:37.818Z"
   },
   {
    "duration": 6,
    "start_time": "2022-05-07T16:19:37.825Z"
   },
   {
    "duration": 25,
    "start_time": "2022-05-07T16:19:37.833Z"
   },
   {
    "duration": 8,
    "start_time": "2022-05-07T16:19:37.859Z"
   },
   {
    "duration": 12,
    "start_time": "2022-05-07T16:19:37.869Z"
   },
   {
    "duration": 9,
    "start_time": "2022-05-07T16:19:37.883Z"
   },
   {
    "duration": 15,
    "start_time": "2022-05-07T16:19:37.893Z"
   },
   {
    "duration": 8,
    "start_time": "2022-05-07T16:19:37.909Z"
   },
   {
    "duration": 3,
    "start_time": "2022-05-07T16:19:37.918Z"
   },
   {
    "duration": 16,
    "start_time": "2022-05-07T16:19:37.923Z"
   },
   {
    "duration": 35,
    "start_time": "2022-05-07T16:19:37.940Z"
   },
   {
    "duration": 11,
    "start_time": "2022-05-07T16:19:37.976Z"
   },
   {
    "duration": 10,
    "start_time": "2022-05-07T16:19:37.989Z"
   },
   {
    "duration": 16,
    "start_time": "2022-05-07T16:19:38.001Z"
   },
   {
    "duration": 13,
    "start_time": "2022-05-07T16:19:38.019Z"
   },
   {
    "duration": 4,
    "start_time": "2022-05-07T16:19:38.034Z"
   },
   {
    "duration": 37,
    "start_time": "2022-05-07T16:19:38.039Z"
   },
   {
    "duration": 8,
    "start_time": "2022-05-07T16:19:38.078Z"
   },
   {
    "duration": 26,
    "start_time": "2022-05-07T16:19:38.087Z"
   },
   {
    "duration": 13,
    "start_time": "2022-05-07T16:19:38.114Z"
   },
   {
    "duration": 1739,
    "start_time": "2022-05-07T16:19:38.129Z"
   },
   {
    "duration": 0,
    "start_time": "2022-05-07T16:19:39.869Z"
   },
   {
    "duration": 0,
    "start_time": "2022-05-07T16:19:39.871Z"
   },
   {
    "duration": 0,
    "start_time": "2022-05-07T16:19:39.872Z"
   },
   {
    "duration": 0,
    "start_time": "2022-05-07T16:19:39.873Z"
   },
   {
    "duration": 0,
    "start_time": "2022-05-07T16:19:39.874Z"
   },
   {
    "duration": 0,
    "start_time": "2022-05-07T16:19:39.875Z"
   },
   {
    "duration": 610,
    "start_time": "2022-05-07T16:19:51.494Z"
   },
   {
    "duration": 169,
    "start_time": "2022-05-07T16:19:52.106Z"
   },
   {
    "duration": 117,
    "start_time": "2022-05-07T16:19:52.277Z"
   },
   {
    "duration": 20,
    "start_time": "2022-05-07T16:19:52.397Z"
   },
   {
    "duration": 36,
    "start_time": "2022-05-07T16:19:52.420Z"
   },
   {
    "duration": 33,
    "start_time": "2022-05-07T16:19:52.458Z"
   },
   {
    "duration": 15,
    "start_time": "2022-05-07T16:19:52.493Z"
   },
   {
    "duration": 132,
    "start_time": "2022-05-07T16:19:52.510Z"
   },
   {
    "duration": 200,
    "start_time": "2022-05-07T16:19:52.644Z"
   },
   {
    "duration": 11,
    "start_time": "2022-05-07T16:19:52.847Z"
   },
   {
    "duration": 40,
    "start_time": "2022-05-07T16:19:52.860Z"
   },
   {
    "duration": 130,
    "start_time": "2022-05-07T16:19:52.902Z"
   },
   {
    "duration": 3,
    "start_time": "2022-05-07T16:19:53.034Z"
   },
   {
    "duration": 101,
    "start_time": "2022-05-07T16:19:53.038Z"
   },
   {
    "duration": 60,
    "start_time": "2022-05-07T16:19:53.140Z"
   },
   {
    "duration": 107,
    "start_time": "2022-05-07T16:19:53.202Z"
   },
   {
    "duration": 26,
    "start_time": "2022-05-07T16:19:53.311Z"
   },
   {
    "duration": 76,
    "start_time": "2022-05-07T16:19:53.339Z"
   },
   {
    "duration": 7,
    "start_time": "2022-05-07T16:19:53.417Z"
   },
   {
    "duration": 19,
    "start_time": "2022-05-07T16:19:53.425Z"
   },
   {
    "duration": 7,
    "start_time": "2022-05-07T16:19:53.446Z"
   },
   {
    "duration": 87,
    "start_time": "2022-05-07T16:19:53.455Z"
   },
   {
    "duration": 69,
    "start_time": "2022-05-07T16:19:53.544Z"
   },
   {
    "duration": 9,
    "start_time": "2022-05-07T16:19:53.615Z"
   },
   {
    "duration": 12,
    "start_time": "2022-05-07T16:19:53.625Z"
   },
   {
    "duration": 18,
    "start_time": "2022-05-07T16:19:53.638Z"
   },
   {
    "duration": 14,
    "start_time": "2022-05-07T16:19:53.658Z"
   },
   {
    "duration": 40,
    "start_time": "2022-05-07T16:19:53.676Z"
   },
   {
    "duration": 7,
    "start_time": "2022-05-07T16:19:53.718Z"
   },
   {
    "duration": 29,
    "start_time": "2022-05-07T16:19:53.726Z"
   },
   {
    "duration": 16,
    "start_time": "2022-05-07T16:19:53.757Z"
   },
   {
    "duration": 6,
    "start_time": "2022-05-07T16:19:53.775Z"
   },
   {
    "duration": 12,
    "start_time": "2022-05-07T16:19:53.782Z"
   },
   {
    "duration": 12,
    "start_time": "2022-05-07T16:19:53.795Z"
   },
   {
    "duration": 67,
    "start_time": "2022-05-07T16:19:53.809Z"
   },
   {
    "duration": 24,
    "start_time": "2022-05-07T16:19:53.878Z"
   },
   {
    "duration": 8,
    "start_time": "2022-05-07T16:19:53.903Z"
   },
   {
    "duration": 12,
    "start_time": "2022-05-07T16:19:53.912Z"
   },
   {
    "duration": 4,
    "start_time": "2022-05-07T16:19:53.926Z"
   },
   {
    "duration": 6,
    "start_time": "2022-05-07T16:19:53.932Z"
   },
   {
    "duration": 35,
    "start_time": "2022-05-07T16:19:53.939Z"
   },
   {
    "duration": 6,
    "start_time": "2022-05-07T16:19:53.976Z"
   },
   {
    "duration": 6,
    "start_time": "2022-05-07T16:19:53.983Z"
   },
   {
    "duration": 13,
    "start_time": "2022-05-07T16:19:53.990Z"
   },
   {
    "duration": 7,
    "start_time": "2022-05-07T16:19:54.004Z"
   },
   {
    "duration": 12,
    "start_time": "2022-05-07T16:19:54.012Z"
   },
   {
    "duration": 11,
    "start_time": "2022-05-07T16:19:54.026Z"
   },
   {
    "duration": 40,
    "start_time": "2022-05-07T16:19:54.039Z"
   },
   {
    "duration": 8,
    "start_time": "2022-05-07T16:19:54.081Z"
   },
   {
    "duration": 3,
    "start_time": "2022-05-07T16:19:54.090Z"
   },
   {
    "duration": 16,
    "start_time": "2022-05-07T16:19:54.095Z"
   },
   {
    "duration": 7,
    "start_time": "2022-05-07T16:19:54.112Z"
   },
   {
    "duration": 12,
    "start_time": "2022-05-07T16:19:54.120Z"
   },
   {
    "duration": 40,
    "start_time": "2022-05-07T16:19:54.133Z"
   },
   {
    "duration": 17,
    "start_time": "2022-05-07T16:19:54.175Z"
   },
   {
    "duration": 13,
    "start_time": "2022-05-07T16:19:54.193Z"
   },
   {
    "duration": 3,
    "start_time": "2022-05-07T16:19:54.208Z"
   },
   {
    "duration": 21,
    "start_time": "2022-05-07T16:19:54.212Z"
   },
   {
    "duration": 7,
    "start_time": "2022-05-07T16:19:54.234Z"
   },
   {
    "duration": 42,
    "start_time": "2022-05-07T16:19:54.242Z"
   },
   {
    "duration": 12,
    "start_time": "2022-05-07T16:19:54.286Z"
   },
   {
    "duration": 5,
    "start_time": "2022-05-07T16:19:54.300Z"
   },
   {
    "duration": 14,
    "start_time": "2022-05-07T16:19:54.306Z"
   },
   {
    "duration": 17,
    "start_time": "2022-05-07T16:19:54.322Z"
   },
   {
    "duration": 35,
    "start_time": "2022-05-07T16:19:54.340Z"
   },
   {
    "duration": 22,
    "start_time": "2022-05-07T16:19:54.376Z"
   },
   {
    "duration": 11,
    "start_time": "2022-05-07T16:19:54.400Z"
   },
   {
    "duration": 15,
    "start_time": "2022-05-07T16:19:54.413Z"
   },
   {
    "duration": 5,
    "start_time": "2022-05-07T16:21:28.898Z"
   },
   {
    "duration": 3,
    "start_time": "2022-05-07T16:21:29.433Z"
   },
   {
    "duration": 6,
    "start_time": "2022-05-07T16:21:29.930Z"
   },
   {
    "duration": 633,
    "start_time": "2022-05-07T16:22:15.173Z"
   },
   {
    "duration": 178,
    "start_time": "2022-05-07T16:22:15.808Z"
   },
   {
    "duration": 122,
    "start_time": "2022-05-07T16:22:15.987Z"
   },
   {
    "duration": 22,
    "start_time": "2022-05-07T16:22:16.111Z"
   },
   {
    "duration": 39,
    "start_time": "2022-05-07T16:22:16.135Z"
   },
   {
    "duration": 23,
    "start_time": "2022-05-07T16:22:16.176Z"
   },
   {
    "duration": 14,
    "start_time": "2022-05-07T16:22:16.201Z"
   },
   {
    "duration": 136,
    "start_time": "2022-05-07T16:22:16.216Z"
   },
   {
    "duration": 189,
    "start_time": "2022-05-07T16:22:16.354Z"
   },
   {
    "duration": 10,
    "start_time": "2022-05-07T16:22:16.546Z"
   },
   {
    "duration": 42,
    "start_time": "2022-05-07T16:22:16.558Z"
   },
   {
    "duration": 139,
    "start_time": "2022-05-07T16:22:16.602Z"
   },
   {
    "duration": 3,
    "start_time": "2022-05-07T16:22:16.743Z"
   },
   {
    "duration": 106,
    "start_time": "2022-05-07T16:22:16.747Z"
   },
   {
    "duration": 57,
    "start_time": "2022-05-07T16:22:16.855Z"
   },
   {
    "duration": 118,
    "start_time": "2022-05-07T16:22:16.914Z"
   },
   {
    "duration": 28,
    "start_time": "2022-05-07T16:22:17.034Z"
   },
   {
    "duration": 67,
    "start_time": "2022-05-07T16:22:17.072Z"
   },
   {
    "duration": 7,
    "start_time": "2022-05-07T16:22:17.141Z"
   },
   {
    "duration": 33,
    "start_time": "2022-05-07T16:22:17.150Z"
   },
   {
    "duration": 11,
    "start_time": "2022-05-07T16:22:17.185Z"
   },
   {
    "duration": 84,
    "start_time": "2022-05-07T16:22:17.198Z"
   },
   {
    "duration": 59,
    "start_time": "2022-05-07T16:22:17.285Z"
   },
   {
    "duration": 10,
    "start_time": "2022-05-07T16:22:17.346Z"
   },
   {
    "duration": 3,
    "start_time": "2022-05-07T16:22:17.374Z"
   },
   {
    "duration": 16,
    "start_time": "2022-05-07T16:22:17.379Z"
   },
   {
    "duration": 8,
    "start_time": "2022-05-07T16:22:17.397Z"
   },
   {
    "duration": 38,
    "start_time": "2022-05-07T16:22:17.409Z"
   },
   {
    "duration": 34,
    "start_time": "2022-05-07T16:22:17.448Z"
   },
   {
    "duration": 26,
    "start_time": "2022-05-07T16:22:17.484Z"
   },
   {
    "duration": 11,
    "start_time": "2022-05-07T16:22:17.512Z"
   },
   {
    "duration": 5,
    "start_time": "2022-05-07T16:22:17.525Z"
   },
   {
    "duration": 20,
    "start_time": "2022-05-07T16:22:17.531Z"
   },
   {
    "duration": 11,
    "start_time": "2022-05-07T16:22:17.573Z"
   },
   {
    "duration": 57,
    "start_time": "2022-05-07T16:22:17.586Z"
   },
   {
    "duration": 44,
    "start_time": "2022-05-07T16:22:17.645Z"
   },
   {
    "duration": 8,
    "start_time": "2022-05-07T16:22:17.691Z"
   },
   {
    "duration": 20,
    "start_time": "2022-05-07T16:22:17.700Z"
   },
   {
    "duration": 7,
    "start_time": "2022-05-07T16:22:17.722Z"
   },
   {
    "duration": 9,
    "start_time": "2022-05-07T16:22:17.731Z"
   },
   {
    "duration": 10,
    "start_time": "2022-05-07T16:22:17.741Z"
   },
   {
    "duration": 20,
    "start_time": "2022-05-07T16:22:17.753Z"
   },
   {
    "duration": 7,
    "start_time": "2022-05-07T16:22:17.775Z"
   },
   {
    "duration": 13,
    "start_time": "2022-05-07T16:22:17.784Z"
   },
   {
    "duration": 8,
    "start_time": "2022-05-07T16:22:17.799Z"
   },
   {
    "duration": 14,
    "start_time": "2022-05-07T16:22:17.808Z"
   },
   {
    "duration": 11,
    "start_time": "2022-05-07T16:22:17.823Z"
   },
   {
    "duration": 17,
    "start_time": "2022-05-07T16:22:17.836Z"
   },
   {
    "duration": 7,
    "start_time": "2022-05-07T16:22:17.873Z"
   },
   {
    "duration": 5,
    "start_time": "2022-05-07T16:22:17.882Z"
   },
   {
    "duration": 23,
    "start_time": "2022-05-07T16:22:17.888Z"
   },
   {
    "duration": 7,
    "start_time": "2022-05-07T16:22:17.913Z"
   },
   {
    "duration": 18,
    "start_time": "2022-05-07T16:22:17.922Z"
   },
   {
    "duration": 31,
    "start_time": "2022-05-07T16:22:17.942Z"
   },
   {
    "duration": 19,
    "start_time": "2022-05-07T16:22:17.975Z"
   },
   {
    "duration": 19,
    "start_time": "2022-05-07T16:22:17.996Z"
   },
   {
    "duration": 3,
    "start_time": "2022-05-07T16:22:18.017Z"
   },
   {
    "duration": 31,
    "start_time": "2022-05-07T16:22:18.022Z"
   },
   {
    "duration": 7,
    "start_time": "2022-05-07T16:22:18.054Z"
   },
   {
    "duration": 24,
    "start_time": "2022-05-07T16:22:18.073Z"
   },
   {
    "duration": 13,
    "start_time": "2022-05-07T16:22:18.099Z"
   },
   {
    "duration": 10,
    "start_time": "2022-05-07T16:22:18.114Z"
   },
   {
    "duration": 12,
    "start_time": "2022-05-07T16:22:18.126Z"
   },
   {
    "duration": 49,
    "start_time": "2022-05-07T16:22:18.140Z"
   },
   {
    "duration": 6,
    "start_time": "2022-05-07T16:22:18.191Z"
   },
   {
    "duration": 27,
    "start_time": "2022-05-07T16:22:18.199Z"
   },
   {
    "duration": 7,
    "start_time": "2022-05-07T16:22:18.228Z"
   },
   {
    "duration": 39,
    "start_time": "2022-05-07T16:22:18.237Z"
   },
   {
    "duration": 8,
    "start_time": "2022-05-07T16:23:28.833Z"
   },
   {
    "duration": 24,
    "start_time": "2022-05-07T16:23:31.102Z"
   },
   {
    "duration": 6,
    "start_time": "2022-05-07T16:23:43.064Z"
   },
   {
    "duration": 24,
    "start_time": "2022-05-07T16:23:44.239Z"
   },
   {
    "duration": 8,
    "start_time": "2022-05-07T16:32:58.935Z"
   },
   {
    "duration": 23,
    "start_time": "2022-05-07T16:33:00.905Z"
   },
   {
    "duration": 28,
    "start_time": "2022-05-07T16:33:41.902Z"
   },
   {
    "duration": 5,
    "start_time": "2022-05-07T16:36:22.552Z"
   },
   {
    "duration": 4,
    "start_time": "2022-05-07T16:36:23.100Z"
   },
   {
    "duration": 6,
    "start_time": "2022-05-07T16:36:24.291Z"
   },
   {
    "duration": 30,
    "start_time": "2022-05-07T16:36:32.974Z"
   },
   {
    "duration": 22,
    "start_time": "2022-05-07T16:37:03.837Z"
   },
   {
    "duration": 1678,
    "start_time": "2022-05-07T16:37:39.658Z"
   },
   {
    "duration": 7,
    "start_time": "2022-05-07T16:37:47.836Z"
   },
   {
    "duration": 28,
    "start_time": "2022-05-07T16:38:19.009Z"
   },
   {
    "duration": 6,
    "start_time": "2022-05-07T16:38:21.687Z"
   },
   {
    "duration": 23,
    "start_time": "2022-05-07T16:38:22.918Z"
   },
   {
    "duration": 30,
    "start_time": "2022-05-07T16:38:37.547Z"
   },
   {
    "duration": 27,
    "start_time": "2022-05-07T16:38:41.111Z"
   },
   {
    "duration": 28,
    "start_time": "2022-05-07T16:38:45.796Z"
   },
   {
    "duration": 12,
    "start_time": "2022-05-07T16:38:55.065Z"
   },
   {
    "duration": 21,
    "start_time": "2022-05-07T16:39:02.537Z"
   },
   {
    "duration": 21,
    "start_time": "2022-05-07T16:39:06.442Z"
   },
   {
    "duration": 25,
    "start_time": "2022-05-07T16:39:12.987Z"
   },
   {
    "duration": 37,
    "start_time": "2022-05-07T16:39:20.657Z"
   },
   {
    "duration": 18,
    "start_time": "2022-05-07T16:39:24.172Z"
   },
   {
    "duration": 24,
    "start_time": "2022-05-07T16:39:27.853Z"
   },
   {
    "duration": 21,
    "start_time": "2022-05-07T16:39:32.517Z"
   },
   {
    "duration": 18,
    "start_time": "2022-05-07T16:39:36.418Z"
   },
   {
    "duration": 22,
    "start_time": "2022-05-07T16:39:42.170Z"
   },
   {
    "duration": 21,
    "start_time": "2022-05-07T16:39:50.267Z"
   },
   {
    "duration": 108,
    "start_time": "2022-05-07T16:42:17.549Z"
   },
   {
    "duration": 5,
    "start_time": "2022-05-07T16:42:28.765Z"
   },
   {
    "duration": 4,
    "start_time": "2022-05-07T16:42:31.190Z"
   },
   {
    "duration": 8,
    "start_time": "2022-05-07T16:42:32.278Z"
   },
   {
    "duration": 596,
    "start_time": "2022-05-07T16:42:52.582Z"
   },
   {
    "duration": 165,
    "start_time": "2022-05-07T16:42:53.180Z"
   },
   {
    "duration": 119,
    "start_time": "2022-05-07T16:42:53.346Z"
   },
   {
    "duration": 22,
    "start_time": "2022-05-07T16:42:53.468Z"
   },
   {
    "duration": 36,
    "start_time": "2022-05-07T16:42:53.492Z"
   },
   {
    "duration": 23,
    "start_time": "2022-05-07T16:42:53.530Z"
   },
   {
    "duration": 29,
    "start_time": "2022-05-07T16:42:53.555Z"
   },
   {
    "duration": 114,
    "start_time": "2022-05-07T16:42:53.585Z"
   },
   {
    "duration": 178,
    "start_time": "2022-05-07T16:42:53.701Z"
   },
   {
    "duration": 9,
    "start_time": "2022-05-07T16:42:53.882Z"
   },
   {
    "duration": 24,
    "start_time": "2022-05-07T16:42:53.893Z"
   },
   {
    "duration": 133,
    "start_time": "2022-05-07T16:42:53.919Z"
   },
   {
    "duration": 3,
    "start_time": "2022-05-07T16:42:54.053Z"
   },
   {
    "duration": 89,
    "start_time": "2022-05-07T16:42:54.057Z"
   },
   {
    "duration": 55,
    "start_time": "2022-05-07T16:42:54.148Z"
   },
   {
    "duration": 102,
    "start_time": "2022-05-07T16:42:54.204Z"
   },
   {
    "duration": 26,
    "start_time": "2022-05-07T16:42:54.307Z"
   },
   {
    "duration": 71,
    "start_time": "2022-05-07T16:42:54.335Z"
   },
   {
    "duration": 7,
    "start_time": "2022-05-07T16:42:54.407Z"
   },
   {
    "duration": 17,
    "start_time": "2022-05-07T16:42:54.416Z"
   },
   {
    "duration": 10,
    "start_time": "2022-05-07T16:42:54.435Z"
   },
   {
    "duration": 78,
    "start_time": "2022-05-07T16:42:54.447Z"
   },
   {
    "duration": 59,
    "start_time": "2022-05-07T16:42:54.527Z"
   },
   {
    "duration": 9,
    "start_time": "2022-05-07T16:42:54.588Z"
   },
   {
    "duration": 5,
    "start_time": "2022-05-07T16:42:54.599Z"
   },
   {
    "duration": 16,
    "start_time": "2022-05-07T16:42:54.605Z"
   },
   {
    "duration": 8,
    "start_time": "2022-05-07T16:42:54.622Z"
   },
   {
    "duration": 58,
    "start_time": "2022-05-07T16:42:54.634Z"
   },
   {
    "duration": 8,
    "start_time": "2022-05-07T16:42:54.694Z"
   },
   {
    "duration": 23,
    "start_time": "2022-05-07T16:42:54.704Z"
   },
   {
    "duration": 6,
    "start_time": "2022-05-07T16:42:54.729Z"
   },
   {
    "duration": 5,
    "start_time": "2022-05-07T16:42:54.737Z"
   },
   {
    "duration": 32,
    "start_time": "2022-05-07T16:42:54.743Z"
   },
   {
    "duration": 9,
    "start_time": "2022-05-07T16:42:54.776Z"
   },
   {
    "duration": 53,
    "start_time": "2022-05-07T16:42:54.787Z"
   },
   {
    "duration": 49,
    "start_time": "2022-05-07T16:42:54.841Z"
   },
   {
    "duration": 7,
    "start_time": "2022-05-07T16:42:54.892Z"
   },
   {
    "duration": 12,
    "start_time": "2022-05-07T16:42:54.900Z"
   },
   {
    "duration": 6,
    "start_time": "2022-05-07T16:42:54.913Z"
   },
   {
    "duration": 6,
    "start_time": "2022-05-07T16:42:54.920Z"
   },
   {
    "duration": 8,
    "start_time": "2022-05-07T16:42:54.928Z"
   },
   {
    "duration": 5,
    "start_time": "2022-05-07T16:42:54.937Z"
   },
   {
    "duration": 29,
    "start_time": "2022-05-07T16:42:54.944Z"
   },
   {
    "duration": 12,
    "start_time": "2022-05-07T16:42:54.975Z"
   },
   {
    "duration": 9,
    "start_time": "2022-05-07T16:42:54.989Z"
   },
   {
    "duration": 13,
    "start_time": "2022-05-07T16:42:54.999Z"
   },
   {
    "duration": 10,
    "start_time": "2022-05-07T16:42:55.014Z"
   },
   {
    "duration": 11,
    "start_time": "2022-05-07T16:42:55.026Z"
   },
   {
    "duration": 40,
    "start_time": "2022-05-07T16:42:55.038Z"
   },
   {
    "duration": 6,
    "start_time": "2022-05-07T16:42:55.080Z"
   },
   {
    "duration": 17,
    "start_time": "2022-05-07T16:42:55.087Z"
   },
   {
    "duration": 7,
    "start_time": "2022-05-07T16:42:55.105Z"
   },
   {
    "duration": 12,
    "start_time": "2022-05-07T16:42:55.114Z"
   },
   {
    "duration": 10,
    "start_time": "2022-05-07T16:42:55.127Z"
   },
   {
    "duration": 16,
    "start_time": "2022-05-07T16:42:55.138Z"
   },
   {
    "duration": 12,
    "start_time": "2022-05-07T16:42:55.172Z"
   },
   {
    "duration": 5,
    "start_time": "2022-05-07T16:42:55.186Z"
   },
   {
    "duration": 13,
    "start_time": "2022-05-07T16:42:55.193Z"
   },
   {
    "duration": 8,
    "start_time": "2022-05-07T16:42:55.207Z"
   },
   {
    "duration": 56,
    "start_time": "2022-05-07T16:42:55.217Z"
   },
   {
    "duration": 12,
    "start_time": "2022-05-07T16:42:55.275Z"
   },
   {
    "duration": 7,
    "start_time": "2022-05-07T16:42:55.289Z"
   },
   {
    "duration": 13,
    "start_time": "2022-05-07T16:42:55.298Z"
   },
   {
    "duration": 18,
    "start_time": "2022-05-07T16:42:55.312Z"
   },
   {
    "duration": 9,
    "start_time": "2022-05-07T16:42:55.332Z"
   },
   {
    "duration": 20,
    "start_time": "2022-05-07T16:42:55.373Z"
   },
   {
    "duration": 28,
    "start_time": "2022-05-07T16:42:55.395Z"
   },
   {
    "duration": 6,
    "start_time": "2022-05-07T16:42:55.426Z"
   },
   {
    "duration": 55,
    "start_time": "2022-05-07T16:42:55.434Z"
   },
   {
    "duration": 10,
    "start_time": "2022-05-07T16:45:56.912Z"
   },
   {
    "duration": 27,
    "start_time": "2022-05-07T16:45:58.766Z"
   },
   {
    "duration": 10,
    "start_time": "2022-05-07T16:46:32.055Z"
   },
   {
    "duration": 29,
    "start_time": "2022-05-07T16:46:32.691Z"
   },
   {
    "duration": 633,
    "start_time": "2022-05-07T16:47:04.454Z"
   },
   {
    "duration": 169,
    "start_time": "2022-05-07T16:47:05.089Z"
   },
   {
    "duration": 120,
    "start_time": "2022-05-07T16:47:05.260Z"
   },
   {
    "duration": 20,
    "start_time": "2022-05-07T16:47:05.382Z"
   },
   {
    "duration": 35,
    "start_time": "2022-05-07T16:47:05.403Z"
   },
   {
    "duration": 22,
    "start_time": "2022-05-07T16:47:05.439Z"
   },
   {
    "duration": 15,
    "start_time": "2022-05-07T16:47:05.474Z"
   },
   {
    "duration": 133,
    "start_time": "2022-05-07T16:47:05.490Z"
   },
   {
    "duration": 188,
    "start_time": "2022-05-07T16:47:05.624Z"
   },
   {
    "duration": 10,
    "start_time": "2022-05-07T16:47:05.815Z"
   },
   {
    "duration": 29,
    "start_time": "2022-05-07T16:47:05.826Z"
   },
   {
    "duration": 115,
    "start_time": "2022-05-07T16:47:05.873Z"
   },
   {
    "duration": 3,
    "start_time": "2022-05-07T16:47:05.990Z"
   },
   {
    "duration": 99,
    "start_time": "2022-05-07T16:47:05.995Z"
   },
   {
    "duration": 49,
    "start_time": "2022-05-07T16:47:06.096Z"
   },
   {
    "duration": 114,
    "start_time": "2022-05-07T16:47:06.147Z"
   },
   {
    "duration": 27,
    "start_time": "2022-05-07T16:47:06.263Z"
   },
   {
    "duration": 57,
    "start_time": "2022-05-07T16:47:06.292Z"
   },
   {
    "duration": 24,
    "start_time": "2022-05-07T16:47:06.350Z"
   },
   {
    "duration": 17,
    "start_time": "2022-05-07T16:47:06.377Z"
   },
   {
    "duration": 7,
    "start_time": "2022-05-07T16:47:06.396Z"
   },
   {
    "duration": 89,
    "start_time": "2022-05-07T16:47:06.405Z"
   },
   {
    "duration": 54,
    "start_time": "2022-05-07T16:47:06.496Z"
   },
   {
    "duration": 26,
    "start_time": "2022-05-07T16:47:06.552Z"
   },
   {
    "duration": 4,
    "start_time": "2022-05-07T16:47:06.580Z"
   },
   {
    "duration": 13,
    "start_time": "2022-05-07T16:47:06.585Z"
   },
   {
    "duration": 10,
    "start_time": "2022-05-07T16:47:06.600Z"
   },
   {
    "duration": 37,
    "start_time": "2022-05-07T16:47:06.614Z"
   },
   {
    "duration": 9,
    "start_time": "2022-05-07T16:47:06.673Z"
   },
   {
    "duration": 23,
    "start_time": "2022-05-07T16:47:06.683Z"
   },
   {
    "duration": 10,
    "start_time": "2022-05-07T16:47:06.708Z"
   },
   {
    "duration": 6,
    "start_time": "2022-05-07T16:47:06.719Z"
   },
   {
    "duration": 14,
    "start_time": "2022-05-07T16:47:06.726Z"
   },
   {
    "duration": 11,
    "start_time": "2022-05-07T16:47:06.742Z"
   },
   {
    "duration": 52,
    "start_time": "2022-05-07T16:47:06.773Z"
   },
   {
    "duration": 25,
    "start_time": "2022-05-07T16:47:06.827Z"
   },
   {
    "duration": 25,
    "start_time": "2022-05-07T16:47:06.853Z"
   },
   {
    "duration": 12,
    "start_time": "2022-05-07T16:47:06.879Z"
   },
   {
    "duration": 6,
    "start_time": "2022-05-07T16:47:06.892Z"
   },
   {
    "duration": 5,
    "start_time": "2022-05-07T16:47:06.900Z"
   },
   {
    "duration": 8,
    "start_time": "2022-05-07T16:47:06.907Z"
   },
   {
    "duration": 9,
    "start_time": "2022-05-07T16:47:06.916Z"
   },
   {
    "duration": 11,
    "start_time": "2022-05-07T16:47:06.926Z"
   },
   {
    "duration": 14,
    "start_time": "2022-05-07T16:47:06.939Z"
   },
   {
    "duration": 22,
    "start_time": "2022-05-07T16:47:06.955Z"
   },
   {
    "duration": 13,
    "start_time": "2022-05-07T16:47:06.979Z"
   },
   {
    "duration": 10,
    "start_time": "2022-05-07T16:47:06.995Z"
   },
   {
    "duration": 16,
    "start_time": "2022-05-07T16:47:07.006Z"
   },
   {
    "duration": 10,
    "start_time": "2022-05-07T16:47:07.023Z"
   },
   {
    "duration": 6,
    "start_time": "2022-05-07T16:47:07.034Z"
   },
   {
    "duration": 40,
    "start_time": "2022-05-07T16:47:07.042Z"
   },
   {
    "duration": 8,
    "start_time": "2022-05-07T16:47:07.084Z"
   },
   {
    "duration": 14,
    "start_time": "2022-05-07T16:47:07.094Z"
   },
   {
    "duration": 11,
    "start_time": "2022-05-07T16:47:07.109Z"
   },
   {
    "duration": 17,
    "start_time": "2022-05-07T16:47:07.122Z"
   },
   {
    "duration": 35,
    "start_time": "2022-05-07T16:47:07.140Z"
   },
   {
    "duration": 3,
    "start_time": "2022-05-07T16:47:07.177Z"
   },
   {
    "duration": 17,
    "start_time": "2022-05-07T16:47:07.182Z"
   },
   {
    "duration": 6,
    "start_time": "2022-05-07T16:47:07.201Z"
   },
   {
    "duration": 23,
    "start_time": "2022-05-07T16:47:07.209Z"
   },
   {
    "duration": 43,
    "start_time": "2022-05-07T16:47:07.234Z"
   },
   {
    "duration": 6,
    "start_time": "2022-05-07T16:47:07.280Z"
   },
   {
    "duration": 12,
    "start_time": "2022-05-07T16:47:07.288Z"
   },
   {
    "duration": 17,
    "start_time": "2022-05-07T16:47:07.302Z"
   },
   {
    "duration": 9,
    "start_time": "2022-05-07T16:47:07.320Z"
   },
   {
    "duration": 61,
    "start_time": "2022-05-07T16:47:07.331Z"
   },
   {
    "duration": 6,
    "start_time": "2022-05-07T16:47:07.393Z"
   },
   {
    "duration": 27,
    "start_time": "2022-05-07T16:47:07.401Z"
   },
   {
    "duration": 11,
    "start_time": "2022-05-07T16:50:18.908Z"
   },
   {
    "duration": 29,
    "start_time": "2022-05-07T16:50:21.307Z"
   },
   {
    "duration": 12,
    "start_time": "2022-05-07T16:51:04.121Z"
   },
   {
    "duration": 28,
    "start_time": "2022-05-07T16:51:04.714Z"
   },
   {
    "duration": 11,
    "start_time": "2022-05-07T16:52:00.107Z"
   },
   {
    "duration": 30,
    "start_time": "2022-05-07T16:52:00.487Z"
   },
   {
    "duration": 610,
    "start_time": "2022-05-07T16:52:13.623Z"
   },
   {
    "duration": 184,
    "start_time": "2022-05-07T16:52:14.235Z"
   },
   {
    "duration": 128,
    "start_time": "2022-05-07T16:52:14.423Z"
   },
   {
    "duration": 25,
    "start_time": "2022-05-07T16:52:14.553Z"
   },
   {
    "duration": 36,
    "start_time": "2022-05-07T16:52:14.580Z"
   },
   {
    "duration": 22,
    "start_time": "2022-05-07T16:52:14.618Z"
   },
   {
    "duration": 15,
    "start_time": "2022-05-07T16:52:14.641Z"
   },
   {
    "duration": 119,
    "start_time": "2022-05-07T16:52:14.674Z"
   },
   {
    "duration": 202,
    "start_time": "2022-05-07T16:52:14.796Z"
   },
   {
    "duration": 12,
    "start_time": "2022-05-07T16:52:15.000Z"
   },
   {
    "duration": 43,
    "start_time": "2022-05-07T16:52:15.014Z"
   },
   {
    "duration": 123,
    "start_time": "2022-05-07T16:52:15.059Z"
   },
   {
    "duration": 2,
    "start_time": "2022-05-07T16:52:15.184Z"
   },
   {
    "duration": 88,
    "start_time": "2022-05-07T16:52:15.188Z"
   },
   {
    "duration": 45,
    "start_time": "2022-05-07T16:52:15.278Z"
   },
   {
    "duration": 110,
    "start_time": "2022-05-07T16:52:15.325Z"
   },
   {
    "duration": 25,
    "start_time": "2022-05-07T16:52:15.437Z"
   },
   {
    "duration": 64,
    "start_time": "2022-05-07T16:52:15.464Z"
   },
   {
    "duration": 7,
    "start_time": "2022-05-07T16:52:15.529Z"
   },
   {
    "duration": 36,
    "start_time": "2022-05-07T16:52:15.538Z"
   },
   {
    "duration": 5,
    "start_time": "2022-05-07T16:52:15.575Z"
   },
   {
    "duration": 70,
    "start_time": "2022-05-07T16:52:15.582Z"
   },
   {
    "duration": 63,
    "start_time": "2022-05-07T16:52:15.654Z"
   },
   {
    "duration": 10,
    "start_time": "2022-05-07T16:52:15.718Z"
   },
   {
    "duration": 8,
    "start_time": "2022-05-07T16:52:15.729Z"
   },
   {
    "duration": 14,
    "start_time": "2022-05-07T16:52:15.739Z"
   },
   {
    "duration": 8,
    "start_time": "2022-05-07T16:52:15.774Z"
   },
   {
    "duration": 39,
    "start_time": "2022-05-07T16:52:15.784Z"
   },
   {
    "duration": 7,
    "start_time": "2022-05-07T16:52:15.824Z"
   },
   {
    "duration": 40,
    "start_time": "2022-05-07T16:52:15.833Z"
   },
   {
    "duration": 7,
    "start_time": "2022-05-07T16:52:15.875Z"
   },
   {
    "duration": 5,
    "start_time": "2022-05-07T16:52:15.883Z"
   },
   {
    "duration": 18,
    "start_time": "2022-05-07T16:52:15.889Z"
   },
   {
    "duration": 14,
    "start_time": "2022-05-07T16:52:15.908Z"
   },
   {
    "duration": 63,
    "start_time": "2022-05-07T16:52:15.923Z"
   },
   {
    "duration": 25,
    "start_time": "2022-05-07T16:52:15.988Z"
   },
   {
    "duration": 7,
    "start_time": "2022-05-07T16:52:16.015Z"
   },
   {
    "duration": 11,
    "start_time": "2022-05-07T16:52:16.024Z"
   },
   {
    "duration": 4,
    "start_time": "2022-05-07T16:52:16.037Z"
   },
   {
    "duration": 31,
    "start_time": "2022-05-07T16:52:16.043Z"
   },
   {
    "duration": 6,
    "start_time": "2022-05-07T16:52:16.076Z"
   },
   {
    "duration": 6,
    "start_time": "2022-05-07T16:52:16.083Z"
   },
   {
    "duration": 4,
    "start_time": "2022-05-07T16:52:16.091Z"
   },
   {
    "duration": 12,
    "start_time": "2022-05-07T16:52:16.096Z"
   },
   {
    "duration": 7,
    "start_time": "2022-05-07T16:52:16.109Z"
   },
   {
    "duration": 12,
    "start_time": "2022-05-07T16:52:16.117Z"
   },
   {
    "duration": 10,
    "start_time": "2022-05-07T16:52:16.131Z"
   },
   {
    "duration": 9,
    "start_time": "2022-05-07T16:52:16.174Z"
   },
   {
    "duration": 11,
    "start_time": "2022-05-07T16:52:16.185Z"
   },
   {
    "duration": 5,
    "start_time": "2022-05-07T16:52:16.198Z"
   },
   {
    "duration": 17,
    "start_time": "2022-05-07T16:52:16.205Z"
   },
   {
    "duration": 7,
    "start_time": "2022-05-07T16:52:16.224Z"
   },
   {
    "duration": 12,
    "start_time": "2022-05-07T16:52:16.232Z"
   },
   {
    "duration": 32,
    "start_time": "2022-05-07T16:52:16.245Z"
   },
   {
    "duration": 16,
    "start_time": "2022-05-07T16:52:16.279Z"
   },
   {
    "duration": 13,
    "start_time": "2022-05-07T16:52:16.297Z"
   },
   {
    "duration": 4,
    "start_time": "2022-05-07T16:52:16.311Z"
   },
   {
    "duration": 13,
    "start_time": "2022-05-07T16:52:16.316Z"
   },
   {
    "duration": 7,
    "start_time": "2022-05-07T16:52:16.331Z"
   },
   {
    "duration": 48,
    "start_time": "2022-05-07T16:52:16.340Z"
   },
   {
    "duration": 11,
    "start_time": "2022-05-07T16:52:16.390Z"
   },
   {
    "duration": 4,
    "start_time": "2022-05-07T16:52:16.403Z"
   },
   {
    "duration": 12,
    "start_time": "2022-05-07T16:52:16.409Z"
   },
   {
    "duration": 19,
    "start_time": "2022-05-07T16:52:16.423Z"
   },
   {
    "duration": 39,
    "start_time": "2022-05-07T16:52:16.443Z"
   },
   {
    "duration": 30,
    "start_time": "2022-05-07T16:52:16.483Z"
   },
   {
    "duration": 5,
    "start_time": "2022-05-07T16:52:16.515Z"
   },
   {
    "duration": 52,
    "start_time": "2022-05-07T16:52:16.522Z"
   },
   {
    "duration": 6,
    "start_time": "2022-05-07T16:53:42.745Z"
   },
   {
    "duration": 31,
    "start_time": "2022-05-07T16:55:21.686Z"
   },
   {
    "duration": 619,
    "start_time": "2022-05-07T16:55:26.780Z"
   },
   {
    "duration": 173,
    "start_time": "2022-05-07T16:55:27.403Z"
   },
   {
    "duration": 116,
    "start_time": "2022-05-07T16:55:27.578Z"
   },
   {
    "duration": 23,
    "start_time": "2022-05-07T16:55:27.696Z"
   },
   {
    "duration": 37,
    "start_time": "2022-05-07T16:55:27.721Z"
   },
   {
    "duration": 33,
    "start_time": "2022-05-07T16:55:27.760Z"
   },
   {
    "duration": 15,
    "start_time": "2022-05-07T16:55:27.794Z"
   },
   {
    "duration": 130,
    "start_time": "2022-05-07T16:55:27.811Z"
   },
   {
    "duration": 180,
    "start_time": "2022-05-07T16:55:27.944Z"
   },
   {
    "duration": 9,
    "start_time": "2022-05-07T16:55:28.126Z"
   },
   {
    "duration": 42,
    "start_time": "2022-05-07T16:55:28.137Z"
   },
   {
    "duration": 108,
    "start_time": "2022-05-07T16:55:28.181Z"
   },
   {
    "duration": 2,
    "start_time": "2022-05-07T16:55:28.291Z"
   },
   {
    "duration": 95,
    "start_time": "2022-05-07T16:55:28.294Z"
   },
   {
    "duration": 54,
    "start_time": "2022-05-07T16:55:28.391Z"
   },
   {
    "duration": 114,
    "start_time": "2022-05-07T16:55:28.446Z"
   },
   {
    "duration": 33,
    "start_time": "2022-05-07T16:55:28.562Z"
   },
   {
    "duration": 58,
    "start_time": "2022-05-07T16:55:28.596Z"
   },
   {
    "duration": 24,
    "start_time": "2022-05-07T16:55:28.655Z"
   },
   {
    "duration": 20,
    "start_time": "2022-05-07T16:55:28.680Z"
   },
   {
    "duration": 8,
    "start_time": "2022-05-07T16:55:28.701Z"
   },
   {
    "duration": 84,
    "start_time": "2022-05-07T16:55:28.710Z"
   },
   {
    "duration": 54,
    "start_time": "2022-05-07T16:55:28.795Z"
   },
   {
    "duration": 22,
    "start_time": "2022-05-07T16:55:28.851Z"
   },
   {
    "duration": 3,
    "start_time": "2022-05-07T16:55:28.875Z"
   },
   {
    "duration": 18,
    "start_time": "2022-05-07T16:55:28.879Z"
   },
   {
    "duration": 8,
    "start_time": "2022-05-07T16:55:28.901Z"
   },
   {
    "duration": 39,
    "start_time": "2022-05-07T16:55:28.911Z"
   },
   {
    "duration": 27,
    "start_time": "2022-05-07T16:55:28.952Z"
   },
   {
    "duration": 28,
    "start_time": "2022-05-07T16:55:28.981Z"
   },
   {
    "duration": 7,
    "start_time": "2022-05-07T16:55:29.010Z"
   },
   {
    "duration": 4,
    "start_time": "2022-05-07T16:55:29.018Z"
   },
   {
    "duration": 16,
    "start_time": "2022-05-07T16:55:29.024Z"
   },
   {
    "duration": 19,
    "start_time": "2022-05-07T16:55:29.042Z"
   },
   {
    "duration": 51,
    "start_time": "2022-05-07T16:55:29.074Z"
   },
   {
    "duration": 24,
    "start_time": "2022-05-07T16:55:29.126Z"
   },
   {
    "duration": 27,
    "start_time": "2022-05-07T16:55:29.152Z"
   },
   {
    "duration": 11,
    "start_time": "2022-05-07T16:55:29.180Z"
   },
   {
    "duration": 4,
    "start_time": "2022-05-07T16:55:29.193Z"
   },
   {
    "duration": 8,
    "start_time": "2022-05-07T16:55:29.199Z"
   },
   {
    "duration": 9,
    "start_time": "2022-05-07T16:55:29.208Z"
   },
   {
    "duration": 7,
    "start_time": "2022-05-07T16:55:29.218Z"
   },
   {
    "duration": 6,
    "start_time": "2022-05-07T16:55:29.227Z"
   },
   {
    "duration": 12,
    "start_time": "2022-05-07T16:55:29.235Z"
   },
   {
    "duration": 29,
    "start_time": "2022-05-07T16:55:29.249Z"
   },
   {
    "duration": 13,
    "start_time": "2022-05-07T16:55:29.279Z"
   },
   {
    "duration": 10,
    "start_time": "2022-05-07T16:55:29.293Z"
   },
   {
    "duration": 13,
    "start_time": "2022-05-07T16:55:29.304Z"
   },
   {
    "duration": 8,
    "start_time": "2022-05-07T16:55:29.319Z"
   },
   {
    "duration": 4,
    "start_time": "2022-05-07T16:55:29.328Z"
   },
   {
    "duration": 43,
    "start_time": "2022-05-07T16:55:29.333Z"
   },
   {
    "duration": 7,
    "start_time": "2022-05-07T16:55:29.378Z"
   },
   {
    "duration": 12,
    "start_time": "2022-05-07T16:55:29.386Z"
   },
   {
    "duration": 8,
    "start_time": "2022-05-07T16:55:29.399Z"
   },
   {
    "duration": 15,
    "start_time": "2022-05-07T16:55:29.409Z"
   },
   {
    "duration": 12,
    "start_time": "2022-05-07T16:55:29.426Z"
   },
   {
    "duration": 4,
    "start_time": "2022-05-07T16:55:29.439Z"
   },
   {
    "duration": 12,
    "start_time": "2022-05-07T16:55:29.474Z"
   },
   {
    "duration": 7,
    "start_time": "2022-05-07T16:55:29.487Z"
   },
   {
    "duration": 22,
    "start_time": "2022-05-07T16:55:29.495Z"
   },
   {
    "duration": 11,
    "start_time": "2022-05-07T16:55:29.519Z"
   },
   {
    "duration": 5,
    "start_time": "2022-05-07T16:55:29.531Z"
   },
   {
    "duration": 44,
    "start_time": "2022-05-07T16:55:29.537Z"
   },
   {
    "duration": 21,
    "start_time": "2022-05-07T16:55:29.583Z"
   },
   {
    "duration": 8,
    "start_time": "2022-05-07T16:55:29.606Z"
   },
   {
    "duration": 35,
    "start_time": "2022-05-07T16:55:29.615Z"
   },
   {
    "duration": 27,
    "start_time": "2022-05-07T16:55:29.651Z"
   },
   {
    "duration": 31,
    "start_time": "2022-05-07T16:55:29.680Z"
   },
   {
    "duration": 6,
    "start_time": "2022-05-07T16:55:29.712Z"
   },
   {
    "duration": 24,
    "start_time": "2022-05-07T16:55:29.719Z"
   },
   {
    "duration": 650,
    "start_time": "2022-05-07T16:56:29.463Z"
   },
   {
    "duration": 166,
    "start_time": "2022-05-07T16:56:30.115Z"
   },
   {
    "duration": 116,
    "start_time": "2022-05-07T16:56:30.283Z"
   },
   {
    "duration": 22,
    "start_time": "2022-05-07T16:56:30.401Z"
   },
   {
    "duration": 35,
    "start_time": "2022-05-07T16:56:30.424Z"
   },
   {
    "duration": 28,
    "start_time": "2022-05-07T16:56:30.461Z"
   },
   {
    "duration": 14,
    "start_time": "2022-05-07T16:56:30.491Z"
   },
   {
    "duration": 132,
    "start_time": "2022-05-07T16:56:30.506Z"
   },
   {
    "duration": 196,
    "start_time": "2022-05-07T16:56:30.639Z"
   },
   {
    "duration": 10,
    "start_time": "2022-05-07T16:56:30.838Z"
   },
   {
    "duration": 43,
    "start_time": "2022-05-07T16:56:30.850Z"
   },
   {
    "duration": 121,
    "start_time": "2022-05-07T16:56:30.895Z"
   },
   {
    "duration": 3,
    "start_time": "2022-05-07T16:56:31.017Z"
   },
   {
    "duration": 96,
    "start_time": "2022-05-07T16:56:31.021Z"
   },
   {
    "duration": 62,
    "start_time": "2022-05-07T16:56:31.119Z"
   },
   {
    "duration": 99,
    "start_time": "2022-05-07T16:56:31.183Z"
   },
   {
    "duration": 27,
    "start_time": "2022-05-07T16:56:31.284Z"
   },
   {
    "duration": 78,
    "start_time": "2022-05-07T16:56:31.313Z"
   },
   {
    "duration": 7,
    "start_time": "2022-05-07T16:56:31.393Z"
   },
   {
    "duration": 20,
    "start_time": "2022-05-07T16:56:31.402Z"
   },
   {
    "duration": 7,
    "start_time": "2022-05-07T16:56:31.424Z"
   },
   {
    "duration": 84,
    "start_time": "2022-05-07T16:56:31.433Z"
   },
   {
    "duration": 68,
    "start_time": "2022-05-07T16:56:31.519Z"
   },
   {
    "duration": 11,
    "start_time": "2022-05-07T16:56:31.589Z"
   },
   {
    "duration": 11,
    "start_time": "2022-05-07T16:56:31.602Z"
   },
   {
    "duration": 20,
    "start_time": "2022-05-07T16:56:31.615Z"
   },
   {
    "duration": 11,
    "start_time": "2022-05-07T16:56:31.638Z"
   },
   {
    "duration": 51,
    "start_time": "2022-05-07T16:56:31.655Z"
   },
   {
    "duration": 9,
    "start_time": "2022-05-07T16:56:31.708Z"
   },
   {
    "duration": 25,
    "start_time": "2022-05-07T16:56:31.718Z"
   },
   {
    "duration": 6,
    "start_time": "2022-05-07T16:56:31.745Z"
   },
   {
    "duration": 3,
    "start_time": "2022-05-07T16:56:31.774Z"
   },
   {
    "duration": 16,
    "start_time": "2022-05-07T16:56:31.778Z"
   },
   {
    "duration": 14,
    "start_time": "2022-05-07T16:56:31.796Z"
   },
   {
    "duration": 73,
    "start_time": "2022-05-07T16:56:31.812Z"
   },
   {
    "duration": 26,
    "start_time": "2022-05-07T16:56:31.886Z"
   },
   {
    "duration": 10,
    "start_time": "2022-05-07T16:56:31.914Z"
   },
   {
    "duration": 14,
    "start_time": "2022-05-07T16:56:31.926Z"
   },
   {
    "duration": 19,
    "start_time": "2022-05-07T16:56:31.942Z"
   },
   {
    "duration": 14,
    "start_time": "2022-05-07T16:56:31.963Z"
   },
   {
    "duration": 18,
    "start_time": "2022-05-07T16:56:31.978Z"
   },
   {
    "duration": 17,
    "start_time": "2022-05-07T16:56:31.997Z"
   },
   {
    "duration": 13,
    "start_time": "2022-05-07T16:56:32.015Z"
   },
   {
    "duration": 25,
    "start_time": "2022-05-07T16:56:32.030Z"
   },
   {
    "duration": 11,
    "start_time": "2022-05-07T16:56:32.057Z"
   },
   {
    "duration": 13,
    "start_time": "2022-05-07T16:56:32.070Z"
   },
   {
    "duration": 10,
    "start_time": "2022-05-07T16:56:32.085Z"
   },
   {
    "duration": 16,
    "start_time": "2022-05-07T16:56:32.097Z"
   },
   {
    "duration": 13,
    "start_time": "2022-05-07T16:56:32.115Z"
   },
   {
    "duration": 5,
    "start_time": "2022-05-07T16:56:32.130Z"
   },
   {
    "duration": 48,
    "start_time": "2022-05-07T16:56:32.137Z"
   },
   {
    "duration": 9,
    "start_time": "2022-05-07T16:56:32.187Z"
   },
   {
    "duration": 25,
    "start_time": "2022-05-07T16:56:32.197Z"
   },
   {
    "duration": 11,
    "start_time": "2022-05-07T16:56:32.224Z"
   },
   {
    "duration": 26,
    "start_time": "2022-05-07T16:56:32.237Z"
   },
   {
    "duration": 19,
    "start_time": "2022-05-07T16:56:32.264Z"
   },
   {
    "duration": 14,
    "start_time": "2022-05-07T16:56:32.285Z"
   },
   {
    "duration": 17,
    "start_time": "2022-05-07T16:56:32.300Z"
   },
   {
    "duration": 18,
    "start_time": "2022-05-07T16:56:32.318Z"
   },
   {
    "duration": 42,
    "start_time": "2022-05-07T16:56:32.338Z"
   },
   {
    "duration": 18,
    "start_time": "2022-05-07T16:56:32.382Z"
   },
   {
    "duration": 6,
    "start_time": "2022-05-07T16:56:32.401Z"
   },
   {
    "duration": 21,
    "start_time": "2022-05-07T16:56:32.408Z"
   },
   {
    "duration": 19,
    "start_time": "2022-05-07T16:56:32.431Z"
   },
   {
    "duration": 21,
    "start_time": "2022-05-07T16:56:32.452Z"
   },
   {
    "duration": 29,
    "start_time": "2022-05-07T16:56:32.474Z"
   },
   {
    "duration": 6,
    "start_time": "2022-05-07T16:56:32.505Z"
   },
   {
    "duration": 28,
    "start_time": "2022-05-07T16:56:32.512Z"
   },
   {
    "duration": 32,
    "start_time": "2022-05-07T16:56:32.542Z"
   },
   {
    "duration": 25,
    "start_time": "2022-05-07T16:56:32.576Z"
   },
   {
    "duration": 12,
    "start_time": "2022-05-07T17:12:27.619Z"
   },
   {
    "duration": 5,
    "start_time": "2022-05-07T17:13:00.517Z"
   },
   {
    "duration": 5,
    "start_time": "2022-05-07T17:13:07.670Z"
   },
   {
    "duration": 21,
    "start_time": "2022-05-07T17:13:14.753Z"
   },
   {
    "duration": 4,
    "start_time": "2022-05-07T17:17:36.735Z"
   },
   {
    "duration": 4,
    "start_time": "2022-05-07T17:17:42.661Z"
   },
   {
    "duration": 4,
    "start_time": "2022-05-07T17:18:11.464Z"
   },
   {
    "duration": 5,
    "start_time": "2022-05-07T17:22:30.725Z"
   },
   {
    "duration": 8,
    "start_time": "2022-05-07T17:23:44.885Z"
   },
   {
    "duration": 6,
    "start_time": "2022-05-07T17:29:24.336Z"
   },
   {
    "duration": 6,
    "start_time": "2022-05-07T17:29:36.530Z"
   },
   {
    "duration": 6,
    "start_time": "2022-05-07T17:29:47.267Z"
   },
   {
    "duration": 5,
    "start_time": "2022-05-07T17:29:53.507Z"
   },
   {
    "duration": 7,
    "start_time": "2022-05-07T17:30:03.794Z"
   },
   {
    "duration": 6,
    "start_time": "2022-05-07T17:31:38.664Z"
   },
   {
    "duration": 6,
    "start_time": "2022-05-07T17:34:18.126Z"
   },
   {
    "duration": 406,
    "start_time": "2022-05-07T17:38:33.569Z"
   },
   {
    "duration": 134,
    "start_time": "2022-05-07T17:40:00.049Z"
   },
   {
    "duration": 122,
    "start_time": "2022-05-07T17:40:14.109Z"
   },
   {
    "duration": 135,
    "start_time": "2022-05-07T17:40:20.391Z"
   },
   {
    "duration": 193,
    "start_time": "2022-05-07T17:40:26.844Z"
   },
   {
    "duration": 118,
    "start_time": "2022-05-07T17:41:12.130Z"
   },
   {
    "duration": 130,
    "start_time": "2022-05-07T17:41:14.969Z"
   },
   {
    "duration": 126,
    "start_time": "2022-05-07T17:41:17.341Z"
   },
   {
    "duration": 125,
    "start_time": "2022-05-07T17:41:26.742Z"
   },
   {
    "duration": 131,
    "start_time": "2022-05-07T17:41:33.055Z"
   },
   {
    "duration": 136,
    "start_time": "2022-05-07T17:41:36.429Z"
   },
   {
    "duration": 130,
    "start_time": "2022-05-07T17:41:39.289Z"
   },
   {
    "duration": 148,
    "start_time": "2022-05-07T17:41:43.166Z"
   },
   {
    "duration": 2,
    "start_time": "2022-05-07T17:43:42.938Z"
   },
   {
    "duration": 24,
    "start_time": "2022-05-07T17:46:32.328Z"
   },
   {
    "duration": 24,
    "start_time": "2022-05-07T17:48:33.614Z"
   },
   {
    "duration": 6,
    "start_time": "2022-05-07T17:50:37.953Z"
   },
   {
    "duration": 7,
    "start_time": "2022-05-07T17:50:40.028Z"
   },
   {
    "duration": 6,
    "start_time": "2022-05-07T17:50:40.494Z"
   },
   {
    "duration": 152,
    "start_time": "2022-05-07T17:51:29.886Z"
   },
   {
    "duration": 123,
    "start_time": "2022-05-07T17:51:32.391Z"
   },
   {
    "duration": 222,
    "start_time": "2022-05-07T17:51:34.018Z"
   },
   {
    "duration": 141,
    "start_time": "2022-05-07T17:51:45.402Z"
   },
   {
    "duration": 139,
    "start_time": "2022-05-07T17:51:50.722Z"
   },
   {
    "duration": 135,
    "start_time": "2022-05-07T17:51:58.799Z"
   },
   {
    "duration": 141,
    "start_time": "2022-05-07T17:52:09.423Z"
   },
   {
    "duration": 140,
    "start_time": "2022-05-07T17:52:19.489Z"
   },
   {
    "duration": 138,
    "start_time": "2022-05-07T17:52:33.035Z"
   },
   {
    "duration": 142,
    "start_time": "2022-05-07T17:52:49.525Z"
   },
   {
    "duration": 126,
    "start_time": "2022-05-07T17:52:52.263Z"
   },
   {
    "duration": 130,
    "start_time": "2022-05-07T17:52:52.766Z"
   },
   {
    "duration": 142,
    "start_time": "2022-05-07T17:53:00.498Z"
   },
   {
    "duration": 235,
    "start_time": "2022-05-07T17:53:05.851Z"
   },
   {
    "duration": 632,
    "start_time": "2022-05-07T17:54:11.300Z"
   },
   {
    "duration": 178,
    "start_time": "2022-05-07T17:54:11.934Z"
   },
   {
    "duration": 116,
    "start_time": "2022-05-07T17:54:12.114Z"
   },
   {
    "duration": 21,
    "start_time": "2022-05-07T17:54:12.233Z"
   },
   {
    "duration": 37,
    "start_time": "2022-05-07T17:54:12.256Z"
   },
   {
    "duration": 23,
    "start_time": "2022-05-07T17:54:12.294Z"
   },
   {
    "duration": 14,
    "start_time": "2022-05-07T17:54:12.318Z"
   },
   {
    "duration": 144,
    "start_time": "2022-05-07T17:54:12.334Z"
   },
   {
    "duration": 204,
    "start_time": "2022-05-07T17:54:12.479Z"
   },
   {
    "duration": 10,
    "start_time": "2022-05-07T17:54:12.686Z"
   },
   {
    "duration": 28,
    "start_time": "2022-05-07T17:54:12.697Z"
   },
   {
    "duration": 138,
    "start_time": "2022-05-07T17:54:12.727Z"
   },
   {
    "duration": 7,
    "start_time": "2022-05-07T17:54:12.867Z"
   },
   {
    "duration": 100,
    "start_time": "2022-05-07T17:54:12.876Z"
   },
   {
    "duration": 52,
    "start_time": "2022-05-07T17:54:12.978Z"
   },
   {
    "duration": 116,
    "start_time": "2022-05-07T17:54:13.032Z"
   },
   {
    "duration": 36,
    "start_time": "2022-05-07T17:54:13.150Z"
   },
   {
    "duration": 59,
    "start_time": "2022-05-07T17:54:13.188Z"
   },
   {
    "duration": 25,
    "start_time": "2022-05-07T17:54:13.249Z"
   },
   {
    "duration": 18,
    "start_time": "2022-05-07T17:54:13.276Z"
   },
   {
    "duration": 10,
    "start_time": "2022-05-07T17:54:13.296Z"
   },
   {
    "duration": 78,
    "start_time": "2022-05-07T17:54:13.308Z"
   },
   {
    "duration": 54,
    "start_time": "2022-05-07T17:54:13.388Z"
   },
   {
    "duration": 10,
    "start_time": "2022-05-07T17:54:13.443Z"
   },
   {
    "duration": 18,
    "start_time": "2022-05-07T17:54:13.455Z"
   },
   {
    "duration": 13,
    "start_time": "2022-05-07T17:54:13.475Z"
   },
   {
    "duration": 15,
    "start_time": "2022-05-07T17:54:13.489Z"
   },
   {
    "duration": 37,
    "start_time": "2022-05-07T17:54:13.508Z"
   },
   {
    "duration": 29,
    "start_time": "2022-05-07T17:54:13.546Z"
   },
   {
    "duration": 26,
    "start_time": "2022-05-07T17:54:13.577Z"
   },
   {
    "duration": 7,
    "start_time": "2022-05-07T17:54:13.605Z"
   },
   {
    "duration": 7,
    "start_time": "2022-05-07T17:54:13.613Z"
   },
   {
    "duration": 14,
    "start_time": "2022-05-07T17:54:13.621Z"
   },
   {
    "duration": 14,
    "start_time": "2022-05-07T17:54:13.637Z"
   },
   {
    "duration": 53,
    "start_time": "2022-05-07T17:54:13.673Z"
   },
   {
    "duration": 45,
    "start_time": "2022-05-07T17:54:13.728Z"
   },
   {
    "duration": 9,
    "start_time": "2022-05-07T17:54:13.775Z"
   },
   {
    "duration": 19,
    "start_time": "2022-05-07T17:54:13.785Z"
   },
   {
    "duration": 8,
    "start_time": "2022-05-07T17:54:13.805Z"
   },
   {
    "duration": 8,
    "start_time": "2022-05-07T17:54:13.814Z"
   },
   {
    "duration": 8,
    "start_time": "2022-05-07T17:54:13.823Z"
   },
   {
    "duration": 7,
    "start_time": "2022-05-07T17:54:13.833Z"
   },
   {
    "duration": 9,
    "start_time": "2022-05-07T17:54:13.842Z"
   },
   {
    "duration": 28,
    "start_time": "2022-05-07T17:54:13.852Z"
   },
   {
    "duration": 8,
    "start_time": "2022-05-07T17:54:13.882Z"
   },
   {
    "duration": 13,
    "start_time": "2022-05-07T17:54:13.892Z"
   },
   {
    "duration": 9,
    "start_time": "2022-05-07T17:54:13.907Z"
   },
   {
    "duration": 11,
    "start_time": "2022-05-07T17:54:13.918Z"
   },
   {
    "duration": 10,
    "start_time": "2022-05-07T17:54:13.930Z"
   },
   {
    "duration": 31,
    "start_time": "2022-05-07T17:54:13.942Z"
   },
   {
    "duration": 20,
    "start_time": "2022-05-07T17:54:13.975Z"
   },
   {
    "duration": 15,
    "start_time": "2022-05-07T17:54:13.997Z"
   },
   {
    "duration": 16,
    "start_time": "2022-05-07T17:54:14.013Z"
   },
   {
    "duration": 10,
    "start_time": "2022-05-07T17:54:14.030Z"
   },
   {
    "duration": 37,
    "start_time": "2022-05-07T17:54:14.042Z"
   },
   {
    "duration": 16,
    "start_time": "2022-05-07T17:54:14.081Z"
   },
   {
    "duration": 4,
    "start_time": "2022-05-07T17:54:14.099Z"
   },
   {
    "duration": 16,
    "start_time": "2022-05-07T17:54:14.105Z"
   },
   {
    "duration": 7,
    "start_time": "2022-05-07T17:54:14.123Z"
   },
   {
    "duration": 54,
    "start_time": "2022-05-07T17:54:14.131Z"
   },
   {
    "duration": 16,
    "start_time": "2022-05-07T17:54:14.187Z"
   },
   {
    "duration": 6,
    "start_time": "2022-05-07T17:54:14.205Z"
   },
   {
    "duration": 14,
    "start_time": "2022-05-07T17:54:14.212Z"
   },
   {
    "duration": 19,
    "start_time": "2022-05-07T17:54:14.228Z"
   },
   {
    "duration": 30,
    "start_time": "2022-05-07T17:54:14.249Z"
   },
   {
    "duration": 30,
    "start_time": "2022-05-07T17:54:14.280Z"
   },
   {
    "duration": 7,
    "start_time": "2022-05-07T17:54:14.312Z"
   },
   {
    "duration": 61,
    "start_time": "2022-05-07T17:54:14.320Z"
   },
   {
    "duration": 7,
    "start_time": "2022-05-07T17:54:14.383Z"
   },
   {
    "duration": 25,
    "start_time": "2022-05-07T17:54:14.391Z"
   },
   {
    "duration": 12,
    "start_time": "2022-05-07T17:54:14.418Z"
   },
   {
    "duration": 58,
    "start_time": "2022-05-07T17:54:14.432Z"
   },
   {
    "duration": 6,
    "start_time": "2022-05-07T17:54:14.492Z"
   },
   {
    "duration": 7,
    "start_time": "2022-05-07T17:54:14.500Z"
   },
   {
    "duration": 6,
    "start_time": "2022-05-07T17:54:14.509Z"
   },
   {
    "duration": 416,
    "start_time": "2022-05-07T17:54:14.517Z"
   },
   {
    "duration": 157,
    "start_time": "2022-05-07T17:54:14.935Z"
   },
   {
    "duration": 156,
    "start_time": "2022-05-07T17:54:15.093Z"
   },
   {
    "duration": 32,
    "start_time": "2022-05-07T17:54:15.250Z"
   },
   {
    "duration": 6,
    "start_time": "2022-05-07T17:54:15.284Z"
   },
   {
    "duration": 14,
    "start_time": "2022-05-07T17:54:15.292Z"
   },
   {
    "duration": 5,
    "start_time": "2022-05-07T17:54:15.311Z"
   },
   {
    "duration": 158,
    "start_time": "2022-05-07T17:54:15.317Z"
   },
   {
    "duration": 199,
    "start_time": "2022-05-07T17:54:15.477Z"
   },
   {
    "duration": 144,
    "start_time": "2022-05-07T17:54:15.679Z"
   },
   {
    "duration": 13,
    "start_time": "2022-05-07T18:04:38.490Z"
   },
   {
    "duration": 13,
    "start_time": "2022-05-07T18:04:58.838Z"
   },
   {
    "duration": 14,
    "start_time": "2022-05-07T18:05:04.339Z"
   },
   {
    "duration": 5,
    "start_time": "2022-05-07T18:18:48.795Z"
   },
   {
    "duration": 423,
    "start_time": "2022-05-07T18:24:34.247Z"
   },
   {
    "duration": 6,
    "start_time": "2022-05-07T18:25:22.940Z"
   },
   {
    "duration": 4,
    "start_time": "2022-05-07T18:26:39.405Z"
   },
   {
    "duration": 5,
    "start_time": "2022-05-07T18:26:44.726Z"
   },
   {
    "duration": 5,
    "start_time": "2022-05-07T18:27:04.064Z"
   },
   {
    "duration": 6,
    "start_time": "2022-05-07T18:31:25.654Z"
   },
   {
    "duration": 23,
    "start_time": "2022-05-07T18:31:34.344Z"
   },
   {
    "duration": 23,
    "start_time": "2022-05-07T18:34:51.900Z"
   },
   {
    "duration": 14,
    "start_time": "2022-05-07T18:35:24.345Z"
   },
   {
    "duration": 16,
    "start_time": "2022-05-07T18:35:25.560Z"
   },
   {
    "duration": 4,
    "start_time": "2022-05-07T18:36:16.842Z"
   },
   {
    "duration": 5,
    "start_time": "2022-05-07T18:36:34.909Z"
   },
   {
    "duration": 5,
    "start_time": "2022-05-07T18:36:51.552Z"
   },
   {
    "duration": 640,
    "start_time": "2022-05-07T18:42:20.786Z"
   },
   {
    "duration": 166,
    "start_time": "2022-05-07T18:42:21.427Z"
   },
   {
    "duration": 114,
    "start_time": "2022-05-07T18:42:21.595Z"
   },
   {
    "duration": 20,
    "start_time": "2022-05-07T18:42:21.711Z"
   },
   {
    "duration": 36,
    "start_time": "2022-05-07T18:42:21.733Z"
   },
   {
    "duration": 22,
    "start_time": "2022-05-07T18:42:21.770Z"
   },
   {
    "duration": 13,
    "start_time": "2022-05-07T18:42:21.793Z"
   },
   {
    "duration": 126,
    "start_time": "2022-05-07T18:42:21.807Z"
   },
   {
    "duration": 185,
    "start_time": "2022-05-07T18:42:21.935Z"
   },
   {
    "duration": 9,
    "start_time": "2022-05-07T18:42:22.122Z"
   },
   {
    "duration": 41,
    "start_time": "2022-05-07T18:42:22.133Z"
   },
   {
    "duration": 114,
    "start_time": "2022-05-07T18:42:22.176Z"
   },
   {
    "duration": 3,
    "start_time": "2022-05-07T18:42:22.291Z"
   },
   {
    "duration": 97,
    "start_time": "2022-05-07T18:42:22.295Z"
   },
   {
    "duration": 47,
    "start_time": "2022-05-07T18:42:22.394Z"
   },
   {
    "duration": 107,
    "start_time": "2022-05-07T18:42:22.443Z"
   },
   {
    "duration": 30,
    "start_time": "2022-05-07T18:42:22.551Z"
   },
   {
    "duration": 58,
    "start_time": "2022-05-07T18:42:22.583Z"
   },
   {
    "duration": 7,
    "start_time": "2022-05-07T18:42:22.642Z"
   },
   {
    "duration": 35,
    "start_time": "2022-05-07T18:42:22.651Z"
   },
   {
    "duration": 9,
    "start_time": "2022-05-07T18:42:22.687Z"
   },
   {
    "duration": 76,
    "start_time": "2022-05-07T18:42:22.698Z"
   },
   {
    "duration": 58,
    "start_time": "2022-05-07T18:42:22.776Z"
   },
   {
    "duration": 9,
    "start_time": "2022-05-07T18:42:22.836Z"
   },
   {
    "duration": 17,
    "start_time": "2022-05-07T18:42:22.847Z"
   },
   {
    "duration": 17,
    "start_time": "2022-05-07T18:42:22.866Z"
   },
   {
    "duration": 15,
    "start_time": "2022-05-07T18:42:22.885Z"
   },
   {
    "duration": 50,
    "start_time": "2022-05-07T18:42:22.905Z"
   },
   {
    "duration": 7,
    "start_time": "2022-05-07T18:42:22.957Z"
   },
   {
    "duration": 22,
    "start_time": "2022-05-07T18:42:22.973Z"
   },
   {
    "duration": 7,
    "start_time": "2022-05-07T18:42:22.997Z"
   },
   {
    "duration": 21,
    "start_time": "2022-05-07T18:42:23.005Z"
   },
   {
    "duration": 13,
    "start_time": "2022-05-07T18:42:23.027Z"
   },
   {
    "duration": 12,
    "start_time": "2022-05-07T18:42:23.042Z"
   },
   {
    "duration": 62,
    "start_time": "2022-05-07T18:42:23.055Z"
   },
   {
    "duration": 25,
    "start_time": "2022-05-07T18:42:23.118Z"
   },
   {
    "duration": 7,
    "start_time": "2022-05-07T18:42:23.145Z"
   },
   {
    "duration": 11,
    "start_time": "2022-05-07T18:42:23.172Z"
   },
   {
    "duration": 8,
    "start_time": "2022-05-07T18:42:23.184Z"
   },
   {
    "duration": 9,
    "start_time": "2022-05-07T18:42:23.193Z"
   },
   {
    "duration": 8,
    "start_time": "2022-05-07T18:42:23.203Z"
   },
   {
    "duration": 5,
    "start_time": "2022-05-07T18:42:23.213Z"
   },
   {
    "duration": 8,
    "start_time": "2022-05-07T18:42:23.220Z"
   },
   {
    "duration": 12,
    "start_time": "2022-05-07T18:42:23.230Z"
   },
   {
    "duration": 29,
    "start_time": "2022-05-07T18:42:23.244Z"
   },
   {
    "duration": 13,
    "start_time": "2022-05-07T18:42:23.275Z"
   },
   {
    "duration": 11,
    "start_time": "2022-05-07T18:42:23.289Z"
   },
   {
    "duration": 12,
    "start_time": "2022-05-07T18:42:23.301Z"
   },
   {
    "duration": 11,
    "start_time": "2022-05-07T18:42:23.314Z"
   },
   {
    "duration": 4,
    "start_time": "2022-05-07T18:42:23.326Z"
   },
   {
    "duration": 18,
    "start_time": "2022-05-07T18:42:23.331Z"
   },
   {
    "duration": 8,
    "start_time": "2022-05-07T18:42:23.374Z"
   },
   {
    "duration": 15,
    "start_time": "2022-05-07T18:42:23.384Z"
   },
   {
    "duration": 11,
    "start_time": "2022-05-07T18:42:23.400Z"
   },
   {
    "duration": 20,
    "start_time": "2022-05-07T18:42:23.413Z"
   },
   {
    "duration": 18,
    "start_time": "2022-05-07T18:42:23.434Z"
   },
   {
    "duration": 6,
    "start_time": "2022-05-07T18:42:23.472Z"
   },
   {
    "duration": 15,
    "start_time": "2022-05-07T18:42:23.480Z"
   },
   {
    "duration": 8,
    "start_time": "2022-05-07T18:42:23.496Z"
   },
   {
    "duration": 29,
    "start_time": "2022-05-07T18:42:23.506Z"
   },
   {
    "duration": 12,
    "start_time": "2022-05-07T18:42:23.536Z"
   },
   {
    "duration": 27,
    "start_time": "2022-05-07T18:42:23.549Z"
   },
   {
    "duration": 14,
    "start_time": "2022-05-07T18:42:23.577Z"
   },
   {
    "duration": 17,
    "start_time": "2022-05-07T18:42:23.593Z"
   },
   {
    "duration": 7,
    "start_time": "2022-05-07T18:42:23.612Z"
   },
   {
    "duration": 52,
    "start_time": "2022-05-07T18:42:23.621Z"
   },
   {
    "duration": 7,
    "start_time": "2022-05-07T18:42:23.675Z"
   },
   {
    "duration": 31,
    "start_time": "2022-05-07T18:42:23.683Z"
   },
   {
    "duration": 5,
    "start_time": "2022-05-07T18:42:23.715Z"
   },
   {
    "duration": 25,
    "start_time": "2022-05-07T18:42:23.722Z"
   },
   {
    "duration": 34,
    "start_time": "2022-05-07T18:42:23.749Z"
   },
   {
    "duration": 27,
    "start_time": "2022-05-07T18:42:23.785Z"
   },
   {
    "duration": 10,
    "start_time": "2022-05-07T18:42:23.814Z"
   },
   {
    "duration": 4,
    "start_time": "2022-05-07T18:42:23.826Z"
   },
   {
    "duration": 6,
    "start_time": "2022-05-07T18:42:23.832Z"
   },
   {
    "duration": 10,
    "start_time": "2022-05-07T18:42:23.839Z"
   },
   {
    "duration": 379,
    "start_time": "2022-05-07T18:42:23.872Z"
   },
   {
    "duration": 140,
    "start_time": "2022-05-07T18:42:24.253Z"
   },
   {
    "duration": 141,
    "start_time": "2022-05-07T18:42:24.394Z"
   },
   {
    "duration": 21,
    "start_time": "2022-05-07T18:42:24.536Z"
   },
   {
    "duration": 24,
    "start_time": "2022-05-07T18:42:24.558Z"
   },
   {
    "duration": 5,
    "start_time": "2022-05-07T18:42:24.587Z"
   },
   {
    "duration": 7,
    "start_time": "2022-05-07T18:42:24.593Z"
   },
   {
    "duration": 14,
    "start_time": "2022-05-07T18:42:24.601Z"
   },
   {
    "duration": 142,
    "start_time": "2022-05-07T18:42:24.617Z"
   },
   {
    "duration": 185,
    "start_time": "2022-05-07T18:42:24.760Z"
   },
   {
    "duration": 145,
    "start_time": "2022-05-07T18:42:24.946Z"
   },
   {
    "duration": 5,
    "start_time": "2022-05-07T18:42:25.093Z"
   },
   {
    "duration": 13,
    "start_time": "2022-05-07T18:42:25.099Z"
   },
   {
    "duration": 8,
    "start_time": "2022-05-07T18:42:25.113Z"
   },
   {
    "duration": 456,
    "start_time": "2022-05-07T18:42:25.123Z"
   },
   {
    "duration": 14,
    "start_time": "2022-05-07T18:42:25.581Z"
   },
   {
    "duration": 14,
    "start_time": "2022-05-07T18:42:25.597Z"
   },
   {
    "duration": 4,
    "start_time": "2022-05-07T18:42:25.613Z"
   },
   {
    "duration": 14,
    "start_time": "2022-05-07T18:42:25.619Z"
   },
   {
    "duration": 17,
    "start_time": "2022-05-07T18:42:25.634Z"
   },
   {
    "duration": 777,
    "start_time": "2022-05-08T07:50:18.654Z"
   },
   {
    "duration": 215,
    "start_time": "2022-05-08T07:50:19.435Z"
   },
   {
    "duration": 116,
    "start_time": "2022-05-08T07:50:19.652Z"
   },
   {
    "duration": 20,
    "start_time": "2022-05-08T07:50:19.770Z"
   },
   {
    "duration": 38,
    "start_time": "2022-05-08T07:50:19.792Z"
   },
   {
    "duration": 24,
    "start_time": "2022-05-08T07:50:19.832Z"
   },
   {
    "duration": 14,
    "start_time": "2022-05-08T07:50:19.857Z"
   },
   {
    "duration": 119,
    "start_time": "2022-05-08T07:50:19.873Z"
   },
   {
    "duration": 169,
    "start_time": "2022-05-08T07:50:19.993Z"
   },
   {
    "duration": 9,
    "start_time": "2022-05-08T07:50:20.165Z"
   },
   {
    "duration": 24,
    "start_time": "2022-05-08T07:50:20.176Z"
   },
   {
    "duration": 123,
    "start_time": "2022-05-08T07:50:20.202Z"
   },
   {
    "duration": 4,
    "start_time": "2022-05-08T07:50:20.327Z"
   },
   {
    "duration": 81,
    "start_time": "2022-05-08T07:50:20.336Z"
   },
   {
    "duration": 47,
    "start_time": "2022-05-08T07:50:20.419Z"
   },
   {
    "duration": 101,
    "start_time": "2022-05-08T07:50:20.468Z"
   },
   {
    "duration": 24,
    "start_time": "2022-05-08T07:50:20.571Z"
   },
   {
    "duration": 74,
    "start_time": "2022-05-08T07:50:20.597Z"
   },
   {
    "duration": 7,
    "start_time": "2022-05-08T07:50:20.673Z"
   },
   {
    "duration": 19,
    "start_time": "2022-05-08T07:50:20.682Z"
   },
   {
    "duration": 23,
    "start_time": "2022-05-08T07:50:20.702Z"
   },
   {
    "duration": 73,
    "start_time": "2022-05-08T07:50:20.732Z"
   },
   {
    "duration": 54,
    "start_time": "2022-05-08T07:50:20.807Z"
   },
   {
    "duration": 9,
    "start_time": "2022-05-08T07:50:20.863Z"
   },
   {
    "duration": 7,
    "start_time": "2022-05-08T07:50:20.874Z"
   },
   {
    "duration": 16,
    "start_time": "2022-05-08T07:50:20.882Z"
   },
   {
    "duration": 10,
    "start_time": "2022-05-08T07:50:20.899Z"
   },
   {
    "duration": 39,
    "start_time": "2022-05-08T07:50:20.924Z"
   },
   {
    "duration": 8,
    "start_time": "2022-05-08T07:50:20.965Z"
   },
   {
    "duration": 22,
    "start_time": "2022-05-08T07:50:20.974Z"
   },
   {
    "duration": 30,
    "start_time": "2022-05-08T07:50:20.998Z"
   },
   {
    "duration": 12,
    "start_time": "2022-05-08T07:50:21.029Z"
   },
   {
    "duration": 13,
    "start_time": "2022-05-08T07:50:21.043Z"
   },
   {
    "duration": 19,
    "start_time": "2022-05-08T07:50:21.057Z"
   },
   {
    "duration": 60,
    "start_time": "2022-05-08T07:50:21.078Z"
   },
   {
    "duration": 24,
    "start_time": "2022-05-08T07:50:21.143Z"
   },
   {
    "duration": 7,
    "start_time": "2022-05-08T07:50:21.169Z"
   },
   {
    "duration": 13,
    "start_time": "2022-05-08T07:50:21.177Z"
   },
   {
    "duration": 4,
    "start_time": "2022-05-08T07:50:21.192Z"
   },
   {
    "duration": 32,
    "start_time": "2022-05-08T07:50:21.198Z"
   },
   {
    "duration": 15,
    "start_time": "2022-05-08T07:50:21.231Z"
   },
   {
    "duration": 6,
    "start_time": "2022-05-08T07:50:21.248Z"
   },
   {
    "duration": 5,
    "start_time": "2022-05-08T07:50:21.256Z"
   },
   {
    "duration": 12,
    "start_time": "2022-05-08T07:50:21.262Z"
   },
   {
    "duration": 7,
    "start_time": "2022-05-08T07:50:21.276Z"
   },
   {
    "duration": 12,
    "start_time": "2022-05-08T07:50:21.285Z"
   },
   {
    "duration": 19,
    "start_time": "2022-05-08T07:50:21.323Z"
   },
   {
    "duration": 9,
    "start_time": "2022-05-08T07:50:21.343Z"
   },
   {
    "duration": 7,
    "start_time": "2022-05-08T07:50:21.354Z"
   },
   {
    "duration": 3,
    "start_time": "2022-05-08T07:50:21.363Z"
   },
   {
    "duration": 16,
    "start_time": "2022-05-08T07:50:21.368Z"
   },
   {
    "duration": 8,
    "start_time": "2022-05-08T07:50:21.386Z"
   },
   {
    "duration": 16,
    "start_time": "2022-05-08T07:50:21.425Z"
   },
   {
    "duration": 9,
    "start_time": "2022-05-08T07:50:21.443Z"
   },
   {
    "duration": 17,
    "start_time": "2022-05-08T07:50:21.454Z"
   },
   {
    "duration": 15,
    "start_time": "2022-05-08T07:50:21.473Z"
   },
   {
    "duration": 4,
    "start_time": "2022-05-08T07:50:21.490Z"
   },
   {
    "duration": 19,
    "start_time": "2022-05-08T07:50:21.524Z"
   },
   {
    "duration": 10,
    "start_time": "2022-05-08T07:50:21.545Z"
   },
   {
    "duration": 35,
    "start_time": "2022-05-08T07:50:21.557Z"
   },
   {
    "duration": 36,
    "start_time": "2022-05-08T07:50:21.594Z"
   },
   {
    "duration": 6,
    "start_time": "2022-05-08T07:50:21.631Z"
   },
   {
    "duration": 19,
    "start_time": "2022-05-08T07:50:21.639Z"
   },
   {
    "duration": 27,
    "start_time": "2022-05-08T07:50:21.660Z"
   },
   {
    "duration": 9,
    "start_time": "2022-05-08T07:50:21.689Z"
   },
   {
    "duration": 42,
    "start_time": "2022-05-08T07:50:21.727Z"
   },
   {
    "duration": 8,
    "start_time": "2022-05-08T07:50:21.771Z"
   },
   {
    "duration": 54,
    "start_time": "2022-05-08T07:50:21.780Z"
   },
   {
    "duration": 6,
    "start_time": "2022-05-08T07:50:21.836Z"
   },
   {
    "duration": 26,
    "start_time": "2022-05-08T07:50:21.843Z"
   },
   {
    "duration": 12,
    "start_time": "2022-05-08T07:50:21.870Z"
   },
   {
    "duration": 53,
    "start_time": "2022-05-08T07:50:21.883Z"
   },
   {
    "duration": 15,
    "start_time": "2022-05-08T07:50:21.938Z"
   },
   {
    "duration": 9,
    "start_time": "2022-05-08T07:50:21.955Z"
   },
   {
    "duration": 6,
    "start_time": "2022-05-08T07:50:21.965Z"
   },
   {
    "duration": 10,
    "start_time": "2022-05-08T07:50:21.972Z"
   },
   {
    "duration": 588,
    "start_time": "2022-05-08T07:50:21.984Z"
   },
   {
    "duration": 144,
    "start_time": "2022-05-08T07:50:22.574Z"
   },
   {
    "duration": 152,
    "start_time": "2022-05-08T07:50:22.719Z"
   },
   {
    "duration": 22,
    "start_time": "2022-05-08T07:50:22.873Z"
   },
   {
    "duration": 78,
    "start_time": "2022-05-08T07:50:22.897Z"
   },
   {
    "duration": 7,
    "start_time": "2022-05-08T07:50:22.981Z"
   },
   {
    "duration": 12,
    "start_time": "2022-05-08T07:50:22.990Z"
   },
   {
    "duration": 23,
    "start_time": "2022-05-08T07:50:23.004Z"
   },
   {
    "duration": 213,
    "start_time": "2022-05-08T07:50:23.030Z"
   },
   {
    "duration": 199,
    "start_time": "2022-05-08T07:50:23.245Z"
   },
   {
    "duration": 215,
    "start_time": "2022-05-08T07:50:23.446Z"
   },
   {
    "duration": 6,
    "start_time": "2022-05-08T07:50:23.663Z"
   },
   {
    "duration": 9,
    "start_time": "2022-05-08T07:50:23.671Z"
   },
   {
    "duration": 9,
    "start_time": "2022-05-08T07:50:23.682Z"
   },
   {
    "duration": 531,
    "start_time": "2022-05-08T07:50:23.693Z"
   },
   {
    "duration": 18,
    "start_time": "2022-05-08T07:50:24.228Z"
   },
   {
    "duration": 12,
    "start_time": "2022-05-08T07:50:24.248Z"
   },
   {
    "duration": 3,
    "start_time": "2022-05-08T07:50:24.262Z"
   },
   {
    "duration": 7,
    "start_time": "2022-05-08T07:50:24.267Z"
   },
   {
    "duration": 5,
    "start_time": "2022-05-08T07:50:24.276Z"
   },
   {
    "duration": 53,
    "start_time": "2022-05-08T08:06:15.241Z"
   },
   {
    "duration": 37,
    "start_time": "2022-05-08T08:12:51.828Z"
   },
   {
    "duration": 15,
    "start_time": "2022-05-08T08:13:33.775Z"
   },
   {
    "duration": 684,
    "start_time": "2022-05-08T08:13:46.756Z"
   },
   {
    "duration": 217,
    "start_time": "2022-05-08T08:13:47.442Z"
   },
   {
    "duration": 155,
    "start_time": "2022-05-08T08:13:47.661Z"
   },
   {
    "duration": 23,
    "start_time": "2022-05-08T08:13:47.823Z"
   },
   {
    "duration": 33,
    "start_time": "2022-05-08T08:13:47.848Z"
   },
   {
    "duration": 22,
    "start_time": "2022-05-08T08:13:47.883Z"
   },
   {
    "duration": 18,
    "start_time": "2022-05-08T08:13:47.924Z"
   },
   {
    "duration": 154,
    "start_time": "2022-05-08T08:13:47.944Z"
   },
   {
    "duration": 160,
    "start_time": "2022-05-08T08:13:48.099Z"
   },
   {
    "duration": 10,
    "start_time": "2022-05-08T08:13:48.262Z"
   },
   {
    "duration": 24,
    "start_time": "2022-05-08T08:13:48.273Z"
   },
   {
    "duration": 112,
    "start_time": "2022-05-08T08:13:48.299Z"
   },
   {
    "duration": 12,
    "start_time": "2022-05-08T08:13:48.412Z"
   },
   {
    "duration": 79,
    "start_time": "2022-05-08T08:13:48.425Z"
   },
   {
    "duration": 57,
    "start_time": "2022-05-08T08:13:48.505Z"
   },
   {
    "duration": 105,
    "start_time": "2022-05-08T08:13:48.564Z"
   },
   {
    "duration": 25,
    "start_time": "2022-05-08T08:13:48.670Z"
   },
   {
    "duration": 74,
    "start_time": "2022-05-08T08:13:48.697Z"
   },
   {
    "duration": 7,
    "start_time": "2022-05-08T08:13:48.772Z"
   },
   {
    "duration": 18,
    "start_time": "2022-05-08T08:13:48.781Z"
   },
   {
    "duration": 23,
    "start_time": "2022-05-08T08:13:48.801Z"
   },
   {
    "duration": 62,
    "start_time": "2022-05-08T08:13:48.826Z"
   },
   {
    "duration": 65,
    "start_time": "2022-05-08T08:13:48.890Z"
   },
   {
    "duration": 10,
    "start_time": "2022-05-08T08:13:48.957Z"
   },
   {
    "duration": 6,
    "start_time": "2022-05-08T08:13:48.968Z"
   },
   {
    "duration": 15,
    "start_time": "2022-05-08T08:13:48.975Z"
   },
   {
    "duration": 32,
    "start_time": "2022-05-08T08:13:48.992Z"
   },
   {
    "duration": 38,
    "start_time": "2022-05-08T08:13:49.028Z"
   },
   {
    "duration": 7,
    "start_time": "2022-05-08T08:13:49.068Z"
   },
   {
    "duration": 48,
    "start_time": "2022-05-08T08:13:49.076Z"
   },
   {
    "duration": 8,
    "start_time": "2022-05-08T08:13:49.126Z"
   },
   {
    "duration": 9,
    "start_time": "2022-05-08T08:13:49.136Z"
   },
   {
    "duration": 14,
    "start_time": "2022-05-08T08:13:49.146Z"
   },
   {
    "duration": 14,
    "start_time": "2022-05-08T08:13:49.161Z"
   },
   {
    "duration": 72,
    "start_time": "2022-05-08T08:13:49.176Z"
   },
   {
    "duration": 23,
    "start_time": "2022-05-08T08:13:49.250Z"
   },
   {
    "duration": 8,
    "start_time": "2022-05-08T08:13:49.274Z"
   },
   {
    "duration": 12,
    "start_time": "2022-05-08T08:13:49.284Z"
   },
   {
    "duration": 28,
    "start_time": "2022-05-08T08:13:49.298Z"
   },
   {
    "duration": 8,
    "start_time": "2022-05-08T08:13:49.328Z"
   },
   {
    "duration": 10,
    "start_time": "2022-05-08T08:13:49.338Z"
   },
   {
    "duration": 9,
    "start_time": "2022-05-08T08:13:49.349Z"
   },
   {
    "duration": 7,
    "start_time": "2022-05-08T08:13:49.359Z"
   },
   {
    "duration": 14,
    "start_time": "2022-05-08T08:13:49.367Z"
   },
   {
    "duration": 9,
    "start_time": "2022-05-08T08:13:49.383Z"
   },
   {
    "duration": 38,
    "start_time": "2022-05-08T08:13:49.394Z"
   },
   {
    "duration": 11,
    "start_time": "2022-05-08T08:13:49.434Z"
   },
   {
    "duration": 12,
    "start_time": "2022-05-08T08:13:49.447Z"
   },
   {
    "duration": 12,
    "start_time": "2022-05-08T08:13:49.461Z"
   },
   {
    "duration": 5,
    "start_time": "2022-05-08T08:13:49.474Z"
   },
   {
    "duration": 18,
    "start_time": "2022-05-08T08:13:49.480Z"
   },
   {
    "duration": 46,
    "start_time": "2022-05-08T08:13:49.500Z"
   },
   {
    "duration": 13,
    "start_time": "2022-05-08T08:13:49.547Z"
   },
   {
    "duration": 16,
    "start_time": "2022-05-08T08:13:49.561Z"
   },
   {
    "duration": 18,
    "start_time": "2022-05-08T08:13:49.578Z"
   },
   {
    "duration": 25,
    "start_time": "2022-05-08T08:13:49.599Z"
   },
   {
    "duration": 4,
    "start_time": "2022-05-08T08:13:49.626Z"
   },
   {
    "duration": 16,
    "start_time": "2022-05-08T08:13:49.632Z"
   },
   {
    "duration": 8,
    "start_time": "2022-05-08T08:13:49.650Z"
   },
   {
    "duration": 25,
    "start_time": "2022-05-08T08:13:49.660Z"
   },
   {
    "duration": 39,
    "start_time": "2022-05-08T08:13:49.687Z"
   },
   {
    "duration": 5,
    "start_time": "2022-05-08T08:13:49.728Z"
   },
   {
    "duration": 17,
    "start_time": "2022-05-08T08:13:49.735Z"
   },
   {
    "duration": 19,
    "start_time": "2022-05-08T08:13:49.754Z"
   },
   {
    "duration": 8,
    "start_time": "2022-05-08T08:13:49.774Z"
   },
   {
    "duration": 65,
    "start_time": "2022-05-08T08:13:49.783Z"
   },
   {
    "duration": 9,
    "start_time": "2022-05-08T08:13:49.850Z"
   },
   {
    "duration": 37,
    "start_time": "2022-05-08T08:13:49.861Z"
   },
   {
    "duration": 22,
    "start_time": "2022-05-08T08:13:49.901Z"
   },
   {
    "duration": 38,
    "start_time": "2022-05-08T08:13:49.925Z"
   },
   {
    "duration": 15,
    "start_time": "2022-05-08T08:13:49.965Z"
   },
   {
    "duration": 61,
    "start_time": "2022-05-08T08:13:49.982Z"
   },
   {
    "duration": 16,
    "start_time": "2022-05-08T08:13:50.045Z"
   },
   {
    "duration": 7,
    "start_time": "2022-05-08T08:13:50.063Z"
   },
   {
    "duration": 12,
    "start_time": "2022-05-08T08:13:50.071Z"
   },
   {
    "duration": 11,
    "start_time": "2022-05-08T08:13:50.085Z"
   },
   {
    "duration": 404,
    "start_time": "2022-05-08T08:13:50.124Z"
   },
   {
    "duration": 153,
    "start_time": "2022-05-08T08:13:50.530Z"
   },
   {
    "duration": 149,
    "start_time": "2022-05-08T08:13:50.685Z"
   },
   {
    "duration": 24,
    "start_time": "2022-05-08T08:13:50.836Z"
   },
   {
    "duration": 14,
    "start_time": "2022-05-08T08:13:50.863Z"
   },
   {
    "duration": 8,
    "start_time": "2022-05-08T08:13:50.883Z"
   },
   {
    "duration": 35,
    "start_time": "2022-05-08T08:13:50.893Z"
   },
   {
    "duration": 12,
    "start_time": "2022-05-08T08:13:50.930Z"
   },
   {
    "duration": 154,
    "start_time": "2022-05-08T08:13:50.944Z"
   },
   {
    "duration": 196,
    "start_time": "2022-05-08T08:13:51.100Z"
   },
   {
    "duration": 144,
    "start_time": "2022-05-08T08:13:51.299Z"
   },
   {
    "duration": 5,
    "start_time": "2022-05-08T08:13:51.445Z"
   },
   {
    "duration": 7,
    "start_time": "2022-05-08T08:13:51.452Z"
   },
   {
    "duration": 12,
    "start_time": "2022-05-08T08:13:51.461Z"
   },
   {
    "duration": 432,
    "start_time": "2022-05-08T08:13:51.474Z"
   },
   {
    "duration": 18,
    "start_time": "2022-05-08T08:13:51.908Z"
   },
   {
    "duration": 19,
    "start_time": "2022-05-08T08:13:51.928Z"
   },
   {
    "duration": 5,
    "start_time": "2022-05-08T08:13:51.949Z"
   },
   {
    "duration": 12,
    "start_time": "2022-05-08T08:13:51.956Z"
   },
   {
    "duration": 7,
    "start_time": "2022-05-08T08:13:51.970Z"
   },
   {
    "duration": 53,
    "start_time": "2022-05-08T08:38:02.291Z"
   },
   {
    "duration": 18,
    "start_time": "2022-05-08T08:39:42.541Z"
   },
   {
    "duration": 20,
    "start_time": "2022-05-08T08:39:46.768Z"
   },
   {
    "duration": 4,
    "start_time": "2022-05-08T08:39:56.052Z"
   },
   {
    "duration": 15,
    "start_time": "2022-05-08T08:39:57.568Z"
   },
   {
    "duration": 23,
    "start_time": "2022-05-08T08:44:32.500Z"
   },
   {
    "duration": 4,
    "start_time": "2022-05-08T08:44:43.135Z"
   },
   {
    "duration": 13,
    "start_time": "2022-05-08T08:44:54.249Z"
   },
   {
    "duration": 47,
    "start_time": "2022-05-08T08:50:19.055Z"
   },
   {
    "duration": 11,
    "start_time": "2022-05-08T09:05:48.956Z"
   },
   {
    "duration": 16,
    "start_time": "2022-05-08T09:07:03.197Z"
   },
   {
    "duration": 4,
    "start_time": "2022-05-08T09:07:07.863Z"
   },
   {
    "duration": 24,
    "start_time": "2022-05-08T09:07:09.173Z"
   },
   {
    "duration": 854,
    "start_time": "2022-05-08T09:09:42.402Z"
   },
   {
    "duration": 292,
    "start_time": "2022-05-08T09:09:43.259Z"
   },
   {
    "duration": 171,
    "start_time": "2022-05-08T09:09:43.553Z"
   },
   {
    "duration": 29,
    "start_time": "2022-05-08T09:09:43.727Z"
   },
   {
    "duration": 45,
    "start_time": "2022-05-08T09:09:43.758Z"
   },
   {
    "duration": 37,
    "start_time": "2022-05-08T09:09:43.805Z"
   },
   {
    "duration": 15,
    "start_time": "2022-05-08T09:09:43.844Z"
   },
   {
    "duration": 158,
    "start_time": "2022-05-08T09:09:43.861Z"
   },
   {
    "duration": 187,
    "start_time": "2022-05-08T09:09:44.024Z"
   },
   {
    "duration": 16,
    "start_time": "2022-05-08T09:09:44.215Z"
   },
   {
    "duration": 27,
    "start_time": "2022-05-08T09:09:44.232Z"
   },
   {
    "duration": 125,
    "start_time": "2022-05-08T09:09:44.261Z"
   },
   {
    "duration": 112,
    "start_time": "2022-05-08T09:09:44.388Z"
   },
   {
    "duration": 56,
    "start_time": "2022-05-08T09:09:44.502Z"
   },
   {
    "duration": 155,
    "start_time": "2022-05-08T09:09:44.560Z"
   },
   {
    "duration": 40,
    "start_time": "2022-05-08T09:09:44.717Z"
   },
   {
    "duration": 105,
    "start_time": "2022-05-08T09:09:44.759Z"
   },
   {
    "duration": 10,
    "start_time": "2022-05-08T09:09:44.867Z"
   },
   {
    "duration": 27,
    "start_time": "2022-05-08T09:09:44.879Z"
   },
   {
    "duration": 73,
    "start_time": "2022-05-08T09:09:44.924Z"
   },
   {
    "duration": 71,
    "start_time": "2022-05-08T09:09:45.000Z"
   },
   {
    "duration": 4,
    "start_time": "2022-05-08T09:09:45.073Z"
   },
   {
    "duration": 44,
    "start_time": "2022-05-08T09:09:45.079Z"
   },
   {
    "duration": 57,
    "start_time": "2022-05-08T09:09:45.126Z"
   },
   {
    "duration": 52,
    "start_time": "2022-05-08T09:09:45.185Z"
   },
   {
    "duration": 3,
    "start_time": "2022-05-08T09:09:45.239Z"
   },
   {
    "duration": 30,
    "start_time": "2022-05-08T09:09:45.245Z"
   },
   {
    "duration": 63,
    "start_time": "2022-05-08T09:09:45.280Z"
   },
   {
    "duration": 36,
    "start_time": "2022-05-08T09:09:45.345Z"
   },
   {
    "duration": 8,
    "start_time": "2022-05-08T09:09:45.383Z"
   },
   {
    "duration": 33,
    "start_time": "2022-05-08T09:09:45.393Z"
   },
   {
    "duration": 17,
    "start_time": "2022-05-08T09:09:45.428Z"
   },
   {
    "duration": 21,
    "start_time": "2022-05-08T09:09:45.447Z"
   },
   {
    "duration": 12,
    "start_time": "2022-05-08T09:09:45.470Z"
   },
   {
    "duration": 25,
    "start_time": "2022-05-08T09:09:45.484Z"
   },
   {
    "duration": 17,
    "start_time": "2022-05-08T09:09:45.511Z"
   },
   {
    "duration": 18,
    "start_time": "2022-05-08T09:09:45.530Z"
   },
   {
    "duration": 14,
    "start_time": "2022-05-08T09:09:45.550Z"
   },
   {
    "duration": 17,
    "start_time": "2022-05-08T09:09:45.567Z"
   },
   {
    "duration": 45,
    "start_time": "2022-05-08T09:09:45.585Z"
   },
   {
    "duration": 23,
    "start_time": "2022-05-08T09:09:45.632Z"
   },
   {
    "duration": 12,
    "start_time": "2022-05-08T09:09:45.657Z"
   },
   {
    "duration": 26,
    "start_time": "2022-05-08T09:09:45.672Z"
   },
   {
    "duration": 30,
    "start_time": "2022-05-08T09:09:45.700Z"
   },
   {
    "duration": 22,
    "start_time": "2022-05-08T09:09:45.733Z"
   },
   {
    "duration": 25,
    "start_time": "2022-05-08T09:09:45.757Z"
   },
   {
    "duration": 8,
    "start_time": "2022-05-08T09:09:45.784Z"
   },
   {
    "duration": 40,
    "start_time": "2022-05-08T09:09:45.794Z"
   },
   {
    "duration": 9,
    "start_time": "2022-05-08T09:09:45.835Z"
   },
   {
    "duration": 28,
    "start_time": "2022-05-08T09:09:45.845Z"
   },
   {
    "duration": 19,
    "start_time": "2022-05-08T09:09:45.875Z"
   },
   {
    "duration": 34,
    "start_time": "2022-05-08T09:09:45.896Z"
   },
   {
    "duration": 21,
    "start_time": "2022-05-08T09:09:45.933Z"
   },
   {
    "duration": 33,
    "start_time": "2022-05-08T09:09:45.957Z"
   },
   {
    "duration": 36,
    "start_time": "2022-05-08T09:09:45.992Z"
   },
   {
    "duration": 46,
    "start_time": "2022-05-08T09:09:46.031Z"
   },
   {
    "duration": 11,
    "start_time": "2022-05-08T09:09:46.079Z"
   },
   {
    "duration": 61,
    "start_time": "2022-05-08T09:09:46.092Z"
   },
   {
    "duration": 7,
    "start_time": "2022-05-08T09:09:46.155Z"
   },
   {
    "duration": 43,
    "start_time": "2022-05-08T09:09:46.166Z"
   },
   {
    "duration": 25,
    "start_time": "2022-05-08T09:09:46.212Z"
   },
   {
    "duration": 37,
    "start_time": "2022-05-08T09:09:46.239Z"
   },
   {
    "duration": 17,
    "start_time": "2022-05-08T09:09:46.279Z"
   },
   {
    "duration": 18,
    "start_time": "2022-05-08T09:09:46.298Z"
   },
   {
    "duration": 31,
    "start_time": "2022-05-08T09:09:46.318Z"
   },
   {
    "duration": 7,
    "start_time": "2022-05-08T09:09:46.351Z"
   },
   {
    "duration": 517,
    "start_time": "2022-05-08T09:09:46.360Z"
   },
   {
    "duration": 187,
    "start_time": "2022-05-08T09:09:46.880Z"
   },
   {
    "duration": 229,
    "start_time": "2022-05-08T09:09:47.070Z"
   },
   {
    "duration": 48,
    "start_time": "2022-05-08T09:09:47.301Z"
   },
   {
    "duration": 18,
    "start_time": "2022-05-08T09:09:47.351Z"
   },
   {
    "duration": 6,
    "start_time": "2022-05-08T09:09:47.371Z"
   },
   {
    "duration": 15,
    "start_time": "2022-05-08T09:09:47.379Z"
   },
   {
    "duration": 40,
    "start_time": "2022-05-08T09:09:47.396Z"
   },
   {
    "duration": 171,
    "start_time": "2022-05-08T09:09:47.438Z"
   },
   {
    "duration": 219,
    "start_time": "2022-05-08T09:09:47.611Z"
   },
   {
    "duration": 210,
    "start_time": "2022-05-08T09:09:47.832Z"
   },
   {
    "duration": 10,
    "start_time": "2022-05-08T09:09:48.045Z"
   },
   {
    "duration": 7,
    "start_time": "2022-05-08T09:09:48.056Z"
   },
   {
    "duration": 9,
    "start_time": "2022-05-08T09:09:48.065Z"
   },
   {
    "duration": 526,
    "start_time": "2022-05-08T09:09:48.077Z"
   },
   {
    "duration": 24,
    "start_time": "2022-05-08T09:09:48.608Z"
   },
   {
    "duration": 29,
    "start_time": "2022-05-08T09:09:48.635Z"
   },
   {
    "duration": 7,
    "start_time": "2022-05-08T09:09:48.668Z"
   },
   {
    "duration": 8,
    "start_time": "2022-05-08T09:09:48.677Z"
   },
   {
    "duration": 7,
    "start_time": "2022-05-08T09:09:48.686Z"
   },
   {
    "duration": 607,
    "start_time": "2022-05-08T18:21:35.037Z"
   },
   {
    "duration": 162,
    "start_time": "2022-05-08T18:21:35.646Z"
   },
   {
    "duration": 121,
    "start_time": "2022-05-08T18:21:35.810Z"
   },
   {
    "duration": 21,
    "start_time": "2022-05-08T18:21:35.933Z"
   },
   {
    "duration": 35,
    "start_time": "2022-05-08T18:21:35.957Z"
   },
   {
    "duration": 39,
    "start_time": "2022-05-08T18:21:35.994Z"
   },
   {
    "duration": 15,
    "start_time": "2022-05-08T18:21:36.034Z"
   },
   {
    "duration": 107,
    "start_time": "2022-05-08T18:21:36.050Z"
   },
   {
    "duration": 166,
    "start_time": "2022-05-08T18:21:36.159Z"
   },
   {
    "duration": 11,
    "start_time": "2022-05-08T18:21:36.327Z"
   },
   {
    "duration": 26,
    "start_time": "2022-05-08T18:21:36.341Z"
   },
   {
    "duration": 114,
    "start_time": "2022-05-08T18:21:36.369Z"
   },
   {
    "duration": 78,
    "start_time": "2022-05-08T18:21:36.485Z"
   },
   {
    "duration": 42,
    "start_time": "2022-05-08T18:21:36.566Z"
   },
   {
    "duration": 99,
    "start_time": "2022-05-08T18:21:36.610Z"
   },
   {
    "duration": 39,
    "start_time": "2022-05-08T18:21:36.710Z"
   },
   {
    "duration": 50,
    "start_time": "2022-05-08T18:21:36.750Z"
   },
   {
    "duration": 6,
    "start_time": "2022-05-08T18:21:36.802Z"
   },
   {
    "duration": 33,
    "start_time": "2022-05-08T18:21:36.809Z"
   },
   {
    "duration": 64,
    "start_time": "2022-05-08T18:21:36.844Z"
   },
   {
    "duration": 57,
    "start_time": "2022-05-08T18:21:36.924Z"
   },
   {
    "duration": 2,
    "start_time": "2022-05-08T18:21:36.983Z"
   },
   {
    "duration": 16,
    "start_time": "2022-05-08T18:21:36.987Z"
   },
   {
    "duration": 40,
    "start_time": "2022-05-08T18:21:37.026Z"
   },
   {
    "duration": 24,
    "start_time": "2022-05-08T18:21:37.068Z"
   },
   {
    "duration": 2,
    "start_time": "2022-05-08T18:21:37.094Z"
   },
   {
    "duration": 42,
    "start_time": "2022-05-08T18:21:37.098Z"
   },
   {
    "duration": 67,
    "start_time": "2022-05-08T18:21:37.142Z"
   },
   {
    "duration": 58,
    "start_time": "2022-05-08T18:21:37.211Z"
   },
   {
    "duration": 6,
    "start_time": "2022-05-08T18:21:37.271Z"
   },
   {
    "duration": 6,
    "start_time": "2022-05-08T18:21:37.279Z"
   },
   {
    "duration": 9,
    "start_time": "2022-05-08T18:21:37.287Z"
   },
   {
    "duration": 30,
    "start_time": "2022-05-08T18:21:37.298Z"
   },
   {
    "duration": 3,
    "start_time": "2022-05-08T18:21:37.330Z"
   },
   {
    "duration": 22,
    "start_time": "2022-05-08T18:21:37.335Z"
   },
   {
    "duration": 8,
    "start_time": "2022-05-08T18:21:37.360Z"
   },
   {
    "duration": 12,
    "start_time": "2022-05-08T18:21:37.370Z"
   },
   {
    "duration": 10,
    "start_time": "2022-05-08T18:21:37.384Z"
   },
   {
    "duration": 32,
    "start_time": "2022-05-08T18:21:37.396Z"
   },
   {
    "duration": 9,
    "start_time": "2022-05-08T18:21:37.429Z"
   },
   {
    "duration": 21,
    "start_time": "2022-05-08T18:21:37.444Z"
   },
   {
    "duration": 10,
    "start_time": "2022-05-08T18:21:37.467Z"
   },
   {
    "duration": 15,
    "start_time": "2022-05-08T18:21:37.479Z"
   },
   {
    "duration": 14,
    "start_time": "2022-05-08T18:21:37.523Z"
   },
   {
    "duration": 27,
    "start_time": "2022-05-08T18:21:37.539Z"
   },
   {
    "duration": 15,
    "start_time": "2022-05-08T18:21:37.568Z"
   },
   {
    "duration": 4,
    "start_time": "2022-05-08T18:21:37.585Z"
   },
   {
    "duration": 41,
    "start_time": "2022-05-08T18:21:37.591Z"
   },
   {
    "duration": 8,
    "start_time": "2022-05-08T18:21:37.633Z"
   },
   {
    "duration": 34,
    "start_time": "2022-05-08T18:21:37.643Z"
   },
   {
    "duration": 17,
    "start_time": "2022-05-08T18:21:37.679Z"
   },
   {
    "duration": 7,
    "start_time": "2022-05-08T18:21:37.698Z"
   },
   {
    "duration": 35,
    "start_time": "2022-05-08T18:21:37.707Z"
   },
   {
    "duration": 26,
    "start_time": "2022-05-08T18:21:37.744Z"
   },
   {
    "duration": 9,
    "start_time": "2022-05-08T18:21:37.772Z"
   },
   {
    "duration": 58,
    "start_time": "2022-05-08T18:21:37.783Z"
   },
   {
    "duration": 9,
    "start_time": "2022-05-08T18:21:37.842Z"
   },
   {
    "duration": 33,
    "start_time": "2022-05-08T18:21:37.852Z"
   },
   {
    "duration": 5,
    "start_time": "2022-05-08T18:21:37.887Z"
   },
   {
    "duration": 48,
    "start_time": "2022-05-08T18:21:37.895Z"
   },
   {
    "duration": 12,
    "start_time": "2022-05-08T18:21:37.944Z"
   },
   {
    "duration": 21,
    "start_time": "2022-05-08T18:21:37.957Z"
   },
   {
    "duration": 12,
    "start_time": "2022-05-08T18:21:37.979Z"
   },
   {
    "duration": 34,
    "start_time": "2022-05-08T18:21:37.992Z"
   },
   {
    "duration": 5,
    "start_time": "2022-05-08T18:21:38.028Z"
   },
   {
    "duration": 13,
    "start_time": "2022-05-08T18:21:38.034Z"
   },
   {
    "duration": 365,
    "start_time": "2022-05-08T18:21:38.048Z"
   },
   {
    "duration": 181,
    "start_time": "2022-05-08T18:21:38.415Z"
   },
   {
    "duration": 133,
    "start_time": "2022-05-08T18:21:38.597Z"
   },
   {
    "duration": 22,
    "start_time": "2022-05-08T18:21:38.732Z"
   },
   {
    "duration": 11,
    "start_time": "2022-05-08T18:21:38.755Z"
   },
   {
    "duration": 8,
    "start_time": "2022-05-08T18:21:38.768Z"
   },
   {
    "duration": 9,
    "start_time": "2022-05-08T18:21:38.777Z"
   },
   {
    "duration": 6,
    "start_time": "2022-05-08T18:21:38.787Z"
   },
   {
    "duration": 212,
    "start_time": "2022-05-08T18:21:38.795Z"
   },
   {
    "duration": 186,
    "start_time": "2022-05-08T18:21:39.010Z"
   },
   {
    "duration": 131,
    "start_time": "2022-05-08T18:21:39.198Z"
   },
   {
    "duration": 5,
    "start_time": "2022-05-08T18:21:39.335Z"
   },
   {
    "duration": 7,
    "start_time": "2022-05-08T18:21:39.342Z"
   },
   {
    "duration": 5,
    "start_time": "2022-05-08T18:21:39.350Z"
   },
   {
    "duration": 408,
    "start_time": "2022-05-08T18:21:39.357Z"
   },
   {
    "duration": 18,
    "start_time": "2022-05-08T18:21:39.767Z"
   },
   {
    "duration": 17,
    "start_time": "2022-05-08T18:21:39.786Z"
   },
   {
    "duration": 24,
    "start_time": "2022-05-08T18:21:39.805Z"
   },
   {
    "duration": 14,
    "start_time": "2022-05-08T18:21:39.831Z"
   },
   {
    "duration": 6,
    "start_time": "2022-05-08T18:21:39.847Z"
   },
   {
    "duration": 760,
    "start_time": "2022-05-08T18:30:22.085Z"
   },
   {
    "duration": 209,
    "start_time": "2022-05-08T18:30:22.848Z"
   },
   {
    "duration": 131,
    "start_time": "2022-05-08T18:30:23.060Z"
   },
   {
    "duration": 32,
    "start_time": "2022-05-08T18:30:23.194Z"
   },
   {
    "duration": 43,
    "start_time": "2022-05-08T18:30:23.229Z"
   },
   {
    "duration": 21,
    "start_time": "2022-05-08T18:30:23.274Z"
   },
   {
    "duration": 32,
    "start_time": "2022-05-08T18:30:23.296Z"
   },
   {
    "duration": 87,
    "start_time": "2022-05-08T18:30:23.332Z"
   },
   {
    "duration": 213,
    "start_time": "2022-05-08T18:30:23.426Z"
   },
   {
    "duration": 12,
    "start_time": "2022-05-08T18:30:23.643Z"
   },
   {
    "duration": 31,
    "start_time": "2022-05-08T18:30:23.658Z"
   },
   {
    "duration": 143,
    "start_time": "2022-05-08T18:30:23.691Z"
   },
   {
    "duration": 69,
    "start_time": "2022-05-08T18:30:23.836Z"
   },
   {
    "duration": 58,
    "start_time": "2022-05-08T18:30:23.907Z"
   },
   {
    "duration": 129,
    "start_time": "2022-05-08T18:30:23.967Z"
   },
   {
    "duration": 42,
    "start_time": "2022-05-08T18:30:24.099Z"
   },
   {
    "duration": 78,
    "start_time": "2022-05-08T18:30:24.145Z"
   },
   {
    "duration": 13,
    "start_time": "2022-05-08T18:30:24.226Z"
   },
   {
    "duration": 27,
    "start_time": "2022-05-08T18:30:24.241Z"
   },
   {
    "duration": 90,
    "start_time": "2022-05-08T18:30:24.270Z"
   },
   {
    "duration": 50,
    "start_time": "2022-05-08T18:30:24.362Z"
   },
   {
    "duration": 4,
    "start_time": "2022-05-08T18:30:24.425Z"
   },
   {
    "duration": 32,
    "start_time": "2022-05-08T18:30:24.431Z"
   },
   {
    "duration": 49,
    "start_time": "2022-05-08T18:30:24.465Z"
   },
   {
    "duration": 38,
    "start_time": "2022-05-08T18:30:24.516Z"
   },
   {
    "duration": 4,
    "start_time": "2022-05-08T18:30:24.555Z"
   },
   {
    "duration": 15,
    "start_time": "2022-05-08T18:30:24.560Z"
   },
   {
    "duration": 93,
    "start_time": "2022-05-08T18:30:24.582Z"
   },
   {
    "duration": 56,
    "start_time": "2022-05-08T18:30:24.677Z"
   },
   {
    "duration": 7,
    "start_time": "2022-05-08T18:30:24.737Z"
   },
   {
    "duration": 8,
    "start_time": "2022-05-08T18:30:24.745Z"
   },
   {
    "duration": 9,
    "start_time": "2022-05-08T18:30:24.755Z"
   },
   {
    "duration": 13,
    "start_time": "2022-05-08T18:30:24.766Z"
   },
   {
    "duration": 3,
    "start_time": "2022-05-08T18:30:24.781Z"
   },
   {
    "duration": 49,
    "start_time": "2022-05-08T18:30:24.787Z"
   },
   {
    "duration": 25,
    "start_time": "2022-05-08T18:30:24.838Z"
   },
   {
    "duration": 9,
    "start_time": "2022-05-08T18:30:24.865Z"
   },
   {
    "duration": 9,
    "start_time": "2022-05-08T18:30:24.875Z"
   },
   {
    "duration": 15,
    "start_time": "2022-05-08T18:30:24.886Z"
   },
   {
    "duration": 11,
    "start_time": "2022-05-08T18:30:24.926Z"
   },
   {
    "duration": 19,
    "start_time": "2022-05-08T18:30:24.940Z"
   },
   {
    "duration": 10,
    "start_time": "2022-05-08T18:30:24.961Z"
   },
   {
    "duration": 22,
    "start_time": "2022-05-08T18:30:24.972Z"
   },
   {
    "duration": 33,
    "start_time": "2022-05-08T18:30:24.996Z"
   },
   {
    "duration": 7,
    "start_time": "2022-05-08T18:30:25.031Z"
   },
   {
    "duration": 22,
    "start_time": "2022-05-08T18:30:25.039Z"
   },
   {
    "duration": 7,
    "start_time": "2022-05-08T18:30:25.064Z"
   },
   {
    "duration": 25,
    "start_time": "2022-05-08T18:30:25.072Z"
   },
   {
    "duration": 36,
    "start_time": "2022-05-08T18:30:25.099Z"
   },
   {
    "duration": 13,
    "start_time": "2022-05-08T18:30:25.137Z"
   },
   {
    "duration": 17,
    "start_time": "2022-05-08T18:30:25.152Z"
   },
   {
    "duration": 25,
    "start_time": "2022-05-08T18:30:25.171Z"
   },
   {
    "duration": 28,
    "start_time": "2022-05-08T18:30:25.198Z"
   },
   {
    "duration": 58,
    "start_time": "2022-05-08T18:30:25.228Z"
   },
   {
    "duration": 7,
    "start_time": "2022-05-08T18:30:25.288Z"
   },
   {
    "duration": 45,
    "start_time": "2022-05-08T18:30:25.297Z"
   },
   {
    "duration": 6,
    "start_time": "2022-05-08T18:30:25.344Z"
   },
   {
    "duration": 26,
    "start_time": "2022-05-08T18:30:25.352Z"
   },
   {
    "duration": 12,
    "start_time": "2022-05-08T18:30:25.380Z"
   },
   {
    "duration": 55,
    "start_time": "2022-05-08T18:30:25.393Z"
   },
   {
    "duration": 13,
    "start_time": "2022-05-08T18:30:25.449Z"
   },
   {
    "duration": 5,
    "start_time": "2022-05-08T18:30:25.464Z"
   },
   {
    "duration": 6,
    "start_time": "2022-05-08T18:30:25.470Z"
   },
   {
    "duration": 6,
    "start_time": "2022-05-08T18:30:25.478Z"
   },
   {
    "duration": 422,
    "start_time": "2022-05-08T18:30:25.486Z"
   },
   {
    "duration": 140,
    "start_time": "2022-05-08T18:30:25.909Z"
   },
   {
    "duration": 139,
    "start_time": "2022-05-08T18:30:26.050Z"
   },
   {
    "duration": 38,
    "start_time": "2022-05-08T18:30:26.191Z"
   },
   {
    "duration": 20,
    "start_time": "2022-05-08T18:30:26.231Z"
   },
   {
    "duration": 5,
    "start_time": "2022-05-08T18:30:26.253Z"
   },
   {
    "duration": 7,
    "start_time": "2022-05-08T18:30:26.260Z"
   },
   {
    "duration": 6,
    "start_time": "2022-05-08T18:30:26.269Z"
   },
   {
    "duration": 202,
    "start_time": "2022-05-08T18:30:26.277Z"
   },
   {
    "duration": 245,
    "start_time": "2022-05-08T18:30:26.481Z"
   },
   {
    "duration": 187,
    "start_time": "2022-05-08T18:30:26.728Z"
   },
   {
    "duration": 11,
    "start_time": "2022-05-08T18:30:26.916Z"
   },
   {
    "duration": 19,
    "start_time": "2022-05-08T18:30:26.929Z"
   },
   {
    "duration": 11,
    "start_time": "2022-05-08T18:30:26.949Z"
   },
   {
    "duration": 395,
    "start_time": "2022-05-08T18:30:26.961Z"
   },
   {
    "duration": 12,
    "start_time": "2022-05-08T18:30:27.358Z"
   },
   {
    "duration": 15,
    "start_time": "2022-05-08T18:30:27.372Z"
   },
   {
    "duration": 5,
    "start_time": "2022-05-08T18:30:27.392Z"
   },
   {
    "duration": 29,
    "start_time": "2022-05-08T18:30:27.398Z"
   },
   {
    "duration": 13,
    "start_time": "2022-05-08T18:30:27.432Z"
   },
   {
    "duration": 67,
    "start_time": "2022-05-08T18:32:55.565Z"
   },
   {
    "duration": 657,
    "start_time": "2022-05-08T18:33:04.241Z"
   },
   {
    "duration": 176,
    "start_time": "2022-05-08T18:33:04.900Z"
   },
   {
    "duration": 119,
    "start_time": "2022-05-08T18:33:05.077Z"
   },
   {
    "duration": 25,
    "start_time": "2022-05-08T18:33:05.198Z"
   },
   {
    "duration": 35,
    "start_time": "2022-05-08T18:33:05.225Z"
   },
   {
    "duration": 22,
    "start_time": "2022-05-08T18:33:05.261Z"
   },
   {
    "duration": 14,
    "start_time": "2022-05-08T18:33:05.284Z"
   },
   {
    "duration": 118,
    "start_time": "2022-05-08T18:33:05.299Z"
   },
   {
    "duration": 166,
    "start_time": "2022-05-08T18:33:05.419Z"
   },
   {
    "duration": 8,
    "start_time": "2022-05-08T18:33:05.588Z"
   },
   {
    "duration": 38,
    "start_time": "2022-05-08T18:33:05.598Z"
   },
   {
    "duration": 107,
    "start_time": "2022-05-08T18:33:05.638Z"
   },
   {
    "duration": 92,
    "start_time": "2022-05-08T18:33:05.747Z"
   },
   {
    "duration": 48,
    "start_time": "2022-05-08T18:33:05.841Z"
   },
   {
    "duration": 119,
    "start_time": "2022-05-08T18:33:05.891Z"
   },
   {
    "duration": 33,
    "start_time": "2022-05-08T18:33:06.012Z"
   },
   {
    "duration": 54,
    "start_time": "2022-05-08T18:33:06.048Z"
   },
   {
    "duration": 23,
    "start_time": "2022-05-08T18:33:06.104Z"
   },
   {
    "duration": 21,
    "start_time": "2022-05-08T18:33:06.129Z"
   },
   {
    "duration": 82,
    "start_time": "2022-05-08T18:33:06.152Z"
   },
   {
    "duration": 80,
    "start_time": "2022-05-08T18:33:06.236Z"
   },
   {
    "duration": 7,
    "start_time": "2022-05-08T18:33:06.318Z"
   },
   {
    "duration": 34,
    "start_time": "2022-05-08T18:33:06.327Z"
   },
   {
    "duration": 64,
    "start_time": "2022-05-08T18:33:06.363Z"
   },
   {
    "duration": 32,
    "start_time": "2022-05-08T18:33:06.429Z"
   },
   {
    "duration": 3,
    "start_time": "2022-05-08T18:33:06.463Z"
   },
   {
    "duration": 20,
    "start_time": "2022-05-08T18:33:06.468Z"
   },
   {
    "duration": 97,
    "start_time": "2022-05-08T18:33:06.494Z"
   },
   {
    "duration": 55,
    "start_time": "2022-05-08T18:33:06.593Z"
   },
   {
    "duration": 5,
    "start_time": "2022-05-08T18:33:06.650Z"
   },
   {
    "duration": 8,
    "start_time": "2022-05-08T18:33:06.656Z"
   },
   {
    "duration": 11,
    "start_time": "2022-05-08T18:33:06.666Z"
   },
   {
    "duration": 15,
    "start_time": "2022-05-08T18:33:06.679Z"
   },
   {
    "duration": 3,
    "start_time": "2022-05-08T18:33:06.696Z"
   },
   {
    "duration": 40,
    "start_time": "2022-05-08T18:33:06.701Z"
   },
   {
    "duration": 41,
    "start_time": "2022-05-08T18:33:06.745Z"
   },
   {
    "duration": 41,
    "start_time": "2022-05-08T18:33:06.788Z"
   },
   {
    "duration": 9,
    "start_time": "2022-05-08T18:33:06.831Z"
   },
   {
    "duration": 26,
    "start_time": "2022-05-08T18:33:06.842Z"
   },
   {
    "duration": 12,
    "start_time": "2022-05-08T18:33:06.870Z"
   },
   {
    "duration": 18,
    "start_time": "2022-05-08T18:33:06.883Z"
   },
   {
    "duration": 29,
    "start_time": "2022-05-08T18:33:06.903Z"
   },
   {
    "duration": 3,
    "start_time": "2022-05-08T18:33:06.936Z"
   },
   {
    "duration": 16,
    "start_time": "2022-05-08T18:33:06.941Z"
   },
   {
    "duration": 10,
    "start_time": "2022-05-08T18:33:06.959Z"
   },
   {
    "duration": 25,
    "start_time": "2022-05-08T18:33:06.971Z"
   },
   {
    "duration": 49,
    "start_time": "2022-05-08T18:33:06.998Z"
   },
   {
    "duration": 18,
    "start_time": "2022-05-08T18:33:07.049Z"
   },
   {
    "duration": 20,
    "start_time": "2022-05-08T18:33:07.069Z"
   },
   {
    "duration": 21,
    "start_time": "2022-05-08T18:33:07.091Z"
   },
   {
    "duration": 7,
    "start_time": "2022-05-08T18:33:07.114Z"
   },
   {
    "duration": 50,
    "start_time": "2022-05-08T18:33:07.124Z"
   },
   {
    "duration": 9,
    "start_time": "2022-05-08T18:33:07.176Z"
   },
   {
    "duration": 39,
    "start_time": "2022-05-08T18:33:07.187Z"
   },
   {
    "duration": 10,
    "start_time": "2022-05-08T18:33:07.233Z"
   },
   {
    "duration": 41,
    "start_time": "2022-05-08T18:33:07.245Z"
   },
   {
    "duration": 13,
    "start_time": "2022-05-08T18:33:07.288Z"
   },
   {
    "duration": 43,
    "start_time": "2022-05-08T18:33:07.303Z"
   },
   {
    "duration": 15,
    "start_time": "2022-05-08T18:33:07.348Z"
   },
   {
    "duration": 9,
    "start_time": "2022-05-08T18:33:07.364Z"
   },
   {
    "duration": 11,
    "start_time": "2022-05-08T18:33:07.374Z"
   },
   {
    "duration": 10,
    "start_time": "2022-05-08T18:33:07.387Z"
   },
   {
    "duration": 479,
    "start_time": "2022-05-08T18:33:07.399Z"
   },
   {
    "duration": 147,
    "start_time": "2022-05-08T18:33:07.879Z"
   },
   {
    "duration": 135,
    "start_time": "2022-05-08T18:33:08.028Z"
   },
   {
    "duration": 22,
    "start_time": "2022-05-08T18:33:08.165Z"
   },
   {
    "duration": 12,
    "start_time": "2022-05-08T18:33:08.189Z"
   },
   {
    "duration": 27,
    "start_time": "2022-05-08T18:33:08.203Z"
   },
   {
    "duration": 13,
    "start_time": "2022-05-08T18:33:08.234Z"
   },
   {
    "duration": 9,
    "start_time": "2022-05-08T18:33:08.249Z"
   },
   {
    "duration": 140,
    "start_time": "2022-05-08T18:33:08.259Z"
   },
   {
    "duration": 187,
    "start_time": "2022-05-08T18:33:08.401Z"
   },
   {
    "duration": 175,
    "start_time": "2022-05-08T18:33:08.590Z"
   },
   {
    "duration": 6,
    "start_time": "2022-05-08T18:33:08.767Z"
   },
   {
    "duration": 7,
    "start_time": "2022-05-08T18:33:08.775Z"
   },
   {
    "duration": 5,
    "start_time": "2022-05-08T18:33:08.784Z"
   },
   {
    "duration": 421,
    "start_time": "2022-05-08T18:33:08.791Z"
   },
   {
    "duration": 28,
    "start_time": "2022-05-08T18:33:09.214Z"
   },
   {
    "duration": 17,
    "start_time": "2022-05-08T18:33:09.244Z"
   },
   {
    "duration": 5,
    "start_time": "2022-05-08T18:33:09.263Z"
   },
   {
    "duration": 10,
    "start_time": "2022-05-08T18:33:09.269Z"
   },
   {
    "duration": 6,
    "start_time": "2022-05-08T18:33:09.286Z"
   },
   {
    "duration": 633,
    "start_time": "2022-05-08T18:42:52.009Z"
   },
   {
    "duration": 165,
    "start_time": "2022-05-08T18:42:52.644Z"
   },
   {
    "duration": 124,
    "start_time": "2022-05-08T18:42:52.810Z"
   },
   {
    "duration": 22,
    "start_time": "2022-05-08T18:42:52.937Z"
   },
   {
    "duration": 33,
    "start_time": "2022-05-08T18:42:52.961Z"
   },
   {
    "duration": 36,
    "start_time": "2022-05-08T18:42:52.995Z"
   },
   {
    "duration": 16,
    "start_time": "2022-05-08T18:42:53.033Z"
   },
   {
    "duration": 136,
    "start_time": "2022-05-08T18:42:53.051Z"
   },
   {
    "duration": 213,
    "start_time": "2022-05-08T18:42:53.189Z"
   },
   {
    "duration": 24,
    "start_time": "2022-05-08T18:42:53.404Z"
   },
   {
    "duration": 28,
    "start_time": "2022-05-08T18:42:53.429Z"
   },
   {
    "duration": 116,
    "start_time": "2022-05-08T18:42:53.459Z"
   },
   {
    "duration": 80,
    "start_time": "2022-05-08T18:42:53.577Z"
   },
   {
    "duration": 44,
    "start_time": "2022-05-08T18:42:53.659Z"
   },
   {
    "duration": 100,
    "start_time": "2022-05-08T18:42:53.705Z"
   },
   {
    "duration": 37,
    "start_time": "2022-05-08T18:42:53.807Z"
   },
   {
    "duration": 51,
    "start_time": "2022-05-08T18:42:53.845Z"
   },
   {
    "duration": 6,
    "start_time": "2022-05-08T18:42:53.898Z"
   },
   {
    "duration": 17,
    "start_time": "2022-05-08T18:42:53.924Z"
   },
   {
    "duration": 69,
    "start_time": "2022-05-08T18:42:53.943Z"
   },
   {
    "duration": 60,
    "start_time": "2022-05-08T18:42:54.023Z"
   },
   {
    "duration": 3,
    "start_time": "2022-05-08T18:42:54.085Z"
   },
   {
    "duration": 17,
    "start_time": "2022-05-08T18:42:54.089Z"
   },
   {
    "duration": 39,
    "start_time": "2022-05-08T18:42:54.124Z"
   },
   {
    "duration": 25,
    "start_time": "2022-05-08T18:42:54.165Z"
   },
   {
    "duration": 3,
    "start_time": "2022-05-08T18:42:54.192Z"
   },
   {
    "duration": 42,
    "start_time": "2022-05-08T18:42:54.196Z"
   },
   {
    "duration": 52,
    "start_time": "2022-05-08T18:42:54.243Z"
   },
   {
    "duration": 48,
    "start_time": "2022-05-08T18:42:54.297Z"
   },
   {
    "duration": 5,
    "start_time": "2022-05-08T18:42:54.347Z"
   },
   {
    "duration": 5,
    "start_time": "2022-05-08T18:42:54.354Z"
   },
   {
    "duration": 7,
    "start_time": "2022-05-08T18:42:54.361Z"
   },
   {
    "duration": 10,
    "start_time": "2022-05-08T18:42:54.370Z"
   },
   {
    "duration": 3,
    "start_time": "2022-05-08T18:42:54.382Z"
   },
   {
    "duration": 57,
    "start_time": "2022-05-08T18:42:54.387Z"
   },
   {
    "duration": 22,
    "start_time": "2022-05-08T18:42:54.446Z"
   },
   {
    "duration": 23,
    "start_time": "2022-05-08T18:42:54.470Z"
   },
   {
    "duration": 71,
    "start_time": "2022-05-08T18:42:54.495Z"
   },
   {
    "duration": 3,
    "start_time": "2022-05-08T18:42:54.568Z"
   },
   {
    "duration": 52,
    "start_time": "2022-05-08T18:42:54.573Z"
   },
   {
    "duration": 14,
    "start_time": "2022-05-08T18:42:54.627Z"
   },
   {
    "duration": 21,
    "start_time": "2022-05-08T18:42:54.643Z"
   },
   {
    "duration": 7,
    "start_time": "2022-05-08T18:42:54.665Z"
   },
   {
    "duration": 64,
    "start_time": "2022-05-08T18:42:54.674Z"
   },
   {
    "duration": 7,
    "start_time": "2022-05-08T18:42:54.739Z"
   },
   {
    "duration": 30,
    "start_time": "2022-05-08T18:42:54.748Z"
   },
   {
    "duration": 5,
    "start_time": "2022-05-08T18:42:54.779Z"
   },
   {
    "duration": 56,
    "start_time": "2022-05-08T18:42:54.786Z"
   },
   {
    "duration": 11,
    "start_time": "2022-05-08T18:42:54.844Z"
   },
   {
    "duration": 23,
    "start_time": "2022-05-08T18:42:54.857Z"
   },
   {
    "duration": 13,
    "start_time": "2022-05-08T18:42:54.882Z"
   },
   {
    "duration": 5,
    "start_time": "2022-05-08T18:42:54.896Z"
   },
   {
    "duration": 24,
    "start_time": "2022-05-08T18:42:54.903Z"
   },
   {
    "duration": 16,
    "start_time": "2022-05-08T18:42:54.932Z"
   },
   {
    "duration": 498,
    "start_time": "2022-05-08T18:42:54.950Z"
   },
   {
    "duration": 190,
    "start_time": "2022-05-08T18:42:55.451Z"
   },
   {
    "duration": 139,
    "start_time": "2022-05-08T18:42:55.643Z"
   },
   {
    "duration": 23,
    "start_time": "2022-05-08T18:42:55.784Z"
   },
   {
    "duration": 29,
    "start_time": "2022-05-08T18:42:55.809Z"
   },
   {
    "duration": 5,
    "start_time": "2022-05-08T18:42:55.840Z"
   },
   {
    "duration": 9,
    "start_time": "2022-05-08T18:42:55.847Z"
   },
   {
    "duration": 8,
    "start_time": "2022-05-08T18:42:55.858Z"
   },
   {
    "duration": 143,
    "start_time": "2022-05-08T18:42:55.867Z"
   },
   {
    "duration": 179,
    "start_time": "2022-05-08T18:42:56.012Z"
   },
   {
    "duration": 137,
    "start_time": "2022-05-08T18:42:56.193Z"
   },
   {
    "duration": 7,
    "start_time": "2022-05-08T18:42:56.334Z"
   },
   {
    "duration": 11,
    "start_time": "2022-05-08T18:42:56.343Z"
   },
   {
    "duration": 7,
    "start_time": "2022-05-08T18:42:56.355Z"
   },
   {
    "duration": 501,
    "start_time": "2022-05-08T18:42:56.363Z"
   },
   {
    "duration": 14,
    "start_time": "2022-05-08T18:42:56.866Z"
   },
   {
    "duration": 18,
    "start_time": "2022-05-08T18:42:56.881Z"
   },
   {
    "duration": 5,
    "start_time": "2022-05-08T18:42:56.900Z"
   },
   {
    "duration": 24,
    "start_time": "2022-05-08T18:42:56.906Z"
   },
   {
    "duration": 14,
    "start_time": "2022-05-08T18:42:56.932Z"
   },
   {
    "duration": 6,
    "start_time": "2022-05-08T20:42:03.888Z"
   },
   {
    "duration": 7,
    "start_time": "2022-05-08T20:42:20.084Z"
   },
   {
    "duration": 4,
    "start_time": "2022-05-08T20:54:56.980Z"
   },
   {
    "duration": 29,
    "start_time": "2022-05-08T21:06:34.745Z"
   },
   {
    "duration": 12,
    "start_time": "2022-05-08T21:06:39.986Z"
   },
   {
    "duration": 661,
    "start_time": "2022-05-08T21:43:06.812Z"
   },
   {
    "duration": 170,
    "start_time": "2022-05-08T21:43:07.474Z"
   },
   {
    "duration": 121,
    "start_time": "2022-05-08T21:43:07.646Z"
   },
   {
    "duration": 23,
    "start_time": "2022-05-08T21:43:07.770Z"
   },
   {
    "duration": 41,
    "start_time": "2022-05-08T21:43:07.794Z"
   },
   {
    "duration": 30,
    "start_time": "2022-05-08T21:43:07.837Z"
   },
   {
    "duration": 21,
    "start_time": "2022-05-08T21:43:07.868Z"
   },
   {
    "duration": 126,
    "start_time": "2022-05-08T21:43:07.891Z"
   },
   {
    "duration": 170,
    "start_time": "2022-05-08T21:43:08.023Z"
   },
   {
    "duration": 9,
    "start_time": "2022-05-08T21:43:08.195Z"
   },
   {
    "duration": 37,
    "start_time": "2022-05-08T21:43:08.206Z"
   },
   {
    "duration": 118,
    "start_time": "2022-05-08T21:43:08.245Z"
   },
   {
    "duration": 89,
    "start_time": "2022-05-08T21:43:08.365Z"
   },
   {
    "duration": 45,
    "start_time": "2022-05-08T21:43:08.455Z"
   },
   {
    "duration": 97,
    "start_time": "2022-05-08T21:43:08.502Z"
   },
   {
    "duration": 34,
    "start_time": "2022-05-08T21:43:08.600Z"
   },
   {
    "duration": 94,
    "start_time": "2022-05-08T21:43:08.636Z"
   },
   {
    "duration": 9,
    "start_time": "2022-05-08T21:43:08.732Z"
   },
   {
    "duration": 29,
    "start_time": "2022-05-08T21:43:08.743Z"
   },
   {
    "duration": 106,
    "start_time": "2022-05-08T21:43:08.774Z"
   },
   {
    "duration": 100,
    "start_time": "2022-05-08T21:43:08.882Z"
   },
   {
    "duration": 3,
    "start_time": "2022-05-08T21:43:08.984Z"
   },
   {
    "duration": 24,
    "start_time": "2022-05-08T21:43:08.989Z"
   },
   {
    "duration": 61,
    "start_time": "2022-05-08T21:43:09.014Z"
   },
   {
    "duration": 51,
    "start_time": "2022-05-08T21:43:09.077Z"
   },
   {
    "duration": 4,
    "start_time": "2022-05-08T21:43:09.130Z"
   },
   {
    "duration": 22,
    "start_time": "2022-05-08T21:43:09.136Z"
   },
   {
    "duration": 95,
    "start_time": "2022-05-08T21:43:09.164Z"
   },
   {
    "duration": 48,
    "start_time": "2022-05-08T21:43:09.261Z"
   },
   {
    "duration": 16,
    "start_time": "2022-05-08T21:43:09.311Z"
   },
   {
    "duration": 9,
    "start_time": "2022-05-08T21:43:09.329Z"
   },
   {
    "duration": 17,
    "start_time": "2022-05-08T21:43:09.340Z"
   },
   {
    "duration": 17,
    "start_time": "2022-05-08T21:43:09.359Z"
   },
   {
    "duration": 3,
    "start_time": "2022-05-08T21:43:09.378Z"
   },
   {
    "duration": 19,
    "start_time": "2022-05-08T21:43:09.383Z"
   },
   {
    "duration": 44,
    "start_time": "2022-05-08T21:43:09.404Z"
   },
   {
    "duration": 25,
    "start_time": "2022-05-08T21:43:09.451Z"
   },
   {
    "duration": 71,
    "start_time": "2022-05-08T21:43:09.478Z"
   },
   {
    "duration": 4,
    "start_time": "2022-05-08T21:43:09.551Z"
   },
   {
    "duration": 43,
    "start_time": "2022-05-08T21:43:09.557Z"
   },
   {
    "duration": 36,
    "start_time": "2022-05-08T21:43:09.602Z"
   },
   {
    "duration": 21,
    "start_time": "2022-05-08T21:43:09.640Z"
   },
   {
    "duration": 34,
    "start_time": "2022-05-08T21:43:09.663Z"
   },
   {
    "duration": 58,
    "start_time": "2022-05-08T21:43:09.698Z"
   },
   {
    "duration": 28,
    "start_time": "2022-05-08T21:43:09.758Z"
   },
   {
    "duration": 6,
    "start_time": "2022-05-08T21:43:09.788Z"
   },
   {
    "duration": 6,
    "start_time": "2022-05-08T21:43:09.823Z"
   },
   {
    "duration": 9,
    "start_time": "2022-05-08T21:43:09.831Z"
   },
   {
    "duration": 377,
    "start_time": "2022-05-08T21:43:09.841Z"
   },
   {
    "duration": 138,
    "start_time": "2022-05-08T21:43:10.220Z"
   },
   {
    "duration": 138,
    "start_time": "2022-05-08T21:43:10.359Z"
   },
   {
    "duration": 15,
    "start_time": "2022-05-08T21:43:10.499Z"
   },
   {
    "duration": 12,
    "start_time": "2022-05-08T21:43:10.516Z"
   },
   {
    "duration": 12,
    "start_time": "2022-05-08T21:43:10.530Z"
   },
   {
    "duration": 7,
    "start_time": "2022-05-08T21:43:10.543Z"
   },
   {
    "duration": 152,
    "start_time": "2022-05-08T21:43:10.552Z"
   },
   {
    "duration": 180,
    "start_time": "2022-05-08T21:43:10.705Z"
   },
   {
    "duration": 138,
    "start_time": "2022-05-08T21:43:10.887Z"
   },
   {
    "duration": 392,
    "start_time": "2022-05-08T21:43:11.027Z"
   },
   {
    "duration": 12,
    "start_time": "2022-05-08T21:43:11.423Z"
   },
   {
    "duration": 14,
    "start_time": "2022-05-08T21:43:11.438Z"
   },
   {
    "duration": 4,
    "start_time": "2022-05-08T21:43:11.454Z"
   },
   {
    "duration": 116,
    "start_time": "2022-05-09T21:09:10.779Z"
   },
   {
    "duration": 817,
    "start_time": "2022-05-09T21:09:28.230Z"
   },
   {
    "duration": 234,
    "start_time": "2022-05-09T21:09:29.049Z"
   },
   {
    "duration": 167,
    "start_time": "2022-05-09T21:09:29.292Z"
   },
   {
    "duration": 36,
    "start_time": "2022-05-09T21:09:29.463Z"
   },
   {
    "duration": 70,
    "start_time": "2022-05-09T21:09:29.502Z"
   },
   {
    "duration": 49,
    "start_time": "2022-05-09T21:09:29.574Z"
   },
   {
    "duration": 28,
    "start_time": "2022-05-09T21:09:29.625Z"
   },
   {
    "duration": 164,
    "start_time": "2022-05-09T21:09:29.656Z"
   },
   {
    "duration": 310,
    "start_time": "2022-05-09T21:09:29.822Z"
   },
   {
    "duration": 19,
    "start_time": "2022-05-09T21:09:30.138Z"
   },
   {
    "duration": 70,
    "start_time": "2022-05-09T21:09:30.159Z"
   },
   {
    "duration": 174,
    "start_time": "2022-05-09T21:09:30.231Z"
   },
   {
    "duration": 131,
    "start_time": "2022-05-09T21:09:30.410Z"
   },
   {
    "duration": 86,
    "start_time": "2022-05-09T21:09:30.543Z"
   },
   {
    "duration": 170,
    "start_time": "2022-05-09T21:09:30.631Z"
   },
   {
    "duration": 38,
    "start_time": "2022-05-09T21:09:30.803Z"
   },
   {
    "duration": 140,
    "start_time": "2022-05-09T21:09:30.843Z"
   },
   {
    "duration": 12,
    "start_time": "2022-05-09T21:09:30.986Z"
   },
   {
    "duration": 86,
    "start_time": "2022-05-09T21:09:31.001Z"
   },
   {
    "duration": 122,
    "start_time": "2022-05-09T21:09:31.089Z"
   },
   {
    "duration": 95,
    "start_time": "2022-05-09T21:09:31.213Z"
   },
   {
    "duration": 5,
    "start_time": "2022-05-09T21:09:31.311Z"
   },
   {
    "duration": 42,
    "start_time": "2022-05-09T21:09:31.318Z"
   },
   {
    "duration": 64,
    "start_time": "2022-05-09T21:09:31.363Z"
   },
   {
    "duration": 34,
    "start_time": "2022-05-09T21:09:31.429Z"
   },
   {
    "duration": 27,
    "start_time": "2022-05-09T21:09:31.466Z"
   },
   {
    "duration": 55,
    "start_time": "2022-05-09T21:09:31.496Z"
   },
   {
    "duration": 83,
    "start_time": "2022-05-09T21:09:31.558Z"
   },
   {
    "duration": 65,
    "start_time": "2022-05-09T21:09:31.644Z"
   },
   {
    "duration": 10,
    "start_time": "2022-05-09T21:09:31.711Z"
   },
   {
    "duration": 10,
    "start_time": "2022-05-09T21:09:31.725Z"
   },
   {
    "duration": 8,
    "start_time": "2022-05-09T21:09:31.737Z"
   },
   {
    "duration": 11,
    "start_time": "2022-05-09T21:09:31.747Z"
   },
   {
    "duration": 18,
    "start_time": "2022-05-09T21:09:31.800Z"
   },
   {
    "duration": 4,
    "start_time": "2022-05-09T21:09:31.821Z"
   },
   {
    "duration": 37,
    "start_time": "2022-05-09T21:09:31.827Z"
   },
   {
    "duration": 62,
    "start_time": "2022-05-09T21:09:31.867Z"
   },
   {
    "duration": 68,
    "start_time": "2022-05-09T21:09:31.932Z"
   },
   {
    "duration": 60,
    "start_time": "2022-05-09T21:09:32.002Z"
   },
   {
    "duration": 5,
    "start_time": "2022-05-09T21:09:32.065Z"
   },
   {
    "duration": 134,
    "start_time": "2022-05-09T21:09:32.072Z"
   },
   {
    "duration": 24,
    "start_time": "2022-05-09T21:09:32.208Z"
   },
   {
    "duration": 31,
    "start_time": "2022-05-09T21:09:32.235Z"
   },
   {
    "duration": 62,
    "start_time": "2022-05-09T21:09:32.294Z"
   },
   {
    "duration": 77,
    "start_time": "2022-05-09T21:09:32.358Z"
   },
   {
    "duration": 62,
    "start_time": "2022-05-09T21:09:32.438Z"
   },
   {
    "duration": 11,
    "start_time": "2022-05-09T21:09:32.502Z"
   },
   {
    "duration": 23,
    "start_time": "2022-05-09T21:09:32.523Z"
   },
   {
    "duration": 9,
    "start_time": "2022-05-09T21:09:32.549Z"
   },
   {
    "duration": 1004,
    "start_time": "2022-05-09T21:09:32.560Z"
   },
   {
    "duration": 273,
    "start_time": "2022-05-09T21:09:33.567Z"
   },
   {
    "duration": 253,
    "start_time": "2022-05-09T21:09:33.843Z"
   },
   {
    "duration": 23,
    "start_time": "2022-05-09T21:09:34.101Z"
   },
   {
    "duration": 7,
    "start_time": "2022-05-09T21:09:34.127Z"
   },
   {
    "duration": 9,
    "start_time": "2022-05-09T21:09:34.137Z"
   },
   {
    "duration": 57,
    "start_time": "2022-05-09T21:09:34.149Z"
   },
   {
    "duration": 235,
    "start_time": "2022-05-09T21:09:34.211Z"
   },
   {
    "duration": 275,
    "start_time": "2022-05-09T21:09:34.449Z"
   },
   {
    "duration": 323,
    "start_time": "2022-05-09T21:09:34.727Z"
   },
   {
    "duration": 611,
    "start_time": "2022-05-09T21:09:35.053Z"
   },
   {
    "duration": 28,
    "start_time": "2022-05-09T21:09:35.667Z"
   },
   {
    "duration": 42,
    "start_time": "2022-05-09T21:09:35.699Z"
   },
   {
    "duration": 9,
    "start_time": "2022-05-09T21:09:35.744Z"
   },
   {
    "duration": 74,
    "start_time": "2022-05-09T21:12:08.653Z"
   },
   {
    "duration": 217,
    "start_time": "2022-05-09T21:12:10.598Z"
   },
   {
    "duration": 3941,
    "start_time": "2022-05-09T21:14:28.229Z"
   },
   {
    "duration": 3339,
    "start_time": "2022-05-09T21:14:35.514Z"
   },
   {
    "duration": 799,
    "start_time": "2022-05-09T21:14:51.404Z"
   },
   {
    "duration": 247,
    "start_time": "2022-05-09T21:14:52.206Z"
   },
   {
    "duration": 175,
    "start_time": "2022-05-09T21:14:52.456Z"
   },
   {
    "duration": 36,
    "start_time": "2022-05-09T21:14:52.633Z"
   },
   {
    "duration": 68,
    "start_time": "2022-05-09T21:14:52.672Z"
   },
   {
    "duration": 35,
    "start_time": "2022-05-09T21:14:52.743Z"
   },
   {
    "duration": 33,
    "start_time": "2022-05-09T21:14:52.781Z"
   },
   {
    "duration": 149,
    "start_time": "2022-05-09T21:14:52.816Z"
   },
   {
    "duration": 254,
    "start_time": "2022-05-09T21:14:52.968Z"
   },
   {
    "duration": 16,
    "start_time": "2022-05-09T21:14:53.225Z"
   },
   {
    "duration": 61,
    "start_time": "2022-05-09T21:14:53.244Z"
   },
   {
    "duration": 147,
    "start_time": "2022-05-09T21:14:53.308Z"
   },
   {
    "duration": 128,
    "start_time": "2022-05-09T21:14:53.457Z"
   },
   {
    "duration": 67,
    "start_time": "2022-05-09T21:14:53.595Z"
   },
   {
    "duration": 159,
    "start_time": "2022-05-09T21:14:53.664Z"
   },
   {
    "duration": 36,
    "start_time": "2022-05-09T21:14:53.825Z"
   },
   {
    "duration": 119,
    "start_time": "2022-05-09T21:14:53.863Z"
   },
   {
    "duration": 12,
    "start_time": "2022-05-09T21:14:53.993Z"
   },
   {
    "duration": 46,
    "start_time": "2022-05-09T21:14:54.009Z"
   },
   {
    "duration": 103,
    "start_time": "2022-05-09T21:14:54.057Z"
   },
   {
    "duration": 96,
    "start_time": "2022-05-09T21:14:54.162Z"
   },
   {
    "duration": 4,
    "start_time": "2022-05-09T21:14:54.260Z"
   },
   {
    "duration": 49,
    "start_time": "2022-05-09T21:14:54.267Z"
   },
   {
    "duration": 49,
    "start_time": "2022-05-09T21:14:54.318Z"
   },
   {
    "duration": 65,
    "start_time": "2022-05-09T21:14:54.370Z"
   },
   {
    "duration": 4,
    "start_time": "2022-05-09T21:14:54.437Z"
   },
   {
    "duration": 23,
    "start_time": "2022-05-09T21:14:54.443Z"
   },
   {
    "duration": 96,
    "start_time": "2022-05-09T21:14:54.468Z"
   },
   {
    "duration": 74,
    "start_time": "2022-05-09T21:14:54.566Z"
   },
   {
    "duration": 7,
    "start_time": "2022-05-09T21:14:54.642Z"
   },
   {
    "duration": 9,
    "start_time": "2022-05-09T21:14:54.651Z"
   },
   {
    "duration": 38,
    "start_time": "2022-05-09T21:14:54.662Z"
   },
   {
    "duration": 17,
    "start_time": "2022-05-09T21:14:54.704Z"
   },
   {
    "duration": 15,
    "start_time": "2022-05-09T21:14:54.724Z"
   },
   {
    "duration": 5,
    "start_time": "2022-05-09T21:14:54.742Z"
   },
   {
    "duration": 48,
    "start_time": "2022-05-09T21:14:54.750Z"
   },
   {
    "duration": 47,
    "start_time": "2022-05-09T21:14:54.801Z"
   },
   {
    "duration": 69,
    "start_time": "2022-05-09T21:14:54.850Z"
   },
   {
    "duration": 56,
    "start_time": "2022-05-09T21:14:54.922Z"
   },
   {
    "duration": 6,
    "start_time": "2022-05-09T21:14:54.993Z"
   },
   {
    "duration": 88,
    "start_time": "2022-05-09T21:14:55.009Z"
   },
   {
    "duration": 28,
    "start_time": "2022-05-09T21:14:55.100Z"
   },
   {
    "duration": 65,
    "start_time": "2022-05-09T21:14:55.131Z"
   },
   {
    "duration": 56,
    "start_time": "2022-05-09T21:14:55.199Z"
   },
   {
    "duration": 81,
    "start_time": "2022-05-09T21:14:55.257Z"
   },
   {
    "duration": 7,
    "start_time": "2022-05-09T21:14:55.340Z"
   },
   {
    "duration": 70,
    "start_time": "2022-05-09T21:14:55.349Z"
   },
   {
    "duration": 8,
    "start_time": "2022-05-09T21:14:55.421Z"
   },
   {
    "duration": 13,
    "start_time": "2022-05-09T21:14:55.432Z"
   },
   {
    "duration": 10,
    "start_time": "2022-05-09T21:14:55.448Z"
   },
   {
    "duration": 821,
    "start_time": "2022-05-09T21:14:55.461Z"
   },
   {
    "duration": 248,
    "start_time": "2022-05-09T21:14:56.285Z"
   },
   {
    "duration": 237,
    "start_time": "2022-05-09T21:14:56.536Z"
   },
   {
    "duration": 36,
    "start_time": "2022-05-09T21:14:56.775Z"
   },
   {
    "duration": 16,
    "start_time": "2022-05-09T21:14:56.816Z"
   },
   {
    "duration": 8,
    "start_time": "2022-05-09T21:14:56.835Z"
   },
   {
    "duration": 9,
    "start_time": "2022-05-09T21:14:56.846Z"
   },
   {
    "duration": 329,
    "start_time": "2022-05-09T21:14:56.857Z"
   },
   {
    "duration": 380,
    "start_time": "2022-05-09T21:14:57.188Z"
   },
   {
    "duration": 242,
    "start_time": "2022-05-09T21:14:57.571Z"
   },
   {
    "duration": 528,
    "start_time": "2022-05-09T21:14:57.815Z"
   },
   {
    "duration": 19,
    "start_time": "2022-05-09T21:14:58.345Z"
   },
   {
    "duration": 47,
    "start_time": "2022-05-09T21:14:58.366Z"
   },
   {
    "duration": 8,
    "start_time": "2022-05-09T21:14:58.416Z"
   },
   {
    "duration": 414,
    "start_time": "2022-05-09T21:18:33.724Z"
   },
   {
    "duration": 227,
    "start_time": "2022-05-09T21:22:52.662Z"
   },
   {
    "duration": 7,
    "start_time": "2022-05-09T21:23:12.712Z"
   },
   {
    "duration": 51,
    "start_time": "2022-05-09T21:23:44.803Z"
   },
   {
    "duration": 61,
    "start_time": "2022-05-09T21:23:54.615Z"
   },
   {
    "duration": 68,
    "start_time": "2022-05-09T21:24:08.529Z"
   },
   {
    "duration": 60,
    "start_time": "2022-05-09T21:25:36.883Z"
   },
   {
    "duration": 824,
    "start_time": "2022-05-09T21:35:21.903Z"
   },
   {
    "duration": 328,
    "start_time": "2022-05-09T21:35:22.730Z"
   },
   {
    "duration": 178,
    "start_time": "2022-05-09T21:35:23.060Z"
   },
   {
    "duration": 37,
    "start_time": "2022-05-09T21:35:23.240Z"
   },
   {
    "duration": 69,
    "start_time": "2022-05-09T21:35:23.282Z"
   },
   {
    "duration": 48,
    "start_time": "2022-05-09T21:35:23.353Z"
   },
   {
    "duration": 27,
    "start_time": "2022-05-09T21:35:23.404Z"
   },
   {
    "duration": 180,
    "start_time": "2022-05-09T21:35:23.435Z"
   },
   {
    "duration": 236,
    "start_time": "2022-05-09T21:35:23.617Z"
   },
   {
    "duration": 13,
    "start_time": "2022-05-09T21:35:23.856Z"
   },
   {
    "duration": 57,
    "start_time": "2022-05-09T21:35:23.871Z"
   },
   {
    "duration": 164,
    "start_time": "2022-05-09T21:35:23.931Z"
   },
   {
    "duration": 133,
    "start_time": "2022-05-09T21:35:24.097Z"
   },
   {
    "duration": 84,
    "start_time": "2022-05-09T21:35:24.235Z"
   },
   {
    "duration": 160,
    "start_time": "2022-05-09T21:35:24.321Z"
   },
   {
    "duration": 44,
    "start_time": "2022-05-09T21:35:24.483Z"
   },
   {
    "duration": 140,
    "start_time": "2022-05-09T21:35:24.530Z"
   },
   {
    "duration": 11,
    "start_time": "2022-05-09T21:35:24.673Z"
   },
   {
    "duration": 33,
    "start_time": "2022-05-09T21:35:24.696Z"
   },
   {
    "duration": 137,
    "start_time": "2022-05-09T21:35:24.731Z"
   },
   {
    "duration": 130,
    "start_time": "2022-05-09T21:35:24.870Z"
   },
   {
    "duration": 5,
    "start_time": "2022-05-09T21:35:25.002Z"
   },
   {
    "duration": 32,
    "start_time": "2022-05-09T21:35:25.009Z"
   },
   {
    "duration": 78,
    "start_time": "2022-05-09T21:35:25.043Z"
   },
   {
    "duration": 37,
    "start_time": "2022-05-09T21:35:25.123Z"
   },
   {
    "duration": 4,
    "start_time": "2022-05-09T21:35:25.162Z"
   },
   {
    "duration": 29,
    "start_time": "2022-05-09T21:35:25.193Z"
   },
   {
    "duration": 111,
    "start_time": "2022-05-09T21:35:25.224Z"
   },
   {
    "duration": 84,
    "start_time": "2022-05-09T21:35:25.339Z"
   },
   {
    "duration": 10,
    "start_time": "2022-05-09T21:35:25.425Z"
   },
   {
    "duration": 14,
    "start_time": "2022-05-09T21:35:25.438Z"
   },
   {
    "duration": 6,
    "start_time": "2022-05-09T21:35:25.455Z"
   },
   {
    "duration": 40,
    "start_time": "2022-05-09T21:35:25.464Z"
   },
   {
    "duration": 28,
    "start_time": "2022-05-09T21:35:25.507Z"
   },
   {
    "duration": 7,
    "start_time": "2022-05-09T21:35:25.537Z"
   },
   {
    "duration": 51,
    "start_time": "2022-05-09T21:35:25.546Z"
   },
   {
    "duration": 41,
    "start_time": "2022-05-09T21:35:25.602Z"
   },
   {
    "duration": 83,
    "start_time": "2022-05-09T21:35:25.646Z"
   },
   {
    "duration": 78,
    "start_time": "2022-05-09T21:35:25.731Z"
   },
   {
    "duration": 9,
    "start_time": "2022-05-09T21:35:25.818Z"
   },
   {
    "duration": 100,
    "start_time": "2022-05-09T21:35:25.835Z"
   },
   {
    "duration": 24,
    "start_time": "2022-05-09T21:35:25.938Z"
   },
   {
    "duration": 68,
    "start_time": "2022-05-09T21:35:25.965Z"
   },
   {
    "duration": 84,
    "start_time": "2022-05-09T21:35:26.036Z"
   },
   {
    "duration": 72,
    "start_time": "2022-05-09T21:35:26.123Z"
   },
   {
    "duration": 8,
    "start_time": "2022-05-09T21:35:26.197Z"
   },
   {
    "duration": 88,
    "start_time": "2022-05-09T21:35:26.207Z"
   },
   {
    "duration": 15,
    "start_time": "2022-05-09T21:35:26.297Z"
   },
   {
    "duration": 13,
    "start_time": "2022-05-09T21:35:26.314Z"
   },
   {
    "duration": 8,
    "start_time": "2022-05-09T21:35:26.329Z"
   },
   {
    "duration": 847,
    "start_time": "2022-05-09T21:35:26.339Z"
   },
   {
    "duration": 559,
    "start_time": "2022-05-09T21:35:27.194Z"
   },
   {
    "duration": 247,
    "start_time": "2022-05-09T21:35:27.755Z"
   },
   {
    "duration": 134,
    "start_time": "2022-05-09T21:35:28.004Z"
   },
   {
    "duration": 20,
    "start_time": "2022-05-09T21:35:28.141Z"
   },
   {
    "duration": 32,
    "start_time": "2022-05-09T21:35:28.164Z"
   },
   {
    "duration": 11,
    "start_time": "2022-05-09T21:35:28.201Z"
   },
   {
    "duration": 17,
    "start_time": "2022-05-09T21:35:28.216Z"
   },
   {
    "duration": 247,
    "start_time": "2022-05-09T21:35:28.236Z"
   },
   {
    "duration": 217,
    "start_time": "2022-05-09T21:35:28.493Z"
   },
   {
    "duration": 248,
    "start_time": "2022-05-09T21:35:28.713Z"
   },
   {
    "duration": 558,
    "start_time": "2022-05-09T21:35:28.963Z"
   },
   {
    "duration": 20,
    "start_time": "2022-05-09T21:35:29.523Z"
   },
   {
    "duration": 52,
    "start_time": "2022-05-09T21:35:29.545Z"
   },
   {
    "duration": 10,
    "start_time": "2022-05-09T21:35:29.600Z"
   },
   {
    "duration": 12,
    "start_time": "2022-05-09T21:35:29.612Z"
   },
   {
    "duration": 83,
    "start_time": "2022-05-10T07:09:49.361Z"
   },
   {
    "duration": 12,
    "start_time": "2022-05-10T07:10:02.513Z"
   },
   {
    "duration": 804,
    "start_time": "2022-05-10T07:10:15.279Z"
   },
   {
    "duration": 212,
    "start_time": "2022-05-10T07:10:16.092Z"
   },
   {
    "duration": 151,
    "start_time": "2022-05-10T07:10:16.306Z"
   },
   {
    "duration": 34,
    "start_time": "2022-05-10T07:10:16.460Z"
   },
   {
    "duration": 54,
    "start_time": "2022-05-10T07:10:16.496Z"
   },
   {
    "duration": 40,
    "start_time": "2022-05-10T07:10:16.553Z"
   },
   {
    "duration": 21,
    "start_time": "2022-05-10T07:10:16.595Z"
   },
   {
    "duration": 143,
    "start_time": "2022-05-10T07:10:16.618Z"
   },
   {
    "duration": 209,
    "start_time": "2022-05-10T07:10:16.763Z"
   },
   {
    "duration": 25,
    "start_time": "2022-05-10T07:10:16.976Z"
   },
   {
    "duration": 32,
    "start_time": "2022-05-10T07:10:17.002Z"
   },
   {
    "duration": 147,
    "start_time": "2022-05-10T07:10:17.036Z"
   },
   {
    "duration": 110,
    "start_time": "2022-05-10T07:10:17.186Z"
   },
   {
    "duration": 57,
    "start_time": "2022-05-10T07:10:17.298Z"
   },
   {
    "duration": 144,
    "start_time": "2022-05-10T07:10:17.357Z"
   },
   {
    "duration": 33,
    "start_time": "2022-05-10T07:10:17.503Z"
   },
   {
    "duration": 114,
    "start_time": "2022-05-10T07:10:17.539Z"
   },
   {
    "duration": 10,
    "start_time": "2022-05-10T07:10:17.655Z"
   },
   {
    "duration": 38,
    "start_time": "2022-05-10T07:10:17.667Z"
   },
   {
    "duration": 95,
    "start_time": "2022-05-10T07:10:17.707Z"
   },
   {
    "duration": 96,
    "start_time": "2022-05-10T07:10:17.804Z"
   },
   {
    "duration": 5,
    "start_time": "2022-05-10T07:10:17.902Z"
   },
   {
    "duration": 24,
    "start_time": "2022-05-10T07:10:17.909Z"
   },
   {
    "duration": 66,
    "start_time": "2022-05-10T07:10:17.935Z"
   },
   {
    "duration": 33,
    "start_time": "2022-05-10T07:10:18.003Z"
   },
   {
    "duration": 4,
    "start_time": "2022-05-10T07:10:18.038Z"
   },
   {
    "duration": 22,
    "start_time": "2022-05-10T07:10:18.044Z"
   },
   {
    "duration": 64,
    "start_time": "2022-05-10T07:10:18.097Z"
   },
   {
    "duration": 65,
    "start_time": "2022-05-10T07:10:18.163Z"
   },
   {
    "duration": 8,
    "start_time": "2022-05-10T07:10:18.231Z"
   },
   {
    "duration": 9,
    "start_time": "2022-05-10T07:10:18.241Z"
   },
   {
    "duration": 5,
    "start_time": "2022-05-10T07:10:18.253Z"
   },
   {
    "duration": 43,
    "start_time": "2022-05-10T07:10:18.260Z"
   },
   {
    "duration": 16,
    "start_time": "2022-05-10T07:10:18.306Z"
   },
   {
    "duration": 6,
    "start_time": "2022-05-10T07:10:18.324Z"
   },
   {
    "duration": 69,
    "start_time": "2022-05-10T07:10:18.332Z"
   },
   {
    "duration": 35,
    "start_time": "2022-05-10T07:10:18.404Z"
   },
   {
    "duration": 64,
    "start_time": "2022-05-10T07:10:18.442Z"
   },
   {
    "duration": 54,
    "start_time": "2022-05-10T07:10:18.509Z"
   },
   {
    "duration": 5,
    "start_time": "2022-05-10T07:10:18.565Z"
   },
   {
    "duration": 72,
    "start_time": "2022-05-10T07:10:18.593Z"
   },
   {
    "duration": 40,
    "start_time": "2022-05-10T07:10:18.667Z"
   },
   {
    "duration": 31,
    "start_time": "2022-05-10T07:10:18.709Z"
   },
   {
    "duration": 78,
    "start_time": "2022-05-10T07:10:18.742Z"
   },
   {
    "duration": 50,
    "start_time": "2022-05-10T07:10:18.822Z"
   },
   {
    "duration": 20,
    "start_time": "2022-05-10T07:10:18.874Z"
   },
   {
    "duration": 48,
    "start_time": "2022-05-10T07:10:18.897Z"
   },
   {
    "duration": 45,
    "start_time": "2022-05-10T07:10:18.949Z"
   },
   {
    "duration": 18,
    "start_time": "2022-05-10T07:10:18.996Z"
   },
   {
    "duration": 8,
    "start_time": "2022-05-10T07:10:19.016Z"
   },
   {
    "duration": 892,
    "start_time": "2022-05-10T07:10:19.026Z"
   },
   {
    "duration": 395,
    "start_time": "2022-05-10T07:10:19.921Z"
   },
   {
    "duration": 232,
    "start_time": "2022-05-10T07:10:20.319Z"
   },
   {
    "duration": 132,
    "start_time": "2022-05-10T07:10:20.553Z"
   },
   {
    "duration": 24,
    "start_time": "2022-05-10T07:10:20.687Z"
   },
   {
    "duration": 11,
    "start_time": "2022-05-10T07:10:20.713Z"
   },
   {
    "duration": 8,
    "start_time": "2022-05-10T07:10:20.726Z"
   },
   {
    "duration": 9,
    "start_time": "2022-05-10T07:10:20.736Z"
   },
   {
    "duration": 259,
    "start_time": "2022-05-10T07:10:20.747Z"
   },
   {
    "duration": 210,
    "start_time": "2022-05-10T07:10:21.009Z"
   },
   {
    "duration": 335,
    "start_time": "2022-05-10T07:10:21.222Z"
   },
   {
    "duration": 557,
    "start_time": "2022-05-10T07:10:21.560Z"
   },
   {
    "duration": 20,
    "start_time": "2022-05-10T07:10:22.119Z"
   },
   {
    "duration": 29,
    "start_time": "2022-05-10T07:10:22.141Z"
   },
   {
    "duration": 24,
    "start_time": "2022-05-10T07:10:22.172Z"
   },
   {
    "duration": 10,
    "start_time": "2022-05-10T07:10:22.198Z"
   },
   {
    "duration": 169,
    "start_time": "2022-05-10T07:10:38.438Z"
   },
   {
    "duration": 41,
    "start_time": "2022-05-10T07:11:00.537Z"
   },
   {
    "duration": 41,
    "start_time": "2022-05-10T07:11:06.200Z"
   },
   {
    "duration": 40,
    "start_time": "2022-05-10T07:11:17.021Z"
   },
   {
    "duration": 79,
    "start_time": "2022-05-10T07:11:49.912Z"
   },
   {
    "duration": 41,
    "start_time": "2022-05-10T07:12:49.371Z"
   },
   {
    "duration": 768,
    "start_time": "2022-05-10T07:21:28.322Z"
   },
   {
    "duration": 213,
    "start_time": "2022-05-10T07:21:29.093Z"
   },
   {
    "duration": 156,
    "start_time": "2022-05-10T07:21:29.308Z"
   },
   {
    "duration": 33,
    "start_time": "2022-05-10T07:21:29.467Z"
   },
   {
    "duration": 54,
    "start_time": "2022-05-10T07:21:29.502Z"
   },
   {
    "duration": 38,
    "start_time": "2022-05-10T07:21:29.558Z"
   },
   {
    "duration": 19,
    "start_time": "2022-05-10T07:21:29.598Z"
   },
   {
    "duration": 160,
    "start_time": "2022-05-10T07:21:29.619Z"
   },
   {
    "duration": 218,
    "start_time": "2022-05-10T07:21:29.781Z"
   },
   {
    "duration": 13,
    "start_time": "2022-05-10T07:21:30.003Z"
   },
   {
    "duration": 37,
    "start_time": "2022-05-10T07:21:30.018Z"
   },
   {
    "duration": 169,
    "start_time": "2022-05-10T07:21:30.057Z"
   },
   {
    "duration": 121,
    "start_time": "2022-05-10T07:21:30.228Z"
   },
   {
    "duration": 84,
    "start_time": "2022-05-10T07:21:30.352Z"
   },
   {
    "duration": 149,
    "start_time": "2022-05-10T07:21:30.439Z"
   },
   {
    "duration": 36,
    "start_time": "2022-05-10T07:21:30.594Z"
   },
   {
    "duration": 130,
    "start_time": "2022-05-10T07:21:30.633Z"
   },
   {
    "duration": 10,
    "start_time": "2022-05-10T07:21:30.766Z"
   },
   {
    "duration": 24,
    "start_time": "2022-05-10T07:21:30.794Z"
   },
   {
    "duration": 61,
    "start_time": "2022-05-10T07:21:30.821Z"
   },
   {
    "duration": 95,
    "start_time": "2022-05-10T07:21:30.884Z"
   },
   {
    "duration": 12,
    "start_time": "2022-05-10T07:21:30.982Z"
   },
   {
    "duration": 50,
    "start_time": "2022-05-10T07:21:30.996Z"
   },
   {
    "duration": 49,
    "start_time": "2022-05-10T07:21:31.049Z"
   },
   {
    "duration": 34,
    "start_time": "2022-05-10T07:21:31.101Z"
   },
   {
    "duration": 4,
    "start_time": "2022-05-10T07:21:31.138Z"
   },
   {
    "duration": 28,
    "start_time": "2022-05-10T07:21:31.144Z"
   },
   {
    "duration": 65,
    "start_time": "2022-05-10T07:21:31.197Z"
   },
   {
    "duration": 72,
    "start_time": "2022-05-10T07:21:31.265Z"
   },
   {
    "duration": 106,
    "start_time": "2022-05-10T07:21:31.339Z"
   },
   {
    "duration": 0,
    "start_time": "2022-05-10T07:21:31.447Z"
   },
   {
    "duration": 0,
    "start_time": "2022-05-10T07:21:31.449Z"
   },
   {
    "duration": 0,
    "start_time": "2022-05-10T07:21:31.450Z"
   },
   {
    "duration": 0,
    "start_time": "2022-05-10T07:21:31.451Z"
   },
   {
    "duration": 0,
    "start_time": "2022-05-10T07:21:31.453Z"
   },
   {
    "duration": 0,
    "start_time": "2022-05-10T07:21:31.454Z"
   },
   {
    "duration": 0,
    "start_time": "2022-05-10T07:21:31.455Z"
   },
   {
    "duration": 0,
    "start_time": "2022-05-10T07:21:31.457Z"
   },
   {
    "duration": 0,
    "start_time": "2022-05-10T07:21:31.458Z"
   },
   {
    "duration": 0,
    "start_time": "2022-05-10T07:21:31.459Z"
   },
   {
    "duration": 0,
    "start_time": "2022-05-10T07:21:31.461Z"
   },
   {
    "duration": 0,
    "start_time": "2022-05-10T07:21:31.462Z"
   },
   {
    "duration": 0,
    "start_time": "2022-05-10T07:21:31.493Z"
   },
   {
    "duration": 0,
    "start_time": "2022-05-10T07:21:31.495Z"
   },
   {
    "duration": 0,
    "start_time": "2022-05-10T07:21:31.496Z"
   },
   {
    "duration": 0,
    "start_time": "2022-05-10T07:21:31.498Z"
   },
   {
    "duration": 0,
    "start_time": "2022-05-10T07:21:31.499Z"
   },
   {
    "duration": 0,
    "start_time": "2022-05-10T07:21:31.500Z"
   },
   {
    "duration": 0,
    "start_time": "2022-05-10T07:21:31.502Z"
   },
   {
    "duration": 0,
    "start_time": "2022-05-10T07:21:31.503Z"
   },
   {
    "duration": 0,
    "start_time": "2022-05-10T07:21:31.504Z"
   },
   {
    "duration": 0,
    "start_time": "2022-05-10T07:21:31.506Z"
   },
   {
    "duration": 0,
    "start_time": "2022-05-10T07:21:31.507Z"
   },
   {
    "duration": 0,
    "start_time": "2022-05-10T07:21:31.508Z"
   },
   {
    "duration": 0,
    "start_time": "2022-05-10T07:21:31.509Z"
   },
   {
    "duration": 0,
    "start_time": "2022-05-10T07:21:31.510Z"
   },
   {
    "duration": 0,
    "start_time": "2022-05-10T07:21:31.511Z"
   },
   {
    "duration": 0,
    "start_time": "2022-05-10T07:21:31.513Z"
   },
   {
    "duration": 0,
    "start_time": "2022-05-10T07:21:31.514Z"
   },
   {
    "duration": 0,
    "start_time": "2022-05-10T07:21:31.516Z"
   },
   {
    "duration": 0,
    "start_time": "2022-05-10T07:21:31.518Z"
   },
   {
    "duration": 0,
    "start_time": "2022-05-10T07:21:31.519Z"
   },
   {
    "duration": 0,
    "start_time": "2022-05-10T07:21:31.520Z"
   },
   {
    "duration": 0,
    "start_time": "2022-05-10T07:21:31.521Z"
   },
   {
    "duration": 0,
    "start_time": "2022-05-10T07:21:31.523Z"
   },
   {
    "duration": 0,
    "start_time": "2022-05-10T07:21:31.524Z"
   },
   {
    "duration": 0,
    "start_time": "2022-05-10T07:21:31.525Z"
   },
   {
    "duration": 17,
    "start_time": "2022-05-10T07:23:28.460Z"
   },
   {
    "duration": 27,
    "start_time": "2022-05-10T07:23:55.192Z"
   },
   {
    "duration": 788,
    "start_time": "2022-05-10T07:24:42.185Z"
   },
   {
    "duration": 219,
    "start_time": "2022-05-10T07:24:42.976Z"
   },
   {
    "duration": 161,
    "start_time": "2022-05-10T07:24:43.197Z"
   },
   {
    "duration": 34,
    "start_time": "2022-05-10T07:24:43.361Z"
   },
   {
    "duration": 57,
    "start_time": "2022-05-10T07:24:43.397Z"
   },
   {
    "duration": 41,
    "start_time": "2022-05-10T07:24:43.457Z"
   },
   {
    "duration": 20,
    "start_time": "2022-05-10T07:24:43.501Z"
   },
   {
    "duration": 156,
    "start_time": "2022-05-10T07:24:43.523Z"
   },
   {
    "duration": 237,
    "start_time": "2022-05-10T07:24:43.681Z"
   },
   {
    "duration": 14,
    "start_time": "2022-05-10T07:24:43.922Z"
   },
   {
    "duration": 56,
    "start_time": "2022-05-10T07:24:43.938Z"
   },
   {
    "duration": 146,
    "start_time": "2022-05-10T07:24:43.997Z"
   },
   {
    "duration": 121,
    "start_time": "2022-05-10T07:24:44.145Z"
   },
   {
    "duration": 76,
    "start_time": "2022-05-10T07:24:44.268Z"
   },
   {
    "duration": 134,
    "start_time": "2022-05-10T07:24:44.346Z"
   },
   {
    "duration": 36,
    "start_time": "2022-05-10T07:24:44.483Z"
   },
   {
    "duration": 105,
    "start_time": "2022-05-10T07:24:44.521Z"
   },
   {
    "duration": 9,
    "start_time": "2022-05-10T07:24:44.628Z"
   },
   {
    "duration": 25,
    "start_time": "2022-05-10T07:24:44.640Z"
   },
   {
    "duration": 61,
    "start_time": "2022-05-10T07:24:44.667Z"
   },
   {
    "duration": 101,
    "start_time": "2022-05-10T07:24:44.730Z"
   },
   {
    "duration": 4,
    "start_time": "2022-05-10T07:24:44.833Z"
   },
   {
    "duration": 26,
    "start_time": "2022-05-10T07:24:44.839Z"
   },
   {
    "duration": 68,
    "start_time": "2022-05-10T07:24:44.867Z"
   },
   {
    "duration": 35,
    "start_time": "2022-05-10T07:24:44.937Z"
   },
   {
    "duration": 4,
    "start_time": "2022-05-10T07:24:44.993Z"
   },
   {
    "duration": 28,
    "start_time": "2022-05-10T07:24:44.999Z"
   },
   {
    "duration": 94,
    "start_time": "2022-05-10T07:24:45.033Z"
   },
   {
    "duration": 51,
    "start_time": "2022-05-10T07:24:45.129Z"
   },
   {
    "duration": 20,
    "start_time": "2022-05-10T07:24:45.194Z"
   },
   {
    "duration": 10,
    "start_time": "2022-05-10T07:24:45.217Z"
   },
   {
    "duration": 9,
    "start_time": "2022-05-10T07:24:45.229Z"
   },
   {
    "duration": 13,
    "start_time": "2022-05-10T07:24:45.241Z"
   },
   {
    "duration": 40,
    "start_time": "2022-05-10T07:24:45.256Z"
   },
   {
    "duration": 16,
    "start_time": "2022-05-10T07:24:45.299Z"
   },
   {
    "duration": 897,
    "start_time": "2022-05-10T07:24:45.318Z"
   },
   {
    "duration": 0,
    "start_time": "2022-05-10T07:24:46.218Z"
   },
   {
    "duration": 0,
    "start_time": "2022-05-10T07:24:46.219Z"
   },
   {
    "duration": 0,
    "start_time": "2022-05-10T07:24:46.221Z"
   },
   {
    "duration": 0,
    "start_time": "2022-05-10T07:24:46.223Z"
   },
   {
    "duration": 0,
    "start_time": "2022-05-10T07:24:46.224Z"
   },
   {
    "duration": 0,
    "start_time": "2022-05-10T07:24:46.226Z"
   },
   {
    "duration": 0,
    "start_time": "2022-05-10T07:24:46.227Z"
   },
   {
    "duration": 0,
    "start_time": "2022-05-10T07:24:46.229Z"
   },
   {
    "duration": 0,
    "start_time": "2022-05-10T07:24:46.230Z"
   },
   {
    "duration": 0,
    "start_time": "2022-05-10T07:24:46.231Z"
   },
   {
    "duration": 0,
    "start_time": "2022-05-10T07:24:46.233Z"
   },
   {
    "duration": 0,
    "start_time": "2022-05-10T07:24:46.234Z"
   },
   {
    "duration": 0,
    "start_time": "2022-05-10T07:24:46.236Z"
   },
   {
    "duration": 0,
    "start_time": "2022-05-10T07:24:46.237Z"
   },
   {
    "duration": 0,
    "start_time": "2022-05-10T07:24:46.240Z"
   },
   {
    "duration": 0,
    "start_time": "2022-05-10T07:24:46.241Z"
   },
   {
    "duration": 0,
    "start_time": "2022-05-10T07:24:46.243Z"
   },
   {
    "duration": 0,
    "start_time": "2022-05-10T07:24:46.244Z"
   },
   {
    "duration": 0,
    "start_time": "2022-05-10T07:24:46.246Z"
   },
   {
    "duration": 0,
    "start_time": "2022-05-10T07:24:46.247Z"
   },
   {
    "duration": 0,
    "start_time": "2022-05-10T07:24:46.249Z"
   },
   {
    "duration": 0,
    "start_time": "2022-05-10T07:24:46.251Z"
   },
   {
    "duration": 0,
    "start_time": "2022-05-10T07:24:46.253Z"
   },
   {
    "duration": 0,
    "start_time": "2022-05-10T07:24:46.293Z"
   },
   {
    "duration": 0,
    "start_time": "2022-05-10T07:24:46.295Z"
   },
   {
    "duration": 0,
    "start_time": "2022-05-10T07:24:46.298Z"
   },
   {
    "duration": 0,
    "start_time": "2022-05-10T07:24:46.300Z"
   },
   {
    "duration": 0,
    "start_time": "2022-05-10T07:24:46.301Z"
   },
   {
    "duration": 1,
    "start_time": "2022-05-10T07:24:46.303Z"
   },
   {
    "duration": 0,
    "start_time": "2022-05-10T07:24:46.306Z"
   },
   {
    "duration": 0,
    "start_time": "2022-05-10T07:24:46.308Z"
   },
   {
    "duration": 7,
    "start_time": "2022-05-10T08:39:28.142Z"
   },
   {
    "duration": 11,
    "start_time": "2022-05-10T08:39:36.019Z"
   },
   {
    "duration": 18,
    "start_time": "2022-05-10T08:40:12.414Z"
   },
   {
    "duration": 21,
    "start_time": "2022-05-10T08:40:28.789Z"
   },
   {
    "duration": 769,
    "start_time": "2022-05-10T08:47:27.132Z"
   },
   {
    "duration": 22,
    "start_time": "2022-05-10T08:48:23.276Z"
   },
   {
    "duration": 670,
    "start_time": "2022-05-10T08:48:43.374Z"
   },
   {
    "duration": 246,
    "start_time": "2022-05-10T08:55:10.660Z"
   },
   {
    "duration": 50,
    "start_time": "2022-05-10T08:59:44.493Z"
   },
   {
    "duration": 96,
    "start_time": "2022-05-10T08:59:52.248Z"
   },
   {
    "duration": 42,
    "start_time": "2022-05-10T09:00:02.132Z"
   },
   {
    "duration": 1073,
    "start_time": "2022-05-10T09:04:09.387Z"
   },
   {
    "duration": 249,
    "start_time": "2022-05-10T09:04:10.463Z"
   },
   {
    "duration": 162,
    "start_time": "2022-05-10T09:04:10.715Z"
   },
   {
    "duration": 37,
    "start_time": "2022-05-10T09:04:10.881Z"
   },
   {
    "duration": 59,
    "start_time": "2022-05-10T09:04:10.920Z"
   },
   {
    "duration": 27,
    "start_time": "2022-05-10T09:04:10.981Z"
   },
   {
    "duration": 22,
    "start_time": "2022-05-10T09:04:11.010Z"
   },
   {
    "duration": 788,
    "start_time": "2022-05-10T09:04:11.034Z"
   },
   {
    "duration": 4,
    "start_time": "2022-05-10T09:04:11.824Z"
   },
   {
    "duration": 39,
    "start_time": "2022-05-10T09:04:11.832Z"
   },
   {
    "duration": 21,
    "start_time": "2022-05-10T09:04:11.894Z"
   },
   {
    "duration": 164,
    "start_time": "2022-05-10T09:04:11.917Z"
   },
   {
    "duration": 242,
    "start_time": "2022-05-10T09:04:12.083Z"
   },
   {
    "duration": 15,
    "start_time": "2022-05-10T09:04:12.327Z"
   },
   {
    "duration": 60,
    "start_time": "2022-05-10T09:04:12.344Z"
   },
   {
    "duration": 165,
    "start_time": "2022-05-10T09:04:12.407Z"
   },
   {
    "duration": 127,
    "start_time": "2022-05-10T09:04:12.574Z"
   },
   {
    "duration": 64,
    "start_time": "2022-05-10T09:04:12.704Z"
   },
   {
    "duration": 134,
    "start_time": "2022-05-10T09:04:12.770Z"
   },
   {
    "duration": 29,
    "start_time": "2022-05-10T09:04:12.906Z"
   },
   {
    "duration": 87,
    "start_time": "2022-05-10T09:04:12.937Z"
   },
   {
    "duration": 4,
    "start_time": "2022-05-10T09:04:13.026Z"
   },
   {
    "duration": 29,
    "start_time": "2022-05-10T09:04:13.032Z"
   },
   {
    "duration": 65,
    "start_time": "2022-05-10T09:04:13.063Z"
   },
   {
    "duration": 99,
    "start_time": "2022-05-10T09:04:13.130Z"
   },
   {
    "duration": 4,
    "start_time": "2022-05-10T09:04:13.231Z"
   },
   {
    "duration": 30,
    "start_time": "2022-05-10T09:04:13.237Z"
   },
   {
    "duration": 49,
    "start_time": "2022-05-10T09:04:13.295Z"
   },
   {
    "duration": 51,
    "start_time": "2022-05-10T09:04:13.346Z"
   },
   {
    "duration": 4,
    "start_time": "2022-05-10T09:04:13.400Z"
   },
   {
    "duration": 23,
    "start_time": "2022-05-10T09:04:13.406Z"
   },
   {
    "duration": 97,
    "start_time": "2022-05-10T09:04:13.432Z"
   },
   {
    "duration": 62,
    "start_time": "2022-05-10T09:04:13.531Z"
   },
   {
    "duration": 20,
    "start_time": "2022-05-10T09:04:13.596Z"
   },
   {
    "duration": 7,
    "start_time": "2022-05-10T09:04:13.618Z"
   },
   {
    "duration": 9,
    "start_time": "2022-05-10T09:04:13.628Z"
   },
   {
    "duration": 9,
    "start_time": "2022-05-10T09:04:13.640Z"
   },
   {
    "duration": 9,
    "start_time": "2022-05-10T09:04:13.651Z"
   },
   {
    "duration": 32,
    "start_time": "2022-05-10T09:04:13.662Z"
   },
   {
    "duration": 8,
    "start_time": "2022-05-10T09:04:13.697Z"
   },
   {
    "duration": 25,
    "start_time": "2022-05-10T09:04:13.707Z"
   },
   {
    "duration": 64,
    "start_time": "2022-05-10T09:04:13.734Z"
   },
   {
    "duration": 53,
    "start_time": "2022-05-10T09:04:13.800Z"
   },
   {
    "duration": 89,
    "start_time": "2022-05-10T09:04:13.856Z"
   },
   {
    "duration": 5,
    "start_time": "2022-05-10T09:04:13.947Z"
   },
   {
    "duration": 93,
    "start_time": "2022-05-10T09:04:13.954Z"
   },
   {
    "duration": 3755,
    "start_time": "2022-05-10T09:04:14.049Z"
   },
   {
    "duration": 0,
    "start_time": "2022-05-10T09:04:17.806Z"
   },
   {
    "duration": 0,
    "start_time": "2022-05-10T09:04:17.808Z"
   },
   {
    "duration": 0,
    "start_time": "2022-05-10T09:04:17.810Z"
   },
   {
    "duration": 0,
    "start_time": "2022-05-10T09:04:17.811Z"
   },
   {
    "duration": 0,
    "start_time": "2022-05-10T09:04:17.812Z"
   },
   {
    "duration": 0,
    "start_time": "2022-05-10T09:04:17.814Z"
   },
   {
    "duration": 0,
    "start_time": "2022-05-10T09:04:17.816Z"
   },
   {
    "duration": 0,
    "start_time": "2022-05-10T09:04:17.817Z"
   },
   {
    "duration": 0,
    "start_time": "2022-05-10T09:04:17.819Z"
   },
   {
    "duration": 0,
    "start_time": "2022-05-10T09:04:17.821Z"
   },
   {
    "duration": 0,
    "start_time": "2022-05-10T09:04:17.823Z"
   },
   {
    "duration": 0,
    "start_time": "2022-05-10T09:04:17.825Z"
   },
   {
    "duration": 0,
    "start_time": "2022-05-10T09:04:17.826Z"
   },
   {
    "duration": 0,
    "start_time": "2022-05-10T09:04:17.828Z"
   },
   {
    "duration": 0,
    "start_time": "2022-05-10T09:04:17.829Z"
   },
   {
    "duration": 0,
    "start_time": "2022-05-10T09:04:17.830Z"
   },
   {
    "duration": 0,
    "start_time": "2022-05-10T09:04:17.832Z"
   },
   {
    "duration": 0,
    "start_time": "2022-05-10T09:04:17.833Z"
   },
   {
    "duration": 0,
    "start_time": "2022-05-10T09:04:17.835Z"
   },
   {
    "duration": 0,
    "start_time": "2022-05-10T09:04:17.837Z"
   },
   {
    "duration": 0,
    "start_time": "2022-05-10T09:04:17.838Z"
   },
   {
    "duration": 0,
    "start_time": "2022-05-10T09:04:17.839Z"
   },
   {
    "duration": 0,
    "start_time": "2022-05-10T09:04:17.841Z"
   },
   {
    "duration": 0,
    "start_time": "2022-05-10T09:04:17.842Z"
   },
   {
    "duration": 27,
    "start_time": "2022-05-10T09:05:32.337Z"
   },
   {
    "duration": 22,
    "start_time": "2022-05-10T09:08:12.491Z"
   },
   {
    "duration": 44,
    "start_time": "2022-05-10T09:08:42.253Z"
   },
   {
    "duration": 3340,
    "start_time": "2022-05-10T09:08:53.214Z"
   },
   {
    "duration": 54,
    "start_time": "2022-05-10T09:09:32.641Z"
   },
   {
    "duration": 60,
    "start_time": "2022-05-10T09:09:51.960Z"
   },
   {
    "duration": 6,
    "start_time": "2022-05-10T09:10:16.963Z"
   },
   {
    "duration": 6,
    "start_time": "2022-05-10T09:10:54.557Z"
   },
   {
    "duration": 48,
    "start_time": "2022-05-10T09:30:43.158Z"
   },
   {
    "duration": 6,
    "start_time": "2022-05-10T09:30:47.469Z"
   },
   {
    "duration": 6,
    "start_time": "2022-05-10T09:30:49.533Z"
   },
   {
    "duration": 7,
    "start_time": "2022-05-10T09:30:50.283Z"
   },
   {
    "duration": 221,
    "start_time": "2022-05-10T09:31:23.366Z"
   },
   {
    "duration": 422,
    "start_time": "2022-05-10T09:31:26.724Z"
   },
   {
    "duration": 203,
    "start_time": "2022-05-10T09:31:29.235Z"
   },
   {
    "duration": 202,
    "start_time": "2022-05-10T09:35:01.708Z"
   },
   {
    "duration": 204,
    "start_time": "2022-05-10T09:35:08.417Z"
   },
   {
    "duration": 59,
    "start_time": "2022-05-10T09:49:15.984Z"
   },
   {
    "duration": 1035,
    "start_time": "2022-05-10T09:49:42.396Z"
   },
   {
    "duration": 260,
    "start_time": "2022-05-10T09:49:43.434Z"
   },
   {
    "duration": 187,
    "start_time": "2022-05-10T09:49:43.697Z"
   },
   {
    "duration": 50,
    "start_time": "2022-05-10T09:49:43.887Z"
   },
   {
    "duration": 75,
    "start_time": "2022-05-10T09:49:43.941Z"
   },
   {
    "duration": 31,
    "start_time": "2022-05-10T09:49:44.018Z"
   },
   {
    "duration": 56,
    "start_time": "2022-05-10T09:49:44.051Z"
   },
   {
    "duration": 1144,
    "start_time": "2022-05-10T09:49:44.110Z"
   },
   {
    "duration": 247,
    "start_time": "2022-05-10T09:49:45.256Z"
   },
   {
    "duration": 0,
    "start_time": "2022-05-10T09:49:45.512Z"
   },
   {
    "duration": 0,
    "start_time": "2022-05-10T09:49:45.515Z"
   },
   {
    "duration": 0,
    "start_time": "2022-05-10T09:49:45.517Z"
   },
   {
    "duration": 0,
    "start_time": "2022-05-10T09:49:45.519Z"
   },
   {
    "duration": 0,
    "start_time": "2022-05-10T09:49:45.521Z"
   },
   {
    "duration": 0,
    "start_time": "2022-05-10T09:49:45.523Z"
   },
   {
    "duration": 0,
    "start_time": "2022-05-10T09:49:45.525Z"
   },
   {
    "duration": 0,
    "start_time": "2022-05-10T09:49:45.527Z"
   },
   {
    "duration": 0,
    "start_time": "2022-05-10T09:49:45.529Z"
   },
   {
    "duration": 0,
    "start_time": "2022-05-10T09:49:45.530Z"
   },
   {
    "duration": 0,
    "start_time": "2022-05-10T09:49:45.531Z"
   },
   {
    "duration": 0,
    "start_time": "2022-05-10T09:49:45.532Z"
   },
   {
    "duration": 0,
    "start_time": "2022-05-10T09:49:45.533Z"
   },
   {
    "duration": 0,
    "start_time": "2022-05-10T09:49:45.535Z"
   },
   {
    "duration": 0,
    "start_time": "2022-05-10T09:49:45.537Z"
   },
   {
    "duration": 0,
    "start_time": "2022-05-10T09:49:45.538Z"
   },
   {
    "duration": 0,
    "start_time": "2022-05-10T09:49:45.539Z"
   },
   {
    "duration": 0,
    "start_time": "2022-05-10T09:49:45.541Z"
   },
   {
    "duration": 0,
    "start_time": "2022-05-10T09:49:45.593Z"
   },
   {
    "duration": 0,
    "start_time": "2022-05-10T09:49:45.595Z"
   },
   {
    "duration": 0,
    "start_time": "2022-05-10T09:49:45.597Z"
   },
   {
    "duration": 0,
    "start_time": "2022-05-10T09:49:45.599Z"
   },
   {
    "duration": 0,
    "start_time": "2022-05-10T09:49:45.601Z"
   },
   {
    "duration": 0,
    "start_time": "2022-05-10T09:49:45.603Z"
   },
   {
    "duration": 0,
    "start_time": "2022-05-10T09:49:45.605Z"
   },
   {
    "duration": 0,
    "start_time": "2022-05-10T09:49:45.607Z"
   },
   {
    "duration": 0,
    "start_time": "2022-05-10T09:49:45.609Z"
   },
   {
    "duration": 0,
    "start_time": "2022-05-10T09:49:45.611Z"
   },
   {
    "duration": 0,
    "start_time": "2022-05-10T09:49:45.614Z"
   },
   {
    "duration": 0,
    "start_time": "2022-05-10T09:49:45.616Z"
   },
   {
    "duration": 0,
    "start_time": "2022-05-10T09:49:45.618Z"
   },
   {
    "duration": 1,
    "start_time": "2022-05-10T09:49:45.620Z"
   },
   {
    "duration": 0,
    "start_time": "2022-05-10T09:49:45.622Z"
   },
   {
    "duration": 0,
    "start_time": "2022-05-10T09:49:45.624Z"
   },
   {
    "duration": 0,
    "start_time": "2022-05-10T09:49:45.626Z"
   },
   {
    "duration": 0,
    "start_time": "2022-05-10T09:49:45.628Z"
   },
   {
    "duration": 0,
    "start_time": "2022-05-10T09:49:45.630Z"
   },
   {
    "duration": 0,
    "start_time": "2022-05-10T09:49:45.632Z"
   },
   {
    "duration": 0,
    "start_time": "2022-05-10T09:49:45.633Z"
   },
   {
    "duration": 0,
    "start_time": "2022-05-10T09:49:45.635Z"
   },
   {
    "duration": 0,
    "start_time": "2022-05-10T09:49:45.692Z"
   },
   {
    "duration": 0,
    "start_time": "2022-05-10T09:49:45.695Z"
   },
   {
    "duration": 0,
    "start_time": "2022-05-10T09:49:45.697Z"
   },
   {
    "duration": 0,
    "start_time": "2022-05-10T09:49:45.699Z"
   },
   {
    "duration": 0,
    "start_time": "2022-05-10T09:49:45.701Z"
   },
   {
    "duration": 0,
    "start_time": "2022-05-10T09:49:45.703Z"
   },
   {
    "duration": 0,
    "start_time": "2022-05-10T09:49:45.705Z"
   },
   {
    "duration": 0,
    "start_time": "2022-05-10T09:49:45.707Z"
   },
   {
    "duration": 0,
    "start_time": "2022-05-10T09:49:45.708Z"
   },
   {
    "duration": 0,
    "start_time": "2022-05-10T09:49:45.710Z"
   },
   {
    "duration": 0,
    "start_time": "2022-05-10T09:49:45.713Z"
   },
   {
    "duration": 0,
    "start_time": "2022-05-10T09:49:45.714Z"
   },
   {
    "duration": 0,
    "start_time": "2022-05-10T09:49:45.716Z"
   },
   {
    "duration": 0,
    "start_time": "2022-05-10T09:49:45.718Z"
   },
   {
    "duration": 0,
    "start_time": "2022-05-10T09:49:45.720Z"
   },
   {
    "duration": 0,
    "start_time": "2022-05-10T09:49:45.722Z"
   },
   {
    "duration": 0,
    "start_time": "2022-05-10T09:49:45.724Z"
   },
   {
    "duration": 204,
    "start_time": "2022-05-10T09:51:30.915Z"
   },
   {
    "duration": 38,
    "start_time": "2022-05-10T09:51:38.522Z"
   },
   {
    "duration": 209,
    "start_time": "2022-05-10T09:52:33.831Z"
   },
   {
    "duration": 208,
    "start_time": "2022-05-10T09:52:46.621Z"
   },
   {
    "duration": 18,
    "start_time": "2022-05-10T09:54:48.703Z"
   },
   {
    "duration": 38,
    "start_time": "2022-05-10T09:54:57.862Z"
   },
   {
    "duration": 41,
    "start_time": "2022-05-10T09:55:10.885Z"
   },
   {
    "duration": 402,
    "start_time": "2022-05-10T09:55:20.927Z"
   },
   {
    "duration": 41,
    "start_time": "2022-05-10T09:55:23.835Z"
   },
   {
    "duration": 831,
    "start_time": "2022-05-10T09:55:33.292Z"
   },
   {
    "duration": 252,
    "start_time": "2022-05-10T09:55:34.126Z"
   },
   {
    "duration": 164,
    "start_time": "2022-05-10T09:55:34.380Z"
   },
   {
    "duration": 35,
    "start_time": "2022-05-10T09:55:34.547Z"
   },
   {
    "duration": 67,
    "start_time": "2022-05-10T09:55:34.584Z"
   },
   {
    "duration": 22,
    "start_time": "2022-05-10T09:55:34.653Z"
   },
   {
    "duration": 26,
    "start_time": "2022-05-10T09:55:34.677Z"
   },
   {
    "duration": 1011,
    "start_time": "2022-05-10T09:55:34.705Z"
   },
   {
    "duration": 47,
    "start_time": "2022-05-10T09:55:35.719Z"
   },
   {
    "duration": 50,
    "start_time": "2022-05-10T09:55:35.770Z"
   },
   {
    "duration": 21,
    "start_time": "2022-05-10T09:55:35.822Z"
   },
   {
    "duration": 149,
    "start_time": "2022-05-10T09:55:35.845Z"
   },
   {
    "duration": 204,
    "start_time": "2022-05-10T09:55:35.996Z"
   },
   {
    "duration": 12,
    "start_time": "2022-05-10T09:55:36.203Z"
   },
   {
    "duration": 32,
    "start_time": "2022-05-10T09:55:36.217Z"
   },
   {
    "duration": 154,
    "start_time": "2022-05-10T09:55:36.251Z"
   },
   {
    "duration": 105,
    "start_time": "2022-05-10T09:55:36.406Z"
   },
   {
    "duration": 57,
    "start_time": "2022-05-10T09:55:36.513Z"
   },
   {
    "duration": 144,
    "start_time": "2022-05-10T09:55:36.573Z"
   },
   {
    "duration": 29,
    "start_time": "2022-05-10T09:55:36.720Z"
   },
   {
    "duration": 93,
    "start_time": "2022-05-10T09:55:36.751Z"
   },
   {
    "duration": 4,
    "start_time": "2022-05-10T09:55:36.847Z"
   },
   {
    "duration": 47,
    "start_time": "2022-05-10T09:55:36.853Z"
   },
   {
    "duration": 48,
    "start_time": "2022-05-10T09:55:36.902Z"
   },
   {
    "duration": 94,
    "start_time": "2022-05-10T09:55:36.952Z"
   },
   {
    "duration": 4,
    "start_time": "2022-05-10T09:55:37.049Z"
   },
   {
    "duration": 50,
    "start_time": "2022-05-10T09:55:37.055Z"
   },
   {
    "duration": 47,
    "start_time": "2022-05-10T09:55:37.111Z"
   },
   {
    "duration": 54,
    "start_time": "2022-05-10T09:55:37.160Z"
   },
   {
    "duration": 4,
    "start_time": "2022-05-10T09:55:37.216Z"
   },
   {
    "duration": 23,
    "start_time": "2022-05-10T09:55:37.222Z"
   },
   {
    "duration": 80,
    "start_time": "2022-05-10T09:55:37.247Z"
   },
   {
    "duration": 74,
    "start_time": "2022-05-10T09:55:37.329Z"
   },
   {
    "duration": 26,
    "start_time": "2022-05-10T09:55:37.405Z"
   },
   {
    "duration": 60,
    "start_time": "2022-05-10T09:55:37.433Z"
   },
   {
    "duration": 10,
    "start_time": "2022-05-10T09:55:37.496Z"
   },
   {
    "duration": 86,
    "start_time": "2022-05-10T09:55:37.508Z"
   },
   {
    "duration": 37,
    "start_time": "2022-05-10T09:55:37.597Z"
   },
   {
    "duration": 161,
    "start_time": "2022-05-10T09:55:37.636Z"
   },
   {
    "duration": 4,
    "start_time": "2022-05-10T09:55:37.799Z"
   },
   {
    "duration": 128,
    "start_time": "2022-05-10T09:55:37.805Z"
   },
   {
    "duration": 76,
    "start_time": "2022-05-10T09:55:37.936Z"
   },
   {
    "duration": 93,
    "start_time": "2022-05-10T09:55:38.014Z"
   },
   {
    "duration": 107,
    "start_time": "2022-05-10T09:55:38.109Z"
   },
   {
    "duration": 102,
    "start_time": "2022-05-10T09:55:38.218Z"
   },
   {
    "duration": 6,
    "start_time": "2022-05-10T09:55:38.322Z"
   },
   {
    "duration": 105,
    "start_time": "2022-05-10T09:55:38.330Z"
   },
   {
    "duration": 62,
    "start_time": "2022-05-10T09:55:38.438Z"
   },
   {
    "duration": 11,
    "start_time": "2022-05-10T09:55:38.502Z"
   },
   {
    "duration": 8,
    "start_time": "2022-05-10T09:55:38.516Z"
   },
   {
    "duration": 607,
    "start_time": "2022-05-10T09:55:38.527Z"
   },
   {
    "duration": 1400,
    "start_time": "2022-05-10T09:55:39.137Z"
   },
   {
    "duration": 672,
    "start_time": "2022-05-10T09:55:40.540Z"
   },
   {
    "duration": 292,
    "start_time": "2022-05-10T09:55:41.215Z"
   },
   {
    "duration": 0,
    "start_time": "2022-05-10T09:55:41.510Z"
   },
   {
    "duration": 0,
    "start_time": "2022-05-10T09:55:41.512Z"
   },
   {
    "duration": 0,
    "start_time": "2022-05-10T09:55:41.514Z"
   },
   {
    "duration": 0,
    "start_time": "2022-05-10T09:55:41.517Z"
   },
   {
    "duration": 0,
    "start_time": "2022-05-10T09:55:41.518Z"
   },
   {
    "duration": 0,
    "start_time": "2022-05-10T09:55:41.519Z"
   },
   {
    "duration": 0,
    "start_time": "2022-05-10T09:55:41.521Z"
   },
   {
    "duration": 0,
    "start_time": "2022-05-10T09:55:41.522Z"
   },
   {
    "duration": 0,
    "start_time": "2022-05-10T09:55:41.524Z"
   },
   {
    "duration": 0,
    "start_time": "2022-05-10T09:55:41.525Z"
   },
   {
    "duration": 0,
    "start_time": "2022-05-10T09:55:41.526Z"
   },
   {
    "duration": 0,
    "start_time": "2022-05-10T09:55:41.528Z"
   },
   {
    "duration": 39,
    "start_time": "2022-05-10T09:56:06.509Z"
   },
   {
    "duration": 32,
    "start_time": "2022-05-10T09:56:20.423Z"
   },
   {
    "duration": 36,
    "start_time": "2022-05-10T09:57:23.082Z"
   },
   {
    "duration": 29,
    "start_time": "2022-05-10T09:58:06.690Z"
   },
   {
    "duration": 34,
    "start_time": "2022-05-10T10:07:32.953Z"
   },
   {
    "duration": 834,
    "start_time": "2022-05-10T10:07:47.465Z"
   },
   {
    "duration": 253,
    "start_time": "2022-05-10T10:07:48.303Z"
   },
   {
    "duration": 160,
    "start_time": "2022-05-10T10:07:48.558Z"
   },
   {
    "duration": 35,
    "start_time": "2022-05-10T10:07:48.720Z"
   },
   {
    "duration": 55,
    "start_time": "2022-05-10T10:07:48.758Z"
   },
   {
    "duration": 24,
    "start_time": "2022-05-10T10:07:48.815Z"
   },
   {
    "duration": 21,
    "start_time": "2022-05-10T10:07:48.841Z"
   },
   {
    "duration": 792,
    "start_time": "2022-05-10T10:07:48.892Z"
   },
   {
    "duration": 38,
    "start_time": "2022-05-10T10:07:49.694Z"
   },
   {
    "duration": 20,
    "start_time": "2022-05-10T10:07:49.734Z"
   },
   {
    "duration": 163,
    "start_time": "2022-05-10T10:07:49.756Z"
   },
   {
    "duration": 222,
    "start_time": "2022-05-10T10:07:49.921Z"
   },
   {
    "duration": 13,
    "start_time": "2022-05-10T10:07:50.145Z"
   },
   {
    "duration": 54,
    "start_time": "2022-05-10T10:07:50.162Z"
   },
   {
    "duration": 140,
    "start_time": "2022-05-10T10:07:50.218Z"
   },
   {
    "duration": 118,
    "start_time": "2022-05-10T10:07:50.360Z"
   },
   {
    "duration": 71,
    "start_time": "2022-05-10T10:07:50.480Z"
   },
   {
    "duration": 137,
    "start_time": "2022-05-10T10:07:50.554Z"
   },
   {
    "duration": 31,
    "start_time": "2022-05-10T10:07:50.693Z"
   },
   {
    "duration": 91,
    "start_time": "2022-05-10T10:07:50.727Z"
   },
   {
    "duration": 50,
    "start_time": "2022-05-10T10:07:50.820Z"
   },
   {
    "duration": 4,
    "start_time": "2022-05-10T10:07:50.872Z"
   },
   {
    "duration": 29,
    "start_time": "2022-05-10T10:07:50.893Z"
   },
   {
    "duration": 73,
    "start_time": "2022-05-10T10:07:50.925Z"
   },
   {
    "duration": 95,
    "start_time": "2022-05-10T10:07:51.000Z"
   },
   {
    "duration": 4,
    "start_time": "2022-05-10T10:07:51.097Z"
   },
   {
    "duration": 27,
    "start_time": "2022-05-10T10:07:51.103Z"
   },
   {
    "duration": 76,
    "start_time": "2022-05-10T10:07:51.132Z"
   },
   {
    "duration": 34,
    "start_time": "2022-05-10T10:07:51.211Z"
   },
   {
    "duration": 4,
    "start_time": "2022-05-10T10:07:51.247Z"
   },
   {
    "duration": 49,
    "start_time": "2022-05-10T10:07:51.253Z"
   },
   {
    "duration": 62,
    "start_time": "2022-05-10T10:07:51.305Z"
   },
   {
    "duration": 67,
    "start_time": "2022-05-10T10:07:51.369Z"
   },
   {
    "duration": 26,
    "start_time": "2022-05-10T10:07:51.438Z"
   },
   {
    "duration": 3,
    "start_time": "2022-05-10T10:07:51.493Z"
   },
   {
    "duration": 12,
    "start_time": "2022-05-10T10:07:51.498Z"
   },
   {
    "duration": 38,
    "start_time": "2022-05-10T10:07:51.512Z"
   },
   {
    "duration": 71,
    "start_time": "2022-05-10T10:07:51.552Z"
   },
   {
    "duration": 71,
    "start_time": "2022-05-10T10:07:51.626Z"
   },
   {
    "duration": 5,
    "start_time": "2022-05-10T10:07:51.699Z"
   },
   {
    "duration": 101,
    "start_time": "2022-05-10T10:07:51.713Z"
   },
   {
    "duration": 26,
    "start_time": "2022-05-10T10:07:51.817Z"
   },
   {
    "duration": 68,
    "start_time": "2022-05-10T10:07:51.846Z"
   },
   {
    "duration": 76,
    "start_time": "2022-05-10T10:07:51.917Z"
   },
   {
    "duration": 55,
    "start_time": "2022-05-10T10:07:51.995Z"
   },
   {
    "duration": 6,
    "start_time": "2022-05-10T10:07:52.052Z"
   },
   {
    "duration": 78,
    "start_time": "2022-05-10T10:07:52.060Z"
   },
   {
    "duration": 7,
    "start_time": "2022-05-10T10:07:52.140Z"
   },
   {
    "duration": 11,
    "start_time": "2022-05-10T10:07:52.149Z"
   },
   {
    "duration": 7,
    "start_time": "2022-05-10T10:07:52.194Z"
   },
   {
    "duration": 222,
    "start_time": "2022-05-10T10:07:52.203Z"
   },
   {
    "duration": 442,
    "start_time": "2022-05-10T10:07:52.427Z"
   },
   {
    "duration": 217,
    "start_time": "2022-05-10T10:07:52.871Z"
   },
   {
    "duration": 191,
    "start_time": "2022-05-10T10:07:53.093Z"
   },
   {
    "duration": 0,
    "start_time": "2022-05-10T10:07:53.292Z"
   },
   {
    "duration": 0,
    "start_time": "2022-05-10T10:07:53.294Z"
   },
   {
    "duration": 0,
    "start_time": "2022-05-10T10:07:53.296Z"
   },
   {
    "duration": 0,
    "start_time": "2022-05-10T10:07:53.297Z"
   },
   {
    "duration": 0,
    "start_time": "2022-05-10T10:07:53.298Z"
   },
   {
    "duration": 0,
    "start_time": "2022-05-10T10:07:53.300Z"
   },
   {
    "duration": 0,
    "start_time": "2022-05-10T10:07:53.301Z"
   },
   {
    "duration": 0,
    "start_time": "2022-05-10T10:07:53.303Z"
   },
   {
    "duration": 0,
    "start_time": "2022-05-10T10:07:53.304Z"
   },
   {
    "duration": 0,
    "start_time": "2022-05-10T10:07:53.306Z"
   },
   {
    "duration": 0,
    "start_time": "2022-05-10T10:07:53.307Z"
   },
   {
    "duration": 0,
    "start_time": "2022-05-10T10:07:53.309Z"
   },
   {
    "duration": 369,
    "start_time": "2022-05-10T10:10:26.848Z"
   },
   {
    "duration": 368,
    "start_time": "2022-05-10T10:10:46.831Z"
   },
   {
    "duration": 56,
    "start_time": "2022-05-10T10:13:35.980Z"
   },
   {
    "duration": 209,
    "start_time": "2022-05-10T12:32:33.281Z"
   },
   {
    "duration": 247,
    "start_time": "2022-05-10T12:32:46.359Z"
   },
   {
    "duration": 296,
    "start_time": "2022-05-10T12:33:04.858Z"
   },
   {
    "duration": 1639,
    "start_time": "2022-05-10T12:33:22.742Z"
   },
   {
    "duration": 265,
    "start_time": "2022-05-10T12:33:24.383Z"
   },
   {
    "duration": 186,
    "start_time": "2022-05-10T12:33:24.650Z"
   },
   {
    "duration": 35,
    "start_time": "2022-05-10T12:33:24.839Z"
   },
   {
    "duration": 167,
    "start_time": "2022-05-10T12:33:24.877Z"
   },
   {
    "duration": 77,
    "start_time": "2022-05-10T12:33:25.047Z"
   },
   {
    "duration": 67,
    "start_time": "2022-05-10T12:33:25.127Z"
   },
   {
    "duration": 684,
    "start_time": "2022-05-10T12:33:25.197Z"
   },
   {
    "duration": 46,
    "start_time": "2022-05-10T12:33:25.883Z"
   },
   {
    "duration": 25,
    "start_time": "2022-05-10T12:33:25.934Z"
   },
   {
    "duration": 221,
    "start_time": "2022-05-10T12:33:25.962Z"
   },
   {
    "duration": 433,
    "start_time": "2022-05-10T12:33:26.186Z"
   },
   {
    "duration": 18,
    "start_time": "2022-05-10T12:33:26.622Z"
   },
   {
    "duration": 54,
    "start_time": "2022-05-10T12:33:26.643Z"
   },
   {
    "duration": 152,
    "start_time": "2022-05-10T12:33:26.699Z"
   },
   {
    "duration": 127,
    "start_time": "2022-05-10T12:33:26.853Z"
   },
   {
    "duration": 79,
    "start_time": "2022-05-10T12:33:26.983Z"
   },
   {
    "duration": 174,
    "start_time": "2022-05-10T12:33:27.064Z"
   },
   {
    "duration": 29,
    "start_time": "2022-05-10T12:33:27.241Z"
   },
   {
    "duration": 95,
    "start_time": "2022-05-10T12:33:27.272Z"
   },
   {
    "duration": 71,
    "start_time": "2022-05-10T12:33:27.370Z"
   },
   {
    "duration": 4,
    "start_time": "2022-05-10T12:33:27.444Z"
   },
   {
    "duration": 49,
    "start_time": "2022-05-10T12:33:27.451Z"
   },
   {
    "duration": 64,
    "start_time": "2022-05-10T12:33:27.504Z"
   },
   {
    "duration": 88,
    "start_time": "2022-05-10T12:33:27.570Z"
   },
   {
    "duration": 5,
    "start_time": "2022-05-10T12:33:27.663Z"
   },
   {
    "duration": 39,
    "start_time": "2022-05-10T12:33:27.670Z"
   },
   {
    "duration": 56,
    "start_time": "2022-05-10T12:33:27.717Z"
   },
   {
    "duration": 52,
    "start_time": "2022-05-10T12:33:27.775Z"
   },
   {
    "duration": 7,
    "start_time": "2022-05-10T12:33:27.830Z"
   },
   {
    "duration": 26,
    "start_time": "2022-05-10T12:33:27.840Z"
   },
   {
    "duration": 89,
    "start_time": "2022-05-10T12:33:27.869Z"
   },
   {
    "duration": 65,
    "start_time": "2022-05-10T12:33:27.960Z"
   },
   {
    "duration": 32,
    "start_time": "2022-05-10T12:33:28.027Z"
   },
   {
    "duration": 3,
    "start_time": "2022-05-10T12:33:28.062Z"
   },
   {
    "duration": 30,
    "start_time": "2022-05-10T12:33:28.067Z"
   },
   {
    "duration": 41,
    "start_time": "2022-05-10T12:33:28.099Z"
   },
   {
    "duration": 79,
    "start_time": "2022-05-10T12:33:28.142Z"
   },
   {
    "duration": 73,
    "start_time": "2022-05-10T12:33:28.223Z"
   },
   {
    "duration": 8,
    "start_time": "2022-05-10T12:33:28.302Z"
   },
   {
    "duration": 114,
    "start_time": "2022-05-10T12:33:28.317Z"
   },
   {
    "duration": 33,
    "start_time": "2022-05-10T12:33:28.434Z"
   },
   {
    "duration": 63,
    "start_time": "2022-05-10T12:33:28.470Z"
   },
   {
    "duration": 108,
    "start_time": "2022-05-10T12:33:28.536Z"
   },
   {
    "duration": 92,
    "start_time": "2022-05-10T12:33:28.647Z"
   },
   {
    "duration": 6,
    "start_time": "2022-05-10T12:33:28.742Z"
   },
   {
    "duration": 77,
    "start_time": "2022-05-10T12:33:28.751Z"
   },
   {
    "duration": 8,
    "start_time": "2022-05-10T12:33:28.830Z"
   },
   {
    "duration": 17,
    "start_time": "2022-05-10T12:33:28.840Z"
   },
   {
    "duration": 15,
    "start_time": "2022-05-10T12:33:28.859Z"
   },
   {
    "duration": 647,
    "start_time": "2022-05-10T12:33:28.893Z"
   },
   {
    "duration": 495,
    "start_time": "2022-05-10T12:33:29.542Z"
   },
   {
    "duration": 1158,
    "start_time": "2022-05-10T12:33:30.041Z"
   },
   {
    "duration": 117,
    "start_time": "2022-05-10T12:33:31.205Z"
   },
   {
    "duration": 75,
    "start_time": "2022-05-10T12:33:31.326Z"
   },
   {
    "duration": 23,
    "start_time": "2022-05-10T12:33:31.404Z"
   },
   {
    "duration": 65,
    "start_time": "2022-05-10T12:33:31.430Z"
   },
   {
    "duration": 46,
    "start_time": "2022-05-10T12:33:31.498Z"
   },
   {
    "duration": 1261,
    "start_time": "2022-05-10T12:33:31.547Z"
   },
   {
    "duration": 1092,
    "start_time": "2022-05-10T12:33:32.811Z"
   },
   {
    "duration": 1115,
    "start_time": "2022-05-10T12:33:33.906Z"
   },
   {
    "duration": 1200,
    "start_time": "2022-05-10T12:33:35.025Z"
   },
   {
    "duration": 88,
    "start_time": "2022-05-10T12:33:36.228Z"
   },
   {
    "duration": 30,
    "start_time": "2022-05-10T12:33:36.319Z"
   },
   {
    "duration": 12,
    "start_time": "2022-05-10T12:33:36.396Z"
   },
   {
    "duration": 22,
    "start_time": "2022-05-10T12:33:36.411Z"
   },
   {
    "duration": 158,
    "start_time": "2022-05-10T12:34:11.030Z"
   },
   {
    "duration": 258,
    "start_time": "2022-05-10T12:36:03.015Z"
   },
   {
    "duration": 361,
    "start_time": "2022-05-10T12:36:09.515Z"
   },
   {
    "duration": 260,
    "start_time": "2022-05-10T12:36:22.869Z"
   },
   {
    "duration": 260,
    "start_time": "2022-05-10T12:36:33.359Z"
   },
   {
    "duration": 325,
    "start_time": "2022-05-10T12:36:40.338Z"
   },
   {
    "duration": 360,
    "start_time": "2022-05-10T12:38:11.264Z"
   },
   {
    "duration": 342,
    "start_time": "2022-05-10T12:38:37.330Z"
   },
   {
    "duration": 368,
    "start_time": "2022-05-10T12:38:57.426Z"
   },
   {
    "duration": 473,
    "start_time": "2022-05-10T12:41:36.428Z"
   },
   {
    "duration": 357,
    "start_time": "2022-05-10T12:41:44.525Z"
   },
   {
    "duration": 506,
    "start_time": "2022-05-10T12:42:02.971Z"
   },
   {
    "duration": 297,
    "start_time": "2022-05-10T12:42:08.532Z"
   },
   {
    "duration": 408,
    "start_time": "2022-05-10T12:42:46.657Z"
   },
   {
    "duration": 587,
    "start_time": "2022-05-10T13:30:19.793Z"
   },
   {
    "duration": 284,
    "start_time": "2022-05-10T13:31:32.020Z"
   },
   {
    "duration": 504,
    "start_time": "2022-05-10T13:33:24.931Z"
   },
   {
    "duration": 432,
    "start_time": "2022-05-10T13:49:07.492Z"
   },
   {
    "duration": 437,
    "start_time": "2022-05-10T13:51:48.725Z"
   },
   {
    "duration": 270,
    "start_time": "2022-05-10T13:52:40.149Z"
   },
   {
    "duration": 373,
    "start_time": "2022-05-10T14:16:43.527Z"
   },
   {
    "duration": 1410,
    "start_time": "2022-05-10T14:18:03.671Z"
   },
   {
    "duration": 273,
    "start_time": "2022-05-10T14:18:05.083Z"
   },
   {
    "duration": 185,
    "start_time": "2022-05-10T14:18:05.359Z"
   },
   {
    "duration": 35,
    "start_time": "2022-05-10T14:18:05.547Z"
   },
   {
    "duration": 67,
    "start_time": "2022-05-10T14:18:05.597Z"
   },
   {
    "duration": 23,
    "start_time": "2022-05-10T14:18:05.666Z"
   },
   {
    "duration": 24,
    "start_time": "2022-05-10T14:18:05.691Z"
   },
   {
    "duration": 462,
    "start_time": "2022-05-10T14:18:05.720Z"
   },
   {
    "duration": 48,
    "start_time": "2022-05-10T14:18:06.184Z"
   },
   {
    "duration": 20,
    "start_time": "2022-05-10T14:18:06.237Z"
   },
   {
    "duration": 165,
    "start_time": "2022-05-10T14:18:06.260Z"
   },
   {
    "duration": 227,
    "start_time": "2022-05-10T14:18:06.427Z"
   },
   {
    "duration": 13,
    "start_time": "2022-05-10T14:18:06.656Z"
   },
   {
    "duration": 56,
    "start_time": "2022-05-10T14:18:06.671Z"
   },
   {
    "duration": 150,
    "start_time": "2022-05-10T14:18:06.729Z"
   },
   {
    "duration": 129,
    "start_time": "2022-05-10T14:18:06.881Z"
   },
   {
    "duration": 66,
    "start_time": "2022-05-10T14:18:07.013Z"
   },
   {
    "duration": 127,
    "start_time": "2022-05-10T14:18:07.099Z"
   },
   {
    "duration": 31,
    "start_time": "2022-05-10T14:18:07.229Z"
   },
   {
    "duration": 89,
    "start_time": "2022-05-10T14:18:07.262Z"
   },
   {
    "duration": 74,
    "start_time": "2022-05-10T14:18:07.353Z"
   },
   {
    "duration": 3,
    "start_time": "2022-05-10T14:18:07.434Z"
   },
   {
    "duration": 28,
    "start_time": "2022-05-10T14:18:07.440Z"
   },
   {
    "duration": 63,
    "start_time": "2022-05-10T14:18:07.470Z"
   },
   {
    "duration": 105,
    "start_time": "2022-05-10T14:18:07.535Z"
   },
   {
    "duration": 4,
    "start_time": "2022-05-10T14:18:07.642Z"
   },
   {
    "duration": 27,
    "start_time": "2022-05-10T14:18:07.648Z"
   },
   {
    "duration": 55,
    "start_time": "2022-05-10T14:18:07.707Z"
   },
   {
    "duration": 58,
    "start_time": "2022-05-10T14:18:07.765Z"
   },
   {
    "duration": 4,
    "start_time": "2022-05-10T14:18:07.826Z"
   },
   {
    "duration": 26,
    "start_time": "2022-05-10T14:18:07.832Z"
   },
   {
    "duration": 95,
    "start_time": "2022-05-10T14:18:07.860Z"
   },
   {
    "duration": 64,
    "start_time": "2022-05-10T14:18:07.957Z"
   },
   {
    "duration": 24,
    "start_time": "2022-05-10T14:18:08.023Z"
   },
   {
    "duration": 3,
    "start_time": "2022-05-10T14:18:08.050Z"
   },
   {
    "duration": 10,
    "start_time": "2022-05-10T14:18:08.055Z"
   },
   {
    "duration": 69,
    "start_time": "2022-05-10T14:18:08.067Z"
   },
   {
    "duration": 64,
    "start_time": "2022-05-10T14:18:08.138Z"
   },
   {
    "duration": 62,
    "start_time": "2022-05-10T14:18:08.205Z"
   },
   {
    "duration": 5,
    "start_time": "2022-05-10T14:18:08.269Z"
   },
   {
    "duration": 76,
    "start_time": "2022-05-10T14:18:08.300Z"
   },
   {
    "duration": 38,
    "start_time": "2022-05-10T14:18:08.379Z"
   },
   {
    "duration": 50,
    "start_time": "2022-05-10T14:18:08.420Z"
   },
   {
    "duration": 83,
    "start_time": "2022-05-10T14:18:08.473Z"
   },
   {
    "duration": 70,
    "start_time": "2022-05-10T14:18:08.558Z"
   },
   {
    "duration": 5,
    "start_time": "2022-05-10T14:18:08.631Z"
   },
   {
    "duration": 82,
    "start_time": "2022-05-10T14:18:08.639Z"
   },
   {
    "duration": 9,
    "start_time": "2022-05-10T14:18:08.723Z"
   },
   {
    "duration": 15,
    "start_time": "2022-05-10T14:18:08.735Z"
   },
   {
    "duration": 10,
    "start_time": "2022-05-10T14:18:08.752Z"
   },
   {
    "duration": 307,
    "start_time": "2022-05-10T14:18:08.765Z"
   },
   {
    "duration": 641,
    "start_time": "2022-05-10T14:18:09.075Z"
   },
   {
    "duration": 416,
    "start_time": "2022-05-10T14:18:09.719Z"
   },
   {
    "duration": 83,
    "start_time": "2022-05-10T14:18:10.138Z"
   },
   {
    "duration": 20,
    "start_time": "2022-05-10T14:18:10.224Z"
   },
   {
    "duration": 12,
    "start_time": "2022-05-10T14:18:10.246Z"
   },
   {
    "duration": 10,
    "start_time": "2022-05-10T14:18:10.260Z"
   },
   {
    "duration": 31,
    "start_time": "2022-05-10T14:18:10.272Z"
   },
   {
    "duration": 427,
    "start_time": "2022-05-10T14:18:10.307Z"
   },
   {
    "duration": 415,
    "start_time": "2022-05-10T14:18:10.737Z"
   },
   {
    "duration": 399,
    "start_time": "2022-05-10T14:18:11.154Z"
   },
   {
    "duration": 629,
    "start_time": "2022-05-10T14:18:11.555Z"
   },
   {
    "duration": 31,
    "start_time": "2022-05-10T14:18:12.193Z"
   },
   {
    "duration": 38,
    "start_time": "2022-05-10T14:18:12.228Z"
   },
   {
    "duration": 7,
    "start_time": "2022-05-10T14:18:12.270Z"
   },
   {
    "duration": 19,
    "start_time": "2022-05-10T14:18:12.280Z"
   },
   {
    "duration": 553,
    "start_time": "2022-05-10T14:40:57.870Z"
   },
   {
    "duration": 451,
    "start_time": "2022-05-10T14:41:41.418Z"
   },
   {
    "duration": 434,
    "start_time": "2022-05-10T14:54:03.111Z"
   },
   {
    "duration": 527,
    "start_time": "2022-05-10T14:54:29.733Z"
   },
   {
    "duration": 14,
    "start_time": "2022-05-10T15:17:30.336Z"
   },
   {
    "duration": 299,
    "start_time": "2022-05-10T15:21:18.333Z"
   },
   {
    "duration": 10,
    "start_time": "2022-05-10T15:21:23.474Z"
   },
   {
    "duration": 7,
    "start_time": "2022-05-10T15:21:35.645Z"
   },
   {
    "duration": 8,
    "start_time": "2022-05-10T15:25:01.356Z"
   },
   {
    "duration": 8,
    "start_time": "2022-05-10T15:25:07.861Z"
   },
   {
    "duration": 8,
    "start_time": "2022-05-10T15:25:24.119Z"
   },
   {
    "duration": 7,
    "start_time": "2022-05-10T15:25:58.761Z"
   },
   {
    "duration": 9,
    "start_time": "2022-05-10T15:26:22.814Z"
   },
   {
    "duration": 15,
    "start_time": "2022-05-10T15:30:34.308Z"
   },
   {
    "duration": 10,
    "start_time": "2022-05-10T15:30:43.968Z"
   },
   {
    "duration": 12,
    "start_time": "2022-05-10T16:34:16.046Z"
   },
   {
    "duration": 11,
    "start_time": "2022-05-10T16:34:33.835Z"
   },
   {
    "duration": 197,
    "start_time": "2022-05-10T17:24:41.409Z"
   },
   {
    "duration": 17,
    "start_time": "2022-05-10T17:25:02.037Z"
   },
   {
    "duration": 13,
    "start_time": "2022-05-10T17:25:21.412Z"
   },
   {
    "duration": 16,
    "start_time": "2022-05-10T17:27:01.988Z"
   },
   {
    "duration": 1268,
    "start_time": "2022-05-10T17:41:55.272Z"
   },
   {
    "duration": 293,
    "start_time": "2022-05-10T17:41:56.543Z"
   },
   {
    "duration": 256,
    "start_time": "2022-05-10T17:41:56.838Z"
   },
   {
    "duration": 38,
    "start_time": "2022-05-10T17:41:57.098Z"
   },
   {
    "duration": 83,
    "start_time": "2022-05-10T17:41:57.138Z"
   },
   {
    "duration": 26,
    "start_time": "2022-05-10T17:41:57.223Z"
   },
   {
    "duration": 51,
    "start_time": "2022-05-10T17:41:57.252Z"
   },
   {
    "duration": 475,
    "start_time": "2022-05-10T17:41:57.306Z"
   },
   {
    "duration": 54,
    "start_time": "2022-05-10T17:41:57.783Z"
   },
   {
    "duration": 20,
    "start_time": "2022-05-10T17:41:57.841Z"
   },
   {
    "duration": 203,
    "start_time": "2022-05-10T17:41:57.863Z"
   },
   {
    "duration": 249,
    "start_time": "2022-05-10T17:41:58.068Z"
   },
   {
    "duration": 16,
    "start_time": "2022-05-10T17:41:58.320Z"
   },
   {
    "duration": 60,
    "start_time": "2022-05-10T17:41:58.338Z"
   },
   {
    "duration": 157,
    "start_time": "2022-05-10T17:41:58.401Z"
   },
   {
    "duration": 121,
    "start_time": "2022-05-10T17:41:58.561Z"
   },
   {
    "duration": 69,
    "start_time": "2022-05-10T17:41:58.693Z"
   },
   {
    "duration": 176,
    "start_time": "2022-05-10T17:41:58.764Z"
   },
   {
    "duration": 29,
    "start_time": "2022-05-10T17:41:58.943Z"
   },
   {
    "duration": 77,
    "start_time": "2022-05-10T17:41:58.994Z"
   },
   {
    "duration": 75,
    "start_time": "2022-05-10T17:41:59.073Z"
   },
   {
    "duration": 4,
    "start_time": "2022-05-10T17:41:59.150Z"
   },
   {
    "duration": 51,
    "start_time": "2022-05-10T17:41:59.156Z"
   },
   {
    "duration": 52,
    "start_time": "2022-05-10T17:41:59.210Z"
   },
   {
    "duration": 114,
    "start_time": "2022-05-10T17:41:59.264Z"
   },
   {
    "duration": 13,
    "start_time": "2022-05-10T17:41:59.380Z"
   },
   {
    "duration": 27,
    "start_time": "2022-05-10T17:41:59.396Z"
   },
   {
    "duration": 94,
    "start_time": "2022-05-10T17:41:59.429Z"
   },
   {
    "duration": 38,
    "start_time": "2022-05-10T17:41:59.527Z"
   },
   {
    "duration": 25,
    "start_time": "2022-05-10T17:41:59.568Z"
   },
   {
    "duration": 31,
    "start_time": "2022-05-10T17:41:59.595Z"
   },
   {
    "duration": 94,
    "start_time": "2022-05-10T17:41:59.629Z"
   },
   {
    "duration": 52,
    "start_time": "2022-05-10T17:41:59.726Z"
   },
   {
    "duration": 26,
    "start_time": "2022-05-10T17:41:59.793Z"
   },
   {
    "duration": 4,
    "start_time": "2022-05-10T17:41:59.822Z"
   },
   {
    "duration": 10,
    "start_time": "2022-05-10T17:41:59.829Z"
   },
   {
    "duration": 78,
    "start_time": "2022-05-10T17:41:59.841Z"
   },
   {
    "duration": 45,
    "start_time": "2022-05-10T17:41:59.921Z"
   },
   {
    "duration": 95,
    "start_time": "2022-05-10T17:41:59.968Z"
   },
   {
    "duration": 6,
    "start_time": "2022-05-10T17:42:00.065Z"
   },
   {
    "duration": 102,
    "start_time": "2022-05-10T17:42:00.092Z"
   },
   {
    "duration": 24,
    "start_time": "2022-05-10T17:42:00.197Z"
   },
   {
    "duration": 42,
    "start_time": "2022-05-10T17:42:00.224Z"
   },
   {
    "duration": 71,
    "start_time": "2022-05-10T17:42:00.292Z"
   },
   {
    "duration": 77,
    "start_time": "2022-05-10T17:42:00.365Z"
   },
   {
    "duration": 6,
    "start_time": "2022-05-10T17:42:00.444Z"
   },
   {
    "duration": 76,
    "start_time": "2022-05-10T17:42:00.452Z"
   },
   {
    "duration": 8,
    "start_time": "2022-05-10T17:42:00.530Z"
   },
   {
    "duration": 35,
    "start_time": "2022-05-10T17:42:00.540Z"
   },
   {
    "duration": 28,
    "start_time": "2022-05-10T17:42:00.578Z"
   },
   {
    "duration": 291,
    "start_time": "2022-05-10T17:42:00.608Z"
   },
   {
    "duration": 504,
    "start_time": "2022-05-10T17:42:00.903Z"
   },
   {
    "duration": 528,
    "start_time": "2022-05-10T17:42:01.410Z"
   },
   {
    "duration": 84,
    "start_time": "2022-05-10T17:42:01.942Z"
   },
   {
    "duration": 23,
    "start_time": "2022-05-10T17:42:02.029Z"
   },
   {
    "duration": 7,
    "start_time": "2022-05-10T17:42:02.054Z"
   },
   {
    "duration": 33,
    "start_time": "2022-05-10T17:42:02.063Z"
   },
   {
    "duration": 9,
    "start_time": "2022-05-10T17:42:02.099Z"
   },
   {
    "duration": 461,
    "start_time": "2022-05-10T17:42:02.111Z"
   },
   {
    "duration": 541,
    "start_time": "2022-05-10T17:42:02.574Z"
   },
   {
    "duration": 390,
    "start_time": "2022-05-10T17:42:03.119Z"
   },
   {
    "duration": 12,
    "start_time": "2022-05-10T17:42:03.512Z"
   },
   {
    "duration": 633,
    "start_time": "2022-05-10T17:42:03.527Z"
   },
   {
    "duration": 32,
    "start_time": "2022-05-10T17:42:04.162Z"
   },
   {
    "duration": 26,
    "start_time": "2022-05-10T17:42:04.197Z"
   },
   {
    "duration": 7,
    "start_time": "2022-05-10T17:42:04.226Z"
   },
   {
    "duration": 1336,
    "start_time": "2022-05-10T17:43:56.258Z"
   },
   {
    "duration": 238,
    "start_time": "2022-05-10T17:43:57.597Z"
   },
   {
    "duration": 156,
    "start_time": "2022-05-10T17:43:57.838Z"
   },
   {
    "duration": 39,
    "start_time": "2022-05-10T17:43:57.999Z"
   },
   {
    "duration": 61,
    "start_time": "2022-05-10T17:43:58.041Z"
   },
   {
    "duration": 30,
    "start_time": "2022-05-10T17:43:58.105Z"
   },
   {
    "duration": 21,
    "start_time": "2022-05-10T17:43:58.138Z"
   },
   {
    "duration": 509,
    "start_time": "2022-05-10T17:43:58.161Z"
   },
   {
    "duration": 54,
    "start_time": "2022-05-10T17:43:58.673Z"
   },
   {
    "duration": 28,
    "start_time": "2022-05-10T17:43:58.732Z"
   },
   {
    "duration": 213,
    "start_time": "2022-05-10T17:43:58.763Z"
   },
   {
    "duration": 326,
    "start_time": "2022-05-10T17:43:58.980Z"
   },
   {
    "duration": 19,
    "start_time": "2022-05-10T17:43:59.308Z"
   },
   {
    "duration": 65,
    "start_time": "2022-05-10T17:43:59.330Z"
   },
   {
    "duration": 190,
    "start_time": "2022-05-10T17:43:59.398Z"
   },
   {
    "duration": 159,
    "start_time": "2022-05-10T17:43:59.594Z"
   },
   {
    "duration": 100,
    "start_time": "2022-05-10T17:43:59.757Z"
   },
   {
    "duration": 172,
    "start_time": "2022-05-10T17:43:59.860Z"
   },
   {
    "duration": 36,
    "start_time": "2022-05-10T17:44:00.035Z"
   },
   {
    "duration": 76,
    "start_time": "2022-05-10T17:44:00.092Z"
   },
   {
    "duration": 71,
    "start_time": "2022-05-10T17:44:00.170Z"
   },
   {
    "duration": 5,
    "start_time": "2022-05-10T17:44:00.245Z"
   },
   {
    "duration": 46,
    "start_time": "2022-05-10T17:44:00.253Z"
   },
   {
    "duration": 58,
    "start_time": "2022-05-10T17:44:00.301Z"
   },
   {
    "duration": 123,
    "start_time": "2022-05-10T17:44:00.362Z"
   },
   {
    "duration": 8,
    "start_time": "2022-05-10T17:44:00.487Z"
   },
   {
    "duration": 48,
    "start_time": "2022-05-10T17:44:00.498Z"
   },
   {
    "duration": 65,
    "start_time": "2022-05-10T17:44:00.556Z"
   },
   {
    "duration": 40,
    "start_time": "2022-05-10T17:44:00.623Z"
   },
   {
    "duration": 4,
    "start_time": "2022-05-10T17:44:00.665Z"
   },
   {
    "duration": 55,
    "start_time": "2022-05-10T17:44:00.671Z"
   },
   {
    "duration": 92,
    "start_time": "2022-05-10T17:44:00.729Z"
   },
   {
    "duration": 72,
    "start_time": "2022-05-10T17:44:00.823Z"
   },
   {
    "duration": 35,
    "start_time": "2022-05-10T17:44:00.897Z"
   },
   {
    "duration": 4,
    "start_time": "2022-05-10T17:44:00.935Z"
   },
   {
    "duration": 14,
    "start_time": "2022-05-10T17:44:00.942Z"
   },
   {
    "duration": 73,
    "start_time": "2022-05-10T17:44:00.959Z"
   },
   {
    "duration": 74,
    "start_time": "2022-05-10T17:44:01.034Z"
   },
   {
    "duration": 83,
    "start_time": "2022-05-10T17:44:01.110Z"
   },
   {
    "duration": 5,
    "start_time": "2022-05-10T17:44:01.196Z"
   },
   {
    "duration": 96,
    "start_time": "2022-05-10T17:44:01.204Z"
   },
   {
    "duration": 35,
    "start_time": "2022-05-10T17:44:01.303Z"
   },
   {
    "duration": 62,
    "start_time": "2022-05-10T17:44:01.341Z"
   },
   {
    "duration": 94,
    "start_time": "2022-05-10T17:44:01.406Z"
   },
   {
    "duration": 104,
    "start_time": "2022-05-10T17:44:01.504Z"
   },
   {
    "duration": 7,
    "start_time": "2022-05-10T17:44:01.610Z"
   },
   {
    "duration": 63,
    "start_time": "2022-05-10T17:44:01.619Z"
   },
   {
    "duration": 9,
    "start_time": "2022-05-10T17:44:01.694Z"
   },
   {
    "duration": 29,
    "start_time": "2022-05-10T17:44:01.706Z"
   },
   {
    "duration": 62,
    "start_time": "2022-05-10T17:44:01.737Z"
   },
   {
    "duration": 321,
    "start_time": "2022-05-10T17:44:01.802Z"
   },
   {
    "duration": 713,
    "start_time": "2022-05-10T17:44:02.126Z"
   },
   {
    "duration": 489,
    "start_time": "2022-05-10T17:44:02.842Z"
   },
   {
    "duration": 94,
    "start_time": "2022-05-10T17:44:03.335Z"
   },
   {
    "duration": 30,
    "start_time": "2022-05-10T17:44:03.433Z"
   },
   {
    "duration": 28,
    "start_time": "2022-05-10T17:44:03.466Z"
   },
   {
    "duration": 16,
    "start_time": "2022-05-10T17:44:03.497Z"
   },
   {
    "duration": 22,
    "start_time": "2022-05-10T17:44:03.522Z"
   },
   {
    "duration": 484,
    "start_time": "2022-05-10T17:44:03.547Z"
   },
   {
    "duration": 445,
    "start_time": "2022-05-10T17:44:04.034Z"
   },
   {
    "duration": 412,
    "start_time": "2022-05-10T17:44:04.481Z"
   },
   {
    "duration": 11,
    "start_time": "2022-05-10T17:44:04.895Z"
   },
   {
    "duration": 803,
    "start_time": "2022-05-10T17:44:04.909Z"
   },
   {
    "duration": 27,
    "start_time": "2022-05-10T17:44:05.715Z"
   },
   {
    "duration": 52,
    "start_time": "2022-05-10T17:44:05.745Z"
   },
   {
    "duration": 9,
    "start_time": "2022-05-10T17:44:05.800Z"
   },
   {
    "duration": 54,
    "start_time": "2022-05-10T23:50:08.573Z"
   },
   {
    "duration": 887,
    "start_time": "2022-05-10T23:51:01.496Z"
   },
   {
    "duration": 171,
    "start_time": "2022-05-10T23:51:02.384Z"
   },
   {
    "duration": 123,
    "start_time": "2022-05-10T23:51:02.556Z"
   },
   {
    "duration": 26,
    "start_time": "2022-05-10T23:51:02.682Z"
   },
   {
    "duration": 40,
    "start_time": "2022-05-10T23:51:02.709Z"
   },
   {
    "duration": 15,
    "start_time": "2022-05-10T23:51:02.751Z"
   },
   {
    "duration": 30,
    "start_time": "2022-05-10T23:51:02.768Z"
   },
   {
    "duration": 268,
    "start_time": "2022-05-10T23:51:02.800Z"
   },
   {
    "duration": 33,
    "start_time": "2022-05-10T23:51:03.069Z"
   },
   {
    "duration": 13,
    "start_time": "2022-05-10T23:51:03.105Z"
   },
   {
    "duration": 129,
    "start_time": "2022-05-10T23:51:03.120Z"
   },
   {
    "duration": 183,
    "start_time": "2022-05-10T23:51:03.250Z"
   },
   {
    "duration": 11,
    "start_time": "2022-05-10T23:51:03.434Z"
   },
   {
    "duration": 28,
    "start_time": "2022-05-10T23:51:03.447Z"
   },
   {
    "duration": 125,
    "start_time": "2022-05-10T23:51:03.477Z"
   },
   {
    "duration": 75,
    "start_time": "2022-05-10T23:51:03.604Z"
   },
   {
    "duration": 60,
    "start_time": "2022-05-10T23:51:03.680Z"
   },
   {
    "duration": 96,
    "start_time": "2022-05-10T23:51:03.741Z"
   },
   {
    "duration": 20,
    "start_time": "2022-05-10T23:51:03.838Z"
   },
   {
    "duration": 56,
    "start_time": "2022-05-10T23:51:03.860Z"
   },
   {
    "duration": 27,
    "start_time": "2022-05-10T23:51:03.917Z"
   },
   {
    "duration": 3,
    "start_time": "2022-05-10T23:51:03.945Z"
   },
   {
    "duration": 27,
    "start_time": "2022-05-10T23:51:03.949Z"
   },
   {
    "duration": 47,
    "start_time": "2022-05-10T23:51:03.977Z"
   },
   {
    "duration": 75,
    "start_time": "2022-05-10T23:51:04.025Z"
   },
   {
    "duration": 4,
    "start_time": "2022-05-10T23:51:04.103Z"
   },
   {
    "duration": 29,
    "start_time": "2022-05-10T23:51:04.109Z"
   },
   {
    "duration": 47,
    "start_time": "2022-05-10T23:51:04.142Z"
   },
   {
    "duration": 30,
    "start_time": "2022-05-10T23:51:04.191Z"
   },
   {
    "duration": 3,
    "start_time": "2022-05-10T23:51:04.223Z"
   },
   {
    "duration": 31,
    "start_time": "2022-05-10T23:51:04.228Z"
   },
   {
    "duration": 55,
    "start_time": "2022-05-10T23:51:04.261Z"
   },
   {
    "duration": 34,
    "start_time": "2022-05-10T23:51:04.318Z"
   },
   {
    "duration": 15,
    "start_time": "2022-05-10T23:51:04.354Z"
   },
   {
    "duration": 29,
    "start_time": "2022-05-10T23:51:04.371Z"
   },
   {
    "duration": 4,
    "start_time": "2022-05-10T23:51:04.403Z"
   },
   {
    "duration": 27,
    "start_time": "2022-05-10T23:51:04.409Z"
   },
   {
    "duration": 24,
    "start_time": "2022-05-10T23:51:04.438Z"
   },
   {
    "duration": 61,
    "start_time": "2022-05-10T23:51:04.464Z"
   },
   {
    "duration": 4,
    "start_time": "2022-05-10T23:51:04.526Z"
   },
   {
    "duration": 42,
    "start_time": "2022-05-10T23:51:04.532Z"
   },
   {
    "duration": 40,
    "start_time": "2022-05-10T23:51:04.575Z"
   },
   {
    "duration": 19,
    "start_time": "2022-05-10T23:51:04.617Z"
   },
   {
    "duration": 31,
    "start_time": "2022-05-10T23:51:04.638Z"
   },
   {
    "duration": 57,
    "start_time": "2022-05-10T23:51:04.671Z"
   },
   {
    "duration": 4,
    "start_time": "2022-05-10T23:51:04.729Z"
   },
   {
    "duration": 30,
    "start_time": "2022-05-10T23:51:04.735Z"
   },
   {
    "duration": 29,
    "start_time": "2022-05-10T23:51:04.767Z"
   },
   {
    "duration": 6,
    "start_time": "2022-05-10T23:51:04.802Z"
   },
   {
    "duration": 6,
    "start_time": "2022-05-10T23:51:04.810Z"
   },
   {
    "duration": 168,
    "start_time": "2022-05-10T23:51:04.817Z"
   },
   {
    "duration": 318,
    "start_time": "2022-05-10T23:51:04.986Z"
   },
   {
    "duration": 259,
    "start_time": "2022-05-10T23:51:05.306Z"
   },
   {
    "duration": 47,
    "start_time": "2022-05-10T23:51:05.566Z"
   },
   {
    "duration": 14,
    "start_time": "2022-05-10T23:51:05.615Z"
   },
   {
    "duration": 18,
    "start_time": "2022-05-10T23:51:05.630Z"
   },
   {
    "duration": 38,
    "start_time": "2022-05-10T23:51:05.649Z"
   },
   {
    "duration": 33,
    "start_time": "2022-05-10T23:51:05.688Z"
   },
   {
    "duration": 264,
    "start_time": "2022-05-10T23:51:05.723Z"
   },
   {
    "duration": 261,
    "start_time": "2022-05-10T23:51:05.989Z"
   },
   {
    "duration": 264,
    "start_time": "2022-05-10T23:51:06.252Z"
   },
   {
    "duration": 7,
    "start_time": "2022-05-10T23:51:06.518Z"
   },
   {
    "duration": 441,
    "start_time": "2022-05-10T23:51:06.527Z"
   },
   {
    "duration": 28,
    "start_time": "2022-05-10T23:51:06.970Z"
   },
   {
    "duration": 16,
    "start_time": "2022-05-10T23:51:07.000Z"
   },
   {
    "duration": 5,
    "start_time": "2022-05-10T23:51:07.018Z"
   },
   {
    "duration": 9,
    "start_time": "2022-05-10T23:51:07.025Z"
   },
   {
    "duration": 6,
    "start_time": "2022-05-10T23:51:07.036Z"
   },
   {
    "duration": 60,
    "start_time": "2022-05-10T23:51:24.193Z"
   },
   {
    "duration": 144,
    "start_time": "2022-05-10T23:52:39.009Z"
   },
   {
    "duration": 1339,
    "start_time": "2022-05-10T23:52:46.622Z"
   },
   {
    "duration": 271,
    "start_time": "2022-05-10T23:53:11.864Z"
   },
   {
    "duration": 156,
    "start_time": "2022-05-10T23:53:19.642Z"
   },
   {
    "duration": 163,
    "start_time": "2022-05-10T23:53:26.625Z"
   },
   {
    "duration": 911,
    "start_time": "2022-05-10T23:53:34.805Z"
   },
   {
    "duration": 172,
    "start_time": "2022-05-10T23:53:35.717Z"
   },
   {
    "duration": 127,
    "start_time": "2022-05-10T23:53:35.890Z"
   },
   {
    "duration": 20,
    "start_time": "2022-05-10T23:53:36.019Z"
   },
   {
    "duration": 31,
    "start_time": "2022-05-10T23:53:36.041Z"
   },
   {
    "duration": 27,
    "start_time": "2022-05-10T23:53:36.074Z"
   },
   {
    "duration": 17,
    "start_time": "2022-05-10T23:53:36.103Z"
   },
   {
    "duration": 281,
    "start_time": "2022-05-10T23:53:36.122Z"
   },
   {
    "duration": 24,
    "start_time": "2022-05-10T23:53:36.405Z"
   },
   {
    "duration": 12,
    "start_time": "2022-05-10T23:53:36.432Z"
   },
   {
    "duration": 124,
    "start_time": "2022-05-10T23:53:36.446Z"
   },
   {
    "duration": 170,
    "start_time": "2022-05-10T23:53:36.572Z"
   },
   {
    "duration": 9,
    "start_time": "2022-05-10T23:53:36.744Z"
   },
   {
    "duration": 47,
    "start_time": "2022-05-10T23:53:36.754Z"
   },
   {
    "duration": 106,
    "start_time": "2022-05-10T23:53:36.803Z"
   },
   {
    "duration": 82,
    "start_time": "2022-05-10T23:53:36.911Z"
   },
   {
    "duration": 45,
    "start_time": "2022-05-10T23:53:36.995Z"
   },
   {
    "duration": 104,
    "start_time": "2022-05-10T23:53:37.042Z"
   },
   {
    "duration": 21,
    "start_time": "2022-05-10T23:53:37.148Z"
   },
   {
    "duration": 61,
    "start_time": "2022-05-10T23:53:37.171Z"
   },
   {
    "duration": 29,
    "start_time": "2022-05-10T23:53:37.234Z"
   },
   {
    "duration": 3,
    "start_time": "2022-05-10T23:53:37.265Z"
   },
   {
    "duration": 46,
    "start_time": "2022-05-10T23:53:37.270Z"
   },
   {
    "duration": 31,
    "start_time": "2022-05-10T23:53:37.317Z"
   },
   {
    "duration": 76,
    "start_time": "2022-05-10T23:53:37.350Z"
   },
   {
    "duration": 3,
    "start_time": "2022-05-10T23:53:37.428Z"
   },
   {
    "duration": 16,
    "start_time": "2022-05-10T23:53:37.432Z"
   },
   {
    "duration": 57,
    "start_time": "2022-05-10T23:53:37.452Z"
   },
   {
    "duration": 25,
    "start_time": "2022-05-10T23:53:37.510Z"
   },
   {
    "duration": 2,
    "start_time": "2022-05-10T23:53:37.537Z"
   },
   {
    "duration": 15,
    "start_time": "2022-05-10T23:53:37.541Z"
   },
   {
    "duration": 70,
    "start_time": "2022-05-10T23:53:37.558Z"
   },
   {
    "duration": 33,
    "start_time": "2022-05-10T23:53:37.630Z"
   },
   {
    "duration": 35,
    "start_time": "2022-05-10T23:53:37.665Z"
   },
   {
    "duration": 8,
    "start_time": "2022-05-10T23:53:37.701Z"
   },
   {
    "duration": 5,
    "start_time": "2022-05-10T23:53:37.711Z"
   },
   {
    "duration": 26,
    "start_time": "2022-05-10T23:53:37.717Z"
   },
   {
    "duration": 50,
    "start_time": "2022-05-10T23:53:37.744Z"
   },
   {
    "duration": 37,
    "start_time": "2022-05-10T23:53:37.798Z"
   },
   {
    "duration": 4,
    "start_time": "2022-05-10T23:53:37.836Z"
   },
   {
    "duration": 62,
    "start_time": "2022-05-10T23:53:37.841Z"
   },
   {
    "duration": 15,
    "start_time": "2022-05-10T23:53:37.905Z"
   },
   {
    "duration": 21,
    "start_time": "2022-05-10T23:53:37.921Z"
   },
   {
    "duration": 67,
    "start_time": "2022-05-10T23:53:37.944Z"
   },
   {
    "duration": 33,
    "start_time": "2022-05-10T23:53:38.013Z"
   },
   {
    "duration": 4,
    "start_time": "2022-05-10T23:53:38.048Z"
   },
   {
    "duration": 53,
    "start_time": "2022-05-10T23:53:38.053Z"
   },
   {
    "duration": 5,
    "start_time": "2022-05-10T23:53:38.108Z"
   },
   {
    "duration": 6,
    "start_time": "2022-05-10T23:53:38.115Z"
   },
   {
    "duration": 6,
    "start_time": "2022-05-10T23:53:38.122Z"
   },
   {
    "duration": 182,
    "start_time": "2022-05-10T23:53:38.130Z"
   },
   {
    "duration": 309,
    "start_time": "2022-05-10T23:53:38.313Z"
   },
   {
    "duration": 259,
    "start_time": "2022-05-10T23:53:38.624Z"
   },
   {
    "duration": 43,
    "start_time": "2022-05-10T23:53:38.885Z"
   },
   {
    "duration": 14,
    "start_time": "2022-05-10T23:53:38.930Z"
   },
   {
    "duration": 6,
    "start_time": "2022-05-10T23:53:38.945Z"
   },
   {
    "duration": 6,
    "start_time": "2022-05-10T23:53:38.952Z"
   },
   {
    "duration": 39,
    "start_time": "2022-05-10T23:53:38.960Z"
   },
   {
    "duration": 259,
    "start_time": "2022-05-10T23:53:39.002Z"
   },
   {
    "duration": 258,
    "start_time": "2022-05-10T23:53:39.262Z"
   },
   {
    "duration": 236,
    "start_time": "2022-05-10T23:53:39.522Z"
   },
   {
    "duration": 6,
    "start_time": "2022-05-10T23:53:39.760Z"
   },
   {
    "duration": 488,
    "start_time": "2022-05-10T23:53:39.768Z"
   },
   {
    "duration": 13,
    "start_time": "2022-05-10T23:53:40.258Z"
   },
   {
    "duration": 32,
    "start_time": "2022-05-10T23:53:40.272Z"
   },
   {
    "duration": 14,
    "start_time": "2022-05-10T23:53:40.306Z"
   },
   {
    "duration": 30,
    "start_time": "2022-05-10T23:53:40.322Z"
   },
   {
    "duration": 78,
    "start_time": "2022-05-10T23:53:40.353Z"
   },
   {
    "duration": 5,
    "start_time": "2022-05-10T23:53:40.433Z"
   },
   {
    "duration": 1433,
    "start_time": "2022-05-10T23:53:40.440Z"
   },
   {
    "duration": 274,
    "start_time": "2022-05-10T23:53:41.874Z"
   },
   {
    "duration": 182,
    "start_time": "2022-05-10T23:53:42.149Z"
   },
   {
    "duration": 191,
    "start_time": "2022-05-10T23:53:42.333Z"
   },
   {
    "duration": 30,
    "start_time": "2022-05-10T23:53:42.525Z"
   },
   {
    "duration": 967,
    "start_time": "2022-05-10T23:55:44.019Z"
   },
   {
    "duration": 208,
    "start_time": "2022-05-10T23:55:44.988Z"
   },
   {
    "duration": 131,
    "start_time": "2022-05-10T23:55:45.199Z"
   },
   {
    "duration": 22,
    "start_time": "2022-05-10T23:55:45.332Z"
   },
   {
    "duration": 32,
    "start_time": "2022-05-10T23:55:45.356Z"
   },
   {
    "duration": 18,
    "start_time": "2022-05-10T23:55:45.398Z"
   },
   {
    "duration": 21,
    "start_time": "2022-05-10T23:55:45.418Z"
   },
   {
    "duration": 305,
    "start_time": "2022-05-10T23:55:45.441Z"
   },
   {
    "duration": 26,
    "start_time": "2022-05-10T23:55:45.748Z"
   },
   {
    "duration": 31,
    "start_time": "2022-05-10T23:55:45.777Z"
   },
   {
    "duration": 142,
    "start_time": "2022-05-10T23:55:45.810Z"
   },
   {
    "duration": 198,
    "start_time": "2022-05-10T23:55:45.954Z"
   },
   {
    "duration": 9,
    "start_time": "2022-05-10T23:55:46.154Z"
   },
   {
    "duration": 55,
    "start_time": "2022-05-10T23:55:46.165Z"
   },
   {
    "duration": 119,
    "start_time": "2022-05-10T23:55:46.221Z"
   },
   {
    "duration": 107,
    "start_time": "2022-05-10T23:55:46.342Z"
   },
   {
    "duration": 58,
    "start_time": "2022-05-10T23:55:46.450Z"
   },
   {
    "duration": 94,
    "start_time": "2022-05-10T23:55:46.510Z"
   },
   {
    "duration": 24,
    "start_time": "2022-05-10T23:55:46.606Z"
   },
   {
    "duration": 43,
    "start_time": "2022-05-10T23:55:46.632Z"
   },
   {
    "duration": 50,
    "start_time": "2022-05-10T23:55:46.676Z"
   },
   {
    "duration": 3,
    "start_time": "2022-05-10T23:55:46.728Z"
   },
   {
    "duration": 17,
    "start_time": "2022-05-10T23:55:46.733Z"
   },
   {
    "duration": 62,
    "start_time": "2022-05-10T23:55:46.752Z"
   },
   {
    "duration": 61,
    "start_time": "2022-05-10T23:55:46.816Z"
   },
   {
    "duration": 20,
    "start_time": "2022-05-10T23:55:46.879Z"
   },
   {
    "duration": 26,
    "start_time": "2022-05-10T23:55:46.902Z"
   },
   {
    "duration": 39,
    "start_time": "2022-05-10T23:55:46.932Z"
   },
   {
    "duration": 41,
    "start_time": "2022-05-10T23:55:46.973Z"
   },
   {
    "duration": 3,
    "start_time": "2022-05-10T23:55:47.015Z"
   },
   {
    "duration": 19,
    "start_time": "2022-05-10T23:55:47.020Z"
   },
   {
    "duration": 68,
    "start_time": "2022-05-10T23:55:47.041Z"
   },
   {
    "duration": 36,
    "start_time": "2022-05-10T23:55:47.110Z"
   },
   {
    "duration": 17,
    "start_time": "2022-05-10T23:55:47.147Z"
   },
   {
    "duration": 4,
    "start_time": "2022-05-10T23:55:47.166Z"
   },
   {
    "duration": 13,
    "start_time": "2022-05-10T23:55:47.197Z"
   },
   {
    "duration": 26,
    "start_time": "2022-05-10T23:55:47.212Z"
   },
   {
    "duration": 26,
    "start_time": "2022-05-10T23:55:47.239Z"
   },
   {
    "duration": 64,
    "start_time": "2022-05-10T23:55:47.266Z"
   },
   {
    "duration": 4,
    "start_time": "2022-05-10T23:55:47.332Z"
   },
   {
    "duration": 60,
    "start_time": "2022-05-10T23:55:47.338Z"
   },
   {
    "duration": 17,
    "start_time": "2022-05-10T23:55:47.401Z"
   },
   {
    "duration": 22,
    "start_time": "2022-05-10T23:55:47.420Z"
   },
   {
    "duration": 64,
    "start_time": "2022-05-10T23:55:47.443Z"
   },
   {
    "duration": 36,
    "start_time": "2022-05-10T23:55:47.510Z"
   },
   {
    "duration": 5,
    "start_time": "2022-05-10T23:55:47.548Z"
   },
   {
    "duration": 66,
    "start_time": "2022-05-10T23:55:47.556Z"
   },
   {
    "duration": 6,
    "start_time": "2022-05-10T23:55:47.624Z"
   },
   {
    "duration": 10,
    "start_time": "2022-05-10T23:55:47.632Z"
   },
   {
    "duration": 5,
    "start_time": "2022-05-10T23:55:47.644Z"
   },
   {
    "duration": 199,
    "start_time": "2022-05-10T23:55:47.651Z"
   },
   {
    "duration": 322,
    "start_time": "2022-05-10T23:55:47.852Z"
   },
   {
    "duration": 285,
    "start_time": "2022-05-10T23:55:48.176Z"
   },
   {
    "duration": 48,
    "start_time": "2022-05-10T23:55:48.464Z"
   },
   {
    "duration": 14,
    "start_time": "2022-05-10T23:55:48.514Z"
   },
   {
    "duration": 5,
    "start_time": "2022-05-10T23:55:48.530Z"
   },
   {
    "duration": 9,
    "start_time": "2022-05-10T23:55:48.537Z"
   },
   {
    "duration": 6,
    "start_time": "2022-05-10T23:55:48.548Z"
   },
   {
    "duration": 296,
    "start_time": "2022-05-10T23:55:48.556Z"
   },
   {
    "duration": 255,
    "start_time": "2022-05-10T23:55:48.854Z"
   },
   {
    "duration": 245,
    "start_time": "2022-05-10T23:55:49.111Z"
   },
   {
    "duration": 6,
    "start_time": "2022-05-10T23:55:49.358Z"
   },
   {
    "duration": 496,
    "start_time": "2022-05-10T23:55:49.366Z"
   },
   {
    "duration": 15,
    "start_time": "2022-05-10T23:55:49.864Z"
   },
   {
    "duration": 23,
    "start_time": "2022-05-10T23:55:49.893Z"
   },
   {
    "duration": 5,
    "start_time": "2022-05-10T23:55:49.918Z"
   },
   {
    "duration": 7,
    "start_time": "2022-05-10T23:55:49.924Z"
   },
   {
    "duration": 90,
    "start_time": "2022-05-10T23:55:49.933Z"
   },
   {
    "duration": 1460,
    "start_time": "2022-05-10T23:55:50.025Z"
   },
   {
    "duration": 274,
    "start_time": "2022-05-10T23:55:51.493Z"
   },
   {
    "duration": 190,
    "start_time": "2022-05-10T23:55:51.769Z"
   },
   {
    "duration": 180,
    "start_time": "2022-05-10T23:55:51.961Z"
   },
   {
    "duration": 33,
    "start_time": "2022-05-10T23:55:52.143Z"
   }
  ],
  "kernelspec": {
   "display_name": "Python 3 (ipykernel)",
   "language": "python",
   "name": "python3"
  },
  "language_info": {
   "codemirror_mode": {
    "name": "ipython",
    "version": 3
   },
   "file_extension": ".py",
   "mimetype": "text/x-python",
   "name": "python",
   "nbconvert_exporter": "python",
   "pygments_lexer": "ipython3",
   "version": "3.9.7"
  },
  "toc": {
   "base_numbering": 1,
   "nav_menu": {},
   "number_sections": true,
   "sideBar": true,
   "skip_h1_title": true,
   "title_cell": "Table of Contents",
   "title_sidebar": "Contents",
   "toc_cell": false,
   "toc_position": {
    "height": "calc(100% - 180px)",
    "left": "10px",
    "top": "150px",
    "width": "221px"
   },
   "toc_section_display": true,
   "toc_window_display": true
  }
 },
 "nbformat": 4,
 "nbformat_minor": 2
}
